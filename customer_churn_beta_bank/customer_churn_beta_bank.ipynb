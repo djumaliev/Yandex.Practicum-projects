{
 "cells": [
  {
   "cell_type": "markdown",
   "metadata": {},
   "source": [
    "# Customer Churn"
   ]
  },
  {
   "cell_type": "markdown",
   "metadata": {},
   "source": [
    "Customers have started leaving \"Beta Bank.\" Every month. Not many, but noticeably. Bank marketers calculated: retaining current customers is cheaper than attracting new ones.\n",
    "\n",
    "It is necessary to forecast whether a customer will leave the bank in the near future or not. We are provided with historical data on customer behavior and contract terminations with the bank.\n",
    "\n",
    "Build a model with the highest possible F1 score. To successfully complete the project, we need to achieve a metric of 0.59. Check the F1 score on the test set yourself.\n",
    "\n",
    "Additionally, measure the AUC-ROC, compare its value with the F1 score.\n",
    "\n",
    "Data source: https://www.kaggle.com/barelydedicated/bank-customer-churn-modeling"
   ]
  },
  {
   "cell_type": "markdown",
   "metadata": {},
   "source": [
    "Research plan:\n",
    "1. Open the data file, the file path: '/datasets/Churn.csv'.\n",
    "2. Split the raw data into training and validation sets.\n",
    "3. Examine the class balance, train the model without considering class imbalance. Briefly summarize the research findings.\n",
    "4. Improve the model's quality, taking into account the class imbalance. Train different models and find the best one.\n",
    "5. Conduct final testing.\n",
    "6. Data should meet the following parameters.\n",
    "\n",
    "Features:\n",
    "\n",
    "- RowNumber — index of the row in the data\n",
    "- CustomerId — unique customer identifier\n",
    "- Surname — last name\n",
    "- CreditScore — credit score\n",
    "- Geography — country of residence\n",
    "- Gender — gender\n",
    "- Age — age\n",
    "- Tenure — number of years the person has been a customer of the bank\n",
    "- Balance — account balance\n",
    "- NumOfProducts — number of bank products used by the customer\n",
    "- HasCrCard — presence of a credit card\n",
    "- IsActiveMember — customer's activity\n",
    "- EstimatedSalary — estimated salary\n",
    "\n",
    "Target feature:\n",
    "- Exited — customer churn status"
   ]
  },
  {
   "cell_type": "markdown",
   "metadata": {},
   "source": [
    "## Data preparation"
   ]
  },
  {
   "cell_type": "markdown",
   "metadata": {},
   "source": [
    "To begin with, import all the necessary libraries."
   ]
  },
  {
   "cell_type": "code",
   "execution_count": 1,
   "metadata": {},
   "outputs": [],
   "source": [
    "import pandas as pd\n",
    "import matplotlib.pyplot as plt\n",
    "import numpy as np\n",
    "\n",
    "from sklearn.utils import shuffle\n",
    "from sklearn.preprocessing import StandardScaler\n",
    "from sklearn.model_selection import train_test_split\n",
    "from sklearn.tree import DecisionTreeClassifier\n",
    "from sklearn.ensemble import RandomForestClassifier\n",
    "from sklearn.linear_model import LogisticRegression\n",
    "from sklearn.metrics import f1_score, roc_curve, roc_auc_score, auc, precision_score, recall_score"
   ]
  },
  {
   "cell_type": "code",
   "execution_count": 2,
   "metadata": {},
   "outputs": [
    {
     "data": {
      "text/html": [
       "<div>\n",
       "<style scoped>\n",
       "    .dataframe tbody tr th:only-of-type {\n",
       "        vertical-align: middle;\n",
       "    }\n",
       "\n",
       "    .dataframe tbody tr th {\n",
       "        vertical-align: top;\n",
       "    }\n",
       "\n",
       "    .dataframe thead th {\n",
       "        text-align: right;\n",
       "    }\n",
       "</style>\n",
       "<table border=\"1\" class=\"dataframe\">\n",
       "  <thead>\n",
       "    <tr style=\"text-align: right;\">\n",
       "      <th></th>\n",
       "      <th>RowNumber</th>\n",
       "      <th>CustomerId</th>\n",
       "      <th>Surname</th>\n",
       "      <th>CreditScore</th>\n",
       "      <th>Geography</th>\n",
       "      <th>Gender</th>\n",
       "      <th>Age</th>\n",
       "      <th>Tenure</th>\n",
       "      <th>Balance</th>\n",
       "      <th>NumOfProducts</th>\n",
       "      <th>HasCrCard</th>\n",
       "      <th>IsActiveMember</th>\n",
       "      <th>EstimatedSalary</th>\n",
       "      <th>Exited</th>\n",
       "    </tr>\n",
       "  </thead>\n",
       "  <tbody>\n",
       "    <tr>\n",
       "      <th>0</th>\n",
       "      <td>1</td>\n",
       "      <td>15634602</td>\n",
       "      <td>Hargrave</td>\n",
       "      <td>619</td>\n",
       "      <td>France</td>\n",
       "      <td>Female</td>\n",
       "      <td>42</td>\n",
       "      <td>2.0</td>\n",
       "      <td>0.00</td>\n",
       "      <td>1</td>\n",
       "      <td>1</td>\n",
       "      <td>1</td>\n",
       "      <td>101348.88</td>\n",
       "      <td>1</td>\n",
       "    </tr>\n",
       "    <tr>\n",
       "      <th>1</th>\n",
       "      <td>2</td>\n",
       "      <td>15647311</td>\n",
       "      <td>Hill</td>\n",
       "      <td>608</td>\n",
       "      <td>Spain</td>\n",
       "      <td>Female</td>\n",
       "      <td>41</td>\n",
       "      <td>1.0</td>\n",
       "      <td>83807.86</td>\n",
       "      <td>1</td>\n",
       "      <td>0</td>\n",
       "      <td>1</td>\n",
       "      <td>112542.58</td>\n",
       "      <td>0</td>\n",
       "    </tr>\n",
       "    <tr>\n",
       "      <th>2</th>\n",
       "      <td>3</td>\n",
       "      <td>15619304</td>\n",
       "      <td>Onio</td>\n",
       "      <td>502</td>\n",
       "      <td>France</td>\n",
       "      <td>Female</td>\n",
       "      <td>42</td>\n",
       "      <td>8.0</td>\n",
       "      <td>159660.80</td>\n",
       "      <td>3</td>\n",
       "      <td>1</td>\n",
       "      <td>0</td>\n",
       "      <td>113931.57</td>\n",
       "      <td>1</td>\n",
       "    </tr>\n",
       "    <tr>\n",
       "      <th>3</th>\n",
       "      <td>4</td>\n",
       "      <td>15701354</td>\n",
       "      <td>Boni</td>\n",
       "      <td>699</td>\n",
       "      <td>France</td>\n",
       "      <td>Female</td>\n",
       "      <td>39</td>\n",
       "      <td>1.0</td>\n",
       "      <td>0.00</td>\n",
       "      <td>2</td>\n",
       "      <td>0</td>\n",
       "      <td>0</td>\n",
       "      <td>93826.63</td>\n",
       "      <td>0</td>\n",
       "    </tr>\n",
       "    <tr>\n",
       "      <th>4</th>\n",
       "      <td>5</td>\n",
       "      <td>15737888</td>\n",
       "      <td>Mitchell</td>\n",
       "      <td>850</td>\n",
       "      <td>Spain</td>\n",
       "      <td>Female</td>\n",
       "      <td>43</td>\n",
       "      <td>2.0</td>\n",
       "      <td>125510.82</td>\n",
       "      <td>1</td>\n",
       "      <td>1</td>\n",
       "      <td>1</td>\n",
       "      <td>79084.10</td>\n",
       "      <td>0</td>\n",
       "    </tr>\n",
       "    <tr>\n",
       "      <th>...</th>\n",
       "      <td>...</td>\n",
       "      <td>...</td>\n",
       "      <td>...</td>\n",
       "      <td>...</td>\n",
       "      <td>...</td>\n",
       "      <td>...</td>\n",
       "      <td>...</td>\n",
       "      <td>...</td>\n",
       "      <td>...</td>\n",
       "      <td>...</td>\n",
       "      <td>...</td>\n",
       "      <td>...</td>\n",
       "      <td>...</td>\n",
       "      <td>...</td>\n",
       "    </tr>\n",
       "    <tr>\n",
       "      <th>9995</th>\n",
       "      <td>9996</td>\n",
       "      <td>15606229</td>\n",
       "      <td>Obijiaku</td>\n",
       "      <td>771</td>\n",
       "      <td>France</td>\n",
       "      <td>Male</td>\n",
       "      <td>39</td>\n",
       "      <td>5.0</td>\n",
       "      <td>0.00</td>\n",
       "      <td>2</td>\n",
       "      <td>1</td>\n",
       "      <td>0</td>\n",
       "      <td>96270.64</td>\n",
       "      <td>0</td>\n",
       "    </tr>\n",
       "    <tr>\n",
       "      <th>9996</th>\n",
       "      <td>9997</td>\n",
       "      <td>15569892</td>\n",
       "      <td>Johnstone</td>\n",
       "      <td>516</td>\n",
       "      <td>France</td>\n",
       "      <td>Male</td>\n",
       "      <td>35</td>\n",
       "      <td>10.0</td>\n",
       "      <td>57369.61</td>\n",
       "      <td>1</td>\n",
       "      <td>1</td>\n",
       "      <td>1</td>\n",
       "      <td>101699.77</td>\n",
       "      <td>0</td>\n",
       "    </tr>\n",
       "    <tr>\n",
       "      <th>9997</th>\n",
       "      <td>9998</td>\n",
       "      <td>15584532</td>\n",
       "      <td>Liu</td>\n",
       "      <td>709</td>\n",
       "      <td>France</td>\n",
       "      <td>Female</td>\n",
       "      <td>36</td>\n",
       "      <td>7.0</td>\n",
       "      <td>0.00</td>\n",
       "      <td>1</td>\n",
       "      <td>0</td>\n",
       "      <td>1</td>\n",
       "      <td>42085.58</td>\n",
       "      <td>1</td>\n",
       "    </tr>\n",
       "    <tr>\n",
       "      <th>9998</th>\n",
       "      <td>9999</td>\n",
       "      <td>15682355</td>\n",
       "      <td>Sabbatini</td>\n",
       "      <td>772</td>\n",
       "      <td>Germany</td>\n",
       "      <td>Male</td>\n",
       "      <td>42</td>\n",
       "      <td>3.0</td>\n",
       "      <td>75075.31</td>\n",
       "      <td>2</td>\n",
       "      <td>1</td>\n",
       "      <td>0</td>\n",
       "      <td>92888.52</td>\n",
       "      <td>1</td>\n",
       "    </tr>\n",
       "    <tr>\n",
       "      <th>9999</th>\n",
       "      <td>10000</td>\n",
       "      <td>15628319</td>\n",
       "      <td>Walker</td>\n",
       "      <td>792</td>\n",
       "      <td>France</td>\n",
       "      <td>Female</td>\n",
       "      <td>28</td>\n",
       "      <td>NaN</td>\n",
       "      <td>130142.79</td>\n",
       "      <td>1</td>\n",
       "      <td>1</td>\n",
       "      <td>0</td>\n",
       "      <td>38190.78</td>\n",
       "      <td>0</td>\n",
       "    </tr>\n",
       "  </tbody>\n",
       "</table>\n",
       "<p>10000 rows × 14 columns</p>\n",
       "</div>"
      ],
      "text/plain": [
       "      RowNumber  CustomerId    Surname  CreditScore Geography  Gender  Age  \\\n",
       "0             1    15634602   Hargrave          619    France  Female   42   \n",
       "1             2    15647311       Hill          608     Spain  Female   41   \n",
       "2             3    15619304       Onio          502    France  Female   42   \n",
       "3             4    15701354       Boni          699    France  Female   39   \n",
       "4             5    15737888   Mitchell          850     Spain  Female   43   \n",
       "...         ...         ...        ...          ...       ...     ...  ...   \n",
       "9995       9996    15606229   Obijiaku          771    France    Male   39   \n",
       "9996       9997    15569892  Johnstone          516    France    Male   35   \n",
       "9997       9998    15584532        Liu          709    France  Female   36   \n",
       "9998       9999    15682355  Sabbatini          772   Germany    Male   42   \n",
       "9999      10000    15628319     Walker          792    France  Female   28   \n",
       "\n",
       "      Tenure    Balance  NumOfProducts  HasCrCard  IsActiveMember  \\\n",
       "0        2.0       0.00              1          1               1   \n",
       "1        1.0   83807.86              1          0               1   \n",
       "2        8.0  159660.80              3          1               0   \n",
       "3        1.0       0.00              2          0               0   \n",
       "4        2.0  125510.82              1          1               1   \n",
       "...      ...        ...            ...        ...             ...   \n",
       "9995     5.0       0.00              2          1               0   \n",
       "9996    10.0   57369.61              1          1               1   \n",
       "9997     7.0       0.00              1          0               1   \n",
       "9998     3.0   75075.31              2          1               0   \n",
       "9999     NaN  130142.79              1          1               0   \n",
       "\n",
       "      EstimatedSalary  Exited  \n",
       "0           101348.88       1  \n",
       "1           112542.58       0  \n",
       "2           113931.57       1  \n",
       "3            93826.63       0  \n",
       "4            79084.10       0  \n",
       "...               ...     ...  \n",
       "9995         96270.64       0  \n",
       "9996        101699.77       0  \n",
       "9997         42085.58       1  \n",
       "9998         92888.52       1  \n",
       "9999         38190.78       0  \n",
       "\n",
       "[10000 rows x 14 columns]"
      ]
     },
     "metadata": {},
     "output_type": "display_data"
    },
    {
     "data": {
      "text/html": [
       "<div>\n",
       "<style scoped>\n",
       "    .dataframe tbody tr th:only-of-type {\n",
       "        vertical-align: middle;\n",
       "    }\n",
       "\n",
       "    .dataframe tbody tr th {\n",
       "        vertical-align: top;\n",
       "    }\n",
       "\n",
       "    .dataframe thead th {\n",
       "        text-align: right;\n",
       "    }\n",
       "</style>\n",
       "<table border=\"1\" class=\"dataframe\">\n",
       "  <thead>\n",
       "    <tr style=\"text-align: right;\">\n",
       "      <th></th>\n",
       "      <th>RowNumber</th>\n",
       "      <th>CustomerId</th>\n",
       "      <th>CreditScore</th>\n",
       "      <th>Age</th>\n",
       "      <th>Tenure</th>\n",
       "      <th>Balance</th>\n",
       "      <th>NumOfProducts</th>\n",
       "      <th>HasCrCard</th>\n",
       "      <th>IsActiveMember</th>\n",
       "      <th>EstimatedSalary</th>\n",
       "      <th>Exited</th>\n",
       "    </tr>\n",
       "  </thead>\n",
       "  <tbody>\n",
       "    <tr>\n",
       "      <th>count</th>\n",
       "      <td>10000.00000</td>\n",
       "      <td>1.000000e+04</td>\n",
       "      <td>10000.000000</td>\n",
       "      <td>10000.000000</td>\n",
       "      <td>9091.000000</td>\n",
       "      <td>10000.000000</td>\n",
       "      <td>10000.000000</td>\n",
       "      <td>10000.00000</td>\n",
       "      <td>10000.000000</td>\n",
       "      <td>10000.000000</td>\n",
       "      <td>10000.000000</td>\n",
       "    </tr>\n",
       "    <tr>\n",
       "      <th>mean</th>\n",
       "      <td>5000.50000</td>\n",
       "      <td>1.569094e+07</td>\n",
       "      <td>650.528800</td>\n",
       "      <td>38.921800</td>\n",
       "      <td>4.997690</td>\n",
       "      <td>76485.889288</td>\n",
       "      <td>1.530200</td>\n",
       "      <td>0.70550</td>\n",
       "      <td>0.515100</td>\n",
       "      <td>100090.239881</td>\n",
       "      <td>0.203700</td>\n",
       "    </tr>\n",
       "    <tr>\n",
       "      <th>std</th>\n",
       "      <td>2886.89568</td>\n",
       "      <td>7.193619e+04</td>\n",
       "      <td>96.653299</td>\n",
       "      <td>10.487806</td>\n",
       "      <td>2.894723</td>\n",
       "      <td>62397.405202</td>\n",
       "      <td>0.581654</td>\n",
       "      <td>0.45584</td>\n",
       "      <td>0.499797</td>\n",
       "      <td>57510.492818</td>\n",
       "      <td>0.402769</td>\n",
       "    </tr>\n",
       "    <tr>\n",
       "      <th>min</th>\n",
       "      <td>1.00000</td>\n",
       "      <td>1.556570e+07</td>\n",
       "      <td>350.000000</td>\n",
       "      <td>18.000000</td>\n",
       "      <td>0.000000</td>\n",
       "      <td>0.000000</td>\n",
       "      <td>1.000000</td>\n",
       "      <td>0.00000</td>\n",
       "      <td>0.000000</td>\n",
       "      <td>11.580000</td>\n",
       "      <td>0.000000</td>\n",
       "    </tr>\n",
       "    <tr>\n",
       "      <th>25%</th>\n",
       "      <td>2500.75000</td>\n",
       "      <td>1.562853e+07</td>\n",
       "      <td>584.000000</td>\n",
       "      <td>32.000000</td>\n",
       "      <td>2.000000</td>\n",
       "      <td>0.000000</td>\n",
       "      <td>1.000000</td>\n",
       "      <td>0.00000</td>\n",
       "      <td>0.000000</td>\n",
       "      <td>51002.110000</td>\n",
       "      <td>0.000000</td>\n",
       "    </tr>\n",
       "    <tr>\n",
       "      <th>50%</th>\n",
       "      <td>5000.50000</td>\n",
       "      <td>1.569074e+07</td>\n",
       "      <td>652.000000</td>\n",
       "      <td>37.000000</td>\n",
       "      <td>5.000000</td>\n",
       "      <td>97198.540000</td>\n",
       "      <td>1.000000</td>\n",
       "      <td>1.00000</td>\n",
       "      <td>1.000000</td>\n",
       "      <td>100193.915000</td>\n",
       "      <td>0.000000</td>\n",
       "    </tr>\n",
       "    <tr>\n",
       "      <th>75%</th>\n",
       "      <td>7500.25000</td>\n",
       "      <td>1.575323e+07</td>\n",
       "      <td>718.000000</td>\n",
       "      <td>44.000000</td>\n",
       "      <td>7.000000</td>\n",
       "      <td>127644.240000</td>\n",
       "      <td>2.000000</td>\n",
       "      <td>1.00000</td>\n",
       "      <td>1.000000</td>\n",
       "      <td>149388.247500</td>\n",
       "      <td>0.000000</td>\n",
       "    </tr>\n",
       "    <tr>\n",
       "      <th>max</th>\n",
       "      <td>10000.00000</td>\n",
       "      <td>1.581569e+07</td>\n",
       "      <td>850.000000</td>\n",
       "      <td>92.000000</td>\n",
       "      <td>10.000000</td>\n",
       "      <td>250898.090000</td>\n",
       "      <td>4.000000</td>\n",
       "      <td>1.00000</td>\n",
       "      <td>1.000000</td>\n",
       "      <td>199992.480000</td>\n",
       "      <td>1.000000</td>\n",
       "    </tr>\n",
       "  </tbody>\n",
       "</table>\n",
       "</div>"
      ],
      "text/plain": [
       "         RowNumber    CustomerId   CreditScore           Age       Tenure  \\\n",
       "count  10000.00000  1.000000e+04  10000.000000  10000.000000  9091.000000   \n",
       "mean    5000.50000  1.569094e+07    650.528800     38.921800     4.997690   \n",
       "std     2886.89568  7.193619e+04     96.653299     10.487806     2.894723   \n",
       "min        1.00000  1.556570e+07    350.000000     18.000000     0.000000   \n",
       "25%     2500.75000  1.562853e+07    584.000000     32.000000     2.000000   \n",
       "50%     5000.50000  1.569074e+07    652.000000     37.000000     5.000000   \n",
       "75%     7500.25000  1.575323e+07    718.000000     44.000000     7.000000   \n",
       "max    10000.00000  1.581569e+07    850.000000     92.000000    10.000000   \n",
       "\n",
       "             Balance  NumOfProducts    HasCrCard  IsActiveMember  \\\n",
       "count   10000.000000   10000.000000  10000.00000    10000.000000   \n",
       "mean    76485.889288       1.530200      0.70550        0.515100   \n",
       "std     62397.405202       0.581654      0.45584        0.499797   \n",
       "min         0.000000       1.000000      0.00000        0.000000   \n",
       "25%         0.000000       1.000000      0.00000        0.000000   \n",
       "50%     97198.540000       1.000000      1.00000        1.000000   \n",
       "75%    127644.240000       2.000000      1.00000        1.000000   \n",
       "max    250898.090000       4.000000      1.00000        1.000000   \n",
       "\n",
       "       EstimatedSalary        Exited  \n",
       "count     10000.000000  10000.000000  \n",
       "mean     100090.239881      0.203700  \n",
       "std       57510.492818      0.402769  \n",
       "min          11.580000      0.000000  \n",
       "25%       51002.110000      0.000000  \n",
       "50%      100193.915000      0.000000  \n",
       "75%      149388.247500      0.000000  \n",
       "max      199992.480000      1.000000  "
      ]
     },
     "metadata": {},
     "output_type": "display_data"
    },
    {
     "name": "stdout",
     "output_type": "stream",
     "text": [
      "<class 'pandas.core.frame.DataFrame'>\n",
      "RangeIndex: 10000 entries, 0 to 9999\n",
      "Data columns (total 14 columns):\n",
      " #   Column           Non-Null Count  Dtype  \n",
      "---  ------           --------------  -----  \n",
      " 0   RowNumber        10000 non-null  int64  \n",
      " 1   CustomerId       10000 non-null  int64  \n",
      " 2   Surname          10000 non-null  object \n",
      " 3   CreditScore      10000 non-null  int64  \n",
      " 4   Geography        10000 non-null  object \n",
      " 5   Gender           10000 non-null  object \n",
      " 6   Age              10000 non-null  int64  \n",
      " 7   Tenure           9091 non-null   float64\n",
      " 8   Balance          10000 non-null  float64\n",
      " 9   NumOfProducts    10000 non-null  int64  \n",
      " 10  HasCrCard        10000 non-null  int64  \n",
      " 11  IsActiveMember   10000 non-null  int64  \n",
      " 12  EstimatedSalary  10000 non-null  float64\n",
      " 13  Exited           10000 non-null  int64  \n",
      "dtypes: float64(3), int64(8), object(3)\n",
      "memory usage: 1.1+ MB\n"
     ]
    },
    {
     "data": {
      "text/plain": [
       "None"
      ]
     },
     "metadata": {},
     "output_type": "display_data"
    }
   ],
   "source": [
    "data = pd.read_csv('/Users/daniyardjumaliev/Jupyter/Projects/datasets/Churn.csv')\n",
    "\n",
    "display(data)\n",
    "display(data.describe())\n",
    "display(data.info())"
   ]
  },
  {
   "cell_type": "markdown",
   "metadata": {},
   "source": [
    "_Conclusion_: Overall, the data is of sufficient quality without outliers. The exception is in the \"Tenure\" column, which represents the number of years a person has been a customer of the bank, where there are missing values. Almost 9% of all data. Let's remove these rows."
   ]
  },
  {
   "cell_type": "code",
   "execution_count": 3,
   "metadata": {},
   "outputs": [
    {
     "name": "stdout",
     "output_type": "stream",
     "text": [
      "<class 'pandas.core.frame.DataFrame'>\n",
      "RangeIndex: 10000 entries, 0 to 9999\n",
      "Data columns (total 14 columns):\n",
      " #   Column           Non-Null Count  Dtype  \n",
      "---  ------           --------------  -----  \n",
      " 0   RowNumber        10000 non-null  int64  \n",
      " 1   CustomerId       10000 non-null  int64  \n",
      " 2   Surname          10000 non-null  object \n",
      " 3   CreditScore      10000 non-null  int64  \n",
      " 4   Geography        10000 non-null  object \n",
      " 5   Gender           10000 non-null  object \n",
      " 6   Age              10000 non-null  int64  \n",
      " 7   Tenure           10000 non-null  float64\n",
      " 8   Balance          10000 non-null  float64\n",
      " 9   NumOfProducts    10000 non-null  int64  \n",
      " 10  HasCrCard        10000 non-null  int64  \n",
      " 11  IsActiveMember   10000 non-null  int64  \n",
      " 12  EstimatedSalary  10000 non-null  float64\n",
      " 13  Exited           10000 non-null  int64  \n",
      "dtypes: float64(3), int64(8), object(3)\n",
      "memory usage: 1.1+ MB\n"
     ]
    },
    {
     "data": {
      "text/plain": [
       "None"
      ]
     },
     "metadata": {},
     "output_type": "display_data"
    }
   ],
   "source": [
    "median = data['Tenure'].median()\n",
    "data['Tenure'] = data['Tenure'].fillna(median)\n",
    "display(data.info())"
   ]
  },
  {
   "cell_type": "markdown",
   "metadata": {},
   "source": [
    "### Split the data into samples."
   ]
  },
  {
   "cell_type": "markdown",
   "metadata": {},
   "source": [
    "In our table, there are both categorical and quantitative types of data. Let's distinguish them."
   ]
  },
  {
   "cell_type": "code",
   "execution_count": 4,
   "metadata": {},
   "outputs": [],
   "source": [
    "numeric = ['CreditScore', 'Age', 'Tenure', 'Balance', 'NumOfProducts', 'EstimatedSalary']\n",
    "categorical = ['Geography', 'Gender', 'HasCrCard', 'IsActiveMember']"
   ]
  },
  {
   "cell_type": "markdown",
   "metadata": {},
   "source": [
    "Now let's create a variable with the training features and the target indicator. Also, let's get rid of unnecessary columns for training: 'RowNumber', 'CustomerId', and 'Surname'."
   ]
  },
  {
   "cell_type": "code",
   "execution_count": 5,
   "metadata": {},
   "outputs": [
    {
     "data": {
      "text/plain": [
       "'Train features: (10000, 10)'"
      ]
     },
     "metadata": {},
     "output_type": "display_data"
    },
    {
     "data": {
      "text/plain": [
       "'Target: (10000,)'"
      ]
     },
     "metadata": {},
     "output_type": "display_data"
    },
    {
     "data": {
      "text/html": [
       "<div>\n",
       "<style scoped>\n",
       "    .dataframe tbody tr th:only-of-type {\n",
       "        vertical-align: middle;\n",
       "    }\n",
       "\n",
       "    .dataframe tbody tr th {\n",
       "        vertical-align: top;\n",
       "    }\n",
       "\n",
       "    .dataframe thead th {\n",
       "        text-align: right;\n",
       "    }\n",
       "</style>\n",
       "<table border=\"1\" class=\"dataframe\">\n",
       "  <thead>\n",
       "    <tr style=\"text-align: right;\">\n",
       "      <th></th>\n",
       "      <th>CreditScore</th>\n",
       "      <th>Geography</th>\n",
       "      <th>Gender</th>\n",
       "      <th>Age</th>\n",
       "      <th>Tenure</th>\n",
       "      <th>Balance</th>\n",
       "      <th>NumOfProducts</th>\n",
       "      <th>HasCrCard</th>\n",
       "      <th>IsActiveMember</th>\n",
       "      <th>EstimatedSalary</th>\n",
       "    </tr>\n",
       "  </thead>\n",
       "  <tbody>\n",
       "    <tr>\n",
       "      <th>0</th>\n",
       "      <td>619</td>\n",
       "      <td>France</td>\n",
       "      <td>Female</td>\n",
       "      <td>42</td>\n",
       "      <td>2.0</td>\n",
       "      <td>0.00</td>\n",
       "      <td>1</td>\n",
       "      <td>1</td>\n",
       "      <td>1</td>\n",
       "      <td>101348.88</td>\n",
       "    </tr>\n",
       "    <tr>\n",
       "      <th>1</th>\n",
       "      <td>608</td>\n",
       "      <td>Spain</td>\n",
       "      <td>Female</td>\n",
       "      <td>41</td>\n",
       "      <td>1.0</td>\n",
       "      <td>83807.86</td>\n",
       "      <td>1</td>\n",
       "      <td>0</td>\n",
       "      <td>1</td>\n",
       "      <td>112542.58</td>\n",
       "    </tr>\n",
       "    <tr>\n",
       "      <th>2</th>\n",
       "      <td>502</td>\n",
       "      <td>France</td>\n",
       "      <td>Female</td>\n",
       "      <td>42</td>\n",
       "      <td>8.0</td>\n",
       "      <td>159660.80</td>\n",
       "      <td>3</td>\n",
       "      <td>1</td>\n",
       "      <td>0</td>\n",
       "      <td>113931.57</td>\n",
       "    </tr>\n",
       "    <tr>\n",
       "      <th>3</th>\n",
       "      <td>699</td>\n",
       "      <td>France</td>\n",
       "      <td>Female</td>\n",
       "      <td>39</td>\n",
       "      <td>1.0</td>\n",
       "      <td>0.00</td>\n",
       "      <td>2</td>\n",
       "      <td>0</td>\n",
       "      <td>0</td>\n",
       "      <td>93826.63</td>\n",
       "    </tr>\n",
       "    <tr>\n",
       "      <th>4</th>\n",
       "      <td>850</td>\n",
       "      <td>Spain</td>\n",
       "      <td>Female</td>\n",
       "      <td>43</td>\n",
       "      <td>2.0</td>\n",
       "      <td>125510.82</td>\n",
       "      <td>1</td>\n",
       "      <td>1</td>\n",
       "      <td>1</td>\n",
       "      <td>79084.10</td>\n",
       "    </tr>\n",
       "    <tr>\n",
       "      <th>...</th>\n",
       "      <td>...</td>\n",
       "      <td>...</td>\n",
       "      <td>...</td>\n",
       "      <td>...</td>\n",
       "      <td>...</td>\n",
       "      <td>...</td>\n",
       "      <td>...</td>\n",
       "      <td>...</td>\n",
       "      <td>...</td>\n",
       "      <td>...</td>\n",
       "    </tr>\n",
       "    <tr>\n",
       "      <th>9995</th>\n",
       "      <td>771</td>\n",
       "      <td>France</td>\n",
       "      <td>Male</td>\n",
       "      <td>39</td>\n",
       "      <td>5.0</td>\n",
       "      <td>0.00</td>\n",
       "      <td>2</td>\n",
       "      <td>1</td>\n",
       "      <td>0</td>\n",
       "      <td>96270.64</td>\n",
       "    </tr>\n",
       "    <tr>\n",
       "      <th>9996</th>\n",
       "      <td>516</td>\n",
       "      <td>France</td>\n",
       "      <td>Male</td>\n",
       "      <td>35</td>\n",
       "      <td>10.0</td>\n",
       "      <td>57369.61</td>\n",
       "      <td>1</td>\n",
       "      <td>1</td>\n",
       "      <td>1</td>\n",
       "      <td>101699.77</td>\n",
       "    </tr>\n",
       "    <tr>\n",
       "      <th>9997</th>\n",
       "      <td>709</td>\n",
       "      <td>France</td>\n",
       "      <td>Female</td>\n",
       "      <td>36</td>\n",
       "      <td>7.0</td>\n",
       "      <td>0.00</td>\n",
       "      <td>1</td>\n",
       "      <td>0</td>\n",
       "      <td>1</td>\n",
       "      <td>42085.58</td>\n",
       "    </tr>\n",
       "    <tr>\n",
       "      <th>9998</th>\n",
       "      <td>772</td>\n",
       "      <td>Germany</td>\n",
       "      <td>Male</td>\n",
       "      <td>42</td>\n",
       "      <td>3.0</td>\n",
       "      <td>75075.31</td>\n",
       "      <td>2</td>\n",
       "      <td>1</td>\n",
       "      <td>0</td>\n",
       "      <td>92888.52</td>\n",
       "    </tr>\n",
       "    <tr>\n",
       "      <th>9999</th>\n",
       "      <td>792</td>\n",
       "      <td>France</td>\n",
       "      <td>Female</td>\n",
       "      <td>28</td>\n",
       "      <td>5.0</td>\n",
       "      <td>130142.79</td>\n",
       "      <td>1</td>\n",
       "      <td>1</td>\n",
       "      <td>0</td>\n",
       "      <td>38190.78</td>\n",
       "    </tr>\n",
       "  </tbody>\n",
       "</table>\n",
       "<p>10000 rows × 10 columns</p>\n",
       "</div>"
      ],
      "text/plain": [
       "      CreditScore Geography  Gender  Age  Tenure    Balance  NumOfProducts  \\\n",
       "0             619    France  Female   42     2.0       0.00              1   \n",
       "1             608     Spain  Female   41     1.0   83807.86              1   \n",
       "2             502    France  Female   42     8.0  159660.80              3   \n",
       "3             699    France  Female   39     1.0       0.00              2   \n",
       "4             850     Spain  Female   43     2.0  125510.82              1   \n",
       "...           ...       ...     ...  ...     ...        ...            ...   \n",
       "9995          771    France    Male   39     5.0       0.00              2   \n",
       "9996          516    France    Male   35    10.0   57369.61              1   \n",
       "9997          709    France  Female   36     7.0       0.00              1   \n",
       "9998          772   Germany    Male   42     3.0   75075.31              2   \n",
       "9999          792    France  Female   28     5.0  130142.79              1   \n",
       "\n",
       "      HasCrCard  IsActiveMember  EstimatedSalary  \n",
       "0             1               1        101348.88  \n",
       "1             0               1        112542.58  \n",
       "2             1               0        113931.57  \n",
       "3             0               0         93826.63  \n",
       "4             1               1         79084.10  \n",
       "...         ...             ...              ...  \n",
       "9995          1               0         96270.64  \n",
       "9996          1               1        101699.77  \n",
       "9997          0               1         42085.58  \n",
       "9998          1               0         92888.52  \n",
       "9999          1               0         38190.78  \n",
       "\n",
       "[10000 rows x 10 columns]"
      ]
     },
     "metadata": {},
     "output_type": "display_data"
    },
    {
     "data": {
      "text/plain": [
       "0       1\n",
       "1       0\n",
       "2       1\n",
       "3       0\n",
       "4       0\n",
       "       ..\n",
       "9995    0\n",
       "9996    0\n",
       "9997    1\n",
       "9998    1\n",
       "9999    0\n",
       "Name: Exited, Length: 10000, dtype: int64"
      ]
     },
     "metadata": {},
     "output_type": "display_data"
    }
   ],
   "source": [
    "features = data.drop(['Exited', 'RowNumber', 'CustomerId', 'Surname'], axis=1)\n",
    "target = data['Exited']\n",
    "\n",
    "display(f'Train features: {features.shape}')\n",
    "display(f'Target: {target.shape}')\n",
    "display(features)\n",
    "display(target)"
   ]
  },
  {
   "cell_type": "markdown",
   "metadata": {},
   "source": [
    "Let's split the samples into validation, training, and test sets, with proportions of 20%, 60%, and 20%, respectively."
   ]
  },
  {
   "cell_type": "code",
   "execution_count": 6,
   "metadata": {},
   "outputs": [
    {
     "name": "stdout",
     "output_type": "stream",
     "text": [
      "Training features: (6000, 10)\n",
      "Validation features: (2000, 10)\n",
      "Test features: (2000, 10)\n",
      "\n",
      "Training target: (6000,)\n",
      "Validation target: (2000,)\n",
      "Test target: (2000,)\n"
     ]
    }
   ],
   "source": [
    "features_train, features_temp, target_train, target_temp = train_test_split(\n",
    "    features, target, test_size=0.4, random_state=12345)\n",
    "\n",
    "features_valid, features_test, target_valid, target_test = train_test_split(\n",
    "    features_temp, target_temp, test_size=0.5, random_state=12345)\n",
    "\n",
    "print('Training features:', features_train.shape)\n",
    "print('Validation features:', features_valid.shape)\n",
    "print('Test features:', features_test.shape)\n",
    "print()\n",
    "print('Training target:', target_train.shape)\n",
    "print('Validation target:', target_valid.shape)\n",
    "print('Test target:', target_test.shape)"
   ]
  },
  {
   "cell_type": "markdown",
   "metadata": {},
   "source": [
    "Let's perform One-Hot Encoding for categorical columns."
   ]
  },
  {
   "cell_type": "code",
   "execution_count": 7,
   "metadata": {},
   "outputs": [
    {
     "data": {
      "text/html": [
       "<div>\n",
       "<style scoped>\n",
       "    .dataframe tbody tr th:only-of-type {\n",
       "        vertical-align: middle;\n",
       "    }\n",
       "\n",
       "    .dataframe tbody tr th {\n",
       "        vertical-align: top;\n",
       "    }\n",
       "\n",
       "    .dataframe thead th {\n",
       "        text-align: right;\n",
       "    }\n",
       "</style>\n",
       "<table border=\"1\" class=\"dataframe\">\n",
       "  <thead>\n",
       "    <tr style=\"text-align: right;\">\n",
       "      <th></th>\n",
       "      <th>Germany</th>\n",
       "      <th>Spain</th>\n",
       "      <th>Gender</th>\n",
       "      <th>HasCrCard</th>\n",
       "      <th>IsActiveMember</th>\n",
       "    </tr>\n",
       "  </thead>\n",
       "  <tbody>\n",
       "    <tr>\n",
       "      <th>0</th>\n",
       "      <td>False</td>\n",
       "      <td>True</td>\n",
       "      <td>True</td>\n",
       "      <td>True</td>\n",
       "      <td>False</td>\n",
       "    </tr>\n",
       "    <tr>\n",
       "      <th>1</th>\n",
       "      <td>False</td>\n",
       "      <td>False</td>\n",
       "      <td>False</td>\n",
       "      <td>False</td>\n",
       "      <td>False</td>\n",
       "    </tr>\n",
       "    <tr>\n",
       "      <th>2</th>\n",
       "      <td>True</td>\n",
       "      <td>False</td>\n",
       "      <td>True</td>\n",
       "      <td>False</td>\n",
       "      <td>True</td>\n",
       "    </tr>\n",
       "    <tr>\n",
       "      <th>3</th>\n",
       "      <td>False</td>\n",
       "      <td>False</td>\n",
       "      <td>True</td>\n",
       "      <td>True</td>\n",
       "      <td>False</td>\n",
       "    </tr>\n",
       "    <tr>\n",
       "      <th>4</th>\n",
       "      <td>True</td>\n",
       "      <td>False</td>\n",
       "      <td>False</td>\n",
       "      <td>False</td>\n",
       "      <td>False</td>\n",
       "    </tr>\n",
       "    <tr>\n",
       "      <th>...</th>\n",
       "      <td>...</td>\n",
       "      <td>...</td>\n",
       "      <td>...</td>\n",
       "      <td>...</td>\n",
       "      <td>...</td>\n",
       "    </tr>\n",
       "    <tr>\n",
       "      <th>5995</th>\n",
       "      <td>False</td>\n",
       "      <td>False</td>\n",
       "      <td>True</td>\n",
       "      <td>False</td>\n",
       "      <td>True</td>\n",
       "    </tr>\n",
       "    <tr>\n",
       "      <th>5996</th>\n",
       "      <td>False</td>\n",
       "      <td>False</td>\n",
       "      <td>True</td>\n",
       "      <td>False</td>\n",
       "      <td>True</td>\n",
       "    </tr>\n",
       "    <tr>\n",
       "      <th>5997</th>\n",
       "      <td>False</td>\n",
       "      <td>False</td>\n",
       "      <td>False</td>\n",
       "      <td>False</td>\n",
       "      <td>True</td>\n",
       "    </tr>\n",
       "    <tr>\n",
       "      <th>5998</th>\n",
       "      <td>False</td>\n",
       "      <td>False</td>\n",
       "      <td>False</td>\n",
       "      <td>False</td>\n",
       "      <td>True</td>\n",
       "    </tr>\n",
       "    <tr>\n",
       "      <th>5999</th>\n",
       "      <td>False</td>\n",
       "      <td>False</td>\n",
       "      <td>True</td>\n",
       "      <td>False</td>\n",
       "      <td>False</td>\n",
       "    </tr>\n",
       "  </tbody>\n",
       "</table>\n",
       "<p>6000 rows × 5 columns</p>\n",
       "</div>"
      ],
      "text/plain": [
       "      Germany  Spain  Gender  HasCrCard  IsActiveMember\n",
       "0       False   True    True       True           False\n",
       "1       False  False   False      False           False\n",
       "2        True  False    True      False            True\n",
       "3       False  False    True       True           False\n",
       "4        True  False   False      False           False\n",
       "...       ...    ...     ...        ...             ...\n",
       "5995    False  False    True      False            True\n",
       "5996    False  False    True      False            True\n",
       "5997    False  False   False      False            True\n",
       "5998    False  False   False      False            True\n",
       "5999    False  False    True      False           False\n",
       "\n",
       "[6000 rows x 5 columns]"
      ]
     },
     "metadata": {},
     "output_type": "display_data"
    },
    {
     "data": {
      "text/html": [
       "<div>\n",
       "<style scoped>\n",
       "    .dataframe tbody tr th:only-of-type {\n",
       "        vertical-align: middle;\n",
       "    }\n",
       "\n",
       "    .dataframe tbody tr th {\n",
       "        vertical-align: top;\n",
       "    }\n",
       "\n",
       "    .dataframe thead th {\n",
       "        text-align: right;\n",
       "    }\n",
       "</style>\n",
       "<table border=\"1\" class=\"dataframe\">\n",
       "  <thead>\n",
       "    <tr style=\"text-align: right;\">\n",
       "      <th></th>\n",
       "      <th>Germany</th>\n",
       "      <th>Spain</th>\n",
       "      <th>Gender</th>\n",
       "      <th>HasCrCard</th>\n",
       "      <th>IsActiveMember</th>\n",
       "    </tr>\n",
       "  </thead>\n",
       "  <tbody>\n",
       "    <tr>\n",
       "      <th>0</th>\n",
       "      <td>False</td>\n",
       "      <td>False</td>\n",
       "      <td>False</td>\n",
       "      <td>True</td>\n",
       "      <td>False</td>\n",
       "    </tr>\n",
       "    <tr>\n",
       "      <th>1</th>\n",
       "      <td>False</td>\n",
       "      <td>False</td>\n",
       "      <td>False</td>\n",
       "      <td>True</td>\n",
       "      <td>True</td>\n",
       "    </tr>\n",
       "    <tr>\n",
       "      <th>2</th>\n",
       "      <td>True</td>\n",
       "      <td>False</td>\n",
       "      <td>True</td>\n",
       "      <td>True</td>\n",
       "      <td>False</td>\n",
       "    </tr>\n",
       "    <tr>\n",
       "      <th>3</th>\n",
       "      <td>False</td>\n",
       "      <td>True</td>\n",
       "      <td>False</td>\n",
       "      <td>True</td>\n",
       "      <td>True</td>\n",
       "    </tr>\n",
       "    <tr>\n",
       "      <th>4</th>\n",
       "      <td>False</td>\n",
       "      <td>True</td>\n",
       "      <td>True</td>\n",
       "      <td>True</td>\n",
       "      <td>False</td>\n",
       "    </tr>\n",
       "    <tr>\n",
       "      <th>...</th>\n",
       "      <td>...</td>\n",
       "      <td>...</td>\n",
       "      <td>...</td>\n",
       "      <td>...</td>\n",
       "      <td>...</td>\n",
       "    </tr>\n",
       "    <tr>\n",
       "      <th>1995</th>\n",
       "      <td>False</td>\n",
       "      <td>False</td>\n",
       "      <td>False</td>\n",
       "      <td>False</td>\n",
       "      <td>True</td>\n",
       "    </tr>\n",
       "    <tr>\n",
       "      <th>1996</th>\n",
       "      <td>False</td>\n",
       "      <td>False</td>\n",
       "      <td>True</td>\n",
       "      <td>True</td>\n",
       "      <td>False</td>\n",
       "    </tr>\n",
       "    <tr>\n",
       "      <th>1997</th>\n",
       "      <td>False</td>\n",
       "      <td>False</td>\n",
       "      <td>False</td>\n",
       "      <td>False</td>\n",
       "      <td>True</td>\n",
       "    </tr>\n",
       "    <tr>\n",
       "      <th>1998</th>\n",
       "      <td>False</td>\n",
       "      <td>False</td>\n",
       "      <td>True</td>\n",
       "      <td>True</td>\n",
       "      <td>True</td>\n",
       "    </tr>\n",
       "    <tr>\n",
       "      <th>1999</th>\n",
       "      <td>True</td>\n",
       "      <td>False</td>\n",
       "      <td>True</td>\n",
       "      <td>True</td>\n",
       "      <td>False</td>\n",
       "    </tr>\n",
       "  </tbody>\n",
       "</table>\n",
       "<p>2000 rows × 5 columns</p>\n",
       "</div>"
      ],
      "text/plain": [
       "      Germany  Spain  Gender  HasCrCard  IsActiveMember\n",
       "0       False  False   False       True           False\n",
       "1       False  False   False       True            True\n",
       "2        True  False    True       True           False\n",
       "3       False   True   False       True            True\n",
       "4       False   True    True       True           False\n",
       "...       ...    ...     ...        ...             ...\n",
       "1995    False  False   False      False            True\n",
       "1996    False  False    True       True           False\n",
       "1997    False  False   False      False            True\n",
       "1998    False  False    True       True            True\n",
       "1999     True  False    True       True           False\n",
       "\n",
       "[2000 rows x 5 columns]"
      ]
     },
     "metadata": {},
     "output_type": "display_data"
    },
    {
     "data": {
      "text/html": [
       "<div>\n",
       "<style scoped>\n",
       "    .dataframe tbody tr th:only-of-type {\n",
       "        vertical-align: middle;\n",
       "    }\n",
       "\n",
       "    .dataframe tbody tr th {\n",
       "        vertical-align: top;\n",
       "    }\n",
       "\n",
       "    .dataframe thead th {\n",
       "        text-align: right;\n",
       "    }\n",
       "</style>\n",
       "<table border=\"1\" class=\"dataframe\">\n",
       "  <thead>\n",
       "    <tr style=\"text-align: right;\">\n",
       "      <th></th>\n",
       "      <th>Germany</th>\n",
       "      <th>Spain</th>\n",
       "      <th>Gender</th>\n",
       "      <th>HasCrCard</th>\n",
       "      <th>IsActiveMember</th>\n",
       "    </tr>\n",
       "  </thead>\n",
       "  <tbody>\n",
       "    <tr>\n",
       "      <th>0</th>\n",
       "      <td>False</td>\n",
       "      <td>False</td>\n",
       "      <td>True</td>\n",
       "      <td>True</td>\n",
       "      <td>False</td>\n",
       "    </tr>\n",
       "    <tr>\n",
       "      <th>1</th>\n",
       "      <td>False</td>\n",
       "      <td>False</td>\n",
       "      <td>False</td>\n",
       "      <td>True</td>\n",
       "      <td>False</td>\n",
       "    </tr>\n",
       "    <tr>\n",
       "      <th>2</th>\n",
       "      <td>False</td>\n",
       "      <td>True</td>\n",
       "      <td>True</td>\n",
       "      <td>True</td>\n",
       "      <td>True</td>\n",
       "    </tr>\n",
       "    <tr>\n",
       "      <th>3</th>\n",
       "      <td>False</td>\n",
       "      <td>True</td>\n",
       "      <td>True</td>\n",
       "      <td>True</td>\n",
       "      <td>False</td>\n",
       "    </tr>\n",
       "    <tr>\n",
       "      <th>4</th>\n",
       "      <td>False</td>\n",
       "      <td>False</td>\n",
       "      <td>True</td>\n",
       "      <td>False</td>\n",
       "      <td>True</td>\n",
       "    </tr>\n",
       "    <tr>\n",
       "      <th>...</th>\n",
       "      <td>...</td>\n",
       "      <td>...</td>\n",
       "      <td>...</td>\n",
       "      <td>...</td>\n",
       "      <td>...</td>\n",
       "    </tr>\n",
       "    <tr>\n",
       "      <th>1995</th>\n",
       "      <td>True</td>\n",
       "      <td>False</td>\n",
       "      <td>True</td>\n",
       "      <td>True</td>\n",
       "      <td>False</td>\n",
       "    </tr>\n",
       "    <tr>\n",
       "      <th>1996</th>\n",
       "      <td>False</td>\n",
       "      <td>False</td>\n",
       "      <td>True</td>\n",
       "      <td>False</td>\n",
       "      <td>False</td>\n",
       "    </tr>\n",
       "    <tr>\n",
       "      <th>1997</th>\n",
       "      <td>False</td>\n",
       "      <td>False</td>\n",
       "      <td>False</td>\n",
       "      <td>True</td>\n",
       "      <td>False</td>\n",
       "    </tr>\n",
       "    <tr>\n",
       "      <th>1998</th>\n",
       "      <td>False</td>\n",
       "      <td>True</td>\n",
       "      <td>True</td>\n",
       "      <td>False</td>\n",
       "      <td>False</td>\n",
       "    </tr>\n",
       "    <tr>\n",
       "      <th>1999</th>\n",
       "      <td>True</td>\n",
       "      <td>False</td>\n",
       "      <td>False</td>\n",
       "      <td>True</td>\n",
       "      <td>True</td>\n",
       "    </tr>\n",
       "  </tbody>\n",
       "</table>\n",
       "<p>2000 rows × 5 columns</p>\n",
       "</div>"
      ],
      "text/plain": [
       "      Germany  Spain  Gender  HasCrCard  IsActiveMember\n",
       "0       False  False    True       True           False\n",
       "1       False  False   False       True           False\n",
       "2       False   True    True       True            True\n",
       "3       False   True    True       True           False\n",
       "4       False  False    True      False            True\n",
       "...       ...    ...     ...        ...             ...\n",
       "1995     True  False    True       True           False\n",
       "1996    False  False    True      False           False\n",
       "1997    False  False   False       True           False\n",
       "1998    False   True    True      False           False\n",
       "1999     True  False   False       True            True\n",
       "\n",
       "[2000 rows x 5 columns]"
      ]
     },
     "metadata": {},
     "output_type": "display_data"
    }
   ],
   "source": [
    "def ohe_conv(features):\n",
    "    data_ohe = pd.get_dummies(features[categorical], columns=categorical, drop_first=True)\n",
    "    \n",
    "    data_ohe.rename(columns={\n",
    "    'Geography_Germany': 'Germany',\n",
    "    'Geography_Spain': 'Spain',\n",
    "    'Gender_Male': 'Gender',\n",
    "    'HasCrCard_1': 'HasCrCard',\n",
    "    'IsActiveMember_1': 'IsActiveMember'\n",
    "    }, inplace=True)\n",
    "    \n",
    "    data_ohe.reset_index(drop=True, inplace=True)\n",
    "    return data_ohe\n",
    "\n",
    "data_ohe_train = ohe_conv(features_train)\n",
    "data_ohe_valid = ohe_conv(features_valid)\n",
    "data_ohe_test = ohe_conv(features_test)\n",
    "\n",
    "display(data_ohe_train)\n",
    "display(data_ohe_valid)\n",
    "display(data_ohe_test)"
   ]
  },
  {
   "cell_type": "markdown",
   "metadata": {},
   "source": [
    "Let's scale the numerical variables."
   ]
  },
  {
   "cell_type": "code",
   "execution_count": 8,
   "metadata": {},
   "outputs": [
    {
     "data": {
      "text/plain": [
       "'Train: (6000, 6)'"
      ]
     },
     "metadata": {},
     "output_type": "display_data"
    },
    {
     "data": {
      "text/plain": [
       "'Validation: (2000, 6)'"
      ]
     },
     "metadata": {},
     "output_type": "display_data"
    },
    {
     "data": {
      "text/plain": [
       "'Test: (2000, 6)'"
      ]
     },
     "metadata": {},
     "output_type": "display_data"
    }
   ],
   "source": [
    "scaler = StandardScaler()\n",
    "\n",
    "data_train_scaled = scaler.fit_transform(features_train[numeric])\n",
    "data_train_numeric = pd.DataFrame(data_train_scaled, columns=numeric)\n",
    "data_train_numeric.reset_index(drop=True, inplace=True)\n",
    "\n",
    "def scaler_func (features):\n",
    "    data_scaled = scaler.transform(features[numeric])\n",
    "    data_numeric = pd.DataFrame(data_scaled, columns=numeric)\n",
    "    data_numeric.reset_index(drop=True, inplace=True)\n",
    "    return data_numeric\n",
    "\n",
    "data_valid_numeric = scaler_func(features_valid)\n",
    "data_test_numeric = scaler_func(features_test)\n",
    "\n",
    "display(f'Train: {data_train_numeric.shape}')\n",
    "display(f'Validation: {data_valid_numeric.shape}')\n",
    "display(f'Test: {data_test_numeric.shape}')"
   ]
  },
  {
   "cell_type": "markdown",
   "metadata": {},
   "source": [
    "Let's combine the columns into a single dataframe."
   ]
  },
  {
   "cell_type": "code",
   "execution_count": 9,
   "metadata": {},
   "outputs": [
    {
     "data": {
      "text/plain": [
       "'Train: (6000, 11)'"
      ]
     },
     "metadata": {},
     "output_type": "display_data"
    },
    {
     "data": {
      "text/plain": [
       "'Validation: (2000, 11)'"
      ]
     },
     "metadata": {},
     "output_type": "display_data"
    },
    {
     "data": {
      "text/plain": [
       "'Test: (2000, 11)'"
      ]
     },
     "metadata": {},
     "output_type": "display_data"
    }
   ],
   "source": [
    "features_train = pd.concat([data_train_numeric, data_ohe_train], axis=1)\n",
    "features_valid = pd.concat([data_valid_numeric, data_ohe_valid], axis=1)\n",
    "features_test = pd.concat([data_test_numeric, data_ohe_test], axis=1)\n",
    "display(f'Train: {features_train.shape}')\n",
    "display(f'Validation: {features_valid.shape}')\n",
    "display(f'Test: {features_test.shape}')"
   ]
  },
  {
   "cell_type": "markdown",
   "metadata": {},
   "source": [
    "Also, let's reset the indices in the target samples."
   ]
  },
  {
   "cell_type": "code",
   "execution_count": 10,
   "metadata": {},
   "outputs": [
    {
     "data": {
      "text/plain": [
       "'Train target: (6000,)'"
      ]
     },
     "metadata": {},
     "output_type": "display_data"
    },
    {
     "data": {
      "text/plain": [
       "'Valid target: (2000,)'"
      ]
     },
     "metadata": {},
     "output_type": "display_data"
    },
    {
     "data": {
      "text/plain": [
       "'Test target: (2000,)'"
      ]
     },
     "metadata": {},
     "output_type": "display_data"
    }
   ],
   "source": [
    "target_train.reset_index(drop=True, inplace=True)\n",
    "target_valid.reset_index(drop=True, inplace=True)\n",
    "target_test.reset_index(drop=True, inplace=True)\n",
    "\n",
    "display(f'Train target: {target_train.shape}')\n",
    "display(f'Valid target: {target_valid.shape}')\n",
    "display(f'Test target: {target_test.shape}')"
   ]
  },
  {
   "cell_type": "markdown",
   "metadata": {},
   "source": [
    "## Researching the task."
   ]
  },
  {
   "cell_type": "markdown",
   "metadata": {},
   "source": [
    "Let's check the data for imbalance:"
   ]
  },
  {
   "cell_type": "code",
   "execution_count": 11,
   "metadata": {},
   "outputs": [
    {
     "data": {
      "text/plain": [
       "Exited\n",
       "0    7963\n",
       "1    2037\n",
       "Name: count, dtype: int64"
      ]
     },
     "execution_count": 11,
     "metadata": {},
     "output_type": "execute_result"
    }
   ],
   "source": [
    "target.value_counts()"
   ]
  },
  {
   "cell_type": "code",
   "execution_count": 12,
   "metadata": {},
   "outputs": [
    {
     "data": {
      "image/png": "[encoded data removed]",
      "text/plain": [
       "<Figure size 640x480 with 1 Axes>"
      ]
     },
     "metadata": {},
     "output_type": "display_data"
    }
   ],
   "source": [
    "target.value_counts().plot(kind='bar')\n",
    "plt.title('Class distribution')\n",
    "plt.xlabel('Exited')\n",
    "plt.ylabel('Quantity')\n",
    "plt.show()"
   ]
  },
  {
   "cell_type": "markdown",
   "metadata": {},
   "source": [
    "The data is imbalanced, the number of churned customers is approximately - 2037/10000 = 20% of the total."
   ]
  },
  {
   "cell_type": "markdown",
   "metadata": {},
   "source": [
    "Let's find the f1_score and auc_roc_score for logistic regression."
   ]
  },
  {
   "cell_type": "code",
   "execution_count": 13,
   "metadata": {},
   "outputs": [
    {
     "name": "stdout",
     "output_type": "stream",
     "text": [
      "F1: 0.33108108108108103\n",
      "auc_roc: 0.7587512627102753\n"
     ]
    }
   ],
   "source": [
    "logistic_model = LogisticRegression(random_state=12345, solver='liblinear', max_iter=1000)\n",
    "logistic_model.fit(features_train, target_train)\n",
    "logistic_predicted_valid = logistic_model.predict(features_valid)\n",
    "\n",
    "probabilities_valid = logistic_model.predict_proba(features_valid)\n",
    "probabilities_one_valid = probabilities_valid[:, 1]\n",
    "roc_auc_score(target_valid, probabilities_one_valid)\n",
    "\n",
    "print(f'F1: {f1_score(target_valid, logistic_predicted_valid)}')\n",
    "print(f'auc_roc: {roc_auc_score(target_valid, probabilities_one_valid)}')"
   ]
  },
  {
   "cell_type": "markdown",
   "metadata": {},
   "source": [
    "_Conclusion_: The f1 score for logistic regression has a relatively low value around 0.33. But given the imbalanced nature of the data, this is expected."
   ]
  },
  {
   "cell_type": "markdown",
   "metadata": {},
   "source": [
    "Let's find the f1_score and auc_roc_score for the decision tree."
   ]
  },
  {
   "cell_type": "code",
   "execution_count": 14,
   "metadata": {},
   "outputs": [
    {
     "name": "stdout",
     "output_type": "stream",
     "text": [
      "The quality of the decision tree on the validation set: 0.8585, max_depth: 6\n"
     ]
    }
   ],
   "source": [
    "best_depth = 0\n",
    "best_result = 0\n",
    "\n",
    "for depth in range(1, 11):\n",
    "    tree_model = DecisionTreeClassifier(random_state=12345, max_depth=depth)\n",
    "    tree_model.fit(features_train, target_train)\n",
    "    predictions_valid = tree_model.predict(features_valid)\n",
    "    result = tree_model.score(features_valid, target_valid)\n",
    "    if result > best_result:\n",
    "        best_result = result\n",
    "        best_depth = depth\n",
    "\n",
    "print(f'The quality of the decision tree on the validation set: {best_result}, max_depth: {best_depth}')"
   ]
  },
  {
   "cell_type": "code",
   "execution_count": 15,
   "metadata": {},
   "outputs": [
    {
     "name": "stdout",
     "output_type": "stream",
     "text": [
      "F1: 0.5692541856925418\n",
      "auc_roc: 0.8169690114263938\n"
     ]
    }
   ],
   "source": [
    "tree_model = DecisionTreeClassifier(random_state=12345, max_depth=6)\n",
    "tree_model.fit(features_train, target_train)\n",
    "tree_predicted_valid = tree_model.predict(features_valid)\n",
    "\n",
    "probabilities_valid = tree_model.predict_proba(features_valid)\n",
    "probabilities_one_valid = probabilities_valid[:, 1]\n",
    "roc_auc_score(target_valid, probabilities_one_valid)\n",
    "\n",
    "print(f'F1: {f1_score(target_valid, tree_predicted_valid)}')\n",
    "print(f'auc_roc: {roc_auc_score(target_valid, probabilities_one_valid)}')"
   ]
  },
  {
   "cell_type": "markdown",
   "metadata": {},
   "source": [
    "_Conclusion_: The f1 score for the decision tree has a higher value around 0.57. The AUC-ROC is 0.8169690114263938, suggesting that the model overall distinguishes well between classes."
   ]
  },
  {
   "cell_type": "markdown",
   "metadata": {},
   "source": [
    "Let's find the f1_score and auc_roc_score for the random forest."
   ]
  },
  {
   "cell_type": "code",
   "execution_count": 16,
   "metadata": {},
   "outputs": [
    {
     "name": "stdout",
     "output_type": "stream",
     "text": [
      "The quality of the random forest on the validation set: 0.866, n_estimators: 50, max_depth: 10\n"
     ]
    }
   ],
   "source": [
    "best_result = 0\n",
    "best_est = 0\n",
    "best_depth = 0\n",
    "for est in range(10, 110, 10):\n",
    "    for depth in range (1, 15, 1):\n",
    "        rand_forest_model = RandomForestClassifier(random_state=12345, n_estimators=est, max_depth=depth)\n",
    "        rand_forest_model.fit(features_train, target_train)\n",
    "        predictions_valid = rand_forest_model.predict(features_valid)\n",
    "        result = rand_forest_model.score(features_valid, target_valid)\n",
    "        if result > best_result:\n",
    "            best_result = result\n",
    "            best_est = est\n",
    "            best_depth = depth\n",
    "\n",
    "print(f'The quality of the random forest on the validation set: {best_result}, n_estimators: {best_est}, max_depth: {best_depth}')"
   ]
  },
  {
   "cell_type": "code",
   "execution_count": 17,
   "metadata": {
    "scrolled": true
   },
   "outputs": [
    {
     "name": "stdout",
     "output_type": "stream",
     "text": [
      "F1: 0.5902140672782875\n",
      "auc_roc: 0.8488573606179568\n"
     ]
    }
   ],
   "source": [
    "rand_forest_model = RandomForestClassifier(random_state=12345, n_estimators=50, max_depth=10)\n",
    "rand_forest_model.fit(features_train, target_train)\n",
    "rand_forest_predicted_valid = rand_forest_model.predict(features_valid)\n",
    "\n",
    "probabilities_valid = rand_forest_model.predict_proba(features_valid)\n",
    "probabilities_one_valid = probabilities_valid[:, 1]\n",
    "roc_auc_score(target_valid, probabilities_one_valid)\n",
    "\n",
    "print(f'F1: {f1_score(target_valid, rand_forest_predicted_valid)}')\n",
    "print(f'auc_roc: {roc_auc_score(target_valid, probabilities_one_valid)}')"
   ]
  },
  {
   "cell_type": "markdown",
   "metadata": {},
   "source": [
    "_Conclusion_: The f1 score for the decision tree has a value around 0.59. The AUC-ROC is 0.8488573606179568, suggesting that the model overall distinguishes well between classes."
   ]
  },
  {
   "cell_type": "markdown",
   "metadata": {},
   "source": [
    "__Conclusion for all models with class imbalance__: The decision tree and random forest have higher f1 score and AUC-ROC values."
   ]
  },
  {
   "cell_type": "markdown",
   "metadata": {},
   "source": [
    "## Dealing with imbalance:"
   ]
  },
  {
   "cell_type": "markdown",
   "metadata": {},
   "source": [
    "To begin with, let's try to balance the classes by including the hyperparameter class_weight='balanced'."
   ]
  },
  {
   "cell_type": "markdown",
   "metadata": {},
   "source": [
    "Let's find the f1_score and auc_roc_score for logistic regression with the hyperparameter class_weight='balanced'."
   ]
  },
  {
   "cell_type": "code",
   "execution_count": 18,
   "metadata": {},
   "outputs": [
    {
     "name": "stdout",
     "output_type": "stream",
     "text": [
      "F1: 0.4888507718696398\n",
      "auc_roc: 0.7637310291013133\n"
     ]
    }
   ],
   "source": [
    "logistic_model = LogisticRegression(random_state=12345, solver='liblinear', max_iter=1000, class_weight='balanced')\n",
    "logistic_model.fit(features_train, target_train)\n",
    "logistic_predicted_valid = logistic_model.predict(features_valid)\n",
    "\n",
    "probabilities_valid = logistic_model.predict_proba(features_valid)\n",
    "probabilities_one_valid = probabilities_valid[:, 1]\n",
    "roc_auc_score(target_valid, probabilities_one_valid)\n",
    "\n",
    "print(f'F1: {f1_score(target_valid, logistic_predicted_valid)}')\n",
    "print(f'auc_roc: {roc_auc_score(target_valid, probabilities_one_valid)}')"
   ]
  },
  {
   "cell_type": "markdown",
   "metadata": {},
   "source": [
    "_Conclusion_: The f1 score for logistic regression increased by 0.16, and AUC-ROC remained unchanged."
   ]
  },
  {
   "cell_type": "markdown",
   "metadata": {},
   "source": [
    "Let's find the f1_score and auc_roc_score for the decision tree with the hyperparameter class_weight='balanced'."
   ]
  },
  {
   "cell_type": "code",
   "execution_count": 19,
   "metadata": {},
   "outputs": [
    {
     "name": "stdout",
     "output_type": "stream",
     "text": [
      "F1: 0.5581835383159887\n",
      "auc_roc: 0.7996585389459167\n"
     ]
    }
   ],
   "source": [
    "tree_model = DecisionTreeClassifier(random_state=12345, max_depth=6, class_weight='balanced')\n",
    "tree_model.fit(features_train, target_train)\n",
    "tree_predicted_valid = tree_model.predict(features_valid)\n",
    "\n",
    "probabilities_valid = tree_model.predict_proba(features_valid)\n",
    "probabilities_one_valid = probabilities_valid[:, 1]\n",
    "roc_auc_score(target_valid, probabilities_one_valid)\n",
    "\n",
    "print(f'F1: {f1_score(target_valid, tree_predicted_valid)}')\n",
    "print(f'auc_roc: {roc_auc_score(target_valid, probabilities_one_valid)}')"
   ]
  },
  {
   "cell_type": "markdown",
   "metadata": {},
   "source": [
    "_Conclusion_: Balancing classes using the class_weight hyperparameter for the decision tree reduced the f1 score and AUC-ROC by 0.1 and 0.2, respectively."
   ]
  },
  {
   "cell_type": "markdown",
   "metadata": {},
   "source": [
    "Let's find the f1_score and auc_roc_score for the random forest with the hyperparameter class_weight='balanced'."
   ]
  },
  {
   "cell_type": "code",
   "execution_count": 20,
   "metadata": {},
   "outputs": [
    {
     "name": "stdout",
     "output_type": "stream",
     "text": [
      "F1: 0.62227602905569\n",
      "auc_roc: 0.8504784688995217\n"
     ]
    }
   ],
   "source": [
    "rand_forest_model = RandomForestClassifier(random_state=12345, n_estimators=50, max_depth=10, class_weight='balanced')\n",
    "rand_forest_model.fit(features_train, target_train)\n",
    "rand_forest_predicted_valid = rand_forest_model.predict(features_valid)\n",
    "\n",
    "probabilities_valid = rand_forest_model.predict_proba(features_valid)\n",
    "probabilities_one_valid = probabilities_valid[:, 1]\n",
    "roc_auc_score(target_valid, probabilities_one_valid)\n",
    "\n",
    "print(f'F1: {f1_score(target_valid, rand_forest_predicted_valid)}')\n",
    "print(f'auc_roc: {roc_auc_score(target_valid, probabilities_one_valid)}')"
   ]
  },
  {
   "cell_type": "markdown",
   "metadata": {},
   "source": [
    "_Conclusion_: Balancing classes using the class_weight hyperparameter for the random forest increased the f1 score by 0.03, and AUC-ROC remained unchanged."
   ]
  },
  {
   "cell_type": "markdown",
   "metadata": {},
   "source": [
    "Now let's try applying the \"upsample\" method. For this, we'll write a small function that takes samples and increases them by the required factor. We'll calculate the repeat factor for upsampling relative to the larger sample."
   ]
  },
  {
   "cell_type": "code",
   "execution_count": 21,
   "metadata": {},
   "outputs": [
    {
     "data": {
      "text/plain": [
       "0.25580811252040686"
      ]
     },
     "execution_count": 21,
     "metadata": {},
     "output_type": "execute_result"
    }
   ],
   "source": [
    "ratio = 2037/7963\n",
    "ratio"
   ]
  },
  {
   "cell_type": "markdown",
   "metadata": {},
   "source": [
    "The ratio is 1 to 4, so we'll accept it."
   ]
  },
  {
   "cell_type": "code",
   "execution_count": 22,
   "metadata": {},
   "outputs": [],
   "source": [
    "repeat = 4"
   ]
  },
  {
   "cell_type": "markdown",
   "metadata": {},
   "source": [
    "Let's write the upsample function:"
   ]
  },
  {
   "cell_type": "code",
   "execution_count": 23,
   "metadata": {},
   "outputs": [],
   "source": [
    "def upsample(features, target, repeat):\n",
    "    features_zeros = features[target == 0]\n",
    "    features_ones = features[target == 1]\n",
    "    target_zeros = target[target == 0]\n",
    "    target_ones = target[target == 1]\n",
    "\n",
    "    features_upsampled = pd.concat([features_zeros] + [features_ones] * repeat)\n",
    "    target_upsampled = pd.concat([target_zeros] + [target_ones] * repeat)\n",
    "    \n",
    "    features_upsampled, target_upsampled = shuffle(\n",
    "        features_upsampled, target_upsampled, random_state=12345)\n",
    "    \n",
    "    return features_upsampled, target_upsampled"
   ]
  },
  {
   "cell_type": "markdown",
   "metadata": {},
   "source": [
    "Now let's calculate the new values for the training set."
   ]
  },
  {
   "cell_type": "code",
   "execution_count": 24,
   "metadata": {},
   "outputs": [],
   "source": [
    "features_upsampled, target_upsampled = upsample(features_train, target_train, 4)"
   ]
  },
  {
   "cell_type": "markdown",
   "metadata": {},
   "source": [
    "Train models on these sets."
   ]
  },
  {
   "cell_type": "markdown",
   "metadata": {},
   "source": [
    "Logistic Regression"
   ]
  },
  {
   "cell_type": "code",
   "execution_count": 25,
   "metadata": {},
   "outputs": [
    {
     "name": "stdout",
     "output_type": "stream",
     "text": [
      "F1: 0.4888507718696398\n",
      "auc_roc: 0.7636478565682107\n"
     ]
    }
   ],
   "source": [
    "logistic_model = LogisticRegression(random_state=12345, solver='liblinear', max_iter=1000)\n",
    "logistic_model.fit(features_upsampled, target_upsampled)\n",
    "logistic_predicted_valid = logistic_model.predict(features_valid)\n",
    "\n",
    "probabilities_valid = logistic_model.predict_proba(features_valid)\n",
    "probabilities_one_valid = probabilities_valid[:, 1]\n",
    "roc_auc_score(target_valid, probabilities_one_valid)\n",
    "\n",
    "print(f'F1: {f1_score(target_valid, logistic_predicted_valid)}')\n",
    "print(f'auc_roc: {roc_auc_score(target_valid, probabilities_one_valid)}')"
   ]
  },
  {
   "cell_type": "markdown",
   "metadata": {},
   "source": [
    "_Conclusion_: The f1 score and AUC-ROC metrics remained unchanged."
   ]
  },
  {
   "cell_type": "markdown",
   "metadata": {},
   "source": [
    "Decision tree."
   ]
  },
  {
   "cell_type": "code",
   "execution_count": 26,
   "metadata": {},
   "outputs": [
    {
     "name": "stdout",
     "output_type": "stream",
     "text": [
      "F1: 0.5609065155807366\n",
      "auc_roc: 0.8043842510540228\n"
     ]
    }
   ],
   "source": [
    "tree_model = DecisionTreeClassifier(random_state=12345, max_depth=6)\n",
    "tree_model.fit(features_upsampled, target_upsampled)\n",
    "tree_predicted_valid = tree_model.predict(features_valid)\n",
    "\n",
    "probabilities_valid = tree_model.predict_proba(features_valid)\n",
    "probabilities_one_valid = probabilities_valid[:, 1]\n",
    "roc_auc_score(target_valid, probabilities_one_valid)\n",
    "\n",
    "print(f'F1: {f1_score(target_valid, tree_predicted_valid)}')\n",
    "print(f'auc_roc: {roc_auc_score(target_valid, probabilities_one_valid)}')"
   ]
  },
  {
   "cell_type": "markdown",
   "metadata": {},
   "source": [
    "_Conclusion_: The f1 score decreased by 0.02. AUC-ROC remained unchanged."
   ]
  },
  {
   "cell_type": "markdown",
   "metadata": {},
   "source": [
    "Random forest."
   ]
  },
  {
   "cell_type": "code",
   "execution_count": 27,
   "metadata": {},
   "outputs": [
    {
     "name": "stdout",
     "output_type": "stream",
     "text": [
      "F1: 0.6157253599114064\n",
      "auc_roc: 0.8490448768744064\n"
     ]
    }
   ],
   "source": [
    "rand_forest_model = RandomForestClassifier(random_state=12345, n_estimators=50, max_depth=10)\n",
    "rand_forest_model.fit(features_upsampled, target_upsampled)\n",
    "rand_forest_predicted_valid = rand_forest_model.predict(features_valid)\n",
    "\n",
    "probabilities_valid = rand_forest_model.predict_proba(features_valid)\n",
    "probabilities_one_valid = probabilities_valid[:, 1]\n",
    "roc_auc_score(target_valid, probabilities_one_valid)\n",
    "\n",
    "print(f'F1: {f1_score(target_valid, rand_forest_predicted_valid)}')\n",
    "print(f'auc_roc: {roc_auc_score(target_valid, probabilities_one_valid)}')"
   ]
  },
  {
   "cell_type": "markdown",
   "metadata": {},
   "source": [
    "_Conclusion_: The f1 score and AUC-ROC metrics remained unchanged."
   ]
  },
  {
   "cell_type": "markdown",
   "metadata": {},
   "source": [
    "__Overall conclusion after balancing the data__: The model with the highest f1 score is the Random Forest with a value of 0.62 when using the upsampled dataset."
   ]
  },
  {
   "cell_type": "markdown",
   "metadata": {},
   "source": [
    "## Model Testing"
   ]
  },
  {
   "cell_type": "markdown",
   "metadata": {},
   "source": [
    "Let's test the Random Forest model on the test set."
   ]
  },
  {
   "cell_type": "code",
   "execution_count": 28,
   "metadata": {},
   "outputs": [
    {
     "name": "stdout",
     "output_type": "stream",
     "text": [
      "F1: 0.6132177681473456\n",
      "auc_roc: 0.8544532740892649\n",
      "precision: 0.566\n",
      "recall: 0.6690307328605201\n"
     ]
    }
   ],
   "source": [
    "rand_forest_model = RandomForestClassifier(random_state=12345, n_estimators=50, max_depth=10)\n",
    "rand_forest_model.fit(features_upsampled, target_upsampled)\n",
    "rand_forest_predicted_test = rand_forest_model.predict(features_test)\n",
    "\n",
    "probabilities_test = rand_forest_model.predict_proba(features_test)\n",
    "probabilities_one_test = probabilities_test[:, 1]\n",
    "roc_auc_score(target_test, probabilities_one_test)\n",
    "\n",
    "print(f'F1: {f1_score(target_test, rand_forest_predicted_test)}')\n",
    "print(f'auc_roc: {roc_auc_score(target_test, probabilities_one_test)}')\n",
    "\n",
    "print(f'precision: {precision_score(target_test, rand_forest_predicted_test)}')\n",
    "print(f'recall: {recall_score(target_test, rand_forest_predicted_test)}')"
   ]
  },
  {
   "cell_type": "markdown",
   "metadata": {},
   "source": [
    "Let's plot a graph of feature importance for clarity."
   ]
  },
  {
   "cell_type": "code",
   "execution_count": 29,
   "metadata": {},
   "outputs": [
    {
     "data": {
      "image/png": "[encoded data removed]",
      "text/plain": [
       "<Figure size 1000x600 with 1 Axes>"
      ]
     },
     "metadata": {},
     "output_type": "display_data"
    }
   ],
   "source": [
    "importances = rand_forest_model.feature_importances_\n",
    "feature_names = features_train.columns\n",
    "indices = np.argsort(importances)[::-1]\n",
    "\n",
    "plt.figure(figsize=(10, 6))\n",
    "plt.title(\"Feature importance\")\n",
    "plt.bar(range(features_train.shape[1]), importances[indices], align=\"center\")\n",
    "plt.xticks(range(features_train.shape[1]), [feature_names[i] for i in indices], rotation=90)\n",
    "plt.xlabel(\"Feature\")\n",
    "plt.ylabel(\"Importance\")\n",
    "plt.tight_layout()\n",
    "plt.show()"
   ]
  },
  {
   "cell_type": "markdown",
   "metadata": {},
   "source": [
    "_Conclusion_: The f1 score showed a good value of 0.613, which is higher than the specified 0.59. The AUC-ROC metric value is 0.854, which can be considered a good indicator. In the first case, the f1 score is higher than the specified threshold, and the AUC-ROC value is close to 1. This means that the trained model has good potential in predicting the likelihood of a customer discontinuing the use of the bank's services."
   ]
  },
  {
   "cell_type": "markdown",
   "metadata": {},
   "source": [
    "Let's plot the ROC curve for this model."
   ]
  },
  {
   "cell_type": "code",
   "execution_count": 30,
   "metadata": {
    "scrolled": true
   },
   "outputs": [
    {
     "data": {
      "image/png": "[encoded data removed]",
      "text/plain": [
       "<Figure size 640x480 with 1 Axes>"
      ]
     },
     "metadata": {},
     "output_type": "display_data"
    }
   ],
   "source": [
    "fpr, tpr, thresholds = roc_curve(target_test, probabilities_one_test)\n",
    "\n",
    "# Calculate the area under the AUC curve\n",
    "roc_auc = auc(fpr, tpr)\n",
    "\n",
    "# Plot the AUC-ROC curve\n",
    "plt.figure()\n",
    "plt.plot(fpr, tpr, color='darkorange', lw=2, label='ROC кривая (площадь = %0.2f)' % roc_auc)\n",
    "plt.plot([0, 1], [0, 1], color='navy', lw=2, linestyle='--')\n",
    "plt.xlim([0.0, 1.0])\n",
    "plt.ylim([0.0, 1.05])\n",
    "plt.xlabel('False Positive Rate')\n",
    "plt.ylabel('True Positive Rate')\n",
    "plt.title('ROC кривая')\n",
    "plt.legend(loc=\"lower right\")\n",
    "plt.show()"
   ]
  },
  {
   "cell_type": "markdown",
   "metadata": {},
   "source": [
    "__GENERAL CONCLUSION__: \n",
    "- During the data loading stage, some missing data were identified and subsequently removed for the sake of analysis cleanliness.\n",
    "- The data was then split into three sets - training, validation, and test sets, in the proportions of 60%, 20%, and 20%, respectively.\n",
    "- Three models were used for training - logistic regression, decision tree, and random forest.\n",
    "- During the data exploration stage, an imbalance was also identified in the target column 'Exited'.\n",
    "\n",
    "__As a result of the study, it was determined that the best model for predicting the churn of existing customers is the random forest with the following hyperparameters - 50 trees, depth of 10, trained on upsampled data. It can be assumed that the model performs well in classification and has a high chance of predicting a successful outcome.__"
   ]
  },
  {
   "cell_type": "code",
   "execution_count": null,
   "metadata": {},
   "outputs": [],
   "source": []
  }
 ],
 "metadata": {
  "ExecuteTimeLog": [
   {
    "duration": 435,
    "start_time": "2023-08-29T09:58:37.847Z"
   },
   {
    "duration": 187,
    "start_time": "2023-08-29T09:59:23.231Z"
   },
   {
    "duration": 78,
    "start_time": "2023-08-29T12:44:29.508Z"
   },
   {
    "duration": 114,
    "start_time": "2023-08-29T12:45:10.340Z"
   },
   {
    "duration": 131,
    "start_time": "2023-08-29T12:47:20.430Z"
   },
   {
    "duration": 10,
    "start_time": "2023-08-29T12:48:43.812Z"
   },
   {
    "duration": 9,
    "start_time": "2023-08-29T12:49:34.170Z"
   },
   {
    "duration": 11,
    "start_time": "2023-08-29T12:49:47.268Z"
   },
   {
    "duration": 6,
    "start_time": "2023-08-29T12:49:55.379Z"
   },
   {
    "duration": 8,
    "start_time": "2023-08-29T12:50:15.540Z"
   },
   {
    "duration": 15,
    "start_time": "2023-08-29T12:51:02.610Z"
   },
   {
    "duration": 70,
    "start_time": "2023-08-29T12:52:00.970Z"
   },
   {
    "duration": 9,
    "start_time": "2023-08-29T12:52:05.903Z"
   },
   {
    "duration": 6,
    "start_time": "2023-08-29T12:57:53.499Z"
   },
   {
    "duration": 5,
    "start_time": "2023-08-29T12:59:11.215Z"
   },
   {
    "duration": 5,
    "start_time": "2023-08-29T12:59:15.478Z"
   },
   {
    "duration": 13,
    "start_time": "2023-08-29T12:59:36.111Z"
   },
   {
    "duration": 7,
    "start_time": "2023-08-29T13:06:40.723Z"
   },
   {
    "duration": 110,
    "start_time": "2023-08-29T13:32:05.059Z"
   },
   {
    "duration": 6,
    "start_time": "2023-08-29T13:36:22.678Z"
   },
   {
    "duration": 1241,
    "start_time": "2023-08-29T13:39:58.780Z"
   },
   {
    "duration": 144,
    "start_time": "2023-08-29T13:40:29.358Z"
   },
   {
    "duration": 119,
    "start_time": "2023-08-29T13:41:24.764Z"
   },
   {
    "duration": 7,
    "start_time": "2023-08-29T13:46:52.840Z"
   },
   {
    "duration": 9,
    "start_time": "2023-08-29T13:48:10.218Z"
   },
   {
    "duration": 55,
    "start_time": "2023-08-29T13:49:04.174Z"
   },
   {
    "duration": 11,
    "start_time": "2023-08-29T13:51:35.320Z"
   },
   {
    "duration": 10,
    "start_time": "2023-08-29T14:06:07.870Z"
   },
   {
    "duration": 26,
    "start_time": "2023-08-29T14:06:18.083Z"
   },
   {
    "duration": 21,
    "start_time": "2023-08-29T14:28:28.654Z"
   },
   {
    "duration": 1441,
    "start_time": "2023-08-29T14:29:15.179Z"
   },
   {
    "duration": 110,
    "start_time": "2023-08-29T14:29:16.622Z"
   },
   {
    "duration": 34,
    "start_time": "2023-08-29T14:29:16.733Z"
   },
   {
    "duration": 10,
    "start_time": "2023-08-29T14:29:16.769Z"
   },
   {
    "duration": 14,
    "start_time": "2023-08-29T14:29:16.781Z"
   },
   {
    "duration": 199,
    "start_time": "2023-08-29T14:29:16.797Z"
   },
   {
    "duration": 13,
    "start_time": "2023-08-29T14:29:16.998Z"
   },
   {
    "duration": 167,
    "start_time": "2023-08-29T14:29:17.012Z"
   },
   {
    "duration": 12,
    "start_time": "2023-08-29T14:32:05.961Z"
   },
   {
    "duration": 4,
    "start_time": "2023-08-29T14:32:19.844Z"
   },
   {
    "duration": 20,
    "start_time": "2023-08-29T14:32:24.974Z"
   },
   {
    "duration": 12,
    "start_time": "2023-08-29T14:36:30.463Z"
   },
   {
    "duration": 1492,
    "start_time": "2023-08-29T14:36:41.820Z"
   },
   {
    "duration": 119,
    "start_time": "2023-08-29T14:36:43.314Z"
   },
   {
    "duration": 31,
    "start_time": "2023-08-29T14:36:43.435Z"
   },
   {
    "duration": 8,
    "start_time": "2023-08-29T14:36:43.468Z"
   },
   {
    "duration": 8,
    "start_time": "2023-08-29T14:36:43.478Z"
   },
   {
    "duration": 172,
    "start_time": "2023-08-29T14:36:43.487Z"
   },
   {
    "duration": 10,
    "start_time": "2023-08-29T14:36:43.661Z"
   },
   {
    "duration": 143,
    "start_time": "2023-08-29T14:36:43.673Z"
   },
   {
    "duration": 0,
    "start_time": "2023-08-29T14:36:43.818Z"
   },
   {
    "duration": 16,
    "start_time": "2023-08-29T14:36:49.105Z"
   },
   {
    "duration": 3,
    "start_time": "2023-08-29T14:37:57.302Z"
   },
   {
    "duration": 106,
    "start_time": "2023-08-29T14:37:59.958Z"
   },
   {
    "duration": 18,
    "start_time": "2023-08-29T14:38:01.993Z"
   },
   {
    "duration": 8,
    "start_time": "2023-08-29T14:38:04.209Z"
   },
   {
    "duration": 6,
    "start_time": "2023-08-29T14:38:07.067Z"
   },
   {
    "duration": 138,
    "start_time": "2023-08-29T14:38:08.328Z"
   },
   {
    "duration": 9,
    "start_time": "2023-08-29T14:38:14.031Z"
   },
   {
    "duration": 29,
    "start_time": "2023-08-29T14:38:19.442Z"
   },
   {
    "duration": 22,
    "start_time": "2023-08-29T14:38:25.180Z"
   },
   {
    "duration": 12,
    "start_time": "2023-08-29T14:38:41.842Z"
   },
   {
    "duration": 11,
    "start_time": "2023-08-29T14:39:06.727Z"
   },
   {
    "duration": 9,
    "start_time": "2023-08-29T14:39:13.443Z"
   },
   {
    "duration": 20,
    "start_time": "2023-08-29T14:39:14.737Z"
   },
   {
    "duration": 12,
    "start_time": "2023-08-29T14:39:19.675Z"
   },
   {
    "duration": 1585,
    "start_time": "2023-08-29T14:39:48.058Z"
   },
   {
    "duration": 0,
    "start_time": "2023-08-29T14:39:49.646Z"
   },
   {
    "duration": 0,
    "start_time": "2023-08-29T14:39:49.648Z"
   },
   {
    "duration": 0,
    "start_time": "2023-08-29T14:39:49.656Z"
   },
   {
    "duration": 0,
    "start_time": "2023-08-29T14:39:49.658Z"
   },
   {
    "duration": 0,
    "start_time": "2023-08-29T14:39:49.659Z"
   },
   {
    "duration": 0,
    "start_time": "2023-08-29T14:39:49.660Z"
   },
   {
    "duration": 0,
    "start_time": "2023-08-29T14:39:49.661Z"
   },
   {
    "duration": 0,
    "start_time": "2023-08-29T14:39:49.662Z"
   },
   {
    "duration": 19,
    "start_time": "2023-08-29T14:40:49.916Z"
   },
   {
    "duration": 3,
    "start_time": "2023-08-29T14:40:55.876Z"
   },
   {
    "duration": 110,
    "start_time": "2023-08-29T14:40:57.630Z"
   },
   {
    "duration": 19,
    "start_time": "2023-08-29T14:40:59.149Z"
   },
   {
    "duration": 8,
    "start_time": "2023-08-29T14:41:00.095Z"
   },
   {
    "duration": 8,
    "start_time": "2023-08-29T14:41:00.816Z"
   },
   {
    "duration": 136,
    "start_time": "2023-08-29T14:41:01.298Z"
   },
   {
    "duration": 11,
    "start_time": "2023-08-29T14:41:02.818Z"
   },
   {
    "duration": 26,
    "start_time": "2023-08-29T14:41:08.464Z"
   },
   {
    "duration": 23,
    "start_time": "2023-08-29T14:41:16.913Z"
   },
   {
    "duration": 4,
    "start_time": "2023-08-29T14:46:10.935Z"
   },
   {
    "duration": 21,
    "start_time": "2023-08-29T14:46:44.922Z"
   },
   {
    "duration": 21,
    "start_time": "2023-08-29T14:50:30.093Z"
   },
   {
    "duration": 103,
    "start_time": "2023-08-29T14:50:39.493Z"
   },
   {
    "duration": 19,
    "start_time": "2023-08-29T14:50:43.830Z"
   },
   {
    "duration": 7,
    "start_time": "2023-08-29T14:53:07.078Z"
   },
   {
    "duration": 7,
    "start_time": "2023-08-29T14:53:36.885Z"
   },
   {
    "duration": 4,
    "start_time": "2023-08-29T14:54:49.870Z"
   },
   {
    "duration": 4,
    "start_time": "2023-08-29T15:32:31.384Z"
   },
   {
    "duration": 4,
    "start_time": "2023-08-29T15:33:46.614Z"
   },
   {
    "duration": 3,
    "start_time": "2023-08-29T15:34:28.186Z"
   },
   {
    "duration": 10,
    "start_time": "2023-08-29T15:37:06.710Z"
   },
   {
    "duration": 3,
    "start_time": "2023-08-29T15:37:11.142Z"
   },
   {
    "duration": 9,
    "start_time": "2023-08-29T15:37:13.494Z"
   },
   {
    "duration": 1094,
    "start_time": "2023-08-29T15:37:25.947Z"
   },
   {
    "duration": 15,
    "start_time": "2023-08-29T15:37:41.123Z"
   },
   {
    "duration": 66,
    "start_time": "2023-08-29T15:37:53.465Z"
   },
   {
    "duration": 21,
    "start_time": "2023-08-29T15:37:58.809Z"
   },
   {
    "duration": 1159,
    "start_time": "2023-08-29T15:38:33.156Z"
   },
   {
    "duration": 1052,
    "start_time": "2023-08-29T15:38:58.862Z"
   },
   {
    "duration": 4,
    "start_time": "2023-08-29T15:40:01.286Z"
   },
   {
    "duration": 8,
    "start_time": "2023-08-29T15:40:08.568Z"
   },
   {
    "duration": 11,
    "start_time": "2023-08-29T15:42:14.153Z"
   },
   {
    "duration": 4,
    "start_time": "2023-08-29T15:42:19.035Z"
   },
   {
    "duration": 10,
    "start_time": "2023-08-29T15:42:21.590Z"
   },
   {
    "duration": 1467,
    "start_time": "2023-08-29T15:42:38.789Z"
   },
   {
    "duration": 117,
    "start_time": "2023-08-29T15:42:40.258Z"
   },
   {
    "duration": 28,
    "start_time": "2023-08-29T15:42:40.377Z"
   },
   {
    "duration": 3,
    "start_time": "2023-08-29T15:42:40.407Z"
   },
   {
    "duration": 125,
    "start_time": "2023-08-29T15:42:40.412Z"
   },
   {
    "duration": 0,
    "start_time": "2023-08-29T15:42:40.539Z"
   },
   {
    "duration": 0,
    "start_time": "2023-08-29T15:42:40.540Z"
   },
   {
    "duration": 0,
    "start_time": "2023-08-29T15:42:40.541Z"
   },
   {
    "duration": 0,
    "start_time": "2023-08-29T15:42:40.542Z"
   },
   {
    "duration": 0,
    "start_time": "2023-08-29T15:42:40.543Z"
   },
   {
    "duration": 0,
    "start_time": "2023-08-29T15:42:40.556Z"
   },
   {
    "duration": 10,
    "start_time": "2023-08-29T15:43:25.192Z"
   },
   {
    "duration": 3,
    "start_time": "2023-08-29T15:43:43.659Z"
   },
   {
    "duration": 12,
    "start_time": "2023-08-29T15:43:44.795Z"
   },
   {
    "duration": 27,
    "start_time": "2023-08-29T15:44:01.907Z"
   },
   {
    "duration": 35,
    "start_time": "2023-08-29T15:49:33.437Z"
   },
   {
    "duration": 9,
    "start_time": "2023-08-29T15:50:27.772Z"
   },
   {
    "duration": 8,
    "start_time": "2023-08-29T15:50:35.549Z"
   },
   {
    "duration": 4,
    "start_time": "2023-08-29T15:56:07.618Z"
   },
   {
    "duration": 8,
    "start_time": "2023-08-29T15:58:15.127Z"
   },
   {
    "duration": 38,
    "start_time": "2023-08-29T15:58:27.289Z"
   },
   {
    "duration": 14,
    "start_time": "2023-08-29T17:32:22.709Z"
   },
   {
    "duration": 30,
    "start_time": "2023-08-29T17:34:48.810Z"
   },
   {
    "duration": 68,
    "start_time": "2023-08-29T17:35:19.643Z"
   },
   {
    "duration": 10,
    "start_time": "2023-08-29T17:36:21.821Z"
   },
   {
    "duration": 47,
    "start_time": "2023-08-29T17:37:02.093Z"
   },
   {
    "duration": 4,
    "start_time": "2023-08-29T17:37:05.798Z"
   },
   {
    "duration": 1579,
    "start_time": "2023-08-29T17:37:11.673Z"
   },
   {
    "duration": 135,
    "start_time": "2023-08-29T17:37:13.254Z"
   },
   {
    "duration": 31,
    "start_time": "2023-08-29T17:37:13.391Z"
   },
   {
    "duration": 5,
    "start_time": "2023-08-29T17:37:13.424Z"
   },
   {
    "duration": 46,
    "start_time": "2023-08-29T17:37:13.458Z"
   },
   {
    "duration": 30,
    "start_time": "2023-08-29T17:37:13.507Z"
   },
   {
    "duration": 6,
    "start_time": "2023-08-29T17:37:13.556Z"
   },
   {
    "duration": 63,
    "start_time": "2023-08-29T17:37:13.565Z"
   },
   {
    "duration": 33,
    "start_time": "2023-08-29T17:37:13.630Z"
   },
   {
    "duration": 9,
    "start_time": "2023-08-29T17:37:13.665Z"
   },
   {
    "duration": 162,
    "start_time": "2023-08-29T17:37:13.676Z"
   },
   {
    "duration": 19,
    "start_time": "2023-08-29T17:37:13.840Z"
   },
   {
    "duration": 158,
    "start_time": "2023-08-29T17:37:13.861Z"
   },
   {
    "duration": 0,
    "start_time": "2023-08-29T17:37:14.021Z"
   },
   {
    "duration": 52,
    "start_time": "2023-08-29T17:38:07.069Z"
   },
   {
    "duration": 30,
    "start_time": "2023-08-29T17:38:11.634Z"
   },
   {
    "duration": 25,
    "start_time": "2023-08-29T17:40:24.105Z"
   },
   {
    "duration": 15,
    "start_time": "2023-08-29T17:40:36.638Z"
   },
   {
    "duration": 113,
    "start_time": "2023-08-29T17:40:41.014Z"
   },
   {
    "duration": 27,
    "start_time": "2023-08-29T17:40:44.246Z"
   },
   {
    "duration": 45,
    "start_time": "2023-08-29T17:43:01.606Z"
   },
   {
    "duration": 26,
    "start_time": "2023-08-29T17:43:11.070Z"
   },
   {
    "duration": 46,
    "start_time": "2023-08-29T17:43:13.870Z"
   },
   {
    "duration": 25,
    "start_time": "2023-08-29T17:43:37.482Z"
   },
   {
    "duration": 4,
    "start_time": "2023-08-29T17:44:01.683Z"
   },
   {
    "duration": 132,
    "start_time": "2023-08-29T17:44:02.144Z"
   },
   {
    "duration": 20,
    "start_time": "2023-08-29T17:44:04.484Z"
   },
   {
    "duration": 3,
    "start_time": "2023-08-29T17:44:06.890Z"
   },
   {
    "duration": 45,
    "start_time": "2023-08-29T17:44:08.880Z"
   },
   {
    "duration": 34,
    "start_time": "2023-08-29T17:44:14.577Z"
   },
   {
    "duration": 35,
    "start_time": "2023-08-29T17:44:29.729Z"
   },
   {
    "duration": 40,
    "start_time": "2023-08-29T17:45:49.281Z"
   },
   {
    "duration": 1494,
    "start_time": "2023-08-29T17:46:06.420Z"
   },
   {
    "duration": 119,
    "start_time": "2023-08-29T17:46:07.916Z"
   },
   {
    "duration": 41,
    "start_time": "2023-08-29T17:46:08.038Z"
   },
   {
    "duration": 4,
    "start_time": "2023-08-29T17:46:08.083Z"
   },
   {
    "duration": 75,
    "start_time": "2023-08-29T17:46:08.090Z"
   },
   {
    "duration": 24,
    "start_time": "2023-08-29T17:46:08.167Z"
   },
   {
    "duration": 4,
    "start_time": "2023-08-29T17:46:08.193Z"
   },
   {
    "duration": 72,
    "start_time": "2023-08-29T17:46:08.199Z"
   },
   {
    "duration": 11,
    "start_time": "2023-08-29T17:46:08.274Z"
   },
   {
    "duration": 6,
    "start_time": "2023-08-29T17:46:08.287Z"
   },
   {
    "duration": 165,
    "start_time": "2023-08-29T17:46:08.295Z"
   },
   {
    "duration": 8,
    "start_time": "2023-08-29T17:46:08.462Z"
   },
   {
    "duration": 138,
    "start_time": "2023-08-29T17:46:08.472Z"
   },
   {
    "duration": 0,
    "start_time": "2023-08-29T17:46:08.612Z"
   },
   {
    "duration": 5,
    "start_time": "2023-08-29T17:48:11.514Z"
   },
   {
    "duration": 69,
    "start_time": "2023-08-29T17:48:20.071Z"
   },
   {
    "duration": 53,
    "start_time": "2023-08-29T17:51:49.885Z"
   },
   {
    "duration": 44,
    "start_time": "2023-08-29T17:53:41.592Z"
   },
   {
    "duration": 38,
    "start_time": "2023-08-29T17:54:48.852Z"
   },
   {
    "duration": 20,
    "start_time": "2023-08-29T17:55:51.319Z"
   },
   {
    "duration": 21,
    "start_time": "2023-08-29T17:56:38.298Z"
   },
   {
    "duration": 19,
    "start_time": "2023-08-29T17:56:46.826Z"
   },
   {
    "duration": 23,
    "start_time": "2023-08-29T17:56:59.404Z"
   },
   {
    "duration": 22,
    "start_time": "2023-08-29T17:59:44.713Z"
   },
   {
    "duration": 8,
    "start_time": "2023-08-29T18:00:15.616Z"
   },
   {
    "duration": 16,
    "start_time": "2023-08-29T18:00:49.728Z"
   },
   {
    "duration": 1438,
    "start_time": "2023-08-29T18:01:04.985Z"
   },
   {
    "duration": 109,
    "start_time": "2023-08-29T18:01:06.425Z"
   },
   {
    "duration": 29,
    "start_time": "2023-08-29T18:01:06.536Z"
   },
   {
    "duration": 3,
    "start_time": "2023-08-29T18:01:06.566Z"
   },
   {
    "duration": 22,
    "start_time": "2023-08-29T18:01:06.571Z"
   },
   {
    "duration": 17,
    "start_time": "2023-08-29T18:01:06.595Z"
   },
   {
    "duration": 55,
    "start_time": "2023-08-29T18:01:06.614Z"
   },
   {
    "duration": 124,
    "start_time": "2023-08-29T18:01:06.671Z"
   },
   {
    "duration": 0,
    "start_time": "2023-08-29T18:01:06.798Z"
   },
   {
    "duration": 0,
    "start_time": "2023-08-29T18:01:06.799Z"
   },
   {
    "duration": 0,
    "start_time": "2023-08-29T18:01:06.803Z"
   },
   {
    "duration": 0,
    "start_time": "2023-08-29T18:01:06.804Z"
   },
   {
    "duration": 0,
    "start_time": "2023-08-29T18:01:06.806Z"
   },
   {
    "duration": 23,
    "start_time": "2023-08-29T18:01:17.132Z"
   },
   {
    "duration": 30,
    "start_time": "2023-08-29T18:02:02.145Z"
   },
   {
    "duration": 26,
    "start_time": "2023-08-29T18:02:14.686Z"
   },
   {
    "duration": 5,
    "start_time": "2023-08-29T18:02:32.812Z"
   },
   {
    "duration": 7,
    "start_time": "2023-08-29T18:02:49.001Z"
   },
   {
    "duration": 132,
    "start_time": "2023-08-29T18:02:57.642Z"
   },
   {
    "duration": 9,
    "start_time": "2023-08-29T18:04:06.480Z"
   },
   {
    "duration": 19,
    "start_time": "2023-08-29T18:07:02.660Z"
   },
   {
    "duration": 1373,
    "start_time": "2023-08-29T18:07:23.910Z"
   },
   {
    "duration": 111,
    "start_time": "2023-08-29T18:07:25.285Z"
   },
   {
    "duration": 19,
    "start_time": "2023-08-29T18:07:25.398Z"
   },
   {
    "duration": 12,
    "start_time": "2023-08-29T18:07:25.418Z"
   },
   {
    "duration": 45,
    "start_time": "2023-08-29T18:07:25.432Z"
   },
   {
    "duration": 22,
    "start_time": "2023-08-29T18:07:25.479Z"
   },
   {
    "duration": 22,
    "start_time": "2023-08-29T18:07:25.503Z"
   },
   {
    "duration": 52,
    "start_time": "2023-08-29T18:07:25.527Z"
   },
   {
    "duration": 5,
    "start_time": "2023-08-29T18:07:25.581Z"
   },
   {
    "duration": 141,
    "start_time": "2023-08-29T18:07:25.588Z"
   },
   {
    "duration": 7,
    "start_time": "2023-08-29T18:07:25.731Z"
   },
   {
    "duration": 127,
    "start_time": "2023-08-29T18:07:25.740Z"
   },
   {
    "duration": 0,
    "start_time": "2023-08-29T18:07:25.869Z"
   },
   {
    "duration": 23,
    "start_time": "2023-08-29T18:08:36.258Z"
   },
   {
    "duration": 19,
    "start_time": "2023-08-29T18:08:55.205Z"
   },
   {
    "duration": 23,
    "start_time": "2023-08-29T18:08:59.233Z"
   },
   {
    "duration": 34,
    "start_time": "2023-08-29T18:09:06.839Z"
   },
   {
    "duration": 7,
    "start_time": "2023-08-29T18:09:11.112Z"
   },
   {
    "duration": 153,
    "start_time": "2023-08-29T18:09:13.141Z"
   },
   {
    "duration": 10,
    "start_time": "2023-08-29T18:09:16.423Z"
   },
   {
    "duration": 36,
    "start_time": "2023-08-29T18:09:19.989Z"
   },
   {
    "duration": 33,
    "start_time": "2023-08-29T18:10:33.418Z"
   },
   {
    "duration": 20,
    "start_time": "2023-08-29T18:10:39.234Z"
   },
   {
    "duration": 20,
    "start_time": "2023-08-29T18:10:46.964Z"
   },
   {
    "duration": 26,
    "start_time": "2023-08-29T18:10:50.473Z"
   },
   {
    "duration": 72,
    "start_time": "2023-08-29T18:10:55.884Z"
   },
   {
    "duration": 39,
    "start_time": "2023-08-29T18:11:05.728Z"
   },
   {
    "duration": 31,
    "start_time": "2023-08-29T18:11:10.871Z"
   },
   {
    "duration": 195,
    "start_time": "2023-08-29T18:11:14.695Z"
   },
   {
    "duration": 41412,
    "start_time": "2023-08-29T18:12:51.199Z"
   },
   {
    "duration": 26,
    "start_time": "2023-08-29T18:27:02.588Z"
   },
   {
    "duration": 3,
    "start_time": "2023-08-29T18:27:44.100Z"
   },
   {
    "duration": 24,
    "start_time": "2023-08-29T18:27:53.595Z"
   },
   {
    "duration": 33,
    "start_time": "2023-08-29T18:28:45.110Z"
   },
   {
    "duration": 11,
    "start_time": "2023-08-29T18:32:34.887Z"
   },
   {
    "duration": 22,
    "start_time": "2023-08-29T18:32:41.440Z"
   },
   {
    "duration": 32,
    "start_time": "2023-08-29T18:35:03.643Z"
   },
   {
    "duration": 50,
    "start_time": "2023-08-29T18:35:14.308Z"
   },
   {
    "duration": 28,
    "start_time": "2023-08-29T18:35:51.929Z"
   },
   {
    "duration": 89,
    "start_time": "2023-08-29T18:36:05.971Z"
   },
   {
    "duration": 190,
    "start_time": "2023-08-29T18:36:26.068Z"
   },
   {
    "duration": 122,
    "start_time": "2023-08-29T18:36:41.035Z"
   },
   {
    "duration": 190,
    "start_time": "2023-08-29T18:40:01.772Z"
   },
   {
    "duration": 191,
    "start_time": "2023-08-29T18:40:09.065Z"
   },
   {
    "duration": 29,
    "start_time": "2023-08-29T18:41:22.554Z"
   },
   {
    "duration": 30,
    "start_time": "2023-08-29T18:48:34.318Z"
   },
   {
    "duration": 39974,
    "start_time": "2023-08-29T18:51:42.373Z"
   },
   {
    "duration": 466,
    "start_time": "2023-08-29T18:53:19.193Z"
   },
   {
    "duration": 60,
    "start_time": "2023-08-29T18:53:58.196Z"
   },
   {
    "duration": 28,
    "start_time": "2023-08-29T18:54:13.981Z"
   },
   {
    "duration": 475,
    "start_time": "2023-08-29T18:54:21.811Z"
   },
   {
    "duration": 33,
    "start_time": "2023-08-29T19:04:59.629Z"
   },
   {
    "duration": 31,
    "start_time": "2023-08-29T19:08:47.518Z"
   },
   {
    "duration": 84,
    "start_time": "2023-08-29T19:10:35.273Z"
   },
   {
    "duration": 32,
    "start_time": "2023-08-29T19:10:52.114Z"
   },
   {
    "duration": 488,
    "start_time": "2023-08-29T19:11:17.168Z"
   },
   {
    "duration": 493,
    "start_time": "2023-08-29T19:11:37.305Z"
   },
   {
    "duration": 94,
    "start_time": "2023-08-29T19:12:13.566Z"
   },
   {
    "duration": 30,
    "start_time": "2023-08-29T19:12:42.559Z"
   },
   {
    "duration": 510,
    "start_time": "2023-08-29T19:14:34.924Z"
   },
   {
    "duration": 4,
    "start_time": "2023-08-29T19:26:09.993Z"
   },
   {
    "duration": 3,
    "start_time": "2023-08-29T19:26:40.099Z"
   },
   {
    "duration": 4,
    "start_time": "2023-08-29T19:29:17.623Z"
   },
   {
    "duration": 16,
    "start_time": "2023-08-29T19:29:55.626Z"
   },
   {
    "duration": 4,
    "start_time": "2023-08-29T19:30:18.543Z"
   },
   {
    "duration": 1371,
    "start_time": "2023-08-29T19:30:23.630Z"
   },
   {
    "duration": 103,
    "start_time": "2023-08-29T19:30:25.003Z"
   },
   {
    "duration": 18,
    "start_time": "2023-08-29T19:30:25.108Z"
   },
   {
    "duration": 3,
    "start_time": "2023-08-29T19:30:25.128Z"
   },
   {
    "duration": 20,
    "start_time": "2023-08-29T19:30:25.157Z"
   },
   {
    "duration": 16,
    "start_time": "2023-08-29T19:30:25.179Z"
   },
   {
    "duration": 14,
    "start_time": "2023-08-29T19:30:25.197Z"
   },
   {
    "duration": 47,
    "start_time": "2023-08-29T19:30:25.213Z"
   },
   {
    "duration": 5,
    "start_time": "2023-08-29T19:30:25.261Z"
   },
   {
    "duration": 132,
    "start_time": "2023-08-29T19:30:25.269Z"
   },
   {
    "duration": 7,
    "start_time": "2023-08-29T19:30:25.403Z"
   },
   {
    "duration": 54,
    "start_time": "2023-08-29T19:30:25.412Z"
   },
   {
    "duration": 265,
    "start_time": "2023-08-29T19:30:25.557Z"
   },
   {
    "duration": 35,
    "start_time": "2023-08-29T19:30:25.824Z"
   },
   {
    "duration": 39649,
    "start_time": "2023-08-29T19:30:25.861Z"
   },
   {
    "duration": 477,
    "start_time": "2023-08-29T19:31:05.512Z"
   },
   {
    "duration": 167,
    "start_time": "2023-08-29T19:31:05.990Z"
   },
   {
    "duration": 30,
    "start_time": "2023-08-29T19:31:06.159Z"
   },
   {
    "duration": 495,
    "start_time": "2023-08-29T19:31:06.191Z"
   },
   {
    "duration": 4,
    "start_time": "2023-08-29T19:31:06.688Z"
   },
   {
    "duration": 6,
    "start_time": "2023-08-29T19:31:06.693Z"
   },
   {
    "duration": 18,
    "start_time": "2023-08-29T19:31:06.700Z"
   },
   {
    "duration": 31,
    "start_time": "2023-08-29T19:31:06.720Z"
   },
   {
    "duration": 73,
    "start_time": "2023-08-29T19:33:36.084Z"
   },
   {
    "duration": 34,
    "start_time": "2023-08-29T19:36:15.792Z"
   },
   {
    "duration": 634,
    "start_time": "2023-08-29T19:36:37.370Z"
   },
   {
    "duration": 3,
    "start_time": "2023-08-29T19:39:05.691Z"
   },
   {
    "duration": 4,
    "start_time": "2023-08-29T19:39:07.053Z"
   },
   {
    "duration": 10,
    "start_time": "2023-08-29T19:39:08.965Z"
   },
   {
    "duration": 88,
    "start_time": "2023-08-29T19:39:11.069Z"
   },
   {
    "duration": 33,
    "start_time": "2023-08-29T19:39:34.650Z"
   },
   {
    "duration": 725,
    "start_time": "2023-08-29T19:39:38.766Z"
   },
   {
    "duration": 627,
    "start_time": "2023-08-29T19:40:26.232Z"
   },
   {
    "duration": 1379,
    "start_time": "2023-08-29T19:40:33.832Z"
   },
   {
    "duration": 106,
    "start_time": "2023-08-29T19:40:35.213Z"
   },
   {
    "duration": 17,
    "start_time": "2023-08-29T19:40:35.321Z"
   },
   {
    "duration": 3,
    "start_time": "2023-08-29T19:40:35.357Z"
   },
   {
    "duration": 24,
    "start_time": "2023-08-29T19:40:35.361Z"
   },
   {
    "duration": 16,
    "start_time": "2023-08-29T19:40:35.387Z"
   },
   {
    "duration": 13,
    "start_time": "2023-08-29T19:40:35.404Z"
   },
   {
    "duration": 45,
    "start_time": "2023-08-29T19:40:35.419Z"
   },
   {
    "duration": 5,
    "start_time": "2023-08-29T19:40:35.466Z"
   },
   {
    "duration": 132,
    "start_time": "2023-08-29T19:40:35.473Z"
   },
   {
    "duration": 7,
    "start_time": "2023-08-29T19:40:35.606Z"
   },
   {
    "duration": 49,
    "start_time": "2023-08-29T19:40:35.615Z"
   },
   {
    "duration": 355,
    "start_time": "2023-08-29T19:40:35.665Z"
   },
   {
    "duration": 34,
    "start_time": "2023-08-29T19:40:36.022Z"
   },
   {
    "duration": 39421,
    "start_time": "2023-08-29T19:40:36.058Z"
   },
   {
    "duration": 465,
    "start_time": "2023-08-29T19:41:15.481Z"
   },
   {
    "duration": 108,
    "start_time": "2023-08-29T19:41:15.948Z"
   },
   {
    "duration": 122,
    "start_time": "2023-08-29T19:41:16.061Z"
   },
   {
    "duration": 518,
    "start_time": "2023-08-29T19:41:16.185Z"
   },
   {
    "duration": 3,
    "start_time": "2023-08-29T19:41:16.705Z"
   },
   {
    "duration": 8,
    "start_time": "2023-08-29T19:41:16.710Z"
   },
   {
    "duration": 6,
    "start_time": "2023-08-29T19:41:16.719Z"
   },
   {
    "duration": 11,
    "start_time": "2023-08-29T19:41:16.727Z"
   },
   {
    "duration": 119,
    "start_time": "2023-08-29T19:41:16.739Z"
   },
   {
    "duration": 127,
    "start_time": "2023-08-29T19:41:16.859Z"
   },
   {
    "duration": 639,
    "start_time": "2023-08-29T19:41:16.988Z"
   },
   {
    "duration": 310,
    "start_time": "2023-08-29T19:43:46.811Z"
   },
   {
    "duration": 32,
    "start_time": "2023-08-29T19:44:41.340Z"
   },
   {
    "duration": 10,
    "start_time": "2023-08-29T19:51:57.849Z"
   },
   {
    "duration": 1398,
    "start_time": "2023-08-29T19:53:13.179Z"
   },
   {
    "duration": 110,
    "start_time": "2023-08-29T19:53:14.580Z"
   },
   {
    "duration": 17,
    "start_time": "2023-08-29T19:53:14.692Z"
   },
   {
    "duration": 3,
    "start_time": "2023-08-29T19:53:14.711Z"
   },
   {
    "duration": 48,
    "start_time": "2023-08-29T19:53:14.716Z"
   },
   {
    "duration": 17,
    "start_time": "2023-08-29T19:53:14.766Z"
   },
   {
    "duration": 19,
    "start_time": "2023-08-29T19:53:14.784Z"
   },
   {
    "duration": 54,
    "start_time": "2023-08-29T19:53:14.804Z"
   },
   {
    "duration": 7,
    "start_time": "2023-08-29T19:53:14.860Z"
   },
   {
    "duration": 161,
    "start_time": "2023-08-29T19:53:14.870Z"
   },
   {
    "duration": 10,
    "start_time": "2023-08-29T19:53:15.032Z"
   },
   {
    "duration": 114,
    "start_time": "2023-08-29T19:53:15.043Z"
   },
   {
    "duration": 242,
    "start_time": "2023-08-29T19:53:15.159Z"
   },
   {
    "duration": 26,
    "start_time": "2023-08-29T19:53:15.403Z"
   },
   {
    "duration": 35101,
    "start_time": "2023-08-29T19:53:15.430Z"
   },
   {
    "duration": 424,
    "start_time": "2023-08-29T19:53:50.533Z"
   },
   {
    "duration": 198,
    "start_time": "2023-08-29T19:53:50.959Z"
   },
   {
    "duration": 28,
    "start_time": "2023-08-29T19:53:51.159Z"
   },
   {
    "duration": 415,
    "start_time": "2023-08-29T19:53:51.188Z"
   },
   {
    "duration": 4,
    "start_time": "2023-08-29T19:53:51.605Z"
   },
   {
    "duration": 5,
    "start_time": "2023-08-29T19:53:51.611Z"
   },
   {
    "duration": 8,
    "start_time": "2023-08-29T19:53:51.618Z"
   },
   {
    "duration": 12,
    "start_time": "2023-08-29T19:53:51.627Z"
   },
   {
    "duration": 116,
    "start_time": "2023-08-29T19:53:51.641Z"
   },
   {
    "duration": 116,
    "start_time": "2023-08-29T19:53:51.760Z"
   },
   {
    "duration": 554,
    "start_time": "2023-08-29T19:53:51.878Z"
   },
   {
    "duration": 160,
    "start_time": "2023-08-29T20:01:07.399Z"
   },
   {
    "duration": 400,
    "start_time": "2023-08-29T20:02:57.203Z"
   },
   {
    "duration": 10,
    "start_time": "2023-08-29T20:05:21.856Z"
   },
   {
    "duration": 395,
    "start_time": "2023-08-29T20:06:57.134Z"
   },
   {
    "duration": 398,
    "start_time": "2023-08-29T20:07:25.653Z"
   },
   {
    "duration": 14,
    "start_time": "2023-08-29T20:14:21.302Z"
   },
   {
    "duration": 4,
    "start_time": "2023-08-29T20:15:00.588Z"
   },
   {
    "duration": 126,
    "start_time": "2023-08-29T20:15:05.718Z"
   },
   {
    "duration": 120,
    "start_time": "2023-08-29T20:15:56.591Z"
   },
   {
    "duration": 203,
    "start_time": "2023-08-29T20:16:25.066Z"
   },
   {
    "duration": 123,
    "start_time": "2023-08-29T20:16:33.368Z"
   },
   {
    "duration": 443,
    "start_time": "2023-08-29T20:31:25.464Z"
   },
   {
    "duration": 443,
    "start_time": "2023-08-29T20:32:25.132Z"
   },
   {
    "duration": 589,
    "start_time": "2023-08-29T20:33:07.585Z"
   },
   {
    "duration": 451,
    "start_time": "2023-08-29T20:33:51.409Z"
   },
   {
    "duration": 133,
    "start_time": "2023-08-29T20:34:30.763Z"
   },
   {
    "duration": 1433,
    "start_time": "2023-08-29T20:34:52.785Z"
   },
   {
    "duration": 106,
    "start_time": "2023-08-29T20:34:54.220Z"
   },
   {
    "duration": 29,
    "start_time": "2023-08-29T20:34:54.328Z"
   },
   {
    "duration": 2,
    "start_time": "2023-08-29T20:34:54.359Z"
   },
   {
    "duration": 26,
    "start_time": "2023-08-29T20:34:54.363Z"
   },
   {
    "duration": 16,
    "start_time": "2023-08-29T20:34:54.391Z"
   },
   {
    "duration": 17,
    "start_time": "2023-08-29T20:34:54.409Z"
   },
   {
    "duration": 36,
    "start_time": "2023-08-29T20:34:54.427Z"
   },
   {
    "duration": 5,
    "start_time": "2023-08-29T20:34:54.464Z"
   },
   {
    "duration": 140,
    "start_time": "2023-08-29T20:34:54.471Z"
   },
   {
    "duration": 11,
    "start_time": "2023-08-29T20:34:54.613Z"
   },
   {
    "duration": 39,
    "start_time": "2023-08-29T20:34:54.625Z"
   },
   {
    "duration": 334,
    "start_time": "2023-08-29T20:34:54.665Z"
   },
   {
    "duration": 24,
    "start_time": "2023-08-29T20:34:55.002Z"
   },
   {
    "duration": 32975,
    "start_time": "2023-08-29T20:34:55.028Z"
   },
   {
    "duration": 459,
    "start_time": "2023-08-29T20:35:28.005Z"
   },
   {
    "duration": 91,
    "start_time": "2023-08-29T20:35:28.466Z"
   },
   {
    "duration": 113,
    "start_time": "2023-08-29T20:35:28.559Z"
   },
   {
    "duration": 486,
    "start_time": "2023-08-29T20:35:28.673Z"
   },
   {
    "duration": 4,
    "start_time": "2023-08-29T20:35:29.161Z"
   },
   {
    "duration": 11,
    "start_time": "2023-08-29T20:35:29.167Z"
   },
   {
    "duration": 24,
    "start_time": "2023-08-29T20:35:29.180Z"
   },
   {
    "duration": 28,
    "start_time": "2023-08-29T20:35:29.206Z"
   },
   {
    "duration": 42,
    "start_time": "2023-08-29T20:35:29.235Z"
   },
   {
    "duration": 120,
    "start_time": "2023-08-29T20:35:29.357Z"
   },
   {
    "duration": 604,
    "start_time": "2023-08-29T20:35:29.479Z"
   },
   {
    "duration": 458,
    "start_time": "2023-08-29T20:35:30.085Z"
   },
   {
    "duration": 138,
    "start_time": "2023-08-29T20:35:30.545Z"
   },
   {
    "duration": 43,
    "start_time": "2023-08-30T06:38:35.820Z"
   },
   {
    "duration": 1513,
    "start_time": "2023-08-30T06:38:45.010Z"
   },
   {
    "duration": 234,
    "start_time": "2023-08-30T06:38:46.811Z"
   },
   {
    "duration": 17,
    "start_time": "2023-08-30T06:38:55.102Z"
   },
   {
    "duration": 16,
    "start_time": "2023-08-30T06:39:40.343Z"
   },
   {
    "duration": 16,
    "start_time": "2023-08-30T06:41:19.532Z"
   },
   {
    "duration": 99,
    "start_time": "2023-08-30T06:41:25.113Z"
   },
   {
    "duration": 13,
    "start_time": "2023-08-30T06:41:30.458Z"
   },
   {
    "duration": 70,
    "start_time": "2023-08-30T06:43:25.530Z"
   },
   {
    "duration": 3,
    "start_time": "2023-08-30T06:43:29.242Z"
   },
   {
    "duration": 27,
    "start_time": "2023-08-30T06:43:30.897Z"
   },
   {
    "duration": 22,
    "start_time": "2023-08-30T06:43:57.697Z"
   },
   {
    "duration": 12,
    "start_time": "2023-08-30T07:13:33.937Z"
   },
   {
    "duration": 15,
    "start_time": "2023-08-30T07:30:34.975Z"
   },
   {
    "duration": 1403,
    "start_time": "2023-08-30T07:53:41.940Z"
   },
   {
    "duration": 115,
    "start_time": "2023-08-30T07:53:43.346Z"
   },
   {
    "duration": 16,
    "start_time": "2023-08-30T07:53:43.463Z"
   },
   {
    "duration": 2,
    "start_time": "2023-08-30T07:53:43.481Z"
   },
   {
    "duration": 126,
    "start_time": "2023-08-30T07:53:43.485Z"
   },
   {
    "duration": 0,
    "start_time": "2023-08-30T07:53:43.613Z"
   },
   {
    "duration": 0,
    "start_time": "2023-08-30T07:53:43.615Z"
   },
   {
    "duration": 0,
    "start_time": "2023-08-30T07:53:43.616Z"
   },
   {
    "duration": 0,
    "start_time": "2023-08-30T07:53:43.617Z"
   },
   {
    "duration": 0,
    "start_time": "2023-08-30T07:53:43.618Z"
   },
   {
    "duration": 0,
    "start_time": "2023-08-30T07:53:43.619Z"
   },
   {
    "duration": 0,
    "start_time": "2023-08-30T07:53:43.620Z"
   },
   {
    "duration": 0,
    "start_time": "2023-08-30T07:53:43.621Z"
   },
   {
    "duration": 0,
    "start_time": "2023-08-30T07:53:43.622Z"
   },
   {
    "duration": 0,
    "start_time": "2023-08-30T07:53:43.623Z"
   },
   {
    "duration": 0,
    "start_time": "2023-08-30T07:53:43.624Z"
   },
   {
    "duration": 0,
    "start_time": "2023-08-30T07:53:43.625Z"
   },
   {
    "duration": 0,
    "start_time": "2023-08-30T07:53:43.626Z"
   },
   {
    "duration": 0,
    "start_time": "2023-08-30T07:53:43.657Z"
   },
   {
    "duration": 0,
    "start_time": "2023-08-30T07:53:43.659Z"
   },
   {
    "duration": 0,
    "start_time": "2023-08-30T07:53:43.660Z"
   },
   {
    "duration": 0,
    "start_time": "2023-08-30T07:53:43.661Z"
   },
   {
    "duration": 0,
    "start_time": "2023-08-30T07:53:43.662Z"
   },
   {
    "duration": 0,
    "start_time": "2023-08-30T07:53:43.663Z"
   },
   {
    "duration": 0,
    "start_time": "2023-08-30T07:53:43.664Z"
   },
   {
    "duration": 0,
    "start_time": "2023-08-30T07:53:43.666Z"
   },
   {
    "duration": 0,
    "start_time": "2023-08-30T07:53:43.667Z"
   },
   {
    "duration": 0,
    "start_time": "2023-08-30T07:53:43.669Z"
   },
   {
    "duration": 31,
    "start_time": "2023-08-30T07:55:03.342Z"
   },
   {
    "duration": 1430,
    "start_time": "2023-08-30T07:55:21.157Z"
   },
   {
    "duration": 111,
    "start_time": "2023-08-30T07:55:22.589Z"
   },
   {
    "duration": 14,
    "start_time": "2023-08-30T07:55:22.701Z"
   },
   {
    "duration": 3,
    "start_time": "2023-08-30T07:55:22.716Z"
   },
   {
    "duration": 57,
    "start_time": "2023-08-30T07:55:22.720Z"
   },
   {
    "duration": 11,
    "start_time": "2023-08-30T07:55:22.779Z"
   },
   {
    "duration": 22,
    "start_time": "2023-08-30T07:55:22.792Z"
   },
   {
    "duration": 135,
    "start_time": "2023-08-30T07:55:22.816Z"
   },
   {
    "duration": 0,
    "start_time": "2023-08-30T07:55:22.953Z"
   },
   {
    "duration": 0,
    "start_time": "2023-08-30T07:55:22.957Z"
   },
   {
    "duration": 0,
    "start_time": "2023-08-30T07:55:22.958Z"
   },
   {
    "duration": 0,
    "start_time": "2023-08-30T07:55:22.958Z"
   },
   {
    "duration": 0,
    "start_time": "2023-08-30T07:55:22.959Z"
   },
   {
    "duration": 0,
    "start_time": "2023-08-30T07:55:22.960Z"
   },
   {
    "duration": 0,
    "start_time": "2023-08-30T07:55:22.962Z"
   },
   {
    "duration": 0,
    "start_time": "2023-08-30T07:55:22.962Z"
   },
   {
    "duration": 0,
    "start_time": "2023-08-30T07:55:22.963Z"
   },
   {
    "duration": 0,
    "start_time": "2023-08-30T07:55:22.964Z"
   },
   {
    "duration": 0,
    "start_time": "2023-08-30T07:55:22.966Z"
   },
   {
    "duration": 0,
    "start_time": "2023-08-30T07:55:22.967Z"
   },
   {
    "duration": 0,
    "start_time": "2023-08-30T07:55:22.970Z"
   },
   {
    "duration": 0,
    "start_time": "2023-08-30T07:55:22.970Z"
   },
   {
    "duration": 0,
    "start_time": "2023-08-30T07:55:22.978Z"
   },
   {
    "duration": 0,
    "start_time": "2023-08-30T07:55:22.979Z"
   },
   {
    "duration": 0,
    "start_time": "2023-08-30T07:55:22.980Z"
   },
   {
    "duration": 0,
    "start_time": "2023-08-30T07:55:22.981Z"
   },
   {
    "duration": 0,
    "start_time": "2023-08-30T07:55:22.982Z"
   },
   {
    "duration": 1,
    "start_time": "2023-08-30T07:55:22.982Z"
   },
   {
    "duration": 12,
    "start_time": "2023-08-30T08:03:54.896Z"
   },
   {
    "duration": 16,
    "start_time": "2023-08-30T08:04:04.159Z"
   },
   {
    "duration": 20,
    "start_time": "2023-08-30T08:04:07.508Z"
   },
   {
    "duration": 11,
    "start_time": "2023-08-30T08:04:15.486Z"
   },
   {
    "duration": 37,
    "start_time": "2023-08-30T08:05:38.142Z"
   },
   {
    "duration": 27,
    "start_time": "2023-08-30T08:06:06.256Z"
   },
   {
    "duration": 11,
    "start_time": "2023-08-30T08:06:14.423Z"
   },
   {
    "duration": 1415,
    "start_time": "2023-08-30T08:06:28.791Z"
   },
   {
    "duration": 113,
    "start_time": "2023-08-30T08:06:30.208Z"
   },
   {
    "duration": 14,
    "start_time": "2023-08-30T08:06:30.323Z"
   },
   {
    "duration": 31,
    "start_time": "2023-08-30T08:06:30.339Z"
   },
   {
    "duration": 81,
    "start_time": "2023-08-30T08:06:30.373Z"
   },
   {
    "duration": 112,
    "start_time": "2023-08-30T08:06:30.456Z"
   },
   {
    "duration": 54,
    "start_time": "2023-08-30T08:06:30.571Z"
   },
   {
    "duration": 37,
    "start_time": "2023-08-30T08:06:30.627Z"
   },
   {
    "duration": 37,
    "start_time": "2023-08-30T08:06:30.666Z"
   },
   {
    "duration": 33,
    "start_time": "2023-08-30T08:06:30.704Z"
   },
   {
    "duration": 170,
    "start_time": "2023-08-30T08:06:30.739Z"
   },
   {
    "duration": 132,
    "start_time": "2023-08-30T08:06:30.911Z"
   },
   {
    "duration": 0,
    "start_time": "2023-08-30T08:06:31.045Z"
   },
   {
    "duration": 0,
    "start_time": "2023-08-30T08:06:31.056Z"
   },
   {
    "duration": 0,
    "start_time": "2023-08-30T08:06:31.057Z"
   },
   {
    "duration": 0,
    "start_time": "2023-08-30T08:06:31.057Z"
   },
   {
    "duration": 0,
    "start_time": "2023-08-30T08:06:31.058Z"
   },
   {
    "duration": 0,
    "start_time": "2023-08-30T08:06:31.059Z"
   },
   {
    "duration": 0,
    "start_time": "2023-08-30T08:06:31.060Z"
   },
   {
    "duration": 0,
    "start_time": "2023-08-30T08:06:31.060Z"
   },
   {
    "duration": 0,
    "start_time": "2023-08-30T08:06:31.061Z"
   },
   {
    "duration": 0,
    "start_time": "2023-08-30T08:06:31.062Z"
   },
   {
    "duration": 0,
    "start_time": "2023-08-30T08:06:31.062Z"
   },
   {
    "duration": 0,
    "start_time": "2023-08-30T08:06:31.063Z"
   },
   {
    "duration": 0,
    "start_time": "2023-08-30T08:06:31.063Z"
   },
   {
    "duration": 0,
    "start_time": "2023-08-30T08:06:31.064Z"
   },
   {
    "duration": 0,
    "start_time": "2023-08-30T08:06:31.064Z"
   },
   {
    "duration": 0,
    "start_time": "2023-08-30T08:06:31.065Z"
   },
   {
    "duration": 48,
    "start_time": "2023-08-30T08:07:50.467Z"
   },
   {
    "duration": 25,
    "start_time": "2023-08-30T08:08:09.839Z"
   },
   {
    "duration": 24,
    "start_time": "2023-08-30T08:08:38.816Z"
   },
   {
    "duration": 18,
    "start_time": "2023-08-30T08:08:47.224Z"
   },
   {
    "duration": 24,
    "start_time": "2023-08-30T08:08:49.946Z"
   },
   {
    "duration": 138,
    "start_time": "2023-08-30T08:09:30.481Z"
   },
   {
    "duration": 20,
    "start_time": "2023-08-30T08:09:41.449Z"
   },
   {
    "duration": 10,
    "start_time": "2023-08-30T08:15:08.187Z"
   },
   {
    "duration": 80,
    "start_time": "2023-08-30T08:15:45.886Z"
   },
   {
    "duration": 11,
    "start_time": "2023-08-30T08:16:39.717Z"
   },
   {
    "duration": 4,
    "start_time": "2023-08-30T08:16:48.908Z"
   },
   {
    "duration": 37,
    "start_time": "2023-08-30T08:17:57.410Z"
   },
   {
    "duration": 24,
    "start_time": "2023-08-30T08:20:10.507Z"
   },
   {
    "duration": 24,
    "start_time": "2023-08-30T08:21:38.449Z"
   },
   {
    "duration": 31,
    "start_time": "2023-08-30T08:22:26.790Z"
   },
   {
    "duration": 10,
    "start_time": "2023-08-30T08:22:47.997Z"
   },
   {
    "duration": 5,
    "start_time": "2023-08-30T08:22:52.373Z"
   },
   {
    "duration": 123,
    "start_time": "2023-08-30T08:22:52.968Z"
   },
   {
    "duration": 18,
    "start_time": "2023-08-30T08:23:04.017Z"
   },
   {
    "duration": 48,
    "start_time": "2023-08-30T08:24:29.280Z"
   },
   {
    "duration": 35,
    "start_time": "2023-08-30T08:24:50.813Z"
   },
   {
    "duration": 11,
    "start_time": "2023-08-30T08:27:08.579Z"
   },
   {
    "duration": 23,
    "start_time": "2023-08-30T08:28:26.575Z"
   },
   {
    "duration": 21,
    "start_time": "2023-08-30T08:28:53.654Z"
   },
   {
    "duration": 15,
    "start_time": "2023-08-30T08:29:23.185Z"
   },
   {
    "duration": 11,
    "start_time": "2023-08-30T08:29:30.914Z"
   },
   {
    "duration": 18,
    "start_time": "2023-08-30T08:29:33.287Z"
   },
   {
    "duration": 16,
    "start_time": "2023-08-30T08:29:49.969Z"
   },
   {
    "duration": 20,
    "start_time": "2023-08-30T08:30:01.244Z"
   },
   {
    "duration": 29,
    "start_time": "2023-08-30T08:45:09.215Z"
   },
   {
    "duration": 28,
    "start_time": "2023-08-30T08:45:14.626Z"
   },
   {
    "duration": 42,
    "start_time": "2023-08-30T08:45:34.667Z"
   },
   {
    "duration": 27,
    "start_time": "2023-08-30T08:49:01.016Z"
   },
   {
    "duration": 45,
    "start_time": "2023-08-30T08:49:16.078Z"
   },
   {
    "duration": 54,
    "start_time": "2023-08-30T08:49:46.952Z"
   },
   {
    "duration": 34,
    "start_time": "2023-08-30T08:53:34.473Z"
   },
   {
    "duration": 50,
    "start_time": "2023-08-30T08:54:45.970Z"
   },
   {
    "duration": 26,
    "start_time": "2023-08-30T08:55:18.774Z"
   },
   {
    "duration": 11,
    "start_time": "2023-08-30T08:55:26.626Z"
   },
   {
    "duration": 14,
    "start_time": "2023-08-30T08:55:58.973Z"
   },
   {
    "duration": 6,
    "start_time": "2023-08-30T08:56:03.009Z"
   },
   {
    "duration": 131,
    "start_time": "2023-08-30T08:56:03.582Z"
   },
   {
    "duration": 126,
    "start_time": "2023-08-30T08:56:07.757Z"
   },
   {
    "duration": 1499,
    "start_time": "2023-08-30T08:56:25.450Z"
   },
   {
    "duration": 148,
    "start_time": "2023-08-30T08:56:26.957Z"
   },
   {
    "duration": 18,
    "start_time": "2023-08-30T08:56:27.108Z"
   },
   {
    "duration": 7,
    "start_time": "2023-08-30T08:56:27.128Z"
   },
   {
    "duration": 74,
    "start_time": "2023-08-30T08:56:27.137Z"
   },
   {
    "duration": 15,
    "start_time": "2023-08-30T08:56:27.214Z"
   },
   {
    "duration": 81,
    "start_time": "2023-08-30T08:56:27.231Z"
   },
   {
    "duration": 22,
    "start_time": "2023-08-30T08:56:27.313Z"
   },
   {
    "duration": 10,
    "start_time": "2023-08-30T08:56:27.337Z"
   },
   {
    "duration": 48,
    "start_time": "2023-08-30T08:56:27.358Z"
   },
   {
    "duration": 200,
    "start_time": "2023-08-30T08:56:27.409Z"
   },
   {
    "duration": 60,
    "start_time": "2023-08-30T08:56:27.610Z"
   },
   {
    "duration": 337,
    "start_time": "2023-08-30T08:56:27.673Z"
   },
   {
    "duration": 30,
    "start_time": "2023-08-30T08:56:28.012Z"
   },
   {
    "duration": 40933,
    "start_time": "2023-08-30T08:56:28.057Z"
   },
   {
    "duration": 606,
    "start_time": "2023-08-30T08:57:08.992Z"
   },
   {
    "duration": 69,
    "start_time": "2023-08-30T08:57:09.600Z"
   },
   {
    "duration": 193,
    "start_time": "2023-08-30T08:57:09.672Z"
   },
   {
    "duration": 560,
    "start_time": "2023-08-30T08:57:09.867Z"
   },
   {
    "duration": 3,
    "start_time": "2023-08-30T08:57:10.429Z"
   },
   {
    "duration": 4,
    "start_time": "2023-08-30T08:57:10.434Z"
   },
   {
    "duration": 19,
    "start_time": "2023-08-30T08:57:10.440Z"
   },
   {
    "duration": 148,
    "start_time": "2023-08-30T08:57:10.462Z"
   },
   {
    "duration": 0,
    "start_time": "2023-08-30T08:57:10.612Z"
   },
   {
    "duration": 0,
    "start_time": "2023-08-30T08:57:10.613Z"
   },
   {
    "duration": 0,
    "start_time": "2023-08-30T08:57:10.615Z"
   },
   {
    "duration": 0,
    "start_time": "2023-08-30T08:57:10.616Z"
   },
   {
    "duration": 0,
    "start_time": "2023-08-30T08:57:10.617Z"
   },
   {
    "duration": 42406,
    "start_time": "2023-08-30T09:01:11.553Z"
   },
   {
    "duration": 323,
    "start_time": "2023-08-30T09:02:05.745Z"
   },
   {
    "duration": 379,
    "start_time": "2023-08-30T09:02:48.989Z"
   },
   {
    "duration": 5,
    "start_time": "2023-08-30T09:04:18.034Z"
   },
   {
    "duration": 5,
    "start_time": "2023-08-30T09:04:38.689Z"
   },
   {
    "duration": 22,
    "start_time": "2023-08-30T09:04:42.852Z"
   },
   {
    "duration": 1434,
    "start_time": "2023-08-30T09:06:00.595Z"
   },
   {
    "duration": 115,
    "start_time": "2023-08-30T09:06:02.031Z"
   },
   {
    "duration": 22,
    "start_time": "2023-08-30T09:06:02.148Z"
   },
   {
    "duration": 16,
    "start_time": "2023-08-30T09:06:02.173Z"
   },
   {
    "duration": 77,
    "start_time": "2023-08-30T09:06:02.192Z"
   },
   {
    "duration": 20,
    "start_time": "2023-08-30T09:06:02.271Z"
   },
   {
    "duration": 65,
    "start_time": "2023-08-30T09:06:02.293Z"
   },
   {
    "duration": 33,
    "start_time": "2023-08-30T09:06:02.360Z"
   },
   {
    "duration": 12,
    "start_time": "2023-08-30T09:06:02.395Z"
   },
   {
    "duration": 18,
    "start_time": "2023-08-30T09:06:02.411Z"
   },
   {
    "duration": 159,
    "start_time": "2023-08-30T09:06:02.458Z"
   },
   {
    "duration": 142,
    "start_time": "2023-08-30T09:06:02.619Z"
   },
   {
    "duration": 279,
    "start_time": "2023-08-30T09:06:02.763Z"
   },
   {
    "duration": 37,
    "start_time": "2023-08-30T09:06:03.044Z"
   },
   {
    "duration": 38579,
    "start_time": "2023-08-30T09:06:03.083Z"
   },
   {
    "duration": 295,
    "start_time": "2023-08-30T09:06:41.664Z"
   },
   {
    "duration": 97,
    "start_time": "2023-08-30T09:06:41.960Z"
   },
   {
    "duration": 130,
    "start_time": "2023-08-30T09:06:42.059Z"
   },
   {
    "duration": 331,
    "start_time": "2023-08-30T09:06:42.191Z"
   },
   {
    "duration": 4,
    "start_time": "2023-08-30T09:06:42.524Z"
   },
   {
    "duration": 31,
    "start_time": "2023-08-30T09:06:42.530Z"
   },
   {
    "duration": 27,
    "start_time": "2023-08-30T09:06:42.563Z"
   },
   {
    "duration": 163,
    "start_time": "2023-08-30T09:06:42.592Z"
   },
   {
    "duration": 0,
    "start_time": "2023-08-30T09:06:42.757Z"
   },
   {
    "duration": 1,
    "start_time": "2023-08-30T09:06:42.758Z"
   },
   {
    "duration": 0,
    "start_time": "2023-08-30T09:06:42.760Z"
   },
   {
    "duration": 0,
    "start_time": "2023-08-30T09:06:42.761Z"
   },
   {
    "duration": 0,
    "start_time": "2023-08-30T09:06:42.761Z"
   },
   {
    "duration": 4,
    "start_time": "2023-08-30T09:12:05.290Z"
   },
   {
    "duration": 5,
    "start_time": "2023-08-30T09:12:09.892Z"
   },
   {
    "duration": 3,
    "start_time": "2023-08-30T09:12:10.454Z"
   },
   {
    "duration": 6,
    "start_time": "2023-08-30T09:12:11.545Z"
   },
   {
    "duration": 18,
    "start_time": "2023-08-30T09:12:15.224Z"
   },
   {
    "duration": 3,
    "start_time": "2023-08-30T09:13:58.402Z"
   },
   {
    "duration": 13,
    "start_time": "2023-08-30T09:14:34.325Z"
   },
   {
    "duration": 11,
    "start_time": "2023-08-30T09:14:54.845Z"
   },
   {
    "duration": 7,
    "start_time": "2023-08-30T09:15:14.781Z"
   },
   {
    "duration": 1404,
    "start_time": "2023-08-30T09:15:27.197Z"
   },
   {
    "duration": 121,
    "start_time": "2023-08-30T09:15:28.603Z"
   },
   {
    "duration": 34,
    "start_time": "2023-08-30T09:15:28.726Z"
   },
   {
    "duration": 10,
    "start_time": "2023-08-30T09:15:28.763Z"
   },
   {
    "duration": 46,
    "start_time": "2023-08-30T09:15:28.775Z"
   },
   {
    "duration": 15,
    "start_time": "2023-08-30T09:15:28.824Z"
   },
   {
    "duration": 82,
    "start_time": "2023-08-30T09:15:28.841Z"
   },
   {
    "duration": 49,
    "start_time": "2023-08-30T09:15:28.925Z"
   },
   {
    "duration": 14,
    "start_time": "2023-08-30T09:15:28.976Z"
   },
   {
    "duration": 10,
    "start_time": "2023-08-30T09:15:28.993Z"
   },
   {
    "duration": 16,
    "start_time": "2023-08-30T09:15:29.005Z"
   },
   {
    "duration": 197,
    "start_time": "2023-08-30T09:15:29.023Z"
   },
   {
    "duration": 47,
    "start_time": "2023-08-30T09:15:29.223Z"
   },
   {
    "duration": 349,
    "start_time": "2023-08-30T09:15:29.273Z"
   },
   {
    "duration": 43,
    "start_time": "2023-08-30T09:15:29.624Z"
   },
   {
    "duration": 38473,
    "start_time": "2023-08-30T09:15:29.669Z"
   },
   {
    "duration": 305,
    "start_time": "2023-08-30T09:16:08.144Z"
   },
   {
    "duration": 110,
    "start_time": "2023-08-30T09:16:08.451Z"
   },
   {
    "duration": 118,
    "start_time": "2023-08-30T09:16:08.563Z"
   },
   {
    "duration": 355,
    "start_time": "2023-08-30T09:16:08.683Z"
   },
   {
    "duration": 5,
    "start_time": "2023-08-30T09:16:09.040Z"
   },
   {
    "duration": 12,
    "start_time": "2023-08-30T09:16:09.055Z"
   },
   {
    "duration": 17,
    "start_time": "2023-08-30T09:16:09.071Z"
   },
   {
    "duration": 23,
    "start_time": "2023-08-30T09:16:09.090Z"
   },
   {
    "duration": 50,
    "start_time": "2023-08-30T09:16:09.115Z"
   },
   {
    "duration": 203,
    "start_time": "2023-08-30T09:16:09.167Z"
   },
   {
    "duration": 398,
    "start_time": "2023-08-30T09:16:09.372Z"
   },
   {
    "duration": 512,
    "start_time": "2023-08-30T09:16:09.773Z"
   },
   {
    "duration": 143,
    "start_time": "2023-08-30T09:16:10.286Z"
   },
   {
    "duration": 352,
    "start_time": "2023-08-30T09:19:58.617Z"
   },
   {
    "duration": 389,
    "start_time": "2023-08-30T09:20:43.450Z"
   },
   {
    "duration": 208,
    "start_time": "2023-08-30T09:22:19.773Z"
   },
   {
    "duration": 104,
    "start_time": "2023-08-30T09:34:40.271Z"
   },
   {
    "duration": 12,
    "start_time": "2023-08-30T09:34:57.789Z"
   },
   {
    "duration": 4,
    "start_time": "2023-08-30T09:35:47.682Z"
   },
   {
    "duration": 302,
    "start_time": "2023-08-30T09:35:55.119Z"
   },
   {
    "duration": 12,
    "start_time": "2023-08-30T09:36:15.381Z"
   },
   {
    "duration": 292,
    "start_time": "2023-08-30T09:36:28.534Z"
   },
   {
    "duration": 287,
    "start_time": "2023-08-30T09:38:19.672Z"
   },
   {
    "duration": 416,
    "start_time": "2023-08-30T09:49:57.826Z"
   },
   {
    "duration": 329,
    "start_time": "2023-08-30T09:50:03.306Z"
   },
   {
    "duration": 136,
    "start_time": "2023-08-30T09:50:15.018Z"
   },
   {
    "duration": 1384,
    "start_time": "2023-08-30T09:50:27.245Z"
   },
   {
    "duration": 121,
    "start_time": "2023-08-30T09:50:28.631Z"
   },
   {
    "duration": 21,
    "start_time": "2023-08-30T09:50:28.756Z"
   },
   {
    "duration": 4,
    "start_time": "2023-08-30T09:50:28.780Z"
   },
   {
    "duration": 56,
    "start_time": "2023-08-30T09:50:28.786Z"
   },
   {
    "duration": 24,
    "start_time": "2023-08-30T09:50:28.844Z"
   },
   {
    "duration": 49,
    "start_time": "2023-08-30T09:50:28.870Z"
   },
   {
    "duration": 51,
    "start_time": "2023-08-30T09:50:28.921Z"
   },
   {
    "duration": 12,
    "start_time": "2023-08-30T09:50:28.974Z"
   },
   {
    "duration": 16,
    "start_time": "2023-08-30T09:50:28.989Z"
   },
   {
    "duration": 6,
    "start_time": "2023-08-30T09:50:29.008Z"
   },
   {
    "duration": 211,
    "start_time": "2023-08-30T09:50:29.016Z"
   },
   {
    "duration": 132,
    "start_time": "2023-08-30T09:50:29.229Z"
   },
   {
    "duration": 260,
    "start_time": "2023-08-30T09:50:29.363Z"
   },
   {
    "duration": 37,
    "start_time": "2023-08-30T09:50:29.625Z"
   },
   {
    "duration": 38688,
    "start_time": "2023-08-30T09:50:29.665Z"
   },
   {
    "duration": 300,
    "start_time": "2023-08-30T09:51:08.359Z"
   },
   {
    "duration": 99,
    "start_time": "2023-08-30T09:51:08.662Z"
   },
   {
    "duration": 112,
    "start_time": "2023-08-30T09:51:08.764Z"
   },
   {
    "duration": 352,
    "start_time": "2023-08-30T09:51:08.878Z"
   },
   {
    "duration": 4,
    "start_time": "2023-08-30T09:51:09.232Z"
   },
   {
    "duration": 17,
    "start_time": "2023-08-30T09:51:09.237Z"
   },
   {
    "duration": 31,
    "start_time": "2023-08-30T09:51:09.256Z"
   },
   {
    "duration": 33,
    "start_time": "2023-08-30T09:51:09.289Z"
   },
   {
    "duration": 43,
    "start_time": "2023-08-30T09:51:09.324Z"
   },
   {
    "duration": 203,
    "start_time": "2023-08-30T09:51:09.380Z"
   },
   {
    "duration": 392,
    "start_time": "2023-08-30T09:51:09.584Z"
   },
   {
    "duration": 403,
    "start_time": "2023-08-30T09:51:09.979Z"
   },
   {
    "duration": 319,
    "start_time": "2023-08-30T09:51:10.384Z"
   },
   {
    "duration": 226,
    "start_time": "2023-08-30T09:51:10.705Z"
   },
   {
    "duration": 48,
    "start_time": "2023-08-31T07:20:39.554Z"
   },
   {
    "duration": 1633,
    "start_time": "2023-08-31T07:20:48.454Z"
   },
   {
    "duration": 189,
    "start_time": "2023-08-31T07:20:50.090Z"
   },
   {
    "duration": 22,
    "start_time": "2023-08-31T07:20:50.281Z"
   },
   {
    "duration": 29,
    "start_time": "2023-08-31T07:20:50.305Z"
   },
   {
    "duration": 32,
    "start_time": "2023-08-31T07:20:50.340Z"
   },
   {
    "duration": 14,
    "start_time": "2023-08-31T07:20:50.374Z"
   },
   {
    "duration": 62,
    "start_time": "2023-08-31T07:20:50.390Z"
   },
   {
    "duration": 147,
    "start_time": "2023-08-31T07:20:50.454Z"
   },
   {
    "duration": 0,
    "start_time": "2023-08-31T07:20:50.603Z"
   },
   {
    "duration": 0,
    "start_time": "2023-08-31T07:20:50.605Z"
   },
   {
    "duration": 0,
    "start_time": "2023-08-31T07:20:50.606Z"
   },
   {
    "duration": 0,
    "start_time": "2023-08-31T07:20:50.607Z"
   },
   {
    "duration": 0,
    "start_time": "2023-08-31T07:20:50.627Z"
   },
   {
    "duration": 0,
    "start_time": "2023-08-31T07:20:50.627Z"
   },
   {
    "duration": 0,
    "start_time": "2023-08-31T07:20:50.630Z"
   },
   {
    "duration": 0,
    "start_time": "2023-08-31T07:20:50.631Z"
   },
   {
    "duration": 0,
    "start_time": "2023-08-31T07:20:50.631Z"
   },
   {
    "duration": 0,
    "start_time": "2023-08-31T07:20:50.633Z"
   },
   {
    "duration": 0,
    "start_time": "2023-08-31T07:20:50.634Z"
   },
   {
    "duration": 0,
    "start_time": "2023-08-31T07:20:50.635Z"
   },
   {
    "duration": 0,
    "start_time": "2023-08-31T07:20:50.636Z"
   },
   {
    "duration": 0,
    "start_time": "2023-08-31T07:20:50.637Z"
   },
   {
    "duration": 0,
    "start_time": "2023-08-31T07:20:50.638Z"
   },
   {
    "duration": 0,
    "start_time": "2023-08-31T07:20:50.638Z"
   },
   {
    "duration": 0,
    "start_time": "2023-08-31T07:20:50.639Z"
   },
   {
    "duration": 0,
    "start_time": "2023-08-31T07:20:50.640Z"
   },
   {
    "duration": 0,
    "start_time": "2023-08-31T07:20:50.641Z"
   },
   {
    "duration": 0,
    "start_time": "2023-08-31T07:20:50.642Z"
   },
   {
    "duration": 0,
    "start_time": "2023-08-31T07:20:50.643Z"
   },
   {
    "duration": 0,
    "start_time": "2023-08-31T07:20:50.643Z"
   },
   {
    "duration": 13,
    "start_time": "2023-08-31T07:27:41.370Z"
   },
   {
    "duration": 15,
    "start_time": "2023-08-31T07:32:41.776Z"
   },
   {
    "duration": 19,
    "start_time": "2023-08-31T07:33:07.054Z"
   },
   {
    "duration": 1525,
    "start_time": "2023-08-31T07:33:26.313Z"
   },
   {
    "duration": 111,
    "start_time": "2023-08-31T07:33:27.840Z"
   },
   {
    "duration": 13,
    "start_time": "2023-08-31T07:33:27.953Z"
   },
   {
    "duration": 3,
    "start_time": "2023-08-31T07:33:27.967Z"
   },
   {
    "duration": 25,
    "start_time": "2023-08-31T07:33:27.971Z"
   },
   {
    "duration": 42,
    "start_time": "2023-08-31T07:33:27.998Z"
   },
   {
    "duration": 39,
    "start_time": "2023-08-31T07:33:28.042Z"
   },
   {
    "duration": 42,
    "start_time": "2023-08-31T07:33:28.082Z"
   },
   {
    "duration": 13,
    "start_time": "2023-08-31T07:33:28.125Z"
   },
   {
    "duration": 9,
    "start_time": "2023-08-31T07:33:28.141Z"
   },
   {
    "duration": 7,
    "start_time": "2023-08-31T07:33:28.152Z"
   },
   {
    "duration": 153,
    "start_time": "2023-08-31T07:33:28.160Z"
   },
   {
    "duration": 119,
    "start_time": "2023-08-31T07:33:28.315Z"
   },
   {
    "duration": 253,
    "start_time": "2023-08-31T07:33:28.440Z"
   },
   {
    "duration": 40,
    "start_time": "2023-08-31T07:33:28.695Z"
   },
   {
    "duration": 37760,
    "start_time": "2023-08-31T07:33:28.737Z"
   },
   {
    "duration": 285,
    "start_time": "2023-08-31T07:34:06.498Z"
   },
   {
    "duration": 61,
    "start_time": "2023-08-31T07:34:06.785Z"
   },
   {
    "duration": 116,
    "start_time": "2023-08-31T07:34:06.929Z"
   },
   {
    "duration": 295,
    "start_time": "2023-08-31T07:34:07.047Z"
   },
   {
    "duration": 3,
    "start_time": "2023-08-31T07:34:07.344Z"
   },
   {
    "duration": 25,
    "start_time": "2023-08-31T07:34:07.349Z"
   },
   {
    "duration": 63,
    "start_time": "2023-08-31T07:34:07.376Z"
   },
   {
    "duration": 49,
    "start_time": "2023-08-31T07:34:07.441Z"
   },
   {
    "duration": 137,
    "start_time": "2023-08-31T07:34:07.492Z"
   },
   {
    "duration": 122,
    "start_time": "2023-08-31T07:34:07.632Z"
   },
   {
    "duration": 388,
    "start_time": "2023-08-31T07:34:07.756Z"
   },
   {
    "duration": 386,
    "start_time": "2023-08-31T07:34:08.147Z"
   },
   {
    "duration": 294,
    "start_time": "2023-08-31T07:34:08.537Z"
   },
   {
    "duration": 217,
    "start_time": "2023-08-31T07:34:08.838Z"
   },
   {
    "duration": 4,
    "start_time": "2023-08-31T07:38:20.647Z"
   },
   {
    "duration": 378,
    "start_time": "2023-08-31T07:40:16.377Z"
   },
   {
    "duration": 20,
    "start_time": "2023-08-31T07:54:58.555Z"
   },
   {
    "duration": 101,
    "start_time": "2023-08-31T07:55:07.657Z"
   },
   {
    "duration": 16,
    "start_time": "2023-08-31T07:55:14.587Z"
   },
   {
    "duration": 1408,
    "start_time": "2023-08-31T07:55:21.959Z"
   },
   {
    "duration": 110,
    "start_time": "2023-08-31T07:55:23.369Z"
   },
   {
    "duration": 18,
    "start_time": "2023-08-31T07:55:23.481Z"
   },
   {
    "duration": 23,
    "start_time": "2023-08-31T07:55:23.502Z"
   },
   {
    "duration": 26,
    "start_time": "2023-08-31T07:55:23.527Z"
   },
   {
    "duration": 10,
    "start_time": "2023-08-31T07:55:23.555Z"
   },
   {
    "duration": 77,
    "start_time": "2023-08-31T07:55:23.566Z"
   },
   {
    "duration": 18,
    "start_time": "2023-08-31T07:55:23.644Z"
   },
   {
    "duration": 9,
    "start_time": "2023-08-31T07:55:23.664Z"
   },
   {
    "duration": 10,
    "start_time": "2023-08-31T07:55:23.675Z"
   },
   {
    "duration": 42,
    "start_time": "2023-08-31T07:55:23.686Z"
   },
   {
    "duration": 137,
    "start_time": "2023-08-31T07:55:23.730Z"
   },
   {
    "duration": 79,
    "start_time": "2023-08-31T07:55:23.869Z"
   },
   {
    "duration": 197,
    "start_time": "2023-08-31T07:55:24.039Z"
   },
   {
    "duration": 25,
    "start_time": "2023-08-31T07:55:24.239Z"
   },
   {
    "duration": 36190,
    "start_time": "2023-08-31T07:55:24.266Z"
   },
   {
    "duration": 319,
    "start_time": "2023-08-31T07:56:00.458Z"
   },
   {
    "duration": 58,
    "start_time": "2023-08-31T07:56:00.779Z"
   },
   {
    "duration": 200,
    "start_time": "2023-08-31T07:56:00.839Z"
   },
   {
    "duration": 297,
    "start_time": "2023-08-31T07:56:01.041Z"
   },
   {
    "duration": 4,
    "start_time": "2023-08-31T07:56:01.341Z"
   },
   {
    "duration": 200,
    "start_time": "2023-08-31T07:56:01.346Z"
   },
   {
    "duration": 57,
    "start_time": "2023-08-31T07:56:01.547Z"
   },
   {
    "duration": 93,
    "start_time": "2023-08-31T07:56:01.605Z"
   },
   {
    "duration": 126,
    "start_time": "2023-08-31T07:56:01.700Z"
   },
   {
    "duration": 141,
    "start_time": "2023-08-31T07:56:01.827Z"
   },
   {
    "duration": 393,
    "start_time": "2023-08-31T07:56:01.970Z"
   },
   {
    "duration": 374,
    "start_time": "2023-08-31T07:56:02.366Z"
   },
   {
    "duration": 283,
    "start_time": "2023-08-31T07:56:02.741Z"
   },
   {
    "duration": 218,
    "start_time": "2023-08-31T07:56:03.026Z"
   },
   {
    "duration": 36912,
    "start_time": "2023-08-31T07:58:11.934Z"
   },
   {
    "duration": 80,
    "start_time": "2023-08-31T07:59:03.694Z"
   },
   {
    "duration": 535,
    "start_time": "2023-08-31T07:59:14.848Z"
   },
   {
    "duration": 69,
    "start_time": "2023-08-31T07:59:27.859Z"
   },
   {
    "duration": 4,
    "start_time": "2023-08-31T08:00:53.509Z"
   },
   {
    "duration": 101,
    "start_time": "2023-08-31T08:01:32.358Z"
   },
   {
    "duration": 439,
    "start_time": "2023-08-31T08:01:42.659Z"
   },
   {
    "duration": 785,
    "start_time": "2023-08-31T08:01:53.244Z"
   },
   {
    "duration": 103,
    "start_time": "2023-08-31T08:02:02.200Z"
   },
   {
    "duration": 88,
    "start_time": "2023-08-31T08:02:15.622Z"
   },
   {
    "duration": 663,
    "start_time": "2023-08-31T08:02:40.969Z"
   },
   {
    "duration": 720,
    "start_time": "2023-08-31T08:02:47.935Z"
   },
   {
    "duration": 783,
    "start_time": "2023-08-31T08:03:51.125Z"
   },
   {
    "duration": 796,
    "start_time": "2023-08-31T08:04:01.547Z"
   },
   {
    "duration": 610,
    "start_time": "2023-08-31T08:04:06.784Z"
   },
   {
    "duration": 94,
    "start_time": "2023-08-31T08:04:19.041Z"
   },
   {
    "duration": 118,
    "start_time": "2023-08-31T08:04:35.860Z"
   },
   {
    "duration": 385,
    "start_time": "2023-08-31T08:05:18.658Z"
   },
   {
    "duration": 13,
    "start_time": "2023-08-31T08:06:58.596Z"
   },
   {
    "duration": 4,
    "start_time": "2023-08-31T08:07:04.491Z"
   },
   {
    "duration": 102,
    "start_time": "2023-08-31T08:07:06.095Z"
   },
   {
    "duration": 1474,
    "start_time": "2023-08-31T08:07:12.462Z"
   },
   {
    "duration": 114,
    "start_time": "2023-08-31T08:07:13.938Z"
   },
   {
    "duration": 12,
    "start_time": "2023-08-31T08:07:14.054Z"
   },
   {
    "duration": 8,
    "start_time": "2023-08-31T08:07:14.068Z"
   },
   {
    "duration": 28,
    "start_time": "2023-08-31T08:07:14.078Z"
   },
   {
    "duration": 24,
    "start_time": "2023-08-31T08:07:14.108Z"
   },
   {
    "duration": 44,
    "start_time": "2023-08-31T08:07:14.135Z"
   },
   {
    "duration": 17,
    "start_time": "2023-08-31T08:07:14.181Z"
   },
   {
    "duration": 16,
    "start_time": "2023-08-31T08:07:14.224Z"
   },
   {
    "duration": 25,
    "start_time": "2023-08-31T08:07:14.242Z"
   },
   {
    "duration": 6,
    "start_time": "2023-08-31T08:07:14.268Z"
   },
   {
    "duration": 139,
    "start_time": "2023-08-31T08:07:14.275Z"
   },
   {
    "duration": 101,
    "start_time": "2023-08-31T08:07:14.424Z"
   },
   {
    "duration": 263,
    "start_time": "2023-08-31T08:07:14.527Z"
   },
   {
    "duration": 33,
    "start_time": "2023-08-31T08:07:14.792Z"
   },
   {
    "duration": 41412,
    "start_time": "2023-08-31T08:07:14.837Z"
   },
   {
    "duration": 328,
    "start_time": "2023-08-31T08:07:56.251Z"
   },
   {
    "duration": 58,
    "start_time": "2023-08-31T08:07:56.581Z"
   },
   {
    "duration": 131,
    "start_time": "2023-08-31T08:07:56.642Z"
   },
   {
    "duration": 344,
    "start_time": "2023-08-31T08:07:56.774Z"
   },
   {
    "duration": 18,
    "start_time": "2023-08-31T08:07:57.120Z"
   },
   {
    "duration": 4,
    "start_time": "2023-08-31T08:07:57.153Z"
   },
   {
    "duration": 12,
    "start_time": "2023-08-31T08:07:57.159Z"
   },
   {
    "duration": 16,
    "start_time": "2023-08-31T08:07:57.173Z"
   },
   {
    "duration": 52,
    "start_time": "2023-08-31T08:07:57.190Z"
   },
   {
    "duration": 139,
    "start_time": "2023-08-31T08:07:57.247Z"
   },
   {
    "duration": 454,
    "start_time": "2023-08-31T08:07:57.388Z"
   },
   {
    "duration": 275,
    "start_time": "2023-08-31T08:07:57.845Z"
   },
   {
    "duration": 0,
    "start_time": "2023-08-31T08:07:58.122Z"
   },
   {
    "duration": 0,
    "start_time": "2023-08-31T08:07:58.129Z"
   },
   {
    "duration": 344,
    "start_time": "2023-08-31T08:12:25.210Z"
   },
   {
    "duration": 346,
    "start_time": "2023-08-31T08:13:19.361Z"
   },
   {
    "duration": 439,
    "start_time": "2023-08-31T08:14:26.060Z"
   },
   {
    "duration": 122,
    "start_time": "2023-08-31T08:14:57.166Z"
   },
   {
    "duration": 448,
    "start_time": "2023-08-31T08:15:20.409Z"
   },
   {
    "duration": 305,
    "start_time": "2023-08-31T08:18:16.372Z"
   },
   {
    "duration": 1766,
    "start_time": "2023-08-31T08:27:10.649Z"
   },
   {
    "duration": 166,
    "start_time": "2023-08-31T08:27:12.417Z"
   },
   {
    "duration": 13,
    "start_time": "2023-08-31T08:27:12.585Z"
   },
   {
    "duration": 2,
    "start_time": "2023-08-31T08:27:12.601Z"
   },
   {
    "duration": 38,
    "start_time": "2023-08-31T08:27:12.605Z"
   },
   {
    "duration": 27,
    "start_time": "2023-08-31T08:27:12.645Z"
   },
   {
    "duration": 61,
    "start_time": "2023-08-31T08:27:12.678Z"
   },
   {
    "duration": 51,
    "start_time": "2023-08-31T08:27:12.745Z"
   },
   {
    "duration": 13,
    "start_time": "2023-08-31T08:27:12.798Z"
   },
   {
    "duration": 23,
    "start_time": "2023-08-31T08:27:12.815Z"
   },
   {
    "duration": 24,
    "start_time": "2023-08-31T08:27:12.842Z"
   },
   {
    "duration": 217,
    "start_time": "2023-08-31T08:27:12.870Z"
   },
   {
    "duration": 269,
    "start_time": "2023-08-31T08:27:13.089Z"
   },
   {
    "duration": 281,
    "start_time": "2023-08-31T08:27:13.360Z"
   },
   {
    "duration": 40,
    "start_time": "2023-08-31T08:27:13.650Z"
   },
   {
    "duration": 47105,
    "start_time": "2023-08-31T08:27:13.692Z"
   },
   {
    "duration": 406,
    "start_time": "2023-08-31T08:28:00.798Z"
   },
   {
    "duration": 185,
    "start_time": "2023-08-31T08:28:01.206Z"
   },
   {
    "duration": 62,
    "start_time": "2023-08-31T08:28:01.394Z"
   },
   {
    "duration": 428,
    "start_time": "2023-08-31T08:28:01.464Z"
   },
   {
    "duration": 6,
    "start_time": "2023-08-31T08:28:01.894Z"
   },
   {
    "duration": 74,
    "start_time": "2023-08-31T08:28:01.906Z"
   },
   {
    "duration": 149,
    "start_time": "2023-08-31T08:28:01.985Z"
   },
   {
    "duration": 27,
    "start_time": "2023-08-31T08:28:02.135Z"
   },
   {
    "duration": 211,
    "start_time": "2023-08-31T08:28:02.164Z"
   },
   {
    "duration": 151,
    "start_time": "2023-08-31T08:28:02.448Z"
   },
   {
    "duration": 591,
    "start_time": "2023-08-31T08:28:02.603Z"
   },
   {
    "duration": 507,
    "start_time": "2023-08-31T08:28:03.197Z"
   },
   {
    "duration": 403,
    "start_time": "2023-08-31T08:28:03.706Z"
   },
   {
    "duration": 316,
    "start_time": "2023-08-31T08:28:04.112Z"
   },
   {
    "duration": 4109,
    "start_time": "2023-08-31T11:18:53.023Z"
   },
   {
    "duration": 173,
    "start_time": "2023-08-31T11:18:57.134Z"
   },
   {
    "duration": 16,
    "start_time": "2023-08-31T11:18:57.309Z"
   },
   {
    "duration": 3,
    "start_time": "2023-08-31T11:18:57.327Z"
   },
   {
    "duration": 51,
    "start_time": "2023-08-31T11:18:57.332Z"
   },
   {
    "duration": 12,
    "start_time": "2023-08-31T11:18:57.385Z"
   },
   {
    "duration": 42,
    "start_time": "2023-08-31T11:18:57.398Z"
   },
   {
    "duration": 48,
    "start_time": "2023-08-31T11:18:57.442Z"
   },
   {
    "duration": 10,
    "start_time": "2023-08-31T11:18:57.492Z"
   },
   {
    "duration": 6,
    "start_time": "2023-08-31T11:18:57.504Z"
   },
   {
    "duration": 6,
    "start_time": "2023-08-31T11:18:57.512Z"
   },
   {
    "duration": 186,
    "start_time": "2023-08-31T11:18:57.519Z"
   },
   {
    "duration": 4,
    "start_time": "2023-08-31T11:19:02.048Z"
   },
   {
    "duration": 11,
    "start_time": "2023-08-31T11:19:02.425Z"
   },
   {
    "duration": 445,
    "start_time": "2023-08-31T11:19:07.576Z"
   }
  ],
  "kernelspec": {
   "display_name": "Python 3 (ipykernel)",
   "language": "python",
   "name": "python3"
  },
  "language_info": {
   "codemirror_mode": {
    "name": "ipython",
    "version": 3
   },
   "file_extension": ".py",
   "mimetype": "text/x-python",
   "name": "python",
   "nbconvert_exporter": "python",
   "pygments_lexer": "ipython3",
   "version": "3.9.5"
  },
  "toc": {
   "base_numbering": 1,
   "nav_menu": {},
   "number_sections": true,
   "sideBar": true,
   "skip_h1_title": true,
   "title_cell": "Содержание",
   "title_sidebar": "Contents",
   "toc_cell": true,
   "toc_position": {},
   "toc_section_display": true,
   "toc_window_display": true
  }
 },
 "nbformat": 4,
 "nbformat_minor": 4
}
