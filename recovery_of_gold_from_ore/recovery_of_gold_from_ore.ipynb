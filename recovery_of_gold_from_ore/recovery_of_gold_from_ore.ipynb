{
 "cells": [
  {
   "cell_type": "markdown",
   "metadata": {},
   "source": [
    "# Recovery of gold from ore"
   ]
  },
  {
   "cell_type": "markdown",
   "metadata": {},
   "source": [
    "Prepare a prototype of a machine learning model for \"Digits\". The company develops solutions for the efficient operation of industrial enterprises.\n",
    "\n",
    "The model should predict the gold recovery coefficient from gold-bearing ore. Use data with parameters of extraction and purification.\n",
    "\n",
    "The model will help optimize production to avoid launching a facility with unprofitable characteristics.\n",
    "\n",
    "We need to:\n",
    "\n",
    "1. Prepare the data;\n",
    "2. Conduct exploratory data analysis;\n",
    "3. Build and train the model."
   ]
  },
  {
   "cell_type": "markdown",
   "metadata": {},
   "source": [
    "# Research process:\n",
    "\n",
    "- Open the data files with the following paths: 'gold_industry_train.csv', 'gold_industry_test.csv', 'gold_industry_full.csv'. The data is indexed by the date and time of information acquisition (feature: date). Parameters obtained at close times are often similar. The dataset 'gold_industry_full.csv' contains both training and test sets.\n",
    "Conduct analysis and data preprocessing if necessary.\n",
    "Verify the formula for calculating the enrichment efficiency.\n",
    "Analyze features not available in the test set.\n",
    "- Preprocess the data.\n",
    "    - Examine the changes in the concentration of elements at each stage.\n",
    "    - Analyze the distribution of particle sizes in the training and test sets.\n",
    "    - Investigate total concentrations.\n",
    "    - Build a prediction model.\n",
    "    - Write a function to calculate the final sMAPE.\n",
    "    - Train and test several models.\n",
    "    - Choose the best model and assess its quality on the test set.\n",
    "    - The data should adhere to the following parameters:\n",
    "\n",
    "- Technological process:\n",
    "    - Rougher feed — initial raw material.\n",
    "    - Rougher additions (or reagent additions) — flotation reagents: Xanthate, Sulphate, Depressant.\n",
    "    - Xanthate — xanthate (promoter or flotation activator).\n",
    "    - Sulphate — sulfate (sodium sulfide in this production).\n",
    "    - Depressant — depressant (sodium silicate).\n",
    "    - Rougher process — flotation.\n",
    "    - Rougher tails — tailings.\n",
    "    - Float banks — flotation unit.\n",
    "    - Cleaner process — cleaning.\n",
    "    - Rougher Au — rough gold concentrate.\n",
    "    - Final Au — final gold concentrate.\n",
    "- Stage parameters:\n",
    "    - air amount — air volume.\n",
    "    - fluid levels — liquid level.\n",
    "    - feed size — feed particle size.\n",
    "    - feed rate — feed rate.\n",
    "- Feature names should be in the format:\n",
    "    - [stage].[parameter_type].[parameter_name]\n",
    "    - Example: rougher.input.feed_ag\n",
    "- Possible values for the [stage] block:\n",
    "    - rougher — flotation.\n",
    "    - primary_cleaner — primary cleaning.\n",
    "    - secondary_cleaner — secondary cleaning.\n",
    "    - final — final characteristics.\n",
    "- Possible values for the [parameter_type] block:\n",
    "    - input — raw material parameters.\n",
    "    - output — product parameters.\n",
    "    - state — parameters characterizing the current stage state.\n",
    "    - calculation — calculated characteristics."
   ]
  },
  {
   "cell_type": "markdown",
   "metadata": {},
   "source": [
    "## Data preparation"
   ]
  },
  {
   "cell_type": "markdown",
   "metadata": {},
   "source": [
    "Import all the necessary libraries for the investigation."
   ]
  },
  {
   "cell_type": "code",
   "execution_count": 1,
   "metadata": {},
   "outputs": [],
   "source": [
    "import pandas as pd\n",
    "import matplotlib.pyplot as plt\n",
    "import numpy as np\n",
    "import seaborn as sns\n",
    "import os\n",
    "\n",
    "from sklearn.ensemble import RandomForestRegressor\n",
    "from sklearn.linear_model import LinearRegression\n",
    "from sklearn.model_selection import train_test_split\n",
    "from sklearn.preprocessing import StandardScaler\n",
    "from sklearn.metrics import mean_squared_error\n",
    "from sklearn.metrics import mean_absolute_error\n",
    "from sklearn.model_selection import cross_val_score\n",
    "from sklearn.metrics import make_scorer\n",
    "from sklearn.dummy import DummyRegressor\n",
    "from sklearn.model_selection import GridSearchCV"
   ]
  },
  {
   "cell_type": "markdown",
   "metadata": {},
   "source": [
    "Загрузим файлы и сохраним их в переменные."
   ]
  },
  {
   "cell_type": "code",
   "execution_count": 2,
   "metadata": {},
   "outputs": [
    {
     "name": "stdout",
     "output_type": "stream",
     "text": [
      "gold_train successfully loaded and saved from the first path!\n",
      "gold_test successfully loaded and saved from the first path!\n",
      "gold_full successfully loaded and saved from the first path!\n",
      "Files loaded successfully.\n"
     ]
    }
   ],
   "source": [
    "pth1_ar = ['/Users/daniyardjumaliev/Jupyter/Projects/datasets/gold_industry_train.csv', '/Users/daniyardjumaliev/Jupyter/Projects/datasets/gold_industry_test.csv', '/Users/daniyardjumaliev/Jupyter/Projects/datasets/gold_industry_full.csv']\n",
    "pth2_ar = ['backup_path1.csv', 'backup_path2.csv', 'backup_path3.csv']\n",
    "gold_train = None\n",
    "gold_test = None\n",
    "gold_full = None\n",
    "\n",
    "for pth1, pth2 in zip(pth1_ar, pth2_ar):\n",
    "    if os.path.exists(pth1):\n",
    "        query_1 = pd.read_csv(pth1)\n",
    "        if 'train' in pth1:\n",
    "            gold_train = query_1\n",
    "            print('gold_train successfully loaded and saved from the first path!')\n",
    "        elif 'test' in pth1:\n",
    "            gold_test = query_1\n",
    "            print('gold_test successfully loaded and saved from the first path!')\n",
    "        elif 'full' in pth1:\n",
    "            gold_full = query_1\n",
    "            print('gold_full successfully loaded and saved from the first path!')\n",
    "    elif os.path.exists(pth2):\n",
    "        query_2 = pd.read_csv(pth2)\n",
    "        if 'train' in pth2:\n",
    "            gold_train = query_2\n",
    "            print('gold_train successfully loaded and saved from the second path!')\n",
    "        elif 'test' in pth2:\n",
    "            gold_test = query_2\n",
    "            print('gold_test successfully loaded and saved from the second path!')\n",
    "        elif 'full' in pth2:\n",
    "            gold_full = query_2\n",
    "            print('gold_full successfully loaded and saved from the second path!')\n",
    "    else:\n",
    "        print(f'Warning: File not found in both paths for {pth1}')\n",
    "\n",
    "if gold_train is None or gold_test is None or gold_full is None:\n",
    "    print('Warning: Some files are missing or unavailable.')\n",
    "else:\n",
    "    print('Files loaded successfully.')"
   ]
  },
  {
   "cell_type": "markdown",
   "metadata": {},
   "source": [
    "Currently, we have only one source from which we take files for investigation. If alternative paths for locating files appear in the future, they can be added to the second array to avoid errors during the data loading stage."
   ]
  },
  {
   "cell_type": "markdown",
   "metadata": {},
   "source": [
    "Let's check for missing values and assess the data quality in the training set."
   ]
  },
  {
   "cell_type": "code",
   "execution_count": 3,
   "metadata": {},
   "outputs": [
    {
     "data": {
      "text/plain": [
       "'---------Train Sample-----------'"
      ]
     },
     "metadata": {},
     "output_type": "display_data"
    },
    {
     "data": {
      "text/html": [
       "<div>\n",
       "<style scoped>\n",
       "    .dataframe tbody tr th:only-of-type {\n",
       "        vertical-align: middle;\n",
       "    }\n",
       "\n",
       "    .dataframe tbody tr th {\n",
       "        vertical-align: top;\n",
       "    }\n",
       "\n",
       "    .dataframe thead th {\n",
       "        text-align: right;\n",
       "    }\n",
       "</style>\n",
       "<table border=\"1\" class=\"dataframe\">\n",
       "  <thead>\n",
       "    <tr style=\"text-align: right;\">\n",
       "      <th></th>\n",
       "      <th>date</th>\n",
       "      <th>rougher.input.feed_au</th>\n",
       "      <th>rougher.input.feed_ag</th>\n",
       "      <th>rougher.input.feed_pb</th>\n",
       "      <th>rougher.input.feed_sol</th>\n",
       "      <th>rougher.input.feed_rate</th>\n",
       "      <th>rougher.input.feed_size</th>\n",
       "      <th>rougher.input.floatbank10_sulfate</th>\n",
       "      <th>rougher.input.floatbank10_xanthate</th>\n",
       "      <th>rougher.state.floatbank10_a_air</th>\n",
       "      <th>...</th>\n",
       "      <th>secondary_cleaner.output.tail_sol</th>\n",
       "      <th>final.output.concentrate_au</th>\n",
       "      <th>final.output.concentrate_ag</th>\n",
       "      <th>final.output.concentrate_pb</th>\n",
       "      <th>final.output.concentrate_sol</th>\n",
       "      <th>final.output.recovery</th>\n",
       "      <th>final.output.tail_au</th>\n",
       "      <th>final.output.tail_ag</th>\n",
       "      <th>final.output.tail_pb</th>\n",
       "      <th>final.output.tail_sol</th>\n",
       "    </tr>\n",
       "  </thead>\n",
       "  <tbody>\n",
       "    <tr>\n",
       "      <th>0</th>\n",
       "      <td>2016-01-15 00:00:00</td>\n",
       "      <td>6.486150</td>\n",
       "      <td>6.100378</td>\n",
       "      <td>2.284912</td>\n",
       "      <td>36.808594</td>\n",
       "      <td>523.546326</td>\n",
       "      <td>55.486599</td>\n",
       "      <td>11.986616</td>\n",
       "      <td>6.007990</td>\n",
       "      <td>999.706909</td>\n",
       "      <td>...</td>\n",
       "      <td>8.764648</td>\n",
       "      <td>42.192020</td>\n",
       "      <td>6.055403</td>\n",
       "      <td>9.889648</td>\n",
       "      <td>5.507324</td>\n",
       "      <td>70.541216</td>\n",
       "      <td>2.143149</td>\n",
       "      <td>10.411962</td>\n",
       "      <td>0.895447</td>\n",
       "      <td>16.904297</td>\n",
       "    </tr>\n",
       "    <tr>\n",
       "      <th>1</th>\n",
       "      <td>2016-01-15 01:00:00</td>\n",
       "      <td>6.478583</td>\n",
       "      <td>6.161113</td>\n",
       "      <td>2.266033</td>\n",
       "      <td>35.753385</td>\n",
       "      <td>525.290581</td>\n",
       "      <td>57.278666</td>\n",
       "      <td>11.971193</td>\n",
       "      <td>6.005766</td>\n",
       "      <td>1000.286398</td>\n",
       "      <td>...</td>\n",
       "      <td>9.001494</td>\n",
       "      <td>42.701629</td>\n",
       "      <td>6.029369</td>\n",
       "      <td>9.968944</td>\n",
       "      <td>5.257781</td>\n",
       "      <td>69.266198</td>\n",
       "      <td>2.224930</td>\n",
       "      <td>10.462676</td>\n",
       "      <td>0.927452</td>\n",
       "      <td>16.634514</td>\n",
       "    </tr>\n",
       "    <tr>\n",
       "      <th>2</th>\n",
       "      <td>2016-01-15 02:00:00</td>\n",
       "      <td>6.362222</td>\n",
       "      <td>6.116455</td>\n",
       "      <td>2.159622</td>\n",
       "      <td>35.971630</td>\n",
       "      <td>530.026610</td>\n",
       "      <td>57.510649</td>\n",
       "      <td>11.920603</td>\n",
       "      <td>6.197377</td>\n",
       "      <td>999.719565</td>\n",
       "      <td>...</td>\n",
       "      <td>8.842896</td>\n",
       "      <td>42.657501</td>\n",
       "      <td>6.055926</td>\n",
       "      <td>10.213995</td>\n",
       "      <td>5.383759</td>\n",
       "      <td>68.116445</td>\n",
       "      <td>2.257889</td>\n",
       "      <td>10.507046</td>\n",
       "      <td>0.953716</td>\n",
       "      <td>16.208849</td>\n",
       "    </tr>\n",
       "    <tr>\n",
       "      <th>3</th>\n",
       "      <td>2016-01-15 03:00:00</td>\n",
       "      <td>6.118189</td>\n",
       "      <td>6.043309</td>\n",
       "      <td>2.037807</td>\n",
       "      <td>36.862241</td>\n",
       "      <td>542.590390</td>\n",
       "      <td>57.792734</td>\n",
       "      <td>11.630094</td>\n",
       "      <td>6.203177</td>\n",
       "      <td>999.814770</td>\n",
       "      <td>...</td>\n",
       "      <td>9.122857</td>\n",
       "      <td>42.689819</td>\n",
       "      <td>6.047977</td>\n",
       "      <td>9.977019</td>\n",
       "      <td>4.858634</td>\n",
       "      <td>68.347543</td>\n",
       "      <td>2.146849</td>\n",
       "      <td>10.422762</td>\n",
       "      <td>0.883763</td>\n",
       "      <td>16.532835</td>\n",
       "    </tr>\n",
       "    <tr>\n",
       "      <th>4</th>\n",
       "      <td>2016-01-15 04:00:00</td>\n",
       "      <td>5.663707</td>\n",
       "      <td>6.060915</td>\n",
       "      <td>1.786875</td>\n",
       "      <td>34.347666</td>\n",
       "      <td>540.531893</td>\n",
       "      <td>56.047189</td>\n",
       "      <td>10.957755</td>\n",
       "      <td>6.198826</td>\n",
       "      <td>999.678690</td>\n",
       "      <td>...</td>\n",
       "      <td>8.871028</td>\n",
       "      <td>42.774141</td>\n",
       "      <td>6.148599</td>\n",
       "      <td>10.142511</td>\n",
       "      <td>4.939416</td>\n",
       "      <td>66.927016</td>\n",
       "      <td>2.055292</td>\n",
       "      <td>10.360302</td>\n",
       "      <td>0.792826</td>\n",
       "      <td>16.525686</td>\n",
       "    </tr>\n",
       "    <tr>\n",
       "      <th>...</th>\n",
       "      <td>...</td>\n",
       "      <td>...</td>\n",
       "      <td>...</td>\n",
       "      <td>...</td>\n",
       "      <td>...</td>\n",
       "      <td>...</td>\n",
       "      <td>...</td>\n",
       "      <td>...</td>\n",
       "      <td>...</td>\n",
       "      <td>...</td>\n",
       "      <td>...</td>\n",
       "      <td>...</td>\n",
       "      <td>...</td>\n",
       "      <td>...</td>\n",
       "      <td>...</td>\n",
       "      <td>...</td>\n",
       "      <td>...</td>\n",
       "      <td>...</td>\n",
       "      <td>...</td>\n",
       "      <td>...</td>\n",
       "      <td>...</td>\n",
       "    </tr>\n",
       "    <tr>\n",
       "      <th>14574</th>\n",
       "      <td>2017-12-09 09:59:59</td>\n",
       "      <td>4.599524</td>\n",
       "      <td>5.822083</td>\n",
       "      <td>4.255546</td>\n",
       "      <td>37.480479</td>\n",
       "      <td>559.895089</td>\n",
       "      <td>85.247019</td>\n",
       "      <td>6.775864</td>\n",
       "      <td>9.005425</td>\n",
       "      <td>1200.454685</td>\n",
       "      <td>...</td>\n",
       "      <td>0.000000</td>\n",
       "      <td>47.765393</td>\n",
       "      <td>2.925574</td>\n",
       "      <td>10.855586</td>\n",
       "      <td>7.053796</td>\n",
       "      <td>64.054699</td>\n",
       "      <td>1.761994</td>\n",
       "      <td>8.578502</td>\n",
       "      <td>3.365823</td>\n",
       "      <td>10.603464</td>\n",
       "    </tr>\n",
       "    <tr>\n",
       "      <th>14575</th>\n",
       "      <td>2017-12-09 10:59:59</td>\n",
       "      <td>4.658125</td>\n",
       "      <td>5.844800</td>\n",
       "      <td>4.241564</td>\n",
       "      <td>37.395565</td>\n",
       "      <td>561.464855</td>\n",
       "      <td>83.860651</td>\n",
       "      <td>6.770561</td>\n",
       "      <td>9.000889</td>\n",
       "      <td>1200.958146</td>\n",
       "      <td>...</td>\n",
       "      <td>0.000000</td>\n",
       "      <td>46.956275</td>\n",
       "      <td>3.076566</td>\n",
       "      <td>11.542302</td>\n",
       "      <td>6.929418</td>\n",
       "      <td>68.643324</td>\n",
       "      <td>1.567363</td>\n",
       "      <td>8.792890</td>\n",
       "      <td>3.120351</td>\n",
       "      <td>10.184715</td>\n",
       "    </tr>\n",
       "    <tr>\n",
       "      <th>14576</th>\n",
       "      <td>2017-12-09 11:59:59</td>\n",
       "      <td>5.335862</td>\n",
       "      <td>6.091855</td>\n",
       "      <td>4.617558</td>\n",
       "      <td>37.369774</td>\n",
       "      <td>560.889077</td>\n",
       "      <td>85.718304</td>\n",
       "      <td>7.762770</td>\n",
       "      <td>9.158609</td>\n",
       "      <td>1199.245914</td>\n",
       "      <td>...</td>\n",
       "      <td>0.000000</td>\n",
       "      <td>46.713954</td>\n",
       "      <td>3.224920</td>\n",
       "      <td>11.356233</td>\n",
       "      <td>6.803482</td>\n",
       "      <td>73.755150</td>\n",
       "      <td>1.529220</td>\n",
       "      <td>8.769645</td>\n",
       "      <td>3.141541</td>\n",
       "      <td>10.403181</td>\n",
       "    </tr>\n",
       "    <tr>\n",
       "      <th>14577</th>\n",
       "      <td>2017-12-09 12:59:59</td>\n",
       "      <td>4.838619</td>\n",
       "      <td>6.121323</td>\n",
       "      <td>4.144989</td>\n",
       "      <td>38.591551</td>\n",
       "      <td>559.031805</td>\n",
       "      <td>119.499241</td>\n",
       "      <td>7.356687</td>\n",
       "      <td>9.304952</td>\n",
       "      <td>1196.569267</td>\n",
       "      <td>...</td>\n",
       "      <td>0.000000</td>\n",
       "      <td>46.866780</td>\n",
       "      <td>3.195978</td>\n",
       "      <td>11.349355</td>\n",
       "      <td>6.862249</td>\n",
       "      <td>69.049291</td>\n",
       "      <td>1.612542</td>\n",
       "      <td>8.897321</td>\n",
       "      <td>3.130493</td>\n",
       "      <td>10.549470</td>\n",
       "    </tr>\n",
       "    <tr>\n",
       "      <th>14578</th>\n",
       "      <td>2017-12-09 13:59:59</td>\n",
       "      <td>4.525061</td>\n",
       "      <td>5.970515</td>\n",
       "      <td>4.020002</td>\n",
       "      <td>40.074026</td>\n",
       "      <td>555.682872</td>\n",
       "      <td>122.262690</td>\n",
       "      <td>6.586020</td>\n",
       "      <td>9.299606</td>\n",
       "      <td>1204.866639</td>\n",
       "      <td>...</td>\n",
       "      <td>0.000000</td>\n",
       "      <td>46.795691</td>\n",
       "      <td>3.109998</td>\n",
       "      <td>11.434366</td>\n",
       "      <td>6.886013</td>\n",
       "      <td>67.002189</td>\n",
       "      <td>1.596616</td>\n",
       "      <td>8.529606</td>\n",
       "      <td>2.911418</td>\n",
       "      <td>11.115147</td>\n",
       "    </tr>\n",
       "  </tbody>\n",
       "</table>\n",
       "<p>14579 rows × 87 columns</p>\n",
       "</div>"
      ],
      "text/plain": [
       "                      date  rougher.input.feed_au  rougher.input.feed_ag  \\\n",
       "0      2016-01-15 00:00:00               6.486150               6.100378   \n",
       "1      2016-01-15 01:00:00               6.478583               6.161113   \n",
       "2      2016-01-15 02:00:00               6.362222               6.116455   \n",
       "3      2016-01-15 03:00:00               6.118189               6.043309   \n",
       "4      2016-01-15 04:00:00               5.663707               6.060915   \n",
       "...                    ...                    ...                    ...   \n",
       "14574  2017-12-09 09:59:59               4.599524               5.822083   \n",
       "14575  2017-12-09 10:59:59               4.658125               5.844800   \n",
       "14576  2017-12-09 11:59:59               5.335862               6.091855   \n",
       "14577  2017-12-09 12:59:59               4.838619               6.121323   \n",
       "14578  2017-12-09 13:59:59               4.525061               5.970515   \n",
       "\n",
       "       rougher.input.feed_pb  rougher.input.feed_sol  rougher.input.feed_rate  \\\n",
       "0                   2.284912               36.808594               523.546326   \n",
       "1                   2.266033               35.753385               525.290581   \n",
       "2                   2.159622               35.971630               530.026610   \n",
       "3                   2.037807               36.862241               542.590390   \n",
       "4                   1.786875               34.347666               540.531893   \n",
       "...                      ...                     ...                      ...   \n",
       "14574               4.255546               37.480479               559.895089   \n",
       "14575               4.241564               37.395565               561.464855   \n",
       "14576               4.617558               37.369774               560.889077   \n",
       "14577               4.144989               38.591551               559.031805   \n",
       "14578               4.020002               40.074026               555.682872   \n",
       "\n",
       "       rougher.input.feed_size  rougher.input.floatbank10_sulfate  \\\n",
       "0                    55.486599                          11.986616   \n",
       "1                    57.278666                          11.971193   \n",
       "2                    57.510649                          11.920603   \n",
       "3                    57.792734                          11.630094   \n",
       "4                    56.047189                          10.957755   \n",
       "...                        ...                                ...   \n",
       "14574                85.247019                           6.775864   \n",
       "14575                83.860651                           6.770561   \n",
       "14576                85.718304                           7.762770   \n",
       "14577               119.499241                           7.356687   \n",
       "14578               122.262690                           6.586020   \n",
       "\n",
       "       rougher.input.floatbank10_xanthate  rougher.state.floatbank10_a_air  \\\n",
       "0                                6.007990                       999.706909   \n",
       "1                                6.005766                      1000.286398   \n",
       "2                                6.197377                       999.719565   \n",
       "3                                6.203177                       999.814770   \n",
       "4                                6.198826                       999.678690   \n",
       "...                                   ...                              ...   \n",
       "14574                            9.005425                      1200.454685   \n",
       "14575                            9.000889                      1200.958146   \n",
       "14576                            9.158609                      1199.245914   \n",
       "14577                            9.304952                      1196.569267   \n",
       "14578                            9.299606                      1204.866639   \n",
       "\n",
       "       ...  secondary_cleaner.output.tail_sol  final.output.concentrate_au  \\\n",
       "0      ...                           8.764648                    42.192020   \n",
       "1      ...                           9.001494                    42.701629   \n",
       "2      ...                           8.842896                    42.657501   \n",
       "3      ...                           9.122857                    42.689819   \n",
       "4      ...                           8.871028                    42.774141   \n",
       "...    ...                                ...                          ...   \n",
       "14574  ...                           0.000000                    47.765393   \n",
       "14575  ...                           0.000000                    46.956275   \n",
       "14576  ...                           0.000000                    46.713954   \n",
       "14577  ...                           0.000000                    46.866780   \n",
       "14578  ...                           0.000000                    46.795691   \n",
       "\n",
       "       final.output.concentrate_ag  final.output.concentrate_pb  \\\n",
       "0                         6.055403                     9.889648   \n",
       "1                         6.029369                     9.968944   \n",
       "2                         6.055926                    10.213995   \n",
       "3                         6.047977                     9.977019   \n",
       "4                         6.148599                    10.142511   \n",
       "...                            ...                          ...   \n",
       "14574                     2.925574                    10.855586   \n",
       "14575                     3.076566                    11.542302   \n",
       "14576                     3.224920                    11.356233   \n",
       "14577                     3.195978                    11.349355   \n",
       "14578                     3.109998                    11.434366   \n",
       "\n",
       "       final.output.concentrate_sol  final.output.recovery  \\\n",
       "0                          5.507324              70.541216   \n",
       "1                          5.257781              69.266198   \n",
       "2                          5.383759              68.116445   \n",
       "3                          4.858634              68.347543   \n",
       "4                          4.939416              66.927016   \n",
       "...                             ...                    ...   \n",
       "14574                      7.053796              64.054699   \n",
       "14575                      6.929418              68.643324   \n",
       "14576                      6.803482              73.755150   \n",
       "14577                      6.862249              69.049291   \n",
       "14578                      6.886013              67.002189   \n",
       "\n",
       "       final.output.tail_au  final.output.tail_ag  final.output.tail_pb  \\\n",
       "0                  2.143149             10.411962              0.895447   \n",
       "1                  2.224930             10.462676              0.927452   \n",
       "2                  2.257889             10.507046              0.953716   \n",
       "3                  2.146849             10.422762              0.883763   \n",
       "4                  2.055292             10.360302              0.792826   \n",
       "...                     ...                   ...                   ...   \n",
       "14574              1.761994              8.578502              3.365823   \n",
       "14575              1.567363              8.792890              3.120351   \n",
       "14576              1.529220              8.769645              3.141541   \n",
       "14577              1.612542              8.897321              3.130493   \n",
       "14578              1.596616              8.529606              2.911418   \n",
       "\n",
       "       final.output.tail_sol  \n",
       "0                  16.904297  \n",
       "1                  16.634514  \n",
       "2                  16.208849  \n",
       "3                  16.532835  \n",
       "4                  16.525686  \n",
       "...                      ...  \n",
       "14574              10.603464  \n",
       "14575              10.184715  \n",
       "14576              10.403181  \n",
       "14577              10.549470  \n",
       "14578              11.115147  \n",
       "\n",
       "[14579 rows x 87 columns]"
      ]
     },
     "metadata": {},
     "output_type": "display_data"
    },
    {
     "data": {
      "text/html": [
       "<div>\n",
       "<style scoped>\n",
       "    .dataframe tbody tr th:only-of-type {\n",
       "        vertical-align: middle;\n",
       "    }\n",
       "\n",
       "    .dataframe tbody tr th {\n",
       "        vertical-align: top;\n",
       "    }\n",
       "\n",
       "    .dataframe thead th {\n",
       "        text-align: right;\n",
       "    }\n",
       "</style>\n",
       "<table border=\"1\" class=\"dataframe\">\n",
       "  <thead>\n",
       "    <tr style=\"text-align: right;\">\n",
       "      <th></th>\n",
       "      <th>rougher.input.feed_au</th>\n",
       "      <th>rougher.input.feed_ag</th>\n",
       "      <th>rougher.input.feed_pb</th>\n",
       "      <th>rougher.input.feed_sol</th>\n",
       "      <th>rougher.input.feed_rate</th>\n",
       "      <th>rougher.input.feed_size</th>\n",
       "      <th>rougher.input.floatbank10_sulfate</th>\n",
       "      <th>rougher.input.floatbank10_xanthate</th>\n",
       "      <th>rougher.state.floatbank10_a_air</th>\n",
       "      <th>rougher.state.floatbank10_a_level</th>\n",
       "      <th>...</th>\n",
       "      <th>secondary_cleaner.output.tail_sol</th>\n",
       "      <th>final.output.concentrate_au</th>\n",
       "      <th>final.output.concentrate_ag</th>\n",
       "      <th>final.output.concentrate_pb</th>\n",
       "      <th>final.output.concentrate_sol</th>\n",
       "      <th>final.output.recovery</th>\n",
       "      <th>final.output.tail_au</th>\n",
       "      <th>final.output.tail_ag</th>\n",
       "      <th>final.output.tail_pb</th>\n",
       "      <th>final.output.tail_sol</th>\n",
       "    </tr>\n",
       "  </thead>\n",
       "  <tbody>\n",
       "    <tr>\n",
       "      <th>count</th>\n",
       "      <td>14579.000000</td>\n",
       "      <td>14579.000000</td>\n",
       "      <td>14507.000000</td>\n",
       "      <td>14502.000000</td>\n",
       "      <td>14572.000000</td>\n",
       "      <td>14478.000000</td>\n",
       "      <td>14548.000000</td>\n",
       "      <td>14572.000000</td>\n",
       "      <td>14579.000000</td>\n",
       "      <td>14579.000000</td>\n",
       "      <td>...</td>\n",
       "      <td>13659.000000</td>\n",
       "      <td>14579.000000</td>\n",
       "      <td>14578.000000</td>\n",
       "      <td>14578.000000</td>\n",
       "      <td>14387.000000</td>\n",
       "      <td>14579.000000</td>\n",
       "      <td>14579.000000</td>\n",
       "      <td>14578.000000</td>\n",
       "      <td>14504.000000</td>\n",
       "      <td>14574.000000</td>\n",
       "    </tr>\n",
       "    <tr>\n",
       "      <th>mean</th>\n",
       "      <td>8.352941</td>\n",
       "      <td>8.877460</td>\n",
       "      <td>3.604221</td>\n",
       "      <td>36.561420</td>\n",
       "      <td>474.332784</td>\n",
       "      <td>58.922712</td>\n",
       "      <td>12.427399</td>\n",
       "      <td>5.994854</td>\n",
       "      <td>1104.208278</td>\n",
       "      <td>-379.367166</td>\n",
       "      <td>...</td>\n",
       "      <td>7.111347</td>\n",
       "      <td>43.979499</td>\n",
       "      <td>5.192145</td>\n",
       "      <td>9.923809</td>\n",
       "      <td>9.566676</td>\n",
       "      <td>66.759066</td>\n",
       "      <td>3.087939</td>\n",
       "      <td>9.731972</td>\n",
       "      <td>2.719985</td>\n",
       "      <td>10.612745</td>\n",
       "    </tr>\n",
       "    <tr>\n",
       "      <th>std</th>\n",
       "      <td>1.934376</td>\n",
       "      <td>1.922536</td>\n",
       "      <td>1.056063</td>\n",
       "      <td>5.209823</td>\n",
       "      <td>108.503552</td>\n",
       "      <td>22.407410</td>\n",
       "      <td>3.428939</td>\n",
       "      <td>1.152873</td>\n",
       "      <td>162.235606</td>\n",
       "      <td>94.652311</td>\n",
       "      <td>...</td>\n",
       "      <td>3.909951</td>\n",
       "      <td>5.471437</td>\n",
       "      <td>1.388014</td>\n",
       "      <td>1.706976</td>\n",
       "      <td>2.805654</td>\n",
       "      <td>10.619709</td>\n",
       "      <td>0.915187</td>\n",
       "      <td>2.358143</td>\n",
       "      <td>0.958929</td>\n",
       "      <td>2.871075</td>\n",
       "    </tr>\n",
       "    <tr>\n",
       "      <th>min</th>\n",
       "      <td>0.010000</td>\n",
       "      <td>0.010000</td>\n",
       "      <td>0.010000</td>\n",
       "      <td>0.010000</td>\n",
       "      <td>0.002986</td>\n",
       "      <td>0.049194</td>\n",
       "      <td>0.001083</td>\n",
       "      <td>0.000568</td>\n",
       "      <td>-0.042069</td>\n",
       "      <td>-657.949759</td>\n",
       "      <td>...</td>\n",
       "      <td>0.000000</td>\n",
       "      <td>0.000000</td>\n",
       "      <td>0.000000</td>\n",
       "      <td>0.000000</td>\n",
       "      <td>0.000000</td>\n",
       "      <td>0.000000</td>\n",
       "      <td>0.000000</td>\n",
       "      <td>0.000000</td>\n",
       "      <td>0.000000</td>\n",
       "      <td>0.000000</td>\n",
       "    </tr>\n",
       "    <tr>\n",
       "      <th>25%</th>\n",
       "      <td>6.932996</td>\n",
       "      <td>7.341922</td>\n",
       "      <td>2.880490</td>\n",
       "      <td>34.093951</td>\n",
       "      <td>411.048483</td>\n",
       "      <td>47.278490</td>\n",
       "      <td>10.002832</td>\n",
       "      <td>5.304167</td>\n",
       "      <td>999.644856</td>\n",
       "      <td>-499.861797</td>\n",
       "      <td>...</td>\n",
       "      <td>3.784897</td>\n",
       "      <td>43.345906</td>\n",
       "      <td>4.283347</td>\n",
       "      <td>9.103183</td>\n",
       "      <td>7.860030</td>\n",
       "      <td>63.114596</td>\n",
       "      <td>2.505287</td>\n",
       "      <td>8.088928</td>\n",
       "      <td>2.036512</td>\n",
       "      <td>9.013412</td>\n",
       "    </tr>\n",
       "    <tr>\n",
       "      <th>50%</th>\n",
       "      <td>8.225284</td>\n",
       "      <td>8.715859</td>\n",
       "      <td>3.532399</td>\n",
       "      <td>37.097511</td>\n",
       "      <td>498.187968</td>\n",
       "      <td>54.361187</td>\n",
       "      <td>12.003320</td>\n",
       "      <td>6.003053</td>\n",
       "      <td>1000.982624</td>\n",
       "      <td>-300.314199</td>\n",
       "      <td>...</td>\n",
       "      <td>7.629968</td>\n",
       "      <td>44.975014</td>\n",
       "      <td>5.118647</td>\n",
       "      <td>10.046455</td>\n",
       "      <td>9.301970</td>\n",
       "      <td>67.962788</td>\n",
       "      <td>3.029238</td>\n",
       "      <td>9.818512</td>\n",
       "      <td>2.774847</td>\n",
       "      <td>10.670515</td>\n",
       "    </tr>\n",
       "    <tr>\n",
       "      <th>75%</th>\n",
       "      <td>9.832210</td>\n",
       "      <td>10.255843</td>\n",
       "      <td>4.257282</td>\n",
       "      <td>39.899799</td>\n",
       "      <td>549.586552</td>\n",
       "      <td>64.464926</td>\n",
       "      <td>14.929903</td>\n",
       "      <td>6.796632</td>\n",
       "      <td>1292.663971</td>\n",
       "      <td>-299.989315</td>\n",
       "      <td>...</td>\n",
       "      <td>10.367050</td>\n",
       "      <td>46.275153</td>\n",
       "      <td>5.925380</td>\n",
       "      <td>10.981203</td>\n",
       "      <td>11.001573</td>\n",
       "      <td>72.598187</td>\n",
       "      <td>3.614098</td>\n",
       "      <td>11.169187</td>\n",
       "      <td>3.353845</td>\n",
       "      <td>12.130827</td>\n",
       "    </tr>\n",
       "    <tr>\n",
       "      <th>max</th>\n",
       "      <td>13.731330</td>\n",
       "      <td>14.596026</td>\n",
       "      <td>7.052325</td>\n",
       "      <td>53.475325</td>\n",
       "      <td>717.508837</td>\n",
       "      <td>484.967466</td>\n",
       "      <td>36.118275</td>\n",
       "      <td>9.703448</td>\n",
       "      <td>1512.299531</td>\n",
       "      <td>-273.776101</td>\n",
       "      <td>...</td>\n",
       "      <td>26.000772</td>\n",
       "      <td>52.756638</td>\n",
       "      <td>16.001945</td>\n",
       "      <td>16.705297</td>\n",
       "      <td>19.423912</td>\n",
       "      <td>100.000000</td>\n",
       "      <td>8.245022</td>\n",
       "      <td>19.552149</td>\n",
       "      <td>5.804178</td>\n",
       "      <td>22.317730</td>\n",
       "    </tr>\n",
       "  </tbody>\n",
       "</table>\n",
       "<p>8 rows × 86 columns</p>\n",
       "</div>"
      ],
      "text/plain": [
       "       rougher.input.feed_au  rougher.input.feed_ag  rougher.input.feed_pb  \\\n",
       "count           14579.000000           14579.000000           14507.000000   \n",
       "mean                8.352941               8.877460               3.604221   \n",
       "std                 1.934376               1.922536               1.056063   \n",
       "min                 0.010000               0.010000               0.010000   \n",
       "25%                 6.932996               7.341922               2.880490   \n",
       "50%                 8.225284               8.715859               3.532399   \n",
       "75%                 9.832210              10.255843               4.257282   \n",
       "max                13.731330              14.596026               7.052325   \n",
       "\n",
       "       rougher.input.feed_sol  rougher.input.feed_rate  \\\n",
       "count            14502.000000             14572.000000   \n",
       "mean                36.561420               474.332784   \n",
       "std                  5.209823               108.503552   \n",
       "min                  0.010000                 0.002986   \n",
       "25%                 34.093951               411.048483   \n",
       "50%                 37.097511               498.187968   \n",
       "75%                 39.899799               549.586552   \n",
       "max                 53.475325               717.508837   \n",
       "\n",
       "       rougher.input.feed_size  rougher.input.floatbank10_sulfate  \\\n",
       "count             14478.000000                       14548.000000   \n",
       "mean                 58.922712                          12.427399   \n",
       "std                  22.407410                           3.428939   \n",
       "min                   0.049194                           0.001083   \n",
       "25%                  47.278490                          10.002832   \n",
       "50%                  54.361187                          12.003320   \n",
       "75%                  64.464926                          14.929903   \n",
       "max                 484.967466                          36.118275   \n",
       "\n",
       "       rougher.input.floatbank10_xanthate  rougher.state.floatbank10_a_air  \\\n",
       "count                        14572.000000                     14579.000000   \n",
       "mean                             5.994854                      1104.208278   \n",
       "std                              1.152873                       162.235606   \n",
       "min                              0.000568                        -0.042069   \n",
       "25%                              5.304167                       999.644856   \n",
       "50%                              6.003053                      1000.982624   \n",
       "75%                              6.796632                      1292.663971   \n",
       "max                              9.703448                      1512.299531   \n",
       "\n",
       "       rougher.state.floatbank10_a_level  ...  \\\n",
       "count                       14579.000000  ...   \n",
       "mean                         -379.367166  ...   \n",
       "std                            94.652311  ...   \n",
       "min                          -657.949759  ...   \n",
       "25%                          -499.861797  ...   \n",
       "50%                          -300.314199  ...   \n",
       "75%                          -299.989315  ...   \n",
       "max                          -273.776101  ...   \n",
       "\n",
       "       secondary_cleaner.output.tail_sol  final.output.concentrate_au  \\\n",
       "count                       13659.000000                 14579.000000   \n",
       "mean                            7.111347                    43.979499   \n",
       "std                             3.909951                     5.471437   \n",
       "min                             0.000000                     0.000000   \n",
       "25%                             3.784897                    43.345906   \n",
       "50%                             7.629968                    44.975014   \n",
       "75%                            10.367050                    46.275153   \n",
       "max                            26.000772                    52.756638   \n",
       "\n",
       "       final.output.concentrate_ag  final.output.concentrate_pb  \\\n",
       "count                 14578.000000                 14578.000000   \n",
       "mean                      5.192145                     9.923809   \n",
       "std                       1.388014                     1.706976   \n",
       "min                       0.000000                     0.000000   \n",
       "25%                       4.283347                     9.103183   \n",
       "50%                       5.118647                    10.046455   \n",
       "75%                       5.925380                    10.981203   \n",
       "max                      16.001945                    16.705297   \n",
       "\n",
       "       final.output.concentrate_sol  final.output.recovery  \\\n",
       "count                  14387.000000           14579.000000   \n",
       "mean                       9.566676              66.759066   \n",
       "std                        2.805654              10.619709   \n",
       "min                        0.000000               0.000000   \n",
       "25%                        7.860030              63.114596   \n",
       "50%                        9.301970              67.962788   \n",
       "75%                       11.001573              72.598187   \n",
       "max                       19.423912             100.000000   \n",
       "\n",
       "       final.output.tail_au  final.output.tail_ag  final.output.tail_pb  \\\n",
       "count          14579.000000          14578.000000          14504.000000   \n",
       "mean               3.087939              9.731972              2.719985   \n",
       "std                0.915187              2.358143              0.958929   \n",
       "min                0.000000              0.000000              0.000000   \n",
       "25%                2.505287              8.088928              2.036512   \n",
       "50%                3.029238              9.818512              2.774847   \n",
       "75%                3.614098             11.169187              3.353845   \n",
       "max                8.245022             19.552149              5.804178   \n",
       "\n",
       "       final.output.tail_sol  \n",
       "count           14574.000000  \n",
       "mean               10.612745  \n",
       "std                 2.871075  \n",
       "min                 0.000000  \n",
       "25%                 9.013412  \n",
       "50%                10.670515  \n",
       "75%                12.130827  \n",
       "max                22.317730  \n",
       "\n",
       "[8 rows x 86 columns]"
      ]
     },
     "metadata": {},
     "output_type": "display_data"
    },
    {
     "name": "stdout",
     "output_type": "stream",
     "text": [
      "<class 'pandas.core.frame.DataFrame'>\n",
      "RangeIndex: 14579 entries, 0 to 14578\n",
      "Data columns (total 87 columns):\n",
      " #   Column                                              Non-Null Count  Dtype  \n",
      "---  ------                                              --------------  -----  \n",
      " 0   date                                                14579 non-null  object \n",
      " 1   rougher.input.feed_au                               14579 non-null  float64\n",
      " 2   rougher.input.feed_ag                               14579 non-null  float64\n",
      " 3   rougher.input.feed_pb                               14507 non-null  float64\n",
      " 4   rougher.input.feed_sol                              14502 non-null  float64\n",
      " 5   rougher.input.feed_rate                             14572 non-null  float64\n",
      " 6   rougher.input.feed_size                             14478 non-null  float64\n",
      " 7   rougher.input.floatbank10_sulfate                   14548 non-null  float64\n",
      " 8   rougher.input.floatbank10_xanthate                  14572 non-null  float64\n",
      " 9   rougher.state.floatbank10_a_air                     14579 non-null  float64\n",
      " 10  rougher.state.floatbank10_a_level                   14579 non-null  float64\n",
      " 11  rougher.state.floatbank10_b_air                     14579 non-null  float64\n",
      " 12  rougher.state.floatbank10_b_level                   14579 non-null  float64\n",
      " 13  rougher.state.floatbank10_c_air                     14579 non-null  float64\n",
      " 14  rougher.state.floatbank10_c_level                   14579 non-null  float64\n",
      " 15  rougher.state.floatbank10_d_air                     14579 non-null  float64\n",
      " 16  rougher.state.floatbank10_d_level                   14579 non-null  float64\n",
      " 17  rougher.state.floatbank10_e_air                     14150 non-null  float64\n",
      " 18  rougher.state.floatbank10_e_level                   14579 non-null  float64\n",
      " 19  rougher.state.floatbank10_f_air                     14579 non-null  float64\n",
      " 20  rougher.state.floatbank10_f_level                   14579 non-null  float64\n",
      " 21  rougher.input.floatbank11_sulfate                   14543 non-null  float64\n",
      " 22  rougher.input.floatbank11_xanthate                  14172 non-null  float64\n",
      " 23  rougher.calculation.sulfate_to_au_concentrate       14578 non-null  float64\n",
      " 24  rougher.calculation.floatbank10_sulfate_to_au_feed  14578 non-null  float64\n",
      " 25  rougher.calculation.floatbank11_sulfate_to_au_feed  14578 non-null  float64\n",
      " 26  rougher.calculation.au_pb_ratio                     14579 non-null  float64\n",
      " 27  rougher.output.concentrate_au                       14579 non-null  float64\n",
      " 28  rougher.output.concentrate_ag                       14579 non-null  float64\n",
      " 29  rougher.output.concentrate_pb                       14579 non-null  float64\n",
      " 30  rougher.output.concentrate_sol                      14561 non-null  float64\n",
      " 31  rougher.output.recovery                             14579 non-null  float64\n",
      " 32  rougher.output.tail_au                              14579 non-null  float64\n",
      " 33  rougher.output.tail_ag                              14578 non-null  float64\n",
      " 34  rougher.output.tail_pb                              14579 non-null  float64\n",
      " 35  rougher.output.tail_sol                             14579 non-null  float64\n",
      " 36  primary_cleaner.input.sulfate                       14556 non-null  float64\n",
      " 37  primary_cleaner.input.depressant                    14551 non-null  float64\n",
      " 38  primary_cleaner.input.feed_size                     14579 non-null  float64\n",
      " 39  primary_cleaner.input.xanthate                      14518 non-null  float64\n",
      " 40  primary_cleaner.state.floatbank8_a_air              14576 non-null  float64\n",
      " 41  primary_cleaner.state.floatbank8_a_level            14579 non-null  float64\n",
      " 42  primary_cleaner.state.floatbank8_b_air              14576 non-null  float64\n",
      " 43  primary_cleaner.state.floatbank8_b_level            14579 non-null  float64\n",
      " 44  primary_cleaner.state.floatbank8_c_air              14579 non-null  float64\n",
      " 45  primary_cleaner.state.floatbank8_c_level            14579 non-null  float64\n",
      " 46  primary_cleaner.state.floatbank8_d_air              14578 non-null  float64\n",
      " 47  primary_cleaner.state.floatbank8_d_level            14579 non-null  float64\n",
      " 48  primary_cleaner.output.concentrate_au               14579 non-null  float64\n",
      " 49  primary_cleaner.output.concentrate_ag               14579 non-null  float64\n",
      " 50  primary_cleaner.output.concentrate_pb               14491 non-null  float64\n",
      " 51  primary_cleaner.output.concentrate_sol              14314 non-null  float64\n",
      " 52  primary_cleaner.output.tail_au                      14579 non-null  float64\n",
      " 53  primary_cleaner.output.tail_ag                      14575 non-null  float64\n",
      " 54  primary_cleaner.output.tail_pb                      14573 non-null  float64\n",
      " 55  primary_cleaner.output.tail_sol                     14534 non-null  float64\n",
      " 56  secondary_cleaner.state.floatbank2_a_air            14485 non-null  float64\n",
      " 57  secondary_cleaner.state.floatbank2_a_level          14579 non-null  float64\n",
      " 58  secondary_cleaner.state.floatbank2_b_air            14557 non-null  float64\n",
      " 59  secondary_cleaner.state.floatbank2_b_level          14579 non-null  float64\n",
      " 60  secondary_cleaner.state.floatbank3_a_air            14567 non-null  float64\n",
      " 61  secondary_cleaner.state.floatbank3_a_level          14579 non-null  float64\n",
      " 62  secondary_cleaner.state.floatbank3_b_air            14579 non-null  float64\n",
      " 63  secondary_cleaner.state.floatbank3_b_level          14579 non-null  float64\n",
      " 64  secondary_cleaner.state.floatbank4_a_air            14574 non-null  float64\n",
      " 65  secondary_cleaner.state.floatbank4_a_level          14579 non-null  float64\n",
      " 66  secondary_cleaner.state.floatbank4_b_air            14579 non-null  float64\n",
      " 67  secondary_cleaner.state.floatbank4_b_level          14579 non-null  float64\n",
      " 68  secondary_cleaner.state.floatbank5_a_air            14579 non-null  float64\n",
      " 69  secondary_cleaner.state.floatbank5_a_level          14579 non-null  float64\n",
      " 70  secondary_cleaner.state.floatbank5_b_air            14579 non-null  float64\n",
      " 71  secondary_cleaner.state.floatbank5_b_level          14579 non-null  float64\n",
      " 72  secondary_cleaner.state.floatbank6_a_air            14578 non-null  float64\n",
      " 73  secondary_cleaner.state.floatbank6_a_level          14579 non-null  float64\n",
      " 74  secondary_cleaner.output.tail_au                    14579 non-null  float64\n",
      " 75  secondary_cleaner.output.tail_ag                    14578 non-null  float64\n",
      " 76  secondary_cleaner.output.tail_pb                    14575 non-null  float64\n",
      " 77  secondary_cleaner.output.tail_sol                   13659 non-null  float64\n",
      " 78  final.output.concentrate_au                         14579 non-null  float64\n",
      " 79  final.output.concentrate_ag                         14578 non-null  float64\n",
      " 80  final.output.concentrate_pb                         14578 non-null  float64\n",
      " 81  final.output.concentrate_sol                        14387 non-null  float64\n",
      " 82  final.output.recovery                               14579 non-null  float64\n",
      " 83  final.output.tail_au                                14579 non-null  float64\n",
      " 84  final.output.tail_ag                                14578 non-null  float64\n",
      " 85  final.output.tail_pb                                14504 non-null  float64\n",
      " 86  final.output.tail_sol                               14574 non-null  float64\n",
      "dtypes: float64(86), object(1)\n",
      "memory usage: 9.7+ MB\n"
     ]
    },
    {
     "data": {
      "text/plain": [
       "None"
      ]
     },
     "metadata": {},
     "output_type": "display_data"
    },
    {
     "data": {
      "text/plain": [
       "'Duplicates in the training set: 0'"
      ]
     },
     "metadata": {},
     "output_type": "display_data"
    },
    {
     "data": {
      "text/plain": [
       "'Missing values in the training set:'"
      ]
     },
     "metadata": {},
     "output_type": "display_data"
    },
    {
     "data": {
      "text/plain": [
       "date                       0\n",
       "rougher.input.feed_au      0\n",
       "rougher.input.feed_ag      0\n",
       "rougher.input.feed_pb     72\n",
       "rougher.input.feed_sol    77\n",
       "                          ..\n",
       "final.output.recovery      0\n",
       "final.output.tail_au       0\n",
       "final.output.tail_ag       1\n",
       "final.output.tail_pb      75\n",
       "final.output.tail_sol      5\n",
       "Length: 87, dtype: int64"
      ]
     },
     "metadata": {},
     "output_type": "display_data"
    }
   ],
   "source": [
    "display('---------Train Sample-----------')\n",
    "display(gold_train)\n",
    "display(gold_train.describe())\n",
    "display(gold_train.info())\n",
    "display(f'Duplicates in the training set: {gold_train.duplicated().sum()}')\n",
    "display(f'Missing values in the training set:')\n",
    "display(gold_train.isna().sum())"
   ]
  },
  {
   "cell_type": "code",
   "execution_count": 4,
   "metadata": {},
   "outputs": [
    {
     "data": {
      "text/plain": [
       "'---------Test Sample-----------'"
      ]
     },
     "metadata": {},
     "output_type": "display_data"
    },
    {
     "data": {
      "text/html": [
       "<div>\n",
       "<style scoped>\n",
       "    .dataframe tbody tr th:only-of-type {\n",
       "        vertical-align: middle;\n",
       "    }\n",
       "\n",
       "    .dataframe tbody tr th {\n",
       "        vertical-align: top;\n",
       "    }\n",
       "\n",
       "    .dataframe thead th {\n",
       "        text-align: right;\n",
       "    }\n",
       "</style>\n",
       "<table border=\"1\" class=\"dataframe\">\n",
       "  <thead>\n",
       "    <tr style=\"text-align: right;\">\n",
       "      <th></th>\n",
       "      <th>date</th>\n",
       "      <th>rougher.input.feed_au</th>\n",
       "      <th>rougher.input.feed_ag</th>\n",
       "      <th>rougher.input.feed_pb</th>\n",
       "      <th>rougher.input.feed_sol</th>\n",
       "      <th>rougher.input.feed_rate</th>\n",
       "      <th>rougher.input.feed_size</th>\n",
       "      <th>rougher.input.floatbank10_sulfate</th>\n",
       "      <th>rougher.input.floatbank10_xanthate</th>\n",
       "      <th>rougher.state.floatbank10_a_air</th>\n",
       "      <th>...</th>\n",
       "      <th>secondary_cleaner.state.floatbank4_a_air</th>\n",
       "      <th>secondary_cleaner.state.floatbank4_a_level</th>\n",
       "      <th>secondary_cleaner.state.floatbank4_b_air</th>\n",
       "      <th>secondary_cleaner.state.floatbank4_b_level</th>\n",
       "      <th>secondary_cleaner.state.floatbank5_a_air</th>\n",
       "      <th>secondary_cleaner.state.floatbank5_a_level</th>\n",
       "      <th>secondary_cleaner.state.floatbank5_b_air</th>\n",
       "      <th>secondary_cleaner.state.floatbank5_b_level</th>\n",
       "      <th>secondary_cleaner.state.floatbank6_a_air</th>\n",
       "      <th>secondary_cleaner.state.floatbank6_a_level</th>\n",
       "    </tr>\n",
       "  </thead>\n",
       "  <tbody>\n",
       "    <tr>\n",
       "      <th>0</th>\n",
       "      <td>2017-12-09 14:59:59</td>\n",
       "      <td>4.365491</td>\n",
       "      <td>6.158718</td>\n",
       "      <td>3.875727</td>\n",
       "      <td>39.135119</td>\n",
       "      <td>555.820208</td>\n",
       "      <td>94.544358</td>\n",
       "      <td>6.146982</td>\n",
       "      <td>9.308612</td>\n",
       "      <td>1196.238112</td>\n",
       "      <td>...</td>\n",
       "      <td>23.018622</td>\n",
       "      <td>-500.492702</td>\n",
       "      <td>20.020205</td>\n",
       "      <td>-500.220296</td>\n",
       "      <td>17.963512</td>\n",
       "      <td>-499.939490</td>\n",
       "      <td>12.990306</td>\n",
       "      <td>-500.080993</td>\n",
       "      <td>19.990336</td>\n",
       "      <td>-499.191575</td>\n",
       "    </tr>\n",
       "    <tr>\n",
       "      <th>1</th>\n",
       "      <td>2017-12-09 15:59:59</td>\n",
       "      <td>4.362781</td>\n",
       "      <td>6.048130</td>\n",
       "      <td>3.902537</td>\n",
       "      <td>39.713906</td>\n",
       "      <td>544.731687</td>\n",
       "      <td>123.742430</td>\n",
       "      <td>6.210119</td>\n",
       "      <td>9.297709</td>\n",
       "      <td>1201.904177</td>\n",
       "      <td>...</td>\n",
       "      <td>23.024963</td>\n",
       "      <td>-501.153409</td>\n",
       "      <td>20.054122</td>\n",
       "      <td>-500.314711</td>\n",
       "      <td>17.979515</td>\n",
       "      <td>-499.272871</td>\n",
       "      <td>12.992404</td>\n",
       "      <td>-499.976268</td>\n",
       "      <td>20.013986</td>\n",
       "      <td>-500.625471</td>\n",
       "    </tr>\n",
       "    <tr>\n",
       "      <th>2</th>\n",
       "      <td>2017-12-09 16:59:59</td>\n",
       "      <td>5.081681</td>\n",
       "      <td>6.082745</td>\n",
       "      <td>4.564078</td>\n",
       "      <td>37.208683</td>\n",
       "      <td>558.155110</td>\n",
       "      <td>82.610855</td>\n",
       "      <td>7.363824</td>\n",
       "      <td>9.003562</td>\n",
       "      <td>1200.826926</td>\n",
       "      <td>...</td>\n",
       "      <td>22.993827</td>\n",
       "      <td>-501.559663</td>\n",
       "      <td>20.029144</td>\n",
       "      <td>-500.000662</td>\n",
       "      <td>18.012723</td>\n",
       "      <td>-500.024764</td>\n",
       "      <td>13.016445</td>\n",
       "      <td>-500.058432</td>\n",
       "      <td>19.973767</td>\n",
       "      <td>-501.394155</td>\n",
       "    </tr>\n",
       "    <tr>\n",
       "      <th>3</th>\n",
       "      <td>2017-12-09 17:59:59</td>\n",
       "      <td>5.145949</td>\n",
       "      <td>6.084374</td>\n",
       "      <td>4.768124</td>\n",
       "      <td>36.808874</td>\n",
       "      <td>539.713765</td>\n",
       "      <td>77.984784</td>\n",
       "      <td>6.927072</td>\n",
       "      <td>8.955597</td>\n",
       "      <td>1199.292489</td>\n",
       "      <td>...</td>\n",
       "      <td>23.032807</td>\n",
       "      <td>-501.287889</td>\n",
       "      <td>19.977466</td>\n",
       "      <td>-500.159903</td>\n",
       "      <td>17.980463</td>\n",
       "      <td>-500.504602</td>\n",
       "      <td>12.949071</td>\n",
       "      <td>-500.009937</td>\n",
       "      <td>20.010332</td>\n",
       "      <td>-508.337973</td>\n",
       "    </tr>\n",
       "    <tr>\n",
       "      <th>4</th>\n",
       "      <td>2017-12-09 18:59:59</td>\n",
       "      <td>5.735249</td>\n",
       "      <td>6.165220</td>\n",
       "      <td>4.512346</td>\n",
       "      <td>37.810642</td>\n",
       "      <td>558.713584</td>\n",
       "      <td>86.434874</td>\n",
       "      <td>7.823471</td>\n",
       "      <td>7.490356</td>\n",
       "      <td>1198.005449</td>\n",
       "      <td>...</td>\n",
       "      <td>23.001911</td>\n",
       "      <td>-499.947838</td>\n",
       "      <td>20.023735</td>\n",
       "      <td>-499.713680</td>\n",
       "      <td>17.990955</td>\n",
       "      <td>-500.334769</td>\n",
       "      <td>13.007523</td>\n",
       "      <td>-499.968459</td>\n",
       "      <td>19.995999</td>\n",
       "      <td>-499.788805</td>\n",
       "    </tr>\n",
       "    <tr>\n",
       "      <th>...</th>\n",
       "      <td>...</td>\n",
       "      <td>...</td>\n",
       "      <td>...</td>\n",
       "      <td>...</td>\n",
       "      <td>...</td>\n",
       "      <td>...</td>\n",
       "      <td>...</td>\n",
       "      <td>...</td>\n",
       "      <td>...</td>\n",
       "      <td>...</td>\n",
       "      <td>...</td>\n",
       "      <td>...</td>\n",
       "      <td>...</td>\n",
       "      <td>...</td>\n",
       "      <td>...</td>\n",
       "      <td>...</td>\n",
       "      <td>...</td>\n",
       "      <td>...</td>\n",
       "      <td>...</td>\n",
       "      <td>...</td>\n",
       "      <td>...</td>\n",
       "    </tr>\n",
       "    <tr>\n",
       "      <th>4855</th>\n",
       "      <td>2018-08-18 06:59:59</td>\n",
       "      <td>6.620245</td>\n",
       "      <td>5.992592</td>\n",
       "      <td>2.589242</td>\n",
       "      <td>39.934641</td>\n",
       "      <td>578.654582</td>\n",
       "      <td>63.473450</td>\n",
       "      <td>14.688804</td>\n",
       "      <td>6.898599</td>\n",
       "      <td>999.688257</td>\n",
       "      <td>...</td>\n",
       "      <td>14.003057</td>\n",
       "      <td>-503.152258</td>\n",
       "      <td>12.016724</td>\n",
       "      <td>-501.136446</td>\n",
       "      <td>10.041864</td>\n",
       "      <td>-499.338844</td>\n",
       "      <td>8.007022</td>\n",
       "      <td>-500.279583</td>\n",
       "      <td>14.001271</td>\n",
       "      <td>-602.072365</td>\n",
       "    </tr>\n",
       "    <tr>\n",
       "      <th>4856</th>\n",
       "      <td>2018-08-18 07:59:59</td>\n",
       "      <td>6.741324</td>\n",
       "      <td>6.158617</td>\n",
       "      <td>2.647185</td>\n",
       "      <td>40.176307</td>\n",
       "      <td>571.622005</td>\n",
       "      <td>62.815291</td>\n",
       "      <td>14.892720</td>\n",
       "      <td>6.903204</td>\n",
       "      <td>1000.479783</td>\n",
       "      <td>...</td>\n",
       "      <td>14.031220</td>\n",
       "      <td>-503.471307</td>\n",
       "      <td>11.966426</td>\n",
       "      <td>-500.656842</td>\n",
       "      <td>10.051620</td>\n",
       "      <td>-498.318772</td>\n",
       "      <td>8.018091</td>\n",
       "      <td>-499.696138</td>\n",
       "      <td>13.958937</td>\n",
       "      <td>-599.213013</td>\n",
       "    </tr>\n",
       "    <tr>\n",
       "      <th>4857</th>\n",
       "      <td>2018-08-18 08:59:59</td>\n",
       "      <td>6.627458</td>\n",
       "      <td>6.015149</td>\n",
       "      <td>2.466127</td>\n",
       "      <td>39.841423</td>\n",
       "      <td>563.733146</td>\n",
       "      <td>61.287347</td>\n",
       "      <td>13.723692</td>\n",
       "      <td>6.700148</td>\n",
       "      <td>1000.014718</td>\n",
       "      <td>...</td>\n",
       "      <td>13.996317</td>\n",
       "      <td>-502.995300</td>\n",
       "      <td>11.980055</td>\n",
       "      <td>-500.607751</td>\n",
       "      <td>9.964501</td>\n",
       "      <td>-499.261719</td>\n",
       "      <td>8.065048</td>\n",
       "      <td>-499.492395</td>\n",
       "      <td>13.997801</td>\n",
       "      <td>-600.621416</td>\n",
       "    </tr>\n",
       "    <tr>\n",
       "      <th>4858</th>\n",
       "      <td>2018-08-18 09:59:59</td>\n",
       "      <td>6.702243</td>\n",
       "      <td>6.097592</td>\n",
       "      <td>2.278955</td>\n",
       "      <td>37.728375</td>\n",
       "      <td>549.812490</td>\n",
       "      <td>59.637037</td>\n",
       "      <td>13.746510</td>\n",
       "      <td>6.706417</td>\n",
       "      <td>999.635748</td>\n",
       "      <td>...</td>\n",
       "      <td>13.983963</td>\n",
       "      <td>-503.675714</td>\n",
       "      <td>11.928745</td>\n",
       "      <td>-500.583183</td>\n",
       "      <td>9.970359</td>\n",
       "      <td>-498.822343</td>\n",
       "      <td>8.016377</td>\n",
       "      <td>-499.013145</td>\n",
       "      <td>14.000032</td>\n",
       "      <td>-600.024741</td>\n",
       "    </tr>\n",
       "    <tr>\n",
       "      <th>4859</th>\n",
       "      <td>2018-08-18 10:59:59</td>\n",
       "      <td>6.633002</td>\n",
       "      <td>5.908793</td>\n",
       "      <td>2.440899</td>\n",
       "      <td>36.958540</td>\n",
       "      <td>573.076049</td>\n",
       "      <td>58.509262</td>\n",
       "      <td>13.707775</td>\n",
       "      <td>6.820245</td>\n",
       "      <td>1000.589156</td>\n",
       "      <td>...</td>\n",
       "      <td>13.989632</td>\n",
       "      <td>-503.195299</td>\n",
       "      <td>12.052233</td>\n",
       "      <td>-500.928547</td>\n",
       "      <td>9.962574</td>\n",
       "      <td>-502.986357</td>\n",
       "      <td>7.979219</td>\n",
       "      <td>-500.146835</td>\n",
       "      <td>13.981614</td>\n",
       "      <td>-598.070855</td>\n",
       "    </tr>\n",
       "  </tbody>\n",
       "</table>\n",
       "<p>4860 rows × 53 columns</p>\n",
       "</div>"
      ],
      "text/plain": [
       "                     date  rougher.input.feed_au  rougher.input.feed_ag  \\\n",
       "0     2017-12-09 14:59:59               4.365491               6.158718   \n",
       "1     2017-12-09 15:59:59               4.362781               6.048130   \n",
       "2     2017-12-09 16:59:59               5.081681               6.082745   \n",
       "3     2017-12-09 17:59:59               5.145949               6.084374   \n",
       "4     2017-12-09 18:59:59               5.735249               6.165220   \n",
       "...                   ...                    ...                    ...   \n",
       "4855  2018-08-18 06:59:59               6.620245               5.992592   \n",
       "4856  2018-08-18 07:59:59               6.741324               6.158617   \n",
       "4857  2018-08-18 08:59:59               6.627458               6.015149   \n",
       "4858  2018-08-18 09:59:59               6.702243               6.097592   \n",
       "4859  2018-08-18 10:59:59               6.633002               5.908793   \n",
       "\n",
       "      rougher.input.feed_pb  rougher.input.feed_sol  rougher.input.feed_rate  \\\n",
       "0                  3.875727               39.135119               555.820208   \n",
       "1                  3.902537               39.713906               544.731687   \n",
       "2                  4.564078               37.208683               558.155110   \n",
       "3                  4.768124               36.808874               539.713765   \n",
       "4                  4.512346               37.810642               558.713584   \n",
       "...                     ...                     ...                      ...   \n",
       "4855               2.589242               39.934641               578.654582   \n",
       "4856               2.647185               40.176307               571.622005   \n",
       "4857               2.466127               39.841423               563.733146   \n",
       "4858               2.278955               37.728375               549.812490   \n",
       "4859               2.440899               36.958540               573.076049   \n",
       "\n",
       "      rougher.input.feed_size  rougher.input.floatbank10_sulfate  \\\n",
       "0                   94.544358                           6.146982   \n",
       "1                  123.742430                           6.210119   \n",
       "2                   82.610855                           7.363824   \n",
       "3                   77.984784                           6.927072   \n",
       "4                   86.434874                           7.823471   \n",
       "...                       ...                                ...   \n",
       "4855                63.473450                          14.688804   \n",
       "4856                62.815291                          14.892720   \n",
       "4857                61.287347                          13.723692   \n",
       "4858                59.637037                          13.746510   \n",
       "4859                58.509262                          13.707775   \n",
       "\n",
       "      rougher.input.floatbank10_xanthate  rougher.state.floatbank10_a_air  \\\n",
       "0                               9.308612                      1196.238112   \n",
       "1                               9.297709                      1201.904177   \n",
       "2                               9.003562                      1200.826926   \n",
       "3                               8.955597                      1199.292489   \n",
       "4                               7.490356                      1198.005449   \n",
       "...                                  ...                              ...   \n",
       "4855                            6.898599                       999.688257   \n",
       "4856                            6.903204                      1000.479783   \n",
       "4857                            6.700148                      1000.014718   \n",
       "4858                            6.706417                       999.635748   \n",
       "4859                            6.820245                      1000.589156   \n",
       "\n",
       "      ...  secondary_cleaner.state.floatbank4_a_air  \\\n",
       "0     ...                                 23.018622   \n",
       "1     ...                                 23.024963   \n",
       "2     ...                                 22.993827   \n",
       "3     ...                                 23.032807   \n",
       "4     ...                                 23.001911   \n",
       "...   ...                                       ...   \n",
       "4855  ...                                 14.003057   \n",
       "4856  ...                                 14.031220   \n",
       "4857  ...                                 13.996317   \n",
       "4858  ...                                 13.983963   \n",
       "4859  ...                                 13.989632   \n",
       "\n",
       "      secondary_cleaner.state.floatbank4_a_level  \\\n",
       "0                                    -500.492702   \n",
       "1                                    -501.153409   \n",
       "2                                    -501.559663   \n",
       "3                                    -501.287889   \n",
       "4                                    -499.947838   \n",
       "...                                          ...   \n",
       "4855                                 -503.152258   \n",
       "4856                                 -503.471307   \n",
       "4857                                 -502.995300   \n",
       "4858                                 -503.675714   \n",
       "4859                                 -503.195299   \n",
       "\n",
       "      secondary_cleaner.state.floatbank4_b_air  \\\n",
       "0                                    20.020205   \n",
       "1                                    20.054122   \n",
       "2                                    20.029144   \n",
       "3                                    19.977466   \n",
       "4                                    20.023735   \n",
       "...                                        ...   \n",
       "4855                                 12.016724   \n",
       "4856                                 11.966426   \n",
       "4857                                 11.980055   \n",
       "4858                                 11.928745   \n",
       "4859                                 12.052233   \n",
       "\n",
       "      secondary_cleaner.state.floatbank4_b_level  \\\n",
       "0                                    -500.220296   \n",
       "1                                    -500.314711   \n",
       "2                                    -500.000662   \n",
       "3                                    -500.159903   \n",
       "4                                    -499.713680   \n",
       "...                                          ...   \n",
       "4855                                 -501.136446   \n",
       "4856                                 -500.656842   \n",
       "4857                                 -500.607751   \n",
       "4858                                 -500.583183   \n",
       "4859                                 -500.928547   \n",
       "\n",
       "      secondary_cleaner.state.floatbank5_a_air  \\\n",
       "0                                    17.963512   \n",
       "1                                    17.979515   \n",
       "2                                    18.012723   \n",
       "3                                    17.980463   \n",
       "4                                    17.990955   \n",
       "...                                        ...   \n",
       "4855                                 10.041864   \n",
       "4856                                 10.051620   \n",
       "4857                                  9.964501   \n",
       "4858                                  9.970359   \n",
       "4859                                  9.962574   \n",
       "\n",
       "      secondary_cleaner.state.floatbank5_a_level  \\\n",
       "0                                    -499.939490   \n",
       "1                                    -499.272871   \n",
       "2                                    -500.024764   \n",
       "3                                    -500.504602   \n",
       "4                                    -500.334769   \n",
       "...                                          ...   \n",
       "4855                                 -499.338844   \n",
       "4856                                 -498.318772   \n",
       "4857                                 -499.261719   \n",
       "4858                                 -498.822343   \n",
       "4859                                 -502.986357   \n",
       "\n",
       "      secondary_cleaner.state.floatbank5_b_air  \\\n",
       "0                                    12.990306   \n",
       "1                                    12.992404   \n",
       "2                                    13.016445   \n",
       "3                                    12.949071   \n",
       "4                                    13.007523   \n",
       "...                                        ...   \n",
       "4855                                  8.007022   \n",
       "4856                                  8.018091   \n",
       "4857                                  8.065048   \n",
       "4858                                  8.016377   \n",
       "4859                                  7.979219   \n",
       "\n",
       "      secondary_cleaner.state.floatbank5_b_level  \\\n",
       "0                                    -500.080993   \n",
       "1                                    -499.976268   \n",
       "2                                    -500.058432   \n",
       "3                                    -500.009937   \n",
       "4                                    -499.968459   \n",
       "...                                          ...   \n",
       "4855                                 -500.279583   \n",
       "4856                                 -499.696138   \n",
       "4857                                 -499.492395   \n",
       "4858                                 -499.013145   \n",
       "4859                                 -500.146835   \n",
       "\n",
       "      secondary_cleaner.state.floatbank6_a_air  \\\n",
       "0                                    19.990336   \n",
       "1                                    20.013986   \n",
       "2                                    19.973767   \n",
       "3                                    20.010332   \n",
       "4                                    19.995999   \n",
       "...                                        ...   \n",
       "4855                                 14.001271   \n",
       "4856                                 13.958937   \n",
       "4857                                 13.997801   \n",
       "4858                                 14.000032   \n",
       "4859                                 13.981614   \n",
       "\n",
       "      secondary_cleaner.state.floatbank6_a_level  \n",
       "0                                    -499.191575  \n",
       "1                                    -500.625471  \n",
       "2                                    -501.394155  \n",
       "3                                    -508.337973  \n",
       "4                                    -499.788805  \n",
       "...                                          ...  \n",
       "4855                                 -602.072365  \n",
       "4856                                 -599.213013  \n",
       "4857                                 -600.621416  \n",
       "4858                                 -600.024741  \n",
       "4859                                 -598.070855  \n",
       "\n",
       "[4860 rows x 53 columns]"
      ]
     },
     "metadata": {},
     "output_type": "display_data"
    },
    {
     "data": {
      "text/html": [
       "<div>\n",
       "<style scoped>\n",
       "    .dataframe tbody tr th:only-of-type {\n",
       "        vertical-align: middle;\n",
       "    }\n",
       "\n",
       "    .dataframe tbody tr th {\n",
       "        vertical-align: top;\n",
       "    }\n",
       "\n",
       "    .dataframe thead th {\n",
       "        text-align: right;\n",
       "    }\n",
       "</style>\n",
       "<table border=\"1\" class=\"dataframe\">\n",
       "  <thead>\n",
       "    <tr style=\"text-align: right;\">\n",
       "      <th></th>\n",
       "      <th>rougher.input.feed_au</th>\n",
       "      <th>rougher.input.feed_ag</th>\n",
       "      <th>rougher.input.feed_pb</th>\n",
       "      <th>rougher.input.feed_sol</th>\n",
       "      <th>rougher.input.feed_rate</th>\n",
       "      <th>rougher.input.feed_size</th>\n",
       "      <th>rougher.input.floatbank10_sulfate</th>\n",
       "      <th>rougher.input.floatbank10_xanthate</th>\n",
       "      <th>rougher.state.floatbank10_a_air</th>\n",
       "      <th>rougher.state.floatbank10_a_level</th>\n",
       "      <th>...</th>\n",
       "      <th>secondary_cleaner.state.floatbank4_a_air</th>\n",
       "      <th>secondary_cleaner.state.floatbank4_a_level</th>\n",
       "      <th>secondary_cleaner.state.floatbank4_b_air</th>\n",
       "      <th>secondary_cleaner.state.floatbank4_b_level</th>\n",
       "      <th>secondary_cleaner.state.floatbank5_a_air</th>\n",
       "      <th>secondary_cleaner.state.floatbank5_a_level</th>\n",
       "      <th>secondary_cleaner.state.floatbank5_b_air</th>\n",
       "      <th>secondary_cleaner.state.floatbank5_b_level</th>\n",
       "      <th>secondary_cleaner.state.floatbank6_a_air</th>\n",
       "      <th>secondary_cleaner.state.floatbank6_a_level</th>\n",
       "    </tr>\n",
       "  </thead>\n",
       "  <tbody>\n",
       "    <tr>\n",
       "      <th>count</th>\n",
       "      <td>4860.000000</td>\n",
       "      <td>4860.000000</td>\n",
       "      <td>4832.000000</td>\n",
       "      <td>4838.000000</td>\n",
       "      <td>4856.000000</td>\n",
       "      <td>4816.000000</td>\n",
       "      <td>4857.000000</td>\n",
       "      <td>4859.000000</td>\n",
       "      <td>4859.000000</td>\n",
       "      <td>4859.000000</td>\n",
       "      <td>...</td>\n",
       "      <td>4.859000e+03</td>\n",
       "      <td>4859.000000</td>\n",
       "      <td>4.859000e+03</td>\n",
       "      <td>4859.000000</td>\n",
       "      <td>4859.000000</td>\n",
       "      <td>4859.000000</td>\n",
       "      <td>4859.000000</td>\n",
       "      <td>4859.000000</td>\n",
       "      <td>4859.000000</td>\n",
       "      <td>4859.000000</td>\n",
       "    </tr>\n",
       "    <tr>\n",
       "      <th>mean</th>\n",
       "      <td>8.005584</td>\n",
       "      <td>8.547348</td>\n",
       "      <td>3.579662</td>\n",
       "      <td>37.095864</td>\n",
       "      <td>490.285103</td>\n",
       "      <td>59.113400</td>\n",
       "      <td>12.055735</td>\n",
       "      <td>6.101308</td>\n",
       "      <td>1108.635895</td>\n",
       "      <td>-368.340127</td>\n",
       "      <td>...</td>\n",
       "      <td>1.985770e+01</td>\n",
       "      <td>-488.665140</td>\n",
       "      <td>1.557025e+01</td>\n",
       "      <td>-464.176507</td>\n",
       "      <td>16.594103</td>\n",
       "      <td>-490.815250</td>\n",
       "      <td>12.945971</td>\n",
       "      <td>-489.583564</td>\n",
       "      <td>19.053888</td>\n",
       "      <td>-504.678924</td>\n",
       "    </tr>\n",
       "    <tr>\n",
       "      <th>std</th>\n",
       "      <td>1.993590</td>\n",
       "      <td>1.958601</td>\n",
       "      <td>1.029377</td>\n",
       "      <td>4.926284</td>\n",
       "      <td>94.371623</td>\n",
       "      <td>19.125122</td>\n",
       "      <td>3.407642</td>\n",
       "      <td>1.042754</td>\n",
       "      <td>156.493143</td>\n",
       "      <td>91.155929</td>\n",
       "      <td>...</td>\n",
       "      <td>5.913105e+00</td>\n",
       "      <td>44.392714</td>\n",
       "      <td>4.927361e+00</td>\n",
       "      <td>65.706994</td>\n",
       "      <td>5.724305</td>\n",
       "      <td>32.258443</td>\n",
       "      <td>5.533176</td>\n",
       "      <td>37.084609</td>\n",
       "      <td>5.548996</td>\n",
       "      <td>38.690186</td>\n",
       "    </tr>\n",
       "    <tr>\n",
       "      <th>min</th>\n",
       "      <td>0.010000</td>\n",
       "      <td>0.010000</td>\n",
       "      <td>0.010000</td>\n",
       "      <td>0.010000</td>\n",
       "      <td>0.012786</td>\n",
       "      <td>0.046369</td>\n",
       "      <td>0.018907</td>\n",
       "      <td>0.015783</td>\n",
       "      <td>300.792494</td>\n",
       "      <td>-600.568138</td>\n",
       "      <td>...</td>\n",
       "      <td>1.079872e-16</td>\n",
       "      <td>-799.704969</td>\n",
       "      <td>2.489718e-17</td>\n",
       "      <td>-799.860767</td>\n",
       "      <td>-0.371498</td>\n",
       "      <td>-797.142475</td>\n",
       "      <td>1.358469</td>\n",
       "      <td>-800.006180</td>\n",
       "      <td>0.160386</td>\n",
       "      <td>-809.734800</td>\n",
       "    </tr>\n",
       "    <tr>\n",
       "      <th>25%</th>\n",
       "      <td>6.574363</td>\n",
       "      <td>6.975898</td>\n",
       "      <td>2.903612</td>\n",
       "      <td>34.510841</td>\n",
       "      <td>434.099695</td>\n",
       "      <td>47.596984</td>\n",
       "      <td>9.890429</td>\n",
       "      <td>5.499808</td>\n",
       "      <td>999.715729</td>\n",
       "      <td>-499.731972</td>\n",
       "      <td>...</td>\n",
       "      <td>1.501123e+01</td>\n",
       "      <td>-500.704004</td>\n",
       "      <td>1.202172e+01</td>\n",
       "      <td>-500.196517</td>\n",
       "      <td>11.073822</td>\n",
       "      <td>-500.483564</td>\n",
       "      <td>9.011890</td>\n",
       "      <td>-500.129913</td>\n",
       "      <td>14.963953</td>\n",
       "      <td>-500.668501</td>\n",
       "    </tr>\n",
       "    <tr>\n",
       "      <th>50%</th>\n",
       "      <td>7.812923</td>\n",
       "      <td>8.179714</td>\n",
       "      <td>3.540772</td>\n",
       "      <td>37.499761</td>\n",
       "      <td>502.118742</td>\n",
       "      <td>55.509481</td>\n",
       "      <td>11.997859</td>\n",
       "      <td>6.099805</td>\n",
       "      <td>1001.414798</td>\n",
       "      <td>-300.181367</td>\n",
       "      <td>...</td>\n",
       "      <td>1.996807e+01</td>\n",
       "      <td>-499.892919</td>\n",
       "      <td>1.501240e+01</td>\n",
       "      <td>-499.540776</td>\n",
       "      <td>16.631195</td>\n",
       "      <td>-499.873136</td>\n",
       "      <td>11.999417</td>\n",
       "      <td>-499.955304</td>\n",
       "      <td>19.960006</td>\n",
       "      <td>-500.033769</td>\n",
       "    </tr>\n",
       "    <tr>\n",
       "      <th>75%</th>\n",
       "      <td>9.556589</td>\n",
       "      <td>10.084339</td>\n",
       "      <td>4.199847</td>\n",
       "      <td>40.461315</td>\n",
       "      <td>555.596563</td>\n",
       "      <td>66.661547</td>\n",
       "      <td>14.496072</td>\n",
       "      <td>6.802101</td>\n",
       "      <td>1202.837565</td>\n",
       "      <td>-299.961547</td>\n",
       "      <td>...</td>\n",
       "      <td>2.498900e+01</td>\n",
       "      <td>-498.652030</td>\n",
       "      <td>1.999949e+01</td>\n",
       "      <td>-400.302329</td>\n",
       "      <td>19.983191</td>\n",
       "      <td>-498.852815</td>\n",
       "      <td>15.004198</td>\n",
       "      <td>-499.643776</td>\n",
       "      <td>24.974583</td>\n",
       "      <td>-499.460134</td>\n",
       "    </tr>\n",
       "    <tr>\n",
       "      <th>max</th>\n",
       "      <td>13.417156</td>\n",
       "      <td>14.533698</td>\n",
       "      <td>7.142594</td>\n",
       "      <td>53.477742</td>\n",
       "      <td>702.523396</td>\n",
       "      <td>363.989699</td>\n",
       "      <td>30.010759</td>\n",
       "      <td>9.396928</td>\n",
       "      <td>1521.980372</td>\n",
       "      <td>-281.039299</td>\n",
       "      <td>...</td>\n",
       "      <td>3.008450e+01</td>\n",
       "      <td>-383.373053</td>\n",
       "      <td>2.398898e+01</td>\n",
       "      <td>-114.250832</td>\n",
       "      <td>33.215996</td>\n",
       "      <td>-288.963521</td>\n",
       "      <td>24.177106</td>\n",
       "      <td>-141.934397</td>\n",
       "      <td>32.028529</td>\n",
       "      <td>-104.427459</td>\n",
       "    </tr>\n",
       "  </tbody>\n",
       "</table>\n",
       "<p>8 rows × 52 columns</p>\n",
       "</div>"
      ],
      "text/plain": [
       "       rougher.input.feed_au  rougher.input.feed_ag  rougher.input.feed_pb  \\\n",
       "count            4860.000000            4860.000000            4832.000000   \n",
       "mean                8.005584               8.547348               3.579662   \n",
       "std                 1.993590               1.958601               1.029377   \n",
       "min                 0.010000               0.010000               0.010000   \n",
       "25%                 6.574363               6.975898               2.903612   \n",
       "50%                 7.812923               8.179714               3.540772   \n",
       "75%                 9.556589              10.084339               4.199847   \n",
       "max                13.417156              14.533698               7.142594   \n",
       "\n",
       "       rougher.input.feed_sol  rougher.input.feed_rate  \\\n",
       "count             4838.000000              4856.000000   \n",
       "mean                37.095864               490.285103   \n",
       "std                  4.926284                94.371623   \n",
       "min                  0.010000                 0.012786   \n",
       "25%                 34.510841               434.099695   \n",
       "50%                 37.499761               502.118742   \n",
       "75%                 40.461315               555.596563   \n",
       "max                 53.477742               702.523396   \n",
       "\n",
       "       rougher.input.feed_size  rougher.input.floatbank10_sulfate  \\\n",
       "count              4816.000000                        4857.000000   \n",
       "mean                 59.113400                          12.055735   \n",
       "std                  19.125122                           3.407642   \n",
       "min                   0.046369                           0.018907   \n",
       "25%                  47.596984                           9.890429   \n",
       "50%                  55.509481                          11.997859   \n",
       "75%                  66.661547                          14.496072   \n",
       "max                 363.989699                          30.010759   \n",
       "\n",
       "       rougher.input.floatbank10_xanthate  rougher.state.floatbank10_a_air  \\\n",
       "count                         4859.000000                      4859.000000   \n",
       "mean                             6.101308                      1108.635895   \n",
       "std                              1.042754                       156.493143   \n",
       "min                              0.015783                       300.792494   \n",
       "25%                              5.499808                       999.715729   \n",
       "50%                              6.099805                      1001.414798   \n",
       "75%                              6.802101                      1202.837565   \n",
       "max                              9.396928                      1521.980372   \n",
       "\n",
       "       rougher.state.floatbank10_a_level  ...  \\\n",
       "count                        4859.000000  ...   \n",
       "mean                         -368.340127  ...   \n",
       "std                            91.155929  ...   \n",
       "min                          -600.568138  ...   \n",
       "25%                          -499.731972  ...   \n",
       "50%                          -300.181367  ...   \n",
       "75%                          -299.961547  ...   \n",
       "max                          -281.039299  ...   \n",
       "\n",
       "       secondary_cleaner.state.floatbank4_a_air  \\\n",
       "count                              4.859000e+03   \n",
       "mean                               1.985770e+01   \n",
       "std                                5.913105e+00   \n",
       "min                                1.079872e-16   \n",
       "25%                                1.501123e+01   \n",
       "50%                                1.996807e+01   \n",
       "75%                                2.498900e+01   \n",
       "max                                3.008450e+01   \n",
       "\n",
       "       secondary_cleaner.state.floatbank4_a_level  \\\n",
       "count                                 4859.000000   \n",
       "mean                                  -488.665140   \n",
       "std                                     44.392714   \n",
       "min                                   -799.704969   \n",
       "25%                                   -500.704004   \n",
       "50%                                   -499.892919   \n",
       "75%                                   -498.652030   \n",
       "max                                   -383.373053   \n",
       "\n",
       "       secondary_cleaner.state.floatbank4_b_air  \\\n",
       "count                              4.859000e+03   \n",
       "mean                               1.557025e+01   \n",
       "std                                4.927361e+00   \n",
       "min                                2.489718e-17   \n",
       "25%                                1.202172e+01   \n",
       "50%                                1.501240e+01   \n",
       "75%                                1.999949e+01   \n",
       "max                                2.398898e+01   \n",
       "\n",
       "       secondary_cleaner.state.floatbank4_b_level  \\\n",
       "count                                 4859.000000   \n",
       "mean                                  -464.176507   \n",
       "std                                     65.706994   \n",
       "min                                   -799.860767   \n",
       "25%                                   -500.196517   \n",
       "50%                                   -499.540776   \n",
       "75%                                   -400.302329   \n",
       "max                                   -114.250832   \n",
       "\n",
       "       secondary_cleaner.state.floatbank5_a_air  \\\n",
       "count                               4859.000000   \n",
       "mean                                  16.594103   \n",
       "std                                    5.724305   \n",
       "min                                   -0.371498   \n",
       "25%                                   11.073822   \n",
       "50%                                   16.631195   \n",
       "75%                                   19.983191   \n",
       "max                                   33.215996   \n",
       "\n",
       "       secondary_cleaner.state.floatbank5_a_level  \\\n",
       "count                                 4859.000000   \n",
       "mean                                  -490.815250   \n",
       "std                                     32.258443   \n",
       "min                                   -797.142475   \n",
       "25%                                   -500.483564   \n",
       "50%                                   -499.873136   \n",
       "75%                                   -498.852815   \n",
       "max                                   -288.963521   \n",
       "\n",
       "       secondary_cleaner.state.floatbank5_b_air  \\\n",
       "count                               4859.000000   \n",
       "mean                                  12.945971   \n",
       "std                                    5.533176   \n",
       "min                                    1.358469   \n",
       "25%                                    9.011890   \n",
       "50%                                   11.999417   \n",
       "75%                                   15.004198   \n",
       "max                                   24.177106   \n",
       "\n",
       "       secondary_cleaner.state.floatbank5_b_level  \\\n",
       "count                                 4859.000000   \n",
       "mean                                  -489.583564   \n",
       "std                                     37.084609   \n",
       "min                                   -800.006180   \n",
       "25%                                   -500.129913   \n",
       "50%                                   -499.955304   \n",
       "75%                                   -499.643776   \n",
       "max                                   -141.934397   \n",
       "\n",
       "       secondary_cleaner.state.floatbank6_a_air  \\\n",
       "count                               4859.000000   \n",
       "mean                                  19.053888   \n",
       "std                                    5.548996   \n",
       "min                                    0.160386   \n",
       "25%                                   14.963953   \n",
       "50%                                   19.960006   \n",
       "75%                                   24.974583   \n",
       "max                                   32.028529   \n",
       "\n",
       "       secondary_cleaner.state.floatbank6_a_level  \n",
       "count                                 4859.000000  \n",
       "mean                                  -504.678924  \n",
       "std                                     38.690186  \n",
       "min                                   -809.734800  \n",
       "25%                                   -500.668501  \n",
       "50%                                   -500.033769  \n",
       "75%                                   -499.460134  \n",
       "max                                   -104.427459  \n",
       "\n",
       "[8 rows x 52 columns]"
      ]
     },
     "metadata": {},
     "output_type": "display_data"
    },
    {
     "name": "stdout",
     "output_type": "stream",
     "text": [
      "<class 'pandas.core.frame.DataFrame'>\n",
      "RangeIndex: 4860 entries, 0 to 4859\n",
      "Data columns (total 53 columns):\n",
      " #   Column                                      Non-Null Count  Dtype  \n",
      "---  ------                                      --------------  -----  \n",
      " 0   date                                        4860 non-null   object \n",
      " 1   rougher.input.feed_au                       4860 non-null   float64\n",
      " 2   rougher.input.feed_ag                       4860 non-null   float64\n",
      " 3   rougher.input.feed_pb                       4832 non-null   float64\n",
      " 4   rougher.input.feed_sol                      4838 non-null   float64\n",
      " 5   rougher.input.feed_rate                     4856 non-null   float64\n",
      " 6   rougher.input.feed_size                     4816 non-null   float64\n",
      " 7   rougher.input.floatbank10_sulfate           4857 non-null   float64\n",
      " 8   rougher.input.floatbank10_xanthate          4859 non-null   float64\n",
      " 9   rougher.state.floatbank10_a_air             4859 non-null   float64\n",
      " 10  rougher.state.floatbank10_a_level           4859 non-null   float64\n",
      " 11  rougher.state.floatbank10_b_air             4859 non-null   float64\n",
      " 12  rougher.state.floatbank10_b_level           4859 non-null   float64\n",
      " 13  rougher.state.floatbank10_c_air             4859 non-null   float64\n",
      " 14  rougher.state.floatbank10_c_level           4859 non-null   float64\n",
      " 15  rougher.state.floatbank10_d_air             4860 non-null   float64\n",
      " 16  rougher.state.floatbank10_d_level           4860 non-null   float64\n",
      " 17  rougher.state.floatbank10_e_air             4853 non-null   float64\n",
      " 18  rougher.state.floatbank10_e_level           4860 non-null   float64\n",
      " 19  rougher.state.floatbank10_f_air             4860 non-null   float64\n",
      " 20  rougher.state.floatbank10_f_level           4860 non-null   float64\n",
      " 21  rougher.input.floatbank11_sulfate           4852 non-null   float64\n",
      " 22  rougher.input.floatbank11_xanthate          4814 non-null   float64\n",
      " 23  primary_cleaner.input.sulfate               4859 non-null   float64\n",
      " 24  primary_cleaner.input.depressant            4851 non-null   float64\n",
      " 25  primary_cleaner.input.feed_size             4860 non-null   float64\n",
      " 26  primary_cleaner.input.xanthate              4817 non-null   float64\n",
      " 27  primary_cleaner.state.floatbank8_a_air      4859 non-null   float64\n",
      " 28  primary_cleaner.state.floatbank8_a_level    4859 non-null   float64\n",
      " 29  primary_cleaner.state.floatbank8_b_air      4859 non-null   float64\n",
      " 30  primary_cleaner.state.floatbank8_b_level    4859 non-null   float64\n",
      " 31  primary_cleaner.state.floatbank8_c_air      4858 non-null   float64\n",
      " 32  primary_cleaner.state.floatbank8_c_level    4859 non-null   float64\n",
      " 33  primary_cleaner.state.floatbank8_d_air      4858 non-null   float64\n",
      " 34  primary_cleaner.state.floatbank8_d_level    4859 non-null   float64\n",
      " 35  secondary_cleaner.state.floatbank2_a_air    4734 non-null   float64\n",
      " 36  secondary_cleaner.state.floatbank2_a_level  4859 non-null   float64\n",
      " 37  secondary_cleaner.state.floatbank2_b_air    4859 non-null   float64\n",
      " 38  secondary_cleaner.state.floatbank2_b_level  4859 non-null   float64\n",
      " 39  secondary_cleaner.state.floatbank3_a_air    4859 non-null   float64\n",
      " 40  secondary_cleaner.state.floatbank3_a_level  4859 non-null   float64\n",
      " 41  secondary_cleaner.state.floatbank3_b_air    4859 non-null   float64\n",
      " 42  secondary_cleaner.state.floatbank3_b_level  4859 non-null   float64\n",
      " 43  secondary_cleaner.state.floatbank4_a_air    4859 non-null   float64\n",
      " 44  secondary_cleaner.state.floatbank4_a_level  4859 non-null   float64\n",
      " 45  secondary_cleaner.state.floatbank4_b_air    4859 non-null   float64\n",
      " 46  secondary_cleaner.state.floatbank4_b_level  4859 non-null   float64\n",
      " 47  secondary_cleaner.state.floatbank5_a_air    4859 non-null   float64\n",
      " 48  secondary_cleaner.state.floatbank5_a_level  4859 non-null   float64\n",
      " 49  secondary_cleaner.state.floatbank5_b_air    4859 non-null   float64\n",
      " 50  secondary_cleaner.state.floatbank5_b_level  4859 non-null   float64\n",
      " 51  secondary_cleaner.state.floatbank6_a_air    4859 non-null   float64\n",
      " 52  secondary_cleaner.state.floatbank6_a_level  4859 non-null   float64\n",
      "dtypes: float64(52), object(1)\n",
      "memory usage: 2.0+ MB\n"
     ]
    },
    {
     "data": {
      "text/plain": [
       "None"
      ]
     },
     "metadata": {},
     "output_type": "display_data"
    },
    {
     "data": {
      "text/plain": [
       "'Duplicates in the test set: 0'"
      ]
     },
     "metadata": {},
     "output_type": "display_data"
    },
    {
     "data": {
      "text/plain": [
       "'Missing values in the test set:'"
      ]
     },
     "metadata": {},
     "output_type": "display_data"
    },
    {
     "data": {
      "text/plain": [
       "date                                            0\n",
       "rougher.input.feed_au                           0\n",
       "rougher.input.feed_ag                           0\n",
       "rougher.input.feed_pb                          28\n",
       "rougher.input.feed_sol                         22\n",
       "rougher.input.feed_rate                         4\n",
       "rougher.input.feed_size                        44\n",
       "rougher.input.floatbank10_sulfate               3\n",
       "rougher.input.floatbank10_xanthate              1\n",
       "rougher.state.floatbank10_a_air                 1\n",
       "rougher.state.floatbank10_a_level               1\n",
       "rougher.state.floatbank10_b_air                 1\n",
       "rougher.state.floatbank10_b_level               1\n",
       "rougher.state.floatbank10_c_air                 1\n",
       "rougher.state.floatbank10_c_level               1\n",
       "rougher.state.floatbank10_d_air                 0\n",
       "rougher.state.floatbank10_d_level               0\n",
       "rougher.state.floatbank10_e_air                 7\n",
       "rougher.state.floatbank10_e_level               0\n",
       "rougher.state.floatbank10_f_air                 0\n",
       "rougher.state.floatbank10_f_level               0\n",
       "rougher.input.floatbank11_sulfate               8\n",
       "rougher.input.floatbank11_xanthate             46\n",
       "primary_cleaner.input.sulfate                   1\n",
       "primary_cleaner.input.depressant                9\n",
       "primary_cleaner.input.feed_size                 0\n",
       "primary_cleaner.input.xanthate                 43\n",
       "primary_cleaner.state.floatbank8_a_air          1\n",
       "primary_cleaner.state.floatbank8_a_level        1\n",
       "primary_cleaner.state.floatbank8_b_air          1\n",
       "primary_cleaner.state.floatbank8_b_level        1\n",
       "primary_cleaner.state.floatbank8_c_air          2\n",
       "primary_cleaner.state.floatbank8_c_level        1\n",
       "primary_cleaner.state.floatbank8_d_air          2\n",
       "primary_cleaner.state.floatbank8_d_level        1\n",
       "secondary_cleaner.state.floatbank2_a_air      126\n",
       "secondary_cleaner.state.floatbank2_a_level      1\n",
       "secondary_cleaner.state.floatbank2_b_air        1\n",
       "secondary_cleaner.state.floatbank2_b_level      1\n",
       "secondary_cleaner.state.floatbank3_a_air        1\n",
       "secondary_cleaner.state.floatbank3_a_level      1\n",
       "secondary_cleaner.state.floatbank3_b_air        1\n",
       "secondary_cleaner.state.floatbank3_b_level      1\n",
       "secondary_cleaner.state.floatbank4_a_air        1\n",
       "secondary_cleaner.state.floatbank4_a_level      1\n",
       "secondary_cleaner.state.floatbank4_b_air        1\n",
       "secondary_cleaner.state.floatbank4_b_level      1\n",
       "secondary_cleaner.state.floatbank5_a_air        1\n",
       "secondary_cleaner.state.floatbank5_a_level      1\n",
       "secondary_cleaner.state.floatbank5_b_air        1\n",
       "secondary_cleaner.state.floatbank5_b_level      1\n",
       "secondary_cleaner.state.floatbank6_a_air        1\n",
       "secondary_cleaner.state.floatbank6_a_level      1\n",
       "dtype: int64"
      ]
     },
     "metadata": {},
     "output_type": "display_data"
    }
   ],
   "source": [
    "display('---------Test Sample-----------')\n",
    "display(gold_test)\n",
    "display(gold_test.describe())\n",
    "display(gold_test.info())\n",
    "display(f'Duplicates in the test set: {gold_test.duplicated().sum()}')\n",
    "display(f'Missing values in the test set:')\n",
    "display(gold_test.isna().sum())"
   ]
  },
  {
   "cell_type": "code",
   "execution_count": 5,
   "metadata": {},
   "outputs": [
    {
     "data": {
      "text/plain": [
       "'---------Full Sample-----------'"
      ]
     },
     "metadata": {},
     "output_type": "display_data"
    },
    {
     "data": {
      "text/html": [
       "<div>\n",
       "<style scoped>\n",
       "    .dataframe tbody tr th:only-of-type {\n",
       "        vertical-align: middle;\n",
       "    }\n",
       "\n",
       "    .dataframe tbody tr th {\n",
       "        vertical-align: top;\n",
       "    }\n",
       "\n",
       "    .dataframe thead th {\n",
       "        text-align: right;\n",
       "    }\n",
       "</style>\n",
       "<table border=\"1\" class=\"dataframe\">\n",
       "  <thead>\n",
       "    <tr style=\"text-align: right;\">\n",
       "      <th></th>\n",
       "      <th>date</th>\n",
       "      <th>rougher.input.feed_au</th>\n",
       "      <th>rougher.input.feed_ag</th>\n",
       "      <th>rougher.input.feed_pb</th>\n",
       "      <th>rougher.input.feed_sol</th>\n",
       "      <th>rougher.input.feed_rate</th>\n",
       "      <th>rougher.input.feed_size</th>\n",
       "      <th>rougher.input.floatbank10_sulfate</th>\n",
       "      <th>rougher.input.floatbank10_xanthate</th>\n",
       "      <th>rougher.state.floatbank10_a_air</th>\n",
       "      <th>...</th>\n",
       "      <th>secondary_cleaner.output.tail_sol</th>\n",
       "      <th>final.output.concentrate_au</th>\n",
       "      <th>final.output.concentrate_ag</th>\n",
       "      <th>final.output.concentrate_pb</th>\n",
       "      <th>final.output.concentrate_sol</th>\n",
       "      <th>final.output.recovery</th>\n",
       "      <th>final.output.tail_au</th>\n",
       "      <th>final.output.tail_ag</th>\n",
       "      <th>final.output.tail_pb</th>\n",
       "      <th>final.output.tail_sol</th>\n",
       "    </tr>\n",
       "  </thead>\n",
       "  <tbody>\n",
       "    <tr>\n",
       "      <th>0</th>\n",
       "      <td>2016-01-15 00:00:00</td>\n",
       "      <td>6.486150</td>\n",
       "      <td>6.100378</td>\n",
       "      <td>2.284912</td>\n",
       "      <td>36.808594</td>\n",
       "      <td>523.546326</td>\n",
       "      <td>55.486599</td>\n",
       "      <td>11.986616</td>\n",
       "      <td>6.007990</td>\n",
       "      <td>999.706909</td>\n",
       "      <td>...</td>\n",
       "      <td>8.764648</td>\n",
       "      <td>42.192020</td>\n",
       "      <td>6.055403</td>\n",
       "      <td>9.889648</td>\n",
       "      <td>5.507324</td>\n",
       "      <td>70.541216</td>\n",
       "      <td>2.143149</td>\n",
       "      <td>10.411962</td>\n",
       "      <td>0.895447</td>\n",
       "      <td>16.904297</td>\n",
       "    </tr>\n",
       "    <tr>\n",
       "      <th>1</th>\n",
       "      <td>2016-01-15 01:00:00</td>\n",
       "      <td>6.478583</td>\n",
       "      <td>6.161113</td>\n",
       "      <td>2.266033</td>\n",
       "      <td>35.753385</td>\n",
       "      <td>525.290581</td>\n",
       "      <td>57.278666</td>\n",
       "      <td>11.971193</td>\n",
       "      <td>6.005766</td>\n",
       "      <td>1000.286398</td>\n",
       "      <td>...</td>\n",
       "      <td>9.001494</td>\n",
       "      <td>42.701629</td>\n",
       "      <td>6.029369</td>\n",
       "      <td>9.968944</td>\n",
       "      <td>5.257781</td>\n",
       "      <td>69.266198</td>\n",
       "      <td>2.224930</td>\n",
       "      <td>10.462676</td>\n",
       "      <td>0.927452</td>\n",
       "      <td>16.634514</td>\n",
       "    </tr>\n",
       "    <tr>\n",
       "      <th>2</th>\n",
       "      <td>2016-01-15 02:00:00</td>\n",
       "      <td>6.362222</td>\n",
       "      <td>6.116455</td>\n",
       "      <td>2.159622</td>\n",
       "      <td>35.971630</td>\n",
       "      <td>530.026610</td>\n",
       "      <td>57.510649</td>\n",
       "      <td>11.920603</td>\n",
       "      <td>6.197377</td>\n",
       "      <td>999.719565</td>\n",
       "      <td>...</td>\n",
       "      <td>8.842896</td>\n",
       "      <td>42.657501</td>\n",
       "      <td>6.055926</td>\n",
       "      <td>10.213995</td>\n",
       "      <td>5.383759</td>\n",
       "      <td>68.116445</td>\n",
       "      <td>2.257889</td>\n",
       "      <td>10.507046</td>\n",
       "      <td>0.953716</td>\n",
       "      <td>16.208849</td>\n",
       "    </tr>\n",
       "    <tr>\n",
       "      <th>3</th>\n",
       "      <td>2016-01-15 03:00:00</td>\n",
       "      <td>6.118189</td>\n",
       "      <td>6.043309</td>\n",
       "      <td>2.037807</td>\n",
       "      <td>36.862241</td>\n",
       "      <td>542.590390</td>\n",
       "      <td>57.792734</td>\n",
       "      <td>11.630094</td>\n",
       "      <td>6.203177</td>\n",
       "      <td>999.814770</td>\n",
       "      <td>...</td>\n",
       "      <td>9.122857</td>\n",
       "      <td>42.689819</td>\n",
       "      <td>6.047977</td>\n",
       "      <td>9.977019</td>\n",
       "      <td>4.858634</td>\n",
       "      <td>68.347543</td>\n",
       "      <td>2.146849</td>\n",
       "      <td>10.422762</td>\n",
       "      <td>0.883763</td>\n",
       "      <td>16.532835</td>\n",
       "    </tr>\n",
       "    <tr>\n",
       "      <th>4</th>\n",
       "      <td>2016-01-15 04:00:00</td>\n",
       "      <td>5.663707</td>\n",
       "      <td>6.060915</td>\n",
       "      <td>1.786875</td>\n",
       "      <td>34.347666</td>\n",
       "      <td>540.531893</td>\n",
       "      <td>56.047189</td>\n",
       "      <td>10.957755</td>\n",
       "      <td>6.198826</td>\n",
       "      <td>999.678690</td>\n",
       "      <td>...</td>\n",
       "      <td>8.871028</td>\n",
       "      <td>42.774141</td>\n",
       "      <td>6.148599</td>\n",
       "      <td>10.142511</td>\n",
       "      <td>4.939416</td>\n",
       "      <td>66.927016</td>\n",
       "      <td>2.055292</td>\n",
       "      <td>10.360302</td>\n",
       "      <td>0.792826</td>\n",
       "      <td>16.525686</td>\n",
       "    </tr>\n",
       "    <tr>\n",
       "      <th>...</th>\n",
       "      <td>...</td>\n",
       "      <td>...</td>\n",
       "      <td>...</td>\n",
       "      <td>...</td>\n",
       "      <td>...</td>\n",
       "      <td>...</td>\n",
       "      <td>...</td>\n",
       "      <td>...</td>\n",
       "      <td>...</td>\n",
       "      <td>...</td>\n",
       "      <td>...</td>\n",
       "      <td>...</td>\n",
       "      <td>...</td>\n",
       "      <td>...</td>\n",
       "      <td>...</td>\n",
       "      <td>...</td>\n",
       "      <td>...</td>\n",
       "      <td>...</td>\n",
       "      <td>...</td>\n",
       "      <td>...</td>\n",
       "      <td>...</td>\n",
       "    </tr>\n",
       "    <tr>\n",
       "      <th>19434</th>\n",
       "      <td>2018-08-18 06:59:59</td>\n",
       "      <td>6.620245</td>\n",
       "      <td>5.992592</td>\n",
       "      <td>2.589242</td>\n",
       "      <td>39.934641</td>\n",
       "      <td>578.654582</td>\n",
       "      <td>63.473450</td>\n",
       "      <td>14.688804</td>\n",
       "      <td>6.898599</td>\n",
       "      <td>999.688257</td>\n",
       "      <td>...</td>\n",
       "      <td>10.013738</td>\n",
       "      <td>42.435181</td>\n",
       "      <td>5.719113</td>\n",
       "      <td>10.621027</td>\n",
       "      <td>6.459561</td>\n",
       "      <td>68.786981</td>\n",
       "      <td>2.314786</td>\n",
       "      <td>10.286797</td>\n",
       "      <td>1.171459</td>\n",
       "      <td>19.131121</td>\n",
       "    </tr>\n",
       "    <tr>\n",
       "      <th>19435</th>\n",
       "      <td>2018-08-18 07:59:59</td>\n",
       "      <td>6.741324</td>\n",
       "      <td>6.158617</td>\n",
       "      <td>2.647185</td>\n",
       "      <td>40.176307</td>\n",
       "      <td>571.622005</td>\n",
       "      <td>62.815291</td>\n",
       "      <td>14.892720</td>\n",
       "      <td>6.903204</td>\n",
       "      <td>1000.479783</td>\n",
       "      <td>...</td>\n",
       "      <td>9.841210</td>\n",
       "      <td>43.440341</td>\n",
       "      <td>5.410126</td>\n",
       "      <td>10.868937</td>\n",
       "      <td>6.258693</td>\n",
       "      <td>67.839536</td>\n",
       "      <td>2.423143</td>\n",
       "      <td>10.382891</td>\n",
       "      <td>1.239738</td>\n",
       "      <td>18.544924</td>\n",
       "    </tr>\n",
       "    <tr>\n",
       "      <th>19436</th>\n",
       "      <td>2018-08-18 08:59:59</td>\n",
       "      <td>6.627458</td>\n",
       "      <td>6.015149</td>\n",
       "      <td>2.466127</td>\n",
       "      <td>39.841423</td>\n",
       "      <td>563.733146</td>\n",
       "      <td>61.287347</td>\n",
       "      <td>13.723692</td>\n",
       "      <td>6.700148</td>\n",
       "      <td>1000.014718</td>\n",
       "      <td>...</td>\n",
       "      <td>10.119344</td>\n",
       "      <td>44.284117</td>\n",
       "      <td>5.437716</td>\n",
       "      <td>9.781181</td>\n",
       "      <td>6.057627</td>\n",
       "      <td>70.847012</td>\n",
       "      <td>2.161256</td>\n",
       "      <td>10.324415</td>\n",
       "      <td>0.961210</td>\n",
       "      <td>18.185262</td>\n",
       "    </tr>\n",
       "    <tr>\n",
       "      <th>19437</th>\n",
       "      <td>2018-08-18 09:59:59</td>\n",
       "      <td>6.702243</td>\n",
       "      <td>6.097592</td>\n",
       "      <td>2.278955</td>\n",
       "      <td>37.728375</td>\n",
       "      <td>549.812490</td>\n",
       "      <td>59.637037</td>\n",
       "      <td>13.746510</td>\n",
       "      <td>6.706417</td>\n",
       "      <td>999.635748</td>\n",
       "      <td>...</td>\n",
       "      <td>9.876374</td>\n",
       "      <td>43.339714</td>\n",
       "      <td>5.664983</td>\n",
       "      <td>10.168953</td>\n",
       "      <td>5.484318</td>\n",
       "      <td>72.659046</td>\n",
       "      <td>2.064422</td>\n",
       "      <td>10.475957</td>\n",
       "      <td>1.050592</td>\n",
       "      <td>17.525656</td>\n",
       "    </tr>\n",
       "    <tr>\n",
       "      <th>19438</th>\n",
       "      <td>2018-08-18 10:59:59</td>\n",
       "      <td>6.633002</td>\n",
       "      <td>5.908793</td>\n",
       "      <td>2.440899</td>\n",
       "      <td>36.958540</td>\n",
       "      <td>573.076049</td>\n",
       "      <td>58.509262</td>\n",
       "      <td>13.707775</td>\n",
       "      <td>6.820245</td>\n",
       "      <td>1000.589156</td>\n",
       "      <td>...</td>\n",
       "      <td>9.813732</td>\n",
       "      <td>43.235220</td>\n",
       "      <td>5.687063</td>\n",
       "      <td>9.980404</td>\n",
       "      <td>5.282514</td>\n",
       "      <td>70.279619</td>\n",
       "      <td>2.209593</td>\n",
       "      <td>10.487013</td>\n",
       "      <td>1.159805</td>\n",
       "      <td>17.483979</td>\n",
       "    </tr>\n",
       "  </tbody>\n",
       "</table>\n",
       "<p>19439 rows × 87 columns</p>\n",
       "</div>"
      ],
      "text/plain": [
       "                      date  rougher.input.feed_au  rougher.input.feed_ag  \\\n",
       "0      2016-01-15 00:00:00               6.486150               6.100378   \n",
       "1      2016-01-15 01:00:00               6.478583               6.161113   \n",
       "2      2016-01-15 02:00:00               6.362222               6.116455   \n",
       "3      2016-01-15 03:00:00               6.118189               6.043309   \n",
       "4      2016-01-15 04:00:00               5.663707               6.060915   \n",
       "...                    ...                    ...                    ...   \n",
       "19434  2018-08-18 06:59:59               6.620245               5.992592   \n",
       "19435  2018-08-18 07:59:59               6.741324               6.158617   \n",
       "19436  2018-08-18 08:59:59               6.627458               6.015149   \n",
       "19437  2018-08-18 09:59:59               6.702243               6.097592   \n",
       "19438  2018-08-18 10:59:59               6.633002               5.908793   \n",
       "\n",
       "       rougher.input.feed_pb  rougher.input.feed_sol  rougher.input.feed_rate  \\\n",
       "0                   2.284912               36.808594               523.546326   \n",
       "1                   2.266033               35.753385               525.290581   \n",
       "2                   2.159622               35.971630               530.026610   \n",
       "3                   2.037807               36.862241               542.590390   \n",
       "4                   1.786875               34.347666               540.531893   \n",
       "...                      ...                     ...                      ...   \n",
       "19434               2.589242               39.934641               578.654582   \n",
       "19435               2.647185               40.176307               571.622005   \n",
       "19436               2.466127               39.841423               563.733146   \n",
       "19437               2.278955               37.728375               549.812490   \n",
       "19438               2.440899               36.958540               573.076049   \n",
       "\n",
       "       rougher.input.feed_size  rougher.input.floatbank10_sulfate  \\\n",
       "0                    55.486599                          11.986616   \n",
       "1                    57.278666                          11.971193   \n",
       "2                    57.510649                          11.920603   \n",
       "3                    57.792734                          11.630094   \n",
       "4                    56.047189                          10.957755   \n",
       "...                        ...                                ...   \n",
       "19434                63.473450                          14.688804   \n",
       "19435                62.815291                          14.892720   \n",
       "19436                61.287347                          13.723692   \n",
       "19437                59.637037                          13.746510   \n",
       "19438                58.509262                          13.707775   \n",
       "\n",
       "       rougher.input.floatbank10_xanthate  rougher.state.floatbank10_a_air  \\\n",
       "0                                6.007990                       999.706909   \n",
       "1                                6.005766                      1000.286398   \n",
       "2                                6.197377                       999.719565   \n",
       "3                                6.203177                       999.814770   \n",
       "4                                6.198826                       999.678690   \n",
       "...                                   ...                              ...   \n",
       "19434                            6.898599                       999.688257   \n",
       "19435                            6.903204                      1000.479783   \n",
       "19436                            6.700148                      1000.014718   \n",
       "19437                            6.706417                       999.635748   \n",
       "19438                            6.820245                      1000.589156   \n",
       "\n",
       "       ...  secondary_cleaner.output.tail_sol  final.output.concentrate_au  \\\n",
       "0      ...                           8.764648                    42.192020   \n",
       "1      ...                           9.001494                    42.701629   \n",
       "2      ...                           8.842896                    42.657501   \n",
       "3      ...                           9.122857                    42.689819   \n",
       "4      ...                           8.871028                    42.774141   \n",
       "...    ...                                ...                          ...   \n",
       "19434  ...                          10.013738                    42.435181   \n",
       "19435  ...                           9.841210                    43.440341   \n",
       "19436  ...                          10.119344                    44.284117   \n",
       "19437  ...                           9.876374                    43.339714   \n",
       "19438  ...                           9.813732                    43.235220   \n",
       "\n",
       "       final.output.concentrate_ag  final.output.concentrate_pb  \\\n",
       "0                         6.055403                     9.889648   \n",
       "1                         6.029369                     9.968944   \n",
       "2                         6.055926                    10.213995   \n",
       "3                         6.047977                     9.977019   \n",
       "4                         6.148599                    10.142511   \n",
       "...                            ...                          ...   \n",
       "19434                     5.719113                    10.621027   \n",
       "19435                     5.410126                    10.868937   \n",
       "19436                     5.437716                     9.781181   \n",
       "19437                     5.664983                    10.168953   \n",
       "19438                     5.687063                     9.980404   \n",
       "\n",
       "       final.output.concentrate_sol  final.output.recovery  \\\n",
       "0                          5.507324              70.541216   \n",
       "1                          5.257781              69.266198   \n",
       "2                          5.383759              68.116445   \n",
       "3                          4.858634              68.347543   \n",
       "4                          4.939416              66.927016   \n",
       "...                             ...                    ...   \n",
       "19434                      6.459561              68.786981   \n",
       "19435                      6.258693              67.839536   \n",
       "19436                      6.057627              70.847012   \n",
       "19437                      5.484318              72.659046   \n",
       "19438                      5.282514              70.279619   \n",
       "\n",
       "       final.output.tail_au  final.output.tail_ag  final.output.tail_pb  \\\n",
       "0                  2.143149             10.411962              0.895447   \n",
       "1                  2.224930             10.462676              0.927452   \n",
       "2                  2.257889             10.507046              0.953716   \n",
       "3                  2.146849             10.422762              0.883763   \n",
       "4                  2.055292             10.360302              0.792826   \n",
       "...                     ...                   ...                   ...   \n",
       "19434              2.314786             10.286797              1.171459   \n",
       "19435              2.423143             10.382891              1.239738   \n",
       "19436              2.161256             10.324415              0.961210   \n",
       "19437              2.064422             10.475957              1.050592   \n",
       "19438              2.209593             10.487013              1.159805   \n",
       "\n",
       "       final.output.tail_sol  \n",
       "0                  16.904297  \n",
       "1                  16.634514  \n",
       "2                  16.208849  \n",
       "3                  16.532835  \n",
       "4                  16.525686  \n",
       "...                      ...  \n",
       "19434              19.131121  \n",
       "19435              18.544924  \n",
       "19436              18.185262  \n",
       "19437              17.525656  \n",
       "19438              17.483979  \n",
       "\n",
       "[19439 rows x 87 columns]"
      ]
     },
     "metadata": {},
     "output_type": "display_data"
    },
    {
     "data": {
      "text/html": [
       "<div>\n",
       "<style scoped>\n",
       "    .dataframe tbody tr th:only-of-type {\n",
       "        vertical-align: middle;\n",
       "    }\n",
       "\n",
       "    .dataframe tbody tr th {\n",
       "        vertical-align: top;\n",
       "    }\n",
       "\n",
       "    .dataframe thead th {\n",
       "        text-align: right;\n",
       "    }\n",
       "</style>\n",
       "<table border=\"1\" class=\"dataframe\">\n",
       "  <thead>\n",
       "    <tr style=\"text-align: right;\">\n",
       "      <th></th>\n",
       "      <th>rougher.input.feed_au</th>\n",
       "      <th>rougher.input.feed_ag</th>\n",
       "      <th>rougher.input.feed_pb</th>\n",
       "      <th>rougher.input.feed_sol</th>\n",
       "      <th>rougher.input.feed_rate</th>\n",
       "      <th>rougher.input.feed_size</th>\n",
       "      <th>rougher.input.floatbank10_sulfate</th>\n",
       "      <th>rougher.input.floatbank10_xanthate</th>\n",
       "      <th>rougher.state.floatbank10_a_air</th>\n",
       "      <th>rougher.state.floatbank10_a_level</th>\n",
       "      <th>...</th>\n",
       "      <th>secondary_cleaner.output.tail_sol</th>\n",
       "      <th>final.output.concentrate_au</th>\n",
       "      <th>final.output.concentrate_ag</th>\n",
       "      <th>final.output.concentrate_pb</th>\n",
       "      <th>final.output.concentrate_sol</th>\n",
       "      <th>final.output.recovery</th>\n",
       "      <th>final.output.tail_au</th>\n",
       "      <th>final.output.tail_ag</th>\n",
       "      <th>final.output.tail_pb</th>\n",
       "      <th>final.output.tail_sol</th>\n",
       "    </tr>\n",
       "  </thead>\n",
       "  <tbody>\n",
       "    <tr>\n",
       "      <th>count</th>\n",
       "      <td>19439.000000</td>\n",
       "      <td>19439.000000</td>\n",
       "      <td>19339.000000</td>\n",
       "      <td>19340.000000</td>\n",
       "      <td>19428.000000</td>\n",
       "      <td>19294.000000</td>\n",
       "      <td>19405.000000</td>\n",
       "      <td>19431.000000</td>\n",
       "      <td>19438.000000</td>\n",
       "      <td>19438.000000</td>\n",
       "      <td>...</td>\n",
       "      <td>17691.000000</td>\n",
       "      <td>19439.000000</td>\n",
       "      <td>19438.000000</td>\n",
       "      <td>19438.000000</td>\n",
       "      <td>19228.000000</td>\n",
       "      <td>19439.000000</td>\n",
       "      <td>19439.000000</td>\n",
       "      <td>19438.000000</td>\n",
       "      <td>19338.000000</td>\n",
       "      <td>19433.000000</td>\n",
       "    </tr>\n",
       "    <tr>\n",
       "      <th>mean</th>\n",
       "      <td>8.266097</td>\n",
       "      <td>8.794927</td>\n",
       "      <td>3.598085</td>\n",
       "      <td>36.695114</td>\n",
       "      <td>478.320042</td>\n",
       "      <td>58.970310</td>\n",
       "      <td>12.334373</td>\n",
       "      <td>6.021474</td>\n",
       "      <td>1105.315068</td>\n",
       "      <td>-376.610690</td>\n",
       "      <td>...</td>\n",
       "      <td>7.167247</td>\n",
       "      <td>44.076513</td>\n",
       "      <td>5.168470</td>\n",
       "      <td>9.978895</td>\n",
       "      <td>9.501224</td>\n",
       "      <td>67.050208</td>\n",
       "      <td>3.042467</td>\n",
       "      <td>9.688589</td>\n",
       "      <td>2.705795</td>\n",
       "      <td>10.583728</td>\n",
       "    </tr>\n",
       "    <tr>\n",
       "      <th>std</th>\n",
       "      <td>1.955092</td>\n",
       "      <td>1.936847</td>\n",
       "      <td>1.049486</td>\n",
       "      <td>5.145445</td>\n",
       "      <td>105.373758</td>\n",
       "      <td>21.634478</td>\n",
       "      <td>3.427317</td>\n",
       "      <td>1.127263</td>\n",
       "      <td>160.826798</td>\n",
       "      <td>93.909667</td>\n",
       "      <td>...</td>\n",
       "      <td>3.916079</td>\n",
       "      <td>5.129784</td>\n",
       "      <td>1.372348</td>\n",
       "      <td>1.669240</td>\n",
       "      <td>2.787537</td>\n",
       "      <td>10.125840</td>\n",
       "      <td>0.922808</td>\n",
       "      <td>2.328642</td>\n",
       "      <td>0.949077</td>\n",
       "      <td>2.868782</td>\n",
       "    </tr>\n",
       "    <tr>\n",
       "      <th>min</th>\n",
       "      <td>0.010000</td>\n",
       "      <td>0.010000</td>\n",
       "      <td>0.010000</td>\n",
       "      <td>0.010000</td>\n",
       "      <td>0.002986</td>\n",
       "      <td>0.046369</td>\n",
       "      <td>0.001083</td>\n",
       "      <td>0.000568</td>\n",
       "      <td>-0.042069</td>\n",
       "      <td>-657.949759</td>\n",
       "      <td>...</td>\n",
       "      <td>0.000000</td>\n",
       "      <td>0.000000</td>\n",
       "      <td>0.000000</td>\n",
       "      <td>0.000000</td>\n",
       "      <td>0.000000</td>\n",
       "      <td>0.000000</td>\n",
       "      <td>0.000000</td>\n",
       "      <td>0.000000</td>\n",
       "      <td>0.000000</td>\n",
       "      <td>0.000000</td>\n",
       "    </tr>\n",
       "    <tr>\n",
       "      <th>25%</th>\n",
       "      <td>6.854384</td>\n",
       "      <td>7.237967</td>\n",
       "      <td>2.887280</td>\n",
       "      <td>34.207799</td>\n",
       "      <td>416.525453</td>\n",
       "      <td>47.435103</td>\n",
       "      <td>10.000362</td>\n",
       "      <td>5.398678</td>\n",
       "      <td>999.661867</td>\n",
       "      <td>-499.835165</td>\n",
       "      <td>...</td>\n",
       "      <td>3.845475</td>\n",
       "      <td>43.402215</td>\n",
       "      <td>4.251240</td>\n",
       "      <td>9.137262</td>\n",
       "      <td>7.722820</td>\n",
       "      <td>63.299712</td>\n",
       "      <td>2.461138</td>\n",
       "      <td>8.062878</td>\n",
       "      <td>2.040119</td>\n",
       "      <td>8.938947</td>\n",
       "    </tr>\n",
       "    <tr>\n",
       "      <th>50%</th>\n",
       "      <td>8.125839</td>\n",
       "      <td>8.593574</td>\n",
       "      <td>3.534895</td>\n",
       "      <td>37.202650</td>\n",
       "      <td>499.416120</td>\n",
       "      <td>54.610197</td>\n",
       "      <td>12.001174</td>\n",
       "      <td>6.008273</td>\n",
       "      <td>1001.072890</td>\n",
       "      <td>-300.263994</td>\n",
       "      <td>...</td>\n",
       "      <td>7.685827</td>\n",
       "      <td>45.011244</td>\n",
       "      <td>5.066094</td>\n",
       "      <td>10.102433</td>\n",
       "      <td>9.218961</td>\n",
       "      <td>68.172738</td>\n",
       "      <td>2.984909</td>\n",
       "      <td>9.743623</td>\n",
       "      <td>2.748730</td>\n",
       "      <td>10.622456</td>\n",
       "    </tr>\n",
       "    <tr>\n",
       "      <th>75%</th>\n",
       "      <td>9.769917</td>\n",
       "      <td>10.213771</td>\n",
       "      <td>4.244161</td>\n",
       "      <td>40.039133</td>\n",
       "      <td>550.172183</td>\n",
       "      <td>65.023044</td>\n",
       "      <td>14.716595</td>\n",
       "      <td>6.798051</td>\n",
       "      <td>1205.620588</td>\n",
       "      <td>-299.981998</td>\n",
       "      <td>...</td>\n",
       "      <td>10.411296</td>\n",
       "      <td>46.275313</td>\n",
       "      <td>5.895527</td>\n",
       "      <td>11.035769</td>\n",
       "      <td>10.947813</td>\n",
       "      <td>72.686642</td>\n",
       "      <td>3.571351</td>\n",
       "      <td>11.134294</td>\n",
       "      <td>3.333216</td>\n",
       "      <td>12.104271</td>\n",
       "    </tr>\n",
       "    <tr>\n",
       "      <th>max</th>\n",
       "      <td>13.731330</td>\n",
       "      <td>14.596026</td>\n",
       "      <td>7.142594</td>\n",
       "      <td>53.477742</td>\n",
       "      <td>717.508837</td>\n",
       "      <td>484.967466</td>\n",
       "      <td>36.118275</td>\n",
       "      <td>9.703448</td>\n",
       "      <td>1521.980372</td>\n",
       "      <td>-273.776101</td>\n",
       "      <td>...</td>\n",
       "      <td>26.000772</td>\n",
       "      <td>52.756638</td>\n",
       "      <td>16.001945</td>\n",
       "      <td>17.031899</td>\n",
       "      <td>19.615720</td>\n",
       "      <td>100.000000</td>\n",
       "      <td>8.245022</td>\n",
       "      <td>19.552149</td>\n",
       "      <td>5.804178</td>\n",
       "      <td>22.317730</td>\n",
       "    </tr>\n",
       "  </tbody>\n",
       "</table>\n",
       "<p>8 rows × 86 columns</p>\n",
       "</div>"
      ],
      "text/plain": [
       "       rougher.input.feed_au  rougher.input.feed_ag  rougher.input.feed_pb  \\\n",
       "count           19439.000000           19439.000000           19339.000000   \n",
       "mean                8.266097               8.794927               3.598085   \n",
       "std                 1.955092               1.936847               1.049486   \n",
       "min                 0.010000               0.010000               0.010000   \n",
       "25%                 6.854384               7.237967               2.887280   \n",
       "50%                 8.125839               8.593574               3.534895   \n",
       "75%                 9.769917              10.213771               4.244161   \n",
       "max                13.731330              14.596026               7.142594   \n",
       "\n",
       "       rougher.input.feed_sol  rougher.input.feed_rate  \\\n",
       "count            19340.000000             19428.000000   \n",
       "mean                36.695114               478.320042   \n",
       "std                  5.145445               105.373758   \n",
       "min                  0.010000                 0.002986   \n",
       "25%                 34.207799               416.525453   \n",
       "50%                 37.202650               499.416120   \n",
       "75%                 40.039133               550.172183   \n",
       "max                 53.477742               717.508837   \n",
       "\n",
       "       rougher.input.feed_size  rougher.input.floatbank10_sulfate  \\\n",
       "count             19294.000000                       19405.000000   \n",
       "mean                 58.970310                          12.334373   \n",
       "std                  21.634478                           3.427317   \n",
       "min                   0.046369                           0.001083   \n",
       "25%                  47.435103                          10.000362   \n",
       "50%                  54.610197                          12.001174   \n",
       "75%                  65.023044                          14.716595   \n",
       "max                 484.967466                          36.118275   \n",
       "\n",
       "       rougher.input.floatbank10_xanthate  rougher.state.floatbank10_a_air  \\\n",
       "count                        19431.000000                     19438.000000   \n",
       "mean                             6.021474                      1105.315068   \n",
       "std                              1.127263                       160.826798   \n",
       "min                              0.000568                        -0.042069   \n",
       "25%                              5.398678                       999.661867   \n",
       "50%                              6.008273                      1001.072890   \n",
       "75%                              6.798051                      1205.620588   \n",
       "max                              9.703448                      1521.980372   \n",
       "\n",
       "       rougher.state.floatbank10_a_level  ...  \\\n",
       "count                       19438.000000  ...   \n",
       "mean                         -376.610690  ...   \n",
       "std                            93.909667  ...   \n",
       "min                          -657.949759  ...   \n",
       "25%                          -499.835165  ...   \n",
       "50%                          -300.263994  ...   \n",
       "75%                          -299.981998  ...   \n",
       "max                          -273.776101  ...   \n",
       "\n",
       "       secondary_cleaner.output.tail_sol  final.output.concentrate_au  \\\n",
       "count                       17691.000000                 19439.000000   \n",
       "mean                            7.167247                    44.076513   \n",
       "std                             3.916079                     5.129784   \n",
       "min                             0.000000                     0.000000   \n",
       "25%                             3.845475                    43.402215   \n",
       "50%                             7.685827                    45.011244   \n",
       "75%                            10.411296                    46.275313   \n",
       "max                            26.000772                    52.756638   \n",
       "\n",
       "       final.output.concentrate_ag  final.output.concentrate_pb  \\\n",
       "count                 19438.000000                 19438.000000   \n",
       "mean                      5.168470                     9.978895   \n",
       "std                       1.372348                     1.669240   \n",
       "min                       0.000000                     0.000000   \n",
       "25%                       4.251240                     9.137262   \n",
       "50%                       5.066094                    10.102433   \n",
       "75%                       5.895527                    11.035769   \n",
       "max                      16.001945                    17.031899   \n",
       "\n",
       "       final.output.concentrate_sol  final.output.recovery  \\\n",
       "count                  19228.000000           19439.000000   \n",
       "mean                       9.501224              67.050208   \n",
       "std                        2.787537              10.125840   \n",
       "min                        0.000000               0.000000   \n",
       "25%                        7.722820              63.299712   \n",
       "50%                        9.218961              68.172738   \n",
       "75%                       10.947813              72.686642   \n",
       "max                       19.615720             100.000000   \n",
       "\n",
       "       final.output.tail_au  final.output.tail_ag  final.output.tail_pb  \\\n",
       "count          19439.000000          19438.000000          19338.000000   \n",
       "mean               3.042467              9.688589              2.705795   \n",
       "std                0.922808              2.328642              0.949077   \n",
       "min                0.000000              0.000000              0.000000   \n",
       "25%                2.461138              8.062878              2.040119   \n",
       "50%                2.984909              9.743623              2.748730   \n",
       "75%                3.571351             11.134294              3.333216   \n",
       "max                8.245022             19.552149              5.804178   \n",
       "\n",
       "       final.output.tail_sol  \n",
       "count           19433.000000  \n",
       "mean               10.583728  \n",
       "std                 2.868782  \n",
       "min                 0.000000  \n",
       "25%                 8.938947  \n",
       "50%                10.622456  \n",
       "75%                12.104271  \n",
       "max                22.317730  \n",
       "\n",
       "[8 rows x 86 columns]"
      ]
     },
     "metadata": {},
     "output_type": "display_data"
    },
    {
     "name": "stdout",
     "output_type": "stream",
     "text": [
      "<class 'pandas.core.frame.DataFrame'>\n",
      "RangeIndex: 19439 entries, 0 to 19438\n",
      "Data columns (total 87 columns):\n",
      " #   Column                                              Non-Null Count  Dtype  \n",
      "---  ------                                              --------------  -----  \n",
      " 0   date                                                19439 non-null  object \n",
      " 1   rougher.input.feed_au                               19439 non-null  float64\n",
      " 2   rougher.input.feed_ag                               19439 non-null  float64\n",
      " 3   rougher.input.feed_pb                               19339 non-null  float64\n",
      " 4   rougher.input.feed_sol                              19340 non-null  float64\n",
      " 5   rougher.input.feed_rate                             19428 non-null  float64\n",
      " 6   rougher.input.feed_size                             19294 non-null  float64\n",
      " 7   rougher.input.floatbank10_sulfate                   19405 non-null  float64\n",
      " 8   rougher.input.floatbank10_xanthate                  19431 non-null  float64\n",
      " 9   rougher.state.floatbank10_a_air                     19438 non-null  float64\n",
      " 10  rougher.state.floatbank10_a_level                   19438 non-null  float64\n",
      " 11  rougher.state.floatbank10_b_air                     19438 non-null  float64\n",
      " 12  rougher.state.floatbank10_b_level                   19438 non-null  float64\n",
      " 13  rougher.state.floatbank10_c_air                     19438 non-null  float64\n",
      " 14  rougher.state.floatbank10_c_level                   19438 non-null  float64\n",
      " 15  rougher.state.floatbank10_d_air                     19439 non-null  float64\n",
      " 16  rougher.state.floatbank10_d_level                   19439 non-null  float64\n",
      " 17  rougher.state.floatbank10_e_air                     19003 non-null  float64\n",
      " 18  rougher.state.floatbank10_e_level                   19439 non-null  float64\n",
      " 19  rougher.state.floatbank10_f_air                     19439 non-null  float64\n",
      " 20  rougher.state.floatbank10_f_level                   19439 non-null  float64\n",
      " 21  rougher.input.floatbank11_sulfate                   19395 non-null  float64\n",
      " 22  rougher.input.floatbank11_xanthate                  18986 non-null  float64\n",
      " 23  rougher.calculation.sulfate_to_au_concentrate       19437 non-null  float64\n",
      " 24  rougher.calculation.floatbank10_sulfate_to_au_feed  19437 non-null  float64\n",
      " 25  rougher.calculation.floatbank11_sulfate_to_au_feed  19437 non-null  float64\n",
      " 26  rougher.calculation.au_pb_ratio                     19439 non-null  float64\n",
      " 27  rougher.output.concentrate_au                       19439 non-null  float64\n",
      " 28  rougher.output.concentrate_ag                       19439 non-null  float64\n",
      " 29  rougher.output.concentrate_pb                       19439 non-null  float64\n",
      " 30  rougher.output.concentrate_sol                      19416 non-null  float64\n",
      " 31  rougher.output.recovery                             19439 non-null  float64\n",
      " 32  rougher.output.tail_au                              19439 non-null  float64\n",
      " 33  rougher.output.tail_ag                              19438 non-null  float64\n",
      " 34  rougher.output.tail_pb                              19439 non-null  float64\n",
      " 35  rougher.output.tail_sol                             19439 non-null  float64\n",
      " 36  primary_cleaner.input.sulfate                       19415 non-null  float64\n",
      " 37  primary_cleaner.input.depressant                    19402 non-null  float64\n",
      " 38  primary_cleaner.input.feed_size                     19439 non-null  float64\n",
      " 39  primary_cleaner.input.xanthate                      19335 non-null  float64\n",
      " 40  primary_cleaner.state.floatbank8_a_air              19435 non-null  float64\n",
      " 41  primary_cleaner.state.floatbank8_a_level            19438 non-null  float64\n",
      " 42  primary_cleaner.state.floatbank8_b_air              19435 non-null  float64\n",
      " 43  primary_cleaner.state.floatbank8_b_level            19438 non-null  float64\n",
      " 44  primary_cleaner.state.floatbank8_c_air              19437 non-null  float64\n",
      " 45  primary_cleaner.state.floatbank8_c_level            19438 non-null  float64\n",
      " 46  primary_cleaner.state.floatbank8_d_air              19436 non-null  float64\n",
      " 47  primary_cleaner.state.floatbank8_d_level            19438 non-null  float64\n",
      " 48  primary_cleaner.output.concentrate_au               19439 non-null  float64\n",
      " 49  primary_cleaner.output.concentrate_ag               19439 non-null  float64\n",
      " 50  primary_cleaner.output.concentrate_pb               19323 non-null  float64\n",
      " 51  primary_cleaner.output.concentrate_sol              19069 non-null  float64\n",
      " 52  primary_cleaner.output.tail_au                      19439 non-null  float64\n",
      " 53  primary_cleaner.output.tail_ag                      19435 non-null  float64\n",
      " 54  primary_cleaner.output.tail_pb                      19418 non-null  float64\n",
      " 55  primary_cleaner.output.tail_sol                     19377 non-null  float64\n",
      " 56  secondary_cleaner.state.floatbank2_a_air            19219 non-null  float64\n",
      " 57  secondary_cleaner.state.floatbank2_a_level          19438 non-null  float64\n",
      " 58  secondary_cleaner.state.floatbank2_b_air            19416 non-null  float64\n",
      " 59  secondary_cleaner.state.floatbank2_b_level          19438 non-null  float64\n",
      " 60  secondary_cleaner.state.floatbank3_a_air            19426 non-null  float64\n",
      " 61  secondary_cleaner.state.floatbank3_a_level          19438 non-null  float64\n",
      " 62  secondary_cleaner.state.floatbank3_b_air            19438 non-null  float64\n",
      " 63  secondary_cleaner.state.floatbank3_b_level          19438 non-null  float64\n",
      " 64  secondary_cleaner.state.floatbank4_a_air            19433 non-null  float64\n",
      " 65  secondary_cleaner.state.floatbank4_a_level          19438 non-null  float64\n",
      " 66  secondary_cleaner.state.floatbank4_b_air            19438 non-null  float64\n",
      " 67  secondary_cleaner.state.floatbank4_b_level          19438 non-null  float64\n",
      " 68  secondary_cleaner.state.floatbank5_a_air            19438 non-null  float64\n",
      " 69  secondary_cleaner.state.floatbank5_a_level          19438 non-null  float64\n",
      " 70  secondary_cleaner.state.floatbank5_b_air            19438 non-null  float64\n",
      " 71  secondary_cleaner.state.floatbank5_b_level          19438 non-null  float64\n",
      " 72  secondary_cleaner.state.floatbank6_a_air            19437 non-null  float64\n",
      " 73  secondary_cleaner.state.floatbank6_a_level          19438 non-null  float64\n",
      " 74  secondary_cleaner.output.tail_au                    19439 non-null  float64\n",
      " 75  secondary_cleaner.output.tail_ag                    19437 non-null  float64\n",
      " 76  secondary_cleaner.output.tail_pb                    19427 non-null  float64\n",
      " 77  secondary_cleaner.output.tail_sol                   17691 non-null  float64\n",
      " 78  final.output.concentrate_au                         19439 non-null  float64\n",
      " 79  final.output.concentrate_ag                         19438 non-null  float64\n",
      " 80  final.output.concentrate_pb                         19438 non-null  float64\n",
      " 81  final.output.concentrate_sol                        19228 non-null  float64\n",
      " 82  final.output.recovery                               19439 non-null  float64\n",
      " 83  final.output.tail_au                                19439 non-null  float64\n",
      " 84  final.output.tail_ag                                19438 non-null  float64\n",
      " 85  final.output.tail_pb                                19338 non-null  float64\n",
      " 86  final.output.tail_sol                               19433 non-null  float64\n",
      "dtypes: float64(86), object(1)\n",
      "memory usage: 12.9+ MB\n"
     ]
    },
    {
     "data": {
      "text/plain": [
       "None"
      ]
     },
     "metadata": {},
     "output_type": "display_data"
    },
    {
     "data": {
      "text/plain": [
       "'Duplicates in the original dataset: 0'"
      ]
     },
     "metadata": {},
     "output_type": "display_data"
    },
    {
     "data": {
      "text/plain": [
       "'Missing values in the original dataset:'"
      ]
     },
     "metadata": {},
     "output_type": "display_data"
    },
    {
     "data": {
      "text/plain": [
       "date                        0\n",
       "rougher.input.feed_au       0\n",
       "rougher.input.feed_ag       0\n",
       "rougher.input.feed_pb     100\n",
       "rougher.input.feed_sol     99\n",
       "                         ... \n",
       "final.output.recovery       0\n",
       "final.output.tail_au        0\n",
       "final.output.tail_ag        1\n",
       "final.output.tail_pb      101\n",
       "final.output.tail_sol       6\n",
       "Length: 87, dtype: int64"
      ]
     },
     "metadata": {},
     "output_type": "display_data"
    }
   ],
   "source": [
    "display('---------Full Sample-----------')\n",
    "display(gold_full)\n",
    "display(gold_full.describe())\n",
    "display(gold_full.info())\n",
    "display(f'Duplicates in the original dataset: {gold_full.duplicated().sum()}')\n",
    "display(f'Missing values in the original dataset:')\n",
    "display(gold_full.isna().sum())"
   ]
  },
  {
   "cell_type": "markdown",
   "metadata": {},
   "source": [
    "All tables contain missing values. Since the condition specified that data is usually indexed by the date and time of information acquisition (feature: date), and neighboring parameters in time are often similar, we will fill in the missing values with linear interpolation."
   ]
  },
  {
   "cell_type": "code",
   "execution_count": 6,
   "metadata": {},
   "outputs": [
    {
     "name": "stderr",
     "output_type": "stream",
     "text": [
      "/var/folders/x_/3yh7sh2919x0stdx_g75l3w80000gn/T/ipykernel_3327/2772975517.py:1: FutureWarning: DataFrame.interpolate with object dtype is deprecated and will raise in a future version. Call obj.infer_objects(copy=False) before interpolating instead.\n",
      "  gold_train.interpolate(method='linear', inplace=True)\n"
     ]
    },
    {
     "data": {
      "text/plain": [
       "0"
      ]
     },
     "metadata": {},
     "output_type": "display_data"
    }
   ],
   "source": [
    "gold_train.interpolate(method='linear', inplace=True)\n",
    "display(gold_train.isna().sum().sum())"
   ]
  },
  {
   "cell_type": "code",
   "execution_count": 7,
   "metadata": {},
   "outputs": [
    {
     "name": "stderr",
     "output_type": "stream",
     "text": [
      "/var/folders/x_/3yh7sh2919x0stdx_g75l3w80000gn/T/ipykernel_3327/392057163.py:1: FutureWarning: DataFrame.interpolate with object dtype is deprecated and will raise in a future version. Call obj.infer_objects(copy=False) before interpolating instead.\n",
      "  gold_test.interpolate(method='linear', inplace=True)\n"
     ]
    },
    {
     "data": {
      "text/plain": [
       "0"
      ]
     },
     "metadata": {},
     "output_type": "display_data"
    }
   ],
   "source": [
    "gold_test.interpolate(method='linear', inplace=True)\n",
    "display(gold_test.isna().sum().sum())"
   ]
  },
  {
   "cell_type": "code",
   "execution_count": 8,
   "metadata": {},
   "outputs": [
    {
     "name": "stderr",
     "output_type": "stream",
     "text": [
      "/var/folders/x_/3yh7sh2919x0stdx_g75l3w80000gn/T/ipykernel_3327/1682049796.py:1: FutureWarning: DataFrame.interpolate with object dtype is deprecated and will raise in a future version. Call obj.infer_objects(copy=False) before interpolating instead.\n",
      "  gold_full.interpolate(method='linear', inplace=True)\n"
     ]
    },
    {
     "data": {
      "text/plain": [
       "0"
      ]
     },
     "metadata": {},
     "output_type": "display_data"
    }
   ],
   "source": [
    "gold_full.interpolate(method='linear', inplace=True)\n",
    "display(gold_full.isna().sum().sum())"
   ]
  },
  {
   "cell_type": "markdown",
   "metadata": {},
   "source": [
    "Let's check the correlation of features with the target variables in the training and original datasets."
   ]
  },
  {
   "cell_type": "code",
   "execution_count": 9,
   "metadata": {},
   "outputs": [
    {
     "data": {
      "text/html": [
       "<style type=\"text/css\">\n",
       "#T_f7d34_row0_col0, #T_f7d34_row1_col0, #T_f7d34_row2_col1, #T_f7d34_row3_col0, #T_f7d34_row48_col0, #T_f7d34_row54_col1, #T_f7d34_row63_col0 {\n",
       "  background-color: #c6d6f1;\n",
       "  color: #000000;\n",
       "}\n",
       "#T_f7d34_row0_col1 {\n",
       "  background-color: #dfdbd9;\n",
       "  color: #000000;\n",
       "}\n",
       "#T_f7d34_row1_col1 {\n",
       "  background-color: #dedcdb;\n",
       "  color: #000000;\n",
       "}\n",
       "#T_f7d34_row2_col0, #T_f7d34_row4_col1 {\n",
       "  background-color: #c1d4f4;\n",
       "  color: #000000;\n",
       "}\n",
       "#T_f7d34_row3_col1 {\n",
       "  background-color: #d5dbe5;\n",
       "  color: #000000;\n",
       "}\n",
       "#T_f7d34_row4_col0, #T_f7d34_row39_col1, #T_f7d34_row43_col0, #T_f7d34_row50_col0, #T_f7d34_row55_col1, #T_f7d34_row61_col0 {\n",
       "  background-color: #b1cbfc;\n",
       "  color: #000000;\n",
       "}\n",
       "#T_f7d34_row5_col0, #T_f7d34_row64_col0, #T_f7d34_row75_col0 {\n",
       "  background-color: #9fbfff;\n",
       "  color: #000000;\n",
       "}\n",
       "#T_f7d34_row5_col1, #T_f7d34_row68_col0, #T_f7d34_row71_col0 {\n",
       "  background-color: #9ebeff;\n",
       "  color: #000000;\n",
       "}\n",
       "#T_f7d34_row6_col0, #T_f7d34_row22_col0, #T_f7d34_row46_col0, #T_f7d34_row58_col1, #T_f7d34_row60_col0, #T_f7d34_row76_col1 {\n",
       "  background-color: #97b8ff;\n",
       "  color: #000000;\n",
       "}\n",
       "#T_f7d34_row6_col1 {\n",
       "  background-color: #abc8fd;\n",
       "  color: #000000;\n",
       "}\n",
       "#T_f7d34_row7_col0 {\n",
       "  background-color: #d2dbe8;\n",
       "  color: #000000;\n",
       "}\n",
       "#T_f7d34_row7_col1 {\n",
       "  background-color: #e0dbd8;\n",
       "  color: #000000;\n",
       "}\n",
       "#T_f7d34_row8_col0, #T_f7d34_row41_col1, #T_f7d34_row67_col0 {\n",
       "  background-color: #b7cff9;\n",
       "  color: #000000;\n",
       "}\n",
       "#T_f7d34_row8_col1, #T_f7d34_row27_col1 {\n",
       "  background-color: #c5d6f2;\n",
       "  color: #000000;\n",
       "}\n",
       "#T_f7d34_row9_col0, #T_f7d34_row39_col0, #T_f7d34_row74_col0, #T_f7d34_row78_col0 {\n",
       "  background-color: #afcafc;\n",
       "  color: #000000;\n",
       "}\n",
       "#T_f7d34_row9_col1, #T_f7d34_row45_col1, #T_f7d34_row61_col1 {\n",
       "  background-color: #a7c5fe;\n",
       "  color: #000000;\n",
       "}\n",
       "#T_f7d34_row10_col0, #T_f7d34_row11_col0, #T_f7d34_row13_col0, #T_f7d34_row15_col0, #T_f7d34_row24_col0, #T_f7d34_row46_col1, #T_f7d34_row66_col0, #T_f7d34_row71_col1 {\n",
       "  background-color: #90b2fe;\n",
       "  color: #000000;\n",
       "}\n",
       "#T_f7d34_row10_col1, #T_f7d34_row32_col1 {\n",
       "  background-color: #7a9df8;\n",
       "  color: #f1f1f1;\n",
       "}\n",
       "#T_f7d34_row11_col1, #T_f7d34_row15_col1 {\n",
       "  background-color: #88abfd;\n",
       "  color: #000000;\n",
       "}\n",
       "#T_f7d34_row12_col0, #T_f7d34_row23_col1 {\n",
       "  background-color: #89acfd;\n",
       "  color: #000000;\n",
       "}\n",
       "#T_f7d34_row12_col1 {\n",
       "  background-color: #7295f4;\n",
       "  color: #f1f1f1;\n",
       "}\n",
       "#T_f7d34_row13_col1 {\n",
       "  background-color: #86a9fc;\n",
       "  color: #f1f1f1;\n",
       "}\n",
       "#T_f7d34_row14_col0, #T_f7d34_row17_col1 {\n",
       "  background-color: #8badfd;\n",
       "  color: #000000;\n",
       "}\n",
       "#T_f7d34_row14_col1 {\n",
       "  background-color: #7396f5;\n",
       "  color: #f1f1f1;\n",
       "}\n",
       "#T_f7d34_row16_col0, #T_f7d34_row23_col0, #T_f7d34_row24_col1, #T_f7d34_row66_col1 {\n",
       "  background-color: #8db0fe;\n",
       "  color: #000000;\n",
       "}\n",
       "#T_f7d34_row16_col1 {\n",
       "  background-color: #7da0f9;\n",
       "  color: #f1f1f1;\n",
       "}\n",
       "#T_f7d34_row17_col0, #T_f7d34_row19_col0, #T_f7d34_row25_col0, #T_f7d34_row56_col0, #T_f7d34_row85_col0, #T_f7d34_row85_col1 {\n",
       "  background-color: #93b5fe;\n",
       "  color: #000000;\n",
       "}\n",
       "#T_f7d34_row18_col0, #T_f7d34_row28_col1 {\n",
       "  background-color: #94b6ff;\n",
       "  color: #000000;\n",
       "}\n",
       "#T_f7d34_row18_col1 {\n",
       "  background-color: #82a6fb;\n",
       "  color: #f1f1f1;\n",
       "}\n",
       "#T_f7d34_row19_col1 {\n",
       "  background-color: #8caffe;\n",
       "  color: #000000;\n",
       "}\n",
       "#T_f7d34_row20_col0, #T_f7d34_row40_col1, #T_f7d34_row56_col1 {\n",
       "  background-color: #98b9ff;\n",
       "  color: #000000;\n",
       "}\n",
       "#T_f7d34_row20_col1 {\n",
       "  background-color: #aec9fc;\n",
       "  color: #000000;\n",
       "}\n",
       "#T_f7d34_row21_col0 {\n",
       "  background-color: #c9d7f0;\n",
       "  color: #000000;\n",
       "}\n",
       "#T_f7d34_row21_col1, #T_f7d34_row35_col0, #T_f7d34_row48_col1 {\n",
       "  background-color: #d8dce2;\n",
       "  color: #000000;\n",
       "}\n",
       "#T_f7d34_row22_col1, #T_f7d34_row37_col0, #T_f7d34_row72_col0, #T_f7d34_row72_col1 {\n",
       "  background-color: #96b7ff;\n",
       "  color: #000000;\n",
       "}\n",
       "#T_f7d34_row25_col1, #T_f7d34_row36_col0, #T_f7d34_row67_col1 {\n",
       "  background-color: #a5c3fe;\n",
       "  color: #000000;\n",
       "}\n",
       "#T_f7d34_row26_col0 {\n",
       "  background-color: #f4987a;\n",
       "  color: #000000;\n",
       "}\n",
       "#T_f7d34_row26_col1, #T_f7d34_row44_col1, #T_f7d34_row62_col1, #T_f7d34_row76_col0 {\n",
       "  background-color: #9abbff;\n",
       "  color: #000000;\n",
       "}\n",
       "#T_f7d34_row27_col0 {\n",
       "  background-color: #ef886b;\n",
       "  color: #f1f1f1;\n",
       "}\n",
       "#T_f7d34_row28_col0 {\n",
       "  background-color: #f6a586;\n",
       "  color: #000000;\n",
       "}\n",
       "#T_f7d34_row29_col0 {\n",
       "  background-color: #f39778;\n",
       "  color: #000000;\n",
       "}\n",
       "#T_f7d34_row29_col1, #T_f7d34_row40_col0, #T_f7d34_row42_col0, #T_f7d34_row44_col0, #T_f7d34_row70_col0 {\n",
       "  background-color: #a3c2fe;\n",
       "  color: #000000;\n",
       "}\n",
       "#T_f7d34_row30_col0, #T_f7d34_row81_col1 {\n",
       "  background-color: #b40426;\n",
       "  color: #f1f1f1;\n",
       "}\n",
       "#T_f7d34_row30_col1, #T_f7d34_row81_col0 {\n",
       "  background-color: #dddcdc;\n",
       "  color: #000000;\n",
       "}\n",
       "#T_f7d34_row31_col0 {\n",
       "  background-color: #465ecf;\n",
       "  color: #f1f1f1;\n",
       "}\n",
       "#T_f7d34_row31_col1, #T_f7d34_row73_col1 {\n",
       "  background-color: #4a63d3;\n",
       "  color: #f1f1f1;\n",
       "}\n",
       "#T_f7d34_row32_col0 {\n",
       "  background-color: #6384eb;\n",
       "  color: #f1f1f1;\n",
       "}\n",
       "#T_f7d34_row33_col0 {\n",
       "  background-color: #536edd;\n",
       "  color: #f1f1f1;\n",
       "}\n",
       "#T_f7d34_row33_col1 {\n",
       "  background-color: #4961d2;\n",
       "  color: #f1f1f1;\n",
       "}\n",
       "#T_f7d34_row34_col0 {\n",
       "  background-color: #b6cefa;\n",
       "  color: #000000;\n",
       "}\n",
       "#T_f7d34_row34_col1, #T_f7d34_row52_col1, #T_f7d34_row80_col0 {\n",
       "  background-color: #c0d4f5;\n",
       "  color: #000000;\n",
       "}\n",
       "#T_f7d34_row35_col1 {\n",
       "  background-color: #e9d5cb;\n",
       "  color: #000000;\n",
       "}\n",
       "#T_f7d34_row36_col1 {\n",
       "  background-color: #c3d5f4;\n",
       "  color: #000000;\n",
       "}\n",
       "#T_f7d34_row37_col1, #T_f7d34_row77_col0 {\n",
       "  background-color: #aac7fd;\n",
       "  color: #000000;\n",
       "}\n",
       "#T_f7d34_row38_col0, #T_f7d34_row65_col1 {\n",
       "  background-color: #bcd2f7;\n",
       "  color: #000000;\n",
       "}\n",
       "#T_f7d34_row38_col1, #T_f7d34_row65_col0 {\n",
       "  background-color: #cbd8ee;\n",
       "  color: #000000;\n",
       "}\n",
       "#T_f7d34_row41_col0, #T_f7d34_row49_col0, #T_f7d34_row55_col0, #T_f7d34_row57_col1 {\n",
       "  background-color: #b3cdfb;\n",
       "  color: #000000;\n",
       "}\n",
       "#T_f7d34_row42_col1 {\n",
       "  background-color: #a6c4fe;\n",
       "  color: #000000;\n",
       "}\n",
       "#T_f7d34_row43_col1, #T_f7d34_row54_col0 {\n",
       "  background-color: #b5cdfa;\n",
       "  color: #000000;\n",
       "}\n",
       "#T_f7d34_row45_col0, #T_f7d34_row79_col0 {\n",
       "  background-color: #a1c0ff;\n",
       "  color: #000000;\n",
       "}\n",
       "#T_f7d34_row47_col0, #T_f7d34_row47_col1 {\n",
       "  background-color: #799cf8;\n",
       "  color: #f1f1f1;\n",
       "}\n",
       "#T_f7d34_row49_col1, #T_f7d34_row59_col0, #T_f7d34_row63_col1 {\n",
       "  background-color: #bed2f6;\n",
       "  color: #000000;\n",
       "}\n",
       "#T_f7d34_row50_col1 {\n",
       "  background-color: #d1dae9;\n",
       "  color: #000000;\n",
       "}\n",
       "#T_f7d34_row51_col0 {\n",
       "  background-color: #6e90f2;\n",
       "  color: #f1f1f1;\n",
       "}\n",
       "#T_f7d34_row51_col1 {\n",
       "  background-color: #3d50c3;\n",
       "  color: #f1f1f1;\n",
       "}\n",
       "#T_f7d34_row52_col0, #T_f7d34_row53_col0, #T_f7d34_row53_col1, #T_f7d34_row59_col1 {\n",
       "  background-color: #bbd1f8;\n",
       "  color: #000000;\n",
       "}\n",
       "#T_f7d34_row57_col0, #T_f7d34_row83_col1 {\n",
       "  background-color: #bad0f8;\n",
       "  color: #000000;\n",
       "}\n",
       "#T_f7d34_row58_col0, #T_f7d34_row62_col0, #T_f7d34_row75_col1 {\n",
       "  background-color: #92b4fe;\n",
       "  color: #000000;\n",
       "}\n",
       "#T_f7d34_row60_col1, #T_f7d34_row70_col1 {\n",
       "  background-color: #9dbdff;\n",
       "  color: #000000;\n",
       "}\n",
       "#T_f7d34_row64_col1, #T_f7d34_row69_col1 {\n",
       "  background-color: #a2c1ff;\n",
       "  color: #000000;\n",
       "}\n",
       "#T_f7d34_row68_col1 {\n",
       "  background-color: #9bbcff;\n",
       "  color: #000000;\n",
       "}\n",
       "#T_f7d34_row69_col0 {\n",
       "  background-color: #b9d0f9;\n",
       "  color: #000000;\n",
       "}\n",
       "#T_f7d34_row73_col0 {\n",
       "  background-color: #7699f6;\n",
       "  color: #f1f1f1;\n",
       "}\n",
       "#T_f7d34_row74_col1 {\n",
       "  background-color: #bfd3f6;\n",
       "  color: #000000;\n",
       "}\n",
       "#T_f7d34_row77_col1 {\n",
       "  background-color: #e3d9d3;\n",
       "  color: #000000;\n",
       "}\n",
       "#T_f7d34_row78_col1 {\n",
       "  background-color: #ccd9ed;\n",
       "  color: #000000;\n",
       "}\n",
       "#T_f7d34_row79_col1 {\n",
       "  background-color: #c7d7f0;\n",
       "  color: #000000;\n",
       "}\n",
       "#T_f7d34_row80_col1 {\n",
       "  background-color: #e1dad6;\n",
       "  color: #000000;\n",
       "}\n",
       "#T_f7d34_row82_col0 {\n",
       "  background-color: #81a4fb;\n",
       "  color: #f1f1f1;\n",
       "}\n",
       "#T_f7d34_row82_col1 {\n",
       "  background-color: #3b4cc0;\n",
       "  color: #f1f1f1;\n",
       "}\n",
       "#T_f7d34_row83_col0 {\n",
       "  background-color: #c4d5f3;\n",
       "  color: #000000;\n",
       "}\n",
       "#T_f7d34_row84_col0 {\n",
       "  background-color: #a9c6fd;\n",
       "  color: #000000;\n",
       "}\n",
       "#T_f7d34_row84_col1 {\n",
       "  background-color: #7b9ff9;\n",
       "  color: #f1f1f1;\n",
       "}\n",
       "</style>\n",
       "<table id=\"T_f7d34\">\n",
       "  <thead>\n",
       "    <tr>\n",
       "      <th class=\"blank level0\" >&nbsp;</th>\n",
       "      <th id=\"T_f7d34_level0_col0\" class=\"col_heading level0 col0\" >rougher.output.recovery</th>\n",
       "      <th id=\"T_f7d34_level0_col1\" class=\"col_heading level0 col1\" >final.output.recovery</th>\n",
       "    </tr>\n",
       "  </thead>\n",
       "  <tbody>\n",
       "    <tr>\n",
       "      <th id=\"T_f7d34_level0_row0\" class=\"row_heading level0 row0\" >rougher.input.feed_au</th>\n",
       "      <td id=\"T_f7d34_row0_col0\" class=\"data row0 col0\" >0.194406</td>\n",
       "      <td id=\"T_f7d34_row0_col1\" class=\"data row0 col1\" >0.320317</td>\n",
       "    </tr>\n",
       "    <tr>\n",
       "      <th id=\"T_f7d34_level0_row1\" class=\"row_heading level0 row1\" >rougher.input.feed_ag</th>\n",
       "      <td id=\"T_f7d34_row1_col0\" class=\"data row1 col0\" >0.190331</td>\n",
       "      <td id=\"T_f7d34_row1_col1\" class=\"data row1 col1\" >0.309866</td>\n",
       "    </tr>\n",
       "    <tr>\n",
       "      <th id=\"T_f7d34_level0_row2\" class=\"row_heading level0 row2\" >rougher.input.feed_pb</th>\n",
       "      <td id=\"T_f7d34_row2_col0\" class=\"data row2 col0\" >0.170487</td>\n",
       "      <td id=\"T_f7d34_row2_col1\" class=\"data row2 col1\" >0.190293</td>\n",
       "    </tr>\n",
       "    <tr>\n",
       "      <th id=\"T_f7d34_level0_row3\" class=\"row_heading level0 row3\" >rougher.input.feed_sol</th>\n",
       "      <td id=\"T_f7d34_row3_col0\" class=\"data row3 col0\" >0.192757</td>\n",
       "      <td id=\"T_f7d34_row3_col1\" class=\"data row3 col1\" >0.261204</td>\n",
       "    </tr>\n",
       "    <tr>\n",
       "      <th id=\"T_f7d34_level0_row4\" class=\"row_heading level0 row4\" >rougher.input.feed_rate</th>\n",
       "      <td id=\"T_f7d34_row4_col0\" class=\"data row4 col0\" >0.100756</td>\n",
       "      <td id=\"T_f7d34_row4_col1\" class=\"data row4 col1\" >0.170967</td>\n",
       "    </tr>\n",
       "    <tr>\n",
       "      <th id=\"T_f7d34_level0_row5\" class=\"row_heading level0 row5\" >rougher.input.feed_size</th>\n",
       "      <td id=\"T_f7d34_row5_col0\" class=\"data row5 col0\" >0.028224</td>\n",
       "      <td id=\"T_f7d34_row5_col1\" class=\"data row5 col1\" >0.026349</td>\n",
       "    </tr>\n",
       "    <tr>\n",
       "      <th id=\"T_f7d34_level0_row6\" class=\"row_heading level0 row6\" >rougher.input.floatbank10_sulfate</th>\n",
       "      <td id=\"T_f7d34_row6_col0\" class=\"data row6 col0\" >-0.004502</td>\n",
       "      <td id=\"T_f7d34_row6_col1\" class=\"data row6 col1\" >0.080829</td>\n",
       "    </tr>\n",
       "    <tr>\n",
       "      <th id=\"T_f7d34_level0_row7\" class=\"row_heading level0 row7\" >rougher.input.floatbank10_xanthate</th>\n",
       "      <td id=\"T_f7d34_row7_col0\" class=\"data row7 col0\" >0.245598</td>\n",
       "      <td id=\"T_f7d34_row7_col1\" class=\"data row7 col1\" >0.324363</td>\n",
       "    </tr>\n",
       "    <tr>\n",
       "      <th id=\"T_f7d34_level0_row8\" class=\"row_heading level0 row8\" >rougher.state.floatbank10_a_air</th>\n",
       "      <td id=\"T_f7d34_row8_col0\" class=\"data row8 col0\" >0.129203</td>\n",
       "      <td id=\"T_f7d34_row8_col1\" class=\"data row8 col1\" >0.186673</td>\n",
       "    </tr>\n",
       "    <tr>\n",
       "      <th id=\"T_f7d34_level0_row9\" class=\"row_heading level0 row9\" >rougher.state.floatbank10_a_level</th>\n",
       "      <td id=\"T_f7d34_row9_col0\" class=\"data row9 col0\" >0.093305</td>\n",
       "      <td id=\"T_f7d34_row9_col1\" class=\"data row9 col1\" >0.064613</td>\n",
       "    </tr>\n",
       "    <tr>\n",
       "      <th id=\"T_f7d34_level0_row10\" class=\"row_heading level0 row10\" >rougher.state.floatbank10_b_air</th>\n",
       "      <td id=\"T_f7d34_row10_col0\" class=\"data row10 col0\" >-0.032789</td>\n",
       "      <td id=\"T_f7d34_row10_col1\" class=\"data row10 col1\" >-0.116922</td>\n",
       "    </tr>\n",
       "    <tr>\n",
       "      <th id=\"T_f7d34_level0_row11\" class=\"row_heading level0 row11\" >rougher.state.floatbank10_b_level</th>\n",
       "      <td id=\"T_f7d34_row11_col0\" class=\"data row11 col0\" >-0.031888</td>\n",
       "      <td id=\"T_f7d34_row11_col1\" class=\"data row11 col1\" >-0.061677</td>\n",
       "    </tr>\n",
       "    <tr>\n",
       "      <th id=\"T_f7d34_level0_row12\" class=\"row_heading level0 row12\" >rougher.state.floatbank10_c_air</th>\n",
       "      <td id=\"T_f7d34_row12_col0\" class=\"data row12 col0\" >-0.059325</td>\n",
       "      <td id=\"T_f7d34_row12_col1\" class=\"data row12 col1\" >-0.148018</td>\n",
       "    </tr>\n",
       "    <tr>\n",
       "      <th id=\"T_f7d34_level0_row13\" class=\"row_heading level0 row13\" >rougher.state.floatbank10_c_level</th>\n",
       "      <td id=\"T_f7d34_row13_col0\" class=\"data row13 col0\" >-0.032511</td>\n",
       "      <td id=\"T_f7d34_row13_col1\" class=\"data row13 col1\" >-0.069425</td>\n",
       "    </tr>\n",
       "    <tr>\n",
       "      <th id=\"T_f7d34_level0_row14\" class=\"row_heading level0 row14\" >rougher.state.floatbank10_d_air</th>\n",
       "      <td id=\"T_f7d34_row14_col0\" class=\"data row14 col0\" >-0.053989</td>\n",
       "      <td id=\"T_f7d34_row14_col1\" class=\"data row14 col1\" >-0.143207</td>\n",
       "    </tr>\n",
       "    <tr>\n",
       "      <th id=\"T_f7d34_level0_row15\" class=\"row_heading level0 row15\" >rougher.state.floatbank10_d_level</th>\n",
       "      <td id=\"T_f7d34_row15_col0\" class=\"data row15 col0\" >-0.029830</td>\n",
       "      <td id=\"T_f7d34_row15_col1\" class=\"data row15 col1\" >-0.061645</td>\n",
       "    </tr>\n",
       "    <tr>\n",
       "      <th id=\"T_f7d34_level0_row16\" class=\"row_heading level0 row16\" >rougher.state.floatbank10_e_air</th>\n",
       "      <td id=\"T_f7d34_row16_col0\" class=\"data row16 col0\" >-0.042438</td>\n",
       "      <td id=\"T_f7d34_row16_col1\" class=\"data row16 col1\" >-0.106668</td>\n",
       "    </tr>\n",
       "    <tr>\n",
       "      <th id=\"T_f7d34_level0_row17\" class=\"row_heading level0 row17\" >rougher.state.floatbank10_e_level</th>\n",
       "      <td id=\"T_f7d34_row17_col0\" class=\"data row17 col0\" >-0.019694</td>\n",
       "      <td id=\"T_f7d34_row17_col1\" class=\"data row17 col1\" >-0.053655</td>\n",
       "    </tr>\n",
       "    <tr>\n",
       "      <th id=\"T_f7d34_level0_row18\" class=\"row_heading level0 row18\" >rougher.state.floatbank10_f_air</th>\n",
       "      <td id=\"T_f7d34_row18_col0\" class=\"data row18 col0\" >-0.015127</td>\n",
       "      <td id=\"T_f7d34_row18_col1\" class=\"data row18 col1\" >-0.084992</td>\n",
       "    </tr>\n",
       "    <tr>\n",
       "      <th id=\"T_f7d34_level0_row19\" class=\"row_heading level0 row19\" >rougher.state.floatbank10_f_level</th>\n",
       "      <td id=\"T_f7d34_row19_col0\" class=\"data row19 col0\" >-0.018581</td>\n",
       "      <td id=\"T_f7d34_row19_col1\" class=\"data row19 col1\" >-0.048454</td>\n",
       "    </tr>\n",
       "    <tr>\n",
       "      <th id=\"T_f7d34_level0_row20\" class=\"row_heading level0 row20\" >rougher.input.floatbank11_sulfate</th>\n",
       "      <td id=\"T_f7d34_row20_col0\" class=\"data row20 col0\" >0.004373</td>\n",
       "      <td id=\"T_f7d34_row20_col1\" class=\"data row20 col1\" >0.091071</td>\n",
       "    </tr>\n",
       "    <tr>\n",
       "      <th id=\"T_f7d34_level0_row21\" class=\"row_heading level0 row21\" >rougher.input.floatbank11_xanthate</th>\n",
       "      <td id=\"T_f7d34_row21_col0\" class=\"data row21 col0\" >0.201676</td>\n",
       "      <td id=\"T_f7d34_row21_col1\" class=\"data row21 col1\" >0.282261</td>\n",
       "    </tr>\n",
       "    <tr>\n",
       "      <th id=\"T_f7d34_level0_row22\" class=\"row_heading level0 row22\" >rougher.calculation.sulfate_to_au_concentrate</th>\n",
       "      <td id=\"T_f7d34_row22_col0\" class=\"data row22 col0\" >-0.002186</td>\n",
       "      <td id=\"T_f7d34_row22_col1\" class=\"data row22 col1\" >-0.010420</td>\n",
       "    </tr>\n",
       "    <tr>\n",
       "      <th id=\"T_f7d34_level0_row23\" class=\"row_heading level0 row23\" >rougher.calculation.floatbank10_sulfate_to_au_feed</th>\n",
       "      <td id=\"T_f7d34_row23_col0\" class=\"data row23 col0\" >-0.041204</td>\n",
       "      <td id=\"T_f7d34_row23_col1\" class=\"data row23 col1\" >-0.057467</td>\n",
       "    </tr>\n",
       "    <tr>\n",
       "      <th id=\"T_f7d34_level0_row24\" class=\"row_heading level0 row24\" >rougher.calculation.floatbank11_sulfate_to_au_feed</th>\n",
       "      <td id=\"T_f7d34_row24_col0\" class=\"data row24 col0\" >-0.031362</td>\n",
       "      <td id=\"T_f7d34_row24_col1\" class=\"data row24 col1\" >-0.041218</td>\n",
       "    </tr>\n",
       "    <tr>\n",
       "      <th id=\"T_f7d34_level0_row25\" class=\"row_heading level0 row25\" >rougher.calculation.au_pb_ratio</th>\n",
       "      <td id=\"T_f7d34_row25_col0\" class=\"data row25 col0\" >-0.017579</td>\n",
       "      <td id=\"T_f7d34_row25_col1\" class=\"data row25 col1\" >0.049435</td>\n",
       "    </tr>\n",
       "    <tr>\n",
       "      <th id=\"T_f7d34_level0_row26\" class=\"row_heading level0 row26\" >rougher.output.concentrate_au</th>\n",
       "      <td id=\"T_f7d34_row26_col0\" class=\"data row26 col0\" >0.655565</td>\n",
       "      <td id=\"T_f7d34_row26_col1\" class=\"data row26 col1\" >0.006749</td>\n",
       "    </tr>\n",
       "    <tr>\n",
       "      <th id=\"T_f7d34_level0_row27\" class=\"row_heading level0 row27\" >rougher.output.concentrate_ag</th>\n",
       "      <td id=\"T_f7d34_row27_col0\" class=\"data row27 col0\" >0.708299</td>\n",
       "      <td id=\"T_f7d34_row27_col1\" class=\"data row27 col1\" >0.188564</td>\n",
       "    </tr>\n",
       "    <tr>\n",
       "      <th id=\"T_f7d34_level0_row28\" class=\"row_heading level0 row28\" >rougher.output.concentrate_pb</th>\n",
       "      <td id=\"T_f7d34_row28_col0\" class=\"data row28 col0\" >0.609796</td>\n",
       "      <td id=\"T_f7d34_row28_col1\" class=\"data row28 col1\" >-0.011534</td>\n",
       "    </tr>\n",
       "    <tr>\n",
       "      <th id=\"T_f7d34_level0_row29\" class=\"row_heading level0 row29\" >rougher.output.concentrate_sol</th>\n",
       "      <td id=\"T_f7d34_row29_col0\" class=\"data row29 col0\" >0.662483</td>\n",
       "      <td id=\"T_f7d34_row29_col1\" class=\"data row29 col1\" >0.047502</td>\n",
       "    </tr>\n",
       "    <tr>\n",
       "      <th id=\"T_f7d34_level0_row30\" class=\"row_heading level0 row30\" >rougher.output.recovery</th>\n",
       "      <td id=\"T_f7d34_row30_col0\" class=\"data row30 col0\" >1.000000</td>\n",
       "      <td id=\"T_f7d34_row30_col1\" class=\"data row30 col1\" >0.304909</td>\n",
       "    </tr>\n",
       "    <tr>\n",
       "      <th id=\"T_f7d34_level0_row31\" class=\"row_heading level0 row31\" >rougher.output.tail_au</th>\n",
       "      <td id=\"T_f7d34_row31_col0\" class=\"data row31 col0\" >-0.332506</td>\n",
       "      <td id=\"T_f7d34_row31_col1\" class=\"data row31 col1\" >-0.316100</td>\n",
       "    </tr>\n",
       "    <tr>\n",
       "      <th id=\"T_f7d34_level0_row32\" class=\"row_heading level0 row32\" >rougher.output.tail_ag</th>\n",
       "      <td id=\"T_f7d34_row32_col0\" class=\"data row32 col0\" >-0.207349</td>\n",
       "      <td id=\"T_f7d34_row32_col1\" class=\"data row32 col1\" >-0.115509</td>\n",
       "    </tr>\n",
       "    <tr>\n",
       "      <th id=\"T_f7d34_level0_row33\" class=\"row_heading level0 row33\" >rougher.output.tail_pb</th>\n",
       "      <td id=\"T_f7d34_row33_col0\" class=\"data row33 col0\" >-0.277747</td>\n",
       "      <td id=\"T_f7d34_row33_col1\" class=\"data row33 col1\" >-0.321683</td>\n",
       "    </tr>\n",
       "    <tr>\n",
       "      <th id=\"T_f7d34_level0_row34\" class=\"row_heading level0 row34\" >rougher.output.tail_sol</th>\n",
       "      <td id=\"T_f7d34_row34_col0\" class=\"data row34 col0\" >0.120479</td>\n",
       "      <td id=\"T_f7d34_row34_col1\" class=\"data row34 col1\" >0.164415</td>\n",
       "    </tr>\n",
       "    <tr>\n",
       "      <th id=\"T_f7d34_level0_row35\" class=\"row_heading level0 row35\" >primary_cleaner.input.sulfate</th>\n",
       "      <td id=\"T_f7d34_row35_col0\" class=\"data row35 col0\" >0.282334</td>\n",
       "      <td id=\"T_f7d34_row35_col1\" class=\"data row35 col1\" >0.372062</td>\n",
       "    </tr>\n",
       "    <tr>\n",
       "      <th id=\"T_f7d34_level0_row36\" class=\"row_heading level0 row36\" >primary_cleaner.input.depressant</th>\n",
       "      <td id=\"T_f7d34_row36_col0\" class=\"data row36 col0\" >0.052099</td>\n",
       "      <td id=\"T_f7d34_row36_col1\" class=\"data row36 col1\" >0.176720</td>\n",
       "    </tr>\n",
       "    <tr>\n",
       "      <th id=\"T_f7d34_level0_row37\" class=\"row_heading level0 row37\" >primary_cleaner.input.feed_size</th>\n",
       "      <td id=\"T_f7d34_row37_col0\" class=\"data row37 col0\" >-0.007641</td>\n",
       "      <td id=\"T_f7d34_row37_col1\" class=\"data row37 col1\" >0.075191</td>\n",
       "    </tr>\n",
       "    <tr>\n",
       "      <th id=\"T_f7d34_level0_row38\" class=\"row_heading level0 row38\" >primary_cleaner.input.xanthate</th>\n",
       "      <td id=\"T_f7d34_row38_col0\" class=\"data row38 col0\" >0.150198</td>\n",
       "      <td id=\"T_f7d34_row38_col1\" class=\"data row38 col1\" >0.212581</td>\n",
       "    </tr>\n",
       "    <tr>\n",
       "      <th id=\"T_f7d34_level0_row39\" class=\"row_heading level0 row39\" >primary_cleaner.state.floatbank8_a_air</th>\n",
       "      <td id=\"T_f7d34_row39_col0\" class=\"data row39 col0\" >0.095984</td>\n",
       "      <td id=\"T_f7d34_row39_col1\" class=\"data row39 col1\" >0.101835</td>\n",
       "    </tr>\n",
       "    <tr>\n",
       "      <th id=\"T_f7d34_level0_row40\" class=\"row_heading level0 row40\" >primary_cleaner.state.floatbank8_a_level</th>\n",
       "      <td id=\"T_f7d34_row40_col0\" class=\"data row40 col0\" >0.044939</td>\n",
       "      <td id=\"T_f7d34_row40_col1\" class=\"data row40 col1\" >0.000302</td>\n",
       "    </tr>\n",
       "    <tr>\n",
       "      <th id=\"T_f7d34_level0_row41\" class=\"row_heading level0 row41\" >primary_cleaner.state.floatbank8_b_air</th>\n",
       "      <td id=\"T_f7d34_row41_col0\" class=\"data row41 col0\" >0.111639</td>\n",
       "      <td id=\"T_f7d34_row41_col1\" class=\"data row41 col1\" >0.128008</td>\n",
       "    </tr>\n",
       "    <tr>\n",
       "      <th id=\"T_f7d34_level0_row42\" class=\"row_heading level0 row42\" >primary_cleaner.state.floatbank8_b_level</th>\n",
       "      <td id=\"T_f7d34_row42_col0\" class=\"data row42 col0\" >0.044317</td>\n",
       "      <td id=\"T_f7d34_row42_col1\" class=\"data row42 col1\" >0.055923</td>\n",
       "    </tr>\n",
       "    <tr>\n",
       "      <th id=\"T_f7d34_level0_row43\" class=\"row_heading level0 row43\" >primary_cleaner.state.floatbank8_c_air</th>\n",
       "      <td id=\"T_f7d34_row43_col0\" class=\"data row43 col0\" >0.101695</td>\n",
       "      <td id=\"T_f7d34_row43_col1\" class=\"data row43 col1\" >0.114004</td>\n",
       "    </tr>\n",
       "    <tr>\n",
       "      <th id=\"T_f7d34_level0_row44\" class=\"row_heading level0 row44\" >primary_cleaner.state.floatbank8_c_level</th>\n",
       "      <td id=\"T_f7d34_row44_col0\" class=\"data row44 col0\" >0.043572</td>\n",
       "      <td id=\"T_f7d34_row44_col1\" class=\"data row44 col1\" >0.005510</td>\n",
       "    </tr>\n",
       "    <tr>\n",
       "      <th id=\"T_f7d34_level0_row45\" class=\"row_heading level0 row45\" >primary_cleaner.state.floatbank8_d_air</th>\n",
       "      <td id=\"T_f7d34_row45_col0\" class=\"data row45 col0\" >0.032725</td>\n",
       "      <td id=\"T_f7d34_row45_col1\" class=\"data row45 col1\" >0.063062</td>\n",
       "    </tr>\n",
       "    <tr>\n",
       "      <th id=\"T_f7d34_level0_row46\" class=\"row_heading level0 row46\" >primary_cleaner.state.floatbank8_d_level</th>\n",
       "      <td id=\"T_f7d34_row46_col0\" class=\"data row46 col0\" >-0.004137</td>\n",
       "      <td id=\"T_f7d34_row46_col1\" class=\"data row46 col1\" >-0.030635</td>\n",
       "    </tr>\n",
       "    <tr>\n",
       "      <th id=\"T_f7d34_level0_row47\" class=\"row_heading level0 row47\" >primary_cleaner.output.concentrate_au</th>\n",
       "      <td id=\"T_f7d34_row47_col0\" class=\"data row47 col0\" >-0.120253</td>\n",
       "      <td id=\"T_f7d34_row47_col1\" class=\"data row47 col1\" >-0.123470</td>\n",
       "    </tr>\n",
       "    <tr>\n",
       "      <th id=\"T_f7d34_level0_row48\" class=\"row_heading level0 row48\" >primary_cleaner.output.concentrate_ag</th>\n",
       "      <td id=\"T_f7d34_row48_col0\" class=\"data row48 col0\" >0.194989</td>\n",
       "      <td id=\"T_f7d34_row48_col1\" class=\"data row48 col1\" >0.280088</td>\n",
       "    </tr>\n",
       "    <tr>\n",
       "      <th id=\"T_f7d34_level0_row49\" class=\"row_heading level0 row49\" >primary_cleaner.output.concentrate_pb</th>\n",
       "      <td id=\"T_f7d34_row49_col0\" class=\"data row49 col0\" >0.109434</td>\n",
       "      <td id=\"T_f7d34_row49_col1\" class=\"data row49 col1\" >0.156852</td>\n",
       "    </tr>\n",
       "    <tr>\n",
       "      <th id=\"T_f7d34_level0_row50\" class=\"row_heading level0 row50\" >primary_cleaner.output.concentrate_sol</th>\n",
       "      <td id=\"T_f7d34_row50_col0\" class=\"data row50 col0\" >0.100693</td>\n",
       "      <td id=\"T_f7d34_row50_col1\" class=\"data row50 col1\" >0.240012</td>\n",
       "    </tr>\n",
       "    <tr>\n",
       "      <th id=\"T_f7d34_level0_row51\" class=\"row_heading level0 row51\" >primary_cleaner.output.tail_au</th>\n",
       "      <td id=\"T_f7d34_row51_col0\" class=\"data row51 col0\" >-0.163719</td>\n",
       "      <td id=\"T_f7d34_row51_col1\" class=\"data row51 col1\" >-0.377454</td>\n",
       "    </tr>\n",
       "    <tr>\n",
       "      <th id=\"T_f7d34_level0_row52\" class=\"row_heading level0 row52\" >primary_cleaner.output.tail_ag</th>\n",
       "      <td id=\"T_f7d34_row52_col0\" class=\"data row52 col0\" >0.142548</td>\n",
       "      <td id=\"T_f7d34_row52_col1\" class=\"data row52 col1\" >0.165409</td>\n",
       "    </tr>\n",
       "    <tr>\n",
       "      <th id=\"T_f7d34_level0_row53\" class=\"row_heading level0 row53\" >primary_cleaner.output.tail_pb</th>\n",
       "      <td id=\"T_f7d34_row53_col0\" class=\"data row53 col0\" >0.143602</td>\n",
       "      <td id=\"T_f7d34_row53_col1\" class=\"data row53 col1\" >0.144894</td>\n",
       "    </tr>\n",
       "    <tr>\n",
       "      <th id=\"T_f7d34_level0_row54\" class=\"row_heading level0 row54\" >primary_cleaner.output.tail_sol</th>\n",
       "      <td id=\"T_f7d34_row54_col0\" class=\"data row54 col0\" >0.115811</td>\n",
       "      <td id=\"T_f7d34_row54_col1\" class=\"data row54 col1\" >0.194016</td>\n",
       "    </tr>\n",
       "    <tr>\n",
       "      <th id=\"T_f7d34_level0_row55\" class=\"row_heading level0 row55\" >secondary_cleaner.state.floatbank2_a_air</th>\n",
       "      <td id=\"T_f7d34_row55_col0\" class=\"data row55 col0\" >0.112885</td>\n",
       "      <td id=\"T_f7d34_row55_col1\" class=\"data row55 col1\" >0.098426</td>\n",
       "    </tr>\n",
       "    <tr>\n",
       "      <th id=\"T_f7d34_level0_row56\" class=\"row_heading level0 row56\" >secondary_cleaner.state.floatbank2_a_level</th>\n",
       "      <td id=\"T_f7d34_row56_col0\" class=\"data row56 col0\" >-0.020456</td>\n",
       "      <td id=\"T_f7d34_row56_col1\" class=\"data row56 col1\" >0.002253</td>\n",
       "    </tr>\n",
       "    <tr>\n",
       "      <th id=\"T_f7d34_level0_row57\" class=\"row_heading level0 row57\" >secondary_cleaner.state.floatbank2_b_air</th>\n",
       "      <td id=\"T_f7d34_row57_col0\" class=\"data row57 col0\" >0.140736</td>\n",
       "      <td id=\"T_f7d34_row57_col1\" class=\"data row57 col1\" >0.112027</td>\n",
       "    </tr>\n",
       "    <tr>\n",
       "      <th id=\"T_f7d34_level0_row58\" class=\"row_heading level0 row58\" >secondary_cleaner.state.floatbank2_b_level</th>\n",
       "      <td id=\"T_f7d34_row58_col0\" class=\"data row58 col0\" >-0.025149</td>\n",
       "      <td id=\"T_f7d34_row58_col1\" class=\"data row58 col1\" >-0.002720</td>\n",
       "    </tr>\n",
       "    <tr>\n",
       "      <th id=\"T_f7d34_level0_row59\" class=\"row_heading level0 row59\" >secondary_cleaner.state.floatbank3_a_air</th>\n",
       "      <td id=\"T_f7d34_row59_col0\" class=\"data row59 col0\" >0.154052</td>\n",
       "      <td id=\"T_f7d34_row59_col1\" class=\"data row59 col1\" >0.143890</td>\n",
       "    </tr>\n",
       "    <tr>\n",
       "      <th id=\"T_f7d34_level0_row60\" class=\"row_heading level0 row60\" >secondary_cleaner.state.floatbank3_a_level</th>\n",
       "      <td id=\"T_f7d34_row60_col0\" class=\"data row60 col0\" >-0.000432</td>\n",
       "      <td id=\"T_f7d34_row60_col1\" class=\"data row60 col1\" >0.016093</td>\n",
       "    </tr>\n",
       "    <tr>\n",
       "      <th id=\"T_f7d34_level0_row61\" class=\"row_heading level0 row61\" >secondary_cleaner.state.floatbank3_b_air</th>\n",
       "      <td id=\"T_f7d34_row61_col0\" class=\"data row61 col0\" >0.099165</td>\n",
       "      <td id=\"T_f7d34_row61_col1\" class=\"data row61 col1\" >0.064158</td>\n",
       "    </tr>\n",
       "    <tr>\n",
       "      <th id=\"T_f7d34_level0_row62\" class=\"row_heading level0 row62\" >secondary_cleaner.state.floatbank3_b_level</th>\n",
       "      <td id=\"T_f7d34_row62_col0\" class=\"data row62 col0\" >-0.024667</td>\n",
       "      <td id=\"T_f7d34_row62_col1\" class=\"data row62 col1\" >0.006405</td>\n",
       "    </tr>\n",
       "    <tr>\n",
       "      <th id=\"T_f7d34_level0_row63\" class=\"row_heading level0 row63\" >secondary_cleaner.state.floatbank4_a_air</th>\n",
       "      <td id=\"T_f7d34_row63_col0\" class=\"data row63 col0\" >0.191706</td>\n",
       "      <td id=\"T_f7d34_row63_col1\" class=\"data row63 col1\" >0.153236</td>\n",
       "    </tr>\n",
       "    <tr>\n",
       "      <th id=\"T_f7d34_level0_row64\" class=\"row_heading level0 row64\" >secondary_cleaner.state.floatbank4_a_level</th>\n",
       "      <td id=\"T_f7d34_row64_col0\" class=\"data row64 col0\" >0.029273</td>\n",
       "      <td id=\"T_f7d34_row64_col1\" class=\"data row64 col1\" >0.039011</td>\n",
       "    </tr>\n",
       "    <tr>\n",
       "      <th id=\"T_f7d34_level0_row65\" class=\"row_heading level0 row65\" >secondary_cleaner.state.floatbank4_b_air</th>\n",
       "      <td id=\"T_f7d34_row65_col0\" class=\"data row65 col0\" >0.214352</td>\n",
       "      <td id=\"T_f7d34_row65_col1\" class=\"data row65 col1\" >0.148340</td>\n",
       "    </tr>\n",
       "    <tr>\n",
       "      <th id=\"T_f7d34_level0_row66\" class=\"row_heading level0 row66\" >secondary_cleaner.state.floatbank4_b_level</th>\n",
       "      <td id=\"T_f7d34_row66_col0\" class=\"data row66 col0\" >-0.031799</td>\n",
       "      <td id=\"T_f7d34_row66_col1\" class=\"data row66 col1\" >-0.040722</td>\n",
       "    </tr>\n",
       "    <tr>\n",
       "      <th id=\"T_f7d34_level0_row67\" class=\"row_heading level0 row67\" >secondary_cleaner.state.floatbank5_a_air</th>\n",
       "      <td id=\"T_f7d34_row67_col0\" class=\"data row67 col0\" >0.130006</td>\n",
       "      <td id=\"T_f7d34_row67_col1\" class=\"data row67 col1\" >0.049648</td>\n",
       "    </tr>\n",
       "    <tr>\n",
       "      <th id=\"T_f7d34_level0_row68\" class=\"row_heading level0 row68\" >secondary_cleaner.state.floatbank5_a_level</th>\n",
       "      <td id=\"T_f7d34_row68_col0\" class=\"data row68 col0\" >0.025745</td>\n",
       "      <td id=\"T_f7d34_row68_col1\" class=\"data row68 col1\" >0.015129</td>\n",
       "    </tr>\n",
       "    <tr>\n",
       "      <th id=\"T_f7d34_level0_row69\" class=\"row_heading level0 row69\" >secondary_cleaner.state.floatbank5_b_air</th>\n",
       "      <td id=\"T_f7d34_row69_col0\" class=\"data row69 col0\" >0.135394</td>\n",
       "      <td id=\"T_f7d34_row69_col1\" class=\"data row69 col1\" >0.042186</td>\n",
       "    </tr>\n",
       "    <tr>\n",
       "      <th id=\"T_f7d34_level0_row70\" class=\"row_heading level0 row70\" >secondary_cleaner.state.floatbank5_b_level</th>\n",
       "      <td id=\"T_f7d34_row70_col0\" class=\"data row70 col0\" >0.045833</td>\n",
       "      <td id=\"T_f7d34_row70_col1\" class=\"data row70 col1\" >0.017449</td>\n",
       "    </tr>\n",
       "    <tr>\n",
       "      <th id=\"T_f7d34_level0_row71\" class=\"row_heading level0 row71\" >secondary_cleaner.state.floatbank6_a_air</th>\n",
       "      <td id=\"T_f7d34_row71_col0\" class=\"data row71 col0\" >0.024428</td>\n",
       "      <td id=\"T_f7d34_row71_col1\" class=\"data row71 col1\" >-0.030517</td>\n",
       "    </tr>\n",
       "    <tr>\n",
       "      <th id=\"T_f7d34_level0_row72\" class=\"row_heading level0 row72\" >secondary_cleaner.state.floatbank6_a_level</th>\n",
       "      <td id=\"T_f7d34_row72_col0\" class=\"data row72 col0\" >-0.009643</td>\n",
       "      <td id=\"T_f7d34_row72_col1\" class=\"data row72 col1\" >-0.007104</td>\n",
       "    </tr>\n",
       "    <tr>\n",
       "      <th id=\"T_f7d34_level0_row73\" class=\"row_heading level0 row73\" >secondary_cleaner.output.tail_au</th>\n",
       "      <td id=\"T_f7d34_row73_col0\" class=\"data row73 col0\" >-0.131354</td>\n",
       "      <td id=\"T_f7d34_row73_col1\" class=\"data row73 col1\" >-0.319220</td>\n",
       "    </tr>\n",
       "    <tr>\n",
       "      <th id=\"T_f7d34_level0_row74\" class=\"row_heading level0 row74\" >secondary_cleaner.output.tail_ag</th>\n",
       "      <td id=\"T_f7d34_row74_col0\" class=\"data row74 col0\" >0.095414</td>\n",
       "      <td id=\"T_f7d34_row74_col1\" class=\"data row74 col1\" >0.158885</td>\n",
       "    </tr>\n",
       "    <tr>\n",
       "      <th id=\"T_f7d34_level0_row75\" class=\"row_heading level0 row75\" >secondary_cleaner.output.tail_pb</th>\n",
       "      <td id=\"T_f7d34_row75_col0\" class=\"data row75 col0\" >0.028354</td>\n",
       "      <td id=\"T_f7d34_row75_col1\" class=\"data row75 col1\" >-0.024826</td>\n",
       "    </tr>\n",
       "    <tr>\n",
       "      <th id=\"T_f7d34_level0_row76\" class=\"row_heading level0 row76\" >secondary_cleaner.output.tail_sol</th>\n",
       "      <td id=\"T_f7d34_row76_col0\" class=\"data row76 col0\" >0.005761</td>\n",
       "      <td id=\"T_f7d34_row76_col1\" class=\"data row76 col1\" >-0.004318</td>\n",
       "    </tr>\n",
       "    <tr>\n",
       "      <th id=\"T_f7d34_level0_row77\" class=\"row_heading level0 row77\" >final.output.concentrate_au</th>\n",
       "      <td id=\"T_f7d34_row77_col0\" class=\"data row77 col0\" >0.072078</td>\n",
       "      <td id=\"T_f7d34_row77_col1\" class=\"data row77 col1\" >0.340427</td>\n",
       "    </tr>\n",
       "    <tr>\n",
       "      <th id=\"T_f7d34_level0_row78\" class=\"row_heading level0 row78\" >final.output.concentrate_ag</th>\n",
       "      <td id=\"T_f7d34_row78_col0\" class=\"data row78 col0\" >0.092544</td>\n",
       "      <td id=\"T_f7d34_row78_col1\" class=\"data row78 col1\" >0.220199</td>\n",
       "    </tr>\n",
       "    <tr>\n",
       "      <th id=\"T_f7d34_level0_row79\" class=\"row_heading level0 row79\" >final.output.concentrate_pb</th>\n",
       "      <td id=\"T_f7d34_row79_col0\" class=\"data row79 col0\" >0.036198</td>\n",
       "      <td id=\"T_f7d34_row79_col1\" class=\"data row79 col1\" >0.199211</td>\n",
       "    </tr>\n",
       "    <tr>\n",
       "      <th id=\"T_f7d34_level0_row80\" class=\"row_heading level0 row80\" >final.output.concentrate_sol</th>\n",
       "      <td id=\"T_f7d34_row80_col0\" class=\"data row80 col0\" >0.163274</td>\n",
       "      <td id=\"T_f7d34_row80_col1\" class=\"data row80 col1\" >0.330554</td>\n",
       "    </tr>\n",
       "    <tr>\n",
       "      <th id=\"T_f7d34_level0_row81\" class=\"row_heading level0 row81\" >final.output.recovery</th>\n",
       "      <td id=\"T_f7d34_row81_col0\" class=\"data row81 col0\" >0.304909</td>\n",
       "      <td id=\"T_f7d34_row81_col1\" class=\"data row81 col1\" >1.000000</td>\n",
       "    </tr>\n",
       "    <tr>\n",
       "      <th id=\"T_f7d34_level0_row82\" class=\"row_heading level0 row82\" >final.output.tail_au</th>\n",
       "      <td id=\"T_f7d34_row82_col0\" class=\"data row82 col0\" >-0.092416</td>\n",
       "      <td id=\"T_f7d34_row82_col1\" class=\"data row82 col1\" >-0.391831</td>\n",
       "    </tr>\n",
       "    <tr>\n",
       "      <th id=\"T_f7d34_level0_row83\" class=\"row_heading level0 row83\" >final.output.tail_ag</th>\n",
       "      <td id=\"T_f7d34_row83_col0\" class=\"data row83 col0\" >0.179948</td>\n",
       "      <td id=\"T_f7d34_row83_col1\" class=\"data row83 col1\" >0.136432</td>\n",
       "    </tr>\n",
       "    <tr>\n",
       "      <th id=\"T_f7d34_level0_row84\" class=\"row_heading level0 row84\" >final.output.tail_pb</th>\n",
       "      <td id=\"T_f7d34_row84_col0\" class=\"data row84 col0\" >0.068718</td>\n",
       "      <td id=\"T_f7d34_row84_col1\" class=\"data row84 col1\" >-0.113105</td>\n",
       "    </tr>\n",
       "    <tr>\n",
       "      <th id=\"T_f7d34_level0_row85\" class=\"row_heading level0 row85\" >final.output.tail_sol</th>\n",
       "      <td id=\"T_f7d34_row85_col0\" class=\"data row85 col0\" >-0.019318</td>\n",
       "      <td id=\"T_f7d34_row85_col1\" class=\"data row85 col1\" >-0.021401</td>\n",
       "    </tr>\n",
       "  </tbody>\n",
       "</table>\n"
      ],
      "text/plain": [
       "<pandas.io.formats.style.Styler at 0x7fc3b18b2e50>"
      ]
     },
     "metadata": {},
     "output_type": "display_data"
    }
   ],
   "source": [
    "correlation_rougher = gold_train.drop('date', axis=1).corr()['rougher.output.recovery']\n",
    "correlation_final = gold_train.drop('date', axis=1).corr()['final.output.recovery']\n",
    "correlation_df = pd.concat([correlation_rougher, correlation_final], axis=1)\n",
    "cmap = plt.get_cmap('coolwarm')\n",
    "styled_corr_matrix = correlation_df.style.background_gradient(cmap=cmap, axis=None)\n",
    "display(styled_corr_matrix)"
   ]
  },
  {
   "cell_type": "code",
   "execution_count": 10,
   "metadata": {},
   "outputs": [
    {
     "data": {
      "text/html": [
       "<style type=\"text/css\">\n",
       "#T_70361_row0_col0, #T_70361_row1_col0, #T_70361_row2_col0, #T_70361_row8_col1 {\n",
       "  background-color: #c6d6f1;\n",
       "  color: #000000;\n",
       "}\n",
       "#T_70361_row0_col1 {\n",
       "  background-color: #dcdddd;\n",
       "  color: #000000;\n",
       "}\n",
       "#T_70361_row1_col1, #T_70361_row21_col1, #T_70361_row77_col1 {\n",
       "  background-color: #dbdcde;\n",
       "  color: #000000;\n",
       "}\n",
       "#T_70361_row2_col1, #T_70361_row48_col0, #T_70361_row78_col1, #T_70361_row83_col0 {\n",
       "  background-color: #c7d7f0;\n",
       "  color: #000000;\n",
       "}\n",
       "#T_70361_row3_col0 {\n",
       "  background-color: #cad8ef;\n",
       "  color: #000000;\n",
       "}\n",
       "#T_70361_row3_col1 {\n",
       "  background-color: #d5dbe5;\n",
       "  color: #000000;\n",
       "}\n",
       "#T_70361_row4_col0 {\n",
       "  background-color: #b3cdfb;\n",
       "  color: #000000;\n",
       "}\n",
       "#T_70361_row4_col1, #T_70361_row52_col1 {\n",
       "  background-color: #c4d5f3;\n",
       "  color: #000000;\n",
       "}\n",
       "#T_70361_row5_col0, #T_70361_row40_col0, #T_70361_row42_col0, #T_70361_row44_col0, #T_70361_row79_col0 {\n",
       "  background-color: #a5c3fe;\n",
       "  color: #000000;\n",
       "}\n",
       "#T_70361_row5_col1, #T_70361_row25_col1, #T_70361_row29_col1 {\n",
       "  background-color: #a6c4fe;\n",
       "  color: #000000;\n",
       "}\n",
       "#T_70361_row6_col0 {\n",
       "  background-color: #97b8ff;\n",
       "  color: #000000;\n",
       "}\n",
       "#T_70361_row6_col1, #T_70361_row37_col1 {\n",
       "  background-color: #aac7fd;\n",
       "  color: #000000;\n",
       "}\n",
       "#T_70361_row7_col0 {\n",
       "  background-color: #d3dbe7;\n",
       "  color: #000000;\n",
       "}\n",
       "#T_70361_row7_col1, #T_70361_row30_col1, #T_70361_row81_col0 {\n",
       "  background-color: #e2dad5;\n",
       "  color: #000000;\n",
       "}\n",
       "#T_70361_row8_col0, #T_70361_row53_col1, #T_70361_row57_col0, #T_70361_row59_col1, #T_70361_row79_col1, #T_70361_row80_col0 {\n",
       "  background-color: #bfd3f6;\n",
       "  color: #000000;\n",
       "}\n",
       "#T_70361_row9_col0, #T_70361_row34_col0, #T_70361_row43_col1, #T_70361_row57_col1, #T_70361_row74_col0 {\n",
       "  background-color: #b7cff9;\n",
       "  color: #000000;\n",
       "}\n",
       "#T_70361_row9_col1, #T_70361_row45_col1, #T_70361_row61_col1, #T_70361_row67_col1, #T_70361_row75_col0 {\n",
       "  background-color: #abc8fd;\n",
       "  color: #000000;\n",
       "}\n",
       "#T_70361_row10_col0, #T_70361_row16_col0, #T_70361_row23_col1 {\n",
       "  background-color: #8badfd;\n",
       "  color: #000000;\n",
       "}\n",
       "#T_70361_row10_col1, #T_70361_row73_col0 {\n",
       "  background-color: #7da0f9;\n",
       "  color: #f1f1f1;\n",
       "}\n",
       "#T_70361_row11_col0, #T_70361_row15_col0, #T_70361_row19_col1 {\n",
       "  background-color: #8db0fe;\n",
       "  color: #000000;\n",
       "}\n",
       "#T_70361_row11_col1, #T_70361_row15_col1 {\n",
       "  background-color: #89acfd;\n",
       "  color: #000000;\n",
       "}\n",
       "#T_70361_row12_col0, #T_70361_row14_col0 {\n",
       "  background-color: #85a8fc;\n",
       "  color: #f1f1f1;\n",
       "}\n",
       "#T_70361_row12_col1 {\n",
       "  background-color: #7699f6;\n",
       "  color: #f1f1f1;\n",
       "}\n",
       "#T_70361_row13_col0, #T_70361_row17_col1 {\n",
       "  background-color: #8caffe;\n",
       "  color: #000000;\n",
       "}\n",
       "#T_70361_row13_col1 {\n",
       "  background-color: #88abfd;\n",
       "  color: #000000;\n",
       "}\n",
       "#T_70361_row14_col1 {\n",
       "  background-color: #779af7;\n",
       "  color: #f1f1f1;\n",
       "}\n",
       "#T_70361_row16_col1, #T_70361_row82_col0 {\n",
       "  background-color: #81a4fb;\n",
       "  color: #f1f1f1;\n",
       "}\n",
       "#T_70361_row17_col0, #T_70361_row19_col0, #T_70361_row24_col1, #T_70361_row85_col0 {\n",
       "  background-color: #90b2fe;\n",
       "  color: #000000;\n",
       "}\n",
       "#T_70361_row18_col0, #T_70361_row24_col0, #T_70361_row46_col1, #T_70361_row66_col0 {\n",
       "  background-color: #92b4fe;\n",
       "  color: #000000;\n",
       "}\n",
       "#T_70361_row18_col1 {\n",
       "  background-color: #86a9fc;\n",
       "  color: #f1f1f1;\n",
       "}\n",
       "#T_70361_row20_col0, #T_70361_row56_col1, #T_70361_row58_col1, #T_70361_row62_col1 {\n",
       "  background-color: #9bbcff;\n",
       "  color: #000000;\n",
       "}\n",
       "#T_70361_row20_col1, #T_70361_row77_col0 {\n",
       "  background-color: #aec9fc;\n",
       "  color: #000000;\n",
       "}\n",
       "#T_70361_row21_col0, #T_70361_row38_col1 {\n",
       "  background-color: #cbd8ee;\n",
       "  color: #000000;\n",
       "}\n",
       "#T_70361_row22_col0, #T_70361_row28_col1, #T_70361_row46_col0, #T_70361_row72_col1 {\n",
       "  background-color: #9abbff;\n",
       "  color: #000000;\n",
       "}\n",
       "#T_70361_row22_col1, #T_70361_row26_col1, #T_70361_row37_col0, #T_70361_row60_col0, #T_70361_row72_col0, #T_70361_row75_col1 {\n",
       "  background-color: #98b9ff;\n",
       "  color: #000000;\n",
       "}\n",
       "#T_70361_row23_col0, #T_70361_row66_col1, #T_70361_row85_col1 {\n",
       "  background-color: #8fb1fe;\n",
       "  color: #000000;\n",
       "}\n",
       "#T_70361_row25_col0, #T_70361_row62_col0, #T_70361_row76_col0 {\n",
       "  background-color: #93b5fe;\n",
       "  color: #000000;\n",
       "}\n",
       "#T_70361_row26_col0 {\n",
       "  background-color: #f7ac8e;\n",
       "  color: #000000;\n",
       "}\n",
       "#T_70361_row27_col0 {\n",
       "  background-color: #f39577;\n",
       "  color: #000000;\n",
       "}\n",
       "#T_70361_row27_col1 {\n",
       "  background-color: #c9d7f0;\n",
       "  color: #000000;\n",
       "}\n",
       "#T_70361_row28_col0 {\n",
       "  background-color: #f7b396;\n",
       "  color: #000000;\n",
       "}\n",
       "#T_70361_row29_col0 {\n",
       "  background-color: #f7a688;\n",
       "  color: #000000;\n",
       "}\n",
       "#T_70361_row30_col0, #T_70361_row81_col1 {\n",
       "  background-color: #b40426;\n",
       "  color: #f1f1f1;\n",
       "}\n",
       "#T_70361_row31_col0 {\n",
       "  background-color: #445acc;\n",
       "  color: #f1f1f1;\n",
       "}\n",
       "#T_70361_row31_col1 {\n",
       "  background-color: #4f69d9;\n",
       "  color: #f1f1f1;\n",
       "}\n",
       "#T_70361_row32_col0 {\n",
       "  background-color: #6282ea;\n",
       "  color: #f1f1f1;\n",
       "}\n",
       "#T_70361_row32_col1, #T_70361_row47_col0 {\n",
       "  background-color: #7a9df8;\n",
       "  color: #f1f1f1;\n",
       "}\n",
       "#T_70361_row33_col0 {\n",
       "  background-color: #506bda;\n",
       "  color: #f1f1f1;\n",
       "}\n",
       "#T_70361_row33_col1 {\n",
       "  background-color: #4e68d8;\n",
       "  color: #f1f1f1;\n",
       "}\n",
       "#T_70361_row34_col1, #T_70361_row36_col1, #T_70361_row52_col0, #T_70361_row63_col1 {\n",
       "  background-color: #c3d5f4;\n",
       "  color: #000000;\n",
       "}\n",
       "#T_70361_row35_col0 {\n",
       "  background-color: #d9dce1;\n",
       "  color: #000000;\n",
       "}\n",
       "#T_70361_row35_col1 {\n",
       "  background-color: #e8d6cc;\n",
       "  color: #000000;\n",
       "}\n",
       "#T_70361_row36_col0, #T_70361_row42_col1, #T_70361_row69_col1 {\n",
       "  background-color: #a7c5fe;\n",
       "  color: #000000;\n",
       "}\n",
       "#T_70361_row38_col0, #T_70361_row67_col0, #T_70361_row69_col0 {\n",
       "  background-color: #bed2f6;\n",
       "  color: #000000;\n",
       "}\n",
       "#T_70361_row39_col0, #T_70361_row54_col0, #T_70361_row61_col0 {\n",
       "  background-color: #b2ccfb;\n",
       "  color: #000000;\n",
       "}\n",
       "#T_70361_row39_col1, #T_70361_row43_col0, #T_70361_row50_col0, #T_70361_row55_col1 {\n",
       "  background-color: #b5cdfa;\n",
       "  color: #000000;\n",
       "}\n",
       "#T_70361_row40_col1, #T_70361_row70_col1 {\n",
       "  background-color: #9fbfff;\n",
       "  color: #000000;\n",
       "}\n",
       "#T_70361_row41_col0 {\n",
       "  background-color: #b6cefa;\n",
       "  color: #000000;\n",
       "}\n",
       "#T_70361_row41_col1, #T_70361_row55_col0, #T_70361_row83_col1 {\n",
       "  background-color: #bad0f8;\n",
       "  color: #000000;\n",
       "}\n",
       "#T_70361_row44_col1, #T_70361_row68_col0, #T_70361_row68_col1 {\n",
       "  background-color: #9ebeff;\n",
       "  color: #000000;\n",
       "}\n",
       "#T_70361_row45_col0, #T_70361_row64_col1, #T_70361_row70_col0 {\n",
       "  background-color: #a3c2fe;\n",
       "  color: #000000;\n",
       "}\n",
       "#T_70361_row47_col1 {\n",
       "  background-color: #799cf8;\n",
       "  color: #f1f1f1;\n",
       "}\n",
       "#T_70361_row48_col1 {\n",
       "  background-color: #d7dce3;\n",
       "  color: #000000;\n",
       "}\n",
       "#T_70361_row49_col0 {\n",
       "  background-color: #bcd2f7;\n",
       "  color: #000000;\n",
       "}\n",
       "#T_70361_row49_col1 {\n",
       "  background-color: #c0d4f5;\n",
       "  color: #000000;\n",
       "}\n",
       "#T_70361_row50_col1, #T_70361_row65_col0 {\n",
       "  background-color: #cfdaea;\n",
       "  color: #000000;\n",
       "}\n",
       "#T_70361_row51_col0 {\n",
       "  background-color: #6f92f3;\n",
       "  color: #f1f1f1;\n",
       "}\n",
       "#T_70361_row51_col1 {\n",
       "  background-color: #3e51c5;\n",
       "  color: #f1f1f1;\n",
       "}\n",
       "#T_70361_row53_col0 {\n",
       "  background-color: #c5d6f2;\n",
       "  color: #000000;\n",
       "}\n",
       "#T_70361_row54_col1, #T_70361_row59_col0, #T_70361_row65_col1, #T_70361_row74_col1 {\n",
       "  background-color: #c1d4f4;\n",
       "  color: #000000;\n",
       "}\n",
       "#T_70361_row56_col0, #T_70361_row58_col0, #T_70361_row76_col1 {\n",
       "  background-color: #96b7ff;\n",
       "  color: #000000;\n",
       "}\n",
       "#T_70361_row60_col1, #T_70361_row71_col0 {\n",
       "  background-color: #9dbdff;\n",
       "  color: #000000;\n",
       "}\n",
       "#T_70361_row63_col0 {\n",
       "  background-color: #ccd9ed;\n",
       "  color: #000000;\n",
       "}\n",
       "#T_70361_row64_col0 {\n",
       "  background-color: #a1c0ff;\n",
       "  color: #000000;\n",
       "}\n",
       "#T_70361_row71_col1 {\n",
       "  background-color: #94b6ff;\n",
       "  color: #000000;\n",
       "}\n",
       "#T_70361_row73_col1 {\n",
       "  background-color: #4a63d3;\n",
       "  color: #f1f1f1;\n",
       "}\n",
       "#T_70361_row78_col0 {\n",
       "  background-color: #afcafc;\n",
       "  color: #000000;\n",
       "}\n",
       "#T_70361_row80_col1 {\n",
       "  background-color: #dadce0;\n",
       "  color: #000000;\n",
       "}\n",
       "#T_70361_row82_col1 {\n",
       "  background-color: #3b4cc0;\n",
       "  color: #f1f1f1;\n",
       "}\n",
       "#T_70361_row84_col0 {\n",
       "  background-color: #adc9fd;\n",
       "  color: #000000;\n",
       "}\n",
       "#T_70361_row84_col1 {\n",
       "  background-color: #7b9ff9;\n",
       "  color: #f1f1f1;\n",
       "}\n",
       "</style>\n",
       "<table id=\"T_70361\">\n",
       "  <thead>\n",
       "    <tr>\n",
       "      <th class=\"blank level0\" >&nbsp;</th>\n",
       "      <th id=\"T_70361_level0_col0\" class=\"col_heading level0 col0\" >rougher.output.recovery</th>\n",
       "      <th id=\"T_70361_level0_col1\" class=\"col_heading level0 col1\" >final.output.recovery</th>\n",
       "    </tr>\n",
       "  </thead>\n",
       "  <tbody>\n",
       "    <tr>\n",
       "      <th id=\"T_70361_level0_row0\" class=\"row_heading level0 row0\" >rougher.input.feed_au</th>\n",
       "      <td id=\"T_70361_row0_col0\" class=\"data row0 col0\" >0.183814</td>\n",
       "      <td id=\"T_70361_row0_col1\" class=\"data row0 col1\" >0.295343</td>\n",
       "    </tr>\n",
       "    <tr>\n",
       "      <th id=\"T_70361_level0_row1\" class=\"row_heading level0 row1\" >rougher.input.feed_ag</th>\n",
       "      <td id=\"T_70361_row1_col0\" class=\"data row1 col0\" >0.184625</td>\n",
       "      <td id=\"T_70361_row1_col1\" class=\"data row1 col1\" >0.286823</td>\n",
       "    </tr>\n",
       "    <tr>\n",
       "      <th id=\"T_70361_level0_row2\" class=\"row_heading level0 row2\" >rougher.input.feed_pb</th>\n",
       "      <td id=\"T_70361_row2_col0\" class=\"data row2 col0\" >0.184982</td>\n",
       "      <td id=\"T_70361_row2_col1\" class=\"data row2 col1\" >0.187617</td>\n",
       "    </tr>\n",
       "    <tr>\n",
       "      <th id=\"T_70361_level0_row3\" class=\"row_heading level0 row3\" >rougher.input.feed_sol</th>\n",
       "      <td id=\"T_70361_row3_col0\" class=\"data row3 col0\" >0.200745</td>\n",
       "      <td id=\"T_70361_row3_col1\" class=\"data row3 col1\" >0.253004</td>\n",
       "    </tr>\n",
       "    <tr>\n",
       "      <th id=\"T_70361_level0_row4\" class=\"row_heading level0 row4\" >rougher.input.feed_rate</th>\n",
       "      <td id=\"T_70361_row4_col0\" class=\"data row4 col0\" >0.100670</td>\n",
       "      <td id=\"T_70361_row4_col1\" class=\"data row4 col1\" >0.172914</td>\n",
       "    </tr>\n",
       "    <tr>\n",
       "      <th id=\"T_70361_level0_row5\" class=\"row_heading level0 row5\" >rougher.input.feed_size</th>\n",
       "      <td id=\"T_70361_row5_col0\" class=\"data row5 col0\" >0.037564</td>\n",
       "      <td id=\"T_70361_row5_col1\" class=\"data row5 col1\" >0.043679</td>\n",
       "    </tr>\n",
       "    <tr>\n",
       "      <th id=\"T_70361_level0_row6\" class=\"row_heading level0 row6\" >rougher.input.floatbank10_sulfate</th>\n",
       "      <td id=\"T_70361_row6_col0\" class=\"data row6 col0\" >-0.014146</td>\n",
       "      <td id=\"T_70361_row6_col1\" class=\"data row6 col1\" >0.061122</td>\n",
       "    </tr>\n",
       "    <tr>\n",
       "      <th id=\"T_70361_level0_row7\" class=\"row_heading level0 row7\" >rougher.input.floatbank10_xanthate</th>\n",
       "      <td id=\"T_70361_row7_col0\" class=\"data row7 col0\" >0.244346</td>\n",
       "      <td id=\"T_70361_row7_col1\" class=\"data row7 col1\" >0.323454</td>\n",
       "    </tr>\n",
       "    <tr>\n",
       "      <th id=\"T_70361_level0_row8\" class=\"row_heading level0 row8\" >rougher.state.floatbank10_a_air</th>\n",
       "      <td id=\"T_70361_row8_col0\" class=\"data row8 col0\" >0.149584</td>\n",
       "      <td id=\"T_70361_row8_col1\" class=\"data row8 col1\" >0.183223</td>\n",
       "    </tr>\n",
       "    <tr>\n",
       "      <th id=\"T_70361_level0_row9\" class=\"row_heading level0 row9\" >rougher.state.floatbank10_a_level</th>\n",
       "      <td id=\"T_70361_row9_col0\" class=\"data row9 col0\" >0.117781</td>\n",
       "      <td id=\"T_70361_row9_col1\" class=\"data row9 col1\" >0.065370</td>\n",
       "    </tr>\n",
       "    <tr>\n",
       "      <th id=\"T_70361_level0_row10\" class=\"row_heading level0 row10\" >rougher.state.floatbank10_b_air</th>\n",
       "      <td id=\"T_70361_row10_col0\" class=\"data row10 col0\" >-0.063942</td>\n",
       "      <td id=\"T_70361_row10_col1\" class=\"data row10 col1\" >-0.119616</td>\n",
       "    </tr>\n",
       "    <tr>\n",
       "      <th id=\"T_70361_level0_row11\" class=\"row_heading level0 row11\" >rougher.state.floatbank10_b_level</th>\n",
       "      <td id=\"T_70361_row11_col0\" class=\"data row11 col0\" >-0.056117</td>\n",
       "      <td id=\"T_70361_row11_col1\" class=\"data row11 col1\" >-0.068815</td>\n",
       "    </tr>\n",
       "    <tr>\n",
       "      <th id=\"T_70361_level0_row12\" class=\"row_heading level0 row12\" >rougher.state.floatbank10_c_air</th>\n",
       "      <td id=\"T_70361_row12_col0\" class=\"data row12 col0\" >-0.089900</td>\n",
       "      <td id=\"T_70361_row12_col1\" class=\"data row12 col1\" >-0.149314</td>\n",
       "    </tr>\n",
       "    <tr>\n",
       "      <th id=\"T_70361_level0_row13\" class=\"row_heading level0 row13\" >rougher.state.floatbank10_c_level</th>\n",
       "      <td id=\"T_70361_row13_col0\" class=\"data row13 col0\" >-0.057315</td>\n",
       "      <td id=\"T_70361_row13_col1\" class=\"data row13 col1\" >-0.077948</td>\n",
       "    </tr>\n",
       "    <tr>\n",
       "      <th id=\"T_70361_level0_row14\" class=\"row_heading level0 row14\" >rougher.state.floatbank10_d_air</th>\n",
       "      <td id=\"T_70361_row14_col0\" class=\"data row14 col0\" >-0.086064</td>\n",
       "      <td id=\"T_70361_row14_col1\" class=\"data row14 col1\" >-0.144892</td>\n",
       "    </tr>\n",
       "    <tr>\n",
       "      <th id=\"T_70361_level0_row15\" class=\"row_heading level0 row15\" >rougher.state.floatbank10_d_level</th>\n",
       "      <td id=\"T_70361_row15_col0\" class=\"data row15 col0\" >-0.054905</td>\n",
       "      <td id=\"T_70361_row15_col1\" class=\"data row15 col1\" >-0.072141</td>\n",
       "    </tr>\n",
       "    <tr>\n",
       "      <th id=\"T_70361_level0_row16\" class=\"row_heading level0 row16\" >rougher.state.floatbank10_e_air</th>\n",
       "      <td id=\"T_70361_row16_col0\" class=\"data row16 col0\" >-0.064923</td>\n",
       "      <td id=\"T_70361_row16_col1\" class=\"data row16 col1\" >-0.104626</td>\n",
       "    </tr>\n",
       "    <tr>\n",
       "      <th id=\"T_70361_level0_row17\" class=\"row_heading level0 row17\" >rougher.state.floatbank10_e_level</th>\n",
       "      <td id=\"T_70361_row17_col0\" class=\"data row17 col0\" >-0.043263</td>\n",
       "      <td id=\"T_70361_row17_col1\" class=\"data row17 col1\" >-0.061577</td>\n",
       "    </tr>\n",
       "    <tr>\n",
       "      <th id=\"T_70361_level0_row18\" class=\"row_heading level0 row18\" >rougher.state.floatbank10_f_air</th>\n",
       "      <td id=\"T_70361_row18_col0\" class=\"data row18 col0\" >-0.034993</td>\n",
       "      <td id=\"T_70361_row18_col1\" class=\"data row18 col1\" >-0.082852</td>\n",
       "    </tr>\n",
       "    <tr>\n",
       "      <th id=\"T_70361_level0_row19\" class=\"row_heading level0 row19\" >rougher.state.floatbank10_f_level</th>\n",
       "      <td id=\"T_70361_row19_col0\" class=\"data row19 col0\" >-0.040919</td>\n",
       "      <td id=\"T_70361_row19_col1\" class=\"data row19 col1\" >-0.056780</td>\n",
       "    </tr>\n",
       "    <tr>\n",
       "      <th id=\"T_70361_level0_row20\" class=\"row_heading level0 row20\" >rougher.input.floatbank11_sulfate</th>\n",
       "      <td id=\"T_70361_row20_col0\" class=\"data row20 col0\" >-0.001350</td>\n",
       "      <td id=\"T_70361_row20_col1\" class=\"data row20 col1\" >0.078546</td>\n",
       "    </tr>\n",
       "    <tr>\n",
       "      <th id=\"T_70361_level0_row21\" class=\"row_heading level0 row21\" >rougher.input.floatbank11_xanthate</th>\n",
       "      <td id=\"T_70361_row21_col0\" class=\"data row21 col0\" >0.205163</td>\n",
       "      <td id=\"T_70361_row21_col1\" class=\"data row21 col1\" >0.288525</td>\n",
       "    </tr>\n",
       "    <tr>\n",
       "      <th id=\"T_70361_level0_row22\" class=\"row_heading level0 row22\" >rougher.calculation.sulfate_to_au_concentrate</th>\n",
       "      <td id=\"T_70361_row22_col0\" class=\"data row22 col0\" >-0.003644</td>\n",
       "      <td id=\"T_70361_row22_col1\" class=\"data row22 col1\" >-0.008664</td>\n",
       "    </tr>\n",
       "    <tr>\n",
       "      <th id=\"T_70361_level0_row23\" class=\"row_heading level0 row23\" >rougher.calculation.floatbank10_sulfate_to_au_feed</th>\n",
       "      <td id=\"T_70361_row23_col0\" class=\"data row23 col0\" >-0.046950</td>\n",
       "      <td id=\"T_70361_row23_col1\" class=\"data row23 col1\" >-0.063274</td>\n",
       "    </tr>\n",
       "    <tr>\n",
       "      <th id=\"T_70361_level0_row24\" class=\"row_heading level0 row24\" >rougher.calculation.floatbank11_sulfate_to_au_feed</th>\n",
       "      <td id=\"T_70361_row24_col0\" class=\"data row24 col0\" >-0.035135</td>\n",
       "      <td id=\"T_70361_row24_col1\" class=\"data row24 col1\" >-0.044536</td>\n",
       "    </tr>\n",
       "    <tr>\n",
       "      <th id=\"T_70361_level0_row25\" class=\"row_heading level0 row25\" >rougher.calculation.au_pb_ratio</th>\n",
       "      <td id=\"T_70361_row25_col0\" class=\"data row25 col0\" >-0.033351</td>\n",
       "      <td id=\"T_70361_row25_col1\" class=\"data row25 col1\" >0.042625</td>\n",
       "    </tr>\n",
       "    <tr>\n",
       "      <th id=\"T_70361_level0_row26\" class=\"row_heading level0 row26\" >rougher.output.concentrate_au</th>\n",
       "      <td id=\"T_70361_row26_col0\" class=\"data row26 col0\" >0.579638</td>\n",
       "      <td id=\"T_70361_row26_col1\" class=\"data row26 col1\" >-0.008210</td>\n",
       "    </tr>\n",
       "    <tr>\n",
       "      <th id=\"T_70361_level0_row27\" class=\"row_heading level0 row27\" >rougher.output.concentrate_ag</th>\n",
       "      <td id=\"T_70361_row27_col0\" class=\"data row27 col0\" >0.661330</td>\n",
       "      <td id=\"T_70361_row27_col1\" class=\"data row27 col1\" >0.195862</td>\n",
       "    </tr>\n",
       "    <tr>\n",
       "      <th id=\"T_70361_level0_row28\" class=\"row_heading level0 row28\" >rougher.output.concentrate_pb</th>\n",
       "      <td id=\"T_70361_row28_col0\" class=\"data row28 col0\" >0.552622</td>\n",
       "      <td id=\"T_70361_row28_col1\" class=\"data row28 col1\" >-0.006122</td>\n",
       "    </tr>\n",
       "    <tr>\n",
       "      <th id=\"T_70361_level0_row29\" class=\"row_heading level0 row29\" >rougher.output.concentrate_sol</th>\n",
       "      <td id=\"T_70361_row29_col0\" class=\"data row29 col0\" >0.602475</td>\n",
       "      <td id=\"T_70361_row29_col1\" class=\"data row29 col1\" >0.043938</td>\n",
       "    </tr>\n",
       "    <tr>\n",
       "      <th id=\"T_70361_level0_row30\" class=\"row_heading level0 row30\" >rougher.output.recovery</th>\n",
       "      <td id=\"T_70361_row30_col0\" class=\"data row30 col0\" >1.000000</td>\n",
       "      <td id=\"T_70361_row30_col1\" class=\"data row30 col1\" >0.327059</td>\n",
       "    </tr>\n",
       "    <tr>\n",
       "      <th id=\"T_70361_level0_row31\" class=\"row_heading level0 row31\" >rougher.output.tail_au</th>\n",
       "      <td id=\"T_70361_row31_col0\" class=\"data row31 col0\" >-0.360848</td>\n",
       "      <td id=\"T_70361_row31_col1\" class=\"data row31 col1\" >-0.313320</td>\n",
       "    </tr>\n",
       "    <tr>\n",
       "      <th id=\"T_70361_level0_row32\" class=\"row_heading level0 row32\" >rougher.output.tail_ag</th>\n",
       "      <td id=\"T_70361_row32_col0\" class=\"data row32 col0\" >-0.230986</td>\n",
       "      <td id=\"T_70361_row32_col1\" class=\"data row32 col1\" >-0.129933</td>\n",
       "    </tr>\n",
       "    <tr>\n",
       "      <th id=\"T_70361_level0_row33\" class=\"row_heading level0 row33\" >rougher.output.tail_pb</th>\n",
       "      <td id=\"T_70361_row33_col0\" class=\"data row33 col0\" >-0.304693</td>\n",
       "      <td id=\"T_70361_row33_col1\" class=\"data row33 col1\" >-0.317056</td>\n",
       "    </tr>\n",
       "    <tr>\n",
       "      <th id=\"T_70361_level0_row34\" class=\"row_heading level0 row34\" >rougher.output.tail_sol</th>\n",
       "      <td id=\"T_70361_row34_col0\" class=\"data row34 col0\" >0.115776</td>\n",
       "      <td id=\"T_70361_row34_col1\" class=\"data row34 col1\" >0.163837</td>\n",
       "    </tr>\n",
       "    <tr>\n",
       "      <th id=\"T_70361_level0_row35\" class=\"row_heading level0 row35\" >primary_cleaner.input.sulfate</th>\n",
       "      <td id=\"T_70361_row35_col0\" class=\"data row35 col0\" >0.278230</td>\n",
       "      <td id=\"T_70361_row35_col1\" class=\"data row35 col1\" >0.357954</td>\n",
       "    </tr>\n",
       "    <tr>\n",
       "      <th id=\"T_70361_level0_row36\" class=\"row_heading level0 row36\" >primary_cleaner.input.depressant</th>\n",
       "      <td id=\"T_70361_row36_col0\" class=\"data row36 col0\" >0.053095</td>\n",
       "      <td id=\"T_70361_row36_col1\" class=\"data row36 col1\" >0.163614</td>\n",
       "    </tr>\n",
       "    <tr>\n",
       "      <th id=\"T_70361_level0_row37\" class=\"row_heading level0 row37\" >primary_cleaner.input.feed_size</th>\n",
       "      <td id=\"T_70361_row37_col0\" class=\"data row37 col0\" >-0.011133</td>\n",
       "      <td id=\"T_70361_row37_col1\" class=\"data row37 col1\" >0.063397</td>\n",
       "    </tr>\n",
       "    <tr>\n",
       "      <th id=\"T_70361_level0_row38\" class=\"row_heading level0 row38\" >primary_cleaner.input.xanthate</th>\n",
       "      <td id=\"T_70361_row38_col0\" class=\"data row38 col0\" >0.144149</td>\n",
       "      <td id=\"T_70361_row38_col1\" class=\"data row38 col1\" >0.206625</td>\n",
       "    </tr>\n",
       "    <tr>\n",
       "      <th id=\"T_70361_level0_row39\" class=\"row_heading level0 row39\" >primary_cleaner.state.floatbank8_a_air</th>\n",
       "      <td id=\"T_70361_row39_col0\" class=\"data row39 col0\" >0.096833</td>\n",
       "      <td id=\"T_70361_row39_col1\" class=\"data row39 col1\" >0.106880</td>\n",
       "    </tr>\n",
       "    <tr>\n",
       "      <th id=\"T_70361_level0_row40\" class=\"row_heading level0 row40\" >primary_cleaner.state.floatbank8_a_level</th>\n",
       "      <td id=\"T_70361_row40_col0\" class=\"data row40 col0\" >0.040426</td>\n",
       "      <td id=\"T_70361_row40_col1\" class=\"data row40 col1\" >0.016524</td>\n",
       "    </tr>\n",
       "    <tr>\n",
       "      <th id=\"T_70361_level0_row41\" class=\"row_heading level0 row41\" >primary_cleaner.state.floatbank8_b_air</th>\n",
       "      <td id=\"T_70361_row41_col0\" class=\"data row41 col0\" >0.109572</td>\n",
       "      <td id=\"T_70361_row41_col1\" class=\"data row41 col1\" >0.127012</td>\n",
       "    </tr>\n",
       "    <tr>\n",
       "      <th id=\"T_70361_level0_row42\" class=\"row_heading level0 row42\" >primary_cleaner.state.floatbank8_b_level</th>\n",
       "      <td id=\"T_70361_row42_col0\" class=\"data row42 col0\" >0.038727</td>\n",
       "      <td id=\"T_70361_row42_col1\" class=\"data row42 col1\" >0.052651</td>\n",
       "    </tr>\n",
       "    <tr>\n",
       "      <th id=\"T_70361_level0_row43\" class=\"row_heading level0 row43\" >primary_cleaner.state.floatbank8_c_air</th>\n",
       "      <td id=\"T_70361_row43_col0\" class=\"data row43 col0\" >0.103990</td>\n",
       "      <td id=\"T_70361_row43_col1\" class=\"data row43 col1\" >0.114048</td>\n",
       "    </tr>\n",
       "    <tr>\n",
       "      <th id=\"T_70361_level0_row44\" class=\"row_heading level0 row44\" >primary_cleaner.state.floatbank8_c_level</th>\n",
       "      <td id=\"T_70361_row44_col0\" class=\"data row44 col0\" >0.037191</td>\n",
       "      <td id=\"T_70361_row44_col1\" class=\"data row44 col1\" >0.013694</td>\n",
       "    </tr>\n",
       "    <tr>\n",
       "      <th id=\"T_70361_level0_row45\" class=\"row_heading level0 row45\" >primary_cleaner.state.floatbank8_d_air</th>\n",
       "      <td id=\"T_70361_row45_col0\" class=\"data row45 col0\" >0.032843</td>\n",
       "      <td id=\"T_70361_row45_col1\" class=\"data row45 col1\" >0.068074</td>\n",
       "    </tr>\n",
       "    <tr>\n",
       "      <th id=\"T_70361_level0_row46\" class=\"row_heading level0 row46\" >primary_cleaner.state.floatbank8_d_level</th>\n",
       "      <td id=\"T_70361_row46_col0\" class=\"data row46 col0\" >-0.006894</td>\n",
       "      <td id=\"T_70361_row46_col1\" class=\"data row46 col1\" >-0.037066</td>\n",
       "    </tr>\n",
       "    <tr>\n",
       "      <th id=\"T_70361_level0_row47\" class=\"row_heading level0 row47\" >primary_cleaner.output.concentrate_au</th>\n",
       "      <td id=\"T_70361_row47_col0\" class=\"data row47 col0\" >-0.128526</td>\n",
       "      <td id=\"T_70361_row47_col1\" class=\"data row47 col1\" >-0.137165</td>\n",
       "    </tr>\n",
       "    <tr>\n",
       "      <th id=\"T_70361_level0_row48\" class=\"row_heading level0 row48\" >primary_cleaner.output.concentrate_ag</th>\n",
       "      <td id=\"T_70361_row48_col0\" class=\"data row48 col0\" >0.189857</td>\n",
       "      <td id=\"T_70361_row48_col1\" class=\"data row48 col1\" >0.265488</td>\n",
       "    </tr>\n",
       "    <tr>\n",
       "      <th id=\"T_70361_level0_row49\" class=\"row_heading level0 row49\" >primary_cleaner.output.concentrate_pb</th>\n",
       "      <td id=\"T_70361_row49_col0\" class=\"data row49 col0\" >0.137659</td>\n",
       "      <td id=\"T_70361_row49_col1\" class=\"data row49 col1\" >0.155894</td>\n",
       "    </tr>\n",
       "    <tr>\n",
       "      <th id=\"T_70361_level0_row50\" class=\"row_heading level0 row50\" >primary_cleaner.output.concentrate_sol</th>\n",
       "      <td id=\"T_70361_row50_col0\" class=\"data row50 col0\" >0.106693</td>\n",
       "      <td id=\"T_70361_row50_col1\" class=\"data row50 col1\" >0.226965</td>\n",
       "    </tr>\n",
       "    <tr>\n",
       "      <th id=\"T_70361_level0_row51\" class=\"row_heading level0 row51\" >primary_cleaner.output.tail_au</th>\n",
       "      <td id=\"T_70361_row51_col0\" class=\"data row51 col0\" >-0.172909</td>\n",
       "      <td id=\"T_70361_row51_col1\" class=\"data row51 col1\" >-0.391106</td>\n",
       "    </tr>\n",
       "    <tr>\n",
       "      <th id=\"T_70361_level0_row52\" class=\"row_heading level0 row52\" >primary_cleaner.output.tail_ag</th>\n",
       "      <td id=\"T_70361_row52_col0\" class=\"data row52 col0\" >0.168790</td>\n",
       "      <td id=\"T_70361_row52_col1\" class=\"data row52 col1\" >0.172087</td>\n",
       "    </tr>\n",
       "    <tr>\n",
       "      <th id=\"T_70361_level0_row53\" class=\"row_heading level0 row53\" >primary_cleaner.output.tail_pb</th>\n",
       "      <td id=\"T_70361_row53_col0\" class=\"data row53 col0\" >0.174745</td>\n",
       "      <td id=\"T_70361_row53_col1\" class=\"data row53 col1\" >0.150517</td>\n",
       "    </tr>\n",
       "    <tr>\n",
       "      <th id=\"T_70361_level0_row54\" class=\"row_heading level0 row54\" >primary_cleaner.output.tail_sol</th>\n",
       "      <td id=\"T_70361_row54_col0\" class=\"data row54 col0\" >0.096979</td>\n",
       "      <td id=\"T_70361_row54_col1\" class=\"data row54 col1\" >0.159562</td>\n",
       "    </tr>\n",
       "    <tr>\n",
       "      <th id=\"T_70361_level0_row55\" class=\"row_heading level0 row55\" >secondary_cleaner.state.floatbank2_a_air</th>\n",
       "      <td id=\"T_70361_row55_col0\" class=\"data row55 col0\" >0.127575</td>\n",
       "      <td id=\"T_70361_row55_col1\" class=\"data row55 col1\" >0.108138</td>\n",
       "    </tr>\n",
       "    <tr>\n",
       "      <th id=\"T_70361_level0_row56\" class=\"row_heading level0 row56\" >secondary_cleaner.state.floatbank2_a_level</th>\n",
       "      <td id=\"T_70361_row56_col0\" class=\"data row56 col0\" >-0.020171</td>\n",
       "      <td id=\"T_70361_row56_col1\" class=\"data row56 col1\" >0.001453</td>\n",
       "    </tr>\n",
       "    <tr>\n",
       "      <th id=\"T_70361_level0_row57\" class=\"row_heading level0 row57\" >secondary_cleaner.state.floatbank2_b_air</th>\n",
       "      <td id=\"T_70361_row57_col0\" class=\"data row57 col0\" >0.147984</td>\n",
       "      <td id=\"T_70361_row57_col1\" class=\"data row57 col1\" >0.116953</td>\n",
       "    </tr>\n",
       "    <tr>\n",
       "      <th id=\"T_70361_level0_row58\" class=\"row_heading level0 row58\" >secondary_cleaner.state.floatbank2_b_level</th>\n",
       "      <td id=\"T_70361_row58_col0\" class=\"data row58 col0\" >-0.022243</td>\n",
       "      <td id=\"T_70361_row58_col1\" class=\"data row58 col1\" >0.000032</td>\n",
       "    </tr>\n",
       "    <tr>\n",
       "      <th id=\"T_70361_level0_row59\" class=\"row_heading level0 row59\" >secondary_cleaner.state.floatbank3_a_air</th>\n",
       "      <td id=\"T_70361_row59_col0\" class=\"data row59 col0\" >0.162299</td>\n",
       "      <td id=\"T_70361_row59_col1\" class=\"data row59 col1\" >0.147342</td>\n",
       "    </tr>\n",
       "    <tr>\n",
       "      <th id=\"T_70361_level0_row60\" class=\"row_heading level0 row60\" >secondary_cleaner.state.floatbank3_a_level</th>\n",
       "      <td id=\"T_70361_row60_col0\" class=\"data row60 col0\" >-0.009882</td>\n",
       "      <td id=\"T_70361_row60_col1\" class=\"data row60 col1\" >0.009008</td>\n",
       "    </tr>\n",
       "    <tr>\n",
       "      <th id=\"T_70361_level0_row61\" class=\"row_heading level0 row61\" >secondary_cleaner.state.floatbank3_b_air</th>\n",
       "      <td id=\"T_70361_row61_col0\" class=\"data row61 col0\" >0.093214</td>\n",
       "      <td id=\"T_70361_row61_col1\" class=\"data row61 col1\" >0.065484</td>\n",
       "    </tr>\n",
       "    <tr>\n",
       "      <th id=\"T_70361_level0_row62\" class=\"row_heading level0 row62\" >secondary_cleaner.state.floatbank3_b_level</th>\n",
       "      <td id=\"T_70361_row62_col0\" class=\"data row62 col0\" >-0.032576</td>\n",
       "      <td id=\"T_70361_row62_col1\" class=\"data row62 col1\" >0.003644</td>\n",
       "    </tr>\n",
       "    <tr>\n",
       "      <th id=\"T_70361_level0_row63\" class=\"row_heading level0 row63\" >secondary_cleaner.state.floatbank4_a_air</th>\n",
       "      <td id=\"T_70361_row63_col0\" class=\"data row63 col0\" >0.212145</td>\n",
       "      <td id=\"T_70361_row63_col1\" class=\"data row63 col1\" >0.168313</td>\n",
       "    </tr>\n",
       "    <tr>\n",
       "      <th id=\"T_70361_level0_row64\" class=\"row_heading level0 row64\" >secondary_cleaner.state.floatbank4_a_level</th>\n",
       "      <td id=\"T_70361_row64_col0\" class=\"data row64 col0\" >0.022414</td>\n",
       "      <td id=\"T_70361_row64_col1\" class=\"data row64 col1\" >0.031260</td>\n",
       "    </tr>\n",
       "    <tr>\n",
       "      <th id=\"T_70361_level0_row65\" class=\"row_heading level0 row65\" >secondary_cleaner.state.floatbank4_b_air</th>\n",
       "      <td id=\"T_70361_row65_col0\" class=\"data row65 col0\" >0.227633</td>\n",
       "      <td id=\"T_70361_row65_col1\" class=\"data row65 col1\" >0.158531</td>\n",
       "    </tr>\n",
       "    <tr>\n",
       "      <th id=\"T_70361_level0_row66\" class=\"row_heading level0 row66\" >secondary_cleaner.state.floatbank4_b_level</th>\n",
       "      <td id=\"T_70361_row66_col0\" class=\"data row66 col0\" >-0.035318</td>\n",
       "      <td id=\"T_70361_row66_col1\" class=\"data row66 col1\" >-0.050023</td>\n",
       "    </tr>\n",
       "    <tr>\n",
       "      <th id=\"T_70361_level0_row67\" class=\"row_heading level0 row67\" >secondary_cleaner.state.floatbank5_a_air</th>\n",
       "      <td id=\"T_70361_row67_col0\" class=\"data row67 col0\" >0.144970</td>\n",
       "      <td id=\"T_70361_row67_col1\" class=\"data row67 col1\" >0.066974</td>\n",
       "    </tr>\n",
       "    <tr>\n",
       "      <th id=\"T_70361_level0_row68\" class=\"row_heading level0 row68\" >secondary_cleaner.state.floatbank5_a_level</th>\n",
       "      <td id=\"T_70361_row68_col0\" class=\"data row68 col0\" >0.013800</td>\n",
       "      <td id=\"T_70361_row68_col1\" class=\"data row68 col1\" >0.011859</td>\n",
       "    </tr>\n",
       "    <tr>\n",
       "      <th id=\"T_70361_level0_row69\" class=\"row_heading level0 row69\" >secondary_cleaner.state.floatbank5_b_air</th>\n",
       "      <td id=\"T_70361_row69_col0\" class=\"data row69 col0\" >0.144225</td>\n",
       "      <td id=\"T_70361_row69_col1\" class=\"data row69 col1\" >0.051987</td>\n",
       "    </tr>\n",
       "    <tr>\n",
       "      <th id=\"T_70361_level0_row70\" class=\"row_heading level0 row70\" >secondary_cleaner.state.floatbank5_b_level</th>\n",
       "      <td id=\"T_70361_row70_col0\" class=\"data row70 col0\" >0.035149</td>\n",
       "      <td id=\"T_70361_row70_col1\" class=\"data row70 col1\" >0.016467</td>\n",
       "    </tr>\n",
       "    <tr>\n",
       "      <th id=\"T_70361_level0_row71\" class=\"row_heading level0 row71\" >secondary_cleaner.state.floatbank6_a_air</th>\n",
       "      <td id=\"T_70361_row71_col0\" class=\"data row71 col0\" >0.008081</td>\n",
       "      <td id=\"T_70361_row71_col1\" class=\"data row71 col1\" >-0.024959</td>\n",
       "    </tr>\n",
       "    <tr>\n",
       "      <th id=\"T_70361_level0_row72\" class=\"row_heading level0 row72\" >secondary_cleaner.state.floatbank6_a_level</th>\n",
       "      <td id=\"T_70361_row72_col0\" class=\"data row72 col0\" >-0.012113</td>\n",
       "      <td id=\"T_70361_row72_col1\" class=\"data row72 col1\" >-0.005394</td>\n",
       "    </tr>\n",
       "    <tr>\n",
       "      <th id=\"T_70361_level0_row73\" class=\"row_heading level0 row73\" >secondary_cleaner.output.tail_au</th>\n",
       "      <td id=\"T_70361_row73_col0\" class=\"data row73 col0\" >-0.121846</td>\n",
       "      <td id=\"T_70361_row73_col1\" class=\"data row73 col1\" >-0.334696</td>\n",
       "    </tr>\n",
       "    <tr>\n",
       "      <th id=\"T_70361_level0_row74\" class=\"row_heading level0 row74\" >secondary_cleaner.output.tail_ag</th>\n",
       "      <td id=\"T_70361_row74_col0\" class=\"data row74 col0\" >0.117562</td>\n",
       "      <td id=\"T_70361_row74_col1\" class=\"data row74 col1\" >0.161691</td>\n",
       "    </tr>\n",
       "    <tr>\n",
       "      <th id=\"T_70361_level0_row75\" class=\"row_heading level0 row75\" >secondary_cleaner.output.tail_pb</th>\n",
       "      <td id=\"T_70361_row75_col0\" class=\"data row75 col0\" >0.065126</td>\n",
       "      <td id=\"T_70361_row75_col1\" class=\"data row75 col1\" >-0.010322</td>\n",
       "    </tr>\n",
       "    <tr>\n",
       "      <th id=\"T_70361_level0_row76\" class=\"row_heading level0 row76\" >secondary_cleaner.output.tail_sol</th>\n",
       "      <td id=\"T_70361_row76_col0\" class=\"data row76 col0\" >-0.029731</td>\n",
       "      <td id=\"T_70361_row76_col1\" class=\"data row76 col1\" >-0.023045</td>\n",
       "    </tr>\n",
       "    <tr>\n",
       "      <th id=\"T_70361_level0_row77\" class=\"row_heading level0 row77\" >final.output.concentrate_au</th>\n",
       "      <td id=\"T_70361_row77_col0\" class=\"data row77 col0\" >0.077312</td>\n",
       "      <td id=\"T_70361_row77_col1\" class=\"data row77 col1\" >0.288568</td>\n",
       "    </tr>\n",
       "    <tr>\n",
       "      <th id=\"T_70361_level0_row78\" class=\"row_heading level0 row78\" >final.output.concentrate_ag</th>\n",
       "      <td id=\"T_70361_row78_col0\" class=\"data row78 col0\" >0.084139</td>\n",
       "      <td id=\"T_70361_row78_col1\" class=\"data row78 col1\" >0.185964</td>\n",
       "    </tr>\n",
       "    <tr>\n",
       "      <th id=\"T_70361_level0_row79\" class=\"row_heading level0 row79\" >final.output.concentrate_pb</th>\n",
       "      <td id=\"T_70361_row79_col0\" class=\"data row79 col0\" >0.039727</td>\n",
       "      <td id=\"T_70361_row79_col1\" class=\"data row79 col1\" >0.151998</td>\n",
       "    </tr>\n",
       "    <tr>\n",
       "      <th id=\"T_70361_level0_row80\" class=\"row_heading level0 row80\" >final.output.concentrate_sol</th>\n",
       "      <td id=\"T_70361_row80_col0\" class=\"data row80 col0\" >0.150554</td>\n",
       "      <td id=\"T_70361_row80_col1\" class=\"data row80 col1\" >0.283485</td>\n",
       "    </tr>\n",
       "    <tr>\n",
       "      <th id=\"T_70361_level0_row81\" class=\"row_heading level0 row81\" >final.output.recovery</th>\n",
       "      <td id=\"T_70361_row81_col0\" class=\"data row81 col0\" >0.327059</td>\n",
       "      <td id=\"T_70361_row81_col1\" class=\"data row81 col1\" >1.000000</td>\n",
       "    </tr>\n",
       "    <tr>\n",
       "      <th id=\"T_70361_level0_row82\" class=\"row_heading level0 row82\" >final.output.tail_au</th>\n",
       "      <td id=\"T_70361_row82_col0\" class=\"data row82 col0\" >-0.104604</td>\n",
       "      <td id=\"T_70361_row82_col1\" class=\"data row82 col1\" >-0.409200</td>\n",
       "    </tr>\n",
       "    <tr>\n",
       "      <th id=\"T_70361_level0_row83\" class=\"row_heading level0 row83\" >final.output.tail_ag</th>\n",
       "      <td id=\"T_70361_row83_col0\" class=\"data row83 col0\" >0.187388</td>\n",
       "      <td id=\"T_70361_row83_col1\" class=\"data row83 col1\" >0.126312</td>\n",
       "    </tr>\n",
       "    <tr>\n",
       "      <th id=\"T_70361_level0_row84\" class=\"row_heading level0 row84\" >final.output.tail_pb</th>\n",
       "      <td id=\"T_70361_row84_col0\" class=\"data row84 col0\" >0.072859</td>\n",
       "      <td id=\"T_70361_row84_col1\" class=\"data row84 col1\" >-0.127452</td>\n",
       "    </tr>\n",
       "    <tr>\n",
       "      <th id=\"T_70361_level0_row85\" class=\"row_heading level0 row85\" >final.output.tail_sol</th>\n",
       "      <td id=\"T_70361_row85_col0\" class=\"data row85 col0\" >-0.040759</td>\n",
       "      <td id=\"T_70361_row85_col1\" class=\"data row85 col1\" >-0.049633</td>\n",
       "    </tr>\n",
       "  </tbody>\n",
       "</table>\n"
      ],
      "text/plain": [
       "<pandas.io.formats.style.Styler at 0x7fc3a04421f0>"
      ]
     },
     "metadata": {},
     "output_type": "display_data"
    }
   ],
   "source": [
    "correlation_rougher = gold_full.drop('date', axis=1).corr()['rougher.output.recovery']\n",
    "correlation_final = gold_full.drop('date', axis=1).corr()['final.output.recovery']\n",
    "correlation_df = pd.concat([correlation_rougher, correlation_final], axis=1)\n",
    "cmap = plt.get_cmap('coolwarm')\n",
    "styled_corr_matrix = correlation_df.style.background_gradient(cmap=cmap, axis=None)\n",
    "display(styled_corr_matrix)"
   ]
  },
  {
   "cell_type": "markdown",
   "metadata": {},
   "source": [
    "Let's check the target columns for zero values."
   ]
  },
  {
   "cell_type": "code",
   "execution_count": 11,
   "metadata": {},
   "outputs": [
    {
     "data": {
      "text/html": [
       "<div>\n",
       "<style scoped>\n",
       "    .dataframe tbody tr th:only-of-type {\n",
       "        vertical-align: middle;\n",
       "    }\n",
       "\n",
       "    .dataframe tbody tr th {\n",
       "        vertical-align: top;\n",
       "    }\n",
       "\n",
       "    .dataframe thead th {\n",
       "        text-align: right;\n",
       "    }\n",
       "</style>\n",
       "<table border=\"1\" class=\"dataframe\">\n",
       "  <thead>\n",
       "    <tr style=\"text-align: right;\">\n",
       "      <th></th>\n",
       "      <th>rougher.output.recovery</th>\n",
       "      <th>final.output.recovery</th>\n",
       "    </tr>\n",
       "  </thead>\n",
       "  <tbody>\n",
       "    <tr>\n",
       "      <th>count</th>\n",
       "      <td>14579.000000</td>\n",
       "      <td>14579.000000</td>\n",
       "    </tr>\n",
       "    <tr>\n",
       "      <th>mean</th>\n",
       "      <td>82.521200</td>\n",
       "      <td>66.759066</td>\n",
       "    </tr>\n",
       "    <tr>\n",
       "      <th>std</th>\n",
       "      <td>15.797521</td>\n",
       "      <td>10.619709</td>\n",
       "    </tr>\n",
       "    <tr>\n",
       "      <th>min</th>\n",
       "      <td>0.000000</td>\n",
       "      <td>0.000000</td>\n",
       "    </tr>\n",
       "    <tr>\n",
       "      <th>25%</th>\n",
       "      <td>80.558542</td>\n",
       "      <td>63.114596</td>\n",
       "    </tr>\n",
       "    <tr>\n",
       "      <th>50%</th>\n",
       "      <td>85.946497</td>\n",
       "      <td>67.962788</td>\n",
       "    </tr>\n",
       "    <tr>\n",
       "      <th>75%</th>\n",
       "      <td>89.960375</td>\n",
       "      <td>72.598187</td>\n",
       "    </tr>\n",
       "    <tr>\n",
       "      <th>max</th>\n",
       "      <td>100.000000</td>\n",
       "      <td>100.000000</td>\n",
       "    </tr>\n",
       "  </tbody>\n",
       "</table>\n",
       "</div>"
      ],
      "text/plain": [
       "       rougher.output.recovery  final.output.recovery\n",
       "count             14579.000000           14579.000000\n",
       "mean                 82.521200              66.759066\n",
       "std                  15.797521              10.619709\n",
       "min                   0.000000               0.000000\n",
       "25%                  80.558542              63.114596\n",
       "50%                  85.946497              67.962788\n",
       "75%                  89.960375              72.598187\n",
       "max                 100.000000             100.000000"
      ]
     },
     "metadata": {},
     "output_type": "display_data"
    },
    {
     "data": {
      "text/html": [
       "<div>\n",
       "<style scoped>\n",
       "    .dataframe tbody tr th:only-of-type {\n",
       "        vertical-align: middle;\n",
       "    }\n",
       "\n",
       "    .dataframe tbody tr th {\n",
       "        vertical-align: top;\n",
       "    }\n",
       "\n",
       "    .dataframe thead th {\n",
       "        text-align: right;\n",
       "    }\n",
       "</style>\n",
       "<table border=\"1\" class=\"dataframe\">\n",
       "  <thead>\n",
       "    <tr style=\"text-align: right;\">\n",
       "      <th></th>\n",
       "      <th>rougher.output.recovery</th>\n",
       "      <th>final.output.recovery</th>\n",
       "    </tr>\n",
       "  </thead>\n",
       "  <tbody>\n",
       "    <tr>\n",
       "      <th>count</th>\n",
       "      <td>19439.000000</td>\n",
       "      <td>19439.000000</td>\n",
       "    </tr>\n",
       "    <tr>\n",
       "      <th>mean</th>\n",
       "      <td>83.328587</td>\n",
       "      <td>67.050208</td>\n",
       "    </tr>\n",
       "    <tr>\n",
       "      <th>std</th>\n",
       "      <td>14.148086</td>\n",
       "      <td>10.125840</td>\n",
       "    </tr>\n",
       "    <tr>\n",
       "      <th>min</th>\n",
       "      <td>0.000000</td>\n",
       "      <td>0.000000</td>\n",
       "    </tr>\n",
       "    <tr>\n",
       "      <th>25%</th>\n",
       "      <td>81.037957</td>\n",
       "      <td>63.299712</td>\n",
       "    </tr>\n",
       "    <tr>\n",
       "      <th>50%</th>\n",
       "      <td>86.188892</td>\n",
       "      <td>68.172738</td>\n",
       "    </tr>\n",
       "    <tr>\n",
       "      <th>75%</th>\n",
       "      <td>90.010670</td>\n",
       "      <td>72.686642</td>\n",
       "    </tr>\n",
       "    <tr>\n",
       "      <th>max</th>\n",
       "      <td>100.000000</td>\n",
       "      <td>100.000000</td>\n",
       "    </tr>\n",
       "  </tbody>\n",
       "</table>\n",
       "</div>"
      ],
      "text/plain": [
       "       rougher.output.recovery  final.output.recovery\n",
       "count             19439.000000           19439.000000\n",
       "mean                 83.328587              67.050208\n",
       "std                  14.148086              10.125840\n",
       "min                   0.000000               0.000000\n",
       "25%                  81.037957              63.299712\n",
       "50%                  86.188892              68.172738\n",
       "75%                  90.010670              72.686642\n",
       "max                 100.000000             100.000000"
      ]
     },
     "metadata": {},
     "output_type": "display_data"
    }
   ],
   "source": [
    "display(gold_train[['rougher.output.recovery', 'final.output.recovery']].describe())\n",
    "display(gold_full[['rougher.output.recovery', 'final.output.recovery']].describe())"
   ]
  },
  {
   "cell_type": "code",
   "execution_count": 12,
   "metadata": {},
   "outputs": [
    {
     "name": "stdout",
     "output_type": "stream",
     "text": [
      "394\n",
      "394\n",
      "98\n",
      "98\n"
     ]
    }
   ],
   "source": [
    "zero_count_rough_train = len(gold_train[gold_train['rougher.output.recovery'] == 0])\n",
    "zero_count_rough_full = len(gold_full[gold_full['rougher.output.recovery'] == 0])\n",
    "\n",
    "zero_count_final_train = len(gold_train[gold_train['final.output.recovery'] == 0])\n",
    "zero_count_final_full = len(gold_full[gold_full['final.output.recovery'] == 0])\n",
    "\n",
    "print(zero_count_rough_train)\n",
    "print(zero_count_rough_full)\n",
    "print(zero_count_final_train)\n",
    "print(zero_count_final_full)"
   ]
  },
  {
   "cell_type": "markdown",
   "metadata": {},
   "source": [
    "_Conclusion_: It is evident that the data is generally of good quality. A small number of missing values have been replaced by linear interpolation, as specified in the condition that the data is indexed by the date and time of information acquisition (feature: date), and neighboring parameters in time are often similar. There is no strong correlation observed between the target features and the training features, except for 'rougher.output.concentrate' and 'rougher.output.recovery.' The number of zero values is not critical."
   ]
  },
  {
   "cell_type": "markdown",
   "metadata": {},
   "source": [
    "Let's calculate the efficiency for 'rougher.output.recovery' and find the MAE (Mean Absolute Error)."
   ]
  },
  {
   "cell_type": "markdown",
   "metadata": {},
   "source": [
    "The calculation will be performed using the following formula:"
   ]
  },
  {
   "cell_type": "markdown",
   "metadata": {},
   "source": [
    "![Формула расчета эффективности](https://pictures.s3.yandex.net/resources/Recovery_1576238822.jpg)"
   ]
  },
  {
   "cell_type": "markdown",
   "metadata": {},
   "source": [
    "where:\n",
    "- C — the share of gold in the concentrate after flotation/cleaning;\n",
    "- F — the share of gold in the raw material/concentrate before flotation/cleaning;\n",
    "- T — the share of gold in the tailings after flotation/cleaning."
   ]
  },
  {
   "cell_type": "code",
   "execution_count": 13,
   "metadata": {},
   "outputs": [
    {
     "data": {
      "text/html": [
       "<div>\n",
       "<style scoped>\n",
       "    .dataframe tbody tr th:only-of-type {\n",
       "        vertical-align: middle;\n",
       "    }\n",
       "\n",
       "    .dataframe tbody tr th {\n",
       "        vertical-align: top;\n",
       "    }\n",
       "\n",
       "    .dataframe thead th {\n",
       "        text-align: right;\n",
       "    }\n",
       "</style>\n",
       "<table border=\"1\" class=\"dataframe\">\n",
       "  <thead>\n",
       "    <tr style=\"text-align: right;\">\n",
       "      <th></th>\n",
       "      <th>rougher.output.recovery</th>\n",
       "      <th>recovery</th>\n",
       "    </tr>\n",
       "  </thead>\n",
       "  <tbody>\n",
       "    <tr>\n",
       "      <th>0</th>\n",
       "      <td>87.107763</td>\n",
       "      <td>87.107763</td>\n",
       "    </tr>\n",
       "    <tr>\n",
       "      <th>1</th>\n",
       "      <td>86.843261</td>\n",
       "      <td>86.843261</td>\n",
       "    </tr>\n",
       "    <tr>\n",
       "      <th>2</th>\n",
       "      <td>86.842308</td>\n",
       "      <td>86.842308</td>\n",
       "    </tr>\n",
       "    <tr>\n",
       "      <th>3</th>\n",
       "      <td>87.226430</td>\n",
       "      <td>87.226430</td>\n",
       "    </tr>\n",
       "    <tr>\n",
       "      <th>4</th>\n",
       "      <td>86.688794</td>\n",
       "      <td>86.688794</td>\n",
       "    </tr>\n",
       "    <tr>\n",
       "      <th>...</th>\n",
       "      <td>...</td>\n",
       "      <td>...</td>\n",
       "    </tr>\n",
       "    <tr>\n",
       "      <th>14574</th>\n",
       "      <td>87.684717</td>\n",
       "      <td>87.684717</td>\n",
       "    </tr>\n",
       "    <tr>\n",
       "      <th>14575</th>\n",
       "      <td>90.677361</td>\n",
       "      <td>90.677361</td>\n",
       "    </tr>\n",
       "    <tr>\n",
       "      <th>14576</th>\n",
       "      <td>89.574376</td>\n",
       "      <td>89.574376</td>\n",
       "    </tr>\n",
       "    <tr>\n",
       "      <th>14577</th>\n",
       "      <td>87.724007</td>\n",
       "      <td>87.724007</td>\n",
       "    </tr>\n",
       "    <tr>\n",
       "      <th>14578</th>\n",
       "      <td>88.890579</td>\n",
       "      <td>88.890579</td>\n",
       "    </tr>\n",
       "  </tbody>\n",
       "</table>\n",
       "<p>14579 rows × 2 columns</p>\n",
       "</div>"
      ],
      "text/plain": [
       "       rougher.output.recovery   recovery\n",
       "0                    87.107763  87.107763\n",
       "1                    86.843261  86.843261\n",
       "2                    86.842308  86.842308\n",
       "3                    87.226430  87.226430\n",
       "4                    86.688794  86.688794\n",
       "...                        ...        ...\n",
       "14574                87.684717  87.684717\n",
       "14575                90.677361  90.677361\n",
       "14576                89.574376  89.574376\n",
       "14577                87.724007  87.724007\n",
       "14578                88.890579  88.890579\n",
       "\n",
       "[14579 rows x 2 columns]"
      ]
     },
     "metadata": {},
     "output_type": "display_data"
    }
   ],
   "source": [
    "C = gold_train['rougher.output.concentrate_au']\n",
    "F = gold_train['rougher.input.feed_au']\n",
    "T = gold_train['rougher.output.tail_au']\n",
    "\n",
    "df_effeciency = gold_train.copy()\n",
    "df_effeciency['recovery'] = (C * (F - T)) / (F * (C - T))*100\n",
    "\n",
    "display(df_effeciency[['rougher.output.recovery', 'recovery']])"
   ]
  },
  {
   "cell_type": "code",
   "execution_count": 14,
   "metadata": {},
   "outputs": [
    {
     "name": "stdout",
     "output_type": "stream",
     "text": [
      "Mean absolute error (MAE): 9.83758577644259e-15\n"
     ]
    }
   ],
   "source": [
    "recovery = df_effeciency['recovery']\n",
    "actual_recovery = gold_train['rougher.output.recovery']\n",
    "mae = mean_absolute_error(actual_recovery, recovery)\n",
    "print(f\"Mean absolute error (MAE): {mae}\")"
   ]
  },
  {
   "cell_type": "markdown",
   "metadata": {},
   "source": [
    "MAE is equal to 9.83758577644259e-15, which means that the absolute mean deviation between manually calculated values and actual recovery values is very close to zero. In fact, this is an extremely low error, practically approaching zero.\n",
    "\n",
    "This may indicate that the recovery calculations closely match the actual data with high accuracy. In this context, it is favorable as it signifies that the calculations are accurate and align with the expected results."
   ]
  },
  {
   "cell_type": "markdown",
   "metadata": {},
   "source": [
    "The test set lacks several values, such as:\n",
    "\n",
    "- rougher.calculation.sulfate_to_au_concentrate\n",
    "- rougher.calculation.floatbank10_sulfate_to_au_feed\n",
    "- rougher.calculation.floatbank11_sulfate_to_au_feed\n",
    "- rougher.calculation.au_pb_ratio\n",
    "- rougher.output.concentrate_au\n",
    "- rougher.output.concentrate_ag\n",
    "- rougher.output.concentrate_pb\n",
    "- rougher.output.concentrate_sol\n",
    "- rougher.output.recovery\n",
    "- rougher.output.tail_au\n",
    "- rougher.output.tail_ag\n",
    "- rougher.output.tail_pb\n",
    "- rougher.output.tail_sol\n",
    "\n",
    "- primary_cleaner.output.concentrate_au\n",
    "- primary_cleaner.output.concentrate_ag\n",
    "- primary_cleaner.output.concentrate_pb\n",
    "- primary_cleaner.output.concentrate_sol\n",
    "- primary_cleaner.output.tail_au\n",
    "- primary_cleaner.output.tail_ag\n",
    "- primary_cleaner.output.tail_pb\n",
    "- primary_cleaner.output.tail_sol     \n",
    " \n",
    "- secondary_cleaner.output.tail_au\n",
    "- secondary_cleaner.output.tail_ag\n",
    "- secondary_cleaner.output.tail_pb\n",
    "- secondary_cleaner.output.tail_sol\n",
    "- final.output.concentrate_au\n",
    "- final.output.concentrate_ag\n",
    "- final.output.concentrate_pb\n",
    "- final.output.concentrate_sol\n",
    "- final.output.recovery\n",
    "- final.output.tail_au\n",
    "- final.output.tail_ag\n",
    "- final.output.tail_pb\n",
    "- final.output.tail_sol\n",
    "\n",
    "These parameters are absent in the test set because they will be the target variables for our future model, and including them in the test set could potentially influence the predictions of the model, leading to distorted results. Therefore, they have been excluded from the test set. All the data not included in the test set are numerical with dtype float64."
   ]
  },
  {
   "cell_type": "markdown",
   "metadata": {},
   "source": [
    "## Data Analysis"
   ]
  },
  {
   "cell_type": "markdown",
   "metadata": {},
   "source": [
    "Let's examine how the concentration of metals (Au, Ag, Pb) changes at various stages: in the raw material, in the rough concentrate, in the concentrate after the first cleaning, and in the final concentrate."
   ]
  },
  {
   "cell_type": "code",
   "execution_count": 15,
   "metadata": {},
   "outputs": [
    {
     "data": {
      "image/png": "[encoded data removed]",
      "text/plain": [
       "<Figure size 1000x1800 with 3 Axes>"
      ]
     },
     "metadata": {},
     "output_type": "display_data"
    }
   ],
   "source": [
    "selected_columns = ['rougher.input.feed_au', 'rougher.input.feed_ag', 'rougher.input.feed_pb',\n",
    "                    'rougher.output.concentrate_au', 'rougher.output.concentrate_ag', 'rougher.output.concentrate_pb',\n",
    "                    'primary_cleaner.output.concentrate_au', 'primary_cleaner.output.concentrate_ag', 'primary_cleaner.output.concentrate_pb',\n",
    "                    'final.output.concentrate_au', 'final.output.concentrate_ag', 'final.output.concentrate_pb']\n",
    "\n",
    "subset = gold_train[selected_columns]\n",
    "\n",
    "fig, axes = plt.subplots(nrows=3, ncols=1, figsize=(10, 18))\n",
    "\n",
    "for i, metal in enumerate([\"au\", \"ag\", \"pb\"]):\n",
    "    metal_columns = [col for col in subset.columns if metal in col]\n",
    "    subset[metal_columns].plot(kind=\"hist\", alpha=0.5, bins=50, legend=True, title=f\"Concentration Distribution {metal}\", ax=axes[i])\n",
    "    axes[i].set_xlabel(\"Concentration\")\n",
    "    axes[i].set_ylabel(\"Frequency\")\n",
    "\n",
    "plt.tight_layout()\n",
    "plt.show()"
   ]
  },
  {
   "cell_type": "markdown",
   "metadata": {},
   "source": [
    "Based on the graphs, it is evident that the concentration of gold increases from stage to stage. The concentration of silver and lead increases, but not as significantly. I presume this is related to gold being the target metal in this case."
   ]
  },
  {
   "cell_type": "markdown",
   "metadata": {},
   "source": [
    "Now, let's check the distributions of particle sizes in the original feed on the training and test sets."
   ]
  },
  {
   "cell_type": "code",
   "execution_count": 16,
   "metadata": {},
   "outputs": [
    {
     "name": "stderr",
     "output_type": "stream",
     "text": [
      "/Users/daniyardjumaliev/Jupyter/venv/lib/python3.9/site-packages/seaborn/_oldcore.py:1498: FutureWarning: is_categorical_dtype is deprecated and will be removed in a future version. Use isinstance(dtype, CategoricalDtype) instead\n",
      "  if pd.api.types.is_categorical_dtype(vector):\n",
      "/Users/daniyardjumaliev/Jupyter/venv/lib/python3.9/site-packages/seaborn/_oldcore.py:1119: FutureWarning: use_inf_as_na option is deprecated and will be removed in a future version. Convert inf values to NaN before operating instead.\n",
      "  with pd.option_context('mode.use_inf_as_na', True):\n",
      "/Users/daniyardjumaliev/Jupyter/venv/lib/python3.9/site-packages/seaborn/_oldcore.py:1498: FutureWarning: is_categorical_dtype is deprecated and will be removed in a future version. Use isinstance(dtype, CategoricalDtype) instead\n",
      "  if pd.api.types.is_categorical_dtype(vector):\n",
      "/Users/daniyardjumaliev/Jupyter/venv/lib/python3.9/site-packages/seaborn/_oldcore.py:1119: FutureWarning: use_inf_as_na option is deprecated and will be removed in a future version. Convert inf values to NaN before operating instead.\n",
      "  with pd.option_context('mode.use_inf_as_na', True):\n"
     ]
    },
    {
     "data": {
      "image/png": "[encoded data removed]",
      "text/plain": [
       "<Figure size 1000x600 with 1 Axes>"
      ]
     },
     "metadata": {},
     "output_type": "display_data"
    }
   ],
   "source": [
    "datasets = {'gold_train': gold_train, 'gold_test': gold_test}\n",
    "selected_column = 'rougher.input.feed_size'\n",
    "\n",
    "plt.figure(figsize=(10, 6))\n",
    "for dataset_name, dataset in datasets.items():\n",
    "    sns.kdeplot(dataset[selected_column], label=dataset_name)\n",
    "\n",
    "plt.title('Distribution of Particle Sizes in the Original Feed in the Training and Test Sets')\n",
    "plt.xlabel('Parameter Value')\n",
    "plt.ylabel('Proportion Relative to the Dataset')\n",
    "plt.legend()\n",
    "plt.show()"
   ]
  },
  {
   "cell_type": "markdown",
   "metadata": {},
   "source": [
    "_Conclusion_: As seen from the graph, the distribution has not changed significantly. The particle size in the training and test sets is either identical or differs insignificantly."
   ]
  },
  {
   "cell_type": "markdown",
   "metadata": {},
   "source": [
    "Let's check the distribution of the concentration of all metals."
   ]
  },
  {
   "cell_type": "code",
   "execution_count": 17,
   "metadata": {},
   "outputs": [
    {
     "data": {
      "image/png": "[encoded data removed]",
      "text/plain": [
       "<Figure size 1200x800 with 1 Axes>"
      ]
     },
     "metadata": {},
     "output_type": "display_data"
    }
   ],
   "source": [
    "gold_train['total_concentration_input'] = gold_train['rougher.input.feed_au'] + gold_train['rougher.input.feed_ag'] + gold_train['rougher.input.feed_pb']\n",
    "gold_train['total_concentration_rougher_output'] = gold_train['rougher.output.concentrate_au'] + gold_train['rougher.output.concentrate_ag'] + gold_train['rougher.output.concentrate_pb']\n",
    "gold_train['total_concentration_primary_cleaner_output'] = gold_train['primary_cleaner.output.concentrate_au'] + gold_train['primary_cleaner.output.concentrate_ag'] + gold_train['primary_cleaner.output.concentrate_pb']\n",
    "gold_train['total_concentration_final_output'] = gold_train['final.output.concentrate_au'] + gold_train['final.output.concentrate_ag'] + gold_train['final.output.concentrate_pb']\n",
    "\n",
    "total_concentration_columns = ['total_concentration_input', 'total_concentration_rougher_output', 'total_concentration_primary_cleaner_output', 'total_concentration_final_output']\n",
    "\n",
    "fig, axes = plt.subplots(nrows=1, ncols=1, figsize=(12, 8))\n",
    "\n",
    "gold_train[total_concentration_columns].plot(kind=\"hist\", alpha=0.5, bins=50, legend=True, title=\"Distribution of the Total Concentration of Metals at Different Stages\", ax=axes)\n",
    "axes.set_xlabel(\"Total Concentration\")\n",
    "axes.set_ylabel(\"Frequency\")\n",
    "\n",
    "plt.tight_layout()\n",
    "plt.show()"
   ]
  },
  {
   "cell_type": "markdown",
   "metadata": {},
   "source": [
    "The graph shows anomalies. Let's remove them. To do this, we'll set a minimum threshold of 10 and discard all values below it."
   ]
  },
  {
   "cell_type": "code",
   "execution_count": 18,
   "metadata": {},
   "outputs": [
    {
     "data": {
      "image/png": "[encoded data removed]",
      "text/plain": [
       "<Figure size 1200x800 with 1 Axes>"
      ]
     },
     "metadata": {},
     "output_type": "display_data"
    }
   ],
   "source": [
    "min_threshold = 10  \n",
    "max_threshold = 100  \n",
    "\n",
    "gold_train = gold_train[\n",
    "    (gold_train['total_concentration_input'] >= min_threshold) &\n",
    "    (gold_train['total_concentration_input'] <= max_threshold) &\n",
    "    (gold_train['total_concentration_rougher_output'] >= min_threshold) &\n",
    "    (gold_train['total_concentration_rougher_output'] <= max_threshold) &\n",
    "    (gold_train['total_concentration_primary_cleaner_output'] >= min_threshold) &\n",
    "    (gold_train['total_concentration_primary_cleaner_output'] <= max_threshold) &\n",
    "    (gold_train['total_concentration_final_output'] >= min_threshold) &\n",
    "    (gold_train['total_concentration_final_output'] <= max_threshold)\n",
    "]\n",
    "\n",
    "fig, axes = plt.subplots(nrows=1, ncols=1, figsize=(12, 8))\n",
    "gold_train[total_concentration_columns].plot(kind=\"hist\", alpha=0.5, bins=50, legend=True, title=\"Distribution of the Total Concentration of Metals at Different Stages (after filtration)\", ax=axes)\n",
    "axes.set_xlabel(\"Total Concentration\")\n",
    "axes.set_ylabel(\"Frequency\")\n",
    "plt.tight_layout()\n",
    "plt.show()"
   ]
  },
  {
   "cell_type": "markdown",
   "metadata": {},
   "source": [
    "_Conclusion_: The distribution of metal concentration in the raw material from stage to stage indicates that, from being relatively smooth at the beginning, the distribution becomes narrower towards the end of the technological process. This suggests that the concentration of metals increases at each stage. Each stage gradually raises the concentration of metals in the raw material. Furthermore, all values below 10 were discarded, as these values can be considered anomalies since there should be some metal content in the ore."
   ]
  },
  {
   "cell_type": "markdown",
   "metadata": {},
   "source": [
    "## Model"
   ]
  },
  {
   "cell_type": "markdown",
   "metadata": {},
   "source": [
    "![Метрика sMAPE](https://pictures.s3.yandex.net/resources/smape_1576238825.jpg)"
   ]
  },
  {
   "cell_type": "markdown",
   "metadata": {},
   "source": [
    "sMAPE (Symmetric Mean Absolute Percentage Error) is similar to MAE but is expressed not in absolute values but in relative ones. Why is it symmetric? It equally considers the scale of both the target feature and the predictions."
   ]
  },
  {
   "cell_type": "markdown",
   "metadata": {},
   "source": [
    "The final sMAPE is calculated using the following formula:"
   ]
  },
  {
   "cell_type": "markdown",
   "metadata": {},
   "source": [
    "![Метрика итоговая sMAPE](https://pictures.s3.yandex.net/resources/_smape_1576238814.jpg)"
   ]
  },
  {
   "cell_type": "markdown",
   "metadata": {},
   "source": [
    "Let's write a function to calculate the final sMAPE."
   ]
  },
  {
   "cell_type": "code",
   "execution_count": 19,
   "metadata": {},
   "outputs": [],
   "source": [
    "def sMAPE(target, predicted):\n",
    "    if len(target) != len(predicted):\n",
    "        return np.nan\n",
    "    \n",
    "    n = len(target)\n",
    "    smape_sum = 0.0\n",
    "    \n",
    "    for i in range(n):\n",
    "        target_value = target[i]\n",
    "        predicted_value = predicted[i]\n",
    "\n",
    "        denominator = (abs(target_value) + abs(predicted_value)) / 2 if (target_value + predicted_value) != 0 else 1\n",
    "        \n",
    "        smape_sum += (abs(target_value - predicted_value) / denominator)\n",
    "    \n",
    "    smape = (100 / n) * smape_sum\n",
    "    return smape"
   ]
  },
  {
   "cell_type": "code",
   "execution_count": 20,
   "metadata": {},
   "outputs": [],
   "source": [
    "def total_sMAPE(rougher_target, rougher_predicted, final_target, final_predicted):\n",
    "    weight_rougher = 0.25\n",
    "    weight_final = 0.75\n",
    "    \n",
    "    sMAPE_rougher = sMAPE(rougher_target, rougher_predicted)\n",
    "    sMAPE_final = sMAPE(final_target, final_predicted)\n",
    "    \n",
    "    total_smape = weight_rougher * sMAPE_rougher + weight_final * sMAPE_final\n",
    "    \n",
    "    return total_smape"
   ]
  },
  {
   "cell_type": "markdown",
   "metadata": {},
   "source": [
    "Let's prepare the data for cross-validation of linear regression and random forest models, ensuring that the column names match those of the test set for subsequent validation. We will remove all columns from the training set similar to the test set. Additionally, we will assess the models using cross-validation. To achieve this, we will create an sMAPE scorer in cross_val_score."
   ]
  },
  {
   "cell_type": "code",
   "execution_count": 21,
   "metadata": {},
   "outputs": [
    {
     "data": {
      "text/plain": [
       "'Train features: (13767, 52)'"
      ]
     },
     "metadata": {},
     "output_type": "display_data"
    },
    {
     "data": {
      "text/plain": [
       "'Target feature(rougher): (13767,)'"
      ]
     },
     "metadata": {},
     "output_type": "display_data"
    },
    {
     "data": {
      "text/plain": [
       "'Target feature(final): (13767,)'"
      ]
     },
     "metadata": {},
     "output_type": "display_data"
    }
   ],
   "source": [
    "feature_train = gold_train[gold_test.columns.intersection(gold_train.columns)]\n",
    "feature_train = feature_train.drop('date', axis=1)\n",
    "target_train_rougher = gold_train['rougher.output.recovery'].to_numpy()\n",
    "target_train_final = gold_train['final.output.recovery'].to_numpy()\n",
    "\n",
    "smape_scorer = make_scorer(sMAPE, greater_is_better=False)\n",
    "\n",
    "display(f'Train features: {feature_train.shape}')\n",
    "display(f'Target feature(rougher): {target_train_rougher.shape}')\n",
    "display(f'Target feature(final): {target_train_final.shape}')"
   ]
  },
  {
   "cell_type": "markdown",
   "metadata": {},
   "source": [
    "Let's tune the hyperparameters of the random forest using the GridSearchCV method."
   ]
  },
  {
   "cell_type": "code",
   "execution_count": 22,
   "metadata": {
    "scrolled": true
   },
   "outputs": [
    {
     "data": {
      "text/plain": [
       "\"Best hyperparameters for rougher: {'max_depth': 5, 'min_samples_leaf': 1}\""
      ]
     },
     "metadata": {},
     "output_type": "display_data"
    },
    {
     "data": {
      "text/plain": [
       "'Mean sMAPE for rougher with the best hyperparameters: 6.2116994764553395'"
      ]
     },
     "metadata": {},
     "output_type": "display_data"
    },
    {
     "data": {
      "text/plain": [
       "\"Best hyperparameters for final: {'max_depth': 1, 'min_samples_leaf': 1}\""
      ]
     },
     "metadata": {},
     "output_type": "display_data"
    },
    {
     "data": {
      "text/plain": [
       "'Mean sMAPE for final with the best hyperparameters: 8.856802828562468'"
      ]
     },
     "metadata": {},
     "output_type": "display_data"
    }
   ],
   "source": [
    "param_grid = {\n",
    "    'max_depth': [1, 5, 10],\n",
    "    'min_samples_leaf': [1, 2, 4]\n",
    "}\n",
    "\n",
    "random_forest = RandomForestRegressor(random_state=12345)\n",
    "\n",
    "grid_search_rougher = GridSearchCV(estimator=random_forest, param_grid=param_grid, cv=5, scoring=smape_scorer)\n",
    "grid_search_rougher.fit(feature_train, target_train_rougher)\n",
    "\n",
    "grid_search_final = GridSearchCV(estimator=random_forest, param_grid=param_grid, cv=5, scoring=smape_scorer)\n",
    "grid_search_final.fit(feature_train, target_train_final)\n",
    "\n",
    "best_params_rougher = grid_search_rougher.best_params_\n",
    "best_smape_rougher = -grid_search_rougher.best_score_\n",
    "\n",
    "best_params_final = grid_search_final.best_params_\n",
    "best_smape_final = -grid_search_final.best_score_\n",
    "\n",
    "display(f'Best hyperparameters for rougher: {best_params_rougher}')\n",
    "display(f'Mean sMAPE for rougher with the best hyperparameters: {best_smape_rougher}')\n",
    "\n",
    "display(f'Best hyperparameters for final: {best_params_final}')\n",
    "display(f'Mean sMAPE for final with the best hyperparameters: {best_smape_final}')"
   ]
  },
  {
   "cell_type": "markdown",
   "metadata": {},
   "source": [
    "By grid search, we obtained the following best hyperparameters for the random forest:\n",
    "\n",
    "- (rougher): 'max_depth=5, min_samples_leaf=1\n",
    "- (final): 'max_depth=1, min_samples_leaf=1."
   ]
  },
  {
   "cell_type": "markdown",
   "metadata": {},
   "source": [
    "Now, through cross-validation, we will select the model with the lowest sMAPE."
   ]
  },
  {
   "cell_type": "code",
   "execution_count": 23,
   "metadata": {},
   "outputs": [
    {
     "data": {
      "text/plain": [
       "'Mean sMAPE for linear regression (rougher): 7.128620250060768'"
      ]
     },
     "metadata": {},
     "output_type": "display_data"
    },
    {
     "data": {
      "text/plain": [
       "'Mean sMAPE for random forest (rougher): 6.2116994764553395'"
      ]
     },
     "metadata": {},
     "output_type": "display_data"
    },
    {
     "data": {
      "text/plain": [
       "'Mean sMAPE for linear regression (final): 9.549748091129839'"
      ]
     },
     "metadata": {},
     "output_type": "display_data"
    },
    {
     "data": {
      "text/plain": [
       "'Mean sMAPE for random forest (final): 8.856802828562468'"
      ]
     },
     "metadata": {},
     "output_type": "display_data"
    }
   ],
   "source": [
    "linear_regression = LinearRegression()\n",
    "random_forest_rougher = RandomForestRegressor(random_state=12345, max_depth=5, min_samples_leaf=1)\n",
    "random_forest_final = RandomForestRegressor(random_state=12345, max_depth=1, min_samples_leaf=1)\n",
    "\n",
    "scores_lr = cross_val_score(linear_regression, feature_train, target_train_rougher, cv=5, scoring=smape_scorer)\n",
    "scores_rf = cross_val_score(random_forest_rougher, feature_train, target_train_rougher, cv=5, scoring=smape_scorer)\n",
    "\n",
    "display(f'Mean sMAPE for linear regression (rougher): {-np.mean(scores_lr)}')\n",
    "display(f'Mean sMAPE for random forest (rougher): {-np.mean(scores_rf)}')\n",
    "\n",
    "scores_lr_final = cross_val_score(linear_regression, feature_train, target_train_final, cv=5, scoring=smape_scorer)\n",
    "scores_rf_final = cross_val_score(random_forest_final, feature_train, target_train_final, cv=5, scoring=smape_scorer)\n",
    "\n",
    "display(f'Mean sMAPE for linear regression (final): {-np.mean(scores_lr_final)}')\n",
    "display(f'Mean sMAPE for random forest (final): {-np.mean(scores_rf_final)}')"
   ]
  },
  {
   "cell_type": "markdown",
   "metadata": {},
   "source": [
    "The random forest model showed the lowest sMAPE value."
   ]
  },
  {
   "cell_type": "markdown",
   "metadata": {},
   "source": [
    "Let's test the random forest model on the test set, but for this, we need to extract the target features. We can extract them from the original dataset based on the 'date' feature."
   ]
  },
  {
   "cell_type": "code",
   "execution_count": 24,
   "metadata": {},
   "outputs": [
    {
     "data": {
      "text/plain": [
       "'Train features: (4860, 52)'"
      ]
     },
     "metadata": {},
     "output_type": "display_data"
    },
    {
     "data": {
      "text/plain": [
       "'Target feature(rougher): (4860,)'"
      ]
     },
     "metadata": {},
     "output_type": "display_data"
    },
    {
     "data": {
      "text/plain": [
       "'Target feature(final): (4860,)'"
      ]
     },
     "metadata": {},
     "output_type": "display_data"
    }
   ],
   "source": [
    "gold_test_targets = gold_test.merge(gold_full[['date', 'rougher.output.recovery', 'final.output.recovery']], on='date', how='inner')\n",
    "\n",
    "feature_test = gold_test.drop('date', axis=1)\n",
    "target_test_rougher = gold_test_targets['rougher.output.recovery'].to_numpy() \n",
    "target_test_final = gold_test_targets['final.output.recovery'].to_numpy()\n",
    "\n",
    "display(f'Train features: {feature_test.shape}')\n",
    "display(f'Target feature(rougher): {target_test_rougher.shape}')\n",
    "display(f'Target feature(final): {target_test_final.shape}')"
   ]
  },
  {
   "cell_type": "markdown",
   "metadata": {},
   "source": [
    "Let's train the random forest model since, after cross-validation, the model does not retain training data. Then, we'll calculate the final sMAPE."
   ]
  },
  {
   "cell_type": "code",
   "execution_count": 25,
   "metadata": {},
   "outputs": [
    {
     "data": {
      "text/plain": [
       "'Final sMAPE: 7.56'"
      ]
     },
     "metadata": {},
     "output_type": "display_data"
    }
   ],
   "source": [
    "random_forest_rougher = RandomForestRegressor(random_state=12345, max_depth=5, min_samples_leaf=1)\n",
    "random_forest_final = RandomForestRegressor(random_state=12345, max_depth=1, min_samples_leaf=1)\n",
    "\n",
    "random_forest_rougher.fit(feature_train, target_train_rougher)\n",
    "random_forest_final.fit(feature_train, target_train_final)\n",
    "\n",
    "predicted_rougher = random_forest_rougher.predict(feature_test)\n",
    "predicted_final = random_forest_final.predict(feature_test)\n",
    "\n",
    "total_smape = total_sMAPE(target_test_rougher, predicted_rougher, target_test_final, predicted_final)\n",
    "\n",
    "display(f'Final sMAPE: {total_smape:0.2f}')"
   ]
  },
  {
   "cell_type": "markdown",
   "metadata": {},
   "source": [
    "Now, let's assess the relevance of our random forest model. To do this, we'll compare it with a constant model using the DummyRegressor algorithm."
   ]
  },
  {
   "cell_type": "code",
   "execution_count": 26,
   "metadata": {
    "scrolled": true
   },
   "outputs": [
    {
     "data": {
      "text/plain": [
       "'sMAPE for our model (rougher): 3.776486369357665'"
      ]
     },
     "metadata": {},
     "output_type": "display_data"
    },
    {
     "data": {
      "text/plain": [
       "'sMAPE for the dummy model (rougher): 5.833112278531343'"
      ]
     },
     "metadata": {},
     "output_type": "display_data"
    },
    {
     "data": {
      "text/plain": [
       "'sMAPE for our model (final): 8.825097411422128'"
      ]
     },
     "metadata": {},
     "output_type": "display_data"
    },
    {
     "data": {
      "text/plain": [
       "'sMAPE for the dummy model (final): 24.695670755651193'"
      ]
     },
     "metadata": {},
     "output_type": "display_data"
    }
   ],
   "source": [
    "dummy_regressor = DummyRegressor(strategy='median')\n",
    "\n",
    "dummy_regressor.fit(feature_train, target_train_rougher)\n",
    "\n",
    "dummy_predictions_rougher = dummy_regressor.predict(feature_test)\n",
    "dummy_predictions_final = dummy_regressor.predict(feature_test)\n",
    "\n",
    "smape_model_rougher = sMAPE(target_test_rougher, predicted_rougher)\n",
    "smape_dummy_rougher = sMAPE(target_test_rougher, dummy_predictions_rougher)\n",
    "\n",
    "smape_model_final = sMAPE(target_test_final, predicted_final)\n",
    "smape_dummy_final = sMAPE(target_test_final, dummy_predictions_final)\n",
    "\n",
    "display(f'sMAPE for our model (rougher): {smape_model_rougher}')\n",
    "display(f'sMAPE for the dummy model (rougher): {smape_dummy_rougher}')\n",
    "\n",
    "display(f'sMAPE for our model (final): {smape_model_final}')\n",
    "display(f'sMAPE for the dummy model (final): {smape_dummy_final}')"
   ]
  },
  {
   "cell_type": "markdown",
   "metadata": {},
   "source": [
    "Our random forest model has a better sMAPE metric than the constant model; therefore, it is relevant."
   ]
  },
  {
   "cell_type": "markdown",
   "metadata": {},
   "source": [
    "__Overall conclusion__:\n",
    "\n",
    "- During data loading, it was observed that the test table lacked target features; it only had features for prediction. Therefore, it was decided to extract target features from the original table based on the 'date' feature.\n",
    "\n",
    "- All tables had missing values. Since the condition specified that data is usually indexed by the date and time of information retrieval (the 'date' feature), and neighboring parameters over time are often similar, missing values were filled using linear interpolation.\n",
    "\n",
    "- It was noted that there was no strong correlation between the target features and the training features, except for rougher.output.concentrate and rougher.output.recovery. The number of zero values in the target columns was not critical.\n",
    "\n",
    "- After calculating MAE, it was found that MAE was approximately 9.83758577644259e-15, indicating that the absolute mean deviation between manually calculated values and actual recovery values was very close to zero. This suggests high precision in recovery calculations, aligning well with expected results.\n",
    "\n",
    "- During data analysis, it was observed that the concentration of gold increased from stage to stage. The concentration of silver and lead increased, but not as significantly. The total concentration of metals in the raw material from stage to stage showed a narrower distribution towards the end of the technological process, indicating an increase in metal concentration at each stage. This likely indicates a correct technological process. Summarized values less than 10 were discarded as anomalies.\n",
    "\n",
    "- A function was written to calculate sMAPE (Symmetric Mean Absolute Percentage Error).\n",
    "\n",
    "- When selecting the optimal model for predicting the efficiency of enrichment, both for rougher and final concentrate, the main metric was sMAPE. The random forest model with default values of 100 decision trees, a depth of 5 (for rougher concentrate) and 1 (for final concentrate), and a minimum number of samples in a leaf equal to 1 for both types of concentrate, showed the lowest sMAPE on the validation set: 6.21% for rougher concentrate and 8.86% for final concentrate. __Further, this model showed a final sMAPE of 7.56%. The random forest model was also checked for relevance by comparing it with the DummyRegressor algorithm with a median strategy. The random forest model can predict process results with a relatively small error and is therefore recommended for use.__"
   ]
  },
  {
   "cell_type": "code",
   "execution_count": null,
   "metadata": {},
   "outputs": [],
   "source": []
  }
 ],
 "metadata": {
  "ExecuteTimeLog": [
   {
    "duration": 1705,
    "start_time": "2023-09-10T07:52:53.442Z"
   },
   {
    "duration": 274,
    "start_time": "2023-09-10T08:02:24.133Z"
   },
   {
    "duration": 4,
    "start_time": "2023-09-10T08:04:23.131Z"
   },
   {
    "duration": 314,
    "start_time": "2023-09-10T08:04:24.182Z"
   },
   {
    "duration": 259,
    "start_time": "2023-09-10T08:06:12.725Z"
   },
   {
    "duration": 238,
    "start_time": "2023-09-10T08:07:41.652Z"
   },
   {
    "duration": 156,
    "start_time": "2023-09-10T08:08:33.567Z"
   },
   {
    "duration": 2317,
    "start_time": "2023-09-10T08:09:38.400Z"
   },
   {
    "duration": 23,
    "start_time": "2023-09-10T08:25:30.687Z"
   },
   {
    "duration": 462,
    "start_time": "2023-09-10T08:26:10.816Z"
   },
   {
    "duration": 422,
    "start_time": "2023-09-10T11:12:14.567Z"
   },
   {
    "duration": 200,
    "start_time": "2023-09-10T11:12:16.485Z"
   },
   {
    "duration": 41,
    "start_time": "2023-09-10T12:26:21.922Z"
   },
   {
    "duration": 25,
    "start_time": "2023-09-10T12:27:27.314Z"
   },
   {
    "duration": 59,
    "start_time": "2023-09-10T12:27:48.036Z"
   },
   {
    "duration": 322,
    "start_time": "2023-09-10T12:41:02.037Z"
   },
   {
    "duration": 39171,
    "start_time": "2023-09-10T12:43:13.990Z"
   },
   {
    "duration": 44370,
    "start_time": "2023-09-10T12:44:49.390Z"
   },
   {
    "duration": 44420,
    "start_time": "2023-09-10T12:45:49.601Z"
   },
   {
    "duration": 46606,
    "start_time": "2023-09-10T12:49:59.058Z"
   },
   {
    "duration": 45879,
    "start_time": "2023-09-10T12:51:16.485Z"
   },
   {
    "duration": 8446,
    "start_time": "2023-09-10T12:53:02.045Z"
   },
   {
    "duration": 7987,
    "start_time": "2023-09-10T12:53:20.383Z"
   },
   {
    "duration": 13,
    "start_time": "2023-09-10T12:57:00.064Z"
   },
   {
    "duration": 296,
    "start_time": "2023-09-10T12:57:11.078Z"
   },
   {
    "duration": 296,
    "start_time": "2023-09-10T12:58:16.155Z"
   },
   {
    "duration": 348,
    "start_time": "2023-09-10T13:06:39.740Z"
   },
   {
    "duration": 11,
    "start_time": "2023-09-10T13:08:19.043Z"
   },
   {
    "duration": 5,
    "start_time": "2023-09-10T13:08:25.501Z"
   },
   {
    "duration": 343,
    "start_time": "2023-09-10T13:08:40.521Z"
   },
   {
    "duration": 4,
    "start_time": "2023-09-10T13:09:02.739Z"
   },
   {
    "duration": 309,
    "start_time": "2023-09-10T13:09:14.383Z"
   },
   {
    "duration": 311,
    "start_time": "2023-09-10T13:09:40.573Z"
   },
   {
    "duration": 585,
    "start_time": "2023-09-10T13:10:50.977Z"
   },
   {
    "duration": 960,
    "start_time": "2023-09-10T13:12:42.524Z"
   },
   {
    "duration": 934,
    "start_time": "2023-09-10T13:14:31.021Z"
   },
   {
    "duration": 1630,
    "start_time": "2023-09-10T13:14:50.485Z"
   },
   {
    "duration": 1109,
    "start_time": "2023-09-10T13:14:52.117Z"
   },
   {
    "duration": 505,
    "start_time": "2023-09-10T13:14:53.228Z"
   },
   {
    "duration": 246,
    "start_time": "2023-09-10T13:14:53.735Z"
   },
   {
    "duration": 478,
    "start_time": "2023-09-10T13:14:53.982Z"
   },
   {
    "duration": 46,
    "start_time": "2023-09-10T13:14:54.462Z"
   },
   {
    "duration": 63,
    "start_time": "2023-09-10T13:14:54.509Z"
   },
   {
    "duration": 64,
    "start_time": "2023-09-10T13:14:54.574Z"
   },
   {
    "duration": 1190,
    "start_time": "2023-09-10T13:14:54.640Z"
   },
   {
    "duration": 991,
    "start_time": "2023-09-10T13:15:53.516Z"
   },
   {
    "duration": 129,
    "start_time": "2023-09-10T13:22:06.100Z"
   },
   {
    "duration": 136,
    "start_time": "2023-09-10T13:23:16.401Z"
   },
   {
    "duration": 44,
    "start_time": "2023-09-11T07:23:48.033Z"
   },
   {
    "duration": 1469,
    "start_time": "2023-09-11T07:23:58.007Z"
   },
   {
    "duration": 3117,
    "start_time": "2023-09-11T07:23:59.478Z"
   },
   {
    "duration": 371,
    "start_time": "2023-09-11T07:24:02.597Z"
   },
   {
    "duration": 182,
    "start_time": "2023-09-11T07:24:02.969Z"
   },
   {
    "duration": 351,
    "start_time": "2023-09-11T07:24:03.152Z"
   },
   {
    "duration": 40,
    "start_time": "2023-09-11T07:24:03.505Z"
   },
   {
    "duration": 19,
    "start_time": "2023-09-11T07:24:03.546Z"
   },
   {
    "duration": 50,
    "start_time": "2023-09-11T07:24:03.566Z"
   },
   {
    "duration": 828,
    "start_time": "2023-09-11T07:24:03.617Z"
   },
   {
    "duration": 735,
    "start_time": "2023-09-11T07:24:04.448Z"
   },
   {
    "duration": 127,
    "start_time": "2023-09-11T07:24:05.185Z"
   },
   {
    "duration": 12,
    "start_time": "2023-09-11T07:26:47.946Z"
   },
   {
    "duration": 675,
    "start_time": "2023-09-11T07:27:05.882Z"
   },
   {
    "duration": 105,
    "start_time": "2023-09-11T07:56:54.417Z"
   },
   {
    "duration": 482,
    "start_time": "2023-09-11T07:57:13.189Z"
   },
   {
    "duration": 484,
    "start_time": "2023-09-11T07:58:44.633Z"
   },
   {
    "duration": 481,
    "start_time": "2023-09-11T07:58:52.978Z"
   },
   {
    "duration": 464,
    "start_time": "2023-09-11T07:59:15.244Z"
   },
   {
    "duration": 449,
    "start_time": "2023-09-11T08:02:11.015Z"
   },
   {
    "duration": 499,
    "start_time": "2023-09-11T08:02:23.312Z"
   },
   {
    "duration": 613,
    "start_time": "2023-09-11T08:03:07.761Z"
   },
   {
    "duration": 12,
    "start_time": "2023-09-11T08:19:55.462Z"
   },
   {
    "duration": 10,
    "start_time": "2023-09-11T08:20:08.051Z"
   },
   {
    "duration": 13,
    "start_time": "2023-09-11T08:21:41.687Z"
   },
   {
    "duration": 34,
    "start_time": "2023-09-11T08:21:50.067Z"
   },
   {
    "duration": 9,
    "start_time": "2023-09-11T08:23:36.359Z"
   },
   {
    "duration": 3,
    "start_time": "2023-09-11T08:23:54.731Z"
   },
   {
    "duration": 5,
    "start_time": "2023-09-11T08:24:01.222Z"
   },
   {
    "duration": 25,
    "start_time": "2023-09-11T08:24:57.828Z"
   },
   {
    "duration": 1534,
    "start_time": "2023-09-11T08:46:28.724Z"
   },
   {
    "duration": 479,
    "start_time": "2023-09-11T08:50:35.160Z"
   },
   {
    "duration": 1388,
    "start_time": "2023-09-11T08:51:54.720Z"
   },
   {
    "duration": 491,
    "start_time": "2023-09-11T08:52:15.365Z"
   },
   {
    "duration": 664,
    "start_time": "2023-09-11T08:52:24.365Z"
   },
   {
    "duration": 505,
    "start_time": "2023-09-11T08:52:30.732Z"
   },
   {
    "duration": 557,
    "start_time": "2023-09-11T08:52:35.896Z"
   },
   {
    "duration": 771,
    "start_time": "2023-09-11T08:53:04.785Z"
   },
   {
    "duration": 1480,
    "start_time": "2023-09-11T08:53:33.192Z"
   },
   {
    "duration": 2090,
    "start_time": "2023-09-11T08:54:35.531Z"
   },
   {
    "duration": 1782,
    "start_time": "2023-09-11T08:54:58.346Z"
   },
   {
    "duration": 1824,
    "start_time": "2023-09-11T09:03:26.607Z"
   },
   {
    "duration": 611,
    "start_time": "2023-09-11T09:11:10.755Z"
   },
   {
    "duration": 403,
    "start_time": "2023-09-11T09:11:29.587Z"
   },
   {
    "duration": 579,
    "start_time": "2023-09-11T09:14:31.481Z"
   },
   {
    "duration": 190,
    "start_time": "2023-09-11T09:20:13.677Z"
   },
   {
    "duration": 469,
    "start_time": "2023-09-11T09:22:28.116Z"
   },
   {
    "duration": 318,
    "start_time": "2023-09-11T09:23:32.166Z"
   },
   {
    "duration": 329,
    "start_time": "2023-09-11T09:24:40.936Z"
   },
   {
    "duration": 463,
    "start_time": "2023-09-11T09:28:05.531Z"
   },
   {
    "duration": 67,
    "start_time": "2023-09-11T09:30:55.646Z"
   },
   {
    "duration": 67,
    "start_time": "2023-09-11T09:31:03.441Z"
   },
   {
    "duration": 206,
    "start_time": "2023-09-11T09:31:14.770Z"
   },
   {
    "duration": 26,
    "start_time": "2023-09-11T09:35:53.977Z"
   },
   {
    "duration": 15,
    "start_time": "2023-09-11T09:36:02.797Z"
   },
   {
    "duration": 15,
    "start_time": "2023-09-11T09:36:11.190Z"
   },
   {
    "duration": 14,
    "start_time": "2023-09-11T09:36:23.812Z"
   },
   {
    "duration": 13,
    "start_time": "2023-09-11T09:38:21.319Z"
   },
   {
    "duration": 8,
    "start_time": "2023-09-11T09:38:37.217Z"
   },
   {
    "duration": 19,
    "start_time": "2023-09-11T09:38:41.132Z"
   },
   {
    "duration": 71,
    "start_time": "2023-09-11T09:39:14.073Z"
   },
   {
    "duration": 102,
    "start_time": "2023-09-11T09:39:29.136Z"
   },
   {
    "duration": 73,
    "start_time": "2023-09-11T09:39:49.240Z"
   },
   {
    "duration": 404,
    "start_time": "2023-09-11T09:59:29.484Z"
   },
   {
    "duration": 445,
    "start_time": "2023-09-11T10:00:48.730Z"
   },
   {
    "duration": 431,
    "start_time": "2023-09-11T10:01:52.890Z"
   },
   {
    "duration": 1472,
    "start_time": "2023-09-11T10:02:09.707Z"
   },
   {
    "duration": 555,
    "start_time": "2023-09-11T10:02:15.885Z"
   },
   {
    "duration": 408,
    "start_time": "2023-09-11T10:02:19.192Z"
   },
   {
    "duration": 450,
    "start_time": "2023-09-11T10:03:04.733Z"
   },
   {
    "duration": 395,
    "start_time": "2023-09-11T10:03:07.771Z"
   },
   {
    "duration": 594,
    "start_time": "2023-09-11T10:03:46.269Z"
   },
   {
    "duration": 407,
    "start_time": "2023-09-11T10:03:53.287Z"
   },
   {
    "duration": 678,
    "start_time": "2023-09-11T10:06:42.176Z"
   },
   {
    "duration": 10,
    "start_time": "2023-09-11T16:04:39.186Z"
   },
   {
    "duration": 1616,
    "start_time": "2023-09-11T16:04:47.566Z"
   },
   {
    "duration": 2220,
    "start_time": "2023-09-11T16:04:49.184Z"
   },
   {
    "duration": 397,
    "start_time": "2023-09-11T16:04:51.406Z"
   },
   {
    "duration": 195,
    "start_time": "2023-09-11T16:04:51.805Z"
   },
   {
    "duration": 409,
    "start_time": "2023-09-11T16:04:52.002Z"
   },
   {
    "duration": 44,
    "start_time": "2023-09-11T16:04:52.413Z"
   },
   {
    "duration": 17,
    "start_time": "2023-09-11T16:04:52.459Z"
   },
   {
    "duration": 67,
    "start_time": "2023-09-11T16:04:52.477Z"
   },
   {
    "duration": 575,
    "start_time": "2023-09-11T16:04:52.547Z"
   },
   {
    "duration": 716,
    "start_time": "2023-09-11T16:04:53.125Z"
   },
   {
    "duration": 30,
    "start_time": "2023-09-11T16:04:53.847Z"
   },
   {
    "duration": 9,
    "start_time": "2023-09-11T16:04:53.879Z"
   },
   {
    "duration": 2046,
    "start_time": "2023-09-11T16:04:53.889Z"
   },
   {
    "duration": 310,
    "start_time": "2023-09-11T16:04:55.936Z"
   },
   {
    "duration": 810,
    "start_time": "2023-09-11T16:04:56.247Z"
   },
   {
    "duration": 11,
    "start_time": "2023-09-11T16:04:57.059Z"
   },
   {
    "duration": 52,
    "start_time": "2023-09-12T04:45:40.469Z"
   },
   {
    "duration": 7,
    "start_time": "2023-09-12T05:08:37.270Z"
   },
   {
    "duration": 1803,
    "start_time": "2023-09-12T05:08:44.618Z"
   },
   {
    "duration": 2609,
    "start_time": "2023-09-12T05:08:46.423Z"
   },
   {
    "duration": 446,
    "start_time": "2023-09-12T05:08:49.033Z"
   },
   {
    "duration": 218,
    "start_time": "2023-09-12T05:08:49.482Z"
   },
   {
    "duration": 462,
    "start_time": "2023-09-12T05:08:49.702Z"
   },
   {
    "duration": 30,
    "start_time": "2023-09-12T05:08:50.165Z"
   },
   {
    "duration": 15,
    "start_time": "2023-09-12T05:08:50.197Z"
   },
   {
    "duration": 71,
    "start_time": "2023-09-12T05:08:50.214Z"
   },
   {
    "duration": 624,
    "start_time": "2023-09-12T05:08:50.287Z"
   },
   {
    "duration": 773,
    "start_time": "2023-09-12T05:08:50.913Z"
   },
   {
    "duration": 25,
    "start_time": "2023-09-12T05:08:51.688Z"
   },
   {
    "duration": 6,
    "start_time": "2023-09-12T05:08:51.714Z"
   },
   {
    "duration": 2164,
    "start_time": "2023-09-12T05:08:51.722Z"
   },
   {
    "duration": 348,
    "start_time": "2023-09-12T05:08:53.888Z"
   },
   {
    "duration": 890,
    "start_time": "2023-09-12T05:08:54.238Z"
   },
   {
    "duration": 4,
    "start_time": "2023-09-12T05:08:55.130Z"
   },
   {
    "duration": 163,
    "start_time": "2023-09-12T05:08:55.136Z"
   },
   {
    "duration": 14,
    "start_time": "2023-09-12T05:09:14.396Z"
   },
   {
    "duration": 18,
    "start_time": "2023-09-12T05:09:51.038Z"
   },
   {
    "duration": 63,
    "start_time": "2023-09-12T05:37:05.506Z"
   },
   {
    "duration": 32,
    "start_time": "2023-09-12T05:38:42.352Z"
   },
   {
    "duration": 108,
    "start_time": "2023-09-12T05:52:36.542Z"
   },
   {
    "duration": 181,
    "start_time": "2023-09-12T05:53:32.568Z"
   },
   {
    "duration": 186,
    "start_time": "2023-09-12T05:53:50.365Z"
   },
   {
    "duration": 359,
    "start_time": "2023-09-12T05:59:15.390Z"
   },
   {
    "duration": 30,
    "start_time": "2023-09-12T07:30:01.650Z"
   },
   {
    "duration": 22,
    "start_time": "2023-09-12T07:34:02.771Z"
   },
   {
    "duration": 1546,
    "start_time": "2023-09-12T07:34:28.969Z"
   },
   {
    "duration": 930,
    "start_time": "2023-09-12T07:34:30.517Z"
   },
   {
    "duration": 448,
    "start_time": "2023-09-12T07:34:31.448Z"
   },
   {
    "duration": 215,
    "start_time": "2023-09-12T07:34:31.898Z"
   },
   {
    "duration": 486,
    "start_time": "2023-09-12T07:34:32.115Z"
   },
   {
    "duration": 48,
    "start_time": "2023-09-12T07:34:32.603Z"
   },
   {
    "duration": 18,
    "start_time": "2023-09-12T07:34:32.653Z"
   },
   {
    "duration": 70,
    "start_time": "2023-09-12T07:34:32.672Z"
   },
   {
    "duration": 603,
    "start_time": "2023-09-12T07:34:32.747Z"
   },
   {
    "duration": 762,
    "start_time": "2023-09-12T07:34:33.353Z"
   },
   {
    "duration": 30,
    "start_time": "2023-09-12T07:34:34.117Z"
   },
   {
    "duration": 6,
    "start_time": "2023-09-12T07:34:34.149Z"
   },
   {
    "duration": 2061,
    "start_time": "2023-09-12T07:34:34.156Z"
   },
   {
    "duration": 323,
    "start_time": "2023-09-12T07:34:36.220Z"
   },
   {
    "duration": 836,
    "start_time": "2023-09-12T07:34:36.546Z"
   },
   {
    "duration": 5,
    "start_time": "2023-09-12T07:34:37.383Z"
   },
   {
    "duration": 37,
    "start_time": "2023-09-12T07:34:37.390Z"
   },
   {
    "duration": 223,
    "start_time": "2023-09-12T07:34:37.429Z"
   },
   {
    "duration": 223,
    "start_time": "2023-09-12T07:34:37.653Z"
   },
   {
    "duration": 886,
    "start_time": "2023-09-12T07:37:06.446Z"
   },
   {
    "duration": 13,
    "start_time": "2023-09-12T07:37:20.328Z"
   },
   {
    "duration": 1520,
    "start_time": "2023-09-12T07:37:32.551Z"
   },
   {
    "duration": 911,
    "start_time": "2023-09-12T07:37:34.073Z"
   },
   {
    "duration": 517,
    "start_time": "2023-09-12T07:37:34.986Z"
   },
   {
    "duration": 210,
    "start_time": "2023-09-12T07:37:35.505Z"
   },
   {
    "duration": 544,
    "start_time": "2023-09-12T07:37:35.717Z"
   },
   {
    "duration": 31,
    "start_time": "2023-09-12T07:37:36.263Z"
   },
   {
    "duration": 38,
    "start_time": "2023-09-12T07:37:36.295Z"
   },
   {
    "duration": 58,
    "start_time": "2023-09-12T07:37:36.335Z"
   },
   {
    "duration": 616,
    "start_time": "2023-09-12T07:37:36.395Z"
   },
   {
    "duration": 744,
    "start_time": "2023-09-12T07:37:37.013Z"
   },
   {
    "duration": 27,
    "start_time": "2023-09-12T07:37:37.759Z"
   },
   {
    "duration": 103,
    "start_time": "2023-09-12T07:37:37.787Z"
   },
   {
    "duration": 2041,
    "start_time": "2023-09-12T07:37:37.892Z"
   },
   {
    "duration": 363,
    "start_time": "2023-09-12T07:37:39.937Z"
   },
   {
    "duration": 898,
    "start_time": "2023-09-12T07:37:40.302Z"
   },
   {
    "duration": 5,
    "start_time": "2023-09-12T07:37:41.202Z"
   },
   {
    "duration": 41,
    "start_time": "2023-09-12T07:37:41.209Z"
   },
   {
    "duration": 403,
    "start_time": "2023-09-12T07:37:41.251Z"
   },
   {
    "duration": 1549,
    "start_time": "2023-09-12T07:40:26.506Z"
   },
   {
    "duration": 931,
    "start_time": "2023-09-12T07:40:28.057Z"
   },
   {
    "duration": 461,
    "start_time": "2023-09-12T07:40:28.990Z"
   },
   {
    "duration": 214,
    "start_time": "2023-09-12T07:40:29.453Z"
   },
   {
    "duration": 443,
    "start_time": "2023-09-12T07:40:29.668Z"
   },
   {
    "duration": 41,
    "start_time": "2023-09-12T07:40:30.113Z"
   },
   {
    "duration": 17,
    "start_time": "2023-09-12T07:40:30.156Z"
   },
   {
    "duration": 85,
    "start_time": "2023-09-12T07:40:30.174Z"
   },
   {
    "duration": 618,
    "start_time": "2023-09-12T07:40:30.260Z"
   },
   {
    "duration": 742,
    "start_time": "2023-09-12T07:40:30.881Z"
   },
   {
    "duration": 32,
    "start_time": "2023-09-12T07:40:31.625Z"
   },
   {
    "duration": 21,
    "start_time": "2023-09-12T07:40:31.658Z"
   },
   {
    "duration": 2081,
    "start_time": "2023-09-12T07:40:31.681Z"
   },
   {
    "duration": 320,
    "start_time": "2023-09-12T07:40:33.763Z"
   },
   {
    "duration": 862,
    "start_time": "2023-09-12T07:40:34.084Z"
   },
   {
    "duration": 5,
    "start_time": "2023-09-12T07:40:34.948Z"
   },
   {
    "duration": 34,
    "start_time": "2023-09-12T07:40:34.954Z"
   },
   {
    "duration": 264,
    "start_time": "2023-09-12T07:40:34.989Z"
   },
   {
    "duration": 1571,
    "start_time": "2023-09-12T07:43:19.216Z"
   },
   {
    "duration": 957,
    "start_time": "2023-09-12T07:43:20.789Z"
   },
   {
    "duration": 449,
    "start_time": "2023-09-12T07:43:21.748Z"
   },
   {
    "duration": 254,
    "start_time": "2023-09-12T07:43:22.199Z"
   },
   {
    "duration": 436,
    "start_time": "2023-09-12T07:43:22.455Z"
   },
   {
    "duration": 31,
    "start_time": "2023-09-12T07:43:22.893Z"
   },
   {
    "duration": 35,
    "start_time": "2023-09-12T07:43:22.926Z"
   },
   {
    "duration": 66,
    "start_time": "2023-09-12T07:43:22.962Z"
   },
   {
    "duration": 614,
    "start_time": "2023-09-12T07:43:23.029Z"
   },
   {
    "duration": 765,
    "start_time": "2023-09-12T07:43:23.646Z"
   },
   {
    "duration": 35,
    "start_time": "2023-09-12T07:43:24.413Z"
   },
   {
    "duration": 4,
    "start_time": "2023-09-12T07:43:24.450Z"
   },
   {
    "duration": 2074,
    "start_time": "2023-09-12T07:43:24.456Z"
   },
   {
    "duration": 328,
    "start_time": "2023-09-12T07:43:26.532Z"
   },
   {
    "duration": 843,
    "start_time": "2023-09-12T07:43:26.862Z"
   },
   {
    "duration": 5,
    "start_time": "2023-09-12T07:43:27.706Z"
   },
   {
    "duration": 44,
    "start_time": "2023-09-12T07:43:27.713Z"
   },
   {
    "duration": 295,
    "start_time": "2023-09-12T07:43:27.758Z"
   },
   {
    "duration": 181269,
    "start_time": "2023-09-12T07:43:28.060Z"
   },
   {
    "duration": 0,
    "start_time": "2023-09-12T07:46:29.331Z"
   },
   {
    "duration": 140189,
    "start_time": "2023-09-12T07:47:09.869Z"
   },
   {
    "duration": 0,
    "start_time": "2023-09-12T08:58:30.560Z"
   },
   {
    "duration": 230,
    "start_time": "2023-09-12T09:01:56.732Z"
   },
   {
    "duration": 465,
    "start_time": "2023-09-12T09:05:02.483Z"
   },
   {
    "duration": 28,
    "start_time": "2023-09-12T09:06:12.142Z"
   },
   {
    "duration": 36,
    "start_time": "2023-09-12T09:06:39.436Z"
   },
   {
    "duration": 5,
    "start_time": "2023-09-12T09:06:51.980Z"
   },
   {
    "duration": 5,
    "start_time": "2023-09-12T09:07:03.662Z"
   },
   {
    "duration": 5,
    "start_time": "2023-09-12T09:15:02.126Z"
   },
   {
    "duration": 6,
    "start_time": "2023-09-12T09:16:09.491Z"
   },
   {
    "duration": 6,
    "start_time": "2023-09-12T09:16:25.703Z"
   },
   {
    "duration": 2008,
    "start_time": "2023-09-12T09:20:42.667Z"
   },
   {
    "duration": 2512,
    "start_time": "2023-09-12T09:20:55.301Z"
   },
   {
    "duration": 3010,
    "start_time": "2023-09-12T09:21:10.859Z"
   },
   {
    "duration": 2041,
    "start_time": "2023-09-12T09:21:36.893Z"
   },
   {
    "duration": 2525,
    "start_time": "2023-09-12T09:21:38.936Z"
   },
   {
    "duration": 2977,
    "start_time": "2023-09-12T09:21:41.463Z"
   },
   {
    "duration": 2930,
    "start_time": "2023-09-12T09:22:07.122Z"
   },
   {
    "duration": 4189,
    "start_time": "2023-09-12T09:22:39.196Z"
   },
   {
    "duration": 5521,
    "start_time": "2023-09-12T09:22:48.488Z"
   },
   {
    "duration": 6817,
    "start_time": "2023-09-12T09:22:59.672Z"
   },
   {
    "duration": 7982,
    "start_time": "2023-09-12T09:23:11.068Z"
   },
   {
    "duration": 9226,
    "start_time": "2023-09-12T09:23:23.917Z"
   },
   {
    "duration": 10627,
    "start_time": "2023-09-12T09:23:46.291Z"
   },
   {
    "duration": 12640,
    "start_time": "2023-09-12T09:24:02.956Z"
   },
   {
    "duration": 16778,
    "start_time": "2023-09-12T09:24:24.914Z"
   },
   {
    "duration": 346340,
    "start_time": "2023-09-12T09:25:05.921Z"
   },
   {
    "duration": 19722,
    "start_time": "2023-09-12T09:31:16.286Z"
   },
   {
    "duration": 23391,
    "start_time": "2023-09-12T09:31:41.520Z"
   },
   {
    "duration": 27510,
    "start_time": "2023-09-12T09:32:17.160Z"
   },
   {
    "duration": 31195,
    "start_time": "2023-09-12T09:32:53.746Z"
   },
   {
    "duration": 24832,
    "start_time": "2023-09-12T09:33:41.019Z"
   },
   {
    "duration": 22689,
    "start_time": "2023-09-12T09:34:33.973Z"
   },
   {
    "duration": 1247024,
    "start_time": "2023-09-12T09:39:32.417Z"
   },
   {
    "duration": 19049,
    "start_time": "2023-09-12T10:01:00.266Z"
   },
   {
    "duration": 1505,
    "start_time": "2023-09-12T10:01:39.306Z"
   },
   {
    "duration": 988,
    "start_time": "2023-09-12T10:01:40.814Z"
   },
   {
    "duration": 482,
    "start_time": "2023-09-12T10:01:41.804Z"
   },
   {
    "duration": 228,
    "start_time": "2023-09-12T10:01:42.288Z"
   },
   {
    "duration": 483,
    "start_time": "2023-09-12T10:01:42.518Z"
   },
   {
    "duration": 58,
    "start_time": "2023-09-12T10:01:43.003Z"
   },
   {
    "duration": 17,
    "start_time": "2023-09-12T10:01:43.062Z"
   },
   {
    "duration": 64,
    "start_time": "2023-09-12T10:01:43.081Z"
   },
   {
    "duration": 639,
    "start_time": "2023-09-12T10:01:43.146Z"
   },
   {
    "duration": 772,
    "start_time": "2023-09-12T10:01:43.788Z"
   },
   {
    "duration": 31,
    "start_time": "2023-09-12T10:01:44.562Z"
   },
   {
    "duration": 77,
    "start_time": "2023-09-12T10:01:44.594Z"
   },
   {
    "duration": 5,
    "start_time": "2023-09-12T10:01:44.672Z"
   },
   {
    "duration": 2118,
    "start_time": "2023-09-12T10:01:44.679Z"
   },
   {
    "duration": 337,
    "start_time": "2023-09-12T10:01:46.799Z"
   },
   {
    "duration": 889,
    "start_time": "2023-09-12T10:01:47.138Z"
   },
   {
    "duration": 5,
    "start_time": "2023-09-12T10:01:48.029Z"
   },
   {
    "duration": 44,
    "start_time": "2023-09-12T10:01:48.036Z"
   },
   {
    "duration": 275,
    "start_time": "2023-09-12T10:01:48.082Z"
   },
   {
    "duration": 1297612,
    "start_time": "2023-09-12T10:01:48.358Z"
   },
   {
    "duration": 28233,
    "start_time": "2023-09-12T10:23:25.972Z"
   },
   {
    "duration": 141,
    "start_time": "2023-09-12T12:09:04.160Z"
   },
   {
    "duration": 3936,
    "start_time": "2023-09-12T13:25:32.242Z"
   },
   {
    "duration": 1578,
    "start_time": "2023-09-12T13:26:00.426Z"
   },
   {
    "duration": 950,
    "start_time": "2023-09-12T13:26:02.008Z"
   },
   {
    "duration": 467,
    "start_time": "2023-09-12T13:26:02.960Z"
   },
   {
    "duration": 219,
    "start_time": "2023-09-12T13:26:03.429Z"
   },
   {
    "duration": 433,
    "start_time": "2023-09-12T13:26:03.649Z"
   },
   {
    "duration": 34,
    "start_time": "2023-09-12T13:26:04.083Z"
   },
   {
    "duration": 34,
    "start_time": "2023-09-12T13:26:04.119Z"
   },
   {
    "duration": 60,
    "start_time": "2023-09-12T13:26:04.154Z"
   },
   {
    "duration": 598,
    "start_time": "2023-09-12T13:26:04.216Z"
   },
   {
    "duration": 784,
    "start_time": "2023-09-12T13:26:04.817Z"
   },
   {
    "duration": 29,
    "start_time": "2023-09-12T13:26:05.603Z"
   },
   {
    "duration": 36,
    "start_time": "2023-09-12T13:26:05.647Z"
   },
   {
    "duration": 47,
    "start_time": "2023-09-12T13:26:05.685Z"
   },
   {
    "duration": 2024,
    "start_time": "2023-09-12T13:26:05.734Z"
   },
   {
    "duration": 340,
    "start_time": "2023-09-12T13:26:07.760Z"
   },
   {
    "duration": 874,
    "start_time": "2023-09-12T13:26:08.102Z"
   },
   {
    "duration": 5,
    "start_time": "2023-09-12T13:26:08.978Z"
   },
   {
    "duration": 62,
    "start_time": "2023-09-12T13:26:08.984Z"
   },
   {
    "duration": 209,
    "start_time": "2023-09-12T13:26:09.047Z"
   },
   {
    "duration": 1563,
    "start_time": "2023-09-12T13:36:46.920Z"
   },
   {
    "duration": 947,
    "start_time": "2023-09-12T13:36:48.485Z"
   },
   {
    "duration": 449,
    "start_time": "2023-09-12T13:36:49.433Z"
   },
   {
    "duration": 233,
    "start_time": "2023-09-12T13:36:49.884Z"
   },
   {
    "duration": 462,
    "start_time": "2023-09-12T13:36:50.119Z"
   },
   {
    "duration": 32,
    "start_time": "2023-09-12T13:36:50.583Z"
   },
   {
    "duration": 34,
    "start_time": "2023-09-12T13:36:50.616Z"
   },
   {
    "duration": 73,
    "start_time": "2023-09-12T13:36:50.652Z"
   },
   {
    "duration": 594,
    "start_time": "2023-09-12T13:36:50.726Z"
   },
   {
    "duration": 738,
    "start_time": "2023-09-12T13:36:51.322Z"
   },
   {
    "duration": 30,
    "start_time": "2023-09-12T13:36:52.062Z"
   },
   {
    "duration": 27,
    "start_time": "2023-09-12T13:36:52.093Z"
   },
   {
    "duration": 7,
    "start_time": "2023-09-12T13:36:52.146Z"
   },
   {
    "duration": 2032,
    "start_time": "2023-09-12T13:36:52.157Z"
   },
   {
    "duration": 326,
    "start_time": "2023-09-12T13:36:54.192Z"
   },
   {
    "duration": 935,
    "start_time": "2023-09-12T13:36:54.520Z"
   },
   {
    "duration": 5,
    "start_time": "2023-09-12T13:36:55.458Z"
   },
   {
    "duration": 45,
    "start_time": "2023-09-12T13:36:55.465Z"
   },
   {
    "duration": 240,
    "start_time": "2023-09-12T13:36:55.512Z"
   },
   {
    "duration": 22632,
    "start_time": "2023-09-12T13:36:55.754Z"
   },
   {
    "duration": 3900,
    "start_time": "2023-09-12T13:37:18.388Z"
   },
   {
    "duration": 481,
    "start_time": "2023-09-12T13:38:08.114Z"
   },
   {
    "duration": 45725,
    "start_time": "2023-09-12T13:41:33.383Z"
   },
   {
    "duration": 940,
    "start_time": "2023-09-12T13:44:29.763Z"
   },
   {
    "duration": 1376,
    "start_time": "2023-09-12T13:44:35.186Z"
   },
   {
    "duration": 1777,
    "start_time": "2023-09-12T13:44:39.528Z"
   },
   {
    "duration": 2175,
    "start_time": "2023-09-12T13:44:44.523Z"
   },
   {
    "duration": 2531,
    "start_time": "2023-09-12T13:44:49.732Z"
   },
   {
    "duration": 2900,
    "start_time": "2023-09-12T13:44:54.839Z"
   },
   {
    "duration": 3237,
    "start_time": "2023-09-12T13:45:01.444Z"
   },
   {
    "duration": 3743,
    "start_time": "2023-09-12T13:45:09.015Z"
   },
   {
    "duration": 3955,
    "start_time": "2023-09-12T13:45:15.394Z"
   },
   {
    "duration": 45766,
    "start_time": "2023-09-12T13:46:26.438Z"
   },
   {
    "duration": 45659,
    "start_time": "2023-09-12T13:47:41.117Z"
   },
   {
    "duration": 45610,
    "start_time": "2023-09-12T13:48:46.109Z"
   },
   {
    "duration": 68098,
    "start_time": "2023-09-12T13:50:21.937Z"
   },
   {
    "duration": 90772,
    "start_time": "2023-09-12T13:51:50.296Z"
   },
   {
    "duration": 113808,
    "start_time": "2023-09-12T13:53:36.452Z"
   },
   {
    "duration": 135911,
    "start_time": "2023-09-12T13:55:49.811Z"
   },
   {
    "duration": 160136,
    "start_time": "2023-09-12T13:58:23.758Z"
   },
   {
    "duration": 182181,
    "start_time": "2023-09-12T14:01:22.467Z"
   },
   {
    "duration": 206213,
    "start_time": "2023-09-12T14:04:38.063Z"
   },
   {
    "duration": 226340,
    "start_time": "2023-09-12T14:08:22.200Z"
   },
   {
    "duration": 147,
    "start_time": "2023-09-12T14:16:45.814Z"
   },
   {
    "duration": 5,
    "start_time": "2023-09-12T14:17:58.096Z"
   },
   {
    "duration": 4,
    "start_time": "2023-09-12T14:18:04.136Z"
   },
   {
    "duration": 27376,
    "start_time": "2023-09-12T14:18:24.330Z"
   },
   {
    "duration": 4,
    "start_time": "2023-09-12T14:24:32.853Z"
   },
   {
    "duration": 4,
    "start_time": "2023-09-12T14:24:41.087Z"
   },
   {
    "duration": 27138,
    "start_time": "2023-09-12T14:24:42.448Z"
   },
   {
    "duration": 6,
    "start_time": "2023-09-12T14:42:42.373Z"
   },
   {
    "duration": 147,
    "start_time": "2023-09-12T14:44:51.738Z"
   },
   {
    "duration": 148,
    "start_time": "2023-09-12T14:45:28.019Z"
   },
   {
    "duration": 9,
    "start_time": "2023-09-12T14:46:16.340Z"
   },
   {
    "duration": 3,
    "start_time": "2023-09-12T14:53:18.569Z"
   },
   {
    "duration": 130,
    "start_time": "2023-09-12T15:03:22.927Z"
   },
   {
    "duration": 23,
    "start_time": "2023-09-12T15:03:46.068Z"
   },
   {
    "duration": 39,
    "start_time": "2023-09-12T15:03:59.962Z"
   },
   {
    "duration": 30,
    "start_time": "2023-09-12T15:06:04.254Z"
   },
   {
    "duration": 40,
    "start_time": "2023-09-12T15:08:43.725Z"
   },
   {
    "duration": 39,
    "start_time": "2023-09-12T15:08:55.683Z"
   },
   {
    "duration": 17,
    "start_time": "2023-09-12T15:10:14.942Z"
   },
   {
    "duration": 48,
    "start_time": "2023-09-12T15:10:53.428Z"
   },
   {
    "duration": 53,
    "start_time": "2023-09-12T15:11:12.104Z"
   },
   {
    "duration": 48,
    "start_time": "2023-09-12T15:11:43.570Z"
   },
   {
    "duration": 10,
    "start_time": "2023-09-12T15:36:47.357Z"
   },
   {
    "duration": 10,
    "start_time": "2023-09-12T15:37:00.329Z"
   },
   {
    "duration": 8,
    "start_time": "2023-09-12T15:37:12.061Z"
   },
   {
    "duration": 6,
    "start_time": "2023-09-12T15:37:52.203Z"
   },
   {
    "duration": 12,
    "start_time": "2023-09-12T15:41:06.302Z"
   },
   {
    "duration": 14,
    "start_time": "2023-09-12T15:41:34.112Z"
   },
   {
    "duration": 11,
    "start_time": "2023-09-12T15:43:42.725Z"
   },
   {
    "duration": 12,
    "start_time": "2023-09-12T15:43:51.365Z"
   },
   {
    "duration": 11,
    "start_time": "2023-09-12T15:44:07.717Z"
   },
   {
    "duration": 10,
    "start_time": "2023-09-12T15:44:29.312Z"
   },
   {
    "duration": 1298,
    "start_time": "2023-09-12T15:44:47.795Z"
   },
   {
    "duration": 9,
    "start_time": "2023-09-12T15:49:27.926Z"
   },
   {
    "duration": 10,
    "start_time": "2023-09-12T15:49:42.956Z"
   },
   {
    "duration": 12,
    "start_time": "2023-09-12T15:51:20.100Z"
   },
   {
    "duration": 10,
    "start_time": "2023-09-12T15:52:14.529Z"
   },
   {
    "duration": 10,
    "start_time": "2023-09-12T15:52:14.697Z"
   },
   {
    "duration": 10,
    "start_time": "2023-09-12T15:52:17.982Z"
   },
   {
    "duration": 11,
    "start_time": "2023-09-12T15:53:39.704Z"
   },
   {
    "duration": 10,
    "start_time": "2023-09-12T15:53:45.767Z"
   },
   {
    "duration": 13,
    "start_time": "2023-09-12T15:53:46.578Z"
   },
   {
    "duration": 12,
    "start_time": "2023-09-12T15:54:05.906Z"
   },
   {
    "duration": 11,
    "start_time": "2023-09-12T16:02:08.301Z"
   },
   {
    "duration": 1635,
    "start_time": "2023-09-12T16:02:15.947Z"
   },
   {
    "duration": 954,
    "start_time": "2023-09-12T16:02:17.584Z"
   },
   {
    "duration": 446,
    "start_time": "2023-09-12T16:02:18.539Z"
   },
   {
    "duration": 224,
    "start_time": "2023-09-12T16:02:18.987Z"
   },
   {
    "duration": 440,
    "start_time": "2023-09-12T16:02:19.213Z"
   },
   {
    "duration": 33,
    "start_time": "2023-09-12T16:02:19.655Z"
   },
   {
    "duration": 15,
    "start_time": "2023-09-12T16:02:19.690Z"
   },
   {
    "duration": 78,
    "start_time": "2023-09-12T16:02:19.707Z"
   },
   {
    "duration": 627,
    "start_time": "2023-09-12T16:02:19.787Z"
   },
   {
    "duration": 756,
    "start_time": "2023-09-12T16:02:20.416Z"
   },
   {
    "duration": 29,
    "start_time": "2023-09-12T16:02:21.174Z"
   },
   {
    "duration": 9,
    "start_time": "2023-09-12T16:02:21.205Z"
   },
   {
    "duration": 50,
    "start_time": "2023-09-12T16:02:21.216Z"
   },
   {
    "duration": 5,
    "start_time": "2023-09-12T16:02:21.268Z"
   },
   {
    "duration": 2123,
    "start_time": "2023-09-12T16:02:21.275Z"
   },
   {
    "duration": 335,
    "start_time": "2023-09-12T16:02:23.399Z"
   },
   {
    "duration": 870,
    "start_time": "2023-09-12T16:02:23.735Z"
   },
   {
    "duration": 6,
    "start_time": "2023-09-12T16:02:24.606Z"
   },
   {
    "duration": 21,
    "start_time": "2023-09-12T16:02:24.614Z"
   },
   {
    "duration": 45,
    "start_time": "2023-09-12T16:02:24.638Z"
   },
   {
    "duration": 392,
    "start_time": "2023-09-12T16:02:24.685Z"
   },
   {
    "duration": 0,
    "start_time": "2023-09-12T16:02:25.079Z"
   },
   {
    "duration": 0,
    "start_time": "2023-09-12T16:02:25.080Z"
   },
   {
    "duration": 0,
    "start_time": "2023-09-12T16:02:25.081Z"
   },
   {
    "duration": 0,
    "start_time": "2023-09-12T16:02:25.082Z"
   },
   {
    "duration": 0,
    "start_time": "2023-09-12T16:02:25.083Z"
   },
   {
    "duration": 0,
    "start_time": "2023-09-12T16:02:25.085Z"
   },
   {
    "duration": 0,
    "start_time": "2023-09-12T16:02:25.086Z"
   },
   {
    "duration": 0,
    "start_time": "2023-09-12T16:02:25.087Z"
   },
   {
    "duration": 195,
    "start_time": "2023-09-12T16:03:23.656Z"
   },
   {
    "duration": 1738,
    "start_time": "2023-09-12T16:03:30.095Z"
   },
   {
    "duration": 967,
    "start_time": "2023-09-12T16:03:31.835Z"
   },
   {
    "duration": 456,
    "start_time": "2023-09-12T16:03:32.804Z"
   },
   {
    "duration": 217,
    "start_time": "2023-09-12T16:03:33.262Z"
   },
   {
    "duration": 441,
    "start_time": "2023-09-12T16:03:33.481Z"
   },
   {
    "duration": 51,
    "start_time": "2023-09-12T16:03:33.924Z"
   },
   {
    "duration": 24,
    "start_time": "2023-09-12T16:03:33.977Z"
   },
   {
    "duration": 97,
    "start_time": "2023-09-12T16:03:34.003Z"
   },
   {
    "duration": 635,
    "start_time": "2023-09-12T16:03:34.102Z"
   },
   {
    "duration": 799,
    "start_time": "2023-09-12T16:03:34.740Z"
   },
   {
    "duration": 31,
    "start_time": "2023-09-12T16:03:35.546Z"
   },
   {
    "duration": 26,
    "start_time": "2023-09-12T16:03:35.578Z"
   },
   {
    "duration": 52,
    "start_time": "2023-09-12T16:03:35.606Z"
   },
   {
    "duration": 7,
    "start_time": "2023-09-12T16:03:35.660Z"
   },
   {
    "duration": 2048,
    "start_time": "2023-09-12T16:03:35.669Z"
   },
   {
    "duration": 324,
    "start_time": "2023-09-12T16:03:37.720Z"
   },
   {
    "duration": 855,
    "start_time": "2023-09-12T16:03:38.045Z"
   },
   {
    "duration": 4,
    "start_time": "2023-09-12T16:03:38.902Z"
   },
   {
    "duration": 21,
    "start_time": "2023-09-12T16:03:38.908Z"
   },
   {
    "duration": 47,
    "start_time": "2023-09-12T16:03:38.931Z"
   },
   {
    "duration": 180,
    "start_time": "2023-09-12T16:03:38.980Z"
   },
   {
    "duration": 1102,
    "start_time": "2023-09-12T16:03:39.247Z"
   },
   {
    "duration": 9,
    "start_time": "2023-09-12T16:03:40.351Z"
   },
   {
    "duration": 27808,
    "start_time": "2023-09-12T16:03:40.362Z"
   },
   {
    "duration": 55,
    "start_time": "2023-09-12T16:04:08.172Z"
   },
   {
    "duration": 30,
    "start_time": "2023-09-12T16:04:08.229Z"
   },
   {
    "duration": 134,
    "start_time": "2023-09-12T16:04:08.348Z"
   },
   {
    "duration": 9,
    "start_time": "2023-09-12T16:04:08.486Z"
   },
   {
    "duration": 16,
    "start_time": "2023-09-12T16:04:08.497Z"
   },
   {
    "duration": 107802,
    "start_time": "2023-09-12T16:04:34.745Z"
   },
   {
    "duration": 27742,
    "start_time": "2023-09-12T16:08:19.051Z"
   },
   {
    "duration": 1127,
    "start_time": "2023-09-12T16:39:14.352Z"
   },
   {
    "duration": 1042,
    "start_time": "2023-09-12T16:39:18.706Z"
   },
   {
    "duration": 107224,
    "start_time": "2023-09-12T16:39:30.609Z"
   },
   {
    "duration": 52,
    "start_time": "2023-09-12T16:42:24.087Z"
   },
   {
    "duration": 27805,
    "start_time": "2023-09-12T16:43:22.150Z"
   },
   {
    "duration": 211,
    "start_time": "2023-09-12T16:44:00.939Z"
   },
   {
    "duration": 15,
    "start_time": "2023-09-12T16:44:21.088Z"
   },
   {
    "duration": 50,
    "start_time": "2023-09-12T16:44:26.758Z"
   },
   {
    "duration": 84,
    "start_time": "2023-09-12T16:44:34.329Z"
   },
   {
    "duration": 12,
    "start_time": "2023-09-12T16:45:06.506Z"
   },
   {
    "duration": 1516,
    "start_time": "2023-09-12T17:05:07.763Z"
   },
   {
    "duration": 927,
    "start_time": "2023-09-12T17:05:09.281Z"
   },
   {
    "duration": 451,
    "start_time": "2023-09-12T17:05:10.210Z"
   },
   {
    "duration": 214,
    "start_time": "2023-09-12T17:05:10.663Z"
   },
   {
    "duration": 448,
    "start_time": "2023-09-12T17:05:10.879Z"
   },
   {
    "duration": 41,
    "start_time": "2023-09-12T17:05:11.329Z"
   },
   {
    "duration": 16,
    "start_time": "2023-09-12T17:05:11.371Z"
   },
   {
    "duration": 72,
    "start_time": "2023-09-12T17:05:11.389Z"
   },
   {
    "duration": 596,
    "start_time": "2023-09-12T17:05:11.462Z"
   },
   {
    "duration": 757,
    "start_time": "2023-09-12T17:05:12.060Z"
   },
   {
    "duration": 36,
    "start_time": "2023-09-12T17:05:12.818Z"
   },
   {
    "duration": 10,
    "start_time": "2023-09-12T17:05:12.856Z"
   },
   {
    "duration": 24,
    "start_time": "2023-09-12T17:05:12.867Z"
   },
   {
    "duration": 5,
    "start_time": "2023-09-12T17:05:12.894Z"
   },
   {
    "duration": 1977,
    "start_time": "2023-09-12T17:05:12.900Z"
   },
   {
    "duration": 385,
    "start_time": "2023-09-12T17:05:14.879Z"
   },
   {
    "duration": 935,
    "start_time": "2023-09-12T17:05:15.266Z"
   },
   {
    "duration": 6,
    "start_time": "2023-09-12T17:05:16.203Z"
   },
   {
    "duration": 42,
    "start_time": "2023-09-12T17:05:16.210Z"
   },
   {
    "duration": 48,
    "start_time": "2023-09-12T17:05:16.254Z"
   },
   {
    "duration": 254,
    "start_time": "2023-09-12T17:05:16.304Z"
   },
   {
    "duration": 988,
    "start_time": "2023-09-12T17:05:16.560Z"
   },
   {
    "duration": 96,
    "start_time": "2023-09-12T17:05:17.551Z"
   },
   {
    "duration": 27259,
    "start_time": "2023-09-12T17:05:17.649Z"
   },
   {
    "duration": 106780,
    "start_time": "2023-09-12T17:05:44.910Z"
   },
   {
    "duration": 43,
    "start_time": "2023-09-12T17:07:31.692Z"
   },
   {
    "duration": 103,
    "start_time": "2023-09-12T17:07:31.747Z"
   },
   {
    "duration": 139,
    "start_time": "2023-09-12T17:07:31.853Z"
   },
   {
    "duration": 22,
    "start_time": "2023-09-12T17:07:31.994Z"
   },
   {
    "duration": 41,
    "start_time": "2023-09-12T17:07:32.018Z"
   },
   {
    "duration": 43,
    "start_time": "2023-09-13T04:54:08.609Z"
   },
   {
    "duration": 1565,
    "start_time": "2023-09-13T04:58:39.543Z"
   },
   {
    "duration": 3061,
    "start_time": "2023-09-13T04:58:41.110Z"
   },
   {
    "duration": 381,
    "start_time": "2023-09-13T04:58:44.173Z"
   },
   {
    "duration": 189,
    "start_time": "2023-09-13T04:58:44.556Z"
   },
   {
    "duration": 354,
    "start_time": "2023-09-13T04:58:44.747Z"
   },
   {
    "duration": 26,
    "start_time": "2023-09-13T04:58:45.103Z"
   },
   {
    "duration": 25,
    "start_time": "2023-09-13T04:58:45.131Z"
   },
   {
    "duration": 44,
    "start_time": "2023-09-13T04:58:45.158Z"
   },
   {
    "duration": 515,
    "start_time": "2023-09-13T04:58:45.204Z"
   },
   {
    "duration": 619,
    "start_time": "2023-09-13T04:58:45.721Z"
   },
   {
    "duration": 25,
    "start_time": "2023-09-13T04:58:46.341Z"
   },
   {
    "duration": 8,
    "start_time": "2023-09-13T04:58:46.367Z"
   },
   {
    "duration": 29,
    "start_time": "2023-09-13T04:58:46.376Z"
   },
   {
    "duration": 4,
    "start_time": "2023-09-13T04:58:46.406Z"
   },
   {
    "duration": 1818,
    "start_time": "2023-09-13T04:58:46.412Z"
   },
   {
    "duration": 252,
    "start_time": "2023-09-13T04:58:48.231Z"
   },
   {
    "duration": 737,
    "start_time": "2023-09-13T04:58:48.485Z"
   },
   {
    "duration": 5,
    "start_time": "2023-09-13T04:58:49.224Z"
   },
   {
    "duration": 14,
    "start_time": "2023-09-13T04:58:49.230Z"
   },
   {
    "duration": 30,
    "start_time": "2023-09-13T04:58:49.246Z"
   },
   {
    "duration": 274,
    "start_time": "2023-09-13T04:58:49.278Z"
   },
   {
    "duration": 1000,
    "start_time": "2023-09-13T04:58:49.554Z"
   },
   {
    "duration": 5,
    "start_time": "2023-09-13T04:58:50.647Z"
   },
   {
    "duration": 23346,
    "start_time": "2023-09-13T04:58:50.654Z"
   },
   {
    "duration": 90141,
    "start_time": "2023-09-13T04:59:14.001Z"
   },
   {
    "duration": 43,
    "start_time": "2023-09-13T05:00:44.144Z"
   },
   {
    "duration": 61,
    "start_time": "2023-09-13T05:00:44.189Z"
   },
   {
    "duration": 118,
    "start_time": "2023-09-13T05:00:44.253Z"
   },
   {
    "duration": 9,
    "start_time": "2023-09-13T05:00:44.373Z"
   },
   {
    "duration": 10,
    "start_time": "2023-09-13T05:00:44.383Z"
   },
   {
    "duration": 409,
    "start_time": "2023-09-13T05:08:15.223Z"
   },
   {
    "duration": 630,
    "start_time": "2023-09-13T05:14:21.415Z"
   },
   {
    "duration": 616,
    "start_time": "2023-09-13T05:14:48.404Z"
   },
   {
    "duration": 737,
    "start_time": "2023-09-13T05:16:28.114Z"
   },
   {
    "duration": 668,
    "start_time": "2023-09-13T05:17:15.061Z"
   },
   {
    "duration": 710,
    "start_time": "2023-09-13T05:18:10.457Z"
   },
   {
    "duration": 25,
    "start_time": "2023-09-13T05:19:43.473Z"
   },
   {
    "duration": 30,
    "start_time": "2023-09-13T05:20:09.034Z"
   },
   {
    "duration": 4,
    "start_time": "2023-09-13T05:27:48.006Z"
   },
   {
    "duration": 1313,
    "start_time": "2023-09-13T05:58:32.473Z"
   },
   {
    "duration": 841,
    "start_time": "2023-09-13T05:58:33.788Z"
   },
   {
    "duration": 363,
    "start_time": "2023-09-13T05:58:34.630Z"
   },
   {
    "duration": 182,
    "start_time": "2023-09-13T05:58:34.995Z"
   },
   {
    "duration": 367,
    "start_time": "2023-09-13T05:58:35.178Z"
   },
   {
    "duration": 24,
    "start_time": "2023-09-13T05:58:35.546Z"
   },
   {
    "duration": 13,
    "start_time": "2023-09-13T05:58:35.571Z"
   },
   {
    "duration": 63,
    "start_time": "2023-09-13T05:58:35.586Z"
   },
   {
    "duration": 502,
    "start_time": "2023-09-13T05:58:35.651Z"
   },
   {
    "duration": 632,
    "start_time": "2023-09-13T05:58:36.155Z"
   },
   {
    "duration": 26,
    "start_time": "2023-09-13T05:58:36.788Z"
   },
   {
    "duration": 9,
    "start_time": "2023-09-13T05:58:36.815Z"
   },
   {
    "duration": 20,
    "start_time": "2023-09-13T05:58:36.844Z"
   },
   {
    "duration": 4,
    "start_time": "2023-09-13T05:58:36.866Z"
   },
   {
    "duration": 1818,
    "start_time": "2023-09-13T05:58:36.872Z"
   },
   {
    "duration": 375,
    "start_time": "2023-09-13T05:58:38.692Z"
   },
   {
    "duration": 743,
    "start_time": "2023-09-13T05:58:39.069Z"
   },
   {
    "duration": 616,
    "start_time": "2023-09-13T05:58:39.814Z"
   },
   {
    "duration": 4,
    "start_time": "2023-09-13T05:58:40.432Z"
   },
   {
    "duration": 6,
    "start_time": "2023-09-13T05:58:40.443Z"
   },
   {
    "duration": 106,
    "start_time": "2023-09-13T05:58:40.450Z"
   },
   {
    "duration": 0,
    "start_time": "2023-09-13T05:58:40.558Z"
   },
   {
    "duration": 0,
    "start_time": "2023-09-13T05:58:40.559Z"
   },
   {
    "duration": 0,
    "start_time": "2023-09-13T05:58:40.561Z"
   },
   {
    "duration": 0,
    "start_time": "2023-09-13T05:58:40.562Z"
   },
   {
    "duration": 0,
    "start_time": "2023-09-13T05:58:40.563Z"
   },
   {
    "duration": 0,
    "start_time": "2023-09-13T05:58:40.564Z"
   },
   {
    "duration": 0,
    "start_time": "2023-09-13T05:58:40.565Z"
   },
   {
    "duration": 0,
    "start_time": "2023-09-13T05:58:40.566Z"
   },
   {
    "duration": 0,
    "start_time": "2023-09-13T05:58:40.567Z"
   },
   {
    "duration": 0,
    "start_time": "2023-09-13T05:58:40.568Z"
   },
   {
    "duration": 0,
    "start_time": "2023-09-13T05:58:40.569Z"
   },
   {
    "duration": 1380,
    "start_time": "2023-09-13T06:03:59.148Z"
   },
   {
    "duration": 786,
    "start_time": "2023-09-13T06:04:00.530Z"
   },
   {
    "duration": 365,
    "start_time": "2023-09-13T06:04:01.318Z"
   },
   {
    "duration": 176,
    "start_time": "2023-09-13T06:04:01.685Z"
   },
   {
    "duration": 369,
    "start_time": "2023-09-13T06:04:01.863Z"
   },
   {
    "duration": 30,
    "start_time": "2023-09-13T06:04:02.245Z"
   },
   {
    "duration": 17,
    "start_time": "2023-09-13T06:04:02.276Z"
   },
   {
    "duration": 78,
    "start_time": "2023-09-13T06:04:02.295Z"
   },
   {
    "duration": 519,
    "start_time": "2023-09-13T06:04:02.375Z"
   },
   {
    "duration": 627,
    "start_time": "2023-09-13T06:04:02.897Z"
   },
   {
    "duration": 34,
    "start_time": "2023-09-13T06:04:03.526Z"
   },
   {
    "duration": 9,
    "start_time": "2023-09-13T06:04:03.562Z"
   },
   {
    "duration": 23,
    "start_time": "2023-09-13T06:04:03.572Z"
   },
   {
    "duration": 4,
    "start_time": "2023-09-13T06:04:03.596Z"
   },
   {
    "duration": 1733,
    "start_time": "2023-09-13T06:04:03.601Z"
   },
   {
    "duration": 397,
    "start_time": "2023-09-13T06:04:05.335Z"
   },
   {
    "duration": 686,
    "start_time": "2023-09-13T06:04:05.733Z"
   },
   {
    "duration": 598,
    "start_time": "2023-09-13T06:04:06.421Z"
   },
   {
    "duration": 4,
    "start_time": "2023-09-13T06:04:07.021Z"
   },
   {
    "duration": 9,
    "start_time": "2023-09-13T06:04:07.026Z"
   },
   {
    "duration": 0,
    "start_time": "2023-09-13T06:04:39.566Z"
   },
   {
    "duration": 0,
    "start_time": "2023-09-13T06:04:39.567Z"
   },
   {
    "duration": 0,
    "start_time": "2023-09-13T06:04:39.568Z"
   },
   {
    "duration": 0,
    "start_time": "2023-09-13T06:04:39.569Z"
   },
   {
    "duration": 0,
    "start_time": "2023-09-13T06:04:39.570Z"
   },
   {
    "duration": 0,
    "start_time": "2023-09-13T06:04:39.571Z"
   },
   {
    "duration": 0,
    "start_time": "2023-09-13T06:04:39.572Z"
   },
   {
    "duration": 0,
    "start_time": "2023-09-13T06:04:39.574Z"
   },
   {
    "duration": 0,
    "start_time": "2023-09-13T06:04:39.575Z"
   },
   {
    "duration": 0,
    "start_time": "2023-09-13T06:04:39.576Z"
   },
   {
    "duration": 0,
    "start_time": "2023-09-13T06:04:39.577Z"
   },
   {
    "duration": 0,
    "start_time": "2023-09-13T06:04:39.579Z"
   },
   {
    "duration": 2593,
    "start_time": "2023-09-13T06:04:41.188Z"
   },
   {
    "duration": 1344,
    "start_time": "2023-09-13T06:04:46.892Z"
   },
   {
    "duration": 817,
    "start_time": "2023-09-13T06:04:48.238Z"
   },
   {
    "duration": 408,
    "start_time": "2023-09-13T06:04:49.057Z"
   },
   {
    "duration": 204,
    "start_time": "2023-09-13T06:04:49.467Z"
   },
   {
    "duration": 380,
    "start_time": "2023-09-13T06:04:49.673Z"
   },
   {
    "duration": 27,
    "start_time": "2023-09-13T06:04:50.054Z"
   },
   {
    "duration": 13,
    "start_time": "2023-09-13T06:04:50.083Z"
   },
   {
    "duration": 71,
    "start_time": "2023-09-13T06:04:50.097Z"
   },
   {
    "duration": 500,
    "start_time": "2023-09-13T06:04:50.169Z"
   },
   {
    "duration": 673,
    "start_time": "2023-09-13T06:04:50.671Z"
   },
   {
    "duration": 24,
    "start_time": "2023-09-13T06:04:51.346Z"
   },
   {
    "duration": 8,
    "start_time": "2023-09-13T06:04:51.371Z"
   },
   {
    "duration": 24,
    "start_time": "2023-09-13T06:04:51.381Z"
   },
   {
    "duration": 4,
    "start_time": "2023-09-13T06:04:51.407Z"
   },
   {
    "duration": 1874,
    "start_time": "2023-09-13T06:04:51.412Z"
   },
   {
    "duration": 446,
    "start_time": "2023-09-13T06:04:53.288Z"
   },
   {
    "duration": 837,
    "start_time": "2023-09-13T06:04:53.735Z"
   },
   {
    "duration": 673,
    "start_time": "2023-09-13T06:04:54.574Z"
   },
   {
    "duration": 4,
    "start_time": "2023-09-13T06:04:55.249Z"
   },
   {
    "duration": 5,
    "start_time": "2023-09-13T06:04:55.254Z"
   },
   {
    "duration": 2817,
    "start_time": "2023-09-13T06:04:55.261Z"
   },
   {
    "duration": 16,
    "start_time": "2023-09-13T06:04:58.080Z"
   },
   {
    "duration": 117,
    "start_time": "2023-09-13T06:04:58.098Z"
   },
   {
    "duration": 0,
    "start_time": "2023-09-13T06:04:58.217Z"
   },
   {
    "duration": 0,
    "start_time": "2023-09-13T06:04:58.219Z"
   },
   {
    "duration": 0,
    "start_time": "2023-09-13T06:04:58.220Z"
   },
   {
    "duration": 0,
    "start_time": "2023-09-13T06:04:58.221Z"
   },
   {
    "duration": 0,
    "start_time": "2023-09-13T06:04:58.222Z"
   },
   {
    "duration": 0,
    "start_time": "2023-09-13T06:04:58.223Z"
   },
   {
    "duration": 0,
    "start_time": "2023-09-13T06:04:58.224Z"
   },
   {
    "duration": 0,
    "start_time": "2023-09-13T06:04:58.225Z"
   },
   {
    "duration": 0,
    "start_time": "2023-09-13T06:04:58.226Z"
   },
   {
    "duration": 10,
    "start_time": "2023-09-13T06:07:35.840Z"
   },
   {
    "duration": 88,
    "start_time": "2023-09-13T06:08:07.831Z"
   },
   {
    "duration": 3317,
    "start_time": "2023-09-13T06:08:30.871Z"
   },
   {
    "duration": 10,
    "start_time": "2023-09-13T06:11:03.030Z"
   },
   {
    "duration": 4865,
    "start_time": "2023-09-13T06:11:51.068Z"
   },
   {
    "duration": 5,
    "start_time": "2023-09-13T06:12:38.909Z"
   },
   {
    "duration": 238,
    "start_time": "2023-09-13T06:12:38.915Z"
   },
   {
    "duration": 10,
    "start_time": "2023-09-13T06:12:42.064Z"
   },
   {
    "duration": 5371,
    "start_time": "2023-09-13T06:12:45.563Z"
   },
   {
    "duration": 5413,
    "start_time": "2023-09-13T06:12:59.940Z"
   },
   {
    "duration": 1393,
    "start_time": "2023-09-13T06:31:08.106Z"
   },
   {
    "duration": 846,
    "start_time": "2023-09-13T06:31:09.501Z"
   },
   {
    "duration": 389,
    "start_time": "2023-09-13T06:31:10.348Z"
   },
   {
    "duration": 182,
    "start_time": "2023-09-13T06:31:10.744Z"
   },
   {
    "duration": 431,
    "start_time": "2023-09-13T06:31:10.927Z"
   },
   {
    "duration": 29,
    "start_time": "2023-09-13T06:31:11.360Z"
   },
   {
    "duration": 14,
    "start_time": "2023-09-13T06:31:11.391Z"
   },
   {
    "duration": 79,
    "start_time": "2023-09-13T06:31:11.406Z"
   },
   {
    "duration": 525,
    "start_time": "2023-09-13T06:31:11.487Z"
   },
   {
    "duration": 634,
    "start_time": "2023-09-13T06:31:12.015Z"
   },
   {
    "duration": 24,
    "start_time": "2023-09-13T06:31:12.651Z"
   },
   {
    "duration": 8,
    "start_time": "2023-09-13T06:31:12.676Z"
   },
   {
    "duration": 48,
    "start_time": "2023-09-13T06:31:12.685Z"
   },
   {
    "duration": 4,
    "start_time": "2023-09-13T06:31:12.734Z"
   },
   {
    "duration": 1763,
    "start_time": "2023-09-13T06:31:12.743Z"
   },
   {
    "duration": 424,
    "start_time": "2023-09-13T06:31:14.507Z"
   },
   {
    "duration": 752,
    "start_time": "2023-09-13T06:31:14.933Z"
   },
   {
    "duration": 706,
    "start_time": "2023-09-13T06:31:15.687Z"
   },
   {
    "duration": 4,
    "start_time": "2023-09-13T06:31:16.395Z"
   },
   {
    "duration": 9,
    "start_time": "2023-09-13T06:31:16.400Z"
   },
   {
    "duration": 24,
    "start_time": "2023-09-13T06:31:16.411Z"
   },
   {
    "duration": 90666,
    "start_time": "2023-09-13T06:31:16.436Z"
   },
   {
    "duration": 0,
    "start_time": "2023-09-13T06:32:47.104Z"
   },
   {
    "duration": 0,
    "start_time": "2023-09-13T06:32:47.105Z"
   },
   {
    "duration": 0,
    "start_time": "2023-09-13T06:32:47.106Z"
   },
   {
    "duration": 0,
    "start_time": "2023-09-13T06:32:47.107Z"
   },
   {
    "duration": 0,
    "start_time": "2023-09-13T06:32:47.109Z"
   },
   {
    "duration": 0,
    "start_time": "2023-09-13T06:32:47.109Z"
   },
   {
    "duration": 0,
    "start_time": "2023-09-13T06:32:47.110Z"
   },
   {
    "duration": 0,
    "start_time": "2023-09-13T06:32:47.112Z"
   },
   {
    "duration": 0,
    "start_time": "2023-09-13T06:32:47.113Z"
   },
   {
    "duration": 0,
    "start_time": "2023-09-13T06:32:47.114Z"
   },
   {
    "duration": 0,
    "start_time": "2023-09-13T06:32:47.115Z"
   },
   {
    "duration": 0,
    "start_time": "2023-09-13T06:32:47.117Z"
   },
   {
    "duration": 12,
    "start_time": "2023-09-13T06:32:49.083Z"
   },
   {
    "duration": 142838,
    "start_time": "2023-09-13T06:32:53.539Z"
   },
   {
    "duration": 0,
    "start_time": "2023-09-13T06:35:16.380Z"
   },
   {
    "duration": 17,
    "start_time": "2023-09-13T06:35:17.451Z"
   },
   {
    "duration": 13,
    "start_time": "2023-09-13T06:35:27.092Z"
   },
   {
    "duration": 13,
    "start_time": "2023-09-13T06:35:46.314Z"
   },
   {
    "duration": 63888,
    "start_time": "2023-09-13T06:36:01.518Z"
   },
   {
    "duration": 0,
    "start_time": "2023-09-13T06:37:05.408Z"
   },
   {
    "duration": 4,
    "start_time": "2023-09-13T06:37:06.183Z"
   },
   {
    "duration": 3,
    "start_time": "2023-09-13T06:37:06.814Z"
   },
   {
    "duration": 10,
    "start_time": "2023-09-13T06:37:08.591Z"
   },
   {
    "duration": 1454,
    "start_time": "2023-09-13T06:37:21.144Z"
   },
   {
    "duration": 893,
    "start_time": "2023-09-13T06:37:22.599Z"
   },
   {
    "duration": 407,
    "start_time": "2023-09-13T06:37:23.494Z"
   },
   {
    "duration": 217,
    "start_time": "2023-09-13T06:37:23.904Z"
   },
   {
    "duration": 455,
    "start_time": "2023-09-13T06:37:24.123Z"
   },
   {
    "duration": 27,
    "start_time": "2023-09-13T06:37:24.580Z"
   },
   {
    "duration": 13,
    "start_time": "2023-09-13T06:37:24.608Z"
   },
   {
    "duration": 190,
    "start_time": "2023-09-13T06:37:24.622Z"
   },
   {
    "duration": 575,
    "start_time": "2023-09-13T06:37:24.814Z"
   },
   {
    "duration": 653,
    "start_time": "2023-09-13T06:37:25.391Z"
   },
   {
    "duration": 27,
    "start_time": "2023-09-13T06:37:26.046Z"
   },
   {
    "duration": 9,
    "start_time": "2023-09-13T06:37:26.074Z"
   },
   {
    "duration": 36,
    "start_time": "2023-09-13T06:37:26.085Z"
   },
   {
    "duration": 5,
    "start_time": "2023-09-13T06:37:26.123Z"
   },
   {
    "duration": 1821,
    "start_time": "2023-09-13T06:37:26.145Z"
   },
   {
    "duration": 490,
    "start_time": "2023-09-13T06:37:27.968Z"
   },
   {
    "duration": 799,
    "start_time": "2023-09-13T06:37:28.460Z"
   },
   {
    "duration": 701,
    "start_time": "2023-09-13T06:37:29.261Z"
   },
   {
    "duration": 4,
    "start_time": "2023-09-13T06:37:29.964Z"
   },
   {
    "duration": 5,
    "start_time": "2023-09-13T06:37:29.969Z"
   },
   {
    "duration": 33,
    "start_time": "2023-09-13T06:37:29.975Z"
   },
   {
    "duration": 205,
    "start_time": "2023-09-13T06:37:30.009Z"
   },
   {
    "duration": 0,
    "start_time": "2023-09-13T06:37:30.215Z"
   },
   {
    "duration": 0,
    "start_time": "2023-09-13T06:37:30.216Z"
   },
   {
    "duration": 0,
    "start_time": "2023-09-13T06:37:30.217Z"
   },
   {
    "duration": 0,
    "start_time": "2023-09-13T06:37:30.218Z"
   },
   {
    "duration": 0,
    "start_time": "2023-09-13T06:37:30.219Z"
   },
   {
    "duration": 0,
    "start_time": "2023-09-13T06:37:30.221Z"
   },
   {
    "duration": 0,
    "start_time": "2023-09-13T06:37:30.222Z"
   },
   {
    "duration": 0,
    "start_time": "2023-09-13T06:37:30.223Z"
   },
   {
    "duration": 0,
    "start_time": "2023-09-13T06:37:30.224Z"
   },
   {
    "duration": 0,
    "start_time": "2023-09-13T06:37:30.224Z"
   },
   {
    "duration": 0,
    "start_time": "2023-09-13T06:37:30.225Z"
   },
   {
    "duration": 13,
    "start_time": "2023-09-13T06:38:02.840Z"
   },
   {
    "duration": 1403,
    "start_time": "2023-09-13T06:38:10.732Z"
   },
   {
    "duration": 843,
    "start_time": "2023-09-13T06:38:12.137Z"
   },
   {
    "duration": 376,
    "start_time": "2023-09-13T06:38:12.982Z"
   },
   {
    "duration": 188,
    "start_time": "2023-09-13T06:38:13.359Z"
   },
   {
    "duration": 371,
    "start_time": "2023-09-13T06:38:13.549Z"
   },
   {
    "duration": 39,
    "start_time": "2023-09-13T06:38:13.921Z"
   },
   {
    "duration": 12,
    "start_time": "2023-09-13T06:38:13.961Z"
   },
   {
    "duration": 46,
    "start_time": "2023-09-13T06:38:13.974Z"
   },
   {
    "duration": 577,
    "start_time": "2023-09-13T06:38:14.022Z"
   },
   {
    "duration": 646,
    "start_time": "2023-09-13T06:38:14.602Z"
   },
   {
    "duration": 25,
    "start_time": "2023-09-13T06:38:15.250Z"
   },
   {
    "duration": 9,
    "start_time": "2023-09-13T06:38:15.276Z"
   },
   {
    "duration": 28,
    "start_time": "2023-09-13T06:38:15.286Z"
   },
   {
    "duration": 29,
    "start_time": "2023-09-13T06:38:15.315Z"
   },
   {
    "duration": 1696,
    "start_time": "2023-09-13T06:38:15.346Z"
   },
   {
    "duration": 401,
    "start_time": "2023-09-13T06:38:17.044Z"
   },
   {
    "duration": 772,
    "start_time": "2023-09-13T06:38:17.446Z"
   },
   {
    "duration": 627,
    "start_time": "2023-09-13T06:38:18.220Z"
   },
   {
    "duration": 4,
    "start_time": "2023-09-13T06:38:18.849Z"
   },
   {
    "duration": 12,
    "start_time": "2023-09-13T06:38:18.855Z"
   },
   {
    "duration": 20,
    "start_time": "2023-09-13T06:38:18.868Z"
   },
   {
    "duration": 83499,
    "start_time": "2023-09-13T06:38:18.890Z"
   },
   {
    "duration": 0,
    "start_time": "2023-09-13T06:39:42.391Z"
   },
   {
    "duration": 0,
    "start_time": "2023-09-13T06:39:42.392Z"
   },
   {
    "duration": 0,
    "start_time": "2023-09-13T06:39:42.393Z"
   },
   {
    "duration": 0,
    "start_time": "2023-09-13T06:39:42.393Z"
   },
   {
    "duration": 0,
    "start_time": "2023-09-13T06:39:42.394Z"
   },
   {
    "duration": 0,
    "start_time": "2023-09-13T06:39:42.395Z"
   },
   {
    "duration": 0,
    "start_time": "2023-09-13T06:39:42.396Z"
   },
   {
    "duration": 0,
    "start_time": "2023-09-13T06:39:42.397Z"
   },
   {
    "duration": 0,
    "start_time": "2023-09-13T06:39:42.398Z"
   },
   {
    "duration": 0,
    "start_time": "2023-09-13T06:39:42.399Z"
   },
   {
    "duration": 0,
    "start_time": "2023-09-13T06:39:42.400Z"
   },
   {
    "duration": 0,
    "start_time": "2023-09-13T06:39:42.401Z"
   },
   {
    "duration": 3,
    "start_time": "2023-09-13T06:39:43.371Z"
   },
   {
    "duration": 3,
    "start_time": "2023-09-13T06:39:43.921Z"
   },
   {
    "duration": 17,
    "start_time": "2023-09-13T06:39:45.960Z"
   },
   {
    "duration": 24536,
    "start_time": "2023-09-13T06:39:49.199Z"
   },
   {
    "duration": 1349,
    "start_time": "2023-09-13T06:40:18.893Z"
   },
   {
    "duration": 822,
    "start_time": "2023-09-13T06:40:20.244Z"
   },
   {
    "duration": 368,
    "start_time": "2023-09-13T06:40:21.068Z"
   },
   {
    "duration": 170,
    "start_time": "2023-09-13T06:40:21.443Z"
   },
   {
    "duration": 384,
    "start_time": "2023-09-13T06:40:21.615Z"
   },
   {
    "duration": 27,
    "start_time": "2023-09-13T06:40:22.001Z"
   },
   {
    "duration": 25,
    "start_time": "2023-09-13T06:40:22.030Z"
   },
   {
    "duration": 47,
    "start_time": "2023-09-13T06:40:22.056Z"
   },
   {
    "duration": 525,
    "start_time": "2023-09-13T06:40:22.104Z"
   },
   {
    "duration": 650,
    "start_time": "2023-09-13T06:40:22.632Z"
   },
   {
    "duration": 28,
    "start_time": "2023-09-13T06:40:23.284Z"
   },
   {
    "duration": 9,
    "start_time": "2023-09-13T06:40:23.314Z"
   },
   {
    "duration": 22,
    "start_time": "2023-09-13T06:40:23.345Z"
   },
   {
    "duration": 4,
    "start_time": "2023-09-13T06:40:23.369Z"
   },
   {
    "duration": 1944,
    "start_time": "2023-09-13T06:40:23.374Z"
   },
   {
    "duration": 439,
    "start_time": "2023-09-13T06:40:25.320Z"
   },
   {
    "duration": 813,
    "start_time": "2023-09-13T06:40:25.761Z"
   },
   {
    "duration": 697,
    "start_time": "2023-09-13T06:40:26.576Z"
   },
   {
    "duration": 4,
    "start_time": "2023-09-13T06:40:27.275Z"
   },
   {
    "duration": 11,
    "start_time": "2023-09-13T06:40:27.280Z"
   },
   {
    "duration": 29,
    "start_time": "2023-09-13T06:40:27.292Z"
   },
   {
    "duration": 1411,
    "start_time": "2023-09-13T06:41:38.311Z"
   },
   {
    "duration": 823,
    "start_time": "2023-09-13T06:41:39.724Z"
   },
   {
    "duration": 384,
    "start_time": "2023-09-13T06:41:40.549Z"
   },
   {
    "duration": 191,
    "start_time": "2023-09-13T06:41:40.934Z"
   },
   {
    "duration": 396,
    "start_time": "2023-09-13T06:41:41.127Z"
   },
   {
    "duration": 37,
    "start_time": "2023-09-13T06:41:41.524Z"
   },
   {
    "duration": 14,
    "start_time": "2023-09-13T06:41:41.562Z"
   },
   {
    "duration": 46,
    "start_time": "2023-09-13T06:41:41.577Z"
   },
   {
    "duration": 527,
    "start_time": "2023-09-13T06:41:41.624Z"
   },
   {
    "duration": 635,
    "start_time": "2023-09-13T06:41:42.154Z"
   },
   {
    "duration": 27,
    "start_time": "2023-09-13T06:41:42.790Z"
   },
   {
    "duration": 9,
    "start_time": "2023-09-13T06:41:42.819Z"
   },
   {
    "duration": 23,
    "start_time": "2023-09-13T06:41:42.844Z"
   },
   {
    "duration": 5,
    "start_time": "2023-09-13T06:41:42.868Z"
   },
   {
    "duration": 1764,
    "start_time": "2023-09-13T06:41:42.874Z"
   },
   {
    "duration": 394,
    "start_time": "2023-09-13T06:41:44.639Z"
   },
   {
    "duration": 781,
    "start_time": "2023-09-13T06:41:45.035Z"
   },
   {
    "duration": 702,
    "start_time": "2023-09-13T06:41:45.818Z"
   },
   {
    "duration": 3,
    "start_time": "2023-09-13T06:41:46.522Z"
   },
   {
    "duration": 9,
    "start_time": "2023-09-13T06:41:46.527Z"
   },
   {
    "duration": 18,
    "start_time": "2023-09-13T06:41:46.537Z"
   },
   {
    "duration": 521233,
    "start_time": "2023-09-13T06:41:46.556Z"
   },
   {
    "duration": 16,
    "start_time": "2023-09-13T06:50:27.791Z"
   },
   {
    "duration": 118,
    "start_time": "2023-09-13T06:50:27.808Z"
   },
   {
    "duration": 0,
    "start_time": "2023-09-13T06:50:27.928Z"
   },
   {
    "duration": 0,
    "start_time": "2023-09-13T06:50:27.929Z"
   },
   {
    "duration": 0,
    "start_time": "2023-09-13T06:50:27.930Z"
   },
   {
    "duration": 0,
    "start_time": "2023-09-13T06:50:27.932Z"
   },
   {
    "duration": 0,
    "start_time": "2023-09-13T06:50:27.933Z"
   },
   {
    "duration": 0,
    "start_time": "2023-09-13T06:50:27.944Z"
   },
   {
    "duration": 0,
    "start_time": "2023-09-13T06:50:27.946Z"
   },
   {
    "duration": 0,
    "start_time": "2023-09-13T06:50:27.947Z"
   },
   {
    "duration": 0,
    "start_time": "2023-09-13T06:50:27.948Z"
   },
   {
    "duration": 0,
    "start_time": "2023-09-13T06:50:27.949Z"
   },
   {
    "duration": 19,
    "start_time": "2023-09-13T06:50:47.017Z"
   },
   {
    "duration": 21,
    "start_time": "2023-09-13T06:53:53.681Z"
   },
   {
    "duration": 13,
    "start_time": "2023-09-13T06:58:54.475Z"
   },
   {
    "duration": 1405,
    "start_time": "2023-09-13T07:00:08.834Z"
   },
   {
    "duration": 926,
    "start_time": "2023-09-13T07:00:10.241Z"
   },
   {
    "duration": 484,
    "start_time": "2023-09-13T07:00:11.169Z"
   },
   {
    "duration": 208,
    "start_time": "2023-09-13T07:00:11.656Z"
   },
   {
    "duration": 411,
    "start_time": "2023-09-13T07:00:11.866Z"
   },
   {
    "duration": 34,
    "start_time": "2023-09-13T07:00:12.279Z"
   },
   {
    "duration": 79,
    "start_time": "2023-09-13T07:00:12.314Z"
   },
   {
    "duration": 69,
    "start_time": "2023-09-13T07:00:12.395Z"
   },
   {
    "duration": 526,
    "start_time": "2023-09-13T07:00:12.465Z"
   },
   {
    "duration": 656,
    "start_time": "2023-09-13T07:00:12.993Z"
   },
   {
    "duration": 33,
    "start_time": "2023-09-13T07:00:13.651Z"
   },
   {
    "duration": 12,
    "start_time": "2023-09-13T07:00:13.686Z"
   },
   {
    "duration": 49,
    "start_time": "2023-09-13T07:00:13.700Z"
   },
   {
    "duration": 5,
    "start_time": "2023-09-13T07:00:13.751Z"
   },
   {
    "duration": 2052,
    "start_time": "2023-09-13T07:00:13.758Z"
   },
   {
    "duration": 440,
    "start_time": "2023-09-13T07:00:15.812Z"
   },
   {
    "duration": 836,
    "start_time": "2023-09-13T07:00:16.254Z"
   },
   {
    "duration": 683,
    "start_time": "2023-09-13T07:00:17.091Z"
   },
   {
    "duration": 6,
    "start_time": "2023-09-13T07:00:17.776Z"
   },
   {
    "duration": 12,
    "start_time": "2023-09-13T07:00:17.783Z"
   },
   {
    "duration": 22,
    "start_time": "2023-09-13T07:00:17.797Z"
   },
   {
    "duration": 526880,
    "start_time": "2023-09-13T07:00:17.821Z"
   },
   {
    "duration": 17,
    "start_time": "2023-09-13T07:09:04.703Z"
   },
   {
    "duration": 120,
    "start_time": "2023-09-13T07:09:04.722Z"
   },
   {
    "duration": 0,
    "start_time": "2023-09-13T07:09:04.844Z"
   },
   {
    "duration": 9,
    "start_time": "2023-09-13T07:16:08.802Z"
   },
   {
    "duration": 10,
    "start_time": "2023-09-13T07:17:05.379Z"
   },
   {
    "duration": 498,
    "start_time": "2023-09-13T07:17:40.446Z"
   },
   {
    "duration": 646,
    "start_time": "2023-09-13T07:18:17.200Z"
   },
   {
    "duration": 20,
    "start_time": "2023-09-13T07:18:56.924Z"
   },
   {
    "duration": 791,
    "start_time": "2023-09-13T07:18:58.555Z"
   },
   {
    "duration": 18,
    "start_time": "2023-09-13T09:43:19.358Z"
   },
   {
    "duration": 1381,
    "start_time": "2023-09-13T09:43:39.232Z"
   },
   {
    "duration": 821,
    "start_time": "2023-09-13T09:43:40.615Z"
   },
   {
    "duration": 374,
    "start_time": "2023-09-13T09:43:41.437Z"
   },
   {
    "duration": 178,
    "start_time": "2023-09-13T09:43:41.813Z"
   },
   {
    "duration": 370,
    "start_time": "2023-09-13T09:43:41.992Z"
   },
   {
    "duration": 28,
    "start_time": "2023-09-13T09:43:42.363Z"
   },
   {
    "duration": 18,
    "start_time": "2023-09-13T09:43:42.393Z"
   },
   {
    "duration": 62,
    "start_time": "2023-09-13T09:43:42.412Z"
   },
   {
    "duration": 512,
    "start_time": "2023-09-13T09:43:42.475Z"
   },
   {
    "duration": 629,
    "start_time": "2023-09-13T09:43:42.989Z"
   },
   {
    "duration": 34,
    "start_time": "2023-09-13T09:43:43.620Z"
   },
   {
    "duration": 9,
    "start_time": "2023-09-13T09:43:43.655Z"
   },
   {
    "duration": 39,
    "start_time": "2023-09-13T09:43:43.666Z"
   },
   {
    "duration": 6,
    "start_time": "2023-09-13T09:43:43.707Z"
   },
   {
    "duration": 1740,
    "start_time": "2023-09-13T09:43:43.714Z"
   },
   {
    "duration": 395,
    "start_time": "2023-09-13T09:43:45.456Z"
   },
   {
    "duration": 786,
    "start_time": "2023-09-13T09:43:45.853Z"
   },
   {
    "duration": 660,
    "start_time": "2023-09-13T09:43:46.644Z"
   },
   {
    "duration": 4,
    "start_time": "2023-09-13T09:43:47.305Z"
   },
   {
    "duration": 6,
    "start_time": "2023-09-13T09:43:47.311Z"
   },
   {
    "duration": 114,
    "start_time": "2023-09-13T09:43:47.318Z"
   },
   {
    "duration": 1,
    "start_time": "2023-09-13T09:43:47.433Z"
   },
   {
    "duration": 0,
    "start_time": "2023-09-13T09:43:47.435Z"
   },
   {
    "duration": 0,
    "start_time": "2023-09-13T09:43:47.436Z"
   },
   {
    "duration": 10,
    "start_time": "2023-09-13T09:44:55.547Z"
   },
   {
    "duration": 1385,
    "start_time": "2023-09-13T09:45:05.897Z"
   },
   {
    "duration": 809,
    "start_time": "2023-09-13T09:45:07.284Z"
   },
   {
    "duration": 378,
    "start_time": "2023-09-13T09:45:08.095Z"
   },
   {
    "duration": 192,
    "start_time": "2023-09-13T09:45:08.475Z"
   },
   {
    "duration": 383,
    "start_time": "2023-09-13T09:45:08.669Z"
   },
   {
    "duration": 29,
    "start_time": "2023-09-13T09:45:09.054Z"
   },
   {
    "duration": 15,
    "start_time": "2023-09-13T09:45:09.084Z"
   },
   {
    "duration": 74,
    "start_time": "2023-09-13T09:45:09.101Z"
   },
   {
    "duration": 507,
    "start_time": "2023-09-13T09:45:09.177Z"
   },
   {
    "duration": 622,
    "start_time": "2023-09-13T09:45:09.688Z"
   },
   {
    "duration": 40,
    "start_time": "2023-09-13T09:45:10.312Z"
   },
   {
    "duration": 8,
    "start_time": "2023-09-13T09:45:10.354Z"
   },
   {
    "duration": 32,
    "start_time": "2023-09-13T09:45:10.364Z"
   },
   {
    "duration": 5,
    "start_time": "2023-09-13T09:45:10.397Z"
   },
   {
    "duration": 1731,
    "start_time": "2023-09-13T09:45:10.403Z"
   },
   {
    "duration": 395,
    "start_time": "2023-09-13T09:45:12.135Z"
   },
   {
    "duration": 731,
    "start_time": "2023-09-13T09:45:12.531Z"
   },
   {
    "duration": 656,
    "start_time": "2023-09-13T09:45:13.263Z"
   },
   {
    "duration": 4,
    "start_time": "2023-09-13T09:45:13.920Z"
   },
   {
    "duration": 28,
    "start_time": "2023-09-13T09:45:13.925Z"
   },
   {
    "duration": 137,
    "start_time": "2023-09-13T09:45:13.954Z"
   },
   {
    "duration": 0,
    "start_time": "2023-09-13T09:45:14.093Z"
   },
   {
    "duration": 0,
    "start_time": "2023-09-13T09:45:14.094Z"
   },
   {
    "duration": 0,
    "start_time": "2023-09-13T09:45:14.096Z"
   },
   {
    "duration": 15,
    "start_time": "2023-09-13T09:45:35.070Z"
   },
   {
    "duration": 1389,
    "start_time": "2023-09-13T09:45:49.305Z"
   },
   {
    "duration": 853,
    "start_time": "2023-09-13T09:45:50.696Z"
   },
   {
    "duration": 397,
    "start_time": "2023-09-13T09:45:51.551Z"
   },
   {
    "duration": 197,
    "start_time": "2023-09-13T09:45:51.951Z"
   },
   {
    "duration": 402,
    "start_time": "2023-09-13T09:45:52.150Z"
   },
   {
    "duration": 29,
    "start_time": "2023-09-13T09:45:52.553Z"
   },
   {
    "duration": 13,
    "start_time": "2023-09-13T09:45:52.584Z"
   },
   {
    "duration": 69,
    "start_time": "2023-09-13T09:45:52.598Z"
   },
   {
    "duration": 517,
    "start_time": "2023-09-13T09:45:52.668Z"
   },
   {
    "duration": 654,
    "start_time": "2023-09-13T09:45:53.187Z"
   },
   {
    "duration": 30,
    "start_time": "2023-09-13T09:45:53.842Z"
   },
   {
    "duration": 124,
    "start_time": "2023-09-13T09:45:53.874Z"
   },
   {
    "duration": 30,
    "start_time": "2023-09-13T09:45:54.000Z"
   },
   {
    "duration": 4,
    "start_time": "2023-09-13T09:45:54.033Z"
   },
   {
    "duration": 1708,
    "start_time": "2023-09-13T09:45:54.038Z"
   },
   {
    "duration": 385,
    "start_time": "2023-09-13T09:45:55.748Z"
   },
   {
    "duration": 762,
    "start_time": "2023-09-13T09:45:56.135Z"
   },
   {
    "duration": 623,
    "start_time": "2023-09-13T09:45:56.899Z"
   },
   {
    "duration": 4,
    "start_time": "2023-09-13T09:45:57.524Z"
   },
   {
    "duration": 15,
    "start_time": "2023-09-13T09:45:57.529Z"
   },
   {
    "duration": 21,
    "start_time": "2023-09-13T09:45:57.545Z"
   },
   {
    "duration": 442913,
    "start_time": "2023-09-13T09:45:57.567Z"
   },
   {
    "duration": 18,
    "start_time": "2023-09-13T09:53:20.482Z"
   },
   {
    "duration": 444,
    "start_time": "2023-09-13T09:53:20.502Z"
   },
   {
    "duration": 102,
    "start_time": "2023-09-13T09:54:30.566Z"
   },
   {
    "duration": 4,
    "start_time": "2023-09-13T09:54:53.840Z"
   },
   {
    "duration": 23,
    "start_time": "2023-09-13T09:54:59.106Z"
   },
   {
    "duration": 115204,
    "start_time": "2023-09-13T09:56:22.492Z"
   },
   {
    "duration": 18,
    "start_time": "2023-09-13T10:00:28.803Z"
   },
   {
    "duration": 1369,
    "start_time": "2023-09-13T10:05:33.286Z"
   },
   {
    "duration": 834,
    "start_time": "2023-09-13T10:05:34.657Z"
   },
   {
    "duration": 373,
    "start_time": "2023-09-13T10:05:35.493Z"
   },
   {
    "duration": 185,
    "start_time": "2023-09-13T10:05:35.867Z"
   },
   {
    "duration": 382,
    "start_time": "2023-09-13T10:05:36.053Z"
   },
   {
    "duration": 30,
    "start_time": "2023-09-13T10:05:36.445Z"
   },
   {
    "duration": 13,
    "start_time": "2023-09-13T10:05:36.476Z"
   },
   {
    "duration": 68,
    "start_time": "2023-09-13T10:05:36.490Z"
   },
   {
    "duration": 515,
    "start_time": "2023-09-13T10:05:36.559Z"
   },
   {
    "duration": 640,
    "start_time": "2023-09-13T10:05:37.076Z"
   },
   {
    "duration": 35,
    "start_time": "2023-09-13T10:05:37.718Z"
   },
   {
    "duration": 19,
    "start_time": "2023-09-13T10:05:37.755Z"
   },
   {
    "duration": 26,
    "start_time": "2023-09-13T10:05:37.776Z"
   },
   {
    "duration": 5,
    "start_time": "2023-09-13T10:05:37.804Z"
   },
   {
    "duration": 1676,
    "start_time": "2023-09-13T10:05:37.810Z"
   },
   {
    "duration": 341,
    "start_time": "2023-09-13T10:05:39.487Z"
   },
   {
    "duration": 706,
    "start_time": "2023-09-13T10:05:39.830Z"
   },
   {
    "duration": 665,
    "start_time": "2023-09-13T10:05:40.537Z"
   },
   {
    "duration": 4,
    "start_time": "2023-09-13T10:05:41.204Z"
   },
   {
    "duration": 15,
    "start_time": "2023-09-13T10:05:41.209Z"
   },
   {
    "duration": 21,
    "start_time": "2023-09-13T10:05:41.226Z"
   },
   {
    "duration": 440303,
    "start_time": "2023-09-13T10:05:41.248Z"
   },
   {
    "duration": 18,
    "start_time": "2023-09-13T10:13:01.552Z"
   },
   {
    "duration": 97,
    "start_time": "2023-09-13T10:13:01.571Z"
   },
   {
    "duration": 0,
    "start_time": "2023-09-13T10:13:01.670Z"
   },
   {
    "duration": 47,
    "start_time": "2023-09-13T12:43:35.950Z"
   },
   {
    "duration": 10,
    "start_time": "2023-09-13T12:44:25.043Z"
   },
   {
    "duration": 1603,
    "start_time": "2023-09-13T12:44:34.438Z"
   },
   {
    "duration": 2211,
    "start_time": "2023-09-13T12:44:36.043Z"
   },
   {
    "duration": 392,
    "start_time": "2023-09-13T12:44:38.255Z"
   },
   {
    "duration": 195,
    "start_time": "2023-09-13T12:44:38.649Z"
   },
   {
    "duration": 399,
    "start_time": "2023-09-13T12:44:38.846Z"
   },
   {
    "duration": 29,
    "start_time": "2023-09-13T12:44:39.246Z"
   },
   {
    "duration": 13,
    "start_time": "2023-09-13T12:44:39.277Z"
   },
   {
    "duration": 67,
    "start_time": "2023-09-13T12:44:39.292Z"
   },
   {
    "duration": 533,
    "start_time": "2023-09-13T12:44:39.360Z"
   },
   {
    "duration": 647,
    "start_time": "2023-09-13T12:44:39.894Z"
   },
   {
    "duration": 28,
    "start_time": "2023-09-13T12:44:40.544Z"
   },
   {
    "duration": 9,
    "start_time": "2023-09-13T12:44:40.574Z"
   },
   {
    "duration": 45,
    "start_time": "2023-09-13T12:44:40.584Z"
   },
   {
    "duration": 13,
    "start_time": "2023-09-13T12:44:40.633Z"
   },
   {
    "duration": 1791,
    "start_time": "2023-09-13T12:44:40.648Z"
   },
   {
    "duration": 408,
    "start_time": "2023-09-13T12:44:42.441Z"
   },
   {
    "duration": 792,
    "start_time": "2023-09-13T12:44:42.851Z"
   },
   {
    "duration": 698,
    "start_time": "2023-09-13T12:44:43.645Z"
   },
   {
    "duration": 4,
    "start_time": "2023-09-13T12:44:44.345Z"
   },
   {
    "duration": 20,
    "start_time": "2023-09-13T12:44:44.351Z"
   },
   {
    "duration": 2101,
    "start_time": "2023-09-13T12:44:44.372Z"
   },
   {
    "duration": 0,
    "start_time": "2023-09-13T12:44:46.475Z"
   },
   {
    "duration": 0,
    "start_time": "2023-09-13T12:44:46.476Z"
   },
   {
    "duration": 0,
    "start_time": "2023-09-13T12:44:46.477Z"
   },
   {
    "duration": 0,
    "start_time": "2023-09-13T12:44:46.478Z"
   },
   {
    "duration": 0,
    "start_time": "2023-09-13T12:44:46.480Z"
   },
   {
    "duration": 15,
    "start_time": "2023-09-13T12:46:00.829Z"
   },
   {
    "duration": 1567,
    "start_time": "2023-09-13T12:46:08.812Z"
   },
   {
    "duration": 832,
    "start_time": "2023-09-13T12:46:10.381Z"
   },
   {
    "duration": 395,
    "start_time": "2023-09-13T12:46:11.215Z"
   },
   {
    "duration": 187,
    "start_time": "2023-09-13T12:46:11.612Z"
   },
   {
    "duration": 410,
    "start_time": "2023-09-13T12:46:11.801Z"
   },
   {
    "duration": 42,
    "start_time": "2023-09-13T12:46:12.213Z"
   },
   {
    "duration": 14,
    "start_time": "2023-09-13T12:46:12.257Z"
   },
   {
    "duration": 51,
    "start_time": "2023-09-13T12:46:12.273Z"
   },
   {
    "duration": 553,
    "start_time": "2023-09-13T12:46:12.326Z"
   },
   {
    "duration": 660,
    "start_time": "2023-09-13T12:46:12.881Z"
   },
   {
    "duration": 31,
    "start_time": "2023-09-13T12:46:13.543Z"
   },
   {
    "duration": 10,
    "start_time": "2023-09-13T12:46:13.575Z"
   },
   {
    "duration": 45,
    "start_time": "2023-09-13T12:46:13.586Z"
   },
   {
    "duration": 10,
    "start_time": "2023-09-13T12:46:13.633Z"
   },
   {
    "duration": 1975,
    "start_time": "2023-09-13T12:46:13.644Z"
   },
   {
    "duration": 434,
    "start_time": "2023-09-13T12:46:15.621Z"
   },
   {
    "duration": 776,
    "start_time": "2023-09-13T12:46:16.056Z"
   },
   {
    "duration": 726,
    "start_time": "2023-09-13T12:46:16.834Z"
   },
   {
    "duration": 5,
    "start_time": "2023-09-13T12:46:17.562Z"
   },
   {
    "duration": 20,
    "start_time": "2023-09-13T12:46:17.570Z"
   },
   {
    "duration": 28,
    "start_time": "2023-09-13T12:46:17.592Z"
   },
   {
    "duration": 463175,
    "start_time": "2023-09-13T12:46:17.622Z"
   },
   {
    "duration": 18,
    "start_time": "2023-09-13T12:54:00.798Z"
   },
   {
    "duration": 118984,
    "start_time": "2023-09-13T12:54:00.818Z"
   },
   {
    "duration": 39,
    "start_time": "2023-09-13T12:55:59.804Z"
   },
   {
    "duration": 1616,
    "start_time": "2023-09-13T14:32:44.410Z"
   },
   {
    "duration": 2520,
    "start_time": "2023-09-13T14:32:46.028Z"
   },
   {
    "duration": 410,
    "start_time": "2023-09-13T14:32:48.551Z"
   },
   {
    "duration": 212,
    "start_time": "2023-09-13T14:32:48.964Z"
   },
   {
    "duration": 411,
    "start_time": "2023-09-13T14:32:49.177Z"
   },
   {
    "duration": 28,
    "start_time": "2023-09-13T14:32:49.590Z"
   },
   {
    "duration": 33,
    "start_time": "2023-09-13T14:32:49.620Z"
   },
   {
    "duration": 54,
    "start_time": "2023-09-13T14:32:49.655Z"
   },
   {
    "duration": 557,
    "start_time": "2023-09-13T14:32:49.711Z"
   },
   {
    "duration": 668,
    "start_time": "2023-09-13T14:32:50.271Z"
   },
   {
    "duration": 40,
    "start_time": "2023-09-13T14:32:50.941Z"
   },
   {
    "duration": 8,
    "start_time": "2023-09-13T14:32:50.982Z"
   },
   {
    "duration": 50,
    "start_time": "2023-09-13T14:32:50.992Z"
   },
   {
    "duration": 3,
    "start_time": "2023-09-13T14:32:51.044Z"
   },
   {
    "duration": 1790,
    "start_time": "2023-09-13T14:32:51.050Z"
   },
   {
    "duration": 413,
    "start_time": "2023-09-13T14:32:52.842Z"
   },
   {
    "duration": 780,
    "start_time": "2023-09-13T14:32:53.261Z"
   },
   {
    "duration": 697,
    "start_time": "2023-09-13T14:32:54.042Z"
   },
   {
    "duration": 4,
    "start_time": "2023-09-13T14:32:54.741Z"
   },
   {
    "duration": 20,
    "start_time": "2023-09-13T14:32:54.746Z"
   },
   {
    "duration": 25,
    "start_time": "2023-09-13T14:32:54.768Z"
   },
   {
    "duration": 484343,
    "start_time": "2023-09-13T14:32:54.794Z"
   },
   {
    "duration": 44,
    "start_time": "2023-09-13T14:40:59.139Z"
   },
   {
    "duration": 128120,
    "start_time": "2023-09-13T14:40:59.185Z"
   },
   {
    "duration": 44,
    "start_time": "2023-09-13T14:43:07.307Z"
   },
   {
    "duration": 50,
    "start_time": "2023-09-14T09:39:19.425Z"
   },
   {
    "duration": 1592,
    "start_time": "2023-09-14T09:39:26.153Z"
   },
   {
    "duration": 2112,
    "start_time": "2023-09-14T09:39:27.747Z"
   },
   {
    "duration": 392,
    "start_time": "2023-09-14T09:39:29.861Z"
   },
   {
    "duration": 200,
    "start_time": "2023-09-14T09:39:30.256Z"
   },
   {
    "duration": 403,
    "start_time": "2023-09-14T09:39:30.458Z"
   },
   {
    "duration": 27,
    "start_time": "2023-09-14T09:39:30.863Z"
   },
   {
    "duration": 69,
    "start_time": "2023-09-14T09:39:30.892Z"
   },
   {
    "duration": 104,
    "start_time": "2023-09-14T09:39:30.962Z"
   },
   {
    "duration": 530,
    "start_time": "2023-09-14T09:39:31.067Z"
   },
   {
    "duration": 678,
    "start_time": "2023-09-14T09:39:31.599Z"
   },
   {
    "duration": 31,
    "start_time": "2023-09-14T09:39:32.279Z"
   },
   {
    "duration": 24,
    "start_time": "2023-09-14T09:39:32.312Z"
   },
   {
    "duration": 60,
    "start_time": "2023-09-14T09:39:32.344Z"
   },
   {
    "duration": 5,
    "start_time": "2023-09-14T09:39:32.408Z"
   },
   {
    "duration": 2160,
    "start_time": "2023-09-14T09:39:32.415Z"
   },
   {
    "duration": 392,
    "start_time": "2023-09-14T09:39:34.578Z"
   },
   {
    "duration": 828,
    "start_time": "2023-09-14T09:39:34.971Z"
   },
   {
    "duration": 677,
    "start_time": "2023-09-14T09:39:35.801Z"
   },
   {
    "duration": 5,
    "start_time": "2023-09-14T09:39:36.479Z"
   },
   {
    "duration": 31,
    "start_time": "2023-09-14T09:39:36.485Z"
   },
   {
    "duration": 39,
    "start_time": "2023-09-14T09:39:36.518Z"
   },
   {
    "duration": 3089,
    "start_time": "2023-09-14T09:39:36.559Z"
   },
   {
    "duration": 104,
    "start_time": "2023-09-14T09:39:39.651Z"
   },
   {
    "duration": 118273,
    "start_time": "2023-09-14T09:39:39.757Z"
   },
   {
    "duration": 37,
    "start_time": "2023-09-14T09:41:38.032Z"
   },
   {
    "duration": 3273,
    "start_time": "2023-09-14T09:41:38.073Z"
   },
   {
    "duration": 3,
    "start_time": "2023-09-14T09:42:09.974Z"
   },
   {
    "duration": 444180,
    "start_time": "2023-09-14T09:48:32.038Z"
   },
   {
    "duration": 1393,
    "start_time": "2023-09-14T09:56:00.306Z"
   },
   {
    "duration": 811,
    "start_time": "2023-09-14T09:56:01.700Z"
   },
   {
    "duration": 373,
    "start_time": "2023-09-14T09:56:02.513Z"
   },
   {
    "duration": 184,
    "start_time": "2023-09-14T09:56:02.888Z"
   },
   {
    "duration": 383,
    "start_time": "2023-09-14T09:56:03.073Z"
   },
   {
    "duration": 27,
    "start_time": "2023-09-14T09:56:03.458Z"
   },
   {
    "duration": 13,
    "start_time": "2023-09-14T09:56:03.487Z"
   },
   {
    "duration": 70,
    "start_time": "2023-09-14T09:56:03.501Z"
   },
   {
    "duration": 533,
    "start_time": "2023-09-14T09:56:03.573Z"
   },
   {
    "duration": 661,
    "start_time": "2023-09-14T09:56:04.108Z"
   },
   {
    "duration": 25,
    "start_time": "2023-09-14T09:56:04.771Z"
   },
   {
    "duration": 10,
    "start_time": "2023-09-14T09:56:04.797Z"
   },
   {
    "duration": 37,
    "start_time": "2023-09-14T09:56:04.808Z"
   },
   {
    "duration": 5,
    "start_time": "2023-09-14T09:56:04.847Z"
   },
   {
    "duration": 1717,
    "start_time": "2023-09-14T09:56:04.854Z"
   },
   {
    "duration": 371,
    "start_time": "2023-09-14T09:56:06.573Z"
   },
   {
    "duration": 765,
    "start_time": "2023-09-14T09:56:06.946Z"
   },
   {
    "duration": 632,
    "start_time": "2023-09-14T09:56:07.713Z"
   },
   {
    "duration": 4,
    "start_time": "2023-09-14T09:56:08.347Z"
   },
   {
    "duration": 33,
    "start_time": "2023-09-14T09:56:08.352Z"
   },
   {
    "duration": 62,
    "start_time": "2023-09-14T09:56:08.387Z"
   },
   {
    "duration": 2698,
    "start_time": "2023-09-14T09:56:08.451Z"
   },
   {
    "duration": 3332171,
    "start_time": "2023-09-14T09:56:11.151Z"
   },
   {
    "duration": 0,
    "start_time": "2023-09-14T10:51:43.323Z"
   },
   {
    "duration": 0,
    "start_time": "2023-09-14T10:51:43.324Z"
   },
   {
    "duration": 0,
    "start_time": "2023-09-14T10:51:43.325Z"
   },
   {
    "duration": 1452578,
    "start_time": "2023-09-14T11:57:58.026Z"
   },
   {
    "duration": 7515,
    "start_time": "2023-09-14T15:39:59.582Z"
   },
   {
    "duration": 0,
    "start_time": "2023-09-14T15:40:07.099Z"
   },
   {
    "duration": 25,
    "start_time": "2023-09-14T15:40:08.391Z"
   },
   {
    "duration": 26827,
    "start_time": "2023-09-14T15:40:10.000Z"
   },
   {
    "duration": 30,
    "start_time": "2023-09-14T15:41:08.478Z"
   },
   {
    "duration": 96643,
    "start_time": "2023-09-14T16:53:38.594Z"
   },
   {
    "duration": 20,
    "start_time": "2023-09-14T16:56:02.325Z"
   },
   {
    "duration": 1523,
    "start_time": "2023-09-14T16:56:19.714Z"
   },
   {
    "duration": 876,
    "start_time": "2023-09-14T16:56:21.238Z"
   },
   {
    "duration": 404,
    "start_time": "2023-09-14T16:56:22.115Z"
   },
   {
    "duration": 190,
    "start_time": "2023-09-14T16:56:22.521Z"
   },
   {
    "duration": 400,
    "start_time": "2023-09-14T16:56:22.713Z"
   },
   {
    "duration": 49,
    "start_time": "2023-09-14T16:56:23.115Z"
   },
   {
    "duration": 22,
    "start_time": "2023-09-14T16:56:23.167Z"
   },
   {
    "duration": 63,
    "start_time": "2023-09-14T16:56:23.190Z"
   },
   {
    "duration": 531,
    "start_time": "2023-09-14T16:56:23.255Z"
   },
   {
    "duration": 647,
    "start_time": "2023-09-14T16:56:23.792Z"
   },
   {
    "duration": 34,
    "start_time": "2023-09-14T16:56:24.443Z"
   },
   {
    "duration": 10,
    "start_time": "2023-09-14T16:56:24.479Z"
   },
   {
    "duration": 57,
    "start_time": "2023-09-14T16:56:24.491Z"
   },
   {
    "duration": 5,
    "start_time": "2023-09-14T16:56:24.550Z"
   },
   {
    "duration": 1701,
    "start_time": "2023-09-14T16:56:24.558Z"
   },
   {
    "duration": 384,
    "start_time": "2023-09-14T16:56:26.261Z"
   },
   {
    "duration": 761,
    "start_time": "2023-09-14T16:56:26.647Z"
   },
   {
    "duration": 640,
    "start_time": "2023-09-14T16:56:27.410Z"
   },
   {
    "duration": 4,
    "start_time": "2023-09-14T16:56:28.051Z"
   },
   {
    "duration": 14,
    "start_time": "2023-09-14T16:56:28.056Z"
   },
   {
    "duration": 30,
    "start_time": "2023-09-14T16:56:28.071Z"
   },
   {
    "duration": 1428547,
    "start_time": "2023-09-14T16:56:28.103Z"
   },
   {
    "duration": 99026,
    "start_time": "2023-09-14T17:20:16.651Z"
   },
   {
    "duration": 19,
    "start_time": "2023-09-14T17:21:55.678Z"
   },
   {
    "duration": 24462,
    "start_time": "2023-09-14T17:21:55.699Z"
   },
   {
    "duration": 30,
    "start_time": "2023-09-14T17:22:20.163Z"
   },
   {
    "duration": 106,
    "start_time": "2023-09-14T17:41:02.164Z"
   }
  ],
  "kernelspec": {
   "display_name": "Python 3 (ipykernel)",
   "language": "python",
   "name": "python3"
  },
  "language_info": {
   "codemirror_mode": {
    "name": "ipython",
    "version": 3
   },
   "file_extension": ".py",
   "mimetype": "text/x-python",
   "name": "python",
   "nbconvert_exporter": "python",
   "pygments_lexer": "ipython3",
   "version": "3.9.5"
  },
  "toc": {
   "base_numbering": 1,
   "nav_menu": {},
   "number_sections": true,
   "sideBar": true,
   "skip_h1_title": true,
   "title_cell": "Содержание",
   "title_sidebar": "Contents",
   "toc_cell": true,
   "toc_position": {
    "height": "calc(100% - 180px)",
    "left": "10px",
    "top": "150px",
    "width": "165px"
   },
   "toc_section_display": true,
   "toc_window_display": true
  }
 },
 "nbformat": 4,
 "nbformat_minor": 4
}
