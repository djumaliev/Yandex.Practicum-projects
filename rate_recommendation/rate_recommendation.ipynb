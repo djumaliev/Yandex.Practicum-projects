{
 "cells": [
  {
   "cell_type": "markdown",
   "metadata": {},
   "source": [
    "# Research for the mobile operator \"Megaline\". Tariff Recommendation.\n",
    "\n",
    "The mobile operator \"Megaline\" has found that many customers are using outdated . They want to build a system capable of analyzing customer behavior and suggesting a new tariff: \"Smart\" or \"Ultra\". We have data on the behavior of customers who have already switched to these tariffs. We need to build a classification model that will select the appropriate tariff. Data preprocessing is not required.\n",
    "\n",
    "Attributes:\n",
    "\n",
    "- calls: number of calls\n",
    "- minutes: total duration of calls in minutes\n",
    "- messages: number of SMS messages\n",
    "- mb_used: internet traffic in megabytes\n",
    "- is_ultra: the tariff used during the month (\"Ultra\" - 1, \"Smart\" - 0).\n",
    "\n",
    "Research Steps:\n",
    "\n",
    "1. Open the data file located at '/datasets/users_behavior.csv'.\n",
    "2. Divide the original data into training, validation, and test sets.\n",
    "3. Explore the quality of different models by adjusting hyperparameters.\n",
    "4. Summarize the conclusions of the research.\n",
    "5. Check the model's quality on the test set.\n",
    "6. Additional task: check the models for adequacy."
   ]
  },
  {
   "cell_type": "markdown",
   "metadata": {},
   "source": [
    "## Let's open and examine the file."
   ]
  },
  {
   "cell_type": "markdown",
   "metadata": {},
   "source": [
    "Import all the necessary libraries."
   ]
  },
  {
   "cell_type": "code",
   "execution_count": 1,
   "metadata": {},
   "outputs": [],
   "source": [
    "import pandas as pd\n",
    "from sklearn.tree import DecisionTreeClassifier\n",
    "from sklearn.ensemble import RandomForestClassifier\n",
    "from sklearn.linear_model import LogisticRegression\n",
    "from sklearn.model_selection import train_test_split\n",
    "from sklearn.metrics import accuracy_score"
   ]
  },
  {
   "cell_type": "code",
   "execution_count": 2,
   "metadata": {},
   "outputs": [
    {
     "data": {
      "text/html": [
       "<div>\n",
       "<style scoped>\n",
       "    .dataframe tbody tr th:only-of-type {\n",
       "        vertical-align: middle;\n",
       "    }\n",
       "\n",
       "    .dataframe tbody tr th {\n",
       "        vertical-align: top;\n",
       "    }\n",
       "\n",
       "    .dataframe thead th {\n",
       "        text-align: right;\n",
       "    }\n",
       "</style>\n",
       "<table border=\"1\" class=\"dataframe\">\n",
       "  <thead>\n",
       "    <tr style=\"text-align: right;\">\n",
       "      <th></th>\n",
       "      <th>calls</th>\n",
       "      <th>minutes</th>\n",
       "      <th>messages</th>\n",
       "      <th>mb_used</th>\n",
       "      <th>is_ultra</th>\n",
       "    </tr>\n",
       "  </thead>\n",
       "  <tbody>\n",
       "    <tr>\n",
       "      <th>0</th>\n",
       "      <td>40.0</td>\n",
       "      <td>311.90</td>\n",
       "      <td>83.0</td>\n",
       "      <td>19915.42</td>\n",
       "      <td>0</td>\n",
       "    </tr>\n",
       "    <tr>\n",
       "      <th>1</th>\n",
       "      <td>85.0</td>\n",
       "      <td>516.75</td>\n",
       "      <td>56.0</td>\n",
       "      <td>22696.96</td>\n",
       "      <td>0</td>\n",
       "    </tr>\n",
       "    <tr>\n",
       "      <th>2</th>\n",
       "      <td>77.0</td>\n",
       "      <td>467.66</td>\n",
       "      <td>86.0</td>\n",
       "      <td>21060.45</td>\n",
       "      <td>0</td>\n",
       "    </tr>\n",
       "    <tr>\n",
       "      <th>3</th>\n",
       "      <td>106.0</td>\n",
       "      <td>745.53</td>\n",
       "      <td>81.0</td>\n",
       "      <td>8437.39</td>\n",
       "      <td>1</td>\n",
       "    </tr>\n",
       "    <tr>\n",
       "      <th>4</th>\n",
       "      <td>66.0</td>\n",
       "      <td>418.74</td>\n",
       "      <td>1.0</td>\n",
       "      <td>14502.75</td>\n",
       "      <td>0</td>\n",
       "    </tr>\n",
       "    <tr>\n",
       "      <th>...</th>\n",
       "      <td>...</td>\n",
       "      <td>...</td>\n",
       "      <td>...</td>\n",
       "      <td>...</td>\n",
       "      <td>...</td>\n",
       "    </tr>\n",
       "    <tr>\n",
       "      <th>3209</th>\n",
       "      <td>122.0</td>\n",
       "      <td>910.98</td>\n",
       "      <td>20.0</td>\n",
       "      <td>35124.90</td>\n",
       "      <td>1</td>\n",
       "    </tr>\n",
       "    <tr>\n",
       "      <th>3210</th>\n",
       "      <td>25.0</td>\n",
       "      <td>190.36</td>\n",
       "      <td>0.0</td>\n",
       "      <td>3275.61</td>\n",
       "      <td>0</td>\n",
       "    </tr>\n",
       "    <tr>\n",
       "      <th>3211</th>\n",
       "      <td>97.0</td>\n",
       "      <td>634.44</td>\n",
       "      <td>70.0</td>\n",
       "      <td>13974.06</td>\n",
       "      <td>0</td>\n",
       "    </tr>\n",
       "    <tr>\n",
       "      <th>3212</th>\n",
       "      <td>64.0</td>\n",
       "      <td>462.32</td>\n",
       "      <td>90.0</td>\n",
       "      <td>31239.78</td>\n",
       "      <td>0</td>\n",
       "    </tr>\n",
       "    <tr>\n",
       "      <th>3213</th>\n",
       "      <td>80.0</td>\n",
       "      <td>566.09</td>\n",
       "      <td>6.0</td>\n",
       "      <td>29480.52</td>\n",
       "      <td>1</td>\n",
       "    </tr>\n",
       "  </tbody>\n",
       "</table>\n",
       "<p>3214 rows × 5 columns</p>\n",
       "</div>"
      ],
      "text/plain": [
       "      calls  minutes  messages   mb_used  is_ultra\n",
       "0      40.0   311.90      83.0  19915.42         0\n",
       "1      85.0   516.75      56.0  22696.96         0\n",
       "2      77.0   467.66      86.0  21060.45         0\n",
       "3     106.0   745.53      81.0   8437.39         1\n",
       "4      66.0   418.74       1.0  14502.75         0\n",
       "...     ...      ...       ...       ...       ...\n",
       "3209  122.0   910.98      20.0  35124.90         1\n",
       "3210   25.0   190.36       0.0   3275.61         0\n",
       "3211   97.0   634.44      70.0  13974.06         0\n",
       "3212   64.0   462.32      90.0  31239.78         0\n",
       "3213   80.0   566.09       6.0  29480.52         1\n",
       "\n",
       "[3214 rows x 5 columns]"
      ]
     },
     "metadata": {},
     "output_type": "display_data"
    },
    {
     "data": {
      "text/html": [
       "<div>\n",
       "<style scoped>\n",
       "    .dataframe tbody tr th:only-of-type {\n",
       "        vertical-align: middle;\n",
       "    }\n",
       "\n",
       "    .dataframe tbody tr th {\n",
       "        vertical-align: top;\n",
       "    }\n",
       "\n",
       "    .dataframe thead th {\n",
       "        text-align: right;\n",
       "    }\n",
       "</style>\n",
       "<table border=\"1\" class=\"dataframe\">\n",
       "  <thead>\n",
       "    <tr style=\"text-align: right;\">\n",
       "      <th></th>\n",
       "      <th>calls</th>\n",
       "      <th>minutes</th>\n",
       "      <th>messages</th>\n",
       "      <th>mb_used</th>\n",
       "      <th>is_ultra</th>\n",
       "    </tr>\n",
       "  </thead>\n",
       "  <tbody>\n",
       "    <tr>\n",
       "      <th>count</th>\n",
       "      <td>3214.000000</td>\n",
       "      <td>3214.000000</td>\n",
       "      <td>3214.000000</td>\n",
       "      <td>3214.000000</td>\n",
       "      <td>3214.000000</td>\n",
       "    </tr>\n",
       "    <tr>\n",
       "      <th>mean</th>\n",
       "      <td>63.038892</td>\n",
       "      <td>438.208787</td>\n",
       "      <td>38.281269</td>\n",
       "      <td>17207.673836</td>\n",
       "      <td>0.306472</td>\n",
       "    </tr>\n",
       "    <tr>\n",
       "      <th>std</th>\n",
       "      <td>33.236368</td>\n",
       "      <td>234.569872</td>\n",
       "      <td>36.148326</td>\n",
       "      <td>7570.968246</td>\n",
       "      <td>0.461100</td>\n",
       "    </tr>\n",
       "    <tr>\n",
       "      <th>min</th>\n",
       "      <td>0.000000</td>\n",
       "      <td>0.000000</td>\n",
       "      <td>0.000000</td>\n",
       "      <td>0.000000</td>\n",
       "      <td>0.000000</td>\n",
       "    </tr>\n",
       "    <tr>\n",
       "      <th>25%</th>\n",
       "      <td>40.000000</td>\n",
       "      <td>274.575000</td>\n",
       "      <td>9.000000</td>\n",
       "      <td>12491.902500</td>\n",
       "      <td>0.000000</td>\n",
       "    </tr>\n",
       "    <tr>\n",
       "      <th>50%</th>\n",
       "      <td>62.000000</td>\n",
       "      <td>430.600000</td>\n",
       "      <td>30.000000</td>\n",
       "      <td>16943.235000</td>\n",
       "      <td>0.000000</td>\n",
       "    </tr>\n",
       "    <tr>\n",
       "      <th>75%</th>\n",
       "      <td>82.000000</td>\n",
       "      <td>571.927500</td>\n",
       "      <td>57.000000</td>\n",
       "      <td>21424.700000</td>\n",
       "      <td>1.000000</td>\n",
       "    </tr>\n",
       "    <tr>\n",
       "      <th>max</th>\n",
       "      <td>244.000000</td>\n",
       "      <td>1632.060000</td>\n",
       "      <td>224.000000</td>\n",
       "      <td>49745.730000</td>\n",
       "      <td>1.000000</td>\n",
       "    </tr>\n",
       "  </tbody>\n",
       "</table>\n",
       "</div>"
      ],
      "text/plain": [
       "             calls      minutes     messages       mb_used     is_ultra\n",
       "count  3214.000000  3214.000000  3214.000000   3214.000000  3214.000000\n",
       "mean     63.038892   438.208787    38.281269  17207.673836     0.306472\n",
       "std      33.236368   234.569872    36.148326   7570.968246     0.461100\n",
       "min       0.000000     0.000000     0.000000      0.000000     0.000000\n",
       "25%      40.000000   274.575000     9.000000  12491.902500     0.000000\n",
       "50%      62.000000   430.600000    30.000000  16943.235000     0.000000\n",
       "75%      82.000000   571.927500    57.000000  21424.700000     1.000000\n",
       "max     244.000000  1632.060000   224.000000  49745.730000     1.000000"
      ]
     },
     "metadata": {},
     "output_type": "display_data"
    },
    {
     "name": "stdout",
     "output_type": "stream",
     "text": [
      "<class 'pandas.core.frame.DataFrame'>\n",
      "RangeIndex: 3214 entries, 0 to 3213\n",
      "Data columns (total 5 columns):\n",
      " #   Column    Non-Null Count  Dtype  \n",
      "---  ------    --------------  -----  \n",
      " 0   calls     3214 non-null   float64\n",
      " 1   minutes   3214 non-null   float64\n",
      " 2   messages  3214 non-null   float64\n",
      " 3   mb_used   3214 non-null   float64\n",
      " 4   is_ultra  3214 non-null   int64  \n",
      "dtypes: float64(4), int64(1)\n",
      "memory usage: 125.7 KB\n"
     ]
    }
   ],
   "source": [
    "df = pd.read_csv('/Users/daniyardjumaliev/Jupyter/Projects/datasets/users_behavior.csv')\n",
    "display(df)\n",
    "display(df.describe())\n",
    "df.info()"
   ]
  },
  {
   "cell_type": "markdown",
   "metadata": {},
   "source": [
    "## Let's split the data into samples."
   ]
  },
  {
   "cell_type": "markdown",
   "metadata": {},
   "source": [
    "First, let's create training features and the target feature."
   ]
  },
  {
   "cell_type": "code",
   "execution_count": 3,
   "metadata": {},
   "outputs": [],
   "source": [
    "features = df.drop(['is_ultra'], axis=1)\n",
    "target = df['is_ultra']"
   ]
  },
  {
   "cell_type": "markdown",
   "metadata": {},
   "source": [
    "Now let's split the data into training (60%), validation (20%), and test (20%) sets."
   ]
  },
  {
   "cell_type": "code",
   "execution_count": 4,
   "metadata": {},
   "outputs": [
    {
     "name": "stdout",
     "output_type": "stream",
     "text": [
      "Train: (1928, 4)\n",
      "Validation: (643, 4)\n",
      "Test: (643, 4)\n"
     ]
    }
   ],
   "source": [
    "features_train, features_temp, target_train, target_temp = train_test_split(\n",
    "    features, target, test_size=0.4, random_state=12345)\n",
    "\n",
    "features_valid, features_test, target_valid, target_test = train_test_split(\n",
    "    features_temp, target_temp, test_size=0.5, random_state=12345)\n",
    "\n",
    "print('Train:', features_train.shape)\n",
    "print('Validation:', features_valid.shape)\n",
    "print('Test:', features_test.shape)"
   ]
  },
  {
   "cell_type": "markdown",
   "metadata": {},
   "source": [
    "## Let's explore the models."
   ]
  },
  {
   "cell_type": "markdown",
   "metadata": {},
   "source": [
    "Now, let's determine which learning model will be the most effective."
   ]
  },
  {
   "cell_type": "markdown",
   "metadata": {},
   "source": [
    "Decision tree."
   ]
  },
  {
   "cell_type": "code",
   "execution_count": 5,
   "metadata": {},
   "outputs": [
    {
     "name": "stdout",
     "output_type": "stream",
     "text": [
      "The quality of the decision tree on the validation set: 0.7853810264385692, max_depth: 3\n"
     ]
    }
   ],
   "source": [
    "best_depth = 0\n",
    "best_result = 0\n",
    "\n",
    "for depth in range(1, 11):\n",
    "    tree_model = DecisionTreeClassifier(random_state=12345, max_depth=depth)\n",
    "    tree_model.fit(features_train, target_train)\n",
    "    predictions_valid = tree_model.predict(features_valid)\n",
    "    result = tree_model.score(features_valid, target_valid)\n",
    "    if result > best_result:\n",
    "        best_result = result\n",
    "        best_depth = depth\n",
    "\n",
    "print(f'The quality of the decision tree on the validation set: {best_result}, max_depth: {best_depth}')"
   ]
  },
  {
   "cell_type": "markdown",
   "metadata": {},
   "source": [
    "Random forest."
   ]
  },
  {
   "cell_type": "code",
   "execution_count": 6,
   "metadata": {},
   "outputs": [
    {
     "name": "stdout",
     "output_type": "stream",
     "text": [
      "The quality of the random forest on the validation set: 0.8087091757387247, n_estimators: 40, max_depth: 8\n"
     ]
    }
   ],
   "source": [
    "best_model = None\n",
    "best_result = 0\n",
    "best_est = 0\n",
    "best_depth = 0\n",
    "for est in range(10, 51, 10):\n",
    "    for depth in range (1, 11):\n",
    "        rand_forest_model = RandomForestClassifier(random_state=12345, n_estimators=est, max_depth=depth)\n",
    "        rand_forest_model.fit(features_train, target_train)\n",
    "        predictions_valid = rand_forest_model.predict(features_valid)\n",
    "        result = rand_forest_model.score(features_valid, target_valid)\n",
    "        if result > best_result:\n",
    "            best_model = rand_forest_model\n",
    "            best_result = result\n",
    "            best_est = est\n",
    "            best_depth = depth\n",
    "\n",
    "print(f'The quality of the random forest on the validation set: {best_result}, n_estimators: {best_est}, max_depth: {best_depth}')"
   ]
  },
  {
   "cell_type": "markdown",
   "metadata": {},
   "source": [
    "Logistic regression."
   ]
  },
  {
   "cell_type": "code",
   "execution_count": 7,
   "metadata": {},
   "outputs": [
    {
     "name": "stdout",
     "output_type": "stream",
     "text": [
      "The quality of the logistic regression on the validation set: 0.7107309486780715\n"
     ]
    }
   ],
   "source": [
    "logistic_model = LogisticRegression(random_state=12345, solver='lbfgs', max_iter=1000)\n",
    "logistic_model.fit(features_train, target_train)\n",
    "logistic_accuracy = logistic_model.score(features_valid, target_valid)\n",
    "print(f'The quality of the logistic regression on the validation set: {logistic_accuracy}')"
   ]
  },
  {
   "cell_type": "markdown",
   "metadata": {},
   "source": [
    "_Conclusion_: After testing each of the models on the training set (60% of the original) and making predictions on the validation set (20%), the following results were obtained regarding the quality of each model:\n",
    "\n",
    "- Decision Tree - 0.7853810264385692, depth: 3\n",
    "- Random Forest - 0.8087091757387247, number of trees: 40, depth: 8\n",
    "- Logistic Regression - 0.7107309486780715\n",
    "\n",
    "The most accurate of the tested models turned out to be the Random Forest. The decision tree is optimal in terms of processing time and accuracy. Logistic regression requires additional adjustments as its quality is below the specified 0.75 threshold."
   ]
  },
  {
   "cell_type": "markdown",
   "metadata": {},
   "source": [
    "## Let's check our best model - Random forest on the test set."
   ]
  },
  {
   "cell_type": "code",
   "execution_count": 8,
   "metadata": {},
   "outputs": [
    {
     "name": "stdout",
     "output_type": "stream",
     "text": [
      "The quality of the random forest on the test set: 0.7962674961119751\n"
     ]
    }
   ],
   "source": [
    "rand_forest_model = RandomForestClassifier(random_state=12345, n_estimators=40, max_depth=8)\n",
    "rand_forest_model.fit(features_train, target_train)\n",
    "predictions_test = rand_forest_model.predict(features_test)\n",
    "rand_accuracy_test = rand_forest_model.score(features_test, target_test)\n",
    "print(f'The quality of the random forest on the test set: {rand_accuracy_test}')"
   ]
  },
  {
   "cell_type": "markdown",
   "metadata": {},
   "source": [
    "__Conclusion__: The model's quality has decreased, but the result meets the customer's specified requirement of accuracy above 0.75. The model is quite resource-intensive, so if the amount of data increases significantly in the future, the processing time will also increase, potentially affecting customer loyalty. Therefore, the optimal model in this case would be the decision tree model. However, if there is no expectation of a sharp increase in subscribers and, consequently, an increase in data in the future, I recommend using the random forest model, as there is almost a 2% improvement with random forest compared to the decision tree."
   ]
  },
  {
   "cell_type": "markdown",
   "metadata": {},
   "source": [
    "## (Bonus) Let's check the models for adequacy."
   ]
  },
  {
   "cell_type": "markdown",
   "metadata": {},
   "source": [
    "We will assess the adequacy of all three models by comparing them with the baseline metric. To do this, first, let's find out the number of \"1\" (Ultra tariff) and \"0\" (Smart tariff) in the original data."
   ]
  },
  {
   "cell_type": "code",
   "execution_count": 9,
   "metadata": {},
   "outputs": [
    {
     "name": "stdout",
     "output_type": "stream",
     "text": [
      "is_ultra\n",
      "0    2229\n",
      "1     985\n",
      "Name: count, dtype: int64\n"
     ]
    }
   ],
   "source": [
    "print(df['is_ultra'].value_counts())"
   ]
  },
  {
   "cell_type": "markdown",
   "metadata": {},
   "source": [
    "So, our baseline metric - base_accuracy is the number of \"1\"s (Ultra) divided by the total number of all tariffs (Smart + Ultra)."
   ]
  },
  {
   "cell_type": "code",
   "execution_count": 10,
   "metadata": {},
   "outputs": [
    {
     "name": "stdout",
     "output_type": "stream",
     "text": [
      "base_accuracy = 0.693528313627878\n"
     ]
    }
   ],
   "source": [
    "base_accuracy = 2229 / (2229 + 985)\n",
    "print(f'base_accuracy = {base_accuracy}')"
   ]
  },
  {
   "cell_type": "code",
   "execution_count": 11,
   "metadata": {},
   "outputs": [
    {
     "name": "stdout",
     "output_type": "stream",
     "text": [
      "Improvement in the accuracy of the decision tree: 12.32%\n",
      "Improvement in the accuracy of the random forest: 14.78%\n",
      "Improvement in the accuracy of the logistic regression: -1.37%\n"
     ]
    }
   ],
   "source": [
    "base_accuracy = 0.693528313627878\n",
    "\n",
    "decision_tree_accuracy = 0.779\n",
    "random_forest_accuracy = 0.796\n",
    "logistic_regression_accuracy = 0.684\n",
    "\n",
    "decision_tree_improvement = (decision_tree_accuracy - base_accuracy) / base_accuracy\n",
    "random_forest_improvement = (random_forest_accuracy - base_accuracy) / base_accuracy\n",
    "logistic_regression_improvement = (logistic_regression_accuracy - base_accuracy) / base_accuracy\n",
    "\n",
    "print(f'Improvement in the accuracy of the decision tree: {decision_tree_improvement:.2%}')\n",
    "print(f'Improvement in the accuracy of the random forest: {random_forest_improvement:.2%}')\n",
    "print(f'Improvement in the accuracy of the logistic regression: {logistic_regression_improvement:.2%}')"
   ]
  },
  {
   "cell_type": "markdown",
   "metadata": {},
   "source": [
    "_Conclusion_:\n",
    "\n",
    "- Improvement in the accuracy of the decision tree: 12.32% - This means that the decision tree demonstrates a 12.32% improvement compared to the baseline model. This is a positive result, indicating that the model has a higher prediction accuracy compared to the baseline.\n",
    "\n",
    "- Improvement in the accuracy of the random forest: 14.78% - The random forest also shows a 14.78% improvement compared to the baseline model. This is another positive result, and the random forest proves to be more accurate than the decision tree.\n",
    "\n",
    "- Improvement in the accuracy of logistic regression: -1.37% - Here, there is no improvement, and the accuracy of logistic regression is slightly worse than the baseline model. In this case, it suggests that logistic regression, in its current state, does not outperform the naive classification strategy (predicting the most frequent class) on our data.\n",
    "\n",
    "In conclusion, the decision tree and random forest show positive improvements compared to the baseline model, indicating better learning and adaptation to our data. Logistic regression, on the other hand, performs poorly, worse than the baseline model with its naive classification strategy."
   ]
  },
  {
   "cell_type": "code",
   "execution_count": null,
   "metadata": {},
   "outputs": [],
   "source": []
  }
 ],
 "metadata": {
  "ExecuteTimeLog": [
   {
    "duration": 1282,
    "start_time": "2023-08-21T11:27:41.149Z"
   },
   {
    "duration": 186,
    "start_time": "2023-08-21T11:27:42.434Z"
   },
   {
    "duration": 4,
    "start_time": "2023-08-21T11:41:39.771Z"
   },
   {
    "duration": 7,
    "start_time": "2023-08-21T11:52:39.361Z"
   },
   {
    "duration": 104,
    "start_time": "2023-08-21T12:06:17.244Z"
   },
   {
    "duration": 3,
    "start_time": "2023-08-21T12:06:24.706Z"
   },
   {
    "duration": 3,
    "start_time": "2023-08-21T12:07:37.123Z"
   },
   {
    "duration": 62,
    "start_time": "2023-08-21T12:07:37.623Z"
   },
   {
    "duration": 1075,
    "start_time": "2023-08-21T12:07:43.140Z"
   },
   {
    "duration": 71,
    "start_time": "2023-08-21T12:07:44.217Z"
   },
   {
    "duration": 4,
    "start_time": "2023-08-21T12:07:44.290Z"
   },
   {
    "duration": 44,
    "start_time": "2023-08-21T12:07:44.296Z"
   },
   {
    "duration": 126,
    "start_time": "2023-08-21T12:07:44.342Z"
   },
   {
    "duration": 1186,
    "start_time": "2023-08-21T12:08:54.284Z"
   },
   {
    "duration": 69,
    "start_time": "2023-08-21T12:08:55.472Z"
   },
   {
    "duration": 4,
    "start_time": "2023-08-21T12:08:55.542Z"
   },
   {
    "duration": 33,
    "start_time": "2023-08-21T12:08:55.547Z"
   },
   {
    "duration": 76,
    "start_time": "2023-08-21T12:08:55.582Z"
   },
   {
    "duration": 262,
    "start_time": "2023-08-21T12:11:37.966Z"
   },
   {
    "duration": 660,
    "start_time": "2023-08-21T12:22:10.528Z"
   },
   {
    "duration": 3,
    "start_time": "2023-08-21T12:22:35.255Z"
   },
   {
    "duration": 1224,
    "start_time": "2023-08-21T12:22:41.652Z"
   },
   {
    "duration": 80,
    "start_time": "2023-08-21T12:22:42.878Z"
   },
   {
    "duration": 4,
    "start_time": "2023-08-21T12:22:42.960Z"
   },
   {
    "duration": 12,
    "start_time": "2023-08-21T12:22:42.965Z"
   },
   {
    "duration": 53,
    "start_time": "2023-08-21T12:22:42.979Z"
   },
   {
    "duration": 284,
    "start_time": "2023-08-21T12:22:43.034Z"
   },
   {
    "duration": 906,
    "start_time": "2023-08-21T12:22:43.320Z"
   },
   {
    "duration": 101,
    "start_time": "2023-08-21T12:23:50.599Z"
   },
   {
    "duration": 139,
    "start_time": "2023-08-21T12:32:08.123Z"
   },
   {
    "duration": 110,
    "start_time": "2023-08-21T12:32:29.025Z"
   },
   {
    "duration": 112,
    "start_time": "2023-08-21T12:38:07.542Z"
   },
   {
    "duration": 1145,
    "start_time": "2023-08-21T12:38:28.568Z"
   },
   {
    "duration": 87,
    "start_time": "2023-08-21T12:38:29.715Z"
   },
   {
    "duration": 4,
    "start_time": "2023-08-21T12:38:29.806Z"
   },
   {
    "duration": 40,
    "start_time": "2023-08-21T12:38:29.812Z"
   },
   {
    "duration": 70,
    "start_time": "2023-08-21T12:38:29.853Z"
   },
   {
    "duration": 100,
    "start_time": "2023-08-21T12:38:29.925Z"
   },
   {
    "duration": 0,
    "start_time": "2023-08-21T12:38:30.027Z"
   },
   {
    "duration": 111,
    "start_time": "2023-08-21T12:41:12.699Z"
   },
   {
    "duration": 80,
    "start_time": "2023-08-21T12:41:25.199Z"
   },
   {
    "duration": 426,
    "start_time": "2023-08-21T12:41:32.756Z"
   },
   {
    "duration": 322,
    "start_time": "2023-08-21T12:42:56.075Z"
   },
   {
    "duration": 89,
    "start_time": "2023-08-21T12:43:29.554Z"
   },
   {
    "duration": 4358,
    "start_time": "2023-08-21T12:44:13.058Z"
   },
   {
    "duration": 93,
    "start_time": "2023-08-21T12:46:56.591Z"
   },
   {
    "duration": 29,
    "start_time": "2023-08-21T12:47:01.282Z"
   },
   {
    "duration": 79,
    "start_time": "2023-08-21T12:48:57.867Z"
   },
   {
    "duration": 1183,
    "start_time": "2023-08-21T12:52:42.903Z"
   },
   {
    "duration": 71,
    "start_time": "2023-08-21T12:52:44.099Z"
   },
   {
    "duration": 4,
    "start_time": "2023-08-21T12:52:44.171Z"
   },
   {
    "duration": 48,
    "start_time": "2023-08-21T12:52:44.176Z"
   },
   {
    "duration": 123,
    "start_time": "2023-08-21T12:52:44.227Z"
   },
   {
    "duration": 4326,
    "start_time": "2023-08-21T12:52:44.351Z"
   },
   {
    "duration": 34,
    "start_time": "2023-08-21T12:52:48.679Z"
   },
   {
    "duration": 90,
    "start_time": "2023-08-21T12:56:15.162Z"
   },
   {
    "duration": 30,
    "start_time": "2023-08-21T12:57:11.872Z"
   },
   {
    "duration": 84,
    "start_time": "2023-08-21T12:58:23.569Z"
   },
   {
    "duration": 4403,
    "start_time": "2023-08-21T13:03:34.636Z"
   },
   {
    "duration": 24,
    "start_time": "2023-08-21T13:03:39.042Z"
   },
   {
    "duration": 115,
    "start_time": "2023-08-21T13:04:53.870Z"
   },
   {
    "duration": 24,
    "start_time": "2023-08-21T13:05:07.460Z"
   },
   {
    "duration": 77,
    "start_time": "2023-08-21T13:06:20.114Z"
   },
   {
    "duration": 1192,
    "start_time": "2023-08-21T13:06:49.672Z"
   },
   {
    "duration": 81,
    "start_time": "2023-08-21T13:06:50.866Z"
   },
   {
    "duration": 4,
    "start_time": "2023-08-21T13:06:50.950Z"
   },
   {
    "duration": 28,
    "start_time": "2023-08-21T13:06:50.956Z"
   },
   {
    "duration": 134,
    "start_time": "2023-08-21T13:06:50.987Z"
   },
   {
    "duration": 0,
    "start_time": "2023-08-21T13:06:51.123Z"
   },
   {
    "duration": 0,
    "start_time": "2023-08-21T13:06:51.124Z"
   },
   {
    "duration": 24,
    "start_time": "2023-08-21T13:09:01.621Z"
   },
   {
    "duration": 15,
    "start_time": "2023-08-21T13:10:14.040Z"
   },
   {
    "duration": 83,
    "start_time": "2023-08-21T13:11:31.553Z"
   },
   {
    "duration": 4321,
    "start_time": "2023-08-21T13:11:41.722Z"
   },
   {
    "duration": 23,
    "start_time": "2023-08-21T13:11:53.827Z"
   },
   {
    "duration": 54,
    "start_time": "2023-08-21T17:33:02.477Z"
   },
   {
    "duration": 1265,
    "start_time": "2023-08-21T17:33:16.430Z"
   },
   {
    "duration": 109,
    "start_time": "2023-08-21T17:33:17.697Z"
   },
   {
    "duration": 4,
    "start_time": "2023-08-21T17:33:17.808Z"
   },
   {
    "duration": 10,
    "start_time": "2023-08-21T17:33:17.815Z"
   },
   {
    "duration": 102,
    "start_time": "2023-08-21T17:33:17.827Z"
   },
   {
    "duration": 4325,
    "start_time": "2023-08-21T17:33:17.931Z"
   },
   {
    "duration": 37,
    "start_time": "2023-08-21T17:33:22.257Z"
   },
   {
    "duration": 178,
    "start_time": "2023-08-21T17:33:22.297Z"
   },
   {
    "duration": 65,
    "start_time": "2023-08-21T17:48:08.296Z"
   },
   {
    "duration": 62,
    "start_time": "2023-08-21T17:49:46.592Z"
   },
   {
    "duration": 6,
    "start_time": "2023-08-21T17:57:52.354Z"
   },
   {
    "duration": 5,
    "start_time": "2023-08-21T18:00:27.391Z"
   },
   {
    "duration": 5,
    "start_time": "2023-08-21T18:05:54.826Z"
   },
   {
    "duration": 1352,
    "start_time": "2023-08-21T18:12:15.264Z"
   },
   {
    "duration": 93,
    "start_time": "2023-08-21T18:12:16.619Z"
   },
   {
    "duration": 5,
    "start_time": "2023-08-21T18:12:16.713Z"
   },
   {
    "duration": 74,
    "start_time": "2023-08-21T18:12:16.720Z"
   },
   {
    "duration": 131,
    "start_time": "2023-08-21T18:12:16.797Z"
   },
   {
    "duration": 4624,
    "start_time": "2023-08-21T18:12:16.930Z"
   },
   {
    "duration": 41,
    "start_time": "2023-08-21T18:12:21.556Z"
   },
   {
    "duration": 243,
    "start_time": "2023-08-21T18:12:21.599Z"
   },
   {
    "duration": 6,
    "start_time": "2023-08-21T18:12:21.844Z"
   },
   {
    "duration": 50,
    "start_time": "2023-08-21T18:12:21.852Z"
   },
   {
    "duration": 3,
    "start_time": "2023-08-21T18:20:03.550Z"
   },
   {
    "duration": 5,
    "start_time": "2023-08-21T18:20:26.180Z"
   },
   {
    "duration": 5,
    "start_time": "2023-08-21T18:20:46.548Z"
   },
   {
    "duration": 4,
    "start_time": "2023-08-21T18:20:55.108Z"
   },
   {
    "duration": 6,
    "start_time": "2023-08-21T18:21:10.801Z"
   },
   {
    "duration": 60,
    "start_time": "2023-08-22T05:51:57.045Z"
   },
   {
    "duration": 1476,
    "start_time": "2023-08-22T05:52:01.459Z"
   },
   {
    "duration": 150,
    "start_time": "2023-08-22T05:52:05.622Z"
   },
   {
    "duration": 5,
    "start_time": "2023-08-22T05:52:34.681Z"
   },
   {
    "duration": 79,
    "start_time": "2023-08-22T05:52:49.428Z"
   },
   {
    "duration": 4,
    "start_time": "2023-08-22T05:53:05.853Z"
   },
   {
    "duration": 10,
    "start_time": "2023-08-22T05:53:08.407Z"
   },
   {
    "duration": 81,
    "start_time": "2023-08-22T05:53:31.077Z"
   },
   {
    "duration": 4007,
    "start_time": "2023-08-22T05:53:38.230Z"
   }
  ],
  "kernelspec": {
   "display_name": "Python 3 (ipykernel)",
   "language": "python",
   "name": "python3"
  },
  "language_info": {
   "codemirror_mode": {
    "name": "ipython",
    "version": 3
   },
   "file_extension": ".py",
   "mimetype": "text/x-python",
   "name": "python",
   "nbconvert_exporter": "python",
   "pygments_lexer": "ipython3",
   "version": "3.9.5"
  },
  "toc": {
   "base_numbering": 1,
   "nav_menu": {},
   "number_sections": true,
   "sideBar": true,
   "skip_h1_title": true,
   "title_cell": "Table of Contents",
   "title_sidebar": "Contents",
   "toc_cell": false,
   "toc_position": {},
   "toc_section_display": true,
   "toc_window_display": false
  }
 },
 "nbformat": 4,
 "nbformat_minor": 4
}
