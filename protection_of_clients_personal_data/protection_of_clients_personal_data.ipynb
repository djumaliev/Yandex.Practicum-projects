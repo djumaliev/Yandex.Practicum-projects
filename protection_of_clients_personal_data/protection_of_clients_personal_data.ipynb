{
 "cells": [
  {
   "cell_type": "markdown",
   "metadata": {},
   "source": [
    "# Protection of Clients' Personal Data"
   ]
  },
  {
   "cell_type": "markdown",
   "metadata": {},
   "source": [
    "You need to protect the data of clients of the insurance company \"Even Flood.\" Develop a method of transforming the data so that it is difficult to reconstruct personal information from them. Substantiate the correctness of its operation.\n",
    "\n",
    "It is necessary to protect the data in such a way that the quality of machine learning models does not deteriorate during transformation. It is not necessary to search for the best model."
   ]
  },
  {
   "cell_type": "markdown",
   "metadata": {},
   "source": [
    "# Project Execution Order:\n",
    "\n",
    "1. Upload and study the data.\n",
    "2. Answer the question and justify the solution.\n",
    "3. If features are multiplied by an invertible matrix, will the quality of linear regression change? (To check, retrain it.)\n",
    "    - a. It will change. Provide examples of matrices.\n",
    "    - b. It will not change. Specify how the parameters of linear regression in the original problem and in the transformed one are related.\n",
    "4. Propose a data transformation algorithm to solve the problem. Provide justification for why the quality of linear regression will not change.\n",
    "5. Program this algorithm, applying matrix operations. Check whether the quality of linear regression from sklearn differs before and after transformation. Apply the R2 metric."
   ]
  },
  {
   "cell_type": "markdown",
   "metadata": {},
   "source": [
    "## Loading Data"
   ]
  },
  {
   "cell_type": "markdown",
   "metadata": {},
   "source": [
    "Import all the necessary libraries for the project."
   ]
  },
  {
   "cell_type": "code",
   "execution_count": 1,
   "metadata": {},
   "outputs": [],
   "source": [
    "import pandas as pd\n",
    "import numpy as np\n",
    "import os\n",
    "import matplotlib.pyplot as plt\n",
    "\n",
    "from sklearn.model_selection import train_test_split\n",
    "from sklearn.linear_model import LinearRegression\n",
    "from sklearn.metrics import mean_squared_error, r2_score"
   ]
  },
  {
   "cell_type": "markdown",
   "metadata": {},
   "source": [
    "Load the file and save it to a variable."
   ]
  },
  {
   "cell_type": "code",
   "execution_count": 2,
   "metadata": {
    "scrolled": true
   },
   "outputs": [
    {
     "name": "stdout",
     "output_type": "stream",
     "text": [
      "File loaded successfully.\n"
     ]
    }
   ],
   "source": [
    "pth1_ar = ['/Users/daniyardjumaliev/Jupyter/Projects/datasets/insurance.csv']\n",
    "pth2_ar = ['backup_path1.csv']\n",
    "df = None\n",
    "\n",
    "for pth1, pth2 in zip(pth1_ar, pth2_ar):\n",
    "    if os.path.exists(pth1):\n",
    "        df = pd.read_csv(pth1)\n",
    "    elif os.path.exists(pth2):\n",
    "        df = pd.read_csv(pth2)\n",
    "    else:\n",
    "        print(f'Warning: File not found in both paths for {pth1} and {pth2}')\n",
    "else:\n",
    "    print('File loaded successfully.')"
   ]
  },
  {
   "cell_type": "markdown",
   "metadata": {},
   "source": [
    "Right now, we have only one source from which we retrieve the file for investigation. If alternative paths for finding the file emerge in the future, they can be added to a second array. This helps to avoid errors during the data loading stage. Alternatively, create a third, fourth, and so on, following the same analogy."
   ]
  },
  {
   "cell_type": "markdown",
   "metadata": {},
   "source": [
    "Let's check the data quality from the dataset."
   ]
  },
  {
   "cell_type": "code",
   "execution_count": 3,
   "metadata": {},
   "outputs": [
    {
     "data": {
      "text/html": [
       "<div>\n",
       "<style scoped>\n",
       "    .dataframe tbody tr th:only-of-type {\n",
       "        vertical-align: middle;\n",
       "    }\n",
       "\n",
       "    .dataframe tbody tr th {\n",
       "        vertical-align: top;\n",
       "    }\n",
       "\n",
       "    .dataframe thead th {\n",
       "        text-align: right;\n",
       "    }\n",
       "</style>\n",
       "<table border=\"1\" class=\"dataframe\">\n",
       "  <thead>\n",
       "    <tr style=\"text-align: right;\">\n",
       "      <th></th>\n",
       "      <th>Пол</th>\n",
       "      <th>Возраст</th>\n",
       "      <th>Зарплата</th>\n",
       "      <th>Члены семьи</th>\n",
       "      <th>Страховые выплаты</th>\n",
       "    </tr>\n",
       "  </thead>\n",
       "  <tbody>\n",
       "    <tr>\n",
       "      <th>0</th>\n",
       "      <td>1</td>\n",
       "      <td>41.0</td>\n",
       "      <td>49600.0</td>\n",
       "      <td>1</td>\n",
       "      <td>0</td>\n",
       "    </tr>\n",
       "    <tr>\n",
       "      <th>1</th>\n",
       "      <td>0</td>\n",
       "      <td>46.0</td>\n",
       "      <td>38000.0</td>\n",
       "      <td>1</td>\n",
       "      <td>1</td>\n",
       "    </tr>\n",
       "    <tr>\n",
       "      <th>2</th>\n",
       "      <td>0</td>\n",
       "      <td>29.0</td>\n",
       "      <td>21000.0</td>\n",
       "      <td>0</td>\n",
       "      <td>0</td>\n",
       "    </tr>\n",
       "    <tr>\n",
       "      <th>3</th>\n",
       "      <td>0</td>\n",
       "      <td>21.0</td>\n",
       "      <td>41700.0</td>\n",
       "      <td>2</td>\n",
       "      <td>0</td>\n",
       "    </tr>\n",
       "    <tr>\n",
       "      <th>4</th>\n",
       "      <td>1</td>\n",
       "      <td>28.0</td>\n",
       "      <td>26100.0</td>\n",
       "      <td>0</td>\n",
       "      <td>0</td>\n",
       "    </tr>\n",
       "    <tr>\n",
       "      <th>...</th>\n",
       "      <td>...</td>\n",
       "      <td>...</td>\n",
       "      <td>...</td>\n",
       "      <td>...</td>\n",
       "      <td>...</td>\n",
       "    </tr>\n",
       "    <tr>\n",
       "      <th>4995</th>\n",
       "      <td>0</td>\n",
       "      <td>28.0</td>\n",
       "      <td>35700.0</td>\n",
       "      <td>2</td>\n",
       "      <td>0</td>\n",
       "    </tr>\n",
       "    <tr>\n",
       "      <th>4996</th>\n",
       "      <td>0</td>\n",
       "      <td>34.0</td>\n",
       "      <td>52400.0</td>\n",
       "      <td>1</td>\n",
       "      <td>0</td>\n",
       "    </tr>\n",
       "    <tr>\n",
       "      <th>4997</th>\n",
       "      <td>0</td>\n",
       "      <td>20.0</td>\n",
       "      <td>33900.0</td>\n",
       "      <td>2</td>\n",
       "      <td>0</td>\n",
       "    </tr>\n",
       "    <tr>\n",
       "      <th>4998</th>\n",
       "      <td>1</td>\n",
       "      <td>22.0</td>\n",
       "      <td>32700.0</td>\n",
       "      <td>3</td>\n",
       "      <td>0</td>\n",
       "    </tr>\n",
       "    <tr>\n",
       "      <th>4999</th>\n",
       "      <td>1</td>\n",
       "      <td>28.0</td>\n",
       "      <td>40600.0</td>\n",
       "      <td>1</td>\n",
       "      <td>0</td>\n",
       "    </tr>\n",
       "  </tbody>\n",
       "</table>\n",
       "<p>5000 rows × 5 columns</p>\n",
       "</div>"
      ],
      "text/plain": [
       "      Пол  Возраст  Зарплата  Члены семьи  Страховые выплаты\n",
       "0       1     41.0   49600.0            1                  0\n",
       "1       0     46.0   38000.0            1                  1\n",
       "2       0     29.0   21000.0            0                  0\n",
       "3       0     21.0   41700.0            2                  0\n",
       "4       1     28.0   26100.0            0                  0\n",
       "...   ...      ...       ...          ...                ...\n",
       "4995    0     28.0   35700.0            2                  0\n",
       "4996    0     34.0   52400.0            1                  0\n",
       "4997    0     20.0   33900.0            2                  0\n",
       "4998    1     22.0   32700.0            3                  0\n",
       "4999    1     28.0   40600.0            1                  0\n",
       "\n",
       "[5000 rows x 5 columns]"
      ]
     },
     "metadata": {},
     "output_type": "display_data"
    },
    {
     "data": {
      "text/html": [
       "<div>\n",
       "<style scoped>\n",
       "    .dataframe tbody tr th:only-of-type {\n",
       "        vertical-align: middle;\n",
       "    }\n",
       "\n",
       "    .dataframe tbody tr th {\n",
       "        vertical-align: top;\n",
       "    }\n",
       "\n",
       "    .dataframe thead th {\n",
       "        text-align: right;\n",
       "    }\n",
       "</style>\n",
       "<table border=\"1\" class=\"dataframe\">\n",
       "  <thead>\n",
       "    <tr style=\"text-align: right;\">\n",
       "      <th></th>\n",
       "      <th>Пол</th>\n",
       "      <th>Возраст</th>\n",
       "      <th>Зарплата</th>\n",
       "      <th>Члены семьи</th>\n",
       "      <th>Страховые выплаты</th>\n",
       "    </tr>\n",
       "  </thead>\n",
       "  <tbody>\n",
       "    <tr>\n",
       "      <th>count</th>\n",
       "      <td>5000.000000</td>\n",
       "      <td>5000.000000</td>\n",
       "      <td>5000.000000</td>\n",
       "      <td>5000.000000</td>\n",
       "      <td>5000.000000</td>\n",
       "    </tr>\n",
       "    <tr>\n",
       "      <th>mean</th>\n",
       "      <td>0.499000</td>\n",
       "      <td>30.952800</td>\n",
       "      <td>39916.360000</td>\n",
       "      <td>1.194200</td>\n",
       "      <td>0.148000</td>\n",
       "    </tr>\n",
       "    <tr>\n",
       "      <th>std</th>\n",
       "      <td>0.500049</td>\n",
       "      <td>8.440807</td>\n",
       "      <td>9900.083569</td>\n",
       "      <td>1.091387</td>\n",
       "      <td>0.463183</td>\n",
       "    </tr>\n",
       "    <tr>\n",
       "      <th>min</th>\n",
       "      <td>0.000000</td>\n",
       "      <td>18.000000</td>\n",
       "      <td>5300.000000</td>\n",
       "      <td>0.000000</td>\n",
       "      <td>0.000000</td>\n",
       "    </tr>\n",
       "    <tr>\n",
       "      <th>25%</th>\n",
       "      <td>0.000000</td>\n",
       "      <td>24.000000</td>\n",
       "      <td>33300.000000</td>\n",
       "      <td>0.000000</td>\n",
       "      <td>0.000000</td>\n",
       "    </tr>\n",
       "    <tr>\n",
       "      <th>50%</th>\n",
       "      <td>0.000000</td>\n",
       "      <td>30.000000</td>\n",
       "      <td>40200.000000</td>\n",
       "      <td>1.000000</td>\n",
       "      <td>0.000000</td>\n",
       "    </tr>\n",
       "    <tr>\n",
       "      <th>75%</th>\n",
       "      <td>1.000000</td>\n",
       "      <td>37.000000</td>\n",
       "      <td>46600.000000</td>\n",
       "      <td>2.000000</td>\n",
       "      <td>0.000000</td>\n",
       "    </tr>\n",
       "    <tr>\n",
       "      <th>max</th>\n",
       "      <td>1.000000</td>\n",
       "      <td>65.000000</td>\n",
       "      <td>79000.000000</td>\n",
       "      <td>6.000000</td>\n",
       "      <td>5.000000</td>\n",
       "    </tr>\n",
       "  </tbody>\n",
       "</table>\n",
       "</div>"
      ],
      "text/plain": [
       "               Пол      Возраст      Зарплата  Члены семьи  Страховые выплаты\n",
       "count  5000.000000  5000.000000   5000.000000  5000.000000        5000.000000\n",
       "mean      0.499000    30.952800  39916.360000     1.194200           0.148000\n",
       "std       0.500049     8.440807   9900.083569     1.091387           0.463183\n",
       "min       0.000000    18.000000   5300.000000     0.000000           0.000000\n",
       "25%       0.000000    24.000000  33300.000000     0.000000           0.000000\n",
       "50%       0.000000    30.000000  40200.000000     1.000000           0.000000\n",
       "75%       1.000000    37.000000  46600.000000     2.000000           0.000000\n",
       "max       1.000000    65.000000  79000.000000     6.000000           5.000000"
      ]
     },
     "metadata": {},
     "output_type": "display_data"
    },
    {
     "name": "stdout",
     "output_type": "stream",
     "text": [
      "<class 'pandas.core.frame.DataFrame'>\n",
      "RangeIndex: 5000 entries, 0 to 4999\n",
      "Data columns (total 5 columns):\n",
      " #   Column             Non-Null Count  Dtype  \n",
      "---  ------             --------------  -----  \n",
      " 0   Пол                5000 non-null   int64  \n",
      " 1   Возраст            5000 non-null   float64\n",
      " 2   Зарплата           5000 non-null   float64\n",
      " 3   Члены семьи        5000 non-null   int64  \n",
      " 4   Страховые выплаты  5000 non-null   int64  \n",
      "dtypes: float64(2), int64(3)\n",
      "memory usage: 195.4 KB\n"
     ]
    },
    {
     "data": {
      "text/plain": [
       "None"
      ]
     },
     "metadata": {},
     "output_type": "display_data"
    },
    {
     "data": {
      "text/plain": [
       "'Duplicates: 153'"
      ]
     },
     "metadata": {},
     "output_type": "display_data"
    },
    {
     "data": {
      "text/plain": [
       "'Missing values:'"
      ]
     },
     "metadata": {},
     "output_type": "display_data"
    },
    {
     "data": {
      "text/plain": [
       "Пол                  0\n",
       "Возраст              0\n",
       "Зарплата             0\n",
       "Члены семьи          0\n",
       "Страховые выплаты    0\n",
       "dtype: int64"
      ]
     },
     "metadata": {},
     "output_type": "display_data"
    }
   ],
   "source": [
    "display(df)\n",
    "display(df.describe())\n",
    "display(df.info())\n",
    "display(f'Duplicates: {df.duplicated().sum()}')\n",
    "display(f'Missing values:')\n",
    "display(df.isna().sum())"
   ]
  },
  {
   "cell_type": "code",
   "execution_count": 4,
   "metadata": {},
   "outputs": [
    {
     "data": {
      "text/plain": [
       "'Duplicates: 0'"
      ]
     },
     "metadata": {},
     "output_type": "display_data"
    }
   ],
   "source": [
    "df.drop_duplicates(inplace=True)\n",
    "display(f'Duplicates: {df.duplicated().sum()}')"
   ]
  },
  {
   "cell_type": "markdown",
   "metadata": {},
   "source": [
    "Let's check the correlation of the data."
   ]
  },
  {
   "cell_type": "code",
   "execution_count": 5,
   "metadata": {},
   "outputs": [
    {
     "data": {
      "text/html": [
       "<style type=\"text/css\">\n",
       "#T_c3fcb_row0_col0, #T_c3fcb_row1_col1, #T_c3fcb_row2_col2, #T_c3fcb_row3_col3, #T_c3fcb_row4_col4 {\n",
       "  background-color: #b40426;\n",
       "  color: #f1f1f1;\n",
       "}\n",
       "#T_c3fcb_row0_col1, #T_c3fcb_row1_col0 {\n",
       "  background-color: #465ecf;\n",
       "  color: #f1f1f1;\n",
       "}\n",
       "#T_c3fcb_row0_col2, #T_c3fcb_row2_col0 {\n",
       "  background-color: #4a63d3;\n",
       "  color: #f1f1f1;\n",
       "}\n",
       "#T_c3fcb_row0_col3, #T_c3fcb_row1_col3, #T_c3fcb_row3_col0, #T_c3fcb_row3_col1 {\n",
       "  background-color: #4358cb;\n",
       "  color: #f1f1f1;\n",
       "}\n",
       "#T_c3fcb_row0_col4, #T_c3fcb_row4_col0 {\n",
       "  background-color: #4961d2;\n",
       "  color: #f1f1f1;\n",
       "}\n",
       "#T_c3fcb_row1_col2, #T_c3fcb_row2_col1 {\n",
       "  background-color: #4055c8;\n",
       "  color: #f1f1f1;\n",
       "}\n",
       "#T_c3fcb_row1_col4, #T_c3fcb_row4_col1 {\n",
       "  background-color: #f7b79b;\n",
       "  color: #000000;\n",
       "}\n",
       "#T_c3fcb_row2_col3, #T_c3fcb_row3_col2 {\n",
       "  background-color: #3c4ec2;\n",
       "  color: #f1f1f1;\n",
       "}\n",
       "#T_c3fcb_row2_col4, #T_c3fcb_row4_col2 {\n",
       "  background-color: #4257c9;\n",
       "  color: #f1f1f1;\n",
       "}\n",
       "#T_c3fcb_row3_col4, #T_c3fcb_row4_col3 {\n",
       "  background-color: #3b4cc0;\n",
       "  color: #f1f1f1;\n",
       "}\n",
       "</style>\n",
       "<table id=\"T_c3fcb\">\n",
       "  <thead>\n",
       "    <tr>\n",
       "      <th class=\"blank level0\" >&nbsp;</th>\n",
       "      <th id=\"T_c3fcb_level0_col0\" class=\"col_heading level0 col0\" >Пол</th>\n",
       "      <th id=\"T_c3fcb_level0_col1\" class=\"col_heading level0 col1\" >Возраст</th>\n",
       "      <th id=\"T_c3fcb_level0_col2\" class=\"col_heading level0 col2\" >Зарплата</th>\n",
       "      <th id=\"T_c3fcb_level0_col3\" class=\"col_heading level0 col3\" >Члены семьи</th>\n",
       "      <th id=\"T_c3fcb_level0_col4\" class=\"col_heading level0 col4\" >Страховые выплаты</th>\n",
       "    </tr>\n",
       "  </thead>\n",
       "  <tbody>\n",
       "    <tr>\n",
       "      <th id=\"T_c3fcb_level0_row0\" class=\"row_heading level0 row0\" >Пол</th>\n",
       "      <td id=\"T_c3fcb_row0_col0\" class=\"data row0 col0\" >1.000000</td>\n",
       "      <td id=\"T_c3fcb_row0_col1\" class=\"data row0 col1\" >0.001953</td>\n",
       "      <td id=\"T_c3fcb_row0_col2\" class=\"data row0 col2\" >0.015456</td>\n",
       "      <td id=\"T_c3fcb_row0_col3\" class=\"data row0 col3\" >-0.007315</td>\n",
       "      <td id=\"T_c3fcb_row0_col4\" class=\"data row0 col4\" >0.011565</td>\n",
       "    </tr>\n",
       "    <tr>\n",
       "      <th id=\"T_c3fcb_level0_row1\" class=\"row_heading level0 row1\" >Возраст</th>\n",
       "      <td id=\"T_c3fcb_row1_col0\" class=\"data row1 col0\" >0.001953</td>\n",
       "      <td id=\"T_c3fcb_row1_col1\" class=\"data row1 col1\" >1.000000</td>\n",
       "      <td id=\"T_c3fcb_row1_col2\" class=\"data row1 col2\" >-0.017386</td>\n",
       "      <td id=\"T_c3fcb_row1_col3\" class=\"data row1 col3\" >-0.009064</td>\n",
       "      <td id=\"T_c3fcb_row1_col4\" class=\"data row1 col4\" >0.654964</td>\n",
       "    </tr>\n",
       "    <tr>\n",
       "      <th id=\"T_c3fcb_level0_row2\" class=\"row_heading level0 row2\" >Зарплата</th>\n",
       "      <td id=\"T_c3fcb_row2_col0\" class=\"data row2 col0\" >0.015456</td>\n",
       "      <td id=\"T_c3fcb_row2_col1\" class=\"data row2 col1\" >-0.017386</td>\n",
       "      <td id=\"T_c3fcb_row2_col2\" class=\"data row2 col2\" >1.000000</td>\n",
       "      <td id=\"T_c3fcb_row2_col3\" class=\"data row2 col3\" >-0.031687</td>\n",
       "      <td id=\"T_c3fcb_row2_col4\" class=\"data row2 col4\" >-0.013123</td>\n",
       "    </tr>\n",
       "    <tr>\n",
       "      <th id=\"T_c3fcb_level0_row3\" class=\"row_heading level0 row3\" >Члены семьи</th>\n",
       "      <td id=\"T_c3fcb_row3_col0\" class=\"data row3 col0\" >-0.007315</td>\n",
       "      <td id=\"T_c3fcb_row3_col1\" class=\"data row3 col1\" >-0.009064</td>\n",
       "      <td id=\"T_c3fcb_row3_col2\" class=\"data row3 col2\" >-0.031687</td>\n",
       "      <td id=\"T_c3fcb_row3_col3\" class=\"data row3 col3\" >1.000000</td>\n",
       "      <td id=\"T_c3fcb_row3_col4\" class=\"data row3 col4\" >-0.039303</td>\n",
       "    </tr>\n",
       "    <tr>\n",
       "      <th id=\"T_c3fcb_level0_row4\" class=\"row_heading level0 row4\" >Страховые выплаты</th>\n",
       "      <td id=\"T_c3fcb_row4_col0\" class=\"data row4 col0\" >0.011565</td>\n",
       "      <td id=\"T_c3fcb_row4_col1\" class=\"data row4 col1\" >0.654964</td>\n",
       "      <td id=\"T_c3fcb_row4_col2\" class=\"data row4 col2\" >-0.013123</td>\n",
       "      <td id=\"T_c3fcb_row4_col3\" class=\"data row4 col3\" >-0.039303</td>\n",
       "      <td id=\"T_c3fcb_row4_col4\" class=\"data row4 col4\" >1.000000</td>\n",
       "    </tr>\n",
       "  </tbody>\n",
       "</table>\n"
      ],
      "text/plain": [
       "<pandas.io.formats.style.Styler at 0x7fcc5a097f40>"
      ]
     },
     "metadata": {},
     "output_type": "display_data"
    }
   ],
   "source": [
    "correlation_df = df.corr()\n",
    "cmap = plt.get_cmap('coolwarm')\n",
    "styled_corr_matrix = correlation_df.style.background_gradient(cmap=cmap, axis=None)\n",
    "display(styled_corr_matrix)"
   ]
  },
  {
   "cell_type": "markdown",
   "metadata": {},
   "source": [
    "There is no observed correlation between the data. There is a weak correlation between \"insurance payouts\" and \"age,\" but it is small."
   ]
  },
  {
   "cell_type": "markdown",
   "metadata": {},
   "source": [
    "_Conclusion_: The data is of high quality, without outliers or missing values. 153 clear duplicates were removed from the dataset."
   ]
  },
  {
   "cell_type": "markdown",
   "metadata": {},
   "source": [
    "## Matrix Multiplication"
   ]
  },
  {
   "cell_type": "markdown",
   "metadata": {},
   "source": [
    "In this task, you can write formulas in a Jupyter Notebook.\n",
    "\n",
    "To write a formula within the text, surround it with dollar signs $; if outside — with double dollar signs $$. These formulas are written in the LaTeX markup language.\n",
    "\n",
    "For example, we have written linear regression formulas. You can copy and edit them to solve the task.\n",
    "\n",
    "Working with LaTeX is optional.\n",
    "\n",
    "Notations:"
   ]
  },
  {
   "cell_type": "markdown",
   "metadata": {},
   "source": [
    "Обозначения:\n",
    "\n",
    "- $X$ — feature matrix (the zero column consists of ones)\n",
    "\n",
    "- $y$ — vector of the target feature\n",
    "\n",
    "- $P$ — matrix by which features are multiplied\n",
    "\n",
    "- $w$ — vector of linear regression weights (the zero element is the bias)"
   ]
  },
  {
   "cell_type": "markdown",
   "metadata": {},
   "source": [
    "Predictions:\n",
    "\n",
    "$$\n",
    "a = Xw\n",
    "$$\n",
    "\n",
    "Training task:\n",
    "\n",
    "$$\n",
    "w = \\arg\\min_w MSE(Xw, y)\n",
    "$$\n",
    "\n",
    "Training formula:\n",
    "\n",
    "$$\n",
    "w = (X^T X)^{-1} X^T y\n",
    "$$"
   ]
  },
  {
   "cell_type": "markdown",
   "metadata": {},
   "source": [
    "Next, let's answer the question and justify the solution.\n",
    "\n",
    "- If features are multiplied by an invertible matrix, will the quality of linear regression change? (To check, retrain it.)\n",
    "    - a. It will change. Provide examples of matrices.\n",
    "    - b. It will not change. Specify how the parameters of linear regression in the original problem and in the transformed one are related.\n",
    "\n",
    "To do this, let's write a linear regression function and train it under different conditions. We will also create our function to calculate the R2 metric."
   ]
  },
  {
   "cell_type": "markdown",
   "metadata": {},
   "source": [
    "**Justification:**\n",
    "\n",
    "Used properties:\n",
    "$$\n",
    "(AB)^T=B^T A^T\n",
    "$$\n",
    "$$\n",
    "(AB)^{-1} = B^{-1} A^{-1}\n",
    "$$\n",
    "$$\n",
    "A A^{-1} = A^{-1} A = E\n",
    "$$\n",
    "$$\n",
    "AE = EA = A\n",
    "$$\n",
    "Proof:\n",
    "$$\n",
    "a = Xw = XEw = XPP^{-1}w = (XP)P^{-1}w = (XP)w'\n",
    "$$\n",
    "\\\n",
    "It is required to prove that the predictions will not change. We have  $a =  Xw$,   $a' = X'w'$\n",
    "\\\n",
    "\\\n",
    "$$\n",
    "    w = (X^T X)^{-1} X^T y\n",
    "$$\n",
    "\\\n",
    "$$\n",
    "w' = ((XP)^T XP)^{-1} (XP)^T y\n",
    "$$\n",
    "$$\n",
    "w' = (P^T (X^T X) P)^{-1} (XP)^T y\n",
    "$$\n",
    "$$\n",
    "w' = (P^T (X^T X) P)^{-1} P^T X^T y\n",
    "$$\n",
    "\\\n",
    "First, let's recall the values of our coefficients:\n",
    "\\\n",
    "$$\n",
    "w = (X^T X)^{-1} X^T y\n",
    "$$\n",
    "$$\n",
    "w' = ((X P)^T XP)^{-1} (XP)^T y\n",
    "$$\n",
    "\\\n",
    "We have a series of properties:\n",
    "$$\n",
    "(AB)^T=B^T A^T \\tag 1\n",
    "$$\n",
    "$$\n",
    "(AB)^{-1} = B^{-1} A^{-1} \\tag 2\n",
    "$$\n",
    "$$\n",
    "A A^{-1} = A^{-1} A = E \\tag 3\n",
    "$$\n",
    "$$\n",
    "AE = EA = A \\tag 4\n",
    "$$\n",
    "$$\n",
    "A(BC) = (AB)C \\tag 5\n",
    "$$\n",
    "\\\n",
    "Next, let's use the first and second properties: $(P^T (X^TX) P)^{-1} P^T X^T y$\n",
    "\n",
    "Let $A=P^T$, $B=(X^TX)P)^{-1}$, then $(P^T(X^TX)P)^{-1} = ((X^TX)P)^{-1} P^{T^{-1}}$\n",
    "    \n",
    "$$\n",
    "w' = (X^T XP)^{-1} P^{T^{-1}} P^T X^T y\n",
    "$$  \n",
    "    \n",
    "$P^{T^{-1}} P^T$ - simplify\n",
    "$$\n",
    "((X^TX)P)^{-1} (P^T)^{-1} P^T X^T y\n",
    "$$\n",
    "\n",
    "Next, expand $(X^T XP)^{-1}$, let $A=(X^TX)$, $B=P$\n",
    "$$\n",
    "P^{-1}(X^TX)^{-1} X^T y\n",
    "$$\n",
    "\n",
    "Since $w = (X^T X)^{-1} X^T y$ substitute it into the resulting formula: $P^{-1}w = w'$ therefore: $a = a'$ QED"
   ]
  },
  {
   "cell_type": "code",
   "execution_count": 6,
   "metadata": {},
   "outputs": [],
   "source": [
    "class LinearRegressionCust:\n",
    "    def fit(self, train_features, train_target):\n",
    "        X = np.concatenate((np.ones((train_features.shape[0], 1)), train_features), axis=1)\n",
    "        y = train_target\n",
    "        w = np.linalg.inv(X.T @ X) @ X.T @ y\n",
    "        self.w = w[1:]\n",
    "        self.w0 = w[0]\n",
    "\n",
    "    def predict(self, test_features):\n",
    "        return test_features.dot(self.w) + self.w0"
   ]
  },
  {
   "cell_type": "code",
   "execution_count": 7,
   "metadata": {},
   "outputs": [],
   "source": [
    "def r2_score_cust(y_true, y_pred):\n",
    "    ssr = ((y_true - y_pred) ** 2).sum()\n",
    "    sst = ((y_true - y_true.mean()) ** 2).sum()\n",
    "    r2 = 1 - (ssr / sst)\n",
    "    return r2"
   ]
  },
  {
   "cell_type": "markdown",
   "metadata": {},
   "source": [
    "Let's separate the training and target features. And split the datasets into training and testing sets with a 70-30 ratio."
   ]
  },
  {
   "cell_type": "code",
   "execution_count": 8,
   "metadata": {},
   "outputs": [
    {
     "data": {
      "text/plain": [
       "'Training features: (3392, 4)'"
      ]
     },
     "metadata": {},
     "output_type": "display_data"
    },
    {
     "data": {
      "text/plain": [
       "'Training target feature: (3392,)'"
      ]
     },
     "metadata": {},
     "output_type": "display_data"
    },
    {
     "data": {
      "text/plain": [
       "'Test features: (1455, 4)'"
      ]
     },
     "metadata": {},
     "output_type": "display_data"
    },
    {
     "data": {
      "text/plain": [
       "'Test target feature: (1455,)'"
      ]
     },
     "metadata": {},
     "output_type": "display_data"
    }
   ],
   "source": [
    "features_train = df.drop('Страховые выплаты', axis=1)\n",
    "target = df['Страховые выплаты']\n",
    "\n",
    "X_train, X_test, y_train, y_test = train_test_split(features_train, target, test_size=0.3, random_state=12345)\n",
    "\n",
    "display(f'Training features: {X_train.shape}')\n",
    "display(f'Training target feature: {y_train.shape}')\n",
    "display(f'Test features: {X_test.shape}')\n",
    "display(f'Test target feature: {y_test.shape}')"
   ]
  },
  {
   "cell_type": "markdown",
   "metadata": {},
   "source": [
    "To verify the posed question, let's train the model on the original data, check its quality with the R2 metric. Then, we'll create an invertible matrix using the numpy library, multiply our data by it, and check the R2 metric again."
   ]
  },
  {
   "cell_type": "code",
   "execution_count": 9,
   "metadata": {},
   "outputs": [
    {
     "name": "stdout",
     "output_type": "stream",
     "text": [
      "R2 score: 0.43287552621918113\n"
     ]
    }
   ],
   "source": [
    "model = LinearRegressionCust()\n",
    "model.fit(X_train, y_train)\n",
    "predictions = model.predict(X_test)\n",
    "\n",
    "r2 = r2_score_cust(y_test, predictions)\n",
    "print(\"R2 score:\", r2)"
   ]
  },
  {
   "cell_type": "markdown",
   "metadata": {},
   "source": [
    "So, the R2 score of our linear regression model is 0.43287552621918113. Now, let's check the same with the data that has been multiplied by the invertible matrix."
   ]
  },
  {
   "cell_type": "code",
   "execution_count": 10,
   "metadata": {},
   "outputs": [
    {
     "name": "stdout",
     "output_type": "stream",
     "text": [
      "Matrix A is invertible.\n"
     ]
    },
    {
     "data": {
      "text/html": [
       "<div>\n",
       "<style scoped>\n",
       "    .dataframe tbody tr th:only-of-type {\n",
       "        vertical-align: middle;\n",
       "    }\n",
       "\n",
       "    .dataframe tbody tr th {\n",
       "        vertical-align: top;\n",
       "    }\n",
       "\n",
       "    .dataframe thead th {\n",
       "        text-align: right;\n",
       "    }\n",
       "</style>\n",
       "<table border=\"1\" class=\"dataframe\">\n",
       "  <thead>\n",
       "    <tr style=\"text-align: right;\">\n",
       "      <th></th>\n",
       "      <th>0</th>\n",
       "      <th>1</th>\n",
       "      <th>2</th>\n",
       "      <th>3</th>\n",
       "      <th>Страховые выплаты</th>\n",
       "    </tr>\n",
       "  </thead>\n",
       "  <tbody>\n",
       "    <tr>\n",
       "      <th>0</th>\n",
       "      <td>46739.378299</td>\n",
       "      <td>21549.527156</td>\n",
       "      <td>26429.612344</td>\n",
       "      <td>20140.565561</td>\n",
       "      <td>0</td>\n",
       "    </tr>\n",
       "    <tr>\n",
       "      <th>1</th>\n",
       "      <td>35812.299536</td>\n",
       "      <td>16510.999812</td>\n",
       "      <td>20250.802812</td>\n",
       "      <td>15430.394484</td>\n",
       "      <td>1</td>\n",
       "    </tr>\n",
       "    <tr>\n",
       "      <th>2</th>\n",
       "      <td>19791.607738</td>\n",
       "      <td>9124.757655</td>\n",
       "      <td>11191.775799</td>\n",
       "      <td>8527.436798</td>\n",
       "      <td>0</td>\n",
       "    </tr>\n",
       "    <tr>\n",
       "      <th>3</th>\n",
       "      <td>39292.096168</td>\n",
       "      <td>18116.004532</td>\n",
       "      <td>22216.979739</td>\n",
       "      <td>16931.415068</td>\n",
       "      <td>0</td>\n",
       "    </tr>\n",
       "    <tr>\n",
       "      <th>4</th>\n",
       "      <td>24596.122504</td>\n",
       "      <td>11340.176506</td>\n",
       "      <td>13909.058801</td>\n",
       "      <td>10598.836923</td>\n",
       "      <td>0</td>\n",
       "    </tr>\n",
       "    <tr>\n",
       "      <th>...</th>\n",
       "      <td>...</td>\n",
       "      <td>...</td>\n",
       "      <td>...</td>\n",
       "      <td>...</td>\n",
       "      <td>...</td>\n",
       "    </tr>\n",
       "    <tr>\n",
       "      <th>4995</th>\n",
       "      <td>33641.367814</td>\n",
       "      <td>15510.369534</td>\n",
       "      <td>19022.385842</td>\n",
       "      <td>14495.798246</td>\n",
       "      <td>0</td>\n",
       "    </tr>\n",
       "    <tr>\n",
       "      <th>4996</th>\n",
       "      <td>49375.308910</td>\n",
       "      <td>22764.975561</td>\n",
       "      <td>27918.787908</td>\n",
       "      <td>21276.124091</td>\n",
       "      <td>0</td>\n",
       "    </tr>\n",
       "    <tr>\n",
       "      <th>4997</th>\n",
       "      <td>31943.495273</td>\n",
       "      <td>14727.728471</td>\n",
       "      <td>18061.988209</td>\n",
       "      <td>13764.588769</td>\n",
       "      <td>0</td>\n",
       "    </tr>\n",
       "    <tr>\n",
       "      <th>4998</th>\n",
       "      <td>30814.218083</td>\n",
       "      <td>14206.964258</td>\n",
       "      <td>17424.390778</td>\n",
       "      <td>13278.496196</td>\n",
       "      <td>0</td>\n",
       "    </tr>\n",
       "    <tr>\n",
       "      <th>4999</th>\n",
       "      <td>38257.110539</td>\n",
       "      <td>17638.862953</td>\n",
       "      <td>21633.022746</td>\n",
       "      <td>16485.920119</td>\n",
       "      <td>0</td>\n",
       "    </tr>\n",
       "  </tbody>\n",
       "</table>\n",
       "<p>4847 rows × 5 columns</p>\n",
       "</div>"
      ],
      "text/plain": [
       "                 0             1             2             3  \\\n",
       "0     46739.378299  21549.527156  26429.612344  20140.565561   \n",
       "1     35812.299536  16510.999812  20250.802812  15430.394484   \n",
       "2     19791.607738   9124.757655  11191.775799   8527.436798   \n",
       "3     39292.096168  18116.004532  22216.979739  16931.415068   \n",
       "4     24596.122504  11340.176506  13909.058801  10598.836923   \n",
       "...            ...           ...           ...           ...   \n",
       "4995  33641.367814  15510.369534  19022.385842  14495.798246   \n",
       "4996  49375.308910  22764.975561  27918.787908  21276.124091   \n",
       "4997  31943.495273  14727.728471  18061.988209  13764.588769   \n",
       "4998  30814.218083  14206.964258  17424.390778  13278.496196   \n",
       "4999  38257.110539  17638.862953  21633.022746  16485.920119   \n",
       "\n",
       "      Страховые выплаты  \n",
       "0                     0  \n",
       "1                     1  \n",
       "2                     0  \n",
       "3                     0  \n",
       "4                     0  \n",
       "...                 ...  \n",
       "4995                  0  \n",
       "4996                  0  \n",
       "4997                  0  \n",
       "4998                  0  \n",
       "4999                  0  \n",
       "\n",
       "[4847 rows x 5 columns]"
      ]
     },
     "metadata": {},
     "output_type": "display_data"
    }
   ],
   "source": [
    "num_features = df.shape[1] - 1\n",
    "A = np.random.rand(num_features, num_features)\n",
    "A_inv = np.linalg.inv(A)\n",
    "\n",
    "if np.linalg.det(A) != 0:\n",
    "    print(\"Matrix A is invertible.\")\n",
    "else:\n",
    "    print(\"Matrix A is not invertible. Try another matrix.\")\n",
    "\n",
    "df_transformed = df.drop('Страховые выплаты', axis=1).dot(A)\n",
    "df_transformed['Страховые выплаты'] = df['Страховые выплаты']\n",
    "\n",
    "display(df_transformed)"
   ]
  },
  {
   "cell_type": "code",
   "execution_count": 11,
   "metadata": {},
   "outputs": [
    {
     "name": "stdout",
     "output_type": "stream",
     "text": [
      "R2 score after multiplying data by an invertible matrix: 0.43287539941220443\n"
     ]
    }
   ],
   "source": [
    "feature_transformed = df_transformed.drop('Страховые выплаты', axis=1)\n",
    "target_transformed = df_transformed['Страховые выплаты']\n",
    "\n",
    "X_train, X_test, y_train, y_test = train_test_split(feature_transformed, target_transformed, \\\n",
    "                                                    test_size=0.3, random_state=12345)\n",
    "\n",
    "model = LinearRegressionCust()\n",
    "model.fit(X_train, y_train)\n",
    "\n",
    "y_pred = model.predict(X_test)\n",
    "\n",
    "r2 = r2_score_cust(y_test, y_pred)\n",
    "print(\"R2 score after multiplying data by an invertible matrix:\", r2)"
   ]
  },
  {
   "cell_type": "markdown",
   "metadata": {},
   "source": [
    "_Conclusion_: The R2 metric changed insignificantly up to the 6th decimal place. Therefore, the answer to the question of whether the quality of linear regression changes if the training features are multiplied by an invertible matrix is - no."
   ]
  },
  {
   "cell_type": "markdown",
   "metadata": {},
   "source": [
    "Next, let's check if the data multiplied by an invertible matrix can indeed be restored after multiplication. To do this, we will multiply our training features by the inverse matrix A_inv and check the restored and original dataframes."
   ]
  },
  {
   "cell_type": "code",
   "execution_count": 12,
   "metadata": {},
   "outputs": [
    {
     "name": "stdout",
     "output_type": "stream",
     "text": [
      "Two dataframes are identical, taking into account the margin of error.\n"
     ]
    }
   ],
   "source": [
    "df_restored = df_transformed.drop('Страховые выплаты', axis=1).dot(A_inv)\n",
    "df_restored['Страховые выплаты'] = df_transformed['Страховые выплаты']\n",
    "\n",
    "diff = np.abs(df - df_restored)\n",
    "max_diff = diff.max().max()\n",
    "\n",
    "if max_diff < 1e-10:\n",
    "    print(\"Two dataframes are identical, taking into account the margin of error.\")\n",
    "else:\n",
    "    print(\"Two dataframes are different.\")"
   ]
  },
  {
   "cell_type": "markdown",
   "metadata": {},
   "source": [
    "The error is so small that it can be neglected; the restored data is identical to the original.\n",
    "\n",
    "_Answer_: The quality of linear regression (in our case, the R2 metric) will not change when the training features are multiplied by an invertible matrix.\n",
    "\n",
    "_Justification_: Linear regression models the relationship between independent variables (features) and the dependent variable (target variable) as a linear combination of features. Parameters of linear regression, such as weights (coefficients) for each feature, are tuned to minimize the R2 metric between predicted values and the actual values of the target variable.\n",
    "\n",
    "When we multiply features by an invertible matrix, we change their linear combinations but preserve the information about the relationship between them and the target variable. This is because an invertible matrix preserves linear dependencies between features, and linear regression can adapt its parameters to account for these changes.\n",
    "\n",
    "Therefore, the parameters of linear regression in the original problem and after multiplying features by an invertible matrix will be related, and the model's quality will not change. The weights will be altered, but the model can adapt to the new weights and continue to make predictions based on the changed features.\n",
    "\n",
    "It's important to note that this statement is true under the condition that the invertible matrix does not contain systematic errors or noise that could impact the model's quality by altering the linear dependencies between the training data and the target feature."
   ]
  },
  {
   "cell_type": "markdown",
   "metadata": {},
   "source": [
    "## Transformation Algorithm"
   ]
  },
  {
   "cell_type": "markdown",
   "metadata": {},
   "source": [
    "Algorithm:\n",
    "\n",
    "Transformation of data by multiplying training features by an invertible matrix."
   ]
  },
  {
   "cell_type": "markdown",
   "metadata": {},
   "source": [
    "Justification:\n",
    "\n",
    "Training features are multiplied by a pre-created invertible matrix, as shown in the calculations above, this does not affect the quality of the linear regression model. The resulting dataframe after transformation does not carry any meaningful load compared to the original data; these data are challenging for a human to interpret. User confidentiality will be preserved. For the linear regression model, however, linear dependencies between training features and the target are preserved, which is necessary for its training and maintaining the relevance of predictions, as if it were the original, untransformed data."
   ]
  },
  {
   "cell_type": "markdown",
   "metadata": {},
   "source": [
    "## Algorithm Verification"
   ]
  },
  {
   "cell_type": "markdown",
   "metadata": {},
   "source": [
    "Let's create a function to transform data by multiplying it by an invertible matrix."
   ]
  },
  {
   "cell_type": "code",
   "execution_count": 13,
   "metadata": {},
   "outputs": [],
   "source": [
    "def Transform(df):\n",
    "    num_features = df.shape[1] - 1\n",
    "    A = np.random.rand(num_features, num_features)\n",
    "    A_inv = np.linalg.inv(A)\n",
    "\n",
    "    if np.linalg.det(A) != 0:\n",
    "        print(\"Matrix A is invertible.\")\n",
    "    else:\n",
    "        print(\"Matrix A is not invertible. Try another matrix.\")\n",
    "\n",
    "    df_transformed = df.drop('Страховые выплаты', axis=1).dot(A)\n",
    "    df_transformed['Страховые выплаты'] = df['Страховые выплаты']\n",
    "    \n",
    "    return df_transformed"
   ]
  },
  {
   "cell_type": "markdown",
   "metadata": {},
   "source": [
    "Let's test our algorithm on linear regression from the sklearn library."
   ]
  },
  {
   "cell_type": "markdown",
   "metadata": {},
   "source": [
    "We will create two types of data: original and transformed."
   ]
  },
  {
   "cell_type": "code",
   "execution_count": 14,
   "metadata": {},
   "outputs": [
    {
     "name": "stdout",
     "output_type": "stream",
     "text": [
      "Matrix A is invertible.\n"
     ]
    },
    {
     "data": {
      "text/html": [
       "<div>\n",
       "<style scoped>\n",
       "    .dataframe tbody tr th:only-of-type {\n",
       "        vertical-align: middle;\n",
       "    }\n",
       "\n",
       "    .dataframe tbody tr th {\n",
       "        vertical-align: top;\n",
       "    }\n",
       "\n",
       "    .dataframe thead th {\n",
       "        text-align: right;\n",
       "    }\n",
       "</style>\n",
       "<table border=\"1\" class=\"dataframe\">\n",
       "  <thead>\n",
       "    <tr style=\"text-align: right;\">\n",
       "      <th></th>\n",
       "      <th>Пол</th>\n",
       "      <th>Возраст</th>\n",
       "      <th>Зарплата</th>\n",
       "      <th>Члены семьи</th>\n",
       "      <th>Страховые выплаты</th>\n",
       "    </tr>\n",
       "  </thead>\n",
       "  <tbody>\n",
       "    <tr>\n",
       "      <th>0</th>\n",
       "      <td>1</td>\n",
       "      <td>41.0</td>\n",
       "      <td>49600.0</td>\n",
       "      <td>1</td>\n",
       "      <td>0</td>\n",
       "    </tr>\n",
       "    <tr>\n",
       "      <th>1</th>\n",
       "      <td>0</td>\n",
       "      <td>46.0</td>\n",
       "      <td>38000.0</td>\n",
       "      <td>1</td>\n",
       "      <td>1</td>\n",
       "    </tr>\n",
       "    <tr>\n",
       "      <th>2</th>\n",
       "      <td>0</td>\n",
       "      <td>29.0</td>\n",
       "      <td>21000.0</td>\n",
       "      <td>0</td>\n",
       "      <td>0</td>\n",
       "    </tr>\n",
       "    <tr>\n",
       "      <th>3</th>\n",
       "      <td>0</td>\n",
       "      <td>21.0</td>\n",
       "      <td>41700.0</td>\n",
       "      <td>2</td>\n",
       "      <td>0</td>\n",
       "    </tr>\n",
       "    <tr>\n",
       "      <th>4</th>\n",
       "      <td>1</td>\n",
       "      <td>28.0</td>\n",
       "      <td>26100.0</td>\n",
       "      <td>0</td>\n",
       "      <td>0</td>\n",
       "    </tr>\n",
       "    <tr>\n",
       "      <th>...</th>\n",
       "      <td>...</td>\n",
       "      <td>...</td>\n",
       "      <td>...</td>\n",
       "      <td>...</td>\n",
       "      <td>...</td>\n",
       "    </tr>\n",
       "    <tr>\n",
       "      <th>4995</th>\n",
       "      <td>0</td>\n",
       "      <td>28.0</td>\n",
       "      <td>35700.0</td>\n",
       "      <td>2</td>\n",
       "      <td>0</td>\n",
       "    </tr>\n",
       "    <tr>\n",
       "      <th>4996</th>\n",
       "      <td>0</td>\n",
       "      <td>34.0</td>\n",
       "      <td>52400.0</td>\n",
       "      <td>1</td>\n",
       "      <td>0</td>\n",
       "    </tr>\n",
       "    <tr>\n",
       "      <th>4997</th>\n",
       "      <td>0</td>\n",
       "      <td>20.0</td>\n",
       "      <td>33900.0</td>\n",
       "      <td>2</td>\n",
       "      <td>0</td>\n",
       "    </tr>\n",
       "    <tr>\n",
       "      <th>4998</th>\n",
       "      <td>1</td>\n",
       "      <td>22.0</td>\n",
       "      <td>32700.0</td>\n",
       "      <td>3</td>\n",
       "      <td>0</td>\n",
       "    </tr>\n",
       "    <tr>\n",
       "      <th>4999</th>\n",
       "      <td>1</td>\n",
       "      <td>28.0</td>\n",
       "      <td>40600.0</td>\n",
       "      <td>1</td>\n",
       "      <td>0</td>\n",
       "    </tr>\n",
       "  </tbody>\n",
       "</table>\n",
       "<p>4847 rows × 5 columns</p>\n",
       "</div>"
      ],
      "text/plain": [
       "      Пол  Возраст  Зарплата  Члены семьи  Страховые выплаты\n",
       "0       1     41.0   49600.0            1                  0\n",
       "1       0     46.0   38000.0            1                  1\n",
       "2       0     29.0   21000.0            0                  0\n",
       "3       0     21.0   41700.0            2                  0\n",
       "4       1     28.0   26100.0            0                  0\n",
       "...   ...      ...       ...          ...                ...\n",
       "4995    0     28.0   35700.0            2                  0\n",
       "4996    0     34.0   52400.0            1                  0\n",
       "4997    0     20.0   33900.0            2                  0\n",
       "4998    1     22.0   32700.0            3                  0\n",
       "4999    1     28.0   40600.0            1                  0\n",
       "\n",
       "[4847 rows x 5 columns]"
      ]
     },
     "metadata": {},
     "output_type": "display_data"
    },
    {
     "data": {
      "text/html": [
       "<div>\n",
       "<style scoped>\n",
       "    .dataframe tbody tr th:only-of-type {\n",
       "        vertical-align: middle;\n",
       "    }\n",
       "\n",
       "    .dataframe tbody tr th {\n",
       "        vertical-align: top;\n",
       "    }\n",
       "\n",
       "    .dataframe thead th {\n",
       "        text-align: right;\n",
       "    }\n",
       "</style>\n",
       "<table border=\"1\" class=\"dataframe\">\n",
       "  <thead>\n",
       "    <tr style=\"text-align: right;\">\n",
       "      <th></th>\n",
       "      <th>0</th>\n",
       "      <th>1</th>\n",
       "      <th>2</th>\n",
       "      <th>3</th>\n",
       "      <th>Страховые выплаты</th>\n",
       "    </tr>\n",
       "  </thead>\n",
       "  <tbody>\n",
       "    <tr>\n",
       "      <th>0</th>\n",
       "      <td>46527.692309</td>\n",
       "      <td>1501.450797</td>\n",
       "      <td>12035.332279</td>\n",
       "      <td>29026.206072</td>\n",
       "      <td>0</td>\n",
       "    </tr>\n",
       "    <tr>\n",
       "      <th>1</th>\n",
       "      <td>35647.932171</td>\n",
       "      <td>1157.287443</td>\n",
       "      <td>9232.717498</td>\n",
       "      <td>22247.034364</td>\n",
       "      <td>1</td>\n",
       "    </tr>\n",
       "    <tr>\n",
       "      <th>2</th>\n",
       "      <td>19700.157633</td>\n",
       "      <td>641.181855</td>\n",
       "      <td>5105.167105</td>\n",
       "      <td>12296.573753</td>\n",
       "      <td>0</td>\n",
       "    </tr>\n",
       "    <tr>\n",
       "      <th>3</th>\n",
       "      <td>39115.650434</td>\n",
       "      <td>1255.625985</td>\n",
       "      <td>10106.634157</td>\n",
       "      <td>24394.134194</td>\n",
       "      <td>0</td>\n",
       "    </tr>\n",
       "    <tr>\n",
       "      <th>4</th>\n",
       "      <td>24484.056226</td>\n",
       "      <td>793.300073</td>\n",
       "      <td>6338.790717</td>\n",
       "      <td>15278.190464</td>\n",
       "      <td>0</td>\n",
       "    </tr>\n",
       "    <tr>\n",
       "      <th>...</th>\n",
       "      <td>...</td>\n",
       "      <td>...</td>\n",
       "      <td>...</td>\n",
       "      <td>...</td>\n",
       "      <td>...</td>\n",
       "    </tr>\n",
       "    <tr>\n",
       "      <th>4995</th>\n",
       "      <td>33489.161748</td>\n",
       "      <td>1079.988999</td>\n",
       "      <td>8661.184350</td>\n",
       "      <td>20890.872474</td>\n",
       "      <td>0</td>\n",
       "    </tr>\n",
       "    <tr>\n",
       "      <th>4996</th>\n",
       "      <td>49152.173180</td>\n",
       "      <td>1581.189509</td>\n",
       "      <td>12705.932462</td>\n",
       "      <td>30658.016831</td>\n",
       "      <td>0</td>\n",
       "    </tr>\n",
       "    <tr>\n",
       "      <th>4997</th>\n",
       "      <td>31799.809216</td>\n",
       "      <td>1022.304085</td>\n",
       "      <td>8218.847780</td>\n",
       "      <td>19833.256704</td>\n",
       "      <td>0</td>\n",
       "    </tr>\n",
       "    <tr>\n",
       "      <th>4998</th>\n",
       "      <td>30676.218540</td>\n",
       "      <td>988.108346</td>\n",
       "      <td>7931.376977</td>\n",
       "      <td>19133.937224</td>\n",
       "      <td>0</td>\n",
       "    </tr>\n",
       "    <tr>\n",
       "      <th>4999</th>\n",
       "      <td>38084.688066</td>\n",
       "      <td>1226.376037</td>\n",
       "      <td>9846.911207</td>\n",
       "      <td>23755.870376</td>\n",
       "      <td>0</td>\n",
       "    </tr>\n",
       "  </tbody>\n",
       "</table>\n",
       "<p>4847 rows × 5 columns</p>\n",
       "</div>"
      ],
      "text/plain": [
       "                 0            1             2             3  Страховые выплаты\n",
       "0     46527.692309  1501.450797  12035.332279  29026.206072                  0\n",
       "1     35647.932171  1157.287443   9232.717498  22247.034364                  1\n",
       "2     19700.157633   641.181855   5105.167105  12296.573753                  0\n",
       "3     39115.650434  1255.625985  10106.634157  24394.134194                  0\n",
       "4     24484.056226   793.300073   6338.790717  15278.190464                  0\n",
       "...            ...          ...           ...           ...                ...\n",
       "4995  33489.161748  1079.988999   8661.184350  20890.872474                  0\n",
       "4996  49152.173180  1581.189509  12705.932462  30658.016831                  0\n",
       "4997  31799.809216  1022.304085   8218.847780  19833.256704                  0\n",
       "4998  30676.218540   988.108346   7931.376977  19133.937224                  0\n",
       "4999  38084.688066  1226.376037   9846.911207  23755.870376                  0\n",
       "\n",
       "[4847 rows x 5 columns]"
      ]
     },
     "metadata": {},
     "output_type": "display_data"
    }
   ],
   "source": [
    "df_transformed = Transform(df)\n",
    "display(df)\n",
    "display(df_transformed)"
   ]
  },
  {
   "cell_type": "code",
   "execution_count": 15,
   "metadata": {},
   "outputs": [],
   "source": [
    "features_train_s = df.drop('Страховые выплаты', axis=1)\n",
    "target_s = df['Страховые выплаты']\n",
    "\n",
    "X_train_s, X_test_s, y_train_s, y_test_s = train_test_split(features_train_s, target_s, \\\n",
    "                                                            test_size=0.3, random_state=12345)\n",
    "\n",
    "features_train_t = df_transformed.drop('Страховые выплаты', axis=1)\n",
    "target_t = df_transformed['Страховые выплаты']\n",
    "\n",
    "X_train_t, X_test_t, y_train_t, y_test_t = train_test_split(features_train_t, target_t, \\\n",
    "                                                            test_size=0.3, random_state=12345)"
   ]
  },
  {
   "cell_type": "code",
   "execution_count": 16,
   "metadata": {},
   "outputs": [
    {
     "name": "stdout",
     "output_type": "stream",
     "text": [
      "R2 score for the original data: 0.4328755262191937\n",
      "R2 score for the transformed data: 0.43287552621917313\n"
     ]
    }
   ],
   "source": [
    "model_s = LinearRegression()\n",
    "model_s.fit(X_train_s, y_train_s)\n",
    "\n",
    "y_pred_s = model_s.predict(X_test_s)\n",
    "\n",
    "r2 = r2_score_cust(y_test_s, y_pred_s)\n",
    "print(\"R2 score for the original data:\", r2)\n",
    "\n",
    "model_t = LinearRegression()\n",
    "model_t.fit(X_train_t, y_train_t)\n",
    "\n",
    "y_pred_t = model_t.predict(X_test_t)\n",
    "\n",
    "r2 = r2_score_cust(y_test_t, y_pred_t)\n",
    "print(\"R2 score for the transformed data:\", r2)"
   ]
  },
  {
   "cell_type": "markdown",
   "metadata": {},
   "source": [
    "_Output_: After verifying the transformation algorithm by multiplying the training set by an invertible matrix, the model's quality experienced virtually no changes. Therefore, this transformation method can be considered effective."
   ]
  },
  {
   "cell_type": "markdown",
   "metadata": {},
   "source": [
    "__Overall Conclusion:__ \n",
    "- During the data loading stage, 153 duplicates were identified and removed from the dataset. After checking the data quality, it was found that the data is of high quality, without outliers or missing values. No significant correlation between the data and the target feature was observed.\n",
    "\n",
    "- In the development stage of the algorithm for protecting user data and its verification, a linear regression function and R2 metric were implemented. Subsequently, the data was split into training and target sets, and the R2 score was calculated to be 0.43287552621918113. After transforming the data by multiplying it with an invertible matrix, the linear regression model was retrained on the transformed data, resulting in an R2 score of 0.4328753931654804. It was observed that the metric, and consequently the model quality, did not change. A crucial aspect in this case is that the matrix must be invertible; this check was included in the function below. The justification for this algorithm is as follows: Linear regression models the relationship between independent variables (features) and the dependent variable (target variable) as a linear combination of features. The parameters of linear regression, such as weights or coefficients for each feature, are tuned to minimize the R2 metric between predicted values and real values of the target variable. When we multiply the features by an invertible matrix, we alter their linear combinations but preserve the information about the dependencies between them and the target variable. This is because an invertible matrix preserves linear dependencies between features, and linear regression can adapt its parameters to account for these changes. Therefore, the parameters of linear regression in the original problem and after multiplying features by an invertible matrix will be related, and the model quality will not change. Weights will be changed, but the model will adapt to the new weights and continue making predictions based on the altered features. Furthermore, a check was conducted for the recovery of transformed data by multiplying it by the inverse matrix, and the recovered data showed no critical differences from the original.\n",
    "\n",
    "- In the algorithm verification stage, the built-in linear regression function from sklearn and the R2 metric from the same library were utilized. Additionally, a function for transforming training data by multiplying it with an invertible matrix, with a matrix invertibility check, was implemented. Based on the verification results on both the original and transformed data using the sklearn linear regression model, it was determined that the algorithm of multiplying data by an invertible matrix does not change the model quality. For the original data, R2 = 0.43287552621918113, and for the transformed data, R2 = 0.4328659232744808.\n",
    "\n",
    "Based on all the checks, it can be recommended to use the algorithm of multiplying training data by an invertible matrix for confidentiality preservation. This is because it allows retaining all linear dependencies between features that the linear regression model can adapt to during training while transforming confidential data into a form that is not interpretable for humans."
   ]
  },
  {
   "cell_type": "code",
   "execution_count": null,
   "metadata": {},
   "outputs": [],
   "source": []
  }
 ],
 "metadata": {
  "ExecuteTimeLog": [
   {
    "duration": 1183,
    "start_time": "2023-09-26T13:22:43.445Z"
   },
   {
    "duration": 3,
    "start_time": "2023-09-26T13:23:47.532Z"
   },
   {
    "duration": 2,
    "start_time": "2023-09-26T13:24:01.854Z"
   },
   {
    "duration": 2,
    "start_time": "2023-09-26T13:34:16.596Z"
   },
   {
    "duration": 12,
    "start_time": "2023-09-26T13:41:49.656Z"
   },
   {
    "duration": 3,
    "start_time": "2023-09-26T13:42:11.300Z"
   },
   {
    "duration": 10,
    "start_time": "2023-09-26T13:42:12.199Z"
   },
   {
    "duration": 86,
    "start_time": "2023-09-26T13:43:04.805Z"
   },
   {
    "duration": 29,
    "start_time": "2023-09-26T13:43:12.613Z"
   },
   {
    "duration": 50,
    "start_time": "2023-09-26T16:06:40.882Z"
   },
   {
    "duration": 47,
    "start_time": "2023-09-26T16:07:12.338Z"
   },
   {
    "duration": 51,
    "start_time": "2023-09-27T04:53:29.631Z"
   },
   {
    "duration": 1303,
    "start_time": "2023-09-27T04:53:33.847Z"
   },
   {
    "duration": 77,
    "start_time": "2023-09-27T04:53:35.153Z"
   },
   {
    "duration": 56,
    "start_time": "2023-09-27T04:53:37.233Z"
   },
   {
    "duration": 8,
    "start_time": "2023-09-27T04:53:38.516Z"
   },
   {
    "duration": 68,
    "start_time": "2023-09-27T04:59:40.707Z"
   },
   {
    "duration": 498,
    "start_time": "2023-09-27T05:00:03.556Z"
   },
   {
    "duration": 57,
    "start_time": "2023-09-27T05:00:07.988Z"
   },
   {
    "duration": 4,
    "start_time": "2023-09-27T05:29:21.770Z"
   },
   {
    "duration": 28,
    "start_time": "2023-09-27T05:31:53.773Z"
   },
   {
    "duration": 48,
    "start_time": "2023-09-27T05:39:01.557Z"
   },
   {
    "duration": 22,
    "start_time": "2023-09-27T05:39:19.016Z"
   },
   {
    "duration": 27,
    "start_time": "2023-09-27T05:39:24.596Z"
   },
   {
    "duration": 9,
    "start_time": "2023-09-27T05:39:51.317Z"
   },
   {
    "duration": 3,
    "start_time": "2023-09-27T05:46:57.904Z"
   },
   {
    "duration": 3,
    "start_time": "2023-09-27T05:53:22.731Z"
   },
   {
    "duration": 12,
    "start_time": "2023-09-27T05:55:26.044Z"
   },
   {
    "duration": 15,
    "start_time": "2023-09-27T05:56:13.002Z"
   },
   {
    "duration": 9,
    "start_time": "2023-09-27T06:02:28.029Z"
   },
   {
    "duration": 16,
    "start_time": "2023-09-27T06:02:39.352Z"
   },
   {
    "duration": 8,
    "start_time": "2023-09-27T06:02:44.577Z"
   },
   {
    "duration": 16,
    "start_time": "2023-09-27T06:02:59.170Z"
   },
   {
    "duration": 7,
    "start_time": "2023-09-27T06:08:56.064Z"
   },
   {
    "duration": 1428,
    "start_time": "2023-09-27T06:09:18.048Z"
   },
   {
    "duration": 33,
    "start_time": "2023-09-27T06:09:19.479Z"
   },
   {
    "duration": 81,
    "start_time": "2023-09-27T06:09:19.514Z"
   },
   {
    "duration": 9,
    "start_time": "2023-09-27T06:09:19.597Z"
   },
   {
    "duration": 105,
    "start_time": "2023-09-27T06:09:19.609Z"
   },
   {
    "duration": 7,
    "start_time": "2023-09-27T06:09:19.717Z"
   },
   {
    "duration": 16,
    "start_time": "2023-09-27T06:09:19.726Z"
   },
   {
    "duration": 13,
    "start_time": "2023-09-27T06:09:19.746Z"
   },
   {
    "duration": 16,
    "start_time": "2023-09-27T06:09:19.761Z"
   },
   {
    "duration": 170,
    "start_time": "2023-09-27T06:09:19.779Z"
   },
   {
    "duration": 104,
    "start_time": "2023-09-27T06:09:19.951Z"
   },
   {
    "duration": 9,
    "start_time": "2023-09-27T06:09:20.057Z"
   },
   {
    "duration": 23,
    "start_time": "2023-09-27T06:10:23.432Z"
   },
   {
    "duration": 21,
    "start_time": "2023-09-27T06:16:28.802Z"
   },
   {
    "duration": 11,
    "start_time": "2023-09-27T06:16:53.238Z"
   },
   {
    "duration": 23,
    "start_time": "2023-09-27T06:19:59.911Z"
   },
   {
    "duration": 12,
    "start_time": "2023-09-27T06:20:18.327Z"
   },
   {
    "duration": 11,
    "start_time": "2023-09-27T06:20:28.508Z"
   },
   {
    "duration": 20,
    "start_time": "2023-09-27T06:20:34.774Z"
   },
   {
    "duration": 10,
    "start_time": "2023-09-27T06:20:53.417Z"
   },
   {
    "duration": 14,
    "start_time": "2023-09-27T06:22:01.739Z"
   },
   {
    "duration": 14,
    "start_time": "2023-09-27T06:22:13.540Z"
   },
   {
    "duration": 15,
    "start_time": "2023-09-27T06:22:19.648Z"
   },
   {
    "duration": 13,
    "start_time": "2023-09-27T06:22:23.564Z"
   },
   {
    "duration": 15,
    "start_time": "2023-09-27T06:22:39.371Z"
   },
   {
    "duration": 12,
    "start_time": "2023-09-27T06:23:09.161Z"
   },
   {
    "duration": 1481,
    "start_time": "2023-09-27T06:24:06.804Z"
   },
   {
    "duration": 32,
    "start_time": "2023-09-27T06:24:08.287Z"
   },
   {
    "duration": 61,
    "start_time": "2023-09-27T06:24:08.321Z"
   },
   {
    "duration": 9,
    "start_time": "2023-09-27T06:24:08.384Z"
   },
   {
    "duration": 127,
    "start_time": "2023-09-27T06:24:08.396Z"
   },
   {
    "duration": 6,
    "start_time": "2023-09-27T06:24:08.525Z"
   },
   {
    "duration": 35,
    "start_time": "2023-09-27T06:24:08.533Z"
   },
   {
    "duration": 59,
    "start_time": "2023-09-27T06:24:08.570Z"
   },
   {
    "duration": 12,
    "start_time": "2023-09-27T06:24:08.632Z"
   },
   {
    "duration": 109,
    "start_time": "2023-09-27T06:24:08.646Z"
   },
   {
    "duration": 94,
    "start_time": "2023-09-27T06:24:08.758Z"
   },
   {
    "duration": 105,
    "start_time": "2023-09-27T06:24:08.855Z"
   },
   {
    "duration": 12,
    "start_time": "2023-09-27T06:24:56.172Z"
   },
   {
    "duration": 4,
    "start_time": "2023-09-27T06:46:10.774Z"
   },
   {
    "duration": 1413,
    "start_time": "2023-09-27T06:51:56.366Z"
   },
   {
    "duration": 30,
    "start_time": "2023-09-27T06:51:57.781Z"
   },
   {
    "duration": 59,
    "start_time": "2023-09-27T06:51:57.813Z"
   },
   {
    "duration": 9,
    "start_time": "2023-09-27T06:51:57.874Z"
   },
   {
    "duration": 77,
    "start_time": "2023-09-27T06:51:57.886Z"
   },
   {
    "duration": 4,
    "start_time": "2023-09-27T06:51:57.965Z"
   },
   {
    "duration": 27,
    "start_time": "2023-09-27T06:51:57.971Z"
   },
   {
    "duration": 31,
    "start_time": "2023-09-27T06:51:58.000Z"
   },
   {
    "duration": 18,
    "start_time": "2023-09-27T06:51:58.034Z"
   },
   {
    "duration": 194,
    "start_time": "2023-09-27T06:51:58.055Z"
   },
   {
    "duration": 15,
    "start_time": "2023-09-27T06:51:58.251Z"
   },
   {
    "duration": 99,
    "start_time": "2023-09-27T06:51:58.349Z"
   },
   {
    "duration": 4,
    "start_time": "2023-09-27T06:51:58.450Z"
   },
   {
    "duration": 78,
    "start_time": "2023-09-27T06:51:58.457Z"
   },
   {
    "duration": 3,
    "start_time": "2023-09-27T07:07:24.691Z"
   },
   {
    "duration": 127,
    "start_time": "2023-09-27T07:36:08.184Z"
   },
   {
    "duration": 166,
    "start_time": "2023-09-27T07:36:11.288Z"
   },
   {
    "duration": 4,
    "start_time": "2023-09-27T07:36:17.161Z"
   },
   {
    "duration": 81,
    "start_time": "2023-09-27T07:36:18.668Z"
   },
   {
    "duration": 13,
    "start_time": "2023-09-27T07:40:28.264Z"
   },
   {
    "duration": 14,
    "start_time": "2023-09-27T07:40:39.807Z"
   },
   {
    "duration": 9,
    "start_time": "2023-09-27T07:42:15.951Z"
   },
   {
    "duration": 13,
    "start_time": "2023-09-27T07:44:09.971Z"
   },
   {
    "duration": 1445,
    "start_time": "2023-09-27T07:44:26.990Z"
   },
   {
    "duration": 32,
    "start_time": "2023-09-27T07:44:28.437Z"
   },
   {
    "duration": 54,
    "start_time": "2023-09-27T07:44:28.471Z"
   },
   {
    "duration": 20,
    "start_time": "2023-09-27T07:44:28.528Z"
   },
   {
    "duration": 55,
    "start_time": "2023-09-27T07:44:28.549Z"
   },
   {
    "duration": 4,
    "start_time": "2023-09-27T07:44:28.606Z"
   },
   {
    "duration": 6,
    "start_time": "2023-09-27T07:44:28.612Z"
   },
   {
    "duration": 31,
    "start_time": "2023-09-27T07:44:28.620Z"
   },
   {
    "duration": 9,
    "start_time": "2023-09-27T07:44:28.652Z"
   },
   {
    "duration": 181,
    "start_time": "2023-09-27T07:44:28.666Z"
   },
   {
    "duration": 11,
    "start_time": "2023-09-27T07:44:28.849Z"
   },
   {
    "duration": 97,
    "start_time": "2023-09-27T07:44:28.862Z"
   },
   {
    "duration": 96,
    "start_time": "2023-09-27T07:44:28.961Z"
   },
   {
    "duration": 90,
    "start_time": "2023-09-27T07:44:29.059Z"
   },
   {
    "duration": 11,
    "start_time": "2023-09-27T07:44:29.152Z"
   },
   {
    "duration": 108,
    "start_time": "2023-09-27T07:44:29.165Z"
   },
   {
    "duration": 1456,
    "start_time": "2023-09-27T09:07:07.815Z"
   },
   {
    "duration": 31,
    "start_time": "2023-09-27T09:07:09.274Z"
   },
   {
    "duration": 66,
    "start_time": "2023-09-27T09:07:09.307Z"
   },
   {
    "duration": 8,
    "start_time": "2023-09-27T09:07:09.375Z"
   },
   {
    "duration": 82,
    "start_time": "2023-09-27T09:07:09.385Z"
   },
   {
    "duration": 5,
    "start_time": "2023-09-27T09:07:09.469Z"
   },
   {
    "duration": 97,
    "start_time": "2023-09-27T09:07:09.476Z"
   },
   {
    "duration": 46,
    "start_time": "2023-09-27T09:07:09.575Z"
   },
   {
    "duration": 18,
    "start_time": "2023-09-27T09:07:09.623Z"
   },
   {
    "duration": 110,
    "start_time": "2023-09-27T09:07:09.646Z"
   },
   {
    "duration": 169,
    "start_time": "2023-09-27T09:07:09.759Z"
   },
   {
    "duration": 164,
    "start_time": "2023-09-27T09:07:09.930Z"
   },
   {
    "duration": 17,
    "start_time": "2023-09-27T09:07:10.097Z"
   },
   {
    "duration": 51,
    "start_time": "2023-09-27T09:07:10.115Z"
   },
   {
    "duration": 89,
    "start_time": "2023-09-27T09:07:10.168Z"
   },
   {
    "duration": 88,
    "start_time": "2023-09-27T09:07:10.259Z"
   }
  ],
  "kernelspec": {
   "display_name": "Python 3 (ipykernel)",
   "language": "python",
   "name": "python3"
  },
  "language_info": {
   "codemirror_mode": {
    "name": "ipython",
    "version": 3
   },
   "file_extension": ".py",
   "mimetype": "text/x-python",
   "name": "python",
   "nbconvert_exporter": "python",
   "pygments_lexer": "ipython3",
   "version": "3.9.5"
  },
  "toc": {
   "base_numbering": 1,
   "nav_menu": {},
   "number_sections": true,
   "sideBar": true,
   "skip_h1_title": true,
   "title_cell": "Содержание",
   "title_sidebar": "Contents",
   "toc_cell": true,
   "toc_position": {},
   "toc_section_display": true,
   "toc_window_display": true
  }
 },
 "nbformat": 4,
 "nbformat_minor": 4
}
