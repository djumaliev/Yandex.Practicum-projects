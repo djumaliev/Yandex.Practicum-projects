{
 "cells": [
  {
   "cell_type": "markdown",
   "metadata": {
    "deletable": false,
    "editable": false,
    "id": "E0vqbgi9ay0H"
   },
   "source": [
    "# Yandex music"
   ]
  },
  {
   "cell_type": "markdown",
   "metadata": {
    "deletable": false,
    "editable": false,
    "id": "VUC88oWjTJw2"
   },
   "source": [
    "Comparison of Moscow and St. Petersburg is surrounded by myths. For example:\n",
    "\n",
    "Moscow is a metropolis subject to a strict workweek rhythm;\n",
    "St. Petersburg is a cultural capital with its own tastes.\n",
    "\n",
    "In this Yandex Music data analysis, we will compare the behavior of users in these two cities.\n",
    "\n",
    "The research aims to test three hypotheses:\n",
    "\n",
    "- User activity depends on the day of the week, and this varies differently in Moscow and St. Petersburg.\n",
    "- Different music genres predominate on Monday mornings in Moscow and St. Petersburg. The same goes for Friday evenings, depending on the city.\n",
    "- Moscow and St. Petersburg prefer different music genres. Moscow tends to listen to pop music more often, while St. Petersburg leans toward Russian rap.\n",
    "Course of the Research:\n",
    "\n",
    "We will obtain user behavior data from the yandex_music_project.csv file. The quality of the data is unknown, so we will start by reviewing the data.\n",
    "\n",
    "We will check the data for errors and assess their impact on the research. During the preprocessing stage, we will look for opportunities to correct the most critical data errors.\n",
    "\n",
    "Thus, the research will be conducted in three stages:\n",
    "\n",
    "1. Data overview.\n",
    "2. Data preprocessing.\n",
    "3. Hypothesis testing."
   ]
  },
  {
   "cell_type": "markdown",
   "metadata": {
    "deletable": false,
    "editable": false,
    "id": "Ml1hmfXC_Zcs"
   },
   "source": [
    "## Data overview.\n",
    "\n",
    "\n",
    "Let's form an initial understanding of the Yandex Music data."
   ]
  },
  {
   "cell_type": "markdown",
   "metadata": {
    "deletable": false,
    "editable": false,
    "id": "57eAOGIz_Zcs",
    "tags": [
     "start_task"
    ]
   },
   "source": [
    "__Task 1__\n",
    "\n",
    "The primary tool for data analysis is \"pandas.\" Let's import this library."
   ]
  },
  {
   "cell_type": "code",
   "execution_count": 1,
   "metadata": {
    "deletable": false,
    "id": "AXN7PHPN_Zcs"
   },
   "outputs": [],
   "source": [
    "import pandas as pd"
   ]
  },
  {
   "cell_type": "markdown",
   "metadata": {
    "deletable": false,
    "editable": false,
    "id": "SG23P8tt_Zcs",
    "tags": [
     "start_task"
    ]
   },
   "source": [
    "__Task 2__\n",
    "\n",
    "Let's read the file \"yandex_music_project.csv\" from the \"/datasets\" folder and store it in the variable \"df.\""
   ]
  },
  {
   "cell_type": "code",
   "execution_count": 2,
   "metadata": {
    "deletable": false,
    "id": "fFVu7vqh_Zct"
   },
   "outputs": [],
   "source": [
    "df = pd.read_csv('/Users/daniyardjumaliev/Jupyter/Projects/datasets/yandex_music_project.csv')"
   ]
  },
  {
   "cell_type": "markdown",
   "metadata": {
    "deletable": false,
    "editable": false,
    "id": "rDoOMd3uTqnZ",
    "tags": [
     "start_task"
    ]
   },
   "source": [
    "__Task 3__\n",
    "\n",
    "Let's display the first ten rows of the table on the screen:"
   ]
  },
  {
   "cell_type": "code",
   "execution_count": 3,
   "metadata": {
    "deletable": false,
    "id": "oWTVX3gW_Zct"
   },
   "outputs": [
    {
     "data": {
      "text/html": [
       "<div>\n",
       "<style scoped>\n",
       "    .dataframe tbody tr th:only-of-type {\n",
       "        vertical-align: middle;\n",
       "    }\n",
       "\n",
       "    .dataframe tbody tr th {\n",
       "        vertical-align: top;\n",
       "    }\n",
       "\n",
       "    .dataframe thead th {\n",
       "        text-align: right;\n",
       "    }\n",
       "</style>\n",
       "<table border=\"1\" class=\"dataframe\">\n",
       "  <thead>\n",
       "    <tr style=\"text-align: right;\">\n",
       "      <th></th>\n",
       "      <th>userID</th>\n",
       "      <th>Track</th>\n",
       "      <th>artist</th>\n",
       "      <th>genre</th>\n",
       "      <th>City</th>\n",
       "      <th>time</th>\n",
       "      <th>Day</th>\n",
       "    </tr>\n",
       "  </thead>\n",
       "  <tbody>\n",
       "    <tr>\n",
       "      <th>0</th>\n",
       "      <td>FFB692EC</td>\n",
       "      <td>Kamigata To Boots</td>\n",
       "      <td>The Mass Missile</td>\n",
       "      <td>rock</td>\n",
       "      <td>Saint-Petersburg</td>\n",
       "      <td>20:28:33</td>\n",
       "      <td>Wednesday</td>\n",
       "    </tr>\n",
       "    <tr>\n",
       "      <th>1</th>\n",
       "      <td>55204538</td>\n",
       "      <td>Delayed Because of Accident</td>\n",
       "      <td>Andreas Rönnberg</td>\n",
       "      <td>rock</td>\n",
       "      <td>Moscow</td>\n",
       "      <td>14:07:09</td>\n",
       "      <td>Friday</td>\n",
       "    </tr>\n",
       "    <tr>\n",
       "      <th>2</th>\n",
       "      <td>20EC38</td>\n",
       "      <td>Funiculì funiculà</td>\n",
       "      <td>Mario Lanza</td>\n",
       "      <td>pop</td>\n",
       "      <td>Saint-Petersburg</td>\n",
       "      <td>20:58:07</td>\n",
       "      <td>Wednesday</td>\n",
       "    </tr>\n",
       "    <tr>\n",
       "      <th>3</th>\n",
       "      <td>A3DD03C9</td>\n",
       "      <td>Dragons in the Sunset</td>\n",
       "      <td>Fire + Ice</td>\n",
       "      <td>folk</td>\n",
       "      <td>Saint-Petersburg</td>\n",
       "      <td>08:37:09</td>\n",
       "      <td>Monday</td>\n",
       "    </tr>\n",
       "    <tr>\n",
       "      <th>4</th>\n",
       "      <td>E2DC1FAE</td>\n",
       "      <td>Soul People</td>\n",
       "      <td>Space Echo</td>\n",
       "      <td>dance</td>\n",
       "      <td>Moscow</td>\n",
       "      <td>08:34:34</td>\n",
       "      <td>Monday</td>\n",
       "    </tr>\n",
       "    <tr>\n",
       "      <th>5</th>\n",
       "      <td>842029A1</td>\n",
       "      <td>Преданная</td>\n",
       "      <td>IMPERVTOR</td>\n",
       "      <td>rusrap</td>\n",
       "      <td>Saint-Petersburg</td>\n",
       "      <td>13:09:41</td>\n",
       "      <td>Friday</td>\n",
       "    </tr>\n",
       "    <tr>\n",
       "      <th>6</th>\n",
       "      <td>4CB90AA5</td>\n",
       "      <td>True</td>\n",
       "      <td>Roman Messer</td>\n",
       "      <td>dance</td>\n",
       "      <td>Moscow</td>\n",
       "      <td>13:00:07</td>\n",
       "      <td>Wednesday</td>\n",
       "    </tr>\n",
       "    <tr>\n",
       "      <th>7</th>\n",
       "      <td>F03E1C1F</td>\n",
       "      <td>Feeling This Way</td>\n",
       "      <td>Polina Griffith</td>\n",
       "      <td>dance</td>\n",
       "      <td>Moscow</td>\n",
       "      <td>20:47:49</td>\n",
       "      <td>Wednesday</td>\n",
       "    </tr>\n",
       "    <tr>\n",
       "      <th>8</th>\n",
       "      <td>8FA1D3BE</td>\n",
       "      <td>И вновь продолжается бой</td>\n",
       "      <td>NaN</td>\n",
       "      <td>ruspop</td>\n",
       "      <td>Moscow</td>\n",
       "      <td>09:17:40</td>\n",
       "      <td>Friday</td>\n",
       "    </tr>\n",
       "    <tr>\n",
       "      <th>9</th>\n",
       "      <td>E772D5C0</td>\n",
       "      <td>Pessimist</td>\n",
       "      <td>NaN</td>\n",
       "      <td>dance</td>\n",
       "      <td>Saint-Petersburg</td>\n",
       "      <td>21:20:49</td>\n",
       "      <td>Wednesday</td>\n",
       "    </tr>\n",
       "  </tbody>\n",
       "</table>\n",
       "</div>"
      ],
      "text/plain": [
       "     userID                        Track            artist   genre  \\\n",
       "0  FFB692EC            Kamigata To Boots  The Mass Missile    rock   \n",
       "1  55204538  Delayed Because of Accident  Andreas Rönnberg    rock   \n",
       "2    20EC38            Funiculì funiculà       Mario Lanza     pop   \n",
       "3  A3DD03C9        Dragons in the Sunset        Fire + Ice    folk   \n",
       "4  E2DC1FAE                  Soul People        Space Echo   dance   \n",
       "5  842029A1                    Преданная         IMPERVTOR  rusrap   \n",
       "6  4CB90AA5                         True      Roman Messer   dance   \n",
       "7  F03E1C1F             Feeling This Way   Polina Griffith   dance   \n",
       "8  8FA1D3BE     И вновь продолжается бой               NaN  ruspop   \n",
       "9  E772D5C0                    Pessimist               NaN   dance   \n",
       "\n",
       "             City        time        Day  \n",
       "0  Saint-Petersburg  20:28:33  Wednesday  \n",
       "1            Moscow  14:07:09     Friday  \n",
       "2  Saint-Petersburg  20:58:07  Wednesday  \n",
       "3  Saint-Petersburg  08:37:09     Monday  \n",
       "4            Moscow  08:34:34     Monday  \n",
       "5  Saint-Petersburg  13:09:41     Friday  \n",
       "6            Moscow  13:00:07  Wednesday  \n",
       "7            Moscow  20:47:49  Wednesday  \n",
       "8            Moscow  09:17:40     Friday  \n",
       "9  Saint-Petersburg  21:20:49  Wednesday  "
      ]
     },
     "execution_count": 3,
     "metadata": {},
     "output_type": "execute_result"
    }
   ],
   "source": [
    "df.head(10)"
   ]
  },
  {
   "cell_type": "markdown",
   "metadata": {
    "deletable": false,
    "editable": false,
    "id": "EO73Kwic_Zct",
    "tags": [
     "start_task"
    ]
   },
   "source": [
    "**Task 4**\n",
    "\n",
    "Let's obtain general information about the table using the info() method in one command:"
   ]
  },
  {
   "cell_type": "code",
   "execution_count": 4,
   "metadata": {
    "deletable": false,
    "id": "DSf2kIb-_Zct"
   },
   "outputs": [
    {
     "name": "stdout",
     "output_type": "stream",
     "text": [
      "<class 'pandas.core.frame.DataFrame'>\n",
      "RangeIndex: 65079 entries, 0 to 65078\n",
      "Data columns (total 7 columns):\n",
      " #   Column    Non-Null Count  Dtype \n",
      "---  ------    --------------  ----- \n",
      " 0     userID  65079 non-null  object\n",
      " 1   Track     63848 non-null  object\n",
      " 2   artist    57876 non-null  object\n",
      " 3   genre     63881 non-null  object\n",
      " 4     City    65079 non-null  object\n",
      " 5   time      65079 non-null  object\n",
      " 6   Day       65079 non-null  object\n",
      "dtypes: object(7)\n",
      "memory usage: 3.5+ MB\n"
     ]
    }
   ],
   "source": [
    "df.info()"
   ]
  },
  {
   "cell_type": "markdown",
   "metadata": {
    "deletable": false,
    "editable": false,
    "id": "TaQ2Iwbr_Zct"
   },
   "source": [
    "So, there are seven columns in the table, and the data type in all columns is 'object'.\n",
    "\n",
    "According to the data documentation:\n",
    "\n",
    "- 'userID' - user identifier;\n",
    "- 'Track' - track name;\n",
    "- 'artist' - artist name;\n",
    "- 'genre' - genre name;\n",
    "- 'City' - user's city;\n",
    "- 'time' - start time of listening;\n",
    "- 'Day' - day of the week.\n",
    "\n",
    "The number of values in the columns varies, indicating the presence of missing values in the data."
   ]
  },
  {
   "cell_type": "markdown",
   "metadata": {
    "deletable": false,
    "editable": false,
    "id": "4P0UCWzswgEm",
    "tags": [
     "start_task"
    ]
   },
   "source": [
    "__Task 5__\n",
    "\n",
    "Open-ended Question\n",
    "\n",
    "In the column names, there are three style violations:\n",
    "\n",
    "- Lowercase letters are combined with uppercase letters.\n",
    "- Spaces are present."
   ]
  },
  {
   "cell_type": "markdown",
   "metadata": {
    "deletable": false,
    "editable": false,
    "id": "MCB6-dXG_Zct"
   },
   "source": [
    "__Conclusions__\n",
    "\n",
    "Each row in the table contains data about a listened track. Some columns describe the composition itself: the title, artist, and genre. The remaining data provides information about the user: their city, when they listened to music.\n",
    "\n",
    "Preliminarily, it can be stated that there is enough data to test the hypotheses. However, there are missing values in the data, and there are style discrepancies in the column names.\n",
    "\n",
    "To proceed further, it is necessary to address the data issues."
   ]
  },
  {
   "cell_type": "markdown",
   "metadata": {
    "deletable": false,
    "editable": false,
    "id": "SjYF6Ub9_Zct"
   },
   "source": [
    "## Data Preprocessing\n",
    "Let's correct the style in the column headers, eliminate missing values, and then check the data for duplicates."
   ]
  },
  {
   "cell_type": "markdown",
   "metadata": {
    "deletable": false,
    "editable": false,
    "id": "dIaKXr29_Zct",
    "tags": [
     "start_task"
    ]
   },
   "source": [
    "### Column Headers Style\n",
    "__Task 6__\n",
    "\n",
    "Display the column names on the screen:"
   ]
  },
  {
   "cell_type": "code",
   "execution_count": 5,
   "metadata": {
    "deletable": false,
    "id": "oKOTdF_Q_Zct"
   },
   "outputs": [
    {
     "data": {
      "text/plain": [
       "Index(['  userID', 'Track', 'artist', 'genre', '  City  ', 'time', 'Day'], dtype='object')"
      ]
     },
     "execution_count": 5,
     "metadata": {},
     "output_type": "execute_result"
    }
   ],
   "source": [
    "df.columns"
   ]
  },
  {
   "cell_type": "markdown",
   "metadata": {
    "deletable": false,
    "editable": false,
    "id": "zj5534cv_Zct",
    "tags": [
     "start_task"
    ]
   },
   "source": [
    "__Task 7__\n",
    "\n",
    "Let's bring the column names into good style:\n",
    "\n",
    "Convert multi-word names to \"snake_case.\"\n",
    "- Make all characters lowercase.\n",
    "- Remove spaces.\n",
    "- To do this, rename the columns as follows:\n",
    "\n",
    "- ' userID' → 'user_id'\n",
    "- 'Track' → 'track'\n",
    "- ' City ' → 'city'\n",
    "- 'Day' → 'day'"
   ]
  },
  {
   "cell_type": "code",
   "execution_count": 6,
   "metadata": {
    "deletable": false,
    "id": "ISlFqs5y_Zct"
   },
   "outputs": [],
   "source": [
    "renamed = {\n",
    "    '  userID' : 'user_id',\n",
    "    'Track' : 'track',\n",
    "    '  City  ' : 'city',\n",
    "    'Day' : 'day'\n",
    "}\n",
    "df.rename(columns = renamed, inplace=True)\n"
   ]
  },
  {
   "cell_type": "markdown",
   "metadata": {
    "deletable": false,
    "editable": false,
    "id": "1dqbh00J_Zct",
    "tags": [
     "start_task"
    ]
   },
   "source": [
    "__Task 8__\n",
    "\n",
    "Let's verify the result. To do this, display the column names on the screen again:"
   ]
  },
  {
   "cell_type": "code",
   "execution_count": 7,
   "metadata": {
    "deletable": false,
    "id": "d4NOAmTW_Zct"
   },
   "outputs": [
    {
     "data": {
      "text/plain": [
       "Index(['user_id', 'track', 'artist', 'genre', 'city', 'time', 'day'], dtype='object')"
      ]
     },
     "execution_count": 7,
     "metadata": {},
     "output_type": "execute_result"
    }
   ],
   "source": [
    "df.columns"
   ]
  },
  {
   "cell_type": "markdown",
   "metadata": {
    "deletable": false,
    "editable": false,
    "id": "5ISfbcfY_Zct",
    "tags": [
     "start_task"
    ]
   },
   "source": [
    "### Missing Values\n",
    "__Task 9__\n",
    "\n",
    "First, let's calculate the number of missing values in the table. To do this, we can use two pandas methods:"
   ]
  },
  {
   "cell_type": "code",
   "execution_count": 8,
   "metadata": {
    "deletable": false,
    "id": "RskX29qr_Zct"
   },
   "outputs": [
    {
     "data": {
      "text/plain": [
       "user_id       0\n",
       "track      1231\n",
       "artist     7203\n",
       "genre      1198\n",
       "city          0\n",
       "time          0\n",
       "day           0\n",
       "dtype: int64"
      ]
     },
     "execution_count": 8,
     "metadata": {},
     "output_type": "execute_result"
    }
   ],
   "source": [
    "df.isna().sum()"
   ]
  },
  {
   "cell_type": "markdown",
   "metadata": {
    "deletable": false,
    "editable": false,
    "id": "qubhgnlO_Zct"
   },
   "source": [
    "Not all missing values affect the research. For example, in the 'track' and 'artist' columns, missing values are not important for our work. It is sufficient to replace them with explicit labels.\n",
    "\n",
    "However, missing values in the 'genre' column can hinder the comparison of musical preferences in Moscow and St. Petersburg. In practice, it would be correct to determine the cause of these missing values and recover the data. However, this is not possible in an educational project. Therefore, we will need to:\n",
    "\n",
    "- Fill in these missing values with explicit labels.\n",
    "- Evaluate the extent to which they may affect the calculations."
   ]
  },
  {
   "cell_type": "markdown",
   "metadata": {
    "deletable": false,
    "editable": false,
    "id": "fSv2laPA_Zct",
    "tags": [
     "start_task"
    ]
   },
   "source": [
    "__Task 10__\n",
    "\n",
    "Let's replace the missing values in the 'track', 'artist', and 'genre' columns with the string 'unknown'. To do this, we will create a list 'columns_to_replace', iterate through its elements using a 'for' loop, and perform the replacement for each column:"
   ]
  },
  {
   "cell_type": "code",
   "execution_count": 9,
   "metadata": {
    "deletable": false,
    "id": "KplB5qWs_Zct"
   },
   "outputs": [],
   "source": [
    "columns_to_replace = ['track', 'artist', 'genre']\n",
    "\n",
    "for column in columns_to_replace:\n",
    "    df[column] = df[column].fillna('unknown')"
   ]
  },
  {
   "cell_type": "markdown",
   "metadata": {
    "deletable": false,
    "editable": false,
    "id": "Ilsm-MZo_Zct",
    "tags": [
     "start_task"
    ]
   },
   "source": [
    "__Task 11__\n",
    "\n",
    "Make sure there are no more missing values in the table. To do this, we calculate the number of missing values again."
   ]
  },
  {
   "cell_type": "code",
   "execution_count": 10,
   "metadata": {
    "deletable": false,
    "id": "Tq4nYRX4_Zct"
   },
   "outputs": [
    {
     "data": {
      "text/plain": [
       "user_id    0\n",
       "track      0\n",
       "artist     0\n",
       "genre      0\n",
       "city       0\n",
       "time       0\n",
       "day        0\n",
       "dtype: int64"
      ]
     },
     "execution_count": 10,
     "metadata": {},
     "output_type": "execute_result"
    }
   ],
   "source": [
    "df.isna().sum()"
   ]
  },
  {
   "cell_type": "markdown",
   "metadata": {
    "deletable": false,
    "editable": false,
    "id": "BWKRtBJ3_Zct",
    "tags": [
     "start_task"
    ]
   },
   "source": [
    "### Duplicates\n",
    "\n",
    "__Task 12__\n",
    "\n",
    "Count explicit duplicates in the table with a single command:"
   ]
  },
  {
   "cell_type": "code",
   "execution_count": 11,
   "metadata": {
    "deletable": false,
    "id": "36eES_S0_Zct"
   },
   "outputs": [
    {
     "data": {
      "text/plain": [
       "3826"
      ]
     },
     "execution_count": 11,
     "metadata": {},
     "output_type": "execute_result"
    }
   ],
   "source": [
    "df.duplicated().sum()"
   ]
  },
  {
   "cell_type": "markdown",
   "metadata": {
    "deletable": false,
    "editable": false,
    "id": "Ot25h6XR_Zct",
    "tags": [
     "start_task"
    ]
   },
   "source": [
    "__Task 13__\n",
    "\n",
    "Let's call the special pandas method to remove explicit duplicates:"
   ]
  },
  {
   "cell_type": "code",
   "execution_count": 12,
   "metadata": {
    "deletable": false,
    "id": "exFHq6tt_Zct"
   },
   "outputs": [],
   "source": [
    "df = df.drop_duplicates()"
   ]
  },
  {
   "cell_type": "markdown",
   "metadata": {
    "deletable": false,
    "editable": false,
    "id": "Im2YwBEG_Zct",
    "tags": [
     "start_task"
    ]
   },
   "source": [
    "__Task 14__\n",
    "\n",
    "Let's calculate explicit duplicates in the table once again to ensure that we have completely eliminated them:"
   ]
  },
  {
   "cell_type": "code",
   "execution_count": 13,
   "metadata": {
    "deletable": false,
    "id": "-8PuNWQ0_Zct"
   },
   "outputs": [
    {
     "data": {
      "text/plain": [
       "0"
      ]
     },
     "execution_count": 13,
     "metadata": {},
     "output_type": "execute_result"
    }
   ],
   "source": [
    "df.duplicated().sum()"
   ]
  },
  {
   "cell_type": "markdown",
   "metadata": {
    "deletable": false,
    "editable": false,
    "id": "QlFBsxAr_Zct"
   },
   "source": [
    "Now let's get rid of implicit duplicates in the genre column. For example, the name of the same genre can be written slightly differently. Such inconsistencies can also affect the research results."
   ]
  },
  {
   "cell_type": "markdown",
   "metadata": {
    "deletable": false,
    "editable": false,
    "id": "eSjWwsOh_Zct",
    "tags": [
     "start_task"
    ]
   },
   "source": [
    "__Task 15__\n",
    "\n",
    "Let's display a list of unique genre names sorted in alphabetical order on the screen. To do this:\n",
    "\n",
    "- Extract the relevant column from the DataFrame.\n",
    "- Apply a sorting method to it.\n",
    "- Use a method to return unique values from the sorted column."
   ]
  },
  {
   "cell_type": "code",
   "execution_count": 14,
   "metadata": {
    "deletable": false,
    "id": "JIUcqzZN_Zct"
   },
   "outputs": [
    {
     "data": {
      "text/plain": [
       "array(['acid', 'acoustic', 'action', 'adult', 'africa', 'afrikaans',\n",
       "       'alternative', 'alternativepunk', 'ambient', 'americana',\n",
       "       'animated', 'anime', 'arabesk', 'arabic', 'arena',\n",
       "       'argentinetango', 'art', 'audiobook', 'author', 'avantgarde',\n",
       "       'axé', 'baile', 'balkan', 'beats', 'bigroom', 'black', 'bluegrass',\n",
       "       'blues', 'bollywood', 'bossa', 'brazilian', 'breakbeat', 'breaks',\n",
       "       'broadway', 'cantautori', 'cantopop', 'canzone', 'caribbean',\n",
       "       'caucasian', 'celtic', 'chamber', 'chanson', 'children', 'chill',\n",
       "       'chinese', 'choral', 'christian', 'christmas', 'classical',\n",
       "       'classicmetal', 'club', 'colombian', 'comedy', 'conjazz',\n",
       "       'contemporary', 'country', 'cuban', 'dance', 'dancehall',\n",
       "       'dancepop', 'dark', 'death', 'deep', 'deutschrock', 'deutschspr',\n",
       "       'dirty', 'disco', 'dnb', 'documentary', 'downbeat', 'downtempo',\n",
       "       'drum', 'dub', 'dubstep', 'eastern', 'easy', 'electronic',\n",
       "       'electropop', 'emo', 'entehno', 'epicmetal', 'estrada', 'ethnic',\n",
       "       'eurofolk', 'european', 'experimental', 'extrememetal', 'fado',\n",
       "       'fairytail', 'film', 'fitness', 'flamenco', 'folk', 'folklore',\n",
       "       'folkmetal', 'folkrock', 'folktronica', 'forró', 'frankreich',\n",
       "       'französisch', 'french', 'funk', 'future', 'gangsta', 'garage',\n",
       "       'german', 'ghazal', 'gitarre', 'glitch', 'gospel', 'gothic',\n",
       "       'grime', 'grunge', 'gypsy', 'handsup', \"hard'n'heavy\", 'hardcore',\n",
       "       'hardstyle', 'hardtechno', 'hip', 'hip-hop', 'hiphop',\n",
       "       'historisch', 'holiday', 'hop', 'horror', 'house', 'hymn', 'idm',\n",
       "       'independent', 'indian', 'indie', 'indipop', 'industrial',\n",
       "       'inspirational', 'instrumental', 'international', 'irish', 'jam',\n",
       "       'japanese', 'jazz', 'jewish', 'jpop', 'jungle', 'k-pop',\n",
       "       'karadeniz', 'karaoke', 'kayokyoku', 'korean', 'laiko', 'latin',\n",
       "       'latino', 'leftfield', 'local', 'lounge', 'loungeelectronic',\n",
       "       'lovers', 'malaysian', 'mandopop', 'marschmusik', 'meditative',\n",
       "       'mediterranean', 'melodic', 'metal', 'metalcore', 'mexican',\n",
       "       'middle', 'minimal', 'miscellaneous', 'modern', 'mood', 'mpb',\n",
       "       'muslim', 'native', 'neoklassik', 'neue', 'new', 'newage',\n",
       "       'newwave', 'nu', 'nujazz', 'numetal', 'oceania', 'old', 'opera',\n",
       "       'orchestral', 'other', 'piano', 'podcasts', 'pop', 'popdance',\n",
       "       'popelectronic', 'popeurodance', 'poprussian', 'post',\n",
       "       'posthardcore', 'postrock', 'power', 'progmetal', 'progressive',\n",
       "       'psychedelic', 'punjabi', 'punk', 'quebecois', 'ragga', 'ram',\n",
       "       'rancheras', 'rap', 'rave', 'reggae', 'reggaeton', 'regional',\n",
       "       'relax', 'religious', 'retro', 'rhythm', 'rnb', 'rnr', 'rock',\n",
       "       'rockabilly', 'rockalternative', 'rockindie', 'rockother',\n",
       "       'romance', 'roots', 'ruspop', 'rusrap', 'rusrock', 'russian',\n",
       "       'salsa', 'samba', 'scenic', 'schlager', 'self', 'sertanejo',\n",
       "       'shanson', 'shoegazing', 'showtunes', 'singer', 'ska', 'skarock',\n",
       "       'slow', 'smooth', 'soft', 'soul', 'soulful', 'sound', 'soundtrack',\n",
       "       'southern', 'specialty', 'speech', 'spiritual', 'sport',\n",
       "       'stonerrock', 'surf', 'swing', 'synthpop', 'synthrock',\n",
       "       'sängerportrait', 'tango', 'tanzorchester', 'taraftar', 'tatar',\n",
       "       'tech', 'techno', 'teen', 'thrash', 'top', 'traditional',\n",
       "       'tradjazz', 'trance', 'tribal', 'trip', 'triphop', 'tropical',\n",
       "       'türk', 'türkçe', 'ukrrock', 'unknown', 'urban', 'uzbek',\n",
       "       'variété', 'vi', 'videogame', 'vocal', 'western', 'world',\n",
       "       'worldbeat', 'ïîï', 'электроника'], dtype=object)"
      ]
     },
     "execution_count": 14,
     "metadata": {},
     "output_type": "execute_result"
    }
   ],
   "source": [
    "genre_unique = df['genre']\n",
    "genre_unique = genre_unique.sort_values()\n",
    "genre_unique = genre_unique.unique()\n",
    "genre_unique"
   ]
  },
  {
   "cell_type": "markdown",
   "metadata": {
    "deletable": false,
    "editable": false,
    "id": "qej-Qmuo_Zct",
    "tags": [
     "start_task"
    ]
   },
   "source": [
    "__Task 16__\n",
    "\n",
    "Let's review the list and find implicit duplicates of the 'hiphop' genre name. These could be names with errors or alternative names for the same genre.\n",
    "\n",
    "We can see the following implicit duplicates:\n",
    "\n",
    "- 'hip'\n",
    "- 'hop'\n",
    "- 'hip-hop'\n",
    "\n",
    "To clean the table from them, we will use the replace() method with two arguments: a list of duplicate strings (including 'hip', 'hop', and 'hip-hop') and the correct string value. We need to correct the genre column in the df table: replace each value from the list of duplicates with the correct one. Instead of 'hip', 'hop', and 'hip-hop', the table should have the value 'hiphop':"
   ]
  },
  {
   "cell_type": "code",
   "execution_count": 15,
   "metadata": {
    "deletable": false,
    "id": "ErNDkmns_Zct"
   },
   "outputs": [],
   "source": [
    "df['genre'] = df['genre'].replace(['hip', 'hop', 'hip-hop'], 'hiphop')"
   ]
  },
  {
   "cell_type": "markdown",
   "metadata": {
    "deletable": false,
    "editable": false,
    "id": "zQKF16_RG15m",
    "tags": [
     "start_task"
    ]
   },
   "source": [
    "__Task 17__\n",
    "\n",
    "Let's verify that we have replaced the incorrect genre names:\n",
    "\n",
    "'hip'\n",
    "'hop'\n",
    "'hip-hop'\n",
    "\n",
    "Display the sorted list of unique values in the genre column:"
   ]
  },
  {
   "cell_type": "code",
   "execution_count": 16,
   "metadata": {
    "deletable": false,
    "id": "wvixALnFG15m"
   },
   "outputs": [
    {
     "data": {
      "text/plain": [
       "array(['acid', 'acoustic', 'action', 'adult', 'africa', 'afrikaans',\n",
       "       'alternative', 'alternativepunk', 'ambient', 'americana',\n",
       "       'animated', 'anime', 'arabesk', 'arabic', 'arena',\n",
       "       'argentinetango', 'art', 'audiobook', 'author', 'avantgarde',\n",
       "       'axé', 'baile', 'balkan', 'beats', 'bigroom', 'black', 'bluegrass',\n",
       "       'blues', 'bollywood', 'bossa', 'brazilian', 'breakbeat', 'breaks',\n",
       "       'broadway', 'cantautori', 'cantopop', 'canzone', 'caribbean',\n",
       "       'caucasian', 'celtic', 'chamber', 'chanson', 'children', 'chill',\n",
       "       'chinese', 'choral', 'christian', 'christmas', 'classical',\n",
       "       'classicmetal', 'club', 'colombian', 'comedy', 'conjazz',\n",
       "       'contemporary', 'country', 'cuban', 'dance', 'dancehall',\n",
       "       'dancepop', 'dark', 'death', 'deep', 'deutschrock', 'deutschspr',\n",
       "       'dirty', 'disco', 'dnb', 'documentary', 'downbeat', 'downtempo',\n",
       "       'drum', 'dub', 'dubstep', 'eastern', 'easy', 'electronic',\n",
       "       'electropop', 'emo', 'entehno', 'epicmetal', 'estrada', 'ethnic',\n",
       "       'eurofolk', 'european', 'experimental', 'extrememetal', 'fado',\n",
       "       'fairytail', 'film', 'fitness', 'flamenco', 'folk', 'folklore',\n",
       "       'folkmetal', 'folkrock', 'folktronica', 'forró', 'frankreich',\n",
       "       'französisch', 'french', 'funk', 'future', 'gangsta', 'garage',\n",
       "       'german', 'ghazal', 'gitarre', 'glitch', 'gospel', 'gothic',\n",
       "       'grime', 'grunge', 'gypsy', 'handsup', \"hard'n'heavy\", 'hardcore',\n",
       "       'hardstyle', 'hardtechno', 'hiphop', 'historisch', 'holiday',\n",
       "       'horror', 'house', 'hymn', 'idm', 'independent', 'indian', 'indie',\n",
       "       'indipop', 'industrial', 'inspirational', 'instrumental',\n",
       "       'international', 'irish', 'jam', 'japanese', 'jazz', 'jewish',\n",
       "       'jpop', 'jungle', 'k-pop', 'karadeniz', 'karaoke', 'kayokyoku',\n",
       "       'korean', 'laiko', 'latin', 'latino', 'leftfield', 'local',\n",
       "       'lounge', 'loungeelectronic', 'lovers', 'malaysian', 'mandopop',\n",
       "       'marschmusik', 'meditative', 'mediterranean', 'melodic', 'metal',\n",
       "       'metalcore', 'mexican', 'middle', 'minimal', 'miscellaneous',\n",
       "       'modern', 'mood', 'mpb', 'muslim', 'native', 'neoklassik', 'neue',\n",
       "       'new', 'newage', 'newwave', 'nu', 'nujazz', 'numetal', 'oceania',\n",
       "       'old', 'opera', 'orchestral', 'other', 'piano', 'podcasts', 'pop',\n",
       "       'popdance', 'popelectronic', 'popeurodance', 'poprussian', 'post',\n",
       "       'posthardcore', 'postrock', 'power', 'progmetal', 'progressive',\n",
       "       'psychedelic', 'punjabi', 'punk', 'quebecois', 'ragga', 'ram',\n",
       "       'rancheras', 'rap', 'rave', 'reggae', 'reggaeton', 'regional',\n",
       "       'relax', 'religious', 'retro', 'rhythm', 'rnb', 'rnr', 'rock',\n",
       "       'rockabilly', 'rockalternative', 'rockindie', 'rockother',\n",
       "       'romance', 'roots', 'ruspop', 'rusrap', 'rusrock', 'russian',\n",
       "       'salsa', 'samba', 'scenic', 'schlager', 'self', 'sertanejo',\n",
       "       'shanson', 'shoegazing', 'showtunes', 'singer', 'ska', 'skarock',\n",
       "       'slow', 'smooth', 'soft', 'soul', 'soulful', 'sound', 'soundtrack',\n",
       "       'southern', 'specialty', 'speech', 'spiritual', 'sport',\n",
       "       'stonerrock', 'surf', 'swing', 'synthpop', 'synthrock',\n",
       "       'sängerportrait', 'tango', 'tanzorchester', 'taraftar', 'tatar',\n",
       "       'tech', 'techno', 'teen', 'thrash', 'top', 'traditional',\n",
       "       'tradjazz', 'trance', 'tribal', 'trip', 'triphop', 'tropical',\n",
       "       'türk', 'türkçe', 'ukrrock', 'unknown', 'urban', 'uzbek',\n",
       "       'variété', 'vi', 'videogame', 'vocal', 'western', 'world',\n",
       "       'worldbeat', 'ïîï', 'электроника'], dtype=object)"
      ]
     },
     "execution_count": 16,
     "metadata": {},
     "output_type": "execute_result"
    }
   ],
   "source": [
    "df['genre'].sort_values().unique()\n"
   ]
  },
  {
   "cell_type": "markdown",
   "metadata": {
    "deletable": false,
    "editable": false,
    "id": "jz6a9-7HQUDd"
   },
   "source": [
    "__Conclusions__\n",
    "\n",
    "Data preprocessing revealed three issues in the data:\n",
    "\n",
    "- Style violations in column headers.\n",
    "- Missing values.\n",
    "- Duplicates - explicit and implicit.\n",
    "\n",
    "We corrected the headers to simplify working with the table. Removing duplicates will make the research more accurate.\n",
    "\n",
    "We replaced missing values with 'unknown'. We still need to determine whether missing values in the genre column will affect the research.\n",
    "\n",
    "Now, we can proceed to test the hypotheses."
   ]
  },
  {
   "cell_type": "markdown",
   "metadata": {
    "deletable": false,
    "editable": false,
    "id": "WttZHXH0SqKk"
   },
   "source": [
    "## Hypothesis Testing"
   ]
  },
  {
   "cell_type": "markdown",
   "metadata": {
    "deletable": false,
    "editable": false,
    "id": "Im936VVi_Zcu"
   },
   "source": [
    "### Comparing the Behavior of Users from Two Capitals"
   ]
  },
  {
   "cell_type": "markdown",
   "metadata": {
    "deletable": false,
    "editable": false,
    "id": "nwt_MuaL_Zcu"
   },
   "source": [
    "The first hypothesis suggests that users listen to music differently in Moscow and St. Petersburg. Let's test this assumption using data for three weekdays: Monday, Wednesday, and Friday. \n",
    "\n",
    "To do this:\n",
    "\n",
    "- Separate users from Moscow and St. Petersburg.\n",
    "- Compare how many tracks each group of users listened to on Monday, Wednesday, and Friday."
   ]
  },
  {
   "cell_type": "markdown",
   "metadata": {
    "deletable": false,
    "editable": false,
    "id": "8Dw_YMmT_Zcu",
    "tags": [
     "start_task"
    ]
   },
   "source": [
    "__Task 18__\n",
    "\n",
    "To practice, let's first perform each of the calculations separately.\n",
    "\n",
    "Let's assess user activity in each city. We'll group the data by city and calculate the number of tracks listened to in each group."
   ]
  },
  {
   "cell_type": "code",
   "execution_count": 17,
   "metadata": {
    "deletable": false,
    "id": "0_Qs96oh_Zcu"
   },
   "outputs": [
    {
     "data": {
      "text/plain": [
       "city\n",
       "Moscow              42741\n",
       "Saint-Petersburg    18512\n",
       "Name: time, dtype: int64"
      ]
     },
     "execution_count": 17,
     "metadata": {},
     "output_type": "execute_result"
    }
   ],
   "source": [
    "city_listeners = df.groupby('city')['time'].count()\n",
    "city_listeners\n"
   ]
  },
  {
   "cell_type": "markdown",
   "metadata": {
    "deletable": false,
    "editable": false,
    "id": "dzli3w8o_Zcu",
    "tags": [
     "start_task"
    ]
   },
   "source": [
    "In Moscow, there are more track plays than in St. Petersburg. However, this doesn't necessarily mean that Moscow users listen to music more often. It's possible that there are simply more users in Moscow.\n",
    "\n",
    "__Task 19__\n",
    "\n",
    "Now let's group the data by the day of the week and calculate the number of track plays on Monday, Wednesday, and Friday. Please note that the data only contains information about plays on these days."
   ]
  },
  {
   "cell_type": "code",
   "execution_count": 18,
   "metadata": {
    "deletable": false,
    "id": "uZMKjiJz_Zcu"
   },
   "outputs": [
    {
     "data": {
      "text/plain": [
       "day\n",
       "Friday       21840\n",
       "Monday       21354\n",
       "Wednesday    18059\n",
       "Name: time, dtype: int64"
      ]
     },
     "execution_count": 18,
     "metadata": {},
     "output_type": "execute_result"
    }
   ],
   "source": [
    "day_listeners = df.groupby('day')['time'].count()\n",
    "day_listeners"
   ]
  },
  {
   "cell_type": "markdown",
   "metadata": {
    "deletable": false,
    "editable": false,
    "id": "cC2tNrlL_Zcu"
   },
   "source": [
    "On average, users from both cities are less active on Wednesdays. However, the picture may change when we consider each city separately."
   ]
  },
  {
   "cell_type": "markdown",
   "metadata": {
    "deletable": false,
    "editable": false,
    "id": "POzs8bGa_Zcu",
    "tags": [
     "start_task"
    ]
   },
   "source": [
    "__Task 20__\n",
    "\n",
    "We've seen how grouping by city and by days of the week works. Now let's write a function that combines these calculations.\n",
    "\n",
    "We'll create a function called number_tracks() that calculates the number of track plays for a given day and city. It will take two parameters:\n",
    "\n",
    "- day_of_week\n",
    "- city_name\n",
    "\n",
    "Inside the function, we will filter the rows of the original table where:\n",
    "\n",
    "- the day column is equal to the day_of_week parameter.\n",
    "- the city column is equal to the city_name parameter.\n",
    "\n",
    "We will use sequential filtering with logical indexing for this.\n",
    "\n",
    "Then, we'll calculate the values in the user_id column of the resulting table and save the result in a new variable. Finally, we'll return this variable from the function."
   ]
  },
  {
   "cell_type": "code",
   "execution_count": 19,
   "metadata": {
    "deletable": false,
    "id": "Nz3GdQB1_Zcu"
   },
   "outputs": [
    {
     "name": "stdout",
     "output_type": "stream",
     "text": [
      "15945\n"
     ]
    }
   ],
   "source": [
    "def number_tracks(day, city):\n",
    "    track_list = df[(df['day'] == day) & (df['city'] == city)]\n",
    "    track_list_count = track_list['user_id'].count()\n",
    "    return track_list_count\n",
    "print(number_tracks('Friday', 'Moscow'))"
   ]
  },
  {
   "cell_type": "markdown",
   "metadata": {
    "deletable": false,
    "editable": false,
    "id": "ytf7xFrFJQ2r",
    "tags": [
     "start_task"
    ]
   },
   "source": [
    "__Task 21__\n",
    "\n",
    "Let's call number_tracks() six times, changing the parameter values to obtain data for each city on each of the three days."
   ]
  },
  {
   "cell_type": "code",
   "execution_count": 20,
   "metadata": {
    "deletable": false,
    "id": "rJcRATNQ_Zcu"
   },
   "outputs": [
    {
     "data": {
      "text/plain": [
       "15740"
      ]
     },
     "execution_count": 20,
     "metadata": {},
     "output_type": "execute_result"
    }
   ],
   "source": [
    "number_tracks('Monday','Moscow')"
   ]
  },
  {
   "cell_type": "code",
   "execution_count": 21,
   "metadata": {
    "deletable": false,
    "id": "hq_ncZ5T_Zcu"
   },
   "outputs": [
    {
     "data": {
      "text/plain": [
       "5614"
      ]
     },
     "execution_count": 21,
     "metadata": {},
     "output_type": "execute_result"
    }
   ],
   "source": [
    "number_tracks('Monday', 'Saint-Petersburg')"
   ]
  },
  {
   "cell_type": "code",
   "execution_count": 22,
   "metadata": {
    "deletable": false,
    "id": "_NTy2VPU_Zcu"
   },
   "outputs": [
    {
     "data": {
      "text/plain": [
       "11056"
      ]
     },
     "execution_count": 22,
     "metadata": {},
     "output_type": "execute_result"
    }
   ],
   "source": [
    "number_tracks('Wednesday','Moscow')"
   ]
  },
  {
   "cell_type": "code",
   "execution_count": 23,
   "metadata": {
    "deletable": false,
    "id": "j2y3TAwo_Zcu"
   },
   "outputs": [
    {
     "data": {
      "text/plain": [
       "7003"
      ]
     },
     "execution_count": 23,
     "metadata": {},
     "output_type": "execute_result"
    }
   ],
   "source": [
    "number_tracks('Wednesday', 'Saint-Petersburg')"
   ]
  },
  {
   "cell_type": "code",
   "execution_count": 24,
   "metadata": {
    "deletable": false,
    "id": "vYDw5u_K_Zcu"
   },
   "outputs": [
    {
     "data": {
      "text/plain": [
       "15945"
      ]
     },
     "execution_count": 24,
     "metadata": {},
     "output_type": "execute_result"
    }
   ],
   "source": [
    "number_tracks('Friday','Moscow')"
   ]
  },
  {
   "cell_type": "code",
   "execution_count": 25,
   "metadata": {
    "deletable": false,
    "id": "8_yzFtW3_Zcu"
   },
   "outputs": [
    {
     "data": {
      "text/plain": [
       "5895"
      ]
     },
     "execution_count": 25,
     "metadata": {},
     "output_type": "execute_result"
    }
   ],
   "source": [
    "number_tracks('Friday','Saint-Petersburg')"
   ]
  },
  {
   "cell_type": "markdown",
   "metadata": {
    "deletable": false,
    "editable": false,
    "id": "7QXffbO-_Zcu",
    "tags": [
     "start_task"
    ]
   },
   "source": [
    "__Task 22__\n",
    "\n",
    "Using the pd.DataFrame constructor, let's create a table where:\n",
    "\n",
    "- The column names are ['city', 'monday', 'wednesday', 'friday'].\n",
    "- The data consists of the results we obtained using number_tracks."
   ]
  },
  {
   "cell_type": "code",
   "execution_count": 26,
   "metadata": {
    "deletable": false,
    "id": "APAcLpOr_Zcu"
   },
   "outputs": [
    {
     "data": {
      "text/html": [
       "<div>\n",
       "<style scoped>\n",
       "    .dataframe tbody tr th:only-of-type {\n",
       "        vertical-align: middle;\n",
       "    }\n",
       "\n",
       "    .dataframe tbody tr th {\n",
       "        vertical-align: top;\n",
       "    }\n",
       "\n",
       "    .dataframe thead th {\n",
       "        text-align: right;\n",
       "    }\n",
       "</style>\n",
       "<table border=\"1\" class=\"dataframe\">\n",
       "  <thead>\n",
       "    <tr style=\"text-align: right;\">\n",
       "      <th></th>\n",
       "      <th>city</th>\n",
       "      <th>monday</th>\n",
       "      <th>wednesday</th>\n",
       "      <th>friday</th>\n",
       "    </tr>\n",
       "  </thead>\n",
       "  <tbody>\n",
       "    <tr>\n",
       "      <th>0</th>\n",
       "      <td>Moscow</td>\n",
       "      <td>15740</td>\n",
       "      <td>11056</td>\n",
       "      <td>15945</td>\n",
       "    </tr>\n",
       "    <tr>\n",
       "      <th>1</th>\n",
       "      <td>Saint-Petersburg</td>\n",
       "      <td>5614</td>\n",
       "      <td>11056</td>\n",
       "      <td>5895</td>\n",
       "    </tr>\n",
       "  </tbody>\n",
       "</table>\n",
       "</div>"
      ],
      "text/plain": [
       "               city  monday  wednesday  friday\n",
       "0            Moscow   15740      11056   15945\n",
       "1  Saint-Petersburg    5614      11056    5895"
      ]
     },
     "execution_count": 26,
     "metadata": {},
     "output_type": "execute_result"
    }
   ],
   "source": [
    "columns = ['city', 'monday', 'wednesday', 'friday']\n",
    "data = [['Moscow', 15740, 11056, 15945],['Saint-Petersburg', 5614, 11056, 5895]]\n",
    "\n",
    "city_listeners = pd.DataFrame(data = data, columns = columns)\n",
    "city_listeners"
   ]
  },
  {
   "cell_type": "markdown",
   "metadata": {
    "deletable": false,
    "editable": false,
    "id": "-EgPIHYu_Zcu"
   },
   "source": [
    "__Conclusions__\n",
    "\n",
    "The data show differences in user behavior:\n",
    "\n",
    "- In Moscow, the peak of track plays occurs on Monday and Friday, with a noticeable decrease on Wednesday.\n",
    "- In St. Petersburg, on the contrary, more music is listened to on Wednesdays. Activity on Monday and Friday is nearly equal to Wednesday.\n",
    "\n",
    "Therefore, the data support the first hypothesis."
   ]
  },
  {
   "cell_type": "markdown",
   "metadata": {
    "deletable": false,
    "editable": false,
    "id": "atZAxtq4_Zcu"
   },
   "source": [
    "### Music at the Beginning and End of the Week"
   ]
  },
  {
   "cell_type": "markdown",
   "metadata": {
    "deletable": false,
    "editable": false,
    "id": "eXrQqXFH_Zcu"
   },
   "source": [
    "According to the second hypothesis, different genres dominate in Moscow and St. Petersburg on Monday mornings, as well as on Friday evenings. Let's test this hypothesis using the data."
   ]
  },
  {
   "cell_type": "markdown",
   "metadata": {
    "deletable": false,
    "editable": false,
    "id": "S8UcW6Hw_Zcu",
    "tags": [
     "start_task"
    ]
   },
   "source": [
    "__Task 23__\n",
    "\n",
    "Let's save the data tables into two variables:\n",
    "\n",
    "- For Moscow - moscow_general\n",
    "- For St. Petersburg - spb_general"
   ]
  },
  {
   "cell_type": "code",
   "execution_count": 27,
   "metadata": {
    "deletable": false,
    "id": "qeaFfM_P_Zcu"
   },
   "outputs": [],
   "source": [
    "moscow_general = df[df['city'] == 'Moscow']"
   ]
  },
  {
   "cell_type": "code",
   "execution_count": 28,
   "metadata": {
    "deletable": false,
    "id": "ORaVRKto_Zcu"
   },
   "outputs": [],
   "source": [
    "spb_general = df[df['city'] == 'Saint-Petersburg']"
   ]
  },
  {
   "cell_type": "markdown",
   "metadata": {
    "deletable": false,
    "id": "MEJV-CX2_Zcu",
    "tags": [
     "start_task"
    ]
   },
   "source": [
    "__Task 24__\n",
    "\n",
    "Let's create a function called genre_weekday() with four parameters:\n",
    "\n",
    "- A data table (DataFrame) with the data.\n",
    "- A day of the week.\n",
    "- A start time label in the format 'hh:mm'.\n",
    "- An end time label in the format 'hh:mm'.\n",
    "\n",
    "The function should return information about the top 10 genres of tracks listened to on the specified day within the time interval between the two time labels."
   ]
  },
  {
   "cell_type": "code",
   "execution_count": 29,
   "metadata": {
    "deletable": false,
    "id": "laJT9BYl_Zcu"
   },
   "outputs": [],
   "source": [
    "def genre_weekday(df, day, time1, time2):\n",
    "    genre_df = df[(df['day'] == day) & (df['time'] > time1) & (df['time'] < time2)]\n",
    "    genre_df_grouped = genre_df.groupby('genre')['genre'].count()\n",
    "    genre_df_sorted = genre_df_grouped.sort_values(ascending=False)\n",
    "    return genre_df_sorted[:10]"
   ]
  },
  {
   "cell_type": "markdown",
   "metadata": {
    "deletable": false,
    "editable": false,
    "id": "la2s2_PF_Zcu",
    "tags": [
     "start_task"
    ]
   },
   "source": [
    "__Task 25__\n",
    "\n",
    "Let's compare the results of the genre_weekday() function for Moscow and St. Petersburg on Monday morning (from 7:00 to 11:00) and Friday evening (from 17:00 to 23:00):"
   ]
  },
  {
   "cell_type": "code",
   "execution_count": 30,
   "metadata": {
    "deletable": false,
    "id": "yz7itPUQ_Zcu"
   },
   "outputs": [
    {
     "data": {
      "text/plain": [
       "genre\n",
       "pop            781\n",
       "dance          549\n",
       "electronic     480\n",
       "rock           474\n",
       "hiphop         286\n",
       "ruspop         186\n",
       "world          181\n",
       "rusrap         175\n",
       "alternative    164\n",
       "unknown        161\n",
       "Name: genre, dtype: int64"
      ]
     },
     "execution_count": 30,
     "metadata": {},
     "output_type": "execute_result"
    }
   ],
   "source": [
    "genre_weekday(moscow_general, 'Monday', '07:00', '11:00')"
   ]
  },
  {
   "cell_type": "code",
   "execution_count": 31,
   "metadata": {
    "deletable": false,
    "id": "kwUcHPdy_Zcu"
   },
   "outputs": [
    {
     "data": {
      "text/plain": [
       "genre\n",
       "pop            218\n",
       "dance          182\n",
       "rock           162\n",
       "electronic     147\n",
       "hiphop          80\n",
       "ruspop          64\n",
       "alternative     58\n",
       "rusrap          55\n",
       "jazz            44\n",
       "classical       40\n",
       "Name: genre, dtype: int64"
      ]
     },
     "execution_count": 31,
     "metadata": {},
     "output_type": "execute_result"
    }
   ],
   "source": [
    "genre_weekday(spb_general, 'Monday', '07:00', '11:00')"
   ]
  },
  {
   "cell_type": "code",
   "execution_count": 32,
   "metadata": {
    "deletable": false,
    "id": "EzXVRE1o_Zcu"
   },
   "outputs": [
    {
     "data": {
      "text/plain": [
       "genre\n",
       "pop            713\n",
       "rock           517\n",
       "dance          495\n",
       "electronic     482\n",
       "hiphop         273\n",
       "world          208\n",
       "ruspop         170\n",
       "alternative    163\n",
       "classical      163\n",
       "rusrap         142\n",
       "Name: genre, dtype: int64"
      ]
     },
     "execution_count": 32,
     "metadata": {},
     "output_type": "execute_result"
    }
   ],
   "source": [
    "genre_weekday(moscow_general, 'Friday', '17:00', '23:00')"
   ]
  },
  {
   "cell_type": "code",
   "execution_count": 33,
   "metadata": {
    "deletable": false,
    "id": "JZaEKu5v_Zcu"
   },
   "outputs": [
    {
     "data": {
      "text/plain": [
       "genre\n",
       "pop            256\n",
       "electronic     216\n",
       "rock           216\n",
       "dance          210\n",
       "hiphop          97\n",
       "alternative     63\n",
       "jazz            61\n",
       "classical       60\n",
       "rusrap          59\n",
       "world           54\n",
       "Name: genre, dtype: int64"
      ]
     },
     "execution_count": 33,
     "metadata": {},
     "output_type": "execute_result"
    }
   ],
   "source": [
    "genre_weekday(spb_general, 'Friday', '17:00', '23:00')"
   ]
  },
  {
   "cell_type": "markdown",
   "metadata": {
    "deletable": false,
    "editable": false,
    "id": "wrCe4MNX_Zcu"
   },
   "source": [
    "__Conclusions__\n",
    "\n",
    "Comparing the top 10 genres on Monday morning, we can draw the following conclusions:\n",
    "\n",
    "Moscow and St. Petersburg listen to similar music. The only difference is that the \"world\" genre is in the Moscow ranking, while jazz and classical are in the St. Petersburg ranking.\n",
    "\n",
    "In Moscow, there are so many missing values that the 'unknown' value has taken the tenth place among the most popular genres. This means that missing values occupy a significant portion of the data and threaten the reliability of the research.\n",
    "\n",
    "Friday evening does not change this picture significantly. Some genres move slightly up or down, but overall, the top 10 remains the same.\n",
    "\n",
    "Thus, the second hypothesis is only partially confirmed:\n",
    "\n",
    "- Users listen to similar music at the beginning and end of the week.\n",
    "- The difference between Moscow and St. Petersburg is not very pronounced. Moscow listens to Russian pop music more often, while St. Petersburg listens to jazz.\n",
    "However, the missing data casts doubt on this result. In Moscow, there are so many missing values that the top 10 ranking could look different if data about genres were not lost."
   ]
  },
  {
   "cell_type": "markdown",
   "metadata": {
    "deletable": false,
    "editable": false,
    "id": "JolODAqr_Zcu"
   },
   "source": [
    "### Genre Preferences in Moscow and St. Petersburg\n",
    "\n",
    "Hypothesis: St. Petersburg is the capital of rap, and music of this genre is listened to more often there than in Moscow. Meanwhile, Moscow is a city of contrasts where pop music still dominates."
   ]
  },
  {
   "cell_type": "markdown",
   "metadata": {
    "deletable": false,
    "editable": false,
    "id": "DlegSvaT_Zcu",
    "tags": [
     "start_task"
    ]
   },
   "source": [
    "__Task 26__\n",
    "\n",
    "Let's group the moscow_general table by genre and calculate the number of track plays for each genre using the count() method. Then, we'll sort the result in descending order and save it in the moscow_genres table."
   ]
  },
  {
   "cell_type": "code",
   "execution_count": 34,
   "metadata": {
    "deletable": false,
    "id": "r19lIPke_Zcu"
   },
   "outputs": [],
   "source": [
    "moscow_genres = moscow_general.groupby('genre')['genre'].count().sort_values(ascending=False)"
   ]
  },
  {
   "cell_type": "markdown",
   "metadata": {
    "deletable": false,
    "editable": false,
    "id": "6kMuomxTiIr8",
    "tags": [
     "start_task"
    ]
   },
   "source": [
    "__Task 27__\n",
    "\n",
    "Let's display the first ten rows of moscow_genres:"
   ]
  },
  {
   "cell_type": "code",
   "execution_count": 35,
   "metadata": {
    "deletable": false,
    "id": "WhCSooF8_Zcv"
   },
   "outputs": [
    {
     "data": {
      "text/plain": [
       "genre\n",
       "pop            5892\n",
       "dance          4435\n",
       "rock           3965\n",
       "electronic     3786\n",
       "hiphop         2096\n",
       "classical      1616\n",
       "world          1432\n",
       "alternative    1379\n",
       "ruspop         1372\n",
       "rusrap         1161\n",
       "Name: genre, dtype: int64"
      ]
     },
     "execution_count": 35,
     "metadata": {},
     "output_type": "execute_result"
    }
   ],
   "source": [
    "moscow_genres.head(10)"
   ]
  },
  {
   "cell_type": "markdown",
   "metadata": {
    "deletable": false,
    "editable": false,
    "id": "cnPG2vnN_Zcv",
    "tags": [
     "start_task"
    ]
   },
   "source": [
    "__Task 28__\n",
    "\n",
    "Now let's do the same for St. Petersburg.\n",
    "\n",
    "We'll group the spb_general table by genre, calculate the number of track plays for each genre, sort the result in descending order, and save it in the spb_genres table."
   ]
  },
  {
   "cell_type": "code",
   "execution_count": 36,
   "metadata": {
    "deletable": false,
    "id": "gluLIpE7_Zcv"
   },
   "outputs": [],
   "source": [
    "spb_genres = spb_general.groupby('genre')['genre'].count().sort_values(ascending=False)"
   ]
  },
  {
   "cell_type": "markdown",
   "metadata": {
    "deletable": false,
    "editable": false,
    "id": "5Doha_ODgyQ8",
    "tags": [
     "start_task"
    ]
   },
   "source": [
    "__Task 29__\n",
    "\n",
    "Let's display the first ten rows of spb_genres:"
   ]
  },
  {
   "cell_type": "code",
   "execution_count": 37,
   "metadata": {
    "deletable": false,
    "id": "uaGJHjVU_Zcv"
   },
   "outputs": [
    {
     "data": {
      "text/plain": [
       "genre\n",
       "pop            2431\n",
       "dance          1932\n",
       "rock           1879\n",
       "electronic     1736\n",
       "hiphop          960\n",
       "alternative     649\n",
       "classical       646\n",
       "rusrap          564\n",
       "ruspop          538\n",
       "world           515\n",
       "Name: genre, dtype: int64"
      ]
     },
     "execution_count": 37,
     "metadata": {},
     "output_type": "execute_result"
    }
   ],
   "source": [
    "spb_genres.head(10)"
   ]
  },
  {
   "cell_type": "markdown",
   "metadata": {
    "deletable": false,
    "editable": false,
    "id": "RY51YJYu_Zcv"
   },
   "source": [
    "__Conclusions__"
   ]
  },
  {
   "cell_type": "markdown",
   "metadata": {
    "deletable": false,
    "editable": false,
    "id": "nVhnJEm__Zcv"
   },
   "source": [
    "The hypothesis is partially confirmed:\n",
    "\n",
    "- Pop music is the most popular genre in Moscow, as the hypothesis suggested. Moreover, a similar genre, Russian pop music, is also present in the top 10 genres.\n",
    "- Contrary to expectations, rap is equally popular in both Moscow and St. Petersburg."
   ]
  },
  {
   "cell_type": "markdown",
   "metadata": {
    "deletable": false,
    "editable": false,
    "id": "ykKQ0N65_Zcv"
   },
   "source": [
    "## Research Summary"
   ]
  },
  {
   "cell_type": "markdown",
   "metadata": {
    "deletable": false,
    "editable": false,
    "id": "tjUwbHb3_Zcv"
   },
   "source": [
    "We have tested three hypotheses and found the following:\n",
    "\n",
    "1. The day of the week has a different impact on user activity in Moscow and St. Petersburg.\n",
    "The first hypothesis was fully confirmed.\n",
    "\n",
    "2. Musical preferences do not change significantly throughout the week, whether in Moscow or St. Petersburg. Small differences are noticeable on Mondays:\n",
    "- In Moscow, users listen to \"world\" music genre.\n",
    "- In St. Petersburg, jazz and classical music are more popular.\n",
    "\n",
    "Thus, the second hypothesis was only partially confirmed, and this result could have been different if there were no missing data.\n",
    "\n",
    "3. Users in Moscow and St. Petersburg have more in common in their music tastes than differences. Contrary to expectations, genre preferences in St. Petersburg resemble those in Moscow.\n",
    "The third hypothesis was not confirmed. If there are differences in preferences, they are not noticeable among the majority of users.\n",
    "\n",
    "In practice, research often involves statistical hypothesis testing. Data from a single service may not always reflect the preferences of an entire city's population. Statistical hypothesis tests can show how reliable the conclusions are based on the available data."
   ]
  },
  {
   "cell_type": "code",
   "execution_count": null,
   "metadata": {},
   "outputs": [],
   "source": []
  }
 ],
 "metadata": {
  "ExecuteTimeLog": [
   {
    "duration": 452,
    "start_time": "2023-07-13T07:04:43.183Z"
   },
   {
    "duration": 101,
    "start_time": "2023-07-13T07:13:06.022Z"
   },
   {
    "duration": 863,
    "start_time": "2023-07-13T07:13:28.421Z"
   },
   {
    "duration": 19,
    "start_time": "2023-07-13T07:13:40.384Z"
   },
   {
    "duration": 28,
    "start_time": "2023-07-13T07:13:53.450Z"
   },
   {
    "duration": 1043,
    "start_time": "2023-07-13T07:19:19.955Z"
   },
   {
    "duration": 7,
    "start_time": "2023-07-13T07:20:40.542Z"
   },
   {
    "duration": 28,
    "start_time": "2023-07-13T07:22:36.603Z"
   },
   {
    "duration": 6,
    "start_time": "2023-07-13T07:26:02.203Z"
   },
   {
    "duration": 990,
    "start_time": "2023-07-13T07:26:46.495Z"
   },
   {
    "duration": 15,
    "start_time": "2023-07-13T07:27:00.789Z"
   },
   {
    "duration": 4,
    "start_time": "2023-07-13T07:30:37.446Z"
   },
   {
    "duration": 4,
    "start_time": "2023-07-13T07:59:11.308Z"
   },
   {
    "duration": 4,
    "start_time": "2023-07-13T07:59:24.772Z"
   },
   {
    "duration": 8,
    "start_time": "2023-07-13T07:59:50.366Z"
   },
   {
    "duration": 59,
    "start_time": "2023-07-13T08:00:37.620Z"
   },
   {
    "duration": 37,
    "start_time": "2023-07-13T08:00:45.079Z"
   },
   {
    "duration": 24,
    "start_time": "2023-07-13T08:03:34.220Z"
   },
   {
    "duration": 14,
    "start_time": "2023-07-13T08:22:42.522Z"
   },
   {
    "duration": 18,
    "start_time": "2023-07-13T09:04:11.834Z"
   },
   {
    "duration": 14,
    "start_time": "2023-07-13T09:04:52.956Z"
   },
   {
    "duration": 4,
    "start_time": "2023-07-13T09:05:12.100Z"
   },
   {
    "duration": 38,
    "start_time": "2023-07-13T09:07:37.327Z"
   },
   {
    "duration": 17,
    "start_time": "2023-07-13T09:07:59.819Z"
   },
   {
    "duration": 12,
    "start_time": "2023-07-13T09:09:37.266Z"
   },
   {
    "duration": 12,
    "start_time": "2023-07-13T09:10:20.146Z"
   },
   {
    "duration": 11,
    "start_time": "2023-07-13T09:10:39.791Z"
   },
   {
    "duration": 21,
    "start_time": "2023-07-13T09:13:30.037Z"
   },
   {
    "duration": 38,
    "start_time": "2023-07-13T09:13:59.900Z"
   },
   {
    "duration": 78,
    "start_time": "2023-07-13T10:26:06.067Z"
   },
   {
    "duration": 97,
    "start_time": "2023-07-13T10:26:52.930Z"
   },
   {
    "duration": 28,
    "start_time": "2023-07-13T10:27:06.121Z"
   },
   {
    "duration": 68,
    "start_time": "2023-07-13T10:27:39.431Z"
   },
   {
    "duration": 80,
    "start_time": "2023-07-13T10:27:55.414Z"
   },
   {
    "duration": 70,
    "start_time": "2023-07-13T10:28:01.021Z"
   },
   {
    "duration": 6,
    "start_time": "2023-07-13T10:28:21.727Z"
   },
   {
    "duration": 62,
    "start_time": "2023-07-13T10:30:25.043Z"
   },
   {
    "duration": 63,
    "start_time": "2023-07-13T10:30:32.442Z"
   },
   {
    "duration": 95,
    "start_time": "2023-07-13T10:31:15.846Z"
   },
   {
    "duration": 8,
    "start_time": "2023-07-13T10:31:25.058Z"
   },
   {
    "duration": 63,
    "start_time": "2023-07-13T10:31:44.839Z"
   },
   {
    "duration": 8,
    "start_time": "2023-07-13T10:32:18.528Z"
   },
   {
    "duration": 80,
    "start_time": "2023-07-13T10:32:54.306Z"
   },
   {
    "duration": 10,
    "start_time": "2023-07-13T10:33:48.025Z"
   },
   {
    "duration": 11,
    "start_time": "2023-07-13T10:34:14.625Z"
   },
   {
    "duration": 12,
    "start_time": "2023-07-13T10:36:38.318Z"
   },
   {
    "duration": 9,
    "start_time": "2023-07-13T10:37:15.447Z"
   },
   {
    "duration": 34,
    "start_time": "2023-07-13T10:37:27.525Z"
   },
   {
    "duration": 37,
    "start_time": "2023-07-13T10:37:56.528Z"
   },
   {
    "duration": 39,
    "start_time": "2023-07-13T10:38:05.939Z"
   },
   {
    "duration": 14,
    "start_time": "2023-07-13T10:38:50.722Z"
   },
   {
    "duration": 9,
    "start_time": "2023-07-13T10:39:33.775Z"
   },
   {
    "duration": 12,
    "start_time": "2023-07-13T10:40:19.722Z"
   },
   {
    "duration": 14,
    "start_time": "2023-07-13T10:40:30.315Z"
   },
   {
    "duration": 24,
    "start_time": "2023-07-13T10:41:41.639Z"
   },
   {
    "duration": 14,
    "start_time": "2023-07-13T10:42:21.658Z"
   },
   {
    "duration": 18,
    "start_time": "2023-07-13T10:42:41.641Z"
   },
   {
    "duration": 18,
    "start_time": "2023-07-13T10:43:07.007Z"
   },
   {
    "duration": 6,
    "start_time": "2023-07-13T10:43:56.627Z"
   },
   {
    "duration": 9,
    "start_time": "2023-07-13T10:45:31.863Z"
   },
   {
    "duration": 10,
    "start_time": "2023-07-13T10:46:12.053Z"
   },
   {
    "duration": 10,
    "start_time": "2023-07-13T10:46:23.680Z"
   },
   {
    "duration": 35,
    "start_time": "2023-07-13T10:46:49.424Z"
   },
   {
    "duration": 33,
    "start_time": "2023-07-13T10:47:06.875Z"
   },
   {
    "duration": 33,
    "start_time": "2023-07-13T10:47:12.942Z"
   },
   {
    "duration": 10,
    "start_time": "2023-07-13T10:47:27.752Z"
   },
   {
    "duration": 17,
    "start_time": "2023-07-13T10:47:41.719Z"
   },
   {
    "duration": 13,
    "start_time": "2023-07-13T10:49:51.057Z"
   },
   {
    "duration": 17,
    "start_time": "2023-07-13T10:49:59.824Z"
   },
   {
    "duration": 13,
    "start_time": "2023-07-13T10:50:16.111Z"
   },
   {
    "duration": 43,
    "start_time": "2023-07-13T10:50:29.211Z"
   },
   {
    "duration": 38,
    "start_time": "2023-07-13T10:51:05.137Z"
   },
   {
    "duration": 14,
    "start_time": "2023-07-13T11:41:28.638Z"
   },
   {
    "duration": 6,
    "start_time": "2023-07-13T11:41:39.370Z"
   },
   {
    "duration": 5,
    "start_time": "2023-07-13T11:43:40.145Z"
   },
   {
    "duration": 18,
    "start_time": "2023-07-13T11:44:22.226Z"
   },
   {
    "duration": 17,
    "start_time": "2023-07-13T11:44:38.129Z"
   },
   {
    "duration": 19,
    "start_time": "2023-07-13T11:45:10.157Z"
   },
   {
    "duration": 15,
    "start_time": "2023-07-13T11:58:47.439Z"
   },
   {
    "duration": 11,
    "start_time": "2023-07-13T12:00:01.426Z"
   },
   {
    "duration": 10,
    "start_time": "2023-07-13T12:20:57.403Z"
   },
   {
    "duration": 19,
    "start_time": "2023-07-13T12:30:33.903Z"
   },
   {
    "duration": 10,
    "start_time": "2023-07-13T12:30:51.838Z"
   },
   {
    "duration": 11,
    "start_time": "2023-07-13T12:33:52.906Z"
   },
   {
    "duration": 6,
    "start_time": "2023-07-13T12:36:02.954Z"
   },
   {
    "duration": 5,
    "start_time": "2023-07-13T12:37:02.642Z"
   },
   {
    "duration": 36,
    "start_time": "2023-07-13T12:37:11.677Z"
   },
   {
    "duration": 11,
    "start_time": "2023-07-13T12:38:36.946Z"
   },
   {
    "duration": 12,
    "start_time": "2023-07-13T12:42:43.502Z"
   },
   {
    "duration": 18,
    "start_time": "2023-07-13T12:42:53.338Z"
   },
   {
    "duration": 15,
    "start_time": "2023-07-13T13:24:32.651Z"
   },
   {
    "duration": 14,
    "start_time": "2023-07-13T13:24:56.926Z"
   },
   {
    "duration": 21,
    "start_time": "2023-07-13T13:28:22.864Z"
   },
   {
    "duration": 21,
    "start_time": "2023-07-13T13:29:11.855Z"
   },
   {
    "duration": 19,
    "start_time": "2023-07-13T13:29:59.018Z"
   },
   {
    "duration": 11,
    "start_time": "2023-07-13T13:30:53.858Z"
   },
   {
    "duration": 18,
    "start_time": "2023-07-13T13:31:02.241Z"
   },
   {
    "duration": 14,
    "start_time": "2023-07-13T13:31:44.822Z"
   },
   {
    "duration": 14,
    "start_time": "2023-07-13T13:44:59.328Z"
   },
   {
    "duration": 3,
    "start_time": "2023-07-13T14:05:02.562Z"
   },
   {
    "duration": 3,
    "start_time": "2023-07-13T14:05:11.354Z"
   },
   {
    "duration": 8,
    "start_time": "2023-07-13T14:05:45.513Z"
   },
   {
    "duration": 10,
    "start_time": "2023-07-13T14:06:00.907Z"
   },
   {
    "duration": 9,
    "start_time": "2023-07-13T14:06:15.138Z"
   },
   {
    "duration": 8,
    "start_time": "2023-07-13T14:07:09.525Z"
   },
   {
    "duration": 19,
    "start_time": "2023-07-13T14:08:03.612Z"
   },
   {
    "duration": 6,
    "start_time": "2023-07-13T14:08:16.056Z"
   },
   {
    "duration": 9,
    "start_time": "2023-07-13T14:16:52.706Z"
   },
   {
    "duration": 957,
    "start_time": "2023-07-13T14:56:24.567Z"
   },
   {
    "duration": 22,
    "start_time": "2023-07-13T14:58:53.072Z"
   },
   {
    "duration": 992,
    "start_time": "2023-07-13T14:59:12.118Z"
   },
   {
    "duration": 15,
    "start_time": "2023-07-13T14:59:21.898Z"
   },
   {
    "duration": 92,
    "start_time": "2023-07-13T15:02:44.365Z"
   },
   {
    "duration": 71,
    "start_time": "2023-07-13T15:03:28.834Z"
   },
   {
    "duration": 56,
    "start_time": "2023-07-13T15:04:36.689Z"
   },
   {
    "duration": 62,
    "start_time": "2023-07-13T15:10:54.694Z"
   },
   {
    "duration": 1074,
    "start_time": "2023-07-13T15:11:00.256Z"
   },
   {
    "duration": 994,
    "start_time": "2023-07-13T15:11:11.258Z"
   },
   {
    "duration": 487,
    "start_time": "2023-07-13T15:11:47.818Z"
   },
   {
    "duration": 13,
    "start_time": "2023-07-13T15:12:17.524Z"
   },
   {
    "duration": 10,
    "start_time": "2023-07-13T15:13:19.245Z"
   },
   {
    "duration": 11,
    "start_time": "2023-07-13T15:14:00.534Z"
   },
   {
    "duration": 8,
    "start_time": "2023-07-13T16:28:30.503Z"
   },
   {
    "duration": 34,
    "start_time": "2023-07-13T16:28:53.314Z"
   },
   {
    "duration": 38,
    "start_time": "2023-07-13T16:29:29.836Z"
   },
   {
    "duration": 41,
    "start_time": "2023-07-13T16:29:36.664Z"
   },
   {
    "duration": 23,
    "start_time": "2023-07-13T16:29:47.455Z"
   },
   {
    "duration": 22,
    "start_time": "2023-07-13T16:52:21.108Z"
   },
   {
    "duration": 15,
    "start_time": "2023-07-13T16:52:37.718Z"
   },
   {
    "duration": 22,
    "start_time": "2023-07-13T16:53:02.420Z"
   },
   {
    "duration": 22,
    "start_time": "2023-07-13T16:53:19.840Z"
   },
   {
    "duration": 17,
    "start_time": "2023-07-13T16:54:41.000Z"
   },
   {
    "duration": 56,
    "start_time": "2023-07-13T16:56:27.352Z"
   },
   {
    "duration": 16,
    "start_time": "2023-07-13T16:56:52.613Z"
   },
   {
    "duration": 15,
    "start_time": "2023-07-13T16:57:03.621Z"
   },
   {
    "duration": 16,
    "start_time": "2023-07-13T16:57:51.011Z"
   },
   {
    "duration": 17,
    "start_time": "2023-07-13T16:57:53.901Z"
   },
   {
    "duration": 15,
    "start_time": "2023-07-13T16:58:10.290Z"
   },
   {
    "duration": 18,
    "start_time": "2023-07-13T17:11:08.918Z"
   },
   {
    "duration": 17,
    "start_time": "2023-07-13T17:11:17.354Z"
   },
   {
    "duration": 16,
    "start_time": "2023-07-13T17:12:35.691Z"
   },
   {
    "duration": 21,
    "start_time": "2023-07-13T17:12:59.605Z"
   },
   {
    "duration": 24,
    "start_time": "2023-07-13T17:13:03.320Z"
   },
   {
    "duration": 18,
    "start_time": "2023-07-13T17:13:34.041Z"
   },
   {
    "duration": 18,
    "start_time": "2023-07-13T17:14:53.420Z"
   },
   {
    "duration": 18,
    "start_time": "2023-07-13T17:15:30.124Z"
   },
   {
    "duration": 16,
    "start_time": "2023-07-13T17:16:26.842Z"
   },
   {
    "duration": 17,
    "start_time": "2023-07-13T17:16:41.213Z"
   },
   {
    "duration": 16,
    "start_time": "2023-07-13T17:17:08.156Z"
   },
   {
    "duration": 16,
    "start_time": "2023-07-13T17:17:11.097Z"
   },
   {
    "duration": 15,
    "start_time": "2023-07-13T17:18:14.707Z"
   },
   {
    "duration": 17,
    "start_time": "2023-07-13T17:18:24.941Z"
   },
   {
    "duration": 17,
    "start_time": "2023-07-13T17:18:28.570Z"
   },
   {
    "duration": 17,
    "start_time": "2023-07-13T17:22:32.750Z"
   },
   {
    "duration": 17,
    "start_time": "2023-07-13T17:22:38.319Z"
   },
   {
    "duration": 13,
    "start_time": "2023-07-13T17:24:19.068Z"
   },
   {
    "duration": 15,
    "start_time": "2023-07-13T17:24:40.898Z"
   },
   {
    "duration": 16,
    "start_time": "2023-07-13T17:26:20.650Z"
   },
   {
    "duration": 18,
    "start_time": "2023-07-13T17:26:33.331Z"
   },
   {
    "duration": 17,
    "start_time": "2023-07-13T17:27:02.127Z"
   },
   {
    "duration": 13,
    "start_time": "2023-07-13T17:27:17.834Z"
   },
   {
    "duration": 9,
    "start_time": "2023-07-13T17:42:02.093Z"
   },
   {
    "duration": 19,
    "start_time": "2023-07-13T17:47:39.722Z"
   },
   {
    "duration": 15,
    "start_time": "2023-07-13T17:47:51.186Z"
   },
   {
    "duration": 20,
    "start_time": "2023-07-13T17:48:54.940Z"
   },
   {
    "duration": 18,
    "start_time": "2023-07-13T17:49:18.753Z"
   },
   {
    "duration": 6,
    "start_time": "2023-07-13T18:33:03.216Z"
   },
   {
    "duration": 29,
    "start_time": "2023-07-13T18:33:21.135Z"
   },
   {
    "duration": 20,
    "start_time": "2023-07-13T18:35:39.663Z"
   },
   {
    "duration": 18,
    "start_time": "2023-07-13T18:36:02.805Z"
   },
   {
    "duration": 21,
    "start_time": "2023-07-13T18:36:07.574Z"
   },
   {
    "duration": 17,
    "start_time": "2023-07-13T18:36:28.719Z"
   },
   {
    "duration": 29,
    "start_time": "2023-07-13T18:39:35.403Z"
   },
   {
    "duration": 8,
    "start_time": "2023-07-13T18:40:01.769Z"
   },
   {
    "duration": 9,
    "start_time": "2023-07-13T18:40:31.501Z"
   },
   {
    "duration": 11,
    "start_time": "2023-07-13T18:40:38.206Z"
   },
   {
    "duration": 15,
    "start_time": "2023-07-13T18:42:49.508Z"
   },
   {
    "duration": 40,
    "start_time": "2023-07-13T18:43:21.604Z"
   },
   {
    "duration": 18,
    "start_time": "2023-07-13T18:43:26.828Z"
   },
   {
    "duration": 22,
    "start_time": "2023-07-13T18:43:29.398Z"
   },
   {
    "duration": 15,
    "start_time": "2023-07-13T18:43:31.985Z"
   },
   {
    "duration": 15,
    "start_time": "2023-07-13T18:44:48.839Z"
   },
   {
    "duration": 11,
    "start_time": "2023-07-13T18:46:31.344Z"
   },
   {
    "duration": 5,
    "start_time": "2023-07-13T18:46:54.046Z"
   },
   {
    "duration": 10,
    "start_time": "2023-07-13T18:48:09.622Z"
   },
   {
    "duration": 8,
    "start_time": "2023-07-13T18:48:22.299Z"
   },
   {
    "duration": 24,
    "start_time": "2023-07-13T18:57:46.667Z"
   },
   {
    "duration": 16,
    "start_time": "2023-07-13T18:57:53.499Z"
   },
   {
    "duration": 33,
    "start_time": "2023-07-13T19:07:19.524Z"
   },
   {
    "duration": 10,
    "start_time": "2023-07-13T19:12:26.065Z"
   },
   {
    "duration": 10,
    "start_time": "2023-07-13T19:15:14.493Z"
   },
   {
    "duration": 10,
    "start_time": "2023-07-13T19:17:07.534Z"
   },
   {
    "duration": 10,
    "start_time": "2023-07-13T19:17:18.898Z"
   },
   {
    "duration": 9,
    "start_time": "2023-07-13T19:17:32.609Z"
   },
   {
    "duration": 11,
    "start_time": "2023-07-13T19:19:07.962Z"
   },
   {
    "duration": 11,
    "start_time": "2023-07-13T19:19:32.605Z"
   },
   {
    "duration": 11,
    "start_time": "2023-07-13T19:19:38.732Z"
   },
   {
    "duration": 8,
    "start_time": "2023-07-13T19:20:56.037Z"
   },
   {
    "duration": 9,
    "start_time": "2023-07-13T19:21:12.927Z"
   },
   {
    "duration": 11,
    "start_time": "2023-07-13T19:22:05.490Z"
   },
   {
    "duration": 10,
    "start_time": "2023-07-13T19:22:15.269Z"
   },
   {
    "duration": 11,
    "start_time": "2023-07-13T19:22:40.870Z"
   },
   {
    "duration": 10,
    "start_time": "2023-07-13T19:28:48.494Z"
   },
   {
    "duration": 11,
    "start_time": "2023-07-13T19:29:37.421Z"
   },
   {
    "duration": 7,
    "start_time": "2023-07-13T19:31:40.211Z"
   },
   {
    "duration": 10,
    "start_time": "2023-07-13T19:35:19.012Z"
   },
   {
    "duration": 35,
    "start_time": "2023-07-13T19:39:25.290Z"
   },
   {
    "duration": 36,
    "start_time": "2023-07-13T19:39:58.237Z"
   },
   {
    "duration": 47,
    "start_time": "2023-07-13T19:40:19.716Z"
   },
   {
    "duration": 36,
    "start_time": "2023-07-13T19:40:27.016Z"
   },
   {
    "duration": 38,
    "start_time": "2023-07-13T19:40:33.234Z"
   },
   {
    "duration": 37,
    "start_time": "2023-07-13T19:42:51.727Z"
   },
   {
    "duration": 65,
    "start_time": "2023-07-13T19:46:03.251Z"
   },
   {
    "duration": 16,
    "start_time": "2023-07-13T19:47:30.496Z"
   },
   {
    "duration": 23,
    "start_time": "2023-07-13T19:48:34.596Z"
   },
   {
    "duration": 17,
    "start_time": "2023-07-13T19:49:11.594Z"
   },
   {
    "duration": 12,
    "start_time": "2023-07-13T19:49:46.392Z"
   },
   {
    "duration": 21,
    "start_time": "2023-07-13T19:51:41.054Z"
   },
   {
    "duration": 4,
    "start_time": "2023-07-13T19:59:15.841Z"
   },
   {
    "duration": 5,
    "start_time": "2023-07-13T19:59:18.911Z"
   }
  ],
  "colab": {
   "collapsed_sections": [
    "E0vqbgi9ay0H",
    "VUC88oWjTJw2"
   ],
   "provenance": []
  },
  "kernelspec": {
   "display_name": "Python 3 (ipykernel)",
   "language": "python",
   "name": "python3"
  },
  "language_info": {
   "codemirror_mode": {
    "name": "ipython",
    "version": 3
   },
   "file_extension": ".py",
   "mimetype": "text/x-python",
   "name": "python",
   "nbconvert_exporter": "python",
   "pygments_lexer": "ipython3",
   "version": "3.9.5"
  },
  "toc": {
   "base_numbering": 1,
   "nav_menu": {
    "height": "215px",
    "width": "403px"
   },
   "number_sections": true,
   "sideBar": true,
   "skip_h1_title": true,
   "title_cell": "Table of Contents",
   "title_sidebar": "Contents",
   "toc_cell": false,
   "toc_position": {
    "height": "calc(100% - 180px)",
    "left": "10px",
    "top": "150px",
    "width": "285.825px"
   },
   "toc_section_display": true,
   "toc_window_display": false
  }
 },
 "nbformat": 4,
 "nbformat_minor": 4
}
