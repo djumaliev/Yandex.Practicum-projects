{
 "cells": [
  {
   "cell_type": "markdown",
   "id": "96861099",
   "metadata": {
    "deletable": false,
    "editable": false,
    "id": "c81daeeb"
   },
   "source": [
    "# Research on the Reliability of Borrowers\n"
   ]
  },
  {
   "cell_type": "markdown",
   "id": "ab639224",
   "metadata": {
    "deletable": false,
    "editable": false,
    "id": "827c20bf"
   },
   "source": [
    " "
   ]
  },
  {
   "cell_type": "markdown",
   "id": "2978bff6",
   "metadata": {
    "deletable": false,
    "editable": false,
    "id": "744d7639"
   },
   "source": [
    "## Open the table and study the general information about the data."
   ]
  },
  {
   "cell_type": "markdown",
   "id": "cae4d4a3",
   "metadata": {
    "deletable": false,
    "editable": false,
    "id": "e7a14c31"
   },
   "source": [
    "__Task 1.__\n",
    "\n",
    "Import the pandas library. Load the data from the CSV file into a dataframe and save it to the variable 'data'."
   ]
  },
  {
   "cell_type": "code",
   "execution_count": 1,
   "id": "e3566b72",
   "metadata": {
    "deletable": false,
    "id": "7bcf75c9"
   },
   "outputs": [],
   "source": [
    "import pandas as pd\n",
    "\n",
    "try:\n",
    "    data = pd.read_csv('/Users/daniyardjumaliev/Jupyter/Projects/datasets/borrowers.csv')\n",
    "except:\n",
    "    data = pd.read_csv('https://code.s3.yandex.net/datasets/data.csv')"
   ]
  },
  {
   "cell_type": "markdown",
   "id": "4a2a6520",
   "metadata": {
    "deletable": false,
    "editable": false,
    "id": "b8038fe3"
   },
   "source": [
    "__Task 2.__\n",
    "\n",
    "Display the first 20 rows of the data dataframe on the screen."
   ]
  },
  {
   "cell_type": "code",
   "execution_count": 2,
   "id": "b6c0d641",
   "metadata": {
    "deletable": false,
    "id": "2a7cab99",
    "outputId": "1a8f3ef2-d323-4ec2-ddf7-89670b5944c4"
   },
   "outputs": [
    {
     "data": {
      "text/html": [
       "<div>\n",
       "<style scoped>\n",
       "    .dataframe tbody tr th:only-of-type {\n",
       "        vertical-align: middle;\n",
       "    }\n",
       "\n",
       "    .dataframe tbody tr th {\n",
       "        vertical-align: top;\n",
       "    }\n",
       "\n",
       "    .dataframe thead th {\n",
       "        text-align: right;\n",
       "    }\n",
       "</style>\n",
       "<table border=\"1\" class=\"dataframe\">\n",
       "  <thead>\n",
       "    <tr style=\"text-align: right;\">\n",
       "      <th></th>\n",
       "      <th>children</th>\n",
       "      <th>days_employed</th>\n",
       "      <th>dob_years</th>\n",
       "      <th>education</th>\n",
       "      <th>education_id</th>\n",
       "      <th>family_status</th>\n",
       "      <th>family_status_id</th>\n",
       "      <th>gender</th>\n",
       "      <th>income_type</th>\n",
       "      <th>debt</th>\n",
       "      <th>total_income</th>\n",
       "      <th>purpose</th>\n",
       "    </tr>\n",
       "  </thead>\n",
       "  <tbody>\n",
       "    <tr>\n",
       "      <th>0</th>\n",
       "      <td>1</td>\n",
       "      <td>-8437.673028</td>\n",
       "      <td>42</td>\n",
       "      <td>высшее</td>\n",
       "      <td>0</td>\n",
       "      <td>женат / замужем</td>\n",
       "      <td>0</td>\n",
       "      <td>F</td>\n",
       "      <td>сотрудник</td>\n",
       "      <td>0</td>\n",
       "      <td>253875.639453</td>\n",
       "      <td>покупка жилья</td>\n",
       "    </tr>\n",
       "    <tr>\n",
       "      <th>1</th>\n",
       "      <td>1</td>\n",
       "      <td>-4024.803754</td>\n",
       "      <td>36</td>\n",
       "      <td>среднее</td>\n",
       "      <td>1</td>\n",
       "      <td>женат / замужем</td>\n",
       "      <td>0</td>\n",
       "      <td>F</td>\n",
       "      <td>сотрудник</td>\n",
       "      <td>0</td>\n",
       "      <td>112080.014102</td>\n",
       "      <td>приобретение автомобиля</td>\n",
       "    </tr>\n",
       "    <tr>\n",
       "      <th>2</th>\n",
       "      <td>0</td>\n",
       "      <td>-5623.422610</td>\n",
       "      <td>33</td>\n",
       "      <td>Среднее</td>\n",
       "      <td>1</td>\n",
       "      <td>женат / замужем</td>\n",
       "      <td>0</td>\n",
       "      <td>M</td>\n",
       "      <td>сотрудник</td>\n",
       "      <td>0</td>\n",
       "      <td>145885.952297</td>\n",
       "      <td>покупка жилья</td>\n",
       "    </tr>\n",
       "    <tr>\n",
       "      <th>3</th>\n",
       "      <td>3</td>\n",
       "      <td>-4124.747207</td>\n",
       "      <td>32</td>\n",
       "      <td>среднее</td>\n",
       "      <td>1</td>\n",
       "      <td>женат / замужем</td>\n",
       "      <td>0</td>\n",
       "      <td>M</td>\n",
       "      <td>сотрудник</td>\n",
       "      <td>0</td>\n",
       "      <td>267628.550329</td>\n",
       "      <td>дополнительное образование</td>\n",
       "    </tr>\n",
       "    <tr>\n",
       "      <th>4</th>\n",
       "      <td>0</td>\n",
       "      <td>340266.072047</td>\n",
       "      <td>53</td>\n",
       "      <td>среднее</td>\n",
       "      <td>1</td>\n",
       "      <td>гражданский брак</td>\n",
       "      <td>1</td>\n",
       "      <td>F</td>\n",
       "      <td>пенсионер</td>\n",
       "      <td>0</td>\n",
       "      <td>158616.077870</td>\n",
       "      <td>сыграть свадьбу</td>\n",
       "    </tr>\n",
       "    <tr>\n",
       "      <th>5</th>\n",
       "      <td>0</td>\n",
       "      <td>-926.185831</td>\n",
       "      <td>27</td>\n",
       "      <td>высшее</td>\n",
       "      <td>0</td>\n",
       "      <td>гражданский брак</td>\n",
       "      <td>1</td>\n",
       "      <td>M</td>\n",
       "      <td>компаньон</td>\n",
       "      <td>0</td>\n",
       "      <td>255763.565419</td>\n",
       "      <td>покупка жилья</td>\n",
       "    </tr>\n",
       "    <tr>\n",
       "      <th>6</th>\n",
       "      <td>0</td>\n",
       "      <td>-2879.202052</td>\n",
       "      <td>43</td>\n",
       "      <td>высшее</td>\n",
       "      <td>0</td>\n",
       "      <td>женат / замужем</td>\n",
       "      <td>0</td>\n",
       "      <td>F</td>\n",
       "      <td>компаньон</td>\n",
       "      <td>0</td>\n",
       "      <td>240525.971920</td>\n",
       "      <td>операции с жильем</td>\n",
       "    </tr>\n",
       "    <tr>\n",
       "      <th>7</th>\n",
       "      <td>0</td>\n",
       "      <td>-152.779569</td>\n",
       "      <td>50</td>\n",
       "      <td>СРЕДНЕЕ</td>\n",
       "      <td>1</td>\n",
       "      <td>женат / замужем</td>\n",
       "      <td>0</td>\n",
       "      <td>M</td>\n",
       "      <td>сотрудник</td>\n",
       "      <td>0</td>\n",
       "      <td>135823.934197</td>\n",
       "      <td>образование</td>\n",
       "    </tr>\n",
       "    <tr>\n",
       "      <th>8</th>\n",
       "      <td>2</td>\n",
       "      <td>-6929.865299</td>\n",
       "      <td>35</td>\n",
       "      <td>ВЫСШЕЕ</td>\n",
       "      <td>0</td>\n",
       "      <td>гражданский брак</td>\n",
       "      <td>1</td>\n",
       "      <td>F</td>\n",
       "      <td>сотрудник</td>\n",
       "      <td>0</td>\n",
       "      <td>95856.832424</td>\n",
       "      <td>на проведение свадьбы</td>\n",
       "    </tr>\n",
       "    <tr>\n",
       "      <th>9</th>\n",
       "      <td>0</td>\n",
       "      <td>-2188.756445</td>\n",
       "      <td>41</td>\n",
       "      <td>среднее</td>\n",
       "      <td>1</td>\n",
       "      <td>женат / замужем</td>\n",
       "      <td>0</td>\n",
       "      <td>M</td>\n",
       "      <td>сотрудник</td>\n",
       "      <td>0</td>\n",
       "      <td>144425.938277</td>\n",
       "      <td>покупка жилья для семьи</td>\n",
       "    </tr>\n",
       "    <tr>\n",
       "      <th>10</th>\n",
       "      <td>2</td>\n",
       "      <td>-4171.483647</td>\n",
       "      <td>36</td>\n",
       "      <td>высшее</td>\n",
       "      <td>0</td>\n",
       "      <td>женат / замужем</td>\n",
       "      <td>0</td>\n",
       "      <td>M</td>\n",
       "      <td>компаньон</td>\n",
       "      <td>0</td>\n",
       "      <td>113943.491460</td>\n",
       "      <td>покупка недвижимости</td>\n",
       "    </tr>\n",
       "    <tr>\n",
       "      <th>11</th>\n",
       "      <td>0</td>\n",
       "      <td>-792.701887</td>\n",
       "      <td>40</td>\n",
       "      <td>среднее</td>\n",
       "      <td>1</td>\n",
       "      <td>женат / замужем</td>\n",
       "      <td>0</td>\n",
       "      <td>F</td>\n",
       "      <td>сотрудник</td>\n",
       "      <td>0</td>\n",
       "      <td>77069.234271</td>\n",
       "      <td>покупка коммерческой недвижимости</td>\n",
       "    </tr>\n",
       "    <tr>\n",
       "      <th>12</th>\n",
       "      <td>0</td>\n",
       "      <td>NaN</td>\n",
       "      <td>65</td>\n",
       "      <td>среднее</td>\n",
       "      <td>1</td>\n",
       "      <td>гражданский брак</td>\n",
       "      <td>1</td>\n",
       "      <td>M</td>\n",
       "      <td>пенсионер</td>\n",
       "      <td>0</td>\n",
       "      <td>NaN</td>\n",
       "      <td>сыграть свадьбу</td>\n",
       "    </tr>\n",
       "    <tr>\n",
       "      <th>13</th>\n",
       "      <td>0</td>\n",
       "      <td>-1846.641941</td>\n",
       "      <td>54</td>\n",
       "      <td>неоконченное высшее</td>\n",
       "      <td>2</td>\n",
       "      <td>женат / замужем</td>\n",
       "      <td>0</td>\n",
       "      <td>F</td>\n",
       "      <td>сотрудник</td>\n",
       "      <td>0</td>\n",
       "      <td>130458.228857</td>\n",
       "      <td>приобретение автомобиля</td>\n",
       "    </tr>\n",
       "    <tr>\n",
       "      <th>14</th>\n",
       "      <td>0</td>\n",
       "      <td>-1844.956182</td>\n",
       "      <td>56</td>\n",
       "      <td>высшее</td>\n",
       "      <td>0</td>\n",
       "      <td>гражданский брак</td>\n",
       "      <td>1</td>\n",
       "      <td>F</td>\n",
       "      <td>компаньон</td>\n",
       "      <td>1</td>\n",
       "      <td>165127.911772</td>\n",
       "      <td>покупка жилой недвижимости</td>\n",
       "    </tr>\n",
       "    <tr>\n",
       "      <th>15</th>\n",
       "      <td>1</td>\n",
       "      <td>-972.364419</td>\n",
       "      <td>26</td>\n",
       "      <td>среднее</td>\n",
       "      <td>1</td>\n",
       "      <td>женат / замужем</td>\n",
       "      <td>0</td>\n",
       "      <td>F</td>\n",
       "      <td>сотрудник</td>\n",
       "      <td>0</td>\n",
       "      <td>116820.904450</td>\n",
       "      <td>строительство собственной недвижимости</td>\n",
       "    </tr>\n",
       "    <tr>\n",
       "      <th>16</th>\n",
       "      <td>0</td>\n",
       "      <td>-1719.934226</td>\n",
       "      <td>35</td>\n",
       "      <td>среднее</td>\n",
       "      <td>1</td>\n",
       "      <td>женат / замужем</td>\n",
       "      <td>0</td>\n",
       "      <td>F</td>\n",
       "      <td>сотрудник</td>\n",
       "      <td>0</td>\n",
       "      <td>289202.704229</td>\n",
       "      <td>недвижимость</td>\n",
       "    </tr>\n",
       "    <tr>\n",
       "      <th>17</th>\n",
       "      <td>0</td>\n",
       "      <td>-2369.999720</td>\n",
       "      <td>33</td>\n",
       "      <td>высшее</td>\n",
       "      <td>0</td>\n",
       "      <td>гражданский брак</td>\n",
       "      <td>1</td>\n",
       "      <td>M</td>\n",
       "      <td>сотрудник</td>\n",
       "      <td>0</td>\n",
       "      <td>90410.586745</td>\n",
       "      <td>строительство недвижимости</td>\n",
       "    </tr>\n",
       "    <tr>\n",
       "      <th>18</th>\n",
       "      <td>0</td>\n",
       "      <td>400281.136913</td>\n",
       "      <td>53</td>\n",
       "      <td>среднее</td>\n",
       "      <td>1</td>\n",
       "      <td>вдовец / вдова</td>\n",
       "      <td>2</td>\n",
       "      <td>F</td>\n",
       "      <td>пенсионер</td>\n",
       "      <td>0</td>\n",
       "      <td>56823.777243</td>\n",
       "      <td>на покупку подержанного автомобиля</td>\n",
       "    </tr>\n",
       "    <tr>\n",
       "      <th>19</th>\n",
       "      <td>0</td>\n",
       "      <td>-10038.818549</td>\n",
       "      <td>48</td>\n",
       "      <td>СРЕДНЕЕ</td>\n",
       "      <td>1</td>\n",
       "      <td>в разводе</td>\n",
       "      <td>3</td>\n",
       "      <td>F</td>\n",
       "      <td>сотрудник</td>\n",
       "      <td>0</td>\n",
       "      <td>242831.107982</td>\n",
       "      <td>на покупку своего автомобиля</td>\n",
       "    </tr>\n",
       "  </tbody>\n",
       "</table>\n",
       "</div>"
      ],
      "text/plain": [
       "    children  days_employed  dob_years            education  education_id  \\\n",
       "0          1   -8437.673028         42               высшее             0   \n",
       "1          1   -4024.803754         36              среднее             1   \n",
       "2          0   -5623.422610         33              Среднее             1   \n",
       "3          3   -4124.747207         32              среднее             1   \n",
       "4          0  340266.072047         53              среднее             1   \n",
       "5          0    -926.185831         27               высшее             0   \n",
       "6          0   -2879.202052         43               высшее             0   \n",
       "7          0    -152.779569         50              СРЕДНЕЕ             1   \n",
       "8          2   -6929.865299         35               ВЫСШЕЕ             0   \n",
       "9          0   -2188.756445         41              среднее             1   \n",
       "10         2   -4171.483647         36               высшее             0   \n",
       "11         0    -792.701887         40              среднее             1   \n",
       "12         0            NaN         65              среднее             1   \n",
       "13         0   -1846.641941         54  неоконченное высшее             2   \n",
       "14         0   -1844.956182         56               высшее             0   \n",
       "15         1    -972.364419         26              среднее             1   \n",
       "16         0   -1719.934226         35              среднее             1   \n",
       "17         0   -2369.999720         33               высшее             0   \n",
       "18         0  400281.136913         53              среднее             1   \n",
       "19         0  -10038.818549         48              СРЕДНЕЕ             1   \n",
       "\n",
       "       family_status  family_status_id gender income_type  debt  \\\n",
       "0    женат / замужем                 0      F   сотрудник     0   \n",
       "1    женат / замужем                 0      F   сотрудник     0   \n",
       "2    женат / замужем                 0      M   сотрудник     0   \n",
       "3    женат / замужем                 0      M   сотрудник     0   \n",
       "4   гражданский брак                 1      F   пенсионер     0   \n",
       "5   гражданский брак                 1      M   компаньон     0   \n",
       "6    женат / замужем                 0      F   компаньон     0   \n",
       "7    женат / замужем                 0      M   сотрудник     0   \n",
       "8   гражданский брак                 1      F   сотрудник     0   \n",
       "9    женат / замужем                 0      M   сотрудник     0   \n",
       "10   женат / замужем                 0      M   компаньон     0   \n",
       "11   женат / замужем                 0      F   сотрудник     0   \n",
       "12  гражданский брак                 1      M   пенсионер     0   \n",
       "13   женат / замужем                 0      F   сотрудник     0   \n",
       "14  гражданский брак                 1      F   компаньон     1   \n",
       "15   женат / замужем                 0      F   сотрудник     0   \n",
       "16   женат / замужем                 0      F   сотрудник     0   \n",
       "17  гражданский брак                 1      M   сотрудник     0   \n",
       "18    вдовец / вдова                 2      F   пенсионер     0   \n",
       "19         в разводе                 3      F   сотрудник     0   \n",
       "\n",
       "     total_income                                 purpose  \n",
       "0   253875.639453                           покупка жилья  \n",
       "1   112080.014102                 приобретение автомобиля  \n",
       "2   145885.952297                           покупка жилья  \n",
       "3   267628.550329              дополнительное образование  \n",
       "4   158616.077870                         сыграть свадьбу  \n",
       "5   255763.565419                           покупка жилья  \n",
       "6   240525.971920                       операции с жильем  \n",
       "7   135823.934197                             образование  \n",
       "8    95856.832424                   на проведение свадьбы  \n",
       "9   144425.938277                 покупка жилья для семьи  \n",
       "10  113943.491460                    покупка недвижимости  \n",
       "11   77069.234271       покупка коммерческой недвижимости  \n",
       "12            NaN                         сыграть свадьбу  \n",
       "13  130458.228857                 приобретение автомобиля  \n",
       "14  165127.911772              покупка жилой недвижимости  \n",
       "15  116820.904450  строительство собственной недвижимости  \n",
       "16  289202.704229                            недвижимость  \n",
       "17   90410.586745              строительство недвижимости  \n",
       "18   56823.777243      на покупку подержанного автомобиля  \n",
       "19  242831.107982            на покупку своего автомобиля  "
      ]
     },
     "execution_count": 2,
     "metadata": {},
     "output_type": "execute_result"
    }
   ],
   "source": [
    "data.head(20)"
   ]
  },
  {
   "cell_type": "markdown",
   "id": "452db923",
   "metadata": {
    "deletable": false,
    "editable": false,
    "id": "1c12e233"
   },
   "source": [
    "__Task 3.__\n",
    "\n",
    "Display basic information about the dataframe using the info() method."
   ]
  },
  {
   "cell_type": "code",
   "execution_count": 3,
   "id": "07db5bb6",
   "metadata": {
    "deletable": false,
    "id": "2b757bca",
    "outputId": "15376089-8dad-46c9-b520-c05248d43158"
   },
   "outputs": [
    {
     "name": "stdout",
     "output_type": "stream",
     "text": [
      "<class 'pandas.core.frame.DataFrame'>\n",
      "RangeIndex: 21525 entries, 0 to 21524\n",
      "Data columns (total 12 columns):\n",
      " #   Column            Non-Null Count  Dtype  \n",
      "---  ------            --------------  -----  \n",
      " 0   children          21525 non-null  int64  \n",
      " 1   days_employed     19351 non-null  float64\n",
      " 2   dob_years         21525 non-null  int64  \n",
      " 3   education         21525 non-null  object \n",
      " 4   education_id      21525 non-null  int64  \n",
      " 5   family_status     21525 non-null  object \n",
      " 6   family_status_id  21525 non-null  int64  \n",
      " 7   gender            21525 non-null  object \n",
      " 8   income_type       21525 non-null  object \n",
      " 9   debt              21525 non-null  int64  \n",
      " 10  total_income      19351 non-null  float64\n",
      " 11  purpose           21525 non-null  object \n",
      "dtypes: float64(2), int64(5), object(5)\n",
      "memory usage: 2.0+ MB\n"
     ]
    }
   ],
   "source": [
    "data.info()"
   ]
  },
  {
   "cell_type": "markdown",
   "id": "f5a6ab7b",
   "metadata": {
    "deletable": false,
    "editable": false,
    "id": "333ec665"
   },
   "source": [
    "## Data Preprocessing"
   ]
  },
  {
   "cell_type": "markdown",
   "id": "6bb46864",
   "metadata": {
    "deletable": false,
    "editable": false,
    "id": "02d92d53"
   },
   "source": [
    "### Removing Missing Values"
   ]
  },
  {
   "cell_type": "markdown",
   "id": "9c52f3a0",
   "metadata": {
    "deletable": false,
    "editable": false,
    "id": "cd84967c"
   },
   "source": [
    "__Task 4.__\n",
    "\n",
    "Display the number of missing values for each column using a combination of two methods."
   ]
  },
  {
   "cell_type": "code",
   "execution_count": 4,
   "id": "c7b5bcf5",
   "metadata": {
    "deletable": false,
    "id": "7f9b2309",
    "outputId": "81f4d817-781c-465c-ed15-91ce4446810d"
   },
   "outputs": [
    {
     "data": {
      "text/plain": [
       "children               0\n",
       "days_employed       2174\n",
       "dob_years              0\n",
       "education              0\n",
       "education_id           0\n",
       "family_status          0\n",
       "family_status_id       0\n",
       "gender                 0\n",
       "income_type            0\n",
       "debt                   0\n",
       "total_income        2174\n",
       "purpose                0\n",
       "dtype: int64"
      ]
     },
     "execution_count": 4,
     "metadata": {},
     "output_type": "execute_result"
    }
   ],
   "source": [
    "data.isna().sum()"
   ]
  },
  {
   "cell_type": "markdown",
   "id": "86a1ea70",
   "metadata": {
    "deletable": false,
    "editable": false,
    "id": "db86e27b"
   },
   "source": [
    "__Task 5.__\n",
    "\n",
    "There are missing values in two columns. One of them is 'days_employed', which we will handle in the next step. The other column with missing values is 'total_income', which contains data on income. Income is strongly influenced by employment type, so we need to fill in the missing values in this column with the median income for each income type from the 'income_type' column. For example, a person with the employment type 'employee' should have the missing value in the 'total_income' column filled with the median income among all records with the same type of employment."
   ]
  },
  {
   "cell_type": "code",
   "execution_count": 5,
   "id": "39998e02",
   "metadata": {
    "deletable": false,
    "id": "42006a93"
   },
   "outputs": [],
   "source": [
    "for t in data['income_type'].unique():\n",
    "    data.loc[(data['income_type'] == t) & (data['total_income'].isna()), 'total_income'] = \\\n",
    "    data.loc[(data['income_type'] == t), 'total_income'].median()"
   ]
  },
  {
   "cell_type": "markdown",
   "id": "fdcd1928",
   "metadata": {
    "deletable": false,
    "editable": false,
    "id": "89da5ece"
   },
   "source": [
    "### Handling Anomalies."
   ]
  },
  {
   "cell_type": "markdown",
   "id": "ccf36249",
   "metadata": {
    "deletable": false,
    "editable": false,
    "id": "57964554"
   },
   "source": [
    "__Task 6.__\n",
    "\n",
    "The data may contain artifacts (anomalies) - values that do not reflect reality and appeared due to some error. Such an artifact would be a negative number of days of work experience in the days_employed column. For real data, this is normal. Let's process the values in this column by replacing all negative values with positive ones using the abs() method."
   ]
  },
  {
   "cell_type": "code",
   "execution_count": 6,
   "id": "0650c0f5",
   "metadata": {
    "deletable": false,
    "id": "f6f055bf"
   },
   "outputs": [],
   "source": [
    "data['days_employed'] = data['days_employed'].abs()"
   ]
  },
  {
   "cell_type": "markdown",
   "id": "6bfdd2ed",
   "metadata": {
    "deletable": false,
    "editable": false,
    "id": "6107dd2f"
   },
   "source": [
    "__Task 7.__\n",
    "\n",
    "For each type of employment, let's display the median value of work experience days_employed in days."
   ]
  },
  {
   "cell_type": "code",
   "execution_count": 7,
   "id": "3290b045",
   "metadata": {
    "deletable": false,
    "id": "85a5faf6",
    "outputId": "801ef80e-522b-4668-f34e-565af7432bcf"
   },
   "outputs": [
    {
     "data": {
      "text/plain": [
       "income_type\n",
       "безработный        366413.652744\n",
       "в декрете            3296.759962\n",
       "госслужащий          2689.368353\n",
       "компаньон            1547.382223\n",
       "пенсионер          365213.306266\n",
       "предприниматель       520.848083\n",
       "сотрудник            1574.202821\n",
       "студент               578.751554\n",
       "Name: days_employed, dtype: float64"
      ]
     },
     "execution_count": 7,
     "metadata": {},
     "output_type": "execute_result"
    }
   ],
   "source": [
    "data.groupby('income_type')['days_employed'].agg('median')"
   ]
  },
  {
   "cell_type": "markdown",
   "id": "59e3f450",
   "metadata": {
    "deletable": false,
    "editable": false,
    "id": "38d1a030"
   },
   "source": [
    "For two types (unemployed and retirees), anomalously large values are obtained. It is difficult to correct such values, so we will leave them as they are. Moreover, we will not need this column for our research."
   ]
  },
  {
   "cell_type": "markdown",
   "id": "75334c62",
   "metadata": {
    "deletable": false,
    "editable": false,
    "id": "d8a9f147"
   },
   "source": [
    "__Task 8.__\n",
    "\n",
    "Let's display the list of unique values in the children column."
   ]
  },
  {
   "cell_type": "code",
   "execution_count": 8,
   "id": "996c48f5",
   "metadata": {
    "deletable": false,
    "id": "ef5056eb",
    "outputId": "6975b15c-7f95-4697-d16d-a0c79b657b03"
   },
   "outputs": [
    {
     "data": {
      "text/plain": [
       "array([ 1,  0,  3,  2, -1,  4, 20,  5])"
      ]
     },
     "execution_count": 8,
     "metadata": {},
     "output_type": "execute_result"
    }
   ],
   "source": [
    "data['children'].unique()"
   ]
  },
  {
   "cell_type": "markdown",
   "id": "f47ae7bd",
   "metadata": {
    "deletable": false,
    "editable": false,
    "id": "40b9ebf2"
   },
   "source": [
    "__Task 9.__\n",
    "\n",
    "There are two anomalous values in the children column. Let's remove the rows that contain such anomalous values from the data dataframe."
   ]
  },
  {
   "cell_type": "code",
   "execution_count": 9,
   "id": "7596610b",
   "metadata": {
    "deletable": false,
    "id": "3ff9801d"
   },
   "outputs": [],
   "source": [
    "data = data[(data['children'] != -1) & (data['children'] != 20)]"
   ]
  },
  {
   "cell_type": "markdown",
   "id": "37aea96d",
   "metadata": {
    "deletable": false,
    "editable": false,
    "id": "bbc4d0ce"
   },
   "source": [
    "__Task 10.__\n",
    "\n",
    "Let's once again display the list of unique values in the children column to ensure that the artifacts have been removed."
   ]
  },
  {
   "cell_type": "code",
   "execution_count": 10,
   "id": "13db9de1",
   "metadata": {
    "deletable": false,
    "id": "ad4fa8b7",
    "outputId": "b2097101-d49d-44d9-901b-32a65c9463d1"
   },
   "outputs": [
    {
     "data": {
      "text/plain": [
       "array([1, 0, 3, 2, 4, 5])"
      ]
     },
     "execution_count": 10,
     "metadata": {},
     "output_type": "execute_result"
    }
   ],
   "source": [
    "data['children'].unique()"
   ]
  },
  {
   "cell_type": "markdown",
   "id": "6cf32194",
   "metadata": {
    "deletable": false,
    "editable": false,
    "id": "75440b63"
   },
   "source": [
    "### Removing Missing Values (Continued)"
   ]
  },
  {
   "cell_type": "markdown",
   "id": "467fdf3e",
   "metadata": {
    "deletable": false,
    "editable": false,
    "id": "f4ea573f"
   },
   "source": [
    "__Task 11.__\n",
    "\n",
    "Let's fill in the missing values in the days_employed column with the median values for each income type income_type."
   ]
  },
  {
   "cell_type": "code",
   "execution_count": 11,
   "id": "a70de28f",
   "metadata": {
    "deletable": false,
    "id": "af6b1a7e"
   },
   "outputs": [],
   "source": [
    "for t in data['income_type'].unique():\n",
    "    data.loc[(data['income_type'] == t) & (data['days_employed'].isna()), 'days_employed'] = \\\n",
    "    data.loc[(data['income_type'] == t), 'days_employed'].median()"
   ]
  },
  {
   "cell_type": "markdown",
   "id": "ed8bbb9b",
   "metadata": {
    "deletable": false,
    "editable": false,
    "id": "2753f40d"
   },
   "source": [
    "__Task 12.__\n",
    "\n",
    "Let's make sure that all missing values are filled in. To double-check, we'll once again display the count of missing values for each column using two methods."
   ]
  },
  {
   "cell_type": "code",
   "execution_count": 12,
   "id": "bf398f27",
   "metadata": {
    "deletable": false,
    "id": "55f78bc2",
    "outputId": "8da1e4e1-358e-4e87-98c9-f261bce0a7b2"
   },
   "outputs": [
    {
     "data": {
      "text/plain": [
       "children            0\n",
       "days_employed       0\n",
       "dob_years           0\n",
       "education           0\n",
       "education_id        0\n",
       "family_status       0\n",
       "family_status_id    0\n",
       "gender              0\n",
       "income_type         0\n",
       "debt                0\n",
       "total_income        0\n",
       "purpose             0\n",
       "dtype: int64"
      ]
     },
     "execution_count": 12,
     "metadata": {},
     "output_type": "execute_result"
    }
   ],
   "source": [
    "data.isna().sum()"
   ]
  },
  {
   "cell_type": "markdown",
   "id": "8123a891",
   "metadata": {
    "deletable": false,
    "editable": false,
    "id": "ddc81e43"
   },
   "source": [
    "### Changing Data Types"
   ]
  },
  {
   "cell_type": "markdown",
   "id": "af0f6eb3",
   "metadata": {
    "deletable": false,
    "editable": false,
    "id": "42d19d24"
   },
   "source": [
    "__Task 13.__\n",
    "\n",
    "Let's change the data type in the total_income column from floating-point to integer using the astype() method."
   ]
  },
  {
   "cell_type": "code",
   "execution_count": 13,
   "id": "952c90f1",
   "metadata": {
    "deletable": false,
    "id": "920b65ad"
   },
   "outputs": [],
   "source": [
    "data['total_income'] = data['total_income'].astype(int)"
   ]
  },
  {
   "cell_type": "markdown",
   "id": "e87e5f6f",
   "metadata": {
    "deletable": false,
    "editable": false,
    "id": "80c420ba"
   },
   "source": [
    "### Duplicate Handling"
   ]
  },
  {
   "cell_type": "markdown",
   "id": "83aab0c2",
   "metadata": {
    "deletable": false,
    "editable": false
   },
   "source": [
    "__Task 14.__\n",
    "\n",
    "Let's handle implicit duplicates in the education column. In this column, there are identical values written differently, using both uppercase and lowercase letters. We will convert them to lowercase. We should also check the other columns."
   ]
  },
  {
   "cell_type": "code",
   "execution_count": 14,
   "id": "0a0cb859",
   "metadata": {
    "deletable": false
   },
   "outputs": [],
   "source": [
    "data['education'] = data['education'].str.lower()"
   ]
  },
  {
   "cell_type": "markdown",
   "id": "ba06ffb9",
   "metadata": {
    "deletable": false,
    "editable": false,
    "id": "dc587695"
   },
   "source": [
    "__Task 15.__\n",
    "\n",
    "Let's display the number of duplicate rows in the data. If there are any duplicate rows, we will remove them."
   ]
  },
  {
   "cell_type": "code",
   "execution_count": 15,
   "id": "7a27f3c8",
   "metadata": {
    "deletable": false,
    "id": "3ee445e4",
    "outputId": "9684deba-1934-42d1-99e1-cda61740f822"
   },
   "outputs": [
    {
     "data": {
      "text/plain": [
       "71"
      ]
     },
     "execution_count": 15,
     "metadata": {},
     "output_type": "execute_result"
    }
   ],
   "source": [
    "data.duplicated().sum()"
   ]
  },
  {
   "cell_type": "code",
   "execution_count": 16,
   "id": "7558c023",
   "metadata": {
    "deletable": false,
    "id": "8575fe05"
   },
   "outputs": [],
   "source": [
    "data = data.drop_duplicates()"
   ]
  },
  {
   "cell_type": "markdown",
   "id": "bf437465",
   "metadata": {
    "deletable": false,
    "editable": false,
    "id": "9904cf55"
   },
   "source": [
    "### Categorization of Data"
   ]
  },
  {
   "cell_type": "markdown",
   "id": "f8042bde",
   "metadata": {
    "deletable": false,
    "editable": false,
    "id": "72fcc8a2"
   },
   "source": [
    "__Task 16.__\n",
    "\n",
    "Based on the specified ranges, let's create a total_income_category column in the data dataframe with the following categories:\n",
    "\n",
    "- 0–30000 — 'E';\n",
    "- 30001–50000 — 'D';\n",
    "- 50001–200000 — 'C';\n",
    "- 200001–1000000 — 'B';\n",
    "- 1000001 and above — 'A'.\n",
    "\n",
    "For example, we will assign category 'E' to a borrower with an income of 25000, and category 'B' to a client with an income of 235000. We'll achieve this by using a custom function named categorize_income() and the apply() method."
   ]
  },
  {
   "cell_type": "code",
   "execution_count": 17,
   "id": "6ca01391",
   "metadata": {
    "deletable": false,
    "id": "e1771346"
   },
   "outputs": [],
   "source": [
    "def categorize_income(income):\n",
    "    try:\n",
    "        if 0 <= income <= 30000:\n",
    "            return 'E'\n",
    "        elif 30001 <= income <= 50000:\n",
    "            return 'D'\n",
    "        elif 50001 <= income <= 200000:\n",
    "            return 'C'\n",
    "        elif 200001 <= income <= 1000000:\n",
    "            return 'B'\n",
    "        elif income >= 1000001:\n",
    "            return 'A'\n",
    "    except:\n",
    "        pass"
   ]
  },
  {
   "cell_type": "code",
   "execution_count": 18,
   "id": "800977ac",
   "metadata": {
    "deletable": false,
    "id": "d5f3586d"
   },
   "outputs": [],
   "source": [
    "data['total_income_category'] = data['total_income'].apply(categorize_income)"
   ]
  },
  {
   "cell_type": "markdown",
   "id": "36150ea9",
   "metadata": {
    "deletable": false,
    "editable": false,
    "id": "dde49b5c"
   },
   "source": [
    "__Task 17.__\n",
    "\n",
    "Let's display the list of unique purposes for taking a loan from the purpose column."
   ]
  },
  {
   "cell_type": "code",
   "execution_count": 19,
   "id": "4941173b",
   "metadata": {
    "deletable": false,
    "id": "f67ce9b3",
    "outputId": "673c12d9-7d7e-4ae0-9812-c622c89dd244"
   },
   "outputs": [
    {
     "data": {
      "text/plain": [
       "array(['покупка жилья', 'приобретение автомобиля',\n",
       "       'дополнительное образование', 'сыграть свадьбу',\n",
       "       'операции с жильем', 'образование', 'на проведение свадьбы',\n",
       "       'покупка жилья для семьи', 'покупка недвижимости',\n",
       "       'покупка коммерческой недвижимости', 'покупка жилой недвижимости',\n",
       "       'строительство собственной недвижимости', 'недвижимость',\n",
       "       'строительство недвижимости', 'на покупку подержанного автомобиля',\n",
       "       'на покупку своего автомобиля',\n",
       "       'операции с коммерческой недвижимостью',\n",
       "       'строительство жилой недвижимости', 'жилье',\n",
       "       'операции со своей недвижимостью', 'автомобили',\n",
       "       'заняться образованием', 'сделка с подержанным автомобилем',\n",
       "       'получение образования', 'автомобиль', 'свадьба',\n",
       "       'получение дополнительного образования', 'покупка своего жилья',\n",
       "       'операции с недвижимостью', 'получение высшего образования',\n",
       "       'свой автомобиль', 'сделка с автомобилем',\n",
       "       'профильное образование', 'высшее образование',\n",
       "       'покупка жилья для сдачи', 'на покупку автомобиля', 'ремонт жилью',\n",
       "       'заняться высшим образованием'], dtype=object)"
      ]
     },
     "execution_count": 19,
     "metadata": {},
     "output_type": "execute_result"
    }
   ],
   "source": [
    "data['purpose'].unique()"
   ]
  },
  {
   "cell_type": "markdown",
   "id": "39ff633a",
   "metadata": {
    "deletable": false,
    "editable": false,
    "id": "85d0aef0"
   },
   "source": [
    "__Task 18.__\n",
    "\n",
    "Let's create a function that, based on the data in the purpose column, will generate a new column purpose_category containing the following categories:\n",
    "\n",
    "- 'Car-related Operations',\n",
    "- 'Real Estate Operations',\n",
    "- 'Wedding Expenses',\n",
    "- 'Education Expenses'.\n",
    "\n",
    "For example, if the purpose column contains the substring 'to buy a car', then the purpose_category column should contain the string 'Car-related Operations'.\n",
    "\n",
    "We'll achieve this by using a custom function named categorize_purpose() and the apply() method. We'll examine the data in the purpose column and determine which substrings will help us correctly categorize it."
   ]
  },
  {
   "cell_type": "code",
   "execution_count": 20,
   "id": "9a73ab5d",
   "metadata": {
    "deletable": false,
    "id": "e149fab4"
   },
   "outputs": [],
   "source": [
    "def categorize_purpose(row):\n",
    "    try:\n",
    "        if 'автом' in row:\n",
    "            return 'операции с автомобилем'\n",
    "        elif 'жил' in row or 'недвиж' in row:\n",
    "            return 'операции с недвижимостью'\n",
    "        elif 'свад' in row:\n",
    "            return 'проведение свадьбы'\n",
    "        elif 'образов' in row:\n",
    "            return 'получение образования'\n",
    "    except:\n",
    "        return 'нет категории'"
   ]
  },
  {
   "cell_type": "code",
   "execution_count": 21,
   "id": "8e371a11",
   "metadata": {
    "deletable": false,
    "id": "bf36e69b"
   },
   "outputs": [],
   "source": [
    "data['purpose_category'] = data['purpose'].apply(categorize_purpose)"
   ]
  },
  {
   "cell_type": "markdown",
   "id": "824cae15",
   "metadata": {
    "deletable": false,
    "editable": false,
    "id": "09b242bf"
   },
   "source": [
    "### Step 3. Explore the Data and Answer the Questions"
   ]
  },
  {
   "cell_type": "markdown",
   "id": "0cfbd7db",
   "metadata": {
    "deletable": false,
    "editable": false,
    "id": "c5d66278"
   },
   "source": [
    "#### 3.1 Is there a correlation between the number of children and the timely repayment of the loan?\""
   ]
  },
  {
   "cell_type": "code",
   "execution_count": 22,
   "id": "88d70650",
   "metadata": {
    "deletable": false,
    "id": "2cacfc4a"
   },
   "outputs": [],
   "source": [
    "data_children = data.loc[:,['children','debt']]\n",
    "data_children_all = data_children.groupby('children')['debt'].count()\n",
    "\n",
    "data_children_debt = data[data['debt'] == 1]\n",
    "data_children_debt = data_children_debt.loc[:,['children','debt']]\n",
    "data_children_debt = data_children_debt.groupby('children')['debt'].count()\n",
    "\n",
    "data_children_no_debt = data[data['debt'] == 0]\n",
    "data_children_no_debt = data_children_no_debt.loc[:,['children','debt']]\n",
    "data_children_no_debt = data_children_no_debt.groupby('children')['debt'].count()\n",
    "\n",
    "result = data_children_debt / data_children_all"
   ]
  },
  {
   "cell_type": "markdown",
   "id": "2f822102",
   "metadata": {
    "deletable": false,
    "id": "3a6b99ec"
   },
   "source": [
    "The groups are categorized by the number of children in the family.\n",
    "\n",
    "__Total number of clients:__\n",
    "\n",
    "Number of Children|\tNumber of Clients      \n",
    "-------:|----:                  \n",
    "0       |14091                    \n",
    "1       |4808                      \n",
    "2       |2052                      \n",
    "3       |330                       \n",
    "4       |41                        \n",
    "5       |9 \n",
    "\n",
    "__Total number of borrowers:__\n",
    "\n",
    "Number of Children|Clients      \n",
    "-------:|----:                  \n",
    "0       |1063                    \n",
    "1       |444                      \n",
    "2       |194                      \n",
    "3       |27                       \n",
    "4       |4                         \n",
    "5       |0                         \n",
    "\n",
    "__Total number of clients who repaid on time:__\n",
    "\n",
    "|Number of Children|Clients|\n",
    "|-------:|----:|\n",
    "|0       |13028|\n",
    "|1       |4364|\n",
    "|2       |1858|\n",
    "|3       |303|\n",
    "|4       |37| \n",
    "|5       |9| \n",
    "\n",
    "__Percentage of borrowers from the total number of clients:__\n",
    "\n",
    "|Number of Children|% Borrowers|\n",
    "|-------:|----:|\n",
    "|0       |7.54%|\n",
    "|1       |9.23%|\n",
    "|2       |9.45%|\n",
    "|3       |8.18%|\n",
    "|4       |9.75%|\n",
    "|5       |0.00%|\n",
    "\n",
    "**Conclusion:** _Borrowers with no children have the lowest percentage of defaulters. Therefore, clients without children are more likely to repay loans on time compared to clients with children._"
   ]
  },
  {
   "cell_type": "markdown",
   "id": "875b71c8",
   "metadata": {
    "deletable": false,
    "editable": false,
    "id": "97be82ca"
   },
   "source": [
    "#### 3.2 Is there a correlation between marital status and the timely repayment of the loan?"
   ]
  },
  {
   "cell_type": "code",
   "execution_count": 23,
   "id": "4043a7b0",
   "metadata": {
    "deletable": false,
    "id": "dc3f7ee8"
   },
   "outputs": [
    {
     "data": {
      "text/plain": [
       "family_status\n",
       "Не женат / не замужем     2796\n",
       "в разводе                 1189\n",
       "вдовец / вдова             951\n",
       "гражданский брак          4134\n",
       "женат / замужем          12261\n",
       "Name: debt, dtype: int64"
      ]
     },
     "execution_count": 23,
     "metadata": {},
     "output_type": "execute_result"
    }
   ],
   "source": [
    "data_family = data.loc[:,['family_status','debt']]\n",
    "data_family_all = data_family.groupby('family_status')['debt'].count()\n",
    "\n",
    "data_family_debt = data[data['debt'] == 1]\n",
    "data_family_debt = data_family_debt.loc[:,['family_status','debt']]\n",
    "data_family_debt = data_family_debt.groupby('family_status')['debt'].count()\n",
    "\n",
    "data_family_no_debt = data[data['debt'] == 0]\n",
    "data_family_no_debt = data_family_no_debt.loc[:,['family_status','debt']]\n",
    "data_family_no_debt = data_family_no_debt.groupby('family_status')['debt'].count()\n",
    "\n",
    "result = data_family_debt / data_family_all\n",
    "data_family_all"
   ]
  },
  {
   "cell_type": "markdown",
   "id": "366f38f6",
   "metadata": {
    "deletable": false,
    "id": "1cef7837"
   },
   "source": [
    "The groups are categorized by marital status.\n",
    "\n",
    "__Total number of clients:__\n",
    "\n",
    "|Marital Status      | Number of Clients|\n",
    "|--------------------|-----|\n",
    "|Not Married   |2796|\n",
    "|Divorced             |1189|\n",
    "|Widowed          |951|\n",
    "|Civil Partnership       |4134|\n",
    "|Married        |12261|\n",
    "\n",
    "__Total number of borrowers:__\n",
    "\n",
    "|Marital Status     | Borrowers|\n",
    "|--------------------|-----|\n",
    "|Not Married   |273|\n",
    "|Divorced             |84|\n",
    "|Widowed          |63|\n",
    "|Civil Partnership       |385|\n",
    "|Married       |927|\n",
    "\n",
    "__Total number of clients who repaid on time:__\n",
    "\n",
    "|Marital Status      | On Time Repayment|\n",
    "|--------------------|-----|\n",
    "|Not Married   |2523|\n",
    "|Divorced             |1105|\n",
    "|Widowed          |888|\n",
    "|Civil Partnership       |3749|\n",
    "|Married        |11334|\n",
    "\n",
    "__Percentage of borrowers from the total number of clients:__\n",
    "\n",
    "|Marital Status      | % Borrowers|\n",
    "|--------------------|-----|\n",
    "|Not Married   |9.76%|\n",
    "|Divorced             |7.06%|\n",
    "|Widowed          |6.62%|\n",
    "|Civil Partnership       |9.31%|\n",
    "|Married        |7.56%|\n",
    "\n",
    "**Conclusion:** _People who are either previously married or currently married are more likely to repay loans on time._"
   ]
  },
  {
   "cell_type": "markdown",
   "id": "606ac880",
   "metadata": {
    "deletable": false,
    "editable": false,
    "id": "1e8b2fca"
   },
   "source": [
    "#### 3.3 Is there a correlation between income level and the timely repayment of the loan?"
   ]
  },
  {
   "cell_type": "code",
   "execution_count": 24,
   "id": "7740b284",
   "metadata": {
    "deletable": false,
    "id": "cd7e3720"
   },
   "outputs": [
    {
     "data": {
      "text/plain": [
       "total_income_category\n",
       "A       25\n",
       "B     5014\n",
       "C    15921\n",
       "D      349\n",
       "E       22\n",
       "Name: debt, dtype: int64"
      ]
     },
     "execution_count": 24,
     "metadata": {},
     "output_type": "execute_result"
    }
   ],
   "source": [
    "data_income = data.loc[:,['total_income_category','debt']]\n",
    "data_income_all = data_income.groupby('total_income_category')['debt'].count()\n",
    "\n",
    "data_income_debt = data[data['debt'] == 1]\n",
    "data_income_debt = data_income_debt.loc[:,['total_income_category','debt']]\n",
    "data_income_debt = data_income_debt.groupby('total_income_category')['debt'].count()\n",
    "\n",
    "data_income_no_debt = data[data['debt'] == 0]\n",
    "data_income_no_debt = data_income_no_debt.loc[:,['total_income_category','debt']]\n",
    "data_income_no_debt = data_income_no_debt.groupby('total_income_category')['debt'].count()\n",
    "\n",
    "result = data_income_debt / data_income_all\n",
    "data_income_all"
   ]
  },
  {
   "cell_type": "markdown",
   "id": "cd231810",
   "metadata": {
    "deletable": false,
    "id": "e8593def"
   },
   "source": [
    "The client groups are categorized based on income level.\n",
    "\n",
    "__Total number of clients:__\n",
    "\n",
    "|Income Level          |Number of Clients|\n",
    "|----------------------|------|\n",
    "|Income above 1,000,000 rubles        |25 |\n",
    "|Income from 200,001 to 1,000,000 rubles|5014 |\n",
    "|Income from 50,001 to 200,000 rubles   |15921 |\n",
    "|Income from 30,001 to 50,000 rubles    |349 |\n",
    "|Income up to 30,000 rubles              |22 |\n",
    "\n",
    "__Total number of borrowers:__\n",
    "\n",
    "|Income Level          |Borrowers|\n",
    "|----------------------|------|\n",
    "|Income above 1,000,000 rubles        |2 |\n",
    "|Income from 200,001 to 1,000,000 rubles|354 |\n",
    "|Income from 50,001 to 200,000 rubles   |1353 |\n",
    "|Income from 30,001 to 50,000 rubles    |21 |\n",
    "|Income up to 30,000 rubles              |2 |\n",
    "\n",
    "__Total number of clients who repaid on time:__\n",
    "\n",
    "|Income Level          |On Time Repayment|\n",
    "|----------------------|------|\n",
    "|Income above 1,000,000 rubles        |23 |\n",
    "|Income from 200,001 to 1,000,000 rubles|4660 |\n",
    "|Income from 50,001 to 200,000 rubles   |14568 |\n",
    "|Income from 30,001 to 50,000 rubles    |328 |\n",
    "|Income up to 30,000 rubles              |20 |\n",
    "\n",
    "__Percentage of borrowers from the total number of clients:__\n",
    "\n",
    "|Income Level          |% Borrowers|\n",
    "|----------------------|------|\n",
    "|Income above 1,000,000 rubles        |8.00% |\n",
    "|Income from 200,001 to 1,000,000 rubles|7.06% |\n",
    "|Income from 50,001 to 200,000 rubles   |8.49% |\n",
    "|Income from 30,001 to 50,000 rubles    |6.01% |\n",
    "|Income up to 30,000 rubles              |9.09% |\n",
    "\n",
    "**Conclusion:** _For the income groups above 1,000,000 rubles and below 50,000 rubles, there is too little data available. Making conclusions about income based on all the groups would be incorrect. We are left with only two groups, and from them, we can note that people with incomes ranging from 200,000 to 1,000,000 are less likely to have payment delays. However, it is not appropriate to consider these findings as statistically significant._"
   ]
  },
  {
   "cell_type": "markdown",
   "id": "8035a808",
   "metadata": {
    "deletable": false,
    "editable": false,
    "id": "99ecbd1f"
   },
   "source": [
    "#### 3.4 How do different loan purposes affect timely loan repayment?"
   ]
  },
  {
   "cell_type": "code",
   "execution_count": 25,
   "id": "489a8c9a",
   "metadata": {
    "deletable": false,
    "id": "2b687290"
   },
   "outputs": [
    {
     "data": {
      "text/plain": [
       "purpose_category\n",
       "операции с автомобилем      3879\n",
       "операции с недвижимостью    9971\n",
       "получение образования       3619\n",
       "проведение свадьбы          2130\n",
       "Name: debt, dtype: int64"
      ]
     },
     "execution_count": 25,
     "metadata": {},
     "output_type": "execute_result"
    }
   ],
   "source": [
    "data_purpose = data.loc[:,['purpose_category','debt']]\n",
    "data_purpose_all = data_purpose.groupby('purpose_category')['debt'].count()\n",
    "\n",
    "data_purpose_debt = data[data['debt'] == 1]\n",
    "data_purpose_debt = data_purpose_debt.loc[:,['purpose_category','debt']]\n",
    "data_purpose_debt = data_purpose_debt.groupby('purpose_category')['debt'].count()\n",
    "\n",
    "data_purpose_no_debt = data[data['debt'] == 0]\n",
    "data_purpose_no_debt = data_purpose_no_debt.loc[:,['purpose_category','debt']]\n",
    "data_purpose_no_debt = data_purpose_no_debt.groupby('purpose_category')['debt'].count()\n",
    "\n",
    "result = data_purpose_debt / data_purpose_all\n",
    "\n",
    "data_purpose_no_debt"
   ]
  },
  {
   "cell_type": "markdown",
   "id": "acbade8f",
   "metadata": {
    "deletable": false,
    "id": "b4bb2ce6"
   },
   "source": [
    "Groups are categorized based on the purpose of the loan:\n",
    "\n",
    "__Total number of clients:__\n",
    "\n",
    "|Loan Purpose            |Number of Clients|\n",
    "|-----------------------|---------|\n",
    "|Car Operations     |3879|\n",
    "|Real Estate Operations   |9971|\n",
    "|Education       |3619|\n",
    "|Wedding         |2130|\n",
    "\n",
    "__Total number of debtors:__\n",
    "\n",
    "|Loan Purpose             |Debtors|\n",
    "|-----------------------|---------|\n",
    "|Car Operations     |400|\n",
    "|Real Estate Operations   |780|\n",
    "|Education       |369|\n",
    "|Wedding         |183|\n",
    "\n",
    "__Total number of on-time repayments:__\n",
    "\n",
    "|Loan Purpose             |On Time|\n",
    "|-----------------------|---------|\n",
    "|Car Operations     |3879|\n",
    "|Real Estate Operations   |9971|\n",
    "|Education       |3619|\n",
    "|Wedding         |2130|\n",
    "\n",
    "__Percentage of debtors out of the total number of clients:__\n",
    "\n",
    "\n",
    "|Loan Purpose             |% Debtors|\n",
    "|-----------------------|---------|\n",
    "|Car Operations    |9.34%|\n",
    "|Real Estate Operations   |7.25%|\n",
    "|Education       |9.25%|\n",
    "|Wedding         |7.91%|\n",
    "\n",
    "**Conclusion:** _Loans related to real estate are more often repaid on time. Clients taking out loans for cars and education are less reliable._"
   ]
  },
  {
   "cell_type": "markdown",
   "id": "6d31f339",
   "metadata": {
    "deletable": false,
    "editable": false,
    "id": "09c3ac4c"
   },
   "source": [
    "#### 3.5 Provide possible reasons for missing data in the source data."
   ]
  },
  {
   "cell_type": "markdown",
   "id": "db44cfc2",
   "metadata": {
    "deletable": false,
    "id": "9da2ceda"
   },
   "source": [
    "*Answer:* I believe that in most cases, the reason for missing data is human error. It can be either due to carelessness or situations where there is no suitable data to categorize, and the operator leaves it blank. If the clients themselves fill out the forms, then errors and omissions may occur more frequently.\n",
    "\n",
    "Additionally, data quality can be significantly affected by errors in data processing, storage, and transmission from the server. It's also possible that there are coding errors in data collection processes."
   ]
  },
  {
   "cell_type": "markdown",
   "id": "5e54e428",
   "metadata": {
    "deletable": false,
    "editable": false,
    "id": "7b0487d6"
   },
   "source": [
    "#### 3.6 Explain why filling in missing values with the median is the best solution for quantitative variables."
   ]
  },
  {
   "cell_type": "markdown",
   "id": "6a7f9d2a",
   "metadata": {
    "deletable": false,
    "id": "7ecf2b8e"
   },
   "source": [
    "*Answer:* Because median values are less influenced by extreme outliers in the data compared to the mean."
   ]
  },
  {
   "cell_type": "markdown",
   "id": "fb977af0",
   "metadata": {
    "deletable": false,
    "editable": false,
    "id": "6db5255a"
   },
   "source": [
    "### Step 4: General Conclusion."
   ]
  },
  {
   "cell_type": "markdown",
   "id": "b5c6bde1",
   "metadata": {
    "deletable": false,
    "id": "bad65432"
   },
   "source": [
    "1. Is there a correlation between the number of children and loan repayment on time?\n",
    "Yes, there is a correlation. In this client sample, _14,091_ people do not have children, and _7,240_ have one child or more. After analysis, it was found that the group without children has a _7.54%_ on-time repayment rate. The groups with children vary from _8.18%_ to _9.75%_ on average. This confirms the hypothesis that clients without children are more likely to repay loans on time.\n",
    "\n",
    "2. Is there a correlation between marital status and loan repayment on time?\n",
    "Yes, there is a correlation. We have data on unmarried clients - _2,796_ people, as well as clients living in civil partnerships - _4,134_ people. People in marriage - _12,261_, widows and widowers - _951_, and divorced individuals - _1,189_. The on-time repayment percentages for clients who are married or in a civil partnership are _7.56%_ or lower. Meanwhile, clients who are not married or are in a civil partnership have a rate of _9.31%_ or higher. The hypothesis that marital status affects on-time loan repayment has been confirmed.\n",
    "\n",
    "3. Is there a correlation between income level and loan repayment on time?\n",
    "In this category, it is not possible to conduct a precise analysis because there is too little data for 3 out of the 5 income groups, specifically:\n",
    "<!DOCTYPE html>\n",
    "<html>\n",
    "<head>\n",
    "<style>\n",
    "    table {\n",
    "        text-align: left;\n",
    "    }\n",
    "</style>\n",
    "</head>\n",
    "<body>\n",
    "<table>\n",
    "    <tr>\n",
    "        <th>Income Level</th>\n",
    "        <th>Number of Clients</th>\n",
    "    </tr>\n",
    "    <tr>\n",
    "        <td>Income above 1,000,000 rubles</td>\n",
    "        <td>25</td>\n",
    "    </tr>\n",
    "    <tr>\n",
    "        <td>Income from 200,001 to 1,000,000 rubles</td>\n",
    "        <td>5,014</td>\n",
    "    </tr>\n",
    "    <tr>\n",
    "        <td>Income from 50,001 to 200,000 rubles</td>\n",
    "        <td>15,921</td>\n",
    "    </tr>\n",
    "    <tr>\n",
    "        <td>Income from 30,001 to 50,000 rubles</td>\n",
    "        <td>349</td>\n",
    "    </tr>\n",
    "    <tr>\n",
    "        <td>Income up to 30,000 rubles</td>\n",
    "        <td>22</td>\n",
    "    </tr>\n",
    "</table>\n",
    "</body>\n",
    "</html>\n",
    "    \n",
    "Given such a significant imbalance, I consider counting and analyzing this data to be impractical.\n",
    "\n",
    "4. How do different loan purposes affect timely loan repayment?\n",
    "Yes, there is a correlation. Based on the analysis, it was determined that the most reliable borrowers are those seeking mortgages.\n",
    "\n",
    "|Loan Purpose            |Number of Clients|\n",
    "|-----------------------|---------|\n",
    "|Car Operations     |3879|\n",
    "|Real Estate Operations   |9971|\n",
    "|Education       |3619|\n",
    "|Wedding         |2130|\n",
    "\n",
    "Despite the majority of loans being for real estate, they are more reliable in terms of repayment.\n",
    "\n",
    "|Loan Purpose             |% Debtors|\n",
    "|-----------------------|---------|\n",
    "|Car Operations     |9.34%|\n",
    "|Real Estate Operations   |7.25%|\n",
    "|Education       |9.25%|\n",
    "|Wedding         |7.91%|\n",
    "\n",
    "**General Conclusion:** : When granting a loan, it is recommended to consider the client's marital status, the number of children in the family, and the purpose of the loan. An ideal borrower is __a married client without children who is seeking a mortgage__."
   ]
  },
  {
   "cell_type": "code",
   "execution_count": null,
   "id": "a28123f7-e619-44b9-9210-a877c04398c5",
   "metadata": {},
   "outputs": [],
   "source": []
  }
 ],
 "metadata": {
  "ExecuteTimeLog": [
   {
    "duration": 70,
    "start_time": "2023-07-18T11:46:29.939Z"
   },
   {
    "duration": 469,
    "start_time": "2023-07-18T11:46:42.939Z"
   },
   {
    "duration": 28,
    "start_time": "2023-07-18T11:46:48.868Z"
   },
   {
    "duration": 14,
    "start_time": "2023-07-18T11:46:55.577Z"
   },
   {
    "duration": 12,
    "start_time": "2023-07-18T11:46:58.439Z"
   },
   {
    "duration": 29,
    "start_time": "2023-07-18T11:47:15.772Z"
   },
   {
    "duration": 4,
    "start_time": "2023-07-18T11:47:18.550Z"
   },
   {
    "duration": 8,
    "start_time": "2023-07-18T11:47:23.208Z"
   },
   {
    "duration": 10,
    "start_time": "2023-07-18T11:47:33.227Z"
   },
   {
    "duration": 8,
    "start_time": "2023-07-18T11:47:41.377Z"
   },
   {
    "duration": 5,
    "start_time": "2023-07-18T11:47:44.189Z"
   },
   {
    "duration": 40,
    "start_time": "2023-07-18T11:47:50.345Z"
   },
   {
    "duration": 8,
    "start_time": "2023-07-18T11:48:06.946Z"
   },
   {
    "duration": 3,
    "start_time": "2023-07-18T11:48:12.213Z"
   },
   {
    "duration": 3,
    "start_time": "2023-07-18T11:48:36.566Z"
   },
   {
    "duration": 20,
    "start_time": "2023-07-18T11:48:39.720Z"
   },
   {
    "duration": 19,
    "start_time": "2023-07-18T11:48:42.285Z"
   },
   {
    "duration": 15,
    "start_time": "2023-07-18T11:48:46.492Z"
   },
   {
    "duration": 4,
    "start_time": "2023-07-18T11:48:50.195Z"
   },
   {
    "duration": 13,
    "start_time": "2023-07-18T11:48:52.287Z"
   },
   {
    "duration": 6,
    "start_time": "2023-07-18T11:48:53.974Z"
   },
   {
    "duration": 3,
    "start_time": "2023-07-18T11:49:02.715Z"
   },
   {
    "duration": 14,
    "start_time": "2023-07-18T11:49:09.218Z"
   },
   {
    "duration": 27,
    "start_time": "2023-07-18T11:49:13.515Z"
   },
   {
    "duration": 7,
    "start_time": "2023-07-18T11:52:41.982Z"
   },
   {
    "duration": 6,
    "start_time": "2023-07-18T11:54:25.787Z"
   },
   {
    "duration": 9,
    "start_time": "2023-07-18T12:01:01.836Z"
   },
   {
    "duration": 28,
    "start_time": "2023-07-18T12:09:14.346Z"
   },
   {
    "duration": 7,
    "start_time": "2023-07-18T12:12:08.510Z"
   },
   {
    "duration": 8,
    "start_time": "2023-07-18T12:14:16.583Z"
   },
   {
    "duration": 11,
    "start_time": "2023-07-18T12:14:29.857Z"
   },
   {
    "duration": 12,
    "start_time": "2023-07-18T12:14:37.758Z"
   },
   {
    "duration": 8,
    "start_time": "2023-07-18T12:14:44.739Z"
   },
   {
    "duration": 5,
    "start_time": "2023-07-18T12:14:49.760Z"
   },
   {
    "duration": 5,
    "start_time": "2023-07-18T12:14:55.292Z"
   },
   {
    "duration": 7,
    "start_time": "2023-07-18T12:15:09.934Z"
   },
   {
    "duration": 8,
    "start_time": "2023-07-18T12:16:11.996Z"
   },
   {
    "duration": 7,
    "start_time": "2023-07-18T12:16:41.213Z"
   },
   {
    "duration": 9,
    "start_time": "2023-07-18T12:17:32.975Z"
   },
   {
    "duration": 7,
    "start_time": "2023-07-18T12:17:51.998Z"
   },
   {
    "duration": 8,
    "start_time": "2023-07-18T12:17:55.689Z"
   },
   {
    "duration": 8,
    "start_time": "2023-07-18T12:17:59.446Z"
   },
   {
    "duration": 7,
    "start_time": "2023-07-18T12:18:10.639Z"
   },
   {
    "duration": 7,
    "start_time": "2023-07-18T12:18:14.105Z"
   },
   {
    "duration": 62,
    "start_time": "2023-07-18T12:18:34.848Z"
   },
   {
    "duration": 14,
    "start_time": "2023-07-18T12:18:36.195Z"
   },
   {
    "duration": 15,
    "start_time": "2023-07-18T12:18:36.886Z"
   },
   {
    "duration": 10,
    "start_time": "2023-07-18T12:18:37.808Z"
   },
   {
    "duration": 30,
    "start_time": "2023-07-18T12:18:38.259Z"
   },
   {
    "duration": 3,
    "start_time": "2023-07-18T12:18:38.848Z"
   },
   {
    "duration": 8,
    "start_time": "2023-07-18T12:18:39.260Z"
   },
   {
    "duration": 5,
    "start_time": "2023-07-18T12:18:39.936Z"
   },
   {
    "duration": 6,
    "start_time": "2023-07-18T12:18:40.373Z"
   },
   {
    "duration": 5,
    "start_time": "2023-07-18T12:18:40.789Z"
   },
   {
    "duration": 29,
    "start_time": "2023-07-18T12:18:41.453Z"
   },
   {
    "duration": 10,
    "start_time": "2023-07-18T12:18:41.982Z"
   },
   {
    "duration": 4,
    "start_time": "2023-07-18T12:18:42.961Z"
   },
   {
    "duration": 14,
    "start_time": "2023-07-18T12:18:43.817Z"
   },
   {
    "duration": 19,
    "start_time": "2023-07-18T12:18:44.603Z"
   },
   {
    "duration": 16,
    "start_time": "2023-07-18T12:18:44.945Z"
   },
   {
    "duration": 4,
    "start_time": "2023-07-18T12:18:46.595Z"
   },
   {
    "duration": 9,
    "start_time": "2023-07-18T12:18:46.989Z"
   },
   {
    "duration": 6,
    "start_time": "2023-07-18T12:18:47.754Z"
   },
   {
    "duration": 3,
    "start_time": "2023-07-18T12:18:48.609Z"
   },
   {
    "duration": 8,
    "start_time": "2023-07-18T12:18:49.464Z"
   },
   {
    "duration": 6,
    "start_time": "2023-07-18T12:18:51.973Z"
   },
   {
    "duration": 1744,
    "start_time": "2023-07-18T12:20:50.662Z"
   },
   {
    "duration": 6,
    "start_time": "2023-07-18T12:21:13.252Z"
   },
   {
    "duration": 132,
    "start_time": "2023-07-18T12:22:17.907Z"
   },
   {
    "duration": 9,
    "start_time": "2023-07-18T12:22:39.946Z"
   },
   {
    "duration": 10,
    "start_time": "2023-07-18T12:23:15.811Z"
   },
   {
    "duration": 7,
    "start_time": "2023-07-18T12:23:33.552Z"
   },
   {
    "duration": 83,
    "start_time": "2023-07-18T12:23:39.200Z"
   },
   {
    "duration": 14,
    "start_time": "2023-07-18T12:23:39.679Z"
   },
   {
    "duration": 13,
    "start_time": "2023-07-18T12:23:39.939Z"
   },
   {
    "duration": 9,
    "start_time": "2023-07-18T12:23:40.444Z"
   },
   {
    "duration": 37,
    "start_time": "2023-07-18T12:23:40.696Z"
   },
   {
    "duration": 4,
    "start_time": "2023-07-18T12:23:41.078Z"
   },
   {
    "duration": 7,
    "start_time": "2023-07-18T12:23:41.351Z"
   },
   {
    "duration": 6,
    "start_time": "2023-07-18T12:23:41.719Z"
   },
   {
    "duration": 7,
    "start_time": "2023-07-18T12:23:41.947Z"
   },
   {
    "duration": 4,
    "start_time": "2023-07-18T12:23:42.240Z"
   },
   {
    "duration": 48,
    "start_time": "2023-07-18T12:23:42.619Z"
   },
   {
    "duration": 13,
    "start_time": "2023-07-18T12:23:42.856Z"
   },
   {
    "duration": 7,
    "start_time": "2023-07-18T12:23:43.300Z"
   },
   {
    "duration": 26,
    "start_time": "2023-07-18T12:23:43.711Z"
   },
   {
    "duration": 42,
    "start_time": "2023-07-18T12:23:43.993Z"
   },
   {
    "duration": 18,
    "start_time": "2023-07-18T12:23:44.140Z"
   },
   {
    "duration": 3,
    "start_time": "2023-07-18T12:23:44.599Z"
   },
   {
    "duration": 15,
    "start_time": "2023-07-18T12:23:44.993Z"
   },
   {
    "duration": 7,
    "start_time": "2023-07-18T12:23:46.377Z"
   },
   {
    "duration": 4,
    "start_time": "2023-07-18T12:23:47.491Z"
   },
   {
    "duration": 7,
    "start_time": "2023-07-18T12:23:47.650Z"
   },
   {
    "duration": 7,
    "start_time": "2023-07-18T12:23:48.087Z"
   },
   {
    "duration": 2,
    "start_time": "2023-07-18T12:23:48.492Z"
   },
   {
    "duration": 1870,
    "start_time": "2023-07-18T12:24:32.255Z"
   },
   {
    "duration": 7,
    "start_time": "2023-07-18T12:24:39.336Z"
   },
   {
    "duration": 7,
    "start_time": "2023-07-18T12:39:19.456Z"
   },
   {
    "duration": 6,
    "start_time": "2023-07-18T12:39:28.172Z"
   },
   {
    "duration": 10,
    "start_time": "2023-07-18T12:39:41.997Z"
   },
   {
    "duration": 6,
    "start_time": "2023-07-18T12:39:56.454Z"
   },
   {
    "duration": 8,
    "start_time": "2023-07-18T12:40:19.866Z"
   },
   {
    "duration": 8,
    "start_time": "2023-07-18T12:52:10.050Z"
   },
   {
    "duration": 10,
    "start_time": "2023-07-18T12:52:16.862Z"
   },
   {
    "duration": 11,
    "start_time": "2023-07-18T12:53:21.908Z"
   },
   {
    "duration": 13,
    "start_time": "2023-07-18T12:53:45.218Z"
   },
   {
    "duration": 9,
    "start_time": "2023-07-18T12:54:28.356Z"
   },
   {
    "duration": 8,
    "start_time": "2023-07-18T13:06:07.613Z"
   },
   {
    "duration": 9,
    "start_time": "2023-07-18T14:01:31.617Z"
   },
   {
    "duration": 7,
    "start_time": "2023-07-18T14:01:38.449Z"
   },
   {
    "duration": 566,
    "start_time": "2023-07-18T14:51:33.691Z"
   },
   {
    "duration": 21,
    "start_time": "2023-07-18T14:51:34.259Z"
   },
   {
    "duration": 14,
    "start_time": "2023-07-18T14:51:34.282Z"
   },
   {
    "duration": 16,
    "start_time": "2023-07-18T14:51:34.297Z"
   },
   {
    "duration": 54,
    "start_time": "2023-07-18T14:51:34.314Z"
   },
   {
    "duration": 4,
    "start_time": "2023-07-18T14:51:34.370Z"
   },
   {
    "duration": 13,
    "start_time": "2023-07-18T14:51:34.375Z"
   },
   {
    "duration": 11,
    "start_time": "2023-07-18T14:51:34.390Z"
   },
   {
    "duration": 20,
    "start_time": "2023-07-18T14:51:34.402Z"
   },
   {
    "duration": 26,
    "start_time": "2023-07-18T14:51:34.424Z"
   },
   {
    "duration": 36,
    "start_time": "2023-07-18T14:51:34.452Z"
   },
   {
    "duration": 9,
    "start_time": "2023-07-18T14:51:34.490Z"
   },
   {
    "duration": 3,
    "start_time": "2023-07-18T14:51:34.500Z"
   },
   {
    "duration": 18,
    "start_time": "2023-07-18T14:51:34.504Z"
   },
   {
    "duration": 21,
    "start_time": "2023-07-18T14:51:34.524Z"
   },
   {
    "duration": 17,
    "start_time": "2023-07-18T14:51:34.567Z"
   },
   {
    "duration": 13,
    "start_time": "2023-07-18T14:51:34.586Z"
   },
   {
    "duration": 36,
    "start_time": "2023-07-18T14:51:34.600Z"
   },
   {
    "duration": 23,
    "start_time": "2023-07-18T14:51:34.638Z"
   },
   {
    "duration": 14,
    "start_time": "2023-07-18T14:51:34.663Z"
   },
   {
    "duration": 28,
    "start_time": "2023-07-18T14:51:34.679Z"
   },
   {
    "duration": 12,
    "start_time": "2023-07-18T14:51:34.709Z"
   },
   {
    "duration": 17,
    "start_time": "2023-07-18T14:51:34.723Z"
   },
   {
    "duration": 14,
    "start_time": "2023-07-18T14:51:34.742Z"
   },
   {
    "duration": 23,
    "start_time": "2023-07-18T14:51:34.757Z"
   },
   {
    "duration": 182,
    "start_time": "2023-07-19T10:33:34.699Z"
   },
   {
    "duration": 44,
    "start_time": "2023-07-19T10:33:49.152Z"
   },
   {
    "duration": 651,
    "start_time": "2023-07-19T10:34:04.228Z"
   },
   {
    "duration": 20,
    "start_time": "2023-07-19T10:34:04.880Z"
   },
   {
    "duration": 13,
    "start_time": "2023-07-19T10:34:04.902Z"
   },
   {
    "duration": 30,
    "start_time": "2023-07-19T10:34:04.917Z"
   },
   {
    "duration": 45,
    "start_time": "2023-07-19T10:34:04.948Z"
   },
   {
    "duration": 8,
    "start_time": "2023-07-19T10:34:04.994Z"
   },
   {
    "duration": 30,
    "start_time": "2023-07-19T10:34:05.003Z"
   },
   {
    "duration": 18,
    "start_time": "2023-07-19T10:34:05.034Z"
   },
   {
    "duration": 28,
    "start_time": "2023-07-19T10:34:05.053Z"
   },
   {
    "duration": 16,
    "start_time": "2023-07-19T10:34:05.083Z"
   },
   {
    "duration": 40,
    "start_time": "2023-07-19T10:34:05.100Z"
   },
   {
    "duration": 8,
    "start_time": "2023-07-19T10:34:05.142Z"
   },
   {
    "duration": 26,
    "start_time": "2023-07-19T10:34:05.152Z"
   },
   {
    "duration": 11,
    "start_time": "2023-07-19T10:34:05.179Z"
   },
   {
    "duration": 29,
    "start_time": "2023-07-19T10:34:05.191Z"
   },
   {
    "duration": 18,
    "start_time": "2023-07-19T10:34:05.222Z"
   },
   {
    "duration": 21,
    "start_time": "2023-07-19T10:34:05.242Z"
   },
   {
    "duration": 18,
    "start_time": "2023-07-19T10:34:05.264Z"
   },
   {
    "duration": 8,
    "start_time": "2023-07-19T10:34:05.284Z"
   },
   {
    "duration": 26,
    "start_time": "2023-07-19T10:34:05.294Z"
   },
   {
    "duration": 48,
    "start_time": "2023-07-19T10:34:05.322Z"
   },
   {
    "duration": 43,
    "start_time": "2023-07-19T10:34:05.372Z"
   },
   {
    "duration": 37,
    "start_time": "2023-07-19T10:34:05.417Z"
   },
   {
    "duration": 18,
    "start_time": "2023-07-19T10:34:05.456Z"
   },
   {
    "duration": 15,
    "start_time": "2023-07-19T10:34:05.476Z"
   },
   {
    "duration": 23,
    "start_time": "2023-07-19T10:36:03.641Z"
   },
   {
    "duration": 8,
    "start_time": "2023-07-19T10:38:26.326Z"
   },
   {
    "duration": 11,
    "start_time": "2023-07-19T10:38:32.437Z"
   },
   {
    "duration": 14,
    "start_time": "2023-07-19T10:38:53.326Z"
   },
   {
    "duration": 85,
    "start_time": "2023-07-19T10:41:35.677Z"
   },
   {
    "duration": 8,
    "start_time": "2023-07-19T10:42:01.011Z"
   },
   {
    "duration": 135,
    "start_time": "2023-07-19T10:42:49.252Z"
   },
   {
    "duration": 11,
    "start_time": "2023-07-19T10:43:39.360Z"
   },
   {
    "duration": 9,
    "start_time": "2023-07-19T10:44:10.050Z"
   },
   {
    "duration": 10,
    "start_time": "2023-07-19T10:44:53.195Z"
   },
   {
    "duration": 10,
    "start_time": "2023-07-19T10:45:37.936Z"
   },
   {
    "duration": 9,
    "start_time": "2023-07-19T10:45:55.015Z"
   },
   {
    "duration": 8,
    "start_time": "2023-07-19T10:46:09.110Z"
   },
   {
    "duration": 9,
    "start_time": "2023-07-19T10:46:13.216Z"
   },
   {
    "duration": 2878,
    "start_time": "2023-07-19T10:47:14.180Z"
   },
   {
    "duration": 2700,
    "start_time": "2023-07-19T10:47:34.948Z"
   },
   {
    "duration": 487,
    "start_time": "2023-07-19T10:47:44.386Z"
   },
   {
    "duration": 20,
    "start_time": "2023-07-19T10:47:44.875Z"
   },
   {
    "duration": 39,
    "start_time": "2023-07-19T10:47:44.896Z"
   },
   {
    "duration": 14,
    "start_time": "2023-07-19T10:47:44.937Z"
   },
   {
    "duration": 55,
    "start_time": "2023-07-19T10:47:44.953Z"
   },
   {
    "duration": 3,
    "start_time": "2023-07-19T10:47:45.010Z"
   },
   {
    "duration": 77,
    "start_time": "2023-07-19T10:47:45.014Z"
   },
   {
    "duration": 31,
    "start_time": "2023-07-19T10:47:45.092Z"
   },
   {
    "duration": 35,
    "start_time": "2023-07-19T10:47:45.125Z"
   },
   {
    "duration": 25,
    "start_time": "2023-07-19T10:47:45.162Z"
   },
   {
    "duration": 40,
    "start_time": "2023-07-19T10:47:45.188Z"
   },
   {
    "duration": 8,
    "start_time": "2023-07-19T10:47:45.230Z"
   },
   {
    "duration": 5,
    "start_time": "2023-07-19T10:47:45.240Z"
   },
   {
    "duration": 32,
    "start_time": "2023-07-19T10:47:45.246Z"
   },
   {
    "duration": 33,
    "start_time": "2023-07-19T10:47:45.280Z"
   },
   {
    "duration": 19,
    "start_time": "2023-07-19T10:47:45.314Z"
   },
   {
    "duration": 30,
    "start_time": "2023-07-19T10:47:45.334Z"
   },
   {
    "duration": 47,
    "start_time": "2023-07-19T10:47:45.365Z"
   },
   {
    "duration": 29,
    "start_time": "2023-07-19T10:47:45.413Z"
   },
   {
    "duration": 15,
    "start_time": "2023-07-19T10:47:45.443Z"
   },
   {
    "duration": 27,
    "start_time": "2023-07-19T10:47:45.459Z"
   },
   {
    "duration": 3309,
    "start_time": "2023-07-19T10:47:45.487Z"
   },
   {
    "duration": 0,
    "start_time": "2023-07-19T10:47:48.798Z"
   },
   {
    "duration": 0,
    "start_time": "2023-07-19T10:47:48.799Z"
   },
   {
    "duration": 0,
    "start_time": "2023-07-19T10:47:48.800Z"
   },
   {
    "duration": 7,
    "start_time": "2023-07-19T10:48:04.741Z"
   },
   {
    "duration": 9,
    "start_time": "2023-07-19T10:48:54.286Z"
   },
   {
    "duration": 6,
    "start_time": "2023-07-19T10:49:08.281Z"
   },
   {
    "duration": 8,
    "start_time": "2023-07-19T10:49:19.975Z"
   },
   {
    "duration": 2265,
    "start_time": "2023-07-19T10:53:24.155Z"
   },
   {
    "duration": 8,
    "start_time": "2023-07-19T10:53:43.774Z"
   },
   {
    "duration": 8,
    "start_time": "2023-07-19T10:53:48.566Z"
   },
   {
    "duration": 15,
    "start_time": "2023-07-19T10:55:20.086Z"
   },
   {
    "duration": 14,
    "start_time": "2023-07-19T10:56:36.182Z"
   },
   {
    "duration": 13,
    "start_time": "2023-07-19T10:57:01.146Z"
   },
   {
    "duration": 15,
    "start_time": "2023-07-19T10:57:45.521Z"
   },
   {
    "duration": 9,
    "start_time": "2023-07-19T11:01:13.374Z"
   },
   {
    "duration": 7,
    "start_time": "2023-07-19T11:02:33.723Z"
   },
   {
    "duration": 189,
    "start_time": "2023-07-19T11:03:35.520Z"
   },
   {
    "duration": 160,
    "start_time": "2023-07-19T11:03:53.707Z"
   },
   {
    "duration": 459,
    "start_time": "2023-07-19T11:04:28.621Z"
   },
   {
    "duration": 25,
    "start_time": "2023-07-19T11:04:29.082Z"
   },
   {
    "duration": 14,
    "start_time": "2023-07-19T11:04:29.109Z"
   },
   {
    "duration": 23,
    "start_time": "2023-07-19T11:04:29.125Z"
   },
   {
    "duration": 67,
    "start_time": "2023-07-19T11:04:29.149Z"
   },
   {
    "duration": 3,
    "start_time": "2023-07-19T11:04:29.217Z"
   },
   {
    "duration": 19,
    "start_time": "2023-07-19T11:04:29.222Z"
   },
   {
    "duration": 24,
    "start_time": "2023-07-19T11:04:29.243Z"
   },
   {
    "duration": 19,
    "start_time": "2023-07-19T11:04:29.269Z"
   },
   {
    "duration": 16,
    "start_time": "2023-07-19T11:04:29.293Z"
   },
   {
    "duration": 60,
    "start_time": "2023-07-19T11:04:29.311Z"
   },
   {
    "duration": 23,
    "start_time": "2023-07-19T11:04:29.373Z"
   },
   {
    "duration": 42,
    "start_time": "2023-07-19T11:04:29.398Z"
   },
   {
    "duration": 24,
    "start_time": "2023-07-19T11:04:29.442Z"
   },
   {
    "duration": 37,
    "start_time": "2023-07-19T11:04:29.467Z"
   },
   {
    "duration": 26,
    "start_time": "2023-07-19T11:04:29.507Z"
   },
   {
    "duration": 4,
    "start_time": "2023-07-19T11:04:29.534Z"
   },
   {
    "duration": 21,
    "start_time": "2023-07-19T11:04:29.539Z"
   },
   {
    "duration": 24,
    "start_time": "2023-07-19T11:04:29.561Z"
   },
   {
    "duration": 38,
    "start_time": "2023-07-19T11:04:29.586Z"
   },
   {
    "duration": 45,
    "start_time": "2023-07-19T11:04:29.625Z"
   },
   {
    "duration": 445,
    "start_time": "2023-07-19T11:04:29.671Z"
   },
   {
    "duration": 0,
    "start_time": "2023-07-19T11:04:30.118Z"
   },
   {
    "duration": 0,
    "start_time": "2023-07-19T11:04:30.120Z"
   },
   {
    "duration": 0,
    "start_time": "2023-07-19T11:04:30.120Z"
   },
   {
    "duration": 152,
    "start_time": "2023-07-19T11:04:58.560Z"
   },
   {
    "duration": 419,
    "start_time": "2023-07-19T11:05:03.437Z"
   },
   {
    "duration": 142,
    "start_time": "2023-07-19T11:05:14.113Z"
   },
   {
    "duration": 9,
    "start_time": "2023-07-19T11:10:11.489Z"
   },
   {
    "duration": 8,
    "start_time": "2023-07-19T11:16:10.649Z"
   },
   {
    "duration": 9,
    "start_time": "2023-07-19T11:16:28.885Z"
   },
   {
    "duration": 12,
    "start_time": "2023-07-19T11:16:46.177Z"
   },
   {
    "duration": 9,
    "start_time": "2023-07-19T11:17:08.430Z"
   },
   {
    "duration": 10,
    "start_time": "2023-07-19T11:17:26.655Z"
   },
   {
    "duration": 8,
    "start_time": "2023-07-19T11:18:12.893Z"
   },
   {
    "duration": 2603,
    "start_time": "2023-07-19T11:18:40.074Z"
   },
   {
    "duration": 7,
    "start_time": "2023-07-19T11:19:03.193Z"
   },
   {
    "duration": 12,
    "start_time": "2023-07-19T11:19:23.690Z"
   },
   {
    "duration": 16,
    "start_time": "2023-07-19T11:19:32.094Z"
   },
   {
    "duration": 13,
    "start_time": "2023-07-19T11:20:06.947Z"
   },
   {
    "duration": 11,
    "start_time": "2023-07-19T11:20:28.525Z"
   },
   {
    "duration": 10,
    "start_time": "2023-07-19T11:20:39.313Z"
   },
   {
    "duration": 2422,
    "start_time": "2023-07-19T11:27:33.690Z"
   },
   {
    "duration": 3834,
    "start_time": "2023-07-19T11:29:01.554Z"
   },
   {
    "duration": 7,
    "start_time": "2023-07-19T11:35:12.167Z"
   },
   {
    "duration": 9,
    "start_time": "2023-07-19T11:35:20.662Z"
   },
   {
    "duration": 1710,
    "start_time": "2023-07-19T11:37:03.813Z"
   },
   {
    "duration": 20,
    "start_time": "2023-07-19T11:37:45.833Z"
   },
   {
    "duration": 12,
    "start_time": "2023-07-19T11:38:48.203Z"
   },
   {
    "duration": 9,
    "start_time": "2023-07-19T11:38:56.022Z"
   },
   {
    "duration": 9,
    "start_time": "2023-07-19T11:39:53.883Z"
   },
   {
    "duration": 18,
    "start_time": "2023-07-19T11:43:13.683Z"
   },
   {
    "duration": 22,
    "start_time": "2023-07-19T11:45:25.073Z"
   },
   {
    "duration": 507,
    "start_time": "2023-07-19T11:54:20.456Z"
   },
   {
    "duration": 475,
    "start_time": "2023-07-19T11:54:52.902Z"
   },
   {
    "duration": 123,
    "start_time": "2023-07-19T11:56:23.206Z"
   },
   {
    "duration": 15,
    "start_time": "2023-07-19T11:59:38.733Z"
   },
   {
    "duration": 24,
    "start_time": "2023-07-19T12:08:06.687Z"
   },
   {
    "duration": 16,
    "start_time": "2023-07-19T12:09:35.835Z"
   },
   {
    "duration": 27,
    "start_time": "2023-07-19T12:25:07.886Z"
   },
   {
    "duration": 19,
    "start_time": "2023-07-19T12:31:22.928Z"
   },
   {
    "duration": 14,
    "start_time": "2023-07-19T12:31:26.550Z"
   },
   {
    "duration": 19,
    "start_time": "2023-07-19T12:31:53.648Z"
   },
   {
    "duration": 20,
    "start_time": "2023-07-19T12:33:10.212Z"
   },
   {
    "duration": 19,
    "start_time": "2023-07-19T12:33:19.131Z"
   },
   {
    "duration": 19,
    "start_time": "2023-07-19T12:33:25.926Z"
   },
   {
    "duration": 20,
    "start_time": "2023-07-19T12:36:17.255Z"
   },
   {
    "duration": 19,
    "start_time": "2023-07-19T12:36:38.968Z"
   },
   {
    "duration": 19,
    "start_time": "2023-07-19T12:37:16.892Z"
   },
   {
    "duration": 26,
    "start_time": "2023-07-19T12:42:37.398Z"
   },
   {
    "duration": 18,
    "start_time": "2023-07-19T12:44:09.637Z"
   },
   {
    "duration": 19,
    "start_time": "2023-07-19T12:45:17.689Z"
   },
   {
    "duration": 19,
    "start_time": "2023-07-19T12:45:24.507Z"
   },
   {
    "duration": 19,
    "start_time": "2023-07-19T12:47:58.848Z"
   },
   {
    "duration": 19,
    "start_time": "2023-07-19T12:48:52.894Z"
   },
   {
    "duration": 21,
    "start_time": "2023-07-19T12:53:27.004Z"
   },
   {
    "duration": 23,
    "start_time": "2023-07-19T12:55:19.224Z"
   },
   {
    "duration": 23,
    "start_time": "2023-07-19T12:55:50.072Z"
   },
   {
    "duration": 16,
    "start_time": "2023-07-19T12:57:41.347Z"
   },
   {
    "duration": 20,
    "start_time": "2023-07-19T12:59:43.885Z"
   },
   {
    "duration": 25,
    "start_time": "2023-07-19T13:00:59.249Z"
   },
   {
    "duration": 475,
    "start_time": "2023-07-19T13:50:25.712Z"
   },
   {
    "duration": 25,
    "start_time": "2023-07-19T13:50:26.190Z"
   },
   {
    "duration": 25,
    "start_time": "2023-07-19T13:50:26.217Z"
   },
   {
    "duration": 13,
    "start_time": "2023-07-19T13:50:26.244Z"
   },
   {
    "duration": 55,
    "start_time": "2023-07-19T13:50:26.258Z"
   },
   {
    "duration": 3,
    "start_time": "2023-07-19T13:50:26.315Z"
   },
   {
    "duration": 16,
    "start_time": "2023-07-19T13:50:26.319Z"
   },
   {
    "duration": 13,
    "start_time": "2023-07-19T13:50:26.337Z"
   },
   {
    "duration": 28,
    "start_time": "2023-07-19T13:50:26.351Z"
   },
   {
    "duration": 6,
    "start_time": "2023-07-19T13:50:26.381Z"
   },
   {
    "duration": 40,
    "start_time": "2023-07-19T13:50:26.389Z"
   },
   {
    "duration": 9,
    "start_time": "2023-07-19T13:50:26.431Z"
   },
   {
    "duration": 3,
    "start_time": "2023-07-19T13:50:26.442Z"
   },
   {
    "duration": 17,
    "start_time": "2023-07-19T13:50:26.446Z"
   },
   {
    "duration": 32,
    "start_time": "2023-07-19T13:50:26.464Z"
   },
   {
    "duration": 29,
    "start_time": "2023-07-19T13:50:26.498Z"
   },
   {
    "duration": 16,
    "start_time": "2023-07-19T13:50:26.528Z"
   },
   {
    "duration": 35,
    "start_time": "2023-07-19T13:50:26.546Z"
   },
   {
    "duration": 39,
    "start_time": "2023-07-19T13:50:26.583Z"
   },
   {
    "duration": 20,
    "start_time": "2023-07-19T13:50:26.624Z"
   },
   {
    "duration": 16,
    "start_time": "2023-07-19T13:50:26.646Z"
   },
   {
    "duration": 28,
    "start_time": "2023-07-19T13:50:26.663Z"
   },
   {
    "duration": 22,
    "start_time": "2023-07-19T13:50:26.693Z"
   },
   {
    "duration": 29,
    "start_time": "2023-07-19T13:50:26.716Z"
   },
   {
    "duration": 26,
    "start_time": "2023-07-19T13:50:26.746Z"
   },
   {
    "duration": 444,
    "start_time": "2023-07-19T14:36:22.996Z"
   },
   {
    "duration": 30,
    "start_time": "2023-07-19T14:36:23.442Z"
   },
   {
    "duration": 20,
    "start_time": "2023-07-19T14:36:23.474Z"
   },
   {
    "duration": 11,
    "start_time": "2023-07-19T14:36:23.496Z"
   },
   {
    "duration": 58,
    "start_time": "2023-07-19T14:36:23.508Z"
   },
   {
    "duration": 3,
    "start_time": "2023-07-19T14:36:23.568Z"
   },
   {
    "duration": 17,
    "start_time": "2023-07-19T14:36:23.573Z"
   },
   {
    "duration": 16,
    "start_time": "2023-07-19T14:36:23.591Z"
   },
   {
    "duration": 15,
    "start_time": "2023-07-19T14:36:23.609Z"
   },
   {
    "duration": 8,
    "start_time": "2023-07-19T14:36:23.628Z"
   },
   {
    "duration": 41,
    "start_time": "2023-07-19T14:36:23.638Z"
   },
   {
    "duration": 9,
    "start_time": "2023-07-19T14:36:23.681Z"
   },
   {
    "duration": 6,
    "start_time": "2023-07-19T14:36:23.691Z"
   },
   {
    "duration": 24,
    "start_time": "2023-07-19T14:36:23.698Z"
   },
   {
    "duration": 25,
    "start_time": "2023-07-19T14:36:23.723Z"
   },
   {
    "duration": 30,
    "start_time": "2023-07-19T14:36:23.750Z"
   },
   {
    "duration": 7,
    "start_time": "2023-07-19T14:36:23.782Z"
   },
   {
    "duration": 33,
    "start_time": "2023-07-19T14:36:23.790Z"
   },
   {
    "duration": 17,
    "start_time": "2023-07-19T14:36:23.825Z"
   },
   {
    "duration": 23,
    "start_time": "2023-07-19T14:36:23.844Z"
   },
   {
    "duration": 22,
    "start_time": "2023-07-19T14:36:23.869Z"
   },
   {
    "duration": 31,
    "start_time": "2023-07-19T14:36:23.893Z"
   },
   {
    "duration": 37,
    "start_time": "2023-07-19T14:36:23.926Z"
   },
   {
    "duration": 20,
    "start_time": "2023-07-19T14:36:23.965Z"
   },
   {
    "duration": 24,
    "start_time": "2023-07-19T14:36:23.987Z"
   },
   {
    "duration": 20,
    "start_time": "2023-07-19T14:36:24.013Z"
   }
  ],
  "colab": {
   "name": "dpp_template_part2.ipynb",
   "provenance": []
  },
  "kernelspec": {
   "display_name": "Python 3 (ipykernel)",
   "language": "python",
   "name": "python3"
  },
  "language_info": {
   "codemirror_mode": {
    "name": "ipython",
    "version": 3
   },
   "file_extension": ".py",
   "mimetype": "text/x-python",
   "name": "python",
   "nbconvert_exporter": "python",
   "pygments_lexer": "ipython3",
   "version": "3.9.5"
  },
  "toc": {
   "base_numbering": 1,
   "nav_menu": {},
   "number_sections": true,
   "sideBar": true,
   "skip_h1_title": true,
   "title_cell": "Table of Contents",
   "title_sidebar": "Contents",
   "toc_cell": false,
   "toc_position": {},
   "toc_section_display": true,
   "toc_window_display": true
  }
 },
 "nbformat": 4,
 "nbformat_minor": 5
}
