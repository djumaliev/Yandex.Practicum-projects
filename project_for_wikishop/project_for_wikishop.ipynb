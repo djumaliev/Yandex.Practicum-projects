{
 "cells": [
  {
   "cell_type": "markdown",
   "metadata": {},
   "source": [
    "# Project for \"Wikishop\""
   ]
  },
  {
   "cell_type": "markdown",
   "metadata": {},
   "source": [
    "The online store \"Wikishop\" is launching a new service. Now users can edit and supplement product descriptions, similar to wiki communities. In other words, customers suggest their edits and comment on changes made by others. The store needs a tool that will identify toxic comments and send them for moderation.\n",
    "\n",
    "Train a model to classify comments as positive or negative. You have a dataset with annotations indicating the toxicity of edits.\n",
    "\n",
    "Build a model with an F1 score of at least 0.75."
   ]
  },
  {
   "cell_type": "markdown",
   "metadata": {},
   "source": [
    "# Research plan:\n",
    "\n",
    "- Load and prepare the data.\n",
    "- Train different models.\n",
    "- Choose the most accurate model based on the training results.\n",
    "\n",
    "Data description:\n",
    "\n",
    "- text: The text of the comment.\n",
    "- toxic: The target label indicating toxicity.\n",
    "- The data is located in the file '/datasets/toxic_comments.csv'."
   ]
  },
  {
   "cell_type": "markdown",
   "metadata": {},
   "source": [
    "## Preparation"
   ]
  },
  {
   "cell_type": "markdown",
   "metadata": {},
   "source": [
    "We import all the necessary libraries."
   ]
  },
  {
   "cell_type": "code",
   "execution_count": 1,
   "metadata": {},
   "outputs": [],
   "source": [
    "import pandas as pd\n",
    "import matplotlib.pyplot as plt\n",
    "import numpy as np\n",
    "import seaborn as sns\n",
    "import os\n",
    "import lightgbm as lgb\n",
    "import time\n",
    "import torch\n",
    "import transformers\n",
    "import re\n",
    "import nltk\n",
    "import random\n",
    "import spacy\n",
    "import sys\n",
    "\n",
    "from sklearn.utils import resample\n",
    "from sklearn.tree import DecisionTreeClassifier\n",
    "from transformers import DistilBertTokenizer\n",
    "from transformers import DistilBertModel\n",
    "from scipy.sparse import vstack\n",
    "from sklearn.utils import shuffle\n",
    "from sklearn.model_selection import StratifiedKFold\n",
    "from tqdm.notebook import tqdm\n",
    "from sklearn.feature_extraction.text import CountVectorizer\n",
    "from sklearn.feature_extraction.text import TfidfVectorizer\n",
    "from tqdm import notebook\n",
    "from sklearn.ensemble import RandomForestClassifier\n",
    "from sklearn.linear_model import LogisticRegression\n",
    "from sklearn.model_selection import train_test_split\n",
    "from sklearn.metrics import f1_score\n",
    "from sklearn.model_selection import GridSearchCV"
   ]
  },
  {
   "cell_type": "markdown",
   "metadata": {},
   "source": [
    "Let's load the data from the dataset."
   ]
  },
  {
   "cell_type": "code",
   "execution_count": 2,
   "metadata": {
    "scrolled": true
   },
   "outputs": [
    {
     "name": "stdout",
     "output_type": "stream",
     "text": [
      "File loaded successfully. /Users/daniyardjumaliev/Jupyter/Projects/datasets/toxic_comments.csv\n"
     ]
    }
   ],
   "source": [
    "pths = ['/Users/daniyardjumaliev/Jupyter/Projects/datasets/toxic_comments.csv', 'backup_path1.csv']\n",
    "\n",
    "df = None\n",
    "\n",
    "for pth in pths:\n",
    "    try:\n",
    "        df = pd.read_csv(pth)\n",
    "        print(f'File loaded successfully. {pth}')\n",
    "    except FileNotFoundError:\n",
    "        continue\n",
    "\n",
    "if df is None:\n",
    "    print('Warning: File not found!')"
   ]
  },
  {
   "cell_type": "markdown",
   "metadata": {},
   "source": [
    "Display and check the data quality."
   ]
  },
  {
   "cell_type": "code",
   "execution_count": 3,
   "metadata": {},
   "outputs": [
    {
     "data": {
      "text/html": [
       "<div>\n",
       "<style scoped>\n",
       "    .dataframe tbody tr th:only-of-type {\n",
       "        vertical-align: middle;\n",
       "    }\n",
       "\n",
       "    .dataframe tbody tr th {\n",
       "        vertical-align: top;\n",
       "    }\n",
       "\n",
       "    .dataframe thead th {\n",
       "        text-align: right;\n",
       "    }\n",
       "</style>\n",
       "<table border=\"1\" class=\"dataframe\">\n",
       "  <thead>\n",
       "    <tr style=\"text-align: right;\">\n",
       "      <th></th>\n",
       "      <th>Unnamed: 0</th>\n",
       "      <th>text</th>\n",
       "      <th>toxic</th>\n",
       "    </tr>\n",
       "  </thead>\n",
       "  <tbody>\n",
       "    <tr>\n",
       "      <th>0</th>\n",
       "      <td>0</td>\n",
       "      <td>Explanation\\nWhy the edits made under my usern...</td>\n",
       "      <td>0</td>\n",
       "    </tr>\n",
       "    <tr>\n",
       "      <th>1</th>\n",
       "      <td>1</td>\n",
       "      <td>D'aww! He matches this background colour I'm s...</td>\n",
       "      <td>0</td>\n",
       "    </tr>\n",
       "    <tr>\n",
       "      <th>2</th>\n",
       "      <td>2</td>\n",
       "      <td>Hey man, I'm really not trying to edit war. It...</td>\n",
       "      <td>0</td>\n",
       "    </tr>\n",
       "    <tr>\n",
       "      <th>3</th>\n",
       "      <td>3</td>\n",
       "      <td>\"\\nMore\\nI can't make any real suggestions on ...</td>\n",
       "      <td>0</td>\n",
       "    </tr>\n",
       "    <tr>\n",
       "      <th>4</th>\n",
       "      <td>4</td>\n",
       "      <td>You, sir, are my hero. Any chance you remember...</td>\n",
       "      <td>0</td>\n",
       "    </tr>\n",
       "    <tr>\n",
       "      <th>5</th>\n",
       "      <td>5</td>\n",
       "      <td>\"\\n\\nCongratulations from me as well, use the ...</td>\n",
       "      <td>0</td>\n",
       "    </tr>\n",
       "    <tr>\n",
       "      <th>6</th>\n",
       "      <td>6</td>\n",
       "      <td>COCKSUCKER BEFORE YOU PISS AROUND ON MY WORK</td>\n",
       "      <td>1</td>\n",
       "    </tr>\n",
       "    <tr>\n",
       "      <th>7</th>\n",
       "      <td>7</td>\n",
       "      <td>Your vandalism to the Matt Shirvington article...</td>\n",
       "      <td>0</td>\n",
       "    </tr>\n",
       "    <tr>\n",
       "      <th>8</th>\n",
       "      <td>8</td>\n",
       "      <td>Sorry if the word 'nonsense' was offensive to ...</td>\n",
       "      <td>0</td>\n",
       "    </tr>\n",
       "    <tr>\n",
       "      <th>9</th>\n",
       "      <td>9</td>\n",
       "      <td>alignment on this subject and which are contra...</td>\n",
       "      <td>0</td>\n",
       "    </tr>\n",
       "  </tbody>\n",
       "</table>\n",
       "</div>"
      ],
      "text/plain": [
       "   Unnamed: 0                                               text  toxic\n",
       "0           0  Explanation\\nWhy the edits made under my usern...      0\n",
       "1           1  D'aww! He matches this background colour I'm s...      0\n",
       "2           2  Hey man, I'm really not trying to edit war. It...      0\n",
       "3           3  \"\\nMore\\nI can't make any real suggestions on ...      0\n",
       "4           4  You, sir, are my hero. Any chance you remember...      0\n",
       "5           5  \"\\n\\nCongratulations from me as well, use the ...      0\n",
       "6           6       COCKSUCKER BEFORE YOU PISS AROUND ON MY WORK      1\n",
       "7           7  Your vandalism to the Matt Shirvington article...      0\n",
       "8           8  Sorry if the word 'nonsense' was offensive to ...      0\n",
       "9           9  alignment on this subject and which are contra...      0"
      ]
     },
     "metadata": {},
     "output_type": "display_data"
    },
    {
     "data": {
      "text/html": [
       "<div>\n",
       "<style scoped>\n",
       "    .dataframe tbody tr th:only-of-type {\n",
       "        vertical-align: middle;\n",
       "    }\n",
       "\n",
       "    .dataframe tbody tr th {\n",
       "        vertical-align: top;\n",
       "    }\n",
       "\n",
       "    .dataframe thead th {\n",
       "        text-align: right;\n",
       "    }\n",
       "</style>\n",
       "<table border=\"1\" class=\"dataframe\">\n",
       "  <thead>\n",
       "    <tr style=\"text-align: right;\">\n",
       "      <th></th>\n",
       "      <th>Unnamed: 0</th>\n",
       "      <th>text</th>\n",
       "      <th>toxic</th>\n",
       "    </tr>\n",
       "  </thead>\n",
       "  <tbody>\n",
       "    <tr>\n",
       "      <th>159282</th>\n",
       "      <td>159441</td>\n",
       "      <td>\"\\nNo he did not, read it again (I would have ...</td>\n",
       "      <td>0</td>\n",
       "    </tr>\n",
       "    <tr>\n",
       "      <th>159283</th>\n",
       "      <td>159442</td>\n",
       "      <td>\"\\n Auto guides and the motoring press are not...</td>\n",
       "      <td>0</td>\n",
       "    </tr>\n",
       "    <tr>\n",
       "      <th>159284</th>\n",
       "      <td>159443</td>\n",
       "      <td>\"\\nplease identify what part of BLP applies be...</td>\n",
       "      <td>0</td>\n",
       "    </tr>\n",
       "    <tr>\n",
       "      <th>159285</th>\n",
       "      <td>159444</td>\n",
       "      <td>Catalan independentism is the social movement ...</td>\n",
       "      <td>0</td>\n",
       "    </tr>\n",
       "    <tr>\n",
       "      <th>159286</th>\n",
       "      <td>159445</td>\n",
       "      <td>The numbers in parentheses are the additional ...</td>\n",
       "      <td>0</td>\n",
       "    </tr>\n",
       "    <tr>\n",
       "      <th>159287</th>\n",
       "      <td>159446</td>\n",
       "      <td>\":::::And for the second time of asking, when ...</td>\n",
       "      <td>0</td>\n",
       "    </tr>\n",
       "    <tr>\n",
       "      <th>159288</th>\n",
       "      <td>159447</td>\n",
       "      <td>You should be ashamed of yourself \\n\\nThat is ...</td>\n",
       "      <td>0</td>\n",
       "    </tr>\n",
       "    <tr>\n",
       "      <th>159289</th>\n",
       "      <td>159448</td>\n",
       "      <td>Spitzer \\n\\nUmm, theres no actual article for ...</td>\n",
       "      <td>0</td>\n",
       "    </tr>\n",
       "    <tr>\n",
       "      <th>159290</th>\n",
       "      <td>159449</td>\n",
       "      <td>And it looks like it was actually you who put ...</td>\n",
       "      <td>0</td>\n",
       "    </tr>\n",
       "    <tr>\n",
       "      <th>159291</th>\n",
       "      <td>159450</td>\n",
       "      <td>\"\\nAnd ... I really don't think you understand...</td>\n",
       "      <td>0</td>\n",
       "    </tr>\n",
       "  </tbody>\n",
       "</table>\n",
       "</div>"
      ],
      "text/plain": [
       "        Unnamed: 0                                               text  toxic\n",
       "159282      159441  \"\\nNo he did not, read it again (I would have ...      0\n",
       "159283      159442  \"\\n Auto guides and the motoring press are not...      0\n",
       "159284      159443  \"\\nplease identify what part of BLP applies be...      0\n",
       "159285      159444  Catalan independentism is the social movement ...      0\n",
       "159286      159445  The numbers in parentheses are the additional ...      0\n",
       "159287      159446  \":::::And for the second time of asking, when ...      0\n",
       "159288      159447  You should be ashamed of yourself \\n\\nThat is ...      0\n",
       "159289      159448  Spitzer \\n\\nUmm, theres no actual article for ...      0\n",
       "159290      159449  And it looks like it was actually you who put ...      0\n",
       "159291      159450  \"\\nAnd ... I really don't think you understand...      0"
      ]
     },
     "metadata": {},
     "output_type": "display_data"
    },
    {
     "data": {
      "text/html": [
       "<div>\n",
       "<style scoped>\n",
       "    .dataframe tbody tr th:only-of-type {\n",
       "        vertical-align: middle;\n",
       "    }\n",
       "\n",
       "    .dataframe tbody tr th {\n",
       "        vertical-align: top;\n",
       "    }\n",
       "\n",
       "    .dataframe thead th {\n",
       "        text-align: right;\n",
       "    }\n",
       "</style>\n",
       "<table border=\"1\" class=\"dataframe\">\n",
       "  <thead>\n",
       "    <tr style=\"text-align: right;\">\n",
       "      <th></th>\n",
       "      <th>Unnamed: 0</th>\n",
       "      <th>toxic</th>\n",
       "    </tr>\n",
       "  </thead>\n",
       "  <tbody>\n",
       "    <tr>\n",
       "      <th>count</th>\n",
       "      <td>159292.000000</td>\n",
       "      <td>159292.000000</td>\n",
       "    </tr>\n",
       "    <tr>\n",
       "      <th>mean</th>\n",
       "      <td>79725.697242</td>\n",
       "      <td>0.101612</td>\n",
       "    </tr>\n",
       "    <tr>\n",
       "      <th>std</th>\n",
       "      <td>46028.837471</td>\n",
       "      <td>0.302139</td>\n",
       "    </tr>\n",
       "    <tr>\n",
       "      <th>min</th>\n",
       "      <td>0.000000</td>\n",
       "      <td>0.000000</td>\n",
       "    </tr>\n",
       "    <tr>\n",
       "      <th>25%</th>\n",
       "      <td>39872.750000</td>\n",
       "      <td>0.000000</td>\n",
       "    </tr>\n",
       "    <tr>\n",
       "      <th>50%</th>\n",
       "      <td>79721.500000</td>\n",
       "      <td>0.000000</td>\n",
       "    </tr>\n",
       "    <tr>\n",
       "      <th>75%</th>\n",
       "      <td>119573.250000</td>\n",
       "      <td>0.000000</td>\n",
       "    </tr>\n",
       "    <tr>\n",
       "      <th>max</th>\n",
       "      <td>159450.000000</td>\n",
       "      <td>1.000000</td>\n",
       "    </tr>\n",
       "  </tbody>\n",
       "</table>\n",
       "</div>"
      ],
      "text/plain": [
       "          Unnamed: 0          toxic\n",
       "count  159292.000000  159292.000000\n",
       "mean    79725.697242       0.101612\n",
       "std     46028.837471       0.302139\n",
       "min         0.000000       0.000000\n",
       "25%     39872.750000       0.000000\n",
       "50%     79721.500000       0.000000\n",
       "75%    119573.250000       0.000000\n",
       "max    159450.000000       1.000000"
      ]
     },
     "metadata": {},
     "output_type": "display_data"
    },
    {
     "name": "stdout",
     "output_type": "stream",
     "text": [
      "<class 'pandas.core.frame.DataFrame'>\n",
      "RangeIndex: 159292 entries, 0 to 159291\n",
      "Data columns (total 3 columns):\n",
      " #   Column      Non-Null Count   Dtype \n",
      "---  ------      --------------   ----- \n",
      " 0   Unnamed: 0  159292 non-null  int64 \n",
      " 1   text        159292 non-null  object\n",
      " 2   toxic       159292 non-null  int64 \n",
      "dtypes: int64(2), object(1)\n",
      "memory usage: 3.6+ MB\n"
     ]
    },
    {
     "data": {
      "text/plain": [
       "'Duplicates: 0'"
      ]
     },
     "metadata": {},
     "output_type": "display_data"
    },
    {
     "data": {
      "text/plain": [
       "'Misiing values:'"
      ]
     },
     "metadata": {},
     "output_type": "display_data"
    },
    {
     "data": {
      "text/plain": [
       "Unnamed: 0    0\n",
       "text          0\n",
       "toxic         0\n",
       "dtype: int64"
      ]
     },
     "metadata": {},
     "output_type": "display_data"
    }
   ],
   "source": [
    "display(df.head(10))\n",
    "display(df.tail(10))\n",
    "display(df.describe())\n",
    "df.info()\n",
    "display(f'Duplicates: {df.duplicated().sum()}')\n",
    "display(f'Misiing values:')\n",
    "display(df.isna().sum())"
   ]
  },
  {
   "cell_type": "markdown",
   "metadata": {},
   "source": [
    "Let's remove the column \"Unnamed: 0\" as it simply duplicates the indices."
   ]
  },
  {
   "cell_type": "code",
   "execution_count": 4,
   "metadata": {},
   "outputs": [
    {
     "data": {
      "text/html": [
       "<div>\n",
       "<style scoped>\n",
       "    .dataframe tbody tr th:only-of-type {\n",
       "        vertical-align: middle;\n",
       "    }\n",
       "\n",
       "    .dataframe tbody tr th {\n",
       "        vertical-align: top;\n",
       "    }\n",
       "\n",
       "    .dataframe thead th {\n",
       "        text-align: right;\n",
       "    }\n",
       "</style>\n",
       "<table border=\"1\" class=\"dataframe\">\n",
       "  <thead>\n",
       "    <tr style=\"text-align: right;\">\n",
       "      <th></th>\n",
       "      <th>text</th>\n",
       "      <th>toxic</th>\n",
       "    </tr>\n",
       "  </thead>\n",
       "  <tbody>\n",
       "    <tr>\n",
       "      <th>0</th>\n",
       "      <td>Explanation\\nWhy the edits made under my usern...</td>\n",
       "      <td>0</td>\n",
       "    </tr>\n",
       "    <tr>\n",
       "      <th>1</th>\n",
       "      <td>D'aww! He matches this background colour I'm s...</td>\n",
       "      <td>0</td>\n",
       "    </tr>\n",
       "    <tr>\n",
       "      <th>2</th>\n",
       "      <td>Hey man, I'm really not trying to edit war. It...</td>\n",
       "      <td>0</td>\n",
       "    </tr>\n",
       "    <tr>\n",
       "      <th>3</th>\n",
       "      <td>\"\\nMore\\nI can't make any real suggestions on ...</td>\n",
       "      <td>0</td>\n",
       "    </tr>\n",
       "    <tr>\n",
       "      <th>4</th>\n",
       "      <td>You, sir, are my hero. Any chance you remember...</td>\n",
       "      <td>0</td>\n",
       "    </tr>\n",
       "    <tr>\n",
       "      <th>5</th>\n",
       "      <td>\"\\n\\nCongratulations from me as well, use the ...</td>\n",
       "      <td>0</td>\n",
       "    </tr>\n",
       "    <tr>\n",
       "      <th>6</th>\n",
       "      <td>COCKSUCKER BEFORE YOU PISS AROUND ON MY WORK</td>\n",
       "      <td>1</td>\n",
       "    </tr>\n",
       "    <tr>\n",
       "      <th>7</th>\n",
       "      <td>Your vandalism to the Matt Shirvington article...</td>\n",
       "      <td>0</td>\n",
       "    </tr>\n",
       "    <tr>\n",
       "      <th>8</th>\n",
       "      <td>Sorry if the word 'nonsense' was offensive to ...</td>\n",
       "      <td>0</td>\n",
       "    </tr>\n",
       "    <tr>\n",
       "      <th>9</th>\n",
       "      <td>alignment on this subject and which are contra...</td>\n",
       "      <td>0</td>\n",
       "    </tr>\n",
       "  </tbody>\n",
       "</table>\n",
       "</div>"
      ],
      "text/plain": [
       "                                                text  toxic\n",
       "0  Explanation\\nWhy the edits made under my usern...      0\n",
       "1  D'aww! He matches this background colour I'm s...      0\n",
       "2  Hey man, I'm really not trying to edit war. It...      0\n",
       "3  \"\\nMore\\nI can't make any real suggestions on ...      0\n",
       "4  You, sir, are my hero. Any chance you remember...      0\n",
       "5  \"\\n\\nCongratulations from me as well, use the ...      0\n",
       "6       COCKSUCKER BEFORE YOU PISS AROUND ON MY WORK      1\n",
       "7  Your vandalism to the Matt Shirvington article...      0\n",
       "8  Sorry if the word 'nonsense' was offensive to ...      0\n",
       "9  alignment on this subject and which are contra...      0"
      ]
     },
     "metadata": {},
     "output_type": "display_data"
    },
    {
     "data": {
      "text/html": [
       "<div>\n",
       "<style scoped>\n",
       "    .dataframe tbody tr th:only-of-type {\n",
       "        vertical-align: middle;\n",
       "    }\n",
       "\n",
       "    .dataframe tbody tr th {\n",
       "        vertical-align: top;\n",
       "    }\n",
       "\n",
       "    .dataframe thead th {\n",
       "        text-align: right;\n",
       "    }\n",
       "</style>\n",
       "<table border=\"1\" class=\"dataframe\">\n",
       "  <thead>\n",
       "    <tr style=\"text-align: right;\">\n",
       "      <th></th>\n",
       "      <th>text</th>\n",
       "      <th>toxic</th>\n",
       "    </tr>\n",
       "  </thead>\n",
       "  <tbody>\n",
       "    <tr>\n",
       "      <th>159282</th>\n",
       "      <td>\"\\nNo he did not, read it again (I would have ...</td>\n",
       "      <td>0</td>\n",
       "    </tr>\n",
       "    <tr>\n",
       "      <th>159283</th>\n",
       "      <td>\"\\n Auto guides and the motoring press are not...</td>\n",
       "      <td>0</td>\n",
       "    </tr>\n",
       "    <tr>\n",
       "      <th>159284</th>\n",
       "      <td>\"\\nplease identify what part of BLP applies be...</td>\n",
       "      <td>0</td>\n",
       "    </tr>\n",
       "    <tr>\n",
       "      <th>159285</th>\n",
       "      <td>Catalan independentism is the social movement ...</td>\n",
       "      <td>0</td>\n",
       "    </tr>\n",
       "    <tr>\n",
       "      <th>159286</th>\n",
       "      <td>The numbers in parentheses are the additional ...</td>\n",
       "      <td>0</td>\n",
       "    </tr>\n",
       "    <tr>\n",
       "      <th>159287</th>\n",
       "      <td>\":::::And for the second time of asking, when ...</td>\n",
       "      <td>0</td>\n",
       "    </tr>\n",
       "    <tr>\n",
       "      <th>159288</th>\n",
       "      <td>You should be ashamed of yourself \\n\\nThat is ...</td>\n",
       "      <td>0</td>\n",
       "    </tr>\n",
       "    <tr>\n",
       "      <th>159289</th>\n",
       "      <td>Spitzer \\n\\nUmm, theres no actual article for ...</td>\n",
       "      <td>0</td>\n",
       "    </tr>\n",
       "    <tr>\n",
       "      <th>159290</th>\n",
       "      <td>And it looks like it was actually you who put ...</td>\n",
       "      <td>0</td>\n",
       "    </tr>\n",
       "    <tr>\n",
       "      <th>159291</th>\n",
       "      <td>\"\\nAnd ... I really don't think you understand...</td>\n",
       "      <td>0</td>\n",
       "    </tr>\n",
       "  </tbody>\n",
       "</table>\n",
       "</div>"
      ],
      "text/plain": [
       "                                                     text  toxic\n",
       "159282  \"\\nNo he did not, read it again (I would have ...      0\n",
       "159283  \"\\n Auto guides and the motoring press are not...      0\n",
       "159284  \"\\nplease identify what part of BLP applies be...      0\n",
       "159285  Catalan independentism is the social movement ...      0\n",
       "159286  The numbers in parentheses are the additional ...      0\n",
       "159287  \":::::And for the second time of asking, when ...      0\n",
       "159288  You should be ashamed of yourself \\n\\nThat is ...      0\n",
       "159289  Spitzer \\n\\nUmm, theres no actual article for ...      0\n",
       "159290  And it looks like it was actually you who put ...      0\n",
       "159291  \"\\nAnd ... I really don't think you understand...      0"
      ]
     },
     "metadata": {},
     "output_type": "display_data"
    }
   ],
   "source": [
    "df = df.drop('Unnamed: 0', axis=1)\n",
    "display(df.head(10))\n",
    "display(df.tail(10))"
   ]
  },
  {
   "cell_type": "markdown",
   "metadata": {},
   "source": [
    "Let's check the balance of the target."
   ]
  },
  {
   "cell_type": "code",
   "execution_count": 5,
   "metadata": {},
   "outputs": [
    {
     "data": {
      "image/png": "[encoded data removed]",
      "text/plain": [
       "<Figure size 640x480 with 1 Axes>"
      ]
     },
     "metadata": {},
     "output_type": "display_data"
    },
    {
     "name": "stdout",
     "output_type": "stream",
     "text": [
      "Non-toxic: 143106\n",
      "Toxic: 16186\n",
      "Ratio: 8\n"
     ]
    }
   ],
   "source": [
    "count_0 = df[df['toxic'] == 0]['toxic'].count()\n",
    "count_1 = df[df['toxic'] == 1]['toxic'].count()\n",
    "\n",
    "labels = ['0 (Non-Toxic)', '1 (Toxic)']\n",
    "values = [count_0, count_1]\n",
    "\n",
    "plt.bar(labels, values)\n",
    "plt.xlabel('Toxic')\n",
    "plt.ylabel('Quantity')\n",
    "plt.title('Distribution of toxicity in the data')\n",
    "plt.show()\n",
    "\n",
    "print(f'Non-toxic: {count_0}')\n",
    "print(f'Toxic: {count_1}')\n",
    "\n",
    "print(f'Ratio: {count_0 // count_1}')"
   ]
  },
  {
   "cell_type": "markdown",
   "metadata": {},
   "source": [
    "_Conclusion_: The dataset does not contain missing values or duplicates. The number of toxic and non-toxic comments is significantly unbalanced, and this should be taken into account when training models."
   ]
  },
  {
   "cell_type": "markdown",
   "metadata": {},
   "source": [
    "## Training"
   ]
  },
  {
   "cell_type": "markdown",
   "metadata": {},
   "source": [
    "We will train toxicity recognition on four models - Logistic Regression, Decision Tree, Random Forest, and LightGBM. Before starting the training of the models, let's prepare the text data to turn them into features. We will do this in three ways: through text tokenization and splitting into n-grams, bag-of-words, also with n-grams, and using the pre-trained BERT method."
   ]
  },
  {
   "cell_type": "code",
   "execution_count": 6,
   "metadata": {},
   "outputs": [
    {
     "data": {
      "application/vnd.jupyter.widget-view+json": {
       "model_id": "8f2d63e55482453f81aec668c8ac065d",
       "version_major": 2,
       "version_minor": 0
      },
      "text/plain": [
       "  0%|          | 0/159292 [00:00<?, ?it/s]"
      ]
     },
     "metadata": {},
     "output_type": "display_data"
    },
    {
     "data": {
      "text/html": [
       "<div>\n",
       "<style scoped>\n",
       "    .dataframe tbody tr th:only-of-type {\n",
       "        vertical-align: middle;\n",
       "    }\n",
       "\n",
       "    .dataframe tbody tr th {\n",
       "        vertical-align: top;\n",
       "    }\n",
       "\n",
       "    .dataframe thead th {\n",
       "        text-align: right;\n",
       "    }\n",
       "</style>\n",
       "<table border=\"1\" class=\"dataframe\">\n",
       "  <thead>\n",
       "    <tr style=\"text-align: right;\">\n",
       "      <th></th>\n",
       "      <th>text</th>\n",
       "      <th>toxic</th>\n",
       "      <th>clean</th>\n",
       "    </tr>\n",
       "  </thead>\n",
       "  <tbody>\n",
       "    <tr>\n",
       "      <th>0</th>\n",
       "      <td>Explanation\\nWhy the edits made under my usern...</td>\n",
       "      <td>0</td>\n",
       "      <td>Explanation\\nWhy the edits made under my usern...</td>\n",
       "    </tr>\n",
       "    <tr>\n",
       "      <th>1</th>\n",
       "      <td>D'aww! He matches this background colour I'm s...</td>\n",
       "      <td>0</td>\n",
       "      <td>Daww He matches this background colour Im seem...</td>\n",
       "    </tr>\n",
       "    <tr>\n",
       "      <th>2</th>\n",
       "      <td>Hey man, I'm really not trying to edit war. It...</td>\n",
       "      <td>0</td>\n",
       "      <td>Hey man Im really not trying to edit war Its j...</td>\n",
       "    </tr>\n",
       "    <tr>\n",
       "      <th>3</th>\n",
       "      <td>\"\\nMore\\nI can't make any real suggestions on ...</td>\n",
       "      <td>0</td>\n",
       "      <td>\\nMore\\nI cant make any real suggestions on im...</td>\n",
       "    </tr>\n",
       "    <tr>\n",
       "      <th>4</th>\n",
       "      <td>You, sir, are my hero. Any chance you remember...</td>\n",
       "      <td>0</td>\n",
       "      <td>You sir are my hero Any chance you remember wh...</td>\n",
       "    </tr>\n",
       "    <tr>\n",
       "      <th>5</th>\n",
       "      <td>\"\\n\\nCongratulations from me as well, use the ...</td>\n",
       "      <td>0</td>\n",
       "      <td>\\n\\nCongratulations from me as well use the to...</td>\n",
       "    </tr>\n",
       "    <tr>\n",
       "      <th>6</th>\n",
       "      <td>COCKSUCKER BEFORE YOU PISS AROUND ON MY WORK</td>\n",
       "      <td>1</td>\n",
       "      <td>COCKSUCKER BEFORE YOU PISS AROUND ON MY WORK</td>\n",
       "    </tr>\n",
       "    <tr>\n",
       "      <th>7</th>\n",
       "      <td>Your vandalism to the Matt Shirvington article...</td>\n",
       "      <td>0</td>\n",
       "      <td>Your vandalism to the Matt Shirvington article...</td>\n",
       "    </tr>\n",
       "    <tr>\n",
       "      <th>8</th>\n",
       "      <td>Sorry if the word 'nonsense' was offensive to ...</td>\n",
       "      <td>0</td>\n",
       "      <td>Sorry if the word nonsense was offensive to yo...</td>\n",
       "    </tr>\n",
       "    <tr>\n",
       "      <th>9</th>\n",
       "      <td>alignment on this subject and which are contra...</td>\n",
       "      <td>0</td>\n",
       "      <td>alignment on this subject and which are contra...</td>\n",
       "    </tr>\n",
       "  </tbody>\n",
       "</table>\n",
       "</div>"
      ],
      "text/plain": [
       "                                                text  toxic  \\\n",
       "0  Explanation\\nWhy the edits made under my usern...      0   \n",
       "1  D'aww! He matches this background colour I'm s...      0   \n",
       "2  Hey man, I'm really not trying to edit war. It...      0   \n",
       "3  \"\\nMore\\nI can't make any real suggestions on ...      0   \n",
       "4  You, sir, are my hero. Any chance you remember...      0   \n",
       "5  \"\\n\\nCongratulations from me as well, use the ...      0   \n",
       "6       COCKSUCKER BEFORE YOU PISS AROUND ON MY WORK      1   \n",
       "7  Your vandalism to the Matt Shirvington article...      0   \n",
       "8  Sorry if the word 'nonsense' was offensive to ...      0   \n",
       "9  alignment on this subject and which are contra...      0   \n",
       "\n",
       "                                               clean  \n",
       "0  Explanation\\nWhy the edits made under my usern...  \n",
       "1  Daww He matches this background colour Im seem...  \n",
       "2  Hey man Im really not trying to edit war Its j...  \n",
       "3  \\nMore\\nI cant make any real suggestions on im...  \n",
       "4  You sir are my hero Any chance you remember wh...  \n",
       "5  \\n\\nCongratulations from me as well use the to...  \n",
       "6       COCKSUCKER BEFORE YOU PISS AROUND ON MY WORK  \n",
       "7  Your vandalism to the Matt Shirvington article...  \n",
       "8  Sorry if the word nonsense was offensive to yo...  \n",
       "9  alignment on this subject and which are contra...  "
      ]
     },
     "metadata": {},
     "output_type": "display_data"
    },
    {
     "data": {
      "text/html": [
       "<div>\n",
       "<style scoped>\n",
       "    .dataframe tbody tr th:only-of-type {\n",
       "        vertical-align: middle;\n",
       "    }\n",
       "\n",
       "    .dataframe tbody tr th {\n",
       "        vertical-align: top;\n",
       "    }\n",
       "\n",
       "    .dataframe thead th {\n",
       "        text-align: right;\n",
       "    }\n",
       "</style>\n",
       "<table border=\"1\" class=\"dataframe\">\n",
       "  <thead>\n",
       "    <tr style=\"text-align: right;\">\n",
       "      <th></th>\n",
       "      <th>text</th>\n",
       "      <th>toxic</th>\n",
       "      <th>clean</th>\n",
       "    </tr>\n",
       "  </thead>\n",
       "  <tbody>\n",
       "    <tr>\n",
       "      <th>159282</th>\n",
       "      <td>\"\\nNo he did not, read it again (I would have ...</td>\n",
       "      <td>0</td>\n",
       "      <td>\\nNo he did not read it again I would have tho...</td>\n",
       "    </tr>\n",
       "    <tr>\n",
       "      <th>159283</th>\n",
       "      <td>\"\\n Auto guides and the motoring press are not...</td>\n",
       "      <td>0</td>\n",
       "      <td>\\n Auto guides and the motoring press are not ...</td>\n",
       "    </tr>\n",
       "    <tr>\n",
       "      <th>159284</th>\n",
       "      <td>\"\\nplease identify what part of BLP applies be...</td>\n",
       "      <td>0</td>\n",
       "      <td>\\nplease identify what part of BLP applies bec...</td>\n",
       "    </tr>\n",
       "    <tr>\n",
       "      <th>159285</th>\n",
       "      <td>Catalan independentism is the social movement ...</td>\n",
       "      <td>0</td>\n",
       "      <td>Catalan independentism is the social movement ...</td>\n",
       "    </tr>\n",
       "    <tr>\n",
       "      <th>159286</th>\n",
       "      <td>The numbers in parentheses are the additional ...</td>\n",
       "      <td>0</td>\n",
       "      <td>The numbers in parentheses are the additional ...</td>\n",
       "    </tr>\n",
       "    <tr>\n",
       "      <th>159287</th>\n",
       "      <td>\":::::And for the second time of asking, when ...</td>\n",
       "      <td>0</td>\n",
       "      <td>And for the second time of asking when your vi...</td>\n",
       "    </tr>\n",
       "    <tr>\n",
       "      <th>159288</th>\n",
       "      <td>You should be ashamed of yourself \\n\\nThat is ...</td>\n",
       "      <td>0</td>\n",
       "      <td>You should be ashamed of yourself \\n\\nThat is ...</td>\n",
       "    </tr>\n",
       "    <tr>\n",
       "      <th>159289</th>\n",
       "      <td>Spitzer \\n\\nUmm, theres no actual article for ...</td>\n",
       "      <td>0</td>\n",
       "      <td>Spitzer \\n\\nUmm theres no actual article for p...</td>\n",
       "    </tr>\n",
       "    <tr>\n",
       "      <th>159290</th>\n",
       "      <td>And it looks like it was actually you who put ...</td>\n",
       "      <td>0</td>\n",
       "      <td>And it looks like it was actually you who put ...</td>\n",
       "    </tr>\n",
       "    <tr>\n",
       "      <th>159291</th>\n",
       "      <td>\"\\nAnd ... I really don't think you understand...</td>\n",
       "      <td>0</td>\n",
       "      <td>\\nAnd  I really dont think you understand  I c...</td>\n",
       "    </tr>\n",
       "  </tbody>\n",
       "</table>\n",
       "</div>"
      ],
      "text/plain": [
       "                                                     text  toxic  \\\n",
       "159282  \"\\nNo he did not, read it again (I would have ...      0   \n",
       "159283  \"\\n Auto guides and the motoring press are not...      0   \n",
       "159284  \"\\nplease identify what part of BLP applies be...      0   \n",
       "159285  Catalan independentism is the social movement ...      0   \n",
       "159286  The numbers in parentheses are the additional ...      0   \n",
       "159287  \":::::And for the second time of asking, when ...      0   \n",
       "159288  You should be ashamed of yourself \\n\\nThat is ...      0   \n",
       "159289  Spitzer \\n\\nUmm, theres no actual article for ...      0   \n",
       "159290  And it looks like it was actually you who put ...      0   \n",
       "159291  \"\\nAnd ... I really don't think you understand...      0   \n",
       "\n",
       "                                                    clean  \n",
       "159282  \\nNo he did not read it again I would have tho...  \n",
       "159283  \\n Auto guides and the motoring press are not ...  \n",
       "159284  \\nplease identify what part of BLP applies bec...  \n",
       "159285  Catalan independentism is the social movement ...  \n",
       "159286  The numbers in parentheses are the additional ...  \n",
       "159287  And for the second time of asking when your vi...  \n",
       "159288  You should be ashamed of yourself \\n\\nThat is ...  \n",
       "159289  Spitzer \\n\\nUmm theres no actual article for p...  \n",
       "159290  And it looks like it was actually you who put ...  \n",
       "159291  \\nAnd  I really dont think you understand  I c...  "
      ]
     },
     "metadata": {},
     "output_type": "display_data"
    }
   ],
   "source": [
    "def clean_text(text):\n",
    "    return re.sub(r'[^a-zA-Z\\s]', '', text)\n",
    "\n",
    "tqdm.pandas()\n",
    "df['clean'] = df['text'].progress_apply(clean_text)\n",
    "\n",
    "display(df.head(10))\n",
    "display(df.tail(10))"
   ]
  },
  {
   "cell_type": "code",
   "execution_count": 7,
   "metadata": {},
   "outputs": [
    {
     "data": {
      "application/vnd.jupyter.widget-view+json": {
       "model_id": "427a8c6a716f4823b2a51d85db9bc57f",
       "version_major": 2,
       "version_minor": 0
      },
      "text/plain": [
       "  0%|          | 0/159292 [00:00<?, ?it/s]"
      ]
     },
     "metadata": {},
     "output_type": "display_data"
    },
    {
     "data": {
      "text/html": [
       "<div>\n",
       "<style scoped>\n",
       "    .dataframe tbody tr th:only-of-type {\n",
       "        vertical-align: middle;\n",
       "    }\n",
       "\n",
       "    .dataframe tbody tr th {\n",
       "        vertical-align: top;\n",
       "    }\n",
       "\n",
       "    .dataframe thead th {\n",
       "        text-align: right;\n",
       "    }\n",
       "</style>\n",
       "<table border=\"1\" class=\"dataframe\">\n",
       "  <thead>\n",
       "    <tr style=\"text-align: right;\">\n",
       "      <th></th>\n",
       "      <th>text</th>\n",
       "      <th>toxic</th>\n",
       "      <th>clean</th>\n",
       "      <th>lemm</th>\n",
       "    </tr>\n",
       "  </thead>\n",
       "  <tbody>\n",
       "    <tr>\n",
       "      <th>0</th>\n",
       "      <td>Explanation\\nWhy the edits made under my usern...</td>\n",
       "      <td>0</td>\n",
       "      <td>Explanation\\nWhy the edits made under my usern...</td>\n",
       "      <td>Explanation \\n why the edit make under my user...</td>\n",
       "    </tr>\n",
       "    <tr>\n",
       "      <th>1</th>\n",
       "      <td>D'aww! He matches this background colour I'm s...</td>\n",
       "      <td>0</td>\n",
       "      <td>Daww He matches this background colour Im seem...</td>\n",
       "      <td>Daww he match this background colour I m seemi...</td>\n",
       "    </tr>\n",
       "    <tr>\n",
       "      <th>2</th>\n",
       "      <td>Hey man, I'm really not trying to edit war. It...</td>\n",
       "      <td>0</td>\n",
       "      <td>Hey man Im really not trying to edit war Its j...</td>\n",
       "      <td>hey man I m really not try to edit war its jus...</td>\n",
       "    </tr>\n",
       "    <tr>\n",
       "      <th>3</th>\n",
       "      <td>\"\\nMore\\nI can't make any real suggestions on ...</td>\n",
       "      <td>0</td>\n",
       "      <td>\\nMore\\nI cant make any real suggestions on im...</td>\n",
       "      <td>\\n More \\n I can not make any real suggestion ...</td>\n",
       "    </tr>\n",
       "    <tr>\n",
       "      <th>4</th>\n",
       "      <td>You, sir, are my hero. Any chance you remember...</td>\n",
       "      <td>0</td>\n",
       "      <td>You sir are my hero Any chance you remember wh...</td>\n",
       "      <td>you sir be my hero any chance you remember wha...</td>\n",
       "    </tr>\n",
       "    <tr>\n",
       "      <th>5</th>\n",
       "      <td>\"\\n\\nCongratulations from me as well, use the ...</td>\n",
       "      <td>0</td>\n",
       "      <td>\\n\\nCongratulations from me as well use the to...</td>\n",
       "      <td>\\n\\n congratulation from I as well use the too...</td>\n",
       "    </tr>\n",
       "    <tr>\n",
       "      <th>6</th>\n",
       "      <td>COCKSUCKER BEFORE YOU PISS AROUND ON MY WORK</td>\n",
       "      <td>1</td>\n",
       "      <td>COCKSUCKER BEFORE YOU PISS AROUND ON MY WORK</td>\n",
       "      <td>COCKSUCKER before you pis around on MY work</td>\n",
       "    </tr>\n",
       "    <tr>\n",
       "      <th>7</th>\n",
       "      <td>Your vandalism to the Matt Shirvington article...</td>\n",
       "      <td>0</td>\n",
       "      <td>Your vandalism to the Matt Shirvington article...</td>\n",
       "      <td>your vandalism to the Matt Shirvington article...</td>\n",
       "    </tr>\n",
       "    <tr>\n",
       "      <th>8</th>\n",
       "      <td>Sorry if the word 'nonsense' was offensive to ...</td>\n",
       "      <td>0</td>\n",
       "      <td>Sorry if the word nonsense was offensive to yo...</td>\n",
       "      <td>sorry if the word nonsense be offensive to you...</td>\n",
       "    </tr>\n",
       "    <tr>\n",
       "      <th>9</th>\n",
       "      <td>alignment on this subject and which are contra...</td>\n",
       "      <td>0</td>\n",
       "      <td>alignment on this subject and which are contra...</td>\n",
       "      <td>alignment on this subject and which be contrar...</td>\n",
       "    </tr>\n",
       "  </tbody>\n",
       "</table>\n",
       "</div>"
      ],
      "text/plain": [
       "                                                text  toxic  \\\n",
       "0  Explanation\\nWhy the edits made under my usern...      0   \n",
       "1  D'aww! He matches this background colour I'm s...      0   \n",
       "2  Hey man, I'm really not trying to edit war. It...      0   \n",
       "3  \"\\nMore\\nI can't make any real suggestions on ...      0   \n",
       "4  You, sir, are my hero. Any chance you remember...      0   \n",
       "5  \"\\n\\nCongratulations from me as well, use the ...      0   \n",
       "6       COCKSUCKER BEFORE YOU PISS AROUND ON MY WORK      1   \n",
       "7  Your vandalism to the Matt Shirvington article...      0   \n",
       "8  Sorry if the word 'nonsense' was offensive to ...      0   \n",
       "9  alignment on this subject and which are contra...      0   \n",
       "\n",
       "                                               clean  \\\n",
       "0  Explanation\\nWhy the edits made under my usern...   \n",
       "1  Daww He matches this background colour Im seem...   \n",
       "2  Hey man Im really not trying to edit war Its j...   \n",
       "3  \\nMore\\nI cant make any real suggestions on im...   \n",
       "4  You sir are my hero Any chance you remember wh...   \n",
       "5  \\n\\nCongratulations from me as well use the to...   \n",
       "6       COCKSUCKER BEFORE YOU PISS AROUND ON MY WORK   \n",
       "7  Your vandalism to the Matt Shirvington article...   \n",
       "8  Sorry if the word nonsense was offensive to yo...   \n",
       "9  alignment on this subject and which are contra...   \n",
       "\n",
       "                                                lemm  \n",
       "0  Explanation \\n why the edit make under my user...  \n",
       "1  Daww he match this background colour I m seemi...  \n",
       "2  hey man I m really not try to edit war its jus...  \n",
       "3  \\n More \\n I can not make any real suggestion ...  \n",
       "4  you sir be my hero any chance you remember wha...  \n",
       "5  \\n\\n congratulation from I as well use the too...  \n",
       "6        COCKSUCKER before you pis around on MY work  \n",
       "7  your vandalism to the Matt Shirvington article...  \n",
       "8  sorry if the word nonsense be offensive to you...  \n",
       "9  alignment on this subject and which be contrar...  "
      ]
     },
     "metadata": {},
     "output_type": "display_data"
    },
    {
     "data": {
      "text/html": [
       "<div>\n",
       "<style scoped>\n",
       "    .dataframe tbody tr th:only-of-type {\n",
       "        vertical-align: middle;\n",
       "    }\n",
       "\n",
       "    .dataframe tbody tr th {\n",
       "        vertical-align: top;\n",
       "    }\n",
       "\n",
       "    .dataframe thead th {\n",
       "        text-align: right;\n",
       "    }\n",
       "</style>\n",
       "<table border=\"1\" class=\"dataframe\">\n",
       "  <thead>\n",
       "    <tr style=\"text-align: right;\">\n",
       "      <th></th>\n",
       "      <th>text</th>\n",
       "      <th>toxic</th>\n",
       "      <th>clean</th>\n",
       "      <th>lemm</th>\n",
       "    </tr>\n",
       "  </thead>\n",
       "  <tbody>\n",
       "    <tr>\n",
       "      <th>159282</th>\n",
       "      <td>\"\\nNo he did not, read it again (I would have ...</td>\n",
       "      <td>0</td>\n",
       "      <td>\\nNo he did not read it again I would have tho...</td>\n",
       "      <td>\\n no he do not read it again I would have thi...</td>\n",
       "    </tr>\n",
       "    <tr>\n",
       "      <th>159283</th>\n",
       "      <td>\"\\n Auto guides and the motoring press are not...</td>\n",
       "      <td>0</td>\n",
       "      <td>\\n Auto guides and the motoring press are not ...</td>\n",
       "      <td>\\n  auto guide and the motoring press be not g...</td>\n",
       "    </tr>\n",
       "    <tr>\n",
       "      <th>159284</th>\n",
       "      <td>\"\\nplease identify what part of BLP applies be...</td>\n",
       "      <td>0</td>\n",
       "      <td>\\nplease identify what part of BLP applies bec...</td>\n",
       "      <td>\\n please identify what part of BLP apply beca...</td>\n",
       "    </tr>\n",
       "    <tr>\n",
       "      <th>159285</th>\n",
       "      <td>Catalan independentism is the social movement ...</td>\n",
       "      <td>0</td>\n",
       "      <td>Catalan independentism is the social movement ...</td>\n",
       "      <td>catalan independentism be the social movement ...</td>\n",
       "    </tr>\n",
       "    <tr>\n",
       "      <th>159286</th>\n",
       "      <td>The numbers in parentheses are the additional ...</td>\n",
       "      <td>0</td>\n",
       "      <td>The numbers in parentheses are the additional ...</td>\n",
       "      <td>the number in parenthesis be the additional de...</td>\n",
       "    </tr>\n",
       "    <tr>\n",
       "      <th>159287</th>\n",
       "      <td>\":::::And for the second time of asking, when ...</td>\n",
       "      <td>0</td>\n",
       "      <td>And for the second time of asking when your vi...</td>\n",
       "      <td>and for the second time of ask when your view ...</td>\n",
       "    </tr>\n",
       "    <tr>\n",
       "      <th>159288</th>\n",
       "      <td>You should be ashamed of yourself \\n\\nThat is ...</td>\n",
       "      <td>0</td>\n",
       "      <td>You should be ashamed of yourself \\n\\nThat is ...</td>\n",
       "      <td>you should be ashamed of yourself \\n\\n that be...</td>\n",
       "    </tr>\n",
       "    <tr>\n",
       "      <th>159289</th>\n",
       "      <td>Spitzer \\n\\nUmm, theres no actual article for ...</td>\n",
       "      <td>0</td>\n",
       "      <td>Spitzer \\n\\nUmm theres no actual article for p...</td>\n",
       "      <td>Spitzer \\n\\n Umm there s no actual article for...</td>\n",
       "    </tr>\n",
       "    <tr>\n",
       "      <th>159290</th>\n",
       "      <td>And it looks like it was actually you who put ...</td>\n",
       "      <td>0</td>\n",
       "      <td>And it looks like it was actually you who put ...</td>\n",
       "      <td>and it look like it be actually you who put on...</td>\n",
       "    </tr>\n",
       "    <tr>\n",
       "      <th>159291</th>\n",
       "      <td>\"\\nAnd ... I really don't think you understand...</td>\n",
       "      <td>0</td>\n",
       "      <td>\\nAnd  I really dont think you understand  I c...</td>\n",
       "      <td>\\n and   I really do not think you understand ...</td>\n",
       "    </tr>\n",
       "  </tbody>\n",
       "</table>\n",
       "</div>"
      ],
      "text/plain": [
       "                                                     text  toxic  \\\n",
       "159282  \"\\nNo he did not, read it again (I would have ...      0   \n",
       "159283  \"\\n Auto guides and the motoring press are not...      0   \n",
       "159284  \"\\nplease identify what part of BLP applies be...      0   \n",
       "159285  Catalan independentism is the social movement ...      0   \n",
       "159286  The numbers in parentheses are the additional ...      0   \n",
       "159287  \":::::And for the second time of asking, when ...      0   \n",
       "159288  You should be ashamed of yourself \\n\\nThat is ...      0   \n",
       "159289  Spitzer \\n\\nUmm, theres no actual article for ...      0   \n",
       "159290  And it looks like it was actually you who put ...      0   \n",
       "159291  \"\\nAnd ... I really don't think you understand...      0   \n",
       "\n",
       "                                                    clean  \\\n",
       "159282  \\nNo he did not read it again I would have tho...   \n",
       "159283  \\n Auto guides and the motoring press are not ...   \n",
       "159284  \\nplease identify what part of BLP applies bec...   \n",
       "159285  Catalan independentism is the social movement ...   \n",
       "159286  The numbers in parentheses are the additional ...   \n",
       "159287  And for the second time of asking when your vi...   \n",
       "159288  You should be ashamed of yourself \\n\\nThat is ...   \n",
       "159289  Spitzer \\n\\nUmm theres no actual article for p...   \n",
       "159290  And it looks like it was actually you who put ...   \n",
       "159291  \\nAnd  I really dont think you understand  I c...   \n",
       "\n",
       "                                                     lemm  \n",
       "159282  \\n no he do not read it again I would have thi...  \n",
       "159283  \\n  auto guide and the motoring press be not g...  \n",
       "159284  \\n please identify what part of BLP apply beca...  \n",
       "159285  catalan independentism be the social movement ...  \n",
       "159286  the number in parenthesis be the additional de...  \n",
       "159287  and for the second time of ask when your view ...  \n",
       "159288  you should be ashamed of yourself \\n\\n that be...  \n",
       "159289  Spitzer \\n\\n Umm there s no actual article for...  \n",
       "159290  and it look like it be actually you who put on...  \n",
       "159291  \\n and   I really do not think you understand ...  "
      ]
     },
     "metadata": {},
     "output_type": "display_data"
    }
   ],
   "source": [
    "nlp = spacy.load(\"en_core_web_sm\")\n",
    "\n",
    "lemm_texts = []\n",
    "\n",
    "for doc in tqdm(nlp.pipe(df['clean'].values, disable = ['ner', 'parser']), total=df.shape[0]):\n",
    "    lemm_text = \" \".join([i.lemma_ for i in doc])    \n",
    "    lemm_texts.append(lemm_text)\n",
    "\n",
    "df['lemm'] = lemm_texts\n",
    "    \n",
    "display(df.head(10))\n",
    "display(df.tail(10)) "
   ]
  },
  {
   "cell_type": "code",
   "execution_count": 8,
   "metadata": {},
   "outputs": [
    {
     "name": "stdout",
     "output_type": "stream",
     "text": [
      "Train features: (111504,)\n",
      "Validation features: (23894,)\n",
      "Test features: (23894,)\n",
      "Train target: (111504,)\n",
      "Validation target: (23894,)\n",
      "Test target: (23894,)\n"
     ]
    }
   ],
   "source": [
    "feature = df['clean']\n",
    "target = df['toxic']\n",
    "\n",
    "X_train, X_temp, y_train, y_temp = train_test_split(feature, target, test_size=0.3, random_state=12345)\n",
    "X_val, X_test, y_val, y_test = train_test_split(X_temp, y_temp, test_size=0.5, random_state=12345)\n",
    "\n",
    "print(f'Train features: {X_train.shape}')\n",
    "print(f'Validation features: {X_val.shape}')\n",
    "print(f'Test features: {X_test.shape}')\n",
    "print(f'Train target: {y_train.shape}')\n",
    "print(f'Validation target: {y_val.shape}')\n",
    "print(f'Test target: {y_test.shape}')"
   ]
  },
  {
   "cell_type": "code",
   "execution_count": 9,
   "metadata": {},
   "outputs": [
    {
     "name": "stdout",
     "output_type": "stream",
     "text": [
      "Train features: (111504, 176692)\n",
      "Validation features: (23894, 176692)\n",
      "Test features: (23894, 176692)\n"
     ]
    }
   ],
   "source": [
    "start_time = time.time()\n",
    "tfidf_vectorizer = TfidfVectorizer(ngram_range=(1, 1))\n",
    "X_train = tfidf_vectorizer.fit_transform(X_train)\n",
    "X_val = tfidf_vectorizer.transform(X_val)\n",
    "X_test = tfidf_vectorizer.transform(X_test)\n",
    "end_time = time.time()\n",
    "\n",
    "print(f'Train features: {X_train.shape}')\n",
    "print(f'Validation features: {X_val.shape}')\n",
    "print(f'Test features: {X_test.shape}')"
   ]
  },
  {
   "cell_type": "markdown",
   "metadata": {},
   "source": [
    "Let's start the training of models and hyperparameter tuning. We'll do this in loops.\n",
    "\n",
    "Logistic Regression."
   ]
  },
  {
   "cell_type": "code",
   "execution_count": 10,
   "metadata": {
    "scrolled": true
   },
   "outputs": [
    {
     "data": {
      "application/vnd.jupyter.widget-view+json": {
       "model_id": "8eb429db197d4ec69045928818502f98",
       "version_major": 2,
       "version_minor": 0
      },
      "text/plain": [
       "C loop:   0%|          | 0/1 [00:00<?, ?it/s]"
      ]
     },
     "metadata": {},
     "output_type": "display_data"
    },
    {
     "data": {
      "application/vnd.jupyter.widget-view+json": {
       "model_id": "5a6d03f3cbfc4338a90c388b2bbd38c8",
       "version_major": 2,
       "version_minor": 0
      },
      "text/plain": [
       "Penalty loop:   0%|          | 0/1 [00:00<?, ?it/s]"
      ]
     },
     "metadata": {},
     "output_type": "display_data"
    },
    {
     "data": {
      "application/vnd.jupyter.widget-view+json": {
       "model_id": "88a8d6bed4dd4b05b037f0e0a25795e0",
       "version_major": 2,
       "version_minor": 0
      },
      "text/plain": [
       "Class loop:   0%|          | 0/2 [00:00<?, ?it/s]"
      ]
     },
     "metadata": {},
     "output_type": "display_data"
    },
    {
     "name": "stderr",
     "output_type": "stream",
     "text": [
      "/Users/daniyardjumaliev/Jupyter/venv/lib/python3.9/site-packages/sklearn/linear_model/_sag.py:350: ConvergenceWarning: The max_iter was reached which means the coef_ did not converge\n",
      "  warnings.warn(\n"
     ]
    },
    {
     "name": "stdout",
     "output_type": "stream",
     "text": [
      "Time: 167.7186 sec\n",
      "Best hyperparameters: {'C': 10, 'penalty': 'l2', 'class_weight': None}\n",
      "f1_score on validation data: 0.7912038086601679\n"
     ]
    }
   ],
   "source": [
    "#C_values = [0.001, 0.01, 0.1, 1, 10, 100]\n",
    "C_values = [10]\n",
    "penalty_values = ['l2']\n",
    "#tol_values = [1e-4, 1e-3, 1e-2]\n",
    "#solver_values = ['lbfgs', 'liblinear', 'newton-cg', 'sag', 'saga']\n",
    "class_values = ['balanced', None]\n",
    "\n",
    "best_f1_score = 0\n",
    "best_params = {}\n",
    "\n",
    "start_time = time.time()\n",
    "\n",
    "for C in tqdm(C_values, desc='C loop'):\n",
    "    for penalty in tqdm(penalty_values, desc='Penalty loop'):\n",
    "        for class_weight in tqdm(class_values, desc='Class loop'):\n",
    "                if class_weight == 'balanced':\n",
    "                    class_weight_param = 'balanced'\n",
    "                else:\n",
    "                    class_weight_param = None\n",
    "                lr = LogisticRegression(solver='saga', class_weight=class_weight_param, max_iter=1000, C=C, penalty=penalty)\n",
    "\n",
    "                lr.fit(X_train, y_train)\n",
    "\n",
    "                pred_lr = lr.predict(X_val)\n",
    "\n",
    "                f1 = f1_score(y_val, pred_lr)\n",
    "\n",
    "                if f1 > best_f1_score:\n",
    "                    best_f1_score = f1\n",
    "                    best_params = {'C': C, 'penalty': penalty, 'class_weight':class_weight}\n",
    "\n",
    "end_time = time.time()\n",
    "\n",
    "print(f'Time: {end_time - start_time:.4f} sec')\n",
    "print(\"Best hyperparameters:\", best_params)\n",
    "print(\"f1_score on validation data:\", best_f1_score)"
   ]
  },
  {
   "cell_type": "markdown",
   "metadata": {},
   "source": [
    "Time: 115.3799 sec\n",
    "\n",
    "Best hyperparameters: {'C': 10, 'penalty': 'l2', 'class_weight': 'balanced'}\n",
    "\n",
    "f1_score on validation data: 0.7970363718006286"
   ]
  },
  {
   "cell_type": "markdown",
   "metadata": {},
   "source": [
    "Decision Tree."
   ]
  },
  {
   "cell_type": "code",
   "execution_count": 11,
   "metadata": {
    "scrolled": true
   },
   "outputs": [
    {
     "data": {
      "application/vnd.jupyter.widget-view+json": {
       "model_id": "a4b040b46c2542be9fdc63f20c998c6d",
       "version_major": 2,
       "version_minor": 0
      },
      "text/plain": [
       "Max Depth loop:   0%|          | 0/1 [00:00<?, ?it/s]"
      ]
     },
     "metadata": {},
     "output_type": "display_data"
    },
    {
     "data": {
      "application/vnd.jupyter.widget-view+json": {
       "model_id": "c80f304fff3149448878267db27e993c",
       "version_major": 2,
       "version_minor": 0
      },
      "text/plain": [
       "Min Samples Split loop:   0%|          | 0/1 [00:00<?, ?it/s]"
      ]
     },
     "metadata": {},
     "output_type": "display_data"
    },
    {
     "data": {
      "application/vnd.jupyter.widget-view+json": {
       "model_id": "cc4a123e77d140ae879b0b114b926ca9",
       "version_major": 2,
       "version_minor": 0
      },
      "text/plain": [
       "Min Samples Leaf loop:   0%|          | 0/1 [00:00<?, ?it/s]"
      ]
     },
     "metadata": {},
     "output_type": "display_data"
    },
    {
     "name": "stdout",
     "output_type": "stream",
     "text": [
      "Time: 314.7776 sec\n",
      "Best hyperparameters: {'max_depth': None, 'min_samples_split': 10, 'min_samples_leaf': 2}\n",
      "f1_score on validation data: 0.7019522776572668\n"
     ]
    }
   ],
   "source": [
    "#max_depth_values = [5, 10, 20, None]\n",
    "#min_samples_split_values = [2, 5, 10]\n",
    "#min_samples_leaf_values = [1, 2, 4]\n",
    "\n",
    "max_depth_values = [None]\n",
    "min_samples_split_values = [10]\n",
    "min_samples_leaf_values = [2]\n",
    "\n",
    "best_f1_score = 0\n",
    "best_params = {}\n",
    "\n",
    "start_time = time.time()\n",
    "\n",
    "for max_depth in tqdm(max_depth_values, desc='Max Depth loop'):\n",
    "    for min_samples_split in tqdm(min_samples_split_values, desc='Min Samples Split loop'):\n",
    "        for min_samples_leaf in tqdm(min_samples_leaf_values, desc='Min Samples Leaf loop'):\n",
    "            dt = DecisionTreeClassifier(max_depth=max_depth, min_samples_split=min_samples_split, min_samples_leaf=min_samples_leaf)\n",
    "\n",
    "            dt.fit(X_train, y_train)\n",
    "\n",
    "            pred_dt = dt.predict(X_val)\n",
    "\n",
    "            f1 = f1_score(y_val, pred_dt)\n",
    "\n",
    "            if f1 > best_f1_score:\n",
    "                best_f1_score = f1\n",
    "                best_params = {'max_depth': max_depth, 'min_samples_split': min_samples_split, 'min_samples_leaf': min_samples_leaf}\n",
    "\n",
    "end_time = time.time()\n",
    "\n",
    "print(f'Time: {end_time - start_time:.4f} sec')\n",
    "print(\"Best hyperparameters:\", best_params)\n",
    "print(\"f1_score on validation data:\", best_f1_score)"
   ]
  },
  {
   "cell_type": "markdown",
   "metadata": {},
   "source": [
    "Time: 2206.2102 sec\n",
    "\n",
    "Best hyperparameters: {'max_depth': None, 'min_samples_split': 10, 'min_samples_leaf': 2}\n",
    "\n",
    "f1_score on validation data: 0.7157712305025996\n"
   ]
  },
  {
   "cell_type": "markdown",
   "metadata": {},
   "source": [
    "Random Forest."
   ]
  },
  {
   "cell_type": "code",
   "execution_count": 12,
   "metadata": {
    "scrolled": true
   },
   "outputs": [
    {
     "data": {
      "application/vnd.jupyter.widget-view+json": {
       "model_id": "066e0f1640a4455b81dfaaf35ea39c55",
       "version_major": 2,
       "version_minor": 0
      },
      "text/plain": [
       "n_estimators loop:   0%|          | 0/1 [00:00<?, ?it/s]"
      ]
     },
     "metadata": {},
     "output_type": "display_data"
    },
    {
     "data": {
      "application/vnd.jupyter.widget-view+json": {
       "model_id": "565d62d5c9764cfc829d0006844962e4",
       "version_major": 2,
       "version_minor": 0
      },
      "text/plain": [
       "Max Depth loop:   0%|          | 0/1 [00:00<?, ?it/s]"
      ]
     },
     "metadata": {},
     "output_type": "display_data"
    },
    {
     "data": {
      "application/vnd.jupyter.widget-view+json": {
       "model_id": "88ca2176ba4f4f9cb7c7d825db1f4185",
       "version_major": 2,
       "version_minor": 0
      },
      "text/plain": [
       "Min Samples Split loop:   0%|          | 0/1 [00:00<?, ?it/s]"
      ]
     },
     "metadata": {},
     "output_type": "display_data"
    },
    {
     "data": {
      "application/vnd.jupyter.widget-view+json": {
       "model_id": "897ddf337a7941e8bb578307d5daa5d8",
       "version_major": 2,
       "version_minor": 0
      },
      "text/plain": [
       "Min Samples Leaf loop:   0%|          | 0/1 [00:00<?, ?it/s]"
      ]
     },
     "metadata": {},
     "output_type": "display_data"
    },
    {
     "name": "stdout",
     "output_type": "stream",
     "text": [
      "Time: 715.0629 sec\n",
      "Best hyperparameters: {'n_estimators': 100, 'max_depth': None, 'min_samples_split': 2, 'min_samples_leaf': 1}\n",
      "f1_score on validation data: 0.5551067512983267\n"
     ]
    }
   ],
   "source": [
    "#n_estimators_values = [100, 200, 300]\n",
    "#max_depth_values = [10, 20, None]\n",
    "#min_samples_split_values = [2, 5, 10]\n",
    "#min_samples_leaf_values = [1, 2, 4]\n",
    "\n",
    "n_estimators_values = [100]\n",
    "max_depth_values = [None]\n",
    "min_samples_split_values = [2]\n",
    "min_samples_leaf_values = [1]\n",
    "\n",
    "best_f1_score = 0\n",
    "best_params = {}\n",
    "\n",
    "start_time = time.time()\n",
    "\n",
    "for n_estimators in tqdm(n_estimators_values, desc='n_estimators loop'):\n",
    "    for max_depth in tqdm(max_depth_values, desc='Max Depth loop'):\n",
    "        for min_samples_split in tqdm(min_samples_split_values, desc='Min Samples Split loop'):\n",
    "            for min_samples_leaf in tqdm(min_samples_leaf_values, desc='Min Samples Leaf loop'):\n",
    "                rf = RandomForestClassifier(n_estimators=n_estimators, max_depth=max_depth, min_samples_split=min_samples_split, min_samples_leaf=min_samples_leaf)\n",
    "\n",
    "                rf.fit(X_train, y_train)\n",
    "\n",
    "                pred_rf = rf.predict(X_val)\n",
    "\n",
    "                f1 = f1_score(y_val, pred_rf)\n",
    "\n",
    "                if f1 > best_f1_score:\n",
    "                    best_f1_score = f1\n",
    "                    best_params = {'n_estimators': n_estimators, 'max_depth': max_depth, 'min_samples_split': min_samples_split, 'min_samples_leaf': min_samples_leaf}\n",
    "\n",
    "end_time = time.time()\n",
    "\n",
    "print(f'Time: {end_time - start_time:.4f} sec')\n",
    "print(\"Best hyperparameters:\", best_params)\n",
    "print(\"f1_score on validation data:\", best_f1_score)"
   ]
  },
  {
   "cell_type": "markdown",
   "metadata": {},
   "source": [
    "Time: 9688.4655 sec\n",
    "\n",
    "Best hyperparameters: {'n_estimators': 100, 'max_depth': None, 'min_samples_split': 2, 'min_samples_leaf': 1}\n",
    "\n",
    "f1_score on validation data: 0.5805902383654937"
   ]
  },
  {
   "cell_type": "markdown",
   "metadata": {},
   "source": [
    "LightGBM."
   ]
  },
  {
   "cell_type": "code",
   "execution_count": 13,
   "metadata": {
    "scrolled": true
   },
   "outputs": [
    {
     "data": {
      "application/vnd.jupyter.widget-view+json": {
       "model_id": "fc5641c503c74845b221b8962737024e",
       "version_major": 2,
       "version_minor": 0
      },
      "text/plain": [
       "Num Leaves loop:   0%|          | 0/1 [00:00<?, ?it/s]"
      ]
     },
     "metadata": {},
     "output_type": "display_data"
    },
    {
     "data": {
      "application/vnd.jupyter.widget-view+json": {
       "model_id": "4192585799c444a5a8638c62ba1dbf06",
       "version_major": 2,
       "version_minor": 0
      },
      "text/plain": [
       "Max Depth loop:   0%|          | 0/1 [00:00<?, ?it/s]"
      ]
     },
     "metadata": {},
     "output_type": "display_data"
    },
    {
     "data": {
      "application/vnd.jupyter.widget-view+json": {
       "model_id": "c85aa6ca2e4641e9b6201b4d9f055b34",
       "version_major": 2,
       "version_minor": 0
      },
      "text/plain": [
       "Learning Rate loop:   0%|          | 0/1 [00:00<?, ?it/s]"
      ]
     },
     "metadata": {},
     "output_type": "display_data"
    },
    {
     "name": "stdout",
     "output_type": "stream",
     "text": [
      "[LightGBM] [Warning] Accuracy may be bad since you didn't explicitly set num_leaves OR 2^max_depth > num_leaves. (num_leaves=31).\n",
      "[LightGBM] [Warning] Accuracy may be bad since you didn't explicitly set num_leaves OR 2^max_depth > num_leaves. (num_leaves=31).\n",
      "[LightGBM] [Info] Number of positive: 11298, number of negative: 100206\n",
      "[LightGBM] [Info] Auto-choosing row-wise multi-threading, the overhead of testing was 4.616859 seconds.\n",
      "You can set `force_row_wise=true` to remove the overhead.\n",
      "And if memory is not enough, you can set `force_col_wise=true`.\n",
      "[LightGBM] [Info] Total Bins 597440\n",
      "[LightGBM] [Info] Number of data points in the train set: 111504, number of used features: 11328\n",
      "[LightGBM] [Info] [binary:BoostFromScore]: pavg=0.101324 -> initscore=-2.182602\n",
      "[LightGBM] [Info] Start training from score -2.182602\n",
      "[LightGBM] [Warning] Accuracy may be bad since you didn't explicitly set num_leaves OR 2^max_depth > num_leaves. (num_leaves=31).\n",
      "Time: 30.2062 sec\n",
      "Best hyperparameters: {'num_leaves': 31, 'max_depth': 20, 'learning_rate': 0.3}\n",
      "f1_score on validation data: 0.7738231917336394\n"
     ]
    }
   ],
   "source": [
    "#num_leaves_values = [31, 127, 255]\n",
    "#max_depth_values = [5, 10, 20]\n",
    "#learning_rate_values = [0.01, 0.1, 0.3]\n",
    "\n",
    "num_leaves_values = [31]\n",
    "max_depth_values = [20]\n",
    "learning_rate_values = [0.3]\n",
    "\n",
    "best_f1_score = 0\n",
    "best_params = {}\n",
    "\n",
    "start_time = time.time()\n",
    "\n",
    "for num_leaves in tqdm(num_leaves_values, desc='Num Leaves loop'):\n",
    "    for max_depth in tqdm(max_depth_values, desc='Max Depth loop'):\n",
    "        for learning_rate in tqdm(learning_rate_values, desc='Learning Rate loop'):\n",
    "            lgbm = lgb.LGBMClassifier(num_leaves=num_leaves, max_depth=max_depth, learning_rate=learning_rate)\n",
    "\n",
    "            lgbm.fit(X_train, y_train)\n",
    "\n",
    "            pred_lgbm = lgbm.predict(X_val)\n",
    "\n",
    "            f1 = f1_score(y_val, pred_lgbm)\n",
    "\n",
    "            if f1 > best_f1_score:\n",
    "                best_f1_score = f1\n",
    "                best_params = {'num_leaves': num_leaves, 'max_depth': max_depth, 'learning_rate': learning_rate}\n",
    "\n",
    "end_time = time.time()\n",
    "\n",
    "print(f'Time: {end_time - start_time:.4f} sec')\n",
    "print(\"Best hyperparameters:\", best_params)\n",
    "print(\"f1_score on validation data:\", best_f1_score)"
   ]
  },
  {
   "cell_type": "markdown",
   "metadata": {},
   "source": [
    "Time: 16259.9911 sec\n",
    "\n",
    "Best hyperparameters: {'num_leaves': 31, 'max_depth': 20, 'learning_rate': 0.3}\n",
    "\n",
    "f1_score on validation data: 0.7854561878952123"
   ]
  },
  {
   "cell_type": "markdown",
   "metadata": {},
   "source": [
    "_Conclusion_: TFIDF (n-gram(1,1)) demonstrated the highest f1_score metric for logistic regression.\n",
    "\n",
    "__TFIDF(n-gramm(1,1))__\n",
    "\n",
    "|Model|Hyperparameters|f1_score|\n",
    "|-----:|-------:|--------:|\n",
    "|Logistic Regression | (solver='saga', max_iter=1000, C=10, penalty='l2', class_weight='balanced')|0.79|\n",
    "|Decision Tree | ('max_depth': None, 'min_sample_split': 5, 'min_sample_leaf': 1)|0.7|\n",
    "|Random Forest | (n_estimators=300, random_state=12345, max_depth=None, min_samples_split=5, min_sample_leaf=1)|0.56|\n",
    "|LightGBM | (learning_rate=0.3, max_depth=20, num_leaves=31)|0.77|"
   ]
  },
  {
   "cell_type": "markdown",
   "metadata": {},
   "source": [
    "Now let's try tokenizing the texts using BERT."
   ]
  },
  {
   "cell_type": "markdown",
   "metadata": {},
   "source": [
    "__UPD. I tried running both BERT and DistilBERT, but both models consistently overload the kernel, even with 1000 lines and trimming the maximum token length to 512. I couldn't compute anything.__"
   ]
  },
  {
   "cell_type": "markdown",
   "metadata": {},
   "source": [
    "_Conclusion_: Encoding features using TFIDF (n-gram(1,1)) yielded better results during model training. The logistic regression model achieved the highest f1_score. Now let's evaluate it on the test set with TFIDF encoding."
   ]
  },
  {
   "cell_type": "markdown",
   "metadata": {},
   "source": [
    "## Testing"
   ]
  },
  {
   "cell_type": "code",
   "execution_count": 14,
   "metadata": {},
   "outputs": [
    {
     "name": "stdout",
     "output_type": "stream",
     "text": [
      "Time: 153.6381 sec\n",
      "f1_score: 0.7672980286045612\n"
     ]
    },
    {
     "name": "stderr",
     "output_type": "stream",
     "text": [
      "/Users/daniyardjumaliev/Jupyter/venv/lib/python3.9/site-packages/sklearn/linear_model/_sag.py:350: ConvergenceWarning: The max_iter was reached which means the coef_ did not converge\n",
      "  warnings.warn(\n"
     ]
    }
   ],
   "source": [
    "lr = LogisticRegression(solver='saga', max_iter=1000, C=10, penalty='l2', class_weight='balanced')\n",
    "start_time = time.time()\n",
    "lr.fit(X_train, y_train)\n",
    "pred_lr = lr.predict(X_test)\n",
    "end_time = time.time()\n",
    "score_lr = f1_score(y_test, pred_lr)\n",
    "print(f'Time: {end_time - start_time:.4f} sec')\n",
    "print(f'f1_score: {score_lr}')"
   ]
  },
  {
   "cell_type": "markdown",
   "metadata": {},
   "source": [
    "_Conclusion_: The model demonstrated an acceptable f1_score metric of 0.77."
   ]
  },
  {
   "cell_type": "markdown",
   "metadata": {},
   "source": [
    "## Conclusions"
   ]
  },
  {
   "cell_type": "markdown",
   "metadata": {},
   "source": [
    "__OVERALL CONCLUSION:__\n",
    "- During the data loading stage, it was found that the dataset does not contain missing values or duplicates. The number of toxic and non-toxic comments is highly unbalanced, with a ratio of 1 to 8 for toxic and non-toxic comments, respectively.\n",
    "- ring the training stage, it was decided to use three methods for encoding text data: TFIDF with bigrams, bag-of-words with bigrams, and BERT. In the end, BERT had to be abandoned because even with a sample of 1000 rows from the dataset and trimming the text to 512 tokens, it still consistently overloaded the kernel.\n",
    "- Next, four models were trained: Logistic Regression, Decision Tree, Random Forest, and LightGBM, using TFIDF tokenization, and the following results were obtained:\n",
    "\n",
    "__TFIDF(n-gramm(1,1))__\n",
    "\n",
    "|Model|Hyperparameters|f1_score|\n",
    "|-----:|-------:|--------:|\n",
    "|Logistic Regression | (solver='saga', max_iter=1000, C=10, penalty='l2', class_weight='balanced')|0.79|\n",
    "|Decision Tree | ('max_depth': None, 'min_sample_split': 5, 'min_sample_leaf': 1)|0.7|\n",
    "|Random Forest | (n_estimators=300, random_state=12345, max_depth=None, min_samples_split=5, min_sample_leaf=1)|0.56|\n",
    "|LightGBM | (learning_rate=0.3, max_depth=20, num_leaves=31)|0.77|\n",
    "\n",
    "\n",
    "- As seen, the Logistic Regression and LightGBM models showed good results with TFIDF text encoding. However, in the end, it was decided to test the Logistic Regression model on the test set. __It showed an f1_score of 0.77. Such a model can be recommended for implementation to determine the toxicity of comments on the platform__._"
   ]
  },
  {
   "cell_type": "code",
   "execution_count": null,
   "metadata": {},
   "outputs": [],
   "source": []
  }
 ],
 "metadata": {
  "ExecuteTimeLog": [
   {
    "duration": 2103,
    "start_time": "2023-10-16T08:51:39.001Z"
   },
   {
    "duration": 3820,
    "start_time": "2023-10-16T08:53:22.187Z"
   },
   {
    "duration": 2430,
    "start_time": "2023-10-16T08:54:03.182Z"
   },
   {
    "duration": 342,
    "start_time": "2023-10-16T08:54:34.322Z"
   },
   {
    "duration": 6,
    "start_time": "2023-10-16T09:03:52.611Z"
   },
   {
    "duration": 8,
    "start_time": "2023-10-16T09:08:01.803Z"
   },
   {
    "duration": 165,
    "start_time": "2023-10-16T09:12:31.603Z"
   },
   {
    "duration": 21,
    "start_time": "2023-10-16T09:12:45.137Z"
   },
   {
    "duration": 18,
    "start_time": "2023-10-16T09:15:04.425Z"
   },
   {
    "duration": 17,
    "start_time": "2023-10-16T09:16:03.410Z"
   },
   {
    "duration": 172,
    "start_time": "2023-10-16T09:17:16.378Z"
   },
   {
    "duration": 6,
    "start_time": "2023-10-16T09:20:06.525Z"
   },
   {
    "duration": 3339,
    "start_time": "2023-10-16T09:22:05.933Z"
   },
   {
    "duration": 937,
    "start_time": "2023-10-16T09:22:09.274Z"
   },
   {
    "duration": 354,
    "start_time": "2023-10-16T09:22:10.213Z"
   },
   {
    "duration": 20,
    "start_time": "2023-10-16T09:22:10.569Z"
   },
   {
    "duration": 93848,
    "start_time": "2023-10-16T09:22:10.591Z"
   },
   {
    "duration": 93519,
    "start_time": "2023-10-16T09:24:07.200Z"
   },
   {
    "duration": 3,
    "start_time": "2023-10-16T09:30:13.652Z"
   },
   {
    "duration": 3,
    "start_time": "2023-10-16T09:30:14.292Z"
   },
   {
    "duration": 3566,
    "start_time": "2023-10-16T09:35:27.160Z"
   },
   {
    "duration": 931,
    "start_time": "2023-10-16T09:35:30.728Z"
   },
   {
    "duration": 356,
    "start_time": "2023-10-16T09:35:31.661Z"
   },
   {
    "duration": 31,
    "start_time": "2023-10-16T09:35:32.019Z"
   },
   {
    "duration": 23,
    "start_time": "2023-10-16T09:35:32.052Z"
   },
   {
    "duration": 29,
    "start_time": "2023-10-16T09:35:32.076Z"
   },
   {
    "duration": 84031,
    "start_time": "2023-10-16T09:35:32.106Z"
   },
   {
    "duration": 0,
    "start_time": "2023-10-16T09:36:56.139Z"
   },
   {
    "duration": 3077,
    "start_time": "2023-10-16T09:41:58.829Z"
   },
   {
    "duration": 958,
    "start_time": "2023-10-16T09:42:01.909Z"
   },
   {
    "duration": 351,
    "start_time": "2023-10-16T09:42:02.869Z"
   },
   {
    "duration": 32,
    "start_time": "2023-10-16T09:42:03.222Z"
   },
   {
    "duration": 31,
    "start_time": "2023-10-16T09:42:03.256Z"
   },
   {
    "duration": 26,
    "start_time": "2023-10-16T09:42:03.288Z"
   },
   {
    "duration": 3035,
    "start_time": "2023-10-16T09:45:57.179Z"
   },
   {
    "duration": 971,
    "start_time": "2023-10-16T09:46:00.216Z"
   },
   {
    "duration": 352,
    "start_time": "2023-10-16T09:46:01.189Z"
   },
   {
    "duration": 20,
    "start_time": "2023-10-16T09:46:01.547Z"
   },
   {
    "duration": 57,
    "start_time": "2023-10-16T09:46:01.570Z"
   },
   {
    "duration": 28,
    "start_time": "2023-10-16T09:46:01.629Z"
   },
   {
    "duration": 1532016,
    "start_time": "2023-10-16T09:46:01.659Z"
   },
   {
    "duration": 0,
    "start_time": "2023-10-16T10:11:33.677Z"
   },
   {
    "duration": 0,
    "start_time": "2023-10-16T10:11:33.678Z"
   },
   {
    "duration": 3226,
    "start_time": "2023-10-16T10:11:44.303Z"
   },
   {
    "duration": 950,
    "start_time": "2023-10-16T10:11:47.531Z"
   },
   {
    "duration": 366,
    "start_time": "2023-10-16T10:11:48.483Z"
   },
   {
    "duration": 21,
    "start_time": "2023-10-16T10:11:48.851Z"
   },
   {
    "duration": 34,
    "start_time": "2023-10-16T10:11:48.874Z"
   },
   {
    "duration": 42,
    "start_time": "2023-10-16T10:11:48.910Z"
   },
   {
    "duration": 292293,
    "start_time": "2023-10-16T10:11:48.953Z"
   },
   {
    "duration": 0,
    "start_time": "2023-10-16T10:16:41.248Z"
   },
   {
    "duration": 0,
    "start_time": "2023-10-16T10:16:41.250Z"
   },
   {
    "duration": 5,
    "start_time": "2023-10-16T10:16:42.705Z"
   },
   {
    "duration": 2977,
    "start_time": "2023-10-16T10:17:19.971Z"
   },
   {
    "duration": 944,
    "start_time": "2023-10-16T10:17:22.951Z"
   },
   {
    "duration": 363,
    "start_time": "2023-10-16T10:17:23.897Z"
   },
   {
    "duration": 25,
    "start_time": "2023-10-16T10:17:24.262Z"
   },
   {
    "duration": 22,
    "start_time": "2023-10-16T10:17:24.290Z"
   },
   {
    "duration": 63,
    "start_time": "2023-10-16T10:17:24.314Z"
   },
   {
    "duration": 3498,
    "start_time": "2023-10-16T10:22:17.640Z"
   },
   {
    "duration": 1099,
    "start_time": "2023-10-16T10:22:21.141Z"
   },
   {
    "duration": 358,
    "start_time": "2023-10-16T10:22:22.242Z"
   },
   {
    "duration": 20,
    "start_time": "2023-10-16T10:22:22.603Z"
   },
   {
    "duration": 26,
    "start_time": "2023-10-16T10:22:22.624Z"
   },
   {
    "duration": 36,
    "start_time": "2023-10-16T10:22:22.652Z"
   },
   {
    "duration": 3051,
    "start_time": "2023-10-16T10:25:11.424Z"
   },
   {
    "duration": 965,
    "start_time": "2023-10-16T10:25:14.478Z"
   },
   {
    "duration": 400,
    "start_time": "2023-10-16T10:25:15.447Z"
   },
   {
    "duration": 22,
    "start_time": "2023-10-16T10:25:15.849Z"
   },
   {
    "duration": 3,
    "start_time": "2023-10-16T10:25:15.874Z"
   },
   {
    "duration": 14,
    "start_time": "2023-10-16T10:25:15.879Z"
   },
   {
    "duration": 3876,
    "start_time": "2023-10-16T10:26:00.278Z"
   },
   {
    "duration": 970,
    "start_time": "2023-10-16T10:26:04.156Z"
   },
   {
    "duration": 424,
    "start_time": "2023-10-16T10:26:05.127Z"
   },
   {
    "duration": 23,
    "start_time": "2023-10-16T10:26:05.553Z"
   },
   {
    "duration": 7,
    "start_time": "2023-10-16T10:26:05.579Z"
   },
   {
    "duration": 16,
    "start_time": "2023-10-16T10:26:05.588Z"
   },
   {
    "duration": 200,
    "start_time": "2023-10-16T10:26:05.606Z"
   },
   {
    "duration": 0,
    "start_time": "2023-10-16T10:26:05.808Z"
   },
   {
    "duration": 0,
    "start_time": "2023-10-16T10:26:05.810Z"
   },
   {
    "duration": 3169,
    "start_time": "2023-10-16T10:26:34.010Z"
   },
   {
    "duration": 958,
    "start_time": "2023-10-16T10:26:37.181Z"
   },
   {
    "duration": 354,
    "start_time": "2023-10-16T10:26:38.141Z"
   },
   {
    "duration": 22,
    "start_time": "2023-10-16T10:26:38.496Z"
   },
   {
    "duration": 128,
    "start_time": "2023-10-16T10:26:38.520Z"
   },
   {
    "duration": 119,
    "start_time": "2023-10-16T10:26:38.650Z"
   },
   {
    "duration": 191,
    "start_time": "2023-10-16T10:26:38.770Z"
   },
   {
    "duration": 0,
    "start_time": "2023-10-16T10:26:38.962Z"
   },
   {
    "duration": 0,
    "start_time": "2023-10-16T10:26:38.963Z"
   },
   {
    "duration": 3103,
    "start_time": "2023-10-16T10:27:13.933Z"
   },
   {
    "duration": 975,
    "start_time": "2023-10-16T10:27:17.038Z"
   },
   {
    "duration": 367,
    "start_time": "2023-10-16T10:27:18.015Z"
   },
   {
    "duration": 21,
    "start_time": "2023-10-16T10:27:18.384Z"
   },
   {
    "duration": 61,
    "start_time": "2023-10-16T10:27:18.408Z"
   },
   {
    "duration": 34,
    "start_time": "2023-10-16T10:27:18.471Z"
   },
   {
    "duration": 4156,
    "start_time": "2023-10-16T14:44:41.328Z"
   },
   {
    "duration": 1006,
    "start_time": "2023-10-16T14:44:45.486Z"
   },
   {
    "duration": 361,
    "start_time": "2023-10-16T14:44:46.494Z"
   },
   {
    "duration": 21,
    "start_time": "2023-10-16T14:44:46.858Z"
   },
   {
    "duration": 33,
    "start_time": "2023-10-16T14:44:46.880Z"
   },
   {
    "duration": 21,
    "start_time": "2023-10-16T14:44:46.915Z"
   },
   {
    "duration": 4039,
    "start_time": "2023-10-16T15:04:37.159Z"
   },
   {
    "duration": 1127,
    "start_time": "2023-10-16T15:04:41.201Z"
   },
   {
    "duration": 429,
    "start_time": "2023-10-16T15:04:42.329Z"
   },
   {
    "duration": 26,
    "start_time": "2023-10-16T15:04:42.759Z"
   },
   {
    "duration": 11,
    "start_time": "2023-10-16T15:04:42.787Z"
   },
   {
    "duration": 19,
    "start_time": "2023-10-16T15:04:42.800Z"
   },
   {
    "duration": 3211,
    "start_time": "2023-10-16T15:06:44.138Z"
   },
   {
    "duration": 967,
    "start_time": "2023-10-16T15:06:47.351Z"
   },
   {
    "duration": 373,
    "start_time": "2023-10-16T15:06:48.321Z"
   },
   {
    "duration": 22,
    "start_time": "2023-10-16T15:06:48.695Z"
   },
   {
    "duration": 26,
    "start_time": "2023-10-16T15:06:48.721Z"
   },
   {
    "duration": 4,
    "start_time": "2023-10-16T15:06:48.749Z"
   },
   {
    "duration": 3506,
    "start_time": "2023-10-16T16:08:58.334Z"
   },
   {
    "duration": 970,
    "start_time": "2023-10-16T16:09:01.843Z"
   },
   {
    "duration": 359,
    "start_time": "2023-10-16T16:09:02.815Z"
   },
   {
    "duration": 21,
    "start_time": "2023-10-16T16:09:03.175Z"
   },
   {
    "duration": 27,
    "start_time": "2023-10-16T16:09:03.198Z"
   },
   {
    "duration": 26,
    "start_time": "2023-10-16T16:09:03.227Z"
   },
   {
    "duration": 216,
    "start_time": "2023-10-16T16:09:03.255Z"
   },
   {
    "duration": 0,
    "start_time": "2023-10-16T16:09:03.473Z"
   },
   {
    "duration": 0,
    "start_time": "2023-10-16T16:09:03.475Z"
   },
   {
    "duration": 5017,
    "start_time": "2023-10-16T17:10:24.564Z"
   },
   {
    "duration": 1047,
    "start_time": "2023-10-16T17:10:29.583Z"
   },
   {
    "duration": 390,
    "start_time": "2023-10-16T17:10:30.632Z"
   },
   {
    "duration": 39,
    "start_time": "2023-10-16T17:10:31.024Z"
   },
   {
    "duration": 104,
    "start_time": "2023-10-16T17:10:31.066Z"
   },
   {
    "duration": 39,
    "start_time": "2023-10-16T17:10:31.172Z"
   },
   {
    "duration": 2845,
    "start_time": "2023-10-17T02:15:34.357Z"
   },
   {
    "duration": 935,
    "start_time": "2023-10-17T02:15:37.204Z"
   },
   {
    "duration": 353,
    "start_time": "2023-10-17T02:15:38.140Z"
   },
   {
    "duration": 21,
    "start_time": "2023-10-17T02:15:38.495Z"
   },
   {
    "duration": 16,
    "start_time": "2023-10-17T02:15:38.518Z"
   },
   {
    "duration": 4,
    "start_time": "2023-10-17T02:15:38.546Z"
   },
   {
    "duration": 198,
    "start_time": "2023-10-17T02:15:38.552Z"
   },
   {
    "duration": 0,
    "start_time": "2023-10-17T02:15:38.752Z"
   },
   {
    "duration": 0,
    "start_time": "2023-10-17T02:15:38.754Z"
   },
   {
    "duration": 2860,
    "start_time": "2023-10-17T02:16:04.867Z"
   },
   {
    "duration": 923,
    "start_time": "2023-10-17T02:16:07.729Z"
   },
   {
    "duration": 344,
    "start_time": "2023-10-17T02:16:08.654Z"
   },
   {
    "duration": 24,
    "start_time": "2023-10-17T02:16:08.999Z"
   },
   {
    "duration": 24,
    "start_time": "2023-10-17T02:16:09.026Z"
   },
   {
    "duration": 14,
    "start_time": "2023-10-17T02:16:09.052Z"
   },
   {
    "duration": 2790,
    "start_time": "2023-10-17T04:36:20.855Z"
   },
   {
    "duration": 957,
    "start_time": "2023-10-17T04:36:23.648Z"
   },
   {
    "duration": 361,
    "start_time": "2023-10-17T04:36:24.607Z"
   },
   {
    "duration": 22,
    "start_time": "2023-10-17T04:36:24.970Z"
   },
   {
    "duration": 3,
    "start_time": "2023-10-17T04:36:24.995Z"
   },
   {
    "duration": 20,
    "start_time": "2023-10-17T04:36:25.000Z"
   },
   {
    "duration": 2910,
    "start_time": "2023-10-17T04:37:09.067Z"
   },
   {
    "duration": 930,
    "start_time": "2023-10-17T04:37:11.979Z"
   },
   {
    "duration": 350,
    "start_time": "2023-10-17T04:37:12.910Z"
   },
   {
    "duration": 21,
    "start_time": "2023-10-17T04:37:13.262Z"
   },
   {
    "duration": 17,
    "start_time": "2023-10-17T04:37:13.285Z"
   },
   {
    "duration": 5,
    "start_time": "2023-10-17T04:37:13.304Z"
   },
   {
    "duration": 3690,
    "start_time": "2023-10-17T04:40:25.139Z"
   },
   {
    "duration": 1045,
    "start_time": "2023-10-17T04:40:28.831Z"
   },
   {
    "duration": 432,
    "start_time": "2023-10-17T04:40:29.878Z"
   },
   {
    "duration": 43,
    "start_time": "2023-10-17T04:40:30.313Z"
   },
   {
    "duration": 45,
    "start_time": "2023-10-17T04:40:30.359Z"
   },
   {
    "duration": 76,
    "start_time": "2023-10-17T04:40:30.405Z"
   },
   {
    "duration": 3364,
    "start_time": "2023-10-17T04:54:58.856Z"
   },
   {
    "duration": 934,
    "start_time": "2023-10-17T04:55:02.222Z"
   },
   {
    "duration": 356,
    "start_time": "2023-10-17T04:55:03.158Z"
   },
   {
    "duration": 31,
    "start_time": "2023-10-17T04:55:03.516Z"
   },
   {
    "duration": 40,
    "start_time": "2023-10-17T04:55:03.550Z"
   },
   {
    "duration": 26,
    "start_time": "2023-10-17T04:55:03.592Z"
   },
   {
    "duration": 21836,
    "start_time": "2023-10-17T04:55:03.620Z"
   },
   {
    "duration": 0,
    "start_time": "2023-10-17T04:55:25.458Z"
   },
   {
    "duration": 0,
    "start_time": "2023-10-17T04:55:25.459Z"
   },
   {
    "duration": 2938,
    "start_time": "2023-10-17T04:56:28.006Z"
   },
   {
    "duration": 942,
    "start_time": "2023-10-17T04:56:30.948Z"
   },
   {
    "duration": 363,
    "start_time": "2023-10-17T04:56:31.892Z"
   },
   {
    "duration": 21,
    "start_time": "2023-10-17T04:56:32.257Z"
   },
   {
    "duration": 177,
    "start_time": "2023-10-17T04:56:32.280Z"
   },
   {
    "duration": 31,
    "start_time": "2023-10-17T04:56:32.458Z"
   },
   {
    "duration": 9190,
    "start_time": "2023-10-17T04:56:32.490Z"
   },
   {
    "duration": 1,
    "start_time": "2023-10-17T04:56:41.681Z"
   },
   {
    "duration": 0,
    "start_time": "2023-10-17T04:56:41.683Z"
   },
   {
    "duration": 2969,
    "start_time": "2023-10-17T04:57:37.415Z"
   },
   {
    "duration": 918,
    "start_time": "2023-10-17T04:57:40.386Z"
   },
   {
    "duration": 354,
    "start_time": "2023-10-17T04:57:41.305Z"
   },
   {
    "duration": 20,
    "start_time": "2023-10-17T04:57:41.661Z"
   },
   {
    "duration": 30,
    "start_time": "2023-10-17T04:57:41.683Z"
   },
   {
    "duration": 30,
    "start_time": "2023-10-17T04:57:41.714Z"
   },
   {
    "duration": 3010,
    "start_time": "2023-10-17T04:58:47.946Z"
   },
   {
    "duration": 927,
    "start_time": "2023-10-17T04:58:50.958Z"
   },
   {
    "duration": 350,
    "start_time": "2023-10-17T04:58:51.886Z"
   },
   {
    "duration": 26,
    "start_time": "2023-10-17T04:58:52.237Z"
   },
   {
    "duration": 4,
    "start_time": "2023-10-17T04:58:52.265Z"
   },
   {
    "duration": 6,
    "start_time": "2023-10-17T04:58:52.271Z"
   },
   {
    "duration": 10477,
    "start_time": "2023-10-17T04:58:52.279Z"
   },
   {
    "duration": 0,
    "start_time": "2023-10-17T04:59:02.758Z"
   },
   {
    "duration": 0,
    "start_time": "2023-10-17T04:59:02.760Z"
   },
   {
    "duration": 13,
    "start_time": "2023-10-17T05:00:09.676Z"
   },
   {
    "duration": 13,
    "start_time": "2023-10-17T05:00:15.728Z"
   },
   {
    "duration": 3028,
    "start_time": "2023-10-17T05:00:31.461Z"
   },
   {
    "duration": 954,
    "start_time": "2023-10-17T05:00:34.491Z"
   },
   {
    "duration": 371,
    "start_time": "2023-10-17T05:00:35.447Z"
   },
   {
    "duration": 33,
    "start_time": "2023-10-17T05:00:35.819Z"
   },
   {
    "duration": 56,
    "start_time": "2023-10-17T05:00:35.854Z"
   },
   {
    "duration": 40,
    "start_time": "2023-10-17T05:00:35.912Z"
   },
   {
    "duration": 3085,
    "start_time": "2023-10-17T05:01:13.086Z"
   },
   {
    "duration": 937,
    "start_time": "2023-10-17T05:01:16.173Z"
   },
   {
    "duration": 355,
    "start_time": "2023-10-17T05:01:17.112Z"
   },
   {
    "duration": 20,
    "start_time": "2023-10-17T05:01:17.468Z"
   },
   {
    "duration": 30,
    "start_time": "2023-10-17T05:01:17.490Z"
   },
   {
    "duration": 35,
    "start_time": "2023-10-17T05:01:17.522Z"
   },
   {
    "duration": 5737848,
    "start_time": "2023-10-17T05:01:17.559Z"
   },
   {
    "duration": 0,
    "start_time": "2023-10-17T06:36:55.409Z"
   },
   {
    "duration": 0,
    "start_time": "2023-10-17T06:36:55.410Z"
   },
   {
    "duration": 0,
    "start_time": "2023-10-17T06:36:55.412Z"
   },
   {
    "duration": 19,
    "start_time": "2023-10-17T06:36:56.864Z"
   },
   {
    "duration": 768005,
    "start_time": "2023-10-17T06:37:08.283Z"
   },
   {
    "duration": 40,
    "start_time": "2023-10-17T07:32:39.496Z"
   },
   {
    "duration": 4,
    "start_time": "2023-10-17T07:32:55.369Z"
   },
   {
    "duration": 3,
    "start_time": "2023-10-17T07:32:55.864Z"
   },
   {
    "duration": 3248,
    "start_time": "2023-10-17T07:34:34.933Z"
   },
   {
    "duration": 957,
    "start_time": "2023-10-17T07:34:38.183Z"
   },
   {
    "duration": 355,
    "start_time": "2023-10-17T07:34:39.147Z"
   },
   {
    "duration": 21,
    "start_time": "2023-10-17T07:34:39.504Z"
   },
   {
    "duration": 34,
    "start_time": "2023-10-17T07:34:39.527Z"
   },
   {
    "duration": 24,
    "start_time": "2023-10-17T07:34:39.562Z"
   },
   {
    "duration": 98375,
    "start_time": "2023-10-17T07:34:39.588Z"
   },
   {
    "duration": 957,
    "start_time": "2023-10-17T07:36:17.965Z"
   },
   {
    "duration": 0,
    "start_time": "2023-10-17T07:36:18.925Z"
   },
   {
    "duration": 0,
    "start_time": "2023-10-17T07:36:18.926Z"
   },
   {
    "duration": 3024,
    "start_time": "2023-10-17T07:38:32.886Z"
   },
   {
    "duration": 963,
    "start_time": "2023-10-17T07:38:35.912Z"
   },
   {
    "duration": 370,
    "start_time": "2023-10-17T07:38:36.879Z"
   },
   {
    "duration": 20,
    "start_time": "2023-10-17T07:38:37.251Z"
   },
   {
    "duration": 12,
    "start_time": "2023-10-17T07:38:37.273Z"
   },
   {
    "duration": 22,
    "start_time": "2023-10-17T07:38:37.287Z"
   },
   {
    "duration": 98743,
    "start_time": "2023-10-17T07:38:37.310Z"
   },
   {
    "duration": 2141,
    "start_time": "2023-10-17T07:40:16.055Z"
   },
   {
    "duration": 6125,
    "start_time": "2023-10-17T07:43:29.980Z"
   },
   {
    "duration": 2334,
    "start_time": "2023-10-17T07:43:36.108Z"
   },
   {
    "duration": 368,
    "start_time": "2023-10-17T07:43:38.444Z"
   },
   {
    "duration": 35,
    "start_time": "2023-10-17T07:43:38.815Z"
   },
   {
    "duration": 29,
    "start_time": "2023-10-17T07:43:38.853Z"
   },
   {
    "duration": 102,
    "start_time": "2023-10-17T07:43:38.884Z"
   },
   {
    "duration": 96836,
    "start_time": "2023-10-17T07:43:38.988Z"
   },
   {
    "duration": 2136,
    "start_time": "2023-10-17T07:45:15.826Z"
   },
   {
    "duration": 53,
    "start_time": "2023-10-17T07:51:05.973Z"
   },
   {
    "duration": 4770,
    "start_time": "2023-10-17T07:51:13.679Z"
   },
   {
    "duration": 2395,
    "start_time": "2023-10-17T07:51:18.451Z"
   },
   {
    "duration": 365,
    "start_time": "2023-10-17T07:51:20.848Z"
   },
   {
    "duration": 33,
    "start_time": "2023-10-17T07:51:21.215Z"
   },
   {
    "duration": 3,
    "start_time": "2023-10-17T07:51:21.251Z"
   },
   {
    "duration": 8,
    "start_time": "2023-10-17T07:51:21.257Z"
   },
   {
    "duration": 97487,
    "start_time": "2023-10-17T07:51:21.267Z"
   },
   {
    "duration": 2327,
    "start_time": "2023-10-17T07:52:58.756Z"
   },
   {
    "duration": 25940,
    "start_time": "2023-10-17T07:53:01.085Z"
   },
   {
    "duration": 25817,
    "start_time": "2023-10-17T07:53:31.617Z"
   },
   {
    "duration": 6905,
    "start_time": "2023-10-17T07:56:49.159Z"
   },
   {
    "duration": 68,
    "start_time": "2023-10-17T07:59:01.214Z"
   },
   {
    "duration": 90,
    "start_time": "2023-10-17T08:11:50.590Z"
   },
   {
    "duration": 82,
    "start_time": "2023-10-17T08:12:00.884Z"
   },
   {
    "duration": 80,
    "start_time": "2023-10-17T08:12:07.578Z"
   },
   {
    "duration": 71,
    "start_time": "2023-10-17T08:35:59.107Z"
   },
   {
    "duration": 85,
    "start_time": "2023-10-17T08:40:26.816Z"
   },
   {
    "duration": 13,
    "start_time": "2023-10-17T08:40:32.756Z"
   },
   {
    "duration": 13,
    "start_time": "2023-10-17T08:43:01.450Z"
   },
   {
    "duration": 5,
    "start_time": "2023-10-17T08:43:07.369Z"
   },
   {
    "duration": 53,
    "start_time": "2023-10-17T08:43:54.697Z"
   },
   {
    "duration": 4646,
    "start_time": "2023-10-17T08:44:04.591Z"
   },
   {
    "duration": 2342,
    "start_time": "2023-10-17T08:44:09.239Z"
   },
   {
    "duration": 342,
    "start_time": "2023-10-17T08:44:11.583Z"
   },
   {
    "duration": 26,
    "start_time": "2023-10-17T08:44:11.927Z"
   },
   {
    "duration": 17,
    "start_time": "2023-10-17T08:44:11.957Z"
   },
   {
    "duration": 5,
    "start_time": "2023-10-17T08:44:11.976Z"
   },
   {
    "duration": 105302,
    "start_time": "2023-10-17T08:44:11.983Z"
   },
   {
    "duration": 2234,
    "start_time": "2023-10-17T08:45:57.287Z"
   },
   {
    "duration": 25551,
    "start_time": "2023-10-17T08:45:59.522Z"
   },
   {
    "duration": 89,
    "start_time": "2023-10-17T08:46:25.075Z"
   },
   {
    "duration": 132538,
    "start_time": "2023-10-17T08:46:25.166Z"
   },
   {
    "duration": 609840,
    "start_time": "2023-10-17T08:53:32.045Z"
   },
   {
    "duration": 435806,
    "start_time": "2023-10-17T09:07:17.637Z"
   },
   {
    "duration": 4084,
    "start_time": "2023-10-17T09:38:31.682Z"
   },
   {
    "duration": 2539,
    "start_time": "2023-10-17T09:38:35.768Z"
   },
   {
    "duration": 366,
    "start_time": "2023-10-17T09:38:38.309Z"
   },
   {
    "duration": 22,
    "start_time": "2023-10-17T09:38:38.677Z"
   },
   {
    "duration": 14,
    "start_time": "2023-10-17T09:38:38.701Z"
   },
   {
    "duration": 12,
    "start_time": "2023-10-17T09:38:38.717Z"
   },
   {
    "duration": 103428,
    "start_time": "2023-10-17T09:38:38.731Z"
   },
   {
    "duration": 2342,
    "start_time": "2023-10-17T09:40:22.163Z"
   },
   {
    "duration": 26596,
    "start_time": "2023-10-17T09:40:24.507Z"
   },
   {
    "duration": 99,
    "start_time": "2023-10-17T09:40:51.106Z"
   },
   {
    "duration": 603629,
    "start_time": "2023-10-17T09:40:51.207Z"
   },
   {
    "duration": 58532,
    "start_time": "2023-10-17T09:50:54.837Z"
   },
   {
    "duration": 0,
    "start_time": "2023-10-17T09:51:53.370Z"
   },
   {
    "duration": 59684,
    "start_time": "2023-10-17T10:00:49.623Z"
   },
   {
    "duration": 17,
    "start_time": "2023-10-17T10:01:49.309Z"
   },
   {
    "duration": 0,
    "start_time": "2023-10-17T10:05:50.764Z"
   },
   {
    "duration": 0,
    "start_time": "2023-10-17T10:05:50.765Z"
   },
   {
    "duration": 0,
    "start_time": "2023-10-17T10:05:50.766Z"
   },
   {
    "duration": 0,
    "start_time": "2023-10-17T10:05:50.767Z"
   },
   {
    "duration": 4013,
    "start_time": "2023-10-17T10:05:55.906Z"
   },
   {
    "duration": 2269,
    "start_time": "2023-10-17T10:05:59.921Z"
   },
   {
    "duration": 370,
    "start_time": "2023-10-17T10:06:02.192Z"
   },
   {
    "duration": 21,
    "start_time": "2023-10-17T10:06:02.563Z"
   },
   {
    "duration": 157,
    "start_time": "2023-10-17T10:06:02.586Z"
   },
   {
    "duration": 73,
    "start_time": "2023-10-17T10:06:02.744Z"
   },
   {
    "duration": 103037,
    "start_time": "2023-10-17T10:06:02.821Z"
   },
   {
    "duration": 2304,
    "start_time": "2023-10-17T10:07:45.860Z"
   },
   {
    "duration": 26248,
    "start_time": "2023-10-17T10:07:48.166Z"
   },
   {
    "duration": 89,
    "start_time": "2023-10-17T10:08:14.416Z"
   },
   {
    "duration": 455822,
    "start_time": "2023-10-17T10:08:14.507Z"
   },
   {
    "duration": 9670861,
    "start_time": "2023-10-17T10:15:50.332Z"
   },
   {
    "duration": 258,
    "start_time": "2023-10-17T12:57:01.195Z"
   },
   {
    "duration": 59,
    "start_time": "2023-10-17T13:20:49.404Z"
   },
   {
    "duration": 26,
    "start_time": "2023-10-17T13:21:21.599Z"
   },
   {
    "duration": 39,
    "start_time": "2023-10-17T13:21:51.435Z"
   },
   {
    "duration": 28,
    "start_time": "2023-10-17T13:23:14.089Z"
   },
   {
    "duration": 26,
    "start_time": "2023-10-17T13:23:58.515Z"
   },
   {
    "duration": 57,
    "start_time": "2023-10-17T13:28:09.908Z"
   },
   {
    "duration": 10414,
    "start_time": "2023-10-17T13:29:27.906Z"
   },
   {
    "duration": 2583,
    "start_time": "2023-10-17T13:29:38.322Z"
   },
   {
    "duration": 359,
    "start_time": "2023-10-17T13:29:40.907Z"
   },
   {
    "duration": 21,
    "start_time": "2023-10-17T13:29:41.268Z"
   },
   {
    "duration": 20,
    "start_time": "2023-10-17T13:29:41.291Z"
   },
   {
    "duration": 14,
    "start_time": "2023-10-17T13:29:41.313Z"
   },
   {
    "duration": 105696,
    "start_time": "2023-10-17T13:29:41.328Z"
   },
   {
    "duration": 2268,
    "start_time": "2023-10-17T13:31:27.026Z"
   },
   {
    "duration": 28267,
    "start_time": "2023-10-17T13:31:29.296Z"
   },
   {
    "duration": 99,
    "start_time": "2023-10-17T13:31:57.569Z"
   },
   {
    "duration": 55,
    "start_time": "2023-10-17T13:40:53.390Z"
   },
   {
    "duration": 9867,
    "start_time": "2023-10-17T13:41:02.553Z"
   },
   {
    "duration": 2608,
    "start_time": "2023-10-17T13:41:12.423Z"
   },
   {
    "duration": 476,
    "start_time": "2023-10-17T13:41:15.033Z"
   },
   {
    "duration": 53,
    "start_time": "2023-10-17T13:41:15.510Z"
   },
   {
    "duration": 5,
    "start_time": "2023-10-17T13:41:15.566Z"
   },
   {
    "duration": 92,
    "start_time": "2023-10-17T13:41:15.573Z"
   },
   {
    "duration": 116833,
    "start_time": "2023-10-17T13:41:15.667Z"
   },
   {
    "duration": 2355,
    "start_time": "2023-10-17T13:43:12.503Z"
   },
   {
    "duration": 28659,
    "start_time": "2023-10-17T13:43:14.862Z"
   },
   {
    "duration": 93,
    "start_time": "2023-10-17T13:43:43.523Z"
   },
   {
    "duration": 8868,
    "start_time": "2023-10-17T13:44:33.839Z"
   },
   {
    "duration": 2592,
    "start_time": "2023-10-17T13:44:42.710Z"
   },
   {
    "duration": 384,
    "start_time": "2023-10-17T13:44:45.304Z"
   },
   {
    "duration": 33,
    "start_time": "2023-10-17T13:44:45.691Z"
   },
   {
    "duration": 38,
    "start_time": "2023-10-17T13:44:45.727Z"
   },
   {
    "duration": 9,
    "start_time": "2023-10-17T13:44:45.767Z"
   },
   {
    "duration": 114507,
    "start_time": "2023-10-17T13:44:45.779Z"
   },
   {
    "duration": 2400,
    "start_time": "2023-10-17T13:46:40.288Z"
   },
   {
    "duration": 29294,
    "start_time": "2023-10-17T13:46:42.691Z"
   },
   {
    "duration": 94,
    "start_time": "2023-10-17T13:47:11.988Z"
   },
   {
    "duration": 246,
    "start_time": "2023-10-17T13:47:12.084Z"
   },
   {
    "duration": 0,
    "start_time": "2023-10-17T13:47:12.331Z"
   },
   {
    "duration": 0,
    "start_time": "2023-10-17T13:47:12.333Z"
   },
   {
    "duration": 324,
    "start_time": "2023-10-17T14:01:06.865Z"
   },
   {
    "duration": 175,
    "start_time": "2023-10-17T14:01:26.380Z"
   },
   {
    "duration": 5172,
    "start_time": "2023-10-17T14:02:07.244Z"
   },
   {
    "duration": 0,
    "start_time": "2023-10-17T14:02:12.418Z"
   },
   {
    "duration": 0,
    "start_time": "2023-10-17T14:02:12.422Z"
   },
   {
    "duration": 0,
    "start_time": "2023-10-17T14:02:12.423Z"
   },
   {
    "duration": 0,
    "start_time": "2023-10-17T14:02:12.424Z"
   },
   {
    "duration": 0,
    "start_time": "2023-10-17T14:02:12.425Z"
   },
   {
    "duration": 0,
    "start_time": "2023-10-17T14:02:12.426Z"
   },
   {
    "duration": 0,
    "start_time": "2023-10-17T14:02:12.428Z"
   },
   {
    "duration": 0,
    "start_time": "2023-10-17T14:02:12.429Z"
   },
   {
    "duration": 0,
    "start_time": "2023-10-17T14:02:12.430Z"
   },
   {
    "duration": 0,
    "start_time": "2023-10-17T14:02:12.431Z"
   },
   {
    "duration": 0,
    "start_time": "2023-10-17T14:02:12.432Z"
   },
   {
    "duration": 0,
    "start_time": "2023-10-17T14:02:12.433Z"
   },
   {
    "duration": 6791,
    "start_time": "2023-10-17T14:02:46.863Z"
   },
   {
    "duration": 2775,
    "start_time": "2023-10-17T14:02:53.660Z"
   },
   {
    "duration": 380,
    "start_time": "2023-10-17T14:02:56.437Z"
   },
   {
    "duration": 38,
    "start_time": "2023-10-17T14:02:56.819Z"
   },
   {
    "duration": 4,
    "start_time": "2023-10-17T14:02:56.866Z"
   },
   {
    "duration": 29,
    "start_time": "2023-10-17T14:02:56.872Z"
   },
   {
    "duration": 129883,
    "start_time": "2023-10-17T14:02:56.903Z"
   },
   {
    "duration": 2484,
    "start_time": "2023-10-17T14:05:06.789Z"
   },
   {
    "duration": 29802,
    "start_time": "2023-10-17T14:05:09.276Z"
   },
   {
    "duration": 304,
    "start_time": "2023-10-17T14:05:39.080Z"
   },
   {
    "duration": 12284,
    "start_time": "2023-10-17T14:05:59.901Z"
   },
   {
    "duration": 3311,
    "start_time": "2023-10-17T14:06:12.188Z"
   },
   {
    "duration": 505,
    "start_time": "2023-10-17T14:06:15.501Z"
   },
   {
    "duration": 45,
    "start_time": "2023-10-17T14:06:16.010Z"
   },
   {
    "duration": 15,
    "start_time": "2023-10-17T14:06:16.059Z"
   },
   {
    "duration": 20,
    "start_time": "2023-10-17T14:06:16.077Z"
   },
   {
    "duration": 154971,
    "start_time": "2023-10-17T14:06:16.099Z"
   },
   {
    "duration": 2641,
    "start_time": "2023-10-17T14:08:51.075Z"
   },
   {
    "duration": 31175,
    "start_time": "2023-10-17T14:08:53.718Z"
   },
   {
    "duration": 302,
    "start_time": "2023-10-17T14:09:24.896Z"
   },
   {
    "duration": 11861,
    "start_time": "2023-10-17T14:10:01.711Z"
   },
   {
    "duration": 3059,
    "start_time": "2023-10-17T14:10:13.575Z"
   },
   {
    "duration": 438,
    "start_time": "2023-10-17T14:10:16.637Z"
   },
   {
    "duration": 23,
    "start_time": "2023-10-17T14:10:17.077Z"
   },
   {
    "duration": 94,
    "start_time": "2023-10-17T14:10:17.103Z"
   },
   {
    "duration": 21,
    "start_time": "2023-10-17T14:10:17.199Z"
   },
   {
    "duration": 150568,
    "start_time": "2023-10-17T14:10:17.222Z"
   },
   {
    "duration": 2968,
    "start_time": "2023-10-17T14:12:47.793Z"
   },
   {
    "duration": 10113,
    "start_time": "2023-10-17T14:14:02.570Z"
   },
   {
    "duration": 3207,
    "start_time": "2023-10-17T14:14:12.685Z"
   },
   {
    "duration": 455,
    "start_time": "2023-10-17T14:14:15.894Z"
   },
   {
    "duration": 38,
    "start_time": "2023-10-17T14:14:16.353Z"
   },
   {
    "duration": 5,
    "start_time": "2023-10-17T14:14:16.393Z"
   },
   {
    "duration": 28,
    "start_time": "2023-10-17T14:14:16.400Z"
   },
   {
    "duration": 134280,
    "start_time": "2023-10-17T14:14:16.431Z"
   },
   {
    "duration": 2564,
    "start_time": "2023-10-17T14:16:30.713Z"
   },
   {
    "duration": 33565,
    "start_time": "2023-10-17T14:16:33.279Z"
   },
   {
    "duration": 211,
    "start_time": "2023-10-17T14:17:06.849Z"
   },
   {
    "duration": 60,
    "start_time": "2023-10-17T14:19:53.907Z"
   },
   {
    "duration": 8,
    "start_time": "2023-10-17T14:19:55.605Z"
   },
   {
    "duration": 9982,
    "start_time": "2023-10-17T14:20:01.459Z"
   },
   {
    "duration": 2560,
    "start_time": "2023-10-17T14:20:11.443Z"
   },
   {
    "duration": 390,
    "start_time": "2023-10-17T14:20:14.005Z"
   },
   {
    "duration": 21,
    "start_time": "2023-10-17T14:20:14.398Z"
   },
   {
    "duration": 29,
    "start_time": "2023-10-17T14:20:14.422Z"
   },
   {
    "duration": 30,
    "start_time": "2023-10-17T14:20:14.458Z"
   },
   {
    "duration": 114648,
    "start_time": "2023-10-17T14:20:14.490Z"
   },
   {
    "duration": 2353,
    "start_time": "2023-10-17T14:22:09.140Z"
   },
   {
    "duration": 33525,
    "start_time": "2023-10-17T14:22:11.495Z"
   },
   {
    "duration": 114,
    "start_time": "2023-10-17T14:22:45.022Z"
   },
   {
    "duration": 11148,
    "start_time": "2023-10-17T14:23:29.058Z"
   },
   {
    "duration": 2577,
    "start_time": "2023-10-17T14:23:40.208Z"
   },
   {
    "duration": 381,
    "start_time": "2023-10-17T14:23:42.786Z"
   },
   {
    "duration": 21,
    "start_time": "2023-10-17T14:23:43.169Z"
   },
   {
    "duration": 5,
    "start_time": "2023-10-17T14:23:43.193Z"
   },
   {
    "duration": 5,
    "start_time": "2023-10-17T14:23:43.199Z"
   },
   {
    "duration": 113456,
    "start_time": "2023-10-17T14:23:43.206Z"
   },
   {
    "duration": 2328,
    "start_time": "2023-10-17T14:25:36.664Z"
   },
   {
    "duration": 34040,
    "start_time": "2023-10-17T14:25:38.994Z"
   },
   {
    "duration": 125,
    "start_time": "2023-10-17T14:26:13.036Z"
   },
   {
    "duration": 12861,
    "start_time": "2023-10-17T14:30:28.475Z"
   },
   {
    "duration": 3201,
    "start_time": "2023-10-17T14:32:17.703Z"
   },
   {
    "duration": 2601,
    "start_time": "2023-10-17T14:32:20.906Z"
   },
   {
    "duration": 371,
    "start_time": "2023-10-17T14:32:23.509Z"
   },
   {
    "duration": 22,
    "start_time": "2023-10-17T14:32:23.882Z"
   },
   {
    "duration": 6,
    "start_time": "2023-10-17T14:32:23.906Z"
   },
   {
    "duration": 10,
    "start_time": "2023-10-17T14:32:23.913Z"
   },
   {
    "duration": 112560,
    "start_time": "2023-10-17T14:32:23.924Z"
   },
   {
    "duration": 2416,
    "start_time": "2023-10-17T14:34:16.485Z"
   },
   {
    "duration": 33527,
    "start_time": "2023-10-17T14:34:18.903Z"
   },
   {
    "duration": 142,
    "start_time": "2023-10-17T14:34:52.433Z"
   },
   {
    "duration": 288,
    "start_time": "2023-10-17T14:34:52.577Z"
   },
   {
    "duration": 0,
    "start_time": "2023-10-17T14:34:52.868Z"
   },
   {
    "duration": 4354,
    "start_time": "2023-10-17T14:38:18.268Z"
   },
   {
    "duration": 1136,
    "start_time": "2023-10-17T14:38:22.624Z"
   },
   {
    "duration": 403,
    "start_time": "2023-10-17T14:38:23.762Z"
   },
   {
    "duration": 28,
    "start_time": "2023-10-17T14:38:24.167Z"
   },
   {
    "duration": 19,
    "start_time": "2023-10-17T14:38:24.198Z"
   },
   {
    "duration": 62,
    "start_time": "2023-10-17T14:38:24.219Z"
   },
   {
    "duration": 119665,
    "start_time": "2023-10-17T14:38:24.283Z"
   },
   {
    "duration": 2577,
    "start_time": "2023-10-17T14:40:23.957Z"
   },
   {
    "duration": 9760,
    "start_time": "2023-10-17T14:41:32.339Z"
   },
   {
    "duration": 3010,
    "start_time": "2023-10-17T14:41:42.101Z"
   },
   {
    "duration": 414,
    "start_time": "2023-10-17T14:41:45.113Z"
   },
   {
    "duration": 47,
    "start_time": "2023-10-17T14:41:45.531Z"
   },
   {
    "duration": 6,
    "start_time": "2023-10-17T14:41:45.581Z"
   },
   {
    "duration": 8,
    "start_time": "2023-10-17T14:41:45.589Z"
   },
   {
    "duration": 118762,
    "start_time": "2023-10-17T14:41:45.598Z"
   },
   {
    "duration": 2628,
    "start_time": "2023-10-17T14:43:44.362Z"
   },
   {
    "duration": 35470,
    "start_time": "2023-10-17T14:43:46.992Z"
   },
   {
    "duration": 135,
    "start_time": "2023-10-17T14:44:22.473Z"
   },
   {
    "duration": 276,
    "start_time": "2023-10-17T14:44:22.609Z"
   },
   {
    "duration": 0,
    "start_time": "2023-10-17T14:44:22.887Z"
   },
   {
    "duration": 164,
    "start_time": "2023-10-17T14:47:09.414Z"
   },
   {
    "duration": 186,
    "start_time": "2023-10-17T14:49:55.374Z"
   },
   {
    "duration": 8996,
    "start_time": "2023-10-17T14:53:08.481Z"
   },
   {
    "duration": 3026,
    "start_time": "2023-10-17T14:53:17.480Z"
   },
   {
    "duration": 393,
    "start_time": "2023-10-17T14:53:20.507Z"
   },
   {
    "duration": 23,
    "start_time": "2023-10-17T14:53:20.902Z"
   },
   {
    "duration": 18,
    "start_time": "2023-10-17T14:53:20.948Z"
   },
   {
    "duration": 35,
    "start_time": "2023-10-17T14:53:20.970Z"
   },
   {
    "duration": 118812,
    "start_time": "2023-10-17T14:53:21.007Z"
   },
   {
    "duration": 2599,
    "start_time": "2023-10-17T14:55:19.821Z"
   },
   {
    "duration": 35169,
    "start_time": "2023-10-17T14:55:22.422Z"
   },
   {
    "duration": 137,
    "start_time": "2023-10-17T14:55:57.593Z"
   },
   {
    "duration": 12675,
    "start_time": "2023-10-17T14:59:53.383Z"
   },
   {
    "duration": 3025,
    "start_time": "2023-10-17T15:00:06.061Z"
   },
   {
    "duration": 394,
    "start_time": "2023-10-17T15:00:09.088Z"
   },
   {
    "duration": 23,
    "start_time": "2023-10-17T15:00:09.484Z"
   },
   {
    "duration": 29,
    "start_time": "2023-10-17T15:00:09.510Z"
   },
   {
    "duration": 34,
    "start_time": "2023-10-17T15:00:09.541Z"
   },
   {
    "duration": 119214,
    "start_time": "2023-10-17T15:00:09.578Z"
   },
   {
    "duration": 2607,
    "start_time": "2023-10-17T15:02:08.794Z"
   },
   {
    "duration": 17413,
    "start_time": "2023-10-17T15:02:11.403Z"
   },
   {
    "duration": 0,
    "start_time": "2023-10-17T15:02:28.818Z"
   },
   {
    "duration": 0,
    "start_time": "2023-10-17T15:02:28.820Z"
   },
   {
    "duration": 0,
    "start_time": "2023-10-17T15:02:28.822Z"
   },
   {
    "duration": 9889,
    "start_time": "2023-10-17T15:05:41.787Z"
   },
   {
    "duration": 3093,
    "start_time": "2023-10-17T15:05:51.678Z"
   },
   {
    "duration": 400,
    "start_time": "2023-10-17T15:05:54.773Z"
   },
   {
    "duration": 32,
    "start_time": "2023-10-17T15:05:55.176Z"
   },
   {
    "duration": 82,
    "start_time": "2023-10-17T15:05:55.211Z"
   },
   {
    "duration": 78,
    "start_time": "2023-10-17T15:05:55.296Z"
   },
   {
    "duration": 132993,
    "start_time": "2023-10-17T15:05:55.381Z"
   },
   {
    "duration": 2788,
    "start_time": "2023-10-17T15:08:08.380Z"
   },
   {
    "duration": 36908,
    "start_time": "2023-10-17T15:08:11.170Z"
   },
   {
    "duration": 0,
    "start_time": "2023-10-17T15:08:48.080Z"
   },
   {
    "duration": 0,
    "start_time": "2023-10-17T15:08:48.083Z"
   },
   {
    "duration": 0,
    "start_time": "2023-10-17T15:08:48.086Z"
   },
   {
    "duration": 3613,
    "start_time": "2023-10-17T15:11:03.494Z"
   },
   {
    "duration": 1106,
    "start_time": "2023-10-17T15:11:07.109Z"
   },
   {
    "duration": 421,
    "start_time": "2023-10-17T15:11:08.217Z"
   },
   {
    "duration": 30,
    "start_time": "2023-10-17T15:11:08.647Z"
   },
   {
    "duration": 6,
    "start_time": "2023-10-17T15:11:08.679Z"
   },
   {
    "duration": 15,
    "start_time": "2023-10-17T15:11:08.687Z"
   },
   {
    "duration": 132510,
    "start_time": "2023-10-17T15:11:08.704Z"
   },
   {
    "duration": 2518,
    "start_time": "2023-10-17T15:13:21.216Z"
   },
   {
    "duration": 33815,
    "start_time": "2023-10-17T15:13:23.735Z"
   },
   {
    "duration": 136,
    "start_time": "2023-10-17T15:13:57.554Z"
   },
   {
    "duration": 9331,
    "start_time": "2023-10-17T15:22:31.076Z"
   },
   {
    "duration": 2963,
    "start_time": "2023-10-17T15:22:40.410Z"
   },
   {
    "duration": 383,
    "start_time": "2023-10-17T15:22:43.377Z"
   },
   {
    "duration": 26,
    "start_time": "2023-10-17T15:22:43.762Z"
   },
   {
    "duration": 18,
    "start_time": "2023-10-17T15:22:43.790Z"
   },
   {
    "duration": 17,
    "start_time": "2023-10-17T15:22:43.809Z"
   },
   {
    "duration": 118289,
    "start_time": "2023-10-17T15:22:43.828Z"
   },
   {
    "duration": 2488,
    "start_time": "2023-10-17T15:24:42.120Z"
   },
   {
    "duration": 34154,
    "start_time": "2023-10-17T15:24:44.610Z"
   },
   {
    "duration": 135,
    "start_time": "2023-10-17T15:25:18.766Z"
   },
   {
    "duration": 8961,
    "start_time": "2023-10-17T16:12:03.669Z"
   },
   {
    "duration": 2638,
    "start_time": "2023-10-17T16:12:12.632Z"
   },
   {
    "duration": 411,
    "start_time": "2023-10-17T16:12:15.273Z"
   },
   {
    "duration": 21,
    "start_time": "2023-10-17T16:12:15.686Z"
   },
   {
    "duration": 50,
    "start_time": "2023-10-17T16:12:15.710Z"
   },
   {
    "duration": 34,
    "start_time": "2023-10-17T16:12:15.763Z"
   },
   {
    "duration": 112303,
    "start_time": "2023-10-17T16:12:15.799Z"
   },
   {
    "duration": 2345,
    "start_time": "2023-10-17T16:14:08.104Z"
   },
   {
    "duration": 32038,
    "start_time": "2023-10-17T16:14:10.450Z"
   },
   {
    "duration": 139,
    "start_time": "2023-10-17T16:14:42.491Z"
   },
   {
    "duration": 7472,
    "start_time": "2023-10-18T04:36:53.288Z"
   },
   {
    "duration": 2423,
    "start_time": "2023-10-18T04:37:00.762Z"
   },
   {
    "duration": 363,
    "start_time": "2023-10-18T04:37:03.187Z"
   },
   {
    "duration": 20,
    "start_time": "2023-10-18T04:37:03.551Z"
   },
   {
    "duration": 49,
    "start_time": "2023-10-18T04:37:03.573Z"
   },
   {
    "duration": 39,
    "start_time": "2023-10-18T04:37:03.624Z"
   },
   {
    "duration": 97947,
    "start_time": "2023-10-18T04:37:03.664Z"
   },
   {
    "duration": 2128,
    "start_time": "2023-10-18T04:38:41.612Z"
   },
   {
    "duration": 53,
    "start_time": "2023-10-18T04:38:43.747Z"
   },
   {
    "duration": 20197,
    "start_time": "2023-10-18T04:38:43.801Z"
   },
   {
    "duration": 61729,
    "start_time": "2023-10-18T04:39:04.000Z"
   },
   {
    "duration": 17,
    "start_time": "2023-10-18T04:40:05.730Z"
   },
   {
    "duration": 849427,
    "start_time": "2023-10-18T04:40:05.749Z"
   },
   {
    "duration": 0,
    "start_time": "2023-10-18T04:54:15.178Z"
   },
   {
    "duration": 0,
    "start_time": "2023-10-18T04:54:15.179Z"
   },
   {
    "duration": 43567,
    "start_time": "2023-10-18T04:54:25.904Z"
   },
   {
    "duration": 2807,
    "start_time": "2023-10-18T04:58:36.182Z"
   },
   {
    "duration": 923,
    "start_time": "2023-10-18T04:58:38.991Z"
   },
   {
    "duration": 356,
    "start_time": "2023-10-18T04:58:39.917Z"
   },
   {
    "duration": 19,
    "start_time": "2023-10-18T04:58:40.275Z"
   },
   {
    "duration": 9,
    "start_time": "2023-10-18T04:58:40.296Z"
   },
   {
    "duration": 11,
    "start_time": "2023-10-18T04:58:40.307Z"
   },
   {
    "duration": 96365,
    "start_time": "2023-10-18T04:58:40.319Z"
   },
   {
    "duration": 2210,
    "start_time": "2023-10-18T05:00:16.685Z"
   },
   {
    "duration": 96,
    "start_time": "2023-10-18T05:00:18.897Z"
   },
   {
    "duration": 20701,
    "start_time": "2023-10-18T05:00:18.996Z"
   },
   {
    "duration": 65332,
    "start_time": "2023-10-18T05:00:39.698Z"
   },
   {
    "duration": 254659,
    "start_time": "2023-10-18T05:01:45.032Z"
   },
   {
    "duration": 886877,
    "start_time": "2023-10-18T05:05:59.693Z"
   },
   {
    "duration": 5,
    "start_time": "2023-10-18T05:20:46.573Z"
   },
   {
    "duration": 187192,
    "start_time": "2023-10-18T05:20:46.579Z"
   },
   {
    "duration": 7523,
    "start_time": "2023-10-18T05:43:38.290Z"
   },
   {
    "duration": 2336,
    "start_time": "2023-10-18T05:43:45.815Z"
   },
   {
    "duration": 347,
    "start_time": "2023-10-18T05:43:48.153Z"
   },
   {
    "duration": 21,
    "start_time": "2023-10-18T05:43:48.502Z"
   },
   {
    "duration": 28,
    "start_time": "2023-10-18T05:43:48.525Z"
   },
   {
    "duration": 30,
    "start_time": "2023-10-18T05:43:48.555Z"
   },
   {
    "duration": 97040,
    "start_time": "2023-10-18T05:43:48.586Z"
   },
   {
    "duration": 2090,
    "start_time": "2023-10-18T05:45:25.627Z"
   },
   {
    "duration": 68,
    "start_time": "2023-10-18T05:45:27.719Z"
   },
   {
    "duration": 20407,
    "start_time": "2023-10-18T05:45:27.789Z"
   },
   {
    "duration": 62230,
    "start_time": "2023-10-18T05:45:48.198Z"
   },
   {
    "duration": 17,
    "start_time": "2023-10-18T05:46:50.430Z"
   },
   {
    "duration": 920138,
    "start_time": "2023-10-18T05:46:50.449Z"
   },
   {
    "duration": 4,
    "start_time": "2023-10-18T06:02:10.590Z"
   },
   {
    "duration": 194927,
    "start_time": "2023-10-18T06:02:10.596Z"
   },
   {
    "duration": 7802,
    "start_time": "2023-10-18T06:11:01.458Z"
   },
   {
    "duration": 2343,
    "start_time": "2023-10-18T06:11:09.262Z"
   },
   {
    "duration": 331,
    "start_time": "2023-10-18T06:11:11.607Z"
   },
   {
    "duration": 20,
    "start_time": "2023-10-18T06:11:11.946Z"
   },
   {
    "duration": 56,
    "start_time": "2023-10-18T06:11:11.968Z"
   },
   {
    "duration": 36,
    "start_time": "2023-10-18T06:11:12.026Z"
   },
   {
    "duration": 98219,
    "start_time": "2023-10-18T06:11:12.063Z"
   },
   {
    "duration": 2144,
    "start_time": "2023-10-18T06:12:50.285Z"
   },
   {
    "duration": 76,
    "start_time": "2023-10-18T06:12:52.430Z"
   },
   {
    "duration": 20343,
    "start_time": "2023-10-18T06:12:52.507Z"
   },
   {
    "duration": 61466,
    "start_time": "2023-10-18T06:13:12.852Z"
   },
   {
    "duration": 5,
    "start_time": "2023-10-18T06:14:14.320Z"
   },
   {
    "duration": 911309,
    "start_time": "2023-10-18T06:14:14.327Z"
   },
   {
    "duration": 8,
    "start_time": "2023-10-18T06:29:25.639Z"
   },
   {
    "duration": 195449,
    "start_time": "2023-10-18T06:29:25.649Z"
   },
   {
    "duration": 71,
    "start_time": "2023-10-18T06:32:41.100Z"
   },
   {
    "duration": 26248,
    "start_time": "2023-10-18T06:32:41.173Z"
   },
   {
    "duration": 16944,
    "start_time": "2023-10-18T06:33:07.423Z"
   },
   {
    "duration": 494,
    "start_time": "2023-10-18T06:33:24.369Z"
   },
   {
    "duration": 0,
    "start_time": "2023-10-18T06:33:24.865Z"
   },
   {
    "duration": 0,
    "start_time": "2023-10-18T06:33:24.866Z"
   },
   {
    "duration": 0,
    "start_time": "2023-10-18T06:33:24.867Z"
   },
   {
    "duration": 0,
    "start_time": "2023-10-18T06:33:24.869Z"
   },
   {
    "duration": 32,
    "start_time": "2023-10-18T07:20:47.560Z"
   },
   {
    "duration": 33,
    "start_time": "2023-10-18T07:20:55.693Z"
   },
   {
    "duration": 34,
    "start_time": "2023-10-18T07:21:04.198Z"
   },
   {
    "duration": 21,
    "start_time": "2023-10-18T07:22:47.531Z"
   },
   {
    "duration": 24,
    "start_time": "2023-10-18T07:23:35.816Z"
   },
   {
    "duration": 34,
    "start_time": "2023-10-18T07:23:41.790Z"
   },
   {
    "duration": 34,
    "start_time": "2023-10-18T07:23:59.847Z"
   },
   {
    "duration": 34,
    "start_time": "2023-10-18T07:24:47.221Z"
   },
   {
    "duration": 34,
    "start_time": "2023-10-18T07:25:09.327Z"
   },
   {
    "duration": 34,
    "start_time": "2023-10-18T07:25:33.785Z"
   },
   {
    "duration": 3512,
    "start_time": "2023-10-18T09:57:22.767Z"
   },
   {
    "duration": 2683,
    "start_time": "2023-10-18T09:57:26.281Z"
   },
   {
    "duration": 361,
    "start_time": "2023-10-18T09:57:28.967Z"
   },
   {
    "duration": 30,
    "start_time": "2023-10-18T09:57:29.331Z"
   },
   {
    "duration": 11,
    "start_time": "2023-10-18T09:57:29.366Z"
   },
   {
    "duration": 15,
    "start_time": "2023-10-18T09:57:29.379Z"
   },
   {
    "duration": 130704,
    "start_time": "2023-10-18T09:57:29.396Z"
   },
   {
    "duration": 2867,
    "start_time": "2023-10-18T09:59:40.105Z"
   },
   {
    "duration": 95,
    "start_time": "2023-10-18T09:59:42.989Z"
   },
   {
    "duration": 25792,
    "start_time": "2023-10-18T09:59:43.087Z"
   },
   {
    "duration": 75159,
    "start_time": "2023-10-18T10:00:08.881Z"
   },
   {
    "duration": 5,
    "start_time": "2023-10-18T10:01:24.042Z"
   },
   {
    "duration": 4302,
    "start_time": "2023-10-18T10:07:56.937Z"
   },
   {
    "duration": 1144,
    "start_time": "2023-10-18T10:08:01.242Z"
   },
   {
    "duration": 380,
    "start_time": "2023-10-18T10:08:02.387Z"
   },
   {
    "duration": 29,
    "start_time": "2023-10-18T10:08:02.770Z"
   },
   {
    "duration": 163,
    "start_time": "2023-10-18T10:08:02.800Z"
   },
   {
    "duration": 21,
    "start_time": "2023-10-18T10:08:02.966Z"
   },
   {
    "duration": 119702,
    "start_time": "2023-10-18T10:08:02.989Z"
   },
   {
    "duration": 2681,
    "start_time": "2023-10-18T10:10:02.693Z"
   },
   {
    "duration": 108,
    "start_time": "2023-10-18T10:10:05.376Z"
   },
   {
    "duration": 25288,
    "start_time": "2023-10-18T10:10:05.494Z"
   },
   {
    "duration": 5,
    "start_time": "2023-10-18T10:10:30.785Z"
   },
   {
    "duration": 6729473,
    "start_time": "2023-10-18T10:10:30.793Z"
   },
   {
    "duration": 12,
    "start_time": "2023-10-18T12:02:40.268Z"
   },
   {
    "duration": 5212,
    "start_time": "2023-10-18T13:04:06.479Z"
   },
   {
    "duration": 2520,
    "start_time": "2023-10-18T13:04:11.694Z"
   },
   {
    "duration": 375,
    "start_time": "2023-10-18T13:04:14.215Z"
   },
   {
    "duration": 23,
    "start_time": "2023-10-18T13:04:14.591Z"
   },
   {
    "duration": 3,
    "start_time": "2023-10-18T13:04:14.617Z"
   },
   {
    "duration": 5,
    "start_time": "2023-10-18T13:04:14.622Z"
   },
   {
    "duration": 111765,
    "start_time": "2023-10-18T13:04:14.629Z"
   },
   {
    "duration": 2448,
    "start_time": "2023-10-18T13:06:06.395Z"
   },
   {
    "duration": 32590,
    "start_time": "2023-10-18T13:06:08.846Z"
   },
   {
    "duration": 150,
    "start_time": "2023-10-18T13:06:41.438Z"
   },
   {
    "duration": 5,
    "start_time": "2023-10-18T13:06:41.590Z"
   },
   {
    "duration": 10026129,
    "start_time": "2023-10-18T13:06:41.597Z"
   },
   {
    "duration": 5,
    "start_time": "2023-10-18T15:53:47.728Z"
   },
   {
    "duration": 3533,
    "start_time": "2023-10-18T17:19:06.798Z"
   },
   {
    "duration": 969,
    "start_time": "2023-10-18T17:19:10.333Z"
   },
   {
    "duration": 369,
    "start_time": "2023-10-18T17:19:11.304Z"
   },
   {
    "duration": 20,
    "start_time": "2023-10-18T17:19:11.675Z"
   },
   {
    "duration": 11,
    "start_time": "2023-10-18T17:19:11.697Z"
   },
   {
    "duration": 8,
    "start_time": "2023-10-18T17:19:11.710Z"
   },
   {
    "duration": 109985,
    "start_time": "2023-10-18T17:19:11.720Z"
   },
   {
    "duration": 2328,
    "start_time": "2023-10-18T17:21:01.707Z"
   },
   {
    "duration": 31031,
    "start_time": "2023-10-18T17:21:04.037Z"
   },
   {
    "duration": 152,
    "start_time": "2023-10-18T17:21:35.071Z"
   },
   {
    "duration": 251,
    "start_time": "2023-10-18T17:21:35.226Z"
   },
   {
    "duration": 0,
    "start_time": "2023-10-18T17:21:35.479Z"
   },
   {
    "duration": 0,
    "start_time": "2023-10-18T17:21:35.480Z"
   },
   {
    "duration": 0,
    "start_time": "2023-10-18T17:21:35.482Z"
   },
   {
    "duration": 0,
    "start_time": "2023-10-18T17:21:35.483Z"
   },
   {
    "duration": 0,
    "start_time": "2023-10-18T17:21:35.484Z"
   },
   {
    "duration": 0,
    "start_time": "2023-10-18T17:21:35.487Z"
   },
   {
    "duration": 0,
    "start_time": "2023-10-18T17:21:35.488Z"
   },
   {
    "duration": 0,
    "start_time": "2023-10-18T17:21:35.489Z"
   },
   {
    "duration": 0,
    "start_time": "2023-10-18T17:21:35.491Z"
   },
   {
    "duration": 0,
    "start_time": "2023-10-18T17:21:35.492Z"
   },
   {
    "duration": 0,
    "start_time": "2023-10-18T17:21:35.493Z"
   },
   {
    "duration": 391903,
    "start_time": "2023-10-18T17:26:46.857Z"
   },
   {
    "duration": 147,
    "start_time": "2023-10-18T17:33:18.762Z"
   },
   {
    "duration": 0,
    "start_time": "2023-10-18T17:33:18.911Z"
   },
   {
    "duration": 0,
    "start_time": "2023-10-18T17:33:18.913Z"
   },
   {
    "duration": 0,
    "start_time": "2023-10-18T17:33:18.915Z"
   },
   {
    "duration": 0,
    "start_time": "2023-10-18T17:33:18.916Z"
   },
   {
    "duration": 0,
    "start_time": "2023-10-18T17:33:18.918Z"
   },
   {
    "duration": 0,
    "start_time": "2023-10-18T17:33:18.919Z"
   },
   {
    "duration": 0,
    "start_time": "2023-10-18T17:33:18.921Z"
   },
   {
    "duration": 0,
    "start_time": "2023-10-18T17:33:18.922Z"
   },
   {
    "duration": 0,
    "start_time": "2023-10-18T17:33:18.924Z"
   },
   {
    "duration": 0,
    "start_time": "2023-10-18T17:33:18.925Z"
   },
   {
    "duration": 41330,
    "start_time": "2023-10-18T17:37:01.617Z"
   },
   {
    "duration": 1945007,
    "start_time": "2023-10-18T17:37:42.950Z"
   },
   {
    "duration": 45,
    "start_time": "2023-10-18T18:10:07.959Z"
   },
   {
    "duration": 5130,
    "start_time": "2023-10-18T18:10:08.006Z"
   },
   {
    "duration": 17263,
    "start_time": "2023-10-18T18:10:13.138Z"
   },
   {
    "duration": 54,
    "start_time": "2023-10-19T04:36:00.498Z"
   },
   {
    "duration": 2953,
    "start_time": "2023-10-19T04:36:06.102Z"
   },
   {
    "duration": 2404,
    "start_time": "2023-10-19T04:36:09.057Z"
   },
   {
    "duration": 322,
    "start_time": "2023-10-19T04:36:11.463Z"
   },
   {
    "duration": 24,
    "start_time": "2023-10-19T04:36:14.685Z"
   },
   {
    "duration": 1506,
    "start_time": "2023-10-19T04:36:16.284Z"
   },
   {
    "duration": 164,
    "start_time": "2023-10-19T04:36:55.242Z"
   },
   {
    "duration": 123,
    "start_time": "2023-10-19T04:37:49.402Z"
   },
   {
    "duration": 2730,
    "start_time": "2023-10-19T04:42:54.527Z"
   },
   {
    "duration": 873,
    "start_time": "2023-10-19T04:42:57.259Z"
   },
   {
    "duration": 339,
    "start_time": "2023-10-19T04:42:58.134Z"
   },
   {
    "duration": 29,
    "start_time": "2023-10-19T04:42:58.474Z"
   },
   {
    "duration": 209,
    "start_time": "2023-10-19T04:42:58.506Z"
   },
   {
    "duration": 3,
    "start_time": "2023-10-19T04:42:58.718Z"
   },
   {
    "duration": 35,
    "start_time": "2023-10-19T04:42:58.723Z"
   },
   {
    "duration": 95857,
    "start_time": "2023-10-19T04:42:58.760Z"
   },
   {
    "duration": 1988,
    "start_time": "2023-10-19T04:44:34.619Z"
   },
   {
    "duration": 27768,
    "start_time": "2023-10-19T04:44:36.609Z"
   },
   {
    "duration": 110,
    "start_time": "2023-10-19T04:45:04.378Z"
   },
   {
    "duration": 210472,
    "start_time": "2023-10-19T04:45:04.490Z"
   },
   {
    "duration": 177,
    "start_time": "2023-10-19T04:48:34.964Z"
   },
   {
    "duration": 0,
    "start_time": "2023-10-19T04:48:35.143Z"
   },
   {
    "duration": 0,
    "start_time": "2023-10-19T04:48:35.144Z"
   },
   {
    "duration": 0,
    "start_time": "2023-10-19T04:48:35.145Z"
   },
   {
    "duration": 0,
    "start_time": "2023-10-19T04:48:35.146Z"
   },
   {
    "duration": 0,
    "start_time": "2023-10-19T04:48:35.148Z"
   },
   {
    "duration": 0,
    "start_time": "2023-10-19T04:48:35.149Z"
   },
   {
    "duration": 0,
    "start_time": "2023-10-19T04:48:35.150Z"
   },
   {
    "duration": 0,
    "start_time": "2023-10-19T04:48:35.151Z"
   },
   {
    "duration": 0,
    "start_time": "2023-10-19T04:48:35.152Z"
   },
   {
    "duration": 0,
    "start_time": "2023-10-19T04:48:35.153Z"
   },
   {
    "duration": 0,
    "start_time": "2023-10-19T04:48:35.154Z"
   },
   {
    "duration": 14,
    "start_time": "2023-10-19T04:50:31.529Z"
   },
   {
    "duration": 16,
    "start_time": "2023-10-19T04:52:24.650Z"
   },
   {
    "duration": 4,
    "start_time": "2023-10-19T04:52:34.730Z"
   },
   {
    "duration": 226,
    "start_time": "2023-10-19T04:53:58.678Z"
   },
   {
    "duration": 78,
    "start_time": "2023-10-19T04:55:46.454Z"
   },
   {
    "duration": 141,
    "start_time": "2023-10-19T04:56:12.646Z"
   },
   {
    "duration": 143,
    "start_time": "2023-10-19T04:56:45.237Z"
   },
   {
    "duration": 143,
    "start_time": "2023-10-19T04:57:15.150Z"
   },
   {
    "duration": 5,
    "start_time": "2023-10-19T05:01:37.783Z"
   },
   {
    "duration": 44,
    "start_time": "2023-10-19T05:04:52.389Z"
   },
   {
    "duration": 4,
    "start_time": "2023-10-19T05:09:12.425Z"
   },
   {
    "duration": 49,
    "start_time": "2023-10-19T05:09:50.113Z"
   },
   {
    "duration": 105584,
    "start_time": "2023-10-19T05:10:34.235Z"
   },
   {
    "duration": 552021,
    "start_time": "2023-10-19T05:12:34.117Z"
   },
   {
    "duration": 68383,
    "start_time": "2023-10-19T05:22:55.303Z"
   },
   {
    "duration": 212148,
    "start_time": "2023-10-19T05:27:41.543Z"
   },
   {
    "duration": 324919,
    "start_time": "2023-10-19T05:35:21.057Z"
   },
   {
    "duration": 675490,
    "start_time": "2023-10-19T05:40:45.978Z"
   },
   {
    "duration": 434980,
    "start_time": "2023-10-19T05:52:01.470Z"
   },
   {
    "duration": 439770,
    "start_time": "2023-10-19T06:00:54.455Z"
   },
   {
    "duration": 17,
    "start_time": "2023-10-19T06:08:14.228Z"
   },
   {
    "duration": 412746,
    "start_time": "2023-10-19T06:45:40.481Z"
   },
   {
    "duration": 15,
    "start_time": "2023-10-19T06:53:56.004Z"
   },
   {
    "duration": 168345,
    "start_time": "2023-10-19T06:54:05.409Z"
   },
   {
    "duration": 203044,
    "start_time": "2023-10-19T07:11:16.914Z"
   },
   {
    "duration": 203653,
    "start_time": "2023-10-19T07:15:15.306Z"
   },
   {
    "duration": 240587,
    "start_time": "2023-10-19T07:25:49.776Z"
   },
   {
    "duration": 171944,
    "start_time": "2023-10-19T07:40:14.912Z"
   },
   {
    "duration": 11,
    "start_time": "2023-10-19T07:44:04.870Z"
   },
   {
    "duration": 3580,
    "start_time": "2023-10-19T07:44:06.141Z"
   },
   {
    "duration": 3171,
    "start_time": "2023-10-19T07:45:31.966Z"
   },
   {
    "duration": 2514,
    "start_time": "2023-10-19T07:45:36.818Z"
   },
   {
    "duration": 355,
    "start_time": "2023-10-19T07:45:40.785Z"
   },
   {
    "duration": 26,
    "start_time": "2023-10-19T07:45:44.626Z"
   },
   {
    "duration": 9,
    "start_time": "2023-10-19T07:45:57.969Z"
   },
   {
    "duration": 3847,
    "start_time": "2023-10-19T07:45:59.206Z"
   },
   {
    "duration": 17995,
    "start_time": "2023-10-19T07:46:06.338Z"
   },
   {
    "duration": 57,
    "start_time": "2023-10-19T07:47:16.822Z"
   },
   {
    "duration": 2984,
    "start_time": "2023-10-19T07:47:44.834Z"
   },
   {
    "duration": 2418,
    "start_time": "2023-10-19T07:47:49.942Z"
   },
   {
    "duration": 340,
    "start_time": "2023-10-19T07:47:52.362Z"
   },
   {
    "duration": 21,
    "start_time": "2023-10-19T07:47:54.981Z"
   },
   {
    "duration": 10,
    "start_time": "2023-10-19T07:48:04.522Z"
   },
   {
    "duration": 3757,
    "start_time": "2023-10-19T07:48:13.297Z"
   },
   {
    "duration": 17915,
    "start_time": "2023-10-19T07:48:18.000Z"
   },
   {
    "duration": 176576,
    "start_time": "2023-10-19T07:49:06.343Z"
   },
   {
    "duration": 255533,
    "start_time": "2023-10-19T07:52:14.839Z"
   },
   {
    "duration": 5268,
    "start_time": "2023-10-19T07:59:28.972Z"
   },
   {
    "duration": 2500,
    "start_time": "2023-10-19T07:59:38.309Z"
   },
   {
    "duration": 352,
    "start_time": "2023-10-19T07:59:40.811Z"
   },
   {
    "duration": 22,
    "start_time": "2023-10-19T07:59:41.515Z"
   },
   {
    "duration": 207269,
    "start_time": "2023-10-19T08:00:49.524Z"
   },
   {
    "duration": 11828,
    "start_time": "2023-10-19T08:04:16.795Z"
   },
   {
    "duration": 0,
    "start_time": "2023-10-19T08:04:29.109Z"
   },
   {
    "duration": 0,
    "start_time": "2023-10-19T08:04:29.110Z"
   },
   {
    "duration": 4869,
    "start_time": "2023-10-19T08:05:26.797Z"
   },
   {
    "duration": 2467,
    "start_time": "2023-10-19T08:05:31.668Z"
   },
   {
    "duration": 367,
    "start_time": "2023-10-19T08:05:34.137Z"
   },
   {
    "duration": 23,
    "start_time": "2023-10-19T08:05:34.506Z"
   },
   {
    "duration": 38566,
    "start_time": "2023-10-19T08:05:45.462Z"
   },
   {
    "duration": 0,
    "start_time": "2023-10-19T08:06:24.029Z"
   },
   {
    "duration": 0,
    "start_time": "2023-10-19T08:06:24.031Z"
   },
   {
    "duration": 0,
    "start_time": "2023-10-19T08:06:24.032Z"
   },
   {
    "duration": 12,
    "start_time": "2023-10-19T08:06:38.414Z"
   },
   {
    "duration": 15174,
    "start_time": "2023-10-19T08:06:41.238Z"
   },
   {
    "duration": 11706,
    "start_time": "2023-10-19T08:06:56.415Z"
   },
   {
    "duration": 5554,
    "start_time": "2023-10-19T08:18:57.563Z"
   },
   {
    "duration": 2492,
    "start_time": "2023-10-19T08:19:03.119Z"
   },
   {
    "duration": 358,
    "start_time": "2023-10-19T08:19:05.614Z"
   },
   {
    "duration": 40,
    "start_time": "2023-10-19T08:19:05.974Z"
   },
   {
    "duration": 9,
    "start_time": "2023-10-19T08:19:15.867Z"
   },
   {
    "duration": 3962,
    "start_time": "2023-10-19T08:19:16.563Z"
   },
   {
    "duration": 11099,
    "start_time": "2023-10-19T08:19:20.528Z"
   },
   {
    "duration": 53,
    "start_time": "2023-10-19T09:14:48.130Z"
   },
   {
    "duration": 5376,
    "start_time": "2023-10-19T09:14:56.173Z"
   },
   {
    "duration": 2463,
    "start_time": "2023-10-19T09:15:01.551Z"
   },
   {
    "duration": 351,
    "start_time": "2023-10-19T09:15:04.016Z"
   },
   {
    "duration": 33,
    "start_time": "2023-10-19T09:15:04.370Z"
   },
   {
    "duration": 163,
    "start_time": "2023-10-19T09:15:04.405Z"
   },
   {
    "duration": 5,
    "start_time": "2023-10-19T09:15:04.570Z"
   },
   {
    "duration": 23,
    "start_time": "2023-10-19T09:15:04.577Z"
   },
   {
    "duration": 98543,
    "start_time": "2023-10-19T09:15:04.602Z"
   },
   {
    "duration": 2124,
    "start_time": "2023-10-19T09:16:43.147Z"
   },
   {
    "duration": 29809,
    "start_time": "2023-10-19T09:16:45.273Z"
   },
   {
    "duration": 108,
    "start_time": "2023-10-19T09:17:15.084Z"
   },
   {
    "duration": 25873,
    "start_time": "2023-10-19T09:17:15.201Z"
   },
   {
    "duration": 19800,
    "start_time": "2023-10-19T09:18:47.107Z"
   },
   {
    "duration": 81,
    "start_time": "2023-10-19T09:19:23.421Z"
   },
   {
    "duration": 428791,
    "start_time": "2023-10-19T09:19:24.096Z"
   },
   {
    "duration": 668346,
    "start_time": "2023-10-19T09:26:32.889Z"
   },
   {
    "duration": 29516,
    "start_time": "2023-10-19T09:38:19.475Z"
   },
   {
    "duration": 115,
    "start_time": "2023-10-19T09:38:48.993Z"
   },
   {
    "duration": 85,
    "start_time": "2023-10-19T09:42:33.829Z"
   },
   {
    "duration": 311,
    "start_time": "2023-10-19T09:43:39.732Z"
   },
   {
    "duration": 5,
    "start_time": "2023-10-19T09:43:57.643Z"
   },
   {
    "duration": 4996,
    "start_time": "2023-10-19T09:46:04.335Z"
   },
   {
    "duration": 917,
    "start_time": "2023-10-19T09:46:09.333Z"
   },
   {
    "duration": 350,
    "start_time": "2023-10-19T09:46:10.252Z"
   },
   {
    "duration": 21,
    "start_time": "2023-10-19T09:46:10.604Z"
   },
   {
    "duration": 251,
    "start_time": "2023-10-19T09:46:10.627Z"
   },
   {
    "duration": 3,
    "start_time": "2023-10-19T09:46:10.880Z"
   },
   {
    "duration": 17,
    "start_time": "2023-10-19T09:46:10.885Z"
   },
   {
    "duration": 98533,
    "start_time": "2023-10-19T09:46:10.904Z"
   },
   {
    "duration": 2088,
    "start_time": "2023-10-19T09:47:49.439Z"
   },
   {
    "duration": 29370,
    "start_time": "2023-10-19T09:47:51.531Z"
   },
   {
    "duration": 122,
    "start_time": "2023-10-19T09:48:20.903Z"
   },
   {
    "duration": 176243,
    "start_time": "2023-10-19T09:48:21.026Z"
   },
   {
    "duration": 1041548,
    "start_time": "2023-10-19T09:51:17.271Z"
   },
   {
    "duration": 56,
    "start_time": "2023-10-19T10:08:38.821Z"
   },
   {
    "duration": 423305,
    "start_time": "2023-10-19T10:08:38.879Z"
   },
   {
    "duration": 668367,
    "start_time": "2023-10-19T10:15:42.186Z"
   },
   {
    "duration": 4,
    "start_time": "2023-10-19T10:26:50.556Z"
   },
   {
    "duration": 46,
    "start_time": "2023-10-19T10:26:50.562Z"
   },
   {
    "duration": 70,
    "start_time": "2023-10-19T10:26:50.610Z"
   },
   {
    "duration": 45,
    "start_time": "2023-10-19T10:26:50.681Z"
   },
   {
    "duration": 27779,
    "start_time": "2023-10-19T10:26:50.728Z"
   },
   {
    "duration": 110,
    "start_time": "2023-10-19T10:27:18.509Z"
   },
   {
    "duration": 760084,
    "start_time": "2023-10-19T10:27:18.621Z"
   },
   {
    "duration": 1132171,
    "start_time": "2023-10-19T10:39:58.707Z"
   },
   {
    "duration": 59,
    "start_time": "2023-10-19T10:58:50.880Z"
   },
   {
    "duration": 376098,
    "start_time": "2023-10-19T10:58:50.941Z"
   },
   {
    "duration": 562,
    "start_time": "2023-10-19T11:05:07.041Z"
   },
   {
    "duration": 797414,
    "start_time": "2023-10-19T11:50:17.851Z"
   },
   {
    "duration": 0,
    "start_time": "2023-10-19T12:03:35.310Z"
   },
   {
    "duration": 0,
    "start_time": "2023-10-19T12:03:35.310Z"
   },
   {
    "duration": 430961,
    "start_time": "2023-10-19T12:04:46.445Z"
   },
   {
    "duration": 35,
    "start_time": "2023-10-19T12:11:57.409Z"
   },
   {
    "duration": 0,
    "start_time": "2023-10-19T12:11:57.446Z"
   },
   {
    "duration": 800361,
    "start_time": "2023-10-19T12:23:42.410Z"
   },
   {
    "duration": 67,
    "start_time": "2023-10-19T12:37:02.773Z"
   },
   {
    "duration": 425939,
    "start_time": "2023-10-19T12:37:02.843Z"
   },
   {
    "duration": 39,
    "start_time": "2023-10-19T12:44:08.784Z"
   },
   {
    "duration": 48,
    "start_time": "2023-10-19T12:57:28.895Z"
   },
   {
    "duration": 37,
    "start_time": "2023-10-19T12:57:32.034Z"
   },
   {
    "duration": 5,
    "start_time": "2023-10-19T13:06:16.010Z"
   },
   {
    "duration": 12,
    "start_time": "2023-10-19T13:08:43.983Z"
   },
   {
    "duration": 0,
    "start_time": "2023-10-19T13:09:15.122Z"
   },
   {
    "duration": 0,
    "start_time": "2023-10-19T13:09:15.124Z"
   },
   {
    "duration": 0,
    "start_time": "2023-10-19T13:09:15.125Z"
   },
   {
    "duration": 11,
    "start_time": "2023-10-19T13:09:18.973Z"
   },
   {
    "duration": 4770,
    "start_time": "2023-10-19T13:09:36.841Z"
   },
   {
    "duration": 958,
    "start_time": "2023-10-19T13:09:41.614Z"
   },
   {
    "duration": 358,
    "start_time": "2023-10-19T13:09:42.574Z"
   },
   {
    "duration": 22,
    "start_time": "2023-10-19T13:09:42.934Z"
   },
   {
    "duration": 208,
    "start_time": "2023-10-19T13:09:42.959Z"
   },
   {
    "duration": 4,
    "start_time": "2023-10-19T13:09:43.168Z"
   },
   {
    "duration": 142,
    "start_time": "2023-10-19T13:09:43.174Z"
   },
   {
    "duration": 62980,
    "start_time": "2023-10-19T13:09:43.318Z"
   },
   {
    "duration": 0,
    "start_time": "2023-10-19T13:10:46.301Z"
   },
   {
    "duration": 0,
    "start_time": "2023-10-19T13:10:46.303Z"
   },
   {
    "duration": 0,
    "start_time": "2023-10-19T13:10:46.304Z"
   },
   {
    "duration": 0,
    "start_time": "2023-10-19T13:10:46.305Z"
   },
   {
    "duration": 0,
    "start_time": "2023-10-19T13:10:46.306Z"
   },
   {
    "duration": 0,
    "start_time": "2023-10-19T13:10:46.307Z"
   },
   {
    "duration": 0,
    "start_time": "2023-10-19T13:10:46.309Z"
   },
   {
    "duration": 0,
    "start_time": "2023-10-19T13:10:46.311Z"
   },
   {
    "duration": 0,
    "start_time": "2023-10-19T13:10:46.312Z"
   },
   {
    "duration": 0,
    "start_time": "2023-10-19T13:10:46.313Z"
   },
   {
    "duration": 0,
    "start_time": "2023-10-19T13:10:46.313Z"
   },
   {
    "duration": 0,
    "start_time": "2023-10-19T13:10:46.314Z"
   },
   {
    "duration": 0,
    "start_time": "2023-10-19T13:10:46.315Z"
   },
   {
    "duration": 0,
    "start_time": "2023-10-19T13:10:46.317Z"
   },
   {
    "duration": 0,
    "start_time": "2023-10-19T13:10:46.318Z"
   },
   {
    "duration": 0,
    "start_time": "2023-10-19T13:10:46.319Z"
   },
   {
    "duration": 0,
    "start_time": "2023-10-19T13:10:46.320Z"
   },
   {
    "duration": 0,
    "start_time": "2023-10-19T13:10:46.322Z"
   },
   {
    "duration": 0,
    "start_time": "2023-10-19T13:10:46.323Z"
   },
   {
    "duration": 0,
    "start_time": "2023-10-19T13:10:46.324Z"
   },
   {
    "duration": 0,
    "start_time": "2023-10-19T13:10:46.324Z"
   },
   {
    "duration": 51,
    "start_time": "2023-10-19T13:11:50.799Z"
   },
   {
    "duration": 5,
    "start_time": "2023-10-19T13:12:07.793Z"
   },
   {
    "duration": 938,
    "start_time": "2023-10-19T13:12:10.717Z"
   },
   {
    "duration": 354,
    "start_time": "2023-10-19T13:12:11.657Z"
   },
   {
    "duration": 30,
    "start_time": "2023-10-19T13:12:13.825Z"
   },
   {
    "duration": 136,
    "start_time": "2023-10-19T13:12:15.933Z"
   },
   {
    "duration": 81,
    "start_time": "2023-10-19T13:12:17.510Z"
   },
   {
    "duration": 78,
    "start_time": "2023-10-19T13:12:43.130Z"
   },
   {
    "duration": 5,
    "start_time": "2023-10-19T13:12:45.269Z"
   },
   {
    "duration": 4,
    "start_time": "2023-10-19T13:12:45.705Z"
   },
   {
    "duration": 17992,
    "start_time": "2023-10-19T13:12:46.448Z"
   },
   {
    "duration": 0,
    "start_time": "2023-10-19T13:13:04.442Z"
   },
   {
    "duration": 0,
    "start_time": "2023-10-19T13:13:04.444Z"
   },
   {
    "duration": 0,
    "start_time": "2023-10-19T13:13:04.445Z"
   },
   {
    "duration": 0,
    "start_time": "2023-10-19T13:13:04.446Z"
   },
   {
    "duration": 5045,
    "start_time": "2023-10-19T13:14:07.167Z"
   },
   {
    "duration": 964,
    "start_time": "2023-10-19T13:14:12.214Z"
   },
   {
    "duration": 375,
    "start_time": "2023-10-19T13:14:13.179Z"
   },
   {
    "duration": 23,
    "start_time": "2023-10-19T13:14:13.556Z"
   },
   {
    "duration": 170,
    "start_time": "2023-10-19T13:14:13.582Z"
   },
   {
    "duration": 85,
    "start_time": "2023-10-19T13:14:13.754Z"
   },
   {
    "duration": 4,
    "start_time": "2023-10-19T13:14:13.843Z"
   },
   {
    "duration": 18,
    "start_time": "2023-10-19T13:14:13.849Z"
   },
   {
    "duration": 21299,
    "start_time": "2023-10-19T13:14:13.870Z"
   },
   {
    "duration": 483,
    "start_time": "2023-10-19T13:14:35.171Z"
   },
   {
    "duration": 5189,
    "start_time": "2023-10-19T13:14:35.657Z"
   },
   {
    "duration": 24,
    "start_time": "2023-10-19T13:14:40.848Z"
   },
   {
    "duration": 21435,
    "start_time": "2023-10-19T13:14:40.874Z"
   },
   {
    "duration": 67795,
    "start_time": "2023-10-19T13:15:02.314Z"
   },
   {
    "duration": 4,
    "start_time": "2023-10-19T13:16:10.111Z"
   },
   {
    "duration": 46,
    "start_time": "2023-10-19T13:16:10.117Z"
   },
   {
    "duration": 365,
    "start_time": "2023-10-19T13:16:10.165Z"
   },
   {
    "duration": 0,
    "start_time": "2023-10-19T13:16:10.532Z"
   },
   {
    "duration": 0,
    "start_time": "2023-10-19T13:16:10.533Z"
   },
   {
    "duration": 0,
    "start_time": "2023-10-19T13:16:10.534Z"
   },
   {
    "duration": 0,
    "start_time": "2023-10-19T13:16:10.536Z"
   },
   {
    "duration": 0,
    "start_time": "2023-10-19T13:16:10.538Z"
   },
   {
    "duration": 0,
    "start_time": "2023-10-19T13:16:10.539Z"
   },
   {
    "duration": 0,
    "start_time": "2023-10-19T13:16:10.541Z"
   },
   {
    "duration": 0,
    "start_time": "2023-10-19T13:16:10.542Z"
   },
   {
    "duration": 0,
    "start_time": "2023-10-19T13:16:10.544Z"
   },
   {
    "duration": 0,
    "start_time": "2023-10-19T13:16:10.545Z"
   },
   {
    "duration": 0,
    "start_time": "2023-10-19T13:16:10.546Z"
   },
   {
    "duration": 0,
    "start_time": "2023-10-19T13:16:10.547Z"
   },
   {
    "duration": 0,
    "start_time": "2023-10-19T13:16:10.548Z"
   },
   {
    "duration": 57611,
    "start_time": "2023-10-19T13:16:36.479Z"
   },
   {
    "duration": 1526940,
    "start_time": "2023-10-19T13:17:34.092Z"
   },
   {
    "duration": 5468,
    "start_time": "2023-10-19T13:43:01.034Z"
   },
   {
    "duration": 26,
    "start_time": "2023-10-19T13:43:06.504Z"
   },
   {
    "duration": 134106,
    "start_time": "2023-10-19T13:43:06.533Z"
   },
   {
    "duration": 58374,
    "start_time": "2023-10-19T13:45:20.641Z"
   },
   {
    "duration": 22,
    "start_time": "2023-10-19T13:46:19.017Z"
   },
   {
    "duration": 0,
    "start_time": "2023-10-19T13:46:19.041Z"
   },
   {
    "duration": 56362,
    "start_time": "2023-10-19T13:48:22.743Z"
   },
   {
    "duration": 73,
    "start_time": "2023-10-19T13:49:19.107Z"
   },
   {
    "duration": 41,
    "start_time": "2023-10-19T13:49:51.787Z"
   },
   {
    "duration": 30,
    "start_time": "2023-10-19T13:52:56.324Z"
   },
   {
    "duration": 23,
    "start_time": "2023-10-19T13:54:02.047Z"
   },
   {
    "duration": 6,
    "start_time": "2023-10-19T13:54:11.969Z"
   },
   {
    "duration": 5,
    "start_time": "2023-10-19T13:54:56.632Z"
   },
   {
    "duration": 904,
    "start_time": "2023-10-19T13:54:57.611Z"
   },
   {
    "duration": 326,
    "start_time": "2023-10-19T13:55:00.621Z"
   },
   {
    "duration": 22,
    "start_time": "2023-10-19T13:55:03.067Z"
   },
   {
    "duration": 144,
    "start_time": "2023-10-19T13:55:05.699Z"
   },
   {
    "duration": 92,
    "start_time": "2023-10-19T13:55:09.828Z"
   },
   {
    "duration": 5,
    "start_time": "2023-10-19T13:55:15.277Z"
   },
   {
    "duration": 3,
    "start_time": "2023-10-19T13:55:16.072Z"
   },
   {
    "duration": 21550,
    "start_time": "2023-10-19T13:55:17.074Z"
   },
   {
    "duration": 447,
    "start_time": "2023-10-19T13:55:38.627Z"
   },
   {
    "duration": 5306,
    "start_time": "2023-10-19T13:56:01.241Z"
   },
   {
    "duration": 27,
    "start_time": "2023-10-19T13:56:06.550Z"
   },
   {
    "duration": 4,
    "start_time": "2023-10-19T13:56:08.376Z"
   },
   {
    "duration": 4,
    "start_time": "2023-10-19T13:56:22.034Z"
   },
   {
    "duration": 23751,
    "start_time": "2023-10-19T13:56:23.191Z"
   },
   {
    "duration": 64011,
    "start_time": "2023-10-19T13:56:46.945Z"
   },
   {
    "duration": 58284,
    "start_time": "2023-10-19T13:57:50.958Z"
   },
   {
    "duration": 127157,
    "start_time": "2023-10-19T13:58:49.244Z"
   },
   {
    "duration": 5190,
    "start_time": "2023-10-19T14:05:34.795Z"
   },
   {
    "duration": 23,
    "start_time": "2023-10-19T14:06:08.141Z"
   },
   {
    "duration": 4,
    "start_time": "2023-10-19T14:06:10.423Z"
   },
   {
    "duration": 8293,
    "start_time": "2023-10-19T14:06:12.134Z"
   },
   {
    "duration": 61633,
    "start_time": "2023-10-19T14:06:20.430Z"
   },
   {
    "duration": 4,
    "start_time": "2023-10-19T14:07:22.065Z"
   },
   {
    "duration": 15,
    "start_time": "2023-10-19T14:07:22.071Z"
   },
   {
    "duration": 56392,
    "start_time": "2023-10-19T14:07:22.088Z"
   },
   {
    "duration": 54541,
    "start_time": "2023-10-19T14:08:18.482Z"
   },
   {
    "duration": 24048,
    "start_time": "2023-10-19T14:11:35.987Z"
   },
   {
    "duration": 4921,
    "start_time": "2023-10-19T14:23:05.517Z"
   },
   {
    "duration": 946,
    "start_time": "2023-10-19T14:23:10.440Z"
   },
   {
    "duration": 350,
    "start_time": "2023-10-19T14:23:11.387Z"
   },
   {
    "duration": 21,
    "start_time": "2023-10-19T14:23:11.740Z"
   },
   {
    "duration": 165,
    "start_time": "2023-10-19T14:23:11.763Z"
   },
   {
    "duration": 93,
    "start_time": "2023-10-19T14:23:11.930Z"
   },
   {
    "duration": 8,
    "start_time": "2023-10-19T14:23:12.026Z"
   },
   {
    "duration": 13,
    "start_time": "2023-10-19T14:23:12.035Z"
   },
   {
    "duration": 19570,
    "start_time": "2023-10-19T14:23:12.049Z"
   },
   {
    "duration": 400,
    "start_time": "2023-10-19T14:23:31.622Z"
   },
   {
    "duration": 5496,
    "start_time": "2023-10-19T14:23:32.024Z"
   },
   {
    "duration": 25,
    "start_time": "2023-10-19T14:23:37.522Z"
   },
   {
    "duration": 25283,
    "start_time": "2023-10-19T14:23:37.549Z"
   },
   {
    "duration": 65492,
    "start_time": "2023-10-19T14:24:02.836Z"
   },
   {
    "duration": 5,
    "start_time": "2023-10-19T14:25:08.329Z"
   },
   {
    "duration": 26,
    "start_time": "2023-10-19T14:25:08.335Z"
   },
   {
    "duration": 57849,
    "start_time": "2023-10-19T14:25:08.363Z"
   },
   {
    "duration": 245299,
    "start_time": "2023-10-19T14:26:06.214Z"
   },
   {
    "duration": 4,
    "start_time": "2023-10-19T14:30:11.515Z"
   },
   {
    "duration": 11,
    "start_time": "2023-10-19T14:30:11.521Z"
   },
   {
    "duration": 8,
    "start_time": "2023-10-19T14:30:11.534Z"
   },
   {
    "duration": 13,
    "start_time": "2023-10-19T14:30:11.544Z"
   },
   {
    "duration": 5314,
    "start_time": "2023-10-19T14:30:11.559Z"
   },
   {
    "duration": 30,
    "start_time": "2023-10-19T14:30:16.874Z"
   },
   {
    "duration": 85,
    "start_time": "2023-10-19T14:30:16.906Z"
   },
   {
    "duration": 9941,
    "start_time": "2023-10-19T14:30:16.993Z"
   },
   {
    "duration": 68642,
    "start_time": "2023-10-19T14:30:26.936Z"
   },
   {
    "duration": 5,
    "start_time": "2023-10-19T14:31:35.581Z"
   },
   {
    "duration": 46,
    "start_time": "2023-10-19T14:31:35.603Z"
   },
   {
    "duration": 58393,
    "start_time": "2023-10-19T14:31:35.652Z"
   },
   {
    "duration": 51385,
    "start_time": "2023-10-19T14:32:34.047Z"
   },
   {
    "duration": 24593,
    "start_time": "2023-10-19T14:33:25.435Z"
   },
   {
    "duration": 5192,
    "start_time": "2023-10-19T14:44:41.704Z"
   },
   {
    "duration": 921,
    "start_time": "2023-10-19T14:44:46.900Z"
   },
   {
    "duration": 364,
    "start_time": "2023-10-19T14:44:47.823Z"
   },
   {
    "duration": 31,
    "start_time": "2023-10-19T14:44:48.190Z"
   },
   {
    "duration": 155,
    "start_time": "2023-10-19T14:44:48.224Z"
   },
   {
    "duration": 99,
    "start_time": "2023-10-19T14:44:48.382Z"
   },
   {
    "duration": 6,
    "start_time": "2023-10-19T14:44:48.486Z"
   },
   {
    "duration": 39,
    "start_time": "2023-10-19T14:44:48.501Z"
   },
   {
    "duration": 20092,
    "start_time": "2023-10-19T14:44:48.542Z"
   },
   {
    "duration": 413,
    "start_time": "2023-10-19T14:45:08.638Z"
   },
   {
    "duration": 4931,
    "start_time": "2023-10-19T14:45:09.052Z"
   },
   {
    "duration": 32,
    "start_time": "2023-10-19T14:45:13.985Z"
   },
   {
    "duration": 37417,
    "start_time": "2023-10-19T14:45:14.019Z"
   },
   {
    "duration": 69165,
    "start_time": "2023-10-19T14:45:51.437Z"
   },
   {
    "duration": 5,
    "start_time": "2023-10-19T14:47:00.604Z"
   },
   {
    "duration": 57,
    "start_time": "2023-10-19T14:47:00.611Z"
   },
   {
    "duration": 59374,
    "start_time": "2023-10-19T14:47:00.670Z"
   },
   {
    "duration": 47475,
    "start_time": "2023-10-19T14:48:00.046Z"
   },
   {
    "duration": 4,
    "start_time": "2023-10-19T14:48:47.522Z"
   },
   {
    "duration": 22,
    "start_time": "2023-10-19T14:48:47.528Z"
   },
   {
    "duration": 16,
    "start_time": "2023-10-19T14:48:47.552Z"
   },
   {
    "duration": 7,
    "start_time": "2023-10-19T14:48:47.570Z"
   },
   {
    "duration": 5188,
    "start_time": "2023-10-19T14:48:47.579Z"
   },
   {
    "duration": 32,
    "start_time": "2023-10-19T14:48:52.769Z"
   },
   {
    "duration": 8627,
    "start_time": "2023-10-19T14:48:52.803Z"
   },
   {
    "duration": 65399,
    "start_time": "2023-10-19T14:49:01.433Z"
   },
   {
    "duration": 3,
    "start_time": "2023-10-19T14:50:06.834Z"
   },
   {
    "duration": 20,
    "start_time": "2023-10-19T14:50:06.840Z"
   },
   {
    "duration": 58134,
    "start_time": "2023-10-19T14:50:06.861Z"
   },
   {
    "duration": 49409,
    "start_time": "2023-10-19T14:51:05.001Z"
   },
   {
    "duration": 36519,
    "start_time": "2023-10-19T14:51:54.412Z"
   },
   {
    "duration": 5475,
    "start_time": "2023-10-20T04:27:45.889Z"
   },
   {
    "duration": 2234,
    "start_time": "2023-10-20T04:27:56.629Z"
   },
   {
    "duration": 298,
    "start_time": "2023-10-20T04:28:02.734Z"
   },
   {
    "duration": 19,
    "start_time": "2023-10-20T04:28:33.137Z"
   },
   {
    "duration": 125,
    "start_time": "2023-10-20T04:28:36.377Z"
   },
   {
    "duration": 167048,
    "start_time": "2023-10-20T04:33:54.807Z"
   },
   {
    "duration": 444761,
    "start_time": "2023-10-20T04:36:45.572Z"
   },
   {
    "duration": 21,
    "start_time": "2023-10-20T04:44:10.335Z"
   },
   {
    "duration": 686,
    "start_time": "2023-10-20T04:46:58.169Z"
   },
   {
    "duration": 5,
    "start_time": "2023-10-20T04:47:05.031Z"
   },
   {
    "duration": 869,
    "start_time": "2023-10-20T04:47:11.095Z"
   },
   {
    "duration": 292,
    "start_time": "2023-10-20T04:47:13.981Z"
   },
   {
    "duration": 20,
    "start_time": "2023-10-20T04:47:18.565Z"
   },
   {
    "duration": 121,
    "start_time": "2023-10-20T04:47:21.085Z"
   },
   {
    "duration": 0,
    "start_time": "2023-10-20T05:18:57.104Z"
   },
   {
    "duration": 0,
    "start_time": "2023-10-20T05:18:57.106Z"
   },
   {
    "duration": 6,
    "start_time": "2023-10-20T05:19:28.936Z"
   },
   {
    "duration": 856,
    "start_time": "2023-10-20T05:19:34.965Z"
   },
   {
    "duration": 303,
    "start_time": "2023-10-20T05:19:40.671Z"
   },
   {
    "duration": 20,
    "start_time": "2023-10-20T05:19:47.646Z"
   },
   {
    "duration": 130,
    "start_time": "2023-10-20T05:19:50.210Z"
   },
   {
    "duration": 135133,
    "start_time": "2023-10-20T05:19:54.912Z"
   },
   {
    "duration": 0,
    "start_time": "2023-10-20T05:22:10.047Z"
   },
   {
    "duration": 2636633,
    "start_time": "2023-10-20T05:22:12.852Z"
   },
   {
    "duration": 1919,
    "start_time": "2023-10-20T06:06:09.488Z"
   },
   {
    "duration": 42,
    "start_time": "2023-10-20T06:06:36.232Z"
   },
   {
    "duration": 7477,
    "start_time": "2023-10-20T06:06:41.959Z"
   },
   {
    "duration": 24,
    "start_time": "2023-10-20T06:06:52.376Z"
   },
   {
    "duration": 111,
    "start_time": "2023-10-20T06:11:41.889Z"
   },
   {
    "duration": 82,
    "start_time": "2023-10-20T06:13:20.395Z"
   },
   {
    "duration": 119,
    "start_time": "2023-10-20T06:14:37.673Z"
   },
   {
    "duration": 41,
    "start_time": "2023-10-20T06:16:37.083Z"
   },
   {
    "duration": 31,
    "start_time": "2023-10-20T06:17:07.108Z"
   },
   {
    "duration": 42,
    "start_time": "2023-10-20T06:18:58.497Z"
   },
   {
    "duration": 5,
    "start_time": "2023-10-20T06:19:06.285Z"
   },
   {
    "duration": 42,
    "start_time": "2023-10-20T06:21:38.991Z"
   },
   {
    "duration": 5021,
    "start_time": "2023-10-20T06:22:19.824Z"
   },
   {
    "duration": 906,
    "start_time": "2023-10-20T06:22:24.848Z"
   },
   {
    "duration": 358,
    "start_time": "2023-10-20T06:22:25.756Z"
   },
   {
    "duration": 18,
    "start_time": "2023-10-20T06:22:26.116Z"
   },
   {
    "duration": 162,
    "start_time": "2023-10-20T06:22:26.136Z"
   },
   {
    "duration": 13606,
    "start_time": "2023-10-20T06:22:26.299Z"
   },
   {
    "duration": 0,
    "start_time": "2023-10-20T06:22:39.907Z"
   },
   {
    "duration": 0,
    "start_time": "2023-10-20T06:22:39.909Z"
   },
   {
    "duration": 0,
    "start_time": "2023-10-20T06:22:39.911Z"
   },
   {
    "duration": 0,
    "start_time": "2023-10-20T06:22:39.912Z"
   },
   {
    "duration": 0,
    "start_time": "2023-10-20T06:22:39.912Z"
   },
   {
    "duration": 0,
    "start_time": "2023-10-20T06:22:39.914Z"
   },
   {
    "duration": 0,
    "start_time": "2023-10-20T06:22:39.915Z"
   },
   {
    "duration": 0,
    "start_time": "2023-10-20T06:22:39.916Z"
   },
   {
    "duration": 0,
    "start_time": "2023-10-20T06:22:39.917Z"
   },
   {
    "duration": 0,
    "start_time": "2023-10-20T06:22:39.918Z"
   },
   {
    "duration": 0,
    "start_time": "2023-10-20T06:22:39.919Z"
   },
   {
    "duration": 0,
    "start_time": "2023-10-20T06:22:39.920Z"
   },
   {
    "duration": 0,
    "start_time": "2023-10-20T06:22:39.921Z"
   },
   {
    "duration": 0,
    "start_time": "2023-10-20T06:22:39.922Z"
   },
   {
    "duration": 0,
    "start_time": "2023-10-20T06:22:39.923Z"
   },
   {
    "duration": 0,
    "start_time": "2023-10-20T06:22:39.924Z"
   },
   {
    "duration": 292,
    "start_time": "2023-10-20T06:23:11.221Z"
   },
   {
    "duration": 405085,
    "start_time": "2023-10-20T06:23:46.593Z"
   },
   {
    "duration": 0,
    "start_time": "2023-10-20T06:30:31.680Z"
   },
   {
    "duration": 0,
    "start_time": "2023-10-20T06:30:31.681Z"
   },
   {
    "duration": 0,
    "start_time": "2023-10-20T06:30:31.683Z"
   },
   {
    "duration": 5288,
    "start_time": "2023-10-20T06:30:36.928Z"
   },
   {
    "duration": 866,
    "start_time": "2023-10-20T06:30:42.218Z"
   },
   {
    "duration": 329,
    "start_time": "2023-10-20T06:30:43.086Z"
   },
   {
    "duration": 19,
    "start_time": "2023-10-20T06:30:43.418Z"
   },
   {
    "duration": 141,
    "start_time": "2023-10-20T06:30:43.438Z"
   },
   {
    "duration": 2754202,
    "start_time": "2023-10-20T06:30:43.581Z"
   },
   {
    "duration": 1933,
    "start_time": "2023-10-20T07:16:37.785Z"
   },
   {
    "duration": 40,
    "start_time": "2023-10-20T07:16:39.721Z"
   },
   {
    "duration": 103,
    "start_time": "2023-10-20T07:16:39.763Z"
   },
   {
    "duration": 0,
    "start_time": "2023-10-20T07:16:39.868Z"
   },
   {
    "duration": 0,
    "start_time": "2023-10-20T07:16:39.869Z"
   },
   {
    "duration": 0,
    "start_time": "2023-10-20T07:16:39.870Z"
   },
   {
    "duration": 0,
    "start_time": "2023-10-20T07:16:39.871Z"
   },
   {
    "duration": 0,
    "start_time": "2023-10-20T07:16:39.872Z"
   },
   {
    "duration": 0,
    "start_time": "2023-10-20T07:16:39.873Z"
   },
   {
    "duration": 0,
    "start_time": "2023-10-20T07:16:39.875Z"
   },
   {
    "duration": 0,
    "start_time": "2023-10-20T07:16:39.876Z"
   },
   {
    "duration": 0,
    "start_time": "2023-10-20T07:16:39.877Z"
   },
   {
    "duration": 0,
    "start_time": "2023-10-20T07:16:39.878Z"
   },
   {
    "duration": 0,
    "start_time": "2023-10-20T07:16:39.879Z"
   },
   {
    "duration": 0,
    "start_time": "2023-10-20T07:16:39.880Z"
   },
   {
    "duration": 0,
    "start_time": "2023-10-20T07:16:39.881Z"
   },
   {
    "duration": 2482,
    "start_time": "2023-10-20T07:21:01.412Z"
   },
   {
    "duration": 1932,
    "start_time": "2023-10-20T07:21:58.918Z"
   },
   {
    "duration": 152,
    "start_time": "2023-10-20T07:27:21.710Z"
   },
   {
    "duration": 72,
    "start_time": "2023-10-20T07:28:25.451Z"
   },
   {
    "duration": 66,
    "start_time": "2023-10-20T07:29:32.671Z"
   },
   {
    "duration": 84,
    "start_time": "2023-10-20T07:29:34.178Z"
   },
   {
    "duration": 384,
    "start_time": "2023-10-20T07:32:02.939Z"
   },
   {
    "duration": 8180,
    "start_time": "2023-10-20T07:35:08.063Z"
   },
   {
    "duration": 1050,
    "start_time": "2023-10-20T07:35:39.282Z"
   },
   {
    "duration": 3,
    "start_time": "2023-10-20T07:35:56.875Z"
   },
   {
    "duration": 8,
    "start_time": "2023-10-20T07:36:18.542Z"
   },
   {
    "duration": 47,
    "start_time": "2023-10-20T07:37:15.301Z"
   },
   {
    "duration": 8131,
    "start_time": "2023-10-20T07:37:17.565Z"
   },
   {
    "duration": 112,
    "start_time": "2023-10-20T07:37:28.305Z"
   },
   {
    "duration": 4,
    "start_time": "2023-10-20T07:37:30.723Z"
   },
   {
    "duration": 4,
    "start_time": "2023-10-20T07:37:56.717Z"
   },
   {
    "duration": 56,
    "start_time": "2023-10-20T07:40:38.096Z"
   },
   {
    "duration": 130,
    "start_time": "2023-10-20T07:40:39.107Z"
   },
   {
    "duration": 3,
    "start_time": "2023-10-20T07:41:58.950Z"
   },
   {
    "duration": 7932,
    "start_time": "2023-10-20T07:44:55.387Z"
   },
   {
    "duration": 44,
    "start_time": "2023-10-20T07:45:03.321Z"
   },
   {
    "duration": 425,
    "start_time": "2023-10-20T07:45:21.881Z"
   },
   {
    "duration": 3,
    "start_time": "2023-10-20T07:45:24.221Z"
   },
   {
    "duration": 56,
    "start_time": "2023-10-20T07:49:17.382Z"
   },
   {
    "duration": 51,
    "start_time": "2023-10-20T07:52:33.293Z"
   },
   {
    "duration": 48,
    "start_time": "2023-10-20T07:53:07.402Z"
   },
   {
    "duration": 49,
    "start_time": "2023-10-20T07:53:23.477Z"
   },
   {
    "duration": 44,
    "start_time": "2023-10-20T07:53:38.177Z"
   },
   {
    "duration": 3,
    "start_time": "2023-10-20T07:53:40.646Z"
   },
   {
    "duration": 41,
    "start_time": "2023-10-20T07:54:17.086Z"
   },
   {
    "duration": 43,
    "start_time": "2023-10-20T07:54:24.489Z"
   },
   {
    "duration": 109,
    "start_time": "2023-10-20T07:54:25.167Z"
   },
   {
    "duration": 7776,
    "start_time": "2023-10-20T07:54:29.585Z"
   },
   {
    "duration": 41,
    "start_time": "2023-10-20T07:55:00.275Z"
   },
   {
    "duration": 4,
    "start_time": "2023-10-20T07:55:01.580Z"
   },
   {
    "duration": 29,
    "start_time": "2023-10-20T07:55:05.967Z"
   },
   {
    "duration": 123,
    "start_time": "2023-10-20T07:56:33.123Z"
   },
   {
    "duration": 42,
    "start_time": "2023-10-20T07:57:03.645Z"
   },
   {
    "duration": 25,
    "start_time": "2023-10-20T07:58:13.374Z"
   },
   {
    "duration": 29,
    "start_time": "2023-10-20T07:58:53.454Z"
   },
   {
    "duration": 21,
    "start_time": "2023-10-20T07:59:08.831Z"
   },
   {
    "duration": 5,
    "start_time": "2023-10-20T07:59:31.484Z"
   },
   {
    "duration": 851531,
    "start_time": "2023-10-20T07:59:47.380Z"
   },
   {
    "duration": 227124,
    "start_time": "2023-10-20T08:16:10.176Z"
   },
   {
    "duration": 0,
    "start_time": "2023-10-20T08:19:57.307Z"
   },
   {
    "duration": 0,
    "start_time": "2023-10-20T08:19:57.309Z"
   },
   {
    "duration": 0,
    "start_time": "2023-10-20T08:19:57.310Z"
   },
   {
    "duration": 895950,
    "start_time": "2023-10-20T08:19:59.981Z"
   },
   {
    "duration": 0,
    "start_time": "2023-10-20T08:34:55.933Z"
   },
   {
    "duration": 0,
    "start_time": "2023-10-20T08:34:55.935Z"
   },
   {
    "duration": 0,
    "start_time": "2023-10-20T08:34:55.936Z"
   },
   {
    "duration": 39180,
    "start_time": "2023-10-20T08:35:17.838Z"
   },
   {
    "duration": 35403,
    "start_time": "2023-10-20T08:36:19.534Z"
   },
   {
    "duration": 31723,
    "start_time": "2023-10-20T08:37:08.292Z"
   },
   {
    "duration": 8105,
    "start_time": "2023-10-20T08:39:08.342Z"
   },
   {
    "duration": 7191,
    "start_time": "2023-10-20T08:39:44.343Z"
   },
   {
    "duration": 844136,
    "start_time": "2023-10-20T08:40:58.023Z"
   },
   {
    "duration": 213315,
    "start_time": "2023-10-20T08:55:02.161Z"
   },
   {
    "duration": 3361419,
    "start_time": "2023-10-20T08:58:35.477Z"
   },
   {
    "duration": 998028,
    "start_time": "2023-10-20T09:54:36.898Z"
   },
   {
    "duration": 0,
    "start_time": "2023-10-20T10:11:14.928Z"
   },
   {
    "duration": 0,
    "start_time": "2023-10-20T10:11:14.930Z"
   },
   {
    "duration": 0,
    "start_time": "2023-10-20T10:11:14.931Z"
   },
   {
    "duration": 0,
    "start_time": "2023-10-20T10:11:14.932Z"
   },
   {
    "duration": 0,
    "start_time": "2023-10-20T10:11:14.933Z"
   },
   {
    "duration": 0,
    "start_time": "2023-10-20T10:11:14.934Z"
   },
   {
    "duration": 0,
    "start_time": "2023-10-20T10:11:14.935Z"
   },
   {
    "duration": 0,
    "start_time": "2023-10-20T10:11:14.936Z"
   },
   {
    "duration": 0,
    "start_time": "2023-10-20T10:11:14.937Z"
   },
   {
    "duration": 61,
    "start_time": "2023-10-20T10:12:41.466Z"
   },
   {
    "duration": 8022,
    "start_time": "2023-10-20T10:14:30.266Z"
   },
   {
    "duration": 6323,
    "start_time": "2023-10-20T12:52:27.571Z"
   },
   {
    "duration": 1013,
    "start_time": "2023-10-20T12:52:33.896Z"
   },
   {
    "duration": 425,
    "start_time": "2023-10-20T12:52:34.911Z"
   },
   {
    "duration": 20,
    "start_time": "2023-10-20T12:52:35.339Z"
   },
   {
    "duration": 185,
    "start_time": "2023-10-20T12:52:35.360Z"
   },
   {
    "duration": 2727017,
    "start_time": "2023-10-20T12:52:35.547Z"
   },
   {
    "duration": 1999,
    "start_time": "2023-10-20T13:38:02.566Z"
   },
   {
    "duration": 62,
    "start_time": "2023-10-20T13:38:04.567Z"
   },
   {
    "duration": 7907,
    "start_time": "2023-10-20T13:38:04.631Z"
   },
   {
    "duration": 5885,
    "start_time": "2023-10-20T16:50:04.115Z"
   },
   {
    "duration": 1057,
    "start_time": "2023-10-20T16:50:10.002Z"
   },
   {
    "duration": 374,
    "start_time": "2023-10-20T16:50:11.061Z"
   },
   {
    "duration": 30,
    "start_time": "2023-10-20T16:50:11.437Z"
   },
   {
    "duration": 169,
    "start_time": "2023-10-20T16:50:11.469Z"
   },
   {
    "duration": 3049515,
    "start_time": "2023-10-20T16:50:11.640Z"
   },
   {
    "duration": 2282,
    "start_time": "2023-10-20T17:41:01.158Z"
   },
   {
    "duration": 50,
    "start_time": "2023-10-20T17:41:03.442Z"
   },
   {
    "duration": 9173,
    "start_time": "2023-10-20T17:41:03.494Z"
   },
   {
    "duration": 9602,
    "start_time": "2023-10-20T18:49:07.633Z"
   },
   {
    "duration": 1058,
    "start_time": "2023-10-20T18:49:17.238Z"
   },
   {
    "duration": 380,
    "start_time": "2023-10-20T18:49:18.298Z"
   },
   {
    "duration": 39,
    "start_time": "2023-10-20T18:49:18.680Z"
   },
   {
    "duration": 167,
    "start_time": "2023-10-20T18:49:18.722Z"
   },
   {
    "duration": 2937661,
    "start_time": "2023-10-20T18:49:18.891Z"
   },
   {
    "duration": 2016,
    "start_time": "2023-10-20T19:38:16.554Z"
   },
   {
    "duration": 67,
    "start_time": "2023-10-20T19:38:18.571Z"
   },
   {
    "duration": 8008,
    "start_time": "2023-10-20T19:38:18.640Z"
   },
   {
    "duration": 6475,
    "start_time": "2023-10-23T06:02:14.085Z"
   },
   {
    "duration": 2321,
    "start_time": "2023-10-23T06:02:20.561Z"
   },
   {
    "duration": 327,
    "start_time": "2023-10-23T06:02:22.883Z"
   },
   {
    "duration": 20,
    "start_time": "2023-10-23T06:02:23.212Z"
   },
   {
    "duration": 155,
    "start_time": "2023-10-23T06:02:23.233Z"
   },
   {
    "duration": 2653603,
    "start_time": "2023-10-23T06:02:23.390Z"
   },
   {
    "duration": 2073,
    "start_time": "2023-10-23T06:46:37.020Z"
   },
   {
    "duration": 61,
    "start_time": "2023-10-23T06:46:39.107Z"
   },
   {
    "duration": 8899,
    "start_time": "2023-10-23T06:46:39.170Z"
   },
   {
    "duration": 387,
    "start_time": "2023-10-23T06:46:48.071Z"
   },
   {
    "duration": 0,
    "start_time": "2023-10-23T06:46:48.460Z"
   },
   {
    "duration": 0,
    "start_time": "2023-10-23T06:46:48.461Z"
   },
   {
    "duration": 0,
    "start_time": "2023-10-23T06:46:48.462Z"
   },
   {
    "duration": 0,
    "start_time": "2023-10-23T06:46:48.463Z"
   },
   {
    "duration": 0,
    "start_time": "2023-10-23T06:46:48.465Z"
   },
   {
    "duration": 15492173,
    "start_time": "2023-10-23T06:47:10.663Z"
   },
   {
    "duration": 6629,
    "start_time": "2023-10-25T05:43:14.633Z"
   },
   {
    "duration": 2503,
    "start_time": "2023-10-25T05:43:41.444Z"
   },
   {
    "duration": 381,
    "start_time": "2023-10-25T05:44:00.295Z"
   },
   {
    "duration": 19,
    "start_time": "2023-10-25T05:44:24.871Z"
   },
   {
    "duration": 143,
    "start_time": "2023-10-25T05:44:28.448Z"
   },
   {
    "duration": 1122,
    "start_time": "2023-10-25T05:45:29.277Z"
   },
   {
    "duration": 787114,
    "start_time": "2023-10-25T05:45:56.983Z"
   },
   {
    "duration": 2187,
    "start_time": "2023-10-25T06:04:49.323Z"
   },
   {
    "duration": 37,
    "start_time": "2023-10-25T06:06:54.137Z"
   },
   {
    "duration": 2080,
    "start_time": "2023-10-25T06:08:41.624Z"
   },
   {
    "duration": 6210,
    "start_time": "2023-10-25T06:09:10.184Z"
   },
   {
    "duration": 944,
    "start_time": "2023-10-25T06:09:16.396Z"
   },
   {
    "duration": 336,
    "start_time": "2023-10-25T06:09:17.342Z"
   },
   {
    "duration": 19,
    "start_time": "2023-10-25T06:09:17.680Z"
   },
   {
    "duration": 158,
    "start_time": "2023-10-25T06:09:17.700Z"
   },
   {
    "duration": 789271,
    "start_time": "2023-10-25T06:09:17.859Z"
   },
   {
    "duration": 54,
    "start_time": "2023-10-25T06:22:27.131Z"
   },
   {
    "duration": 2097,
    "start_time": "2023-10-25T06:22:27.186Z"
   },
   {
    "duration": 38,
    "start_time": "2023-10-25T06:22:29.285Z"
   },
   {
    "duration": 8087,
    "start_time": "2023-10-25T06:22:29.347Z"
   },
   {
    "duration": 9411,
    "start_time": "2023-10-25T06:22:37.436Z"
   },
   {
    "duration": 0,
    "start_time": "2023-10-25T06:22:46.849Z"
   },
   {
    "duration": 0,
    "start_time": "2023-10-25T06:22:46.850Z"
   },
   {
    "duration": 0,
    "start_time": "2023-10-25T06:22:46.851Z"
   },
   {
    "duration": 0,
    "start_time": "2023-10-25T06:22:46.852Z"
   },
   {
    "duration": 106712,
    "start_time": "2023-10-25T06:32:15.861Z"
   },
   {
    "duration": 5158,
    "start_time": "2023-10-25T06:37:55.781Z"
   },
   {
    "duration": 1016,
    "start_time": "2023-10-25T06:38:00.941Z"
   },
   {
    "duration": 360,
    "start_time": "2023-10-25T06:38:01.959Z"
   },
   {
    "duration": 31,
    "start_time": "2023-10-25T06:38:02.322Z"
   },
   {
    "duration": 256,
    "start_time": "2023-10-25T06:38:02.355Z"
   },
   {
    "duration": 5197,
    "start_time": "2023-10-25T06:38:28.703Z"
   },
   {
    "duration": 948,
    "start_time": "2023-10-25T06:38:33.902Z"
   },
   {
    "duration": 350,
    "start_time": "2023-10-25T06:38:34.852Z"
   },
   {
    "duration": 20,
    "start_time": "2023-10-25T06:38:35.204Z"
   },
   {
    "duration": 213,
    "start_time": "2023-10-25T06:38:35.226Z"
   },
   {
    "duration": 808430,
    "start_time": "2023-10-25T06:38:35.446Z"
   },
   {
    "duration": 2275,
    "start_time": "2023-10-25T06:52:03.878Z"
   },
   {
    "duration": 41,
    "start_time": "2023-10-25T06:52:06.155Z"
   },
   {
    "duration": 8395,
    "start_time": "2023-10-25T06:52:06.198Z"
   },
   {
    "duration": 115388,
    "start_time": "2023-10-25T06:52:14.595Z"
   },
   {
    "duration": 2206217,
    "start_time": "2023-10-25T06:54:09.985Z"
   },
   {
    "duration": 9688474,
    "start_time": "2023-10-25T07:30:56.204Z"
   },
   {
    "duration": 16259997,
    "start_time": "2023-10-25T10:12:24.680Z"
   },
   {
    "duration": 149671,
    "start_time": "2023-10-25T14:43:24.679Z"
   }
  ],
  "kernelspec": {
   "display_name": "Python 3 (ipykernel)",
   "language": "python",
   "name": "python3"
  },
  "language_info": {
   "codemirror_mode": {
    "name": "ipython",
    "version": 3
   },
   "file_extension": ".py",
   "mimetype": "text/x-python",
   "name": "python",
   "nbconvert_exporter": "python",
   "pygments_lexer": "ipython3",
   "version": "3.9.5"
  },
  "toc": {
   "base_numbering": 1,
   "nav_menu": {},
   "number_sections": true,
   "sideBar": true,
   "skip_h1_title": true,
   "title_cell": "Содержание",
   "title_sidebar": "Contents",
   "toc_cell": true,
   "toc_position": {
    "height": "calc(100% - 180px)",
    "left": "10px",
    "top": "150px",
    "width": "302.391px"
   },
   "toc_section_display": true,
   "toc_window_display": false
  }
 },
 "nbformat": 4,
 "nbformat_minor": 4
}
