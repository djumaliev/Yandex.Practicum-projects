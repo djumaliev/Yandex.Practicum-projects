{
 "cells": [
  {
   "cell_type": "markdown",
   "metadata": {},
   "source": [
    "# Determining the Cost of Cars"
   ]
  },
  {
   "cell_type": "markdown",
   "metadata": {},
   "source": [
    "A used car sales service, \"Not damaged, not painted,\" is developing an application to attract new customers. In it, you can quickly find out the market value of your car. You have historical data at your disposal: technical specifications, configurations, and prices of cars. You need to build a model to determine the cost.\n",
    "\n",
    "The customer values:\n",
    "\n",
    "- prediction quality;\n",
    "- prediction speed;\n",
    "- training time."
   ]
  },
  {
   "cell_type": "markdown",
   "metadata": {},
   "source": [
    "# Research Procedure"
   ]
  },
  {
   "cell_type": "markdown",
   "metadata": {},
   "source": [
    "1. Load the data from the file path: /datasets/autos.csv.\n",
    "2. Examine the data. Fill in missing values and handle anomalies in columns if any. Remove uninformative features among the characteristics.\n",
    "3. Prepare datasets for model training.\n",
    "4. Train different models, including at least one LightGBM and one non-boosting model. Try different hyperparameters for each model.\n",
    "5. Analyze training time, prediction time, and model quality for each model.\n",
    "6. Based on customer criteria, select the best model, and verify its quality on the test dataset."
   ]
  },
  {
   "cell_type": "markdown",
   "metadata": {},
   "source": [
    "Data Description\n",
    "\n",
    "Features:\n",
    "\n",
    "- DateCrawled — date of crawling the listing from the database\n",
    "\n",
    "- VehicleType — type of car body\n",
    "\n",
    "- RegistrationYear — year of car registration\n",
    "\n",
    "- Gearbox — type of transmission\n",
    "\n",
    "- Power — power (hp)\n",
    "\n",
    "- Model — car model\n",
    "\n",
    "- Kilometer — mileage (km)\n",
    "\n",
    "- RegistrationMonth — month of car registration\n",
    "\n",
    "- FuelType — fuel type\n",
    "\n",
    "- Brand — car brand\n",
    "\n",
    "- Repaired — whether the car was repaired or not\n",
    "\n",
    "- DateCreated — date of creating the listing\n",
    "\n",
    "- NumberOfPictures — number of car pictures\n",
    "\n",
    "- PostalCode — postal code of the listing owner (user)\n",
    "\n",
    "- LastSeen — date of the user's last activity\n",
    "\n",
    "Target Feature:\n",
    "\n",
    "- Price — price (euro)"
   ]
  },
  {
   "cell_type": "markdown",
   "metadata": {},
   "source": [
    "## Data Preparation"
   ]
  },
  {
   "cell_type": "markdown",
   "metadata": {},
   "source": [
    "Import all the necessary libraries."
   ]
  },
  {
   "cell_type": "code",
   "execution_count": 1,
   "metadata": {},
   "outputs": [
    {
     "name": "stdout",
     "output_type": "stream",
     "text": [
      "Requirement already satisfied: category_encoders in /Users/daniyardjumaliev/Jupyter/venv/lib/python3.9/site-packages (2.6.3)\n",
      "Requirement already satisfied: numpy>=1.14.0 in /Users/daniyardjumaliev/Jupyter/venv/lib/python3.9/site-packages (from category_encoders) (1.26.0)\n",
      "Requirement already satisfied: scikit-learn>=0.20.0 in /Users/daniyardjumaliev/Jupyter/venv/lib/python3.9/site-packages (from category_encoders) (1.3.0)\n",
      "Requirement already satisfied: scipy>=1.0.0 in /Users/daniyardjumaliev/Jupyter/venv/lib/python3.9/site-packages (from category_encoders) (1.11.2)\n",
      "Requirement already satisfied: statsmodels>=0.9.0 in /Users/daniyardjumaliev/Jupyter/venv/lib/python3.9/site-packages (from category_encoders) (0.14.0)\n",
      "Requirement already satisfied: pandas>=1.0.5 in /Users/daniyardjumaliev/Jupyter/venv/lib/python3.9/site-packages (from category_encoders) (2.1.1)\n",
      "Requirement already satisfied: patsy>=0.5.1 in /Users/daniyardjumaliev/Jupyter/venv/lib/python3.9/site-packages (from category_encoders) (0.5.3)\n",
      "Requirement already satisfied: python-dateutil>=2.8.2 in /Users/daniyardjumaliev/Jupyter/venv/lib/python3.9/site-packages (from pandas>=1.0.5->category_encoders) (2.8.2)\n",
      "Requirement already satisfied: pytz>=2020.1 in /Users/daniyardjumaliev/Jupyter/venv/lib/python3.9/site-packages (from pandas>=1.0.5->category_encoders) (2023.3.post1)\n",
      "Requirement already satisfied: tzdata>=2022.1 in /Users/daniyardjumaliev/Jupyter/venv/lib/python3.9/site-packages (from pandas>=1.0.5->category_encoders) (2023.3)\n",
      "Requirement already satisfied: six in /Users/daniyardjumaliev/Jupyter/venv/lib/python3.9/site-packages (from patsy>=0.5.1->category_encoders) (1.16.0)\n",
      "Requirement already satisfied: joblib>=1.1.1 in /Users/daniyardjumaliev/Jupyter/venv/lib/python3.9/site-packages (from scikit-learn>=0.20.0->category_encoders) (1.3.2)\n",
      "Requirement already satisfied: threadpoolctl>=2.0.0 in /Users/daniyardjumaliev/Jupyter/venv/lib/python3.9/site-packages (from scikit-learn>=0.20.0->category_encoders) (3.2.0)\n",
      "Requirement already satisfied: packaging>=21.3 in /Users/daniyardjumaliev/Jupyter/venv/lib/python3.9/site-packages (from statsmodels>=0.9.0->category_encoders) (23.1)\n"
     ]
    }
   ],
   "source": [
    "!pip3 install category_encoders"
   ]
  },
  {
   "cell_type": "code",
   "execution_count": 2,
   "metadata": {
    "scrolled": true
   },
   "outputs": [],
   "source": [
    "import pandas as pd\n",
    "import matplotlib.pyplot as plt\n",
    "import numpy as np\n",
    "import seaborn as sns\n",
    "import os\n",
    "import lightgbm as lgb\n",
    "import time\n",
    "import category_encoders as ce\n",
    "import catboost\n",
    "\n",
    "from catboost import CatBoostRegressor\n",
    "from sklearn.ensemble import RandomForestRegressor\n",
    "from sklearn.linear_model import LinearRegression\n",
    "from sklearn.tree import DecisionTreeRegressor\n",
    "from sklearn.model_selection import train_test_split, GridSearchCV\n",
    "from sklearn.preprocessing import StandardScaler\n",
    "from sklearn.metrics import mean_squared_error"
   ]
  },
  {
   "cell_type": "code",
   "execution_count": 3,
   "metadata": {},
   "outputs": [
    {
     "name": "stdout",
     "output_type": "stream",
     "text": [
      "File loaded successfully.\n"
     ]
    }
   ],
   "source": [
    "pth1_ar = ['/Users/daniyardjumaliev/Jupyter/Projects/datasets/autos.csv']\n",
    "pth2_ar = ['backup_path1.csv']\n",
    "df = None\n",
    "\n",
    "for pth1, pth2 in zip(pth1_ar, pth2_ar):\n",
    "    if os.path.exists(pth1):\n",
    "        df = pd.read_csv(pth1)\n",
    "    elif os.path.exists(pth2):\n",
    "        df = pd.read_csv(pth2)\n",
    "    else:\n",
    "        print(f'Warning: File not found in both paths for {pth1} and {pth2}')\n",
    "else:\n",
    "    print('File loaded successfully.')"
   ]
  },
  {
   "cell_type": "markdown",
   "metadata": {},
   "source": [
    "Currently, we have only one source from which we obtain the file for the research. If alternative paths for finding the file emerge in the future, they can be added to a second array. This is done to avoid errors during the data loading stage. Alternatively, create a third, fourth, and so on, following the same analogy."
   ]
  },
  {
   "cell_type": "markdown",
   "metadata": {},
   "source": [
    "Let's check the data quality from the dataset."
   ]
  },
  {
   "cell_type": "code",
   "execution_count": 4,
   "metadata": {},
   "outputs": [
    {
     "data": {
      "text/html": [
       "<div>\n",
       "<style scoped>\n",
       "    .dataframe tbody tr th:only-of-type {\n",
       "        vertical-align: middle;\n",
       "    }\n",
       "\n",
       "    .dataframe tbody tr th {\n",
       "        vertical-align: top;\n",
       "    }\n",
       "\n",
       "    .dataframe thead th {\n",
       "        text-align: right;\n",
       "    }\n",
       "</style>\n",
       "<table border=\"1\" class=\"dataframe\">\n",
       "  <thead>\n",
       "    <tr style=\"text-align: right;\">\n",
       "      <th></th>\n",
       "      <th>DateCrawled</th>\n",
       "      <th>Price</th>\n",
       "      <th>VehicleType</th>\n",
       "      <th>RegistrationYear</th>\n",
       "      <th>Gearbox</th>\n",
       "      <th>Power</th>\n",
       "      <th>Model</th>\n",
       "      <th>Kilometer</th>\n",
       "      <th>RegistrationMonth</th>\n",
       "      <th>FuelType</th>\n",
       "      <th>Brand</th>\n",
       "      <th>Repaired</th>\n",
       "      <th>DateCreated</th>\n",
       "      <th>NumberOfPictures</th>\n",
       "      <th>PostalCode</th>\n",
       "      <th>LastSeen</th>\n",
       "    </tr>\n",
       "  </thead>\n",
       "  <tbody>\n",
       "    <tr>\n",
       "      <th>0</th>\n",
       "      <td>2016-03-24 11:52:17</td>\n",
       "      <td>480</td>\n",
       "      <td>NaN</td>\n",
       "      <td>1993</td>\n",
       "      <td>manual</td>\n",
       "      <td>0</td>\n",
       "      <td>golf</td>\n",
       "      <td>150000</td>\n",
       "      <td>0</td>\n",
       "      <td>petrol</td>\n",
       "      <td>volkswagen</td>\n",
       "      <td>NaN</td>\n",
       "      <td>2016-03-24 00:00:00</td>\n",
       "      <td>0</td>\n",
       "      <td>70435</td>\n",
       "      <td>2016-04-07 03:16:57</td>\n",
       "    </tr>\n",
       "    <tr>\n",
       "      <th>1</th>\n",
       "      <td>2016-03-24 10:58:45</td>\n",
       "      <td>18300</td>\n",
       "      <td>coupe</td>\n",
       "      <td>2011</td>\n",
       "      <td>manual</td>\n",
       "      <td>190</td>\n",
       "      <td>NaN</td>\n",
       "      <td>125000</td>\n",
       "      <td>5</td>\n",
       "      <td>gasoline</td>\n",
       "      <td>audi</td>\n",
       "      <td>yes</td>\n",
       "      <td>2016-03-24 00:00:00</td>\n",
       "      <td>0</td>\n",
       "      <td>66954</td>\n",
       "      <td>2016-04-07 01:46:50</td>\n",
       "    </tr>\n",
       "    <tr>\n",
       "      <th>2</th>\n",
       "      <td>2016-03-14 12:52:21</td>\n",
       "      <td>9800</td>\n",
       "      <td>suv</td>\n",
       "      <td>2004</td>\n",
       "      <td>auto</td>\n",
       "      <td>163</td>\n",
       "      <td>grand</td>\n",
       "      <td>125000</td>\n",
       "      <td>8</td>\n",
       "      <td>gasoline</td>\n",
       "      <td>jeep</td>\n",
       "      <td>NaN</td>\n",
       "      <td>2016-03-14 00:00:00</td>\n",
       "      <td>0</td>\n",
       "      <td>90480</td>\n",
       "      <td>2016-04-05 12:47:46</td>\n",
       "    </tr>\n",
       "    <tr>\n",
       "      <th>3</th>\n",
       "      <td>2016-03-17 16:54:04</td>\n",
       "      <td>1500</td>\n",
       "      <td>small</td>\n",
       "      <td>2001</td>\n",
       "      <td>manual</td>\n",
       "      <td>75</td>\n",
       "      <td>golf</td>\n",
       "      <td>150000</td>\n",
       "      <td>6</td>\n",
       "      <td>petrol</td>\n",
       "      <td>volkswagen</td>\n",
       "      <td>no</td>\n",
       "      <td>2016-03-17 00:00:00</td>\n",
       "      <td>0</td>\n",
       "      <td>91074</td>\n",
       "      <td>2016-03-17 17:40:17</td>\n",
       "    </tr>\n",
       "    <tr>\n",
       "      <th>4</th>\n",
       "      <td>2016-03-31 17:25:20</td>\n",
       "      <td>3600</td>\n",
       "      <td>small</td>\n",
       "      <td>2008</td>\n",
       "      <td>manual</td>\n",
       "      <td>69</td>\n",
       "      <td>fabia</td>\n",
       "      <td>90000</td>\n",
       "      <td>7</td>\n",
       "      <td>gasoline</td>\n",
       "      <td>skoda</td>\n",
       "      <td>no</td>\n",
       "      <td>2016-03-31 00:00:00</td>\n",
       "      <td>0</td>\n",
       "      <td>60437</td>\n",
       "      <td>2016-04-06 10:17:21</td>\n",
       "    </tr>\n",
       "    <tr>\n",
       "      <th>5</th>\n",
       "      <td>2016-04-04 17:36:23</td>\n",
       "      <td>650</td>\n",
       "      <td>sedan</td>\n",
       "      <td>1995</td>\n",
       "      <td>manual</td>\n",
       "      <td>102</td>\n",
       "      <td>3er</td>\n",
       "      <td>150000</td>\n",
       "      <td>10</td>\n",
       "      <td>petrol</td>\n",
       "      <td>bmw</td>\n",
       "      <td>yes</td>\n",
       "      <td>2016-04-04 00:00:00</td>\n",
       "      <td>0</td>\n",
       "      <td>33775</td>\n",
       "      <td>2016-04-06 19:17:07</td>\n",
       "    </tr>\n",
       "    <tr>\n",
       "      <th>6</th>\n",
       "      <td>2016-04-01 20:48:51</td>\n",
       "      <td>2200</td>\n",
       "      <td>convertible</td>\n",
       "      <td>2004</td>\n",
       "      <td>manual</td>\n",
       "      <td>109</td>\n",
       "      <td>2_reihe</td>\n",
       "      <td>150000</td>\n",
       "      <td>8</td>\n",
       "      <td>petrol</td>\n",
       "      <td>peugeot</td>\n",
       "      <td>no</td>\n",
       "      <td>2016-04-01 00:00:00</td>\n",
       "      <td>0</td>\n",
       "      <td>67112</td>\n",
       "      <td>2016-04-05 18:18:39</td>\n",
       "    </tr>\n",
       "    <tr>\n",
       "      <th>7</th>\n",
       "      <td>2016-03-21 18:54:38</td>\n",
       "      <td>0</td>\n",
       "      <td>sedan</td>\n",
       "      <td>1980</td>\n",
       "      <td>manual</td>\n",
       "      <td>50</td>\n",
       "      <td>other</td>\n",
       "      <td>40000</td>\n",
       "      <td>7</td>\n",
       "      <td>petrol</td>\n",
       "      <td>volkswagen</td>\n",
       "      <td>no</td>\n",
       "      <td>2016-03-21 00:00:00</td>\n",
       "      <td>0</td>\n",
       "      <td>19348</td>\n",
       "      <td>2016-03-25 16:47:58</td>\n",
       "    </tr>\n",
       "    <tr>\n",
       "      <th>8</th>\n",
       "      <td>2016-04-04 23:42:13</td>\n",
       "      <td>14500</td>\n",
       "      <td>bus</td>\n",
       "      <td>2014</td>\n",
       "      <td>manual</td>\n",
       "      <td>125</td>\n",
       "      <td>c_max</td>\n",
       "      <td>30000</td>\n",
       "      <td>8</td>\n",
       "      <td>petrol</td>\n",
       "      <td>ford</td>\n",
       "      <td>NaN</td>\n",
       "      <td>2016-04-04 00:00:00</td>\n",
       "      <td>0</td>\n",
       "      <td>94505</td>\n",
       "      <td>2016-04-04 23:42:13</td>\n",
       "    </tr>\n",
       "    <tr>\n",
       "      <th>9</th>\n",
       "      <td>2016-03-17 10:53:50</td>\n",
       "      <td>999</td>\n",
       "      <td>small</td>\n",
       "      <td>1998</td>\n",
       "      <td>manual</td>\n",
       "      <td>101</td>\n",
       "      <td>golf</td>\n",
       "      <td>150000</td>\n",
       "      <td>0</td>\n",
       "      <td>NaN</td>\n",
       "      <td>volkswagen</td>\n",
       "      <td>NaN</td>\n",
       "      <td>2016-03-17 00:00:00</td>\n",
       "      <td>0</td>\n",
       "      <td>27472</td>\n",
       "      <td>2016-03-31 17:17:06</td>\n",
       "    </tr>\n",
       "  </tbody>\n",
       "</table>\n",
       "</div>"
      ],
      "text/plain": [
       "           DateCrawled  Price  VehicleType  RegistrationYear Gearbox  Power  \\\n",
       "0  2016-03-24 11:52:17    480          NaN              1993  manual      0   \n",
       "1  2016-03-24 10:58:45  18300        coupe              2011  manual    190   \n",
       "2  2016-03-14 12:52:21   9800          suv              2004    auto    163   \n",
       "3  2016-03-17 16:54:04   1500        small              2001  manual     75   \n",
       "4  2016-03-31 17:25:20   3600        small              2008  manual     69   \n",
       "5  2016-04-04 17:36:23    650        sedan              1995  manual    102   \n",
       "6  2016-04-01 20:48:51   2200  convertible              2004  manual    109   \n",
       "7  2016-03-21 18:54:38      0        sedan              1980  manual     50   \n",
       "8  2016-04-04 23:42:13  14500          bus              2014  manual    125   \n",
       "9  2016-03-17 10:53:50    999        small              1998  manual    101   \n",
       "\n",
       "     Model  Kilometer  RegistrationMonth  FuelType       Brand Repaired  \\\n",
       "0     golf     150000                  0    petrol  volkswagen      NaN   \n",
       "1      NaN     125000                  5  gasoline        audi      yes   \n",
       "2    grand     125000                  8  gasoline        jeep      NaN   \n",
       "3     golf     150000                  6    petrol  volkswagen       no   \n",
       "4    fabia      90000                  7  gasoline       skoda       no   \n",
       "5      3er     150000                 10    petrol         bmw      yes   \n",
       "6  2_reihe     150000                  8    petrol     peugeot       no   \n",
       "7    other      40000                  7    petrol  volkswagen       no   \n",
       "8    c_max      30000                  8    petrol        ford      NaN   \n",
       "9     golf     150000                  0       NaN  volkswagen      NaN   \n",
       "\n",
       "           DateCreated  NumberOfPictures  PostalCode             LastSeen  \n",
       "0  2016-03-24 00:00:00                 0       70435  2016-04-07 03:16:57  \n",
       "1  2016-03-24 00:00:00                 0       66954  2016-04-07 01:46:50  \n",
       "2  2016-03-14 00:00:00                 0       90480  2016-04-05 12:47:46  \n",
       "3  2016-03-17 00:00:00                 0       91074  2016-03-17 17:40:17  \n",
       "4  2016-03-31 00:00:00                 0       60437  2016-04-06 10:17:21  \n",
       "5  2016-04-04 00:00:00                 0       33775  2016-04-06 19:17:07  \n",
       "6  2016-04-01 00:00:00                 0       67112  2016-04-05 18:18:39  \n",
       "7  2016-03-21 00:00:00                 0       19348  2016-03-25 16:47:58  \n",
       "8  2016-04-04 00:00:00                 0       94505  2016-04-04 23:42:13  \n",
       "9  2016-03-17 00:00:00                 0       27472  2016-03-31 17:17:06  "
      ]
     },
     "metadata": {},
     "output_type": "display_data"
    },
    {
     "data": {
      "text/html": [
       "<div>\n",
       "<style scoped>\n",
       "    .dataframe tbody tr th:only-of-type {\n",
       "        vertical-align: middle;\n",
       "    }\n",
       "\n",
       "    .dataframe tbody tr th {\n",
       "        vertical-align: top;\n",
       "    }\n",
       "\n",
       "    .dataframe thead th {\n",
       "        text-align: right;\n",
       "    }\n",
       "</style>\n",
       "<table border=\"1\" class=\"dataframe\">\n",
       "  <thead>\n",
       "    <tr style=\"text-align: right;\">\n",
       "      <th></th>\n",
       "      <th>DateCrawled</th>\n",
       "      <th>Price</th>\n",
       "      <th>VehicleType</th>\n",
       "      <th>RegistrationYear</th>\n",
       "      <th>Gearbox</th>\n",
       "      <th>Power</th>\n",
       "      <th>Model</th>\n",
       "      <th>Kilometer</th>\n",
       "      <th>RegistrationMonth</th>\n",
       "      <th>FuelType</th>\n",
       "      <th>Brand</th>\n",
       "      <th>Repaired</th>\n",
       "      <th>DateCreated</th>\n",
       "      <th>NumberOfPictures</th>\n",
       "      <th>PostalCode</th>\n",
       "      <th>LastSeen</th>\n",
       "    </tr>\n",
       "  </thead>\n",
       "  <tbody>\n",
       "    <tr>\n",
       "      <th>354359</th>\n",
       "      <td>2016-03-28 13:48:07</td>\n",
       "      <td>7900</td>\n",
       "      <td>sedan</td>\n",
       "      <td>2010</td>\n",
       "      <td>manual</td>\n",
       "      <td>140</td>\n",
       "      <td>golf</td>\n",
       "      <td>150000</td>\n",
       "      <td>7</td>\n",
       "      <td>gasoline</td>\n",
       "      <td>volkswagen</td>\n",
       "      <td>no</td>\n",
       "      <td>2016-03-28 00:00:00</td>\n",
       "      <td>0</td>\n",
       "      <td>75223</td>\n",
       "      <td>2016-04-02 18:16:20</td>\n",
       "    </tr>\n",
       "    <tr>\n",
       "      <th>354360</th>\n",
       "      <td>2016-04-02 20:37:03</td>\n",
       "      <td>3999</td>\n",
       "      <td>wagon</td>\n",
       "      <td>2005</td>\n",
       "      <td>manual</td>\n",
       "      <td>3</td>\n",
       "      <td>3er</td>\n",
       "      <td>150000</td>\n",
       "      <td>5</td>\n",
       "      <td>gasoline</td>\n",
       "      <td>bmw</td>\n",
       "      <td>no</td>\n",
       "      <td>2016-04-02 00:00:00</td>\n",
       "      <td>0</td>\n",
       "      <td>81825</td>\n",
       "      <td>2016-04-06 20:47:12</td>\n",
       "    </tr>\n",
       "    <tr>\n",
       "      <th>354361</th>\n",
       "      <td>2016-03-09 13:37:43</td>\n",
       "      <td>5250</td>\n",
       "      <td>NaN</td>\n",
       "      <td>2016</td>\n",
       "      <td>auto</td>\n",
       "      <td>150</td>\n",
       "      <td>159</td>\n",
       "      <td>150000</td>\n",
       "      <td>12</td>\n",
       "      <td>NaN</td>\n",
       "      <td>alfa_romeo</td>\n",
       "      <td>no</td>\n",
       "      <td>2016-03-09 00:00:00</td>\n",
       "      <td>0</td>\n",
       "      <td>51371</td>\n",
       "      <td>2016-03-13 01:44:13</td>\n",
       "    </tr>\n",
       "    <tr>\n",
       "      <th>354362</th>\n",
       "      <td>2016-03-19 19:53:49</td>\n",
       "      <td>3200</td>\n",
       "      <td>sedan</td>\n",
       "      <td>2004</td>\n",
       "      <td>manual</td>\n",
       "      <td>225</td>\n",
       "      <td>leon</td>\n",
       "      <td>150000</td>\n",
       "      <td>5</td>\n",
       "      <td>petrol</td>\n",
       "      <td>seat</td>\n",
       "      <td>yes</td>\n",
       "      <td>2016-03-19 00:00:00</td>\n",
       "      <td>0</td>\n",
       "      <td>96465</td>\n",
       "      <td>2016-03-19 20:44:43</td>\n",
       "    </tr>\n",
       "    <tr>\n",
       "      <th>354363</th>\n",
       "      <td>2016-03-27 20:36:20</td>\n",
       "      <td>1150</td>\n",
       "      <td>bus</td>\n",
       "      <td>2000</td>\n",
       "      <td>manual</td>\n",
       "      <td>0</td>\n",
       "      <td>zafira</td>\n",
       "      <td>150000</td>\n",
       "      <td>3</td>\n",
       "      <td>petrol</td>\n",
       "      <td>opel</td>\n",
       "      <td>no</td>\n",
       "      <td>2016-03-27 00:00:00</td>\n",
       "      <td>0</td>\n",
       "      <td>26624</td>\n",
       "      <td>2016-03-29 10:17:23</td>\n",
       "    </tr>\n",
       "    <tr>\n",
       "      <th>354364</th>\n",
       "      <td>2016-03-21 09:50:58</td>\n",
       "      <td>0</td>\n",
       "      <td>NaN</td>\n",
       "      <td>2005</td>\n",
       "      <td>manual</td>\n",
       "      <td>0</td>\n",
       "      <td>colt</td>\n",
       "      <td>150000</td>\n",
       "      <td>7</td>\n",
       "      <td>petrol</td>\n",
       "      <td>mitsubishi</td>\n",
       "      <td>yes</td>\n",
       "      <td>2016-03-21 00:00:00</td>\n",
       "      <td>0</td>\n",
       "      <td>2694</td>\n",
       "      <td>2016-03-21 10:42:49</td>\n",
       "    </tr>\n",
       "    <tr>\n",
       "      <th>354365</th>\n",
       "      <td>2016-03-14 17:48:27</td>\n",
       "      <td>2200</td>\n",
       "      <td>NaN</td>\n",
       "      <td>2005</td>\n",
       "      <td>NaN</td>\n",
       "      <td>0</td>\n",
       "      <td>NaN</td>\n",
       "      <td>20000</td>\n",
       "      <td>1</td>\n",
       "      <td>NaN</td>\n",
       "      <td>sonstige_autos</td>\n",
       "      <td>NaN</td>\n",
       "      <td>2016-03-14 00:00:00</td>\n",
       "      <td>0</td>\n",
       "      <td>39576</td>\n",
       "      <td>2016-04-06 00:46:52</td>\n",
       "    </tr>\n",
       "    <tr>\n",
       "      <th>354366</th>\n",
       "      <td>2016-03-05 19:56:21</td>\n",
       "      <td>1199</td>\n",
       "      <td>convertible</td>\n",
       "      <td>2000</td>\n",
       "      <td>auto</td>\n",
       "      <td>101</td>\n",
       "      <td>fortwo</td>\n",
       "      <td>125000</td>\n",
       "      <td>3</td>\n",
       "      <td>petrol</td>\n",
       "      <td>smart</td>\n",
       "      <td>no</td>\n",
       "      <td>2016-03-05 00:00:00</td>\n",
       "      <td>0</td>\n",
       "      <td>26135</td>\n",
       "      <td>2016-03-11 18:17:12</td>\n",
       "    </tr>\n",
       "    <tr>\n",
       "      <th>354367</th>\n",
       "      <td>2016-03-19 18:57:12</td>\n",
       "      <td>9200</td>\n",
       "      <td>bus</td>\n",
       "      <td>1996</td>\n",
       "      <td>manual</td>\n",
       "      <td>102</td>\n",
       "      <td>transporter</td>\n",
       "      <td>150000</td>\n",
       "      <td>3</td>\n",
       "      <td>gasoline</td>\n",
       "      <td>volkswagen</td>\n",
       "      <td>no</td>\n",
       "      <td>2016-03-19 00:00:00</td>\n",
       "      <td>0</td>\n",
       "      <td>87439</td>\n",
       "      <td>2016-04-07 07:15:26</td>\n",
       "    </tr>\n",
       "    <tr>\n",
       "      <th>354368</th>\n",
       "      <td>2016-03-20 19:41:08</td>\n",
       "      <td>3400</td>\n",
       "      <td>wagon</td>\n",
       "      <td>2002</td>\n",
       "      <td>manual</td>\n",
       "      <td>100</td>\n",
       "      <td>golf</td>\n",
       "      <td>150000</td>\n",
       "      <td>6</td>\n",
       "      <td>gasoline</td>\n",
       "      <td>volkswagen</td>\n",
       "      <td>NaN</td>\n",
       "      <td>2016-03-20 00:00:00</td>\n",
       "      <td>0</td>\n",
       "      <td>40764</td>\n",
       "      <td>2016-03-24 12:45:21</td>\n",
       "    </tr>\n",
       "  </tbody>\n",
       "</table>\n",
       "</div>"
      ],
      "text/plain": [
       "                DateCrawled  Price  VehicleType  RegistrationYear Gearbox  \\\n",
       "354359  2016-03-28 13:48:07   7900        sedan              2010  manual   \n",
       "354360  2016-04-02 20:37:03   3999        wagon              2005  manual   \n",
       "354361  2016-03-09 13:37:43   5250          NaN              2016    auto   \n",
       "354362  2016-03-19 19:53:49   3200        sedan              2004  manual   \n",
       "354363  2016-03-27 20:36:20   1150          bus              2000  manual   \n",
       "354364  2016-03-21 09:50:58      0          NaN              2005  manual   \n",
       "354365  2016-03-14 17:48:27   2200          NaN              2005     NaN   \n",
       "354366  2016-03-05 19:56:21   1199  convertible              2000    auto   \n",
       "354367  2016-03-19 18:57:12   9200          bus              1996  manual   \n",
       "354368  2016-03-20 19:41:08   3400        wagon              2002  manual   \n",
       "\n",
       "        Power        Model  Kilometer  RegistrationMonth  FuelType  \\\n",
       "354359    140         golf     150000                  7  gasoline   \n",
       "354360      3          3er     150000                  5  gasoline   \n",
       "354361    150          159     150000                 12       NaN   \n",
       "354362    225         leon     150000                  5    petrol   \n",
       "354363      0       zafira     150000                  3    petrol   \n",
       "354364      0         colt     150000                  7    petrol   \n",
       "354365      0          NaN      20000                  1       NaN   \n",
       "354366    101       fortwo     125000                  3    petrol   \n",
       "354367    102  transporter     150000                  3  gasoline   \n",
       "354368    100         golf     150000                  6  gasoline   \n",
       "\n",
       "                 Brand Repaired          DateCreated  NumberOfPictures  \\\n",
       "354359      volkswagen       no  2016-03-28 00:00:00                 0   \n",
       "354360             bmw       no  2016-04-02 00:00:00                 0   \n",
       "354361      alfa_romeo       no  2016-03-09 00:00:00                 0   \n",
       "354362            seat      yes  2016-03-19 00:00:00                 0   \n",
       "354363            opel       no  2016-03-27 00:00:00                 0   \n",
       "354364      mitsubishi      yes  2016-03-21 00:00:00                 0   \n",
       "354365  sonstige_autos      NaN  2016-03-14 00:00:00                 0   \n",
       "354366           smart       no  2016-03-05 00:00:00                 0   \n",
       "354367      volkswagen       no  2016-03-19 00:00:00                 0   \n",
       "354368      volkswagen      NaN  2016-03-20 00:00:00                 0   \n",
       "\n",
       "        PostalCode             LastSeen  \n",
       "354359       75223  2016-04-02 18:16:20  \n",
       "354360       81825  2016-04-06 20:47:12  \n",
       "354361       51371  2016-03-13 01:44:13  \n",
       "354362       96465  2016-03-19 20:44:43  \n",
       "354363       26624  2016-03-29 10:17:23  \n",
       "354364        2694  2016-03-21 10:42:49  \n",
       "354365       39576  2016-04-06 00:46:52  \n",
       "354366       26135  2016-03-11 18:17:12  \n",
       "354367       87439  2016-04-07 07:15:26  \n",
       "354368       40764  2016-03-24 12:45:21  "
      ]
     },
     "metadata": {},
     "output_type": "display_data"
    },
    {
     "data": {
      "text/html": [
       "<div>\n",
       "<style scoped>\n",
       "    .dataframe tbody tr th:only-of-type {\n",
       "        vertical-align: middle;\n",
       "    }\n",
       "\n",
       "    .dataframe tbody tr th {\n",
       "        vertical-align: top;\n",
       "    }\n",
       "\n",
       "    .dataframe thead th {\n",
       "        text-align: right;\n",
       "    }\n",
       "</style>\n",
       "<table border=\"1\" class=\"dataframe\">\n",
       "  <thead>\n",
       "    <tr style=\"text-align: right;\">\n",
       "      <th></th>\n",
       "      <th>Price</th>\n",
       "      <th>RegistrationYear</th>\n",
       "      <th>Power</th>\n",
       "      <th>Kilometer</th>\n",
       "      <th>RegistrationMonth</th>\n",
       "      <th>NumberOfPictures</th>\n",
       "      <th>PostalCode</th>\n",
       "    </tr>\n",
       "  </thead>\n",
       "  <tbody>\n",
       "    <tr>\n",
       "      <th>count</th>\n",
       "      <td>354369.000000</td>\n",
       "      <td>354369.000000</td>\n",
       "      <td>354369.000000</td>\n",
       "      <td>354369.000000</td>\n",
       "      <td>354369.000000</td>\n",
       "      <td>354369.0</td>\n",
       "      <td>354369.000000</td>\n",
       "    </tr>\n",
       "    <tr>\n",
       "      <th>mean</th>\n",
       "      <td>4416.656776</td>\n",
       "      <td>2004.234448</td>\n",
       "      <td>110.094337</td>\n",
       "      <td>128211.172535</td>\n",
       "      <td>5.714645</td>\n",
       "      <td>0.0</td>\n",
       "      <td>50508.689087</td>\n",
       "    </tr>\n",
       "    <tr>\n",
       "      <th>std</th>\n",
       "      <td>4514.158514</td>\n",
       "      <td>90.227958</td>\n",
       "      <td>189.850405</td>\n",
       "      <td>37905.341530</td>\n",
       "      <td>3.726421</td>\n",
       "      <td>0.0</td>\n",
       "      <td>25783.096248</td>\n",
       "    </tr>\n",
       "    <tr>\n",
       "      <th>min</th>\n",
       "      <td>0.000000</td>\n",
       "      <td>1000.000000</td>\n",
       "      <td>0.000000</td>\n",
       "      <td>5000.000000</td>\n",
       "      <td>0.000000</td>\n",
       "      <td>0.0</td>\n",
       "      <td>1067.000000</td>\n",
       "    </tr>\n",
       "    <tr>\n",
       "      <th>25%</th>\n",
       "      <td>1050.000000</td>\n",
       "      <td>1999.000000</td>\n",
       "      <td>69.000000</td>\n",
       "      <td>125000.000000</td>\n",
       "      <td>3.000000</td>\n",
       "      <td>0.0</td>\n",
       "      <td>30165.000000</td>\n",
       "    </tr>\n",
       "    <tr>\n",
       "      <th>50%</th>\n",
       "      <td>2700.000000</td>\n",
       "      <td>2003.000000</td>\n",
       "      <td>105.000000</td>\n",
       "      <td>150000.000000</td>\n",
       "      <td>6.000000</td>\n",
       "      <td>0.0</td>\n",
       "      <td>49413.000000</td>\n",
       "    </tr>\n",
       "    <tr>\n",
       "      <th>75%</th>\n",
       "      <td>6400.000000</td>\n",
       "      <td>2008.000000</td>\n",
       "      <td>143.000000</td>\n",
       "      <td>150000.000000</td>\n",
       "      <td>9.000000</td>\n",
       "      <td>0.0</td>\n",
       "      <td>71083.000000</td>\n",
       "    </tr>\n",
       "    <tr>\n",
       "      <th>max</th>\n",
       "      <td>20000.000000</td>\n",
       "      <td>9999.000000</td>\n",
       "      <td>20000.000000</td>\n",
       "      <td>150000.000000</td>\n",
       "      <td>12.000000</td>\n",
       "      <td>0.0</td>\n",
       "      <td>99998.000000</td>\n",
       "    </tr>\n",
       "  </tbody>\n",
       "</table>\n",
       "</div>"
      ],
      "text/plain": [
       "               Price  RegistrationYear          Power      Kilometer  \\\n",
       "count  354369.000000     354369.000000  354369.000000  354369.000000   \n",
       "mean     4416.656776       2004.234448     110.094337  128211.172535   \n",
       "std      4514.158514         90.227958     189.850405   37905.341530   \n",
       "min         0.000000       1000.000000       0.000000    5000.000000   \n",
       "25%      1050.000000       1999.000000      69.000000  125000.000000   \n",
       "50%      2700.000000       2003.000000     105.000000  150000.000000   \n",
       "75%      6400.000000       2008.000000     143.000000  150000.000000   \n",
       "max     20000.000000       9999.000000   20000.000000  150000.000000   \n",
       "\n",
       "       RegistrationMonth  NumberOfPictures     PostalCode  \n",
       "count      354369.000000          354369.0  354369.000000  \n",
       "mean            5.714645               0.0   50508.689087  \n",
       "std             3.726421               0.0   25783.096248  \n",
       "min             0.000000               0.0    1067.000000  \n",
       "25%             3.000000               0.0   30165.000000  \n",
       "50%             6.000000               0.0   49413.000000  \n",
       "75%             9.000000               0.0   71083.000000  \n",
       "max            12.000000               0.0   99998.000000  "
      ]
     },
     "metadata": {},
     "output_type": "display_data"
    },
    {
     "name": "stdout",
     "output_type": "stream",
     "text": [
      "<class 'pandas.core.frame.DataFrame'>\n",
      "RangeIndex: 354369 entries, 0 to 354368\n",
      "Data columns (total 16 columns):\n",
      " #   Column             Non-Null Count   Dtype \n",
      "---  ------             --------------   ----- \n",
      " 0   DateCrawled        354369 non-null  object\n",
      " 1   Price              354369 non-null  int64 \n",
      " 2   VehicleType        316879 non-null  object\n",
      " 3   RegistrationYear   354369 non-null  int64 \n",
      " 4   Gearbox            334536 non-null  object\n",
      " 5   Power              354369 non-null  int64 \n",
      " 6   Model              334664 non-null  object\n",
      " 7   Kilometer          354369 non-null  int64 \n",
      " 8   RegistrationMonth  354369 non-null  int64 \n",
      " 9   FuelType           321474 non-null  object\n",
      " 10  Brand              354369 non-null  object\n",
      " 11  Repaired           283215 non-null  object\n",
      " 12  DateCreated        354369 non-null  object\n",
      " 13  NumberOfPictures   354369 non-null  int64 \n",
      " 14  PostalCode         354369 non-null  int64 \n",
      " 15  LastSeen           354369 non-null  object\n",
      "dtypes: int64(7), object(9)\n",
      "memory usage: 43.3+ MB\n"
     ]
    },
    {
     "data": {
      "text/plain": [
       "'Duplicates: 4'"
      ]
     },
     "metadata": {},
     "output_type": "display_data"
    },
    {
     "data": {
      "text/plain": [
       "'Missing values:'"
      ]
     },
     "metadata": {},
     "output_type": "display_data"
    },
    {
     "data": {
      "text/plain": [
       "DateCrawled              0\n",
       "Price                    0\n",
       "VehicleType          37490\n",
       "RegistrationYear         0\n",
       "Gearbox              19833\n",
       "Power                    0\n",
       "Model                19705\n",
       "Kilometer                0\n",
       "RegistrationMonth        0\n",
       "FuelType             32895\n",
       "Brand                    0\n",
       "Repaired             71154\n",
       "DateCreated              0\n",
       "NumberOfPictures         0\n",
       "PostalCode               0\n",
       "LastSeen                 0\n",
       "dtype: int64"
      ]
     },
     "metadata": {},
     "output_type": "display_data"
    }
   ],
   "source": [
    "display(df.head(10))\n",
    "display(df.tail(10))\n",
    "display(df.describe())\n",
    "df.info()\n",
    "display(f'Duplicates: {df.duplicated().sum()}')\n",
    "display(f'Missing values:')\n",
    "display(df.isna().sum())"
   ]
  },
  {
   "cell_type": "markdown",
   "metadata": {},
   "source": [
    "To begin with, let's remove all the columns that won't be needed during model training: DateCrawled, DateCreated, NumberOfPictures, LastSeen. The reason for this is that these features are not in any way related to the price of the car, our target variable."
   ]
  },
  {
   "cell_type": "code",
   "execution_count": 5,
   "metadata": {},
   "outputs": [
    {
     "data": {
      "text/html": [
       "<div>\n",
       "<style scoped>\n",
       "    .dataframe tbody tr th:only-of-type {\n",
       "        vertical-align: middle;\n",
       "    }\n",
       "\n",
       "    .dataframe tbody tr th {\n",
       "        vertical-align: top;\n",
       "    }\n",
       "\n",
       "    .dataframe thead th {\n",
       "        text-align: right;\n",
       "    }\n",
       "</style>\n",
       "<table border=\"1\" class=\"dataframe\">\n",
       "  <thead>\n",
       "    <tr style=\"text-align: right;\">\n",
       "      <th></th>\n",
       "      <th>Price</th>\n",
       "      <th>VehicleType</th>\n",
       "      <th>RegistrationYear</th>\n",
       "      <th>Gearbox</th>\n",
       "      <th>Power</th>\n",
       "      <th>Model</th>\n",
       "      <th>Kilometer</th>\n",
       "      <th>RegistrationMonth</th>\n",
       "      <th>FuelType</th>\n",
       "      <th>Brand</th>\n",
       "      <th>Repaired</th>\n",
       "      <th>PostalCode</th>\n",
       "    </tr>\n",
       "  </thead>\n",
       "  <tbody>\n",
       "    <tr>\n",
       "      <th>0</th>\n",
       "      <td>480</td>\n",
       "      <td>NaN</td>\n",
       "      <td>1993</td>\n",
       "      <td>manual</td>\n",
       "      <td>0</td>\n",
       "      <td>golf</td>\n",
       "      <td>150000</td>\n",
       "      <td>0</td>\n",
       "      <td>petrol</td>\n",
       "      <td>volkswagen</td>\n",
       "      <td>NaN</td>\n",
       "      <td>70435</td>\n",
       "    </tr>\n",
       "    <tr>\n",
       "      <th>1</th>\n",
       "      <td>18300</td>\n",
       "      <td>coupe</td>\n",
       "      <td>2011</td>\n",
       "      <td>manual</td>\n",
       "      <td>190</td>\n",
       "      <td>NaN</td>\n",
       "      <td>125000</td>\n",
       "      <td>5</td>\n",
       "      <td>gasoline</td>\n",
       "      <td>audi</td>\n",
       "      <td>yes</td>\n",
       "      <td>66954</td>\n",
       "    </tr>\n",
       "    <tr>\n",
       "      <th>2</th>\n",
       "      <td>9800</td>\n",
       "      <td>suv</td>\n",
       "      <td>2004</td>\n",
       "      <td>auto</td>\n",
       "      <td>163</td>\n",
       "      <td>grand</td>\n",
       "      <td>125000</td>\n",
       "      <td>8</td>\n",
       "      <td>gasoline</td>\n",
       "      <td>jeep</td>\n",
       "      <td>NaN</td>\n",
       "      <td>90480</td>\n",
       "    </tr>\n",
       "    <tr>\n",
       "      <th>3</th>\n",
       "      <td>1500</td>\n",
       "      <td>small</td>\n",
       "      <td>2001</td>\n",
       "      <td>manual</td>\n",
       "      <td>75</td>\n",
       "      <td>golf</td>\n",
       "      <td>150000</td>\n",
       "      <td>6</td>\n",
       "      <td>petrol</td>\n",
       "      <td>volkswagen</td>\n",
       "      <td>no</td>\n",
       "      <td>91074</td>\n",
       "    </tr>\n",
       "    <tr>\n",
       "      <th>4</th>\n",
       "      <td>3600</td>\n",
       "      <td>small</td>\n",
       "      <td>2008</td>\n",
       "      <td>manual</td>\n",
       "      <td>69</td>\n",
       "      <td>fabia</td>\n",
       "      <td>90000</td>\n",
       "      <td>7</td>\n",
       "      <td>gasoline</td>\n",
       "      <td>skoda</td>\n",
       "      <td>no</td>\n",
       "      <td>60437</td>\n",
       "    </tr>\n",
       "    <tr>\n",
       "      <th>5</th>\n",
       "      <td>650</td>\n",
       "      <td>sedan</td>\n",
       "      <td>1995</td>\n",
       "      <td>manual</td>\n",
       "      <td>102</td>\n",
       "      <td>3er</td>\n",
       "      <td>150000</td>\n",
       "      <td>10</td>\n",
       "      <td>petrol</td>\n",
       "      <td>bmw</td>\n",
       "      <td>yes</td>\n",
       "      <td>33775</td>\n",
       "    </tr>\n",
       "    <tr>\n",
       "      <th>6</th>\n",
       "      <td>2200</td>\n",
       "      <td>convertible</td>\n",
       "      <td>2004</td>\n",
       "      <td>manual</td>\n",
       "      <td>109</td>\n",
       "      <td>2_reihe</td>\n",
       "      <td>150000</td>\n",
       "      <td>8</td>\n",
       "      <td>petrol</td>\n",
       "      <td>peugeot</td>\n",
       "      <td>no</td>\n",
       "      <td>67112</td>\n",
       "    </tr>\n",
       "    <tr>\n",
       "      <th>7</th>\n",
       "      <td>0</td>\n",
       "      <td>sedan</td>\n",
       "      <td>1980</td>\n",
       "      <td>manual</td>\n",
       "      <td>50</td>\n",
       "      <td>other</td>\n",
       "      <td>40000</td>\n",
       "      <td>7</td>\n",
       "      <td>petrol</td>\n",
       "      <td>volkswagen</td>\n",
       "      <td>no</td>\n",
       "      <td>19348</td>\n",
       "    </tr>\n",
       "    <tr>\n",
       "      <th>8</th>\n",
       "      <td>14500</td>\n",
       "      <td>bus</td>\n",
       "      <td>2014</td>\n",
       "      <td>manual</td>\n",
       "      <td>125</td>\n",
       "      <td>c_max</td>\n",
       "      <td>30000</td>\n",
       "      <td>8</td>\n",
       "      <td>petrol</td>\n",
       "      <td>ford</td>\n",
       "      <td>NaN</td>\n",
       "      <td>94505</td>\n",
       "    </tr>\n",
       "    <tr>\n",
       "      <th>9</th>\n",
       "      <td>999</td>\n",
       "      <td>small</td>\n",
       "      <td>1998</td>\n",
       "      <td>manual</td>\n",
       "      <td>101</td>\n",
       "      <td>golf</td>\n",
       "      <td>150000</td>\n",
       "      <td>0</td>\n",
       "      <td>NaN</td>\n",
       "      <td>volkswagen</td>\n",
       "      <td>NaN</td>\n",
       "      <td>27472</td>\n",
       "    </tr>\n",
       "  </tbody>\n",
       "</table>\n",
       "</div>"
      ],
      "text/plain": [
       "   Price  VehicleType  RegistrationYear Gearbox  Power    Model  Kilometer  \\\n",
       "0    480          NaN              1993  manual      0     golf     150000   \n",
       "1  18300        coupe              2011  manual    190      NaN     125000   \n",
       "2   9800          suv              2004    auto    163    grand     125000   \n",
       "3   1500        small              2001  manual     75     golf     150000   \n",
       "4   3600        small              2008  manual     69    fabia      90000   \n",
       "5    650        sedan              1995  manual    102      3er     150000   \n",
       "6   2200  convertible              2004  manual    109  2_reihe     150000   \n",
       "7      0        sedan              1980  manual     50    other      40000   \n",
       "8  14500          bus              2014  manual    125    c_max      30000   \n",
       "9    999        small              1998  manual    101     golf     150000   \n",
       "\n",
       "   RegistrationMonth  FuelType       Brand Repaired  PostalCode  \n",
       "0                  0    petrol  volkswagen      NaN       70435  \n",
       "1                  5  gasoline        audi      yes       66954  \n",
       "2                  8  gasoline        jeep      NaN       90480  \n",
       "3                  6    petrol  volkswagen       no       91074  \n",
       "4                  7  gasoline       skoda       no       60437  \n",
       "5                 10    petrol         bmw      yes       33775  \n",
       "6                  8    petrol     peugeot       no       67112  \n",
       "7                  7    petrol  volkswagen       no       19348  \n",
       "8                  8    petrol        ford      NaN       94505  \n",
       "9                  0       NaN  volkswagen      NaN       27472  "
      ]
     },
     "metadata": {},
     "output_type": "display_data"
    },
    {
     "data": {
      "text/html": [
       "<div>\n",
       "<style scoped>\n",
       "    .dataframe tbody tr th:only-of-type {\n",
       "        vertical-align: middle;\n",
       "    }\n",
       "\n",
       "    .dataframe tbody tr th {\n",
       "        vertical-align: top;\n",
       "    }\n",
       "\n",
       "    .dataframe thead th {\n",
       "        text-align: right;\n",
       "    }\n",
       "</style>\n",
       "<table border=\"1\" class=\"dataframe\">\n",
       "  <thead>\n",
       "    <tr style=\"text-align: right;\">\n",
       "      <th></th>\n",
       "      <th>Price</th>\n",
       "      <th>VehicleType</th>\n",
       "      <th>RegistrationYear</th>\n",
       "      <th>Gearbox</th>\n",
       "      <th>Power</th>\n",
       "      <th>Model</th>\n",
       "      <th>Kilometer</th>\n",
       "      <th>RegistrationMonth</th>\n",
       "      <th>FuelType</th>\n",
       "      <th>Brand</th>\n",
       "      <th>Repaired</th>\n",
       "      <th>PostalCode</th>\n",
       "    </tr>\n",
       "  </thead>\n",
       "  <tbody>\n",
       "    <tr>\n",
       "      <th>354359</th>\n",
       "      <td>7900</td>\n",
       "      <td>sedan</td>\n",
       "      <td>2010</td>\n",
       "      <td>manual</td>\n",
       "      <td>140</td>\n",
       "      <td>golf</td>\n",
       "      <td>150000</td>\n",
       "      <td>7</td>\n",
       "      <td>gasoline</td>\n",
       "      <td>volkswagen</td>\n",
       "      <td>no</td>\n",
       "      <td>75223</td>\n",
       "    </tr>\n",
       "    <tr>\n",
       "      <th>354360</th>\n",
       "      <td>3999</td>\n",
       "      <td>wagon</td>\n",
       "      <td>2005</td>\n",
       "      <td>manual</td>\n",
       "      <td>3</td>\n",
       "      <td>3er</td>\n",
       "      <td>150000</td>\n",
       "      <td>5</td>\n",
       "      <td>gasoline</td>\n",
       "      <td>bmw</td>\n",
       "      <td>no</td>\n",
       "      <td>81825</td>\n",
       "    </tr>\n",
       "    <tr>\n",
       "      <th>354361</th>\n",
       "      <td>5250</td>\n",
       "      <td>NaN</td>\n",
       "      <td>2016</td>\n",
       "      <td>auto</td>\n",
       "      <td>150</td>\n",
       "      <td>159</td>\n",
       "      <td>150000</td>\n",
       "      <td>12</td>\n",
       "      <td>NaN</td>\n",
       "      <td>alfa_romeo</td>\n",
       "      <td>no</td>\n",
       "      <td>51371</td>\n",
       "    </tr>\n",
       "    <tr>\n",
       "      <th>354362</th>\n",
       "      <td>3200</td>\n",
       "      <td>sedan</td>\n",
       "      <td>2004</td>\n",
       "      <td>manual</td>\n",
       "      <td>225</td>\n",
       "      <td>leon</td>\n",
       "      <td>150000</td>\n",
       "      <td>5</td>\n",
       "      <td>petrol</td>\n",
       "      <td>seat</td>\n",
       "      <td>yes</td>\n",
       "      <td>96465</td>\n",
       "    </tr>\n",
       "    <tr>\n",
       "      <th>354363</th>\n",
       "      <td>1150</td>\n",
       "      <td>bus</td>\n",
       "      <td>2000</td>\n",
       "      <td>manual</td>\n",
       "      <td>0</td>\n",
       "      <td>zafira</td>\n",
       "      <td>150000</td>\n",
       "      <td>3</td>\n",
       "      <td>petrol</td>\n",
       "      <td>opel</td>\n",
       "      <td>no</td>\n",
       "      <td>26624</td>\n",
       "    </tr>\n",
       "    <tr>\n",
       "      <th>354364</th>\n",
       "      <td>0</td>\n",
       "      <td>NaN</td>\n",
       "      <td>2005</td>\n",
       "      <td>manual</td>\n",
       "      <td>0</td>\n",
       "      <td>colt</td>\n",
       "      <td>150000</td>\n",
       "      <td>7</td>\n",
       "      <td>petrol</td>\n",
       "      <td>mitsubishi</td>\n",
       "      <td>yes</td>\n",
       "      <td>2694</td>\n",
       "    </tr>\n",
       "    <tr>\n",
       "      <th>354365</th>\n",
       "      <td>2200</td>\n",
       "      <td>NaN</td>\n",
       "      <td>2005</td>\n",
       "      <td>NaN</td>\n",
       "      <td>0</td>\n",
       "      <td>NaN</td>\n",
       "      <td>20000</td>\n",
       "      <td>1</td>\n",
       "      <td>NaN</td>\n",
       "      <td>sonstige_autos</td>\n",
       "      <td>NaN</td>\n",
       "      <td>39576</td>\n",
       "    </tr>\n",
       "    <tr>\n",
       "      <th>354366</th>\n",
       "      <td>1199</td>\n",
       "      <td>convertible</td>\n",
       "      <td>2000</td>\n",
       "      <td>auto</td>\n",
       "      <td>101</td>\n",
       "      <td>fortwo</td>\n",
       "      <td>125000</td>\n",
       "      <td>3</td>\n",
       "      <td>petrol</td>\n",
       "      <td>smart</td>\n",
       "      <td>no</td>\n",
       "      <td>26135</td>\n",
       "    </tr>\n",
       "    <tr>\n",
       "      <th>354367</th>\n",
       "      <td>9200</td>\n",
       "      <td>bus</td>\n",
       "      <td>1996</td>\n",
       "      <td>manual</td>\n",
       "      <td>102</td>\n",
       "      <td>transporter</td>\n",
       "      <td>150000</td>\n",
       "      <td>3</td>\n",
       "      <td>gasoline</td>\n",
       "      <td>volkswagen</td>\n",
       "      <td>no</td>\n",
       "      <td>87439</td>\n",
       "    </tr>\n",
       "    <tr>\n",
       "      <th>354368</th>\n",
       "      <td>3400</td>\n",
       "      <td>wagon</td>\n",
       "      <td>2002</td>\n",
       "      <td>manual</td>\n",
       "      <td>100</td>\n",
       "      <td>golf</td>\n",
       "      <td>150000</td>\n",
       "      <td>6</td>\n",
       "      <td>gasoline</td>\n",
       "      <td>volkswagen</td>\n",
       "      <td>NaN</td>\n",
       "      <td>40764</td>\n",
       "    </tr>\n",
       "  </tbody>\n",
       "</table>\n",
       "</div>"
      ],
      "text/plain": [
       "        Price  VehicleType  RegistrationYear Gearbox  Power        Model  \\\n",
       "354359   7900        sedan              2010  manual    140         golf   \n",
       "354360   3999        wagon              2005  manual      3          3er   \n",
       "354361   5250          NaN              2016    auto    150          159   \n",
       "354362   3200        sedan              2004  manual    225         leon   \n",
       "354363   1150          bus              2000  manual      0       zafira   \n",
       "354364      0          NaN              2005  manual      0         colt   \n",
       "354365   2200          NaN              2005     NaN      0          NaN   \n",
       "354366   1199  convertible              2000    auto    101       fortwo   \n",
       "354367   9200          bus              1996  manual    102  transporter   \n",
       "354368   3400        wagon              2002  manual    100         golf   \n",
       "\n",
       "        Kilometer  RegistrationMonth  FuelType           Brand Repaired  \\\n",
       "354359     150000                  7  gasoline      volkswagen       no   \n",
       "354360     150000                  5  gasoline             bmw       no   \n",
       "354361     150000                 12       NaN      alfa_romeo       no   \n",
       "354362     150000                  5    petrol            seat      yes   \n",
       "354363     150000                  3    petrol            opel       no   \n",
       "354364     150000                  7    petrol      mitsubishi      yes   \n",
       "354365      20000                  1       NaN  sonstige_autos      NaN   \n",
       "354366     125000                  3    petrol           smart       no   \n",
       "354367     150000                  3  gasoline      volkswagen       no   \n",
       "354368     150000                  6  gasoline      volkswagen      NaN   \n",
       "\n",
       "        PostalCode  \n",
       "354359       75223  \n",
       "354360       81825  \n",
       "354361       51371  \n",
       "354362       96465  \n",
       "354363       26624  \n",
       "354364        2694  \n",
       "354365       39576  \n",
       "354366       26135  \n",
       "354367       87439  \n",
       "354368       40764  "
      ]
     },
     "metadata": {},
     "output_type": "display_data"
    }
   ],
   "source": [
    "columns_to_delete = ['DateCrawled', 'DateCreated', 'NumberOfPictures', 'LastSeen']\n",
    "df.drop(columns=columns_to_delete, inplace=True)\n",
    "\n",
    "display(df.head(10))\n",
    "display(df.tail(10))"
   ]
  },
  {
   "cell_type": "markdown",
   "metadata": {},
   "source": [
    "Delete duplicates."
   ]
  },
  {
   "cell_type": "code",
   "execution_count": 6,
   "metadata": {},
   "outputs": [
    {
     "data": {
      "text/plain": [
       "'Duplicates: 0'"
      ]
     },
     "metadata": {},
     "output_type": "display_data"
    }
   ],
   "source": [
    "df.drop_duplicates(inplace=True)\n",
    "display(f'Duplicates: {df.duplicated().sum()}')"
   ]
  },
  {
   "cell_type": "code",
   "execution_count": 7,
   "metadata": {},
   "outputs": [
    {
     "data": {
      "text/plain": [
       "FuelType\n",
       "petrol      203192\n",
       "gasoline     91940\n",
       "lpg           4954\n",
       "cng            531\n",
       "hybrid         228\n",
       "other          200\n",
       "electric        89\n",
       "Name: count, dtype: int64"
      ]
     },
     "metadata": {},
     "output_type": "display_data"
    }
   ],
   "source": [
    "display(df['FuelType'].value_counts())"
   ]
  },
  {
   "cell_type": "markdown",
   "metadata": {},
   "source": [
    "Let's replace all occurrences of \"gasoline\" with \"petrol\" because they refer to the same thing."
   ]
  },
  {
   "cell_type": "code",
   "execution_count": 8,
   "metadata": {},
   "outputs": [
    {
     "data": {
      "text/plain": [
       "FuelType\n",
       "petrol      295132\n",
       "lpg           4954\n",
       "cng            531\n",
       "hybrid         228\n",
       "other          200\n",
       "electric        89\n",
       "Name: count, dtype: int64"
      ]
     },
     "metadata": {},
     "output_type": "display_data"
    }
   ],
   "source": [
    "df['FuelType'] = df['FuelType'].replace('gasoline', 'petrol')\n",
    "display(df['FuelType'].value_counts())"
   ]
  },
  {
   "cell_type": "markdown",
   "metadata": {},
   "source": [
    "Next, either we'll remove the missing and anomalous values, or we'll attempt to restore them based on the available data."
   ]
  },
  {
   "cell_type": "code",
   "execution_count": 9,
   "metadata": {},
   "outputs": [
    {
     "data": {
      "text/plain": [
       "count    333036.000000\n",
       "mean        109.753225\n",
       "std         194.288179\n",
       "min           0.000000\n",
       "25%          68.000000\n",
       "50%         103.000000\n",
       "75%         140.000000\n",
       "max       20000.000000\n",
       "Name: Power, dtype: float64"
      ]
     },
     "metadata": {},
     "output_type": "display_data"
    },
    {
     "data": {
      "text/plain": [
       "Power\n",
       "0       38664\n",
       "75      22543\n",
       "60      14853\n",
       "150     13541\n",
       "101     12495\n",
       "        ...  \n",
       "2789        1\n",
       "519         1\n",
       "2461        1\n",
       "6006        1\n",
       "1241        1\n",
       "Name: count, Length: 712, dtype: int64"
      ]
     },
     "metadata": {},
     "output_type": "display_data"
    },
    {
     "data": {
      "text/plain": [
       "103.0"
      ]
     },
     "metadata": {},
     "output_type": "display_data"
    }
   ],
   "source": [
    "display(df['Power'].describe())\n",
    "display(df['Power'].value_counts())\n",
    "display(df['Power'].median())"
   ]
  },
  {
   "cell_type": "markdown",
   "metadata": {},
   "source": [
    "Replacing zero values with the median could significantly distort the overall picture. Since there are approximately 40,000 zero values, it was decided to replace them with random values ranging from 60 to 200 horsepower, which are the majority among all the data."
   ]
  },
  {
   "cell_type": "code",
   "execution_count": 10,
   "metadata": {},
   "outputs": [
    {
     "data": {
      "image/png": "[encoded data removed]",
      "text/plain": [
       "<Figure size 1000x600 with 1 Axes>"
      ]
     },
     "metadata": {},
     "output_type": "display_data"
    }
   ],
   "source": [
    "random_powers = np.random.randint(60, 201, size=len(df[df['Power'] == 0]))\n",
    "\n",
    "df.loc[df['Power'] == 0, 'Power'] = random_powers\n",
    "\n",
    "plt.figure(figsize=(10, 6))\n",
    "plt.hist(df['Power'], bins=30, edgecolor='k')\n",
    "plt.title('Power distribution')\n",
    "plt.xlabel('Power (h.p.)')\n",
    "plt.ylabel('Frequency')\n",
    "plt.grid(True)\n",
    "plt.show()"
   ]
  },
  {
   "cell_type": "markdown",
   "metadata": {},
   "source": [
    "In the column with engine power, there are anomalous values exceeding 1000 horsepower, which is definitely an error in filling for production cars. Additionally, there are many zero values, which are most likely errors as well. Let's remove all values above 600 and below 30."
   ]
  },
  {
   "cell_type": "code",
   "execution_count": 11,
   "metadata": {},
   "outputs": [
    {
     "data": {
      "image/png": "[encoded data removed]",
      "text/plain": [
       "<Figure size 1000x600 with 1 Axes>"
      ]
     },
     "metadata": {},
     "output_type": "display_data"
    }
   ],
   "source": [
    "df = df[(df['Power'] <= 600) & (df['Power'] > 30)]\n",
    "plt.figure(figsize=(10, 6))\n",
    "plt.hist(df['Power'], bins=30, edgecolor='k')\n",
    "plt.title('Power distribution')\n",
    "plt.xlabel('Power (h.p.)')\n",
    "plt.ylabel('Frequency')\n",
    "plt.grid(True)\n",
    "plt.show()"
   ]
  },
  {
   "cell_type": "markdown",
   "metadata": {},
   "source": [
    "This is how it was possible to maintain a normal distribution of data. Next, let's try to replace missing values in the columns VehicleType and Model by leveraging the relationship between these columns and the Brand column. That is, we will replace empty values in the VehicleType column similarly to the corresponding filled values in conjunction with Model and Brand. We will do the same for the Model column."
   ]
  },
  {
   "cell_type": "code",
   "execution_count": 12,
   "metadata": {},
   "outputs": [
    {
     "data": {
      "text/plain": [
       "'Missing values:'"
      ]
     },
     "metadata": {},
     "output_type": "display_data"
    },
    {
     "data": {
      "text/plain": [
       "Price                    0\n",
       "VehicleType           6548\n",
       "RegistrationYear         0\n",
       "Gearbox              18900\n",
       "Power                    0\n",
       "Model                 8608\n",
       "Kilometer                0\n",
       "RegistrationMonth        0\n",
       "FuelType             31676\n",
       "Brand                    0\n",
       "Repaired             67683\n",
       "PostalCode               0\n",
       "dtype: int64"
      ]
     },
     "metadata": {},
     "output_type": "display_data"
    }
   ],
   "source": [
    "df['VehicleType'].fillna(df.groupby(['Model', 'Brand'])['VehicleType'].transform('first'), inplace=True)\n",
    "df['Model'].fillna(df.groupby(['VehicleType', 'Brand'])['Model'].transform('first'), inplace=True)\n",
    "\n",
    "display(f'Missing values:')\n",
    "display(df.isna().sum())"
   ]
  },
  {
   "cell_type": "markdown",
   "metadata": {},
   "source": [
    "Now let's remove the remaining empty values in the VehicleType and Model columns. Unfortunately, replacing values in the Gearbox and FuelType columns in a similar manner would not be entirely accurate because the transmission and fuel type can vary for the same model. For example, a diesel or petrol engine, automatic or manual transmission. This typically has a direct impact on the price. Therefore, we will simply remove these empty values."
   ]
  },
  {
   "cell_type": "code",
   "execution_count": 13,
   "metadata": {},
   "outputs": [
    {
     "data": {
      "text/plain": [
       "'Missing values:'"
      ]
     },
     "metadata": {},
     "output_type": "display_data"
    },
    {
     "data": {
      "text/plain": [
       "Price                    0\n",
       "VehicleType              0\n",
       "RegistrationYear         0\n",
       "Gearbox                  0\n",
       "Power                    0\n",
       "Model                    0\n",
       "Kilometer                0\n",
       "RegistrationMonth        0\n",
       "FuelType                 0\n",
       "Brand                    0\n",
       "Repaired             45643\n",
       "PostalCode               0\n",
       "dtype: int64"
      ]
     },
     "metadata": {},
     "output_type": "display_data"
    },
    {
     "data": {
      "text/html": [
       "<div>\n",
       "<style scoped>\n",
       "    .dataframe tbody tr th:only-of-type {\n",
       "        vertical-align: middle;\n",
       "    }\n",
       "\n",
       "    .dataframe tbody tr th {\n",
       "        vertical-align: top;\n",
       "    }\n",
       "\n",
       "    .dataframe thead th {\n",
       "        text-align: right;\n",
       "    }\n",
       "</style>\n",
       "<table border=\"1\" class=\"dataframe\">\n",
       "  <thead>\n",
       "    <tr style=\"text-align: right;\">\n",
       "      <th></th>\n",
       "      <th>Price</th>\n",
       "      <th>VehicleType</th>\n",
       "      <th>RegistrationYear</th>\n",
       "      <th>Gearbox</th>\n",
       "      <th>Power</th>\n",
       "      <th>Model</th>\n",
       "      <th>Kilometer</th>\n",
       "      <th>RegistrationMonth</th>\n",
       "      <th>FuelType</th>\n",
       "      <th>Brand</th>\n",
       "      <th>Repaired</th>\n",
       "      <th>PostalCode</th>\n",
       "    </tr>\n",
       "  </thead>\n",
       "  <tbody>\n",
       "    <tr>\n",
       "      <th>0</th>\n",
       "      <td>480</td>\n",
       "      <td>small</td>\n",
       "      <td>1993</td>\n",
       "      <td>manual</td>\n",
       "      <td>72</td>\n",
       "      <td>golf</td>\n",
       "      <td>150000</td>\n",
       "      <td>0</td>\n",
       "      <td>petrol</td>\n",
       "      <td>volkswagen</td>\n",
       "      <td>NaN</td>\n",
       "      <td>70435</td>\n",
       "    </tr>\n",
       "    <tr>\n",
       "      <th>1</th>\n",
       "      <td>18300</td>\n",
       "      <td>coupe</td>\n",
       "      <td>2011</td>\n",
       "      <td>manual</td>\n",
       "      <td>190</td>\n",
       "      <td>tt</td>\n",
       "      <td>125000</td>\n",
       "      <td>5</td>\n",
       "      <td>petrol</td>\n",
       "      <td>audi</td>\n",
       "      <td>yes</td>\n",
       "      <td>66954</td>\n",
       "    </tr>\n",
       "    <tr>\n",
       "      <th>2</th>\n",
       "      <td>9800</td>\n",
       "      <td>suv</td>\n",
       "      <td>2004</td>\n",
       "      <td>auto</td>\n",
       "      <td>163</td>\n",
       "      <td>grand</td>\n",
       "      <td>125000</td>\n",
       "      <td>8</td>\n",
       "      <td>petrol</td>\n",
       "      <td>jeep</td>\n",
       "      <td>NaN</td>\n",
       "      <td>90480</td>\n",
       "    </tr>\n",
       "    <tr>\n",
       "      <th>3</th>\n",
       "      <td>1500</td>\n",
       "      <td>small</td>\n",
       "      <td>2001</td>\n",
       "      <td>manual</td>\n",
       "      <td>75</td>\n",
       "      <td>golf</td>\n",
       "      <td>150000</td>\n",
       "      <td>6</td>\n",
       "      <td>petrol</td>\n",
       "      <td>volkswagen</td>\n",
       "      <td>no</td>\n",
       "      <td>91074</td>\n",
       "    </tr>\n",
       "    <tr>\n",
       "      <th>4</th>\n",
       "      <td>3600</td>\n",
       "      <td>small</td>\n",
       "      <td>2008</td>\n",
       "      <td>manual</td>\n",
       "      <td>69</td>\n",
       "      <td>fabia</td>\n",
       "      <td>90000</td>\n",
       "      <td>7</td>\n",
       "      <td>petrol</td>\n",
       "      <td>skoda</td>\n",
       "      <td>no</td>\n",
       "      <td>60437</td>\n",
       "    </tr>\n",
       "    <tr>\n",
       "      <th>5</th>\n",
       "      <td>650</td>\n",
       "      <td>sedan</td>\n",
       "      <td>1995</td>\n",
       "      <td>manual</td>\n",
       "      <td>102</td>\n",
       "      <td>3er</td>\n",
       "      <td>150000</td>\n",
       "      <td>10</td>\n",
       "      <td>petrol</td>\n",
       "      <td>bmw</td>\n",
       "      <td>yes</td>\n",
       "      <td>33775</td>\n",
       "    </tr>\n",
       "    <tr>\n",
       "      <th>6</th>\n",
       "      <td>2200</td>\n",
       "      <td>convertible</td>\n",
       "      <td>2004</td>\n",
       "      <td>manual</td>\n",
       "      <td>109</td>\n",
       "      <td>2_reihe</td>\n",
       "      <td>150000</td>\n",
       "      <td>8</td>\n",
       "      <td>petrol</td>\n",
       "      <td>peugeot</td>\n",
       "      <td>no</td>\n",
       "      <td>67112</td>\n",
       "    </tr>\n",
       "    <tr>\n",
       "      <th>7</th>\n",
       "      <td>0</td>\n",
       "      <td>sedan</td>\n",
       "      <td>1980</td>\n",
       "      <td>manual</td>\n",
       "      <td>50</td>\n",
       "      <td>other</td>\n",
       "      <td>40000</td>\n",
       "      <td>7</td>\n",
       "      <td>petrol</td>\n",
       "      <td>volkswagen</td>\n",
       "      <td>no</td>\n",
       "      <td>19348</td>\n",
       "    </tr>\n",
       "    <tr>\n",
       "      <th>8</th>\n",
       "      <td>14500</td>\n",
       "      <td>bus</td>\n",
       "      <td>2014</td>\n",
       "      <td>manual</td>\n",
       "      <td>125</td>\n",
       "      <td>c_max</td>\n",
       "      <td>30000</td>\n",
       "      <td>8</td>\n",
       "      <td>petrol</td>\n",
       "      <td>ford</td>\n",
       "      <td>NaN</td>\n",
       "      <td>94505</td>\n",
       "    </tr>\n",
       "    <tr>\n",
       "      <th>10</th>\n",
       "      <td>2000</td>\n",
       "      <td>sedan</td>\n",
       "      <td>2004</td>\n",
       "      <td>manual</td>\n",
       "      <td>105</td>\n",
       "      <td>3_reihe</td>\n",
       "      <td>150000</td>\n",
       "      <td>12</td>\n",
       "      <td>petrol</td>\n",
       "      <td>mazda</td>\n",
       "      <td>no</td>\n",
       "      <td>96224</td>\n",
       "    </tr>\n",
       "  </tbody>\n",
       "</table>\n",
       "</div>"
      ],
      "text/plain": [
       "    Price  VehicleType  RegistrationYear Gearbox  Power    Model  Kilometer  \\\n",
       "0     480        small              1993  manual     72     golf     150000   \n",
       "1   18300        coupe              2011  manual    190       tt     125000   \n",
       "2    9800          suv              2004    auto    163    grand     125000   \n",
       "3    1500        small              2001  manual     75     golf     150000   \n",
       "4    3600        small              2008  manual     69    fabia      90000   \n",
       "5     650        sedan              1995  manual    102      3er     150000   \n",
       "6    2200  convertible              2004  manual    109  2_reihe     150000   \n",
       "7       0        sedan              1980  manual     50    other      40000   \n",
       "8   14500          bus              2014  manual    125    c_max      30000   \n",
       "10   2000        sedan              2004  manual    105  3_reihe     150000   \n",
       "\n",
       "    RegistrationMonth FuelType       Brand Repaired  PostalCode  \n",
       "0                   0   petrol  volkswagen      NaN       70435  \n",
       "1                   5   petrol        audi      yes       66954  \n",
       "2                   8   petrol        jeep      NaN       90480  \n",
       "3                   6   petrol  volkswagen       no       91074  \n",
       "4                   7   petrol       skoda       no       60437  \n",
       "5                  10   petrol         bmw      yes       33775  \n",
       "6                   8   petrol     peugeot       no       67112  \n",
       "7                   7   petrol  volkswagen       no       19348  \n",
       "8                   8   petrol        ford      NaN       94505  \n",
       "10                 12   petrol       mazda       no       96224  "
      ]
     },
     "metadata": {},
     "output_type": "display_data"
    },
    {
     "data": {
      "text/html": [
       "<div>\n",
       "<style scoped>\n",
       "    .dataframe tbody tr th:only-of-type {\n",
       "        vertical-align: middle;\n",
       "    }\n",
       "\n",
       "    .dataframe tbody tr th {\n",
       "        vertical-align: top;\n",
       "    }\n",
       "\n",
       "    .dataframe thead th {\n",
       "        text-align: right;\n",
       "    }\n",
       "</style>\n",
       "<table border=\"1\" class=\"dataframe\">\n",
       "  <thead>\n",
       "    <tr style=\"text-align: right;\">\n",
       "      <th></th>\n",
       "      <th>Price</th>\n",
       "      <th>VehicleType</th>\n",
       "      <th>RegistrationYear</th>\n",
       "      <th>Gearbox</th>\n",
       "      <th>Power</th>\n",
       "      <th>Model</th>\n",
       "      <th>Kilometer</th>\n",
       "      <th>RegistrationMonth</th>\n",
       "      <th>FuelType</th>\n",
       "      <th>Brand</th>\n",
       "      <th>Repaired</th>\n",
       "      <th>PostalCode</th>\n",
       "    </tr>\n",
       "  </thead>\n",
       "  <tbody>\n",
       "    <tr>\n",
       "      <th>354354</th>\n",
       "      <td>5000</td>\n",
       "      <td>sedan</td>\n",
       "      <td>2003</td>\n",
       "      <td>auto</td>\n",
       "      <td>260</td>\n",
       "      <td>e_klasse</td>\n",
       "      <td>150000</td>\n",
       "      <td>12</td>\n",
       "      <td>petrol</td>\n",
       "      <td>mercedes_benz</td>\n",
       "      <td>yes</td>\n",
       "      <td>90473</td>\n",
       "    </tr>\n",
       "    <tr>\n",
       "      <th>354356</th>\n",
       "      <td>999</td>\n",
       "      <td>convertible</td>\n",
       "      <td>2000</td>\n",
       "      <td>manual</td>\n",
       "      <td>95</td>\n",
       "      <td>megane</td>\n",
       "      <td>150000</td>\n",
       "      <td>4</td>\n",
       "      <td>petrol</td>\n",
       "      <td>renault</td>\n",
       "      <td>NaN</td>\n",
       "      <td>88477</td>\n",
       "    </tr>\n",
       "    <tr>\n",
       "      <th>354357</th>\n",
       "      <td>1690</td>\n",
       "      <td>wagon</td>\n",
       "      <td>2004</td>\n",
       "      <td>manual</td>\n",
       "      <td>55</td>\n",
       "      <td>fabia</td>\n",
       "      <td>150000</td>\n",
       "      <td>4</td>\n",
       "      <td>petrol</td>\n",
       "      <td>skoda</td>\n",
       "      <td>NaN</td>\n",
       "      <td>18246</td>\n",
       "    </tr>\n",
       "    <tr>\n",
       "      <th>354358</th>\n",
       "      <td>1490</td>\n",
       "      <td>small</td>\n",
       "      <td>1998</td>\n",
       "      <td>manual</td>\n",
       "      <td>50</td>\n",
       "      <td>lupo</td>\n",
       "      <td>150000</td>\n",
       "      <td>9</td>\n",
       "      <td>petrol</td>\n",
       "      <td>volkswagen</td>\n",
       "      <td>no</td>\n",
       "      <td>48653</td>\n",
       "    </tr>\n",
       "    <tr>\n",
       "      <th>354359</th>\n",
       "      <td>7900</td>\n",
       "      <td>sedan</td>\n",
       "      <td>2010</td>\n",
       "      <td>manual</td>\n",
       "      <td>140</td>\n",
       "      <td>golf</td>\n",
       "      <td>150000</td>\n",
       "      <td>7</td>\n",
       "      <td>petrol</td>\n",
       "      <td>volkswagen</td>\n",
       "      <td>no</td>\n",
       "      <td>75223</td>\n",
       "    </tr>\n",
       "    <tr>\n",
       "      <th>354362</th>\n",
       "      <td>3200</td>\n",
       "      <td>sedan</td>\n",
       "      <td>2004</td>\n",
       "      <td>manual</td>\n",
       "      <td>225</td>\n",
       "      <td>leon</td>\n",
       "      <td>150000</td>\n",
       "      <td>5</td>\n",
       "      <td>petrol</td>\n",
       "      <td>seat</td>\n",
       "      <td>yes</td>\n",
       "      <td>96465</td>\n",
       "    </tr>\n",
       "    <tr>\n",
       "      <th>354364</th>\n",
       "      <td>0</td>\n",
       "      <td>sedan</td>\n",
       "      <td>2005</td>\n",
       "      <td>manual</td>\n",
       "      <td>110</td>\n",
       "      <td>colt</td>\n",
       "      <td>150000</td>\n",
       "      <td>7</td>\n",
       "      <td>petrol</td>\n",
       "      <td>mitsubishi</td>\n",
       "      <td>yes</td>\n",
       "      <td>2694</td>\n",
       "    </tr>\n",
       "    <tr>\n",
       "      <th>354366</th>\n",
       "      <td>1199</td>\n",
       "      <td>convertible</td>\n",
       "      <td>2000</td>\n",
       "      <td>auto</td>\n",
       "      <td>101</td>\n",
       "      <td>fortwo</td>\n",
       "      <td>125000</td>\n",
       "      <td>3</td>\n",
       "      <td>petrol</td>\n",
       "      <td>smart</td>\n",
       "      <td>no</td>\n",
       "      <td>26135</td>\n",
       "    </tr>\n",
       "    <tr>\n",
       "      <th>354367</th>\n",
       "      <td>9200</td>\n",
       "      <td>bus</td>\n",
       "      <td>1996</td>\n",
       "      <td>manual</td>\n",
       "      <td>102</td>\n",
       "      <td>transporter</td>\n",
       "      <td>150000</td>\n",
       "      <td>3</td>\n",
       "      <td>petrol</td>\n",
       "      <td>volkswagen</td>\n",
       "      <td>no</td>\n",
       "      <td>87439</td>\n",
       "    </tr>\n",
       "    <tr>\n",
       "      <th>354368</th>\n",
       "      <td>3400</td>\n",
       "      <td>wagon</td>\n",
       "      <td>2002</td>\n",
       "      <td>manual</td>\n",
       "      <td>100</td>\n",
       "      <td>golf</td>\n",
       "      <td>150000</td>\n",
       "      <td>6</td>\n",
       "      <td>petrol</td>\n",
       "      <td>volkswagen</td>\n",
       "      <td>NaN</td>\n",
       "      <td>40764</td>\n",
       "    </tr>\n",
       "  </tbody>\n",
       "</table>\n",
       "</div>"
      ],
      "text/plain": [
       "        Price  VehicleType  RegistrationYear Gearbox  Power        Model  \\\n",
       "354354   5000        sedan              2003    auto    260     e_klasse   \n",
       "354356    999  convertible              2000  manual     95       megane   \n",
       "354357   1690        wagon              2004  manual     55        fabia   \n",
       "354358   1490        small              1998  manual     50         lupo   \n",
       "354359   7900        sedan              2010  manual    140         golf   \n",
       "354362   3200        sedan              2004  manual    225         leon   \n",
       "354364      0        sedan              2005  manual    110         colt   \n",
       "354366   1199  convertible              2000    auto    101       fortwo   \n",
       "354367   9200          bus              1996  manual    102  transporter   \n",
       "354368   3400        wagon              2002  manual    100         golf   \n",
       "\n",
       "        Kilometer  RegistrationMonth FuelType          Brand Repaired  \\\n",
       "354354     150000                 12   petrol  mercedes_benz      yes   \n",
       "354356     150000                  4   petrol        renault      NaN   \n",
       "354357     150000                  4   petrol          skoda      NaN   \n",
       "354358     150000                  9   petrol     volkswagen       no   \n",
       "354359     150000                  7   petrol     volkswagen       no   \n",
       "354362     150000                  5   petrol           seat      yes   \n",
       "354364     150000                  7   petrol     mitsubishi      yes   \n",
       "354366     125000                  3   petrol          smart       no   \n",
       "354367     150000                  3   petrol     volkswagen       no   \n",
       "354368     150000                  6   petrol     volkswagen      NaN   \n",
       "\n",
       "        PostalCode  \n",
       "354354       90473  \n",
       "354356       88477  \n",
       "354357       18246  \n",
       "354358       48653  \n",
       "354359       75223  \n",
       "354362       96465  \n",
       "354364        2694  \n",
       "354366       26135  \n",
       "354367       87439  \n",
       "354368       40764  "
      ]
     },
     "metadata": {},
     "output_type": "display_data"
    }
   ],
   "source": [
    "df = df.dropna(subset=['VehicleType', 'Model', 'Gearbox', 'FuelType'])\n",
    "\n",
    "display(f'Missing values:')\n",
    "display(df.isna().sum())\n",
    "\n",
    "display(df.head(10))\n",
    "display(df.tail(10))"
   ]
  },
  {
   "cell_type": "markdown",
   "metadata": {},
   "source": [
    "Let's fill the Repaired column with random values, either \"yes\" or \"no.\""
   ]
  },
  {
   "cell_type": "code",
   "execution_count": 14,
   "metadata": {},
   "outputs": [
    {
     "data": {
      "image/png": "[encoded data removed]",
      "text/plain": [
       "<Figure size 600x400 with 1 Axes>"
      ]
     },
     "metadata": {},
     "output_type": "display_data"
    }
   ],
   "source": [
    "plt.figure(figsize=(6, 4))\n",
    "df['Repaired'].value_counts().plot(kind='bar', color=['green', 'red'])\n",
    "plt.title('Distribution of Values in the \"Repaired\" Column')\n",
    "plt.xlabel('\"Repaired\" Value')\n",
    "plt.ylabel('Count')\n",
    "plt.xticks(rotation=0)\n",
    "plt.show()"
   ]
  },
  {
   "cell_type": "code",
   "execution_count": 15,
   "metadata": {},
   "outputs": [
    {
     "data": {
      "image/png": "[encoded data removed]",
      "text/plain": [
       "<Figure size 600x400 with 1 Axes>"
      ]
     },
     "metadata": {},
     "output_type": "display_data"
    }
   ],
   "source": [
    "mask = df['Repaired'].isnull()\n",
    "random_values = np.random.choice(['yes', 'no'], size=sum(mask))\n",
    "df.loc[mask, 'Repaired'] = random_values\n",
    "\n",
    "plt.figure(figsize=(6, 4))\n",
    "df['Repaired'].value_counts().plot(kind='bar', color=['green', 'red'])\n",
    "plt.title('Distribution of Values in the \"Repaired\" Column')\n",
    "plt.xlabel('\"Repaired\" Value')\n",
    "plt.ylabel('Count')\n",
    "plt.xticks(rotation=0)\n",
    "plt.show()"
   ]
  },
  {
   "cell_type": "markdown",
   "metadata": {},
   "source": [
    "After the replacement, the ratio remained approximately the same."
   ]
  },
  {
   "cell_type": "markdown",
   "metadata": {},
   "source": [
    "Let's check if all empty values have been excluded from the dataset."
   ]
  },
  {
   "cell_type": "code",
   "execution_count": 16,
   "metadata": {},
   "outputs": [
    {
     "data": {
      "text/plain": [
       "'Misiing values:'"
      ]
     },
     "metadata": {},
     "output_type": "display_data"
    },
    {
     "data": {
      "text/plain": [
       "Price                0\n",
       "VehicleType          0\n",
       "RegistrationYear     0\n",
       "Gearbox              0\n",
       "Power                0\n",
       "Model                0\n",
       "Kilometer            0\n",
       "RegistrationMonth    0\n",
       "FuelType             0\n",
       "Brand                0\n",
       "Repaired             0\n",
       "PostalCode           0\n",
       "dtype: int64"
      ]
     },
     "metadata": {},
     "output_type": "display_data"
    },
    {
     "data": {
      "text/html": [
       "<div>\n",
       "<style scoped>\n",
       "    .dataframe tbody tr th:only-of-type {\n",
       "        vertical-align: middle;\n",
       "    }\n",
       "\n",
       "    .dataframe tbody tr th {\n",
       "        vertical-align: top;\n",
       "    }\n",
       "\n",
       "    .dataframe thead th {\n",
       "        text-align: right;\n",
       "    }\n",
       "</style>\n",
       "<table border=\"1\" class=\"dataframe\">\n",
       "  <thead>\n",
       "    <tr style=\"text-align: right;\">\n",
       "      <th></th>\n",
       "      <th>Price</th>\n",
       "      <th>VehicleType</th>\n",
       "      <th>RegistrationYear</th>\n",
       "      <th>Gearbox</th>\n",
       "      <th>Power</th>\n",
       "      <th>Model</th>\n",
       "      <th>Kilometer</th>\n",
       "      <th>RegistrationMonth</th>\n",
       "      <th>FuelType</th>\n",
       "      <th>Brand</th>\n",
       "      <th>Repaired</th>\n",
       "      <th>PostalCode</th>\n",
       "    </tr>\n",
       "  </thead>\n",
       "  <tbody>\n",
       "    <tr>\n",
       "      <th>0</th>\n",
       "      <td>480</td>\n",
       "      <td>small</td>\n",
       "      <td>1993</td>\n",
       "      <td>manual</td>\n",
       "      <td>72</td>\n",
       "      <td>golf</td>\n",
       "      <td>150000</td>\n",
       "      <td>0</td>\n",
       "      <td>petrol</td>\n",
       "      <td>volkswagen</td>\n",
       "      <td>no</td>\n",
       "      <td>70435</td>\n",
       "    </tr>\n",
       "    <tr>\n",
       "      <th>1</th>\n",
       "      <td>18300</td>\n",
       "      <td>coupe</td>\n",
       "      <td>2011</td>\n",
       "      <td>manual</td>\n",
       "      <td>190</td>\n",
       "      <td>tt</td>\n",
       "      <td>125000</td>\n",
       "      <td>5</td>\n",
       "      <td>petrol</td>\n",
       "      <td>audi</td>\n",
       "      <td>yes</td>\n",
       "      <td>66954</td>\n",
       "    </tr>\n",
       "    <tr>\n",
       "      <th>2</th>\n",
       "      <td>9800</td>\n",
       "      <td>suv</td>\n",
       "      <td>2004</td>\n",
       "      <td>auto</td>\n",
       "      <td>163</td>\n",
       "      <td>grand</td>\n",
       "      <td>125000</td>\n",
       "      <td>8</td>\n",
       "      <td>petrol</td>\n",
       "      <td>jeep</td>\n",
       "      <td>no</td>\n",
       "      <td>90480</td>\n",
       "    </tr>\n",
       "    <tr>\n",
       "      <th>3</th>\n",
       "      <td>1500</td>\n",
       "      <td>small</td>\n",
       "      <td>2001</td>\n",
       "      <td>manual</td>\n",
       "      <td>75</td>\n",
       "      <td>golf</td>\n",
       "      <td>150000</td>\n",
       "      <td>6</td>\n",
       "      <td>petrol</td>\n",
       "      <td>volkswagen</td>\n",
       "      <td>no</td>\n",
       "      <td>91074</td>\n",
       "    </tr>\n",
       "    <tr>\n",
       "      <th>4</th>\n",
       "      <td>3600</td>\n",
       "      <td>small</td>\n",
       "      <td>2008</td>\n",
       "      <td>manual</td>\n",
       "      <td>69</td>\n",
       "      <td>fabia</td>\n",
       "      <td>90000</td>\n",
       "      <td>7</td>\n",
       "      <td>petrol</td>\n",
       "      <td>skoda</td>\n",
       "      <td>no</td>\n",
       "      <td>60437</td>\n",
       "    </tr>\n",
       "    <tr>\n",
       "      <th>5</th>\n",
       "      <td>650</td>\n",
       "      <td>sedan</td>\n",
       "      <td>1995</td>\n",
       "      <td>manual</td>\n",
       "      <td>102</td>\n",
       "      <td>3er</td>\n",
       "      <td>150000</td>\n",
       "      <td>10</td>\n",
       "      <td>petrol</td>\n",
       "      <td>bmw</td>\n",
       "      <td>yes</td>\n",
       "      <td>33775</td>\n",
       "    </tr>\n",
       "    <tr>\n",
       "      <th>6</th>\n",
       "      <td>2200</td>\n",
       "      <td>convertible</td>\n",
       "      <td>2004</td>\n",
       "      <td>manual</td>\n",
       "      <td>109</td>\n",
       "      <td>2_reihe</td>\n",
       "      <td>150000</td>\n",
       "      <td>8</td>\n",
       "      <td>petrol</td>\n",
       "      <td>peugeot</td>\n",
       "      <td>no</td>\n",
       "      <td>67112</td>\n",
       "    </tr>\n",
       "    <tr>\n",
       "      <th>7</th>\n",
       "      <td>0</td>\n",
       "      <td>sedan</td>\n",
       "      <td>1980</td>\n",
       "      <td>manual</td>\n",
       "      <td>50</td>\n",
       "      <td>other</td>\n",
       "      <td>40000</td>\n",
       "      <td>7</td>\n",
       "      <td>petrol</td>\n",
       "      <td>volkswagen</td>\n",
       "      <td>no</td>\n",
       "      <td>19348</td>\n",
       "    </tr>\n",
       "    <tr>\n",
       "      <th>8</th>\n",
       "      <td>14500</td>\n",
       "      <td>bus</td>\n",
       "      <td>2014</td>\n",
       "      <td>manual</td>\n",
       "      <td>125</td>\n",
       "      <td>c_max</td>\n",
       "      <td>30000</td>\n",
       "      <td>8</td>\n",
       "      <td>petrol</td>\n",
       "      <td>ford</td>\n",
       "      <td>no</td>\n",
       "      <td>94505</td>\n",
       "    </tr>\n",
       "    <tr>\n",
       "      <th>10</th>\n",
       "      <td>2000</td>\n",
       "      <td>sedan</td>\n",
       "      <td>2004</td>\n",
       "      <td>manual</td>\n",
       "      <td>105</td>\n",
       "      <td>3_reihe</td>\n",
       "      <td>150000</td>\n",
       "      <td>12</td>\n",
       "      <td>petrol</td>\n",
       "      <td>mazda</td>\n",
       "      <td>no</td>\n",
       "      <td>96224</td>\n",
       "    </tr>\n",
       "  </tbody>\n",
       "</table>\n",
       "</div>"
      ],
      "text/plain": [
       "    Price  VehicleType  RegistrationYear Gearbox  Power    Model  Kilometer  \\\n",
       "0     480        small              1993  manual     72     golf     150000   \n",
       "1   18300        coupe              2011  manual    190       tt     125000   \n",
       "2    9800          suv              2004    auto    163    grand     125000   \n",
       "3    1500        small              2001  manual     75     golf     150000   \n",
       "4    3600        small              2008  manual     69    fabia      90000   \n",
       "5     650        sedan              1995  manual    102      3er     150000   \n",
       "6    2200  convertible              2004  manual    109  2_reihe     150000   \n",
       "7       0        sedan              1980  manual     50    other      40000   \n",
       "8   14500          bus              2014  manual    125    c_max      30000   \n",
       "10   2000        sedan              2004  manual    105  3_reihe     150000   \n",
       "\n",
       "    RegistrationMonth FuelType       Brand Repaired  PostalCode  \n",
       "0                   0   petrol  volkswagen       no       70435  \n",
       "1                   5   petrol        audi      yes       66954  \n",
       "2                   8   petrol        jeep       no       90480  \n",
       "3                   6   petrol  volkswagen       no       91074  \n",
       "4                   7   petrol       skoda       no       60437  \n",
       "5                  10   petrol         bmw      yes       33775  \n",
       "6                   8   petrol     peugeot       no       67112  \n",
       "7                   7   petrol  volkswagen       no       19348  \n",
       "8                   8   petrol        ford       no       94505  \n",
       "10                 12   petrol       mazda       no       96224  "
      ]
     },
     "metadata": {},
     "output_type": "display_data"
    },
    {
     "data": {
      "text/html": [
       "<div>\n",
       "<style scoped>\n",
       "    .dataframe tbody tr th:only-of-type {\n",
       "        vertical-align: middle;\n",
       "    }\n",
       "\n",
       "    .dataframe tbody tr th {\n",
       "        vertical-align: top;\n",
       "    }\n",
       "\n",
       "    .dataframe thead th {\n",
       "        text-align: right;\n",
       "    }\n",
       "</style>\n",
       "<table border=\"1\" class=\"dataframe\">\n",
       "  <thead>\n",
       "    <tr style=\"text-align: right;\">\n",
       "      <th></th>\n",
       "      <th>Price</th>\n",
       "      <th>VehicleType</th>\n",
       "      <th>RegistrationYear</th>\n",
       "      <th>Gearbox</th>\n",
       "      <th>Power</th>\n",
       "      <th>Model</th>\n",
       "      <th>Kilometer</th>\n",
       "      <th>RegistrationMonth</th>\n",
       "      <th>FuelType</th>\n",
       "      <th>Brand</th>\n",
       "      <th>Repaired</th>\n",
       "      <th>PostalCode</th>\n",
       "    </tr>\n",
       "  </thead>\n",
       "  <tbody>\n",
       "    <tr>\n",
       "      <th>354354</th>\n",
       "      <td>5000</td>\n",
       "      <td>sedan</td>\n",
       "      <td>2003</td>\n",
       "      <td>auto</td>\n",
       "      <td>260</td>\n",
       "      <td>e_klasse</td>\n",
       "      <td>150000</td>\n",
       "      <td>12</td>\n",
       "      <td>petrol</td>\n",
       "      <td>mercedes_benz</td>\n",
       "      <td>yes</td>\n",
       "      <td>90473</td>\n",
       "    </tr>\n",
       "    <tr>\n",
       "      <th>354356</th>\n",
       "      <td>999</td>\n",
       "      <td>convertible</td>\n",
       "      <td>2000</td>\n",
       "      <td>manual</td>\n",
       "      <td>95</td>\n",
       "      <td>megane</td>\n",
       "      <td>150000</td>\n",
       "      <td>4</td>\n",
       "      <td>petrol</td>\n",
       "      <td>renault</td>\n",
       "      <td>no</td>\n",
       "      <td>88477</td>\n",
       "    </tr>\n",
       "    <tr>\n",
       "      <th>354357</th>\n",
       "      <td>1690</td>\n",
       "      <td>wagon</td>\n",
       "      <td>2004</td>\n",
       "      <td>manual</td>\n",
       "      <td>55</td>\n",
       "      <td>fabia</td>\n",
       "      <td>150000</td>\n",
       "      <td>4</td>\n",
       "      <td>petrol</td>\n",
       "      <td>skoda</td>\n",
       "      <td>yes</td>\n",
       "      <td>18246</td>\n",
       "    </tr>\n",
       "    <tr>\n",
       "      <th>354358</th>\n",
       "      <td>1490</td>\n",
       "      <td>small</td>\n",
       "      <td>1998</td>\n",
       "      <td>manual</td>\n",
       "      <td>50</td>\n",
       "      <td>lupo</td>\n",
       "      <td>150000</td>\n",
       "      <td>9</td>\n",
       "      <td>petrol</td>\n",
       "      <td>volkswagen</td>\n",
       "      <td>no</td>\n",
       "      <td>48653</td>\n",
       "    </tr>\n",
       "    <tr>\n",
       "      <th>354359</th>\n",
       "      <td>7900</td>\n",
       "      <td>sedan</td>\n",
       "      <td>2010</td>\n",
       "      <td>manual</td>\n",
       "      <td>140</td>\n",
       "      <td>golf</td>\n",
       "      <td>150000</td>\n",
       "      <td>7</td>\n",
       "      <td>petrol</td>\n",
       "      <td>volkswagen</td>\n",
       "      <td>no</td>\n",
       "      <td>75223</td>\n",
       "    </tr>\n",
       "    <tr>\n",
       "      <th>354362</th>\n",
       "      <td>3200</td>\n",
       "      <td>sedan</td>\n",
       "      <td>2004</td>\n",
       "      <td>manual</td>\n",
       "      <td>225</td>\n",
       "      <td>leon</td>\n",
       "      <td>150000</td>\n",
       "      <td>5</td>\n",
       "      <td>petrol</td>\n",
       "      <td>seat</td>\n",
       "      <td>yes</td>\n",
       "      <td>96465</td>\n",
       "    </tr>\n",
       "    <tr>\n",
       "      <th>354364</th>\n",
       "      <td>0</td>\n",
       "      <td>sedan</td>\n",
       "      <td>2005</td>\n",
       "      <td>manual</td>\n",
       "      <td>110</td>\n",
       "      <td>colt</td>\n",
       "      <td>150000</td>\n",
       "      <td>7</td>\n",
       "      <td>petrol</td>\n",
       "      <td>mitsubishi</td>\n",
       "      <td>yes</td>\n",
       "      <td>2694</td>\n",
       "    </tr>\n",
       "    <tr>\n",
       "      <th>354366</th>\n",
       "      <td>1199</td>\n",
       "      <td>convertible</td>\n",
       "      <td>2000</td>\n",
       "      <td>auto</td>\n",
       "      <td>101</td>\n",
       "      <td>fortwo</td>\n",
       "      <td>125000</td>\n",
       "      <td>3</td>\n",
       "      <td>petrol</td>\n",
       "      <td>smart</td>\n",
       "      <td>no</td>\n",
       "      <td>26135</td>\n",
       "    </tr>\n",
       "    <tr>\n",
       "      <th>354367</th>\n",
       "      <td>9200</td>\n",
       "      <td>bus</td>\n",
       "      <td>1996</td>\n",
       "      <td>manual</td>\n",
       "      <td>102</td>\n",
       "      <td>transporter</td>\n",
       "      <td>150000</td>\n",
       "      <td>3</td>\n",
       "      <td>petrol</td>\n",
       "      <td>volkswagen</td>\n",
       "      <td>no</td>\n",
       "      <td>87439</td>\n",
       "    </tr>\n",
       "    <tr>\n",
       "      <th>354368</th>\n",
       "      <td>3400</td>\n",
       "      <td>wagon</td>\n",
       "      <td>2002</td>\n",
       "      <td>manual</td>\n",
       "      <td>100</td>\n",
       "      <td>golf</td>\n",
       "      <td>150000</td>\n",
       "      <td>6</td>\n",
       "      <td>petrol</td>\n",
       "      <td>volkswagen</td>\n",
       "      <td>no</td>\n",
       "      <td>40764</td>\n",
       "    </tr>\n",
       "  </tbody>\n",
       "</table>\n",
       "</div>"
      ],
      "text/plain": [
       "        Price  VehicleType  RegistrationYear Gearbox  Power        Model  \\\n",
       "354354   5000        sedan              2003    auto    260     e_klasse   \n",
       "354356    999  convertible              2000  manual     95       megane   \n",
       "354357   1690        wagon              2004  manual     55        fabia   \n",
       "354358   1490        small              1998  manual     50         lupo   \n",
       "354359   7900        sedan              2010  manual    140         golf   \n",
       "354362   3200        sedan              2004  manual    225         leon   \n",
       "354364      0        sedan              2005  manual    110         colt   \n",
       "354366   1199  convertible              2000    auto    101       fortwo   \n",
       "354367   9200          bus              1996  manual    102  transporter   \n",
       "354368   3400        wagon              2002  manual    100         golf   \n",
       "\n",
       "        Kilometer  RegistrationMonth FuelType          Brand Repaired  \\\n",
       "354354     150000                 12   petrol  mercedes_benz      yes   \n",
       "354356     150000                  4   petrol        renault       no   \n",
       "354357     150000                  4   petrol          skoda      yes   \n",
       "354358     150000                  9   petrol     volkswagen       no   \n",
       "354359     150000                  7   petrol     volkswagen       no   \n",
       "354362     150000                  5   petrol           seat      yes   \n",
       "354364     150000                  7   petrol     mitsubishi      yes   \n",
       "354366     125000                  3   petrol          smart       no   \n",
       "354367     150000                  3   petrol     volkswagen       no   \n",
       "354368     150000                  6   petrol     volkswagen       no   \n",
       "\n",
       "        PostalCode  \n",
       "354354       90473  \n",
       "354356       88477  \n",
       "354357       18246  \n",
       "354358       48653  \n",
       "354359       75223  \n",
       "354362       96465  \n",
       "354364        2694  \n",
       "354366       26135  \n",
       "354367       87439  \n",
       "354368       40764  "
      ]
     },
     "metadata": {},
     "output_type": "display_data"
    }
   ],
   "source": [
    "display(f'Misiing values:')\n",
    "display(df.isna().sum())\n",
    "\n",
    "display(df.head(10))\n",
    "display(df.tail(10))"
   ]
  },
  {
   "cell_type": "markdown",
   "metadata": {},
   "source": [
    "Since Gearbox and Repaired are essentially boolean values, let's replace them with 1 and 0. A manual transmission will be represented as 0, and an automatic one as 1. For Repaired, if there was a repair, it will be 1, and if not, it will be 0."
   ]
  },
  {
   "cell_type": "code",
   "execution_count": 17,
   "metadata": {},
   "outputs": [
    {
     "data": {
      "text/html": [
       "<div>\n",
       "<style scoped>\n",
       "    .dataframe tbody tr th:only-of-type {\n",
       "        vertical-align: middle;\n",
       "    }\n",
       "\n",
       "    .dataframe tbody tr th {\n",
       "        vertical-align: top;\n",
       "    }\n",
       "\n",
       "    .dataframe thead th {\n",
       "        text-align: right;\n",
       "    }\n",
       "</style>\n",
       "<table border=\"1\" class=\"dataframe\">\n",
       "  <thead>\n",
       "    <tr style=\"text-align: right;\">\n",
       "      <th></th>\n",
       "      <th>Price</th>\n",
       "      <th>VehicleType</th>\n",
       "      <th>RegistrationYear</th>\n",
       "      <th>Gearbox</th>\n",
       "      <th>Power</th>\n",
       "      <th>Model</th>\n",
       "      <th>Kilometer</th>\n",
       "      <th>RegistrationMonth</th>\n",
       "      <th>FuelType</th>\n",
       "      <th>Brand</th>\n",
       "      <th>Repaired</th>\n",
       "      <th>PostalCode</th>\n",
       "    </tr>\n",
       "  </thead>\n",
       "  <tbody>\n",
       "    <tr>\n",
       "      <th>0</th>\n",
       "      <td>480</td>\n",
       "      <td>small</td>\n",
       "      <td>1993</td>\n",
       "      <td>0</td>\n",
       "      <td>72</td>\n",
       "      <td>golf</td>\n",
       "      <td>150000</td>\n",
       "      <td>0</td>\n",
       "      <td>petrol</td>\n",
       "      <td>volkswagen</td>\n",
       "      <td>0</td>\n",
       "      <td>70435</td>\n",
       "    </tr>\n",
       "    <tr>\n",
       "      <th>1</th>\n",
       "      <td>18300</td>\n",
       "      <td>coupe</td>\n",
       "      <td>2011</td>\n",
       "      <td>0</td>\n",
       "      <td>190</td>\n",
       "      <td>tt</td>\n",
       "      <td>125000</td>\n",
       "      <td>5</td>\n",
       "      <td>petrol</td>\n",
       "      <td>audi</td>\n",
       "      <td>1</td>\n",
       "      <td>66954</td>\n",
       "    </tr>\n",
       "    <tr>\n",
       "      <th>2</th>\n",
       "      <td>9800</td>\n",
       "      <td>suv</td>\n",
       "      <td>2004</td>\n",
       "      <td>1</td>\n",
       "      <td>163</td>\n",
       "      <td>grand</td>\n",
       "      <td>125000</td>\n",
       "      <td>8</td>\n",
       "      <td>petrol</td>\n",
       "      <td>jeep</td>\n",
       "      <td>0</td>\n",
       "      <td>90480</td>\n",
       "    </tr>\n",
       "    <tr>\n",
       "      <th>3</th>\n",
       "      <td>1500</td>\n",
       "      <td>small</td>\n",
       "      <td>2001</td>\n",
       "      <td>0</td>\n",
       "      <td>75</td>\n",
       "      <td>golf</td>\n",
       "      <td>150000</td>\n",
       "      <td>6</td>\n",
       "      <td>petrol</td>\n",
       "      <td>volkswagen</td>\n",
       "      <td>0</td>\n",
       "      <td>91074</td>\n",
       "    </tr>\n",
       "    <tr>\n",
       "      <th>4</th>\n",
       "      <td>3600</td>\n",
       "      <td>small</td>\n",
       "      <td>2008</td>\n",
       "      <td>0</td>\n",
       "      <td>69</td>\n",
       "      <td>fabia</td>\n",
       "      <td>90000</td>\n",
       "      <td>7</td>\n",
       "      <td>petrol</td>\n",
       "      <td>skoda</td>\n",
       "      <td>0</td>\n",
       "      <td>60437</td>\n",
       "    </tr>\n",
       "    <tr>\n",
       "      <th>5</th>\n",
       "      <td>650</td>\n",
       "      <td>sedan</td>\n",
       "      <td>1995</td>\n",
       "      <td>0</td>\n",
       "      <td>102</td>\n",
       "      <td>3er</td>\n",
       "      <td>150000</td>\n",
       "      <td>10</td>\n",
       "      <td>petrol</td>\n",
       "      <td>bmw</td>\n",
       "      <td>1</td>\n",
       "      <td>33775</td>\n",
       "    </tr>\n",
       "    <tr>\n",
       "      <th>6</th>\n",
       "      <td>2200</td>\n",
       "      <td>convertible</td>\n",
       "      <td>2004</td>\n",
       "      <td>0</td>\n",
       "      <td>109</td>\n",
       "      <td>2_reihe</td>\n",
       "      <td>150000</td>\n",
       "      <td>8</td>\n",
       "      <td>petrol</td>\n",
       "      <td>peugeot</td>\n",
       "      <td>0</td>\n",
       "      <td>67112</td>\n",
       "    </tr>\n",
       "    <tr>\n",
       "      <th>7</th>\n",
       "      <td>0</td>\n",
       "      <td>sedan</td>\n",
       "      <td>1980</td>\n",
       "      <td>0</td>\n",
       "      <td>50</td>\n",
       "      <td>other</td>\n",
       "      <td>40000</td>\n",
       "      <td>7</td>\n",
       "      <td>petrol</td>\n",
       "      <td>volkswagen</td>\n",
       "      <td>0</td>\n",
       "      <td>19348</td>\n",
       "    </tr>\n",
       "    <tr>\n",
       "      <th>8</th>\n",
       "      <td>14500</td>\n",
       "      <td>bus</td>\n",
       "      <td>2014</td>\n",
       "      <td>0</td>\n",
       "      <td>125</td>\n",
       "      <td>c_max</td>\n",
       "      <td>30000</td>\n",
       "      <td>8</td>\n",
       "      <td>petrol</td>\n",
       "      <td>ford</td>\n",
       "      <td>0</td>\n",
       "      <td>94505</td>\n",
       "    </tr>\n",
       "    <tr>\n",
       "      <th>10</th>\n",
       "      <td>2000</td>\n",
       "      <td>sedan</td>\n",
       "      <td>2004</td>\n",
       "      <td>0</td>\n",
       "      <td>105</td>\n",
       "      <td>3_reihe</td>\n",
       "      <td>150000</td>\n",
       "      <td>12</td>\n",
       "      <td>petrol</td>\n",
       "      <td>mazda</td>\n",
       "      <td>0</td>\n",
       "      <td>96224</td>\n",
       "    </tr>\n",
       "  </tbody>\n",
       "</table>\n",
       "</div>"
      ],
      "text/plain": [
       "    Price  VehicleType  RegistrationYear  Gearbox  Power    Model  Kilometer  \\\n",
       "0     480        small              1993        0     72     golf     150000   \n",
       "1   18300        coupe              2011        0    190       tt     125000   \n",
       "2    9800          suv              2004        1    163    grand     125000   \n",
       "3    1500        small              2001        0     75     golf     150000   \n",
       "4    3600        small              2008        0     69    fabia      90000   \n",
       "5     650        sedan              1995        0    102      3er     150000   \n",
       "6    2200  convertible              2004        0    109  2_reihe     150000   \n",
       "7       0        sedan              1980        0     50    other      40000   \n",
       "8   14500          bus              2014        0    125    c_max      30000   \n",
       "10   2000        sedan              2004        0    105  3_reihe     150000   \n",
       "\n",
       "    RegistrationMonth FuelType       Brand  Repaired  PostalCode  \n",
       "0                   0   petrol  volkswagen         0       70435  \n",
       "1                   5   petrol        audi         1       66954  \n",
       "2                   8   petrol        jeep         0       90480  \n",
       "3                   6   petrol  volkswagen         0       91074  \n",
       "4                   7   petrol       skoda         0       60437  \n",
       "5                  10   petrol         bmw         1       33775  \n",
       "6                   8   petrol     peugeot         0       67112  \n",
       "7                   7   petrol  volkswagen         0       19348  \n",
       "8                   8   petrol        ford         0       94505  \n",
       "10                 12   petrol       mazda         0       96224  "
      ]
     },
     "metadata": {},
     "output_type": "display_data"
    },
    {
     "data": {
      "text/html": [
       "<div>\n",
       "<style scoped>\n",
       "    .dataframe tbody tr th:only-of-type {\n",
       "        vertical-align: middle;\n",
       "    }\n",
       "\n",
       "    .dataframe tbody tr th {\n",
       "        vertical-align: top;\n",
       "    }\n",
       "\n",
       "    .dataframe thead th {\n",
       "        text-align: right;\n",
       "    }\n",
       "</style>\n",
       "<table border=\"1\" class=\"dataframe\">\n",
       "  <thead>\n",
       "    <tr style=\"text-align: right;\">\n",
       "      <th></th>\n",
       "      <th>Price</th>\n",
       "      <th>VehicleType</th>\n",
       "      <th>RegistrationYear</th>\n",
       "      <th>Gearbox</th>\n",
       "      <th>Power</th>\n",
       "      <th>Model</th>\n",
       "      <th>Kilometer</th>\n",
       "      <th>RegistrationMonth</th>\n",
       "      <th>FuelType</th>\n",
       "      <th>Brand</th>\n",
       "      <th>Repaired</th>\n",
       "      <th>PostalCode</th>\n",
       "    </tr>\n",
       "  </thead>\n",
       "  <tbody>\n",
       "    <tr>\n",
       "      <th>354354</th>\n",
       "      <td>5000</td>\n",
       "      <td>sedan</td>\n",
       "      <td>2003</td>\n",
       "      <td>1</td>\n",
       "      <td>260</td>\n",
       "      <td>e_klasse</td>\n",
       "      <td>150000</td>\n",
       "      <td>12</td>\n",
       "      <td>petrol</td>\n",
       "      <td>mercedes_benz</td>\n",
       "      <td>1</td>\n",
       "      <td>90473</td>\n",
       "    </tr>\n",
       "    <tr>\n",
       "      <th>354356</th>\n",
       "      <td>999</td>\n",
       "      <td>convertible</td>\n",
       "      <td>2000</td>\n",
       "      <td>0</td>\n",
       "      <td>95</td>\n",
       "      <td>megane</td>\n",
       "      <td>150000</td>\n",
       "      <td>4</td>\n",
       "      <td>petrol</td>\n",
       "      <td>renault</td>\n",
       "      <td>0</td>\n",
       "      <td>88477</td>\n",
       "    </tr>\n",
       "    <tr>\n",
       "      <th>354357</th>\n",
       "      <td>1690</td>\n",
       "      <td>wagon</td>\n",
       "      <td>2004</td>\n",
       "      <td>0</td>\n",
       "      <td>55</td>\n",
       "      <td>fabia</td>\n",
       "      <td>150000</td>\n",
       "      <td>4</td>\n",
       "      <td>petrol</td>\n",
       "      <td>skoda</td>\n",
       "      <td>1</td>\n",
       "      <td>18246</td>\n",
       "    </tr>\n",
       "    <tr>\n",
       "      <th>354358</th>\n",
       "      <td>1490</td>\n",
       "      <td>small</td>\n",
       "      <td>1998</td>\n",
       "      <td>0</td>\n",
       "      <td>50</td>\n",
       "      <td>lupo</td>\n",
       "      <td>150000</td>\n",
       "      <td>9</td>\n",
       "      <td>petrol</td>\n",
       "      <td>volkswagen</td>\n",
       "      <td>0</td>\n",
       "      <td>48653</td>\n",
       "    </tr>\n",
       "    <tr>\n",
       "      <th>354359</th>\n",
       "      <td>7900</td>\n",
       "      <td>sedan</td>\n",
       "      <td>2010</td>\n",
       "      <td>0</td>\n",
       "      <td>140</td>\n",
       "      <td>golf</td>\n",
       "      <td>150000</td>\n",
       "      <td>7</td>\n",
       "      <td>petrol</td>\n",
       "      <td>volkswagen</td>\n",
       "      <td>0</td>\n",
       "      <td>75223</td>\n",
       "    </tr>\n",
       "    <tr>\n",
       "      <th>354362</th>\n",
       "      <td>3200</td>\n",
       "      <td>sedan</td>\n",
       "      <td>2004</td>\n",
       "      <td>0</td>\n",
       "      <td>225</td>\n",
       "      <td>leon</td>\n",
       "      <td>150000</td>\n",
       "      <td>5</td>\n",
       "      <td>petrol</td>\n",
       "      <td>seat</td>\n",
       "      <td>1</td>\n",
       "      <td>96465</td>\n",
       "    </tr>\n",
       "    <tr>\n",
       "      <th>354364</th>\n",
       "      <td>0</td>\n",
       "      <td>sedan</td>\n",
       "      <td>2005</td>\n",
       "      <td>0</td>\n",
       "      <td>110</td>\n",
       "      <td>colt</td>\n",
       "      <td>150000</td>\n",
       "      <td>7</td>\n",
       "      <td>petrol</td>\n",
       "      <td>mitsubishi</td>\n",
       "      <td>1</td>\n",
       "      <td>2694</td>\n",
       "    </tr>\n",
       "    <tr>\n",
       "      <th>354366</th>\n",
       "      <td>1199</td>\n",
       "      <td>convertible</td>\n",
       "      <td>2000</td>\n",
       "      <td>1</td>\n",
       "      <td>101</td>\n",
       "      <td>fortwo</td>\n",
       "      <td>125000</td>\n",
       "      <td>3</td>\n",
       "      <td>petrol</td>\n",
       "      <td>smart</td>\n",
       "      <td>0</td>\n",
       "      <td>26135</td>\n",
       "    </tr>\n",
       "    <tr>\n",
       "      <th>354367</th>\n",
       "      <td>9200</td>\n",
       "      <td>bus</td>\n",
       "      <td>1996</td>\n",
       "      <td>0</td>\n",
       "      <td>102</td>\n",
       "      <td>transporter</td>\n",
       "      <td>150000</td>\n",
       "      <td>3</td>\n",
       "      <td>petrol</td>\n",
       "      <td>volkswagen</td>\n",
       "      <td>0</td>\n",
       "      <td>87439</td>\n",
       "    </tr>\n",
       "    <tr>\n",
       "      <th>354368</th>\n",
       "      <td>3400</td>\n",
       "      <td>wagon</td>\n",
       "      <td>2002</td>\n",
       "      <td>0</td>\n",
       "      <td>100</td>\n",
       "      <td>golf</td>\n",
       "      <td>150000</td>\n",
       "      <td>6</td>\n",
       "      <td>petrol</td>\n",
       "      <td>volkswagen</td>\n",
       "      <td>0</td>\n",
       "      <td>40764</td>\n",
       "    </tr>\n",
       "  </tbody>\n",
       "</table>\n",
       "</div>"
      ],
      "text/plain": [
       "        Price  VehicleType  RegistrationYear  Gearbox  Power        Model  \\\n",
       "354354   5000        sedan              2003        1    260     e_klasse   \n",
       "354356    999  convertible              2000        0     95       megane   \n",
       "354357   1690        wagon              2004        0     55        fabia   \n",
       "354358   1490        small              1998        0     50         lupo   \n",
       "354359   7900        sedan              2010        0    140         golf   \n",
       "354362   3200        sedan              2004        0    225         leon   \n",
       "354364      0        sedan              2005        0    110         colt   \n",
       "354366   1199  convertible              2000        1    101       fortwo   \n",
       "354367   9200          bus              1996        0    102  transporter   \n",
       "354368   3400        wagon              2002        0    100         golf   \n",
       "\n",
       "        Kilometer  RegistrationMonth FuelType          Brand  Repaired  \\\n",
       "354354     150000                 12   petrol  mercedes_benz         1   \n",
       "354356     150000                  4   petrol        renault         0   \n",
       "354357     150000                  4   petrol          skoda         1   \n",
       "354358     150000                  9   petrol     volkswagen         0   \n",
       "354359     150000                  7   petrol     volkswagen         0   \n",
       "354362     150000                  5   petrol           seat         1   \n",
       "354364     150000                  7   petrol     mitsubishi         1   \n",
       "354366     125000                  3   petrol          smart         0   \n",
       "354367     150000                  3   petrol     volkswagen         0   \n",
       "354368     150000                  6   petrol     volkswagen         0   \n",
       "\n",
       "        PostalCode  \n",
       "354354       90473  \n",
       "354356       88477  \n",
       "354357       18246  \n",
       "354358       48653  \n",
       "354359       75223  \n",
       "354362       96465  \n",
       "354364        2694  \n",
       "354366       26135  \n",
       "354367       87439  \n",
       "354368       40764  "
      ]
     },
     "metadata": {},
     "output_type": "display_data"
    }
   ],
   "source": [
    "df['Gearbox'] = df['Gearbox'].map({'manual': 0, 'auto': 1})\n",
    "df['Repaired'] = df['Repaired'].map({'no': 0, 'yes': 1})\n",
    "\n",
    "display(df.head(10))\n",
    "display(df.tail(10))"
   ]
  },
  {
   "cell_type": "markdown",
   "metadata": {},
   "source": [
    "Now let's check the RegistrationYear column for outliers and anomalous values."
   ]
  },
  {
   "cell_type": "code",
   "execution_count": 18,
   "metadata": {},
   "outputs": [
    {
     "data": {
      "text/plain": [
       "RegistrationYear\n",
       "1999    19177\n",
       "2000    17845\n",
       "2005    17770\n",
       "2006    17274\n",
       "2001    17137\n",
       "        ...  \n",
       "1932        1\n",
       "1931        1\n",
       "1927        1\n",
       "1947        1\n",
       "7500        1\n",
       "Name: count, Length: 94, dtype: int64"
      ]
     },
     "metadata": {},
     "output_type": "display_data"
    }
   ],
   "source": [
    "display(df['RegistrationYear'].value_counts())"
   ]
  },
  {
   "cell_type": "code",
   "execution_count": 19,
   "metadata": {},
   "outputs": [
    {
     "data": {
      "image/png": "[encoded data removed]",
      "text/plain": [
       "<Figure size 800x600 with 1 Axes>"
      ]
     },
     "metadata": {},
     "output_type": "display_data"
    }
   ],
   "source": [
    "plt.figure(figsize=(8, 6))\n",
    "plt.boxplot(df['RegistrationYear'])\n",
    "plt.title('Boxplot for RegistrationYear')\n",
    "plt.ylabel('Registration Year')\n",
    "plt.grid(axis='y', alpha=0.75)\n",
    "\n",
    "plt.show()"
   ]
  },
  {
   "cell_type": "markdown",
   "metadata": {},
   "source": [
    "Let's remove all the outliers."
   ]
  },
  {
   "cell_type": "code",
   "execution_count": 20,
   "metadata": {},
   "outputs": [],
   "source": [
    "df = df[(df['RegistrationYear'] >= 1920) & (df['RegistrationYear'] <= 2016)]"
   ]
  },
  {
   "cell_type": "code",
   "execution_count": 21,
   "metadata": {},
   "outputs": [
    {
     "data": {
      "image/png": "[encoded data removed]",
      "text/plain": [
       "<Figure size 800x600 with 1 Axes>"
      ]
     },
     "metadata": {},
     "output_type": "display_data"
    }
   ],
   "source": [
    "plt.figure(figsize=(8, 6))\n",
    "plt.boxplot(df['RegistrationYear'])\n",
    "plt.title('Boxplot for RegistrationYear')\n",
    "plt.ylabel('Registration Year')\n",
    "plt.grid(axis='y', alpha=0.75)\n",
    "\n",
    "plt.show()"
   ]
  },
  {
   "cell_type": "markdown",
   "metadata": {},
   "source": [
    "Cars with a registration year of 1920 and beyond may be vintage or rare vehicles, so let's keep them."
   ]
  },
  {
   "cell_type": "code",
   "execution_count": 22,
   "metadata": {},
   "outputs": [
    {
     "data": {
      "text/plain": [
       "RegistrationMonth\n",
       "3     28739\n",
       "6     25909\n",
       "4     24433\n",
       "5     24043\n",
       "7     22524\n",
       "10    21608\n",
       "12    19936\n",
       "9     19838\n",
       "11    19765\n",
       "1     19033\n",
       "8     18659\n",
       "2     17674\n",
       "0     17297\n",
       "Name: count, dtype: int64"
      ]
     },
     "metadata": {},
     "output_type": "display_data"
    }
   ],
   "source": [
    "display(df['RegistrationMonth'].value_counts())"
   ]
  },
  {
   "cell_type": "markdown",
   "metadata": {},
   "source": [
    "As usual, let's replace all the zero values in the RegistrationMonth column with random values from 1 to 12. This should not significantly impact the training."
   ]
  },
  {
   "cell_type": "code",
   "execution_count": 23,
   "metadata": {},
   "outputs": [
    {
     "data": {
      "image/png": "[encoded data removed]",
      "text/plain": [
       "<Figure size 1000x600 with 1 Axes>"
      ]
     },
     "metadata": {},
     "output_type": "display_data"
    }
   ],
   "source": [
    "random_months = np.random.randint(1, 13, size=len(df[df['RegistrationMonth'] == 0]))\n",
    "\n",
    "df.loc[df['RegistrationMonth'] == 0, 'RegistrationMonth'] = random_months\n",
    "\n",
    "plt.figure(figsize=(10, 6))\n",
    "plt.hist(df['RegistrationMonth'], bins=24, edgecolor='k')\n",
    "plt.title('Distribution of Registration Months')\n",
    "plt.xlabel('Month')\n",
    "plt.ylabel('Frequency')\n",
    "plt.grid(True)\n",
    "plt.show()"
   ]
  },
  {
   "cell_type": "markdown",
   "metadata": {},
   "source": [
    "Let's check the correlation between features."
   ]
  },
  {
   "cell_type": "code",
   "execution_count": 24,
   "metadata": {
    "scrolled": true
   },
   "outputs": [
    {
     "data": {
      "text/html": [
       "<style type=\"text/css\">\n",
       "#T_e2898_row0_col0, #T_e2898_row1_col1, #T_e2898_row2_col2, #T_e2898_row3_col3, #T_e2898_row4_col4, #T_e2898_row5_col5, #T_e2898_row6_col6, #T_e2898_row7_col7 {\n",
       "  background-color: #b40426;\n",
       "  color: #f1f1f1;\n",
       "}\n",
       "#T_e2898_row0_col1, #T_e2898_row1_col0 {\n",
       "  background-color: #f6bea4;\n",
       "  color: #000000;\n",
       "}\n",
       "#T_e2898_row0_col2, #T_e2898_row2_col0 {\n",
       "  background-color: #d1dae9;\n",
       "  color: #000000;\n",
       "}\n",
       "#T_e2898_row0_col3, #T_e2898_row3_col0 {\n",
       "  background-color: #f3c7b1;\n",
       "  color: #000000;\n",
       "}\n",
       "#T_e2898_row0_col4, #T_e2898_row4_col0 {\n",
       "  background-color: #3b4cc0;\n",
       "  color: #f1f1f1;\n",
       "}\n",
       "#T_e2898_row0_col5, #T_e2898_row4_col5, #T_e2898_row5_col0, #T_e2898_row5_col4 {\n",
       "  background-color: #97b8ff;\n",
       "  color: #000000;\n",
       "}\n",
       "#T_e2898_row0_col6, #T_e2898_row6_col0 {\n",
       "  background-color: #5b7ae5;\n",
       "  color: #f1f1f1;\n",
       "}\n",
       "#T_e2898_row0_col7, #T_e2898_row7_col0 {\n",
       "  background-color: #a9c6fd;\n",
       "  color: #000000;\n",
       "}\n",
       "#T_e2898_row1_col2, #T_e2898_row2_col1 {\n",
       "  background-color: #a1c0ff;\n",
       "  color: #000000;\n",
       "}\n",
       "#T_e2898_row1_col3, #T_e2898_row3_col1 {\n",
       "  background-color: #b3cdfb;\n",
       "  color: #000000;\n",
       "}\n",
       "#T_e2898_row1_col4, #T_e2898_row4_col1 {\n",
       "  background-color: #4a63d3;\n",
       "  color: #f1f1f1;\n",
       "}\n",
       "#T_e2898_row1_col5, #T_e2898_row5_col1 {\n",
       "  background-color: #96b7ff;\n",
       "  color: #000000;\n",
       "}\n",
       "#T_e2898_row1_col6, #T_e2898_row6_col1 {\n",
       "  background-color: #7396f5;\n",
       "  color: #f1f1f1;\n",
       "}\n",
       "#T_e2898_row1_col7, #T_e2898_row7_col1 {\n",
       "  background-color: #9fbfff;\n",
       "  color: #000000;\n",
       "}\n",
       "#T_e2898_row2_col3, #T_e2898_row3_col2 {\n",
       "  background-color: #edd1c2;\n",
       "  color: #000000;\n",
       "}\n",
       "#T_e2898_row2_col4, #T_e2898_row4_col2 {\n",
       "  background-color: #9dbdff;\n",
       "  color: #000000;\n",
       "}\n",
       "#T_e2898_row2_col5, #T_e2898_row3_col5, #T_e2898_row5_col2, #T_e2898_row5_col3 {\n",
       "  background-color: #9abbff;\n",
       "  color: #000000;\n",
       "}\n",
       "#T_e2898_row2_col6, #T_e2898_row2_col7, #T_e2898_row6_col2, #T_e2898_row7_col2 {\n",
       "  background-color: #8db0fe;\n",
       "  color: #000000;\n",
       "}\n",
       "#T_e2898_row3_col4, #T_e2898_row4_col3 {\n",
       "  background-color: #aec9fc;\n",
       "  color: #000000;\n",
       "}\n",
       "#T_e2898_row3_col6, #T_e2898_row6_col3 {\n",
       "  background-color: #88abfd;\n",
       "  color: #000000;\n",
       "}\n",
       "#T_e2898_row3_col7, #T_e2898_row7_col3 {\n",
       "  background-color: #a3c2fe;\n",
       "  color: #000000;\n",
       "}\n",
       "#T_e2898_row4_col6, #T_e2898_row6_col4 {\n",
       "  background-color: #abc8fd;\n",
       "  color: #000000;\n",
       "}\n",
       "#T_e2898_row4_col7, #T_e2898_row6_col7, #T_e2898_row7_col4, #T_e2898_row7_col6 {\n",
       "  background-color: #90b2fe;\n",
       "  color: #000000;\n",
       "}\n",
       "#T_e2898_row5_col6, #T_e2898_row5_col7, #T_e2898_row6_col5, #T_e2898_row7_col5 {\n",
       "  background-color: #94b6ff;\n",
       "  color: #000000;\n",
       "}\n",
       "</style>\n",
       "<table id=\"T_e2898\">\n",
       "  <thead>\n",
       "    <tr>\n",
       "      <th class=\"blank level0\" >&nbsp;</th>\n",
       "      <th id=\"T_e2898_level0_col0\" class=\"col_heading level0 col0\" >Price</th>\n",
       "      <th id=\"T_e2898_level0_col1\" class=\"col_heading level0 col1\" >RegistrationYear</th>\n",
       "      <th id=\"T_e2898_level0_col2\" class=\"col_heading level0 col2\" >Gearbox</th>\n",
       "      <th id=\"T_e2898_level0_col3\" class=\"col_heading level0 col3\" >Power</th>\n",
       "      <th id=\"T_e2898_level0_col4\" class=\"col_heading level0 col4\" >Kilometer</th>\n",
       "      <th id=\"T_e2898_level0_col5\" class=\"col_heading level0 col5\" >RegistrationMonth</th>\n",
       "      <th id=\"T_e2898_level0_col6\" class=\"col_heading level0 col6\" >Repaired</th>\n",
       "      <th id=\"T_e2898_level0_col7\" class=\"col_heading level0 col7\" >PostalCode</th>\n",
       "    </tr>\n",
       "  </thead>\n",
       "  <tbody>\n",
       "    <tr>\n",
       "      <th id=\"T_e2898_level0_row0\" class=\"row_heading level0 row0\" >Price</th>\n",
       "      <td id=\"T_e2898_row0_col0\" class=\"data row0 col0\" >1.000000</td>\n",
       "      <td id=\"T_e2898_row0_col1\" class=\"data row0 col1\" >0.510596</td>\n",
       "      <td id=\"T_e2898_row0_col2\" class=\"data row0 col2\" >0.246340</td>\n",
       "      <td id=\"T_e2898_row0_col3\" class=\"data row0 col3\" >0.467891</td>\n",
       "      <td id=\"T_e2898_row0_col4\" class=\"data row0 col4\" >-0.378418</td>\n",
       "      <td id=\"T_e2898_row0_col5\" class=\"data row0 col5\" >0.007482</td>\n",
       "      <td id=\"T_e2898_row0_col6\" class=\"data row0 col6\" >-0.232982</td>\n",
       "      <td id=\"T_e2898_row0_col7\" class=\"data row0 col7\" >0.076438</td>\n",
       "    </tr>\n",
       "    <tr>\n",
       "      <th id=\"T_e2898_level0_row1\" class=\"row_heading level0 row1\" >RegistrationYear</th>\n",
       "      <td id=\"T_e2898_row1_col0\" class=\"data row1 col0\" >0.510596</td>\n",
       "      <td id=\"T_e2898_row1_col1\" class=\"data row1 col1\" >1.000000</td>\n",
       "      <td id=\"T_e2898_row1_col2\" class=\"data row1 col2\" >0.043004</td>\n",
       "      <td id=\"T_e2898_row1_col3\" class=\"data row1 col3\" >0.122243</td>\n",
       "      <td id=\"T_e2898_row1_col4\" class=\"data row1 col4\" >-0.305169</td>\n",
       "      <td id=\"T_e2898_row1_col5\" class=\"data row1 col5\" >0.003227</td>\n",
       "      <td id=\"T_e2898_row1_col6\" class=\"data row1 col6\" >-0.131100</td>\n",
       "      <td id=\"T_e2898_row1_col7\" class=\"data row1 col7\" >0.039089</td>\n",
       "    </tr>\n",
       "    <tr>\n",
       "      <th id=\"T_e2898_level0_row2\" class=\"row_heading level0 row2\" >Gearbox</th>\n",
       "      <td id=\"T_e2898_row2_col0\" class=\"data row2 col0\" >0.246340</td>\n",
       "      <td id=\"T_e2898_row2_col1\" class=\"data row2 col1\" >0.043004</td>\n",
       "      <td id=\"T_e2898_row2_col2\" class=\"data row2 col2\" >1.000000</td>\n",
       "      <td id=\"T_e2898_row2_col3\" class=\"data row2 col3\" >0.407848</td>\n",
       "      <td id=\"T_e2898_row2_col4\" class=\"data row2 col4\" >0.025846</td>\n",
       "      <td id=\"T_e2898_row2_col5\" class=\"data row2 col5\" >0.018600</td>\n",
       "      <td id=\"T_e2898_row2_col6\" class=\"data row2 col6\" >-0.028899</td>\n",
       "      <td id=\"T_e2898_row2_col7\" class=\"data row2 col7\" >-0.030820</td>\n",
       "    </tr>\n",
       "    <tr>\n",
       "      <th id=\"T_e2898_level0_row3\" class=\"row_heading level0 row3\" >Power</th>\n",
       "      <td id=\"T_e2898_row3_col0\" class=\"data row3 col0\" >0.467891</td>\n",
       "      <td id=\"T_e2898_row3_col1\" class=\"data row3 col1\" >0.122243</td>\n",
       "      <td id=\"T_e2898_row3_col2\" class=\"data row3 col2\" >0.407848</td>\n",
       "      <td id=\"T_e2898_row3_col3\" class=\"data row3 col3\" >1.000000</td>\n",
       "      <td id=\"T_e2898_row3_col4\" class=\"data row3 col4\" >0.100577</td>\n",
       "      <td id=\"T_e2898_row3_col5\" class=\"data row3 col5\" >0.017173</td>\n",
       "      <td id=\"T_e2898_row3_col6\" class=\"data row3 col6\" >-0.053748</td>\n",
       "      <td id=\"T_e2898_row3_col7\" class=\"data row3 col7\" >0.052710</td>\n",
       "    </tr>\n",
       "    <tr>\n",
       "      <th id=\"T_e2898_level0_row4\" class=\"row_heading level0 row4\" >Kilometer</th>\n",
       "      <td id=\"T_e2898_row4_col0\" class=\"data row4 col0\" >-0.378418</td>\n",
       "      <td id=\"T_e2898_row4_col1\" class=\"data row4 col1\" >-0.305169</td>\n",
       "      <td id=\"T_e2898_row4_col2\" class=\"data row4 col2\" >0.025846</td>\n",
       "      <td id=\"T_e2898_row4_col3\" class=\"data row4 col3\" >0.100577</td>\n",
       "      <td id=\"T_e2898_row4_col4\" class=\"data row4 col4\" >1.000000</td>\n",
       "      <td id=\"T_e2898_row4_col5\" class=\"data row4 col5\" >0.006773</td>\n",
       "      <td id=\"T_e2898_row4_col6\" class=\"data row4 col6\" >0.088506</td>\n",
       "      <td id=\"T_e2898_row4_col7\" class=\"data row4 col7\" >-0.018351</td>\n",
       "    </tr>\n",
       "    <tr>\n",
       "      <th id=\"T_e2898_level0_row5\" class=\"row_heading level0 row5\" >RegistrationMonth</th>\n",
       "      <td id=\"T_e2898_row5_col0\" class=\"data row5 col0\" >0.007482</td>\n",
       "      <td id=\"T_e2898_row5_col1\" class=\"data row5 col1\" >0.003227</td>\n",
       "      <td id=\"T_e2898_row5_col2\" class=\"data row5 col2\" >0.018600</td>\n",
       "      <td id=\"T_e2898_row5_col3\" class=\"data row5 col3\" >0.017173</td>\n",
       "      <td id=\"T_e2898_row5_col4\" class=\"data row5 col4\" >0.006773</td>\n",
       "      <td id=\"T_e2898_row5_col5\" class=\"data row5 col5\" >1.000000</td>\n",
       "      <td id=\"T_e2898_row5_col6\" class=\"data row5 col6\" >-0.004606</td>\n",
       "      <td id=\"T_e2898_row5_col7\" class=\"data row5 col7\" >-0.006542</td>\n",
       "    </tr>\n",
       "    <tr>\n",
       "      <th id=\"T_e2898_level0_row6\" class=\"row_heading level0 row6\" >Repaired</th>\n",
       "      <td id=\"T_e2898_row6_col0\" class=\"data row6 col0\" >-0.232982</td>\n",
       "      <td id=\"T_e2898_row6_col1\" class=\"data row6 col1\" >-0.131100</td>\n",
       "      <td id=\"T_e2898_row6_col2\" class=\"data row6 col2\" >-0.028899</td>\n",
       "      <td id=\"T_e2898_row6_col3\" class=\"data row6 col3\" >-0.053748</td>\n",
       "      <td id=\"T_e2898_row6_col4\" class=\"data row6 col4\" >0.088506</td>\n",
       "      <td id=\"T_e2898_row6_col5\" class=\"data row6 col5\" >-0.004606</td>\n",
       "      <td id=\"T_e2898_row6_col6\" class=\"data row6 col6\" >1.000000</td>\n",
       "      <td id=\"T_e2898_row6_col7\" class=\"data row6 col7\" >-0.021279</td>\n",
       "    </tr>\n",
       "    <tr>\n",
       "      <th id=\"T_e2898_level0_row7\" class=\"row_heading level0 row7\" >PostalCode</th>\n",
       "      <td id=\"T_e2898_row7_col0\" class=\"data row7 col0\" >0.076438</td>\n",
       "      <td id=\"T_e2898_row7_col1\" class=\"data row7 col1\" >0.039089</td>\n",
       "      <td id=\"T_e2898_row7_col2\" class=\"data row7 col2\" >-0.030820</td>\n",
       "      <td id=\"T_e2898_row7_col3\" class=\"data row7 col3\" >0.052710</td>\n",
       "      <td id=\"T_e2898_row7_col4\" class=\"data row7 col4\" >-0.018351</td>\n",
       "      <td id=\"T_e2898_row7_col5\" class=\"data row7 col5\" >-0.006542</td>\n",
       "      <td id=\"T_e2898_row7_col6\" class=\"data row7 col6\" >-0.021279</td>\n",
       "      <td id=\"T_e2898_row7_col7\" class=\"data row7 col7\" >1.000000</td>\n",
       "    </tr>\n",
       "  </tbody>\n",
       "</table>\n"
      ],
      "text/plain": [
       "<pandas.io.formats.style.Styler at 0x7f90e1122340>"
      ]
     },
     "metadata": {},
     "output_type": "display_data"
    }
   ],
   "source": [
    "numeric_df = df.select_dtypes(include=['float64', 'int64'])\n",
    "correlation_df = numeric_df.corr()\n",
    "\n",
    "cmap = plt.get_cmap('coolwarm')\n",
    "styled_corr_matrix = correlation_df.style.background_gradient(cmap=cmap, axis=None)\n",
    "display(styled_corr_matrix)"
   ]
  },
  {
   "cell_type": "markdown",
   "metadata": {},
   "source": [
    "Let's remove all values below 100 euros from the price column."
   ]
  },
  {
   "cell_type": "code",
   "execution_count": 25,
   "metadata": {},
   "outputs": [
    {
     "data": {
      "image/png": "[encoded data removed]",
      "text/plain": [
       "<Figure size 1000x600 with 1 Axes>"
      ]
     },
     "metadata": {},
     "output_type": "display_data"
    }
   ],
   "source": [
    "df = df[df['Price'] >= 100]\n",
    "\n",
    "plt.figure(figsize=(10, 6))\n",
    "\n",
    "plt.hist(df['Price'], bins=50, color='skyblue', edgecolor='black')\n",
    "\n",
    "plt.xlabel('Price')\n",
    "plt.ylabel('Frequency')\n",
    "plt.title('Distribution of prices')\n",
    "\n",
    "plt.show()"
   ]
  },
  {
   "cell_type": "markdown",
   "metadata": {},
   "source": [
    "There is no strong correlation observed between the features and the target. The data is ready for training."
   ]
  },
  {
   "cell_type": "markdown",
   "metadata": {},
   "source": [
    "_Summary_:\n",
    "\n",
    "- After loading the data, the first step was to remove columns that are not informative for future models: DateCrawled, DateCreated, NumberOfPictures, LastSeen. This decision was made because these features are not related to the price of the car, our target variable.\n",
    "\n",
    "- Four duplicates were removed from the dataset.\n",
    "\n",
    "- The values \"petrol\" and \"gasoline\" in the FuelType column were replaced with \"petrol\" since they represent the same fuel type.\n",
    "\n",
    "- In the engine power column, all data above 600 horsepower and below 30 were removed. Approximately 40,000 rows with zero values were replaced with random data ranging from 60 to 200.\n",
    "\n",
    "- Missing values in the VehicleType and Model columns were replaced based on the relationship between these columns and the Brand column. Empty values in the VehicleType column were replaced similarly to the corresponding filled values in conjunction with Model and Brand. The same approach was applied to the Model column.\n",
    "\n",
    "- The remaining empty values in the VehicleType and Model columns were removed. Unfortunately, similar replacement in the Gearbox and FuelType columns was not possible because the transmission and fuel type can vary for the same model, affecting the price. Therefore, missing data in these columns was removed.\n",
    "\n",
    "- Empty values in the Repaired column were filled with random \"yes\" and \"no\" values.\n",
    "\n",
    "- Since Gearbox and Repaired are essentially boolean values, they were replaced with 1 and 0. A manual transmission is represented as 0, and an automatic one as 1. For Repaired, if there was a repair, it is represented as 1, and if not, it is represented as 0.\n",
    "\n",
    "- In the RegistrationYear column, all values above the year 2016 were removed.\n",
    "\n",
    "- In the RegistrationMonth column, all zero values were replaced with random values ranging from 1 to 12.\n",
    "\n",
    "- Correlation check revealed the absence of strong linear dependencies between the target variable and the features.\n",
    "\n",
    "- All values below 100 euros in the Price column were removed."
   ]
  },
  {
   "cell_type": "markdown",
   "metadata": {},
   "source": [
    "## Model Training"
   ]
  },
  {
   "cell_type": "markdown",
   "metadata": {},
   "source": [
    "To begin with, let's split our data into training (60%), validation (20%), and test (20%) sets."
   ]
  },
  {
   "cell_type": "code",
   "execution_count": 26,
   "metadata": {},
   "outputs": [
    {
     "data": {
      "text/html": [
       "<div>\n",
       "<style scoped>\n",
       "    .dataframe tbody tr th:only-of-type {\n",
       "        vertical-align: middle;\n",
       "    }\n",
       "\n",
       "    .dataframe tbody tr th {\n",
       "        vertical-align: top;\n",
       "    }\n",
       "\n",
       "    .dataframe thead th {\n",
       "        text-align: right;\n",
       "    }\n",
       "</style>\n",
       "<table border=\"1\" class=\"dataframe\">\n",
       "  <thead>\n",
       "    <tr style=\"text-align: right;\">\n",
       "      <th></th>\n",
       "      <th>Price</th>\n",
       "      <th>VehicleType</th>\n",
       "      <th>RegistrationYear</th>\n",
       "      <th>Gearbox</th>\n",
       "      <th>Power</th>\n",
       "      <th>Model</th>\n",
       "      <th>Kilometer</th>\n",
       "      <th>RegistrationMonth</th>\n",
       "      <th>FuelType</th>\n",
       "      <th>Brand</th>\n",
       "      <th>Repaired</th>\n",
       "      <th>PostalCode</th>\n",
       "    </tr>\n",
       "  </thead>\n",
       "  <tbody>\n",
       "    <tr>\n",
       "      <th>0</th>\n",
       "      <td>480</td>\n",
       "      <td>small</td>\n",
       "      <td>1993</td>\n",
       "      <td>0</td>\n",
       "      <td>72</td>\n",
       "      <td>golf</td>\n",
       "      <td>150000</td>\n",
       "      <td>4</td>\n",
       "      <td>petrol</td>\n",
       "      <td>volkswagen</td>\n",
       "      <td>0</td>\n",
       "      <td>70435</td>\n",
       "    </tr>\n",
       "    <tr>\n",
       "      <th>1</th>\n",
       "      <td>18300</td>\n",
       "      <td>coupe</td>\n",
       "      <td>2011</td>\n",
       "      <td>0</td>\n",
       "      <td>190</td>\n",
       "      <td>tt</td>\n",
       "      <td>125000</td>\n",
       "      <td>5</td>\n",
       "      <td>petrol</td>\n",
       "      <td>audi</td>\n",
       "      <td>1</td>\n",
       "      <td>66954</td>\n",
       "    </tr>\n",
       "    <tr>\n",
       "      <th>2</th>\n",
       "      <td>9800</td>\n",
       "      <td>suv</td>\n",
       "      <td>2004</td>\n",
       "      <td>1</td>\n",
       "      <td>163</td>\n",
       "      <td>grand</td>\n",
       "      <td>125000</td>\n",
       "      <td>8</td>\n",
       "      <td>petrol</td>\n",
       "      <td>jeep</td>\n",
       "      <td>0</td>\n",
       "      <td>90480</td>\n",
       "    </tr>\n",
       "    <tr>\n",
       "      <th>3</th>\n",
       "      <td>1500</td>\n",
       "      <td>small</td>\n",
       "      <td>2001</td>\n",
       "      <td>0</td>\n",
       "      <td>75</td>\n",
       "      <td>golf</td>\n",
       "      <td>150000</td>\n",
       "      <td>6</td>\n",
       "      <td>petrol</td>\n",
       "      <td>volkswagen</td>\n",
       "      <td>0</td>\n",
       "      <td>91074</td>\n",
       "    </tr>\n",
       "    <tr>\n",
       "      <th>4</th>\n",
       "      <td>3600</td>\n",
       "      <td>small</td>\n",
       "      <td>2008</td>\n",
       "      <td>0</td>\n",
       "      <td>69</td>\n",
       "      <td>fabia</td>\n",
       "      <td>90000</td>\n",
       "      <td>7</td>\n",
       "      <td>petrol</td>\n",
       "      <td>skoda</td>\n",
       "      <td>0</td>\n",
       "      <td>60437</td>\n",
       "    </tr>\n",
       "    <tr>\n",
       "      <th>5</th>\n",
       "      <td>650</td>\n",
       "      <td>sedan</td>\n",
       "      <td>1995</td>\n",
       "      <td>0</td>\n",
       "      <td>102</td>\n",
       "      <td>3er</td>\n",
       "      <td>150000</td>\n",
       "      <td>10</td>\n",
       "      <td>petrol</td>\n",
       "      <td>bmw</td>\n",
       "      <td>1</td>\n",
       "      <td>33775</td>\n",
       "    </tr>\n",
       "    <tr>\n",
       "      <th>6</th>\n",
       "      <td>2200</td>\n",
       "      <td>convertible</td>\n",
       "      <td>2004</td>\n",
       "      <td>0</td>\n",
       "      <td>109</td>\n",
       "      <td>2_reihe</td>\n",
       "      <td>150000</td>\n",
       "      <td>8</td>\n",
       "      <td>petrol</td>\n",
       "      <td>peugeot</td>\n",
       "      <td>0</td>\n",
       "      <td>67112</td>\n",
       "    </tr>\n",
       "    <tr>\n",
       "      <th>8</th>\n",
       "      <td>14500</td>\n",
       "      <td>bus</td>\n",
       "      <td>2014</td>\n",
       "      <td>0</td>\n",
       "      <td>125</td>\n",
       "      <td>c_max</td>\n",
       "      <td>30000</td>\n",
       "      <td>8</td>\n",
       "      <td>petrol</td>\n",
       "      <td>ford</td>\n",
       "      <td>0</td>\n",
       "      <td>94505</td>\n",
       "    </tr>\n",
       "    <tr>\n",
       "      <th>10</th>\n",
       "      <td>2000</td>\n",
       "      <td>sedan</td>\n",
       "      <td>2004</td>\n",
       "      <td>0</td>\n",
       "      <td>105</td>\n",
       "      <td>3_reihe</td>\n",
       "      <td>150000</td>\n",
       "      <td>12</td>\n",
       "      <td>petrol</td>\n",
       "      <td>mazda</td>\n",
       "      <td>0</td>\n",
       "      <td>96224</td>\n",
       "    </tr>\n",
       "    <tr>\n",
       "      <th>11</th>\n",
       "      <td>2799</td>\n",
       "      <td>wagon</td>\n",
       "      <td>2005</td>\n",
       "      <td>0</td>\n",
       "      <td>140</td>\n",
       "      <td>passat</td>\n",
       "      <td>150000</td>\n",
       "      <td>12</td>\n",
       "      <td>petrol</td>\n",
       "      <td>volkswagen</td>\n",
       "      <td>1</td>\n",
       "      <td>57290</td>\n",
       "    </tr>\n",
       "  </tbody>\n",
       "</table>\n",
       "</div>"
      ],
      "text/plain": [
       "    Price  VehicleType  RegistrationYear  Gearbox  Power    Model  Kilometer  \\\n",
       "0     480        small              1993        0     72     golf     150000   \n",
       "1   18300        coupe              2011        0    190       tt     125000   \n",
       "2    9800          suv              2004        1    163    grand     125000   \n",
       "3    1500        small              2001        0     75     golf     150000   \n",
       "4    3600        small              2008        0     69    fabia      90000   \n",
       "5     650        sedan              1995        0    102      3er     150000   \n",
       "6    2200  convertible              2004        0    109  2_reihe     150000   \n",
       "8   14500          bus              2014        0    125    c_max      30000   \n",
       "10   2000        sedan              2004        0    105  3_reihe     150000   \n",
       "11   2799        wagon              2005        0    140   passat     150000   \n",
       "\n",
       "    RegistrationMonth FuelType       Brand  Repaired  PostalCode  \n",
       "0                   4   petrol  volkswagen         0       70435  \n",
       "1                   5   petrol        audi         1       66954  \n",
       "2                   8   petrol        jeep         0       90480  \n",
       "3                   6   petrol  volkswagen         0       91074  \n",
       "4                   7   petrol       skoda         0       60437  \n",
       "5                  10   petrol         bmw         1       33775  \n",
       "6                   8   petrol     peugeot         0       67112  \n",
       "8                   8   petrol        ford         0       94505  \n",
       "10                 12   petrol       mazda         0       96224  \n",
       "11                 12   petrol  volkswagen         1       57290  "
      ]
     },
     "metadata": {},
     "output_type": "display_data"
    },
    {
     "data": {
      "text/html": [
       "<div>\n",
       "<style scoped>\n",
       "    .dataframe tbody tr th:only-of-type {\n",
       "        vertical-align: middle;\n",
       "    }\n",
       "\n",
       "    .dataframe tbody tr th {\n",
       "        vertical-align: top;\n",
       "    }\n",
       "\n",
       "    .dataframe thead th {\n",
       "        text-align: right;\n",
       "    }\n",
       "</style>\n",
       "<table border=\"1\" class=\"dataframe\">\n",
       "  <thead>\n",
       "    <tr style=\"text-align: right;\">\n",
       "      <th></th>\n",
       "      <th>Price</th>\n",
       "      <th>VehicleType</th>\n",
       "      <th>RegistrationYear</th>\n",
       "      <th>Gearbox</th>\n",
       "      <th>Power</th>\n",
       "      <th>Model</th>\n",
       "      <th>Kilometer</th>\n",
       "      <th>RegistrationMonth</th>\n",
       "      <th>FuelType</th>\n",
       "      <th>Brand</th>\n",
       "      <th>Repaired</th>\n",
       "      <th>PostalCode</th>\n",
       "    </tr>\n",
       "  </thead>\n",
       "  <tbody>\n",
       "    <tr>\n",
       "      <th>354353</th>\n",
       "      <td>1999</td>\n",
       "      <td>sedan</td>\n",
       "      <td>1997</td>\n",
       "      <td>0</td>\n",
       "      <td>150</td>\n",
       "      <td>a3</td>\n",
       "      <td>150000</td>\n",
       "      <td>12</td>\n",
       "      <td>petrol</td>\n",
       "      <td>audi</td>\n",
       "      <td>0</td>\n",
       "      <td>4275</td>\n",
       "    </tr>\n",
       "    <tr>\n",
       "      <th>354354</th>\n",
       "      <td>5000</td>\n",
       "      <td>sedan</td>\n",
       "      <td>2003</td>\n",
       "      <td>1</td>\n",
       "      <td>260</td>\n",
       "      <td>e_klasse</td>\n",
       "      <td>150000</td>\n",
       "      <td>12</td>\n",
       "      <td>petrol</td>\n",
       "      <td>mercedes_benz</td>\n",
       "      <td>1</td>\n",
       "      <td>90473</td>\n",
       "    </tr>\n",
       "    <tr>\n",
       "      <th>354356</th>\n",
       "      <td>999</td>\n",
       "      <td>convertible</td>\n",
       "      <td>2000</td>\n",
       "      <td>0</td>\n",
       "      <td>95</td>\n",
       "      <td>megane</td>\n",
       "      <td>150000</td>\n",
       "      <td>4</td>\n",
       "      <td>petrol</td>\n",
       "      <td>renault</td>\n",
       "      <td>0</td>\n",
       "      <td>88477</td>\n",
       "    </tr>\n",
       "    <tr>\n",
       "      <th>354357</th>\n",
       "      <td>1690</td>\n",
       "      <td>wagon</td>\n",
       "      <td>2004</td>\n",
       "      <td>0</td>\n",
       "      <td>55</td>\n",
       "      <td>fabia</td>\n",
       "      <td>150000</td>\n",
       "      <td>4</td>\n",
       "      <td>petrol</td>\n",
       "      <td>skoda</td>\n",
       "      <td>1</td>\n",
       "      <td>18246</td>\n",
       "    </tr>\n",
       "    <tr>\n",
       "      <th>354358</th>\n",
       "      <td>1490</td>\n",
       "      <td>small</td>\n",
       "      <td>1998</td>\n",
       "      <td>0</td>\n",
       "      <td>50</td>\n",
       "      <td>lupo</td>\n",
       "      <td>150000</td>\n",
       "      <td>9</td>\n",
       "      <td>petrol</td>\n",
       "      <td>volkswagen</td>\n",
       "      <td>0</td>\n",
       "      <td>48653</td>\n",
       "    </tr>\n",
       "    <tr>\n",
       "      <th>354359</th>\n",
       "      <td>7900</td>\n",
       "      <td>sedan</td>\n",
       "      <td>2010</td>\n",
       "      <td>0</td>\n",
       "      <td>140</td>\n",
       "      <td>golf</td>\n",
       "      <td>150000</td>\n",
       "      <td>7</td>\n",
       "      <td>petrol</td>\n",
       "      <td>volkswagen</td>\n",
       "      <td>0</td>\n",
       "      <td>75223</td>\n",
       "    </tr>\n",
       "    <tr>\n",
       "      <th>354362</th>\n",
       "      <td>3200</td>\n",
       "      <td>sedan</td>\n",
       "      <td>2004</td>\n",
       "      <td>0</td>\n",
       "      <td>225</td>\n",
       "      <td>leon</td>\n",
       "      <td>150000</td>\n",
       "      <td>5</td>\n",
       "      <td>petrol</td>\n",
       "      <td>seat</td>\n",
       "      <td>1</td>\n",
       "      <td>96465</td>\n",
       "    </tr>\n",
       "    <tr>\n",
       "      <th>354366</th>\n",
       "      <td>1199</td>\n",
       "      <td>convertible</td>\n",
       "      <td>2000</td>\n",
       "      <td>1</td>\n",
       "      <td>101</td>\n",
       "      <td>fortwo</td>\n",
       "      <td>125000</td>\n",
       "      <td>3</td>\n",
       "      <td>petrol</td>\n",
       "      <td>smart</td>\n",
       "      <td>0</td>\n",
       "      <td>26135</td>\n",
       "    </tr>\n",
       "    <tr>\n",
       "      <th>354367</th>\n",
       "      <td>9200</td>\n",
       "      <td>bus</td>\n",
       "      <td>1996</td>\n",
       "      <td>0</td>\n",
       "      <td>102</td>\n",
       "      <td>transporter</td>\n",
       "      <td>150000</td>\n",
       "      <td>3</td>\n",
       "      <td>petrol</td>\n",
       "      <td>volkswagen</td>\n",
       "      <td>0</td>\n",
       "      <td>87439</td>\n",
       "    </tr>\n",
       "    <tr>\n",
       "      <th>354368</th>\n",
       "      <td>3400</td>\n",
       "      <td>wagon</td>\n",
       "      <td>2002</td>\n",
       "      <td>0</td>\n",
       "      <td>100</td>\n",
       "      <td>golf</td>\n",
       "      <td>150000</td>\n",
       "      <td>6</td>\n",
       "      <td>petrol</td>\n",
       "      <td>volkswagen</td>\n",
       "      <td>0</td>\n",
       "      <td>40764</td>\n",
       "    </tr>\n",
       "  </tbody>\n",
       "</table>\n",
       "</div>"
      ],
      "text/plain": [
       "        Price  VehicleType  RegistrationYear  Gearbox  Power        Model  \\\n",
       "354353   1999        sedan              1997        0    150           a3   \n",
       "354354   5000        sedan              2003        1    260     e_klasse   \n",
       "354356    999  convertible              2000        0     95       megane   \n",
       "354357   1690        wagon              2004        0     55        fabia   \n",
       "354358   1490        small              1998        0     50         lupo   \n",
       "354359   7900        sedan              2010        0    140         golf   \n",
       "354362   3200        sedan              2004        0    225         leon   \n",
       "354366   1199  convertible              2000        1    101       fortwo   \n",
       "354367   9200          bus              1996        0    102  transporter   \n",
       "354368   3400        wagon              2002        0    100         golf   \n",
       "\n",
       "        Kilometer  RegistrationMonth FuelType          Brand  Repaired  \\\n",
       "354353     150000                 12   petrol           audi         0   \n",
       "354354     150000                 12   petrol  mercedes_benz         1   \n",
       "354356     150000                  4   petrol        renault         0   \n",
       "354357     150000                  4   petrol          skoda         1   \n",
       "354358     150000                  9   petrol     volkswagen         0   \n",
       "354359     150000                  7   petrol     volkswagen         0   \n",
       "354362     150000                  5   petrol           seat         1   \n",
       "354366     125000                  3   petrol          smart         0   \n",
       "354367     150000                  3   petrol     volkswagen         0   \n",
       "354368     150000                  6   petrol     volkswagen         0   \n",
       "\n",
       "        PostalCode  \n",
       "354353        4275  \n",
       "354354       90473  \n",
       "354356       88477  \n",
       "354357       18246  \n",
       "354358       48653  \n",
       "354359       75223  \n",
       "354362       96465  \n",
       "354366       26135  \n",
       "354367       87439  \n",
       "354368       40764  "
      ]
     },
     "metadata": {},
     "output_type": "display_data"
    }
   ],
   "source": [
    "display(df.head(10))\n",
    "display(df.tail(10))"
   ]
  },
  {
   "cell_type": "code",
   "execution_count": 27,
   "metadata": {},
   "outputs": [
    {
     "data": {
      "text/plain": [
       "'Train features (163699, 11)'"
      ]
     },
     "metadata": {},
     "output_type": "display_data"
    },
    {
     "data": {
      "text/plain": [
       "'Train target (163699,)'"
      ]
     },
     "metadata": {},
     "output_type": "display_data"
    },
    {
     "data": {
      "text/plain": [
       "'Validation features (54567, 11)'"
      ]
     },
     "metadata": {},
     "output_type": "display_data"
    },
    {
     "data": {
      "text/plain": [
       "'Validation target (54567,)'"
      ]
     },
     "metadata": {},
     "output_type": "display_data"
    },
    {
     "data": {
      "text/plain": [
       "'Test features (54567, 11)'"
      ]
     },
     "metadata": {},
     "output_type": "display_data"
    },
    {
     "data": {
      "text/plain": [
       "'Test target (54567,)'"
      ]
     },
     "metadata": {},
     "output_type": "display_data"
    }
   ],
   "source": [
    "X = df.drop(columns=['Price'])\n",
    "y = df['Price']\n",
    "\n",
    "X_train, X_temp, y_train, y_temp = train_test_split(X, y, test_size=0.4, random_state=12345)\n",
    "\n",
    "X_valid, X_test, y_valid, y_test = train_test_split(X_temp, y_temp, test_size=0.5, random_state=12345)\n",
    "\n",
    "display(f'Train features {X_train.shape}')\n",
    "display(f'Train target {y_train.shape}')\n",
    "\n",
    "display(f'Validation features {X_valid.shape}')\n",
    "display(f'Validation target {y_valid.shape}')\n",
    "\n",
    "display(f'Test features {X_test.shape}')\n",
    "display(f'Test target {y_test.shape}')"
   ]
  },
  {
   "cell_type": "markdown",
   "metadata": {},
   "source": [
    "Next, let's bring the data into a common format. Initially, I applied One-Hot Encoding (OHE) to categorical features and scaled numerical features using StandardScaler(). If scaling went smoothly, encoding 4 categorical columns resulted in 299 columns after OHE. The linear regression model took 21 minutes to train the first time and 16 minutes the second time. Training the LightGBM model was not completed. Following the instructor's advice, I attempted to use the preprocessing.TargetEncoder() method from the sklearn library but couldn't import it. Therefore, I loaded the category_encoders library, which also includes TargetEncoder() (the package installation occurs at the beginning of the project before importing all the necessary libraries)."
   ]
  },
  {
   "cell_type": "code",
   "execution_count": 28,
   "metadata": {},
   "outputs": [],
   "source": [
    "categorical = ['VehicleType', 'Model', 'FuelType', 'Brand']\n",
    "numeric = ['RegistrationYear', 'Gearbox', 'Power', 'Kilometer', 'RegistrationMonth', 'Repaired', 'PostalCode']"
   ]
  },
  {
   "cell_type": "code",
   "execution_count": 29,
   "metadata": {},
   "outputs": [
    {
     "data": {
      "text/plain": [
       "'Train: (163699, 4)'"
      ]
     },
     "metadata": {},
     "output_type": "display_data"
    },
    {
     "data": {
      "text/plain": [
       "'Validation: (54567, 4)'"
      ]
     },
     "metadata": {},
     "output_type": "display_data"
    },
    {
     "data": {
      "text/plain": [
       "'Test: (54567, 4)'"
      ]
     },
     "metadata": {},
     "output_type": "display_data"
    },
    {
     "data": {
      "text/plain": [
       "\"def ohe_conv(features):\\n    data_ohe = pd.get_dummies(features[categorical], columns=categorical, drop_first=True)\\n    data_ohe.reset_index(drop=True, inplace=True)\\n    return data_ohe\\n\\nX_train_categorical = ohe_conv(X_train[categorical])\\nX_valid_categorical = ohe_conv(X_valid[categorical])\\nX_test_categorical = ohe_conv(X_test[categorical])\\n\\ndisplay(f'Обучающая: {X_train_categorical.shape}')\\ndisplay(f'Валидационная: {X_valid_categorical.shape}')\\ndisplay(f'Тестовая: {X_test_categorical.shape}')\""
      ]
     },
     "execution_count": 29,
     "metadata": {},
     "output_type": "execute_result"
    }
   ],
   "source": [
    "encoder = ce.TargetEncoder()\n",
    "\n",
    "X_train_categorical = encoder.fit_transform(X_train[categorical], y_train)\n",
    "X_valid_categorical = encoder.transform(X_valid[categorical])\n",
    "X_test_categorical = encoder.transform(X_test[categorical])\n",
    "\n",
    "X_train_categorical = X_train_categorical.reset_index(drop=True)\n",
    "X_valid_categorical = X_valid_categorical.reset_index(drop=True)\n",
    "X_test_categorical = X_test_categorical.reset_index(drop=True)\n",
    "\n",
    "display(f'Train: {X_train_categorical.shape}')\n",
    "display(f'Validation: {X_valid_categorical.shape}')\n",
    "display(f'Test: {X_test_categorical.shape}')\n",
    "\n",
    "'''def ohe_conv(features):\n",
    "    data_ohe = pd.get_dummies(features[categorical], columns=categorical, drop_first=True)\n",
    "    data_ohe.reset_index(drop=True, inplace=True)\n",
    "    return data_ohe\n",
    "\n",
    "X_train_categorical = ohe_conv(X_train[categorical])\n",
    "X_valid_categorical = ohe_conv(X_valid[categorical])\n",
    "X_test_categorical = ohe_conv(X_test[categorical])\n",
    "\n",
    "display(f'Обучающая: {X_train_categorical.shape}')\n",
    "display(f'Валидационная: {X_valid_categorical.shape}')\n",
    "display(f'Тестовая: {X_test_categorical.shape}')'''"
   ]
  },
  {
   "cell_type": "code",
   "execution_count": 30,
   "metadata": {},
   "outputs": [
    {
     "data": {
      "text/plain": [
       "'Train: (163699, 4)'"
      ]
     },
     "metadata": {},
     "output_type": "display_data"
    },
    {
     "data": {
      "text/plain": [
       "'Validation: (54567, 4)'"
      ]
     },
     "metadata": {},
     "output_type": "display_data"
    },
    {
     "data": {
      "text/plain": [
       "'Test: (54567, 4)'"
      ]
     },
     "metadata": {},
     "output_type": "display_data"
    }
   ],
   "source": [
    "display(f'Train: {X_train_categorical.shape}')\n",
    "display(f'Validation: {X_valid_categorical.shape}')\n",
    "display(f'Test: {X_test_categorical.shape}')"
   ]
  },
  {
   "cell_type": "code",
   "execution_count": 31,
   "metadata": {},
   "outputs": [],
   "source": [
    "scaler = StandardScaler()\n",
    "\n",
    "X_train_scaled = scaler.fit_transform(X_train[numeric])\n",
    "X_train_numeric = pd.DataFrame(X_train_scaled, columns=numeric)\n",
    "X_train_numeric.reset_index(drop=True, inplace=True)\n",
    "\n",
    "def scaler_func (features):\n",
    "    data_scaled = scaler.transform(features[numeric])\n",
    "    data_numeric = pd.DataFrame(data_scaled, columns=numeric)\n",
    "    data_numeric.reset_index(drop=True, inplace=True)\n",
    "    return data_numeric\n",
    "\n",
    "X_valid_numeric = scaler_func(X_valid)\n",
    "X_test_numeric = scaler_func(X_test)"
   ]
  },
  {
   "cell_type": "markdown",
   "metadata": {},
   "source": [
    "Let's combine categorical and numerical features."
   ]
  },
  {
   "cell_type": "code",
   "execution_count": 32,
   "metadata": {},
   "outputs": [
    {
     "data": {
      "text/plain": [
       "'Train: (163699, 11)'"
      ]
     },
     "metadata": {},
     "output_type": "display_data"
    },
    {
     "data": {
      "text/plain": [
       "'Validation: (54567, 11)'"
      ]
     },
     "metadata": {},
     "output_type": "display_data"
    },
    {
     "data": {
      "text/plain": [
       "'Test: (54567, 11)'"
      ]
     },
     "metadata": {},
     "output_type": "display_data"
    },
    {
     "data": {
      "text/html": [
       "<div>\n",
       "<style scoped>\n",
       "    .dataframe tbody tr th:only-of-type {\n",
       "        vertical-align: middle;\n",
       "    }\n",
       "\n",
       "    .dataframe tbody tr th {\n",
       "        vertical-align: top;\n",
       "    }\n",
       "\n",
       "    .dataframe thead th {\n",
       "        text-align: right;\n",
       "    }\n",
       "</style>\n",
       "<table border=\"1\" class=\"dataframe\">\n",
       "  <thead>\n",
       "    <tr style=\"text-align: right;\">\n",
       "      <th></th>\n",
       "      <th>RegistrationYear</th>\n",
       "      <th>Gearbox</th>\n",
       "      <th>Power</th>\n",
       "      <th>Kilometer</th>\n",
       "      <th>RegistrationMonth</th>\n",
       "      <th>Repaired</th>\n",
       "      <th>PostalCode</th>\n",
       "      <th>VehicleType</th>\n",
       "      <th>Model</th>\n",
       "      <th>FuelType</th>\n",
       "      <th>Brand</th>\n",
       "    </tr>\n",
       "  </thead>\n",
       "  <tbody>\n",
       "    <tr>\n",
       "      <th>0</th>\n",
       "      <td>-4.395892</td>\n",
       "      <td>-0.501252</td>\n",
       "      <td>-1.483201</td>\n",
       "      <td>-0.785864</td>\n",
       "      <td>1.377429</td>\n",
       "      <td>2.189108</td>\n",
       "      <td>-0.385443</td>\n",
       "      <td>6975.985264</td>\n",
       "      <td>4674.538844</td>\n",
       "      <td>4841.825203</td>\n",
       "      <td>4819.131287</td>\n",
       "    </tr>\n",
       "    <tr>\n",
       "      <th>1</th>\n",
       "      <td>-0.911266</td>\n",
       "      <td>-0.501252</td>\n",
       "      <td>-1.179163</td>\n",
       "      <td>0.585204</td>\n",
       "      <td>-0.413285</td>\n",
       "      <td>-0.456807</td>\n",
       "      <td>-1.354113</td>\n",
       "      <td>2806.108226</td>\n",
       "      <td>2860.253333</td>\n",
       "      <td>4841.825203</td>\n",
       "      <td>4819.131287</td>\n",
       "    </tr>\n",
       "    <tr>\n",
       "      <th>2</th>\n",
       "      <td>0.514263</td>\n",
       "      <td>-0.501252</td>\n",
       "      <td>-0.324057</td>\n",
       "      <td>0.585204</td>\n",
       "      <td>-1.308642</td>\n",
       "      <td>-0.456807</td>\n",
       "      <td>-0.702399</td>\n",
       "      <td>4917.238456</td>\n",
       "      <td>7162.989691</td>\n",
       "      <td>4841.825203</td>\n",
       "      <td>4413.048263</td>\n",
       "    </tr>\n",
       "    <tr>\n",
       "      <th>3</th>\n",
       "      <td>0.831047</td>\n",
       "      <td>1.995005</td>\n",
       "      <td>0.911096</td>\n",
       "      <td>-0.100330</td>\n",
       "      <td>0.482072</td>\n",
       "      <td>-0.456807</td>\n",
       "      <td>-0.016093</td>\n",
       "      <td>4917.238456</td>\n",
       "      <td>5712.914238</td>\n",
       "      <td>4841.825203</td>\n",
       "      <td>6229.512523</td>\n",
       "    </tr>\n",
       "    <tr>\n",
       "      <th>4</th>\n",
       "      <td>-0.594482</td>\n",
       "      <td>1.995005</td>\n",
       "      <td>2.811332</td>\n",
       "      <td>0.585204</td>\n",
       "      <td>1.675881</td>\n",
       "      <td>2.189108</td>\n",
       "      <td>-0.134530</td>\n",
       "      <td>4917.238456</td>\n",
       "      <td>6465.565306</td>\n",
       "      <td>4036.748882</td>\n",
       "      <td>6626.152604</td>\n",
       "    </tr>\n",
       "    <tr>\n",
       "      <th>...</th>\n",
       "      <td>...</td>\n",
       "      <td>...</td>\n",
       "      <td>...</td>\n",
       "      <td>...</td>\n",
       "      <td>...</td>\n",
       "      <td>...</td>\n",
       "      <td>...</td>\n",
       "      <td>...</td>\n",
       "      <td>...</td>\n",
       "      <td>...</td>\n",
       "      <td>...</td>\n",
       "    </tr>\n",
       "    <tr>\n",
       "      <th>163694</th>\n",
       "      <td>-1.069658</td>\n",
       "      <td>1.995005</td>\n",
       "      <td>-0.115031</td>\n",
       "      <td>0.585204</td>\n",
       "      <td>1.078976</td>\n",
       "      <td>-0.456807</td>\n",
       "      <td>-1.736610</td>\n",
       "      <td>4917.238456</td>\n",
       "      <td>5306.217602</td>\n",
       "      <td>4841.825203</td>\n",
       "      <td>6626.152604</td>\n",
       "    </tr>\n",
       "    <tr>\n",
       "      <th>163695</th>\n",
       "      <td>0.672655</td>\n",
       "      <td>-0.501252</td>\n",
       "      <td>0.170004</td>\n",
       "      <td>0.585204</td>\n",
       "      <td>1.377429</td>\n",
       "      <td>-0.456807</td>\n",
       "      <td>-0.614483</td>\n",
       "      <td>2806.108226</td>\n",
       "      <td>3994.303709</td>\n",
       "      <td>4841.825203</td>\n",
       "      <td>4413.048263</td>\n",
       "    </tr>\n",
       "    <tr>\n",
       "      <th>163696</th>\n",
       "      <td>-0.119306</td>\n",
       "      <td>-0.501252</td>\n",
       "      <td>0.170004</td>\n",
       "      <td>0.585204</td>\n",
       "      <td>0.482072</td>\n",
       "      <td>-0.456807</td>\n",
       "      <td>-1.339726</td>\n",
       "      <td>4917.238456</td>\n",
       "      <td>10428.379915</td>\n",
       "      <td>4841.825203</td>\n",
       "      <td>6146.292597</td>\n",
       "    </tr>\n",
       "    <tr>\n",
       "      <th>163697</th>\n",
       "      <td>0.989439</td>\n",
       "      <td>-0.501252</td>\n",
       "      <td>0.341026</td>\n",
       "      <td>-0.100330</td>\n",
       "      <td>-0.413285</td>\n",
       "      <td>-0.456807</td>\n",
       "      <td>0.240016</td>\n",
       "      <td>5077.862512</td>\n",
       "      <td>4692.602698</td>\n",
       "      <td>4841.825203</td>\n",
       "      <td>4819.131287</td>\n",
       "    </tr>\n",
       "    <tr>\n",
       "      <th>163698</th>\n",
       "      <td>-0.277698</td>\n",
       "      <td>-0.501252</td>\n",
       "      <td>0.132000</td>\n",
       "      <td>0.585204</td>\n",
       "      <td>-0.711737</td>\n",
       "      <td>-0.456807</td>\n",
       "      <td>-0.017450</td>\n",
       "      <td>6326.448881</td>\n",
       "      <td>5712.914238</td>\n",
       "      <td>4841.825203</td>\n",
       "      <td>6229.512523</td>\n",
       "    </tr>\n",
       "  </tbody>\n",
       "</table>\n",
       "<p>163699 rows × 11 columns</p>\n",
       "</div>"
      ],
      "text/plain": [
       "        RegistrationYear   Gearbox     Power  Kilometer  RegistrationMonth  \\\n",
       "0              -4.395892 -0.501252 -1.483201  -0.785864           1.377429   \n",
       "1              -0.911266 -0.501252 -1.179163   0.585204          -0.413285   \n",
       "2               0.514263 -0.501252 -0.324057   0.585204          -1.308642   \n",
       "3               0.831047  1.995005  0.911096  -0.100330           0.482072   \n",
       "4              -0.594482  1.995005  2.811332   0.585204           1.675881   \n",
       "...                  ...       ...       ...        ...                ...   \n",
       "163694         -1.069658  1.995005 -0.115031   0.585204           1.078976   \n",
       "163695          0.672655 -0.501252  0.170004   0.585204           1.377429   \n",
       "163696         -0.119306 -0.501252  0.170004   0.585204           0.482072   \n",
       "163697          0.989439 -0.501252  0.341026  -0.100330          -0.413285   \n",
       "163698         -0.277698 -0.501252  0.132000   0.585204          -0.711737   \n",
       "\n",
       "        Repaired  PostalCode  VehicleType         Model     FuelType  \\\n",
       "0       2.189108   -0.385443  6975.985264   4674.538844  4841.825203   \n",
       "1      -0.456807   -1.354113  2806.108226   2860.253333  4841.825203   \n",
       "2      -0.456807   -0.702399  4917.238456   7162.989691  4841.825203   \n",
       "3      -0.456807   -0.016093  4917.238456   5712.914238  4841.825203   \n",
       "4       2.189108   -0.134530  4917.238456   6465.565306  4036.748882   \n",
       "...          ...         ...          ...           ...          ...   \n",
       "163694 -0.456807   -1.736610  4917.238456   5306.217602  4841.825203   \n",
       "163695 -0.456807   -0.614483  2806.108226   3994.303709  4841.825203   \n",
       "163696 -0.456807   -1.339726  4917.238456  10428.379915  4841.825203   \n",
       "163697 -0.456807    0.240016  5077.862512   4692.602698  4841.825203   \n",
       "163698 -0.456807   -0.017450  6326.448881   5712.914238  4841.825203   \n",
       "\n",
       "              Brand  \n",
       "0       4819.131287  \n",
       "1       4819.131287  \n",
       "2       4413.048263  \n",
       "3       6229.512523  \n",
       "4       6626.152604  \n",
       "...             ...  \n",
       "163694  6626.152604  \n",
       "163695  4413.048263  \n",
       "163696  6146.292597  \n",
       "163697  4819.131287  \n",
       "163698  6229.512523  \n",
       "\n",
       "[163699 rows x 11 columns]"
      ]
     },
     "metadata": {},
     "output_type": "display_data"
    }
   ],
   "source": [
    "X_train = pd.concat([X_train_numeric, X_train_categorical], axis=1)\n",
    "X_valid = pd.concat([X_valid_numeric, X_valid_categorical], axis=1)\n",
    "X_test = pd.concat([X_test_numeric, X_test_categorical], axis=1)\n",
    "\n",
    "display(f'Train: {X_train.shape}')\n",
    "display(f'Validation: {X_valid.shape}')\n",
    "display(f'Test: {X_test.shape}')\n",
    "\n",
    "display(X_train)"
   ]
  },
  {
   "cell_type": "markdown",
   "metadata": {},
   "source": [
    "Also, let's reset the indices in the target datasets."
   ]
  },
  {
   "cell_type": "code",
   "execution_count": 33,
   "metadata": {},
   "outputs": [
    {
     "data": {
      "text/plain": [
       "(163699,)"
      ]
     },
     "metadata": {},
     "output_type": "display_data"
    },
    {
     "data": {
      "text/plain": [
       "(54567,)"
      ]
     },
     "metadata": {},
     "output_type": "display_data"
    },
    {
     "data": {
      "text/plain": [
       "(54567,)"
      ]
     },
     "metadata": {},
     "output_type": "display_data"
    }
   ],
   "source": [
    "y_train.reset_index(drop=True, inplace=True)\n",
    "y_valid.reset_index(drop=True, inplace=True)\n",
    "y_test.reset_index(drop=True, inplace=True)\n",
    "\n",
    "display(y_train.shape)\n",
    "display(y_valid.shape)\n",
    "display(y_test.shape)"
   ]
  },
  {
   "cell_type": "markdown",
   "metadata": {},
   "source": [
    "The main quality metric for the model will be RMSE. Let's train several models and choose the best one. We'll consider linear regression, decision tree, random forest, CatBoost, and LightGBM. We will evaluate the best model on the test set."
   ]
  },
  {
   "cell_type": "markdown",
   "metadata": {},
   "source": [
    "Linear Regression."
   ]
  },
  {
   "cell_type": "code",
   "execution_count": 34,
   "metadata": {
    "scrolled": true
   },
   "outputs": [
    {
     "name": "stdout",
     "output_type": "stream",
     "text": [
      "Training time: 0.40830397605895996 seconds\n",
      "Prediction time: 0.0034182071685791016 seconds\n",
      "Linear Regression RMSE: 2784.0297860419987\n",
      "Best Linear Regression Hyperparameters: {'fit_intercept': True}\n"
     ]
    }
   ],
   "source": [
    "param_grid_lr = {\n",
    "    'fit_intercept': [True, False]\n",
    "}\n",
    "\n",
    "grid_lr = GridSearchCV(LinearRegression(), param_grid_lr, scoring='neg_mean_squared_error', cv=5)\n",
    "\n",
    "start_time = time.time()\n",
    "grid_lr.fit(X_train, y_train)\n",
    "end_time = time.time()\n",
    "training_time = end_time - start_time\n",
    "print(f\"Training time: {training_time} seconds\")\n",
    "\n",
    "start_time = time.time()\n",
    "y_pred_lr = grid_lr.predict(X_valid)\n",
    "end_time = time.time()\n",
    "prediction_time = end_time - start_time\n",
    "print(f\"Prediction time: {prediction_time} seconds\")\n",
    "\n",
    "rmse_lr = (mean_squared_error(y_valid, y_pred_lr))**0.5\n",
    "print(\"Linear Regression RMSE:\", rmse_lr)\n",
    "\n",
    "best_params_lr = grid_lr.best_params_\n",
    "print(\"Best Linear Regression Hyperparameters:\", best_params_lr)"
   ]
  },
  {
   "cell_type": "markdown",
   "metadata": {},
   "source": [
    "Decision tree."
   ]
  },
  {
   "cell_type": "code",
   "execution_count": 35,
   "metadata": {},
   "outputs": [
    {
     "name": "stdout",
     "output_type": "stream",
     "text": [
      "Training time: 58.64609932899475 seconds\n",
      "Prediction time: 0.006695985794067383 seconds\n",
      "Decision Tree RMSE: 2784.0297860419987\n",
      "Decision Tree best hyperparameters: {'max_depth': 10, 'min_samples_leaf': 4, 'min_samples_split': 2}\n"
     ]
    }
   ],
   "source": [
    "param_grid_dt = {\n",
    "    'max_depth': [None, 2, 5, 10],\n",
    "    'min_samples_split': [2, 3, 5],\n",
    "    'min_samples_leaf': [1, 2, 4]\n",
    "}\n",
    "\n",
    "grid_dt = GridSearchCV(DecisionTreeRegressor(), param_grid_dt, scoring='neg_mean_squared_error', cv=5)\n",
    "start_time = time.time()\n",
    "grid_dt.fit(X_train, y_train)\n",
    "end_time = time.time()\n",
    "training_time = end_time - start_time\n",
    "print(f\"Training time: {training_time} seconds\")\n",
    "\n",
    "start_time = time.time()\n",
    "y_pred_dt = grid_dt.predict(X_valid)\n",
    "end_time = time.time()\n",
    "prediction_time = end_time - start_time\n",
    "print(f\"Prediction time: {prediction_time} seconds\")\n",
    "\n",
    "rmse_dt = (mean_squared_error(y_valid, y_pred_dt))**0.5\n",
    "print(\"Decision Tree RMSE:\", rmse_lr)\n",
    "\n",
    "best_params = grid_dt.best_params_\n",
    "print(\"Decision Tree best hyperparameters:\", best_params)"
   ]
  },
  {
   "cell_type": "markdown",
   "metadata": {},
   "source": [
    "CatBoost"
   ]
  },
  {
   "cell_type": "code",
   "execution_count": 36,
   "metadata": {
    "scrolled": true
   },
   "outputs": [
    {
     "name": "stdout",
     "output_type": "stream",
     "text": [
      "0:\tlearn: 3640.1519271\ttotal: 74.8ms\tremaining: 22.4s\n",
      "1:\tlearn: 2995.1320616\ttotal: 91.7ms\tremaining: 13.7s\n",
      "2:\tlearn: 2573.2079129\ttotal: 107ms\tremaining: 10.6s\n",
      "3:\tlearn: 2305.2272083\ttotal: 124ms\tremaining: 9.16s\n",
      "4:\tlearn: 2126.0329851\ttotal: 139ms\tremaining: 8.19s\n",
      "5:\tlearn: 2013.6300853\ttotal: 154ms\tremaining: 7.57s\n",
      "6:\tlearn: 1935.6976530\ttotal: 170ms\tremaining: 7.13s\n",
      "7:\tlearn: 1886.8027045\ttotal: 186ms\tremaining: 6.77s\n",
      "8:\tlearn: 1848.3560910\ttotal: 201ms\tremaining: 6.5s\n",
      "9:\tlearn: 1816.4323499\ttotal: 218ms\tremaining: 6.32s\n",
      "10:\tlearn: 1796.5346520\ttotal: 235ms\tremaining: 6.18s\n",
      "11:\tlearn: 1777.6981128\ttotal: 252ms\tremaining: 6.04s\n",
      "12:\tlearn: 1763.3044955\ttotal: 267ms\tremaining: 5.9s\n",
      "13:\tlearn: 1749.1378642\ttotal: 284ms\tremaining: 5.8s\n",
      "14:\tlearn: 1739.5600451\ttotal: 302ms\tremaining: 5.74s\n",
      "15:\tlearn: 1732.7021959\ttotal: 318ms\tremaining: 5.64s\n",
      "16:\tlearn: 1723.7307044\ttotal: 334ms\tremaining: 5.56s\n",
      "17:\tlearn: 1714.3966331\ttotal: 349ms\tremaining: 5.47s\n",
      "18:\tlearn: 1706.8911600\ttotal: 364ms\tremaining: 5.39s\n",
      "19:\tlearn: 1697.7629075\ttotal: 380ms\tremaining: 5.32s\n",
      "20:\tlearn: 1691.6188865\ttotal: 398ms\tremaining: 5.29s\n",
      "21:\tlearn: 1684.2424998\ttotal: 414ms\tremaining: 5.23s\n",
      "22:\tlearn: 1681.1669132\ttotal: 429ms\tremaining: 5.16s\n",
      "23:\tlearn: 1674.7660117\ttotal: 444ms\tremaining: 5.11s\n",
      "24:\tlearn: 1670.0650093\ttotal: 460ms\tremaining: 5.06s\n",
      "25:\tlearn: 1667.9461097\ttotal: 475ms\tremaining: 5s\n",
      "26:\tlearn: 1661.8528716\ttotal: 491ms\tremaining: 4.96s\n",
      "27:\tlearn: 1659.0823014\ttotal: 508ms\tremaining: 4.94s\n",
      "28:\tlearn: 1654.4340086\ttotal: 526ms\tremaining: 4.92s\n",
      "29:\tlearn: 1650.6372616\ttotal: 542ms\tremaining: 4.88s\n",
      "30:\tlearn: 1646.3453168\ttotal: 558ms\tremaining: 4.84s\n",
      "31:\tlearn: 1640.2614820\ttotal: 573ms\tremaining: 4.8s\n",
      "32:\tlearn: 1635.7935930\ttotal: 588ms\tremaining: 4.76s\n",
      "33:\tlearn: 1633.2626295\ttotal: 604ms\tremaining: 4.72s\n",
      "34:\tlearn: 1630.3883318\ttotal: 619ms\tremaining: 4.69s\n",
      "35:\tlearn: 1626.1975297\ttotal: 634ms\tremaining: 4.65s\n",
      "36:\tlearn: 1622.4884097\ttotal: 650ms\tremaining: 4.62s\n",
      "37:\tlearn: 1618.7473331\ttotal: 666ms\tremaining: 4.59s\n",
      "38:\tlearn: 1614.1428329\ttotal: 682ms\tremaining: 4.56s\n",
      "39:\tlearn: 1611.9040721\ttotal: 699ms\tremaining: 4.54s\n",
      "40:\tlearn: 1609.2255174\ttotal: 716ms\tremaining: 4.52s\n",
      "41:\tlearn: 1605.3740168\ttotal: 732ms\tremaining: 4.5s\n",
      "42:\tlearn: 1602.7743893\ttotal: 748ms\tremaining: 4.47s\n",
      "43:\tlearn: 1599.2664000\ttotal: 764ms\tremaining: 4.44s\n",
      "44:\tlearn: 1596.6267125\ttotal: 779ms\tremaining: 4.42s\n",
      "45:\tlearn: 1594.4712366\ttotal: 795ms\tremaining: 4.39s\n",
      "46:\tlearn: 1590.4580843\ttotal: 810ms\tremaining: 4.36s\n",
      "47:\tlearn: 1587.2309389\ttotal: 826ms\tremaining: 4.33s\n",
      "48:\tlearn: 1585.1511393\ttotal: 842ms\tremaining: 4.31s\n",
      "49:\tlearn: 1582.6576157\ttotal: 858ms\tremaining: 4.29s\n",
      "50:\tlearn: 1579.4967302\ttotal: 874ms\tremaining: 4.26s\n",
      "51:\tlearn: 1577.8414614\ttotal: 889ms\tremaining: 4.24s\n",
      "52:\tlearn: 1576.0574855\ttotal: 905ms\tremaining: 4.22s\n",
      "53:\tlearn: 1574.4424235\ttotal: 922ms\tremaining: 4.2s\n",
      "54:\tlearn: 1571.3196392\ttotal: 938ms\tremaining: 4.18s\n",
      "55:\tlearn: 1567.8163634\ttotal: 953ms\tremaining: 4.15s\n",
      "56:\tlearn: 1565.2065825\ttotal: 968ms\tremaining: 4.13s\n",
      "57:\tlearn: 1563.5213833\ttotal: 983ms\tremaining: 4.1s\n",
      "58:\tlearn: 1561.6972560\ttotal: 998ms\tremaining: 4.08s\n",
      "59:\tlearn: 1559.3126446\ttotal: 1.01s\tremaining: 4.06s\n",
      "60:\tlearn: 1555.2514209\ttotal: 1.03s\tremaining: 4.04s\n",
      "61:\tlearn: 1552.7005503\ttotal: 1.04s\tremaining: 4.01s\n",
      "62:\tlearn: 1551.3313495\ttotal: 1.06s\tremaining: 3.99s\n",
      "63:\tlearn: 1550.4015727\ttotal: 1.07s\tremaining: 3.97s\n",
      "64:\tlearn: 1548.4373550\ttotal: 1.09s\tremaining: 3.94s\n",
      "65:\tlearn: 1544.6899569\ttotal: 1.11s\tremaining: 3.93s\n",
      "66:\tlearn: 1541.6646689\ttotal: 1.12s\tremaining: 3.91s\n",
      "67:\tlearn: 1540.6261460\ttotal: 1.14s\tremaining: 3.89s\n",
      "68:\tlearn: 1537.1886768\ttotal: 1.16s\tremaining: 3.87s\n",
      "69:\tlearn: 1534.8668699\ttotal: 1.17s\tremaining: 3.85s\n",
      "70:\tlearn: 1532.2976589\ttotal: 1.19s\tremaining: 3.83s\n",
      "71:\tlearn: 1530.4069299\ttotal: 1.2s\tremaining: 3.81s\n",
      "72:\tlearn: 1528.8846699\ttotal: 1.22s\tremaining: 3.79s\n",
      "73:\tlearn: 1527.1125931\ttotal: 1.23s\tremaining: 3.77s\n",
      "74:\tlearn: 1525.6020900\ttotal: 1.25s\tremaining: 3.75s\n",
      "75:\tlearn: 1523.6488657\ttotal: 1.26s\tremaining: 3.73s\n",
      "76:\tlearn: 1521.1495757\ttotal: 1.28s\tremaining: 3.71s\n",
      "77:\tlearn: 1517.4459348\ttotal: 1.3s\tremaining: 3.69s\n",
      "78:\tlearn: 1515.2553152\ttotal: 1.31s\tremaining: 3.68s\n",
      "79:\tlearn: 1513.3189243\ttotal: 1.33s\tremaining: 3.67s\n",
      "80:\tlearn: 1510.9990851\ttotal: 1.35s\tremaining: 3.65s\n",
      "81:\tlearn: 1509.3411291\ttotal: 1.37s\tremaining: 3.63s\n",
      "82:\tlearn: 1508.2241754\ttotal: 1.38s\tremaining: 3.61s\n",
      "83:\tlearn: 1506.7398714\ttotal: 1.4s\tremaining: 3.59s\n",
      "84:\tlearn: 1505.4506649\ttotal: 1.41s\tremaining: 3.57s\n",
      "85:\tlearn: 1502.9917919\ttotal: 1.43s\tremaining: 3.55s\n",
      "86:\tlearn: 1501.9674380\ttotal: 1.44s\tremaining: 3.53s\n",
      "87:\tlearn: 1499.8132689\ttotal: 1.46s\tremaining: 3.51s\n",
      "88:\tlearn: 1498.8024120\ttotal: 1.47s\tremaining: 3.49s\n",
      "89:\tlearn: 1497.2679171\ttotal: 1.49s\tremaining: 3.47s\n",
      "90:\tlearn: 1495.7850087\ttotal: 1.5s\tremaining: 3.46s\n",
      "91:\tlearn: 1495.2278085\ttotal: 1.52s\tremaining: 3.44s\n",
      "92:\tlearn: 1494.1239694\ttotal: 1.54s\tremaining: 3.42s\n",
      "93:\tlearn: 1492.5946870\ttotal: 1.55s\tremaining: 3.4s\n",
      "94:\tlearn: 1490.6235702\ttotal: 1.57s\tremaining: 3.39s\n",
      "95:\tlearn: 1487.1633405\ttotal: 1.58s\tremaining: 3.37s\n",
      "96:\tlearn: 1485.4744182\ttotal: 1.6s\tremaining: 3.35s\n",
      "97:\tlearn: 1483.9252051\ttotal: 1.62s\tremaining: 3.33s\n",
      "98:\tlearn: 1481.9314355\ttotal: 1.63s\tremaining: 3.31s\n",
      "99:\tlearn: 1480.9433714\ttotal: 1.65s\tremaining: 3.3s\n",
      "100:\tlearn: 1479.1420945\ttotal: 1.66s\tremaining: 3.28s\n",
      "101:\tlearn: 1477.2960214\ttotal: 1.68s\tremaining: 3.26s\n",
      "102:\tlearn: 1475.6643575\ttotal: 1.7s\tremaining: 3.24s\n",
      "103:\tlearn: 1474.6026410\ttotal: 1.71s\tremaining: 3.22s\n",
      "104:\tlearn: 1472.3162348\ttotal: 1.73s\tremaining: 3.21s\n",
      "105:\tlearn: 1470.8898102\ttotal: 1.75s\tremaining: 3.19s\n",
      "106:\tlearn: 1469.6208816\ttotal: 1.76s\tremaining: 3.18s\n",
      "107:\tlearn: 1465.7621868\ttotal: 1.78s\tremaining: 3.16s\n",
      "108:\tlearn: 1464.3924460\ttotal: 1.79s\tremaining: 3.14s\n",
      "109:\tlearn: 1462.6160366\ttotal: 1.81s\tremaining: 3.12s\n",
      "110:\tlearn: 1460.4529499\ttotal: 1.83s\tremaining: 3.11s\n",
      "111:\tlearn: 1458.9775202\ttotal: 1.84s\tremaining: 3.09s\n",
      "112:\tlearn: 1457.7557269\ttotal: 1.86s\tremaining: 3.08s\n",
      "113:\tlearn: 1456.6873888\ttotal: 1.87s\tremaining: 3.06s\n",
      "114:\tlearn: 1455.4383897\ttotal: 1.89s\tremaining: 3.04s\n",
      "115:\tlearn: 1454.4276143\ttotal: 1.9s\tremaining: 3.02s\n",
      "116:\tlearn: 1453.1578562\ttotal: 1.92s\tremaining: 3s\n",
      "117:\tlearn: 1451.8348738\ttotal: 1.94s\tremaining: 2.98s\n",
      "118:\tlearn: 1450.5252937\ttotal: 1.95s\tremaining: 2.97s\n",
      "119:\tlearn: 1449.6518978\ttotal: 1.97s\tremaining: 2.95s\n",
      "120:\tlearn: 1446.4089377\ttotal: 1.98s\tremaining: 2.93s\n",
      "121:\tlearn: 1444.7736458\ttotal: 2s\tremaining: 2.92s\n",
      "122:\tlearn: 1443.7713389\ttotal: 2.01s\tremaining: 2.9s\n",
      "123:\tlearn: 1442.1755098\ttotal: 2.03s\tremaining: 2.88s\n",
      "124:\tlearn: 1440.6414664\ttotal: 2.04s\tremaining: 2.86s\n",
      "125:\tlearn: 1439.0318600\ttotal: 2.06s\tremaining: 2.84s\n",
      "126:\tlearn: 1437.9567069\ttotal: 2.07s\tremaining: 2.83s\n",
      "127:\tlearn: 1436.8640736\ttotal: 2.09s\tremaining: 2.81s\n",
      "128:\tlearn: 1435.5915279\ttotal: 2.1s\tremaining: 2.79s\n",
      "129:\tlearn: 1433.8302974\ttotal: 2.12s\tremaining: 2.77s\n",
      "130:\tlearn: 1432.5215226\ttotal: 2.14s\tremaining: 2.75s\n",
      "131:\tlearn: 1431.0111298\ttotal: 2.16s\tremaining: 2.75s\n",
      "132:\tlearn: 1429.4523232\ttotal: 2.2s\tremaining: 2.76s\n",
      "133:\tlearn: 1428.0093869\ttotal: 2.21s\tremaining: 2.74s\n",
      "134:\tlearn: 1426.0386536\ttotal: 2.23s\tremaining: 2.73s\n",
      "135:\tlearn: 1424.5038327\ttotal: 2.25s\tremaining: 2.71s\n",
      "136:\tlearn: 1423.2199557\ttotal: 2.26s\tremaining: 2.69s\n",
      "137:\tlearn: 1421.5377055\ttotal: 2.28s\tremaining: 2.67s\n",
      "138:\tlearn: 1420.7558054\ttotal: 2.29s\tremaining: 2.65s\n",
      "139:\tlearn: 1419.0175174\ttotal: 2.31s\tremaining: 2.64s\n",
      "140:\tlearn: 1417.7973419\ttotal: 2.32s\tremaining: 2.62s\n",
      "141:\tlearn: 1416.4643859\ttotal: 2.34s\tremaining: 2.6s\n",
      "142:\tlearn: 1415.3202599\ttotal: 2.36s\tremaining: 2.59s\n",
      "143:\tlearn: 1414.7346056\ttotal: 2.37s\tremaining: 2.57s\n",
      "144:\tlearn: 1413.7426681\ttotal: 2.39s\tremaining: 2.55s\n",
      "145:\tlearn: 1412.1591407\ttotal: 2.4s\tremaining: 2.54s\n",
      "146:\tlearn: 1409.5215608\ttotal: 2.42s\tremaining: 2.52s\n",
      "147:\tlearn: 1406.7580531\ttotal: 2.44s\tremaining: 2.5s\n",
      "148:\tlearn: 1405.6132157\ttotal: 2.45s\tremaining: 2.48s\n",
      "149:\tlearn: 1404.0656406\ttotal: 2.47s\tremaining: 2.47s\n",
      "150:\tlearn: 1403.1631732\ttotal: 2.48s\tremaining: 2.45s\n",
      "151:\tlearn: 1402.2975900\ttotal: 2.5s\tremaining: 2.43s\n",
      "152:\tlearn: 1400.8540788\ttotal: 2.51s\tremaining: 2.41s\n",
      "153:\tlearn: 1399.3678586\ttotal: 2.53s\tremaining: 2.4s\n",
      "154:\tlearn: 1398.4894616\ttotal: 2.54s\tremaining: 2.38s\n",
      "155:\tlearn: 1397.5653900\ttotal: 2.56s\tremaining: 2.36s\n",
      "156:\tlearn: 1396.9428040\ttotal: 2.58s\tremaining: 2.35s\n",
      "157:\tlearn: 1395.3017059\ttotal: 2.59s\tremaining: 2.33s\n",
      "158:\tlearn: 1393.5341427\ttotal: 2.61s\tremaining: 2.31s\n",
      "159:\tlearn: 1392.3890303\ttotal: 2.62s\tremaining: 2.29s\n",
      "160:\tlearn: 1390.7328539\ttotal: 2.64s\tremaining: 2.28s\n",
      "161:\tlearn: 1389.7863296\ttotal: 2.65s\tremaining: 2.26s\n",
      "162:\tlearn: 1388.6899923\ttotal: 2.67s\tremaining: 2.24s\n",
      "163:\tlearn: 1387.8793379\ttotal: 2.68s\tremaining: 2.23s\n",
      "164:\tlearn: 1387.0911666\ttotal: 2.7s\tremaining: 2.21s\n",
      "165:\tlearn: 1386.3597459\ttotal: 2.71s\tremaining: 2.19s\n",
      "166:\tlearn: 1385.1438500\ttotal: 2.73s\tremaining: 2.17s\n",
      "167:\tlearn: 1383.6821154\ttotal: 2.75s\tremaining: 2.16s\n",
      "168:\tlearn: 1382.7775811\ttotal: 2.77s\tremaining: 2.15s\n",
      "169:\tlearn: 1381.7081037\ttotal: 2.79s\tremaining: 2.13s\n",
      "170:\tlearn: 1380.9020844\ttotal: 2.8s\tremaining: 2.11s\n",
      "171:\tlearn: 1380.0673264\ttotal: 2.82s\tremaining: 2.1s\n",
      "172:\tlearn: 1379.1944386\ttotal: 2.83s\tremaining: 2.08s\n",
      "173:\tlearn: 1378.0202186\ttotal: 2.85s\tremaining: 2.06s\n",
      "174:\tlearn: 1376.7961933\ttotal: 2.86s\tremaining: 2.04s\n",
      "175:\tlearn: 1376.3360217\ttotal: 2.88s\tremaining: 2.03s\n",
      "176:\tlearn: 1375.4169806\ttotal: 2.89s\tremaining: 2.01s\n",
      "177:\tlearn: 1374.3043013\ttotal: 2.91s\tremaining: 1.99s\n",
      "178:\tlearn: 1373.5499825\ttotal: 2.92s\tremaining: 1.98s\n",
      "179:\tlearn: 1372.6221119\ttotal: 2.94s\tremaining: 1.96s\n",
      "180:\tlearn: 1371.8664612\ttotal: 2.95s\tremaining: 1.94s\n",
      "181:\tlearn: 1370.3225751\ttotal: 2.97s\tremaining: 1.93s\n",
      "182:\tlearn: 1369.0525579\ttotal: 2.99s\tremaining: 1.91s\n",
      "183:\tlearn: 1367.8928632\ttotal: 3s\tremaining: 1.89s\n",
      "184:\tlearn: 1366.8951148\ttotal: 3.02s\tremaining: 1.88s\n",
      "185:\tlearn: 1366.4246907\ttotal: 3.03s\tremaining: 1.86s\n",
      "186:\tlearn: 1365.1680454\ttotal: 3.05s\tremaining: 1.84s\n",
      "187:\tlearn: 1363.9690937\ttotal: 3.06s\tremaining: 1.83s\n",
      "188:\tlearn: 1362.9034267\ttotal: 3.08s\tremaining: 1.81s\n",
      "189:\tlearn: 1362.2390272\ttotal: 3.1s\tremaining: 1.79s\n",
      "190:\tlearn: 1361.7361497\ttotal: 3.11s\tremaining: 1.77s\n",
      "191:\tlearn: 1360.4148051\ttotal: 3.13s\tremaining: 1.76s\n",
      "192:\tlearn: 1360.0458043\ttotal: 3.14s\tremaining: 1.74s\n",
      "193:\tlearn: 1359.3274175\ttotal: 3.16s\tremaining: 1.73s\n",
      "194:\tlearn: 1357.9670946\ttotal: 3.17s\tremaining: 1.71s\n",
      "195:\tlearn: 1357.2818668\ttotal: 3.19s\tremaining: 1.69s\n",
      "196:\tlearn: 1356.1626254\ttotal: 3.21s\tremaining: 1.68s\n",
      "197:\tlearn: 1355.3701699\ttotal: 3.22s\tremaining: 1.66s\n",
      "198:\tlearn: 1354.4591803\ttotal: 3.24s\tremaining: 1.64s\n",
      "199:\tlearn: 1353.4576081\ttotal: 3.25s\tremaining: 1.63s\n",
      "200:\tlearn: 1352.3620449\ttotal: 3.27s\tremaining: 1.61s\n",
      "201:\tlearn: 1351.1132244\ttotal: 3.28s\tremaining: 1.59s\n",
      "202:\tlearn: 1350.1848280\ttotal: 3.3s\tremaining: 1.58s\n",
      "203:\tlearn: 1349.6636989\ttotal: 3.31s\tremaining: 1.56s\n",
      "204:\tlearn: 1348.7405486\ttotal: 3.33s\tremaining: 1.54s\n",
      "205:\tlearn: 1348.2120684\ttotal: 3.35s\tremaining: 1.53s\n",
      "206:\tlearn: 1347.0283167\ttotal: 3.36s\tremaining: 1.51s\n",
      "207:\tlearn: 1346.2722302\ttotal: 3.38s\tremaining: 1.5s\n",
      "208:\tlearn: 1345.2667722\ttotal: 3.4s\tremaining: 1.48s\n",
      "209:\tlearn: 1344.4880816\ttotal: 3.41s\tremaining: 1.46s\n",
      "210:\tlearn: 1343.3914373\ttotal: 3.43s\tremaining: 1.45s\n",
      "211:\tlearn: 1341.8452915\ttotal: 3.44s\tremaining: 1.43s\n",
      "212:\tlearn: 1341.1046010\ttotal: 3.46s\tremaining: 1.41s\n",
      "213:\tlearn: 1339.6443936\ttotal: 3.48s\tremaining: 1.4s\n",
      "214:\tlearn: 1339.0766736\ttotal: 3.49s\tremaining: 1.38s\n",
      "215:\tlearn: 1338.3482640\ttotal: 3.5s\tremaining: 1.36s\n",
      "216:\tlearn: 1337.5820489\ttotal: 3.52s\tremaining: 1.35s\n",
      "217:\tlearn: 1336.9219073\ttotal: 3.54s\tremaining: 1.33s\n",
      "218:\tlearn: 1336.0683491\ttotal: 3.55s\tremaining: 1.31s\n",
      "219:\tlearn: 1335.5063328\ttotal: 3.57s\tremaining: 1.3s\n",
      "220:\tlearn: 1334.0979145\ttotal: 3.59s\tremaining: 1.28s\n",
      "221:\tlearn: 1332.9069670\ttotal: 3.6s\tremaining: 1.26s\n",
      "222:\tlearn: 1331.9519683\ttotal: 3.62s\tremaining: 1.25s\n",
      "223:\tlearn: 1331.1862701\ttotal: 3.63s\tremaining: 1.23s\n",
      "224:\tlearn: 1330.6578404\ttotal: 3.65s\tremaining: 1.22s\n",
      "225:\tlearn: 1329.9680995\ttotal: 3.66s\tremaining: 1.2s\n",
      "226:\tlearn: 1328.7807003\ttotal: 3.68s\tremaining: 1.18s\n",
      "227:\tlearn: 1328.5649959\ttotal: 3.69s\tremaining: 1.17s\n",
      "228:\tlearn: 1327.8756756\ttotal: 3.71s\tremaining: 1.15s\n",
      "229:\tlearn: 1327.3253547\ttotal: 3.73s\tremaining: 1.13s\n",
      "230:\tlearn: 1326.9898672\ttotal: 3.74s\tremaining: 1.12s\n",
      "231:\tlearn: 1326.1514695\ttotal: 3.75s\tremaining: 1.1s\n",
      "232:\tlearn: 1325.5512560\ttotal: 3.77s\tremaining: 1.08s\n",
      "233:\tlearn: 1324.4337015\ttotal: 3.79s\tremaining: 1.07s\n",
      "234:\tlearn: 1323.5404373\ttotal: 3.81s\tremaining: 1.05s\n",
      "235:\tlearn: 1322.6191400\ttotal: 3.82s\tremaining: 1.04s\n",
      "236:\tlearn: 1320.9047318\ttotal: 3.84s\tremaining: 1.02s\n",
      "237:\tlearn: 1319.6315814\ttotal: 3.85s\tremaining: 1s\n",
      "238:\tlearn: 1318.8447305\ttotal: 3.87s\tremaining: 988ms\n",
      "239:\tlearn: 1318.1489299\ttotal: 3.89s\tremaining: 972ms\n",
      "240:\tlearn: 1317.1273146\ttotal: 3.9s\tremaining: 955ms\n",
      "241:\tlearn: 1316.0639817\ttotal: 3.92s\tremaining: 939ms\n",
      "242:\tlearn: 1314.9414920\ttotal: 3.93s\tremaining: 922ms\n",
      "243:\tlearn: 1314.6330313\ttotal: 3.95s\tremaining: 906ms\n",
      "244:\tlearn: 1312.9594811\ttotal: 3.96s\tremaining: 890ms\n",
      "245:\tlearn: 1311.7271271\ttotal: 3.98s\tremaining: 874ms\n",
      "246:\tlearn: 1311.1401079\ttotal: 4s\tremaining: 858ms\n",
      "247:\tlearn: 1310.1149649\ttotal: 4.01s\tremaining: 842ms\n",
      "248:\tlearn: 1309.6742753\ttotal: 4.03s\tremaining: 825ms\n",
      "249:\tlearn: 1308.7472776\ttotal: 4.04s\tremaining: 809ms\n",
      "250:\tlearn: 1308.4667649\ttotal: 4.06s\tremaining: 792ms\n",
      "251:\tlearn: 1307.7717028\ttotal: 4.07s\tremaining: 776ms\n",
      "252:\tlearn: 1307.1007977\ttotal: 4.09s\tremaining: 760ms\n",
      "253:\tlearn: 1306.0610087\ttotal: 4.1s\tremaining: 743ms\n",
      "254:\tlearn: 1305.3639609\ttotal: 4.12s\tremaining: 727ms\n",
      "255:\tlearn: 1304.3432931\ttotal: 4.13s\tremaining: 711ms\n",
      "256:\tlearn: 1303.3172050\ttotal: 4.15s\tremaining: 694ms\n",
      "257:\tlearn: 1302.9499999\ttotal: 4.17s\tremaining: 678ms\n",
      "258:\tlearn: 1302.1870525\ttotal: 4.18s\tremaining: 662ms\n",
      "259:\tlearn: 1301.8697536\ttotal: 4.2s\tremaining: 646ms\n",
      "260:\tlearn: 1300.6843738\ttotal: 4.22s\tremaining: 630ms\n",
      "261:\tlearn: 1299.7777068\ttotal: 4.23s\tremaining: 614ms\n",
      "262:\tlearn: 1299.0072715\ttotal: 4.25s\tremaining: 598ms\n",
      "263:\tlearn: 1298.0318266\ttotal: 4.26s\tremaining: 581ms\n",
      "264:\tlearn: 1297.6912842\ttotal: 4.28s\tremaining: 565ms\n",
      "265:\tlearn: 1296.8069972\ttotal: 4.29s\tremaining: 549ms\n",
      "266:\tlearn: 1295.5072948\ttotal: 4.31s\tremaining: 533ms\n",
      "267:\tlearn: 1294.7410506\ttotal: 4.33s\tremaining: 517ms\n",
      "268:\tlearn: 1293.2111773\ttotal: 4.34s\tremaining: 500ms\n",
      "269:\tlearn: 1292.5593657\ttotal: 4.36s\tremaining: 484ms\n",
      "270:\tlearn: 1290.8589994\ttotal: 4.37s\tremaining: 468ms\n",
      "271:\tlearn: 1290.1207275\ttotal: 4.39s\tremaining: 452ms\n",
      "272:\tlearn: 1288.8890336\ttotal: 4.41s\tremaining: 436ms\n",
      "273:\tlearn: 1288.1827908\ttotal: 4.42s\tremaining: 420ms\n",
      "274:\tlearn: 1287.5422395\ttotal: 4.44s\tremaining: 404ms\n",
      "275:\tlearn: 1287.1054760\ttotal: 4.45s\tremaining: 387ms\n",
      "276:\tlearn: 1286.0003985\ttotal: 4.47s\tremaining: 371ms\n",
      "277:\tlearn: 1285.2827474\ttotal: 4.48s\tremaining: 355ms\n",
      "278:\tlearn: 1284.6337429\ttotal: 4.5s\tremaining: 339ms\n",
      "279:\tlearn: 1284.0676347\ttotal: 4.51s\tremaining: 323ms\n",
      "280:\tlearn: 1283.4640545\ttotal: 4.53s\tremaining: 306ms\n",
      "281:\tlearn: 1282.8587945\ttotal: 4.55s\tremaining: 290ms\n",
      "282:\tlearn: 1281.9236044\ttotal: 4.56s\tremaining: 274ms\n",
      "283:\tlearn: 1281.3000017\ttotal: 4.58s\tremaining: 258ms\n",
      "284:\tlearn: 1280.5692493\ttotal: 4.59s\tremaining: 242ms\n",
      "285:\tlearn: 1279.6657677\ttotal: 4.61s\tremaining: 226ms\n",
      "286:\tlearn: 1279.1848169\ttotal: 4.63s\tremaining: 210ms\n",
      "287:\tlearn: 1277.7402743\ttotal: 4.64s\tremaining: 194ms\n",
      "288:\tlearn: 1277.1912805\ttotal: 4.66s\tremaining: 177ms\n",
      "289:\tlearn: 1276.1716065\ttotal: 4.67s\tremaining: 161ms\n",
      "290:\tlearn: 1275.6942925\ttotal: 4.69s\tremaining: 145ms\n",
      "291:\tlearn: 1275.0995644\ttotal: 4.71s\tremaining: 129ms\n",
      "292:\tlearn: 1274.5596171\ttotal: 4.72s\tremaining: 113ms\n",
      "293:\tlearn: 1273.6472036\ttotal: 4.74s\tremaining: 96.7ms\n",
      "294:\tlearn: 1273.3068366\ttotal: 4.75s\tremaining: 80.5ms\n",
      "295:\tlearn: 1272.6745641\ttotal: 4.77s\tremaining: 64.4ms\n",
      "296:\tlearn: 1272.3371204\ttotal: 4.78s\tremaining: 48.3ms\n",
      "297:\tlearn: 1271.2344606\ttotal: 4.8s\tremaining: 32.2ms\n",
      "298:\tlearn: 1270.5174047\ttotal: 4.82s\tremaining: 16.1ms\n",
      "299:\tlearn: 1269.9465537\ttotal: 4.83s\tremaining: 0us\n",
      "0:\tlearn: 3643.2279170\ttotal: 18.4ms\tremaining: 5.51s\n",
      "1:\tlearn: 2986.2566060\ttotal: 37.1ms\tremaining: 5.53s\n",
      "2:\tlearn: 2555.6057967\ttotal: 55.9ms\tremaining: 5.53s\n",
      "3:\tlearn: 2295.4527021\ttotal: 75ms\tremaining: 5.55s\n",
      "4:\tlearn: 2114.0220497\ttotal: 92.4ms\tremaining: 5.45s\n",
      "5:\tlearn: 2007.5314936\ttotal: 110ms\tremaining: 5.38s\n",
      "6:\tlearn: 1931.3105403\ttotal: 127ms\tremaining: 5.3s\n",
      "7:\tlearn: 1880.7348585\ttotal: 143ms\tremaining: 5.22s\n",
      "8:\tlearn: 1848.7924003\ttotal: 159ms\tremaining: 5.15s\n",
      "9:\tlearn: 1823.1679329\ttotal: 177ms\tremaining: 5.14s\n",
      "10:\tlearn: 1796.0353462\ttotal: 194ms\tremaining: 5.1s\n",
      "11:\tlearn: 1777.2565358\ttotal: 213ms\tremaining: 5.1s\n",
      "12:\tlearn: 1766.0153239\ttotal: 233ms\tremaining: 5.14s\n",
      "13:\tlearn: 1752.8625386\ttotal: 255ms\tremaining: 5.2s\n",
      "14:\tlearn: 1744.9802209\ttotal: 272ms\tremaining: 5.16s\n",
      "15:\tlearn: 1730.6377756\ttotal: 288ms\tremaining: 5.12s\n",
      "16:\tlearn: 1721.7503348\ttotal: 305ms\tremaining: 5.08s\n",
      "17:\tlearn: 1716.6877042\ttotal: 322ms\tremaining: 5.04s\n",
      "18:\tlearn: 1708.0790790\ttotal: 339ms\tremaining: 5.01s\n",
      "19:\tlearn: 1702.3697358\ttotal: 355ms\tremaining: 4.98s\n",
      "20:\tlearn: 1696.5830122\ttotal: 373ms\tremaining: 4.95s\n",
      "21:\tlearn: 1691.0706324\ttotal: 390ms\tremaining: 4.92s\n",
      "22:\tlearn: 1688.1234081\ttotal: 406ms\tremaining: 4.89s\n",
      "23:\tlearn: 1681.3508086\ttotal: 422ms\tremaining: 4.85s\n",
      "24:\tlearn: 1671.8613016\ttotal: 438ms\tremaining: 4.82s\n",
      "25:\tlearn: 1669.1295397\ttotal: 456ms\tremaining: 4.8s\n",
      "26:\tlearn: 1665.1151564\ttotal: 473ms\tremaining: 4.78s\n",
      "27:\tlearn: 1662.0012078\ttotal: 488ms\tremaining: 4.74s\n",
      "28:\tlearn: 1658.4904040\ttotal: 504ms\tremaining: 4.71s\n",
      "29:\tlearn: 1654.9977885\ttotal: 519ms\tremaining: 4.67s\n",
      "30:\tlearn: 1650.8610293\ttotal: 534ms\tremaining: 4.64s\n",
      "31:\tlearn: 1646.6977128\ttotal: 558ms\tremaining: 4.67s\n",
      "32:\tlearn: 1644.0659971\ttotal: 581ms\tremaining: 4.7s\n",
      "33:\tlearn: 1637.9942181\ttotal: 608ms\tremaining: 4.76s\n",
      "34:\tlearn: 1635.3074675\ttotal: 629ms\tremaining: 4.76s\n",
      "35:\tlearn: 1631.0339951\ttotal: 647ms\tremaining: 4.74s\n",
      "36:\tlearn: 1626.9389809\ttotal: 671ms\tremaining: 4.77s\n",
      "37:\tlearn: 1623.3776670\ttotal: 691ms\tremaining: 4.76s\n",
      "38:\tlearn: 1619.7272808\ttotal: 709ms\tremaining: 4.75s\n",
      "39:\tlearn: 1615.3005493\ttotal: 728ms\tremaining: 4.73s\n",
      "40:\tlearn: 1610.8327158\ttotal: 747ms\tremaining: 4.72s\n",
      "41:\tlearn: 1608.9053146\ttotal: 764ms\tremaining: 4.7s\n",
      "42:\tlearn: 1604.7800625\ttotal: 785ms\tremaining: 4.69s\n",
      "43:\tlearn: 1602.8789581\ttotal: 803ms\tremaining: 4.67s\n",
      "44:\tlearn: 1601.0434575\ttotal: 823ms\tremaining: 4.67s\n",
      "45:\tlearn: 1598.1066701\ttotal: 845ms\tremaining: 4.67s\n",
      "46:\tlearn: 1594.6710093\ttotal: 882ms\tremaining: 4.75s\n",
      "47:\tlearn: 1590.2181767\ttotal: 904ms\tremaining: 4.74s\n",
      "48:\tlearn: 1586.4609626\ttotal: 926ms\tremaining: 4.74s\n",
      "49:\tlearn: 1585.1714670\ttotal: 947ms\tremaining: 4.73s\n",
      "50:\tlearn: 1582.1472262\ttotal: 969ms\tremaining: 4.73s\n",
      "51:\tlearn: 1578.3175607\ttotal: 991ms\tremaining: 4.73s\n",
      "52:\tlearn: 1575.1623661\ttotal: 1.01s\tremaining: 4.71s\n",
      "53:\tlearn: 1572.5084549\ttotal: 1.03s\tremaining: 4.7s\n",
      "54:\tlearn: 1569.7497714\ttotal: 1.05s\tremaining: 4.68s\n",
      "55:\tlearn: 1567.3352829\ttotal: 1.07s\tremaining: 4.66s\n",
      "56:\tlearn: 1563.3152609\ttotal: 1.09s\tremaining: 4.67s\n",
      "57:\tlearn: 1561.3681019\ttotal: 1.12s\tremaining: 4.68s\n",
      "58:\tlearn: 1560.1067443\ttotal: 1.14s\tremaining: 4.67s\n",
      "59:\tlearn: 1558.7546582\ttotal: 1.16s\tremaining: 4.66s\n",
      "60:\tlearn: 1557.1431159\ttotal: 1.18s\tremaining: 4.63s\n",
      "61:\tlearn: 1552.8190858\ttotal: 1.2s\tremaining: 4.62s\n",
      "62:\tlearn: 1550.3145137\ttotal: 1.22s\tremaining: 4.6s\n",
      "63:\tlearn: 1547.9004439\ttotal: 1.24s\tremaining: 4.58s\n",
      "64:\tlearn: 1546.1079270\ttotal: 1.26s\tremaining: 4.57s\n",
      "65:\tlearn: 1544.3758655\ttotal: 1.28s\tremaining: 4.55s\n",
      "66:\tlearn: 1542.7604102\ttotal: 1.31s\tremaining: 4.54s\n",
      "67:\tlearn: 1539.7301126\ttotal: 1.33s\tremaining: 4.54s\n",
      "68:\tlearn: 1537.7264951\ttotal: 1.35s\tremaining: 4.52s\n",
      "69:\tlearn: 1534.7544245\ttotal: 1.37s\tremaining: 4.5s\n",
      "70:\tlearn: 1532.2473133\ttotal: 1.39s\tremaining: 4.49s\n",
      "71:\tlearn: 1530.3755388\ttotal: 1.41s\tremaining: 4.47s\n",
      "72:\tlearn: 1528.0411955\ttotal: 1.43s\tremaining: 4.45s\n",
      "73:\tlearn: 1526.3605720\ttotal: 1.45s\tremaining: 4.42s\n",
      "74:\tlearn: 1525.0699910\ttotal: 1.47s\tremaining: 4.4s\n",
      "75:\tlearn: 1522.8162923\ttotal: 1.48s\tremaining: 4.37s\n",
      "76:\tlearn: 1519.7071010\ttotal: 1.5s\tremaining: 4.35s\n",
      "77:\tlearn: 1517.1887711\ttotal: 1.53s\tremaining: 4.35s\n",
      "78:\tlearn: 1513.7105928\ttotal: 1.55s\tremaining: 4.34s\n",
      "79:\tlearn: 1511.2306106\ttotal: 1.57s\tremaining: 4.31s\n",
      "80:\tlearn: 1509.5190840\ttotal: 1.58s\tremaining: 4.29s\n",
      "81:\tlearn: 1508.3093709\ttotal: 1.6s\tremaining: 4.26s\n",
      "82:\tlearn: 1506.9387203\ttotal: 1.62s\tremaining: 4.24s\n",
      "83:\tlearn: 1504.9240317\ttotal: 1.64s\tremaining: 4.22s\n",
      "84:\tlearn: 1503.0054866\ttotal: 1.66s\tremaining: 4.2s\n",
      "85:\tlearn: 1501.0424258\ttotal: 1.68s\tremaining: 4.18s\n",
      "86:\tlearn: 1499.4275852\ttotal: 1.7s\tremaining: 4.16s\n",
      "87:\tlearn: 1497.5123047\ttotal: 1.72s\tremaining: 4.14s\n",
      "88:\tlearn: 1496.5263200\ttotal: 1.74s\tremaining: 4.13s\n",
      "89:\tlearn: 1494.6855994\ttotal: 1.77s\tremaining: 4.12s\n",
      "90:\tlearn: 1493.4677359\ttotal: 1.79s\tremaining: 4.1s\n",
      "91:\tlearn: 1492.6630573\ttotal: 1.8s\tremaining: 4.08s\n",
      "92:\tlearn: 1490.9882573\ttotal: 1.82s\tremaining: 4.06s\n",
      "93:\tlearn: 1489.4488297\ttotal: 1.84s\tremaining: 4.04s\n",
      "94:\tlearn: 1488.0442695\ttotal: 1.86s\tremaining: 4.02s\n",
      "95:\tlearn: 1484.8133339\ttotal: 1.88s\tremaining: 4s\n",
      "96:\tlearn: 1483.1603489\ttotal: 1.9s\tremaining: 3.98s\n",
      "97:\tlearn: 1481.4756121\ttotal: 1.92s\tremaining: 3.95s\n",
      "98:\tlearn: 1478.8881837\ttotal: 1.94s\tremaining: 3.93s\n",
      "99:\tlearn: 1476.5809793\ttotal: 1.96s\tremaining: 3.91s\n",
      "100:\tlearn: 1475.2973438\ttotal: 1.98s\tremaining: 3.9s\n",
      "101:\tlearn: 1472.8024905\ttotal: 2s\tremaining: 3.88s\n",
      "102:\tlearn: 1470.7753701\ttotal: 2.02s\tremaining: 3.85s\n",
      "103:\tlearn: 1469.2867552\ttotal: 2.04s\tremaining: 3.84s\n",
      "104:\tlearn: 1467.8346423\ttotal: 2.06s\tremaining: 3.82s\n",
      "105:\tlearn: 1465.8336101\ttotal: 2.07s\tremaining: 3.8s\n",
      "106:\tlearn: 1464.1272948\ttotal: 2.09s\tremaining: 3.77s\n",
      "107:\tlearn: 1462.3790182\ttotal: 2.11s\tremaining: 3.75s\n",
      "108:\tlearn: 1461.6301536\ttotal: 2.12s\tremaining: 3.72s\n",
      "109:\tlearn: 1460.5035257\ttotal: 2.14s\tremaining: 3.7s\n",
      "110:\tlearn: 1458.9867383\ttotal: 2.16s\tremaining: 3.68s\n",
      "111:\tlearn: 1457.5667466\ttotal: 2.19s\tremaining: 3.67s\n",
      "112:\tlearn: 1455.6747757\ttotal: 2.21s\tremaining: 3.65s\n",
      "113:\tlearn: 1453.0764033\ttotal: 2.22s\tremaining: 3.63s\n",
      "114:\tlearn: 1451.8577298\ttotal: 2.24s\tremaining: 3.6s\n",
      "115:\tlearn: 1450.1157818\ttotal: 2.26s\tremaining: 3.58s\n",
      "116:\tlearn: 1447.9155598\ttotal: 2.27s\tremaining: 3.56s\n",
      "117:\tlearn: 1445.9841226\ttotal: 2.29s\tremaining: 3.53s\n",
      "118:\tlearn: 1444.5745655\ttotal: 2.31s\tremaining: 3.51s\n",
      "119:\tlearn: 1443.2443197\ttotal: 2.32s\tremaining: 3.48s\n",
      "120:\tlearn: 1441.7345214\ttotal: 2.34s\tremaining: 3.46s\n",
      "121:\tlearn: 1440.6598208\ttotal: 2.36s\tremaining: 3.44s\n",
      "122:\tlearn: 1439.4326724\ttotal: 2.37s\tremaining: 3.42s\n",
      "123:\tlearn: 1438.3668862\ttotal: 2.39s\tremaining: 3.4s\n",
      "124:\tlearn: 1436.9916137\ttotal: 2.41s\tremaining: 3.37s\n",
      "125:\tlearn: 1435.9080223\ttotal: 2.43s\tremaining: 3.35s\n",
      "126:\tlearn: 1434.4073757\ttotal: 2.44s\tremaining: 3.33s\n",
      "127:\tlearn: 1431.3454228\ttotal: 2.46s\tremaining: 3.3s\n",
      "128:\tlearn: 1430.7790622\ttotal: 2.47s\tremaining: 3.28s\n",
      "129:\tlearn: 1428.5615167\ttotal: 2.49s\tremaining: 3.26s\n",
      "130:\tlearn: 1427.4227827\ttotal: 2.51s\tremaining: 3.23s\n",
      "131:\tlearn: 1426.5227028\ttotal: 2.52s\tremaining: 3.21s\n",
      "132:\tlearn: 1424.8184542\ttotal: 2.54s\tremaining: 3.19s\n",
      "133:\tlearn: 1424.2986110\ttotal: 2.56s\tremaining: 3.17s\n",
      "134:\tlearn: 1421.8789637\ttotal: 2.57s\tremaining: 3.14s\n",
      "135:\tlearn: 1419.8011556\ttotal: 2.59s\tremaining: 3.12s\n",
      "136:\tlearn: 1418.8678059\ttotal: 2.61s\tremaining: 3.11s\n",
      "137:\tlearn: 1417.4472324\ttotal: 2.63s\tremaining: 3.09s\n",
      "138:\tlearn: 1416.1652393\ttotal: 2.65s\tremaining: 3.07s\n",
      "139:\tlearn: 1414.5234602\ttotal: 2.66s\tremaining: 3.04s\n",
      "140:\tlearn: 1413.3294644\ttotal: 2.68s\tremaining: 3.02s\n",
      "141:\tlearn: 1411.8418271\ttotal: 2.69s\tremaining: 3s\n",
      "142:\tlearn: 1410.7915533\ttotal: 2.71s\tremaining: 2.98s\n",
      "143:\tlearn: 1410.0707330\ttotal: 2.73s\tremaining: 2.95s\n",
      "144:\tlearn: 1408.3915891\ttotal: 2.74s\tremaining: 2.93s\n",
      "145:\tlearn: 1407.6589799\ttotal: 2.76s\tremaining: 2.91s\n",
      "146:\tlearn: 1406.7270791\ttotal: 2.77s\tremaining: 2.89s\n",
      "147:\tlearn: 1405.6706621\ttotal: 2.79s\tremaining: 2.87s\n",
      "148:\tlearn: 1404.4512505\ttotal: 2.81s\tremaining: 2.85s\n",
      "149:\tlearn: 1403.1574998\ttotal: 2.83s\tremaining: 2.83s\n",
      "150:\tlearn: 1401.9874960\ttotal: 2.85s\tremaining: 2.81s\n",
      "151:\tlearn: 1400.3785056\ttotal: 2.87s\tremaining: 2.79s\n",
      "152:\tlearn: 1398.3363936\ttotal: 2.89s\tremaining: 2.77s\n",
      "153:\tlearn: 1397.2711042\ttotal: 2.9s\tremaining: 2.75s\n",
      "154:\tlearn: 1395.8146324\ttotal: 2.92s\tremaining: 2.73s\n",
      "155:\tlearn: 1393.8755357\ttotal: 2.94s\tremaining: 2.71s\n",
      "156:\tlearn: 1392.7332369\ttotal: 2.95s\tremaining: 2.69s\n",
      "157:\tlearn: 1391.5562778\ttotal: 2.97s\tremaining: 2.67s\n",
      "158:\tlearn: 1389.9248878\ttotal: 2.99s\tremaining: 2.65s\n",
      "159:\tlearn: 1389.0682746\ttotal: 3s\tremaining: 2.63s\n",
      "160:\tlearn: 1387.6757504\ttotal: 3.02s\tremaining: 2.61s\n",
      "161:\tlearn: 1386.6197182\ttotal: 3.04s\tremaining: 2.59s\n",
      "162:\tlearn: 1385.5167758\ttotal: 3.06s\tremaining: 2.57s\n",
      "163:\tlearn: 1384.0952553\ttotal: 3.07s\tremaining: 2.55s\n",
      "164:\tlearn: 1383.0572809\ttotal: 3.09s\tremaining: 2.53s\n",
      "165:\tlearn: 1382.1284205\ttotal: 3.1s\tremaining: 2.5s\n",
      "166:\tlearn: 1380.5948768\ttotal: 3.12s\tremaining: 2.48s\n",
      "167:\tlearn: 1378.8806487\ttotal: 3.13s\tremaining: 2.46s\n",
      "168:\tlearn: 1378.1291183\ttotal: 3.15s\tremaining: 2.44s\n",
      "169:\tlearn: 1376.9289658\ttotal: 3.17s\tremaining: 2.42s\n",
      "170:\tlearn: 1376.0594922\ttotal: 3.18s\tremaining: 2.4s\n",
      "171:\tlearn: 1374.3909093\ttotal: 3.2s\tremaining: 2.38s\n",
      "172:\tlearn: 1373.7825889\ttotal: 3.21s\tremaining: 2.36s\n",
      "173:\tlearn: 1373.1272992\ttotal: 3.23s\tremaining: 2.34s\n",
      "174:\tlearn: 1371.7081023\ttotal: 3.25s\tremaining: 2.32s\n",
      "175:\tlearn: 1370.0097826\ttotal: 3.27s\tremaining: 2.31s\n",
      "176:\tlearn: 1368.9916939\ttotal: 3.3s\tremaining: 2.29s\n",
      "177:\tlearn: 1366.8174308\ttotal: 3.32s\tremaining: 2.27s\n",
      "178:\tlearn: 1366.0133415\ttotal: 3.34s\tremaining: 2.26s\n",
      "179:\tlearn: 1365.2952793\ttotal: 3.36s\tremaining: 2.24s\n",
      "180:\tlearn: 1364.6213566\ttotal: 3.38s\tremaining: 2.22s\n",
      "181:\tlearn: 1363.8100919\ttotal: 3.4s\tremaining: 2.2s\n",
      "182:\tlearn: 1362.9596132\ttotal: 3.42s\tremaining: 2.18s\n",
      "183:\tlearn: 1361.9469252\ttotal: 3.44s\tremaining: 2.17s\n",
      "184:\tlearn: 1360.3521888\ttotal: 3.46s\tremaining: 2.15s\n",
      "185:\tlearn: 1359.5475899\ttotal: 3.49s\tremaining: 2.14s\n",
      "186:\tlearn: 1357.8805288\ttotal: 3.51s\tremaining: 2.12s\n",
      "187:\tlearn: 1357.2103963\ttotal: 3.53s\tremaining: 2.1s\n",
      "188:\tlearn: 1356.4378834\ttotal: 3.55s\tremaining: 2.09s\n",
      "189:\tlearn: 1355.8167238\ttotal: 3.58s\tremaining: 2.07s\n",
      "190:\tlearn: 1355.4336418\ttotal: 3.6s\tremaining: 2.05s\n",
      "191:\tlearn: 1354.4438817\ttotal: 3.62s\tremaining: 2.03s\n",
      "192:\tlearn: 1353.4219901\ttotal: 3.63s\tremaining: 2.01s\n",
      "193:\tlearn: 1351.5735968\ttotal: 3.66s\tremaining: 2s\n",
      "194:\tlearn: 1350.8826559\ttotal: 3.68s\tremaining: 1.98s\n",
      "195:\tlearn: 1350.0409879\ttotal: 3.7s\tremaining: 1.96s\n",
      "196:\tlearn: 1349.3204524\ttotal: 3.72s\tremaining: 1.94s\n",
      "197:\tlearn: 1348.4085413\ttotal: 3.74s\tremaining: 1.93s\n",
      "198:\tlearn: 1347.7561048\ttotal: 3.76s\tremaining: 1.91s\n",
      "199:\tlearn: 1346.8423263\ttotal: 3.77s\tremaining: 1.89s\n",
      "200:\tlearn: 1345.5113593\ttotal: 3.79s\tremaining: 1.87s\n",
      "201:\tlearn: 1344.7460599\ttotal: 3.81s\tremaining: 1.85s\n",
      "202:\tlearn: 1343.8941411\ttotal: 3.83s\tremaining: 1.83s\n",
      "203:\tlearn: 1342.7268596\ttotal: 3.85s\tremaining: 1.81s\n",
      "204:\tlearn: 1341.1976796\ttotal: 3.87s\tremaining: 1.79s\n",
      "205:\tlearn: 1339.8818992\ttotal: 3.9s\tremaining: 1.78s\n",
      "206:\tlearn: 1338.6982096\ttotal: 3.91s\tremaining: 1.76s\n",
      "207:\tlearn: 1337.5005180\ttotal: 3.93s\tremaining: 1.74s\n",
      "208:\tlearn: 1336.5150948\ttotal: 3.95s\tremaining: 1.72s\n",
      "209:\tlearn: 1335.9953019\ttotal: 3.97s\tremaining: 1.7s\n",
      "210:\tlearn: 1335.1038278\ttotal: 3.99s\tremaining: 1.68s\n",
      "211:\tlearn: 1334.0282917\ttotal: 4.01s\tremaining: 1.66s\n",
      "212:\tlearn: 1333.2433313\ttotal: 4.03s\tremaining: 1.64s\n",
      "213:\tlearn: 1331.9210403\ttotal: 4.04s\tremaining: 1.63s\n",
      "214:\tlearn: 1330.8557466\ttotal: 4.06s\tremaining: 1.61s\n",
      "215:\tlearn: 1329.3645137\ttotal: 4.08s\tremaining: 1.59s\n",
      "216:\tlearn: 1328.7445157\ttotal: 4.1s\tremaining: 1.57s\n",
      "217:\tlearn: 1327.2718741\ttotal: 4.12s\tremaining: 1.55s\n",
      "218:\tlearn: 1326.3345892\ttotal: 4.14s\tremaining: 1.53s\n",
      "219:\tlearn: 1325.5853877\ttotal: 4.16s\tremaining: 1.51s\n",
      "220:\tlearn: 1324.7293989\ttotal: 4.17s\tremaining: 1.49s\n",
      "221:\tlearn: 1323.6037625\ttotal: 4.19s\tremaining: 1.47s\n",
      "222:\tlearn: 1323.0503104\ttotal: 4.21s\tremaining: 1.45s\n",
      "223:\tlearn: 1322.1420996\ttotal: 4.22s\tremaining: 1.43s\n",
      "224:\tlearn: 1320.9219960\ttotal: 4.24s\tremaining: 1.41s\n",
      "225:\tlearn: 1320.3719440\ttotal: 4.26s\tremaining: 1.4s\n",
      "226:\tlearn: 1319.3889975\ttotal: 4.28s\tremaining: 1.38s\n",
      "227:\tlearn: 1318.2803316\ttotal: 4.3s\tremaining: 1.36s\n",
      "228:\tlearn: 1317.4536868\ttotal: 4.32s\tremaining: 1.34s\n",
      "229:\tlearn: 1316.5529762\ttotal: 4.33s\tremaining: 1.32s\n",
      "230:\tlearn: 1315.6010501\ttotal: 4.35s\tremaining: 1.3s\n",
      "231:\tlearn: 1314.7123834\ttotal: 4.37s\tremaining: 1.28s\n",
      "232:\tlearn: 1314.1914065\ttotal: 4.39s\tremaining: 1.26s\n",
      "233:\tlearn: 1313.2528843\ttotal: 4.43s\tremaining: 1.25s\n",
      "234:\tlearn: 1311.9977765\ttotal: 4.49s\tremaining: 1.24s\n",
      "235:\tlearn: 1311.2295808\ttotal: 4.53s\tremaining: 1.23s\n",
      "236:\tlearn: 1310.4882295\ttotal: 4.55s\tremaining: 1.21s\n",
      "237:\tlearn: 1309.7935778\ttotal: 4.57s\tremaining: 1.19s\n",
      "238:\tlearn: 1308.9413133\ttotal: 4.59s\tremaining: 1.17s\n",
      "239:\tlearn: 1308.0128365\ttotal: 4.61s\tremaining: 1.15s\n",
      "240:\tlearn: 1307.0355832\ttotal: 4.63s\tremaining: 1.13s\n",
      "241:\tlearn: 1306.5184516\ttotal: 4.65s\tremaining: 1.11s\n",
      "242:\tlearn: 1305.5365757\ttotal: 4.66s\tremaining: 1.09s\n",
      "243:\tlearn: 1304.1525390\ttotal: 4.68s\tremaining: 1.07s\n",
      "244:\tlearn: 1303.6184307\ttotal: 4.7s\tremaining: 1.05s\n",
      "245:\tlearn: 1303.0188149\ttotal: 4.71s\tremaining: 1.03s\n",
      "246:\tlearn: 1302.3734401\ttotal: 4.73s\tremaining: 1.01s\n",
      "247:\tlearn: 1301.9798964\ttotal: 4.75s\tremaining: 996ms\n",
      "248:\tlearn: 1300.9138040\ttotal: 4.77s\tremaining: 977ms\n",
      "249:\tlearn: 1300.4057228\ttotal: 4.79s\tremaining: 957ms\n",
      "250:\tlearn: 1299.9719789\ttotal: 4.8s\tremaining: 938ms\n",
      "251:\tlearn: 1299.3772881\ttotal: 4.82s\tremaining: 918ms\n",
      "252:\tlearn: 1298.6319922\ttotal: 4.84s\tremaining: 898ms\n",
      "253:\tlearn: 1297.6097707\ttotal: 4.85s\tremaining: 879ms\n",
      "254:\tlearn: 1296.9249280\ttotal: 4.87s\tremaining: 859ms\n",
      "255:\tlearn: 1296.4222751\ttotal: 4.88s\tremaining: 840ms\n",
      "256:\tlearn: 1295.6153548\ttotal: 4.9s\tremaining: 820ms\n",
      "257:\tlearn: 1294.7853236\ttotal: 4.92s\tremaining: 800ms\n",
      "258:\tlearn: 1294.1082099\ttotal: 4.93s\tremaining: 781ms\n",
      "259:\tlearn: 1293.5301615\ttotal: 4.95s\tremaining: 762ms\n",
      "260:\tlearn: 1292.0567658\ttotal: 4.97s\tremaining: 743ms\n",
      "261:\tlearn: 1291.1365600\ttotal: 5s\tremaining: 724ms\n",
      "262:\tlearn: 1290.2452237\ttotal: 5.01s\tremaining: 705ms\n",
      "263:\tlearn: 1289.3178189\ttotal: 5.03s\tremaining: 686ms\n",
      "264:\tlearn: 1288.2600505\ttotal: 5.04s\tremaining: 666ms\n",
      "265:\tlearn: 1287.4894158\ttotal: 5.06s\tremaining: 647ms\n",
      "266:\tlearn: 1286.7963052\ttotal: 5.08s\tremaining: 627ms\n",
      "267:\tlearn: 1285.9745393\ttotal: 5.09s\tremaining: 608ms\n",
      "268:\tlearn: 1285.4715090\ttotal: 5.11s\tremaining: 589ms\n",
      "269:\tlearn: 1284.7505089\ttotal: 5.13s\tremaining: 570ms\n",
      "270:\tlearn: 1284.0370908\ttotal: 5.14s\tremaining: 550ms\n",
      "271:\tlearn: 1283.8315731\ttotal: 5.16s\tremaining: 531ms\n",
      "272:\tlearn: 1282.9687827\ttotal: 5.18s\tremaining: 513ms\n",
      "273:\tlearn: 1282.0959734\ttotal: 5.2s\tremaining: 493ms\n",
      "274:\tlearn: 1281.5190125\ttotal: 5.21s\tremaining: 474ms\n",
      "275:\tlearn: 1280.6659410\ttotal: 5.23s\tremaining: 455ms\n",
      "276:\tlearn: 1280.0726007\ttotal: 5.25s\tremaining: 436ms\n",
      "277:\tlearn: 1279.1636016\ttotal: 5.26s\tremaining: 417ms\n",
      "278:\tlearn: 1278.1044929\ttotal: 5.28s\tremaining: 397ms\n",
      "279:\tlearn: 1277.1025720\ttotal: 5.3s\tremaining: 378ms\n",
      "280:\tlearn: 1276.1296474\ttotal: 5.31s\tremaining: 359ms\n",
      "281:\tlearn: 1275.5627711\ttotal: 5.33s\tremaining: 340ms\n",
      "282:\tlearn: 1274.9275496\ttotal: 5.34s\tremaining: 321ms\n",
      "283:\tlearn: 1274.6104145\ttotal: 5.36s\tremaining: 302ms\n",
      "284:\tlearn: 1273.9877511\ttotal: 5.38s\tremaining: 283ms\n",
      "285:\tlearn: 1273.4627451\ttotal: 5.4s\tremaining: 264ms\n",
      "286:\tlearn: 1272.5468328\ttotal: 5.41s\tremaining: 245ms\n",
      "287:\tlearn: 1271.8184925\ttotal: 5.43s\tremaining: 226ms\n",
      "288:\tlearn: 1271.1330557\ttotal: 5.45s\tremaining: 207ms\n",
      "289:\tlearn: 1270.4200370\ttotal: 5.46s\tremaining: 188ms\n",
      "290:\tlearn: 1270.1082411\ttotal: 5.48s\tremaining: 169ms\n",
      "291:\tlearn: 1269.7246276\ttotal: 5.5s\tremaining: 151ms\n",
      "292:\tlearn: 1268.9830074\ttotal: 5.51s\tremaining: 132ms\n",
      "293:\tlearn: 1268.2919339\ttotal: 5.53s\tremaining: 113ms\n",
      "294:\tlearn: 1267.8309624\ttotal: 5.54s\tremaining: 94ms\n",
      "295:\tlearn: 1267.1487433\ttotal: 5.56s\tremaining: 75.1ms\n",
      "296:\tlearn: 1266.0648249\ttotal: 5.58s\tremaining: 56.3ms\n",
      "297:\tlearn: 1265.1814170\ttotal: 5.6s\tremaining: 37.6ms\n",
      "298:\tlearn: 1264.7679695\ttotal: 5.62s\tremaining: 18.8ms\n",
      "299:\tlearn: 1264.3501860\ttotal: 5.63s\tremaining: 0us\n",
      "0:\tlearn: 3634.2356478\ttotal: 16.9ms\tremaining: 5.04s\n",
      "1:\tlearn: 2991.2486337\ttotal: 34.5ms\tremaining: 5.14s\n",
      "2:\tlearn: 2548.1285165\ttotal: 51.2ms\tremaining: 5.07s\n",
      "3:\tlearn: 2274.1768253\ttotal: 67.8ms\tremaining: 5.02s\n",
      "4:\tlearn: 2102.7248671\ttotal: 84ms\tremaining: 4.96s\n",
      "5:\tlearn: 1995.8283595\ttotal: 101ms\tremaining: 4.94s\n",
      "6:\tlearn: 1923.2597249\ttotal: 117ms\tremaining: 4.89s\n",
      "7:\tlearn: 1881.8385744\ttotal: 133ms\tremaining: 4.85s\n",
      "8:\tlearn: 1837.3722040\ttotal: 149ms\tremaining: 4.82s\n",
      "9:\tlearn: 1810.6924762\ttotal: 166ms\tremaining: 4.82s\n",
      "10:\tlearn: 1791.3430057\ttotal: 183ms\tremaining: 4.81s\n",
      "11:\tlearn: 1775.8823206\ttotal: 201ms\tremaining: 4.81s\n",
      "12:\tlearn: 1758.2489651\ttotal: 217ms\tremaining: 4.8s\n",
      "13:\tlearn: 1748.7446701\ttotal: 236ms\tremaining: 4.82s\n",
      "14:\tlearn: 1739.0129985\ttotal: 255ms\tremaining: 4.83s\n",
      "15:\tlearn: 1727.9657432\ttotal: 274ms\tremaining: 4.85s\n",
      "16:\tlearn: 1721.9098686\ttotal: 290ms\tremaining: 4.82s\n",
      "17:\tlearn: 1712.6244589\ttotal: 306ms\tremaining: 4.8s\n",
      "18:\tlearn: 1707.0523564\ttotal: 322ms\tremaining: 4.77s\n",
      "19:\tlearn: 1700.1530695\ttotal: 339ms\tremaining: 4.75s\n",
      "20:\tlearn: 1693.2059298\ttotal: 357ms\tremaining: 4.74s\n",
      "21:\tlearn: 1688.9929594\ttotal: 373ms\tremaining: 4.71s\n",
      "22:\tlearn: 1685.3612026\ttotal: 390ms\tremaining: 4.69s\n",
      "23:\tlearn: 1680.6262505\ttotal: 406ms\tremaining: 4.67s\n",
      "24:\tlearn: 1676.9956819\ttotal: 422ms\tremaining: 4.65s\n",
      "25:\tlearn: 1673.9508907\ttotal: 440ms\tremaining: 4.63s\n",
      "26:\tlearn: 1669.8917583\ttotal: 461ms\tremaining: 4.66s\n",
      "27:\tlearn: 1667.2906964\ttotal: 479ms\tremaining: 4.65s\n",
      "28:\tlearn: 1664.0742763\ttotal: 495ms\tremaining: 4.63s\n",
      "29:\tlearn: 1655.5552744\ttotal: 512ms\tremaining: 4.61s\n",
      "30:\tlearn: 1651.3014309\ttotal: 528ms\tremaining: 4.58s\n",
      "31:\tlearn: 1647.4041156\ttotal: 544ms\tremaining: 4.56s\n",
      "32:\tlearn: 1644.1090511\ttotal: 561ms\tremaining: 4.54s\n",
      "33:\tlearn: 1639.7618315\ttotal: 578ms\tremaining: 4.52s\n",
      "34:\tlearn: 1635.9518356\ttotal: 594ms\tremaining: 4.5s\n",
      "35:\tlearn: 1631.4467598\ttotal: 610ms\tremaining: 4.48s\n",
      "36:\tlearn: 1628.3999351\ttotal: 629ms\tremaining: 4.47s\n",
      "37:\tlearn: 1625.2457215\ttotal: 648ms\tremaining: 4.47s\n",
      "38:\tlearn: 1621.5941401\ttotal: 668ms\tremaining: 4.47s\n",
      "39:\tlearn: 1618.6564801\ttotal: 685ms\tremaining: 4.45s\n",
      "40:\tlearn: 1612.8621685\ttotal: 702ms\tremaining: 4.43s\n",
      "41:\tlearn: 1608.3375733\ttotal: 718ms\tremaining: 4.41s\n",
      "42:\tlearn: 1605.4596208\ttotal: 735ms\tremaining: 4.39s\n",
      "43:\tlearn: 1601.8866288\ttotal: 751ms\tremaining: 4.37s\n",
      "44:\tlearn: 1596.9847673\ttotal: 768ms\tremaining: 4.35s\n",
      "45:\tlearn: 1595.5199484\ttotal: 784ms\tremaining: 4.33s\n",
      "46:\tlearn: 1591.5645285\ttotal: 801ms\tremaining: 4.31s\n",
      "47:\tlearn: 1587.4343564\ttotal: 818ms\tremaining: 4.3s\n",
      "48:\tlearn: 1583.3271270\ttotal: 837ms\tremaining: 4.29s\n",
      "49:\tlearn: 1579.3521242\ttotal: 854ms\tremaining: 4.27s\n",
      "50:\tlearn: 1574.9804998\ttotal: 873ms\tremaining: 4.26s\n",
      "51:\tlearn: 1573.4006301\ttotal: 890ms\tremaining: 4.24s\n",
      "52:\tlearn: 1570.6214177\ttotal: 906ms\tremaining: 4.22s\n",
      "53:\tlearn: 1566.7624373\ttotal: 925ms\tremaining: 4.21s\n",
      "54:\tlearn: 1565.0008060\ttotal: 941ms\tremaining: 4.19s\n",
      "55:\tlearn: 1562.3568505\ttotal: 957ms\tremaining: 4.17s\n",
      "56:\tlearn: 1560.9039579\ttotal: 973ms\tremaining: 4.15s\n",
      "57:\tlearn: 1560.2038025\ttotal: 989ms\tremaining: 4.13s\n",
      "58:\tlearn: 1557.3273933\ttotal: 1s\tremaining: 4.11s\n",
      "59:\tlearn: 1555.5766317\ttotal: 1.02s\tremaining: 4.09s\n",
      "60:\tlearn: 1554.7104958\ttotal: 1.04s\tremaining: 4.07s\n",
      "61:\tlearn: 1552.3113577\ttotal: 1.05s\tremaining: 4.05s\n",
      "62:\tlearn: 1550.3796200\ttotal: 1.07s\tremaining: 4.04s\n",
      "63:\tlearn: 1547.8711444\ttotal: 1.09s\tremaining: 4.03s\n",
      "64:\tlearn: 1544.3167761\ttotal: 1.11s\tremaining: 4.01s\n",
      "65:\tlearn: 1542.5170919\ttotal: 1.13s\tremaining: 3.99s\n",
      "66:\tlearn: 1540.4035272\ttotal: 1.14s\tremaining: 3.97s\n",
      "67:\tlearn: 1537.9571406\ttotal: 1.16s\tremaining: 3.96s\n",
      "68:\tlearn: 1535.2065698\ttotal: 1.18s\tremaining: 3.94s\n",
      "69:\tlearn: 1534.0966360\ttotal: 1.19s\tremaining: 3.92s\n",
      "70:\tlearn: 1532.4834702\ttotal: 1.21s\tremaining: 3.9s\n",
      "71:\tlearn: 1529.9561979\ttotal: 1.23s\tremaining: 3.88s\n",
      "72:\tlearn: 1528.2857351\ttotal: 1.24s\tremaining: 3.87s\n",
      "73:\tlearn: 1526.2659226\ttotal: 1.26s\tremaining: 3.86s\n",
      "74:\tlearn: 1525.7383300\ttotal: 1.28s\tremaining: 3.85s\n",
      "75:\tlearn: 1523.9523959\ttotal: 1.3s\tremaining: 3.84s\n",
      "76:\tlearn: 1522.2736497\ttotal: 1.32s\tremaining: 3.82s\n",
      "77:\tlearn: 1519.3568251\ttotal: 1.33s\tremaining: 3.8s\n",
      "78:\tlearn: 1516.8674043\ttotal: 1.35s\tremaining: 3.78s\n",
      "79:\tlearn: 1514.4186380\ttotal: 1.37s\tremaining: 3.77s\n",
      "80:\tlearn: 1512.2299081\ttotal: 1.39s\tremaining: 3.75s\n",
      "81:\tlearn: 1510.2653722\ttotal: 1.4s\tremaining: 3.73s\n",
      "82:\tlearn: 1509.2598533\ttotal: 1.42s\tremaining: 3.71s\n",
      "83:\tlearn: 1506.8600676\ttotal: 1.44s\tremaining: 3.69s\n",
      "84:\tlearn: 1505.4846293\ttotal: 1.45s\tremaining: 3.68s\n",
      "85:\tlearn: 1502.7946898\ttotal: 1.47s\tremaining: 3.66s\n",
      "86:\tlearn: 1501.3752766\ttotal: 1.49s\tremaining: 3.65s\n",
      "87:\tlearn: 1499.2594443\ttotal: 1.51s\tremaining: 3.63s\n",
      "88:\tlearn: 1496.9161069\ttotal: 1.52s\tremaining: 3.62s\n",
      "89:\tlearn: 1496.0443489\ttotal: 1.54s\tremaining: 3.6s\n",
      "90:\tlearn: 1493.7531959\ttotal: 1.56s\tremaining: 3.58s\n",
      "91:\tlearn: 1491.9532249\ttotal: 1.57s\tremaining: 3.56s\n",
      "92:\tlearn: 1490.1832230\ttotal: 1.59s\tremaining: 3.54s\n",
      "93:\tlearn: 1489.5615160\ttotal: 1.61s\tremaining: 3.52s\n",
      "94:\tlearn: 1487.9476132\ttotal: 1.62s\tremaining: 3.5s\n",
      "95:\tlearn: 1486.4624920\ttotal: 1.64s\tremaining: 3.48s\n",
      "96:\tlearn: 1484.9793009\ttotal: 1.66s\tremaining: 3.46s\n",
      "97:\tlearn: 1483.7879613\ttotal: 1.67s\tremaining: 3.45s\n",
      "98:\tlearn: 1483.0151343\ttotal: 1.69s\tremaining: 3.43s\n",
      "99:\tlearn: 1481.3624130\ttotal: 1.71s\tremaining: 3.42s\n",
      "100:\tlearn: 1479.7477961\ttotal: 1.73s\tremaining: 3.4s\n",
      "101:\tlearn: 1477.8943416\ttotal: 1.74s\tremaining: 3.38s\n",
      "102:\tlearn: 1475.8529047\ttotal: 1.76s\tremaining: 3.37s\n",
      "103:\tlearn: 1474.2804566\ttotal: 1.78s\tremaining: 3.35s\n",
      "104:\tlearn: 1472.9815693\ttotal: 1.79s\tremaining: 3.33s\n",
      "105:\tlearn: 1470.5234366\ttotal: 1.81s\tremaining: 3.31s\n",
      "106:\tlearn: 1468.2963575\ttotal: 1.83s\tremaining: 3.3s\n",
      "107:\tlearn: 1466.7476704\ttotal: 1.84s\tremaining: 3.28s\n",
      "108:\tlearn: 1465.4448831\ttotal: 1.86s\tremaining: 3.26s\n",
      "109:\tlearn: 1463.7253819\ttotal: 1.88s\tremaining: 3.25s\n",
      "110:\tlearn: 1462.1215524\ttotal: 1.9s\tremaining: 3.24s\n",
      "111:\tlearn: 1460.5449705\ttotal: 1.92s\tremaining: 3.22s\n",
      "112:\tlearn: 1459.3770324\ttotal: 1.94s\tremaining: 3.21s\n",
      "113:\tlearn: 1457.6790669\ttotal: 1.96s\tremaining: 3.19s\n",
      "114:\tlearn: 1456.6484656\ttotal: 1.97s\tremaining: 3.17s\n",
      "115:\tlearn: 1455.2395028\ttotal: 1.99s\tremaining: 3.15s\n",
      "116:\tlearn: 1453.5125514\ttotal: 2s\tremaining: 3.14s\n",
      "117:\tlearn: 1452.6894004\ttotal: 2.02s\tremaining: 3.12s\n",
      "118:\tlearn: 1451.1614502\ttotal: 2.04s\tremaining: 3.1s\n",
      "119:\tlearn: 1450.2150364\ttotal: 2.06s\tremaining: 3.08s\n",
      "120:\tlearn: 1449.4826983\ttotal: 2.07s\tremaining: 3.07s\n",
      "121:\tlearn: 1447.7141927\ttotal: 2.09s\tremaining: 3.05s\n",
      "122:\tlearn: 1446.6253407\ttotal: 2.11s\tremaining: 3.04s\n",
      "123:\tlearn: 1445.4177248\ttotal: 2.13s\tremaining: 3.02s\n",
      "124:\tlearn: 1444.1848232\ttotal: 2.15s\tremaining: 3.01s\n",
      "125:\tlearn: 1443.0764636\ttotal: 2.16s\tremaining: 2.99s\n",
      "126:\tlearn: 1441.7414934\ttotal: 2.18s\tremaining: 2.97s\n",
      "127:\tlearn: 1440.3014858\ttotal: 2.2s\tremaining: 2.95s\n",
      "128:\tlearn: 1438.6491279\ttotal: 2.21s\tremaining: 2.94s\n",
      "129:\tlearn: 1437.6575857\ttotal: 2.23s\tremaining: 2.92s\n",
      "130:\tlearn: 1436.8817595\ttotal: 2.25s\tremaining: 2.9s\n",
      "131:\tlearn: 1435.5233690\ttotal: 2.27s\tremaining: 2.88s\n",
      "132:\tlearn: 1434.0072335\ttotal: 2.28s\tremaining: 2.87s\n",
      "133:\tlearn: 1433.1617776\ttotal: 2.3s\tremaining: 2.85s\n",
      "134:\tlearn: 1431.6297847\ttotal: 2.32s\tremaining: 2.84s\n",
      "135:\tlearn: 1430.1585838\ttotal: 2.34s\tremaining: 2.82s\n",
      "136:\tlearn: 1428.9711057\ttotal: 2.36s\tremaining: 2.8s\n",
      "137:\tlearn: 1427.3908718\ttotal: 2.37s\tremaining: 2.79s\n",
      "138:\tlearn: 1426.5347443\ttotal: 2.39s\tremaining: 2.77s\n",
      "139:\tlearn: 1425.3308757\ttotal: 2.41s\tremaining: 2.75s\n",
      "140:\tlearn: 1423.9573727\ttotal: 2.42s\tremaining: 2.73s\n",
      "141:\tlearn: 1423.1770379\ttotal: 2.44s\tremaining: 2.72s\n",
      "142:\tlearn: 1422.3772042\ttotal: 2.46s\tremaining: 2.7s\n",
      "143:\tlearn: 1421.4274704\ttotal: 2.47s\tremaining: 2.68s\n",
      "144:\tlearn: 1419.4112675\ttotal: 2.49s\tremaining: 2.66s\n",
      "145:\tlearn: 1418.4351769\ttotal: 2.51s\tremaining: 2.65s\n",
      "146:\tlearn: 1417.4440686\ttotal: 2.53s\tremaining: 2.63s\n",
      "147:\tlearn: 1416.1077528\ttotal: 2.55s\tremaining: 2.62s\n",
      "148:\tlearn: 1414.9743541\ttotal: 2.56s\tremaining: 2.6s\n",
      "149:\tlearn: 1413.9098946\ttotal: 2.58s\tremaining: 2.58s\n",
      "150:\tlearn: 1412.2023452\ttotal: 2.6s\tremaining: 2.56s\n",
      "151:\tlearn: 1410.4681545\ttotal: 2.61s\tremaining: 2.54s\n",
      "152:\tlearn: 1409.3944426\ttotal: 2.63s\tremaining: 2.53s\n",
      "153:\tlearn: 1408.5913978\ttotal: 2.65s\tremaining: 2.51s\n",
      "154:\tlearn: 1407.4166914\ttotal: 2.67s\tremaining: 2.49s\n",
      "155:\tlearn: 1406.6403722\ttotal: 2.68s\tremaining: 2.48s\n",
      "156:\tlearn: 1405.6811393\ttotal: 2.7s\tremaining: 2.46s\n",
      "157:\tlearn: 1404.1768006\ttotal: 2.72s\tremaining: 2.45s\n",
      "158:\tlearn: 1402.7974248\ttotal: 2.75s\tremaining: 2.43s\n",
      "159:\tlearn: 1401.9160854\ttotal: 2.77s\tremaining: 2.42s\n",
      "160:\tlearn: 1401.0140229\ttotal: 2.78s\tremaining: 2.4s\n",
      "161:\tlearn: 1400.0442900\ttotal: 2.8s\tremaining: 2.39s\n",
      "162:\tlearn: 1398.6498001\ttotal: 2.82s\tremaining: 2.37s\n",
      "163:\tlearn: 1397.2144739\ttotal: 2.84s\tremaining: 2.36s\n",
      "164:\tlearn: 1395.6778088\ttotal: 2.86s\tremaining: 2.34s\n",
      "165:\tlearn: 1394.2041494\ttotal: 2.88s\tremaining: 2.33s\n",
      "166:\tlearn: 1393.3050162\ttotal: 2.9s\tremaining: 2.31s\n",
      "167:\tlearn: 1391.2599888\ttotal: 2.92s\tremaining: 2.29s\n",
      "168:\tlearn: 1390.2644172\ttotal: 2.94s\tremaining: 2.28s\n",
      "169:\tlearn: 1389.6332205\ttotal: 3s\tremaining: 2.29s\n",
      "170:\tlearn: 1388.8849834\ttotal: 3.02s\tremaining: 2.28s\n",
      "171:\tlearn: 1388.2294934\ttotal: 3.04s\tremaining: 2.26s\n",
      "172:\tlearn: 1387.2501998\ttotal: 3.06s\tremaining: 2.25s\n",
      "173:\tlearn: 1385.2869594\ttotal: 3.09s\tremaining: 2.24s\n",
      "174:\tlearn: 1384.5489688\ttotal: 3.11s\tremaining: 2.22s\n",
      "175:\tlearn: 1383.9095995\ttotal: 3.13s\tremaining: 2.21s\n",
      "176:\tlearn: 1382.8347063\ttotal: 3.15s\tremaining: 2.19s\n",
      "177:\tlearn: 1381.7097622\ttotal: 3.17s\tremaining: 2.17s\n",
      "178:\tlearn: 1380.1648275\ttotal: 3.19s\tremaining: 2.16s\n",
      "179:\tlearn: 1378.6761442\ttotal: 3.22s\tremaining: 2.14s\n",
      "180:\tlearn: 1377.7895974\ttotal: 3.24s\tremaining: 2.13s\n",
      "181:\tlearn: 1376.7779240\ttotal: 3.26s\tremaining: 2.11s\n",
      "182:\tlearn: 1375.3341361\ttotal: 3.28s\tremaining: 2.1s\n",
      "183:\tlearn: 1374.4750550\ttotal: 3.3s\tremaining: 2.08s\n",
      "184:\tlearn: 1373.6210391\ttotal: 3.31s\tremaining: 2.06s\n",
      "185:\tlearn: 1371.9702915\ttotal: 3.33s\tremaining: 2.04s\n",
      "186:\tlearn: 1371.4789018\ttotal: 3.35s\tremaining: 2.03s\n",
      "187:\tlearn: 1370.2199710\ttotal: 3.37s\tremaining: 2.01s\n",
      "188:\tlearn: 1368.3469155\ttotal: 3.39s\tremaining: 1.99s\n",
      "189:\tlearn: 1367.4750224\ttotal: 3.41s\tremaining: 1.97s\n",
      "190:\tlearn: 1366.3420081\ttotal: 3.42s\tremaining: 1.96s\n",
      "191:\tlearn: 1365.5444386\ttotal: 3.44s\tremaining: 1.94s\n",
      "192:\tlearn: 1365.1005198\ttotal: 3.46s\tremaining: 1.92s\n",
      "193:\tlearn: 1364.2009344\ttotal: 3.48s\tremaining: 1.9s\n",
      "194:\tlearn: 1363.2918526\ttotal: 3.5s\tremaining: 1.88s\n",
      "195:\tlearn: 1362.5613231\ttotal: 3.51s\tremaining: 1.86s\n",
      "196:\tlearn: 1361.6136162\ttotal: 3.53s\tremaining: 1.85s\n",
      "197:\tlearn: 1360.6813457\ttotal: 3.55s\tremaining: 1.83s\n",
      "198:\tlearn: 1358.9290017\ttotal: 3.57s\tremaining: 1.81s\n",
      "199:\tlearn: 1358.0309720\ttotal: 3.6s\tremaining: 1.8s\n",
      "200:\tlearn: 1357.2022537\ttotal: 3.61s\tremaining: 1.78s\n",
      "201:\tlearn: 1355.2670285\ttotal: 3.63s\tremaining: 1.76s\n",
      "202:\tlearn: 1353.7207765\ttotal: 3.65s\tremaining: 1.75s\n",
      "203:\tlearn: 1353.0965520\ttotal: 3.67s\tremaining: 1.73s\n",
      "204:\tlearn: 1352.1004460\ttotal: 3.69s\tremaining: 1.71s\n",
      "205:\tlearn: 1351.2066667\ttotal: 3.71s\tremaining: 1.69s\n",
      "206:\tlearn: 1350.4178135\ttotal: 3.72s\tremaining: 1.67s\n",
      "207:\tlearn: 1349.3235599\ttotal: 3.74s\tremaining: 1.65s\n",
      "208:\tlearn: 1348.7933784\ttotal: 3.76s\tremaining: 1.64s\n",
      "209:\tlearn: 1348.1699696\ttotal: 3.78s\tremaining: 1.62s\n",
      "210:\tlearn: 1347.2885064\ttotal: 3.79s\tremaining: 1.6s\n",
      "211:\tlearn: 1346.1596966\ttotal: 3.81s\tremaining: 1.58s\n",
      "212:\tlearn: 1345.4369579\ttotal: 3.83s\tremaining: 1.56s\n",
      "213:\tlearn: 1344.8468475\ttotal: 3.85s\tremaining: 1.55s\n",
      "214:\tlearn: 1343.7437597\ttotal: 3.87s\tremaining: 1.53s\n",
      "215:\tlearn: 1343.3584955\ttotal: 3.88s\tremaining: 1.51s\n",
      "216:\tlearn: 1342.1307602\ttotal: 3.9s\tremaining: 1.49s\n",
      "217:\tlearn: 1341.8428469\ttotal: 3.92s\tremaining: 1.47s\n",
      "218:\tlearn: 1341.1080619\ttotal: 3.93s\tremaining: 1.45s\n",
      "219:\tlearn: 1340.3045222\ttotal: 3.95s\tremaining: 1.44s\n",
      "220:\tlearn: 1339.0448563\ttotal: 3.97s\tremaining: 1.42s\n",
      "221:\tlearn: 1338.1324123\ttotal: 3.99s\tremaining: 1.4s\n",
      "222:\tlearn: 1337.7317905\ttotal: 4.01s\tremaining: 1.38s\n",
      "223:\tlearn: 1336.7830360\ttotal: 4.03s\tremaining: 1.37s\n",
      "224:\tlearn: 1336.2353382\ttotal: 4.05s\tremaining: 1.35s\n",
      "225:\tlearn: 1335.2075542\ttotal: 4.06s\tremaining: 1.33s\n",
      "226:\tlearn: 1333.9199748\ttotal: 4.08s\tremaining: 1.31s\n",
      "227:\tlearn: 1333.1588537\ttotal: 4.1s\tremaining: 1.29s\n",
      "228:\tlearn: 1332.4693253\ttotal: 4.12s\tremaining: 1.28s\n",
      "229:\tlearn: 1331.9599101\ttotal: 4.13s\tremaining: 1.26s\n",
      "230:\tlearn: 1330.6420697\ttotal: 4.15s\tremaining: 1.24s\n",
      "231:\tlearn: 1329.5317537\ttotal: 4.17s\tremaining: 1.22s\n",
      "232:\tlearn: 1328.9746446\ttotal: 4.19s\tremaining: 1.2s\n",
      "233:\tlearn: 1328.2108284\ttotal: 4.21s\tremaining: 1.19s\n",
      "234:\tlearn: 1327.7481203\ttotal: 4.22s\tremaining: 1.17s\n",
      "235:\tlearn: 1326.9034952\ttotal: 4.24s\tremaining: 1.15s\n",
      "236:\tlearn: 1326.4361781\ttotal: 4.26s\tremaining: 1.13s\n",
      "237:\tlearn: 1325.6316465\ttotal: 4.27s\tremaining: 1.11s\n",
      "238:\tlearn: 1324.9617541\ttotal: 4.29s\tremaining: 1.09s\n",
      "239:\tlearn: 1324.1376168\ttotal: 4.31s\tremaining: 1.08s\n",
      "240:\tlearn: 1323.5347605\ttotal: 4.32s\tremaining: 1.06s\n",
      "241:\tlearn: 1322.8464752\ttotal: 4.34s\tremaining: 1.04s\n",
      "242:\tlearn: 1321.8251934\ttotal: 4.36s\tremaining: 1.02s\n",
      "243:\tlearn: 1320.6000163\ttotal: 4.37s\tremaining: 1s\n",
      "244:\tlearn: 1319.4296690\ttotal: 4.39s\tremaining: 986ms\n",
      "245:\tlearn: 1318.3368687\ttotal: 4.41s\tremaining: 969ms\n",
      "246:\tlearn: 1317.6348189\ttotal: 4.43s\tremaining: 952ms\n",
      "247:\tlearn: 1316.6330990\ttotal: 4.45s\tremaining: 934ms\n",
      "248:\tlearn: 1316.0882827\ttotal: 4.47s\tremaining: 916ms\n",
      "249:\tlearn: 1314.4084065\ttotal: 4.49s\tremaining: 898ms\n",
      "250:\tlearn: 1314.0779005\ttotal: 4.51s\tremaining: 880ms\n",
      "251:\tlearn: 1313.1967352\ttotal: 4.52s\tremaining: 862ms\n",
      "252:\tlearn: 1312.7019694\ttotal: 4.54s\tremaining: 844ms\n",
      "253:\tlearn: 1311.4051439\ttotal: 4.56s\tremaining: 826ms\n",
      "254:\tlearn: 1310.2192266\ttotal: 4.58s\tremaining: 808ms\n",
      "255:\tlearn: 1309.3994540\ttotal: 4.59s\tremaining: 790ms\n",
      "256:\tlearn: 1308.7575688\ttotal: 4.61s\tremaining: 772ms\n",
      "257:\tlearn: 1307.1482087\ttotal: 4.63s\tremaining: 754ms\n",
      "258:\tlearn: 1306.3509134\ttotal: 4.65s\tremaining: 736ms\n",
      "259:\tlearn: 1305.5632565\ttotal: 4.67s\tremaining: 718ms\n",
      "260:\tlearn: 1304.9867125\ttotal: 4.68s\tremaining: 700ms\n",
      "261:\tlearn: 1304.1816921\ttotal: 4.7s\tremaining: 682ms\n",
      "262:\tlearn: 1303.5839679\ttotal: 4.72s\tremaining: 664ms\n",
      "263:\tlearn: 1302.5804689\ttotal: 4.74s\tremaining: 646ms\n",
      "264:\tlearn: 1301.8599964\ttotal: 4.75s\tremaining: 628ms\n",
      "265:\tlearn: 1301.0259608\ttotal: 4.77s\tremaining: 609ms\n",
      "266:\tlearn: 1300.1103684\ttotal: 4.79s\tremaining: 591ms\n",
      "267:\tlearn: 1299.2413013\ttotal: 4.8s\tremaining: 574ms\n",
      "268:\tlearn: 1298.7640848\ttotal: 4.82s\tremaining: 556ms\n",
      "269:\tlearn: 1298.3237397\ttotal: 4.84s\tremaining: 538ms\n",
      "270:\tlearn: 1297.0049435\ttotal: 4.86s\tremaining: 520ms\n",
      "271:\tlearn: 1295.8154351\ttotal: 4.87s\tremaining: 502ms\n",
      "272:\tlearn: 1294.8632256\ttotal: 4.89s\tremaining: 484ms\n",
      "273:\tlearn: 1293.7298381\ttotal: 4.91s\tremaining: 466ms\n",
      "274:\tlearn: 1292.4733570\ttotal: 4.92s\tremaining: 448ms\n",
      "275:\tlearn: 1291.1194000\ttotal: 4.94s\tremaining: 430ms\n",
      "276:\tlearn: 1290.4251185\ttotal: 4.96s\tremaining: 412ms\n",
      "277:\tlearn: 1289.7888171\ttotal: 4.97s\tremaining: 394ms\n",
      "278:\tlearn: 1288.8798434\ttotal: 4.99s\tremaining: 376ms\n",
      "279:\tlearn: 1287.6923167\ttotal: 5.01s\tremaining: 358ms\n",
      "280:\tlearn: 1286.6837754\ttotal: 5.03s\tremaining: 340ms\n",
      "281:\tlearn: 1285.2710378\ttotal: 5.05s\tremaining: 322ms\n",
      "282:\tlearn: 1284.6719551\ttotal: 5.06s\tremaining: 304ms\n",
      "283:\tlearn: 1284.0818502\ttotal: 5.08s\tremaining: 286ms\n",
      "284:\tlearn: 1282.8164960\ttotal: 5.1s\tremaining: 268ms\n",
      "285:\tlearn: 1282.5232673\ttotal: 5.11s\tremaining: 250ms\n",
      "286:\tlearn: 1281.9061457\ttotal: 5.13s\tremaining: 232ms\n",
      "287:\tlearn: 1281.2671576\ttotal: 5.15s\tremaining: 214ms\n",
      "288:\tlearn: 1280.4755224\ttotal: 5.16s\tremaining: 197ms\n",
      "289:\tlearn: 1279.6351143\ttotal: 5.18s\tremaining: 179ms\n",
      "290:\tlearn: 1278.9398692\ttotal: 5.2s\tremaining: 161ms\n",
      "291:\tlearn: 1278.0930189\ttotal: 5.22s\tremaining: 143ms\n",
      "292:\tlearn: 1277.4270643\ttotal: 5.24s\tremaining: 125ms\n",
      "293:\tlearn: 1276.4897926\ttotal: 5.26s\tremaining: 107ms\n",
      "294:\tlearn: 1275.1885059\ttotal: 5.28s\tremaining: 89.5ms\n",
      "295:\tlearn: 1274.5765161\ttotal: 5.3s\tremaining: 71.6ms\n",
      "296:\tlearn: 1273.8035300\ttotal: 5.32s\tremaining: 53.7ms\n",
      "297:\tlearn: 1273.5721349\ttotal: 5.34s\tremaining: 35.8ms\n",
      "298:\tlearn: 1272.9741692\ttotal: 5.36s\tremaining: 17.9ms\n",
      "299:\tlearn: 1272.5151326\ttotal: 5.38s\tremaining: 0us\n",
      "0:\tlearn: 3644.7714411\ttotal: 16.3ms\tremaining: 4.88s\n",
      "1:\tlearn: 3005.4387732\ttotal: 32.8ms\tremaining: 4.89s\n",
      "2:\tlearn: 2582.5202905\ttotal: 50ms\tremaining: 4.95s\n",
      "3:\tlearn: 2310.6460331\ttotal: 69.6ms\tremaining: 5.15s\n",
      "4:\tlearn: 2132.0801517\ttotal: 88.1ms\tremaining: 5.2s\n",
      "5:\tlearn: 2018.0352402\ttotal: 107ms\tremaining: 5.27s\n",
      "6:\tlearn: 1937.8194186\ttotal: 124ms\tremaining: 5.21s\n",
      "7:\tlearn: 1882.1749387\ttotal: 141ms\tremaining: 5.14s\n",
      "8:\tlearn: 1839.8964185\ttotal: 157ms\tremaining: 5.09s\n",
      "9:\tlearn: 1816.4609738\ttotal: 174ms\tremaining: 5.06s\n",
      "10:\tlearn: 1794.0466456\ttotal: 191ms\tremaining: 5.01s\n",
      "11:\tlearn: 1778.7872811\ttotal: 207ms\tremaining: 4.97s\n",
      "12:\tlearn: 1763.2813931\ttotal: 224ms\tremaining: 4.95s\n",
      "13:\tlearn: 1753.0259297\ttotal: 245ms\tremaining: 5.01s\n",
      "14:\tlearn: 1742.1875477\ttotal: 263ms\tremaining: 4.99s\n",
      "15:\tlearn: 1731.2585520\ttotal: 281ms\tremaining: 4.98s\n",
      "16:\tlearn: 1723.0411101\ttotal: 297ms\tremaining: 4.95s\n",
      "17:\tlearn: 1715.3365058\ttotal: 314ms\tremaining: 4.91s\n",
      "18:\tlearn: 1707.6257005\ttotal: 331ms\tremaining: 4.9s\n",
      "19:\tlearn: 1701.7053834\ttotal: 349ms\tremaining: 4.88s\n",
      "20:\tlearn: 1696.8364818\ttotal: 366ms\tremaining: 4.86s\n",
      "21:\tlearn: 1692.8297808\ttotal: 384ms\tremaining: 4.85s\n",
      "22:\tlearn: 1689.9065324\ttotal: 401ms\tremaining: 4.83s\n",
      "23:\tlearn: 1685.0180710\ttotal: 419ms\tremaining: 4.82s\n",
      "24:\tlearn: 1678.2878777\ttotal: 439ms\tremaining: 4.82s\n",
      "25:\tlearn: 1675.3933276\ttotal: 460ms\tremaining: 4.84s\n",
      "26:\tlearn: 1672.8157074\ttotal: 481ms\tremaining: 4.87s\n",
      "27:\tlearn: 1665.5287252\ttotal: 501ms\tremaining: 4.87s\n",
      "28:\tlearn: 1659.7754822\ttotal: 521ms\tremaining: 4.87s\n",
      "29:\tlearn: 1652.9241826\ttotal: 542ms\tremaining: 4.87s\n",
      "30:\tlearn: 1650.2397759\ttotal: 560ms\tremaining: 4.86s\n",
      "31:\tlearn: 1648.0640804\ttotal: 576ms\tremaining: 4.82s\n",
      "32:\tlearn: 1644.7984014\ttotal: 592ms\tremaining: 4.79s\n",
      "33:\tlearn: 1641.0222704\ttotal: 608ms\tremaining: 4.76s\n",
      "34:\tlearn: 1635.5617803\ttotal: 624ms\tremaining: 4.73s\n",
      "35:\tlearn: 1631.9620251\ttotal: 642ms\tremaining: 4.71s\n",
      "36:\tlearn: 1628.3017241\ttotal: 662ms\tremaining: 4.7s\n",
      "37:\tlearn: 1626.2536295\ttotal: 679ms\tremaining: 4.68s\n",
      "38:\tlearn: 1622.8693559\ttotal: 697ms\tremaining: 4.66s\n",
      "39:\tlearn: 1619.3448358\ttotal: 712ms\tremaining: 4.63s\n",
      "40:\tlearn: 1617.0547787\ttotal: 728ms\tremaining: 4.6s\n",
      "41:\tlearn: 1613.8375927\ttotal: 746ms\tremaining: 4.58s\n",
      "42:\tlearn: 1611.2833985\ttotal: 764ms\tremaining: 4.56s\n",
      "43:\tlearn: 1609.0879843\ttotal: 782ms\tremaining: 4.55s\n",
      "44:\tlearn: 1607.4430342\ttotal: 800ms\tremaining: 4.53s\n",
      "45:\tlearn: 1604.9363412\ttotal: 818ms\tremaining: 4.52s\n",
      "46:\tlearn: 1600.7507439\ttotal: 866ms\tremaining: 4.66s\n",
      "47:\tlearn: 1597.1880623\ttotal: 887ms\tremaining: 4.66s\n",
      "48:\tlearn: 1593.9556729\ttotal: 906ms\tremaining: 4.64s\n",
      "49:\tlearn: 1591.7518509\ttotal: 928ms\tremaining: 4.64s\n",
      "50:\tlearn: 1588.5725237\ttotal: 950ms\tremaining: 4.64s\n",
      "51:\tlearn: 1586.1556081\ttotal: 977ms\tremaining: 4.66s\n",
      "52:\tlearn: 1583.7027806\ttotal: 999ms\tremaining: 4.65s\n",
      "53:\tlearn: 1580.3195703\ttotal: 1.02s\tremaining: 4.65s\n",
      "54:\tlearn: 1578.7661756\ttotal: 1.04s\tremaining: 4.63s\n",
      "55:\tlearn: 1576.6676390\ttotal: 1.06s\tremaining: 4.61s\n",
      "56:\tlearn: 1573.5734105\ttotal: 1.08s\tremaining: 4.59s\n",
      "57:\tlearn: 1571.1610344\ttotal: 1.1s\tremaining: 4.58s\n",
      "58:\tlearn: 1568.5868613\ttotal: 1.12s\tremaining: 4.57s\n",
      "59:\tlearn: 1566.9075749\ttotal: 1.14s\tremaining: 4.55s\n",
      "60:\tlearn: 1563.6591643\ttotal: 1.16s\tremaining: 4.53s\n",
      "61:\tlearn: 1560.9887050\ttotal: 1.17s\tremaining: 4.5s\n",
      "62:\tlearn: 1557.9494301\ttotal: 1.19s\tremaining: 4.48s\n",
      "63:\tlearn: 1555.8235686\ttotal: 1.21s\tremaining: 4.46s\n",
      "64:\tlearn: 1553.9403479\ttotal: 1.23s\tremaining: 4.45s\n",
      "65:\tlearn: 1550.7697703\ttotal: 1.25s\tremaining: 4.43s\n",
      "66:\tlearn: 1548.3446733\ttotal: 1.27s\tremaining: 4.41s\n",
      "67:\tlearn: 1546.7224645\ttotal: 1.28s\tremaining: 4.39s\n",
      "68:\tlearn: 1544.7640894\ttotal: 1.3s\tremaining: 4.37s\n",
      "69:\tlearn: 1543.2627551\ttotal: 1.32s\tremaining: 4.35s\n",
      "70:\tlearn: 1541.2129916\ttotal: 1.35s\tremaining: 4.34s\n",
      "71:\tlearn: 1539.5062426\ttotal: 1.36s\tremaining: 4.32s\n",
      "72:\tlearn: 1536.3389994\ttotal: 1.38s\tremaining: 4.29s\n",
      "73:\tlearn: 1534.2697600\ttotal: 1.4s\tremaining: 4.26s\n",
      "74:\tlearn: 1532.7894767\ttotal: 1.41s\tremaining: 4.24s\n",
      "75:\tlearn: 1530.6009024\ttotal: 1.43s\tremaining: 4.21s\n",
      "76:\tlearn: 1528.1862900\ttotal: 1.45s\tremaining: 4.18s\n",
      "77:\tlearn: 1526.5226771\ttotal: 1.46s\tremaining: 4.16s\n",
      "78:\tlearn: 1524.0995006\ttotal: 1.48s\tremaining: 4.13s\n",
      "79:\tlearn: 1523.4783046\ttotal: 1.49s\tremaining: 4.11s\n",
      "80:\tlearn: 1521.8122721\ttotal: 1.51s\tremaining: 4.09s\n",
      "81:\tlearn: 1519.5833412\ttotal: 1.53s\tremaining: 4.07s\n",
      "82:\tlearn: 1515.4290350\ttotal: 1.55s\tremaining: 4.05s\n",
      "83:\tlearn: 1514.2493578\ttotal: 1.56s\tremaining: 4.03s\n",
      "84:\tlearn: 1512.9341912\ttotal: 1.58s\tremaining: 4s\n",
      "85:\tlearn: 1512.2513611\ttotal: 1.6s\tremaining: 3.98s\n",
      "86:\tlearn: 1510.8157604\ttotal: 1.61s\tremaining: 3.95s\n",
      "87:\tlearn: 1508.1828113\ttotal: 1.63s\tremaining: 3.93s\n",
      "88:\tlearn: 1505.5827348\ttotal: 1.65s\tremaining: 3.9s\n",
      "89:\tlearn: 1503.8240934\ttotal: 1.66s\tremaining: 3.88s\n",
      "90:\tlearn: 1502.0268289\ttotal: 1.68s\tremaining: 3.86s\n",
      "91:\tlearn: 1500.4935432\ttotal: 1.7s\tremaining: 3.84s\n",
      "92:\tlearn: 1498.9582949\ttotal: 1.72s\tremaining: 3.82s\n",
      "93:\tlearn: 1497.5495671\ttotal: 1.73s\tremaining: 3.8s\n",
      "94:\tlearn: 1495.4312641\ttotal: 1.75s\tremaining: 3.79s\n",
      "95:\tlearn: 1493.4763747\ttotal: 1.77s\tremaining: 3.77s\n",
      "96:\tlearn: 1491.8050974\ttotal: 1.79s\tremaining: 3.75s\n",
      "97:\tlearn: 1489.4986045\ttotal: 1.81s\tremaining: 3.74s\n",
      "98:\tlearn: 1488.1922341\ttotal: 1.83s\tremaining: 3.72s\n",
      "99:\tlearn: 1485.4859154\ttotal: 1.85s\tremaining: 3.7s\n",
      "100:\tlearn: 1483.9129867\ttotal: 1.87s\tremaining: 3.68s\n",
      "101:\tlearn: 1482.8266846\ttotal: 1.88s\tremaining: 3.65s\n",
      "102:\tlearn: 1481.0968445\ttotal: 1.9s\tremaining: 3.64s\n",
      "103:\tlearn: 1479.1478033\ttotal: 1.92s\tremaining: 3.62s\n",
      "104:\tlearn: 1477.6727341\ttotal: 1.94s\tremaining: 3.6s\n",
      "105:\tlearn: 1475.1132001\ttotal: 1.96s\tremaining: 3.58s\n",
      "106:\tlearn: 1474.1067696\ttotal: 1.98s\tremaining: 3.56s\n",
      "107:\tlearn: 1471.2813747\ttotal: 1.99s\tremaining: 3.55s\n",
      "108:\tlearn: 1470.1255157\ttotal: 2.01s\tremaining: 3.53s\n",
      "109:\tlearn: 1468.5952065\ttotal: 2.03s\tremaining: 3.51s\n",
      "110:\tlearn: 1467.7541371\ttotal: 2.05s\tremaining: 3.49s\n",
      "111:\tlearn: 1466.4103878\ttotal: 2.06s\tremaining: 3.47s\n",
      "112:\tlearn: 1464.2713309\ttotal: 2.08s\tremaining: 3.45s\n",
      "113:\tlearn: 1462.8446282\ttotal: 2.1s\tremaining: 3.43s\n",
      "114:\tlearn: 1461.2185791\ttotal: 2.12s\tremaining: 3.41s\n",
      "115:\tlearn: 1459.6660056\ttotal: 2.14s\tremaining: 3.39s\n",
      "116:\tlearn: 1458.4363740\ttotal: 2.16s\tremaining: 3.37s\n",
      "117:\tlearn: 1456.7891249\ttotal: 2.17s\tremaining: 3.35s\n",
      "118:\tlearn: 1455.3666486\ttotal: 2.19s\tremaining: 3.33s\n",
      "119:\tlearn: 1454.2601931\ttotal: 2.21s\tremaining: 3.31s\n",
      "120:\tlearn: 1453.1769177\ttotal: 2.22s\tremaining: 3.29s\n",
      "121:\tlearn: 1450.5025907\ttotal: 2.24s\tremaining: 3.27s\n",
      "122:\tlearn: 1448.7774877\ttotal: 2.25s\tremaining: 3.24s\n",
      "123:\tlearn: 1447.3953718\ttotal: 2.27s\tremaining: 3.22s\n",
      "124:\tlearn: 1446.2300916\ttotal: 2.29s\tremaining: 3.2s\n",
      "125:\tlearn: 1445.3241724\ttotal: 2.3s\tremaining: 3.18s\n",
      "126:\tlearn: 1443.8449459\ttotal: 2.32s\tremaining: 3.17s\n",
      "127:\tlearn: 1442.9565081\ttotal: 2.35s\tremaining: 3.15s\n",
      "128:\tlearn: 1441.8804051\ttotal: 2.37s\tremaining: 3.14s\n",
      "129:\tlearn: 1441.0410764\ttotal: 2.4s\tremaining: 3.13s\n",
      "130:\tlearn: 1439.8256950\ttotal: 2.41s\tremaining: 3.11s\n",
      "131:\tlearn: 1437.7107801\ttotal: 2.43s\tremaining: 3.1s\n",
      "132:\tlearn: 1436.1884992\ttotal: 2.45s\tremaining: 3.08s\n",
      "133:\tlearn: 1434.8481212\ttotal: 2.47s\tremaining: 3.06s\n",
      "134:\tlearn: 1433.7837630\ttotal: 2.49s\tremaining: 3.04s\n",
      "135:\tlearn: 1432.6265918\ttotal: 2.51s\tremaining: 3.02s\n",
      "136:\tlearn: 1431.7198930\ttotal: 2.52s\tremaining: 3s\n",
      "137:\tlearn: 1429.9040121\ttotal: 2.55s\tremaining: 2.99s\n",
      "138:\tlearn: 1427.1418759\ttotal: 2.57s\tremaining: 2.98s\n",
      "139:\tlearn: 1426.1597652\ttotal: 2.59s\tremaining: 2.96s\n",
      "140:\tlearn: 1424.8756753\ttotal: 2.61s\tremaining: 2.94s\n",
      "141:\tlearn: 1423.6427091\ttotal: 2.63s\tremaining: 2.92s\n",
      "142:\tlearn: 1421.7835084\ttotal: 2.65s\tremaining: 2.9s\n",
      "143:\tlearn: 1420.8825584\ttotal: 2.66s\tremaining: 2.88s\n",
      "144:\tlearn: 1419.0661422\ttotal: 2.68s\tremaining: 2.87s\n",
      "145:\tlearn: 1417.1982047\ttotal: 2.7s\tremaining: 2.85s\n",
      "146:\tlearn: 1416.3687710\ttotal: 2.71s\tremaining: 2.83s\n",
      "147:\tlearn: 1414.9308992\ttotal: 2.73s\tremaining: 2.81s\n",
      "148:\tlearn: 1413.0440928\ttotal: 2.75s\tremaining: 2.79s\n",
      "149:\tlearn: 1412.2633165\ttotal: 2.78s\tremaining: 2.78s\n",
      "150:\tlearn: 1410.6701787\ttotal: 2.8s\tremaining: 2.76s\n",
      "151:\tlearn: 1408.9402602\ttotal: 2.81s\tremaining: 2.74s\n",
      "152:\tlearn: 1407.1219798\ttotal: 2.83s\tremaining: 2.72s\n",
      "153:\tlearn: 1406.1417469\ttotal: 2.85s\tremaining: 2.7s\n",
      "154:\tlearn: 1405.0567259\ttotal: 2.86s\tremaining: 2.68s\n",
      "155:\tlearn: 1404.3676332\ttotal: 2.88s\tremaining: 2.66s\n",
      "156:\tlearn: 1403.6277093\ttotal: 2.89s\tremaining: 2.64s\n",
      "157:\tlearn: 1402.1089717\ttotal: 2.91s\tremaining: 2.62s\n",
      "158:\tlearn: 1401.2599621\ttotal: 2.93s\tremaining: 2.6s\n",
      "159:\tlearn: 1400.0422969\ttotal: 2.94s\tremaining: 2.58s\n",
      "160:\tlearn: 1398.8571946\ttotal: 2.96s\tremaining: 2.56s\n",
      "161:\tlearn: 1396.7714573\ttotal: 2.98s\tremaining: 2.54s\n",
      "162:\tlearn: 1395.4751989\ttotal: 3s\tremaining: 2.52s\n",
      "163:\tlearn: 1394.0665239\ttotal: 3.02s\tremaining: 2.5s\n",
      "164:\tlearn: 1392.6360693\ttotal: 3.03s\tremaining: 2.48s\n",
      "165:\tlearn: 1392.0516430\ttotal: 3.05s\tremaining: 2.46s\n",
      "166:\tlearn: 1390.3630529\ttotal: 3.06s\tremaining: 2.44s\n",
      "167:\tlearn: 1389.5990474\ttotal: 3.08s\tremaining: 2.42s\n",
      "168:\tlearn: 1388.6634920\ttotal: 3.1s\tremaining: 2.4s\n",
      "169:\tlearn: 1386.9634642\ttotal: 3.12s\tremaining: 2.38s\n",
      "170:\tlearn: 1385.2260048\ttotal: 3.13s\tremaining: 2.37s\n",
      "171:\tlearn: 1384.2350164\ttotal: 3.16s\tremaining: 2.35s\n",
      "172:\tlearn: 1383.3126763\ttotal: 3.18s\tremaining: 2.33s\n",
      "173:\tlearn: 1382.3612887\ttotal: 3.2s\tremaining: 2.32s\n",
      "174:\tlearn: 1381.7823055\ttotal: 3.22s\tremaining: 2.3s\n",
      "175:\tlearn: 1380.9219227\ttotal: 3.24s\tremaining: 2.28s\n",
      "176:\tlearn: 1379.5820958\ttotal: 3.26s\tremaining: 2.27s\n",
      "177:\tlearn: 1377.6779077\ttotal: 3.28s\tremaining: 2.25s\n",
      "178:\tlearn: 1377.0100292\ttotal: 3.3s\tremaining: 2.23s\n",
      "179:\tlearn: 1375.8200469\ttotal: 3.31s\tremaining: 2.21s\n",
      "180:\tlearn: 1374.6146582\ttotal: 3.33s\tremaining: 2.19s\n",
      "181:\tlearn: 1373.7669126\ttotal: 3.35s\tremaining: 2.17s\n",
      "182:\tlearn: 1372.4335200\ttotal: 3.37s\tremaining: 2.15s\n",
      "183:\tlearn: 1371.0460299\ttotal: 3.38s\tremaining: 2.13s\n",
      "184:\tlearn: 1369.7310948\ttotal: 3.4s\tremaining: 2.12s\n",
      "185:\tlearn: 1368.0719651\ttotal: 3.42s\tremaining: 2.1s\n",
      "186:\tlearn: 1367.0370270\ttotal: 3.44s\tremaining: 2.08s\n",
      "187:\tlearn: 1366.3486910\ttotal: 3.46s\tremaining: 2.06s\n",
      "188:\tlearn: 1364.3441769\ttotal: 3.48s\tremaining: 2.04s\n",
      "189:\tlearn: 1362.6421434\ttotal: 3.5s\tremaining: 2.02s\n",
      "190:\tlearn: 1361.8444617\ttotal: 3.52s\tremaining: 2.01s\n",
      "191:\tlearn: 1360.7311025\ttotal: 3.54s\tremaining: 1.99s\n",
      "192:\tlearn: 1359.6203768\ttotal: 3.56s\tremaining: 1.97s\n",
      "193:\tlearn: 1358.2886633\ttotal: 3.57s\tremaining: 1.95s\n",
      "194:\tlearn: 1357.3986598\ttotal: 3.59s\tremaining: 1.94s\n",
      "195:\tlearn: 1356.6530317\ttotal: 3.61s\tremaining: 1.92s\n",
      "196:\tlearn: 1355.6276014\ttotal: 3.63s\tremaining: 1.9s\n",
      "197:\tlearn: 1354.6746564\ttotal: 3.65s\tremaining: 1.88s\n",
      "198:\tlearn: 1353.9274852\ttotal: 3.67s\tremaining: 1.86s\n",
      "199:\tlearn: 1353.2783261\ttotal: 3.69s\tremaining: 1.84s\n",
      "200:\tlearn: 1351.9862933\ttotal: 3.71s\tremaining: 1.83s\n",
      "201:\tlearn: 1350.8010531\ttotal: 3.73s\tremaining: 1.81s\n",
      "202:\tlearn: 1349.3693006\ttotal: 3.75s\tremaining: 1.79s\n",
      "203:\tlearn: 1348.5194220\ttotal: 3.77s\tremaining: 1.77s\n",
      "204:\tlearn: 1346.9783087\ttotal: 3.79s\tremaining: 1.76s\n",
      "205:\tlearn: 1346.1606191\ttotal: 3.81s\tremaining: 1.74s\n",
      "206:\tlearn: 1345.2146037\ttotal: 3.83s\tremaining: 1.72s\n",
      "207:\tlearn: 1343.5235408\ttotal: 3.85s\tremaining: 1.7s\n",
      "208:\tlearn: 1342.5363632\ttotal: 3.87s\tremaining: 1.68s\n",
      "209:\tlearn: 1341.5948432\ttotal: 3.88s\tremaining: 1.66s\n",
      "210:\tlearn: 1340.8997570\ttotal: 3.9s\tremaining: 1.65s\n",
      "211:\tlearn: 1339.8851613\ttotal: 3.92s\tremaining: 1.63s\n",
      "212:\tlearn: 1338.6625566\ttotal: 3.94s\tremaining: 1.61s\n",
      "213:\tlearn: 1337.3203982\ttotal: 3.96s\tremaining: 1.59s\n",
      "214:\tlearn: 1336.5868477\ttotal: 3.98s\tremaining: 1.57s\n",
      "215:\tlearn: 1335.2057501\ttotal: 4s\tremaining: 1.55s\n",
      "216:\tlearn: 1334.3114231\ttotal: 4.02s\tremaining: 1.54s\n",
      "217:\tlearn: 1333.5447688\ttotal: 4.04s\tremaining: 1.52s\n",
      "218:\tlearn: 1332.6482617\ttotal: 4.06s\tremaining: 1.5s\n",
      "219:\tlearn: 1331.9242837\ttotal: 4.08s\tremaining: 1.48s\n",
      "220:\tlearn: 1331.1167104\ttotal: 4.1s\tremaining: 1.47s\n",
      "221:\tlearn: 1329.6656147\ttotal: 4.12s\tremaining: 1.45s\n",
      "222:\tlearn: 1328.4555314\ttotal: 4.14s\tremaining: 1.43s\n",
      "223:\tlearn: 1327.5794509\ttotal: 4.16s\tremaining: 1.41s\n",
      "224:\tlearn: 1326.9130964\ttotal: 4.2s\tremaining: 1.4s\n",
      "225:\tlearn: 1326.2847611\ttotal: 4.23s\tremaining: 1.39s\n",
      "226:\tlearn: 1325.0008859\ttotal: 4.25s\tremaining: 1.37s\n",
      "227:\tlearn: 1324.0295979\ttotal: 4.27s\tremaining: 1.35s\n",
      "228:\tlearn: 1323.4611617\ttotal: 4.29s\tremaining: 1.33s\n",
      "229:\tlearn: 1323.0181467\ttotal: 4.31s\tremaining: 1.31s\n",
      "230:\tlearn: 1322.0227070\ttotal: 4.33s\tremaining: 1.29s\n",
      "231:\tlearn: 1321.0816141\ttotal: 4.35s\tremaining: 1.27s\n",
      "232:\tlearn: 1320.5140855\ttotal: 4.36s\tremaining: 1.25s\n",
      "233:\tlearn: 1319.9421022\ttotal: 4.38s\tremaining: 1.24s\n",
      "234:\tlearn: 1319.5890756\ttotal: 4.4s\tremaining: 1.22s\n",
      "235:\tlearn: 1318.3132964\ttotal: 4.42s\tremaining: 1.2s\n",
      "236:\tlearn: 1317.6897870\ttotal: 4.44s\tremaining: 1.18s\n",
      "237:\tlearn: 1317.3419398\ttotal: 4.46s\tremaining: 1.16s\n",
      "238:\tlearn: 1316.3131328\ttotal: 4.48s\tremaining: 1.14s\n",
      "239:\tlearn: 1315.7546823\ttotal: 4.49s\tremaining: 1.12s\n",
      "240:\tlearn: 1314.9632819\ttotal: 4.51s\tremaining: 1.1s\n",
      "241:\tlearn: 1314.1175476\ttotal: 4.53s\tremaining: 1.08s\n",
      "242:\tlearn: 1313.6970712\ttotal: 4.54s\tremaining: 1.07s\n",
      "243:\tlearn: 1312.7256038\ttotal: 4.56s\tremaining: 1.05s\n",
      "244:\tlearn: 1311.4971533\ttotal: 4.58s\tremaining: 1.03s\n",
      "245:\tlearn: 1310.7299006\ttotal: 4.6s\tremaining: 1.01s\n",
      "246:\tlearn: 1309.8685886\ttotal: 4.62s\tremaining: 992ms\n",
      "247:\tlearn: 1309.2956173\ttotal: 4.64s\tremaining: 974ms\n",
      "248:\tlearn: 1308.6917719\ttotal: 4.67s\tremaining: 956ms\n",
      "249:\tlearn: 1308.0821001\ttotal: 4.69s\tremaining: 938ms\n",
      "250:\tlearn: 1307.6343470\ttotal: 4.71s\tremaining: 919ms\n",
      "251:\tlearn: 1306.7490095\ttotal: 4.72s\tremaining: 900ms\n",
      "252:\tlearn: 1305.7230189\ttotal: 4.74s\tremaining: 881ms\n",
      "253:\tlearn: 1305.1757546\ttotal: 4.76s\tremaining: 861ms\n",
      "254:\tlearn: 1304.3587330\ttotal: 4.77s\tremaining: 842ms\n",
      "255:\tlearn: 1303.4132804\ttotal: 4.79s\tremaining: 823ms\n",
      "256:\tlearn: 1302.8340796\ttotal: 4.81s\tremaining: 804ms\n",
      "257:\tlearn: 1301.7608529\ttotal: 4.83s\tremaining: 786ms\n",
      "258:\tlearn: 1300.6578382\ttotal: 4.85s\tremaining: 768ms\n",
      "259:\tlearn: 1300.0960824\ttotal: 4.87s\tremaining: 750ms\n",
      "260:\tlearn: 1299.0608900\ttotal: 4.89s\tremaining: 731ms\n",
      "261:\tlearn: 1298.5426364\ttotal: 4.91s\tremaining: 713ms\n",
      "262:\tlearn: 1297.9085655\ttotal: 4.93s\tremaining: 694ms\n",
      "263:\tlearn: 1297.0333670\ttotal: 4.95s\tremaining: 676ms\n",
      "264:\tlearn: 1296.4970950\ttotal: 4.97s\tremaining: 657ms\n",
      "265:\tlearn: 1295.9698275\ttotal: 4.99s\tremaining: 638ms\n",
      "266:\tlearn: 1295.2907869\ttotal: 5.01s\tremaining: 619ms\n",
      "267:\tlearn: 1294.5795269\ttotal: 5.03s\tremaining: 601ms\n",
      "268:\tlearn: 1293.7544556\ttotal: 5.05s\tremaining: 582ms\n",
      "269:\tlearn: 1292.3218478\ttotal: 5.08s\tremaining: 564ms\n",
      "270:\tlearn: 1291.4465729\ttotal: 5.1s\tremaining: 545ms\n",
      "271:\tlearn: 1291.1279580\ttotal: 5.12s\tremaining: 527ms\n",
      "272:\tlearn: 1290.5388715\ttotal: 5.14s\tremaining: 508ms\n",
      "273:\tlearn: 1289.9465703\ttotal: 5.15s\tremaining: 489ms\n",
      "274:\tlearn: 1288.9924742\ttotal: 5.17s\tremaining: 470ms\n",
      "275:\tlearn: 1288.0301618\ttotal: 5.19s\tremaining: 451ms\n",
      "276:\tlearn: 1286.7156561\ttotal: 5.2s\tremaining: 432ms\n",
      "277:\tlearn: 1286.1308375\ttotal: 5.22s\tremaining: 413ms\n",
      "278:\tlearn: 1285.4299872\ttotal: 5.24s\tremaining: 394ms\n",
      "279:\tlearn: 1284.5319590\ttotal: 5.26s\tremaining: 376ms\n",
      "280:\tlearn: 1284.0845382\ttotal: 5.28s\tremaining: 357ms\n",
      "281:\tlearn: 1283.3531932\ttotal: 5.3s\tremaining: 338ms\n",
      "282:\tlearn: 1282.5261670\ttotal: 5.32s\tremaining: 319ms\n",
      "283:\tlearn: 1281.7233068\ttotal: 5.33s\tremaining: 300ms\n",
      "284:\tlearn: 1281.0743141\ttotal: 5.35s\tremaining: 281ms\n",
      "285:\tlearn: 1280.4293202\ttotal: 5.37s\tremaining: 263ms\n",
      "286:\tlearn: 1279.6630702\ttotal: 5.38s\tremaining: 244ms\n",
      "287:\tlearn: 1279.2631590\ttotal: 5.4s\tremaining: 225ms\n",
      "288:\tlearn: 1278.6697578\ttotal: 5.41s\tremaining: 206ms\n",
      "289:\tlearn: 1278.0179007\ttotal: 5.43s\tremaining: 187ms\n",
      "290:\tlearn: 1276.8098217\ttotal: 5.45s\tremaining: 168ms\n",
      "291:\tlearn: 1275.8773969\ttotal: 5.46s\tremaining: 150ms\n",
      "292:\tlearn: 1274.6003880\ttotal: 5.49s\tremaining: 131ms\n",
      "293:\tlearn: 1274.0497217\ttotal: 5.5s\tremaining: 112ms\n",
      "294:\tlearn: 1273.0434896\ttotal: 5.52s\tremaining: 93.5ms\n",
      "295:\tlearn: 1272.3915379\ttotal: 5.54s\tremaining: 74.8ms\n",
      "296:\tlearn: 1271.8935390\ttotal: 5.56s\tremaining: 56.1ms\n",
      "297:\tlearn: 1271.4183689\ttotal: 5.58s\tremaining: 37.4ms\n",
      "298:\tlearn: 1270.9237808\ttotal: 5.59s\tremaining: 18.7ms\n",
      "299:\tlearn: 1270.3736122\ttotal: 5.61s\tremaining: 0us\n",
      "0:\tlearn: 3635.2328189\ttotal: 17.5ms\tremaining: 5.24s\n",
      "1:\tlearn: 2986.4403154\ttotal: 34.1ms\tremaining: 5.08s\n",
      "2:\tlearn: 2564.2044730\ttotal: 50.9ms\tremaining: 5.04s\n",
      "3:\tlearn: 2288.6264092\ttotal: 68ms\tremaining: 5.03s\n",
      "4:\tlearn: 2115.2897113\ttotal: 84.5ms\tremaining: 4.99s\n",
      "5:\tlearn: 2003.1091168\ttotal: 101ms\tremaining: 4.96s\n",
      "6:\tlearn: 1926.8073296\ttotal: 119ms\tremaining: 4.98s\n",
      "7:\tlearn: 1874.3492516\ttotal: 135ms\tremaining: 4.94s\n",
      "8:\tlearn: 1835.0618077\ttotal: 152ms\tremaining: 4.91s\n",
      "9:\tlearn: 1807.9029845\ttotal: 168ms\tremaining: 4.88s\n",
      "10:\tlearn: 1789.3298389\ttotal: 185ms\tremaining: 4.86s\n",
      "11:\tlearn: 1774.4166205\ttotal: 202ms\tremaining: 4.84s\n",
      "12:\tlearn: 1762.3472305\ttotal: 218ms\tremaining: 4.82s\n",
      "13:\tlearn: 1750.1837124\ttotal: 237ms\tremaining: 4.84s\n",
      "14:\tlearn: 1741.3379719\ttotal: 255ms\tremaining: 4.85s\n",
      "15:\tlearn: 1729.4075025\ttotal: 275ms\tremaining: 4.88s\n",
      "16:\tlearn: 1717.6593769\ttotal: 293ms\tremaining: 4.88s\n",
      "17:\tlearn: 1710.9130197\ttotal: 310ms\tremaining: 4.85s\n",
      "18:\tlearn: 1703.6277509\ttotal: 326ms\tremaining: 4.82s\n",
      "19:\tlearn: 1699.0088669\ttotal: 342ms\tremaining: 4.79s\n",
      "20:\tlearn: 1692.0182724\ttotal: 358ms\tremaining: 4.76s\n",
      "21:\tlearn: 1685.1974469\ttotal: 374ms\tremaining: 4.73s\n",
      "22:\tlearn: 1680.6609749\ttotal: 390ms\tremaining: 4.69s\n",
      "23:\tlearn: 1674.6853199\ttotal: 406ms\tremaining: 4.67s\n",
      "24:\tlearn: 1669.3148094\ttotal: 423ms\tremaining: 4.65s\n",
      "25:\tlearn: 1663.8113505\ttotal: 441ms\tremaining: 4.65s\n",
      "26:\tlearn: 1660.6573933\ttotal: 460ms\tremaining: 4.65s\n",
      "27:\tlearn: 1658.0163624\ttotal: 477ms\tremaining: 4.63s\n",
      "28:\tlearn: 1653.9681778\ttotal: 495ms\tremaining: 4.63s\n",
      "29:\tlearn: 1648.6485355\ttotal: 512ms\tremaining: 4.6s\n",
      "30:\tlearn: 1645.9074619\ttotal: 529ms\tremaining: 4.59s\n",
      "31:\tlearn: 1640.1422655\ttotal: 545ms\tremaining: 4.57s\n",
      "32:\tlearn: 1636.9304374\ttotal: 562ms\tremaining: 4.55s\n",
      "33:\tlearn: 1633.0339369\ttotal: 578ms\tremaining: 4.52s\n",
      "34:\tlearn: 1629.9778266\ttotal: 595ms\tremaining: 4.5s\n",
      "35:\tlearn: 1626.0229624\ttotal: 612ms\tremaining: 4.49s\n",
      "36:\tlearn: 1622.5868283\ttotal: 629ms\tremaining: 4.47s\n",
      "37:\tlearn: 1618.9663111\ttotal: 647ms\tremaining: 4.46s\n",
      "38:\tlearn: 1616.0643525\ttotal: 665ms\tremaining: 4.45s\n",
      "39:\tlearn: 1612.8069140\ttotal: 684ms\tremaining: 4.45s\n",
      "40:\tlearn: 1610.0042289\ttotal: 703ms\tremaining: 4.44s\n",
      "41:\tlearn: 1607.7021039\ttotal: 720ms\tremaining: 4.42s\n",
      "42:\tlearn: 1604.5771731\ttotal: 737ms\tremaining: 4.4s\n",
      "43:\tlearn: 1601.9433276\ttotal: 753ms\tremaining: 4.38s\n",
      "44:\tlearn: 1599.9030575\ttotal: 770ms\tremaining: 4.36s\n",
      "45:\tlearn: 1597.9485593\ttotal: 786ms\tremaining: 4.34s\n",
      "46:\tlearn: 1594.5629253\ttotal: 804ms\tremaining: 4.33s\n",
      "47:\tlearn: 1591.1409412\ttotal: 821ms\tremaining: 4.31s\n",
      "48:\tlearn: 1587.6397960\ttotal: 841ms\tremaining: 4.3s\n",
      "49:\tlearn: 1584.7725123\ttotal: 859ms\tremaining: 4.3s\n",
      "50:\tlearn: 1581.1780518\ttotal: 879ms\tremaining: 4.29s\n",
      "51:\tlearn: 1579.0595716\ttotal: 899ms\tremaining: 4.29s\n",
      "52:\tlearn: 1575.6223750\ttotal: 916ms\tremaining: 4.27s\n",
      "53:\tlearn: 1572.7302074\ttotal: 933ms\tremaining: 4.25s\n",
      "54:\tlearn: 1569.5633870\ttotal: 950ms\tremaining: 4.23s\n",
      "55:\tlearn: 1565.8277639\ttotal: 967ms\tremaining: 4.21s\n",
      "56:\tlearn: 1563.8585134\ttotal: 983ms\tremaining: 4.19s\n",
      "57:\tlearn: 1560.8478945\ttotal: 1000ms\tremaining: 4.17s\n",
      "58:\tlearn: 1558.5526407\ttotal: 1.02s\tremaining: 4.15s\n",
      "59:\tlearn: 1555.7445913\ttotal: 1.03s\tremaining: 4.13s\n",
      "60:\tlearn: 1551.0690454\ttotal: 1.07s\tremaining: 4.19s\n",
      "61:\tlearn: 1548.8379685\ttotal: 1.09s\tremaining: 4.19s\n",
      "62:\tlearn: 1546.4122873\ttotal: 1.11s\tremaining: 4.17s\n",
      "63:\tlearn: 1544.3679119\ttotal: 1.13s\tremaining: 4.17s\n",
      "64:\tlearn: 1541.8796995\ttotal: 1.16s\tremaining: 4.19s\n",
      "65:\tlearn: 1540.2838051\ttotal: 1.18s\tremaining: 4.17s\n",
      "66:\tlearn: 1539.2855642\ttotal: 1.2s\tremaining: 4.16s\n",
      "67:\tlearn: 1537.1972830\ttotal: 1.21s\tremaining: 4.14s\n",
      "68:\tlearn: 1535.2601120\ttotal: 1.23s\tremaining: 4.12s\n",
      "69:\tlearn: 1534.2447500\ttotal: 1.25s\tremaining: 4.1s\n",
      "70:\tlearn: 1532.6671306\ttotal: 1.26s\tremaining: 4.08s\n",
      "71:\tlearn: 1529.7971172\ttotal: 1.28s\tremaining: 4.06s\n",
      "72:\tlearn: 1525.7330898\ttotal: 1.3s\tremaining: 4.05s\n",
      "73:\tlearn: 1523.0001984\ttotal: 1.32s\tremaining: 4.03s\n",
      "74:\tlearn: 1520.5597620\ttotal: 1.34s\tremaining: 4.02s\n",
      "75:\tlearn: 1519.4221683\ttotal: 1.36s\tremaining: 4s\n",
      "76:\tlearn: 1517.9766917\ttotal: 1.38s\tremaining: 3.98s\n",
      "77:\tlearn: 1516.3357722\ttotal: 1.39s\tremaining: 3.96s\n",
      "78:\tlearn: 1514.8473607\ttotal: 1.41s\tremaining: 3.94s\n",
      "79:\tlearn: 1513.0511799\ttotal: 1.43s\tremaining: 3.92s\n",
      "80:\tlearn: 1511.6626698\ttotal: 1.44s\tremaining: 3.9s\n",
      "81:\tlearn: 1508.3022880\ttotal: 1.46s\tremaining: 3.88s\n",
      "82:\tlearn: 1505.0497206\ttotal: 1.48s\tremaining: 3.87s\n",
      "83:\tlearn: 1503.2505396\ttotal: 1.5s\tremaining: 3.85s\n",
      "84:\tlearn: 1501.1505490\ttotal: 1.51s\tremaining: 3.83s\n",
      "85:\tlearn: 1500.1277696\ttotal: 1.53s\tremaining: 3.82s\n",
      "86:\tlearn: 1498.0105460\ttotal: 1.55s\tremaining: 3.8s\n",
      "87:\tlearn: 1496.2104143\ttotal: 1.57s\tremaining: 3.78s\n",
      "88:\tlearn: 1493.8180161\ttotal: 1.59s\tremaining: 3.77s\n",
      "89:\tlearn: 1491.8995759\ttotal: 1.6s\tremaining: 3.75s\n",
      "90:\tlearn: 1489.7916688\ttotal: 1.62s\tremaining: 3.73s\n",
      "91:\tlearn: 1487.2929750\ttotal: 1.64s\tremaining: 3.71s\n",
      "92:\tlearn: 1486.3974583\ttotal: 1.66s\tremaining: 3.69s\n",
      "93:\tlearn: 1486.1562446\ttotal: 1.67s\tremaining: 3.67s\n",
      "94:\tlearn: 1484.5631703\ttotal: 1.69s\tremaining: 3.65s\n",
      "95:\tlearn: 1483.1060972\ttotal: 1.71s\tremaining: 3.63s\n",
      "96:\tlearn: 1480.8791713\ttotal: 1.73s\tremaining: 3.62s\n",
      "97:\tlearn: 1480.0061977\ttotal: 1.75s\tremaining: 3.6s\n",
      "98:\tlearn: 1478.0967961\ttotal: 1.77s\tremaining: 3.59s\n",
      "99:\tlearn: 1476.5860513\ttotal: 1.78s\tremaining: 3.57s\n",
      "100:\tlearn: 1475.2488888\ttotal: 1.8s\tremaining: 3.55s\n",
      "101:\tlearn: 1473.5692889\ttotal: 1.82s\tremaining: 3.53s\n",
      "102:\tlearn: 1471.1568967\ttotal: 1.83s\tremaining: 3.51s\n",
      "103:\tlearn: 1469.6123504\ttotal: 1.85s\tremaining: 3.49s\n",
      "104:\tlearn: 1467.9707671\ttotal: 1.87s\tremaining: 3.47s\n",
      "105:\tlearn: 1466.8714132\ttotal: 1.89s\tremaining: 3.45s\n",
      "106:\tlearn: 1465.7988425\ttotal: 1.9s\tremaining: 3.43s\n",
      "107:\tlearn: 1464.2209047\ttotal: 1.92s\tremaining: 3.42s\n",
      "108:\tlearn: 1461.6049429\ttotal: 1.94s\tremaining: 3.41s\n",
      "109:\tlearn: 1458.8804014\ttotal: 1.96s\tremaining: 3.39s\n",
      "110:\tlearn: 1457.4729930\ttotal: 1.98s\tremaining: 3.38s\n",
      "111:\tlearn: 1456.1235779\ttotal: 2s\tremaining: 3.36s\n",
      "112:\tlearn: 1455.2873493\ttotal: 2.02s\tremaining: 3.34s\n",
      "113:\tlearn: 1453.9083718\ttotal: 2.04s\tremaining: 3.32s\n",
      "114:\tlearn: 1452.1979279\ttotal: 2.05s\tremaining: 3.3s\n",
      "115:\tlearn: 1450.1533570\ttotal: 2.07s\tremaining: 3.28s\n",
      "116:\tlearn: 1447.8372487\ttotal: 2.09s\tremaining: 3.26s\n",
      "117:\tlearn: 1446.1485807\ttotal: 2.1s\tremaining: 3.25s\n",
      "118:\tlearn: 1445.4542812\ttotal: 2.12s\tremaining: 3.23s\n",
      "119:\tlearn: 1444.8299454\ttotal: 2.14s\tremaining: 3.21s\n",
      "120:\tlearn: 1442.8690288\ttotal: 2.16s\tremaining: 3.19s\n",
      "121:\tlearn: 1441.5587939\ttotal: 2.18s\tremaining: 3.18s\n",
      "122:\tlearn: 1440.4111825\ttotal: 2.2s\tremaining: 3.16s\n",
      "123:\tlearn: 1439.3878115\ttotal: 2.21s\tremaining: 3.14s\n",
      "124:\tlearn: 1438.1635604\ttotal: 2.23s\tremaining: 3.12s\n",
      "125:\tlearn: 1436.4865439\ttotal: 2.25s\tremaining: 3.1s\n",
      "126:\tlearn: 1435.8062332\ttotal: 2.26s\tremaining: 3.08s\n",
      "127:\tlearn: 1434.4237764\ttotal: 2.28s\tremaining: 3.06s\n",
      "128:\tlearn: 1432.8991959\ttotal: 2.3s\tremaining: 3.04s\n",
      "129:\tlearn: 1431.3931295\ttotal: 2.31s\tremaining: 3.03s\n",
      "130:\tlearn: 1429.8782640\ttotal: 2.33s\tremaining: 3.01s\n",
      "131:\tlearn: 1427.9728577\ttotal: 2.35s\tremaining: 2.99s\n",
      "132:\tlearn: 1426.8405907\ttotal: 2.37s\tremaining: 2.97s\n",
      "133:\tlearn: 1425.4345255\ttotal: 2.39s\tremaining: 2.96s\n",
      "134:\tlearn: 1424.9219824\ttotal: 2.41s\tremaining: 2.94s\n",
      "135:\tlearn: 1423.4618526\ttotal: 2.43s\tremaining: 2.93s\n",
      "136:\tlearn: 1421.0851270\ttotal: 2.44s\tremaining: 2.91s\n",
      "137:\tlearn: 1419.5993401\ttotal: 2.46s\tremaining: 2.89s\n",
      "138:\tlearn: 1418.1107366\ttotal: 2.48s\tremaining: 2.87s\n",
      "139:\tlearn: 1416.1587265\ttotal: 2.5s\tremaining: 2.85s\n",
      "140:\tlearn: 1413.7073001\ttotal: 2.51s\tremaining: 2.83s\n",
      "141:\tlearn: 1411.9499454\ttotal: 2.53s\tremaining: 2.82s\n",
      "142:\tlearn: 1410.3340537\ttotal: 2.55s\tremaining: 2.8s\n",
      "143:\tlearn: 1409.5585500\ttotal: 2.57s\tremaining: 2.78s\n",
      "144:\tlearn: 1409.4221019\ttotal: 2.59s\tremaining: 2.77s\n",
      "145:\tlearn: 1408.4209564\ttotal: 2.61s\tremaining: 2.75s\n",
      "146:\tlearn: 1407.2045993\ttotal: 2.63s\tremaining: 2.74s\n",
      "147:\tlearn: 1405.5653583\ttotal: 2.65s\tremaining: 2.72s\n",
      "148:\tlearn: 1403.4854275\ttotal: 2.67s\tremaining: 2.7s\n",
      "149:\tlearn: 1402.5994898\ttotal: 2.68s\tremaining: 2.68s\n",
      "150:\tlearn: 1402.2613582\ttotal: 2.7s\tremaining: 2.66s\n",
      "151:\tlearn: 1401.2303909\ttotal: 2.71s\tremaining: 2.64s\n",
      "152:\tlearn: 1399.9556989\ttotal: 2.73s\tremaining: 2.62s\n",
      "153:\tlearn: 1398.5805577\ttotal: 2.75s\tremaining: 2.6s\n",
      "154:\tlearn: 1398.1825046\ttotal: 2.76s\tremaining: 2.58s\n",
      "155:\tlearn: 1396.3900995\ttotal: 2.78s\tremaining: 2.56s\n",
      "156:\tlearn: 1396.1114122\ttotal: 2.8s\tremaining: 2.55s\n",
      "157:\tlearn: 1395.1205288\ttotal: 2.82s\tremaining: 2.53s\n",
      "158:\tlearn: 1393.7692804\ttotal: 2.84s\tremaining: 2.52s\n",
      "159:\tlearn: 1392.9103842\ttotal: 2.85s\tremaining: 2.5s\n",
      "160:\tlearn: 1391.5400358\ttotal: 2.87s\tremaining: 2.48s\n",
      "161:\tlearn: 1390.1901484\ttotal: 2.88s\tremaining: 2.46s\n",
      "162:\tlearn: 1389.2606200\ttotal: 2.9s\tremaining: 2.44s\n",
      "163:\tlearn: 1387.6703303\ttotal: 2.92s\tremaining: 2.42s\n",
      "164:\tlearn: 1386.3688560\ttotal: 2.93s\tremaining: 2.4s\n",
      "165:\tlearn: 1385.3068870\ttotal: 2.95s\tremaining: 2.38s\n",
      "166:\tlearn: 1384.1135701\ttotal: 2.96s\tremaining: 2.36s\n",
      "167:\tlearn: 1382.7417995\ttotal: 2.98s\tremaining: 2.34s\n",
      "168:\tlearn: 1381.9957831\ttotal: 3s\tremaining: 2.33s\n",
      "169:\tlearn: 1380.8753794\ttotal: 3.02s\tremaining: 2.31s\n",
      "170:\tlearn: 1379.5848437\ttotal: 3.04s\tremaining: 2.29s\n",
      "171:\tlearn: 1377.8443258\ttotal: 3.06s\tremaining: 2.27s\n",
      "172:\tlearn: 1376.7689369\ttotal: 3.07s\tremaining: 2.25s\n",
      "173:\tlearn: 1376.1801671\ttotal: 3.09s\tremaining: 2.24s\n",
      "174:\tlearn: 1374.9088789\ttotal: 3.1s\tremaining: 2.22s\n",
      "175:\tlearn: 1374.1468196\ttotal: 3.12s\tremaining: 2.2s\n",
      "176:\tlearn: 1373.1654000\ttotal: 3.14s\tremaining: 2.18s\n",
      "177:\tlearn: 1372.0654744\ttotal: 3.15s\tremaining: 2.16s\n",
      "178:\tlearn: 1371.1530746\ttotal: 3.17s\tremaining: 2.14s\n",
      "179:\tlearn: 1370.1917257\ttotal: 3.19s\tremaining: 2.12s\n",
      "180:\tlearn: 1368.7930003\ttotal: 3.2s\tremaining: 2.11s\n",
      "181:\tlearn: 1368.0238541\ttotal: 3.22s\tremaining: 2.09s\n",
      "182:\tlearn: 1366.7249219\ttotal: 3.24s\tremaining: 2.07s\n",
      "183:\tlearn: 1365.9158163\ttotal: 3.26s\tremaining: 2.06s\n",
      "184:\tlearn: 1364.8400040\ttotal: 3.28s\tremaining: 2.04s\n",
      "185:\tlearn: 1363.6643741\ttotal: 3.29s\tremaining: 2.02s\n",
      "186:\tlearn: 1362.7404253\ttotal: 3.31s\tremaining: 2s\n",
      "187:\tlearn: 1361.6486652\ttotal: 3.33s\tremaining: 1.98s\n",
      "188:\tlearn: 1360.9268111\ttotal: 3.34s\tremaining: 1.96s\n",
      "189:\tlearn: 1359.7128678\ttotal: 3.36s\tremaining: 1.94s\n",
      "190:\tlearn: 1358.8921065\ttotal: 3.38s\tremaining: 1.93s\n",
      "191:\tlearn: 1357.3713568\ttotal: 3.39s\tremaining: 1.91s\n",
      "192:\tlearn: 1356.7912900\ttotal: 3.41s\tremaining: 1.89s\n",
      "193:\tlearn: 1355.6033837\ttotal: 3.43s\tremaining: 1.87s\n",
      "194:\tlearn: 1354.7735113\ttotal: 3.45s\tremaining: 1.85s\n",
      "195:\tlearn: 1353.9942451\ttotal: 3.46s\tremaining: 1.84s\n",
      "196:\tlearn: 1352.8584347\ttotal: 3.48s\tremaining: 1.82s\n",
      "197:\tlearn: 1351.9205075\ttotal: 3.5s\tremaining: 1.8s\n",
      "198:\tlearn: 1351.3734835\ttotal: 3.51s\tremaining: 1.78s\n",
      "199:\tlearn: 1349.8180791\ttotal: 3.53s\tremaining: 1.76s\n",
      "200:\tlearn: 1348.9546137\ttotal: 3.55s\tremaining: 1.75s\n",
      "201:\tlearn: 1347.8283973\ttotal: 3.56s\tremaining: 1.73s\n",
      "202:\tlearn: 1346.6498718\ttotal: 3.58s\tremaining: 1.71s\n",
      "203:\tlearn: 1345.8407298\ttotal: 3.6s\tremaining: 1.69s\n",
      "204:\tlearn: 1344.9042796\ttotal: 3.62s\tremaining: 1.68s\n",
      "205:\tlearn: 1344.0352543\ttotal: 3.64s\tremaining: 1.66s\n",
      "206:\tlearn: 1342.9698482\ttotal: 3.66s\tremaining: 1.65s\n",
      "207:\tlearn: 1341.9032829\ttotal: 3.68s\tremaining: 1.63s\n",
      "208:\tlearn: 1340.8503864\ttotal: 3.7s\tremaining: 1.61s\n",
      "209:\tlearn: 1339.7307905\ttotal: 3.71s\tremaining: 1.59s\n",
      "210:\tlearn: 1338.9210854\ttotal: 3.73s\tremaining: 1.57s\n",
      "211:\tlearn: 1338.1505846\ttotal: 3.75s\tremaining: 1.56s\n",
      "212:\tlearn: 1337.1044399\ttotal: 3.77s\tremaining: 1.54s\n",
      "213:\tlearn: 1336.7721397\ttotal: 3.78s\tremaining: 1.52s\n",
      "214:\tlearn: 1335.9681036\ttotal: 3.8s\tremaining: 1.5s\n",
      "215:\tlearn: 1335.2115296\ttotal: 3.82s\tremaining: 1.49s\n",
      "216:\tlearn: 1334.4447715\ttotal: 3.84s\tremaining: 1.47s\n",
      "217:\tlearn: 1334.1124998\ttotal: 3.86s\tremaining: 1.45s\n",
      "218:\tlearn: 1333.3876929\ttotal: 3.88s\tremaining: 1.43s\n",
      "219:\tlearn: 1332.0609789\ttotal: 3.9s\tremaining: 1.42s\n",
      "220:\tlearn: 1330.6512974\ttotal: 3.91s\tremaining: 1.4s\n",
      "221:\tlearn: 1328.7480500\ttotal: 3.93s\tremaining: 1.38s\n",
      "222:\tlearn: 1327.0079957\ttotal: 3.95s\tremaining: 1.36s\n",
      "223:\tlearn: 1325.8404050\ttotal: 3.96s\tremaining: 1.34s\n",
      "224:\tlearn: 1325.0064553\ttotal: 3.98s\tremaining: 1.33s\n",
      "225:\tlearn: 1324.1775836\ttotal: 4s\tremaining: 1.31s\n",
      "226:\tlearn: 1323.4065707\ttotal: 4.02s\tremaining: 1.29s\n",
      "227:\tlearn: 1322.4207853\ttotal: 4.04s\tremaining: 1.27s\n",
      "228:\tlearn: 1321.6649415\ttotal: 4.06s\tremaining: 1.26s\n",
      "229:\tlearn: 1320.8212359\ttotal: 4.1s\tremaining: 1.25s\n",
      "230:\tlearn: 1320.4469891\ttotal: 4.13s\tremaining: 1.23s\n",
      "231:\tlearn: 1319.4437592\ttotal: 4.14s\tremaining: 1.21s\n",
      "232:\tlearn: 1317.6602264\ttotal: 4.17s\tremaining: 1.2s\n",
      "233:\tlearn: 1316.5656738\ttotal: 4.18s\tremaining: 1.18s\n",
      "234:\tlearn: 1314.9513917\ttotal: 4.2s\tremaining: 1.16s\n",
      "235:\tlearn: 1313.9458782\ttotal: 4.22s\tremaining: 1.14s\n",
      "236:\tlearn: 1312.9865215\ttotal: 4.24s\tremaining: 1.13s\n",
      "237:\tlearn: 1312.5549931\ttotal: 4.26s\tremaining: 1.11s\n",
      "238:\tlearn: 1311.7082111\ttotal: 4.28s\tremaining: 1.09s\n",
      "239:\tlearn: 1311.0199759\ttotal: 4.3s\tremaining: 1.07s\n",
      "240:\tlearn: 1309.8873302\ttotal: 4.31s\tremaining: 1.06s\n",
      "241:\tlearn: 1309.2691718\ttotal: 4.33s\tremaining: 1.04s\n",
      "242:\tlearn: 1308.4510913\ttotal: 4.35s\tremaining: 1.02s\n",
      "243:\tlearn: 1307.8064554\ttotal: 4.36s\tremaining: 1s\n",
      "244:\tlearn: 1306.7311509\ttotal: 4.38s\tremaining: 984ms\n",
      "245:\tlearn: 1305.8411329\ttotal: 4.4s\tremaining: 966ms\n",
      "246:\tlearn: 1304.7943004\ttotal: 4.42s\tremaining: 948ms\n",
      "247:\tlearn: 1304.2886755\ttotal: 4.43s\tremaining: 930ms\n",
      "248:\tlearn: 1302.9809385\ttotal: 4.45s\tremaining: 912ms\n",
      "249:\tlearn: 1302.2709117\ttotal: 4.47s\tremaining: 895ms\n",
      "250:\tlearn: 1301.3123633\ttotal: 4.49s\tremaining: 877ms\n",
      "251:\tlearn: 1300.5626872\ttotal: 4.51s\tremaining: 859ms\n",
      "252:\tlearn: 1299.7849635\ttotal: 4.53s\tremaining: 841ms\n",
      "253:\tlearn: 1298.5852254\ttotal: 4.55s\tremaining: 823ms\n",
      "254:\tlearn: 1297.8768710\ttotal: 4.56s\tremaining: 805ms\n",
      "255:\tlearn: 1297.0328983\ttotal: 4.58s\tremaining: 787ms\n",
      "256:\tlearn: 1296.1378322\ttotal: 4.6s\tremaining: 769ms\n",
      "257:\tlearn: 1295.6947004\ttotal: 4.61s\tremaining: 751ms\n",
      "258:\tlearn: 1295.3378770\ttotal: 4.63s\tremaining: 733ms\n",
      "259:\tlearn: 1294.3944543\ttotal: 4.65s\tremaining: 716ms\n",
      "260:\tlearn: 1293.2634298\ttotal: 4.67s\tremaining: 698ms\n",
      "261:\tlearn: 1292.5846156\ttotal: 4.69s\tremaining: 680ms\n",
      "262:\tlearn: 1291.9000286\ttotal: 4.71s\tremaining: 663ms\n",
      "263:\tlearn: 1291.0791328\ttotal: 4.73s\tremaining: 645ms\n",
      "264:\tlearn: 1290.2143671\ttotal: 4.74s\tremaining: 627ms\n",
      "265:\tlearn: 1289.4953983\ttotal: 4.76s\tremaining: 609ms\n",
      "266:\tlearn: 1288.2283263\ttotal: 4.78s\tremaining: 591ms\n",
      "267:\tlearn: 1287.3420015\ttotal: 4.79s\tremaining: 573ms\n",
      "268:\tlearn: 1286.8617480\ttotal: 4.82s\tremaining: 555ms\n",
      "269:\tlearn: 1285.8510888\ttotal: 4.83s\tremaining: 537ms\n",
      "270:\tlearn: 1285.2070980\ttotal: 4.85s\tremaining: 519ms\n",
      "271:\tlearn: 1284.7604166\ttotal: 4.87s\tremaining: 502ms\n",
      "272:\tlearn: 1284.0367145\ttotal: 4.89s\tremaining: 484ms\n",
      "273:\tlearn: 1283.3960137\ttotal: 4.91s\tremaining: 466ms\n",
      "274:\tlearn: 1282.9039210\ttotal: 4.93s\tremaining: 448ms\n",
      "275:\tlearn: 1282.0028513\ttotal: 4.95s\tremaining: 430ms\n",
      "276:\tlearn: 1281.1691723\ttotal: 4.96s\tremaining: 412ms\n",
      "277:\tlearn: 1280.4285608\ttotal: 4.98s\tremaining: 394ms\n",
      "278:\tlearn: 1279.3411969\ttotal: 5s\tremaining: 376ms\n",
      "279:\tlearn: 1278.8692828\ttotal: 5.02s\tremaining: 358ms\n",
      "280:\tlearn: 1277.8044390\ttotal: 5.03s\tremaining: 340ms\n",
      "281:\tlearn: 1276.9253050\ttotal: 5.05s\tremaining: 322ms\n",
      "282:\tlearn: 1276.2311492\ttotal: 5.07s\tremaining: 305ms\n",
      "283:\tlearn: 1275.8209391\ttotal: 5.09s\tremaining: 287ms\n",
      "284:\tlearn: 1274.8907130\ttotal: 5.11s\tremaining: 269ms\n",
      "285:\tlearn: 1274.3004946\ttotal: 5.13s\tremaining: 251ms\n",
      "286:\tlearn: 1273.5468345\ttotal: 5.14s\tremaining: 233ms\n",
      "287:\tlearn: 1272.3637633\ttotal: 5.16s\tremaining: 215ms\n",
      "288:\tlearn: 1271.4816115\ttotal: 5.18s\tremaining: 197ms\n",
      "289:\tlearn: 1271.0968238\ttotal: 5.2s\tremaining: 179ms\n",
      "290:\tlearn: 1270.3961600\ttotal: 5.21s\tremaining: 161ms\n",
      "291:\tlearn: 1269.3392212\ttotal: 5.23s\tremaining: 143ms\n",
      "292:\tlearn: 1268.6425749\ttotal: 5.25s\tremaining: 125ms\n",
      "293:\tlearn: 1267.7987052\ttotal: 5.26s\tremaining: 107ms\n",
      "294:\tlearn: 1267.1812155\ttotal: 5.28s\tremaining: 89.5ms\n",
      "295:\tlearn: 1266.3860875\ttotal: 5.3s\tremaining: 71.7ms\n",
      "296:\tlearn: 1265.5009795\ttotal: 5.32s\tremaining: 53.8ms\n",
      "297:\tlearn: 1264.6164662\ttotal: 5.34s\tremaining: 35.9ms\n",
      "298:\tlearn: 1263.6273548\ttotal: 5.36s\tremaining: 17.9ms\n",
      "299:\tlearn: 1262.9234713\ttotal: 5.37s\tremaining: 0us\n",
      "0:\tlearn: 3641.3051313\ttotal: 21.8ms\tremaining: 6.51s\n",
      "1:\tlearn: 2984.7385770\ttotal: 42.3ms\tremaining: 6.3s\n",
      "2:\tlearn: 2554.6375563\ttotal: 62.4ms\tremaining: 6.18s\n",
      "3:\tlearn: 2278.4477636\ttotal: 82.1ms\tremaining: 6.08s\n",
      "4:\tlearn: 2101.0968323\ttotal: 102ms\tremaining: 6.02s\n",
      "5:\tlearn: 1996.4767111\ttotal: 122ms\tremaining: 5.98s\n",
      "6:\tlearn: 1913.3289596\ttotal: 141ms\tremaining: 5.92s\n",
      "7:\tlearn: 1867.4810619\ttotal: 160ms\tremaining: 5.86s\n",
      "8:\tlearn: 1826.2627434\ttotal: 179ms\tremaining: 5.8s\n",
      "9:\tlearn: 1800.8875261\ttotal: 198ms\tremaining: 5.75s\n",
      "10:\tlearn: 1779.5069968\ttotal: 218ms\tremaining: 5.73s\n",
      "11:\tlearn: 1766.0001790\ttotal: 238ms\tremaining: 5.72s\n",
      "12:\tlearn: 1752.0202010\ttotal: 259ms\tremaining: 5.72s\n",
      "13:\tlearn: 1742.0141698\ttotal: 280ms\tremaining: 5.71s\n",
      "14:\tlearn: 1733.0728090\ttotal: 302ms\tremaining: 5.73s\n",
      "15:\tlearn: 1725.1377697\ttotal: 322ms\tremaining: 5.72s\n",
      "16:\tlearn: 1719.4274846\ttotal: 341ms\tremaining: 5.68s\n",
      "17:\tlearn: 1707.9840031\ttotal: 361ms\tremaining: 5.65s\n",
      "18:\tlearn: 1702.1374043\ttotal: 379ms\tremaining: 5.61s\n",
      "19:\tlearn: 1695.6514479\ttotal: 398ms\tremaining: 5.58s\n",
      "20:\tlearn: 1691.3504915\ttotal: 417ms\tremaining: 5.54s\n",
      "21:\tlearn: 1684.3709082\ttotal: 435ms\tremaining: 5.5s\n",
      "22:\tlearn: 1678.7062498\ttotal: 457ms\tremaining: 5.51s\n",
      "23:\tlearn: 1674.3524899\ttotal: 479ms\tremaining: 5.51s\n",
      "24:\tlearn: 1670.6969838\ttotal: 500ms\tremaining: 5.5s\n",
      "25:\tlearn: 1664.7358963\ttotal: 524ms\tremaining: 5.52s\n",
      "26:\tlearn: 1661.2840555\ttotal: 544ms\tremaining: 5.5s\n",
      "27:\tlearn: 1659.0169772\ttotal: 564ms\tremaining: 5.48s\n",
      "28:\tlearn: 1656.4697449\ttotal: 584ms\tremaining: 5.46s\n",
      "29:\tlearn: 1652.4534938\ttotal: 603ms\tremaining: 5.42s\n",
      "30:\tlearn: 1648.6068896\ttotal: 622ms\tremaining: 5.39s\n",
      "31:\tlearn: 1644.4178237\ttotal: 641ms\tremaining: 5.37s\n",
      "32:\tlearn: 1642.3430036\ttotal: 660ms\tremaining: 5.34s\n",
      "33:\tlearn: 1638.8166018\ttotal: 681ms\tremaining: 5.33s\n",
      "34:\tlearn: 1633.9889484\ttotal: 704ms\tremaining: 5.33s\n",
      "35:\tlearn: 1630.2670657\ttotal: 725ms\tremaining: 5.32s\n",
      "36:\tlearn: 1626.6236512\ttotal: 749ms\tremaining: 5.32s\n",
      "37:\tlearn: 1624.7962303\ttotal: 768ms\tremaining: 5.29s\n",
      "38:\tlearn: 1621.8792254\ttotal: 787ms\tremaining: 5.27s\n",
      "39:\tlearn: 1619.6561680\ttotal: 807ms\tremaining: 5.24s\n",
      "40:\tlearn: 1617.1770949\ttotal: 827ms\tremaining: 5.22s\n",
      "41:\tlearn: 1614.6075702\ttotal: 846ms\tremaining: 5.2s\n",
      "42:\tlearn: 1611.4466011\ttotal: 868ms\tremaining: 5.19s\n",
      "43:\tlearn: 1606.0912879\ttotal: 891ms\tremaining: 5.19s\n",
      "44:\tlearn: 1603.8341651\ttotal: 913ms\tremaining: 5.17s\n",
      "45:\tlearn: 1602.5789896\ttotal: 935ms\tremaining: 5.16s\n",
      "46:\tlearn: 1600.7713796\ttotal: 955ms\tremaining: 5.14s\n",
      "47:\tlearn: 1597.0705083\ttotal: 975ms\tremaining: 5.12s\n",
      "48:\tlearn: 1593.3227336\ttotal: 995ms\tremaining: 5.1s\n",
      "49:\tlearn: 1591.2947602\ttotal: 1.01s\tremaining: 5.07s\n",
      "50:\tlearn: 1589.9648602\ttotal: 1.03s\tremaining: 5.04s\n",
      "51:\tlearn: 1587.8488939\ttotal: 1.05s\tremaining: 5.02s\n",
      "52:\tlearn: 1584.9307138\ttotal: 1.07s\tremaining: 5s\n",
      "53:\tlearn: 1582.1727569\ttotal: 1.1s\tremaining: 4.99s\n",
      "54:\tlearn: 1579.7261961\ttotal: 1.12s\tremaining: 4.98s\n",
      "55:\tlearn: 1577.2272127\ttotal: 1.14s\tremaining: 4.97s\n",
      "56:\tlearn: 1574.1845488\ttotal: 1.16s\tremaining: 4.96s\n",
      "57:\tlearn: 1573.2886648\ttotal: 1.18s\tremaining: 4.93s\n",
      "58:\tlearn: 1570.8203869\ttotal: 1.2s\tremaining: 4.91s\n",
      "59:\tlearn: 1570.0101776\ttotal: 1.22s\tremaining: 4.88s\n",
      "60:\tlearn: 1567.0904456\ttotal: 1.24s\tremaining: 4.86s\n",
      "61:\tlearn: 1565.4384183\ttotal: 1.26s\tremaining: 4.84s\n",
      "62:\tlearn: 1562.3670274\ttotal: 1.28s\tremaining: 4.82s\n",
      "63:\tlearn: 1559.9227178\ttotal: 1.3s\tremaining: 4.81s\n",
      "64:\tlearn: 1557.6287465\ttotal: 1.33s\tremaining: 4.79s\n",
      "65:\tlearn: 1554.6054269\ttotal: 1.37s\tremaining: 4.86s\n",
      "66:\tlearn: 1553.4241606\ttotal: 1.4s\tremaining: 4.87s\n",
      "67:\tlearn: 1551.6410293\ttotal: 1.42s\tremaining: 4.85s\n",
      "68:\tlearn: 1550.3237216\ttotal: 1.44s\tremaining: 4.83s\n",
      "69:\tlearn: 1547.2833201\ttotal: 1.47s\tremaining: 4.82s\n",
      "70:\tlearn: 1546.2759452\ttotal: 1.49s\tremaining: 4.79s\n",
      "71:\tlearn: 1544.6721131\ttotal: 1.51s\tremaining: 4.77s\n",
      "72:\tlearn: 1541.1325856\ttotal: 1.53s\tremaining: 4.76s\n",
      "73:\tlearn: 1539.2916644\ttotal: 1.55s\tremaining: 4.74s\n",
      "74:\tlearn: 1536.9190461\ttotal: 1.57s\tremaining: 4.73s\n",
      "75:\tlearn: 1533.4723820\ttotal: 1.59s\tremaining: 4.7s\n",
      "76:\tlearn: 1532.0561803\ttotal: 1.61s\tremaining: 4.67s\n",
      "77:\tlearn: 1530.1442822\ttotal: 1.63s\tremaining: 4.65s\n",
      "78:\tlearn: 1527.6212239\ttotal: 1.65s\tremaining: 4.63s\n",
      "79:\tlearn: 1526.5232730\ttotal: 1.67s\tremaining: 4.6s\n",
      "80:\tlearn: 1525.6492852\ttotal: 1.69s\tremaining: 4.57s\n",
      "81:\tlearn: 1522.8167632\ttotal: 1.71s\tremaining: 4.55s\n",
      "82:\tlearn: 1520.7028468\ttotal: 1.74s\tremaining: 4.54s\n",
      "83:\tlearn: 1518.9486780\ttotal: 1.76s\tremaining: 4.52s\n",
      "84:\tlearn: 1517.9878758\ttotal: 1.78s\tremaining: 4.5s\n",
      "85:\tlearn: 1516.6606584\ttotal: 1.8s\tremaining: 4.48s\n",
      "86:\tlearn: 1514.5363673\ttotal: 1.82s\tremaining: 4.45s\n",
      "87:\tlearn: 1512.6726861\ttotal: 1.84s\tremaining: 4.44s\n",
      "88:\tlearn: 1511.9662010\ttotal: 1.86s\tremaining: 4.42s\n",
      "89:\tlearn: 1510.2380747\ttotal: 1.88s\tremaining: 4.39s\n",
      "90:\tlearn: 1506.6099584\ttotal: 1.9s\tremaining: 4.37s\n",
      "91:\tlearn: 1504.3613551\ttotal: 1.93s\tremaining: 4.36s\n",
      "92:\tlearn: 1502.3435728\ttotal: 1.95s\tremaining: 4.34s\n",
      "93:\tlearn: 1501.1525569\ttotal: 1.97s\tremaining: 4.32s\n",
      "94:\tlearn: 1499.6951947\ttotal: 1.99s\tremaining: 4.3s\n",
      "95:\tlearn: 1497.9713520\ttotal: 2.01s\tremaining: 4.28s\n",
      "96:\tlearn: 1495.8745247\ttotal: 2.03s\tremaining: 4.25s\n",
      "97:\tlearn: 1494.5284536\ttotal: 2.05s\tremaining: 4.23s\n",
      "98:\tlearn: 1493.4212453\ttotal: 2.07s\tremaining: 4.2s\n",
      "99:\tlearn: 1491.3021052\ttotal: 2.09s\tremaining: 4.18s\n",
      "100:\tlearn: 1489.7967862\ttotal: 2.11s\tremaining: 4.16s\n",
      "101:\tlearn: 1488.6702196\ttotal: 2.13s\tremaining: 4.14s\n",
      "102:\tlearn: 1487.4777787\ttotal: 2.15s\tremaining: 4.12s\n",
      "103:\tlearn: 1486.8383435\ttotal: 2.18s\tremaining: 4.1s\n",
      "104:\tlearn: 1484.8492404\ttotal: 2.2s\tremaining: 4.08s\n",
      "105:\tlearn: 1482.6317558\ttotal: 2.22s\tremaining: 4.06s\n",
      "106:\tlearn: 1481.3158709\ttotal: 2.23s\tremaining: 4.03s\n",
      "107:\tlearn: 1478.7404654\ttotal: 2.25s\tremaining: 4.01s\n",
      "108:\tlearn: 1476.7731582\ttotal: 2.27s\tremaining: 3.99s\n",
      "109:\tlearn: 1475.2420273\ttotal: 2.29s\tremaining: 3.96s\n",
      "110:\tlearn: 1474.0619160\ttotal: 2.31s\tremaining: 3.94s\n",
      "111:\tlearn: 1472.7562942\ttotal: 2.33s\tremaining: 3.92s\n",
      "112:\tlearn: 1472.1062168\ttotal: 2.35s\tremaining: 3.9s\n",
      "113:\tlearn: 1470.6688913\ttotal: 2.38s\tremaining: 3.88s\n",
      "114:\tlearn: 1469.0818509\ttotal: 2.4s\tremaining: 3.86s\n",
      "115:\tlearn: 1467.8953300\ttotal: 2.42s\tremaining: 3.84s\n",
      "116:\tlearn: 1465.9506657\ttotal: 2.44s\tremaining: 3.81s\n",
      "117:\tlearn: 1464.5132600\ttotal: 2.46s\tremaining: 3.79s\n",
      "118:\tlearn: 1463.1597902\ttotal: 2.48s\tremaining: 3.77s\n",
      "119:\tlearn: 1461.0956178\ttotal: 2.5s\tremaining: 3.74s\n",
      "120:\tlearn: 1459.6449113\ttotal: 2.52s\tremaining: 3.72s\n",
      "121:\tlearn: 1457.9603713\ttotal: 2.54s\tremaining: 3.7s\n",
      "122:\tlearn: 1457.0790409\ttotal: 2.56s\tremaining: 3.68s\n",
      "123:\tlearn: 1455.9980716\ttotal: 2.58s\tremaining: 3.66s\n",
      "124:\tlearn: 1455.5940640\ttotal: 2.6s\tremaining: 3.64s\n",
      "125:\tlearn: 1454.3613102\ttotal: 2.62s\tremaining: 3.62s\n",
      "126:\tlearn: 1453.5108957\ttotal: 2.64s\tremaining: 3.59s\n",
      "127:\tlearn: 1452.4777849\ttotal: 2.65s\tremaining: 3.57s\n",
      "128:\tlearn: 1450.7939423\ttotal: 2.67s\tremaining: 3.54s\n",
      "129:\tlearn: 1449.6131745\ttotal: 2.69s\tremaining: 3.52s\n",
      "130:\tlearn: 1448.7703895\ttotal: 2.71s\tremaining: 3.5s\n",
      "131:\tlearn: 1446.7775339\ttotal: 2.74s\tremaining: 3.48s\n",
      "132:\tlearn: 1444.8870480\ttotal: 2.76s\tremaining: 3.46s\n",
      "133:\tlearn: 1443.8866152\ttotal: 2.78s\tremaining: 3.44s\n",
      "134:\tlearn: 1443.2322075\ttotal: 2.8s\tremaining: 3.43s\n",
      "135:\tlearn: 1442.0061945\ttotal: 2.82s\tremaining: 3.4s\n",
      "136:\tlearn: 1440.8905779\ttotal: 2.84s\tremaining: 3.38s\n",
      "137:\tlearn: 1439.6306846\ttotal: 2.86s\tremaining: 3.36s\n",
      "138:\tlearn: 1438.1151041\ttotal: 2.88s\tremaining: 3.34s\n",
      "139:\tlearn: 1437.2438789\ttotal: 2.9s\tremaining: 3.32s\n",
      "140:\tlearn: 1435.9309915\ttotal: 2.92s\tremaining: 3.29s\n",
      "141:\tlearn: 1434.4627328\ttotal: 2.94s\tremaining: 3.27s\n",
      "142:\tlearn: 1433.3268480\ttotal: 2.96s\tremaining: 3.25s\n",
      "143:\tlearn: 1431.7901026\ttotal: 2.98s\tremaining: 3.23s\n",
      "144:\tlearn: 1430.6642027\ttotal: 3.01s\tremaining: 3.21s\n",
      "145:\tlearn: 1429.6852572\ttotal: 3.03s\tremaining: 3.19s\n",
      "146:\tlearn: 1427.6851019\ttotal: 3.05s\tremaining: 3.17s\n",
      "147:\tlearn: 1426.1380256\ttotal: 3.07s\tremaining: 3.15s\n",
      "148:\tlearn: 1425.0260940\ttotal: 3.09s\tremaining: 3.13s\n",
      "149:\tlearn: 1422.5754016\ttotal: 3.11s\tremaining: 3.11s\n",
      "150:\tlearn: 1421.4840899\ttotal: 3.13s\tremaining: 3.09s\n",
      "151:\tlearn: 1420.6380614\ttotal: 3.15s\tremaining: 3.06s\n",
      "152:\tlearn: 1419.7248047\ttotal: 3.17s\tremaining: 3.04s\n",
      "153:\tlearn: 1418.9934371\ttotal: 3.19s\tremaining: 3.02s\n",
      "154:\tlearn: 1417.8188933\ttotal: 3.21s\tremaining: 3.01s\n",
      "155:\tlearn: 1416.5869968\ttotal: 3.23s\tremaining: 2.99s\n",
      "156:\tlearn: 1415.4973346\ttotal: 3.25s\tremaining: 2.96s\n",
      "157:\tlearn: 1414.7770356\ttotal: 3.27s\tremaining: 2.94s\n",
      "158:\tlearn: 1413.5528557\ttotal: 3.29s\tremaining: 2.92s\n",
      "159:\tlearn: 1412.3906558\ttotal: 3.31s\tremaining: 2.9s\n",
      "160:\tlearn: 1411.3980424\ttotal: 3.33s\tremaining: 2.88s\n",
      "161:\tlearn: 1410.4707547\ttotal: 3.35s\tremaining: 2.86s\n",
      "162:\tlearn: 1409.5783672\ttotal: 3.38s\tremaining: 2.84s\n",
      "163:\tlearn: 1408.6068203\ttotal: 3.4s\tremaining: 2.82s\n",
      "164:\tlearn: 1407.9367520\ttotal: 3.42s\tremaining: 2.8s\n",
      "165:\tlearn: 1407.2781229\ttotal: 3.44s\tremaining: 2.78s\n",
      "166:\tlearn: 1406.4988950\ttotal: 3.46s\tremaining: 2.75s\n",
      "167:\tlearn: 1405.9395798\ttotal: 3.48s\tremaining: 2.73s\n",
      "168:\tlearn: 1405.1255846\ttotal: 3.5s\tremaining: 2.71s\n",
      "169:\tlearn: 1404.0762617\ttotal: 3.52s\tremaining: 2.69s\n",
      "170:\tlearn: 1403.1516512\ttotal: 3.54s\tremaining: 2.67s\n",
      "171:\tlearn: 1402.6776518\ttotal: 3.55s\tremaining: 2.65s\n",
      "172:\tlearn: 1401.4810729\ttotal: 3.58s\tremaining: 2.63s\n",
      "173:\tlearn: 1400.7653189\ttotal: 3.6s\tremaining: 2.6s\n",
      "174:\tlearn: 1399.3768150\ttotal: 3.62s\tremaining: 2.59s\n",
      "175:\tlearn: 1397.7858973\ttotal: 3.64s\tremaining: 2.57s\n",
      "176:\tlearn: 1396.9361028\ttotal: 3.66s\tremaining: 2.54s\n",
      "177:\tlearn: 1395.4969610\ttotal: 3.68s\tremaining: 2.52s\n",
      "178:\tlearn: 1394.4153213\ttotal: 3.7s\tremaining: 2.5s\n",
      "179:\tlearn: 1393.0696381\ttotal: 3.72s\tremaining: 2.48s\n",
      "180:\tlearn: 1392.0839721\ttotal: 3.74s\tremaining: 2.46s\n",
      "181:\tlearn: 1391.0227378\ttotal: 3.76s\tremaining: 2.44s\n",
      "182:\tlearn: 1389.6212208\ttotal: 3.78s\tremaining: 2.42s\n",
      "183:\tlearn: 1388.9947989\ttotal: 3.8s\tremaining: 2.4s\n",
      "184:\tlearn: 1387.7935497\ttotal: 3.82s\tremaining: 2.38s\n",
      "185:\tlearn: 1386.3726688\ttotal: 3.84s\tremaining: 2.35s\n",
      "186:\tlearn: 1385.0272120\ttotal: 3.88s\tremaining: 2.35s\n",
      "187:\tlearn: 1384.3192072\ttotal: 3.91s\tremaining: 2.33s\n",
      "188:\tlearn: 1383.0397939\ttotal: 3.93s\tremaining: 2.31s\n",
      "189:\tlearn: 1382.2919046\ttotal: 3.96s\tremaining: 2.29s\n",
      "190:\tlearn: 1381.4810335\ttotal: 3.98s\tremaining: 2.27s\n",
      "191:\tlearn: 1380.4636791\ttotal: 4s\tremaining: 2.25s\n",
      "192:\tlearn: 1379.8648046\ttotal: 4.02s\tremaining: 2.23s\n",
      "193:\tlearn: 1379.1039381\ttotal: 4.04s\tremaining: 2.21s\n",
      "194:\tlearn: 1378.1610442\ttotal: 4.07s\tremaining: 2.19s\n",
      "195:\tlearn: 1377.2093273\ttotal: 4.09s\tremaining: 2.17s\n",
      "196:\tlearn: 1376.6462722\ttotal: 4.11s\tremaining: 2.15s\n",
      "197:\tlearn: 1375.9754824\ttotal: 4.13s\tremaining: 2.13s\n",
      "198:\tlearn: 1374.7577852\ttotal: 4.14s\tremaining: 2.1s\n",
      "199:\tlearn: 1374.2161281\ttotal: 4.17s\tremaining: 2.08s\n",
      "200:\tlearn: 1373.8183530\ttotal: 4.18s\tremaining: 2.06s\n",
      "201:\tlearn: 1373.2435224\ttotal: 4.21s\tremaining: 2.04s\n",
      "202:\tlearn: 1372.4432158\ttotal: 4.23s\tremaining: 2.02s\n",
      "203:\tlearn: 1371.8691291\ttotal: 4.25s\tremaining: 2s\n",
      "204:\tlearn: 1371.1710010\ttotal: 4.28s\tremaining: 1.98s\n",
      "205:\tlearn: 1370.2499482\ttotal: 4.29s\tremaining: 1.96s\n",
      "206:\tlearn: 1369.6877360\ttotal: 4.31s\tremaining: 1.94s\n",
      "207:\tlearn: 1368.8549822\ttotal: 4.33s\tremaining: 1.92s\n",
      "208:\tlearn: 1367.9236040\ttotal: 4.35s\tremaining: 1.9s\n",
      "209:\tlearn: 1367.2221350\ttotal: 4.37s\tremaining: 1.87s\n",
      "210:\tlearn: 1366.2934994\ttotal: 4.39s\tremaining: 1.85s\n",
      "211:\tlearn: 1365.8499002\ttotal: 4.41s\tremaining: 1.83s\n",
      "212:\tlearn: 1365.2341787\ttotal: 4.44s\tremaining: 1.81s\n",
      "213:\tlearn: 1364.2080707\ttotal: 4.46s\tremaining: 1.79s\n",
      "214:\tlearn: 1363.5205580\ttotal: 4.48s\tremaining: 1.77s\n",
      "215:\tlearn: 1362.5629143\ttotal: 4.5s\tremaining: 1.75s\n",
      "216:\tlearn: 1361.8474487\ttotal: 4.52s\tremaining: 1.73s\n",
      "217:\tlearn: 1360.7278824\ttotal: 4.54s\tremaining: 1.71s\n",
      "218:\tlearn: 1360.0360374\ttotal: 4.56s\tremaining: 1.69s\n",
      "219:\tlearn: 1359.0225820\ttotal: 4.58s\tremaining: 1.66s\n",
      "220:\tlearn: 1357.7907772\ttotal: 4.6s\tremaining: 1.64s\n",
      "221:\tlearn: 1357.2328841\ttotal: 4.62s\tremaining: 1.62s\n",
      "222:\tlearn: 1356.3636568\ttotal: 4.64s\tremaining: 1.6s\n",
      "223:\tlearn: 1355.6047291\ttotal: 4.66s\tremaining: 1.58s\n",
      "224:\tlearn: 1354.4801290\ttotal: 4.69s\tremaining: 1.56s\n",
      "225:\tlearn: 1353.7386371\ttotal: 4.71s\tremaining: 1.54s\n",
      "226:\tlearn: 1352.6466757\ttotal: 4.72s\tremaining: 1.52s\n",
      "227:\tlearn: 1351.5424625\ttotal: 4.75s\tremaining: 1.5s\n",
      "228:\tlearn: 1351.1318357\ttotal: 4.76s\tremaining: 1.48s\n",
      "229:\tlearn: 1350.6229842\ttotal: 4.78s\tremaining: 1.46s\n",
      "230:\tlearn: 1349.6913240\ttotal: 4.8s\tremaining: 1.43s\n",
      "231:\tlearn: 1348.8235622\ttotal: 4.82s\tremaining: 1.41s\n",
      "232:\tlearn: 1348.0299013\ttotal: 4.84s\tremaining: 1.39s\n",
      "233:\tlearn: 1347.2323344\ttotal: 4.87s\tremaining: 1.37s\n",
      "234:\tlearn: 1346.7595456\ttotal: 4.89s\tremaining: 1.35s\n",
      "235:\tlearn: 1345.8949046\ttotal: 4.91s\tremaining: 1.33s\n",
      "236:\tlearn: 1344.8369072\ttotal: 4.93s\tremaining: 1.31s\n",
      "237:\tlearn: 1344.2470248\ttotal: 4.94s\tremaining: 1.29s\n",
      "238:\tlearn: 1342.7093349\ttotal: 4.96s\tremaining: 1.27s\n",
      "239:\tlearn: 1342.0789485\ttotal: 4.98s\tremaining: 1.25s\n",
      "240:\tlearn: 1341.6058327\ttotal: 5s\tremaining: 1.22s\n",
      "241:\tlearn: 1340.8877033\ttotal: 5.02s\tremaining: 1.2s\n",
      "242:\tlearn: 1340.0954124\ttotal: 5.04s\tremaining: 1.18s\n",
      "243:\tlearn: 1339.1340770\ttotal: 5.07s\tremaining: 1.16s\n",
      "244:\tlearn: 1337.4607303\ttotal: 5.09s\tremaining: 1.14s\n",
      "245:\tlearn: 1336.5533441\ttotal: 5.11s\tremaining: 1.12s\n",
      "246:\tlearn: 1335.6634679\ttotal: 5.13s\tremaining: 1.1s\n",
      "247:\tlearn: 1334.8039589\ttotal: 5.15s\tremaining: 1.08s\n",
      "248:\tlearn: 1334.0157171\ttotal: 5.17s\tremaining: 1.06s\n",
      "249:\tlearn: 1333.1571446\ttotal: 5.18s\tremaining: 1.04s\n",
      "250:\tlearn: 1332.6501794\ttotal: 5.21s\tremaining: 1.02s\n",
      "251:\tlearn: 1331.5538387\ttotal: 5.23s\tremaining: 996ms\n",
      "252:\tlearn: 1330.9751604\ttotal: 5.25s\tremaining: 975ms\n",
      "253:\tlearn: 1330.5715496\ttotal: 5.27s\tremaining: 955ms\n",
      "254:\tlearn: 1329.8781524\ttotal: 5.29s\tremaining: 935ms\n",
      "255:\tlearn: 1329.6201547\ttotal: 5.31s\tremaining: 913ms\n",
      "256:\tlearn: 1328.4166270\ttotal: 5.33s\tremaining: 893ms\n",
      "257:\tlearn: 1327.7493281\ttotal: 5.36s\tremaining: 872ms\n",
      "258:\tlearn: 1327.0075504\ttotal: 5.38s\tremaining: 851ms\n",
      "259:\tlearn: 1326.5143625\ttotal: 5.39s\tremaining: 830ms\n",
      "260:\tlearn: 1325.9576149\ttotal: 5.41s\tremaining: 809ms\n",
      "261:\tlearn: 1325.5884142\ttotal: 5.43s\tremaining: 788ms\n",
      "262:\tlearn: 1324.7856345\ttotal: 5.46s\tremaining: 768ms\n",
      "263:\tlearn: 1323.9111299\ttotal: 5.48s\tremaining: 747ms\n",
      "264:\tlearn: 1323.0475211\ttotal: 5.5s\tremaining: 726ms\n",
      "265:\tlearn: 1322.2152026\ttotal: 5.52s\tremaining: 705ms\n",
      "266:\tlearn: 1321.8209013\ttotal: 5.54s\tremaining: 684ms\n",
      "267:\tlearn: 1321.0740765\ttotal: 5.55s\tremaining: 663ms\n",
      "268:\tlearn: 1320.5516745\ttotal: 5.57s\tremaining: 642ms\n",
      "269:\tlearn: 1319.7898413\ttotal: 5.59s\tremaining: 621ms\n",
      "270:\tlearn: 1319.1488493\ttotal: 5.61s\tremaining: 600ms\n",
      "271:\tlearn: 1318.3611233\ttotal: 5.63s\tremaining: 580ms\n",
      "272:\tlearn: 1317.8551824\ttotal: 5.65s\tremaining: 559ms\n",
      "273:\tlearn: 1317.2335828\ttotal: 5.67s\tremaining: 539ms\n",
      "274:\tlearn: 1316.2960326\ttotal: 5.7s\tremaining: 518ms\n",
      "275:\tlearn: 1315.3527510\ttotal: 5.72s\tremaining: 497ms\n",
      "276:\tlearn: 1314.2031459\ttotal: 5.74s\tremaining: 476ms\n",
      "277:\tlearn: 1313.6130024\ttotal: 5.76s\tremaining: 456ms\n",
      "278:\tlearn: 1312.9555995\ttotal: 5.78s\tremaining: 435ms\n",
      "279:\tlearn: 1312.2876596\ttotal: 5.79s\tremaining: 414ms\n",
      "280:\tlearn: 1311.4730678\ttotal: 5.81s\tremaining: 393ms\n",
      "281:\tlearn: 1311.0034092\ttotal: 5.83s\tremaining: 372ms\n",
      "282:\tlearn: 1310.1501656\ttotal: 5.85s\tremaining: 352ms\n",
      "283:\tlearn: 1309.5655151\ttotal: 5.88s\tremaining: 331ms\n",
      "284:\tlearn: 1309.2497057\ttotal: 5.9s\tremaining: 310ms\n",
      "285:\tlearn: 1308.9754493\ttotal: 5.92s\tremaining: 290ms\n",
      "286:\tlearn: 1308.1786365\ttotal: 5.94s\tremaining: 269ms\n",
      "287:\tlearn: 1307.7566552\ttotal: 5.96s\tremaining: 248ms\n",
      "288:\tlearn: 1306.5800219\ttotal: 5.97s\tremaining: 227ms\n",
      "289:\tlearn: 1305.9752777\ttotal: 5.99s\tremaining: 207ms\n",
      "290:\tlearn: 1305.2265002\ttotal: 6.01s\tremaining: 186ms\n",
      "291:\tlearn: 1304.7218414\ttotal: 6.03s\tremaining: 165ms\n",
      "292:\tlearn: 1304.1435793\ttotal: 6.05s\tremaining: 145ms\n",
      "293:\tlearn: 1303.4334566\ttotal: 6.08s\tremaining: 124ms\n",
      "294:\tlearn: 1302.0278837\ttotal: 6.1s\tremaining: 103ms\n",
      "295:\tlearn: 1300.9676386\ttotal: 6.12s\tremaining: 82.7ms\n",
      "296:\tlearn: 1300.1518819\ttotal: 6.18s\tremaining: 62.4ms\n",
      "297:\tlearn: 1299.5173857\ttotal: 6.2s\tremaining: 41.6ms\n",
      "298:\tlearn: 1299.0695352\ttotal: 6.22s\tremaining: 20.8ms\n",
      "299:\tlearn: 1298.2513974\ttotal: 6.24s\tremaining: 0us\n",
      "Training time: 36.81101107597351 seconds\n",
      "Prediction time: 0.01824498176574707 seconds\n",
      "CatBoost RMSE: 1573.0654517482662\n",
      "CatBoost best hyperparameters: {'depth': 10, 'iterations': 300, 'learning_rate': 0.3}\n"
     ]
    }
   ],
   "source": [
    "param_grid_cb = {\n",
    "#    'depth': [6, 8, 10],\n",
    "#    'learning_rate': [0.1, 0.3, 0.5],\n",
    "#    'iterations': [100, 200, 300],\n",
    "    'depth': [10],\n",
    "    'learning_rate': [0.3],\n",
    "    'iterations': [300],\n",
    "}\n",
    "\n",
    "X_train_np = X_train.to_numpy()\n",
    "y_train_np = y_train.to_numpy()\n",
    "\n",
    "catboost_model = CatBoostRegressor()\n",
    "\n",
    "grid_cb = GridSearchCV(catboost_model, param_grid_cb, scoring='neg_mean_squared_error', cv=5)\n",
    "\n",
    "start_time = time.time()\n",
    "grid_cb.fit(X_train_np, y_train_np)\n",
    "end_time = time.time()\n",
    "training_time = end_time - start_time\n",
    "print(f\"Training time: {training_time} seconds\")\n",
    "\n",
    "X_valid_np = X_valid.to_numpy()\n",
    "\n",
    "start_time = time.time()\n",
    "y_pred_cb = grid_cb.predict(X_valid_np)\n",
    "end_time = time.time()\n",
    "prediction_time = end_time - start_time\n",
    "print(f\"Prediction time: {prediction_time} seconds\")\n",
    "\n",
    "rmse_cb = (mean_squared_error(y_valid, y_pred_cb)) ** 0.5\n",
    "print(\"CatBoost RMSE:\", rmse_cb)\n",
    "\n",
    "best_params = grid_cb.best_params_\n",
    "print(\"CatBoost best hyperparameters:\", best_params)"
   ]
  },
  {
   "cell_type": "markdown",
   "metadata": {},
   "source": [
    "With the parameters: param_grid_cb = {'depth': [6, 8, 10], 'learning_rate': [0.1, 0.3, 0.5], 'iterations': [100, 200, 300], }\n",
    "\n",
    "Training time: 1199.4092164039612 seconds\n",
    "\n",
    "Prediction time: 0.07186055183410645 seconds\n",
    "\n",
    "CatBoost RMSE: 1717.765216131883\n",
    "\n",
    "Best hyperparameters: {'depth': 10, 'iterations': 300, 'learning_rate': 0.3}"
   ]
  },
  {
   "cell_type": "markdown",
   "metadata": {},
   "source": [
    "LightGBM"
   ]
  },
  {
   "cell_type": "code",
   "execution_count": 37,
   "metadata": {
    "scrolled": true
   },
   "outputs": [
    {
     "name": "stdout",
     "output_type": "stream",
     "text": [
      "[LightGBM] [Info] Auto-choosing row-wise multi-threading, the overhead of testing was 0.003509 seconds.\n",
      "You can set `force_row_wise=true` to remove the overhead.\n",
      "And if memory is not enough, you can set `force_col_wise=true`.\n",
      "[LightGBM] [Info] Total Bins 907\n",
      "[LightGBM] [Info] Number of data points in the train set: 130959, number of used features: 11\n",
      "[LightGBM] [Info] Start training from score 4829.289381\n",
      "[LightGBM] [Info] Auto-choosing row-wise multi-threading, the overhead of testing was 0.002671 seconds.\n",
      "You can set `force_row_wise=true` to remove the overhead.\n",
      "And if memory is not enough, you can set `force_col_wise=true`.\n",
      "[LightGBM] [Info] Total Bins 907\n",
      "[LightGBM] [Info] Number of data points in the train set: 130959, number of used features: 11\n",
      "[LightGBM] [Info] Start training from score 4835.586428\n",
      "[LightGBM] [Info] Auto-choosing row-wise multi-threading, the overhead of testing was 0.002502 seconds.\n",
      "You can set `force_row_wise=true` to remove the overhead.\n",
      "And if memory is not enough, you can set `force_col_wise=true`.\n",
      "[LightGBM] [Info] Total Bins 907\n",
      "[LightGBM] [Info] Number of data points in the train set: 130959, number of used features: 11\n",
      "[LightGBM] [Info] Start training from score 4824.732252\n",
      "[LightGBM] [Info] Auto-choosing row-wise multi-threading, the overhead of testing was 0.003115 seconds.\n",
      "You can set `force_row_wise=true` to remove the overhead.\n",
      "And if memory is not enough, you can set `force_col_wise=true`.\n",
      "[LightGBM] [Info] Total Bins 909\n",
      "[LightGBM] [Info] Number of data points in the train set: 130959, number of used features: 11\n",
      "[LightGBM] [Info] Start training from score 4842.398033\n",
      "[LightGBM] [Info] Auto-choosing row-wise multi-threading, the overhead of testing was 0.002647 seconds.\n",
      "You can set `force_row_wise=true` to remove the overhead.\n",
      "And if memory is not enough, you can set `force_col_wise=true`.\n",
      "[LightGBM] [Info] Total Bins 911\n",
      "[LightGBM] [Info] Number of data points in the train set: 130960, number of used features: 11\n",
      "[LightGBM] [Info] Start training from score 4825.925611\n",
      "[LightGBM] [Info] Auto-choosing row-wise multi-threading, the overhead of testing was 0.003216 seconds.\n",
      "You can set `force_row_wise=true` to remove the overhead.\n",
      "And if memory is not enough, you can set `force_col_wise=true`.\n",
      "[LightGBM] [Info] Total Bins 914\n",
      "[LightGBM] [Info] Number of data points in the train set: 163699, number of used features: 11\n",
      "[LightGBM] [Info] Start training from score 4831.586332\n",
      "LightGBM training time: 1.3562769889831543 seconds\n",
      "Prediction time LightGBM: 0.03703188896179199 seconds\n",
      "RMSE LightGBM: 1805.6230876985676\n",
      "LightGBM best hyperparameters: {'learning_rate': 0.1, 'n_estimators': 30}\n"
     ]
    }
   ],
   "source": [
    "params = {\n",
    "    'objective': 'regression',\n",
    "    'metric': 'rmse',\n",
    "    'boosting_type': 'gbdt',\n",
    "}\n",
    "\n",
    "lgb_model = lgb.LGBMRegressor(**params)\n",
    "\n",
    "param_grid_lgb = {\n",
    "#    'learning_rate': [0.1, 10],\n",
    "#    'n_estimators': [10, 30],\n",
    "    'learning_rate': [0.1],\n",
    "    'n_estimators': [30],\n",
    "}\n",
    "\n",
    "grid_lgb = GridSearchCV(lgb_model, param_grid_lgb, scoring='neg_mean_squared_error', cv=5)\n",
    "\n",
    "start_time = time.time()\n",
    "grid_lgb.fit(X_train, y_train)\n",
    "end_time = time.time()\n",
    "training_time = end_time - start_time\n",
    "print(f\"LightGBM training time: {training_time} seconds\")\n",
    "\n",
    "start_time = time.time()\n",
    "y_pred_lgb = grid_lgb.predict(X_valid)\n",
    "end_time = time.time()\n",
    "prediction_time = end_time - start_time\n",
    "print(f\"Prediction time LightGBM: {prediction_time} seconds\")\n",
    "\n",
    "rmse_lgb = (mean_squared_error(y_valid, y_pred_lgb))**0.5\n",
    "print(\"RMSE LightGBM:\", rmse_lgb)\n",
    "\n",
    "best_params_lgbm = grid_lgb.best_params_\n",
    "print(\"LightGBM best hyperparameters:\", best_params_lgbm)"
   ]
  },
  {
   "cell_type": "markdown",
   "metadata": {},
   "source": [
    "With the parameters: param_grid_lgb = {'learning_rate': [0.1, 10], 'n_estimators': [10, 30], }\n",
    "\n",
    "LightGBM Training time: 1248.8983018398285 seconds\n",
    "\n",
    "LightGBM Prediction time: 0.09955191612243652 seconds\n",
    "\n",
    "LightGBM RMSE: 1923.9797809873703\n",
    "\n",
    "Best LightGBM Hyperparameters: {'learning_rate': 0.1, 'n_estimators': 30}"
   ]
  },
  {
   "cell_type": "markdown",
   "metadata": {},
   "source": [
    "Random forest."
   ]
  },
  {
   "cell_type": "code",
   "execution_count": 38,
   "metadata": {},
   "outputs": [
    {
     "name": "stdout",
     "output_type": "stream",
     "text": [
      "Training time: 140.76438307762146 секунд\n",
      "Prediction time: 0.36737608909606934 секунд\n",
      "Random forest RMSE: 1783.6957976031724\n",
      "Random forest best hyperparameters: {'max_depth': 10, 'n_estimators': 100}\n"
     ]
    }
   ],
   "source": [
    "param_grid_rf = {\n",
    "#    'n_estimators': [30, 50, 100],\n",
    "#    'max_depth': [2, 5, 10],\n",
    "    'n_estimators': [100],\n",
    "    'max_depth': [10],\n",
    "}\n",
    "\n",
    "grid_rf = GridSearchCV(RandomForestRegressor(), param_grid_rf, scoring='neg_mean_squared_error', cv=5)\n",
    "start_time = time.time()\n",
    "grid_rf.fit(X_train, y_train)\n",
    "end_time = time.time()\n",
    "training_time = end_time - start_time\n",
    "print(f\"Training time: {training_time} секунд\")\n",
    "\n",
    "start_time = time.time()\n",
    "y_pred_rf = grid_rf.predict(X_valid)\n",
    "end_time = time.time()\n",
    "prediction_time = end_time - start_time\n",
    "print(f\"Prediction time: {prediction_time} секунд\")\n",
    "\n",
    "rmse_rf = (mean_squared_error(y_valid, y_pred_rf))**0.5\n",
    "print(\"Random forest RMSE:\", rmse_rf)\n",
    "\n",
    "best_params_rf = grid_rf.best_params_\n",
    "print(\"Random forest best hyperparameters:\", best_params_rf)"
   ]
  },
  {
   "cell_type": "markdown",
   "metadata": {},
   "source": [
    "With the parameters: param_grid_rf = {'n_estimators': [30, 50, 100], 'max_depth': [2, 5, 10], }\n",
    "\n",
    "Training time for Random Forest: 520.4137606620789 seconds\n",
    "\n",
    "Prediction time for Random Forest: 0.5314302444458008 seconds\n",
    "\n",
    "Random Forest RMSE: 1905.7566598043438\n",
    "\n",
    "Best Random Forest Hyperparameters: {'max_depth': 10, 'n_estimators': 100}"
   ]
  },
  {
   "cell_type": "markdown",
   "metadata": {},
   "source": [
    "## Model Analysis"
   ]
  },
  {
   "cell_type": "markdown",
   "metadata": {},
   "source": [
    "After training models using the GridSearchCV method, the following results were obtained:\n",
    "\n",
    "| Model |Training time sec. | Prediction time sec. | RMSE | Hyperparameters |\n",
    "-------:|----:|-----:|------:|------:|\n",
    "| Linear Regression |2 | 0.08 | 2887 | {'fit_intercept': True} |\n",
    "| Decision Tree |76 | 0.008 | 2024 | {'max_depth': 10, 'min_samples_leaf': 4, 'min_samples_split': 5} |\n",
    "| CatBoost | 1199 | 0.07 | 1717 | {'depth': 10, 'iterations': 300, 'learning_rate': 0.3} |\n",
    "| LightGBM |1248 | 0.09 | 1923 | {'learning_rate': 0.1, 'n_estimators': 30} |\n",
    "| Random Forest |520 | 0.53 | 1905 | {'max_depth': 10, 'n_estimators': 100} |"
   ]
  },
  {
   "cell_type": "markdown",
   "metadata": {},
   "source": [
    "_Conclusion_: Preliminarily, it can be noted that gradient boosting models like CatBoost and LightGBM, as well as Random Forest, exhibit the lowest RMSE values."
   ]
  },
  {
   "cell_type": "markdown",
   "metadata": {},
   "source": [
    "## Model Testing"
   ]
  },
  {
   "cell_type": "markdown",
   "metadata": {},
   "source": [
    "Now that the optimal hyperparameters are set for each model, the next step is to test their training time with the specified hyperparameters, prediction time, and prediction quality. Then, we can choose the optimal model based on the customer's requirements. The criteria important to the customer are:\n",
    "\n",
    "- Prediction quality\n",
    "- Model training time\n",
    "- Model prediction time"
   ]
  },
  {
   "cell_type": "markdown",
   "metadata": {},
   "source": [
    "Linear Regression."
   ]
  },
  {
   "cell_type": "code",
   "execution_count": 39,
   "metadata": {},
   "outputs": [
    {
     "name": "stdout",
     "output_type": "stream",
     "text": [
      "Linear Regression - RMSE: 2784.0297860419987\n",
      "Training time: 0.04022502899169922 seconds\n",
      "Prediction time: 0.002664804458618164 seconds\n"
     ]
    }
   ],
   "source": [
    "linear_model = LinearRegression(fit_intercept=True)\n",
    "start_time = time.time()\n",
    "linear_model.fit(X_train, y_train)\n",
    "end_time = time.time()\n",
    "training_time = end_time - start_time\n",
    "\n",
    "start_time = time.time()\n",
    "y_pred_linear = linear_model.predict(X_valid)\n",
    "end_time = time.time()\n",
    "prediction_time = end_time - start_time\n",
    "\n",
    "rmse_linear = (mean_squared_error(y_valid, y_pred_linear))**0.5\n",
    "print(f\"Linear Regression - RMSE: {rmse_linear}\")\n",
    "print(f\"Training time: {training_time} seconds\")\n",
    "print(f\"Prediction time: {prediction_time} seconds\")"
   ]
  },
  {
   "cell_type": "markdown",
   "metadata": {},
   "source": [
    "Decision Tree."
   ]
  },
  {
   "cell_type": "code",
   "execution_count": 40,
   "metadata": {},
   "outputs": [
    {
     "name": "stdout",
     "output_type": "stream",
     "text": [
      "Decision Tree - RMSE: 1895.344080794182\n",
      "Training time: 0.40923190116882324 seconds\n",
      "Prediction time: 0.006262063980102539 seconds\n"
     ]
    }
   ],
   "source": [
    "decision_tree_model = DecisionTreeRegressor(max_depth=10, min_samples_leaf=4, min_samples_split=5)\n",
    "start_time = time.time()\n",
    "decision_tree_model.fit(X_train, y_train)\n",
    "end_time = time.time()\n",
    "training_time = end_time - start_time\n",
    "\n",
    "start_time = time.time()\n",
    "y_pred_decision_tree = decision_tree_model.predict(X_valid)\n",
    "end_time = time.time()\n",
    "prediction_time = end_time - start_time\n",
    "\n",
    "rmse_decision_tree = (mean_squared_error(y_valid, y_pred_decision_tree))**0.5\n",
    "print(f\"Decision Tree - RMSE: {rmse_decision_tree}\")\n",
    "print(f\"Training time: {training_time} seconds\")\n",
    "print(f\"Prediction time: {prediction_time} seconds\")"
   ]
  },
  {
   "cell_type": "markdown",
   "metadata": {},
   "source": [
    "CatBoost."
   ]
  },
  {
   "cell_type": "code",
   "execution_count": 41,
   "metadata": {
    "scrolled": true
   },
   "outputs": [
    {
     "name": "stdout",
     "output_type": "stream",
     "text": [
      "0:\tlearn: 3641.3051313\ttotal: 21.3ms\tremaining: 6.36s\n",
      "1:\tlearn: 2984.7385770\ttotal: 42.8ms\tremaining: 6.38s\n",
      "2:\tlearn: 2554.6375563\ttotal: 62.3ms\tremaining: 6.17s\n",
      "3:\tlearn: 2278.4477636\ttotal: 82.4ms\tremaining: 6.09s\n",
      "4:\tlearn: 2101.0968323\ttotal: 103ms\tremaining: 6.07s\n",
      "5:\tlearn: 1996.4767111\ttotal: 124ms\tremaining: 6.07s\n",
      "6:\tlearn: 1913.3289596\ttotal: 144ms\tremaining: 6.03s\n",
      "7:\tlearn: 1867.4810619\ttotal: 165ms\tremaining: 6.02s\n",
      "8:\tlearn: 1826.2627434\ttotal: 188ms\tremaining: 6.08s\n",
      "9:\tlearn: 1800.8875261\ttotal: 207ms\tremaining: 6.01s\n",
      "10:\tlearn: 1779.5069968\ttotal: 226ms\tremaining: 5.95s\n",
      "11:\tlearn: 1766.0001790\ttotal: 248ms\tremaining: 5.96s\n",
      "12:\tlearn: 1752.0202010\ttotal: 268ms\tremaining: 5.92s\n",
      "13:\tlearn: 1742.0141698\ttotal: 287ms\tremaining: 5.86s\n",
      "14:\tlearn: 1733.0728090\ttotal: 305ms\tremaining: 5.8s\n",
      "15:\tlearn: 1725.1377697\ttotal: 325ms\tremaining: 5.76s\n",
      "16:\tlearn: 1719.4274846\ttotal: 344ms\tremaining: 5.72s\n",
      "17:\tlearn: 1707.9840031\ttotal: 363ms\tremaining: 5.69s\n",
      "18:\tlearn: 1702.1374043\ttotal: 383ms\tremaining: 5.67s\n",
      "19:\tlearn: 1695.6514479\ttotal: 404ms\tremaining: 5.66s\n",
      "20:\tlearn: 1691.3504915\ttotal: 424ms\tremaining: 5.63s\n",
      "21:\tlearn: 1684.3709082\ttotal: 444ms\tremaining: 5.61s\n",
      "22:\tlearn: 1678.7062498\ttotal: 467ms\tremaining: 5.62s\n",
      "23:\tlearn: 1674.3524899\ttotal: 486ms\tremaining: 5.58s\n",
      "24:\tlearn: 1670.6969838\ttotal: 504ms\tremaining: 5.54s\n",
      "25:\tlearn: 1664.7358963\ttotal: 523ms\tremaining: 5.52s\n",
      "26:\tlearn: 1661.2840555\ttotal: 542ms\tremaining: 5.48s\n",
      "27:\tlearn: 1659.0169772\ttotal: 561ms\tremaining: 5.45s\n",
      "28:\tlearn: 1656.4697449\ttotal: 580ms\tremaining: 5.42s\n",
      "29:\tlearn: 1652.4534938\ttotal: 602ms\tremaining: 5.42s\n",
      "30:\tlearn: 1648.6068896\ttotal: 623ms\tremaining: 5.4s\n",
      "31:\tlearn: 1644.4178237\ttotal: 643ms\tremaining: 5.38s\n",
      "32:\tlearn: 1642.3430036\ttotal: 662ms\tremaining: 5.36s\n",
      "33:\tlearn: 1638.8166018\ttotal: 683ms\tremaining: 5.34s\n",
      "34:\tlearn: 1633.9889484\ttotal: 703ms\tremaining: 5.32s\n",
      "35:\tlearn: 1630.2670657\ttotal: 722ms\tremaining: 5.29s\n",
      "36:\tlearn: 1626.6236512\ttotal: 742ms\tremaining: 5.27s\n",
      "37:\tlearn: 1624.7962303\ttotal: 762ms\tremaining: 5.25s\n",
      "38:\tlearn: 1621.8792254\ttotal: 782ms\tremaining: 5.23s\n",
      "39:\tlearn: 1619.6561680\ttotal: 802ms\tremaining: 5.21s\n",
      "40:\tlearn: 1617.1770949\ttotal: 825ms\tremaining: 5.21s\n",
      "41:\tlearn: 1614.6075702\ttotal: 845ms\tremaining: 5.19s\n",
      "42:\tlearn: 1611.4466011\ttotal: 865ms\tremaining: 5.17s\n",
      "43:\tlearn: 1606.0912879\ttotal: 886ms\tremaining: 5.16s\n",
      "44:\tlearn: 1603.8341651\ttotal: 906ms\tremaining: 5.13s\n",
      "45:\tlearn: 1602.5789896\ttotal: 925ms\tremaining: 5.11s\n",
      "46:\tlearn: 1600.7713796\ttotal: 945ms\tremaining: 5.08s\n",
      "47:\tlearn: 1597.0705083\ttotal: 965ms\tremaining: 5.07s\n",
      "48:\tlearn: 1593.3227336\ttotal: 985ms\tremaining: 5.04s\n",
      "49:\tlearn: 1591.2947602\ttotal: 1s\tremaining: 5.02s\n",
      "50:\tlearn: 1589.9648602\ttotal: 1.03s\tremaining: 5.02s\n",
      "51:\tlearn: 1587.8488939\ttotal: 1.05s\tremaining: 5s\n",
      "52:\tlearn: 1584.9307138\ttotal: 1.07s\tremaining: 4.97s\n",
      "53:\tlearn: 1582.1727569\ttotal: 1.09s\tremaining: 4.98s\n",
      "54:\tlearn: 1579.7261961\ttotal: 1.11s\tremaining: 4.96s\n",
      "55:\tlearn: 1577.2272127\ttotal: 1.13s\tremaining: 4.94s\n",
      "56:\tlearn: 1574.1845488\ttotal: 1.15s\tremaining: 4.91s\n",
      "57:\tlearn: 1573.2886648\ttotal: 1.17s\tremaining: 4.88s\n",
      "58:\tlearn: 1570.8203869\ttotal: 1.19s\tremaining: 4.86s\n",
      "59:\tlearn: 1570.0101776\ttotal: 1.22s\tremaining: 4.86s\n",
      "60:\tlearn: 1567.0904456\ttotal: 1.28s\tremaining: 5s\n",
      "61:\tlearn: 1565.4384183\ttotal: 1.31s\tremaining: 5.02s\n",
      "62:\tlearn: 1562.3670274\ttotal: 1.33s\tremaining: 5s\n",
      "63:\tlearn: 1559.9227178\ttotal: 1.35s\tremaining: 4.97s\n",
      "64:\tlearn: 1557.6287465\ttotal: 1.37s\tremaining: 4.94s\n",
      "65:\tlearn: 1554.6054269\ttotal: 1.39s\tremaining: 4.91s\n",
      "66:\tlearn: 1553.4241606\ttotal: 1.4s\tremaining: 4.88s\n",
      "67:\tlearn: 1551.6410293\ttotal: 1.42s\tremaining: 4.86s\n",
      "68:\tlearn: 1550.3237216\ttotal: 1.45s\tremaining: 4.84s\n",
      "69:\tlearn: 1547.2833201\ttotal: 1.46s\tremaining: 4.81s\n",
      "70:\tlearn: 1546.2759452\ttotal: 1.48s\tremaining: 4.79s\n",
      "71:\tlearn: 1544.6721131\ttotal: 1.5s\tremaining: 4.77s\n",
      "72:\tlearn: 1541.1325856\ttotal: 1.52s\tremaining: 4.74s\n",
      "73:\tlearn: 1539.2916644\ttotal: 1.54s\tremaining: 4.71s\n",
      "74:\tlearn: 1536.9190461\ttotal: 1.56s\tremaining: 4.69s\n",
      "75:\tlearn: 1533.4723820\ttotal: 1.58s\tremaining: 4.67s\n",
      "76:\tlearn: 1532.0561803\ttotal: 1.6s\tremaining: 4.64s\n",
      "77:\tlearn: 1530.1442822\ttotal: 1.62s\tremaining: 4.62s\n",
      "78:\tlearn: 1527.6212239\ttotal: 1.64s\tremaining: 4.6s\n",
      "79:\tlearn: 1526.5232730\ttotal: 1.66s\tremaining: 4.57s\n",
      "80:\tlearn: 1525.6492852\ttotal: 1.68s\tremaining: 4.55s\n",
      "81:\tlearn: 1522.8167632\ttotal: 1.7s\tremaining: 4.52s\n",
      "82:\tlearn: 1520.7028468\ttotal: 1.72s\tremaining: 4.5s\n",
      "83:\tlearn: 1518.9486780\ttotal: 1.74s\tremaining: 4.48s\n",
      "84:\tlearn: 1517.9878758\ttotal: 1.76s\tremaining: 4.45s\n",
      "85:\tlearn: 1516.6606584\ttotal: 1.78s\tremaining: 4.43s\n",
      "86:\tlearn: 1514.5363673\ttotal: 1.8s\tremaining: 4.4s\n",
      "87:\tlearn: 1512.6726861\ttotal: 1.82s\tremaining: 4.38s\n",
      "88:\tlearn: 1511.9662010\ttotal: 1.84s\tremaining: 4.35s\n",
      "89:\tlearn: 1510.2380747\ttotal: 1.86s\tremaining: 4.33s\n",
      "90:\tlearn: 1506.6099584\ttotal: 1.88s\tremaining: 4.31s\n",
      "91:\tlearn: 1504.3613551\ttotal: 1.9s\tremaining: 4.29s\n",
      "92:\tlearn: 1502.3435728\ttotal: 1.92s\tremaining: 4.27s\n",
      "93:\tlearn: 1501.1525569\ttotal: 1.94s\tremaining: 4.25s\n",
      "94:\tlearn: 1499.6951947\ttotal: 1.96s\tremaining: 4.23s\n",
      "95:\tlearn: 1497.9713520\ttotal: 1.98s\tremaining: 4.2s\n",
      "96:\tlearn: 1495.8745247\ttotal: 2s\tremaining: 4.18s\n",
      "97:\tlearn: 1494.5284536\ttotal: 2.02s\tremaining: 4.15s\n",
      "98:\tlearn: 1493.4212453\ttotal: 2.03s\tremaining: 4.13s\n",
      "99:\tlearn: 1491.3021052\ttotal: 2.05s\tremaining: 4.11s\n",
      "100:\tlearn: 1489.7967862\ttotal: 2.07s\tremaining: 4.08s\n",
      "101:\tlearn: 1488.6702196\ttotal: 2.09s\tremaining: 4.06s\n",
      "102:\tlearn: 1487.4777787\ttotal: 2.11s\tremaining: 4.04s\n",
      "103:\tlearn: 1486.8383435\ttotal: 2.13s\tremaining: 4.01s\n",
      "104:\tlearn: 1484.8492404\ttotal: 2.15s\tremaining: 4s\n",
      "105:\tlearn: 1482.6317558\ttotal: 2.17s\tremaining: 3.97s\n",
      "106:\tlearn: 1481.3158709\ttotal: 2.19s\tremaining: 3.95s\n",
      "107:\tlearn: 1478.7404654\ttotal: 2.21s\tremaining: 3.93s\n",
      "108:\tlearn: 1476.7731582\ttotal: 2.23s\tremaining: 3.91s\n",
      "109:\tlearn: 1475.2420273\ttotal: 2.25s\tremaining: 3.89s\n",
      "110:\tlearn: 1474.0619160\ttotal: 2.27s\tremaining: 3.86s\n",
      "111:\tlearn: 1472.7562942\ttotal: 2.29s\tremaining: 3.85s\n",
      "112:\tlearn: 1472.1062168\ttotal: 2.31s\tremaining: 3.83s\n",
      "113:\tlearn: 1470.6688913\ttotal: 2.33s\tremaining: 3.8s\n",
      "114:\tlearn: 1469.0818509\ttotal: 2.35s\tremaining: 3.78s\n",
      "115:\tlearn: 1467.8953300\ttotal: 2.37s\tremaining: 3.76s\n",
      "116:\tlearn: 1465.9506657\ttotal: 2.39s\tremaining: 3.74s\n",
      "117:\tlearn: 1464.5132600\ttotal: 2.41s\tremaining: 3.72s\n",
      "118:\tlearn: 1463.1597902\ttotal: 2.43s\tremaining: 3.7s\n",
      "119:\tlearn: 1461.0956178\ttotal: 2.45s\tremaining: 3.68s\n",
      "120:\tlearn: 1459.6449113\ttotal: 2.47s\tremaining: 3.66s\n",
      "121:\tlearn: 1457.9603713\ttotal: 2.49s\tremaining: 3.63s\n",
      "122:\tlearn: 1457.0790409\ttotal: 2.51s\tremaining: 3.61s\n",
      "123:\tlearn: 1455.9980716\ttotal: 2.53s\tremaining: 3.59s\n",
      "124:\tlearn: 1455.5940640\ttotal: 2.55s\tremaining: 3.57s\n",
      "125:\tlearn: 1454.3613102\ttotal: 2.57s\tremaining: 3.55s\n",
      "126:\tlearn: 1453.5108957\ttotal: 2.59s\tremaining: 3.53s\n",
      "127:\tlearn: 1452.4777849\ttotal: 2.61s\tremaining: 3.5s\n",
      "128:\tlearn: 1450.7939423\ttotal: 2.63s\tremaining: 3.48s\n",
      "129:\tlearn: 1449.6131745\ttotal: 2.65s\tremaining: 3.46s\n",
      "130:\tlearn: 1448.7703895\ttotal: 2.67s\tremaining: 3.44s\n",
      "131:\tlearn: 1446.7775339\ttotal: 2.69s\tremaining: 3.42s\n",
      "132:\tlearn: 1444.8870480\ttotal: 2.71s\tremaining: 3.4s\n",
      "133:\tlearn: 1443.8866152\ttotal: 2.73s\tremaining: 3.38s\n",
      "134:\tlearn: 1443.2322075\ttotal: 2.75s\tremaining: 3.36s\n",
      "135:\tlearn: 1442.0061945\ttotal: 2.77s\tremaining: 3.34s\n",
      "136:\tlearn: 1440.8905779\ttotal: 2.79s\tremaining: 3.32s\n",
      "137:\tlearn: 1439.6306846\ttotal: 2.81s\tremaining: 3.3s\n",
      "138:\tlearn: 1438.1151041\ttotal: 2.83s\tremaining: 3.28s\n",
      "139:\tlearn: 1437.2438789\ttotal: 2.85s\tremaining: 3.25s\n",
      "140:\tlearn: 1435.9309915\ttotal: 2.87s\tremaining: 3.23s\n",
      "141:\tlearn: 1434.4627328\ttotal: 2.89s\tremaining: 3.21s\n",
      "142:\tlearn: 1433.3268480\ttotal: 2.9s\tremaining: 3.19s\n",
      "143:\tlearn: 1431.7901026\ttotal: 2.92s\tremaining: 3.17s\n",
      "144:\tlearn: 1430.6642027\ttotal: 2.94s\tremaining: 3.15s\n",
      "145:\tlearn: 1429.6852572\ttotal: 2.97s\tremaining: 3.13s\n",
      "146:\tlearn: 1427.6851019\ttotal: 2.99s\tremaining: 3.11s\n",
      "147:\tlearn: 1426.1380256\ttotal: 3.01s\tremaining: 3.09s\n",
      "148:\tlearn: 1425.0260940\ttotal: 3.03s\tremaining: 3.07s\n",
      "149:\tlearn: 1422.5754016\ttotal: 3.05s\tremaining: 3.05s\n",
      "150:\tlearn: 1421.4840899\ttotal: 3.07s\tremaining: 3.03s\n",
      "151:\tlearn: 1420.6380614\ttotal: 3.08s\tremaining: 3s\n",
      "152:\tlearn: 1419.7248047\ttotal: 3.1s\tremaining: 2.98s\n",
      "153:\tlearn: 1418.9934371\ttotal: 3.12s\tremaining: 2.96s\n",
      "154:\tlearn: 1417.8188933\ttotal: 3.14s\tremaining: 2.94s\n",
      "155:\tlearn: 1416.5869968\ttotal: 3.16s\tremaining: 2.92s\n",
      "156:\tlearn: 1415.4973346\ttotal: 3.18s\tremaining: 2.9s\n",
      "157:\tlearn: 1414.7770356\ttotal: 3.2s\tremaining: 2.88s\n",
      "158:\tlearn: 1413.5528557\ttotal: 3.22s\tremaining: 2.86s\n",
      "159:\tlearn: 1412.3906558\ttotal: 3.24s\tremaining: 2.83s\n",
      "160:\tlearn: 1411.3980424\ttotal: 3.26s\tremaining: 2.81s\n",
      "161:\tlearn: 1410.4707547\ttotal: 3.28s\tremaining: 2.79s\n",
      "162:\tlearn: 1409.5783672\ttotal: 3.3s\tremaining: 2.77s\n",
      "163:\tlearn: 1408.6068203\ttotal: 3.31s\tremaining: 2.75s\n",
      "164:\tlearn: 1407.9367520\ttotal: 3.33s\tremaining: 2.73s\n",
      "165:\tlearn: 1407.2781229\ttotal: 3.35s\tremaining: 2.71s\n",
      "166:\tlearn: 1406.4988950\ttotal: 3.37s\tremaining: 2.69s\n",
      "167:\tlearn: 1405.9395798\ttotal: 3.39s\tremaining: 2.67s\n",
      "168:\tlearn: 1405.1255846\ttotal: 3.41s\tremaining: 2.65s\n",
      "169:\tlearn: 1404.0762617\ttotal: 3.43s\tremaining: 2.63s\n",
      "170:\tlearn: 1403.1516512\ttotal: 3.45s\tremaining: 2.6s\n",
      "171:\tlearn: 1402.6776518\ttotal: 3.47s\tremaining: 2.58s\n",
      "172:\tlearn: 1401.4810729\ttotal: 3.49s\tremaining: 2.56s\n",
      "173:\tlearn: 1400.7653189\ttotal: 3.51s\tremaining: 2.54s\n",
      "174:\tlearn: 1399.3768150\ttotal: 3.53s\tremaining: 2.52s\n",
      "175:\tlearn: 1397.7858973\ttotal: 3.55s\tremaining: 2.5s\n",
      "176:\tlearn: 1396.9361028\ttotal: 3.56s\tremaining: 2.48s\n",
      "177:\tlearn: 1395.4969610\ttotal: 3.59s\tremaining: 2.46s\n",
      "178:\tlearn: 1394.4153213\ttotal: 3.61s\tremaining: 2.44s\n",
      "179:\tlearn: 1393.0696381\ttotal: 3.66s\tremaining: 2.44s\n",
      "180:\tlearn: 1392.0839721\ttotal: 3.68s\tremaining: 2.42s\n",
      "181:\tlearn: 1391.0227378\ttotal: 3.7s\tremaining: 2.4s\n",
      "182:\tlearn: 1389.6212208\ttotal: 3.72s\tremaining: 2.38s\n",
      "183:\tlearn: 1388.9947989\ttotal: 3.73s\tremaining: 2.35s\n",
      "184:\tlearn: 1387.7935497\ttotal: 3.75s\tremaining: 2.33s\n",
      "185:\tlearn: 1386.3726688\ttotal: 3.77s\tremaining: 2.31s\n",
      "186:\tlearn: 1385.0272120\ttotal: 3.79s\tremaining: 2.29s\n",
      "187:\tlearn: 1384.3192072\ttotal: 3.81s\tremaining: 2.27s\n",
      "188:\tlearn: 1383.0397939\ttotal: 3.83s\tremaining: 2.25s\n",
      "189:\tlearn: 1382.2919046\ttotal: 3.85s\tremaining: 2.23s\n",
      "190:\tlearn: 1381.4810335\ttotal: 3.87s\tremaining: 2.21s\n",
      "191:\tlearn: 1380.4636791\ttotal: 3.89s\tremaining: 2.19s\n",
      "192:\tlearn: 1379.8648046\ttotal: 3.91s\tremaining: 2.17s\n",
      "193:\tlearn: 1379.1039381\ttotal: 3.93s\tremaining: 2.15s\n",
      "194:\tlearn: 1378.1610442\ttotal: 3.94s\tremaining: 2.12s\n",
      "195:\tlearn: 1377.2093273\ttotal: 3.96s\tremaining: 2.1s\n",
      "196:\tlearn: 1376.6462722\ttotal: 3.98s\tremaining: 2.08s\n",
      "197:\tlearn: 1375.9754824\ttotal: 4.01s\tremaining: 2.06s\n",
      "198:\tlearn: 1374.7577852\ttotal: 4.03s\tremaining: 2.05s\n",
      "199:\tlearn: 1374.2161281\ttotal: 4.05s\tremaining: 2.03s\n",
      "200:\tlearn: 1373.8183530\ttotal: 4.08s\tremaining: 2.01s\n",
      "201:\tlearn: 1373.2435224\ttotal: 4.1s\tremaining: 1.99s\n",
      "202:\tlearn: 1372.4432158\ttotal: 4.12s\tremaining: 1.97s\n",
      "203:\tlearn: 1371.8691291\ttotal: 4.14s\tremaining: 1.95s\n",
      "204:\tlearn: 1371.1710010\ttotal: 4.16s\tremaining: 1.93s\n",
      "205:\tlearn: 1370.2499482\ttotal: 4.18s\tremaining: 1.91s\n",
      "206:\tlearn: 1369.6877360\ttotal: 4.2s\tremaining: 1.89s\n",
      "207:\tlearn: 1368.8549822\ttotal: 4.22s\tremaining: 1.86s\n",
      "208:\tlearn: 1367.9236040\ttotal: 4.24s\tremaining: 1.85s\n",
      "209:\tlearn: 1367.2221350\ttotal: 4.26s\tremaining: 1.83s\n",
      "210:\tlearn: 1366.2934994\ttotal: 4.28s\tremaining: 1.81s\n",
      "211:\tlearn: 1365.8499002\ttotal: 4.3s\tremaining: 1.79s\n",
      "212:\tlearn: 1365.2341787\ttotal: 4.32s\tremaining: 1.77s\n",
      "213:\tlearn: 1364.2080707\ttotal: 4.34s\tremaining: 1.75s\n",
      "214:\tlearn: 1363.5205580\ttotal: 4.36s\tremaining: 1.73s\n",
      "215:\tlearn: 1362.5629143\ttotal: 4.38s\tremaining: 1.7s\n",
      "216:\tlearn: 1361.8474487\ttotal: 4.4s\tremaining: 1.68s\n",
      "217:\tlearn: 1360.7278824\ttotal: 4.42s\tremaining: 1.66s\n",
      "218:\tlearn: 1360.0360374\ttotal: 4.44s\tremaining: 1.64s\n",
      "219:\tlearn: 1359.0225820\ttotal: 4.46s\tremaining: 1.62s\n",
      "220:\tlearn: 1357.7907772\ttotal: 4.49s\tremaining: 1.6s\n",
      "221:\tlearn: 1357.2328841\ttotal: 4.51s\tremaining: 1.58s\n",
      "222:\tlearn: 1356.3636568\ttotal: 4.53s\tremaining: 1.56s\n",
      "223:\tlearn: 1355.6047291\ttotal: 4.54s\tremaining: 1.54s\n",
      "224:\tlearn: 1354.4801290\ttotal: 4.56s\tremaining: 1.52s\n",
      "225:\tlearn: 1353.7386371\ttotal: 4.58s\tremaining: 1.5s\n",
      "226:\tlearn: 1352.6466757\ttotal: 4.6s\tremaining: 1.48s\n",
      "227:\tlearn: 1351.5424625\ttotal: 4.62s\tremaining: 1.46s\n",
      "228:\tlearn: 1351.1318357\ttotal: 4.64s\tremaining: 1.44s\n",
      "229:\tlearn: 1350.6229842\ttotal: 4.66s\tremaining: 1.42s\n",
      "230:\tlearn: 1349.6913240\ttotal: 4.68s\tremaining: 1.4s\n",
      "231:\tlearn: 1348.8235622\ttotal: 4.7s\tremaining: 1.38s\n",
      "232:\tlearn: 1348.0299013\ttotal: 4.72s\tremaining: 1.36s\n",
      "233:\tlearn: 1347.2323344\ttotal: 4.74s\tremaining: 1.34s\n",
      "234:\tlearn: 1346.7595456\ttotal: 4.76s\tremaining: 1.31s\n",
      "235:\tlearn: 1345.8949046\ttotal: 4.78s\tremaining: 1.29s\n",
      "236:\tlearn: 1344.8369072\ttotal: 4.79s\tremaining: 1.27s\n",
      "237:\tlearn: 1344.2470248\ttotal: 4.81s\tremaining: 1.25s\n",
      "238:\tlearn: 1342.7093349\ttotal: 4.83s\tremaining: 1.23s\n",
      "239:\tlearn: 1342.0789485\ttotal: 4.85s\tremaining: 1.21s\n",
      "240:\tlearn: 1341.6058327\ttotal: 4.87s\tremaining: 1.19s\n",
      "241:\tlearn: 1340.8877033\ttotal: 4.89s\tremaining: 1.17s\n",
      "242:\tlearn: 1340.0954124\ttotal: 4.91s\tremaining: 1.15s\n",
      "243:\tlearn: 1339.1340770\ttotal: 4.93s\tremaining: 1.13s\n",
      "244:\tlearn: 1337.4607303\ttotal: 4.95s\tremaining: 1.11s\n",
      "245:\tlearn: 1336.5533441\ttotal: 4.97s\tremaining: 1.09s\n",
      "246:\tlearn: 1335.6634679\ttotal: 4.99s\tremaining: 1.07s\n",
      "247:\tlearn: 1334.8039589\ttotal: 5.01s\tremaining: 1.05s\n",
      "248:\tlearn: 1334.0157171\ttotal: 5.03s\tremaining: 1.03s\n",
      "249:\tlearn: 1333.1571446\ttotal: 5.05s\tremaining: 1.01s\n",
      "250:\tlearn: 1332.6501794\ttotal: 5.07s\tremaining: 990ms\n",
      "251:\tlearn: 1331.5538387\ttotal: 5.1s\tremaining: 971ms\n",
      "252:\tlearn: 1330.9751604\ttotal: 5.12s\tremaining: 951ms\n",
      "253:\tlearn: 1330.5715496\ttotal: 5.14s\tremaining: 931ms\n",
      "254:\tlearn: 1329.8781524\ttotal: 5.16s\tremaining: 911ms\n",
      "255:\tlearn: 1329.6201547\ttotal: 5.18s\tremaining: 890ms\n",
      "256:\tlearn: 1328.4166270\ttotal: 5.2s\tremaining: 870ms\n",
      "257:\tlearn: 1327.7493281\ttotal: 5.22s\tremaining: 850ms\n",
      "258:\tlearn: 1327.0075504\ttotal: 5.24s\tremaining: 829ms\n",
      "259:\tlearn: 1326.5143625\ttotal: 5.26s\tremaining: 809ms\n",
      "260:\tlearn: 1325.9576149\ttotal: 5.28s\tremaining: 789ms\n",
      "261:\tlearn: 1325.5884142\ttotal: 5.3s\tremaining: 769ms\n",
      "262:\tlearn: 1324.7856345\ttotal: 5.32s\tremaining: 749ms\n",
      "263:\tlearn: 1323.9111299\ttotal: 5.34s\tremaining: 728ms\n",
      "264:\tlearn: 1323.0475211\ttotal: 5.36s\tremaining: 708ms\n",
      "265:\tlearn: 1322.2152026\ttotal: 5.38s\tremaining: 688ms\n",
      "266:\tlearn: 1321.8209013\ttotal: 5.4s\tremaining: 667ms\n",
      "267:\tlearn: 1321.0740765\ttotal: 5.42s\tremaining: 647ms\n",
      "268:\tlearn: 1320.5516745\ttotal: 5.44s\tremaining: 627ms\n",
      "269:\tlearn: 1319.7898413\ttotal: 5.46s\tremaining: 606ms\n",
      "270:\tlearn: 1319.1488493\ttotal: 5.48s\tremaining: 586ms\n",
      "271:\tlearn: 1318.3611233\ttotal: 5.5s\tremaining: 566ms\n",
      "272:\tlearn: 1317.8551824\ttotal: 5.52s\tremaining: 546ms\n",
      "273:\tlearn: 1317.2335828\ttotal: 5.54s\tremaining: 525ms\n",
      "274:\tlearn: 1316.2960326\ttotal: 5.56s\tremaining: 505ms\n",
      "275:\tlearn: 1315.3527510\ttotal: 5.58s\tremaining: 485ms\n",
      "276:\tlearn: 1314.2031459\ttotal: 5.59s\tremaining: 465ms\n",
      "277:\tlearn: 1313.6130024\ttotal: 5.61s\tremaining: 444ms\n",
      "278:\tlearn: 1312.9555995\ttotal: 5.63s\tremaining: 424ms\n",
      "279:\tlearn: 1312.2876596\ttotal: 5.65s\tremaining: 404ms\n",
      "280:\tlearn: 1311.4730678\ttotal: 5.67s\tremaining: 383ms\n",
      "281:\tlearn: 1311.0034092\ttotal: 5.7s\tremaining: 364ms\n",
      "282:\tlearn: 1310.1501656\ttotal: 5.72s\tremaining: 343ms\n",
      "283:\tlearn: 1309.5655151\ttotal: 5.74s\tremaining: 323ms\n",
      "284:\tlearn: 1309.2497057\ttotal: 5.76s\tremaining: 303ms\n",
      "285:\tlearn: 1308.9754493\ttotal: 5.78s\tremaining: 283ms\n",
      "286:\tlearn: 1308.1786365\ttotal: 5.79s\tremaining: 263ms\n",
      "287:\tlearn: 1307.7566552\ttotal: 5.81s\tremaining: 242ms\n",
      "288:\tlearn: 1306.5800219\ttotal: 5.84s\tremaining: 222ms\n",
      "289:\tlearn: 1305.9752777\ttotal: 5.85s\tremaining: 202ms\n",
      "290:\tlearn: 1305.2265002\ttotal: 5.87s\tremaining: 182ms\n",
      "291:\tlearn: 1304.7218414\ttotal: 5.89s\tremaining: 162ms\n",
      "292:\tlearn: 1304.1435793\ttotal: 5.92s\tremaining: 141ms\n",
      "293:\tlearn: 1303.4334566\ttotal: 5.94s\tremaining: 121ms\n",
      "294:\tlearn: 1302.0278837\ttotal: 5.96s\tremaining: 101ms\n",
      "295:\tlearn: 1300.9676386\ttotal: 5.99s\tremaining: 80.9ms\n",
      "296:\tlearn: 1300.1518819\ttotal: 6.01s\tremaining: 60.7ms\n",
      "297:\tlearn: 1299.5173857\ttotal: 6.03s\tremaining: 40.5ms\n",
      "298:\tlearn: 1299.0695352\ttotal: 6.05s\tremaining: 20.2ms\n",
      "299:\tlearn: 1298.2513974\ttotal: 6.07s\tremaining: 0us\n",
      "CatBoost - RMSE: 1573.0654517482662\n",
      "Training time: 6.207777976989746 seconds\n",
      "Prediction time: 0.02429485321044922 seconds\n"
     ]
    }
   ],
   "source": [
    "catboost_model = CatBoostRegressor(depth=10, iterations=300, learning_rate=0.3)\n",
    "\n",
    "X_train_np = X_train.to_numpy()\n",
    "y_train_np = y_train.to_numpy()\n",
    "\n",
    "start_time = time.time()\n",
    "catboost_model.fit(X_train_np, y_train_np)\n",
    "end_time = time.time()\n",
    "training_time = end_time - start_time\n",
    "\n",
    "X_valid_np = X_valid.to_numpy()\n",
    "\n",
    "start_time = time.time()\n",
    "y_pred_catboost = catboost_model.predict(X_valid_np)\n",
    "end_time = time.time()\n",
    "prediction_time = end_time - start_time\n",
    "\n",
    "rmse_catboost = (mean_squared_error(y_valid, y_pred_catboost))**0.5\n",
    "print(f\"CatBoost - RMSE: {rmse_catboost}\")\n",
    "print(f\"Training time: {training_time} seconds\")\n",
    "print(f\"Prediction time: {prediction_time} seconds\")"
   ]
  },
  {
   "cell_type": "markdown",
   "metadata": {},
   "source": [
    "LigthGBM."
   ]
  },
  {
   "cell_type": "code",
   "execution_count": 42,
   "metadata": {},
   "outputs": [
    {
     "name": "stdout",
     "output_type": "stream",
     "text": [
      "[LightGBM] [Info] Auto-choosing row-wise multi-threading, the overhead of testing was 0.003255 seconds.\n",
      "You can set `force_row_wise=true` to remove the overhead.\n",
      "And if memory is not enough, you can set `force_col_wise=true`.\n",
      "[LightGBM] [Info] Total Bins 914\n",
      "[LightGBM] [Info] Number of data points in the train set: 163699, number of used features: 11\n",
      "[LightGBM] [Info] Start training from score 4831.586332\n",
      "LightGBM - RMSE: 1637.074379759445\n",
      "Training time: 0.26967906951904297 seconds\n",
      "Prediction time: 0.06473207473754883 seconds\n"
     ]
    }
   ],
   "source": [
    "lgbm_model = lgb.LGBMRegressor(learning_rate=0.3, n_estimators=70, max_depth=10, num_leaves=30)\n",
    "start_time = time.time()\n",
    "lgbm_model.fit(X_train, y_train)\n",
    "end_time = time.time()\n",
    "training_time = end_time - start_time\n",
    "\n",
    "start_time = time.time()\n",
    "y_pred_lgbm = lgbm_model.predict(X_valid)\n",
    "end_time = time.time()\n",
    "prediction_time = end_time - start_time\n",
    "\n",
    "rmse_lgbm = (mean_squared_error(y_valid, y_pred_lgbm))**0.5\n",
    "print(f\"LightGBM - RMSE: {rmse_lgbm}\")\n",
    "print(f\"Training time: {training_time} seconds\")\n",
    "print(f\"Prediction time: {prediction_time} seconds\")"
   ]
  },
  {
   "cell_type": "markdown",
   "metadata": {},
   "source": [
    "Random Forest."
   ]
  },
  {
   "cell_type": "code",
   "execution_count": 43,
   "metadata": {},
   "outputs": [
    {
     "name": "stdout",
     "output_type": "stream",
     "text": [
      "Random Forest - RMSE: 1783.9860731788278\n",
      "Training time: 28.492663145065308 seconds\n",
      "Prediction time: 0.3616490364074707 seconds\n"
     ]
    }
   ],
   "source": [
    "random_forest_model = RandomForestRegressor(max_depth=10, n_estimators=100)\n",
    "start_time = time.time()\n",
    "random_forest_model.fit(X_train, y_train)\n",
    "end_time = time.time()\n",
    "training_time = end_time - start_time\n",
    "\n",
    "start_time = time.time()\n",
    "y_pred_random_forest = random_forest_model.predict(X_valid)\n",
    "end_time = time.time()\n",
    "prediction_time = end_time - start_time\n",
    "\n",
    "rmse_random_forest = (mean_squared_error(y_valid, y_pred_random_forest))**0.5\n",
    "print(f\"Random Forest - RMSE: {rmse_random_forest}\")\n",
    "print(f\"Training time: {training_time} seconds\")\n",
    "print(f\"Prediction time: {prediction_time} seconds\")"
   ]
  },
  {
   "cell_type": "markdown",
   "metadata": {},
   "source": [
    "Let's choose the optimal model based on the testing results:\n",
    "\n",
    "| Model |Training time sec. | Prediction time sec. | RMSE | Hyperparameters |\n",
    "-------:|----:|-----:|------:|------:|\n",
    "| Linear Regression |0.03 | 0.04 | 2786 | {'fit_intercept': True} |\n",
    "| Decision Tree |0.7 | 0.008 | 1907 | {'max_depth': 10, 'min_samples_leaf': 4, 'min_samples_split': 5} |\n",
    "| CatBoost | 19 | 0.07 | 1579 | {'depth': 10, 'iterations': 300, 'learning_rate': 0.3} |\n",
    "| LightGBM | 167 | 0.31 | 1629 | {learning_rate:0.3, n_estimators:70, max_depth:10, num_leaves:30} |\n",
    "| Random Forest | 36.8 | 0.5 | 1787 | {'max_depth': 10, 'n_estimators': 100} |\n",
    "\n",
    "From the table, it's evident that CatBoost and LightGBM are the most accurate models, but CatBoost achieves similar prediction accuracy in less time."
   ]
  },
  {
   "cell_type": "markdown",
   "metadata": {},
   "source": [
    "Conclusion: The CatBoost gradient boosting model demonstrated both speed and accuracy among all models. With approximately similar hyperparameters, CatBoost requires less time for both training (17 seconds) and prediction (0.06 seconds), while LightGBM takes more time for training (38 seconds) and prediction (0.3 seconds). Additionally, CatBoost exhibits higher accuracy based on the RMSE metric. Considering all the factors mentioned, the CatBoost model is recommended for deployment."
   ]
  },
  {
   "cell_type": "markdown",
   "metadata": {},
   "source": [
    "Let's now evaluate the CatBoost model on the test dataset."
   ]
  },
  {
   "cell_type": "code",
   "execution_count": 44,
   "metadata": {
    "scrolled": true
   },
   "outputs": [
    {
     "name": "stdout",
     "output_type": "stream",
     "text": [
      "0:\tlearn: 3641.3051313\ttotal: 18.8ms\tremaining: 5.62s\n",
      "1:\tlearn: 2984.7385770\ttotal: 39.5ms\tremaining: 5.88s\n",
      "2:\tlearn: 2554.6375563\ttotal: 58.5ms\tremaining: 5.79s\n",
      "3:\tlearn: 2278.4477636\ttotal: 78.3ms\tremaining: 5.8s\n",
      "4:\tlearn: 2101.0968323\ttotal: 98.1ms\tremaining: 5.79s\n",
      "5:\tlearn: 1996.4767111\ttotal: 117ms\tremaining: 5.75s\n",
      "6:\tlearn: 1913.3289596\ttotal: 137ms\tremaining: 5.71s\n",
      "7:\tlearn: 1867.4810619\ttotal: 156ms\tremaining: 5.7s\n",
      "8:\tlearn: 1826.2627434\ttotal: 176ms\tremaining: 5.68s\n",
      "9:\tlearn: 1800.8875261\ttotal: 196ms\tremaining: 5.69s\n",
      "10:\tlearn: 1779.5069968\ttotal: 216ms\tremaining: 5.67s\n",
      "11:\tlearn: 1766.0001790\ttotal: 235ms\tremaining: 5.64s\n",
      "12:\tlearn: 1752.0202010\ttotal: 257ms\tremaining: 5.67s\n",
      "13:\tlearn: 1742.0141698\ttotal: 276ms\tremaining: 5.64s\n",
      "14:\tlearn: 1733.0728090\ttotal: 295ms\tremaining: 5.61s\n",
      "15:\tlearn: 1725.1377697\ttotal: 315ms\tremaining: 5.58s\n",
      "16:\tlearn: 1719.4274846\ttotal: 333ms\tremaining: 5.55s\n",
      "17:\tlearn: 1707.9840031\ttotal: 353ms\tremaining: 5.53s\n",
      "18:\tlearn: 1702.1374043\ttotal: 373ms\tremaining: 5.51s\n",
      "19:\tlearn: 1695.6514479\ttotal: 394ms\tremaining: 5.52s\n",
      "20:\tlearn: 1691.3504915\ttotal: 413ms\tremaining: 5.48s\n",
      "21:\tlearn: 1684.3709082\ttotal: 431ms\tremaining: 5.45s\n",
      "22:\tlearn: 1678.7062498\ttotal: 452ms\tremaining: 5.45s\n",
      "23:\tlearn: 1674.3524899\ttotal: 473ms\tremaining: 5.44s\n",
      "24:\tlearn: 1670.6969838\ttotal: 491ms\tremaining: 5.41s\n",
      "25:\tlearn: 1664.7358963\ttotal: 510ms\tremaining: 5.38s\n",
      "26:\tlearn: 1661.2840555\ttotal: 529ms\tremaining: 5.35s\n",
      "27:\tlearn: 1659.0169772\ttotal: 547ms\tremaining: 5.31s\n",
      "28:\tlearn: 1656.4697449\ttotal: 566ms\tremaining: 5.28s\n",
      "29:\tlearn: 1652.4534938\ttotal: 586ms\tremaining: 5.27s\n",
      "30:\tlearn: 1648.6068896\ttotal: 607ms\tremaining: 5.27s\n",
      "31:\tlearn: 1644.4178237\ttotal: 627ms\tremaining: 5.25s\n",
      "32:\tlearn: 1642.3430036\ttotal: 646ms\tremaining: 5.22s\n",
      "33:\tlearn: 1638.8166018\ttotal: 669ms\tremaining: 5.23s\n",
      "34:\tlearn: 1633.9889484\ttotal: 690ms\tremaining: 5.22s\n",
      "35:\tlearn: 1630.2670657\ttotal: 709ms\tremaining: 5.2s\n",
      "36:\tlearn: 1626.6236512\ttotal: 729ms\tremaining: 5.18s\n",
      "37:\tlearn: 1624.7962303\ttotal: 748ms\tremaining: 5.16s\n",
      "38:\tlearn: 1621.8792254\ttotal: 767ms\tremaining: 5.14s\n",
      "39:\tlearn: 1619.6561680\ttotal: 787ms\tremaining: 5.12s\n",
      "40:\tlearn: 1617.1770949\ttotal: 807ms\tremaining: 5.1s\n",
      "41:\tlearn: 1614.6075702\ttotal: 827ms\tremaining: 5.08s\n",
      "42:\tlearn: 1611.4466011\ttotal: 846ms\tremaining: 5.06s\n",
      "43:\tlearn: 1606.0912879\ttotal: 866ms\tremaining: 5.04s\n",
      "44:\tlearn: 1603.8341651\ttotal: 885ms\tremaining: 5.02s\n",
      "45:\tlearn: 1602.5789896\ttotal: 905ms\tremaining: 5s\n",
      "46:\tlearn: 1600.7713796\ttotal: 923ms\tremaining: 4.97s\n",
      "47:\tlearn: 1597.0705083\ttotal: 942ms\tremaining: 4.95s\n",
      "48:\tlearn: 1593.3227336\ttotal: 963ms\tremaining: 4.93s\n",
      "49:\tlearn: 1591.2947602\ttotal: 982ms\tremaining: 4.91s\n",
      "50:\tlearn: 1589.9648602\ttotal: 1s\tremaining: 4.9s\n",
      "51:\tlearn: 1587.8488939\ttotal: 1.02s\tremaining: 4.89s\n",
      "52:\tlearn: 1584.9307138\ttotal: 1.04s\tremaining: 4.86s\n",
      "53:\tlearn: 1582.1727569\ttotal: 1.06s\tremaining: 4.84s\n",
      "54:\tlearn: 1579.7261961\ttotal: 1.08s\tremaining: 4.82s\n",
      "55:\tlearn: 1577.2272127\ttotal: 1.1s\tremaining: 4.81s\n",
      "56:\tlearn: 1574.1845488\ttotal: 1.12s\tremaining: 4.79s\n",
      "57:\tlearn: 1573.2886648\ttotal: 1.14s\tremaining: 4.77s\n",
      "58:\tlearn: 1570.8203869\ttotal: 1.16s\tremaining: 4.75s\n",
      "59:\tlearn: 1570.0101776\ttotal: 1.18s\tremaining: 4.72s\n",
      "60:\tlearn: 1567.0904456\ttotal: 1.2s\tremaining: 4.7s\n",
      "61:\tlearn: 1565.4384183\ttotal: 1.22s\tremaining: 4.69s\n",
      "62:\tlearn: 1562.3670274\ttotal: 1.24s\tremaining: 4.67s\n",
      "63:\tlearn: 1559.9227178\ttotal: 1.26s\tremaining: 4.65s\n",
      "64:\tlearn: 1557.6287465\ttotal: 1.28s\tremaining: 4.63s\n",
      "65:\tlearn: 1554.6054269\ttotal: 1.3s\tremaining: 4.61s\n",
      "66:\tlearn: 1553.4241606\ttotal: 1.32s\tremaining: 4.6s\n",
      "67:\tlearn: 1551.6410293\ttotal: 1.34s\tremaining: 4.58s\n",
      "68:\tlearn: 1550.3237216\ttotal: 1.36s\tremaining: 4.56s\n",
      "69:\tlearn: 1547.2833201\ttotal: 1.38s\tremaining: 4.54s\n",
      "70:\tlearn: 1546.2759452\ttotal: 1.4s\tremaining: 4.52s\n",
      "71:\tlearn: 1544.6721131\ttotal: 1.42s\tremaining: 4.49s\n",
      "72:\tlearn: 1541.1325856\ttotal: 1.44s\tremaining: 4.48s\n",
      "73:\tlearn: 1539.2916644\ttotal: 1.46s\tremaining: 4.46s\n",
      "74:\tlearn: 1536.9190461\ttotal: 1.48s\tremaining: 4.44s\n",
      "75:\tlearn: 1533.4723820\ttotal: 1.5s\tremaining: 4.42s\n",
      "76:\tlearn: 1532.0561803\ttotal: 1.52s\tremaining: 4.4s\n",
      "77:\tlearn: 1530.1442822\ttotal: 1.54s\tremaining: 4.38s\n",
      "78:\tlearn: 1527.6212239\ttotal: 1.56s\tremaining: 4.37s\n",
      "79:\tlearn: 1526.5232730\ttotal: 1.58s\tremaining: 4.34s\n",
      "80:\tlearn: 1525.6492852\ttotal: 1.6s\tremaining: 4.32s\n",
      "81:\tlearn: 1522.8167632\ttotal: 1.62s\tremaining: 4.3s\n",
      "82:\tlearn: 1520.7028468\ttotal: 1.64s\tremaining: 4.28s\n",
      "83:\tlearn: 1518.9486780\ttotal: 1.66s\tremaining: 4.26s\n",
      "84:\tlearn: 1517.9878758\ttotal: 1.68s\tremaining: 4.25s\n",
      "85:\tlearn: 1516.6606584\ttotal: 1.7s\tremaining: 4.22s\n",
      "86:\tlearn: 1514.5363673\ttotal: 1.72s\tremaining: 4.2s\n",
      "87:\tlearn: 1512.6726861\ttotal: 1.74s\tremaining: 4.18s\n",
      "88:\tlearn: 1511.9662010\ttotal: 1.76s\tremaining: 4.16s\n",
      "89:\tlearn: 1510.2380747\ttotal: 1.78s\tremaining: 4.15s\n",
      "90:\tlearn: 1506.6099584\ttotal: 1.8s\tremaining: 4.13s\n",
      "91:\tlearn: 1504.3613551\ttotal: 1.82s\tremaining: 4.11s\n",
      "92:\tlearn: 1502.3435728\ttotal: 1.84s\tremaining: 4.09s\n",
      "93:\tlearn: 1501.1525569\ttotal: 1.86s\tremaining: 4.07s\n",
      "94:\tlearn: 1499.6951947\ttotal: 1.88s\tremaining: 4.05s\n",
      "95:\tlearn: 1497.9713520\ttotal: 1.9s\tremaining: 4.03s\n",
      "96:\tlearn: 1495.8745247\ttotal: 1.92s\tremaining: 4.01s\n",
      "97:\tlearn: 1494.5284536\ttotal: 1.94s\tremaining: 3.99s\n",
      "98:\tlearn: 1493.4212453\ttotal: 1.96s\tremaining: 3.97s\n",
      "99:\tlearn: 1491.3021052\ttotal: 1.98s\tremaining: 3.96s\n",
      "100:\tlearn: 1489.7967862\ttotal: 2s\tremaining: 3.94s\n",
      "101:\tlearn: 1488.6702196\ttotal: 2.02s\tremaining: 3.92s\n",
      "102:\tlearn: 1487.4777787\ttotal: 2.04s\tremaining: 3.9s\n",
      "103:\tlearn: 1486.8383435\ttotal: 2.06s\tremaining: 3.88s\n",
      "104:\tlearn: 1484.8492404\ttotal: 2.08s\tremaining: 3.85s\n",
      "105:\tlearn: 1482.6317558\ttotal: 2.1s\tremaining: 3.84s\n",
      "106:\tlearn: 1481.3158709\ttotal: 2.12s\tremaining: 3.82s\n",
      "107:\tlearn: 1478.7404654\ttotal: 2.14s\tremaining: 3.8s\n",
      "108:\tlearn: 1476.7731582\ttotal: 2.16s\tremaining: 3.78s\n",
      "109:\tlearn: 1475.2420273\ttotal: 2.18s\tremaining: 3.76s\n",
      "110:\tlearn: 1474.0619160\ttotal: 2.2s\tremaining: 3.74s\n",
      "111:\tlearn: 1472.7562942\ttotal: 2.22s\tremaining: 3.72s\n",
      "112:\tlearn: 1472.1062168\ttotal: 2.23s\tremaining: 3.7s\n",
      "113:\tlearn: 1470.6688913\ttotal: 2.25s\tremaining: 3.68s\n",
      "114:\tlearn: 1469.0818509\ttotal: 2.27s\tremaining: 3.66s\n",
      "115:\tlearn: 1467.8953300\ttotal: 2.29s\tremaining: 3.64s\n",
      "116:\tlearn: 1465.9506657\ttotal: 2.31s\tremaining: 3.62s\n",
      "117:\tlearn: 1464.5132600\ttotal: 2.33s\tremaining: 3.6s\n",
      "118:\tlearn: 1463.1597902\ttotal: 2.35s\tremaining: 3.58s\n",
      "119:\tlearn: 1461.0956178\ttotal: 2.37s\tremaining: 3.56s\n",
      "120:\tlearn: 1459.6449113\ttotal: 2.39s\tremaining: 3.54s\n",
      "121:\tlearn: 1457.9603713\ttotal: 2.41s\tremaining: 3.52s\n",
      "122:\tlearn: 1457.0790409\ttotal: 2.43s\tremaining: 3.5s\n",
      "123:\tlearn: 1455.9980716\ttotal: 2.45s\tremaining: 3.48s\n",
      "124:\tlearn: 1455.5940640\ttotal: 2.47s\tremaining: 3.45s\n",
      "125:\tlearn: 1454.3613102\ttotal: 2.49s\tremaining: 3.43s\n",
      "126:\tlearn: 1453.5108957\ttotal: 2.51s\tremaining: 3.41s\n",
      "127:\tlearn: 1452.4777849\ttotal: 2.55s\tremaining: 3.43s\n",
      "128:\tlearn: 1450.7939423\ttotal: 2.58s\tremaining: 3.42s\n",
      "129:\tlearn: 1449.6131745\ttotal: 2.6s\tremaining: 3.4s\n",
      "130:\tlearn: 1448.7703895\ttotal: 2.62s\tremaining: 3.38s\n",
      "131:\tlearn: 1446.7775339\ttotal: 2.63s\tremaining: 3.35s\n",
      "132:\tlearn: 1444.8870480\ttotal: 2.65s\tremaining: 3.33s\n",
      "133:\tlearn: 1443.8866152\ttotal: 2.67s\tremaining: 3.31s\n",
      "134:\tlearn: 1443.2322075\ttotal: 2.69s\tremaining: 3.29s\n",
      "135:\tlearn: 1442.0061945\ttotal: 2.71s\tremaining: 3.27s\n",
      "136:\tlearn: 1440.8905779\ttotal: 2.74s\tremaining: 3.25s\n",
      "137:\tlearn: 1439.6306846\ttotal: 2.75s\tremaining: 3.23s\n",
      "138:\tlearn: 1438.1151041\ttotal: 2.78s\tremaining: 3.21s\n",
      "139:\tlearn: 1437.2438789\ttotal: 2.8s\tremaining: 3.2s\n",
      "140:\tlearn: 1435.9309915\ttotal: 2.82s\tremaining: 3.17s\n",
      "141:\tlearn: 1434.4627328\ttotal: 2.83s\tremaining: 3.15s\n",
      "142:\tlearn: 1433.3268480\ttotal: 2.85s\tremaining: 3.13s\n",
      "143:\tlearn: 1431.7901026\ttotal: 2.87s\tremaining: 3.11s\n",
      "144:\tlearn: 1430.6642027\ttotal: 2.89s\tremaining: 3.09s\n",
      "145:\tlearn: 1429.6852572\ttotal: 2.91s\tremaining: 3.07s\n",
      "146:\tlearn: 1427.6851019\ttotal: 2.93s\tremaining: 3.05s\n",
      "147:\tlearn: 1426.1380256\ttotal: 2.95s\tremaining: 3.03s\n",
      "148:\tlearn: 1425.0260940\ttotal: 2.97s\tremaining: 3.01s\n",
      "149:\tlearn: 1422.5754016\ttotal: 3s\tremaining: 3s\n",
      "150:\tlearn: 1421.4840899\ttotal: 3.02s\tremaining: 2.98s\n",
      "151:\tlearn: 1420.6380614\ttotal: 3.04s\tremaining: 2.96s\n",
      "152:\tlearn: 1419.7248047\ttotal: 3.06s\tremaining: 2.94s\n",
      "153:\tlearn: 1418.9934371\ttotal: 3.07s\tremaining: 2.92s\n",
      "154:\tlearn: 1417.8188933\ttotal: 3.09s\tremaining: 2.89s\n",
      "155:\tlearn: 1416.5869968\ttotal: 3.11s\tremaining: 2.87s\n",
      "156:\tlearn: 1415.4973346\ttotal: 3.13s\tremaining: 2.85s\n",
      "157:\tlearn: 1414.7770356\ttotal: 3.15s\tremaining: 2.83s\n",
      "158:\tlearn: 1413.5528557\ttotal: 3.17s\tremaining: 2.81s\n",
      "159:\tlearn: 1412.3906558\ttotal: 3.19s\tremaining: 2.79s\n",
      "160:\tlearn: 1411.3980424\ttotal: 3.21s\tremaining: 2.77s\n",
      "161:\tlearn: 1410.4707547\ttotal: 3.23s\tremaining: 2.75s\n",
      "162:\tlearn: 1409.5783672\ttotal: 3.25s\tremaining: 2.73s\n",
      "163:\tlearn: 1408.6068203\ttotal: 3.27s\tremaining: 2.71s\n",
      "164:\tlearn: 1407.9367520\ttotal: 3.29s\tremaining: 2.69s\n",
      "165:\tlearn: 1407.2781229\ttotal: 3.31s\tremaining: 2.67s\n",
      "166:\tlearn: 1406.4988950\ttotal: 3.33s\tremaining: 2.65s\n",
      "167:\tlearn: 1405.9395798\ttotal: 3.35s\tremaining: 2.63s\n",
      "168:\tlearn: 1405.1255846\ttotal: 3.37s\tremaining: 2.61s\n",
      "169:\tlearn: 1404.0762617\ttotal: 3.39s\tremaining: 2.59s\n",
      "170:\tlearn: 1403.1516512\ttotal: 3.41s\tremaining: 2.57s\n",
      "171:\tlearn: 1402.6776518\ttotal: 3.43s\tremaining: 2.55s\n",
      "172:\tlearn: 1401.4810729\ttotal: 3.45s\tremaining: 2.53s\n",
      "173:\tlearn: 1400.7653189\ttotal: 3.47s\tremaining: 2.51s\n",
      "174:\tlearn: 1399.3768150\ttotal: 3.49s\tremaining: 2.49s\n",
      "175:\tlearn: 1397.7858973\ttotal: 3.51s\tremaining: 2.47s\n",
      "176:\tlearn: 1396.9361028\ttotal: 3.53s\tremaining: 2.45s\n",
      "177:\tlearn: 1395.4969610\ttotal: 3.55s\tremaining: 2.43s\n",
      "178:\tlearn: 1394.4153213\ttotal: 3.57s\tremaining: 2.41s\n",
      "179:\tlearn: 1393.0696381\ttotal: 3.59s\tremaining: 2.39s\n",
      "180:\tlearn: 1392.0839721\ttotal: 3.61s\tremaining: 2.37s\n",
      "181:\tlearn: 1391.0227378\ttotal: 3.63s\tremaining: 2.35s\n",
      "182:\tlearn: 1389.6212208\ttotal: 3.65s\tremaining: 2.33s\n",
      "183:\tlearn: 1388.9947989\ttotal: 3.67s\tremaining: 2.31s\n",
      "184:\tlearn: 1387.7935497\ttotal: 3.69s\tremaining: 2.29s\n",
      "185:\tlearn: 1386.3726688\ttotal: 3.71s\tremaining: 2.27s\n",
      "186:\tlearn: 1385.0272120\ttotal: 3.73s\tremaining: 2.25s\n",
      "187:\tlearn: 1384.3192072\ttotal: 3.75s\tremaining: 2.23s\n",
      "188:\tlearn: 1383.0397939\ttotal: 3.77s\tremaining: 2.21s\n",
      "189:\tlearn: 1382.2919046\ttotal: 3.78s\tremaining: 2.19s\n",
      "190:\tlearn: 1381.4810335\ttotal: 3.81s\tremaining: 2.17s\n",
      "191:\tlearn: 1380.4636791\ttotal: 3.83s\tremaining: 2.15s\n",
      "192:\tlearn: 1379.8648046\ttotal: 3.85s\tremaining: 2.13s\n",
      "193:\tlearn: 1379.1039381\ttotal: 3.86s\tremaining: 2.11s\n",
      "194:\tlearn: 1378.1610442\ttotal: 3.88s\tremaining: 2.09s\n",
      "195:\tlearn: 1377.2093273\ttotal: 3.9s\tremaining: 2.07s\n",
      "196:\tlearn: 1376.6462722\ttotal: 3.92s\tremaining: 2.05s\n",
      "197:\tlearn: 1375.9754824\ttotal: 3.94s\tremaining: 2.03s\n",
      "198:\tlearn: 1374.7577852\ttotal: 3.96s\tremaining: 2.01s\n",
      "199:\tlearn: 1374.2161281\ttotal: 3.98s\tremaining: 1.99s\n",
      "200:\tlearn: 1373.8183530\ttotal: 4s\tremaining: 1.97s\n",
      "201:\tlearn: 1373.2435224\ttotal: 4.02s\tremaining: 1.95s\n",
      "202:\tlearn: 1372.4432158\ttotal: 4.04s\tremaining: 1.93s\n",
      "203:\tlearn: 1371.8691291\ttotal: 4.06s\tremaining: 1.91s\n",
      "204:\tlearn: 1371.1710010\ttotal: 4.08s\tremaining: 1.89s\n",
      "205:\tlearn: 1370.2499482\ttotal: 4.1s\tremaining: 1.87s\n",
      "206:\tlearn: 1369.6877360\ttotal: 4.12s\tremaining: 1.85s\n",
      "207:\tlearn: 1368.8549822\ttotal: 4.14s\tremaining: 1.83s\n",
      "208:\tlearn: 1367.9236040\ttotal: 4.16s\tremaining: 1.81s\n",
      "209:\tlearn: 1367.2221350\ttotal: 4.18s\tremaining: 1.79s\n",
      "210:\tlearn: 1366.2934994\ttotal: 4.2s\tremaining: 1.77s\n",
      "211:\tlearn: 1365.8499002\ttotal: 4.21s\tremaining: 1.75s\n",
      "212:\tlearn: 1365.2341787\ttotal: 4.24s\tremaining: 1.73s\n",
      "213:\tlearn: 1364.2080707\ttotal: 4.26s\tremaining: 1.71s\n",
      "214:\tlearn: 1363.5205580\ttotal: 4.28s\tremaining: 1.69s\n",
      "215:\tlearn: 1362.5629143\ttotal: 4.3s\tremaining: 1.67s\n",
      "216:\tlearn: 1361.8474487\ttotal: 4.32s\tremaining: 1.65s\n",
      "217:\tlearn: 1360.7278824\ttotal: 4.34s\tremaining: 1.63s\n",
      "218:\tlearn: 1360.0360374\ttotal: 4.36s\tremaining: 1.61s\n",
      "219:\tlearn: 1359.0225820\ttotal: 4.37s\tremaining: 1.59s\n",
      "220:\tlearn: 1357.7907772\ttotal: 4.39s\tremaining: 1.57s\n",
      "221:\tlearn: 1357.2328841\ttotal: 4.41s\tremaining: 1.55s\n",
      "222:\tlearn: 1356.3636568\ttotal: 4.43s\tremaining: 1.53s\n",
      "223:\tlearn: 1355.6047291\ttotal: 4.45s\tremaining: 1.51s\n",
      "224:\tlearn: 1354.4801290\ttotal: 4.47s\tremaining: 1.49s\n",
      "225:\tlearn: 1353.7386371\ttotal: 4.49s\tremaining: 1.47s\n",
      "226:\tlearn: 1352.6466757\ttotal: 4.51s\tremaining: 1.45s\n",
      "227:\tlearn: 1351.5424625\ttotal: 4.53s\tremaining: 1.43s\n",
      "228:\tlearn: 1351.1318357\ttotal: 4.55s\tremaining: 1.41s\n",
      "229:\tlearn: 1350.6229842\ttotal: 4.57s\tremaining: 1.39s\n",
      "230:\tlearn: 1349.6913240\ttotal: 4.59s\tremaining: 1.37s\n",
      "231:\tlearn: 1348.8235622\ttotal: 4.61s\tremaining: 1.35s\n",
      "232:\tlearn: 1348.0299013\ttotal: 4.63s\tremaining: 1.33s\n",
      "233:\tlearn: 1347.2323344\ttotal: 4.65s\tremaining: 1.31s\n",
      "234:\tlearn: 1346.7595456\ttotal: 4.67s\tremaining: 1.29s\n",
      "235:\tlearn: 1345.8949046\ttotal: 4.69s\tremaining: 1.27s\n",
      "236:\tlearn: 1344.8369072\ttotal: 4.71s\tremaining: 1.25s\n",
      "237:\tlearn: 1344.2470248\ttotal: 4.73s\tremaining: 1.23s\n",
      "238:\tlearn: 1342.7093349\ttotal: 4.75s\tremaining: 1.21s\n",
      "239:\tlearn: 1342.0789485\ttotal: 4.77s\tremaining: 1.19s\n",
      "240:\tlearn: 1341.6058327\ttotal: 4.79s\tremaining: 1.17s\n",
      "241:\tlearn: 1340.8877033\ttotal: 4.8s\tremaining: 1.15s\n",
      "242:\tlearn: 1340.0954124\ttotal: 4.82s\tremaining: 1.13s\n",
      "243:\tlearn: 1339.1340770\ttotal: 4.84s\tremaining: 1.11s\n",
      "244:\tlearn: 1337.4607303\ttotal: 4.86s\tremaining: 1.09s\n",
      "245:\tlearn: 1336.5533441\ttotal: 4.88s\tremaining: 1.07s\n",
      "246:\tlearn: 1335.6634679\ttotal: 4.91s\tremaining: 1.05s\n",
      "247:\tlearn: 1334.8039589\ttotal: 4.93s\tremaining: 1.03s\n",
      "248:\tlearn: 1334.0157171\ttotal: 4.95s\tremaining: 1.01s\n",
      "249:\tlearn: 1333.1571446\ttotal: 4.97s\tremaining: 994ms\n",
      "250:\tlearn: 1332.6501794\ttotal: 4.99s\tremaining: 974ms\n",
      "251:\tlearn: 1331.5538387\ttotal: 5.01s\tremaining: 954ms\n",
      "252:\tlearn: 1330.9751604\ttotal: 5.03s\tremaining: 934ms\n",
      "253:\tlearn: 1330.5715496\ttotal: 5.04s\tremaining: 914ms\n",
      "254:\tlearn: 1329.8781524\ttotal: 5.06s\tremaining: 894ms\n",
      "255:\tlearn: 1329.6201547\ttotal: 5.08s\tremaining: 874ms\n",
      "256:\tlearn: 1328.4166270\ttotal: 5.1s\tremaining: 854ms\n",
      "257:\tlearn: 1327.7493281\ttotal: 5.12s\tremaining: 834ms\n",
      "258:\tlearn: 1327.0075504\ttotal: 5.14s\tremaining: 814ms\n",
      "259:\tlearn: 1326.5143625\ttotal: 5.16s\tremaining: 795ms\n",
      "260:\tlearn: 1325.9576149\ttotal: 5.18s\tremaining: 774ms\n",
      "261:\tlearn: 1325.5884142\ttotal: 5.2s\tremaining: 754ms\n",
      "262:\tlearn: 1324.7856345\ttotal: 5.22s\tremaining: 734ms\n",
      "263:\tlearn: 1323.9111299\ttotal: 5.24s\tremaining: 714ms\n",
      "264:\tlearn: 1323.0475211\ttotal: 5.26s\tremaining: 694ms\n",
      "265:\tlearn: 1322.2152026\ttotal: 5.28s\tremaining: 674ms\n",
      "266:\tlearn: 1321.8209013\ttotal: 5.29s\tremaining: 654ms\n",
      "267:\tlearn: 1321.0740765\ttotal: 5.31s\tremaining: 635ms\n",
      "268:\tlearn: 1320.5516745\ttotal: 5.33s\tremaining: 615ms\n",
      "269:\tlearn: 1319.7898413\ttotal: 5.36s\tremaining: 595ms\n",
      "270:\tlearn: 1319.1488493\ttotal: 5.38s\tremaining: 575ms\n",
      "271:\tlearn: 1318.3611233\ttotal: 5.4s\tremaining: 556ms\n",
      "272:\tlearn: 1317.8551824\ttotal: 5.42s\tremaining: 536ms\n",
      "273:\tlearn: 1317.2335828\ttotal: 5.43s\tremaining: 516ms\n",
      "274:\tlearn: 1316.2960326\ttotal: 5.45s\tremaining: 496ms\n",
      "275:\tlearn: 1315.3527510\ttotal: 5.47s\tremaining: 476ms\n",
      "276:\tlearn: 1314.2031459\ttotal: 5.49s\tremaining: 456ms\n",
      "277:\tlearn: 1313.6130024\ttotal: 5.51s\tremaining: 436ms\n",
      "278:\tlearn: 1312.9555995\ttotal: 5.56s\tremaining: 418ms\n",
      "279:\tlearn: 1312.2876596\ttotal: 5.58s\tremaining: 399ms\n",
      "280:\tlearn: 1311.4730678\ttotal: 5.6s\tremaining: 379ms\n",
      "281:\tlearn: 1311.0034092\ttotal: 5.62s\tremaining: 359ms\n",
      "282:\tlearn: 1310.1501656\ttotal: 5.64s\tremaining: 339ms\n",
      "283:\tlearn: 1309.5655151\ttotal: 5.66s\tremaining: 319ms\n",
      "284:\tlearn: 1309.2497057\ttotal: 5.68s\tremaining: 299ms\n",
      "285:\tlearn: 1308.9754493\ttotal: 5.7s\tremaining: 279ms\n",
      "286:\tlearn: 1308.1786365\ttotal: 5.72s\tremaining: 259ms\n",
      "287:\tlearn: 1307.7566552\ttotal: 5.74s\tremaining: 239ms\n",
      "288:\tlearn: 1306.5800219\ttotal: 5.76s\tremaining: 219ms\n",
      "289:\tlearn: 1305.9752777\ttotal: 5.78s\tremaining: 199ms\n",
      "290:\tlearn: 1305.2265002\ttotal: 5.8s\tremaining: 179ms\n",
      "291:\tlearn: 1304.7218414\ttotal: 5.82s\tremaining: 160ms\n",
      "292:\tlearn: 1304.1435793\ttotal: 5.84s\tremaining: 140ms\n",
      "293:\tlearn: 1303.4334566\ttotal: 5.86s\tremaining: 120ms\n",
      "294:\tlearn: 1302.0278837\ttotal: 5.88s\tremaining: 99.7ms\n",
      "295:\tlearn: 1300.9676386\ttotal: 5.9s\tremaining: 79.7ms\n",
      "296:\tlearn: 1300.1518819\ttotal: 5.92s\tremaining: 59.8ms\n",
      "297:\tlearn: 1299.5173857\ttotal: 5.94s\tremaining: 39.9ms\n",
      "298:\tlearn: 1299.0695352\ttotal: 5.96s\tremaining: 19.9ms\n",
      "299:\tlearn: 1298.2513974\ttotal: 5.98s\tremaining: 0us\n",
      "CatBoost - RMSE: 1602.9745096171175\n",
      "Training time: 6.109814882278442 seconds\n",
      "Prediction time: 0.015666961669921875 seconds\n"
     ]
    }
   ],
   "source": [
    "catboost_model = CatBoostRegressor(depth=10, iterations=300, learning_rate=0.3)\n",
    "\n",
    "X_train = X_train.to_numpy()\n",
    "y_train = y_train.to_numpy()\n",
    "\n",
    "start_time = time.time()\n",
    "catboost_model.fit(X_train, y_train)\n",
    "end_time = time.time()\n",
    "training_time = end_time - start_time\n",
    "\n",
    "X_test = X_test.to_numpy()\n",
    "\n",
    "start_time = time.time()\n",
    "y_pred_catboost = catboost_model.predict(X_test)\n",
    "end_time = time.time()\n",
    "prediction_time = end_time - start_time\n",
    "\n",
    "rmse_catboost = (mean_squared_error(y_test, y_pred_catboost))**0.5\n",
    "print(f\"CatBoost - RMSE: {rmse_catboost}\")\n",
    "print(f\"Training time: {training_time} seconds\")\n",
    "print(f\"Prediction time: {prediction_time} seconds\")"
   ]
  },
  {
   "cell_type": "markdown",
   "metadata": {},
   "source": [
    "_Conclusion_: The CatBoost model performed well during the prediction check on the test dataset. The RMSE value remained nearly unchanged, indicating that the model's accuracy remained consistent. The training and prediction speeds also remained high."
   ]
  },
  {
   "cell_type": "markdown",
   "metadata": {},
   "source": [
    "## GENERAL CONCLUSION:"
   ]
  },
  {
   "cell_type": "markdown",
   "metadata": {},
   "source": [
    "_IMPORTANT! The category_encoders library was loaded for future encoding of categorical features._\n",
    "\n",
    "- After loading the data, columns that are not informative for future models were removed: DateCrawled, DateCreated, NumberOfPictures, LastSeen. The reason is that these features are not related to the price of the car, our target variable.\n",
    "\n",
    "- Four duplicates were removed from the data.\n",
    "\n",
    "- Values petrol and gasoline in the FuelType column were replaced with petrol because they represent the same thing.\n",
    "\n",
    "- In the column with engine power, all data above 600 horsepower and below 30 were removed. Zero values, around 40,000 rows, were replaced with random data from 60 to 200.\n",
    "\n",
    "- Missing values in the VehicleType and Model columns, due to the connection between these columns and the Brand column, were replaced analogously. That is, empty values in the VehicleType column were replaced with analogous ones filled in conjunction with Model and Brand. The same was done for the Model column.\n",
    "\n",
    "- The remaining empty values in the VehicleType and Model columns were removed. Unfortunately, it was not possible to replace missing data in the Gearbox and FuelType columns in a similar way because the gearbox and fuel type can vary for the same model. For example, diesel or petrol, automatic or manual gearbox. This usually directly affects the price. Therefore, missing data was removed.\n",
    "\n",
    "- Empty values in the Repaired column were filled with random values yes and no.\n",
    "\n",
    "- Since Gearbox and Repaired are essentially boolean values, they were replaced with 1 and 0. Manual gearbox - 0, automatic - 1. Whether there was a repair: yes - 1, no - 0.\n",
    "\n",
    "- In the RegistrationYear column, all values above the year 2016 were removed.\n",
    "\n",
    "- In the RegistrationMonth column, all zero values were replaced with random values from 1 to 12.\n",
    "\n",
    "- The correlation check showed the absence of strong linear dependencies between the target variable and the features.\n",
    "\n",
    "- During the data split into training (60%), validation (20%), and test (20%) sets, the data was further encoded using the StandardScaler() method for numerical features.\n",
    "\n",
    "- Categorical data was encoded using the TargetEncoder method from the category_encoders library. Since after encoding categorical features with the OHE method, 4 columns were transformed into 299, significantly slowing down model training (for example, the linear regression model took more than 20 minutes to train).\n",
    "\n",
    "- During the training and validation check, CatBoost performed the best with the hyperparameters - {'depth': 10, 'iterations': 300, 'learning_rate': 0.3} - RMSE: 1699.336424734914, Training time: 17 seconds, Prediction time: 0.06 seconds.\n",
    "\n",
    "__Based on the customer's requirements for accuracy, training time, and prediction time, the CatBoost model showed the best results among all models used in this project. Therefore, it is recommended for further implementation.__"
   ]
  },
  {
   "cell_type": "code",
   "execution_count": null,
   "metadata": {},
   "outputs": [],
   "source": []
  }
 ],
 "metadata": {
  "ExecuteTimeLog": [
   {
    "duration": 2001,
    "start_time": "2023-10-03T13:03:40.600Z"
   },
   {
    "duration": 1232,
    "start_time": "2023-10-03T13:03:42.603Z"
   },
   {
    "duration": 895,
    "start_time": "2023-10-03T13:04:35.119Z"
   },
   {
    "duration": 51,
    "start_time": "2023-10-04T04:46:21.363Z"
   },
   {
    "duration": 1704,
    "start_time": "2023-10-04T04:46:27.133Z"
   },
   {
    "duration": 1224,
    "start_time": "2023-10-04T04:46:28.840Z"
   },
   {
    "duration": 923,
    "start_time": "2023-10-04T04:46:30.065Z"
   },
   {
    "duration": 127,
    "start_time": "2023-10-04T04:46:30.989Z"
   },
   {
    "duration": 132,
    "start_time": "2023-10-04T04:53:19.281Z"
   },
   {
    "duration": 65,
    "start_time": "2023-10-04T04:54:16.949Z"
   },
   {
    "duration": 275,
    "start_time": "2023-10-04T04:55:51.338Z"
   },
   {
    "duration": 482,
    "start_time": "2023-10-04T04:56:14.524Z"
   },
   {
    "duration": 37,
    "start_time": "2023-10-04T04:58:06.778Z"
   },
   {
    "duration": 17,
    "start_time": "2023-10-04T05:00:21.327Z"
   },
   {
    "duration": 40,
    "start_time": "2023-10-04T05:00:29.992Z"
   },
   {
    "duration": 46,
    "start_time": "2023-10-04T05:03:14.211Z"
   },
   {
    "duration": 45,
    "start_time": "2023-10-04T05:03:42.383Z"
   },
   {
    "duration": 2226,
    "start_time": "2023-10-04T05:04:26.698Z"
   },
   {
    "duration": 38,
    "start_time": "2023-10-04T05:04:37.102Z"
   },
   {
    "duration": 38,
    "start_time": "2023-10-04T05:04:53.060Z"
   },
   {
    "duration": 37,
    "start_time": "2023-10-04T05:05:44.726Z"
   },
   {
    "duration": 8,
    "start_time": "2023-10-04T05:07:43.921Z"
   },
   {
    "duration": 10,
    "start_time": "2023-10-04T05:13:42.541Z"
   },
   {
    "duration": 9,
    "start_time": "2023-10-04T05:21:01.396Z"
   },
   {
    "duration": 207,
    "start_time": "2023-10-04T05:22:54.227Z"
   },
   {
    "duration": 31,
    "start_time": "2023-10-04T05:25:24.067Z"
   },
   {
    "duration": 34,
    "start_time": "2023-10-04T05:25:46.004Z"
   },
   {
    "duration": 38,
    "start_time": "2023-10-04T05:27:32.982Z"
   },
   {
    "duration": 44,
    "start_time": "2023-10-04T05:28:38.110Z"
   },
   {
    "duration": 8,
    "start_time": "2023-10-04T05:32:39.189Z"
   },
   {
    "duration": 220,
    "start_time": "2023-10-04T05:34:36.405Z"
   },
   {
    "duration": 222,
    "start_time": "2023-10-04T05:35:06.679Z"
   },
   {
    "duration": 260,
    "start_time": "2023-10-04T05:35:28.931Z"
   },
   {
    "duration": 175,
    "start_time": "2023-10-04T05:35:42.206Z"
   },
   {
    "duration": 167,
    "start_time": "2023-10-04T05:35:51.848Z"
   },
   {
    "duration": 204,
    "start_time": "2023-10-04T05:37:35.406Z"
   },
   {
    "duration": 9322,
    "start_time": "2023-10-04T05:37:55.970Z"
   },
   {
    "duration": 298,
    "start_time": "2023-10-04T05:38:19.214Z"
   },
   {
    "duration": 632,
    "start_time": "2023-10-04T05:38:52.413Z"
   },
   {
    "duration": 0,
    "start_time": "2023-10-04T05:41:34.308Z"
   },
   {
    "duration": 1603,
    "start_time": "2023-10-04T05:43:02.238Z"
   },
   {
    "duration": 977,
    "start_time": "2023-10-04T05:43:03.843Z"
   },
   {
    "duration": 1042,
    "start_time": "2023-10-04T05:43:04.822Z"
   },
   {
    "duration": 74,
    "start_time": "2023-10-04T05:43:05.865Z"
   },
   {
    "duration": 610,
    "start_time": "2023-10-04T05:43:05.942Z"
   },
   {
    "duration": 42,
    "start_time": "2023-10-04T05:43:06.553Z"
   },
   {
    "duration": 54,
    "start_time": "2023-10-04T05:43:06.610Z"
   },
   {
    "duration": 9,
    "start_time": "2023-10-04T05:43:06.666Z"
   },
   {
    "duration": 53,
    "start_time": "2023-10-04T05:43:06.677Z"
   },
   {
    "duration": 38,
    "start_time": "2023-10-04T05:43:06.732Z"
   },
   {
    "duration": 0,
    "start_time": "2023-10-04T05:46:03.686Z"
   },
   {
    "duration": 0,
    "start_time": "2023-10-04T05:46:03.692Z"
   },
   {
    "duration": 852,
    "start_time": "2023-10-04T05:46:11.974Z"
   },
   {
    "duration": 1661,
    "start_time": "2023-10-04T05:47:41.490Z"
   },
   {
    "duration": 1374,
    "start_time": "2023-10-04T05:47:43.154Z"
   },
   {
    "duration": 1065,
    "start_time": "2023-10-04T05:47:44.530Z"
   },
   {
    "duration": 79,
    "start_time": "2023-10-04T05:47:45.596Z"
   },
   {
    "duration": 582,
    "start_time": "2023-10-04T05:47:45.678Z"
   },
   {
    "duration": 37,
    "start_time": "2023-10-04T05:47:46.262Z"
   },
   {
    "duration": 54,
    "start_time": "2023-10-04T05:47:46.310Z"
   },
   {
    "duration": 9,
    "start_time": "2023-10-04T05:47:46.366Z"
   },
   {
    "duration": 64,
    "start_time": "2023-10-04T05:47:46.377Z"
   },
   {
    "duration": 55,
    "start_time": "2023-10-04T05:47:46.442Z"
   },
   {
    "duration": 780,
    "start_time": "2023-10-04T05:47:46.499Z"
   },
   {
    "duration": 106,
    "start_time": "2023-10-04T05:47:47.281Z"
   },
   {
    "duration": 1367,
    "start_time": "2023-10-04T05:49:12.889Z"
   },
   {
    "duration": 222,
    "start_time": "2023-10-04T05:51:03.174Z"
   },
   {
    "duration": 307,
    "start_time": "2023-10-04T05:51:27.981Z"
   },
   {
    "duration": 208,
    "start_time": "2023-10-04T05:51:56.633Z"
   },
   {
    "duration": 1649,
    "start_time": "2023-10-04T05:52:05.107Z"
   },
   {
    "duration": 1000,
    "start_time": "2023-10-04T05:52:06.758Z"
   },
   {
    "duration": 1097,
    "start_time": "2023-10-04T05:52:07.760Z"
   },
   {
    "duration": 78,
    "start_time": "2023-10-04T05:52:08.859Z"
   },
   {
    "duration": 557,
    "start_time": "2023-10-04T05:52:08.939Z"
   },
   {
    "duration": 43,
    "start_time": "2023-10-04T05:52:09.498Z"
   },
   {
    "duration": 90,
    "start_time": "2023-10-04T05:52:09.542Z"
   },
   {
    "duration": 9,
    "start_time": "2023-10-04T05:52:09.634Z"
   },
   {
    "duration": 49,
    "start_time": "2023-10-04T05:52:09.645Z"
   },
   {
    "duration": 48,
    "start_time": "2023-10-04T05:52:09.696Z"
   },
   {
    "duration": 228,
    "start_time": "2023-10-04T05:52:09.747Z"
   },
   {
    "duration": 111,
    "start_time": "2023-10-04T05:52:09.977Z"
   },
   {
    "duration": 248,
    "start_time": "2023-10-04T05:52:58.768Z"
   },
   {
    "duration": 19,
    "start_time": "2023-10-04T05:53:42.890Z"
   },
   {
    "duration": 1556,
    "start_time": "2023-10-04T05:54:13.932Z"
   },
   {
    "duration": 972,
    "start_time": "2023-10-04T05:54:15.491Z"
   },
   {
    "duration": 1102,
    "start_time": "2023-10-04T05:54:16.465Z"
   },
   {
    "duration": 79,
    "start_time": "2023-10-04T05:54:17.569Z"
   },
   {
    "duration": 546,
    "start_time": "2023-10-04T05:54:17.650Z"
   },
   {
    "duration": 41,
    "start_time": "2023-10-04T05:54:18.198Z"
   },
   {
    "duration": 82,
    "start_time": "2023-10-04T05:54:18.240Z"
   },
   {
    "duration": 20,
    "start_time": "2023-10-04T05:54:18.325Z"
   },
   {
    "duration": 313,
    "start_time": "2023-10-04T05:54:18.346Z"
   },
   {
    "duration": 39,
    "start_time": "2023-10-04T05:54:18.661Z"
   },
   {
    "duration": 51,
    "start_time": "2023-10-04T05:54:18.711Z"
   },
   {
    "duration": 120,
    "start_time": "2023-10-04T05:54:18.764Z"
   },
   {
    "duration": 22,
    "start_time": "2023-10-04T05:58:13.479Z"
   },
   {
    "duration": 31,
    "start_time": "2023-10-04T05:59:04.233Z"
   },
   {
    "duration": 278,
    "start_time": "2023-10-04T07:13:37.748Z"
   },
   {
    "duration": 341,
    "start_time": "2023-10-04T07:13:42.773Z"
   },
   {
    "duration": 234,
    "start_time": "2023-10-04T07:16:57.868Z"
   },
   {
    "duration": 240,
    "start_time": "2023-10-04T07:17:40.805Z"
   },
   {
    "duration": 245,
    "start_time": "2023-10-04T08:37:32.652Z"
   },
   {
    "duration": 68,
    "start_time": "2023-10-04T08:40:58.023Z"
   },
   {
    "duration": 74,
    "start_time": "2023-10-04T08:41:13.072Z"
   },
   {
    "duration": 122,
    "start_time": "2023-10-04T08:43:41.260Z"
   },
   {
    "duration": 107,
    "start_time": "2023-10-04T09:25:56.686Z"
   },
   {
    "duration": 1675,
    "start_time": "2023-10-04T09:39:26.834Z"
   },
   {
    "duration": 1336,
    "start_time": "2023-10-04T09:39:28.512Z"
   },
   {
    "duration": 1125,
    "start_time": "2023-10-04T09:39:29.850Z"
   },
   {
    "duration": 80,
    "start_time": "2023-10-04T09:39:30.977Z"
   },
   {
    "duration": 590,
    "start_time": "2023-10-04T09:39:31.058Z"
   },
   {
    "duration": 39,
    "start_time": "2023-10-04T09:39:31.650Z"
   },
   {
    "duration": 280,
    "start_time": "2023-10-04T09:39:31.691Z"
   },
   {
    "duration": 242,
    "start_time": "2023-10-04T09:39:31.973Z"
   },
   {
    "duration": 319,
    "start_time": "2023-10-04T09:39:32.218Z"
   },
   {
    "duration": 281,
    "start_time": "2023-10-04T09:39:32.541Z"
   },
   {
    "duration": 130,
    "start_time": "2023-10-04T09:39:32.824Z"
   },
   {
    "duration": 64,
    "start_time": "2023-10-04T09:40:17.379Z"
   },
   {
    "duration": 1710,
    "start_time": "2023-10-04T09:40:24.334Z"
   },
   {
    "duration": 1363,
    "start_time": "2023-10-04T09:40:26.046Z"
   },
   {
    "duration": 967,
    "start_time": "2023-10-04T09:40:27.411Z"
   },
   {
    "duration": 72,
    "start_time": "2023-10-04T09:40:28.380Z"
   },
   {
    "duration": 547,
    "start_time": "2023-10-04T09:40:28.455Z"
   },
   {
    "duration": 50,
    "start_time": "2023-10-04T09:40:29.003Z"
   },
   {
    "duration": 58,
    "start_time": "2023-10-04T09:40:29.056Z"
   },
   {
    "duration": 34,
    "start_time": "2023-10-04T09:40:29.116Z"
   },
   {
    "duration": 278,
    "start_time": "2023-10-04T09:40:29.152Z"
   },
   {
    "duration": 237,
    "start_time": "2023-10-04T09:40:29.432Z"
   },
   {
    "duration": 111,
    "start_time": "2023-10-04T09:40:29.671Z"
   },
   {
    "duration": 2072,
    "start_time": "2023-10-04T09:40:29.784Z"
   },
   {
    "duration": 411,
    "start_time": "2023-10-04T09:40:31.857Z"
   },
   {
    "duration": 1342,
    "start_time": "2023-10-04T09:42:26.125Z"
   },
   {
    "duration": 1736,
    "start_time": "2023-10-04T09:42:41.544Z"
   },
   {
    "duration": 1056,
    "start_time": "2023-10-04T09:42:43.282Z"
   },
   {
    "duration": 1063,
    "start_time": "2023-10-04T09:42:44.340Z"
   },
   {
    "duration": 64,
    "start_time": "2023-10-04T09:42:45.408Z"
   },
   {
    "duration": 587,
    "start_time": "2023-10-04T09:42:45.474Z"
   },
   {
    "duration": 38,
    "start_time": "2023-10-04T09:42:46.063Z"
   },
   {
    "duration": 79,
    "start_time": "2023-10-04T09:42:46.111Z"
   },
   {
    "duration": 31,
    "start_time": "2023-10-04T09:42:46.192Z"
   },
   {
    "duration": 264,
    "start_time": "2023-10-04T09:42:46.224Z"
   },
   {
    "duration": 228,
    "start_time": "2023-10-04T09:42:46.490Z"
   },
   {
    "duration": 236,
    "start_time": "2023-10-04T09:42:46.719Z"
   },
   {
    "duration": 109,
    "start_time": "2023-10-04T09:42:46.957Z"
   },
   {
    "duration": 262,
    "start_time": "2023-10-04T09:44:05.757Z"
   },
   {
    "duration": 269,
    "start_time": "2023-10-04T09:44:47.429Z"
   },
   {
    "duration": 331,
    "start_time": "2023-10-04T09:52:38.424Z"
   },
   {
    "duration": 193,
    "start_time": "2023-10-04T09:52:46.850Z"
   },
   {
    "duration": 1665,
    "start_time": "2023-10-04T09:53:18.168Z"
   },
   {
    "duration": 1051,
    "start_time": "2023-10-04T09:53:19.836Z"
   },
   {
    "duration": 1022,
    "start_time": "2023-10-04T09:53:20.889Z"
   },
   {
    "duration": 56,
    "start_time": "2023-10-04T09:53:21.913Z"
   },
   {
    "duration": 607,
    "start_time": "2023-10-04T09:53:21.971Z"
   },
   {
    "duration": 55,
    "start_time": "2023-10-04T09:53:22.580Z"
   },
   {
    "duration": 75,
    "start_time": "2023-10-04T09:53:22.638Z"
   },
   {
    "duration": 35,
    "start_time": "2023-10-04T09:53:22.718Z"
   },
   {
    "duration": 245,
    "start_time": "2023-10-04T09:53:22.755Z"
   },
   {
    "duration": 235,
    "start_time": "2023-10-04T09:53:23.002Z"
   },
   {
    "duration": 319,
    "start_time": "2023-10-04T09:53:23.239Z"
   },
   {
    "duration": 120,
    "start_time": "2023-10-04T09:53:23.559Z"
   },
   {
    "duration": 53,
    "start_time": "2023-10-04T09:55:01.785Z"
   },
   {
    "duration": 147,
    "start_time": "2023-10-04T09:55:09.940Z"
   },
   {
    "duration": 306,
    "start_time": "2023-10-04T09:56:46.636Z"
   },
   {
    "duration": 160,
    "start_time": "2023-10-04T09:59:11.751Z"
   },
   {
    "duration": 191,
    "start_time": "2023-10-04T09:59:34.669Z"
   },
   {
    "duration": 34,
    "start_time": "2023-10-04T10:00:43.721Z"
   },
   {
    "duration": 288,
    "start_time": "2023-10-04T10:06:12.214Z"
   },
   {
    "duration": 181,
    "start_time": "2023-10-04T10:06:15.433Z"
   },
   {
    "duration": 55,
    "start_time": "2023-10-04T10:06:40.969Z"
   },
   {
    "duration": 39,
    "start_time": "2023-10-04T10:07:03.121Z"
   },
   {
    "duration": 108,
    "start_time": "2023-10-04T10:08:05.415Z"
   },
   {
    "duration": 77,
    "start_time": "2023-10-04T15:52:30.661Z"
   },
   {
    "duration": 14,
    "start_time": "2023-10-04T15:52:41.845Z"
   },
   {
    "duration": 2287,
    "start_time": "2023-10-04T15:52:47.415Z"
   },
   {
    "duration": 1675,
    "start_time": "2023-10-04T15:52:49.709Z"
   },
   {
    "duration": 1514,
    "start_time": "2023-10-04T15:52:51.386Z"
   },
   {
    "duration": 85,
    "start_time": "2023-10-04T15:52:52.904Z"
   },
   {
    "duration": 799,
    "start_time": "2023-10-04T15:52:52.992Z"
   },
   {
    "duration": 69,
    "start_time": "2023-10-04T15:52:53.793Z"
   },
   {
    "duration": 94,
    "start_time": "2023-10-04T15:52:53.864Z"
   },
   {
    "duration": 50,
    "start_time": "2023-10-04T15:52:53.960Z"
   },
   {
    "duration": 328,
    "start_time": "2023-10-04T15:52:54.012Z"
   },
   {
    "duration": 317,
    "start_time": "2023-10-04T15:52:54.343Z"
   },
   {
    "duration": 481,
    "start_time": "2023-10-04T15:52:54.663Z"
   },
   {
    "duration": 321,
    "start_time": "2023-10-04T15:52:55.146Z"
   },
   {
    "duration": 270,
    "start_time": "2023-10-04T15:52:55.482Z"
   },
   {
    "duration": 376,
    "start_time": "2023-10-04T15:52:55.756Z"
   },
   {
    "duration": 172,
    "start_time": "2023-10-04T15:52:56.134Z"
   },
   {
    "duration": 149,
    "start_time": "2023-10-04T15:52:56.308Z"
   },
   {
    "duration": 132,
    "start_time": "2023-10-04T15:52:56.460Z"
   },
   {
    "duration": 124,
    "start_time": "2023-10-04T15:54:09.171Z"
   },
   {
    "duration": 214,
    "start_time": "2023-10-04T15:56:17.456Z"
   },
   {
    "duration": 11,
    "start_time": "2023-10-04T15:58:05.716Z"
   },
   {
    "duration": 220,
    "start_time": "2023-10-04T15:59:31.938Z"
   },
   {
    "duration": 22,
    "start_time": "2023-10-04T16:01:04.402Z"
   },
   {
    "duration": 185,
    "start_time": "2023-10-04T16:01:11.174Z"
   },
   {
    "duration": 8,
    "start_time": "2023-10-04T16:03:02.934Z"
   },
   {
    "duration": 315,
    "start_time": "2023-10-04T16:05:52.603Z"
   },
   {
    "duration": 176,
    "start_time": "2023-10-04T16:06:08.487Z"
   },
   {
    "duration": 188,
    "start_time": "2023-10-04T16:06:14.838Z"
   },
   {
    "duration": 83,
    "start_time": "2023-10-04T16:06:36.270Z"
   },
   {
    "duration": 47,
    "start_time": "2023-10-05T04:30:57.191Z"
   },
   {
    "duration": 7,
    "start_time": "2023-10-05T04:31:06.087Z"
   },
   {
    "duration": 1981,
    "start_time": "2023-10-05T04:31:53.741Z"
   },
   {
    "duration": 1161,
    "start_time": "2023-10-05T04:31:55.724Z"
   },
   {
    "duration": 911,
    "start_time": "2023-10-05T04:31:56.887Z"
   },
   {
    "duration": 66,
    "start_time": "2023-10-05T04:31:57.800Z"
   },
   {
    "duration": 481,
    "start_time": "2023-10-05T04:31:57.869Z"
   },
   {
    "duration": 35,
    "start_time": "2023-10-05T04:31:58.351Z"
   },
   {
    "duration": 58,
    "start_time": "2023-10-05T04:31:58.387Z"
   },
   {
    "duration": 27,
    "start_time": "2023-10-05T04:31:58.446Z"
   },
   {
    "duration": 215,
    "start_time": "2023-10-05T04:31:58.475Z"
   },
   {
    "duration": 191,
    "start_time": "2023-10-05T04:31:58.692Z"
   },
   {
    "duration": 241,
    "start_time": "2023-10-05T04:31:58.885Z"
   },
   {
    "duration": 174,
    "start_time": "2023-10-05T04:31:59.128Z"
   },
   {
    "duration": 163,
    "start_time": "2023-10-05T04:31:59.304Z"
   },
   {
    "duration": 241,
    "start_time": "2023-10-05T04:31:59.470Z"
   },
   {
    "duration": 95,
    "start_time": "2023-10-05T04:31:59.712Z"
   },
   {
    "duration": 70,
    "start_time": "2023-10-05T04:31:59.810Z"
   },
   {
    "duration": 7,
    "start_time": "2023-10-05T04:31:59.882Z"
   },
   {
    "duration": 137,
    "start_time": "2023-10-05T04:31:59.890Z"
   },
   {
    "duration": 38,
    "start_time": "2023-10-05T04:32:00.029Z"
   },
   {
    "duration": 152,
    "start_time": "2023-10-05T04:32:00.069Z"
   },
   {
    "duration": 7,
    "start_time": "2023-10-05T04:32:00.223Z"
   },
   {
    "duration": 235,
    "start_time": "2023-10-05T04:32:00.231Z"
   },
   {
    "duration": 111,
    "start_time": "2023-10-05T04:32:00.468Z"
   },
   {
    "duration": 1526,
    "start_time": "2023-10-05T04:40:12.483Z"
   },
   {
    "duration": 879,
    "start_time": "2023-10-05T04:40:14.011Z"
   },
   {
    "duration": 886,
    "start_time": "2023-10-05T04:40:14.892Z"
   },
   {
    "duration": 75,
    "start_time": "2023-10-05T04:40:15.780Z"
   },
   {
    "duration": 485,
    "start_time": "2023-10-05T04:40:15.857Z"
   },
   {
    "duration": 38,
    "start_time": "2023-10-05T04:40:16.344Z"
   },
   {
    "duration": 62,
    "start_time": "2023-10-05T04:40:16.385Z"
   },
   {
    "duration": 30,
    "start_time": "2023-10-05T04:40:16.449Z"
   },
   {
    "duration": 231,
    "start_time": "2023-10-05T04:40:16.481Z"
   },
   {
    "duration": 195,
    "start_time": "2023-10-05T04:40:16.714Z"
   },
   {
    "duration": 198,
    "start_time": "2023-10-05T04:40:16.912Z"
   },
   {
    "duration": 275,
    "start_time": "2023-10-05T04:40:17.113Z"
   },
   {
    "duration": 183,
    "start_time": "2023-10-05T04:40:17.390Z"
   },
   {
    "duration": 235,
    "start_time": "2023-10-05T04:40:17.575Z"
   },
   {
    "duration": 174,
    "start_time": "2023-10-05T04:40:17.812Z"
   },
   {
    "duration": 108,
    "start_time": "2023-10-05T04:40:17.987Z"
   },
   {
    "duration": 94,
    "start_time": "2023-10-05T04:40:18.096Z"
   },
   {
    "duration": 7,
    "start_time": "2023-10-05T04:40:18.192Z"
   },
   {
    "duration": 154,
    "start_time": "2023-10-05T04:40:18.200Z"
   },
   {
    "duration": 33,
    "start_time": "2023-10-05T04:40:18.356Z"
   },
   {
    "duration": 132,
    "start_time": "2023-10-05T04:40:18.391Z"
   },
   {
    "duration": 6,
    "start_time": "2023-10-05T04:40:18.525Z"
   },
   {
    "duration": 188,
    "start_time": "2023-10-05T04:40:18.533Z"
   },
   {
    "duration": 121,
    "start_time": "2023-10-05T04:40:18.723Z"
   },
   {
    "duration": 27,
    "start_time": "2023-10-05T05:04:41.093Z"
   },
   {
    "duration": 188,
    "start_time": "2023-10-05T05:11:00.832Z"
   },
   {
    "duration": 58,
    "start_time": "2023-10-05T05:13:40.481Z"
   },
   {
    "duration": 5,
    "start_time": "2023-10-05T05:22:28.968Z"
   },
   {
    "duration": 1183,
    "start_time": "2023-10-05T05:24:18.735Z"
   },
   {
    "duration": 15,
    "start_time": "2023-10-05T05:26:30.576Z"
   },
   {
    "duration": 25767,
    "start_time": "2023-10-05T05:26:36.873Z"
   },
   {
    "duration": 0,
    "start_time": "2023-10-05T05:27:02.651Z"
   },
   {
    "duration": 4,
    "start_time": "2023-10-05T05:27:05.632Z"
   },
   {
    "duration": 1855,
    "start_time": "2023-10-05T05:27:12.933Z"
   },
   {
    "duration": 1130,
    "start_time": "2023-10-05T05:27:14.791Z"
   },
   {
    "duration": 1260,
    "start_time": "2023-10-05T05:27:15.923Z"
   },
   {
    "duration": 95,
    "start_time": "2023-10-05T05:27:17.186Z"
   },
   {
    "duration": 639,
    "start_time": "2023-10-05T05:27:17.285Z"
   },
   {
    "duration": 52,
    "start_time": "2023-10-05T05:27:17.926Z"
   },
   {
    "duration": 79,
    "start_time": "2023-10-05T05:27:17.980Z"
   },
   {
    "duration": 46,
    "start_time": "2023-10-05T05:27:18.065Z"
   },
   {
    "duration": 278,
    "start_time": "2023-10-05T05:27:18.113Z"
   },
   {
    "duration": 247,
    "start_time": "2023-10-05T05:27:18.393Z"
   },
   {
    "duration": 346,
    "start_time": "2023-10-05T05:27:18.643Z"
   },
   {
    "duration": 226,
    "start_time": "2023-10-05T05:27:18.991Z"
   },
   {
    "duration": 203,
    "start_time": "2023-10-05T05:27:19.219Z"
   },
   {
    "duration": 305,
    "start_time": "2023-10-05T05:27:19.425Z"
   },
   {
    "duration": 134,
    "start_time": "2023-10-05T05:27:19.732Z"
   },
   {
    "duration": 112,
    "start_time": "2023-10-05T05:27:19.869Z"
   },
   {
    "duration": 7,
    "start_time": "2023-10-05T05:27:19.983Z"
   },
   {
    "duration": 182,
    "start_time": "2023-10-05T05:27:19.992Z"
   },
   {
    "duration": 29,
    "start_time": "2023-10-05T05:27:20.175Z"
   },
   {
    "duration": 167,
    "start_time": "2023-10-05T05:27:20.205Z"
   },
   {
    "duration": 8,
    "start_time": "2023-10-05T05:27:20.374Z"
   },
   {
    "duration": 227,
    "start_time": "2023-10-05T05:27:20.383Z"
   },
   {
    "duration": 135,
    "start_time": "2023-10-05T05:27:20.612Z"
   },
   {
    "duration": 22,
    "start_time": "2023-10-05T05:27:20.750Z"
   },
   {
    "duration": 137,
    "start_time": "2023-10-05T05:27:20.774Z"
   },
   {
    "duration": 1258,
    "start_time": "2023-10-05T05:27:20.913Z"
   },
   {
    "duration": 0,
    "start_time": "2023-10-05T05:27:22.174Z"
   },
   {
    "duration": 0,
    "start_time": "2023-10-05T05:27:22.175Z"
   },
   {
    "duration": 1000,
    "start_time": "2023-10-05T05:28:25.317Z"
   },
   {
    "duration": 5,
    "start_time": "2023-10-05T05:56:30.108Z"
   },
   {
    "duration": 4,
    "start_time": "2023-10-05T05:56:31.017Z"
   },
   {
    "duration": 6,
    "start_time": "2023-10-05T05:56:31.990Z"
   },
   {
    "duration": 582,
    "start_time": "2023-10-05T05:56:32.704Z"
   },
   {
    "duration": 5,
    "start_time": "2023-10-05T05:56:56.892Z"
   },
   {
    "duration": 6,
    "start_time": "2023-10-05T05:56:57.390Z"
   },
   {
    "duration": 10,
    "start_time": "2023-10-05T05:56:57.785Z"
   },
   {
    "duration": 702,
    "start_time": "2023-10-05T05:56:58.471Z"
   },
   {
    "duration": 5,
    "start_time": "2023-10-05T05:59:40.008Z"
   },
   {
    "duration": 4,
    "start_time": "2023-10-05T05:59:40.593Z"
   },
   {
    "duration": 5,
    "start_time": "2023-10-05T05:59:41.058Z"
   },
   {
    "duration": 660,
    "start_time": "2023-10-05T05:59:41.685Z"
   },
   {
    "duration": 655,
    "start_time": "2023-10-05T05:59:55.118Z"
   },
   {
    "duration": 651,
    "start_time": "2023-10-05T06:00:09.798Z"
   },
   {
    "duration": 518,
    "start_time": "2023-10-05T06:00:56.936Z"
   },
   {
    "duration": 64,
    "start_time": "2023-10-05T06:01:29.001Z"
   },
   {
    "duration": 544,
    "start_time": "2023-10-05T06:01:31.204Z"
   },
   {
    "duration": 8,
    "start_time": "2023-10-05T06:01:31.755Z"
   },
   {
    "duration": 65,
    "start_time": "2023-10-05T06:01:32.477Z"
   },
   {
    "duration": 16,
    "start_time": "2023-10-05T06:02:17.282Z"
   },
   {
    "duration": 58,
    "start_time": "2023-10-05T06:02:48.124Z"
   },
   {
    "duration": 59,
    "start_time": "2023-10-05T06:03:14.689Z"
   },
   {
    "duration": 50,
    "start_time": "2023-10-05T06:03:30.877Z"
   },
   {
    "duration": 3,
    "start_time": "2023-10-05T06:03:57.107Z"
   },
   {
    "duration": 559,
    "start_time": "2023-10-05T06:03:57.636Z"
   },
   {
    "duration": 39,
    "start_time": "2023-10-05T06:03:58.777Z"
   },
   {
    "duration": 12,
    "start_time": "2023-10-05T06:04:00.203Z"
   },
   {
    "duration": 128,
    "start_time": "2023-10-05T06:04:41.807Z"
   },
   {
    "duration": 21,
    "start_time": "2023-10-05T06:05:47.515Z"
   },
   {
    "duration": 3,
    "start_time": "2023-10-05T06:06:36.262Z"
   },
   {
    "duration": 19,
    "start_time": "2023-10-05T06:06:37.566Z"
   },
   {
    "duration": 7,
    "start_time": "2023-10-05T06:07:25.166Z"
   },
   {
    "duration": 1585,
    "start_time": "2023-10-05T06:11:00.186Z"
   },
   {
    "duration": 1003,
    "start_time": "2023-10-05T06:11:01.774Z"
   },
   {
    "duration": 1016,
    "start_time": "2023-10-05T06:11:02.778Z"
   },
   {
    "duration": 82,
    "start_time": "2023-10-05T06:11:03.796Z"
   },
   {
    "duration": 570,
    "start_time": "2023-10-05T06:11:03.881Z"
   },
   {
    "duration": 61,
    "start_time": "2023-10-05T06:11:04.454Z"
   },
   {
    "duration": 279,
    "start_time": "2023-10-05T06:11:04.518Z"
   },
   {
    "duration": 46,
    "start_time": "2023-10-05T06:11:04.799Z"
   },
   {
    "duration": 252,
    "start_time": "2023-10-05T06:11:04.848Z"
   },
   {
    "duration": 221,
    "start_time": "2023-10-05T06:11:05.102Z"
   },
   {
    "duration": 395,
    "start_time": "2023-10-05T06:11:05.324Z"
   },
   {
    "duration": 263,
    "start_time": "2023-10-05T06:11:05.722Z"
   },
   {
    "duration": 187,
    "start_time": "2023-10-05T06:11:05.987Z"
   },
   {
    "duration": 300,
    "start_time": "2023-10-05T06:11:06.178Z"
   },
   {
    "duration": 114,
    "start_time": "2023-10-05T06:11:06.480Z"
   },
   {
    "duration": 88,
    "start_time": "2023-10-05T06:11:06.596Z"
   },
   {
    "duration": 206,
    "start_time": "2023-10-05T06:11:06.685Z"
   },
   {
    "duration": 150,
    "start_time": "2023-10-05T06:11:06.893Z"
   },
   {
    "duration": 32,
    "start_time": "2023-10-05T06:11:07.046Z"
   },
   {
    "duration": 150,
    "start_time": "2023-10-05T06:11:07.079Z"
   },
   {
    "duration": 7,
    "start_time": "2023-10-05T06:11:07.231Z"
   },
   {
    "duration": 201,
    "start_time": "2023-10-05T06:11:07.245Z"
   },
   {
    "duration": 125,
    "start_time": "2023-10-05T06:11:07.448Z"
   },
   {
    "duration": 18,
    "start_time": "2023-10-05T06:11:07.574Z"
   },
   {
    "duration": 125,
    "start_time": "2023-10-05T06:11:07.593Z"
   },
   {
    "duration": 4,
    "start_time": "2023-10-05T06:11:07.719Z"
   },
   {
    "duration": 564,
    "start_time": "2023-10-05T06:11:07.733Z"
   },
   {
    "duration": 45,
    "start_time": "2023-10-05T06:11:08.299Z"
   },
   {
    "duration": 128,
    "start_time": "2023-10-05T06:11:08.346Z"
   },
   {
    "duration": 7,
    "start_time": "2023-10-05T06:11:08.475Z"
   },
   {
    "duration": 493767,
    "start_time": "2023-10-05T06:11:08.483Z"
   },
   {
    "duration": 390261,
    "start_time": "2023-10-05T06:19:22.253Z"
   },
   {
    "duration": 0,
    "start_time": "2023-10-05T06:25:52.516Z"
   },
   {
    "duration": 0,
    "start_time": "2023-10-05T06:25:52.517Z"
   },
   {
    "duration": 0,
    "start_time": "2023-10-05T06:25:52.518Z"
   },
   {
    "duration": 5933,
    "start_time": "2023-10-05T06:26:31.512Z"
   },
   {
    "duration": 0,
    "start_time": "2023-10-05T06:26:37.450Z"
   },
   {
    "duration": 0,
    "start_time": "2023-10-05T06:26:37.451Z"
   },
   {
    "duration": 0,
    "start_time": "2023-10-05T06:26:37.452Z"
   },
   {
    "duration": 0,
    "start_time": "2023-10-05T06:26:37.455Z"
   },
   {
    "duration": 0,
    "start_time": "2023-10-05T06:26:37.457Z"
   },
   {
    "duration": 0,
    "start_time": "2023-10-05T06:26:37.458Z"
   },
   {
    "duration": 0,
    "start_time": "2023-10-05T06:26:37.460Z"
   },
   {
    "duration": 0,
    "start_time": "2023-10-05T06:26:37.461Z"
   },
   {
    "duration": 0,
    "start_time": "2023-10-05T06:26:37.462Z"
   },
   {
    "duration": 0,
    "start_time": "2023-10-05T06:26:37.463Z"
   },
   {
    "duration": 0,
    "start_time": "2023-10-05T06:26:37.464Z"
   },
   {
    "duration": 0,
    "start_time": "2023-10-05T06:26:37.465Z"
   },
   {
    "duration": 0,
    "start_time": "2023-10-05T06:26:37.466Z"
   },
   {
    "duration": 0,
    "start_time": "2023-10-05T06:26:37.467Z"
   },
   {
    "duration": 0,
    "start_time": "2023-10-05T06:26:37.469Z"
   },
   {
    "duration": 0,
    "start_time": "2023-10-05T06:26:37.471Z"
   },
   {
    "duration": 0,
    "start_time": "2023-10-05T06:26:37.472Z"
   },
   {
    "duration": 0,
    "start_time": "2023-10-05T06:26:37.474Z"
   },
   {
    "duration": 0,
    "start_time": "2023-10-05T06:26:37.475Z"
   },
   {
    "duration": 0,
    "start_time": "2023-10-05T06:26:37.476Z"
   },
   {
    "duration": 0,
    "start_time": "2023-10-05T06:26:37.478Z"
   },
   {
    "duration": 1,
    "start_time": "2023-10-05T06:26:37.479Z"
   },
   {
    "duration": 0,
    "start_time": "2023-10-05T06:26:37.488Z"
   },
   {
    "duration": 0,
    "start_time": "2023-10-05T06:26:37.489Z"
   },
   {
    "duration": 0,
    "start_time": "2023-10-05T06:26:37.491Z"
   },
   {
    "duration": 0,
    "start_time": "2023-10-05T06:26:37.492Z"
   },
   {
    "duration": 0,
    "start_time": "2023-10-05T06:26:37.496Z"
   },
   {
    "duration": 0,
    "start_time": "2023-10-05T06:26:37.498Z"
   },
   {
    "duration": 0,
    "start_time": "2023-10-05T06:26:37.546Z"
   },
   {
    "duration": 0,
    "start_time": "2023-10-05T06:26:37.548Z"
   },
   {
    "duration": 0,
    "start_time": "2023-10-05T06:26:37.549Z"
   },
   {
    "duration": 0,
    "start_time": "2023-10-05T06:26:37.550Z"
   },
   {
    "duration": 90,
    "start_time": "2023-10-05T06:27:00.559Z"
   },
   {
    "duration": 1515,
    "start_time": "2023-10-05T06:29:35.428Z"
   },
   {
    "duration": 1362,
    "start_time": "2023-10-05T06:29:36.945Z"
   },
   {
    "duration": 989,
    "start_time": "2023-10-05T06:29:38.309Z"
   },
   {
    "duration": 73,
    "start_time": "2023-10-05T06:29:39.300Z"
   },
   {
    "duration": 549,
    "start_time": "2023-10-05T06:29:39.376Z"
   },
   {
    "duration": 39,
    "start_time": "2023-10-05T06:29:39.927Z"
   },
   {
    "duration": 97,
    "start_time": "2023-10-05T06:29:39.967Z"
   },
   {
    "duration": 54,
    "start_time": "2023-10-05T06:29:40.066Z"
   },
   {
    "duration": 301,
    "start_time": "2023-10-05T06:29:40.121Z"
   },
   {
    "duration": 269,
    "start_time": "2023-10-05T06:29:40.424Z"
   },
   {
    "duration": 428,
    "start_time": "2023-10-05T06:29:40.695Z"
   },
   {
    "duration": 223,
    "start_time": "2023-10-05T06:29:41.124Z"
   },
   {
    "duration": 180,
    "start_time": "2023-10-05T06:29:41.349Z"
   },
   {
    "duration": 390,
    "start_time": "2023-10-05T06:29:41.532Z"
   },
   {
    "duration": 121,
    "start_time": "2023-10-05T06:29:41.924Z"
   },
   {
    "duration": 81,
    "start_time": "2023-10-05T06:29:42.047Z"
   },
   {
    "duration": 7,
    "start_time": "2023-10-05T06:29:42.144Z"
   },
   {
    "duration": 181,
    "start_time": "2023-10-05T06:29:42.154Z"
   },
   {
    "duration": 41,
    "start_time": "2023-10-05T06:29:42.337Z"
   },
   {
    "duration": 181,
    "start_time": "2023-10-05T06:29:42.381Z"
   },
   {
    "duration": 8,
    "start_time": "2023-10-05T06:29:42.564Z"
   },
   {
    "duration": 235,
    "start_time": "2023-10-05T06:29:42.574Z"
   },
   {
    "duration": 134,
    "start_time": "2023-10-05T06:29:42.811Z"
   },
   {
    "duration": 24,
    "start_time": "2023-10-05T06:29:42.947Z"
   },
   {
    "duration": 131,
    "start_time": "2023-10-05T06:29:42.973Z"
   },
   {
    "duration": 4,
    "start_time": "2023-10-05T06:29:43.106Z"
   },
   {
    "duration": 549,
    "start_time": "2023-10-05T06:29:43.112Z"
   },
   {
    "duration": 54,
    "start_time": "2023-10-05T06:29:43.663Z"
   },
   {
    "duration": 2829,
    "start_time": "2023-10-05T06:29:43.719Z"
   },
   {
    "duration": 0,
    "start_time": "2023-10-05T06:29:46.551Z"
   },
   {
    "duration": 0,
    "start_time": "2023-10-05T06:29:46.552Z"
   },
   {
    "duration": 0,
    "start_time": "2023-10-05T06:29:46.554Z"
   },
   {
    "duration": 0,
    "start_time": "2023-10-05T06:29:46.555Z"
   },
   {
    "duration": 2697,
    "start_time": "2023-10-05T06:30:01.383Z"
   },
   {
    "duration": 4,
    "start_time": "2023-10-05T06:30:33.589Z"
   },
   {
    "duration": 15,
    "start_time": "2023-10-05T06:30:35.211Z"
   },
   {
    "duration": 3737,
    "start_time": "2023-10-05T06:30:43.559Z"
   },
   {
    "duration": 3401,
    "start_time": "2023-10-05T06:30:49.229Z"
   },
   {
    "duration": 4,
    "start_time": "2023-10-05T06:31:15.454Z"
   },
   {
    "duration": 20,
    "start_time": "2023-10-05T06:31:16.241Z"
   },
   {
    "duration": 1687,
    "start_time": "2023-10-05T06:31:23.833Z"
   },
   {
    "duration": 1167,
    "start_time": "2023-10-05T06:31:25.523Z"
   },
   {
    "duration": 1026,
    "start_time": "2023-10-05T06:31:26.692Z"
   },
   {
    "duration": 79,
    "start_time": "2023-10-05T06:31:27.720Z"
   },
   {
    "duration": 578,
    "start_time": "2023-10-05T06:31:27.802Z"
   },
   {
    "duration": 66,
    "start_time": "2023-10-05T06:31:28.383Z"
   },
   {
    "duration": 88,
    "start_time": "2023-10-05T06:31:28.450Z"
   },
   {
    "duration": 45,
    "start_time": "2023-10-05T06:31:28.540Z"
   },
   {
    "duration": 249,
    "start_time": "2023-10-05T06:31:28.586Z"
   },
   {
    "duration": 233,
    "start_time": "2023-10-05T06:31:28.844Z"
   },
   {
    "duration": 334,
    "start_time": "2023-10-05T06:31:29.079Z"
   },
   {
    "duration": 223,
    "start_time": "2023-10-05T06:31:29.415Z"
   },
   {
    "duration": 176,
    "start_time": "2023-10-05T06:31:29.644Z"
   },
   {
    "duration": 332,
    "start_time": "2023-10-05T06:31:29.822Z"
   },
   {
    "duration": 117,
    "start_time": "2023-10-05T06:31:30.157Z"
   },
   {
    "duration": 90,
    "start_time": "2023-10-05T06:31:30.276Z"
   },
   {
    "duration": 55,
    "start_time": "2023-10-05T06:31:30.368Z"
   },
   {
    "duration": 204,
    "start_time": "2023-10-05T06:31:30.425Z"
   },
   {
    "duration": 33,
    "start_time": "2023-10-05T06:31:30.631Z"
   },
   {
    "duration": 195,
    "start_time": "2023-10-05T06:31:30.666Z"
   },
   {
    "duration": 7,
    "start_time": "2023-10-05T06:31:30.863Z"
   },
   {
    "duration": 274,
    "start_time": "2023-10-05T06:31:30.872Z"
   },
   {
    "duration": 124,
    "start_time": "2023-10-05T06:31:31.148Z"
   },
   {
    "duration": 23,
    "start_time": "2023-10-05T06:31:31.274Z"
   },
   {
    "duration": 282,
    "start_time": "2023-10-05T06:31:31.299Z"
   },
   {
    "duration": 3,
    "start_time": "2023-10-05T06:31:31.583Z"
   },
   {
    "duration": 557,
    "start_time": "2023-10-05T06:31:31.588Z"
   },
   {
    "duration": 44,
    "start_time": "2023-10-05T06:31:32.148Z"
   },
   {
    "duration": 314,
    "start_time": "2023-10-05T06:31:32.194Z"
   },
   {
    "duration": 0,
    "start_time": "2023-10-05T06:31:32.510Z"
   },
   {
    "duration": 0,
    "start_time": "2023-10-05T06:31:32.511Z"
   },
   {
    "duration": 0,
    "start_time": "2023-10-05T06:31:32.512Z"
   },
   {
    "duration": 0,
    "start_time": "2023-10-05T06:31:32.514Z"
   },
   {
    "duration": 4,
    "start_time": "2023-10-05T06:32:09.534Z"
   },
   {
    "duration": 27,
    "start_time": "2023-10-05T06:32:10.368Z"
   },
   {
    "duration": 39,
    "start_time": "2023-10-05T06:32:11.659Z"
   },
   {
    "duration": 46,
    "start_time": "2023-10-05T06:32:13.516Z"
   },
   {
    "duration": 1918,
    "start_time": "2023-10-05T06:32:21.130Z"
   },
   {
    "duration": 1382,
    "start_time": "2023-10-05T06:32:23.054Z"
   },
   {
    "duration": 1527,
    "start_time": "2023-10-05T06:32:24.439Z"
   },
   {
    "duration": 91,
    "start_time": "2023-10-05T06:32:25.968Z"
   },
   {
    "duration": 614,
    "start_time": "2023-10-05T06:32:26.061Z"
   },
   {
    "duration": 54,
    "start_time": "2023-10-05T06:32:26.676Z"
   },
   {
    "duration": 100,
    "start_time": "2023-10-05T06:32:26.744Z"
   },
   {
    "duration": 40,
    "start_time": "2023-10-05T06:32:26.846Z"
   },
   {
    "duration": 316,
    "start_time": "2023-10-05T06:32:26.888Z"
   },
   {
    "duration": 218,
    "start_time": "2023-10-05T06:32:27.206Z"
   },
   {
    "duration": 351,
    "start_time": "2023-10-05T06:32:27.426Z"
   },
   {
    "duration": 269,
    "start_time": "2023-10-05T06:32:27.778Z"
   },
   {
    "duration": 262,
    "start_time": "2023-10-05T06:32:28.049Z"
   },
   {
    "duration": 389,
    "start_time": "2023-10-05T06:32:28.316Z"
   },
   {
    "duration": 102,
    "start_time": "2023-10-05T06:32:28.707Z"
   },
   {
    "duration": 113,
    "start_time": "2023-10-05T06:32:28.811Z"
   },
   {
    "duration": 24,
    "start_time": "2023-10-05T06:32:28.926Z"
   },
   {
    "duration": 194,
    "start_time": "2023-10-05T06:32:28.952Z"
   },
   {
    "duration": 36,
    "start_time": "2023-10-05T06:32:29.148Z"
   },
   {
    "duration": 150,
    "start_time": "2023-10-05T06:32:29.186Z"
   },
   {
    "duration": 10,
    "start_time": "2023-10-05T06:32:29.337Z"
   },
   {
    "duration": 229,
    "start_time": "2023-10-05T06:32:29.349Z"
   },
   {
    "duration": 142,
    "start_time": "2023-10-05T06:32:29.580Z"
   },
   {
    "duration": 26,
    "start_time": "2023-10-05T06:32:29.723Z"
   },
   {
    "duration": 114,
    "start_time": "2023-10-05T06:32:29.751Z"
   },
   {
    "duration": 4,
    "start_time": "2023-10-05T06:32:29.866Z"
   },
   {
    "duration": 558,
    "start_time": "2023-10-05T06:32:29.872Z"
   },
   {
    "duration": 62,
    "start_time": "2023-10-05T06:32:30.433Z"
   },
   {
    "duration": 181,
    "start_time": "2023-10-05T06:32:30.497Z"
   },
   {
    "duration": 11,
    "start_time": "2023-10-05T06:32:30.680Z"
   },
   {
    "duration": 254051,
    "start_time": "2023-10-05T06:32:30.693Z"
   },
   {
    "duration": 0,
    "start_time": "2023-10-05T06:36:44.746Z"
   },
   {
    "duration": 0,
    "start_time": "2023-10-05T06:36:44.747Z"
   },
   {
    "duration": 23,
    "start_time": "2023-10-05T06:36:45.423Z"
   },
   {
    "duration": 1688,
    "start_time": "2023-10-05T06:36:52.445Z"
   },
   {
    "duration": 1301,
    "start_time": "2023-10-05T06:36:54.135Z"
   },
   {
    "duration": 1097,
    "start_time": "2023-10-05T06:36:55.439Z"
   },
   {
    "duration": 77,
    "start_time": "2023-10-05T06:36:56.538Z"
   },
   {
    "duration": 806,
    "start_time": "2023-10-05T06:36:56.618Z"
   },
   {
    "duration": 67,
    "start_time": "2023-10-05T06:36:57.427Z"
   },
   {
    "duration": 137,
    "start_time": "2023-10-05T06:36:57.497Z"
   },
   {
    "duration": 47,
    "start_time": "2023-10-05T06:36:57.637Z"
   },
   {
    "duration": 394,
    "start_time": "2023-10-05T06:36:57.687Z"
   },
   {
    "duration": 343,
    "start_time": "2023-10-05T06:36:58.084Z"
   },
   {
    "duration": 465,
    "start_time": "2023-10-05T06:36:58.430Z"
   },
   {
    "duration": 295,
    "start_time": "2023-10-05T06:36:58.897Z"
   },
   {
    "duration": 254,
    "start_time": "2023-10-05T06:36:59.194Z"
   },
   {
    "duration": 281,
    "start_time": "2023-10-05T06:36:59.452Z"
   },
   {
    "duration": 110,
    "start_time": "2023-10-05T06:36:59.735Z"
   },
   {
    "duration": 101,
    "start_time": "2023-10-05T06:36:59.848Z"
   },
   {
    "duration": 13,
    "start_time": "2023-10-05T06:36:59.952Z"
   },
   {
    "duration": 178,
    "start_time": "2023-10-05T06:36:59.966Z"
   },
   {
    "duration": 37,
    "start_time": "2023-10-05T06:37:00.146Z"
   },
   {
    "duration": 206,
    "start_time": "2023-10-05T06:37:00.186Z"
   },
   {
    "duration": 11,
    "start_time": "2023-10-05T06:37:00.394Z"
   },
   {
    "duration": 304,
    "start_time": "2023-10-05T06:37:00.408Z"
   },
   {
    "duration": 191,
    "start_time": "2023-10-05T06:37:00.715Z"
   },
   {
    "duration": 36,
    "start_time": "2023-10-05T06:37:00.908Z"
   },
   {
    "duration": 219,
    "start_time": "2023-10-05T06:37:00.947Z"
   },
   {
    "duration": 4,
    "start_time": "2023-10-05T06:37:01.168Z"
   },
   {
    "duration": 670,
    "start_time": "2023-10-05T06:37:01.174Z"
   },
   {
    "duration": 54,
    "start_time": "2023-10-05T06:37:01.846Z"
   },
   {
    "duration": 184,
    "start_time": "2023-10-05T06:37:01.902Z"
   },
   {
    "duration": 91,
    "start_time": "2023-10-05T06:37:02.088Z"
   },
   {
    "duration": 117663,
    "start_time": "2023-10-05T06:37:02.180Z"
   },
   {
    "duration": 0,
    "start_time": "2023-10-05T06:38:59.853Z"
   },
   {
    "duration": 0,
    "start_time": "2023-10-05T06:38:59.854Z"
   },
   {
    "duration": 0,
    "start_time": "2023-10-05T06:38:59.863Z"
   },
   {
    "duration": 146,
    "start_time": "2023-10-05T06:39:03.872Z"
   },
   {
    "duration": 4,
    "start_time": "2023-10-05T06:39:09.186Z"
   },
   {
    "duration": 663,
    "start_time": "2023-10-05T06:39:10.808Z"
   },
   {
    "duration": 137,
    "start_time": "2023-10-05T06:40:53.768Z"
   },
   {
    "duration": 24,
    "start_time": "2023-10-05T06:41:03.095Z"
   },
   {
    "duration": 141,
    "start_time": "2023-10-05T06:41:09.846Z"
   },
   {
    "duration": 3,
    "start_time": "2023-10-05T06:41:12.724Z"
   },
   {
    "duration": 540,
    "start_time": "2023-10-05T06:41:14.041Z"
   },
   {
    "duration": 5,
    "start_time": "2023-10-05T06:50:58.441Z"
   },
   {
    "duration": 6,
    "start_time": "2023-10-05T06:51:36.039Z"
   },
   {
    "duration": 8,
    "start_time": "2023-10-05T06:51:45.614Z"
   },
   {
    "duration": 5,
    "start_time": "2023-10-05T06:52:21.721Z"
   },
   {
    "duration": 133,
    "start_time": "2023-10-05T06:52:29.767Z"
   },
   {
    "duration": 6,
    "start_time": "2023-10-05T06:52:32.396Z"
   },
   {
    "duration": 926,
    "start_time": "2023-10-05T06:52:33.004Z"
   },
   {
    "duration": 6,
    "start_time": "2023-10-05T06:52:37.280Z"
   },
   {
    "duration": 7,
    "start_time": "2023-10-05T06:52:41.363Z"
   },
   {
    "duration": 9,
    "start_time": "2023-10-05T06:52:42.186Z"
   },
   {
    "duration": 6,
    "start_time": "2023-10-05T06:52:59.398Z"
   },
   {
    "duration": 4,
    "start_time": "2023-10-05T06:53:25.690Z"
   },
   {
    "duration": 5,
    "start_time": "2023-10-05T06:54:20.648Z"
   },
   {
    "duration": 4,
    "start_time": "2023-10-05T06:54:29.524Z"
   },
   {
    "duration": 5,
    "start_time": "2023-10-05T06:56:05.398Z"
   },
   {
    "duration": 6,
    "start_time": "2023-10-05T06:56:18.290Z"
   },
   {
    "duration": 128,
    "start_time": "2023-10-05T06:56:32.185Z"
   },
   {
    "duration": 3,
    "start_time": "2023-10-05T06:56:34.918Z"
   },
   {
    "duration": 703,
    "start_time": "2023-10-05T06:56:35.469Z"
   },
   {
    "duration": 7,
    "start_time": "2023-10-05T06:56:44.287Z"
   },
   {
    "duration": 6,
    "start_time": "2023-10-05T06:59:41.008Z"
   },
   {
    "duration": 16,
    "start_time": "2023-10-05T06:59:42.144Z"
   },
   {
    "duration": 22,
    "start_time": "2023-10-05T06:59:44.135Z"
   },
   {
    "duration": 38,
    "start_time": "2023-10-05T06:59:48.472Z"
   },
   {
    "duration": 365,
    "start_time": "2023-10-05T06:59:50.908Z"
   },
   {
    "duration": 8,
    "start_time": "2023-10-05T06:59:55.700Z"
   },
   {
    "duration": 6655,
    "start_time": "2023-10-05T07:04:33.829Z"
   },
   {
    "duration": 1593,
    "start_time": "2023-10-05T07:04:40.493Z"
   },
   {
    "duration": 1157,
    "start_time": "2023-10-05T07:04:42.089Z"
   },
   {
    "duration": 76,
    "start_time": "2023-10-05T07:04:43.248Z"
   },
   {
    "duration": 688,
    "start_time": "2023-10-05T07:04:43.326Z"
   },
   {
    "duration": 57,
    "start_time": "2023-10-05T07:04:44.016Z"
   },
   {
    "duration": 59,
    "start_time": "2023-10-05T07:04:44.075Z"
   },
   {
    "duration": 49,
    "start_time": "2023-10-05T07:04:44.136Z"
   },
   {
    "duration": 412,
    "start_time": "2023-10-05T07:04:44.190Z"
   },
   {
    "duration": 268,
    "start_time": "2023-10-05T07:04:44.605Z"
   },
   {
    "duration": 367,
    "start_time": "2023-10-05T07:04:44.874Z"
   },
   {
    "duration": 227,
    "start_time": "2023-10-05T07:04:45.243Z"
   },
   {
    "duration": 241,
    "start_time": "2023-10-05T07:04:45.472Z"
   },
   {
    "duration": 298,
    "start_time": "2023-10-05T07:04:45.714Z"
   },
   {
    "duration": 126,
    "start_time": "2023-10-05T07:04:46.014Z"
   },
   {
    "duration": 96,
    "start_time": "2023-10-05T07:04:46.144Z"
   },
   {
    "duration": 13,
    "start_time": "2023-10-05T07:04:46.242Z"
   },
   {
    "duration": 179,
    "start_time": "2023-10-05T07:04:46.257Z"
   },
   {
    "duration": 46,
    "start_time": "2023-10-05T07:04:46.438Z"
   },
   {
    "duration": 146,
    "start_time": "2023-10-05T07:04:46.488Z"
   },
   {
    "duration": 17,
    "start_time": "2023-10-05T07:04:46.636Z"
   },
   {
    "duration": 226,
    "start_time": "2023-10-05T07:04:46.658Z"
   },
   {
    "duration": 136,
    "start_time": "2023-10-05T07:04:46.886Z"
   },
   {
    "duration": 17,
    "start_time": "2023-10-05T07:04:47.023Z"
   },
   {
    "duration": 154,
    "start_time": "2023-10-05T07:04:47.042Z"
   },
   {
    "duration": 2,
    "start_time": "2023-10-05T07:04:47.198Z"
   },
   {
    "duration": 612,
    "start_time": "2023-10-05T07:04:47.202Z"
   },
   {
    "duration": 5,
    "start_time": "2023-10-05T07:04:47.817Z"
   },
   {
    "duration": 41,
    "start_time": "2023-10-05T07:04:47.824Z"
   },
   {
    "duration": 25,
    "start_time": "2023-10-05T07:04:47.872Z"
   },
   {
    "duration": 85,
    "start_time": "2023-10-05T07:04:47.899Z"
   },
   {
    "duration": 175,
    "start_time": "2023-10-05T07:04:47.996Z"
   },
   {
    "duration": 9,
    "start_time": "2023-10-05T07:04:48.173Z"
   },
   {
    "duration": 1255877,
    "start_time": "2023-10-05T07:04:48.184Z"
   },
   {
    "duration": 410725,
    "start_time": "2023-10-05T07:25:44.067Z"
   },
   {
    "duration": 1,
    "start_time": "2023-10-05T07:32:34.794Z"
   },
   {
    "duration": 0,
    "start_time": "2023-10-05T07:32:34.796Z"
   },
   {
    "duration": 126,
    "start_time": "2023-10-05T07:32:55.611Z"
   },
   {
    "duration": 4,
    "start_time": "2023-10-05T07:32:57.308Z"
   },
   {
    "duration": 21,
    "start_time": "2023-10-05T07:32:58.080Z"
   },
   {
    "duration": 14,
    "start_time": "2023-10-05T07:33:07.102Z"
   },
   {
    "duration": 165,
    "start_time": "2023-10-05T07:33:17.789Z"
   },
   {
    "duration": 4,
    "start_time": "2023-10-05T07:33:19.123Z"
   },
   {
    "duration": 345,
    "start_time": "2023-10-05T07:33:20.285Z"
   },
   {
    "duration": 549,
    "start_time": "2023-10-05T07:37:34.258Z"
   },
   {
    "duration": 126,
    "start_time": "2023-10-05T07:39:06.965Z"
   },
   {
    "duration": 13,
    "start_time": "2023-10-05T07:39:08.572Z"
   },
   {
    "duration": 597,
    "start_time": "2023-10-05T07:39:09.278Z"
   },
   {
    "duration": 8,
    "start_time": "2023-10-05T07:39:13.789Z"
   },
   {
    "duration": 10,
    "start_time": "2023-10-05T07:39:17.197Z"
   },
   {
    "duration": 8,
    "start_time": "2023-10-05T07:39:18.390Z"
   },
   {
    "duration": 65,
    "start_time": "2023-10-05T07:39:20.223Z"
   },
   {
    "duration": 123,
    "start_time": "2023-10-05T07:39:25.086Z"
   },
   {
    "duration": 11,
    "start_time": "2023-10-05T07:39:28.008Z"
   },
   {
    "duration": 1999,
    "start_time": "2023-10-05T09:26:43.496Z"
   },
   {
    "duration": 1012,
    "start_time": "2023-10-05T09:26:45.498Z"
   },
   {
    "duration": 1114,
    "start_time": "2023-10-05T09:26:46.511Z"
   },
   {
    "duration": 80,
    "start_time": "2023-10-05T09:26:47.628Z"
   },
   {
    "duration": 662,
    "start_time": "2023-10-05T09:26:47.710Z"
   },
   {
    "duration": 39,
    "start_time": "2023-10-05T09:26:48.374Z"
   },
   {
    "duration": 82,
    "start_time": "2023-10-05T09:26:48.415Z"
   },
   {
    "duration": 47,
    "start_time": "2023-10-05T09:26:48.499Z"
   },
   {
    "duration": 256,
    "start_time": "2023-10-05T09:26:48.548Z"
   },
   {
    "duration": 264,
    "start_time": "2023-10-05T09:26:48.807Z"
   },
   {
    "duration": 338,
    "start_time": "2023-10-05T09:26:49.073Z"
   },
   {
    "duration": 269,
    "start_time": "2023-10-05T09:26:49.413Z"
   },
   {
    "duration": 246,
    "start_time": "2023-10-05T09:26:49.684Z"
   },
   {
    "duration": 311,
    "start_time": "2023-10-05T09:26:49.932Z"
   },
   {
    "duration": 194,
    "start_time": "2023-10-05T09:26:50.253Z"
   },
   {
    "duration": 85,
    "start_time": "2023-10-05T09:26:50.453Z"
   },
   {
    "duration": 14,
    "start_time": "2023-10-05T09:26:50.543Z"
   },
   {
    "duration": 188,
    "start_time": "2023-10-05T09:26:50.559Z"
   },
   {
    "duration": 41,
    "start_time": "2023-10-05T09:26:50.750Z"
   },
   {
    "duration": 188,
    "start_time": "2023-10-05T09:26:50.794Z"
   },
   {
    "duration": 15,
    "start_time": "2023-10-05T09:26:50.984Z"
   },
   {
    "duration": 242,
    "start_time": "2023-10-05T09:26:51.005Z"
   },
   {
    "duration": 152,
    "start_time": "2023-10-05T09:26:51.256Z"
   },
   {
    "duration": 44,
    "start_time": "2023-10-05T09:26:51.411Z"
   },
   {
    "duration": 155,
    "start_time": "2023-10-05T09:26:51.457Z"
   },
   {
    "duration": 4,
    "start_time": "2023-10-05T09:26:51.614Z"
   },
   {
    "duration": 597,
    "start_time": "2023-10-05T09:26:51.620Z"
   },
   {
    "duration": 7,
    "start_time": "2023-10-05T09:26:52.221Z"
   },
   {
    "duration": 44,
    "start_time": "2023-10-05T09:26:52.232Z"
   },
   {
    "duration": 77,
    "start_time": "2023-10-05T09:26:52.279Z"
   },
   {
    "duration": 74,
    "start_time": "2023-10-05T09:26:52.358Z"
   },
   {
    "duration": 173,
    "start_time": "2023-10-05T09:26:52.435Z"
   },
   {
    "duration": 9,
    "start_time": "2023-10-05T09:26:52.610Z"
   },
   {
    "duration": 981241,
    "start_time": "2023-10-05T09:26:52.621Z"
   },
   {
    "duration": 54,
    "start_time": "2023-10-05T12:47:54.524Z"
   },
   {
    "duration": 2001,
    "start_time": "2023-10-05T12:48:28.792Z"
   },
   {
    "duration": 0,
    "start_time": "2023-10-05T12:48:30.795Z"
   },
   {
    "duration": 0,
    "start_time": "2023-10-05T12:48:30.797Z"
   },
   {
    "duration": 0,
    "start_time": "2023-10-05T12:48:30.798Z"
   },
   {
    "duration": 0,
    "start_time": "2023-10-05T12:48:30.800Z"
   },
   {
    "duration": 0,
    "start_time": "2023-10-05T12:48:30.801Z"
   },
   {
    "duration": 0,
    "start_time": "2023-10-05T12:48:30.802Z"
   },
   {
    "duration": 0,
    "start_time": "2023-10-05T12:48:30.803Z"
   },
   {
    "duration": 0,
    "start_time": "2023-10-05T12:48:30.805Z"
   },
   {
    "duration": 0,
    "start_time": "2023-10-05T12:48:30.806Z"
   },
   {
    "duration": 0,
    "start_time": "2023-10-05T12:48:30.807Z"
   },
   {
    "duration": 0,
    "start_time": "2023-10-05T12:48:30.809Z"
   },
   {
    "duration": 0,
    "start_time": "2023-10-05T12:48:30.811Z"
   },
   {
    "duration": 0,
    "start_time": "2023-10-05T12:48:30.813Z"
   },
   {
    "duration": 0,
    "start_time": "2023-10-05T12:48:30.814Z"
   },
   {
    "duration": 0,
    "start_time": "2023-10-05T12:48:30.815Z"
   },
   {
    "duration": 0,
    "start_time": "2023-10-05T12:48:30.857Z"
   },
   {
    "duration": 0,
    "start_time": "2023-10-05T12:48:30.858Z"
   },
   {
    "duration": 0,
    "start_time": "2023-10-05T12:48:30.860Z"
   },
   {
    "duration": 0,
    "start_time": "2023-10-05T12:48:30.861Z"
   },
   {
    "duration": 0,
    "start_time": "2023-10-05T12:48:30.863Z"
   },
   {
    "duration": 0,
    "start_time": "2023-10-05T12:48:30.864Z"
   },
   {
    "duration": 0,
    "start_time": "2023-10-05T12:48:30.865Z"
   },
   {
    "duration": 0,
    "start_time": "2023-10-05T12:48:30.866Z"
   },
   {
    "duration": 0,
    "start_time": "2023-10-05T12:48:30.868Z"
   },
   {
    "duration": 0,
    "start_time": "2023-10-05T12:48:30.869Z"
   },
   {
    "duration": 0,
    "start_time": "2023-10-05T12:48:30.871Z"
   },
   {
    "duration": 0,
    "start_time": "2023-10-05T12:48:30.872Z"
   },
   {
    "duration": 0,
    "start_time": "2023-10-05T12:48:30.874Z"
   },
   {
    "duration": 0,
    "start_time": "2023-10-05T12:48:30.876Z"
   },
   {
    "duration": 0,
    "start_time": "2023-10-05T12:48:30.878Z"
   },
   {
    "duration": 0,
    "start_time": "2023-10-05T12:48:30.879Z"
   },
   {
    "duration": 0,
    "start_time": "2023-10-05T12:48:30.881Z"
   },
   {
    "duration": 0,
    "start_time": "2023-10-05T12:48:30.882Z"
   },
   {
    "duration": 0,
    "start_time": "2023-10-05T12:48:30.884Z"
   },
   {
    "duration": 0,
    "start_time": "2023-10-05T12:48:30.886Z"
   },
   {
    "duration": 0,
    "start_time": "2023-10-05T12:48:30.887Z"
   },
   {
    "duration": 12,
    "start_time": "2023-10-05T12:50:14.834Z"
   },
   {
    "duration": 106,
    "start_time": "2023-10-05T12:55:48.108Z"
   },
   {
    "duration": 303,
    "start_time": "2023-10-05T12:55:55.522Z"
   },
   {
    "duration": 13,
    "start_time": "2023-10-05T12:56:02.913Z"
   },
   {
    "duration": 12,
    "start_time": "2023-10-05T13:42:22.137Z"
   },
   {
    "duration": 1855,
    "start_time": "2023-10-05T14:01:47.658Z"
   },
   {
    "duration": 3332,
    "start_time": "2023-10-05T14:01:49.516Z"
   },
   {
    "duration": 1065,
    "start_time": "2023-10-05T14:01:52.850Z"
   },
   {
    "duration": 71,
    "start_time": "2023-10-05T14:01:53.919Z"
   },
   {
    "duration": 562,
    "start_time": "2023-10-05T14:01:53.992Z"
   },
   {
    "duration": 45,
    "start_time": "2023-10-05T14:01:54.559Z"
   },
   {
    "duration": 66,
    "start_time": "2023-10-05T14:01:54.606Z"
   },
   {
    "duration": 31,
    "start_time": "2023-10-05T14:01:54.674Z"
   },
   {
    "duration": 278,
    "start_time": "2023-10-05T14:01:54.707Z"
   },
   {
    "duration": 222,
    "start_time": "2023-10-05T14:01:54.988Z"
   },
   {
    "duration": 317,
    "start_time": "2023-10-05T14:01:55.212Z"
   },
   {
    "duration": 208,
    "start_time": "2023-10-05T14:01:55.531Z"
   },
   {
    "duration": 194,
    "start_time": "2023-10-05T14:01:55.741Z"
   },
   {
    "duration": 308,
    "start_time": "2023-10-05T14:01:55.936Z"
   },
   {
    "duration": 131,
    "start_time": "2023-10-05T14:01:56.246Z"
   },
   {
    "duration": 95,
    "start_time": "2023-10-05T14:01:56.379Z"
   },
   {
    "duration": 9,
    "start_time": "2023-10-05T14:01:56.477Z"
   },
   {
    "duration": 166,
    "start_time": "2023-10-05T14:01:56.488Z"
   },
   {
    "duration": 32,
    "start_time": "2023-10-05T14:01:56.663Z"
   },
   {
    "duration": 184,
    "start_time": "2023-10-05T14:01:56.697Z"
   },
   {
    "duration": 8,
    "start_time": "2023-10-05T14:01:56.883Z"
   },
   {
    "duration": 262,
    "start_time": "2023-10-05T14:01:56.893Z"
   },
   {
    "duration": 136,
    "start_time": "2023-10-05T14:01:57.165Z"
   },
   {
    "duration": 17,
    "start_time": "2023-10-05T14:01:57.303Z"
   },
   {
    "duration": 150,
    "start_time": "2023-10-05T14:01:57.322Z"
   },
   {
    "duration": 3,
    "start_time": "2023-10-05T14:01:57.474Z"
   },
   {
    "duration": 164,
    "start_time": "2023-10-05T14:01:57.479Z"
   },
   {
    "duration": 0,
    "start_time": "2023-10-05T14:01:57.659Z"
   },
   {
    "duration": 0,
    "start_time": "2023-10-05T14:01:57.661Z"
   },
   {
    "duration": 0,
    "start_time": "2023-10-05T14:01:57.662Z"
   },
   {
    "duration": 0,
    "start_time": "2023-10-05T14:01:57.663Z"
   },
   {
    "duration": 0,
    "start_time": "2023-10-05T14:01:57.664Z"
   },
   {
    "duration": 0,
    "start_time": "2023-10-05T14:01:57.665Z"
   },
   {
    "duration": 0,
    "start_time": "2023-10-05T14:01:57.666Z"
   },
   {
    "duration": 0,
    "start_time": "2023-10-05T14:01:57.667Z"
   },
   {
    "duration": 0,
    "start_time": "2023-10-05T14:01:57.667Z"
   },
   {
    "duration": 0,
    "start_time": "2023-10-05T14:01:57.668Z"
   },
   {
    "duration": 116,
    "start_time": "2023-10-05T14:07:43.031Z"
   },
   {
    "duration": 4,
    "start_time": "2023-10-05T14:17:09.699Z"
   },
   {
    "duration": 24,
    "start_time": "2023-10-05T14:19:26.828Z"
   },
   {
    "duration": 19,
    "start_time": "2023-10-05T14:20:21.076Z"
   },
   {
    "duration": 124,
    "start_time": "2023-10-05T14:20:23.674Z"
   },
   {
    "duration": 112,
    "start_time": "2023-10-05T14:20:28.669Z"
   },
   {
    "duration": 4,
    "start_time": "2023-10-05T14:20:31.785Z"
   },
   {
    "duration": 24,
    "start_time": "2023-10-05T14:20:34.283Z"
   },
   {
    "duration": 30,
    "start_time": "2023-10-05T14:25:51.099Z"
   },
   {
    "duration": 25,
    "start_time": "2023-10-05T14:28:13.236Z"
   },
   {
    "duration": 1639,
    "start_time": "2023-10-05T14:28:50.689Z"
   },
   {
    "duration": 989,
    "start_time": "2023-10-05T14:28:52.331Z"
   },
   {
    "duration": 1136,
    "start_time": "2023-10-05T14:28:53.321Z"
   },
   {
    "duration": 70,
    "start_time": "2023-10-05T14:28:54.458Z"
   },
   {
    "duration": 536,
    "start_time": "2023-10-05T14:28:54.531Z"
   },
   {
    "duration": 35,
    "start_time": "2023-10-05T14:28:55.069Z"
   },
   {
    "duration": 66,
    "start_time": "2023-10-05T14:28:55.105Z"
   },
   {
    "duration": 30,
    "start_time": "2023-10-05T14:28:55.173Z"
   },
   {
    "duration": 235,
    "start_time": "2023-10-05T14:28:55.205Z"
   },
   {
    "duration": 216,
    "start_time": "2023-10-05T14:28:55.442Z"
   },
   {
    "duration": 288,
    "start_time": "2023-10-05T14:28:55.660Z"
   },
   {
    "duration": 187,
    "start_time": "2023-10-05T14:28:55.956Z"
   },
   {
    "duration": 180,
    "start_time": "2023-10-05T14:28:56.145Z"
   },
   {
    "duration": 283,
    "start_time": "2023-10-05T14:28:56.329Z"
   },
   {
    "duration": 102,
    "start_time": "2023-10-05T14:28:56.614Z"
   },
   {
    "duration": 88,
    "start_time": "2023-10-05T14:28:56.717Z"
   },
   {
    "duration": 9,
    "start_time": "2023-10-05T14:28:56.806Z"
   },
   {
    "duration": 166,
    "start_time": "2023-10-05T14:28:56.816Z"
   },
   {
    "duration": 33,
    "start_time": "2023-10-05T14:28:56.984Z"
   },
   {
    "duration": 145,
    "start_time": "2023-10-05T14:28:57.020Z"
   },
   {
    "duration": 7,
    "start_time": "2023-10-05T14:28:57.167Z"
   },
   {
    "duration": 217,
    "start_time": "2023-10-05T14:28:57.176Z"
   },
   {
    "duration": 127,
    "start_time": "2023-10-05T14:28:57.395Z"
   },
   {
    "duration": 18,
    "start_time": "2023-10-05T14:28:57.524Z"
   },
   {
    "duration": 130,
    "start_time": "2023-10-05T14:28:57.543Z"
   },
   {
    "duration": 3,
    "start_time": "2023-10-05T14:28:57.674Z"
   },
   {
    "duration": 158,
    "start_time": "2023-10-05T14:28:57.679Z"
   },
   {
    "duration": 0,
    "start_time": "2023-10-05T14:28:57.839Z"
   },
   {
    "duration": 0,
    "start_time": "2023-10-05T14:28:57.840Z"
   },
   {
    "duration": 0,
    "start_time": "2023-10-05T14:28:57.841Z"
   },
   {
    "duration": 0,
    "start_time": "2023-10-05T14:28:57.843Z"
   },
   {
    "duration": 0,
    "start_time": "2023-10-05T14:28:57.844Z"
   },
   {
    "duration": 0,
    "start_time": "2023-10-05T14:28:57.856Z"
   },
   {
    "duration": 0,
    "start_time": "2023-10-05T14:28:57.858Z"
   },
   {
    "duration": 0,
    "start_time": "2023-10-05T14:28:57.859Z"
   },
   {
    "duration": 0,
    "start_time": "2023-10-05T14:28:57.860Z"
   },
   {
    "duration": 0,
    "start_time": "2023-10-05T14:28:57.862Z"
   },
   {
    "duration": 29,
    "start_time": "2023-10-05T14:29:29.524Z"
   },
   {
    "duration": 12,
    "start_time": "2023-10-05T14:35:31.572Z"
   },
   {
    "duration": 18,
    "start_time": "2023-10-05T14:57:26.043Z"
   },
   {
    "duration": 6690,
    "start_time": "2023-10-05T15:02:04.420Z"
   },
   {
    "duration": 1863,
    "start_time": "2023-10-05T15:02:11.113Z"
   },
   {
    "duration": 0,
    "start_time": "2023-10-05T15:02:12.980Z"
   },
   {
    "duration": 0,
    "start_time": "2023-10-05T15:02:12.981Z"
   },
   {
    "duration": 0,
    "start_time": "2023-10-05T15:02:12.984Z"
   },
   {
    "duration": 0,
    "start_time": "2023-10-05T15:02:12.985Z"
   },
   {
    "duration": 0,
    "start_time": "2023-10-05T15:02:12.985Z"
   },
   {
    "duration": 0,
    "start_time": "2023-10-05T15:02:12.986Z"
   },
   {
    "duration": 0,
    "start_time": "2023-10-05T15:02:12.989Z"
   },
   {
    "duration": 0,
    "start_time": "2023-10-05T15:02:12.989Z"
   },
   {
    "duration": 0,
    "start_time": "2023-10-05T15:02:12.990Z"
   },
   {
    "duration": 0,
    "start_time": "2023-10-05T15:02:12.992Z"
   },
   {
    "duration": 0,
    "start_time": "2023-10-05T15:02:12.994Z"
   },
   {
    "duration": 0,
    "start_time": "2023-10-05T15:02:12.995Z"
   },
   {
    "duration": 0,
    "start_time": "2023-10-05T15:02:12.996Z"
   },
   {
    "duration": 0,
    "start_time": "2023-10-05T15:02:12.997Z"
   },
   {
    "duration": 0,
    "start_time": "2023-10-05T15:02:12.998Z"
   },
   {
    "duration": 0,
    "start_time": "2023-10-05T15:02:13.000Z"
   },
   {
    "duration": 0,
    "start_time": "2023-10-05T15:02:13.001Z"
   },
   {
    "duration": 0,
    "start_time": "2023-10-05T15:02:13.002Z"
   },
   {
    "duration": 0,
    "start_time": "2023-10-05T15:02:13.003Z"
   },
   {
    "duration": 0,
    "start_time": "2023-10-05T15:02:13.004Z"
   },
   {
    "duration": 0,
    "start_time": "2023-10-05T15:02:13.005Z"
   },
   {
    "duration": 0,
    "start_time": "2023-10-05T15:02:13.007Z"
   },
   {
    "duration": 0,
    "start_time": "2023-10-05T15:02:13.008Z"
   },
   {
    "duration": 0,
    "start_time": "2023-10-05T15:02:13.009Z"
   },
   {
    "duration": 0,
    "start_time": "2023-10-05T15:02:13.010Z"
   },
   {
    "duration": 0,
    "start_time": "2023-10-05T15:02:13.011Z"
   },
   {
    "duration": 0,
    "start_time": "2023-10-05T15:02:13.012Z"
   },
   {
    "duration": 0,
    "start_time": "2023-10-05T15:02:13.013Z"
   },
   {
    "duration": 0,
    "start_time": "2023-10-05T15:02:13.015Z"
   },
   {
    "duration": 0,
    "start_time": "2023-10-05T15:02:13.016Z"
   },
   {
    "duration": 1,
    "start_time": "2023-10-05T15:02:13.056Z"
   },
   {
    "duration": 0,
    "start_time": "2023-10-05T15:02:13.071Z"
   },
   {
    "duration": 0,
    "start_time": "2023-10-05T15:02:13.076Z"
   },
   {
    "duration": 0,
    "start_time": "2023-10-05T15:02:13.079Z"
   },
   {
    "duration": 0,
    "start_time": "2023-10-05T15:02:13.080Z"
   },
   {
    "duration": 0,
    "start_time": "2023-10-05T15:02:13.081Z"
   },
   {
    "duration": 4398,
    "start_time": "2023-10-05T15:02:53.791Z"
   },
   {
    "duration": 10384,
    "start_time": "2023-10-05T15:03:44.551Z"
   },
   {
    "duration": 27,
    "start_time": "2023-10-05T15:04:10.768Z"
   },
   {
    "duration": 4719,
    "start_time": "2023-10-05T15:04:32.725Z"
   },
   {
    "duration": 3601,
    "start_time": "2023-10-05T15:07:07.568Z"
   },
   {
    "duration": 245,
    "start_time": "2023-10-05T15:07:33.186Z"
   },
   {
    "duration": 2879,
    "start_time": "2023-10-05T15:09:16.123Z"
   },
   {
    "duration": 1705,
    "start_time": "2023-10-05T15:09:19.006Z"
   },
   {
    "duration": 1103,
    "start_time": "2023-10-05T15:09:20.713Z"
   },
   {
    "duration": 1116,
    "start_time": "2023-10-05T15:09:21.818Z"
   },
   {
    "duration": 86,
    "start_time": "2023-10-05T15:09:22.937Z"
   },
   {
    "duration": 642,
    "start_time": "2023-10-05T15:09:23.025Z"
   },
   {
    "duration": 52,
    "start_time": "2023-10-05T15:09:23.670Z"
   },
   {
    "duration": 88,
    "start_time": "2023-10-05T15:09:23.724Z"
   },
   {
    "duration": 50,
    "start_time": "2023-10-05T15:09:23.815Z"
   },
   {
    "duration": 276,
    "start_time": "2023-10-05T15:09:23.867Z"
   },
   {
    "duration": 261,
    "start_time": "2023-10-05T15:09:24.145Z"
   },
   {
    "duration": 344,
    "start_time": "2023-10-05T15:09:24.408Z"
   },
   {
    "duration": 234,
    "start_time": "2023-10-05T15:09:24.755Z"
   },
   {
    "duration": 310,
    "start_time": "2023-10-05T15:09:24.994Z"
   },
   {
    "duration": 225,
    "start_time": "2023-10-05T15:09:25.306Z"
   },
   {
    "duration": 132,
    "start_time": "2023-10-05T15:09:25.532Z"
   },
   {
    "duration": 98,
    "start_time": "2023-10-05T15:09:25.667Z"
   },
   {
    "duration": 13,
    "start_time": "2023-10-05T15:09:25.778Z"
   },
   {
    "duration": 178,
    "start_time": "2023-10-05T15:09:25.793Z"
   },
   {
    "duration": 31,
    "start_time": "2023-10-05T15:09:25.973Z"
   },
   {
    "duration": 174,
    "start_time": "2023-10-05T15:09:26.006Z"
   },
   {
    "duration": 10,
    "start_time": "2023-10-05T15:09:26.183Z"
   },
   {
    "duration": 226,
    "start_time": "2023-10-05T15:09:26.195Z"
   },
   {
    "duration": 153,
    "start_time": "2023-10-05T15:09:26.423Z"
   },
   {
    "duration": 23,
    "start_time": "2023-10-05T15:09:26.579Z"
   },
   {
    "duration": 129,
    "start_time": "2023-10-05T15:09:26.603Z"
   },
   {
    "duration": 3,
    "start_time": "2023-10-05T15:09:26.734Z"
   },
   {
    "duration": 1239,
    "start_time": "2023-10-05T15:09:26.739Z"
   },
   {
    "duration": 7,
    "start_time": "2023-10-05T15:09:27.984Z"
   },
   {
    "duration": 64,
    "start_time": "2023-10-05T15:09:27.994Z"
   },
   {
    "duration": 19,
    "start_time": "2023-10-05T15:09:28.063Z"
   },
   {
    "duration": 67,
    "start_time": "2023-10-05T15:09:28.085Z"
   },
   {
    "duration": 155,
    "start_time": "2023-10-05T15:09:28.154Z"
   },
   {
    "duration": 6,
    "start_time": "2023-10-05T15:09:28.311Z"
   },
   {
    "duration": 205,
    "start_time": "2023-10-05T15:09:28.319Z"
   },
   {
    "duration": 0,
    "start_time": "2023-10-05T15:09:28.526Z"
   },
   {
    "duration": 0,
    "start_time": "2023-10-05T15:09:28.528Z"
   },
   {
    "duration": 0,
    "start_time": "2023-10-05T15:09:28.529Z"
   },
   {
    "duration": 114,
    "start_time": "2023-10-05T15:10:18.292Z"
   },
   {
    "duration": 118,
    "start_time": "2023-10-05T15:10:22.481Z"
   },
   {
    "duration": 58,
    "start_time": "2023-10-05T15:12:13.200Z"
   },
   {
    "duration": 28,
    "start_time": "2023-10-05T15:13:09.855Z"
   },
   {
    "duration": 121,
    "start_time": "2023-10-05T15:13:10.877Z"
   },
   {
    "duration": 3,
    "start_time": "2023-10-05T15:13:13.082Z"
   },
   {
    "duration": 1095,
    "start_time": "2023-10-05T15:13:14.288Z"
   },
   {
    "duration": 60,
    "start_time": "2023-10-05T15:13:42.749Z"
   },
   {
    "duration": 46,
    "start_time": "2023-10-05T15:14:00.355Z"
   },
   {
    "duration": 8,
    "start_time": "2023-10-05T15:14:20.674Z"
   },
   {
    "duration": 32,
    "start_time": "2023-10-05T15:14:23.384Z"
   },
   {
    "duration": 2934,
    "start_time": "2023-10-05T15:14:57.289Z"
   },
   {
    "duration": 1618,
    "start_time": "2023-10-05T15:15:00.225Z"
   },
   {
    "duration": 1168,
    "start_time": "2023-10-05T15:15:01.845Z"
   },
   {
    "duration": 1184,
    "start_time": "2023-10-05T15:15:03.015Z"
   },
   {
    "duration": 95,
    "start_time": "2023-10-05T15:15:04.201Z"
   },
   {
    "duration": 677,
    "start_time": "2023-10-05T15:15:04.298Z"
   },
   {
    "duration": 44,
    "start_time": "2023-10-05T15:15:04.977Z"
   },
   {
    "duration": 103,
    "start_time": "2023-10-05T15:15:05.023Z"
   },
   {
    "duration": 36,
    "start_time": "2023-10-05T15:15:05.128Z"
   },
   {
    "duration": 280,
    "start_time": "2023-10-05T15:15:05.166Z"
   },
   {
    "duration": 253,
    "start_time": "2023-10-05T15:15:05.448Z"
   },
   {
    "duration": 342,
    "start_time": "2023-10-05T15:15:05.703Z"
   },
   {
    "duration": 257,
    "start_time": "2023-10-05T15:15:06.047Z"
   },
   {
    "duration": 307,
    "start_time": "2023-10-05T15:15:06.308Z"
   },
   {
    "duration": 214,
    "start_time": "2023-10-05T15:15:06.617Z"
   },
   {
    "duration": 140,
    "start_time": "2023-10-05T15:15:06.834Z"
   },
   {
    "duration": 102,
    "start_time": "2023-10-05T15:15:06.983Z"
   },
   {
    "duration": 13,
    "start_time": "2023-10-05T15:15:07.091Z"
   },
   {
    "duration": 206,
    "start_time": "2023-10-05T15:15:07.106Z"
   },
   {
    "duration": 53,
    "start_time": "2023-10-05T15:15:07.314Z"
   },
   {
    "duration": 146,
    "start_time": "2023-10-05T15:15:07.378Z"
   },
   {
    "duration": 9,
    "start_time": "2023-10-05T15:15:07.526Z"
   },
   {
    "duration": 247,
    "start_time": "2023-10-05T15:15:07.538Z"
   },
   {
    "duration": 147,
    "start_time": "2023-10-05T15:15:07.787Z"
   },
   {
    "duration": 44,
    "start_time": "2023-10-05T15:15:07.936Z"
   },
   {
    "duration": 139,
    "start_time": "2023-10-05T15:15:07.983Z"
   },
   {
    "duration": 3,
    "start_time": "2023-10-05T15:15:08.124Z"
   },
   {
    "duration": 1377,
    "start_time": "2023-10-05T15:15:08.129Z"
   },
   {
    "duration": 70,
    "start_time": "2023-10-05T15:15:09.508Z"
   },
   {
    "duration": 45,
    "start_time": "2023-10-05T15:15:09.580Z"
   },
   {
    "duration": 8,
    "start_time": "2023-10-05T15:15:09.627Z"
   },
   {
    "duration": 173,
    "start_time": "2023-10-05T15:15:09.662Z"
   },
   {
    "duration": 0,
    "start_time": "2023-10-05T15:15:09.838Z"
   },
   {
    "duration": 0,
    "start_time": "2023-10-05T15:15:09.839Z"
   },
   {
    "duration": 0,
    "start_time": "2023-10-05T15:15:09.840Z"
   },
   {
    "duration": 2319,
    "start_time": "2023-10-05T15:16:05.141Z"
   },
   {
    "duration": 408929,
    "start_time": "2023-10-05T15:16:12.250Z"
   },
   {
    "duration": 0,
    "start_time": "2023-10-05T15:23:01.183Z"
   },
   {
    "duration": 0,
    "start_time": "2023-10-05T15:23:01.185Z"
   },
   {
    "duration": 2609,
    "start_time": "2023-10-05T15:24:05.872Z"
   },
   {
    "duration": 1628,
    "start_time": "2023-10-05T15:24:08.483Z"
   },
   {
    "duration": 1092,
    "start_time": "2023-10-05T15:24:10.113Z"
   },
   {
    "duration": 1167,
    "start_time": "2023-10-05T15:24:11.207Z"
   },
   {
    "duration": 82,
    "start_time": "2023-10-05T15:24:12.377Z"
   },
   {
    "duration": 651,
    "start_time": "2023-10-05T15:24:12.461Z"
   },
   {
    "duration": 54,
    "start_time": "2023-10-05T15:24:13.114Z"
   },
   {
    "duration": 50,
    "start_time": "2023-10-05T15:24:13.171Z"
   },
   {
    "duration": 49,
    "start_time": "2023-10-05T15:24:13.222Z"
   },
   {
    "duration": 254,
    "start_time": "2023-10-05T15:24:13.274Z"
   },
   {
    "duration": 256,
    "start_time": "2023-10-05T15:24:13.530Z"
   },
   {
    "duration": 323,
    "start_time": "2023-10-05T15:24:13.788Z"
   },
   {
    "duration": 212,
    "start_time": "2023-10-05T15:24:14.113Z"
   },
   {
    "duration": 290,
    "start_time": "2023-10-05T15:24:14.329Z"
   },
   {
    "duration": 212,
    "start_time": "2023-10-05T15:24:14.621Z"
   },
   {
    "duration": 115,
    "start_time": "2023-10-05T15:24:14.835Z"
   },
   {
    "duration": 86,
    "start_time": "2023-10-05T15:24:14.957Z"
   },
   {
    "duration": 21,
    "start_time": "2023-10-05T15:24:15.045Z"
   },
   {
    "duration": 161,
    "start_time": "2023-10-05T15:24:15.069Z"
   },
   {
    "duration": 45,
    "start_time": "2023-10-05T15:24:15.232Z"
   },
   {
    "duration": 144,
    "start_time": "2023-10-05T15:24:15.280Z"
   },
   {
    "duration": 8,
    "start_time": "2023-10-05T15:24:15.426Z"
   },
   {
    "duration": 236,
    "start_time": "2023-10-05T15:24:15.436Z"
   },
   {
    "duration": 126,
    "start_time": "2023-10-05T15:24:15.674Z"
   },
   {
    "duration": 18,
    "start_time": "2023-10-05T15:24:15.801Z"
   },
   {
    "duration": 140,
    "start_time": "2023-10-05T15:24:15.821Z"
   },
   {
    "duration": 5,
    "start_time": "2023-10-05T15:24:15.964Z"
   },
   {
    "duration": 1058,
    "start_time": "2023-10-05T15:24:15.972Z"
   },
   {
    "duration": 24,
    "start_time": "2023-10-05T15:24:17.032Z"
   },
   {
    "duration": 54,
    "start_time": "2023-10-05T15:24:17.059Z"
   },
   {
    "duration": 72,
    "start_time": "2023-10-05T15:24:17.115Z"
   },
   {
    "duration": 7,
    "start_time": "2023-10-05T15:24:17.189Z"
   },
   {
    "duration": 2274,
    "start_time": "2023-10-05T15:24:17.197Z"
   },
   {
    "duration": 2673,
    "start_time": "2023-10-05T15:26:02.559Z"
   },
   {
    "duration": 1602,
    "start_time": "2023-10-05T15:26:05.235Z"
   },
   {
    "duration": 1057,
    "start_time": "2023-10-05T15:26:06.839Z"
   },
   {
    "duration": 1240,
    "start_time": "2023-10-05T15:26:07.899Z"
   },
   {
    "duration": 91,
    "start_time": "2023-10-05T15:26:09.141Z"
   },
   {
    "duration": 545,
    "start_time": "2023-10-05T15:26:09.234Z"
   },
   {
    "duration": 43,
    "start_time": "2023-10-05T15:26:09.780Z"
   },
   {
    "duration": 88,
    "start_time": "2023-10-05T15:26:09.825Z"
   },
   {
    "duration": 43,
    "start_time": "2023-10-05T15:26:09.915Z"
   },
   {
    "duration": 258,
    "start_time": "2023-10-05T15:26:09.963Z"
   },
   {
    "duration": 244,
    "start_time": "2023-10-05T15:26:10.223Z"
   },
   {
    "duration": 322,
    "start_time": "2023-10-05T15:26:10.470Z"
   },
   {
    "duration": 225,
    "start_time": "2023-10-05T15:26:10.794Z"
   },
   {
    "duration": 279,
    "start_time": "2023-10-05T15:26:11.021Z"
   },
   {
    "duration": 208,
    "start_time": "2023-10-05T15:26:11.302Z"
   },
   {
    "duration": 116,
    "start_time": "2023-10-05T15:26:11.512Z"
   },
   {
    "duration": 85,
    "start_time": "2023-10-05T15:26:11.630Z"
   },
   {
    "duration": 10,
    "start_time": "2023-10-05T15:26:11.717Z"
   },
   {
    "duration": 165,
    "start_time": "2023-10-05T15:26:11.729Z"
   },
   {
    "duration": 31,
    "start_time": "2023-10-05T15:26:11.896Z"
   },
   {
    "duration": 157,
    "start_time": "2023-10-05T15:26:11.929Z"
   },
   {
    "duration": 8,
    "start_time": "2023-10-05T15:26:12.087Z"
   },
   {
    "duration": 228,
    "start_time": "2023-10-05T15:26:12.097Z"
   },
   {
    "duration": 147,
    "start_time": "2023-10-05T15:26:12.327Z"
   },
   {
    "duration": 18,
    "start_time": "2023-10-05T15:26:12.476Z"
   },
   {
    "duration": 140,
    "start_time": "2023-10-05T15:26:12.496Z"
   },
   {
    "duration": 3,
    "start_time": "2023-10-05T15:26:12.638Z"
   },
   {
    "duration": 1150,
    "start_time": "2023-10-05T15:26:12.657Z"
   },
   {
    "duration": 6,
    "start_time": "2023-10-05T15:26:13.809Z"
   },
   {
    "duration": 69,
    "start_time": "2023-10-05T15:26:13.817Z"
   },
   {
    "duration": 46,
    "start_time": "2023-10-05T15:26:13.888Z"
   },
   {
    "duration": 32,
    "start_time": "2023-10-05T15:26:13.936Z"
   },
   {
    "duration": 2288,
    "start_time": "2023-10-05T15:26:13.970Z"
   },
   {
    "duration": 56491,
    "start_time": "2023-10-05T15:26:16.261Z"
   },
   {
    "duration": 2731,
    "start_time": "2023-10-05T15:55:16.686Z"
   },
   {
    "duration": 1742,
    "start_time": "2023-10-05T15:55:19.420Z"
   },
   {
    "duration": 1120,
    "start_time": "2023-10-05T15:55:21.165Z"
   },
   {
    "duration": 1324,
    "start_time": "2023-10-05T15:55:22.287Z"
   },
   {
    "duration": 85,
    "start_time": "2023-10-05T15:55:23.614Z"
   },
   {
    "duration": 601,
    "start_time": "2023-10-05T15:55:23.701Z"
   },
   {
    "duration": 53,
    "start_time": "2023-10-05T15:55:24.304Z"
   },
   {
    "duration": 67,
    "start_time": "2023-10-05T15:55:24.359Z"
   },
   {
    "duration": 54,
    "start_time": "2023-10-05T15:55:24.427Z"
   },
   {
    "duration": 254,
    "start_time": "2023-10-05T15:55:24.482Z"
   },
   {
    "duration": 248,
    "start_time": "2023-10-05T15:55:24.738Z"
   },
   {
    "duration": 369,
    "start_time": "2023-10-05T15:55:24.988Z"
   },
   {
    "duration": 262,
    "start_time": "2023-10-05T15:55:25.359Z"
   },
   {
    "duration": 313,
    "start_time": "2023-10-05T15:55:25.625Z"
   },
   {
    "duration": 210,
    "start_time": "2023-10-05T15:55:25.940Z"
   },
   {
    "duration": 137,
    "start_time": "2023-10-05T15:55:26.156Z"
   },
   {
    "duration": 94,
    "start_time": "2023-10-05T15:55:26.294Z"
   },
   {
    "duration": 7,
    "start_time": "2023-10-05T15:55:26.391Z"
   },
   {
    "duration": 166,
    "start_time": "2023-10-05T15:55:26.400Z"
   },
   {
    "duration": 37,
    "start_time": "2023-10-05T15:55:26.568Z"
   },
   {
    "duration": 151,
    "start_time": "2023-10-05T15:55:26.606Z"
   },
   {
    "duration": 12,
    "start_time": "2023-10-05T15:55:26.759Z"
   },
   {
    "duration": 244,
    "start_time": "2023-10-05T15:55:26.773Z"
   },
   {
    "duration": 138,
    "start_time": "2023-10-05T15:55:27.019Z"
   },
   {
    "duration": 20,
    "start_time": "2023-10-05T15:55:27.159Z"
   },
   {
    "duration": 144,
    "start_time": "2023-10-05T15:55:27.180Z"
   },
   {
    "duration": 3,
    "start_time": "2023-10-05T15:55:27.326Z"
   },
   {
    "duration": 1133,
    "start_time": "2023-10-05T15:55:27.331Z"
   },
   {
    "duration": 8,
    "start_time": "2023-10-05T15:55:28.468Z"
   },
   {
    "duration": 104,
    "start_time": "2023-10-05T15:55:28.478Z"
   },
   {
    "duration": 44,
    "start_time": "2023-10-05T15:55:28.583Z"
   },
   {
    "duration": 43,
    "start_time": "2023-10-05T15:55:28.628Z"
   },
   {
    "duration": 2591,
    "start_time": "2023-10-05T15:55:28.674Z"
   },
   {
    "duration": 83459,
    "start_time": "2023-10-05T15:55:31.267Z"
   },
   {
    "duration": 2772,
    "start_time": "2023-10-05T16:50:43.225Z"
   },
   {
    "duration": 1629,
    "start_time": "2023-10-05T16:50:46.000Z"
   },
   {
    "duration": 1201,
    "start_time": "2023-10-05T16:50:47.631Z"
   },
   {
    "duration": 1311,
    "start_time": "2023-10-05T16:50:48.834Z"
   },
   {
    "duration": 77,
    "start_time": "2023-10-05T16:50:50.146Z"
   },
   {
    "duration": 641,
    "start_time": "2023-10-05T16:50:50.224Z"
   },
   {
    "duration": 47,
    "start_time": "2023-10-05T16:50:50.868Z"
   },
   {
    "duration": 109,
    "start_time": "2023-10-05T16:50:50.918Z"
   },
   {
    "duration": 38,
    "start_time": "2023-10-05T16:50:51.029Z"
   },
   {
    "duration": 251,
    "start_time": "2023-10-05T16:50:51.079Z"
   },
   {
    "duration": 250,
    "start_time": "2023-10-05T16:50:51.332Z"
   },
   {
    "duration": 337,
    "start_time": "2023-10-05T16:50:51.584Z"
   },
   {
    "duration": 222,
    "start_time": "2023-10-05T16:50:51.922Z"
   },
   {
    "duration": 292,
    "start_time": "2023-10-05T16:50:52.146Z"
   },
   {
    "duration": 227,
    "start_time": "2023-10-05T16:50:52.441Z"
   },
   {
    "duration": 113,
    "start_time": "2023-10-05T16:50:52.670Z"
   },
   {
    "duration": 119,
    "start_time": "2023-10-05T16:50:52.784Z"
   },
   {
    "duration": 7,
    "start_time": "2023-10-05T16:50:52.905Z"
   },
   {
    "duration": 171,
    "start_time": "2023-10-05T16:50:52.914Z"
   },
   {
    "duration": 35,
    "start_time": "2023-10-05T16:50:53.087Z"
   },
   {
    "duration": 166,
    "start_time": "2023-10-05T16:50:53.124Z"
   },
   {
    "duration": 7,
    "start_time": "2023-10-05T16:50:53.292Z"
   },
   {
    "duration": 246,
    "start_time": "2023-10-05T16:50:53.300Z"
   },
   {
    "duration": 172,
    "start_time": "2023-10-05T16:50:53.548Z"
   },
   {
    "duration": 20,
    "start_time": "2023-10-05T16:50:53.722Z"
   },
   {
    "duration": 158,
    "start_time": "2023-10-05T16:50:53.744Z"
   },
   {
    "duration": 3,
    "start_time": "2023-10-05T16:50:53.904Z"
   },
   {
    "duration": 1315,
    "start_time": "2023-10-05T16:50:53.910Z"
   },
   {
    "duration": 32,
    "start_time": "2023-10-05T16:50:55.227Z"
   },
   {
    "duration": 66,
    "start_time": "2023-10-05T16:50:55.261Z"
   },
   {
    "duration": 64,
    "start_time": "2023-10-05T16:50:55.329Z"
   },
   {
    "duration": 8,
    "start_time": "2023-10-05T16:50:55.395Z"
   },
   {
    "duration": 2272,
    "start_time": "2023-10-05T16:50:55.405Z"
   },
   {
    "duration": 88559,
    "start_time": "2023-10-05T16:50:57.763Z"
   },
   {
    "duration": 2640,
    "start_time": "2023-10-05T16:53:04.439Z"
   },
   {
    "duration": 1585,
    "start_time": "2023-10-05T16:53:07.082Z"
   },
   {
    "duration": 1238,
    "start_time": "2023-10-05T16:53:08.669Z"
   },
   {
    "duration": 1442,
    "start_time": "2023-10-05T16:53:09.909Z"
   },
   {
    "duration": 82,
    "start_time": "2023-10-05T16:53:11.358Z"
   },
   {
    "duration": 679,
    "start_time": "2023-10-05T16:53:11.442Z"
   },
   {
    "duration": 59,
    "start_time": "2023-10-05T16:53:12.122Z"
   },
   {
    "duration": 57,
    "start_time": "2023-10-05T16:53:12.187Z"
   },
   {
    "duration": 39,
    "start_time": "2023-10-05T16:53:12.246Z"
   },
   {
    "duration": 248,
    "start_time": "2023-10-05T16:53:12.289Z"
   },
   {
    "duration": 254,
    "start_time": "2023-10-05T16:53:12.539Z"
   },
   {
    "duration": 349,
    "start_time": "2023-10-05T16:53:12.795Z"
   },
   {
    "duration": 244,
    "start_time": "2023-10-05T16:53:13.146Z"
   },
   {
    "duration": 296,
    "start_time": "2023-10-05T16:53:13.394Z"
   },
   {
    "duration": 232,
    "start_time": "2023-10-05T16:53:13.692Z"
   },
   {
    "duration": 138,
    "start_time": "2023-10-05T16:53:13.926Z"
   },
   {
    "duration": 107,
    "start_time": "2023-10-05T16:53:14.066Z"
   },
   {
    "duration": 11,
    "start_time": "2023-10-05T16:53:14.179Z"
   },
   {
    "duration": 183,
    "start_time": "2023-10-05T16:53:14.192Z"
   },
   {
    "duration": 34,
    "start_time": "2023-10-05T16:53:14.380Z"
   },
   {
    "duration": 132,
    "start_time": "2023-10-05T16:53:14.416Z"
   },
   {
    "duration": 33,
    "start_time": "2023-10-05T16:53:14.550Z"
   },
   {
    "duration": 217,
    "start_time": "2023-10-05T16:53:14.586Z"
   },
   {
    "duration": 172,
    "start_time": "2023-10-05T16:53:14.805Z"
   },
   {
    "duration": 20,
    "start_time": "2023-10-05T16:53:14.983Z"
   },
   {
    "duration": 191,
    "start_time": "2023-10-05T16:53:15.005Z"
   },
   {
    "duration": 3,
    "start_time": "2023-10-05T16:53:15.198Z"
   },
   {
    "duration": 1146,
    "start_time": "2023-10-05T16:53:15.202Z"
   },
   {
    "duration": 27,
    "start_time": "2023-10-05T16:53:16.359Z"
   },
   {
    "duration": 47,
    "start_time": "2023-10-05T16:53:16.390Z"
   },
   {
    "duration": 57,
    "start_time": "2023-10-05T16:53:16.439Z"
   },
   {
    "duration": 7,
    "start_time": "2023-10-05T16:53:16.499Z"
   },
   {
    "duration": 2460,
    "start_time": "2023-10-05T16:53:16.509Z"
   },
   {
    "duration": 86298,
    "start_time": "2023-10-05T16:53:18.972Z"
   },
   {
    "duration": 3427,
    "start_time": "2023-10-06T00:07:38.569Z"
   },
   {
    "duration": 1904,
    "start_time": "2023-10-06T00:07:41.998Z"
   },
   {
    "duration": 1415,
    "start_time": "2023-10-06T00:07:43.903Z"
   },
   {
    "duration": 1004,
    "start_time": "2023-10-06T00:07:45.321Z"
   },
   {
    "duration": 77,
    "start_time": "2023-10-06T00:07:46.326Z"
   },
   {
    "duration": 570,
    "start_time": "2023-10-06T00:07:46.405Z"
   },
   {
    "duration": 44,
    "start_time": "2023-10-06T00:07:46.976Z"
   },
   {
    "duration": 53,
    "start_time": "2023-10-06T00:07:47.021Z"
   },
   {
    "duration": 51,
    "start_time": "2023-10-06T00:07:47.076Z"
   },
   {
    "duration": 335,
    "start_time": "2023-10-06T00:07:47.130Z"
   },
   {
    "duration": 223,
    "start_time": "2023-10-06T00:07:47.467Z"
   },
   {
    "duration": 295,
    "start_time": "2023-10-06T00:07:47.692Z"
   },
   {
    "duration": 205,
    "start_time": "2023-10-06T00:07:47.988Z"
   },
   {
    "duration": 176,
    "start_time": "2023-10-06T00:07:48.202Z"
   },
   {
    "duration": 231,
    "start_time": "2023-10-06T00:07:48.380Z"
   },
   {
    "duration": 119,
    "start_time": "2023-10-06T00:07:48.612Z"
   },
   {
    "duration": 182,
    "start_time": "2023-10-06T00:07:48.733Z"
   },
   {
    "duration": 7,
    "start_time": "2023-10-06T00:07:48.917Z"
   },
   {
    "duration": 158,
    "start_time": "2023-10-06T00:07:48.926Z"
   },
   {
    "duration": 32,
    "start_time": "2023-10-06T00:07:49.086Z"
   },
   {
    "duration": 151,
    "start_time": "2023-10-06T00:07:49.120Z"
   },
   {
    "duration": 8,
    "start_time": "2023-10-06T00:07:49.274Z"
   },
   {
    "duration": 262,
    "start_time": "2023-10-06T00:07:49.284Z"
   },
   {
    "duration": 135,
    "start_time": "2023-10-06T00:07:49.548Z"
   },
   {
    "duration": 316,
    "start_time": "2023-10-06T00:07:49.685Z"
   },
   {
    "duration": 155,
    "start_time": "2023-10-06T00:07:50.003Z"
   },
   {
    "duration": 3,
    "start_time": "2023-10-06T00:07:50.160Z"
   },
   {
    "duration": 1055,
    "start_time": "2023-10-06T00:07:50.166Z"
   },
   {
    "duration": 6,
    "start_time": "2023-10-06T00:07:51.222Z"
   },
   {
    "duration": 79,
    "start_time": "2023-10-06T00:07:51.230Z"
   },
   {
    "duration": 41,
    "start_time": "2023-10-06T00:07:51.311Z"
   },
   {
    "duration": 12,
    "start_time": "2023-10-06T00:07:51.354Z"
   },
   {
    "duration": 2335,
    "start_time": "2023-10-06T00:07:51.368Z"
   },
   {
    "duration": 73381,
    "start_time": "2023-10-06T00:07:53.705Z"
   },
   {
    "duration": 2539,
    "start_time": "2023-10-06T00:43:13.778Z"
   },
   {
    "duration": 1590,
    "start_time": "2023-10-06T00:43:16.319Z"
   },
   {
    "duration": 1008,
    "start_time": "2023-10-06T00:43:17.910Z"
   },
   {
    "duration": 899,
    "start_time": "2023-10-06T00:43:18.920Z"
   },
   {
    "duration": 57,
    "start_time": "2023-10-06T00:43:19.821Z"
   },
   {
    "duration": 758,
    "start_time": "2023-10-06T00:43:19.880Z"
   },
   {
    "duration": 38,
    "start_time": "2023-10-06T00:43:20.640Z"
   },
   {
    "duration": 209,
    "start_time": "2023-10-06T00:43:20.680Z"
   },
   {
    "duration": 49,
    "start_time": "2023-10-06T00:43:20.891Z"
   },
   {
    "duration": 256,
    "start_time": "2023-10-06T00:43:20.942Z"
   },
   {
    "duration": 308,
    "start_time": "2023-10-06T00:43:21.200Z"
   },
   {
    "duration": 283,
    "start_time": "2023-10-06T00:43:21.510Z"
   },
   {
    "duration": 207,
    "start_time": "2023-10-06T00:43:21.795Z"
   },
   {
    "duration": 176,
    "start_time": "2023-10-06T00:43:22.006Z"
   },
   {
    "duration": 187,
    "start_time": "2023-10-06T00:43:22.184Z"
   },
   {
    "duration": 104,
    "start_time": "2023-10-06T00:43:22.373Z"
   },
   {
    "duration": 81,
    "start_time": "2023-10-06T00:43:22.479Z"
   },
   {
    "duration": 9,
    "start_time": "2023-10-06T00:43:22.562Z"
   },
   {
    "duration": 151,
    "start_time": "2023-10-06T00:43:22.573Z"
   },
   {
    "duration": 35,
    "start_time": "2023-10-06T00:43:22.726Z"
   },
   {
    "duration": 140,
    "start_time": "2023-10-06T00:43:22.763Z"
   },
   {
    "duration": 9,
    "start_time": "2023-10-06T00:43:22.905Z"
   },
   {
    "duration": 199,
    "start_time": "2023-10-06T00:43:22.916Z"
   },
   {
    "duration": 124,
    "start_time": "2023-10-06T00:43:23.117Z"
   },
   {
    "duration": 17,
    "start_time": "2023-10-06T00:43:23.243Z"
   },
   {
    "duration": 134,
    "start_time": "2023-10-06T00:43:23.262Z"
   },
   {
    "duration": 3,
    "start_time": "2023-10-06T00:43:23.401Z"
   },
   {
    "duration": 1046,
    "start_time": "2023-10-06T00:43:23.406Z"
   },
   {
    "duration": 6,
    "start_time": "2023-10-06T00:43:24.454Z"
   },
   {
    "duration": 66,
    "start_time": "2023-10-06T00:43:24.462Z"
   },
   {
    "duration": 55,
    "start_time": "2023-10-06T00:43:24.530Z"
   },
   {
    "duration": 22,
    "start_time": "2023-10-06T00:43:24.586Z"
   },
   {
    "duration": 2395,
    "start_time": "2023-10-06T00:43:24.610Z"
   },
   {
    "duration": 72459,
    "start_time": "2023-10-06T00:43:27.008Z"
   },
   {
    "duration": 2720,
    "start_time": "2023-10-06T01:27:10.265Z"
   },
   {
    "duration": 1855,
    "start_time": "2023-10-06T01:27:12.989Z"
   },
   {
    "duration": 1088,
    "start_time": "2023-10-06T01:27:14.846Z"
   },
   {
    "duration": 1218,
    "start_time": "2023-10-06T01:27:15.937Z"
   },
   {
    "duration": 90,
    "start_time": "2023-10-06T01:27:17.157Z"
   },
   {
    "duration": 603,
    "start_time": "2023-10-06T01:27:17.249Z"
   },
   {
    "duration": 81,
    "start_time": "2023-10-06T01:27:17.854Z"
   },
   {
    "duration": 52,
    "start_time": "2023-10-06T01:27:17.938Z"
   },
   {
    "duration": 39,
    "start_time": "2023-10-06T01:27:17.992Z"
   },
   {
    "duration": 423,
    "start_time": "2023-10-06T01:27:18.034Z"
   },
   {
    "duration": 345,
    "start_time": "2023-10-06T01:27:18.459Z"
   },
   {
    "duration": 344,
    "start_time": "2023-10-06T01:27:18.806Z"
   },
   {
    "duration": 231,
    "start_time": "2023-10-06T01:27:19.152Z"
   },
   {
    "duration": 196,
    "start_time": "2023-10-06T01:27:19.385Z"
   },
   {
    "duration": 219,
    "start_time": "2023-10-06T01:27:19.582Z"
   },
   {
    "duration": 128,
    "start_time": "2023-10-06T01:27:19.803Z"
   },
   {
    "duration": 106,
    "start_time": "2023-10-06T01:27:19.934Z"
   },
   {
    "duration": 8,
    "start_time": "2023-10-06T01:27:20.041Z"
   },
   {
    "duration": 232,
    "start_time": "2023-10-06T01:27:20.051Z"
   },
   {
    "duration": 55,
    "start_time": "2023-10-06T01:27:20.284Z"
   },
   {
    "duration": 195,
    "start_time": "2023-10-06T01:27:20.341Z"
   },
   {
    "duration": 8,
    "start_time": "2023-10-06T01:27:20.540Z"
   },
   {
    "duration": 261,
    "start_time": "2023-10-06T01:27:20.549Z"
   },
   {
    "duration": 160,
    "start_time": "2023-10-06T01:27:20.814Z"
   },
   {
    "duration": 35,
    "start_time": "2023-10-06T01:27:20.976Z"
   },
   {
    "duration": 212,
    "start_time": "2023-10-06T01:27:21.015Z"
   },
   {
    "duration": 7,
    "start_time": "2023-10-06T01:27:21.228Z"
   },
   {
    "duration": 1213,
    "start_time": "2023-10-06T01:27:21.239Z"
   },
   {
    "duration": 6,
    "start_time": "2023-10-06T01:27:22.454Z"
   },
   {
    "duration": 137,
    "start_time": "2023-10-06T01:27:22.462Z"
   },
   {
    "duration": 63,
    "start_time": "2023-10-06T01:27:22.601Z"
   },
   {
    "duration": 7,
    "start_time": "2023-10-06T01:27:22.665Z"
   },
   {
    "duration": 2357,
    "start_time": "2023-10-06T01:27:22.674Z"
   },
   {
    "duration": 81617,
    "start_time": "2023-10-06T01:27:25.103Z"
   },
   {
    "duration": 3135,
    "start_time": "2023-10-06T02:13:43.628Z"
   },
   {
    "duration": 1914,
    "start_time": "2023-10-06T02:13:46.765Z"
   },
   {
    "duration": 1170,
    "start_time": "2023-10-06T02:13:48.681Z"
   },
   {
    "duration": 1224,
    "start_time": "2023-10-06T02:13:49.852Z"
   },
   {
    "duration": 91,
    "start_time": "2023-10-06T02:13:51.078Z"
   },
   {
    "duration": 676,
    "start_time": "2023-10-06T02:13:51.172Z"
   },
   {
    "duration": 39,
    "start_time": "2023-10-06T02:13:51.853Z"
   },
   {
    "duration": 137,
    "start_time": "2023-10-06T02:13:51.901Z"
   },
   {
    "duration": 41,
    "start_time": "2023-10-06T02:13:52.040Z"
   },
   {
    "duration": 282,
    "start_time": "2023-10-06T02:13:52.083Z"
   },
   {
    "duration": 356,
    "start_time": "2023-10-06T02:13:52.366Z"
   },
   {
    "duration": 436,
    "start_time": "2023-10-06T02:13:52.728Z"
   },
   {
    "duration": 312,
    "start_time": "2023-10-06T02:13:53.165Z"
   },
   {
    "duration": 216,
    "start_time": "2023-10-06T02:13:53.481Z"
   },
   {
    "duration": 255,
    "start_time": "2023-10-06T02:13:53.701Z"
   },
   {
    "duration": 171,
    "start_time": "2023-10-06T02:13:53.961Z"
   },
   {
    "duration": 127,
    "start_time": "2023-10-06T02:13:54.134Z"
   },
   {
    "duration": 8,
    "start_time": "2023-10-06T02:13:54.265Z"
   },
   {
    "duration": 211,
    "start_time": "2023-10-06T02:13:54.275Z"
   },
   {
    "duration": 44,
    "start_time": "2023-10-06T02:13:54.489Z"
   },
   {
    "duration": 176,
    "start_time": "2023-10-06T02:13:54.535Z"
   },
   {
    "duration": 18,
    "start_time": "2023-10-06T02:13:54.724Z"
   },
   {
    "duration": 287,
    "start_time": "2023-10-06T02:13:54.748Z"
   },
   {
    "duration": 141,
    "start_time": "2023-10-06T02:13:55.042Z"
   },
   {
    "duration": 39,
    "start_time": "2023-10-06T02:13:55.185Z"
   },
   {
    "duration": 130,
    "start_time": "2023-10-06T02:13:55.233Z"
   },
   {
    "duration": 4,
    "start_time": "2023-10-06T02:13:55.365Z"
   },
   {
    "duration": 1270,
    "start_time": "2023-10-06T02:13:55.372Z"
   },
   {
    "duration": 12,
    "start_time": "2023-10-06T02:13:56.644Z"
   },
   {
    "duration": 62,
    "start_time": "2023-10-06T02:13:56.658Z"
   },
   {
    "duration": 47,
    "start_time": "2023-10-06T02:13:56.723Z"
   },
   {
    "duration": 7,
    "start_time": "2023-10-06T02:13:56.771Z"
   },
   {
    "duration": 2271,
    "start_time": "2023-10-06T02:13:56.779Z"
   },
   {
    "duration": 85209,
    "start_time": "2023-10-06T02:13:59.106Z"
   },
   {
    "duration": 3117568,
    "start_time": "2023-10-06T02:15:24.320Z"
   },
   {
    "duration": 0,
    "start_time": "2023-10-06T03:07:21.896Z"
   },
   {
    "duration": 46,
    "start_time": "2023-10-06T03:07:48.464Z"
   },
   {
    "duration": 17,
    "start_time": "2023-10-06T03:11:50.965Z"
   },
   {
    "duration": 2905,
    "start_time": "2023-10-06T03:11:59.138Z"
   },
   {
    "duration": 1905,
    "start_time": "2023-10-06T03:12:02.045Z"
   },
   {
    "duration": 1201,
    "start_time": "2023-10-06T03:12:03.952Z"
   },
   {
    "duration": 1334,
    "start_time": "2023-10-06T03:12:05.154Z"
   },
   {
    "duration": 96,
    "start_time": "2023-10-06T03:12:06.490Z"
   },
   {
    "duration": 1077,
    "start_time": "2023-10-06T03:12:06.588Z"
   },
   {
    "duration": 47,
    "start_time": "2023-10-06T03:12:07.666Z"
   },
   {
    "duration": 70,
    "start_time": "2023-10-06T03:12:07.717Z"
   },
   {
    "duration": 43,
    "start_time": "2023-10-06T03:12:07.789Z"
   },
   {
    "duration": 277,
    "start_time": "2023-10-06T03:12:07.834Z"
   },
   {
    "duration": 345,
    "start_time": "2023-10-06T03:12:08.113Z"
   },
   {
    "duration": 403,
    "start_time": "2023-10-06T03:12:08.459Z"
   },
   {
    "duration": 250,
    "start_time": "2023-10-06T03:12:08.864Z"
   },
   {
    "duration": 225,
    "start_time": "2023-10-06T03:12:09.120Z"
   },
   {
    "duration": 237,
    "start_time": "2023-10-06T03:12:09.347Z"
   },
   {
    "duration": 156,
    "start_time": "2023-10-06T03:12:09.586Z"
   },
   {
    "duration": 91,
    "start_time": "2023-10-06T03:12:09.746Z"
   },
   {
    "duration": 9,
    "start_time": "2023-10-06T03:12:09.847Z"
   },
   {
    "duration": 215,
    "start_time": "2023-10-06T03:12:09.858Z"
   },
   {
    "duration": 62,
    "start_time": "2023-10-06T03:12:10.075Z"
   },
   {
    "duration": 156,
    "start_time": "2023-10-06T03:12:10.139Z"
   },
   {
    "duration": 9,
    "start_time": "2023-10-06T03:12:10.297Z"
   },
   {
    "duration": 272,
    "start_time": "2023-10-06T03:12:10.307Z"
   },
   {
    "duration": 170,
    "start_time": "2023-10-06T03:12:10.581Z"
   },
   {
    "duration": 19,
    "start_time": "2023-10-06T03:12:10.753Z"
   },
   {
    "duration": 164,
    "start_time": "2023-10-06T03:12:10.774Z"
   },
   {
    "duration": 6,
    "start_time": "2023-10-06T03:12:10.940Z"
   },
   {
    "duration": 1274,
    "start_time": "2023-10-06T03:12:10.950Z"
   },
   {
    "duration": 15,
    "start_time": "2023-10-06T03:12:12.225Z"
   },
   {
    "duration": 133,
    "start_time": "2023-10-06T03:12:12.243Z"
   },
   {
    "duration": 53,
    "start_time": "2023-10-06T03:12:12.378Z"
   },
   {
    "duration": 42,
    "start_time": "2023-10-06T03:12:12.433Z"
   },
   {
    "duration": 2360,
    "start_time": "2023-10-06T03:12:12.477Z"
   },
   {
    "duration": 85056,
    "start_time": "2023-10-06T03:12:14.840Z"
   },
   {
    "duration": 1199489,
    "start_time": "2023-10-06T03:13:39.897Z"
   },
   {
    "duration": 2390,
    "start_time": "2023-10-06T04:21:27.971Z"
   },
   {
    "duration": 1685,
    "start_time": "2023-10-06T04:21:30.363Z"
   },
   {
    "duration": 969,
    "start_time": "2023-10-06T04:21:32.050Z"
   },
   {
    "duration": 999,
    "start_time": "2023-10-06T04:21:33.022Z"
   },
   {
    "duration": 79,
    "start_time": "2023-10-06T04:21:34.023Z"
   },
   {
    "duration": 632,
    "start_time": "2023-10-06T04:21:34.104Z"
   },
   {
    "duration": 48,
    "start_time": "2023-10-06T04:21:34.739Z"
   },
   {
    "duration": 186,
    "start_time": "2023-10-06T04:21:34.789Z"
   },
   {
    "duration": 30,
    "start_time": "2023-10-06T04:21:34.976Z"
   },
   {
    "duration": 247,
    "start_time": "2023-10-06T04:21:35.009Z"
   },
   {
    "duration": 294,
    "start_time": "2023-10-06T04:21:35.259Z"
   },
   {
    "duration": 280,
    "start_time": "2023-10-06T04:21:35.555Z"
   },
   {
    "duration": 206,
    "start_time": "2023-10-06T04:21:35.838Z"
   },
   {
    "duration": 183,
    "start_time": "2023-10-06T04:21:36.047Z"
   },
   {
    "duration": 198,
    "start_time": "2023-10-06T04:21:36.233Z"
   },
   {
    "duration": 110,
    "start_time": "2023-10-06T04:21:36.433Z"
   },
   {
    "duration": 90,
    "start_time": "2023-10-06T04:21:36.545Z"
   },
   {
    "duration": 33,
    "start_time": "2023-10-06T04:21:36.637Z"
   },
   {
    "duration": 173,
    "start_time": "2023-10-06T04:21:36.672Z"
   },
   {
    "duration": 27,
    "start_time": "2023-10-06T04:21:36.846Z"
   },
   {
    "duration": 147,
    "start_time": "2023-10-06T04:21:36.875Z"
   },
   {
    "duration": 7,
    "start_time": "2023-10-06T04:21:37.024Z"
   },
   {
    "duration": 206,
    "start_time": "2023-10-06T04:21:37.033Z"
   },
   {
    "duration": 131,
    "start_time": "2023-10-06T04:21:37.241Z"
   },
   {
    "duration": 28,
    "start_time": "2023-10-06T04:21:37.374Z"
   },
   {
    "duration": 123,
    "start_time": "2023-10-06T04:21:37.405Z"
   },
   {
    "duration": 3,
    "start_time": "2023-10-06T04:21:37.529Z"
   },
   {
    "duration": 1031,
    "start_time": "2023-10-06T04:21:37.535Z"
   },
   {
    "duration": 8,
    "start_time": "2023-10-06T04:21:38.568Z"
   },
   {
    "duration": 91,
    "start_time": "2023-10-06T04:21:38.578Z"
   },
   {
    "duration": 47,
    "start_time": "2023-10-06T04:21:38.671Z"
   },
   {
    "duration": 9,
    "start_time": "2023-10-06T04:21:38.721Z"
   },
   {
    "duration": 2276,
    "start_time": "2023-10-06T04:21:38.732Z"
   },
   {
    "duration": 73502,
    "start_time": "2023-10-06T04:21:41.010Z"
   },
   {
    "duration": 92300,
    "start_time": "2023-10-06T04:22:54.513Z"
   },
   {
    "duration": 1249223,
    "start_time": "2023-10-06T04:24:26.814Z"
   },
   {
    "duration": 0,
    "start_time": "2023-10-06T04:45:16.038Z"
   },
   {
    "duration": 520962,
    "start_time": "2023-10-06T04:49:06.749Z"
   },
   {
    "duration": 2629,
    "start_time": "2023-10-06T05:00:29.627Z"
   },
   {
    "duration": 1759,
    "start_time": "2023-10-06T05:00:32.260Z"
   },
   {
    "duration": 1111,
    "start_time": "2023-10-06T05:00:34.021Z"
   },
   {
    "duration": 1121,
    "start_time": "2023-10-06T05:00:35.136Z"
   },
   {
    "duration": 79,
    "start_time": "2023-10-06T05:00:36.259Z"
   },
   {
    "duration": 654,
    "start_time": "2023-10-06T05:00:36.340Z"
   },
   {
    "duration": 45,
    "start_time": "2023-10-06T05:00:37.002Z"
   },
   {
    "duration": 83,
    "start_time": "2023-10-06T05:00:37.048Z"
   },
   {
    "duration": 42,
    "start_time": "2023-10-06T05:00:37.133Z"
   },
   {
    "duration": 280,
    "start_time": "2023-10-06T05:00:37.177Z"
   },
   {
    "duration": 326,
    "start_time": "2023-10-06T05:00:37.458Z"
   },
   {
    "duration": 368,
    "start_time": "2023-10-06T05:00:37.786Z"
   },
   {
    "duration": 229,
    "start_time": "2023-10-06T05:00:38.156Z"
   },
   {
    "duration": 200,
    "start_time": "2023-10-06T05:00:38.387Z"
   },
   {
    "duration": 243,
    "start_time": "2023-10-06T05:00:38.589Z"
   },
   {
    "duration": 183,
    "start_time": "2023-10-06T05:00:38.834Z"
   },
   {
    "duration": 97,
    "start_time": "2023-10-06T05:00:39.022Z"
   },
   {
    "duration": 10,
    "start_time": "2023-10-06T05:00:39.121Z"
   },
   {
    "duration": 162,
    "start_time": "2023-10-06T05:00:39.134Z"
   },
   {
    "duration": 30,
    "start_time": "2023-10-06T05:00:39.301Z"
   },
   {
    "duration": 153,
    "start_time": "2023-10-06T05:00:39.333Z"
   },
   {
    "duration": 29,
    "start_time": "2023-10-06T05:00:39.488Z"
   },
   {
    "duration": 217,
    "start_time": "2023-10-06T05:00:39.520Z"
   },
   {
    "duration": 130,
    "start_time": "2023-10-06T05:00:39.739Z"
   },
   {
    "duration": 32,
    "start_time": "2023-10-06T05:00:39.871Z"
   },
   {
    "duration": 126,
    "start_time": "2023-10-06T05:00:39.909Z"
   },
   {
    "duration": 3,
    "start_time": "2023-10-06T05:00:40.037Z"
   },
   {
    "duration": 1111,
    "start_time": "2023-10-06T05:00:40.043Z"
   },
   {
    "duration": 8,
    "start_time": "2023-10-06T05:00:41.156Z"
   },
   {
    "duration": 81,
    "start_time": "2023-10-06T05:00:41.166Z"
   },
   {
    "duration": 63,
    "start_time": "2023-10-06T05:00:41.250Z"
   },
   {
    "duration": 10,
    "start_time": "2023-10-06T05:00:41.315Z"
   },
   {
    "duration": 2501,
    "start_time": "2023-10-06T05:00:41.327Z"
   },
   {
    "duration": 81435,
    "start_time": "2023-10-06T05:00:43.831Z"
   },
   {
    "duration": 102231,
    "start_time": "2023-10-06T05:02:05.268Z"
   },
   {
    "duration": 1230316,
    "start_time": "2023-10-06T05:03:47.503Z"
   },
   {
    "duration": 191670,
    "start_time": "2023-10-06T05:24:17.821Z"
   },
   {
    "duration": 108,
    "start_time": "2023-10-06T05:28:59.003Z"
   },
   {
    "duration": 583,
    "start_time": "2023-10-06T05:30:42.528Z"
   },
   {
    "duration": 17727,
    "start_time": "2023-10-06T05:31:49.275Z"
   },
   {
    "duration": 133,
    "start_time": "2023-10-06T05:32:51.219Z"
   },
   {
    "duration": 16725,
    "start_time": "2023-10-06T05:33:33.982Z"
   },
   {
    "duration": 36362,
    "start_time": "2023-10-06T05:34:32.032Z"
   },
   {
    "duration": 19976,
    "start_time": "2023-10-06T05:35:16.446Z"
   },
   {
    "duration": 48058,
    "start_time": "2023-10-06T05:35:44.156Z"
   },
   {
    "duration": 37180,
    "start_time": "2023-10-06T05:39:02.941Z"
   },
   {
    "duration": 36061,
    "start_time": "2023-10-06T05:39:49.342Z"
   },
   {
    "duration": 105993,
    "start_time": "2023-10-06T05:40:41.409Z"
   },
   {
    "duration": 39084,
    "start_time": "2023-10-06T05:42:51.033Z"
   },
   {
    "duration": 2343,
    "start_time": "2023-10-06T06:03:05.647Z"
   },
   {
    "duration": 1709,
    "start_time": "2023-10-06T06:03:07.993Z"
   },
   {
    "duration": 936,
    "start_time": "2023-10-06T06:03:09.704Z"
   },
   {
    "duration": 930,
    "start_time": "2023-10-06T06:03:10.642Z"
   },
   {
    "duration": 74,
    "start_time": "2023-10-06T06:03:11.574Z"
   },
   {
    "duration": 523,
    "start_time": "2023-10-06T06:03:11.650Z"
   },
   {
    "duration": 42,
    "start_time": "2023-10-06T06:03:12.176Z"
   },
   {
    "duration": 52,
    "start_time": "2023-10-06T06:03:12.219Z"
   },
   {
    "duration": 57,
    "start_time": "2023-10-06T06:03:12.273Z"
   },
   {
    "duration": 238,
    "start_time": "2023-10-06T06:03:12.332Z"
   },
   {
    "duration": 292,
    "start_time": "2023-10-06T06:03:12.572Z"
   },
   {
    "duration": 295,
    "start_time": "2023-10-06T06:03:12.866Z"
   },
   {
    "duration": 190,
    "start_time": "2023-10-06T06:03:13.163Z"
   },
   {
    "duration": 172,
    "start_time": "2023-10-06T06:03:13.355Z"
   },
   {
    "duration": 192,
    "start_time": "2023-10-06T06:03:13.529Z"
   },
   {
    "duration": 100,
    "start_time": "2023-10-06T06:03:13.723Z"
   },
   {
    "duration": 133,
    "start_time": "2023-10-06T06:03:13.824Z"
   },
   {
    "duration": 7,
    "start_time": "2023-10-06T06:03:13.959Z"
   },
   {
    "duration": 285,
    "start_time": "2023-10-06T06:03:13.968Z"
   },
   {
    "duration": 496,
    "start_time": "2023-10-06T06:03:14.255Z"
   },
   {
    "duration": 194,
    "start_time": "2023-10-06T06:03:14.753Z"
   },
   {
    "duration": 7,
    "start_time": "2023-10-06T06:03:14.949Z"
   },
   {
    "duration": 214,
    "start_time": "2023-10-06T06:03:14.958Z"
   },
   {
    "duration": 127,
    "start_time": "2023-10-06T06:03:15.174Z"
   },
   {
    "duration": 16,
    "start_time": "2023-10-06T06:03:15.302Z"
   },
   {
    "duration": 116,
    "start_time": "2023-10-06T06:03:15.320Z"
   },
   {
    "duration": 2,
    "start_time": "2023-10-06T06:03:15.438Z"
   },
   {
    "duration": 973,
    "start_time": "2023-10-06T06:03:15.444Z"
   },
   {
    "duration": 6,
    "start_time": "2023-10-06T06:03:16.419Z"
   },
   {
    "duration": 83,
    "start_time": "2023-10-06T06:03:16.426Z"
   },
   {
    "duration": 41,
    "start_time": "2023-10-06T06:03:16.511Z"
   },
   {
    "duration": 9,
    "start_time": "2023-10-06T06:03:16.554Z"
   },
   {
    "duration": 2338,
    "start_time": "2023-10-06T06:03:16.565Z"
   },
   {
    "duration": 75789,
    "start_time": "2023-10-06T06:03:18.905Z"
   },
   {
    "duration": 105155,
    "start_time": "2023-10-06T06:04:34.696Z"
   },
   {
    "duration": 468471,
    "start_time": "2023-10-06T06:06:19.853Z"
   },
   {
    "duration": 191005,
    "start_time": "2023-10-06T06:14:08.326Z"
   },
   {
    "duration": 182,
    "start_time": "2023-10-06T06:17:19.333Z"
   },
   {
    "duration": 700,
    "start_time": "2023-10-06T06:17:19.519Z"
   },
   {
    "duration": 19496,
    "start_time": "2023-10-06T06:17:20.221Z"
   },
   {
    "duration": 160108,
    "start_time": "2023-10-06T06:17:39.720Z"
   },
   {
    "duration": 40447,
    "start_time": "2023-10-06T06:20:19.830Z"
   },
   {
    "duration": 20,
    "start_time": "2023-10-06T07:07:12.195Z"
   },
   {
    "duration": 129,
    "start_time": "2023-10-06T07:07:19.652Z"
   },
   {
    "duration": 27,
    "start_time": "2023-10-06T07:08:55.060Z"
   },
   {
    "duration": 19,
    "start_time": "2023-10-06T07:10:07.066Z"
   },
   {
    "duration": 293,
    "start_time": "2023-10-06T07:10:57.535Z"
   },
   {
    "duration": 288,
    "start_time": "2023-10-06T07:11:10.597Z"
   },
   {
    "duration": 105,
    "start_time": "2023-10-06T07:26:48.083Z"
   },
   {
    "duration": 199,
    "start_time": "2023-10-06T07:35:03.201Z"
   },
   {
    "duration": 567,
    "start_time": "2023-10-06T07:38:05.067Z"
   },
   {
    "duration": 18400,
    "start_time": "2023-10-06T07:38:07.315Z"
   },
   {
    "duration": 303,
    "start_time": "2023-10-06T07:38:25.717Z"
   },
   {
    "duration": 0,
    "start_time": "2023-10-06T07:38:26.023Z"
   },
   {
    "duration": 39919,
    "start_time": "2023-10-06T07:38:54.109Z"
   },
   {
    "duration": 37374,
    "start_time": "2023-10-06T07:39:34.103Z"
   },
   {
    "duration": 2537,
    "start_time": "2023-10-06T07:51:34.361Z"
   },
   {
    "duration": 1779,
    "start_time": "2023-10-06T07:51:36.902Z"
   },
   {
    "duration": 1022,
    "start_time": "2023-10-06T07:51:38.683Z"
   },
   {
    "duration": 1070,
    "start_time": "2023-10-06T07:51:39.708Z"
   },
   {
    "duration": 85,
    "start_time": "2023-10-06T07:51:40.780Z"
   },
   {
    "duration": 711,
    "start_time": "2023-10-06T07:51:40.867Z"
   },
   {
    "duration": 49,
    "start_time": "2023-10-06T07:51:41.580Z"
   },
   {
    "duration": 64,
    "start_time": "2023-10-06T07:51:41.630Z"
   },
   {
    "duration": 37,
    "start_time": "2023-10-06T07:51:41.695Z"
   },
   {
    "duration": 252,
    "start_time": "2023-10-06T07:51:41.735Z"
   },
   {
    "duration": 314,
    "start_time": "2023-10-06T07:51:41.989Z"
   },
   {
    "duration": 311,
    "start_time": "2023-10-06T07:51:42.305Z"
   },
   {
    "duration": 219,
    "start_time": "2023-10-06T07:51:42.618Z"
   },
   {
    "duration": 192,
    "start_time": "2023-10-06T07:51:42.839Z"
   },
   {
    "duration": 197,
    "start_time": "2023-10-06T07:51:43.034Z"
   },
   {
    "duration": 117,
    "start_time": "2023-10-06T07:51:43.232Z"
   },
   {
    "duration": 87,
    "start_time": "2023-10-06T07:51:43.351Z"
   },
   {
    "duration": 8,
    "start_time": "2023-10-06T07:51:43.440Z"
   },
   {
    "duration": 173,
    "start_time": "2023-10-06T07:51:43.450Z"
   },
   {
    "duration": 31,
    "start_time": "2023-10-06T07:51:43.625Z"
   },
   {
    "duration": 155,
    "start_time": "2023-10-06T07:51:43.658Z"
   },
   {
    "duration": 8,
    "start_time": "2023-10-06T07:51:43.814Z"
   },
   {
    "duration": 218,
    "start_time": "2023-10-06T07:51:43.824Z"
   },
   {
    "duration": 130,
    "start_time": "2023-10-06T07:51:44.044Z"
   },
   {
    "duration": 271,
    "start_time": "2023-10-06T07:51:44.176Z"
   },
   {
    "duration": 21,
    "start_time": "2023-10-06T07:51:44.449Z"
   },
   {
    "duration": 149,
    "start_time": "2023-10-06T07:51:44.473Z"
   },
   {
    "duration": 4,
    "start_time": "2023-10-06T07:51:44.628Z"
   },
   {
    "duration": 1031,
    "start_time": "2023-10-06T07:51:44.634Z"
   },
   {
    "duration": 6,
    "start_time": "2023-10-06T07:51:45.667Z"
   },
   {
    "duration": 68,
    "start_time": "2023-10-06T07:51:45.675Z"
   },
   {
    "duration": 63,
    "start_time": "2023-10-06T07:51:45.746Z"
   },
   {
    "duration": 8,
    "start_time": "2023-10-06T07:51:45.811Z"
   },
   {
    "duration": 2482,
    "start_time": "2023-10-06T07:51:45.821Z"
   },
   {
    "duration": 72986,
    "start_time": "2023-10-06T07:51:48.306Z"
   },
   {
    "duration": 95690,
    "start_time": "2023-10-06T07:53:01.293Z"
   },
   {
    "duration": 105532,
    "start_time": "2023-10-06T07:54:36.984Z"
   },
   {
    "duration": 180701,
    "start_time": "2023-10-06T07:56:22.518Z"
   },
   {
    "duration": 89,
    "start_time": "2023-10-06T07:59:23.221Z"
   },
   {
    "duration": 718,
    "start_time": "2023-10-06T07:59:23.312Z"
   },
   {
    "duration": 19849,
    "start_time": "2023-10-06T07:59:24.032Z"
   },
   {
    "duration": 167947,
    "start_time": "2023-10-06T07:59:43.883Z"
   },
   {
    "duration": 38634,
    "start_time": "2023-10-06T08:02:31.832Z"
   },
   {
    "duration": 20536,
    "start_time": "2023-10-06T08:03:10.469Z"
   }
  ],
  "kernelspec": {
   "display_name": "Python 3 (ipykernel)",
   "language": "python",
   "name": "python3"
  },
  "language_info": {
   "codemirror_mode": {
    "name": "ipython",
    "version": 3
   },
   "file_extension": ".py",
   "mimetype": "text/x-python",
   "name": "python",
   "nbconvert_exporter": "python",
   "pygments_lexer": "ipython3",
   "version": "3.9.5"
  },
  "toc": {
   "base_numbering": 1,
   "nav_menu": {},
   "number_sections": true,
   "sideBar": true,
   "skip_h1_title": true,
   "title_cell": "Table of Contents",
   "title_sidebar": "Contents",
   "toc_cell": false,
   "toc_position": {},
   "toc_section_display": true,
   "toc_window_display": false
  }
 },
 "nbformat": 4,
 "nbformat_minor": 4
}
