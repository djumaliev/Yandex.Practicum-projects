{
 "cells": [
  {
   "cell_type": "markdown",
   "id": "1b7b4dfb-56b6-4dc1-bc93-1ad3b9a2b158",
   "metadata": {},
   "source": [
    "# Basic SQL"
   ]
  },
  {
   "cell_type": "markdown",
   "id": "7c542c53-186f-4d8e-95ce-9f4f02133d5c",
   "metadata": {},
   "source": [
    "In this project, we need to analyze data about funds and investments and write queries to the database."
   ]
  },
  {
   "cell_type": "markdown",
   "id": "be56b441-317d-44c9-b54c-24ee0450dfb6",
   "metadata": {},
   "source": [
    "![Database Schema](basic_sql_project_ERD.png)"
   ]
  },
  {
   "cell_type": "markdown",
   "id": "9c0b7a8d-827b-4123-ab09-df289d667677",
   "metadata": {},
   "source": [
    "Contains information about purchases of one company by another. The table includes the following fields:\n",
    "\n",
    "- Primary key 'id' — the identifier or unique number of the purchase.\n",
    "- Foreign key 'acquiring_company_id' — references the company table — the identifier of the acquiring company, i.e., the one purchasing another company.\n",
    "- Foreign key 'acquired_company_id' — references the company table — the identifier of the company being purchased.\n",
    "- 'term_code' — the method of payment for the transaction:\n",
    "    - 'cash' — in cash;\n",
    "    - 'stock' — in company stocks;\n",
    "    - 'cash_and_stock' — a mixed type of payment: cash and stocks.\n",
    "- 'price_amount' — the purchase amount in dollars.\n",
    "- 'acquired_at' — the date of the transaction.\n",
    "- 'created_at' — the date and time the record was created in the table.\n",
    "- 'updated_at' — the date and time the record was updated in the table.\n",
    "\n",
    "__company__ - Contains information about startup companies.\n",
    "\n",
    "- Primary key 'id' — the identifier or unique number of the company.\n",
    "- 'name' — the name of the company.\n",
    "- 'category_code' — the category of the company's activities, e.g.:\n",
    "    - 'news' — specializes in news-related activities;\n",
    "    - 'social' — specializes in social work.\n",
    "- 'status' — the company's status:\n",
    "    - 'acquired' — acquired;\n",
    "    - 'operating' — operating;\n",
    "    - 'ipo' — went public through IPO;\n",
    "    - 'closed' — no longer exists.\n",
    "- 'founded_at' — the date the company was founded.\n",
    "- 'closed_at' — the date the company was closed (if applicable).\n",
    "- 'domain' — the company's website domain.\n",
    "- 'network_username' — the fund's profile on the stock exchange's corporate network.\n",
    "- 'country_code' — the country code, e.g., USA for the United States, GBR for the United Kingdom.\n",
    "- 'investment_rounds' — the number of rounds in which the company participated as an investor.\n",
    "- 'funding_rounds' — the number of rounds in which the company attracted investments.\n",
    "- 'funding_total' — the total amount of investments raised in dollars.\n",
    "- 'milestones' — the number of significant milestones in the company's history.\n",
    "- 'created_at' — the date and time the record was created in the table.\n",
    "- 'updated_at' — the date and time the record was updated in the table.\n",
    "\n",
    "__education__ - Stores information about the education level of company employees.\n",
    "\n",
    "- Primary key 'id' — the unique record number containing education information.\n",
    "- Foreign key 'person_id' — references the people table — the identifier of the person whose information is represented in the record.\n",
    "- 'degree_type' — the type of educational degree, e.g.:\n",
    "    - 'BA' — Bachelor of Arts.\n",
    "    - 'MS' — Master of Science.\n",
    "- 'instituition' — the educational institution, the university name.\n",
    "- 'graduated_at' — the date of completion of education.\n",
    "- 'created_at' — the date and time the record was created in the table.\n",
    "- 'updated_at' — the date and time the record was updated in the table.\n",
    "\n",
    "__fund__ - Stores information about venture funds.\n",
    "\n",
    "- Primary key 'id' — the unique number of the venture fund.\n",
    "- 'name' — the name of the venture fund.\n",
    "- 'founded_at' — the date the fund was founded.\n",
    "- 'domain' — the fund's website domain.\n",
    "- 'network_username' — the fund's profile on the stock exchange's corporate network.\n",
    "- 'country_code' — the country code of the fund.\n",
    "- 'investment_rounds' — the number of investment rounds in which the fund participated.\n",
    "- 'invested_companies' — the number of companies in which the fund invested.\n",
    "- 'milestones' — the number of significant milestones in the fund's history.\n",
    "- 'created_at' — the date and time the record was created in the table.\n",
    "- 'updated_at' — the date and time the record was updated in the table.\n",
    "\n",
    "__funding_round__ - Contains information about investment rounds.\n",
    "\n",
    "- Primary key 'id' — the unique number of the investment round.\n",
    "- Foreign key 'company_id' — references the company table — the unique number of the company participating in the investment round.\n",
    "- 'funded_at' — the date of the funding round.\n",
    "- 'funding_round_type' — the type of investment round, e.g.:\n",
    "    - 'venture' — venture round.\n",
    "    - 'angel' — angel round.\n",
    "    - 'series_a' — A round.\n",
    "- 'raised_amount' — the amount of investments raised by the company in this round in dollars.\n",
    "- 'pre_money_valuation' — the pre-investment valuation of the company in dollars.\n",
    "- 'participants' — the number of participants in the investment round.\n",
    "- 'is_first_round' — whether this round is the first for the company.\n",
    "- 'is_last_round' — whether this round\n",
    "- 'created_at' — the date and time the record was created in the table.\n",
    "- 'updated_at' — the date and time the record was updated in the table.\n",
    "\n",
    "__investment__ - Contains information about venture fund investments in startup companies.\n",
    "\n",
    "- Primary key 'id' — the unique investment number.\n",
    "- Foreign key 'funding_round_id' — references the funding_round table — the unique number of the investment round.\n",
    "- Foreign key 'company_id' — references the company table — the unique number of the startup company being invested in.\n",
    "- Foreign key 'fund_id' — references the fund table — the unique number of the fund investing in the startup company.\n",
    "- 'created_at' — the date and time the record was created in the table.\n",
    "- 'updated_at' — the date and time the record was updated in the table.\n",
    "\n",
    "__people__ - Contains information about employees of startup companies.\n",
    "\n",
    "- Primary key 'id' — the unique employee number.\n",
    "- 'first_name' — the employee's first name.\n",
    "- 'last_name' — the employee's last name.\n",
    "- Foreign key 'company_id' — references the company table — the unique number of the startup company.\n",
    "- 'network_username' — the profile of the fund on the stock exchange's corporate network.\n",
    "- 'created_at' — the date and time the record was created in the table.\n",
    "- 'updated_at' — the date and time the record was updated in the table."
   ]
  },
  {
   "cell_type": "markdown",
   "id": "16758625-795e-48d4-8952-18398e831068",
   "metadata": {},
   "source": [
    "1. Display all records from the company table for companies that have closed."
   ]
  },
  {
   "cell_type": "code",
   "execution_count": null,
   "id": "bbf1ed00-0b1f-4d7a-8a26-04a6969aca75",
   "metadata": {},
   "outputs": [],
   "source": [
    "SELECT *\n",
    "FROM company\n",
    "WHERE status='closed';"
   ]
  },
  {
   "cell_type": "markdown",
   "id": "d6a59e8f-7cbd-4d49-9f47-086b87cf3f77",
   "metadata": {},
   "source": [
    "2. Display the amount of funds raised for news companies in the USA. Use data from the company table. Sort the table in descending order based on the values in the funding_total field."
   ]
  },
  {
   "cell_type": "code",
   "execution_count": null,
   "id": "3c21a683-e5ef-4020-a5ce-29db5ca81aa7",
   "metadata": {},
   "outputs": [],
   "source": [
    "SELECT funding_total\n",
    "FROM company\n",
    "WHERE category_code = 'news' AND country_code = 'USA'\n",
    "--GROUP BY funding_total\n",
    "ORDER BY funding_total DESC;"
   ]
  },
  {
   "cell_type": "markdown",
   "id": "d7f7a476-986a-47a7-93a8-0ff3b65a0c12",
   "metadata": {},
   "source": [
    "3. Find the total amount of transactions for the acquisition of companies by others in dollars. Select transactions that were conducted exclusively in cash from 2011 to 2013 inclusive."
   ]
  },
  {
   "cell_type": "code",
   "execution_count": null,
   "id": "475bfc23-fc66-4dc8-8b18-05816ffb6f4f",
   "metadata": {},
   "outputs": [],
   "source": [
    "SELECT SUM(price_amount)\n",
    "FROM acquisition\n",
    "WHERE EXTRACT(YEAR FROM acquired_at::date) BETWEEN '2011' AND '2013'\n",
    "      AND term_code='cash';"
   ]
  },
  {
   "cell_type": "markdown",
   "id": "d4f0dab0-26d5-4d6e-a5b3-d971405faae4",
   "metadata": {},
   "source": [
    "4. Display the first name, last name, and account names of people in the network_username field whose account names start with 'Silver'."
   ]
  },
  {
   "cell_type": "code",
   "execution_count": null,
   "id": "00d5b45c-0242-4ef6-9385-ecd25af482ad",
   "metadata": {},
   "outputs": [],
   "source": [
    "SELECT first_name,\n",
    "       last_name,\n",
    "       network_username\n",
    "FROM people\n",
    "WHERE network_username LIKE 'Silver%';"
   ]
  },
  {
   "cell_type": "markdown",
   "id": "ad060289-50a5-47f4-9bf6-65db2d2a0848",
   "metadata": {},
   "source": [
    "5. Display all information about individuals whose account names in the network_username field contain the substring 'money' and whose last name begins with 'K'."
   ]
  },
  {
   "cell_type": "code",
   "execution_count": null,
   "id": "90efe630-12a1-4c9e-8abc-acc67429b024",
   "metadata": {},
   "outputs": [],
   "source": [
    "SELECT *\n",
    "FROM people\n",
    "WHERE network_username LIKE '%money%' AND last_name LIKE 'K%'"
   ]
  },
  {
   "cell_type": "markdown",
   "id": "3e5b9b58-5f31-430a-8599-062b9df56f6e",
   "metadata": {},
   "source": [
    "6. For each country, display the total amount of attracted investments received by companies registered in that country. The country in which the company is registered can be determined by the country code. Sort the data in descending order of the total amount."
   ]
  },
  {
   "cell_type": "code",
   "execution_count": null,
   "id": "cdc61855-741a-43d7-9f4d-17dfab7da5d2",
   "metadata": {},
   "outputs": [],
   "source": [
    "SELECT country_code,\n",
    "       SUM(funding_total) AS total_funds\n",
    "FROM company\n",
    "GROUP BY country_code\n",
    "ORDER BY total_funds DESC;"
   ]
  },
  {
   "cell_type": "markdown",
   "id": "5cd49cfa-524f-4ec3-a82a-2dfcb04e3d6c",
   "metadata": {},
   "source": [
    "7. Create a table that includes the round date, as well as the minimum and maximum values of the investment amount raised on that date. Leave in the final table only those records where the minimum investment amount is not equal to zero and is not equal to the maximum amount."
   ]
  },
  {
   "cell_type": "code",
   "execution_count": null,
   "id": "45f2d5cb-bc8c-4da1-93ac-25d684dc1e0a",
   "metadata": {},
   "outputs": [],
   "source": [
    "SELECT funded_at,\n",
    "       MIN(raised_amount) AS min_raised,\n",
    "       MAX(raised_amount) AS max_raised\n",
    "FROM funding_round\n",
    "GROUP BY funded_at\n",
    "HAVING MIN(raised_amount) != 0 AND MIN(raised_amount) != MAX(raised_amount);"
   ]
  },
  {
   "cell_type": "markdown",
   "id": "5b254561-1de8-4f76-a8ed-fa7dc148cd65",
   "metadata": {},
   "source": [
    "8. Create a field with categories:\n",
    "\n",
    "- For funds that invest in 100 or more companies, assign the category high_activity.\n",
    "- For funds that invest in 20 or more companies up to 100, assign the category middle_activity.\n",
    "- If the number of companies invested in by a fund is less than 20, assign the category low_activity.\n",
    "\n",
    "Display all fields from the fund table and the new field with categories."
   ]
  },
  {
   "cell_type": "code",
   "execution_count": null,
   "id": "96e446e9-803d-4cb0-9498-f9b20b8193d1",
   "metadata": {},
   "outputs": [],
   "source": [
    "SELECT *,\n",
    "       CASE\n",
    "           WHEN invested_companies >= 100 THEN 'high_activity'\n",
    "           WHEN invested_companies >=20 AND invested_companies <100 THEN 'middle_activity'\n",
    "           WHEN invested_companies <20 THEN 'low_activity'\n",
    "       END AS activity\n",
    "FROM fund;"
   ]
  },
  {
   "cell_type": "markdown",
   "id": "4d5f5873-cecf-43a3-ac9e-bcb9b903dd44",
   "metadata": {},
   "source": [
    "9. For each of the categories assigned in the previous task, calculate the rounded average number of investment rounds in which the fund participated. Display the categories and the average number of investment rounds. Sort the table in ascending order of the average."
   ]
  },
  {
   "cell_type": "code",
   "execution_count": null,
   "id": "336351f8-d5a0-441f-a9c7-48b43160fb1f",
   "metadata": {},
   "outputs": [],
   "source": [
    "SELECT ROUND(AVG(investment_rounds)) AS avg_rounds,\n",
    "       CASE\n",
    "           WHEN invested_companies>=100 THEN 'high_activity'\n",
    "           WHEN invested_companies>=20 THEN 'middle_activity'\n",
    "           ELSE 'low_activity'\n",
    "       END AS activity\n",
    "FROM fund\n",
    "GROUP BY activity\n",
    "ORDER BY avg_rounds ASC;"
   ]
  },
  {
   "cell_type": "markdown",
   "id": "945e3aad-412a-40b6-a1c8-cf4dbaa1945c",
   "metadata": {},
   "source": [
    "10. Analyze which countries host funds that most frequently invest in startups. For each country, calculate the minimum, maximum, and average number of companies in which funds from that country invested, based on the years 2010 to 2012 inclusive. Exclude countries with funds where the minimum number of companies receiving investments is zero. Retrieve the top ten most active investing countries: sort the table in descending order of the average number of companies and then add sorting by country code in lexicographic order."
   ]
  },
  {
   "cell_type": "code",
   "execution_count": null,
   "id": "6e569923-6c2b-47fb-b587-4a773a373b66",
   "metadata": {},
   "outputs": [],
   "source": [
    "SELECT MIN(invested_companies) AS min_invested_companies,\n",
    "       MAX(invested_companies) AS max_invested_companies,\n",
    "       AVG(invested_companies) AS avg_invested_companies,\n",
    "       country_code\n",
    "FROM fund\n",
    "WHERE EXTRACT(YEAR FROM founded_at) BETWEEN '2010' AND '2012'\n",
    "GROUP BY country_code\n",
    "HAVING MIN(invested_companies) != 0\n",
    "ORDER BY AVG(invested_companies) DESC, country_code\n",
    "LIMIT 10;"
   ]
  },
  {
   "cell_type": "markdown",
   "id": "ea2db3fb-4694-4277-bcfb-ae9aaa0a7a6f",
   "metadata": {},
   "source": [
    "11. Display the first and last names of all startup employees. Add a field with the name of the educational institution that the employee graduated from, if this information is available."
   ]
  },
  {
   "cell_type": "code",
   "execution_count": null,
   "id": "b20465c6-22d2-4d62-9152-44fb21294bda",
   "metadata": {},
   "outputs": [],
   "source": [
    "SELECT p.first_name,\n",
    "       p.last_name,\n",
    "       e.instituition\n",
    "FROM people AS p LEFT JOIN education AS e ON p.id=e.person_id;"
   ]
  },
  {
   "cell_type": "markdown",
   "id": "0b7a3c98-1bc8-4367-aabc-e6462f3e47e8",
   "metadata": {},
   "source": [
    "12. For each company, find the number of educational institutions that its employees have graduated from. Display the company name and the count of unique educational institution names. Compile the top 5 companies based on the number of universities."
   ]
  },
  {
   "cell_type": "code",
   "execution_count": null,
   "id": "b39931a9-ab58-4f0e-82cf-4768dad8ff6f",
   "metadata": {},
   "outputs": [],
   "source": [
    "SELECT c.name,\n",
    "       COUNT(DISTINCT e.instituition)\n",
    "FROM company AS c \n",
    "    JOIN people AS p ON c.id=p.company_id \n",
    "    JOIN education AS e ON p.id=e.person_id\n",
    "GROUP BY c.name\n",
    "ORDER BY COUNT(e.instituition) DESC\n",
    "LIMIT 5;"
   ]
  },
  {
   "cell_type": "markdown",
   "id": "1d2a3f3d-ece8-4ff1-a5d7-723c952e443b",
   "metadata": {},
   "source": [
    "13. Compile a list of unique names of closed companies for which the first funding round turned out to be the last."
   ]
  },
  {
   "cell_type": "code",
   "execution_count": null,
   "id": "5ed70e1a-1268-4889-b8cb-8d99ef88d7a3",
   "metadata": {},
   "outputs": [],
   "source": [
    "SELECT DISTINCT c.name\n",
    "FROM company AS c \n",
    "    JOIN funding_round AS fr ON c.id=fr.company_id\n",
    "WHERE c.status='closed' AND is_first_round=1 AND is_last_round=1;"
   ]
  },
  {
   "cell_type": "markdown",
   "id": "ccbb57d4-26aa-4666-a031-a37f6adb1531",
   "metadata": {},
   "source": [
    "14. Compile a list of unique employee numbers who work in the companies selected in the previous task."
   ]
  },
  {
   "cell_type": "code",
   "execution_count": null,
   "id": "008197b3-a2d5-406c-aa17-48f4dca692a1",
   "metadata": {},
   "outputs": [],
   "source": [
    "SELECT DISTINCT id\n",
    "FROM people\n",
    "WHERE company_id IN (SELECT DISTINCT c.id\n",
    "                     FROM company AS c \n",
    "                         JOIN funding_round AS fr ON c.id=fr.company_id\n",
    "                     WHERE c.status='closed' AND is_first_round=1 AND is_last_round=1);"
   ]
  },
  {
   "cell_type": "markdown",
   "id": "053241a7-d982-4d74-b317-78a60debd9d6",
   "metadata": {},
   "source": [
    "15. Create a table that includes unique pairs with employee numbers from the previous task and the educational institution that the employee graduated from."
   ]
  },
  {
   "cell_type": "code",
   "execution_count": null,
   "id": "7186988b-b370-4a34-b92b-96b67236aacf",
   "metadata": {},
   "outputs": [],
   "source": [
    "SELECT DISTINCT p.id,\n",
    "       e.instituition\n",
    "FROM people AS p\n",
    "    JOIN education AS e ON p.id=e.person_id\n",
    "WHERE company_id IN (SELECT DISTINCT c.id\n",
    "                     FROM company AS c \n",
    "                         JOIN funding_round AS fr ON c.id=fr.company_id\n",
    "                     WHERE c.status='closed' AND is_first_round=1 AND is_last_round=1);"
   ]
  },
  {
   "cell_type": "markdown",
   "id": "9ab3d391-cff2-4fc6-9c77-ac8c5f03bd23",
   "metadata": {},
   "source": [
    "16. Count the number of educational institutions for each employee from the previous task. When counting, consider that some employees may have graduated from the same institution more than once."
   ]
  },
  {
   "cell_type": "code",
   "execution_count": null,
   "id": "371010e5-70dc-4b6d-a50c-25db57bdf904",
   "metadata": {},
   "outputs": [],
   "source": [
    "SELECT DISTINCT p.id,\n",
    "       COUNT(e.instituition)\n",
    "FROM people AS p\n",
    "    JOIN education AS e ON p.id=e.person_id\n",
    "WHERE company_id IN (SELECT DISTINCT c.id\n",
    "                     FROM company AS c \n",
    "                         JOIN funding_round AS fr ON c.id=fr.company_id\n",
    "                     WHERE c.status='closed' AND is_first_round=1 AND is_last_round=1)\n",
    "GROUP BY p.id;"
   ]
  },
  {
   "cell_type": "markdown",
   "id": "6e60d57a-ac51-4cac-a40e-56286ca21271",
   "metadata": {},
   "source": [
    "17. Extend the previous query and output the average number of educational institutions (all, not just unique ones) that employees from different companies have graduated from. Display only one record; grouping is not required here."
   ]
  },
  {
   "cell_type": "code",
   "execution_count": null,
   "id": "6b869d36-1ba8-47b8-b392-203fba49c8e5",
   "metadata": {},
   "outputs": [],
   "source": [
    "SELECT AVG(count)\n",
    "FROM (SELECT DISTINCT p.id,\n",
    "           COUNT(e.instituition) AS count\n",
    "    FROM people AS p\n",
    "        JOIN education AS e ON p.id=e.person_id\n",
    "    WHERE company_id IN (SELECT DISTINCT c.id\n",
    "                         FROM company AS c \n",
    "                             JOIN funding_round AS fr ON c.id=fr.company_id\n",
    "                         WHERE c.status='closed' AND is_first_round=1 AND is_last_round=1)\n",
    "    GROUP BY p.id) AS subquery;"
   ]
  },
  {
   "cell_type": "markdown",
   "id": "34f13e5b-0def-480b-b515-9d2986637e90",
   "metadata": {},
   "source": [
    "18. Write a similar query: output the average number of educational institutions (all, not just unique ones) that employees of Socialnet have graduated from."
   ]
  },
  {
   "cell_type": "code",
   "execution_count": null,
   "id": "9f526171-c601-4d5e-9912-270a015ce32f",
   "metadata": {},
   "outputs": [],
   "source": [
    "SELECT AVG(count)\n",
    "FROM (SELECT p.id,\n",
    "           COUNT(e.instituition) AS count\n",
    "    FROM people AS p\n",
    "        JOIN education AS e ON p.id=e.person_id\n",
    "    WHERE p.company_id IN (SELECT DISTINCT c.id\n",
    "                         FROM company AS c \n",
    "                             JOIN funding_round AS fr ON c.id=fr.company_id\n",
    "                         WHERE c.name='Socialnet')\n",
    "    GROUP BY p.id) AS subquery;"
   ]
  },
  {
   "cell_type": "markdown",
   "id": "1f9029f3-1e9f-4b88-a4ef-d1610496fb6e",
   "metadata": {},
   "source": [
    "19. Create a table with the following fields:\n",
    "\n",
    "- name_of_fund – name of the fund;\n",
    "- name_of_company – name of the company;\n",
    "- amount – the amount of investment the company attracted in the round.\n",
    "\n",
    "Include data about companies that have had more than six significant stages in their history, and financing rounds occurred from 2012 to 2013, inclusive."
   ]
  },
  {
   "cell_type": "code",
   "execution_count": null,
   "id": "bc1e3405-ace7-4d8c-825e-8fdad36cc492",
   "metadata": {},
   "outputs": [],
   "source": [
    "SELECT DISTINCT f.name AS name_of_fund,\n",
    "       c.name AS name_of_company,\n",
    "       fr.raised_amount AS amount\n",
    "FROM investment AS i\n",
    "    JOIN company AS c ON i.company_id=c.id \n",
    "    JOIN fund AS f ON i.fund_id=f.id\n",
    "    JOIN funding_round AS fr ON i.funding_round_id=fr.id\n",
    "WHERE c.milestones > 6\n",
    "    AND EXTRACT(YEAR FROM fr.funded_at::date) BETWEEN 2012 AND 2013\n",
    "GROUP BY f.name, c.name, fr.raised_amount;"
   ]
  },
  {
   "cell_type": "markdown",
   "id": "0174e217-4c68-4770-a375-b487e4b07411",
   "metadata": {},
   "source": [
    "20. Retrieve a table with the following fields:\n",
    "\n",
    "- Buyer company name;\n",
    "- Deal amount;\n",
    "- Acquired company name;\n",
    "- Investment amount in the acquired company;\n",
    "- A ratio indicating how many times the purchase amount exceeds the amount invested in the company, rounded to the nearest whole number.\n",
    "\n",
    "Exclude transactions where the purchase amount is zero. If the investment amount in the company is zero, exclude that company from the table. Sort the table by the deal amount from largest to smallest, then by the name of the acquired company in lexicographical order. \n",
    "\n",
    "Limit the table to the first ten entries."
   ]
  },
  {
   "cell_type": "code",
   "execution_count": null,
   "id": "91bbd2a5-216a-43cc-86f0-5d226e30e3da",
   "metadata": {},
   "outputs": [],
   "source": [
    "WITH acquiring AS (\n",
    "    SELECT c.name AS name, a.acquiring_company_id\n",
    "    FROM acquisition AS a\n",
    "    JOIN company AS c ON a.acquiring_company_id = c.id\n",
    "),\n",
    "acquired AS (\n",
    "    SELECT c.name AS name, a.acquired_company_id, c.funding_total\n",
    "    FROM acquisition AS a\n",
    "    JOIN company AS c ON a.acquired_company_id = c.id\n",
    ")\n",
    "\n",
    "SELECT DISTINCT acquiring.name AS acquiring_company,\n",
    "       a.price_amount AS price_amount,\n",
    "       acquired.name AS acquired_company,\n",
    "       acquired.funding_total AS funding_total,\n",
    "       ROUND(a.price_amount / acquired.funding_total) AS perc\n",
    "FROM acquisition AS a\n",
    "LEFT OUTER JOIN acquiring ON a.acquiring_company_id = acquiring.acquiring_company_id\n",
    "LEFT OUTER JOIN acquired ON a.acquired_company_id = acquired.acquired_company_id\n",
    "WHERE a.price_amount != 0 AND acquired.funding_total != 0\n",
    "GROUP BY a.price_amount, acquired.funding_total, acquiring.name, acquired.name\n",
    "ORDER BY price_amount DESC, acquired_company ASC\n",
    "LIMIT 10;"
   ]
  },
  {
   "cell_type": "markdown",
   "id": "7e59b539-2bb9-48cf-b565-2010b8db82ea",
   "metadata": {},
   "source": [
    "21. Retrieve a table that includes the names of companies from the social category that received funding from 2010 to 2013, inclusive. Ensure that the investment amount is not equal to zero. Also, display the month number in which the financing round took place."
   ]
  },
  {
   "cell_type": "code",
   "execution_count": null,
   "id": "47a4f1e3-e9e2-4af6-b4eb-2fb8a85cf0cf",
   "metadata": {},
   "outputs": [],
   "source": [
    "SELECT c.name,\n",
    "       EXTRACT(MONTH FROM fr.funded_at::date) AS month\n",
    "FROM company AS c LEFT JOIN funding_round AS fr ON c.id=fr.company_id\n",
    "WHERE category_code='social' \n",
    "    AND EXTRACT(YEAR FROM fr.funded_at::date) BETWEEN 2010 AND 2013\n",
    "    AND fr.raised_amount <> 0;"
   ]
  },
  {
   "cell_type": "markdown",
   "id": "24357a91-df90-470b-b7b4-dec33e8ab235",
   "metadata": {},
   "source": [
    "22. Select data for the months from 2010 to 2013 when investment rounds took place. Group the data by the month number and create a table with the following fields:\n",
    "\n",
    "- Month number in which the rounds took place;\n",
    "- The count of unique names of funds from the USA that invested in that month;\n",
    "- The count of companies acquired in that month;\n",
    "- The total amount of deals for acquisitions in that month."
   ]
  },
  {
   "cell_type": "code",
   "execution_count": null,
   "id": "3315feb3-453b-4e73-a3c2-5608845e53be",
   "metadata": {},
   "outputs": [],
   "source": [
    "WITH fundings AS\n",
    "    (SELECT EXTRACT(MONTH FROM fr.funded_at::date) AS funding_month,\n",
    "    COUNT(DISTINCT f.id) AS us_funds\n",
    "    FROM fund AS f\n",
    "    JOIN investment AS i ON f.id = i.fund_id\n",
    "    JOIN funding_round AS fr ON i.funding_round_id = fr.id\n",
    "    WHERE f.country_code = 'USA'\n",
    "    AND EXTRACT(YEAR FROM fr.funded_at::date) BETWEEN 2010 AND 2013\n",
    "    GROUP BY funding_month),\n",
    "acquisitions AS\n",
    "    (SELECT EXTRACT(MONTH FROM acquired_at::date) AS funding_month,\n",
    "    COUNT(acquired_company_id) AS bought_co,\n",
    "    SUM(price_amount) AS sum_total\n",
    "    FROM acquisition\n",
    "    WHERE EXTRACT(YEAR FROM acquired_at::date) BETWEEN 2010 AND 2013\n",
    "    GROUP BY funding_month)\n",
    "SELECT fnd.funding_month,\n",
    "       fnd.us_funds,\n",
    "       acq.bought_co,\n",
    "       acq.sum_total\n",
    "FROM fundings AS fnd\n",
    "LEFT JOIN acquisitions AS acq ON fnd.funding_month = acq.funding_month;"
   ]
  },
  {
   "cell_type": "markdown",
   "id": "ca418d28-908d-4c52-afda-4f59cca16132",
   "metadata": {},
   "source": [
    "23. Create a pivot table and output the average investment amount for countries where there are startups registered in 2011, 2012, and 2013. Data for each year should be in a separate field. Sort the table by the average investment value for the year 2011 from highest to lowest."
   ]
  },
  {
   "cell_type": "code",
   "execution_count": null,
   "id": "2d5a1645-1cfc-4a55-bd4b-0de642db8e5b",
   "metadata": {},
   "outputs": [],
   "source": [
    "WITH y_11 AS (\n",
    "    SELECT country_code AS country,\n",
    "    AVG(funding_total) AS y_2011\n",
    "    FROM company\n",
    "    WHERE EXTRACT(YEAR FROM founded_at::date) IN (2011, 2012, 2013)\n",
    "    GROUP BY country, EXTRACT(YEAR FROM founded_at)\n",
    "    HAVING EXTRACT(YEAR FROM founded_at) = '2011'),\n",
    "y_12 AS (\n",
    "    SELECT country_code AS country,\n",
    "    AVG(funding_total) AS y_2012\n",
    "    FROM company\n",
    "    WHERE EXTRACT(YEAR FROM founded_at::date) IN(2011, 2012, 2013)\n",
    "    GROUP BY country, EXTRACT(YEAR FROM founded_at)\n",
    "    HAVING EXTRACT(YEAR FROM founded_at) = '2012'),\n",
    "y_13 AS (\n",
    "    SELECT country_code AS country,\n",
    "    AVG(funding_total) AS y_2013\n",
    "    FROM company\n",
    "    WHERE EXTRACT(YEAR FROM founded_at::date) IN(2011, 2012, 2013)\n",
    "    GROUP BY country, EXTRACT(YEAR FROM founded_at)\n",
    "    HAVING EXTRACT(YEAR FROM founded_at) = '2013')\n",
    "SELECT y_11.country,\n",
    "       y_2011,\n",
    "       y_2012,\n",
    "       y_2013\n",
    "FROM y_11\n",
    "JOIN y_12 ON y_11.country = y_12.country\n",
    "JOIN y_13 ON y_12.country = y_13.country\n",
    "ORDER BY y_2011 DESC;"
   ]
  }
 ],
 "metadata": {
  "kernelspec": {
   "display_name": "Python 3 (ipykernel)",
   "language": "python",
   "name": "python3"
  },
  "language_info": {
   "codemirror_mode": {
    "name": "ipython",
    "version": 3
   },
   "file_extension": ".py",
   "mimetype": "text/x-python",
   "name": "python",
   "nbconvert_exporter": "python",
   "pygments_lexer": "ipython3",
   "version": "3.9.5"
  }
 },
 "nbformat": 4,
 "nbformat_minor": 5
}
