{
 "cells": [
  {
   "cell_type": "markdown",
   "metadata": {},
   "source": [
    "# Location selection for a well"
   ]
  },
  {
   "cell_type": "markdown",
   "metadata": {},
   "source": [
    "Suppose we work for the \"MainRussianStateOil\" extraction company. The task at hand is to decide where to drill a new well.\n",
    "\n",
    "We have samples of oil from three regions: 10,000 deposits in each, where the quality of oil and the volume of its reserves have been measured. Build a machine learning model that will help determine the region where extraction will bring the greatest profit. Analyze potential profits and risks using the Bootstrap technique.\n",
    "\n",
    "Steps for selecting a location:\n",
    "\n",
    "1. In the chosen region, identify deposits and determine the values of features for each.\n",
    "2. Build a model and estimate the volume of reserves.\n",
    "3. Select deposits with the highest estimated values. The number of deposits depends on the company's budget and the cost of developing one well.\n",
    "4. Profit is equal to the total profit from the selected deposits."
   ]
  },
  {
   "cell_type": "markdown",
   "metadata": {},
   "source": [
    "## Research steps:\n",
    "\n",
    "- Open data files with paths: '/datasets/geo_data_0.csv', '/datasets/geo_data_1.csv', '/datasets/geo_data_2.csv'.\n",
    "- Train and test the model for each region.\n",
    "- Perform profit calculations.\n",
    "- Write a function for calculating profits based on selected wells and model predictions.\n",
    "- Evaluate risks and profits for each region.\n",
    "\n",
    "The data should have the following parameters:\n",
    "\n",
    "- id: a unique well identifier.\n",
    "- f0, f1, f2: three features of the points (it doesn't matter what they represent, but the features themselves are significant).\n",
    "- product: volume of reserves in the well (thousands of barrels)."
   ]
  },
  {
   "cell_type": "markdown",
   "metadata": {},
   "source": [
    "## Data Loading and Preparation"
   ]
  },
  {
   "cell_type": "markdown",
   "metadata": {},
   "source": [
    "Import all the necessary libraries."
   ]
  },
  {
   "cell_type": "code",
   "execution_count": 1,
   "metadata": {},
   "outputs": [],
   "source": [
    "import pandas as pd\n",
    "import matplotlib.pyplot as plt\n",
    "import numpy as np\n",
    "import seaborn as sns\n",
    "\n",
    "from sklearn.linear_model import LinearRegression\n",
    "from sklearn.model_selection import train_test_split\n",
    "from sklearn.preprocessing import StandardScaler\n",
    "from sklearn.metrics import mean_squared_error"
   ]
  },
  {
   "cell_type": "markdown",
   "metadata": {},
   "source": [
    "Declare and save key values in variables."
   ]
  },
  {
   "cell_type": "code",
   "execution_count": 2,
   "metadata": {},
   "outputs": [],
   "source": [
    "BUDGET = 10_000_000_000\n",
    "BARREL_PRICE = 450\n",
    "INCOME_PER_PRODUCT_UNIT = 450_000\n",
    "TOTAL_WELLS = 500\n",
    "BEST_WELLS = 200"
   ]
  },
  {
   "cell_type": "markdown",
   "metadata": {},
   "source": [
    "Извлечем данные из файлов."
   ]
  },
  {
   "cell_type": "code",
   "execution_count": 3,
   "metadata": {},
   "outputs": [],
   "source": [
    "gd0 = pd.read_csv('/Users/daniyardjumaliev/Jupyter/Projects/datasets/geo_data_0.csv')\n",
    "gd1 = pd.read_csv('/Users/daniyardjumaliev/Jupyter/Projects/datasets/geo_data_1.csv')\n",
    "gd2 = pd.read_csv('/Users/daniyardjumaliev/Jupyter/Projects/datasets/geo_data_2.csv')"
   ]
  },
  {
   "cell_type": "code",
   "execution_count": 4,
   "metadata": {},
   "outputs": [
    {
     "data": {
      "text/plain": [
       "'---------Geo Data 0-----------'"
      ]
     },
     "metadata": {},
     "output_type": "display_data"
    },
    {
     "data": {
      "text/html": [
       "<div>\n",
       "<style scoped>\n",
       "    .dataframe tbody tr th:only-of-type {\n",
       "        vertical-align: middle;\n",
       "    }\n",
       "\n",
       "    .dataframe tbody tr th {\n",
       "        vertical-align: top;\n",
       "    }\n",
       "\n",
       "    .dataframe thead th {\n",
       "        text-align: right;\n",
       "    }\n",
       "</style>\n",
       "<table border=\"1\" class=\"dataframe\">\n",
       "  <thead>\n",
       "    <tr style=\"text-align: right;\">\n",
       "      <th></th>\n",
       "      <th>id</th>\n",
       "      <th>f0</th>\n",
       "      <th>f1</th>\n",
       "      <th>f2</th>\n",
       "      <th>product</th>\n",
       "    </tr>\n",
       "  </thead>\n",
       "  <tbody>\n",
       "    <tr>\n",
       "      <th>0</th>\n",
       "      <td>txEyH</td>\n",
       "      <td>0.705745</td>\n",
       "      <td>-0.497823</td>\n",
       "      <td>1.221170</td>\n",
       "      <td>105.280062</td>\n",
       "    </tr>\n",
       "    <tr>\n",
       "      <th>1</th>\n",
       "      <td>2acmU</td>\n",
       "      <td>1.334711</td>\n",
       "      <td>-0.340164</td>\n",
       "      <td>4.365080</td>\n",
       "      <td>73.037750</td>\n",
       "    </tr>\n",
       "    <tr>\n",
       "      <th>2</th>\n",
       "      <td>409Wp</td>\n",
       "      <td>1.022732</td>\n",
       "      <td>0.151990</td>\n",
       "      <td>1.419926</td>\n",
       "      <td>85.265647</td>\n",
       "    </tr>\n",
       "    <tr>\n",
       "      <th>3</th>\n",
       "      <td>iJLyR</td>\n",
       "      <td>-0.032172</td>\n",
       "      <td>0.139033</td>\n",
       "      <td>2.978566</td>\n",
       "      <td>168.620776</td>\n",
       "    </tr>\n",
       "    <tr>\n",
       "      <th>4</th>\n",
       "      <td>Xdl7t</td>\n",
       "      <td>1.988431</td>\n",
       "      <td>0.155413</td>\n",
       "      <td>4.751769</td>\n",
       "      <td>154.036647</td>\n",
       "    </tr>\n",
       "    <tr>\n",
       "      <th>...</th>\n",
       "      <td>...</td>\n",
       "      <td>...</td>\n",
       "      <td>...</td>\n",
       "      <td>...</td>\n",
       "      <td>...</td>\n",
       "    </tr>\n",
       "    <tr>\n",
       "      <th>99995</th>\n",
       "      <td>DLsed</td>\n",
       "      <td>0.971957</td>\n",
       "      <td>0.370953</td>\n",
       "      <td>6.075346</td>\n",
       "      <td>110.744026</td>\n",
       "    </tr>\n",
       "    <tr>\n",
       "      <th>99996</th>\n",
       "      <td>QKivN</td>\n",
       "      <td>1.392429</td>\n",
       "      <td>-0.382606</td>\n",
       "      <td>1.273912</td>\n",
       "      <td>122.346843</td>\n",
       "    </tr>\n",
       "    <tr>\n",
       "      <th>99997</th>\n",
       "      <td>3rnvd</td>\n",
       "      <td>1.029585</td>\n",
       "      <td>0.018787</td>\n",
       "      <td>-1.348308</td>\n",
       "      <td>64.375443</td>\n",
       "    </tr>\n",
       "    <tr>\n",
       "      <th>99998</th>\n",
       "      <td>7kl59</td>\n",
       "      <td>0.998163</td>\n",
       "      <td>-0.528582</td>\n",
       "      <td>1.583869</td>\n",
       "      <td>74.040764</td>\n",
       "    </tr>\n",
       "    <tr>\n",
       "      <th>99999</th>\n",
       "      <td>1CWhH</td>\n",
       "      <td>1.764754</td>\n",
       "      <td>-0.266417</td>\n",
       "      <td>5.722849</td>\n",
       "      <td>149.633246</td>\n",
       "    </tr>\n",
       "  </tbody>\n",
       "</table>\n",
       "<p>100000 rows × 5 columns</p>\n",
       "</div>"
      ],
      "text/plain": [
       "          id        f0        f1        f2     product\n",
       "0      txEyH  0.705745 -0.497823  1.221170  105.280062\n",
       "1      2acmU  1.334711 -0.340164  4.365080   73.037750\n",
       "2      409Wp  1.022732  0.151990  1.419926   85.265647\n",
       "3      iJLyR -0.032172  0.139033  2.978566  168.620776\n",
       "4      Xdl7t  1.988431  0.155413  4.751769  154.036647\n",
       "...      ...       ...       ...       ...         ...\n",
       "99995  DLsed  0.971957  0.370953  6.075346  110.744026\n",
       "99996  QKivN  1.392429 -0.382606  1.273912  122.346843\n",
       "99997  3rnvd  1.029585  0.018787 -1.348308   64.375443\n",
       "99998  7kl59  0.998163 -0.528582  1.583869   74.040764\n",
       "99999  1CWhH  1.764754 -0.266417  5.722849  149.633246\n",
       "\n",
       "[100000 rows x 5 columns]"
      ]
     },
     "metadata": {},
     "output_type": "display_data"
    },
    {
     "data": {
      "text/html": [
       "<div>\n",
       "<style scoped>\n",
       "    .dataframe tbody tr th:only-of-type {\n",
       "        vertical-align: middle;\n",
       "    }\n",
       "\n",
       "    .dataframe tbody tr th {\n",
       "        vertical-align: top;\n",
       "    }\n",
       "\n",
       "    .dataframe thead th {\n",
       "        text-align: right;\n",
       "    }\n",
       "</style>\n",
       "<table border=\"1\" class=\"dataframe\">\n",
       "  <thead>\n",
       "    <tr style=\"text-align: right;\">\n",
       "      <th></th>\n",
       "      <th>f0</th>\n",
       "      <th>f1</th>\n",
       "      <th>f2</th>\n",
       "      <th>product</th>\n",
       "    </tr>\n",
       "  </thead>\n",
       "  <tbody>\n",
       "    <tr>\n",
       "      <th>count</th>\n",
       "      <td>100000.000000</td>\n",
       "      <td>100000.000000</td>\n",
       "      <td>100000.000000</td>\n",
       "      <td>100000.000000</td>\n",
       "    </tr>\n",
       "    <tr>\n",
       "      <th>mean</th>\n",
       "      <td>0.500419</td>\n",
       "      <td>0.250143</td>\n",
       "      <td>2.502647</td>\n",
       "      <td>92.500000</td>\n",
       "    </tr>\n",
       "    <tr>\n",
       "      <th>std</th>\n",
       "      <td>0.871832</td>\n",
       "      <td>0.504433</td>\n",
       "      <td>3.248248</td>\n",
       "      <td>44.288691</td>\n",
       "    </tr>\n",
       "    <tr>\n",
       "      <th>min</th>\n",
       "      <td>-1.408605</td>\n",
       "      <td>-0.848218</td>\n",
       "      <td>-12.088328</td>\n",
       "      <td>0.000000</td>\n",
       "    </tr>\n",
       "    <tr>\n",
       "      <th>25%</th>\n",
       "      <td>-0.072580</td>\n",
       "      <td>-0.200881</td>\n",
       "      <td>0.287748</td>\n",
       "      <td>56.497507</td>\n",
       "    </tr>\n",
       "    <tr>\n",
       "      <th>50%</th>\n",
       "      <td>0.502360</td>\n",
       "      <td>0.250252</td>\n",
       "      <td>2.515969</td>\n",
       "      <td>91.849972</td>\n",
       "    </tr>\n",
       "    <tr>\n",
       "      <th>75%</th>\n",
       "      <td>1.073581</td>\n",
       "      <td>0.700646</td>\n",
       "      <td>4.715088</td>\n",
       "      <td>128.564089</td>\n",
       "    </tr>\n",
       "    <tr>\n",
       "      <th>max</th>\n",
       "      <td>2.362331</td>\n",
       "      <td>1.343769</td>\n",
       "      <td>16.003790</td>\n",
       "      <td>185.364347</td>\n",
       "    </tr>\n",
       "  </tbody>\n",
       "</table>\n",
       "</div>"
      ],
      "text/plain": [
       "                  f0             f1             f2        product\n",
       "count  100000.000000  100000.000000  100000.000000  100000.000000\n",
       "mean        0.500419       0.250143       2.502647      92.500000\n",
       "std         0.871832       0.504433       3.248248      44.288691\n",
       "min        -1.408605      -0.848218     -12.088328       0.000000\n",
       "25%        -0.072580      -0.200881       0.287748      56.497507\n",
       "50%         0.502360       0.250252       2.515969      91.849972\n",
       "75%         1.073581       0.700646       4.715088     128.564089\n",
       "max         2.362331       1.343769      16.003790     185.364347"
      ]
     },
     "metadata": {},
     "output_type": "display_data"
    },
    {
     "name": "stdout",
     "output_type": "stream",
     "text": [
      "<class 'pandas.core.frame.DataFrame'>\n",
      "RangeIndex: 100000 entries, 0 to 99999\n",
      "Data columns (total 5 columns):\n",
      " #   Column   Non-Null Count   Dtype  \n",
      "---  ------   --------------   -----  \n",
      " 0   id       100000 non-null  object \n",
      " 1   f0       100000 non-null  float64\n",
      " 2   f1       100000 non-null  float64\n",
      " 3   f2       100000 non-null  float64\n",
      " 4   product  100000 non-null  float64\n",
      "dtypes: float64(4), object(1)\n",
      "memory usage: 3.8+ MB\n"
     ]
    },
    {
     "data": {
      "text/plain": [
       "'Duplicates in Region 0: 0'"
      ]
     },
     "metadata": {},
     "output_type": "display_data"
    },
    {
     "data": {
      "text/plain": [
       "'Missing Values in Region 0'"
      ]
     },
     "metadata": {},
     "output_type": "display_data"
    },
    {
     "data": {
      "text/plain": [
       "id         0\n",
       "f0         0\n",
       "f1         0\n",
       "f2         0\n",
       "product    0\n",
       "dtype: int64"
      ]
     },
     "metadata": {},
     "output_type": "display_data"
    },
    {
     "data": {
      "text/plain": [
       "product\n",
       "105.280062    1\n",
       "122.799517    1\n",
       "61.817308     1\n",
       "37.155071     1\n",
       "73.090084     1\n",
       "             ..\n",
       "154.694803    1\n",
       "79.818082     1\n",
       "138.609486    1\n",
       "62.540393     1\n",
       "149.633246    1\n",
       "Name: count, Length: 100000, dtype: int64"
      ]
     },
     "metadata": {},
     "output_type": "display_data"
    },
    {
     "data": {
      "text/plain": [
       "'Duplicates by id - Region 0: 10'"
      ]
     },
     "metadata": {},
     "output_type": "display_data"
    }
   ],
   "source": [
    "display('---------Geo Data 0-----------')\n",
    "display(gd0)\n",
    "display(gd0.describe())\n",
    "gd0.info()\n",
    "display(f'Duplicates in Region 0: {gd0.duplicated().sum()}')\n",
    "display(f'Missing Values in Region 0')\n",
    "display(gd0.isna().sum())\n",
    "display(gd0['product'].value_counts())\n",
    "display(f'Duplicates by id - Region 0: {gd0[\"id\"].duplicated().sum()}')"
   ]
  },
  {
   "cell_type": "code",
   "execution_count": 5,
   "metadata": {},
   "outputs": [
    {
     "data": {
      "text/plain": [
       "'---------Geo Data 1-----------'"
      ]
     },
     "metadata": {},
     "output_type": "display_data"
    },
    {
     "data": {
      "text/html": [
       "<div>\n",
       "<style scoped>\n",
       "    .dataframe tbody tr th:only-of-type {\n",
       "        vertical-align: middle;\n",
       "    }\n",
       "\n",
       "    .dataframe tbody tr th {\n",
       "        vertical-align: top;\n",
       "    }\n",
       "\n",
       "    .dataframe thead th {\n",
       "        text-align: right;\n",
       "    }\n",
       "</style>\n",
       "<table border=\"1\" class=\"dataframe\">\n",
       "  <thead>\n",
       "    <tr style=\"text-align: right;\">\n",
       "      <th></th>\n",
       "      <th>id</th>\n",
       "      <th>f0</th>\n",
       "      <th>f1</th>\n",
       "      <th>f2</th>\n",
       "      <th>product</th>\n",
       "    </tr>\n",
       "  </thead>\n",
       "  <tbody>\n",
       "    <tr>\n",
       "      <th>0</th>\n",
       "      <td>kBEdx</td>\n",
       "      <td>-15.001348</td>\n",
       "      <td>-8.276000</td>\n",
       "      <td>-0.005876</td>\n",
       "      <td>3.179103</td>\n",
       "    </tr>\n",
       "    <tr>\n",
       "      <th>1</th>\n",
       "      <td>62mP7</td>\n",
       "      <td>14.272088</td>\n",
       "      <td>-3.475083</td>\n",
       "      <td>0.999183</td>\n",
       "      <td>26.953261</td>\n",
       "    </tr>\n",
       "    <tr>\n",
       "      <th>2</th>\n",
       "      <td>vyE1P</td>\n",
       "      <td>6.263187</td>\n",
       "      <td>-5.948386</td>\n",
       "      <td>5.001160</td>\n",
       "      <td>134.766305</td>\n",
       "    </tr>\n",
       "    <tr>\n",
       "      <th>3</th>\n",
       "      <td>KcrkZ</td>\n",
       "      <td>-13.081196</td>\n",
       "      <td>-11.506057</td>\n",
       "      <td>4.999415</td>\n",
       "      <td>137.945408</td>\n",
       "    </tr>\n",
       "    <tr>\n",
       "      <th>4</th>\n",
       "      <td>AHL4O</td>\n",
       "      <td>12.702195</td>\n",
       "      <td>-8.147433</td>\n",
       "      <td>5.004363</td>\n",
       "      <td>134.766305</td>\n",
       "    </tr>\n",
       "    <tr>\n",
       "      <th>...</th>\n",
       "      <td>...</td>\n",
       "      <td>...</td>\n",
       "      <td>...</td>\n",
       "      <td>...</td>\n",
       "      <td>...</td>\n",
       "    </tr>\n",
       "    <tr>\n",
       "      <th>99995</th>\n",
       "      <td>QywKC</td>\n",
       "      <td>9.535637</td>\n",
       "      <td>-6.878139</td>\n",
       "      <td>1.998296</td>\n",
       "      <td>53.906522</td>\n",
       "    </tr>\n",
       "    <tr>\n",
       "      <th>99996</th>\n",
       "      <td>ptvty</td>\n",
       "      <td>-10.160631</td>\n",
       "      <td>-12.558096</td>\n",
       "      <td>5.005581</td>\n",
       "      <td>137.945408</td>\n",
       "    </tr>\n",
       "    <tr>\n",
       "      <th>99997</th>\n",
       "      <td>09gWa</td>\n",
       "      <td>-7.378891</td>\n",
       "      <td>-3.084104</td>\n",
       "      <td>4.998651</td>\n",
       "      <td>137.945408</td>\n",
       "    </tr>\n",
       "    <tr>\n",
       "      <th>99998</th>\n",
       "      <td>rqwUm</td>\n",
       "      <td>0.665714</td>\n",
       "      <td>-6.152593</td>\n",
       "      <td>1.000146</td>\n",
       "      <td>30.132364</td>\n",
       "    </tr>\n",
       "    <tr>\n",
       "      <th>99999</th>\n",
       "      <td>relB0</td>\n",
       "      <td>-3.426139</td>\n",
       "      <td>-7.794274</td>\n",
       "      <td>-0.003299</td>\n",
       "      <td>3.179103</td>\n",
       "    </tr>\n",
       "  </tbody>\n",
       "</table>\n",
       "<p>100000 rows × 5 columns</p>\n",
       "</div>"
      ],
      "text/plain": [
       "          id         f0         f1        f2     product\n",
       "0      kBEdx -15.001348  -8.276000 -0.005876    3.179103\n",
       "1      62mP7  14.272088  -3.475083  0.999183   26.953261\n",
       "2      vyE1P   6.263187  -5.948386  5.001160  134.766305\n",
       "3      KcrkZ -13.081196 -11.506057  4.999415  137.945408\n",
       "4      AHL4O  12.702195  -8.147433  5.004363  134.766305\n",
       "...      ...        ...        ...       ...         ...\n",
       "99995  QywKC   9.535637  -6.878139  1.998296   53.906522\n",
       "99996  ptvty -10.160631 -12.558096  5.005581  137.945408\n",
       "99997  09gWa  -7.378891  -3.084104  4.998651  137.945408\n",
       "99998  rqwUm   0.665714  -6.152593  1.000146   30.132364\n",
       "99999  relB0  -3.426139  -7.794274 -0.003299    3.179103\n",
       "\n",
       "[100000 rows x 5 columns]"
      ]
     },
     "metadata": {},
     "output_type": "display_data"
    },
    {
     "data": {
      "text/html": [
       "<div>\n",
       "<style scoped>\n",
       "    .dataframe tbody tr th:only-of-type {\n",
       "        vertical-align: middle;\n",
       "    }\n",
       "\n",
       "    .dataframe tbody tr th {\n",
       "        vertical-align: top;\n",
       "    }\n",
       "\n",
       "    .dataframe thead th {\n",
       "        text-align: right;\n",
       "    }\n",
       "</style>\n",
       "<table border=\"1\" class=\"dataframe\">\n",
       "  <thead>\n",
       "    <tr style=\"text-align: right;\">\n",
       "      <th></th>\n",
       "      <th>f0</th>\n",
       "      <th>f1</th>\n",
       "      <th>f2</th>\n",
       "      <th>product</th>\n",
       "    </tr>\n",
       "  </thead>\n",
       "  <tbody>\n",
       "    <tr>\n",
       "      <th>count</th>\n",
       "      <td>100000.000000</td>\n",
       "      <td>100000.000000</td>\n",
       "      <td>100000.000000</td>\n",
       "      <td>100000.000000</td>\n",
       "    </tr>\n",
       "    <tr>\n",
       "      <th>mean</th>\n",
       "      <td>1.141296</td>\n",
       "      <td>-4.796579</td>\n",
       "      <td>2.494541</td>\n",
       "      <td>68.825000</td>\n",
       "    </tr>\n",
       "    <tr>\n",
       "      <th>std</th>\n",
       "      <td>8.965932</td>\n",
       "      <td>5.119872</td>\n",
       "      <td>1.703572</td>\n",
       "      <td>45.944423</td>\n",
       "    </tr>\n",
       "    <tr>\n",
       "      <th>min</th>\n",
       "      <td>-31.609576</td>\n",
       "      <td>-26.358598</td>\n",
       "      <td>-0.018144</td>\n",
       "      <td>0.000000</td>\n",
       "    </tr>\n",
       "    <tr>\n",
       "      <th>25%</th>\n",
       "      <td>-6.298551</td>\n",
       "      <td>-8.267985</td>\n",
       "      <td>1.000021</td>\n",
       "      <td>26.953261</td>\n",
       "    </tr>\n",
       "    <tr>\n",
       "      <th>50%</th>\n",
       "      <td>1.153055</td>\n",
       "      <td>-4.813172</td>\n",
       "      <td>2.011479</td>\n",
       "      <td>57.085625</td>\n",
       "    </tr>\n",
       "    <tr>\n",
       "      <th>75%</th>\n",
       "      <td>8.621015</td>\n",
       "      <td>-1.332816</td>\n",
       "      <td>3.999904</td>\n",
       "      <td>107.813044</td>\n",
       "    </tr>\n",
       "    <tr>\n",
       "      <th>max</th>\n",
       "      <td>29.421755</td>\n",
       "      <td>18.734063</td>\n",
       "      <td>5.019721</td>\n",
       "      <td>137.945408</td>\n",
       "    </tr>\n",
       "  </tbody>\n",
       "</table>\n",
       "</div>"
      ],
      "text/plain": [
       "                  f0             f1             f2        product\n",
       "count  100000.000000  100000.000000  100000.000000  100000.000000\n",
       "mean        1.141296      -4.796579       2.494541      68.825000\n",
       "std         8.965932       5.119872       1.703572      45.944423\n",
       "min       -31.609576     -26.358598      -0.018144       0.000000\n",
       "25%        -6.298551      -8.267985       1.000021      26.953261\n",
       "50%         1.153055      -4.813172       2.011479      57.085625\n",
       "75%         8.621015      -1.332816       3.999904     107.813044\n",
       "max        29.421755      18.734063       5.019721     137.945408"
      ]
     },
     "metadata": {},
     "output_type": "display_data"
    },
    {
     "name": "stdout",
     "output_type": "stream",
     "text": [
      "<class 'pandas.core.frame.DataFrame'>\n",
      "RangeIndex: 100000 entries, 0 to 99999\n",
      "Data columns (total 5 columns):\n",
      " #   Column   Non-Null Count   Dtype  \n",
      "---  ------   --------------   -----  \n",
      " 0   id       100000 non-null  object \n",
      " 1   f0       100000 non-null  float64\n",
      " 2   f1       100000 non-null  float64\n",
      " 3   f2       100000 non-null  float64\n",
      " 4   product  100000 non-null  float64\n",
      "dtypes: float64(4), object(1)\n",
      "memory usage: 3.8+ MB\n"
     ]
    },
    {
     "data": {
      "text/plain": [
       "'Duplicates in Region 1: 0'"
      ]
     },
     "metadata": {},
     "output_type": "display_data"
    },
    {
     "data": {
      "text/plain": [
       "'Missing Values in Region 1'"
      ]
     },
     "metadata": {},
     "output_type": "display_data"
    },
    {
     "data": {
      "text/plain": [
       "id         0\n",
       "f0         0\n",
       "f1         0\n",
       "f2         0\n",
       "product    0\n",
       "dtype: int64"
      ]
     },
     "metadata": {},
     "output_type": "display_data"
    },
    {
     "data": {
      "text/plain": [
       "product\n",
       "53.906522     8472\n",
       "26.953261     8468\n",
       "84.038886     8431\n",
       "57.085625     8390\n",
       "3.179103      8337\n",
       "80.859783     8320\n",
       "30.132364     8306\n",
       "134.766305    8304\n",
       "110.992147    8303\n",
       "0.000000      8235\n",
       "137.945408    8233\n",
       "107.813044    8201\n",
       "Name: count, dtype: int64"
      ]
     },
     "metadata": {},
     "output_type": "display_data"
    },
    {
     "data": {
      "text/plain": [
       "'Duplicates by id - Region 1: 4'"
      ]
     },
     "metadata": {},
     "output_type": "display_data"
    }
   ],
   "source": [
    "display('---------Geo Data 1-----------')\n",
    "display(gd1)\n",
    "display(gd1.describe())\n",
    "gd1.info()\n",
    "display(f'Duplicates in Region 1: {gd1.duplicated().sum()}')\n",
    "display(f'Missing Values in Region 1')\n",
    "display(gd1.isna().sum())\n",
    "display(gd1['product'].value_counts())\n",
    "display(f'Duplicates by id - Region 1: {gd1[\"id\"].duplicated().sum()}')"
   ]
  },
  {
   "cell_type": "code",
   "execution_count": 6,
   "metadata": {},
   "outputs": [
    {
     "data": {
      "text/plain": [
       "'---------Geo Data 2-----------'"
      ]
     },
     "metadata": {},
     "output_type": "display_data"
    },
    {
     "data": {
      "text/html": [
       "<div>\n",
       "<style scoped>\n",
       "    .dataframe tbody tr th:only-of-type {\n",
       "        vertical-align: middle;\n",
       "    }\n",
       "\n",
       "    .dataframe tbody tr th {\n",
       "        vertical-align: top;\n",
       "    }\n",
       "\n",
       "    .dataframe thead th {\n",
       "        text-align: right;\n",
       "    }\n",
       "</style>\n",
       "<table border=\"1\" class=\"dataframe\">\n",
       "  <thead>\n",
       "    <tr style=\"text-align: right;\">\n",
       "      <th></th>\n",
       "      <th>id</th>\n",
       "      <th>f0</th>\n",
       "      <th>f1</th>\n",
       "      <th>f2</th>\n",
       "      <th>product</th>\n",
       "    </tr>\n",
       "  </thead>\n",
       "  <tbody>\n",
       "    <tr>\n",
       "      <th>0</th>\n",
       "      <td>fwXo0</td>\n",
       "      <td>-1.146987</td>\n",
       "      <td>0.963328</td>\n",
       "      <td>-0.828965</td>\n",
       "      <td>27.758673</td>\n",
       "    </tr>\n",
       "    <tr>\n",
       "      <th>1</th>\n",
       "      <td>WJtFt</td>\n",
       "      <td>0.262778</td>\n",
       "      <td>0.269839</td>\n",
       "      <td>-2.530187</td>\n",
       "      <td>56.069697</td>\n",
       "    </tr>\n",
       "    <tr>\n",
       "      <th>2</th>\n",
       "      <td>ovLUW</td>\n",
       "      <td>0.194587</td>\n",
       "      <td>0.289035</td>\n",
       "      <td>-5.586433</td>\n",
       "      <td>62.871910</td>\n",
       "    </tr>\n",
       "    <tr>\n",
       "      <th>3</th>\n",
       "      <td>q6cA6</td>\n",
       "      <td>2.236060</td>\n",
       "      <td>-0.553760</td>\n",
       "      <td>0.930038</td>\n",
       "      <td>114.572842</td>\n",
       "    </tr>\n",
       "    <tr>\n",
       "      <th>4</th>\n",
       "      <td>WPMUX</td>\n",
       "      <td>-0.515993</td>\n",
       "      <td>1.716266</td>\n",
       "      <td>5.899011</td>\n",
       "      <td>149.600746</td>\n",
       "    </tr>\n",
       "    <tr>\n",
       "      <th>...</th>\n",
       "      <td>...</td>\n",
       "      <td>...</td>\n",
       "      <td>...</td>\n",
       "      <td>...</td>\n",
       "      <td>...</td>\n",
       "    </tr>\n",
       "    <tr>\n",
       "      <th>99995</th>\n",
       "      <td>4GxBu</td>\n",
       "      <td>-1.777037</td>\n",
       "      <td>1.125220</td>\n",
       "      <td>6.263374</td>\n",
       "      <td>172.327046</td>\n",
       "    </tr>\n",
       "    <tr>\n",
       "      <th>99996</th>\n",
       "      <td>YKFjq</td>\n",
       "      <td>-1.261523</td>\n",
       "      <td>-0.894828</td>\n",
       "      <td>2.524545</td>\n",
       "      <td>138.748846</td>\n",
       "    </tr>\n",
       "    <tr>\n",
       "      <th>99997</th>\n",
       "      <td>tKPY3</td>\n",
       "      <td>-1.199934</td>\n",
       "      <td>-2.957637</td>\n",
       "      <td>5.219411</td>\n",
       "      <td>157.080080</td>\n",
       "    </tr>\n",
       "    <tr>\n",
       "      <th>99998</th>\n",
       "      <td>nmxp2</td>\n",
       "      <td>-2.419896</td>\n",
       "      <td>2.417221</td>\n",
       "      <td>-5.548444</td>\n",
       "      <td>51.795253</td>\n",
       "    </tr>\n",
       "    <tr>\n",
       "      <th>99999</th>\n",
       "      <td>V9kWn</td>\n",
       "      <td>-2.551421</td>\n",
       "      <td>-2.025625</td>\n",
       "      <td>6.090891</td>\n",
       "      <td>102.775767</td>\n",
       "    </tr>\n",
       "  </tbody>\n",
       "</table>\n",
       "<p>100000 rows × 5 columns</p>\n",
       "</div>"
      ],
      "text/plain": [
       "          id        f0        f1        f2     product\n",
       "0      fwXo0 -1.146987  0.963328 -0.828965   27.758673\n",
       "1      WJtFt  0.262778  0.269839 -2.530187   56.069697\n",
       "2      ovLUW  0.194587  0.289035 -5.586433   62.871910\n",
       "3      q6cA6  2.236060 -0.553760  0.930038  114.572842\n",
       "4      WPMUX -0.515993  1.716266  5.899011  149.600746\n",
       "...      ...       ...       ...       ...         ...\n",
       "99995  4GxBu -1.777037  1.125220  6.263374  172.327046\n",
       "99996  YKFjq -1.261523 -0.894828  2.524545  138.748846\n",
       "99997  tKPY3 -1.199934 -2.957637  5.219411  157.080080\n",
       "99998  nmxp2 -2.419896  2.417221 -5.548444   51.795253\n",
       "99999  V9kWn -2.551421 -2.025625  6.090891  102.775767\n",
       "\n",
       "[100000 rows x 5 columns]"
      ]
     },
     "metadata": {},
     "output_type": "display_data"
    },
    {
     "data": {
      "text/html": [
       "<div>\n",
       "<style scoped>\n",
       "    .dataframe tbody tr th:only-of-type {\n",
       "        vertical-align: middle;\n",
       "    }\n",
       "\n",
       "    .dataframe tbody tr th {\n",
       "        vertical-align: top;\n",
       "    }\n",
       "\n",
       "    .dataframe thead th {\n",
       "        text-align: right;\n",
       "    }\n",
       "</style>\n",
       "<table border=\"1\" class=\"dataframe\">\n",
       "  <thead>\n",
       "    <tr style=\"text-align: right;\">\n",
       "      <th></th>\n",
       "      <th>f0</th>\n",
       "      <th>f1</th>\n",
       "      <th>f2</th>\n",
       "      <th>product</th>\n",
       "    </tr>\n",
       "  </thead>\n",
       "  <tbody>\n",
       "    <tr>\n",
       "      <th>count</th>\n",
       "      <td>100000.000000</td>\n",
       "      <td>100000.000000</td>\n",
       "      <td>100000.000000</td>\n",
       "      <td>100000.000000</td>\n",
       "    </tr>\n",
       "    <tr>\n",
       "      <th>mean</th>\n",
       "      <td>0.002023</td>\n",
       "      <td>-0.002081</td>\n",
       "      <td>2.495128</td>\n",
       "      <td>95.000000</td>\n",
       "    </tr>\n",
       "    <tr>\n",
       "      <th>std</th>\n",
       "      <td>1.732045</td>\n",
       "      <td>1.730417</td>\n",
       "      <td>3.473445</td>\n",
       "      <td>44.749921</td>\n",
       "    </tr>\n",
       "    <tr>\n",
       "      <th>min</th>\n",
       "      <td>-8.760004</td>\n",
       "      <td>-7.084020</td>\n",
       "      <td>-11.970335</td>\n",
       "      <td>0.000000</td>\n",
       "    </tr>\n",
       "    <tr>\n",
       "      <th>25%</th>\n",
       "      <td>-1.162288</td>\n",
       "      <td>-1.174820</td>\n",
       "      <td>0.130359</td>\n",
       "      <td>59.450441</td>\n",
       "    </tr>\n",
       "    <tr>\n",
       "      <th>50%</th>\n",
       "      <td>0.009424</td>\n",
       "      <td>-0.009482</td>\n",
       "      <td>2.484236</td>\n",
       "      <td>94.925613</td>\n",
       "    </tr>\n",
       "    <tr>\n",
       "      <th>75%</th>\n",
       "      <td>1.158535</td>\n",
       "      <td>1.163678</td>\n",
       "      <td>4.858794</td>\n",
       "      <td>130.595027</td>\n",
       "    </tr>\n",
       "    <tr>\n",
       "      <th>max</th>\n",
       "      <td>7.238262</td>\n",
       "      <td>7.844801</td>\n",
       "      <td>16.739402</td>\n",
       "      <td>190.029838</td>\n",
       "    </tr>\n",
       "  </tbody>\n",
       "</table>\n",
       "</div>"
      ],
      "text/plain": [
       "                  f0             f1             f2        product\n",
       "count  100000.000000  100000.000000  100000.000000  100000.000000\n",
       "mean        0.002023      -0.002081       2.495128      95.000000\n",
       "std         1.732045       1.730417       3.473445      44.749921\n",
       "min        -8.760004      -7.084020     -11.970335       0.000000\n",
       "25%        -1.162288      -1.174820       0.130359      59.450441\n",
       "50%         0.009424      -0.009482       2.484236      94.925613\n",
       "75%         1.158535       1.163678       4.858794     130.595027\n",
       "max         7.238262       7.844801      16.739402     190.029838"
      ]
     },
     "metadata": {},
     "output_type": "display_data"
    },
    {
     "name": "stdout",
     "output_type": "stream",
     "text": [
      "<class 'pandas.core.frame.DataFrame'>\n",
      "RangeIndex: 100000 entries, 0 to 99999\n",
      "Data columns (total 5 columns):\n",
      " #   Column   Non-Null Count   Dtype  \n",
      "---  ------   --------------   -----  \n",
      " 0   id       100000 non-null  object \n",
      " 1   f0       100000 non-null  float64\n",
      " 2   f1       100000 non-null  float64\n",
      " 3   f2       100000 non-null  float64\n",
      " 4   product  100000 non-null  float64\n",
      "dtypes: float64(4), object(1)\n",
      "memory usage: 3.8+ MB\n"
     ]
    },
    {
     "data": {
      "text/plain": [
       "'Duplicates in Region 2: 0'"
      ]
     },
     "metadata": {},
     "output_type": "display_data"
    },
    {
     "data": {
      "text/plain": [
       "'Missing Values in Region 2'"
      ]
     },
     "metadata": {},
     "output_type": "display_data"
    },
    {
     "data": {
      "text/plain": [
       "id         0\n",
       "f0         0\n",
       "f1         0\n",
       "f2         0\n",
       "product    0\n",
       "dtype: int64"
      ]
     },
     "metadata": {},
     "output_type": "display_data"
    },
    {
     "data": {
      "text/plain": [
       "product\n",
       "27.758673     1\n",
       "145.850966    1\n",
       "51.061821     1\n",
       "51.767755     1\n",
       "127.557176    1\n",
       "             ..\n",
       "138.662027    1\n",
       "171.123264    1\n",
       "102.381336    1\n",
       "140.622292    1\n",
       "102.775767    1\n",
       "Name: count, Length: 100000, dtype: int64"
      ]
     },
     "metadata": {},
     "output_type": "display_data"
    },
    {
     "data": {
      "text/plain": [
       "'Duplicates by id - Region 2: 4'"
      ]
     },
     "metadata": {},
     "output_type": "display_data"
    }
   ],
   "source": [
    "display('---------Geo Data 2-----------')\n",
    "display(gd2)\n",
    "display(gd2.describe())\n",
    "gd2.info()\n",
    "display(f'Duplicates in Region 2: {gd2.duplicated().sum()}')\n",
    "display(f'Missing Values in Region 2')\n",
    "display(gd2.isna().sum())\n",
    "display(gd2['product'].value_counts())\n",
    "display(f'Duplicates by id - Region 2: {gd2[\"id\"].duplicated().sum()}')"
   ]
  },
  {
   "cell_type": "markdown",
   "metadata": {},
   "source": [
    "Let's remove rows with duplicates based on id. Since there are only a few of them, deleting or preserving these rows in the table is not critical."
   ]
  },
  {
   "cell_type": "code",
   "execution_count": 7,
   "metadata": {},
   "outputs": [
    {
     "data": {
      "text/plain": [
       "'Duplicates by id - Region 0. 0'"
      ]
     },
     "metadata": {},
     "output_type": "display_data"
    },
    {
     "data": {
      "text/plain": [
       "'Duplicates by id - Region 1. 0'"
      ]
     },
     "metadata": {},
     "output_type": "display_data"
    },
    {
     "data": {
      "text/plain": [
       "'Duplicates by id - Region 2. 0'"
      ]
     },
     "metadata": {},
     "output_type": "display_data"
    }
   ],
   "source": [
    "gd0.drop_duplicates(subset='id', keep='first', inplace=True)\n",
    "gd1.drop_duplicates(subset='id', keep='first', inplace=True)\n",
    "gd2.drop_duplicates(subset='id', keep='first', inplace=True)\n",
    "\n",
    "display(f'Duplicates by id - Region 0. {gd0[\"id\"].duplicated().sum()}')\n",
    "display(f'Duplicates by id - Region 1. {gd1[\"id\"].duplicated().sum()}')\n",
    "display(f'Duplicates by id - Region 2. {gd2[\"id\"].duplicated().sum()}')"
   ]
  },
  {
   "cell_type": "code",
   "execution_count": 8,
   "metadata": {},
   "outputs": [
    {
     "data": {
      "image/png": "[encoded data removed]",
      "text/plain": [
       "<Figure size 640x480 with 1 Axes>"
      ]
     },
     "metadata": {},
     "output_type": "display_data"
    }
   ],
   "source": [
    "plt.hist(gd0['product'], bins=20, edgecolor='k')\n",
    "plt.xlabel('Volume of reserves in the well (thousands of barrels)')\n",
    "plt.ylabel('Frequency')\n",
    "plt.title('Histogram of reserves volume in wells for Region 0')\n",
    "plt.grid(True)\n",
    "plt.show()"
   ]
  },
  {
   "cell_type": "code",
   "execution_count": 9,
   "metadata": {},
   "outputs": [
    {
     "data": {
      "image/png": "[encoded data removed]",
      "text/plain": [
       "<Figure size 640x480 with 1 Axes>"
      ]
     },
     "metadata": {},
     "output_type": "display_data"
    }
   ],
   "source": [
    "plt.hist(gd1['product'], bins=20, edgecolor='k')\n",
    "plt.xlabel('Volume of reserves in the well (thousands of barrels)')\n",
    "plt.ylabel('Frequency')\n",
    "plt.title('Histogram of reserves volume in wells for Region 1')\n",
    "plt.grid(True)\n",
    "plt.show()"
   ]
  },
  {
   "cell_type": "code",
   "execution_count": 10,
   "metadata": {},
   "outputs": [
    {
     "data": {
      "image/png": "[encoded data removed]",
      "text/plain": [
       "<Figure size 640x480 with 1 Axes>"
      ]
     },
     "metadata": {},
     "output_type": "display_data"
    }
   ],
   "source": [
    "plt.hist(gd2['product'], bins=20, edgecolor='k')\n",
    "plt.xlabel('Volume of reserves in the well (thousands of barrels)')\n",
    "plt.ylabel('Frequency')\n",
    "plt.title('Histogram of reserves volume in wells for Region 2')\n",
    "plt.grid(True)\n",
    "plt.show()"
   ]
  },
  {
   "cell_type": "markdown",
   "metadata": {},
   "source": [
    "Let's check the data for outliers."
   ]
  },
  {
   "cell_type": "code",
   "execution_count": 11,
   "metadata": {},
   "outputs": [
    {
     "name": "stderr",
     "output_type": "stream",
     "text": [
      "/Users/daniyardjumaliev/Jupyter/venv/lib/python3.9/site-packages/seaborn/_oldcore.py:1498: FutureWarning: is_categorical_dtype is deprecated and will be removed in a future version. Use isinstance(dtype, CategoricalDtype) instead\n",
      "  if pd.api.types.is_categorical_dtype(vector):\n"
     ]
    },
    {
     "data": {
      "image/png": "[encoded data removed]",
      "text/plain": [
       "<Figure size 1000x600 with 1 Axes>"
      ]
     },
     "metadata": {},
     "output_type": "display_data"
    }
   ],
   "source": [
    "plt.figure(figsize=(10, 6))\n",
    "sns.boxplot(x=gd0['product'])\n",
    "plt.xlabel('Volume of well reserves (thousands of barrels)')\n",
    "plt.title('Outliers in well reserve volumes for Region 0')\n",
    "plt.show()"
   ]
  },
  {
   "cell_type": "code",
   "execution_count": 13,
   "metadata": {},
   "outputs": [
    {
     "name": "stderr",
     "output_type": "stream",
     "text": [
      "/Users/daniyardjumaliev/Jupyter/venv/lib/python3.9/site-packages/seaborn/_oldcore.py:1498: FutureWarning: is_categorical_dtype is deprecated and will be removed in a future version. Use isinstance(dtype, CategoricalDtype) instead\n",
      "  if pd.api.types.is_categorical_dtype(vector):\n"
     ]
    },
    {
     "data": {
      "image/png": "[encoded data removed]",
      "text/plain": [
       "<Figure size 1000x600 with 1 Axes>"
      ]
     },
     "metadata": {},
     "output_type": "display_data"
    }
   ],
   "source": [
    "plt.figure(figsize=(10, 6))\n",
    "sns.boxplot(x=gd1['product'])\n",
    "plt.xlabel('Volume of well reserves (thousands of barrels)')\n",
    "plt.title('Outliers in well reserve volumes for Region 1')\n",
    "plt.show()"
   ]
  },
  {
   "cell_type": "code",
   "execution_count": 14,
   "metadata": {},
   "outputs": [
    {
     "name": "stderr",
     "output_type": "stream",
     "text": [
      "/Users/daniyardjumaliev/Jupyter/venv/lib/python3.9/site-packages/seaborn/_oldcore.py:1498: FutureWarning: is_categorical_dtype is deprecated and will be removed in a future version. Use isinstance(dtype, CategoricalDtype) instead\n",
      "  if pd.api.types.is_categorical_dtype(vector):\n"
     ]
    },
    {
     "data": {
      "image/png": "[encoded data removed]",
      "text/plain": [
       "<Figure size 1000x600 with 1 Axes>"
      ]
     },
     "metadata": {},
     "output_type": "display_data"
    }
   ],
   "source": [
    "plt.figure(figsize=(10, 6))\n",
    "sns.boxplot(x=gd2['product'])\n",
    "plt.xlabel('Volume of well reserves (thousands of barrels)')\n",
    "plt.title('Outliers in well reserve volumes for Region 2')\n",
    "plt.show()"
   ]
  },
  {
   "cell_type": "markdown",
   "metadata": {},
   "source": [
    "Let's check the correlation between features."
   ]
  },
  {
   "cell_type": "code",
   "execution_count": 16,
   "metadata": {},
   "outputs": [
    {
     "data": {
      "text/html": [
       "<div>\n",
       "<style scoped>\n",
       "    .dataframe tbody tr th:only-of-type {\n",
       "        vertical-align: middle;\n",
       "    }\n",
       "\n",
       "    .dataframe tbody tr th {\n",
       "        vertical-align: top;\n",
       "    }\n",
       "\n",
       "    .dataframe thead th {\n",
       "        text-align: right;\n",
       "    }\n",
       "</style>\n",
       "<table border=\"1\" class=\"dataframe\">\n",
       "  <thead>\n",
       "    <tr style=\"text-align: right;\">\n",
       "      <th></th>\n",
       "      <th>f0</th>\n",
       "      <th>f1</th>\n",
       "      <th>f2</th>\n",
       "      <th>product</th>\n",
       "    </tr>\n",
       "  </thead>\n",
       "  <tbody>\n",
       "    <tr>\n",
       "      <th>f0</th>\n",
       "      <td>1.000000</td>\n",
       "      <td>-0.440717</td>\n",
       "      <td>-0.003211</td>\n",
       "      <td>0.143504</td>\n",
       "    </tr>\n",
       "    <tr>\n",
       "      <th>f1</th>\n",
       "      <td>-0.440717</td>\n",
       "      <td>1.000000</td>\n",
       "      <td>0.001764</td>\n",
       "      <td>-0.192351</td>\n",
       "    </tr>\n",
       "    <tr>\n",
       "      <th>f2</th>\n",
       "      <td>-0.003211</td>\n",
       "      <td>0.001764</td>\n",
       "      <td>1.000000</td>\n",
       "      <td>0.483631</td>\n",
       "    </tr>\n",
       "    <tr>\n",
       "      <th>product</th>\n",
       "      <td>0.143504</td>\n",
       "      <td>-0.192351</td>\n",
       "      <td>0.483631</td>\n",
       "      <td>1.000000</td>\n",
       "    </tr>\n",
       "  </tbody>\n",
       "</table>\n",
       "</div>"
      ],
      "text/plain": [
       "               f0        f1        f2   product\n",
       "f0       1.000000 -0.440717 -0.003211  0.143504\n",
       "f1      -0.440717  1.000000  0.001764 -0.192351\n",
       "f2      -0.003211  0.001764  1.000000  0.483631\n",
       "product  0.143504 -0.192351  0.483631  1.000000"
      ]
     },
     "metadata": {},
     "output_type": "display_data"
    }
   ],
   "source": [
    "numeric_columns = gd0.select_dtypes(include=['float64', 'int64']).columns\n",
    "correlation_matrix = gd0[numeric_columns].corr()\n",
    "display(correlation_matrix)"
   ]
  },
  {
   "cell_type": "code",
   "execution_count": 17,
   "metadata": {},
   "outputs": [
    {
     "data": {
      "text/html": [
       "<div>\n",
       "<style scoped>\n",
       "    .dataframe tbody tr th:only-of-type {\n",
       "        vertical-align: middle;\n",
       "    }\n",
       "\n",
       "    .dataframe tbody tr th {\n",
       "        vertical-align: top;\n",
       "    }\n",
       "\n",
       "    .dataframe thead th {\n",
       "        text-align: right;\n",
       "    }\n",
       "</style>\n",
       "<table border=\"1\" class=\"dataframe\">\n",
       "  <thead>\n",
       "    <tr style=\"text-align: right;\">\n",
       "      <th></th>\n",
       "      <th>f0</th>\n",
       "      <th>f1</th>\n",
       "      <th>f2</th>\n",
       "      <th>product</th>\n",
       "    </tr>\n",
       "  </thead>\n",
       "  <tbody>\n",
       "    <tr>\n",
       "      <th>f0</th>\n",
       "      <td>1.000000</td>\n",
       "      <td>0.182279</td>\n",
       "      <td>-0.001810</td>\n",
       "      <td>-0.030523</td>\n",
       "    </tr>\n",
       "    <tr>\n",
       "      <th>f1</th>\n",
       "      <td>0.182279</td>\n",
       "      <td>1.000000</td>\n",
       "      <td>-0.002594</td>\n",
       "      <td>-0.010154</td>\n",
       "    </tr>\n",
       "    <tr>\n",
       "      <th>f2</th>\n",
       "      <td>-0.001810</td>\n",
       "      <td>-0.002594</td>\n",
       "      <td>1.000000</td>\n",
       "      <td>0.999397</td>\n",
       "    </tr>\n",
       "    <tr>\n",
       "      <th>product</th>\n",
       "      <td>-0.030523</td>\n",
       "      <td>-0.010154</td>\n",
       "      <td>0.999397</td>\n",
       "      <td>1.000000</td>\n",
       "    </tr>\n",
       "  </tbody>\n",
       "</table>\n",
       "</div>"
      ],
      "text/plain": [
       "               f0        f1        f2   product\n",
       "f0       1.000000  0.182279 -0.001810 -0.030523\n",
       "f1       0.182279  1.000000 -0.002594 -0.010154\n",
       "f2      -0.001810 -0.002594  1.000000  0.999397\n",
       "product -0.030523 -0.010154  0.999397  1.000000"
      ]
     },
     "metadata": {},
     "output_type": "display_data"
    }
   ],
   "source": [
    "numeric_columns = gd1.select_dtypes(include=['float64', 'int64']).columns\n",
    "correlation_matrix = gd1[numeric_columns].corr()\n",
    "display(correlation_matrix)"
   ]
  },
  {
   "cell_type": "code",
   "execution_count": 18,
   "metadata": {},
   "outputs": [
    {
     "data": {
      "text/html": [
       "<div>\n",
       "<style scoped>\n",
       "    .dataframe tbody tr th:only-of-type {\n",
       "        vertical-align: middle;\n",
       "    }\n",
       "\n",
       "    .dataframe tbody tr th {\n",
       "        vertical-align: top;\n",
       "    }\n",
       "\n",
       "    .dataframe thead th {\n",
       "        text-align: right;\n",
       "    }\n",
       "</style>\n",
       "<table border=\"1\" class=\"dataframe\">\n",
       "  <thead>\n",
       "    <tr style=\"text-align: right;\">\n",
       "      <th></th>\n",
       "      <th>f0</th>\n",
       "      <th>f1</th>\n",
       "      <th>f2</th>\n",
       "      <th>product</th>\n",
       "    </tr>\n",
       "  </thead>\n",
       "  <tbody>\n",
       "    <tr>\n",
       "      <th>f0</th>\n",
       "      <td>1.000000</td>\n",
       "      <td>0.000506</td>\n",
       "      <td>-0.000452</td>\n",
       "      <td>-0.001978</td>\n",
       "    </tr>\n",
       "    <tr>\n",
       "      <th>f1</th>\n",
       "      <td>0.000506</td>\n",
       "      <td>1.000000</td>\n",
       "      <td>0.000753</td>\n",
       "      <td>-0.001055</td>\n",
       "    </tr>\n",
       "    <tr>\n",
       "      <th>f2</th>\n",
       "      <td>-0.000452</td>\n",
       "      <td>0.000753</td>\n",
       "      <td>1.000000</td>\n",
       "      <td>0.445867</td>\n",
       "    </tr>\n",
       "    <tr>\n",
       "      <th>product</th>\n",
       "      <td>-0.001978</td>\n",
       "      <td>-0.001055</td>\n",
       "      <td>0.445867</td>\n",
       "      <td>1.000000</td>\n",
       "    </tr>\n",
       "  </tbody>\n",
       "</table>\n",
       "</div>"
      ],
      "text/plain": [
       "               f0        f1        f2   product\n",
       "f0       1.000000  0.000506 -0.000452 -0.001978\n",
       "f1       0.000506  1.000000  0.000753 -0.001055\n",
       "f2      -0.000452  0.000753  1.000000  0.445867\n",
       "product -0.001978 -0.001055  0.445867  1.000000"
      ]
     },
     "metadata": {},
     "output_type": "display_data"
    }
   ],
   "source": [
    "numeric_columns = gd2.select_dtypes(include=['float64', 'int64']).columns\n",
    "correlation_matrix = gd2[numeric_columns].corr()\n",
    "display(correlation_matrix)"
   ]
  },
  {
   "cell_type": "markdown",
   "metadata": {},
   "source": [
    "In the first region, there is a strong correlation between the feature f2 and the target variable product. However, the overall data seems to be corrupted and likely contains critical errors. In the other two datasets, in regions zero and two, the highest correlation is observed with the f2 feature, but it is still extremely weak."
   ]
  },
  {
   "cell_type": "markdown",
   "metadata": {},
   "source": [
    "_Conclusion_: The data is of sufficient quality, with no missing values detected. Preliminarily, there seem to be no anomalous outliers. However, from the histograms, it is evident that the data in the dataset for region 1 is not normally distributed and has more values at zero and the maximum value. Additionally, based on the graph, it appears that there are missing volumes in the data. The value_counts() function shows that some data is repeated, which is not observed in the tables for regions zero and two. This may be related to the specific characteristics of the wells in this region, but it is more likely that the data in the first dataset contains errors and incorrect values."
   ]
  },
  {
   "cell_type": "markdown",
   "metadata": {},
   "source": [
    "## Model Training and Evaluation"
   ]
  },
  {
   "cell_type": "markdown",
   "metadata": {},
   "source": [
    "Let's write a function that will split the data into training and validation sets for each region, scale the training set, and train a linear regression model. We will also remove the id column since it will not be involved in the training."
   ]
  },
  {
   "cell_type": "code",
   "execution_count": 19,
   "metadata": {},
   "outputs": [],
   "source": [
    "def split_and_scale(df):\n",
    "    features = df.drop(['product', 'id'], axis=1)\n",
    "    target = df['product']\n",
    "\n",
    "    features_train, features_valid, target_train, target_valid = train_test_split(\n",
    "    features, target, test_size=0.25, random_state=12345)\n",
    "    \n",
    "    scaler = StandardScaler()\n",
    "    features_train_scaled = scaler.fit_transform(features_train)\n",
    "    features_valid_scaled = scaler.transform(features_valid)\n",
    "    \n",
    "    print('Training features shape:', features_train.shape)\n",
    "    print('Validation features shape:', features_valid.shape)\n",
    "    print()\n",
    "    print('Training target shape:', target_train.shape)\n",
    "    print('Validation target shape:', target_valid.shape)\n",
    "    print()\n",
    "    return features_train_scaled, features_valid_scaled, target_train, target_valid\n",
    "    \n",
    "def model_training(features_train_scaled, features_valid_scaled, target_train, target_valid):\n",
    "    model = LinearRegression()\n",
    "\n",
    "    model.fit(features_train_scaled, target_train)\n",
    "    target_valid_predicted = model.predict(features_valid_scaled)\n",
    "    mse = mean_squared_error(target_valid, target_valid_predicted)\n",
    "    \n",
    "    target_valid_predicted_mean = target_valid_predicted.mean()\n",
    "    rmse = mse ** 0.5\n",
    "    \n",
    "    print(f'Mean predicted reserves: {target_valid_predicted_mean:.1f} thousand barrels')\n",
    "    print(f'Root Mean Squared Error (RMSE): {rmse}')\n",
    "    \n",
    "    return target_valid_predicted, rmse"
   ]
  },
  {
   "cell_type": "code",
   "execution_count": 20,
   "metadata": {},
   "outputs": [
    {
     "name": "stdout",
     "output_type": "stream",
     "text": [
      "Training features shape: (74992, 3)\n",
      "Validation features shape: (24998, 3)\n",
      "\n",
      "Training target shape: (74992,)\n",
      "Validation target shape: (24998,)\n",
      "\n",
      "Mean predicted reserves: 92.8 thousand barrels\n",
      "Root Mean Squared Error (RMSE): 37.853527328872964\n"
     ]
    }
   ],
   "source": [
    "features0_train_scaled, features0_valid_scaled, target0_train, target0_valid = split_and_scale(gd0)\n",
    "target0_valid_predicted, rmse0 = model_training(features0_train_scaled, features0_valid_scaled, \\\n",
    "                                                     target0_train, target0_valid)"
   ]
  },
  {
   "cell_type": "code",
   "execution_count": 21,
   "metadata": {},
   "outputs": [
    {
     "name": "stdout",
     "output_type": "stream",
     "text": [
      "Training features shape: (74997, 3)\n",
      "Validation features shape: (24999, 3)\n",
      "\n",
      "Training target shape: (74997,)\n",
      "Validation target shape: (24999,)\n",
      "\n",
      "Mean predicted reserves: 69.2 thousand barrels\n",
      "Root Mean Squared Error (RMSE): 0.8920592647717033\n"
     ]
    }
   ],
   "source": [
    "features1_train_scaled, features1_valid_scaled, target1_train, target1_valid = split_and_scale(gd1)\n",
    "target1_valid_predicted, rmse1 = model_training(features1_train_scaled, features1_valid_scaled, \\\n",
    "                                                     target1_train, target1_valid)"
   ]
  },
  {
   "cell_type": "code",
   "execution_count": 22,
   "metadata": {
    "scrolled": true
   },
   "outputs": [
    {
     "name": "stdout",
     "output_type": "stream",
     "text": [
      "Training features shape: (74997, 3)\n",
      "Validation features shape: (24999, 3)\n",
      "\n",
      "Training target shape: (74997,)\n",
      "Validation target shape: (24999,)\n",
      "\n",
      "Mean predicted reserves: 94.9 thousand barrels\n",
      "Root Mean Squared Error (RMSE): 40.07585073246016\n"
     ]
    }
   ],
   "source": [
    "features2_train_scaled, features2_valid_scaled, target2_train, target2_valid = split_and_scale(gd2)\n",
    "target2_valid_predicted, rmse2 = model_training(features2_train_scaled, features2_valid_scaled, \\\n",
    "                                                     target2_train, target2_valid)"
   ]
  },
  {
   "cell_type": "markdown",
   "metadata": {},
   "source": [
    "_Conclusion_: The linear regression model shows insufficiently good results in predicting the target variable - the volume of well reserves. This is likely due to non-linear dependencies in the data."
   ]
  },
  {
   "cell_type": "markdown",
   "metadata": {},
   "source": [
    "To reduce RMSE, let's try sequential data engineering.\n",
    "\n",
    "- Square the zero column.\n",
    "- Multiply the first and second columns.\n",
    "- Divide the zero column by the second column."
   ]
  },
  {
   "cell_type": "markdown",
   "metadata": {},
   "source": [
    "Square the zero column."
   ]
  },
  {
   "cell_type": "code",
   "execution_count": 23,
   "metadata": {},
   "outputs": [],
   "source": [
    "# Squaring the first column for the training set.\n",
    "features0_train_squared = np.column_stack((features0_train_scaled[:, 0]**2, features0_train_scaled[:, 1], features0_train_scaled[:, 2]))\n",
    "features1_train_squared = np.column_stack((features1_train_scaled[:, 0]**2, features1_train_scaled[:, 1], features1_train_scaled[:, 2]))\n",
    "features2_train_squared = np.column_stack((features2_train_scaled[:, 0]**2, features2_train_scaled[:, 1], features2_train_scaled[:, 2]))\n",
    "\n",
    "# We'll perform similar operations for the validation datasets.\n",
    "features0_valid_squared = np.column_stack((features0_valid_scaled[:, 0]**2, features0_valid_scaled[:, 1], features0_valid_scaled[:, 2]))\n",
    "features1_valid_squared = np.column_stack((features1_valid_scaled[:, 0]**2, features1_valid_scaled[:, 1], features1_valid_scaled[:, 2]))\n",
    "features2_valid_squared = np.column_stack((features2_valid_scaled[:, 0]**2, features2_valid_scaled[:, 1], features2_valid_scaled[:, 2]))"
   ]
  },
  {
   "cell_type": "markdown",
   "metadata": {},
   "source": [
    "Let's train the model again."
   ]
  },
  {
   "cell_type": "code",
   "execution_count": 24,
   "metadata": {},
   "outputs": [
    {
     "name": "stdout",
     "output_type": "stream",
     "text": [
      "Mean predicted reserves: 92.8 thousand barrels\n",
      "Root Mean Squared Error (RMSE): 37.968465870689045\n"
     ]
    }
   ],
   "source": [
    "target0_valid_predicted, rmse0 = model_training(features0_train_squared, features0_valid_squared, \\\n",
    "                                                     target0_train, target0_valid)"
   ]
  },
  {
   "cell_type": "code",
   "execution_count": 25,
   "metadata": {},
   "outputs": [
    {
     "name": "stdout",
     "output_type": "stream",
     "text": [
      "Mean predicted reserves: 69.2 thousand barrels\n",
      "Root Mean Squared Error (RMSE): 1.5576664566867275\n"
     ]
    }
   ],
   "source": [
    "target1_valid_predicted, rmse1 = model_training(features1_train_squared, features1_valid_squared, \\\n",
    "                                                     target1_train, target1_valid)"
   ]
  },
  {
   "cell_type": "code",
   "execution_count": 26,
   "metadata": {},
   "outputs": [
    {
     "name": "stdout",
     "output_type": "stream",
     "text": [
      "Mean predicted reserves: 94.8 thousand barrels\n",
      "Root Mean Squared Error (RMSE): 39.41808379357142\n"
     ]
    }
   ],
   "source": [
    "target2_valid_predicted, rmse2 = model_training(features2_train_squared, features2_valid_squared, \\\n",
    "                                                     target2_train, target2_valid)"
   ]
  },
  {
   "cell_type": "markdown",
   "metadata": {},
   "source": [
    "Managed to reduce RMSE by one unit in the second region."
   ]
  },
  {
   "cell_type": "markdown",
   "metadata": {},
   "source": [
    "Let's multiply the first and second columns."
   ]
  },
  {
   "cell_type": "code",
   "execution_count": 27,
   "metadata": {},
   "outputs": [],
   "source": [
    "features0_train_mult = np.column_stack((features0_train_scaled[:, 0], features0_train_scaled[:, 1] * features0_train_scaled[:, 2]))\n",
    "features1_train_mult = np.column_stack((features1_train_scaled[:, 0], features1_train_scaled[:, 1] * features1_train_scaled[:, 2]))\n",
    "features2_train_mult = np.column_stack((features2_train_scaled[:, 0], features2_train_scaled[:, 1] * features2_train_scaled[:, 2]))\n",
    "\n",
    "# We'll perform similar operations for the validation datasets.\n",
    "features0_valid_mult = np.column_stack((features0_valid_scaled[:, 0], features0_valid_scaled[:, 1] * features0_valid_scaled[:, 2]))\n",
    "features1_valid_mult = np.column_stack((features1_valid_scaled[:, 0], features1_valid_scaled[:, 1] * features1_valid_scaled[:, 2]))\n",
    "features2_valid_mult = np.column_stack((features2_valid_scaled[:, 0], features2_valid_scaled[:, 1] * features2_valid_scaled[:, 2]))"
   ]
  },
  {
   "cell_type": "markdown",
   "metadata": {},
   "source": [
    "Train model again."
   ]
  },
  {
   "cell_type": "code",
   "execution_count": 28,
   "metadata": {},
   "outputs": [
    {
     "name": "stdout",
     "output_type": "stream",
     "text": [
      "Mean predicted reserves: 92.6 thousand barrels\n",
      "Root Mean Squared Error (RMSE): 43.92467714238949\n"
     ]
    }
   ],
   "source": [
    "target0_valid_predicted, rmse0 = model_training(features0_train_mult, features0_valid_mult, \\\n",
    "                                                     target0_train, target0_valid)"
   ]
  },
  {
   "cell_type": "code",
   "execution_count": 29,
   "metadata": {},
   "outputs": [
    {
     "name": "stdout",
     "output_type": "stream",
     "text": [
      "Mean predicted reserves: 68.7 thousand barrels\n",
      "Root Mean Squared Error (RMSE): 45.89869091220373\n"
     ]
    }
   ],
   "source": [
    "target1_valid_predicted, rmse1 = model_training(features1_train_mult, features1_valid_mult, \\\n",
    "                                                     target1_train, target1_valid)"
   ]
  },
  {
   "cell_type": "code",
   "execution_count": 30,
   "metadata": {},
   "outputs": [
    {
     "name": "stdout",
     "output_type": "stream",
     "text": [
      "Mean predicted reserves: 95.1 thousand barrels\n",
      "Root Mean Squared Error (RMSE): 44.68385606688519\n"
     ]
    }
   ],
   "source": [
    "target2_valid_predicted, rmse2 = model_training(features2_train_mult, features2_valid_mult, \\\n",
    "                                                     target2_train, target2_valid)"
   ]
  },
  {
   "cell_type": "markdown",
   "metadata": {},
   "source": [
    "RMSE increased, and this is definitely not suitable for us."
   ]
  },
  {
   "cell_type": "markdown",
   "metadata": {},
   "source": [
    "Divide the zero column by the second column."
   ]
  },
  {
   "cell_type": "code",
   "execution_count": 31,
   "metadata": {},
   "outputs": [],
   "source": [
    "# Divide the zero column by the second column, leaving the first column unchanged for the training set.\n",
    "features0_train_divide = np.column_stack((features0_train_scaled[:, 0], features0_train_scaled[:, 1] / features0_train_scaled[:, 2]))\n",
    "features1_train_divide = np.column_stack((features1_train_scaled[:, 0], features1_train_scaled[:, 1] / features1_train_scaled[:, 2]))\n",
    "features2_train_divide = np.column_stack((features2_train_scaled[:, 0], features2_train_scaled[:, 1] / features2_train_scaled[:, 2]))\n",
    "\n",
    "# We will perform similar operations for the validation datasets.\n",
    "features0_valid_divide = np.column_stack((features0_valid_scaled[:, 0], features0_valid_scaled[:, 1] / features0_valid_scaled[:, 2]))\n",
    "features1_valid_divide = np.column_stack((features1_valid_scaled[:, 0], features1_valid_scaled[:, 1] / features1_valid_scaled[:, 2]))\n",
    "features2_valid_divide = np.column_stack((features2_valid_scaled[:, 0], features2_valid_scaled[:, 1] / features2_valid_scaled[:, 2]))"
   ]
  },
  {
   "cell_type": "markdown",
   "metadata": {},
   "source": [
    "Train model again."
   ]
  },
  {
   "cell_type": "code",
   "execution_count": 32,
   "metadata": {},
   "outputs": [
    {
     "name": "stdout",
     "output_type": "stream",
     "text": [
      "Mean predicted reserves: 92.6 thousand barrels\n",
      "Root Mean Squared Error (RMSE): 43.92469711518099\n"
     ]
    }
   ],
   "source": [
    "target0_valid_predicted, rmse0 = model_training(features0_train_divide, features0_valid_divide, \\\n",
    "                                                     target0_train, target0_valid)"
   ]
  },
  {
   "cell_type": "code",
   "execution_count": 33,
   "metadata": {},
   "outputs": [
    {
     "name": "stdout",
     "output_type": "stream",
     "text": [
      "Mean predicted reserves: 68.7 thousand barrels\n",
      "Root Mean Squared Error (RMSE): 45.89837410991702\n"
     ]
    }
   ],
   "source": [
    "target1_valid_predicted, rmse1 = model_training(features1_train_divide, features1_valid_divide, \\\n",
    "                                                     target1_train, target1_valid)"
   ]
  },
  {
   "cell_type": "code",
   "execution_count": 34,
   "metadata": {},
   "outputs": [
    {
     "name": "stdout",
     "output_type": "stream",
     "text": [
      "Mean predicted reserves: 95.1 thousand barrels\n",
      "Root Mean Squared Error (RMSE): 44.684146069462805\n"
     ]
    }
   ],
   "source": [
    "target2_valid_predicted, rmse2 = model_training(features2_train_divide, features2_valid_divide, \\\n",
    "                                                     target2_train, target2_valid)"
   ]
  },
  {
   "cell_type": "markdown",
   "metadata": {},
   "source": [
    "RMSE increased again compared to the initial findings, so this approach is also not suitable for us."
   ]
  },
  {
   "cell_type": "markdown",
   "metadata": {},
   "source": [
    "Now, let's try squaring another column in addition to the zero column."
   ]
  },
  {
   "cell_type": "code",
   "execution_count": 35,
   "metadata": {},
   "outputs": [],
   "source": [
    "# Squaring the first column for the training set.\n",
    "features0_train_squared = np.column_stack((features0_train_scaled[:, 0]**2, features0_train_scaled[:, 1]**2, features0_train_scaled[:, 2]))\n",
    "features1_train_squared = np.column_stack((features1_train_scaled[:, 0]**2, features1_train_scaled[:, 1]**2, features1_train_scaled[:, 2]))\n",
    "features2_train_squared = np.column_stack((features2_train_scaled[:, 0]**2, features2_train_scaled[:, 1]**2, features2_train_scaled[:, 2]))\n",
    "\n",
    "# We'll perform similar operations for the validation datasets.\n",
    "features0_valid_squared = np.column_stack((features0_valid_scaled[:, 0]**2, features0_valid_scaled[:, 1]**2, features0_valid_scaled[:, 2]))\n",
    "features1_valid_squared = np.column_stack((features1_valid_scaled[:, 0]**2, features1_valid_scaled[:, 1]**2, features1_valid_scaled[:, 2]))\n",
    "features2_valid_squared = np.column_stack((features2_valid_scaled[:, 0]**2, features2_valid_scaled[:, 1]**2, features2_valid_scaled[:, 2]))"
   ]
  },
  {
   "cell_type": "code",
   "execution_count": 36,
   "metadata": {},
   "outputs": [
    {
     "name": "stdout",
     "output_type": "stream",
     "text": [
      "Mean predicted reserves: 92.7 thousand barrels\n",
      "Root Mean Squared Error (RMSE): 38.97829555815206\n"
     ]
    }
   ],
   "source": [
    "target0_valid_predicted, rmse0 = model_training(features0_train_squared, features0_valid_squared, \\\n",
    "                                                     target0_train, target0_valid)"
   ]
  },
  {
   "cell_type": "code",
   "execution_count": 37,
   "metadata": {},
   "outputs": [
    {
     "name": "stdout",
     "output_type": "stream",
     "text": [
      "Mean predicted reserves: 69.2 thousand barrels\n",
      "Root Mean Squared Error (RMSE): 1.5949891793050768\n"
     ]
    }
   ],
   "source": [
    "target1_valid_predicted, rmse1 = model_training(features1_train_squared, features1_valid_squared, \\\n",
    "                                                     target1_train, target1_valid)"
   ]
  },
  {
   "cell_type": "code",
   "execution_count": 38,
   "metadata": {},
   "outputs": [
    {
     "name": "stdout",
     "output_type": "stream",
     "text": [
      "Mean predicted reserves: 94.8 thousand barrels\n",
      "Root Mean Squared Error (RMSE): 38.80888387660815\n"
     ]
    }
   ],
   "source": [
    "target2_valid_predicted, rmse2 = model_training(features2_train_squared, features2_valid_squared, \\\n",
    "                                                     target2_train, target2_valid)"
   ]
  },
  {
   "cell_type": "markdown",
   "metadata": {},
   "source": [
    "After a series of computations, it was found that squaring the second column significantly increases RMSE. It was decided to stick with squaring the zero and first columns because it results in a lower RMSE than the model trained on the original data. In the end, thanks to data engineering, RMSE was reduced:\n",
    "\n",
    "- Region 0: RMSE remained unchanged.\n",
    "- Region 1: RMSE remained unchanged.\n",
    "- Region 2: Reduced from 40.03 to 38.81."
   ]
  },
  {
   "cell_type": "markdown",
   "metadata": {},
   "source": [
    "_Conclusion_: Considering that the standard deviation (std) across all three regions is around 44-45, and the obtained RMSE is lower than this value, we will accept the resulting model."
   ]
  },
  {
   "cell_type": "markdown",
   "metadata": {},
   "source": [
    "## Profit Calculation Preparation"
   ]
  },
  {
   "cell_type": "markdown",
   "metadata": {},
   "source": [
    "Let's calculate the minimum volume of raw materials for break-even development of a new well. We will compare this volume with the average reserves in each region."
   ]
  },
  {
   "cell_type": "code",
   "execution_count": 39,
   "metadata": {},
   "outputs": [
    {
     "data": {
      "text/plain": [
       "'Volume of raw materials for break-even development of a new well: 111.1 (thousands of barrels)'"
      ]
     },
     "metadata": {},
     "output_type": "display_data"
    },
    {
     "data": {
      "text/plain": [
       "'Average reserves in Region 0: 92.5 (thousands of barrels)'"
      ]
     },
     "metadata": {},
     "output_type": "display_data"
    },
    {
     "data": {
      "text/plain": [
       "'Average reserves in Region 1: 68.8 (thousands of barrels)'"
      ]
     },
     "metadata": {},
     "output_type": "display_data"
    },
    {
     "data": {
      "text/plain": [
       "'Average reserves in Region 2: 95.0 (thousands of barrels)'"
      ]
     },
     "metadata": {},
     "output_type": "display_data"
    }
   ],
   "source": [
    "break_even_volume = BUDGET / (INCOME_PER_PRODUCT_UNIT * BEST_WELLS)\n",
    "display(f'Volume of raw materials for break-even development of a new well: {break_even_volume:.1f} (thousands of barrels)')\n",
    "display(f'Average reserves in Region 0: {gd0[\"product\"].mean():.1f} (thousands of barrels)')\n",
    "display(f'Average reserves in Region 1: {gd1[\"product\"].mean():.1f} (thousands of barrels)')\n",
    "display(f'Average reserves in Region 2: {gd2[\"product\"].mean():.1f} (thousands of barrels)')"
   ]
  },
  {
   "cell_type": "markdown",
   "metadata": {},
   "source": [
    "Preliminarily, the second and zero regions appear to be the most promising."
   ]
  },
  {
   "cell_type": "markdown",
   "metadata": {},
   "source": [
    "_Conclusion_: Based on a preliminary assessment of profitability concerning the region for future development, the second region (average reserves of 95 thousand barrels) and the zero region (average reserves of 92.5 thousand barrels) appear to be the most promising. However, considering that for break-even development of a new well, its volume should be greater than 111 thousand barrels, it becomes evident that development in these regions will involve the risk of losses. To assess the magnitude of these risks, we will conduct an analysis using the bootstrap technique for 1000 samples. If none of the regions shows a risk of losses below 2.5%, it will be recommended to refrain from development in these regions."
   ]
  },
  {
   "cell_type": "markdown",
   "metadata": {},
   "source": [
    "## Profit and Risk Calculation"
   ]
  },
  {
   "cell_type": "markdown",
   "metadata": {},
   "source": [
    "Task conditions:\n",
    "\n",
    "- During exploration of a region, 500 points are studied, and using machine learning, the top 200 are selected for development.\n",
    "- The budget for well development in a region is 10 billion rubles.\n",
    "- At current prices, one barrel of raw material generates revenue of 450 rubles. The revenue from each product unit is 450 thousand rubles since the volume is given in thousands of barrels.\n",
    "- After assessing risks, only regions with a probability of losses below 2.5% should be considered. Among these, select the region with the highest average profit."
   ]
  },
  {
   "cell_type": "markdown",
   "metadata": {},
   "source": [
    "Let's write a function to calculate profit based on selected wells and model predictions."
   ]
  },
  {
   "cell_type": "code",
   "execution_count": 40,
   "metadata": {},
   "outputs": [],
   "source": [
    "def calculate_profit(target, predictions):\n",
    "    data = {'target': target, 'predictions': predictions}\n",
    "    df = pd.DataFrame(data)\n",
    "    df.columns = ['target', 'predictions']\n",
    "    df_sorted = df.sort_values(by='predictions', ascending=False)[:BEST_WELLS]\n",
    "    profit = (df_sorted['target'].sum() * INCOME_PER_PRODUCT_UNIT) - BUDGET\n",
    "    return profit"
   ]
  },
  {
   "cell_type": "markdown",
   "metadata": {},
   "source": [
    "Let's calculate the profit for each region."
   ]
  },
  {
   "cell_type": "code",
   "execution_count": 42,
   "metadata": {},
   "outputs": [
    {
     "data": {
      "text/plain": [
       "'Profit for Region 0: 2.60 billion rubles'"
      ]
     },
     "metadata": {},
     "output_type": "display_data"
    },
    {
     "data": {
      "text/plain": [
       "'Profit for Region 0: 2.26 billion rubles'"
      ]
     },
     "metadata": {},
     "output_type": "display_data"
    },
    {
     "data": {
      "text/plain": [
       "'Profit for Region 0: 2.36 billion rubles'"
      ]
     },
     "metadata": {},
     "output_type": "display_data"
    }
   ],
   "source": [
    "profit0 = calculate_profit(target0_valid, target0_valid_predicted)\n",
    "display(f'Profit for Region 0: {profit0/1e9:.2f} billion rubles')\n",
    "\n",
    "profit1 = calculate_profit(target1_valid, target1_valid_predicted)\n",
    "display(f'Profit for Region 0: {profit1/1e9:.2f} billion rubles')\n",
    "\n",
    "profit2 = calculate_profit(target2_valid, target2_valid_predicted)\n",
    "display(f'Profit for Region 0: {profit2/1e9:.2f} billion rubles')"
   ]
  },
  {
   "cell_type": "markdown",
   "metadata": {},
   "source": [
    "Region 0 showed the highest profit with 200 wells predicted by the Linear Regression model: 2.6 billion rubles."
   ]
  },
  {
   "cell_type": "markdown",
   "metadata": {},
   "source": [
    "Now let's calculate the risks and profits that can be expected for each region."
   ]
  },
  {
   "cell_type": "code",
   "execution_count": 43,
   "metadata": {},
   "outputs": [],
   "source": [
    "def risk(target, predictions):\n",
    "    target.reset_index(drop=True, inplace=True)\n",
    "    state = np.random.RandomState(12345)\n",
    "    profits = []\n",
    "    for i in range(1000):\n",
    "        target_subsample = target.sample(n=500, replace=True, random_state=state)\n",
    "        predictions_subsample = predictions[target_subsample.index]\n",
    "        profit = calculate_profit(target_subsample, predictions_subsample)\n",
    "        profits.append(profit)\n",
    "    \n",
    "    profits = pd.Series(profits)\n",
    "    lower = profits.quantile(0.025)\n",
    "    upper = profits.quantile(0.975)\n",
    "    mean = profits.mean()\n",
    "    losses_probability = (profits < 0).mean()\n",
    "    \n",
    "    display(f'Mean profit: {mean/1e6:.1f} million rubles.')\n",
    "    display(f'95% confidence interval: {lower/1e6:.0f} – {upper/1e6:.0f} million rubles.')\n",
    "    display(f'Risk of losses: {losses_probability:.1%}')"
   ]
  },
  {
   "cell_type": "code",
   "execution_count": 44,
   "metadata": {},
   "outputs": [
    {
     "data": {
      "text/plain": [
       "'Mean profit: 210.6 million rubles.'"
      ]
     },
     "metadata": {},
     "output_type": "display_data"
    },
    {
     "data": {
      "text/plain": [
       "'95% confidence interval: -312 – 733 million rubles.'"
      ]
     },
     "metadata": {},
     "output_type": "display_data"
    },
    {
     "data": {
      "text/plain": [
       "'Risk of losses: 20.2%'"
      ]
     },
     "metadata": {},
     "output_type": "display_data"
    }
   ],
   "source": [
    "#Region 0.\n",
    "risk0 = risk(target0_valid, target0_valid_predicted)"
   ]
  },
  {
   "cell_type": "code",
   "execution_count": 45,
   "metadata": {},
   "outputs": [
    {
     "data": {
      "text/plain": [
       "'Mean profit: 457.6 million rubles.'"
      ]
     },
     "metadata": {},
     "output_type": "display_data"
    },
    {
     "data": {
      "text/plain": [
       "'95% confidence interval: 64 – 857 million rubles.'"
      ]
     },
     "metadata": {},
     "output_type": "display_data"
    },
    {
     "data": {
      "text/plain": [
       "'Risk of losses: 1.3%'"
      ]
     },
     "metadata": {},
     "output_type": "display_data"
    }
   ],
   "source": [
    "#Region 1.\n",
    "risk1 = risk(target1_valid, target1_valid_predicted)"
   ]
  },
  {
   "cell_type": "code",
   "execution_count": 46,
   "metadata": {},
   "outputs": [
    {
     "data": {
      "text/plain": [
       "'Mean profit: 534.6 million rubles.'"
      ]
     },
     "metadata": {},
     "output_type": "display_data"
    },
    {
     "data": {
      "text/plain": [
       "'95% confidence interval: 28 – 1026 million rubles.'"
      ]
     },
     "metadata": {},
     "output_type": "display_data"
    },
    {
     "data": {
      "text/plain": [
       "'Risk of losses: 2.1%'"
      ]
     },
     "metadata": {},
     "output_type": "display_data"
    }
   ],
   "source": [
    "#Region 2.\n",
    "risk2 = risk(target2_valid, target2_valid_predicted)"
   ]
  },
  {
   "cell_type": "markdown",
   "metadata": {},
   "source": [
    "__GENERAL CONCLUSION__: \n",
    "- During the data loading stage, it was identified that the data in the first dataset has incorrect values and a non-normal distribution overall. It was hypothesized that this could be related to some geographical features, but it seems more likely to be either a human factor or technical errors.\n",
    "- The data was divided into two samples - training and validation, 75% and 25% respectively.\n",
    "- A linear regression model was used for training, as it is the most predictable.\n",
    "- After training and feature engineering, the RMSE of the model was reduced: Region 0 RMSE remained unchanged, Region 1 RMSE remained unchanged, and Region 2 RMSE decreased from 40.08 to 38.81, which should improve the quality of the model's predicted target features.\n",
    "- In the calculation of total profit, it was assumed that the most promising region for development is Region 0 - 2.6 billion rubles in net profit.\n",
    "- When calculating risks using the bootstrap technique, this assumption was refuted - the lowest percentage of the risk of losses is in Region 1 - 1.3%. However, considering that the data in this dataset is corrupted and processed with errors, this value is unlikely to be a valid basis for decision-making. The second-largest risk is in Region 2 - 2.1%, which is below the specified 2.5% threshold.\n",
    "\n",
    "__Therefore, Region 2 has low chances of incurring losses during development and is recommended for further development as the most promising region.__"
   ]
  },
  {
   "cell_type": "code",
   "execution_count": null,
   "metadata": {},
   "outputs": [],
   "source": []
  }
 ],
 "metadata": {
  "ExecuteTimeLog": [
   {
    "duration": 1368,
    "start_time": "2023-09-04T06:27:31.366Z"
   },
   {
    "duration": 733,
    "start_time": "2023-09-04T06:28:38.150Z"
   },
   {
    "duration": 369,
    "start_time": "2023-09-04T06:29:13.808Z"
   },
   {
    "duration": 420,
    "start_time": "2023-09-04T06:30:33.877Z"
   },
   {
    "duration": 540,
    "start_time": "2023-09-04T06:34:47.279Z"
   },
   {
    "duration": 627,
    "start_time": "2023-09-04T06:35:03.144Z"
   },
   {
    "duration": 582,
    "start_time": "2023-09-04T06:38:12.870Z"
   },
   {
    "duration": 155,
    "start_time": "2023-09-04T06:38:43.600Z"
   },
   {
    "duration": 144,
    "start_time": "2023-09-04T06:38:54.399Z"
   },
   {
    "duration": 138,
    "start_time": "2023-09-04T06:39:13.351Z"
   },
   {
    "duration": 4,
    "start_time": "2023-09-04T06:39:43.922Z"
   },
   {
    "duration": 146,
    "start_time": "2023-09-04T06:40:32.569Z"
   },
   {
    "duration": 181,
    "start_time": "2023-09-04T06:42:43.678Z"
   },
   {
    "duration": 255,
    "start_time": "2023-09-04T06:43:16.934Z"
   },
   {
    "duration": 185,
    "start_time": "2023-09-04T06:43:52.532Z"
   },
   {
    "duration": 195,
    "start_time": "2023-09-04T06:44:07.469Z"
   },
   {
    "duration": 188,
    "start_time": "2023-09-04T06:51:39.337Z"
   },
   {
    "duration": 157,
    "start_time": "2023-09-04T06:51:49.254Z"
   },
   {
    "duration": 154,
    "start_time": "2023-09-04T06:51:59.064Z"
   },
   {
    "duration": 172,
    "start_time": "2023-09-04T06:52:03.192Z"
   },
   {
    "duration": 3,
    "start_time": "2023-09-04T07:01:12.493Z"
   },
   {
    "duration": 18,
    "start_time": "2023-09-04T07:02:48.716Z"
   },
   {
    "duration": 23,
    "start_time": "2023-09-04T07:05:58.091Z"
   },
   {
    "duration": 34,
    "start_time": "2023-09-04T07:06:36.949Z"
   },
   {
    "duration": 28,
    "start_time": "2023-09-04T07:07:58.039Z"
   },
   {
    "duration": 26,
    "start_time": "2023-09-04T07:08:51.984Z"
   },
   {
    "duration": 4,
    "start_time": "2023-09-04T07:22:59.380Z"
   },
   {
    "duration": 50,
    "start_time": "2023-09-04T07:24:09.602Z"
   },
   {
    "duration": 22,
    "start_time": "2023-09-04T07:25:48.119Z"
   },
   {
    "duration": 18,
    "start_time": "2023-09-04T07:26:08.840Z"
   },
   {
    "duration": 15,
    "start_time": "2023-09-04T07:26:09.936Z"
   },
   {
    "duration": 25,
    "start_time": "2023-09-04T07:26:13.163Z"
   },
   {
    "duration": 4,
    "start_time": "2023-09-04T07:28:20.218Z"
   },
   {
    "duration": 187,
    "start_time": "2023-09-04T07:29:36.741Z"
   },
   {
    "duration": 25,
    "start_time": "2023-09-04T07:30:53.759Z"
   },
   {
    "duration": 21,
    "start_time": "2023-09-04T07:33:58.417Z"
   },
   {
    "duration": 15,
    "start_time": "2023-09-04T07:34:00.160Z"
   },
   {
    "duration": 33,
    "start_time": "2023-09-04T07:50:42.915Z"
   },
   {
    "duration": 12,
    "start_time": "2023-09-04T07:52:35.282Z"
   },
   {
    "duration": 16,
    "start_time": "2023-09-04T07:52:37.041Z"
   },
   {
    "duration": 47,
    "start_time": "2023-09-05T05:48:01.250Z"
   },
   {
    "duration": 1475,
    "start_time": "2023-09-05T05:48:09.085Z"
   },
   {
    "duration": 2206,
    "start_time": "2023-09-05T05:48:10.563Z"
   },
   {
    "duration": 181,
    "start_time": "2023-09-05T05:48:12.771Z"
   },
   {
    "duration": 184,
    "start_time": "2023-09-05T05:48:12.954Z"
   },
   {
    "duration": 167,
    "start_time": "2023-09-05T05:48:13.139Z"
   },
   {
    "duration": 18,
    "start_time": "2023-09-05T05:48:13.307Z"
   },
   {
    "duration": 31,
    "start_time": "2023-09-05T05:48:13.326Z"
   },
   {
    "duration": 18,
    "start_time": "2023-09-05T05:48:13.359Z"
   },
   {
    "duration": 36,
    "start_time": "2023-09-05T05:48:13.379Z"
   },
   {
    "duration": 38,
    "start_time": "2023-09-05T05:48:13.418Z"
   },
   {
    "duration": 104,
    "start_time": "2023-09-05T05:48:13.544Z"
   },
   {
    "duration": 106,
    "start_time": "2023-09-05T05:48:13.650Z"
   },
   {
    "duration": 117,
    "start_time": "2023-09-05T06:00:13.655Z"
   },
   {
    "duration": 54,
    "start_time": "2023-09-05T06:00:49.385Z"
   },
   {
    "duration": 1377,
    "start_time": "2023-09-05T06:00:55.426Z"
   },
   {
    "duration": 561,
    "start_time": "2023-09-05T06:00:56.805Z"
   },
   {
    "duration": 174,
    "start_time": "2023-09-05T06:00:57.367Z"
   },
   {
    "duration": 168,
    "start_time": "2023-09-05T06:00:57.543Z"
   },
   {
    "duration": 164,
    "start_time": "2023-09-05T06:00:57.713Z"
   },
   {
    "duration": 116,
    "start_time": "2023-09-05T06:00:57.879Z"
   },
   {
    "duration": 17,
    "start_time": "2023-09-05T06:00:57.996Z"
   },
   {
    "duration": 32,
    "start_time": "2023-09-05T06:00:58.014Z"
   },
   {
    "duration": 18,
    "start_time": "2023-09-05T06:00:58.048Z"
   },
   {
    "duration": 30,
    "start_time": "2023-09-05T06:00:58.068Z"
   },
   {
    "duration": 56,
    "start_time": "2023-09-05T06:00:58.100Z"
   },
   {
    "duration": 191,
    "start_time": "2023-09-05T06:00:58.159Z"
   },
   {
    "duration": 100,
    "start_time": "2023-09-05T06:00:58.355Z"
   },
   {
    "duration": 107,
    "start_time": "2023-09-05T06:01:34.216Z"
   },
   {
    "duration": 109,
    "start_time": "2023-09-05T06:01:41.721Z"
   },
   {
    "duration": 131,
    "start_time": "2023-09-05T06:01:58.990Z"
   },
   {
    "duration": 130,
    "start_time": "2023-09-05T06:03:19.603Z"
   },
   {
    "duration": 152,
    "start_time": "2023-09-05T06:03:24.216Z"
   },
   {
    "duration": 120,
    "start_time": "2023-09-05T06:03:27.456Z"
   },
   {
    "duration": 479,
    "start_time": "2023-09-05T06:13:13.372Z"
   },
   {
    "duration": 529,
    "start_time": "2023-09-05T06:15:33.768Z"
   },
   {
    "duration": 14,
    "start_time": "2023-09-05T06:16:11.467Z"
   },
   {
    "duration": 15,
    "start_time": "2023-09-05T06:16:13.637Z"
   },
   {
    "duration": 112,
    "start_time": "2023-09-05T06:17:08.045Z"
   },
   {
    "duration": 465,
    "start_time": "2023-09-05T06:19:56.707Z"
   },
   {
    "duration": 12,
    "start_time": "2023-09-05T06:21:44.955Z"
   },
   {
    "duration": 13,
    "start_time": "2023-09-05T06:21:47.813Z"
   },
   {
    "duration": 14,
    "start_time": "2023-09-05T06:22:11.866Z"
   },
   {
    "duration": 13,
    "start_time": "2023-09-05T06:22:26.424Z"
   },
   {
    "duration": 10,
    "start_time": "2023-09-05T06:22:37.820Z"
   },
   {
    "duration": 6,
    "start_time": "2023-09-05T06:27:26.533Z"
   },
   {
    "duration": 18,
    "start_time": "2023-09-05T06:27:59.901Z"
   },
   {
    "duration": 11,
    "start_time": "2023-09-05T06:28:41.572Z"
   },
   {
    "duration": 12,
    "start_time": "2023-09-05T06:28:43.439Z"
   },
   {
    "duration": 55,
    "start_time": "2023-09-05T06:29:45.933Z"
   },
   {
    "duration": 6,
    "start_time": "2023-09-05T06:31:35.657Z"
   },
   {
    "duration": 19,
    "start_time": "2023-09-05T06:32:28.251Z"
   },
   {
    "duration": 13,
    "start_time": "2023-09-05T06:32:29.748Z"
   },
   {
    "duration": 13,
    "start_time": "2023-09-05T06:32:30.557Z"
   },
   {
    "duration": 8,
    "start_time": "2023-09-05T06:34:56.967Z"
   },
   {
    "duration": 21,
    "start_time": "2023-09-05T06:35:29.131Z"
   },
   {
    "duration": 14,
    "start_time": "2023-09-05T06:35:30.515Z"
   },
   {
    "duration": 13,
    "start_time": "2023-09-05T06:35:31.707Z"
   },
   {
    "duration": 1483,
    "start_time": "2023-09-05T06:35:46.950Z"
   },
   {
    "duration": 582,
    "start_time": "2023-09-05T06:35:48.435Z"
   },
   {
    "duration": 203,
    "start_time": "2023-09-05T06:35:49.019Z"
   },
   {
    "duration": 173,
    "start_time": "2023-09-05T06:35:49.224Z"
   },
   {
    "duration": 172,
    "start_time": "2023-09-05T06:35:49.398Z"
   },
   {
    "duration": 131,
    "start_time": "2023-09-05T06:35:49.572Z"
   },
   {
    "duration": 211,
    "start_time": "2023-09-05T06:35:49.705Z"
   },
   {
    "duration": 144,
    "start_time": "2023-09-05T06:35:49.918Z"
   },
   {
    "duration": 16,
    "start_time": "2023-09-05T06:35:50.064Z"
   },
   {
    "duration": 24,
    "start_time": "2023-09-05T06:35:50.083Z"
   },
   {
    "duration": 43,
    "start_time": "2023-09-05T06:35:50.109Z"
   },
   {
    "duration": 30,
    "start_time": "2023-09-05T06:35:50.154Z"
   },
   {
    "duration": 63,
    "start_time": "2023-09-05T06:35:50.186Z"
   },
   {
    "duration": 99,
    "start_time": "2023-09-05T06:35:50.252Z"
   },
   {
    "duration": 98,
    "start_time": "2023-09-05T06:35:50.353Z"
   },
   {
    "duration": 93,
    "start_time": "2023-09-05T06:35:50.453Z"
   },
   {
    "duration": 109,
    "start_time": "2023-09-05T06:35:50.549Z"
   },
   {
    "duration": 189,
    "start_time": "2023-09-05T06:35:50.661Z"
   },
   {
    "duration": 194,
    "start_time": "2023-09-05T06:35:50.855Z"
   },
   {
    "duration": 102,
    "start_time": "2023-09-05T06:35:51.051Z"
   },
   {
    "duration": 105,
    "start_time": "2023-09-05T06:35:51.156Z"
   },
   {
    "duration": 184,
    "start_time": "2023-09-05T06:35:51.264Z"
   },
   {
    "duration": 97,
    "start_time": "2023-09-05T06:35:51.451Z"
   },
   {
    "duration": 94,
    "start_time": "2023-09-05T06:35:51.551Z"
   },
   {
    "duration": 105,
    "start_time": "2023-09-05T06:35:51.648Z"
   },
   {
    "duration": 192,
    "start_time": "2023-09-05T06:35:51.758Z"
   },
   {
    "duration": 103,
    "start_time": "2023-09-05T06:35:51.957Z"
   },
   {
    "duration": 91,
    "start_time": "2023-09-05T06:35:52.064Z"
   },
   {
    "duration": 101,
    "start_time": "2023-09-05T06:35:52.158Z"
   },
   {
    "duration": 188,
    "start_time": "2023-09-05T06:35:52.263Z"
   },
   {
    "duration": 201,
    "start_time": "2023-09-05T06:35:52.544Z"
   },
   {
    "duration": 7,
    "start_time": "2023-09-05T06:37:38.250Z"
   },
   {
    "duration": 15,
    "start_time": "2023-09-05T06:37:39.632Z"
   },
   {
    "duration": 14,
    "start_time": "2023-09-05T06:37:40.522Z"
   },
   {
    "duration": 13,
    "start_time": "2023-09-05T06:37:41.850Z"
   },
   {
    "duration": 7,
    "start_time": "2023-09-05T06:38:13.913Z"
   },
   {
    "duration": 14,
    "start_time": "2023-09-05T06:38:14.464Z"
   },
   {
    "duration": 13,
    "start_time": "2023-09-05T06:38:15.533Z"
   },
   {
    "duration": 18,
    "start_time": "2023-09-05T06:38:16.274Z"
   },
   {
    "duration": 8,
    "start_time": "2023-09-05T06:38:48.372Z"
   },
   {
    "duration": 16,
    "start_time": "2023-09-05T06:38:50.734Z"
   },
   {
    "duration": 14,
    "start_time": "2023-09-05T06:38:53.017Z"
   },
   {
    "duration": 15,
    "start_time": "2023-09-05T06:38:54.322Z"
   },
   {
    "duration": 9,
    "start_time": "2023-09-05T06:39:43.374Z"
   },
   {
    "duration": 26,
    "start_time": "2023-09-05T06:39:43.993Z"
   },
   {
    "duration": 16,
    "start_time": "2023-09-05T06:39:44.611Z"
   },
   {
    "duration": 14,
    "start_time": "2023-09-05T06:39:45.319Z"
   },
   {
    "duration": 4,
    "start_time": "2023-09-05T06:53:13.487Z"
   },
   {
    "duration": 4,
    "start_time": "2023-09-05T06:54:39.495Z"
   },
   {
    "duration": 5,
    "start_time": "2023-09-05T06:54:54.323Z"
   },
   {
    "duration": 62,
    "start_time": "2023-09-05T06:57:35.030Z"
   },
   {
    "duration": 6,
    "start_time": "2023-09-05T06:57:52.716Z"
   },
   {
    "duration": 4,
    "start_time": "2023-09-05T06:58:59.722Z"
   },
   {
    "duration": 4,
    "start_time": "2023-09-05T06:59:09.397Z"
   },
   {
    "duration": 6,
    "start_time": "2023-09-05T06:59:42.799Z"
   },
   {
    "duration": 10,
    "start_time": "2023-09-05T07:00:05.243Z"
   },
   {
    "duration": 9,
    "start_time": "2023-09-05T08:09:40.260Z"
   },
   {
    "duration": 145,
    "start_time": "2023-09-05T08:13:58.590Z"
   },
   {
    "duration": 36,
    "start_time": "2023-09-05T08:14:04.095Z"
   },
   {
    "duration": 10,
    "start_time": "2023-09-05T08:14:29.858Z"
   },
   {
    "duration": 18,
    "start_time": "2023-09-05T08:22:06.180Z"
   },
   {
    "duration": 1571,
    "start_time": "2023-09-05T08:22:44.365Z"
   },
   {
    "duration": 624,
    "start_time": "2023-09-05T08:22:45.938Z"
   },
   {
    "duration": 188,
    "start_time": "2023-09-05T08:22:46.564Z"
   },
   {
    "duration": 178,
    "start_time": "2023-09-05T08:22:46.754Z"
   },
   {
    "duration": 168,
    "start_time": "2023-09-05T08:22:46.934Z"
   },
   {
    "duration": 125,
    "start_time": "2023-09-05T08:22:47.104Z"
   },
   {
    "duration": 198,
    "start_time": "2023-09-05T08:22:47.230Z"
   },
   {
    "duration": 134,
    "start_time": "2023-09-05T08:22:47.430Z"
   },
   {
    "duration": 16,
    "start_time": "2023-09-05T08:22:47.566Z"
   },
   {
    "duration": 18,
    "start_time": "2023-09-05T08:22:47.585Z"
   },
   {
    "duration": 41,
    "start_time": "2023-09-05T08:22:47.604Z"
   },
   {
    "duration": 34,
    "start_time": "2023-09-05T08:22:47.651Z"
   },
   {
    "duration": 63,
    "start_time": "2023-09-05T08:22:47.687Z"
   },
   {
    "duration": 107,
    "start_time": "2023-09-05T08:22:47.752Z"
   },
   {
    "duration": 91,
    "start_time": "2023-09-05T08:22:47.862Z"
   },
   {
    "duration": 11,
    "start_time": "2023-09-05T08:22:47.956Z"
   },
   {
    "duration": 106,
    "start_time": "2023-09-05T08:22:48.049Z"
   },
   {
    "duration": 100,
    "start_time": "2023-09-05T08:22:48.161Z"
   },
   {
    "duration": 104,
    "start_time": "2023-09-05T08:22:48.264Z"
   },
   {
    "duration": 84,
    "start_time": "2023-09-05T08:22:48.371Z"
   },
   {
    "duration": 104,
    "start_time": "2023-09-05T08:22:48.459Z"
   },
   {
    "duration": 100,
    "start_time": "2023-09-05T08:22:48.567Z"
   },
   {
    "duration": 111,
    "start_time": "2023-09-05T08:22:48.749Z"
   },
   {
    "duration": 95,
    "start_time": "2023-09-05T08:22:48.952Z"
   },
   {
    "duration": 35,
    "start_time": "2023-09-05T08:22:49.053Z"
   },
   {
    "duration": 67,
    "start_time": "2023-09-05T08:22:49.091Z"
   },
   {
    "duration": 98,
    "start_time": "2023-09-05T08:22:49.160Z"
   },
   {
    "duration": 97,
    "start_time": "2023-09-05T08:22:49.264Z"
   },
   {
    "duration": 102,
    "start_time": "2023-09-05T08:22:49.364Z"
   },
   {
    "duration": 184,
    "start_time": "2023-09-05T08:22:49.468Z"
   },
   {
    "duration": 97,
    "start_time": "2023-09-05T08:22:49.655Z"
   },
   {
    "duration": 3,
    "start_time": "2023-09-05T08:22:49.753Z"
   },
   {
    "duration": 93,
    "start_time": "2023-09-05T08:22:49.762Z"
   },
   {
    "duration": 202,
    "start_time": "2023-09-05T08:22:49.857Z"
   },
   {
    "duration": 4,
    "start_time": "2023-09-05T08:51:28.214Z"
   },
   {
    "duration": 4,
    "start_time": "2023-09-05T08:54:21.034Z"
   },
   {
    "duration": 13,
    "start_time": "2023-09-05T08:55:38.756Z"
   },
   {
    "duration": 15,
    "start_time": "2023-09-05T09:02:12.769Z"
   },
   {
    "duration": 27,
    "start_time": "2023-09-05T09:06:12.685Z"
   },
   {
    "duration": 13,
    "start_time": "2023-09-05T09:11:49.285Z"
   },
   {
    "duration": 14,
    "start_time": "2023-09-05T09:12:38.785Z"
   },
   {
    "duration": 15,
    "start_time": "2023-09-05T09:14:50.908Z"
   },
   {
    "duration": 14,
    "start_time": "2023-09-05T09:16:29.987Z"
   },
   {
    "duration": 7,
    "start_time": "2023-09-05T09:25:51.286Z"
   },
   {
    "duration": 16,
    "start_time": "2023-09-05T09:25:55.477Z"
   },
   {
    "duration": 16,
    "start_time": "2023-09-05T09:29:26.823Z"
   },
   {
    "duration": 20,
    "start_time": "2023-09-05T09:32:34.436Z"
   },
   {
    "duration": 15,
    "start_time": "2023-09-05T09:33:24.900Z"
   },
   {
    "duration": 22,
    "start_time": "2023-09-05T09:33:34.950Z"
   },
   {
    "duration": 14,
    "start_time": "2023-09-05T09:33:49.514Z"
   },
   {
    "duration": 45,
    "start_time": "2023-09-05T09:40:18.615Z"
   },
   {
    "duration": 15,
    "start_time": "2023-09-05T09:40:56.588Z"
   },
   {
    "duration": 7,
    "start_time": "2023-09-05T10:11:09.004Z"
   },
   {
    "duration": 12,
    "start_time": "2023-09-05T10:11:28.972Z"
   },
   {
    "duration": 10,
    "start_time": "2023-09-05T10:12:01.194Z"
   },
   {
    "duration": 5,
    "start_time": "2023-09-05T10:12:30.062Z"
   },
   {
    "duration": 4,
    "start_time": "2023-09-05T10:12:59.874Z"
   },
   {
    "duration": 42,
    "start_time": "2023-09-05T10:14:00.009Z"
   },
   {
    "duration": 25,
    "start_time": "2023-09-05T10:15:47.631Z"
   },
   {
    "duration": 18,
    "start_time": "2023-09-05T10:16:10.891Z"
   },
   {
    "duration": 4,
    "start_time": "2023-09-05T10:16:44.899Z"
   },
   {
    "duration": 28,
    "start_time": "2023-09-05T10:16:46.136Z"
   },
   {
    "duration": 8,
    "start_time": "2023-09-05T13:23:56.688Z"
   },
   {
    "duration": 44,
    "start_time": "2023-09-05T13:23:58.425Z"
   },
   {
    "duration": 1525,
    "start_time": "2023-09-05T13:24:05.746Z"
   },
   {
    "duration": 980,
    "start_time": "2023-09-05T13:24:07.273Z"
   },
   {
    "duration": 170,
    "start_time": "2023-09-05T13:24:08.255Z"
   },
   {
    "duration": 166,
    "start_time": "2023-09-05T13:24:08.427Z"
   },
   {
    "duration": 156,
    "start_time": "2023-09-05T13:24:08.595Z"
   },
   {
    "duration": 116,
    "start_time": "2023-09-05T13:24:08.753Z"
   },
   {
    "duration": 200,
    "start_time": "2023-09-05T13:24:08.870Z"
   },
   {
    "duration": 122,
    "start_time": "2023-09-05T13:24:09.072Z"
   },
   {
    "duration": 17,
    "start_time": "2023-09-05T13:24:09.196Z"
   },
   {
    "duration": 30,
    "start_time": "2023-09-05T13:24:09.216Z"
   },
   {
    "duration": 17,
    "start_time": "2023-09-05T13:24:09.248Z"
   },
   {
    "duration": 27,
    "start_time": "2023-09-05T13:24:09.267Z"
   },
   {
    "duration": 49,
    "start_time": "2023-09-05T13:24:09.295Z"
   },
   {
    "duration": 96,
    "start_time": "2023-09-05T13:24:09.346Z"
   },
   {
    "duration": 190,
    "start_time": "2023-09-05T13:24:09.447Z"
   },
   {
    "duration": 95,
    "start_time": "2023-09-05T13:24:09.639Z"
   },
   {
    "duration": 21,
    "start_time": "2023-09-05T13:24:09.736Z"
   },
   {
    "duration": 191,
    "start_time": "2023-09-05T13:24:09.758Z"
   },
   {
    "duration": 95,
    "start_time": "2023-09-05T13:24:09.955Z"
   },
   {
    "duration": 11,
    "start_time": "2023-09-05T13:24:10.135Z"
   },
   {
    "duration": 103,
    "start_time": "2023-09-05T13:24:10.148Z"
   },
   {
    "duration": 184,
    "start_time": "2023-09-05T13:24:10.253Z"
   },
   {
    "duration": 101,
    "start_time": "2023-09-05T13:24:10.439Z"
   },
   {
    "duration": 195,
    "start_time": "2023-09-05T13:24:10.543Z"
   },
   {
    "duration": 61,
    "start_time": "2023-09-05T13:24:10.740Z"
   },
   {
    "duration": 142,
    "start_time": "2023-09-05T13:24:10.803Z"
   },
   {
    "duration": 199,
    "start_time": "2023-09-05T13:24:10.947Z"
   },
   {
    "duration": 219,
    "start_time": "2023-09-05T13:24:11.150Z"
   },
   {
    "duration": 98,
    "start_time": "2023-09-05T13:24:11.370Z"
   },
   {
    "duration": 189,
    "start_time": "2023-09-05T13:24:11.470Z"
   },
   {
    "duration": 182,
    "start_time": "2023-09-05T13:24:11.661Z"
   },
   {
    "duration": 86,
    "start_time": "2023-09-05T13:24:11.849Z"
   },
   {
    "duration": 109,
    "start_time": "2023-09-05T13:24:11.943Z"
   },
   {
    "duration": 39,
    "start_time": "2023-09-05T13:24:12.054Z"
   },
   {
    "duration": 208,
    "start_time": "2023-09-05T13:24:12.095Z"
   },
   {
    "duration": 3,
    "start_time": "2023-09-05T13:24:38.735Z"
   },
   {
    "duration": 17,
    "start_time": "2023-09-05T13:24:39.634Z"
   },
   {
    "duration": 12,
    "start_time": "2023-09-05T13:28:23.796Z"
   },
   {
    "duration": 4,
    "start_time": "2023-09-05T13:28:40.318Z"
   },
   {
    "duration": 12,
    "start_time": "2023-09-05T13:29:15.155Z"
   },
   {
    "duration": 10,
    "start_time": "2023-09-05T13:29:16.645Z"
   },
   {
    "duration": 6,
    "start_time": "2023-09-05T13:30:20.542Z"
   },
   {
    "duration": 10,
    "start_time": "2023-09-05T13:30:29.917Z"
   },
   {
    "duration": 8,
    "start_time": "2023-09-05T13:30:31.989Z"
   },
   {
    "duration": 7,
    "start_time": "2023-09-05T13:35:59.107Z"
   },
   {
    "duration": 8,
    "start_time": "2023-09-05T13:36:46.387Z"
   },
   {
    "duration": 10,
    "start_time": "2023-09-05T13:36:51.870Z"
   },
   {
    "duration": 8,
    "start_time": "2023-09-05T13:36:52.612Z"
   },
   {
    "duration": 11,
    "start_time": "2023-09-05T13:37:51.462Z"
   },
   {
    "duration": 14,
    "start_time": "2023-09-05T13:37:53.049Z"
   },
   {
    "duration": 8,
    "start_time": "2023-09-05T13:37:54.398Z"
   },
   {
    "duration": 13,
    "start_time": "2023-09-05T13:40:05.249Z"
   },
   {
    "duration": 14,
    "start_time": "2023-09-05T13:41:10.330Z"
   },
   {
    "duration": 4,
    "start_time": "2023-09-05T13:41:47.511Z"
   },
   {
    "duration": 17,
    "start_time": "2023-09-05T13:42:48.161Z"
   },
   {
    "duration": 12,
    "start_time": "2023-09-05T13:47:36.200Z"
   },
   {
    "duration": 14,
    "start_time": "2023-09-05T13:47:49.159Z"
   },
   {
    "duration": 24,
    "start_time": "2023-09-05T13:48:49.460Z"
   },
   {
    "duration": 1382,
    "start_time": "2023-09-05T13:49:01.392Z"
   },
   {
    "duration": 580,
    "start_time": "2023-09-05T13:49:02.777Z"
   },
   {
    "duration": 190,
    "start_time": "2023-09-05T13:49:03.359Z"
   },
   {
    "duration": 162,
    "start_time": "2023-09-05T13:49:03.551Z"
   },
   {
    "duration": 164,
    "start_time": "2023-09-05T13:49:03.715Z"
   },
   {
    "duration": 126,
    "start_time": "2023-09-05T13:49:03.881Z"
   },
   {
    "duration": 196,
    "start_time": "2023-09-05T13:49:04.009Z"
   },
   {
    "duration": 127,
    "start_time": "2023-09-05T13:49:04.207Z"
   },
   {
    "duration": 16,
    "start_time": "2023-09-05T13:49:04.335Z"
   },
   {
    "duration": 28,
    "start_time": "2023-09-05T13:49:04.353Z"
   },
   {
    "duration": 34,
    "start_time": "2023-09-05T13:49:04.383Z"
   },
   {
    "duration": 45,
    "start_time": "2023-09-05T13:49:04.419Z"
   },
   {
    "duration": 72,
    "start_time": "2023-09-05T13:49:04.466Z"
   },
   {
    "duration": 95,
    "start_time": "2023-09-05T13:49:04.544Z"
   },
   {
    "duration": 106,
    "start_time": "2023-09-05T13:49:04.642Z"
   },
   {
    "duration": 102,
    "start_time": "2023-09-05T13:49:04.836Z"
   },
   {
    "duration": 21,
    "start_time": "2023-09-05T13:49:04.940Z"
   },
   {
    "duration": 77,
    "start_time": "2023-09-05T13:49:04.963Z"
   },
   {
    "duration": 202,
    "start_time": "2023-09-05T13:49:05.043Z"
   },
   {
    "duration": 89,
    "start_time": "2023-09-05T13:49:05.249Z"
   },
   {
    "duration": 108,
    "start_time": "2023-09-05T13:49:05.340Z"
   },
   {
    "duration": 186,
    "start_time": "2023-09-05T13:49:05.452Z"
   },
   {
    "duration": 12,
    "start_time": "2023-09-05T13:49:05.733Z"
   },
   {
    "duration": 193,
    "start_time": "2023-09-05T13:49:05.747Z"
   },
   {
    "duration": 21,
    "start_time": "2023-09-05T13:49:05.941Z"
   },
   {
    "duration": 77,
    "start_time": "2023-09-05T13:49:05.967Z"
   },
   {
    "duration": 109,
    "start_time": "2023-09-05T13:49:06.133Z"
   },
   {
    "duration": 189,
    "start_time": "2023-09-05T13:49:06.245Z"
   },
   {
    "duration": 98,
    "start_time": "2023-09-05T13:49:06.436Z"
   },
   {
    "duration": 109,
    "start_time": "2023-09-05T13:49:06.537Z"
   },
   {
    "duration": 190,
    "start_time": "2023-09-05T13:49:06.648Z"
   },
   {
    "duration": 90,
    "start_time": "2023-09-05T13:49:06.845Z"
   },
   {
    "duration": 64,
    "start_time": "2023-09-05T13:49:06.937Z"
   },
   {
    "duration": 39,
    "start_time": "2023-09-05T13:49:07.035Z"
   },
   {
    "duration": 129,
    "start_time": "2023-09-05T13:49:07.076Z"
   },
   {
    "duration": 0,
    "start_time": "2023-09-05T13:49:07.206Z"
   },
   {
    "duration": 0,
    "start_time": "2023-09-05T13:49:07.207Z"
   },
   {
    "duration": 23,
    "start_time": "2023-09-05T13:49:58.569Z"
   },
   {
    "duration": 7,
    "start_time": "2023-09-05T13:50:42.040Z"
   },
   {
    "duration": 5,
    "start_time": "2023-09-05T13:57:15.902Z"
   },
   {
    "duration": 16,
    "start_time": "2023-09-05T13:57:18.660Z"
   },
   {
    "duration": 3,
    "start_time": "2023-09-05T14:03:23.685Z"
   },
   {
    "duration": 20,
    "start_time": "2023-09-05T14:03:51.172Z"
   },
   {
    "duration": 1289,
    "start_time": "2023-09-05T14:07:19.195Z"
   },
   {
    "duration": 565,
    "start_time": "2023-09-05T14:07:20.486Z"
   },
   {
    "duration": 168,
    "start_time": "2023-09-05T14:07:21.052Z"
   },
   {
    "duration": 169,
    "start_time": "2023-09-05T14:07:21.222Z"
   },
   {
    "duration": 151,
    "start_time": "2023-09-05T14:07:21.393Z"
   },
   {
    "duration": 117,
    "start_time": "2023-09-05T14:07:21.546Z"
   },
   {
    "duration": 183,
    "start_time": "2023-09-05T14:07:21.665Z"
   },
   {
    "duration": 118,
    "start_time": "2023-09-05T14:07:21.849Z"
   },
   {
    "duration": 16,
    "start_time": "2023-09-05T14:07:21.969Z"
   },
   {
    "duration": 28,
    "start_time": "2023-09-05T14:07:21.987Z"
   },
   {
    "duration": 22,
    "start_time": "2023-09-05T14:07:22.016Z"
   },
   {
    "duration": 58,
    "start_time": "2023-09-05T14:07:22.040Z"
   },
   {
    "duration": 15,
    "start_time": "2023-09-05T14:07:22.100Z"
   },
   {
    "duration": 107,
    "start_time": "2023-09-05T14:07:22.138Z"
   },
   {
    "duration": 96,
    "start_time": "2023-09-05T14:07:22.247Z"
   },
   {
    "duration": 104,
    "start_time": "2023-09-05T14:07:22.435Z"
   },
   {
    "duration": 17,
    "start_time": "2023-09-05T14:07:22.541Z"
   },
   {
    "duration": 84,
    "start_time": "2023-09-05T14:07:22.561Z"
   },
   {
    "duration": 99,
    "start_time": "2023-09-05T14:07:22.647Z"
   },
   {
    "duration": 94,
    "start_time": "2023-09-05T14:07:22.748Z"
   },
   {
    "duration": 15,
    "start_time": "2023-09-05T14:07:22.934Z"
   },
   {
    "duration": 186,
    "start_time": "2023-09-05T14:07:22.951Z"
   },
   {
    "duration": 108,
    "start_time": "2023-09-05T14:07:23.139Z"
   },
   {
    "duration": 101,
    "start_time": "2023-09-05T14:07:23.333Z"
   },
   {
    "duration": 22,
    "start_time": "2023-09-05T14:07:23.436Z"
   },
   {
    "duration": 174,
    "start_time": "2023-09-05T14:07:23.460Z"
   },
   {
    "duration": 97,
    "start_time": "2023-09-05T14:07:23.642Z"
   },
   {
    "duration": 195,
    "start_time": "2023-09-05T14:07:23.743Z"
   },
   {
    "duration": 28,
    "start_time": "2023-09-05T14:07:23.940Z"
   },
   {
    "duration": 168,
    "start_time": "2023-09-05T14:07:23.971Z"
   },
   {
    "duration": 196,
    "start_time": "2023-09-05T14:07:24.142Z"
   },
   {
    "duration": 94,
    "start_time": "2023-09-05T14:07:24.340Z"
   },
   {
    "duration": 15,
    "start_time": "2023-09-05T14:07:24.436Z"
   },
   {
    "duration": 7,
    "start_time": "2023-09-05T14:07:24.452Z"
   },
   {
    "duration": 11,
    "start_time": "2023-09-05T14:07:24.460Z"
   },
   {
    "duration": 162,
    "start_time": "2023-09-05T14:07:24.473Z"
   },
   {
    "duration": 0,
    "start_time": "2023-09-05T14:07:24.637Z"
   },
   {
    "duration": 14,
    "start_time": "2023-09-05T14:07:48.457Z"
   },
   {
    "duration": 18,
    "start_time": "2023-09-05T14:08:08.785Z"
   },
   {
    "duration": 14,
    "start_time": "2023-09-05T14:09:50.858Z"
   },
   {
    "duration": 18,
    "start_time": "2023-09-05T14:12:19.427Z"
   },
   {
    "duration": 10,
    "start_time": "2023-09-05T14:20:35.558Z"
   },
   {
    "duration": 21,
    "start_time": "2023-09-05T14:20:56.786Z"
   },
   {
    "duration": 11,
    "start_time": "2023-09-05T14:23:40.848Z"
   },
   {
    "duration": 22,
    "start_time": "2023-09-05T14:23:57.498Z"
   },
   {
    "duration": 11,
    "start_time": "2023-09-05T14:27:41.274Z"
   },
   {
    "duration": 11,
    "start_time": "2023-09-05T14:29:30.423Z"
   },
   {
    "duration": 9,
    "start_time": "2023-09-05T14:29:48.209Z"
   },
   {
    "duration": 17,
    "start_time": "2023-09-05T14:29:51.810Z"
   },
   {
    "duration": 11,
    "start_time": "2023-09-05T14:29:53.316Z"
   },
   {
    "duration": 19,
    "start_time": "2023-09-05T14:30:09.349Z"
   },
   {
    "duration": 10,
    "start_time": "2023-09-05T14:30:10.922Z"
   },
   {
    "duration": 1397,
    "start_time": "2023-09-05T14:30:17.566Z"
   },
   {
    "duration": 547,
    "start_time": "2023-09-05T14:30:18.965Z"
   },
   {
    "duration": 168,
    "start_time": "2023-09-05T14:30:19.514Z"
   },
   {
    "duration": 162,
    "start_time": "2023-09-05T14:30:19.684Z"
   },
   {
    "duration": 150,
    "start_time": "2023-09-05T14:30:19.847Z"
   },
   {
    "duration": 119,
    "start_time": "2023-09-05T14:30:19.999Z"
   },
   {
    "duration": 185,
    "start_time": "2023-09-05T14:30:20.120Z"
   },
   {
    "duration": 118,
    "start_time": "2023-09-05T14:30:20.307Z"
   },
   {
    "duration": 21,
    "start_time": "2023-09-05T14:30:20.426Z"
   },
   {
    "duration": 42,
    "start_time": "2023-09-05T14:30:20.449Z"
   },
   {
    "duration": 54,
    "start_time": "2023-09-05T14:30:20.493Z"
   },
   {
    "duration": 45,
    "start_time": "2023-09-05T14:30:20.549Z"
   },
   {
    "duration": 45,
    "start_time": "2023-09-05T14:30:20.595Z"
   },
   {
    "duration": 102,
    "start_time": "2023-09-05T14:30:20.641Z"
   },
   {
    "duration": 101,
    "start_time": "2023-09-05T14:30:20.746Z"
   },
   {
    "duration": 9,
    "start_time": "2023-09-05T14:30:21.034Z"
   },
   {
    "duration": 59,
    "start_time": "2023-09-05T14:30:21.044Z"
   },
   {
    "duration": 108,
    "start_time": "2023-09-05T14:30:21.133Z"
   },
   {
    "duration": 94,
    "start_time": "2023-09-05T14:30:21.243Z"
   },
   {
    "duration": 100,
    "start_time": "2023-09-05T14:30:21.340Z"
   },
   {
    "duration": 103,
    "start_time": "2023-09-05T14:30:21.443Z"
   },
   {
    "duration": 188,
    "start_time": "2023-09-05T14:30:21.548Z"
   },
   {
    "duration": 101,
    "start_time": "2023-09-05T14:30:21.739Z"
   },
   {
    "duration": 200,
    "start_time": "2023-09-05T14:30:21.842Z"
   },
   {
    "duration": 34,
    "start_time": "2023-09-05T14:30:22.045Z"
   },
   {
    "duration": 155,
    "start_time": "2023-09-05T14:30:22.082Z"
   },
   {
    "duration": 195,
    "start_time": "2023-09-05T14:30:22.240Z"
   },
   {
    "duration": 100,
    "start_time": "2023-09-05T14:30:22.440Z"
   },
   {
    "duration": 13,
    "start_time": "2023-09-05T14:30:22.541Z"
   },
   {
    "duration": 180,
    "start_time": "2023-09-05T14:30:22.557Z"
   },
   {
    "duration": 108,
    "start_time": "2023-09-05T14:30:22.740Z"
   },
   {
    "duration": 87,
    "start_time": "2023-09-05T14:30:22.849Z"
   },
   {
    "duration": 104,
    "start_time": "2023-09-05T14:30:22.938Z"
   },
   {
    "duration": 4,
    "start_time": "2023-09-05T14:30:23.043Z"
   },
   {
    "duration": 30,
    "start_time": "2023-09-05T14:30:23.048Z"
   },
   {
    "duration": 113,
    "start_time": "2023-09-05T14:30:23.080Z"
   },
   {
    "duration": 897,
    "start_time": "2023-09-05T14:32:05.845Z"
   },
   {
    "duration": 826,
    "start_time": "2023-09-05T14:32:39.057Z"
   },
   {
    "duration": 818,
    "start_time": "2023-09-05T14:32:57.342Z"
   },
   {
    "duration": 807,
    "start_time": "2023-09-05T14:33:48.461Z"
   },
   {
    "duration": 883,
    "start_time": "2023-09-05T14:34:31.685Z"
   },
   {
    "duration": 3,
    "start_time": "2023-09-05T14:40:50.547Z"
   },
   {
    "duration": 10,
    "start_time": "2023-09-05T14:40:51.453Z"
   },
   {
    "duration": 2,
    "start_time": "2023-09-05T14:40:59.505Z"
   },
   {
    "duration": 8,
    "start_time": "2023-09-05T14:41:00.434Z"
   },
   {
    "duration": 3,
    "start_time": "2023-09-05T14:41:05.197Z"
   },
   {
    "duration": 19,
    "start_time": "2023-09-05T14:41:06.265Z"
   },
   {
    "duration": 836,
    "start_time": "2023-09-05T14:41:38.768Z"
   },
   {
    "duration": 880,
    "start_time": "2023-09-05T14:41:43.535Z"
   },
   {
    "duration": 815,
    "start_time": "2023-09-05T14:41:45.203Z"
   },
   {
    "duration": 832,
    "start_time": "2023-09-05T14:43:07.801Z"
   },
   {
    "duration": 872,
    "start_time": "2023-09-05T14:43:23.238Z"
   },
   {
    "duration": 884,
    "start_time": "2023-09-05T15:06:09.564Z"
   },
   {
    "duration": 5,
    "start_time": "2023-09-05T15:10:42.324Z"
   },
   {
    "duration": 3,
    "start_time": "2023-09-05T15:10:49.227Z"
   },
   {
    "duration": 10,
    "start_time": "2023-09-05T15:10:50.244Z"
   },
   {
    "duration": 14,
    "start_time": "2023-09-05T15:11:07.041Z"
   },
   {
    "duration": 6,
    "start_time": "2023-09-05T15:12:33.504Z"
   },
   {
    "duration": 27,
    "start_time": "2023-09-05T15:12:34.735Z"
   },
   {
    "duration": 4,
    "start_time": "2023-09-05T15:13:21.503Z"
   },
   {
    "duration": 19,
    "start_time": "2023-09-05T15:13:22.391Z"
   },
   {
    "duration": 16,
    "start_time": "2023-09-05T15:24:45.232Z"
   },
   {
    "duration": 5,
    "start_time": "2023-09-05T15:24:54.928Z"
   },
   {
    "duration": 1041,
    "start_time": "2023-09-05T15:24:57.042Z"
   },
   {
    "duration": 1038,
    "start_time": "2023-09-05T15:25:24.144Z"
   },
   {
    "duration": 980,
    "start_time": "2023-09-05T15:25:44.541Z"
   },
   {
    "duration": 1305,
    "start_time": "2023-09-05T15:26:22.683Z"
   },
   {
    "duration": 613,
    "start_time": "2023-09-05T15:26:23.990Z"
   },
   {
    "duration": 217,
    "start_time": "2023-09-05T15:26:24.605Z"
   },
   {
    "duration": 159,
    "start_time": "2023-09-05T15:26:24.824Z"
   },
   {
    "duration": 154,
    "start_time": "2023-09-05T15:26:24.985Z"
   },
   {
    "duration": 114,
    "start_time": "2023-09-05T15:26:25.141Z"
   },
   {
    "duration": 192,
    "start_time": "2023-09-05T15:26:25.257Z"
   },
   {
    "duration": 121,
    "start_time": "2023-09-05T15:26:25.451Z"
   },
   {
    "duration": 16,
    "start_time": "2023-09-05T15:26:25.573Z"
   },
   {
    "duration": 37,
    "start_time": "2023-09-05T15:26:25.591Z"
   },
   {
    "duration": 20,
    "start_time": "2023-09-05T15:26:25.629Z"
   },
   {
    "duration": 55,
    "start_time": "2023-09-05T15:26:25.650Z"
   },
   {
    "duration": 30,
    "start_time": "2023-09-05T15:26:25.707Z"
   },
   {
    "duration": 105,
    "start_time": "2023-09-05T15:26:25.834Z"
   },
   {
    "duration": 197,
    "start_time": "2023-09-05T15:26:25.942Z"
   },
   {
    "duration": 108,
    "start_time": "2023-09-05T15:26:26.142Z"
   },
   {
    "duration": 38,
    "start_time": "2023-09-05T15:26:26.251Z"
   },
   {
    "duration": 103,
    "start_time": "2023-09-05T15:26:26.342Z"
   },
   {
    "duration": 198,
    "start_time": "2023-09-05T15:26:26.447Z"
   },
   {
    "duration": 187,
    "start_time": "2023-09-05T15:26:26.647Z"
   },
   {
    "duration": 35,
    "start_time": "2023-09-05T15:26:26.836Z"
   },
   {
    "duration": 194,
    "start_time": "2023-09-05T15:26:26.877Z"
   },
   {
    "duration": 261,
    "start_time": "2023-09-05T15:26:27.073Z"
   },
   {
    "duration": 96,
    "start_time": "2023-09-05T15:26:27.342Z"
   },
   {
    "duration": 76,
    "start_time": "2023-09-05T15:26:27.439Z"
   },
   {
    "duration": 132,
    "start_time": "2023-09-05T15:26:27.517Z"
   },
   {
    "duration": 106,
    "start_time": "2023-09-05T15:26:27.741Z"
   },
   {
    "duration": 188,
    "start_time": "2023-09-05T15:26:27.851Z"
   },
   {
    "duration": 34,
    "start_time": "2023-09-05T15:26:28.041Z"
   },
   {
    "duration": 119,
    "start_time": "2023-09-05T15:26:28.134Z"
   },
   {
    "duration": 190,
    "start_time": "2023-09-05T15:26:28.256Z"
   },
   {
    "duration": 186,
    "start_time": "2023-09-05T15:26:28.448Z"
   },
   {
    "duration": 66,
    "start_time": "2023-09-05T15:26:28.636Z"
   },
   {
    "duration": 65,
    "start_time": "2023-09-05T15:26:28.703Z"
   },
   {
    "duration": 60,
    "start_time": "2023-09-05T15:26:28.770Z"
   },
   {
    "duration": 33,
    "start_time": "2023-09-05T15:26:28.831Z"
   },
   {
    "duration": 125,
    "start_time": "2023-09-05T15:26:28.865Z"
   },
   {
    "duration": 0,
    "start_time": "2023-09-05T15:26:28.991Z"
   },
   {
    "duration": 0,
    "start_time": "2023-09-05T15:26:28.993Z"
   },
   {
    "duration": 5,
    "start_time": "2023-09-05T15:28:28.567Z"
   },
   {
    "duration": 1039,
    "start_time": "2023-09-05T15:28:33.709Z"
   },
   {
    "duration": 982,
    "start_time": "2023-09-05T15:28:37.444Z"
   },
   {
    "duration": 970,
    "start_time": "2023-09-05T15:28:39.373Z"
   },
   {
    "duration": 5,
    "start_time": "2023-09-05T15:29:29.138Z"
   },
   {
    "duration": 1012,
    "start_time": "2023-09-05T15:29:31.546Z"
   },
   {
    "duration": 979,
    "start_time": "2023-09-05T15:29:32.559Z"
   },
   {
    "duration": 970,
    "start_time": "2023-09-05T15:29:33.539Z"
   },
   {
    "duration": 155,
    "start_time": "2023-09-05T15:31:53.897Z"
   },
   {
    "duration": 159,
    "start_time": "2023-09-05T15:31:57.528Z"
   },
   {
    "duration": 164,
    "start_time": "2023-09-05T15:32:00.734Z"
   },
   {
    "duration": 7,
    "start_time": "2023-09-05T15:34:43.816Z"
   },
   {
    "duration": 639,
    "start_time": "2023-09-05T15:36:05.004Z"
   },
   {
    "duration": 632,
    "start_time": "2023-09-05T15:36:34.304Z"
   },
   {
    "duration": 90,
    "start_time": "2023-09-05T15:37:29.835Z"
   },
   {
    "duration": 688,
    "start_time": "2023-09-05T15:37:59.771Z"
   },
   {
    "duration": 960,
    "start_time": "2023-09-05T15:38:57.509Z"
   },
   {
    "duration": 75,
    "start_time": "2023-09-05T15:39:49.136Z"
   },
   {
    "duration": 706,
    "start_time": "2023-09-05T15:40:06.594Z"
   },
   {
    "duration": 699,
    "start_time": "2023-09-05T15:40:51.697Z"
   },
   {
    "duration": 526,
    "start_time": "2023-09-05T15:41:35.193Z"
   },
   {
    "duration": 90,
    "start_time": "2023-09-05T15:42:05.744Z"
   },
   {
    "duration": 115,
    "start_time": "2023-09-05T15:42:13.022Z"
   },
   {
    "duration": 6,
    "start_time": "2023-09-05T17:21:33.370Z"
   },
   {
    "duration": 974,
    "start_time": "2023-09-05T17:21:37.012Z"
   },
   {
    "duration": 996,
    "start_time": "2023-09-05T17:21:38.858Z"
   },
   {
    "duration": 975,
    "start_time": "2023-09-05T17:21:40.500Z"
   },
   {
    "duration": 21,
    "start_time": "2023-09-05T17:29:56.619Z"
   },
   {
    "duration": 12,
    "start_time": "2023-09-05T17:29:57.721Z"
   },
   {
    "duration": 15,
    "start_time": "2023-09-05T17:29:58.306Z"
   },
   {
    "duration": 1628,
    "start_time": "2023-09-05T17:34:29.054Z"
   },
   {
    "duration": 509,
    "start_time": "2023-09-05T17:34:30.685Z"
   },
   {
    "duration": 115,
    "start_time": "2023-09-05T17:34:31.196Z"
   },
   {
    "duration": 128,
    "start_time": "2023-09-05T17:34:31.312Z"
   },
   {
    "duration": 186,
    "start_time": "2023-09-05T17:34:31.442Z"
   },
   {
    "duration": 173,
    "start_time": "2023-09-05T17:34:31.629Z"
   },
   {
    "duration": 169,
    "start_time": "2023-09-05T17:34:31.804Z"
   },
   {
    "duration": 138,
    "start_time": "2023-09-05T17:34:31.975Z"
   },
   {
    "duration": 189,
    "start_time": "2023-09-05T17:34:32.114Z"
   },
   {
    "duration": 123,
    "start_time": "2023-09-05T17:34:32.305Z"
   },
   {
    "duration": 16,
    "start_time": "2023-09-05T17:34:32.434Z"
   },
   {
    "duration": 53,
    "start_time": "2023-09-05T17:34:32.452Z"
   },
   {
    "duration": 24,
    "start_time": "2023-09-05T17:34:32.507Z"
   },
   {
    "duration": 40,
    "start_time": "2023-09-05T17:34:32.534Z"
   },
   {
    "duration": 23,
    "start_time": "2023-09-05T17:34:32.576Z"
   },
   {
    "duration": 133,
    "start_time": "2023-09-05T17:34:32.601Z"
   },
   {
    "duration": 105,
    "start_time": "2023-09-05T17:34:32.736Z"
   },
   {
    "duration": 91,
    "start_time": "2023-09-05T17:34:32.843Z"
   },
   {
    "duration": 111,
    "start_time": "2023-09-05T17:34:32.937Z"
   },
   {
    "duration": 191,
    "start_time": "2023-09-05T17:34:33.051Z"
   },
   {
    "duration": 99,
    "start_time": "2023-09-05T17:34:33.245Z"
   },
   {
    "duration": 90,
    "start_time": "2023-09-05T17:34:33.346Z"
   },
   {
    "duration": 103,
    "start_time": "2023-09-05T17:34:33.440Z"
   },
   {
    "duration": 97,
    "start_time": "2023-09-05T17:34:33.545Z"
   },
   {
    "duration": 191,
    "start_time": "2023-09-05T17:34:33.645Z"
   },
   {
    "duration": 93,
    "start_time": "2023-09-05T17:34:33.844Z"
   },
   {
    "duration": 97,
    "start_time": "2023-09-05T17:34:33.939Z"
   },
   {
    "duration": 100,
    "start_time": "2023-09-05T17:34:34.039Z"
   },
   {
    "duration": 199,
    "start_time": "2023-09-05T17:34:34.143Z"
   },
   {
    "duration": 189,
    "start_time": "2023-09-05T17:34:34.345Z"
   },
   {
    "duration": 26,
    "start_time": "2023-09-05T17:34:34.535Z"
   },
   {
    "duration": 174,
    "start_time": "2023-09-05T17:34:34.564Z"
   },
   {
    "duration": 232,
    "start_time": "2023-09-05T17:34:34.739Z"
   },
   {
    "duration": 3,
    "start_time": "2023-09-05T17:34:34.974Z"
   },
   {
    "duration": 102,
    "start_time": "2023-09-05T17:34:35.035Z"
   },
   {
    "duration": 4,
    "start_time": "2023-09-05T17:34:35.139Z"
   },
   {
    "duration": 17,
    "start_time": "2023-09-05T17:34:35.145Z"
   },
   {
    "duration": 4,
    "start_time": "2023-09-05T17:34:35.164Z"
   },
   {
    "duration": 1024,
    "start_time": "2023-09-05T17:34:35.170Z"
   },
   {
    "duration": 1000,
    "start_time": "2023-09-05T17:34:36.196Z"
   },
   {
    "duration": 1055,
    "start_time": "2023-09-05T17:34:37.200Z"
   },
   {
    "duration": 3187,
    "start_time": "2023-09-05T18:52:14.012Z"
   },
   {
    "duration": 944,
    "start_time": "2023-09-05T18:52:17.201Z"
   },
   {
    "duration": 124,
    "start_time": "2023-09-05T18:52:18.146Z"
   },
   {
    "duration": 147,
    "start_time": "2023-09-05T18:52:18.272Z"
   },
   {
    "duration": 213,
    "start_time": "2023-09-05T18:52:18.421Z"
   },
   {
    "duration": 201,
    "start_time": "2023-09-05T18:52:18.636Z"
   },
   {
    "duration": 187,
    "start_time": "2023-09-05T18:52:18.839Z"
   },
   {
    "duration": 165,
    "start_time": "2023-09-05T18:52:19.028Z"
   },
   {
    "duration": 228,
    "start_time": "2023-09-05T18:52:19.195Z"
   },
   {
    "duration": 135,
    "start_time": "2023-09-05T18:52:19.425Z"
   },
   {
    "duration": 19,
    "start_time": "2023-09-05T18:52:19.562Z"
   },
   {
    "duration": 33,
    "start_time": "2023-09-05T18:52:19.583Z"
   },
   {
    "duration": 29,
    "start_time": "2023-09-05T18:52:19.618Z"
   },
   {
    "duration": 60,
    "start_time": "2023-09-05T18:52:19.650Z"
   },
   {
    "duration": 35,
    "start_time": "2023-09-05T18:52:19.712Z"
   },
   {
    "duration": 13,
    "start_time": "2023-09-05T18:52:19.750Z"
   },
   {
    "duration": 102,
    "start_time": "2023-09-05T18:52:19.803Z"
   },
   {
    "duration": 101,
    "start_time": "2023-09-05T18:52:19.908Z"
   },
   {
    "duration": 101,
    "start_time": "2023-09-05T18:52:20.013Z"
   },
   {
    "duration": 98,
    "start_time": "2023-09-05T18:52:20.117Z"
   },
   {
    "duration": 191,
    "start_time": "2023-09-05T18:52:20.218Z"
   },
   {
    "duration": 192,
    "start_time": "2023-09-05T18:52:20.411Z"
   },
   {
    "duration": 96,
    "start_time": "2023-09-05T18:52:20.606Z"
   },
   {
    "duration": 34,
    "start_time": "2023-09-05T18:52:20.703Z"
   },
   {
    "duration": 67,
    "start_time": "2023-09-05T18:52:20.739Z"
   },
   {
    "duration": 197,
    "start_time": "2023-09-05T18:52:20.809Z"
   },
   {
    "duration": 189,
    "start_time": "2023-09-05T18:52:21.012Z"
   },
   {
    "duration": 16,
    "start_time": "2023-09-05T18:52:21.203Z"
   },
   {
    "duration": 184,
    "start_time": "2023-09-05T18:52:21.222Z"
   },
   {
    "duration": 110,
    "start_time": "2023-09-05T18:52:21.501Z"
   },
   {
    "duration": 188,
    "start_time": "2023-09-05T18:52:21.613Z"
   },
   {
    "duration": 15,
    "start_time": "2023-09-05T18:52:21.804Z"
   },
   {
    "duration": 192,
    "start_time": "2023-09-05T18:52:21.821Z"
   },
   {
    "duration": 191,
    "start_time": "2023-09-05T18:52:22.018Z"
   },
   {
    "duration": 11,
    "start_time": "2023-09-05T18:52:22.300Z"
   },
   {
    "duration": 9,
    "start_time": "2023-09-05T18:52:22.402Z"
   },
   {
    "duration": 32,
    "start_time": "2023-09-05T18:52:22.413Z"
   },
   {
    "duration": 53,
    "start_time": "2023-09-05T18:52:22.447Z"
   },
   {
    "duration": 4,
    "start_time": "2023-09-05T18:52:22.502Z"
   },
   {
    "duration": 1101,
    "start_time": "2023-09-05T18:52:22.508Z"
   },
   {
    "duration": 1121,
    "start_time": "2023-09-05T18:52:23.612Z"
   },
   {
    "duration": 1150,
    "start_time": "2023-09-05T18:52:24.735Z"
   },
   {
    "duration": 2989,
    "start_time": "2023-09-05T18:53:45.526Z"
   },
   {
    "duration": 551,
    "start_time": "2023-09-05T18:53:48.517Z"
   },
   {
    "duration": 132,
    "start_time": "2023-09-05T18:53:49.070Z"
   },
   {
    "duration": 139,
    "start_time": "2023-09-05T18:53:49.204Z"
   },
   {
    "duration": 201,
    "start_time": "2023-09-05T18:53:49.345Z"
   },
   {
    "duration": 206,
    "start_time": "2023-09-05T18:53:49.548Z"
   },
   {
    "duration": 192,
    "start_time": "2023-09-05T18:53:49.756Z"
   },
   {
    "duration": 135,
    "start_time": "2023-09-05T18:53:49.950Z"
   },
   {
    "duration": 206,
    "start_time": "2023-09-05T18:53:50.087Z"
   },
   {
    "duration": 125,
    "start_time": "2023-09-05T18:53:50.296Z"
   },
   {
    "duration": 18,
    "start_time": "2023-09-05T18:53:50.422Z"
   },
   {
    "duration": 17,
    "start_time": "2023-09-05T18:53:50.441Z"
   },
   {
    "duration": 43,
    "start_time": "2023-09-05T18:53:50.460Z"
   },
   {
    "duration": 30,
    "start_time": "2023-09-05T18:53:50.504Z"
   },
   {
    "duration": 65,
    "start_time": "2023-09-05T18:53:50.536Z"
   },
   {
    "duration": 109,
    "start_time": "2023-09-05T18:53:50.604Z"
   },
   {
    "duration": 189,
    "start_time": "2023-09-05T18:53:50.716Z"
   },
   {
    "duration": 101,
    "start_time": "2023-09-05T18:53:50.908Z"
   },
   {
    "duration": 91,
    "start_time": "2023-09-05T18:53:51.011Z"
   },
   {
    "duration": 108,
    "start_time": "2023-09-05T18:53:51.105Z"
   },
   {
    "duration": 198,
    "start_time": "2023-09-05T18:53:51.215Z"
   },
   {
    "duration": 97,
    "start_time": "2023-09-05T18:53:51.416Z"
   },
   {
    "duration": 88,
    "start_time": "2023-09-05T18:53:51.515Z"
   },
   {
    "duration": 103,
    "start_time": "2023-09-05T18:53:51.606Z"
   },
   {
    "duration": 98,
    "start_time": "2023-09-05T18:53:51.711Z"
   },
   {
    "duration": 99,
    "start_time": "2023-09-05T18:53:51.811Z"
   },
   {
    "duration": 45,
    "start_time": "2023-09-05T18:53:52.001Z"
   },
   {
    "duration": 149,
    "start_time": "2023-09-05T18:53:52.052Z"
   },
   {
    "duration": 104,
    "start_time": "2023-09-05T18:53:52.204Z"
   },
   {
    "duration": 193,
    "start_time": "2023-09-05T18:53:52.310Z"
   },
   {
    "duration": 16,
    "start_time": "2023-09-05T18:53:52.505Z"
   },
   {
    "duration": 181,
    "start_time": "2023-09-05T18:53:52.524Z"
   },
   {
    "duration": 200,
    "start_time": "2023-09-05T18:53:52.710Z"
   },
   {
    "duration": 94,
    "start_time": "2023-09-05T18:53:52.914Z"
   },
   {
    "duration": 96,
    "start_time": "2023-09-05T18:53:53.014Z"
   },
   {
    "duration": 4,
    "start_time": "2023-09-05T18:53:53.112Z"
   },
   {
    "duration": 26,
    "start_time": "2023-09-05T18:53:53.124Z"
   },
   {
    "duration": 5,
    "start_time": "2023-09-05T18:53:53.152Z"
   },
   {
    "duration": 1143,
    "start_time": "2023-09-05T18:53:53.158Z"
   },
   {
    "duration": 1153,
    "start_time": "2023-09-05T18:53:54.303Z"
   },
   {
    "duration": 1104,
    "start_time": "2023-09-05T18:53:55.458Z"
   },
   {
    "duration": 3409,
    "start_time": "2023-09-05T19:10:48.269Z"
   },
   {
    "duration": 470,
    "start_time": "2023-09-05T19:10:51.680Z"
   },
   {
    "duration": 131,
    "start_time": "2023-09-05T19:10:52.152Z"
   },
   {
    "duration": 130,
    "start_time": "2023-09-05T19:10:52.284Z"
   },
   {
    "duration": 139,
    "start_time": "2023-09-05T19:10:52.416Z"
   },
   {
    "duration": 200,
    "start_time": "2023-09-05T19:10:52.557Z"
   },
   {
    "duration": 194,
    "start_time": "2023-09-05T19:10:52.759Z"
   },
   {
    "duration": 182,
    "start_time": "2023-09-05T19:10:52.955Z"
   },
   {
    "duration": 130,
    "start_time": "2023-09-05T19:10:53.139Z"
   },
   {
    "duration": 202,
    "start_time": "2023-09-05T19:10:53.270Z"
   },
   {
    "duration": 128,
    "start_time": "2023-09-05T19:10:53.473Z"
   },
   {
    "duration": 17,
    "start_time": "2023-09-05T19:10:53.603Z"
   },
   {
    "duration": 18,
    "start_time": "2023-09-05T19:10:53.622Z"
   },
   {
    "duration": 22,
    "start_time": "2023-09-05T19:10:53.643Z"
   },
   {
    "duration": 61,
    "start_time": "2023-09-05T19:10:53.666Z"
   },
   {
    "duration": 74,
    "start_time": "2023-09-05T19:10:53.729Z"
   },
   {
    "duration": 103,
    "start_time": "2023-09-05T19:10:53.806Z"
   },
   {
    "duration": 190,
    "start_time": "2023-09-05T19:10:53.912Z"
   },
   {
    "duration": 101,
    "start_time": "2023-09-05T19:10:54.106Z"
   },
   {
    "duration": 95,
    "start_time": "2023-09-05T19:10:54.209Z"
   },
   {
    "duration": 108,
    "start_time": "2023-09-05T19:10:54.307Z"
   },
   {
    "duration": 185,
    "start_time": "2023-09-05T19:10:54.418Z"
   },
   {
    "duration": 102,
    "start_time": "2023-09-05T19:10:54.611Z"
   },
   {
    "duration": 85,
    "start_time": "2023-09-05T19:10:54.716Z"
   },
   {
    "duration": 107,
    "start_time": "2023-09-05T19:10:54.804Z"
   },
   {
    "duration": 199,
    "start_time": "2023-09-05T19:10:55.003Z"
   },
   {
    "duration": 96,
    "start_time": "2023-09-05T19:10:55.206Z"
   },
   {
    "duration": 24,
    "start_time": "2023-09-05T19:10:55.303Z"
   },
   {
    "duration": 100,
    "start_time": "2023-09-05T19:10:55.402Z"
   },
   {
    "duration": 101,
    "start_time": "2023-09-05T19:10:55.504Z"
   },
   {
    "duration": 96,
    "start_time": "2023-09-05T19:10:55.607Z"
   },
   {
    "duration": 40,
    "start_time": "2023-09-05T19:10:55.705Z"
   },
   {
    "duration": 158,
    "start_time": "2023-09-05T19:10:55.747Z"
   },
   {
    "duration": 110,
    "start_time": "2023-09-05T19:10:55.907Z"
   },
   {
    "duration": 89,
    "start_time": "2023-09-05T19:10:56.020Z"
   },
   {
    "duration": 99,
    "start_time": "2023-09-05T19:10:56.112Z"
   },
   {
    "duration": 5,
    "start_time": "2023-09-05T19:10:56.213Z"
   },
   {
    "duration": 44,
    "start_time": "2023-09-05T19:10:56.220Z"
   },
   {
    "duration": 8,
    "start_time": "2023-09-05T19:10:56.266Z"
   },
   {
    "duration": 1164,
    "start_time": "2023-09-05T19:10:56.276Z"
   },
   {
    "duration": 1090,
    "start_time": "2023-09-05T19:10:57.444Z"
   },
   {
    "duration": 1138,
    "start_time": "2023-09-05T19:10:58.536Z"
   },
   {
    "duration": 6,
    "start_time": "2023-09-05T19:11:01.669Z"
   },
   {
    "duration": 5,
    "start_time": "2023-09-05T19:11:05.043Z"
   },
   {
    "duration": 5,
    "start_time": "2023-09-05T19:11:23.900Z"
   },
   {
    "duration": 4,
    "start_time": "2023-09-05T19:11:28.743Z"
   },
   {
    "duration": 11,
    "start_time": "2023-09-06T06:28:21.355Z"
   },
   {
    "duration": 3,
    "start_time": "2023-09-06T06:29:29.946Z"
   },
   {
    "duration": 1652,
    "start_time": "2023-09-06T06:31:17.299Z"
   },
   {
    "duration": 834,
    "start_time": "2023-09-06T06:32:23.047Z"
   },
   {
    "duration": 3,
    "start_time": "2023-09-06T06:32:28.946Z"
   },
   {
    "duration": 96,
    "start_time": "2023-09-06T06:32:54.836Z"
   },
   {
    "duration": 88,
    "start_time": "2023-09-06T06:33:18.543Z"
   },
   {
    "duration": 103,
    "start_time": "2023-09-06T06:33:41.370Z"
   },
   {
    "duration": 122,
    "start_time": "2023-09-06T06:34:53.643Z"
   },
   {
    "duration": 110,
    "start_time": "2023-09-06T06:35:16.400Z"
   },
   {
    "duration": 123,
    "start_time": "2023-09-06T06:36:19.705Z"
   },
   {
    "duration": 123,
    "start_time": "2023-09-06T06:36:56.452Z"
   },
   {
    "duration": 116,
    "start_time": "2023-09-06T06:37:27.363Z"
   },
   {
    "duration": 140,
    "start_time": "2023-09-06T06:37:43.508Z"
   },
   {
    "duration": 204,
    "start_time": "2023-09-06T06:39:05.601Z"
   },
   {
    "duration": 194,
    "start_time": "2023-09-06T06:39:50.399Z"
   },
   {
    "duration": 176,
    "start_time": "2023-09-06T06:40:03.877Z"
   },
   {
    "duration": 218,
    "start_time": "2023-09-06T06:40:34.950Z"
   },
   {
    "duration": 223,
    "start_time": "2023-09-06T06:40:53.447Z"
   },
   {
    "duration": 253,
    "start_time": "2023-09-06T06:41:45.264Z"
   },
   {
    "duration": 188,
    "start_time": "2023-09-06T06:47:12.690Z"
   },
   {
    "duration": 227,
    "start_time": "2023-09-06T06:47:24.563Z"
   },
   {
    "duration": 222,
    "start_time": "2023-09-06T06:47:32.184Z"
   },
   {
    "duration": 21,
    "start_time": "2023-09-06T06:51:12.601Z"
   },
   {
    "duration": 305,
    "start_time": "2023-09-06T06:52:55.486Z"
   },
   {
    "duration": 346,
    "start_time": "2023-09-06T06:53:24.598Z"
   },
   {
    "duration": 221,
    "start_time": "2023-09-06T06:53:32.558Z"
   },
   {
    "duration": 284,
    "start_time": "2023-09-06T06:54:01.195Z"
   },
   {
    "duration": 248,
    "start_time": "2023-09-06T06:54:08.792Z"
   },
   {
    "duration": 94,
    "start_time": "2023-09-06T06:54:37.985Z"
   },
   {
    "duration": 142,
    "start_time": "2023-09-06T06:55:16.151Z"
   },
   {
    "duration": 160,
    "start_time": "2023-09-06T06:55:33.010Z"
   },
   {
    "duration": 443,
    "start_time": "2023-09-06T06:55:45.227Z"
   },
   {
    "duration": 151,
    "start_time": "2023-09-06T06:55:49.055Z"
   },
   {
    "duration": 137,
    "start_time": "2023-09-06T06:55:52.158Z"
   },
   {
    "duration": 147,
    "start_time": "2023-09-06T06:55:53.532Z"
   },
   {
    "duration": 193,
    "start_time": "2023-09-06T06:56:54.673Z"
   },
   {
    "duration": 533,
    "start_time": "2023-09-06T06:57:33.282Z"
   },
   {
    "duration": 219,
    "start_time": "2023-09-06T06:58:01.832Z"
   },
   {
    "duration": 176,
    "start_time": "2023-09-06T06:58:30.514Z"
   },
   {
    "duration": 177,
    "start_time": "2023-09-06T06:58:35.946Z"
   },
   {
    "duration": 204,
    "start_time": "2023-09-06T06:58:43.642Z"
   },
   {
    "duration": 149,
    "start_time": "2023-09-06T06:59:52.820Z"
   },
   {
    "duration": 22,
    "start_time": "2023-09-06T07:04:06.479Z"
   },
   {
    "duration": 20,
    "start_time": "2023-09-06T07:05:09.658Z"
   },
   {
    "duration": 15,
    "start_time": "2023-09-06T07:05:22.569Z"
   },
   {
    "duration": 118,
    "start_time": "2023-09-06T07:11:54.472Z"
   },
   {
    "duration": 1578,
    "start_time": "2023-09-06T07:12:08.686Z"
   },
   {
    "duration": 4,
    "start_time": "2023-09-06T07:12:10.266Z"
   },
   {
    "duration": 495,
    "start_time": "2023-09-06T07:12:10.273Z"
   },
   {
    "duration": 211,
    "start_time": "2023-09-06T07:12:10.771Z"
   },
   {
    "duration": 191,
    "start_time": "2023-09-06T07:12:10.984Z"
   },
   {
    "duration": 202,
    "start_time": "2023-09-06T07:12:11.176Z"
   },
   {
    "duration": 137,
    "start_time": "2023-09-06T07:12:11.380Z"
   },
   {
    "duration": 223,
    "start_time": "2023-09-06T07:12:11.527Z"
   },
   {
    "duration": 293,
    "start_time": "2023-09-06T07:12:11.752Z"
   },
   {
    "duration": 251,
    "start_time": "2023-09-06T07:12:12.052Z"
   },
   {
    "duration": 166,
    "start_time": "2023-09-06T07:12:12.305Z"
   },
   {
    "duration": 288,
    "start_time": "2023-09-06T07:12:12.474Z"
   },
   {
    "duration": 149,
    "start_time": "2023-09-06T07:12:12.765Z"
   },
   {
    "duration": 27,
    "start_time": "2023-09-06T07:12:12.915Z"
   },
   {
    "duration": 21,
    "start_time": "2023-09-06T07:12:12.944Z"
   },
   {
    "duration": 18,
    "start_time": "2023-09-06T07:12:12.968Z"
   },
   {
    "duration": 50,
    "start_time": "2023-09-06T07:12:12.989Z"
   },
   {
    "duration": 25,
    "start_time": "2023-09-06T07:12:13.041Z"
   },
   {
    "duration": 20,
    "start_time": "2023-09-06T07:12:13.068Z"
   },
   {
    "duration": 60,
    "start_time": "2023-09-06T07:12:13.090Z"
   },
   {
    "duration": 106,
    "start_time": "2023-09-06T07:12:13.152Z"
   },
   {
    "duration": 30,
    "start_time": "2023-09-06T07:12:13.331Z"
   },
   {
    "duration": 92,
    "start_time": "2023-09-06T07:12:13.432Z"
   },
   {
    "duration": 23,
    "start_time": "2023-09-06T07:12:13.526Z"
   },
   {
    "duration": 105,
    "start_time": "2023-09-06T07:12:13.553Z"
   },
   {
    "duration": 178,
    "start_time": "2023-09-06T07:12:13.660Z"
   },
   {
    "duration": 107,
    "start_time": "2023-09-06T07:12:13.847Z"
   },
   {
    "duration": 39,
    "start_time": "2023-09-06T07:12:14.025Z"
   },
   {
    "duration": 28,
    "start_time": "2023-09-06T07:12:14.125Z"
   },
   {
    "duration": 174,
    "start_time": "2023-09-06T07:12:14.155Z"
   },
   {
    "duration": 99,
    "start_time": "2023-09-06T07:12:14.335Z"
   },
   {
    "duration": 87,
    "start_time": "2023-09-06T07:12:14.437Z"
   },
   {
    "duration": 25,
    "start_time": "2023-09-06T07:12:14.530Z"
   },
   {
    "duration": 176,
    "start_time": "2023-09-06T07:12:14.558Z"
   },
   {
    "duration": 101,
    "start_time": "2023-09-06T07:12:14.737Z"
   },
   {
    "duration": 93,
    "start_time": "2023-09-06T07:12:14.841Z"
   },
   {
    "duration": 104,
    "start_time": "2023-09-06T07:12:14.942Z"
   },
   {
    "duration": 97,
    "start_time": "2023-09-06T07:12:15.053Z"
   },
   {
    "duration": 93,
    "start_time": "2023-09-06T07:12:15.158Z"
   },
   {
    "duration": 19,
    "start_time": "2023-09-06T07:12:15.325Z"
   },
   {
    "duration": 311,
    "start_time": "2023-09-06T07:12:15.346Z"
   },
   {
    "duration": 289,
    "start_time": "2023-09-06T07:12:15.658Z"
   },
   {
    "duration": 37,
    "start_time": "2023-09-06T07:12:15.950Z"
   },
   {
    "duration": 8,
    "start_time": "2023-09-06T07:12:15.989Z"
   },
   {
    "duration": 1327,
    "start_time": "2023-09-06T07:12:16.000Z"
   },
   {
    "duration": 1150,
    "start_time": "2023-09-06T07:12:17.330Z"
   },
   {
    "duration": 1168,
    "start_time": "2023-09-06T07:12:18.481Z"
   },
   {
    "duration": 259,
    "start_time": "2023-09-06T07:16:10.322Z"
   },
   {
    "duration": 179,
    "start_time": "2023-09-06T07:16:47.492Z"
   },
   {
    "duration": 179,
    "start_time": "2023-09-06T07:16:48.569Z"
   },
   {
    "duration": 217,
    "start_time": "2023-09-06T07:16:49.324Z"
   },
   {
    "duration": 5,
    "start_time": "2023-09-06T07:39:50.095Z"
   },
   {
    "duration": 28,
    "start_time": "2023-09-06T07:40:45.018Z"
   },
   {
    "duration": 38,
    "start_time": "2023-09-06T07:41:16.316Z"
   },
   {
    "duration": 27,
    "start_time": "2023-09-06T07:41:30.558Z"
   },
   {
    "duration": 143,
    "start_time": "2023-09-06T07:46:12.995Z"
   },
   {
    "duration": 6,
    "start_time": "2023-09-06T07:47:39.113Z"
   },
   {
    "duration": 36,
    "start_time": "2023-09-06T07:47:41.054Z"
   },
   {
    "duration": 35,
    "start_time": "2023-09-06T07:48:51.587Z"
   },
   {
    "duration": 56,
    "start_time": "2023-09-06T07:48:52.599Z"
   },
   {
    "duration": 27,
    "start_time": "2023-09-06T07:49:54.675Z"
   },
   {
    "duration": 122,
    "start_time": "2023-09-06T07:50:01.719Z"
   },
   {
    "duration": 33,
    "start_time": "2023-09-06T07:50:14.277Z"
   },
   {
    "duration": 26,
    "start_time": "2023-09-06T07:50:20.777Z"
   },
   {
    "duration": 101,
    "start_time": "2023-09-06T07:50:24.388Z"
   },
   {
    "duration": 39,
    "start_time": "2023-09-06T07:50:28.202Z"
   },
   {
    "duration": 141,
    "start_time": "2023-09-06T07:59:09.511Z"
   },
   {
    "duration": 77,
    "start_time": "2023-09-06T07:59:26.355Z"
   },
   {
    "duration": 101,
    "start_time": "2023-09-06T07:59:26.461Z"
   },
   {
    "duration": 185,
    "start_time": "2023-09-06T08:01:39.982Z"
   },
   {
    "duration": 15,
    "start_time": "2023-09-06T08:01:49.052Z"
   },
   {
    "duration": 112,
    "start_time": "2023-09-06T08:01:50.052Z"
   },
   {
    "duration": 16,
    "start_time": "2023-09-06T08:02:11.719Z"
   },
   {
    "duration": 41,
    "start_time": "2023-09-06T08:02:12.678Z"
   },
   {
    "duration": 32,
    "start_time": "2023-09-06T08:02:58.373Z"
   },
   {
    "duration": 86,
    "start_time": "2023-09-06T08:03:51.710Z"
   },
   {
    "duration": 59,
    "start_time": "2023-09-06T08:05:51.471Z"
   },
   {
    "duration": 38,
    "start_time": "2023-09-06T08:06:36.592Z"
   },
   {
    "duration": 13,
    "start_time": "2023-09-06T08:06:57.677Z"
   },
   {
    "duration": 11,
    "start_time": "2023-09-06T08:08:19.993Z"
   },
   {
    "duration": 15,
    "start_time": "2023-09-06T08:08:24.717Z"
   },
   {
    "duration": 11,
    "start_time": "2023-09-06T08:08:50.986Z"
   },
   {
    "duration": 14,
    "start_time": "2023-09-06T08:09:13.580Z"
   },
   {
    "duration": 27,
    "start_time": "2023-09-06T08:10:35.544Z"
   },
   {
    "duration": 12,
    "start_time": "2023-09-06T08:10:39.606Z"
   },
   {
    "duration": 81,
    "start_time": "2023-09-06T08:12:37.969Z"
   },
   {
    "duration": 12,
    "start_time": "2023-09-06T08:12:39.274Z"
   },
   {
    "duration": 29,
    "start_time": "2023-09-06T08:12:40.378Z"
   },
   {
    "duration": 13,
    "start_time": "2023-09-06T08:24:42.900Z"
   },
   {
    "duration": 15,
    "start_time": "2023-09-06T09:28:37.460Z"
   },
   {
    "duration": 19,
    "start_time": "2023-09-06T09:28:54.659Z"
   },
   {
    "duration": 19,
    "start_time": "2023-09-06T09:31:54.455Z"
   },
   {
    "duration": 21,
    "start_time": "2023-09-06T09:32:01.263Z"
   },
   {
    "duration": 20,
    "start_time": "2023-09-06T09:32:15.357Z"
   },
   {
    "duration": 19,
    "start_time": "2023-09-06T09:32:43.392Z"
   },
   {
    "duration": 28,
    "start_time": "2023-09-06T09:33:05.118Z"
   },
   {
    "duration": 6,
    "start_time": "2023-09-06T09:33:14.061Z"
   },
   {
    "duration": 19,
    "start_time": "2023-09-06T09:33:17.249Z"
   },
   {
    "duration": 26,
    "start_time": "2023-09-06T09:33:33.852Z"
   },
   {
    "duration": 25,
    "start_time": "2023-09-06T09:33:42.265Z"
   },
   {
    "duration": 7,
    "start_time": "2023-09-06T09:34:28.049Z"
   },
   {
    "duration": 1447,
    "start_time": "2023-09-06T09:34:31.921Z"
   },
   {
    "duration": 1412,
    "start_time": "2023-09-06T09:34:33.370Z"
   },
   {
    "duration": 1468,
    "start_time": "2023-09-06T09:34:34.784Z"
   },
   {
    "duration": 1817,
    "start_time": "2023-09-06T09:41:00.047Z"
   },
   {
    "duration": 4,
    "start_time": "2023-09-06T09:41:01.868Z"
   },
   {
    "duration": 783,
    "start_time": "2023-09-06T09:41:01.875Z"
   },
   {
    "duration": 201,
    "start_time": "2023-09-06T09:41:02.661Z"
   },
   {
    "duration": 273,
    "start_time": "2023-09-06T09:41:02.865Z"
   },
   {
    "duration": 221,
    "start_time": "2023-09-06T09:41:03.143Z"
   },
   {
    "duration": 149,
    "start_time": "2023-09-06T09:41:03.366Z"
   },
   {
    "duration": 237,
    "start_time": "2023-09-06T09:41:03.528Z"
   },
   {
    "duration": 234,
    "start_time": "2023-09-06T09:41:03.767Z"
   },
   {
    "duration": 245,
    "start_time": "2023-09-06T09:41:04.003Z"
   },
   {
    "duration": 131,
    "start_time": "2023-09-06T09:41:04.250Z"
   },
   {
    "duration": 236,
    "start_time": "2023-09-06T09:41:04.383Z"
   },
   {
    "duration": 147,
    "start_time": "2023-09-06T09:41:04.621Z"
   },
   {
    "duration": 23,
    "start_time": "2023-09-06T09:41:04.773Z"
   },
   {
    "duration": 47,
    "start_time": "2023-09-06T09:41:04.798Z"
   },
   {
    "duration": 24,
    "start_time": "2023-09-06T09:41:04.848Z"
   },
   {
    "duration": 11,
    "start_time": "2023-09-06T09:41:04.874Z"
   },
   {
    "duration": 68,
    "start_time": "2023-09-06T09:41:04.886Z"
   },
   {
    "duration": 262,
    "start_time": "2023-09-06T09:41:04.962Z"
   },
   {
    "duration": 132,
    "start_time": "2023-09-06T09:41:05.233Z"
   },
   {
    "duration": 30,
    "start_time": "2023-09-06T09:41:05.427Z"
   },
   {
    "duration": 105,
    "start_time": "2023-09-06T09:41:05.462Z"
   },
   {
    "duration": 164,
    "start_time": "2023-09-06T09:41:05.572Z"
   },
   {
    "duration": 110,
    "start_time": "2023-09-06T09:41:05.744Z"
   },
   {
    "duration": 169,
    "start_time": "2023-09-06T09:41:05.862Z"
   },
   {
    "duration": 26,
    "start_time": "2023-09-06T09:41:06.039Z"
   },
   {
    "duration": 24,
    "start_time": "2023-09-06T09:41:06.123Z"
   },
   {
    "duration": 102,
    "start_time": "2023-09-06T09:41:06.223Z"
   },
   {
    "duration": 82,
    "start_time": "2023-09-06T09:41:06.349Z"
   },
   {
    "duration": 16,
    "start_time": "2023-09-06T09:41:06.438Z"
   },
   {
    "duration": 78,
    "start_time": "2023-09-06T09:41:06.457Z"
   },
   {
    "duration": 99,
    "start_time": "2023-09-06T09:41:06.542Z"
   },
   {
    "duration": 78,
    "start_time": "2023-09-06T09:41:06.657Z"
   },
   {
    "duration": 14,
    "start_time": "2023-09-06T09:41:06.744Z"
   },
   {
    "duration": 87,
    "start_time": "2023-09-06T09:41:06.761Z"
   },
   {
    "duration": 180,
    "start_time": "2023-09-06T09:41:06.851Z"
   },
   {
    "duration": 94,
    "start_time": "2023-09-06T09:41:07.038Z"
   },
   {
    "duration": 9,
    "start_time": "2023-09-06T09:41:07.134Z"
   },
   {
    "duration": 142,
    "start_time": "2023-09-06T09:41:07.146Z"
   },
   {
    "duration": 0,
    "start_time": "2023-09-06T09:41:07.291Z"
   },
   {
    "duration": 0,
    "start_time": "2023-09-06T09:41:07.293Z"
   },
   {
    "duration": 0,
    "start_time": "2023-09-06T09:41:07.295Z"
   },
   {
    "duration": 0,
    "start_time": "2023-09-06T09:41:07.296Z"
   },
   {
    "duration": 5,
    "start_time": "2023-09-06T09:52:08.486Z"
   },
   {
    "duration": 149,
    "start_time": "2023-09-06T09:52:09.799Z"
   },
   {
    "duration": 30,
    "start_time": "2023-09-06T09:52:14.840Z"
   },
   {
    "duration": 35,
    "start_time": "2023-09-06T09:52:15.948Z"
   },
   {
    "duration": 13,
    "start_time": "2023-09-06T09:52:39.489Z"
   },
   {
    "duration": 13,
    "start_time": "2023-09-06T09:52:40.063Z"
   },
   {
    "duration": 17,
    "start_time": "2023-09-06T09:52:40.447Z"
   },
   {
    "duration": 17,
    "start_time": "2023-09-06T09:52:53.901Z"
   },
   {
    "duration": 12,
    "start_time": "2023-09-06T09:52:54.338Z"
   },
   {
    "duration": 20,
    "start_time": "2023-09-06T09:52:54.755Z"
   },
   {
    "duration": 11,
    "start_time": "2023-09-06T09:53:04.848Z"
   },
   {
    "duration": 17,
    "start_time": "2023-09-06T09:53:05.375Z"
   },
   {
    "duration": 17,
    "start_time": "2023-09-06T09:53:05.842Z"
   },
   {
    "duration": 14,
    "start_time": "2023-09-06T09:53:17.841Z"
   },
   {
    "duration": 13,
    "start_time": "2023-09-06T09:53:18.279Z"
   },
   {
    "duration": 21,
    "start_time": "2023-09-06T09:53:18.685Z"
   },
   {
    "duration": 13,
    "start_time": "2023-09-06T09:53:25.887Z"
   },
   {
    "duration": 5,
    "start_time": "2023-09-06T09:53:30.960Z"
   },
   {
    "duration": 20,
    "start_time": "2023-09-06T09:53:36.162Z"
   },
   {
    "duration": 5,
    "start_time": "2023-09-06T09:54:47.584Z"
   },
   {
    "duration": 21,
    "start_time": "2023-09-06T09:54:53.567Z"
   },
   {
    "duration": 7,
    "start_time": "2023-09-06T09:55:09.926Z"
   },
   {
    "duration": 1140,
    "start_time": "2023-09-06T09:55:16.496Z"
   },
   {
    "duration": 1065,
    "start_time": "2023-09-06T09:55:17.639Z"
   },
   {
    "duration": 1078,
    "start_time": "2023-09-06T09:55:18.705Z"
   },
   {
    "duration": 5,
    "start_time": "2023-09-06T09:57:07.800Z"
   },
   {
    "duration": 1124,
    "start_time": "2023-09-06T09:57:09.379Z"
   },
   {
    "duration": 1078,
    "start_time": "2023-09-06T09:57:10.505Z"
   },
   {
    "duration": 1166,
    "start_time": "2023-09-06T09:57:11.584Z"
   },
   {
    "duration": 5,
    "start_time": "2023-09-06T09:57:40.689Z"
   },
   {
    "duration": 1127,
    "start_time": "2023-09-06T09:57:41.611Z"
   },
   {
    "duration": 1112,
    "start_time": "2023-09-06T09:57:42.740Z"
   },
   {
    "duration": 1094,
    "start_time": "2023-09-06T09:57:43.853Z"
   },
   {
    "duration": 9,
    "start_time": "2023-09-06T10:00:52.190Z"
   },
   {
    "duration": 27,
    "start_time": "2023-09-06T10:00:52.695Z"
   },
   {
    "duration": 28,
    "start_time": "2023-09-06T10:00:55.271Z"
   },
   {
    "duration": 35,
    "start_time": "2023-09-06T10:00:55.913Z"
   },
   {
    "duration": 99,
    "start_time": "2023-09-06T10:02:07.746Z"
   },
   {
    "duration": 1657,
    "start_time": "2023-09-06T10:02:58.820Z"
   },
   {
    "duration": 4,
    "start_time": "2023-09-06T10:03:00.480Z"
   },
   {
    "duration": 502,
    "start_time": "2023-09-06T10:03:00.486Z"
   },
   {
    "duration": 185,
    "start_time": "2023-09-06T10:03:00.991Z"
   },
   {
    "duration": 171,
    "start_time": "2023-09-06T10:03:01.178Z"
   },
   {
    "duration": 164,
    "start_time": "2023-09-06T10:03:01.351Z"
   },
   {
    "duration": 123,
    "start_time": "2023-09-06T10:03:01.528Z"
   },
   {
    "duration": 202,
    "start_time": "2023-09-06T10:03:01.653Z"
   },
   {
    "duration": 212,
    "start_time": "2023-09-06T10:03:01.857Z"
   },
   {
    "duration": 205,
    "start_time": "2023-09-06T10:03:02.073Z"
   },
   {
    "duration": 151,
    "start_time": "2023-09-06T10:03:02.280Z"
   },
   {
    "duration": 229,
    "start_time": "2023-09-06T10:03:02.435Z"
   },
   {
    "duration": 132,
    "start_time": "2023-09-06T10:03:02.666Z"
   },
   {
    "duration": 93,
    "start_time": "2023-09-06T10:03:02.799Z"
   },
   {
    "duration": 59,
    "start_time": "2023-09-06T10:03:02.895Z"
   },
   {
    "duration": 41,
    "start_time": "2023-09-06T10:03:02.956Z"
   },
   {
    "duration": 74,
    "start_time": "2023-09-06T10:03:02.999Z"
   },
   {
    "duration": 307,
    "start_time": "2023-09-06T10:03:03.074Z"
   },
   {
    "duration": 129,
    "start_time": "2023-09-06T10:03:03.427Z"
   },
   {
    "duration": 569,
    "start_time": "2023-09-06T10:03:03.558Z"
   },
   {
    "duration": 97,
    "start_time": "2023-09-06T10:03:04.132Z"
   },
   {
    "duration": 60,
    "start_time": "2023-09-06T10:03:04.231Z"
   },
   {
    "duration": 307,
    "start_time": "2023-09-06T10:03:04.294Z"
   },
   {
    "duration": 299,
    "start_time": "2023-09-06T10:03:04.604Z"
   },
   {
    "duration": 244,
    "start_time": "2023-09-06T10:03:04.912Z"
   },
   {
    "duration": 100,
    "start_time": "2023-09-06T10:03:05.158Z"
   },
   {
    "duration": 386,
    "start_time": "2023-09-06T10:03:05.263Z"
   },
   {
    "duration": 435,
    "start_time": "2023-09-06T10:03:05.654Z"
   },
   {
    "duration": 210,
    "start_time": "2023-09-06T10:03:06.092Z"
   },
   {
    "duration": 220,
    "start_time": "2023-09-06T10:03:06.305Z"
   },
   {
    "duration": 117,
    "start_time": "2023-09-06T10:03:06.535Z"
   },
   {
    "duration": 192,
    "start_time": "2023-09-06T10:03:06.654Z"
   },
   {
    "duration": 247,
    "start_time": "2023-09-06T10:03:06.851Z"
   },
   {
    "duration": 229,
    "start_time": "2023-09-06T10:03:07.100Z"
   },
   {
    "duration": 278,
    "start_time": "2023-09-06T10:03:07.332Z"
   },
   {
    "duration": 248,
    "start_time": "2023-09-06T10:03:07.613Z"
   },
   {
    "duration": 255,
    "start_time": "2023-09-06T10:03:07.864Z"
   },
   {
    "duration": 297,
    "start_time": "2023-09-06T10:03:08.121Z"
   },
   {
    "duration": 115,
    "start_time": "2023-09-06T10:03:08.420Z"
   },
   {
    "duration": 5,
    "start_time": "2023-09-06T10:03:08.539Z"
   },
   {
    "duration": 1185,
    "start_time": "2023-09-06T10:03:08.546Z"
   },
   {
    "duration": 1220,
    "start_time": "2023-09-06T10:03:09.737Z"
   },
   {
    "duration": 1142,
    "start_time": "2023-09-06T10:03:10.959Z"
   },
   {
    "duration": 9,
    "start_time": "2023-09-06T10:06:37.706Z"
   },
   {
    "duration": 269,
    "start_time": "2023-09-06T10:06:38.369Z"
   },
   {
    "duration": 8,
    "start_time": "2023-09-06T10:06:48.635Z"
   },
   {
    "duration": 77,
    "start_time": "2023-09-06T10:06:49.747Z"
   },
   {
    "duration": 1633,
    "start_time": "2023-09-06T10:06:57.094Z"
   },
   {
    "duration": 6,
    "start_time": "2023-09-06T10:06:58.730Z"
   },
   {
    "duration": 598,
    "start_time": "2023-09-06T10:06:58.737Z"
   },
   {
    "duration": 188,
    "start_time": "2023-09-06T10:06:59.338Z"
   },
   {
    "duration": 214,
    "start_time": "2023-09-06T10:06:59.534Z"
   },
   {
    "duration": 176,
    "start_time": "2023-09-06T10:06:59.750Z"
   },
   {
    "duration": 203,
    "start_time": "2023-09-06T10:06:59.935Z"
   },
   {
    "duration": 269,
    "start_time": "2023-09-06T10:07:00.140Z"
   },
   {
    "duration": 215,
    "start_time": "2023-09-06T10:07:00.411Z"
   },
   {
    "duration": 205,
    "start_time": "2023-09-06T10:07:00.634Z"
   },
   {
    "duration": 146,
    "start_time": "2023-09-06T10:07:00.841Z"
   },
   {
    "duration": 217,
    "start_time": "2023-09-06T10:07:00.989Z"
   },
   {
    "duration": 158,
    "start_time": "2023-09-06T10:07:01.208Z"
   },
   {
    "duration": 16,
    "start_time": "2023-09-06T10:07:01.368Z"
   },
   {
    "duration": 110,
    "start_time": "2023-09-06T10:07:01.386Z"
   },
   {
    "duration": 62,
    "start_time": "2023-09-06T10:07:01.499Z"
   },
   {
    "duration": 57,
    "start_time": "2023-09-06T10:07:01.563Z"
   },
   {
    "duration": 144,
    "start_time": "2023-09-06T10:07:01.622Z"
   },
   {
    "duration": 118,
    "start_time": "2023-09-06T10:07:01.841Z"
   },
   {
    "duration": 181,
    "start_time": "2023-09-06T10:07:01.962Z"
   },
   {
    "duration": 81,
    "start_time": "2023-09-06T10:07:02.145Z"
   },
   {
    "duration": 154,
    "start_time": "2023-09-06T10:07:02.234Z"
   },
   {
    "duration": 124,
    "start_time": "2023-09-06T10:07:02.425Z"
   },
   {
    "duration": 173,
    "start_time": "2023-09-06T10:07:02.557Z"
   },
   {
    "duration": 13,
    "start_time": "2023-09-06T10:07:02.732Z"
   },
   {
    "duration": 114,
    "start_time": "2023-09-06T10:07:02.827Z"
   },
   {
    "duration": 90,
    "start_time": "2023-09-06T10:07:02.943Z"
   },
   {
    "duration": 185,
    "start_time": "2023-09-06T10:07:03.040Z"
   },
   {
    "duration": 114,
    "start_time": "2023-09-06T10:07:03.230Z"
   },
   {
    "duration": 74,
    "start_time": "2023-09-06T10:07:03.348Z"
   },
   {
    "duration": 93,
    "start_time": "2023-09-06T10:07:03.432Z"
   },
   {
    "duration": 120,
    "start_time": "2023-09-06T10:07:03.531Z"
   },
   {
    "duration": 188,
    "start_time": "2023-09-06T10:07:03.653Z"
   },
   {
    "duration": 208,
    "start_time": "2023-09-06T10:07:03.843Z"
   },
   {
    "duration": 182,
    "start_time": "2023-09-06T10:07:04.056Z"
   },
   {
    "duration": 193,
    "start_time": "2023-09-06T10:07:04.243Z"
   },
   {
    "duration": 87,
    "start_time": "2023-09-06T10:07:04.440Z"
   },
   {
    "duration": 129,
    "start_time": "2023-09-06T10:07:04.530Z"
   },
   {
    "duration": 55,
    "start_time": "2023-09-06T10:07:04.660Z"
   },
   {
    "duration": 10,
    "start_time": "2023-09-06T10:07:04.718Z"
   },
   {
    "duration": 1215,
    "start_time": "2023-09-06T10:07:04.733Z"
   },
   {
    "duration": 1218,
    "start_time": "2023-09-06T10:07:05.951Z"
   },
   {
    "duration": 1120,
    "start_time": "2023-09-06T10:07:07.170Z"
   }
  ],
  "kernelspec": {
   "display_name": "Python 3 (ipykernel)",
   "language": "python",
   "name": "python3"
  },
  "language_info": {
   "codemirror_mode": {
    "name": "ipython",
    "version": 3
   },
   "file_extension": ".py",
   "mimetype": "text/x-python",
   "name": "python",
   "nbconvert_exporter": "python",
   "pygments_lexer": "ipython3",
   "version": "3.9.5"
  },
  "toc": {
   "base_numbering": 1,
   "nav_menu": {},
   "number_sections": true,
   "sideBar": true,
   "skip_h1_title": true,
   "title_cell": "Table of Contents",
   "title_sidebar": "Contents",
   "toc_cell": false,
   "toc_position": {},
   "toc_section_display": true,
   "toc_window_display": false
  }
 },
 "nbformat": 4,
 "nbformat_minor": 4
}
