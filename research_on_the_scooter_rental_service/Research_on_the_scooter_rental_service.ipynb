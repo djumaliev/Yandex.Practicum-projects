{
 "cells": [
  {
   "cell_type": "markdown",
   "id": "1abf05e4",
   "metadata": {},
   "source": [
    "# Research on the scooter rental service.\n",
    "\n",
    "We have data on the GoFast scooter rental service. The data should include information about users from several cities and the trips they have made. To make trips around the city, GoFast service users use a mobile application. The service can be used:\n",
    "\n",
    "- Without a subscription:\n",
    "    - No subscription fee;\n",
    "    - Cost per minute of the trip — 8 rubles;\n",
    "    - Start cost (beginning of the trip) — 50 rubles;\n",
    "\n",
    "- With an Ultra subscription:\n",
    "    - Subscription fee — 199 rubles per month;\n",
    "    - Cost per minute of the trip — 6 rubles;\n",
    "    - Start cost — free.\n",
    "\n",
    "There are several types of data for each user:\n",
    "- Unique ID\n",
    "- Name\n",
    "- Age\n",
    "- City\n",
    "- Subscription type\n",
    "\n",
    "Information about their trips includes:\n",
    "- Unique ID\n",
    "- Distance\n",
    "- Duration\n",
    "- Travel date\n",
    "- About subscription types:\n",
    "\n",
    "Subscription type:\n",
    "- Cost per minute of the trip\n",
    "- Start cost of the trip\n",
    "- Monthly payment cost\n",
    "\n",
    "Main research hypotheses:\n",
    "- Do subscription users spend more time on trips?\n",
    "- Do subscription users not exceed the optimal distance of one trip at 3130 meters?\n",
    "- Check whether the revenue from subscription users is higher compared to users without a subscription.\n",
    "- Check, using the hypothesis of equality of means for dependent (paired) samples, whether the number of support requests decreased after the server update.\n",
    "\n",
    "Also, it is necessary to check:\n",
    "- Find out the minimum number of clients to send promo codes to during the promotion so that the probability of not meeting the plan is approximately 5%.\n",
    "- Estimate the probability that no more than 399.5 thousand users will open a push notification out of 1 million notifications in total.\n",
    "\n",
    "Research process:\n",
    "- Using data from the files '/datasets/users_go.csv', '/datasets/rides_go.csv', and '/datasets/subscriptions_go.csv', the first step is to determine the quality of the data.\n",
    "- Data preprocessing, error correction, filling in missing values, or removing anomalous values.\n",
    "- Data merging for research purposes.\n",
    "- Data analysis and calculation of key parameters.\n",
    "\n",
    "Conclusions based on the analysis."
   ]
  },
  {
   "cell_type": "markdown",
   "id": "1d38031c",
   "metadata": {},
   "source": [
    "## Data Loading"
   ]
  },
  {
   "cell_type": "markdown",
   "id": "42707d08",
   "metadata": {},
   "source": [
    "Add all the libraries needed for this analysis."
   ]
  },
  {
   "cell_type": "code",
   "execution_count": 1,
   "id": "fb96477f",
   "metadata": {},
   "outputs": [],
   "source": [
    "import pandas as pd\n",
    "from scipy import stats as st\n",
    "import numpy as np\n",
    "import matplotlib.pyplot as plt"
   ]
  },
  {
   "cell_type": "markdown",
   "id": "cb83b036",
   "metadata": {},
   "source": [
    "Extracting data from files."
   ]
  },
  {
   "cell_type": "code",
   "execution_count": 2,
   "id": "eff9f206",
   "metadata": {},
   "outputs": [],
   "source": [
    "users = pd.read_csv('/Users/daniyardjumaliev/Jupyter/Projects/datasets/users_go.csv')\n",
    "rides = pd.read_csv('/Users/daniyardjumaliev/Jupyter/Projects/datasets/rides_go.csv')\n",
    "subscriptions = pd.read_csv('/Users/daniyardjumaliev/Jupyter/Projects/datasets/subscriptions_go.csv')"
   ]
  },
  {
   "cell_type": "markdown",
   "id": "51316309",
   "metadata": {},
   "source": [
    "Let's output the first 10 rows of each dataframe to ensure that the files have been successfully extracted."
   ]
  },
  {
   "cell_type": "code",
   "execution_count": 3,
   "id": "cfd2d29a",
   "metadata": {},
   "outputs": [
    {
     "data": {
      "text/html": [
       "<div>\n",
       "<style scoped>\n",
       "    .dataframe tbody tr th:only-of-type {\n",
       "        vertical-align: middle;\n",
       "    }\n",
       "\n",
       "    .dataframe tbody tr th {\n",
       "        vertical-align: top;\n",
       "    }\n",
       "\n",
       "    .dataframe thead th {\n",
       "        text-align: right;\n",
       "    }\n",
       "</style>\n",
       "<table border=\"1\" class=\"dataframe\">\n",
       "  <thead>\n",
       "    <tr style=\"text-align: right;\">\n",
       "      <th></th>\n",
       "      <th>user_id</th>\n",
       "      <th>name</th>\n",
       "      <th>age</th>\n",
       "      <th>city</th>\n",
       "      <th>subscription_type</th>\n",
       "    </tr>\n",
       "  </thead>\n",
       "  <tbody>\n",
       "    <tr>\n",
       "      <th>0</th>\n",
       "      <td>1</td>\n",
       "      <td>Кира</td>\n",
       "      <td>22</td>\n",
       "      <td>Тюмень</td>\n",
       "      <td>ultra</td>\n",
       "    </tr>\n",
       "    <tr>\n",
       "      <th>1</th>\n",
       "      <td>2</td>\n",
       "      <td>Станислав</td>\n",
       "      <td>31</td>\n",
       "      <td>Омск</td>\n",
       "      <td>ultra</td>\n",
       "    </tr>\n",
       "    <tr>\n",
       "      <th>2</th>\n",
       "      <td>3</td>\n",
       "      <td>Алексей</td>\n",
       "      <td>20</td>\n",
       "      <td>Москва</td>\n",
       "      <td>ultra</td>\n",
       "    </tr>\n",
       "    <tr>\n",
       "      <th>3</th>\n",
       "      <td>4</td>\n",
       "      <td>Константин</td>\n",
       "      <td>26</td>\n",
       "      <td>Ростов-на-Дону</td>\n",
       "      <td>ultra</td>\n",
       "    </tr>\n",
       "    <tr>\n",
       "      <th>4</th>\n",
       "      <td>5</td>\n",
       "      <td>Адель</td>\n",
       "      <td>28</td>\n",
       "      <td>Омск</td>\n",
       "      <td>ultra</td>\n",
       "    </tr>\n",
       "    <tr>\n",
       "      <th>...</th>\n",
       "      <td>...</td>\n",
       "      <td>...</td>\n",
       "      <td>...</td>\n",
       "      <td>...</td>\n",
       "      <td>...</td>\n",
       "    </tr>\n",
       "    <tr>\n",
       "      <th>1560</th>\n",
       "      <td>829</td>\n",
       "      <td>Федор</td>\n",
       "      <td>29</td>\n",
       "      <td>Пятигорск</td>\n",
       "      <td>free</td>\n",
       "    </tr>\n",
       "    <tr>\n",
       "      <th>1561</th>\n",
       "      <td>809</td>\n",
       "      <td>Юрий</td>\n",
       "      <td>26</td>\n",
       "      <td>Сочи</td>\n",
       "      <td>free</td>\n",
       "    </tr>\n",
       "    <tr>\n",
       "      <th>1562</th>\n",
       "      <td>307</td>\n",
       "      <td>Ясмина</td>\n",
       "      <td>19</td>\n",
       "      <td>Краснодар</td>\n",
       "      <td>ultra</td>\n",
       "    </tr>\n",
       "    <tr>\n",
       "      <th>1563</th>\n",
       "      <td>47</td>\n",
       "      <td>Юрий</td>\n",
       "      <td>28</td>\n",
       "      <td>Тюмень</td>\n",
       "      <td>ultra</td>\n",
       "    </tr>\n",
       "    <tr>\n",
       "      <th>1564</th>\n",
       "      <td>1045</td>\n",
       "      <td>Артемий</td>\n",
       "      <td>28</td>\n",
       "      <td>Ростов-на-Дону</td>\n",
       "      <td>free</td>\n",
       "    </tr>\n",
       "  </tbody>\n",
       "</table>\n",
       "<p>1565 rows × 5 columns</p>\n",
       "</div>"
      ],
      "text/plain": [
       "      user_id        name  age            city subscription_type\n",
       "0           1        Кира   22          Тюмень             ultra\n",
       "1           2   Станислав   31            Омск             ultra\n",
       "2           3     Алексей   20          Москва             ultra\n",
       "3           4  Константин   26  Ростов-на-Дону             ultra\n",
       "4           5       Адель   28            Омск             ultra\n",
       "...       ...         ...  ...             ...               ...\n",
       "1560      829       Федор   29       Пятигорск              free\n",
       "1561      809        Юрий   26            Сочи              free\n",
       "1562      307      Ясмина   19       Краснодар             ultra\n",
       "1563       47        Юрий   28          Тюмень             ultra\n",
       "1564     1045     Артемий   28  Ростов-на-Дону              free\n",
       "\n",
       "[1565 rows x 5 columns]"
      ]
     },
     "metadata": {},
     "output_type": "display_data"
    },
    {
     "name": "stdout",
     "output_type": "stream",
     "text": [
      "\n"
     ]
    },
    {
     "data": {
      "text/html": [
       "<div>\n",
       "<style scoped>\n",
       "    .dataframe tbody tr th:only-of-type {\n",
       "        vertical-align: middle;\n",
       "    }\n",
       "\n",
       "    .dataframe tbody tr th {\n",
       "        vertical-align: top;\n",
       "    }\n",
       "\n",
       "    .dataframe thead th {\n",
       "        text-align: right;\n",
       "    }\n",
       "</style>\n",
       "<table border=\"1\" class=\"dataframe\">\n",
       "  <thead>\n",
       "    <tr style=\"text-align: right;\">\n",
       "      <th></th>\n",
       "      <th>user_id</th>\n",
       "      <th>distance</th>\n",
       "      <th>duration</th>\n",
       "      <th>date</th>\n",
       "    </tr>\n",
       "  </thead>\n",
       "  <tbody>\n",
       "    <tr>\n",
       "      <th>0</th>\n",
       "      <td>1</td>\n",
       "      <td>4409.919140</td>\n",
       "      <td>25.599769</td>\n",
       "      <td>2021-01-01</td>\n",
       "    </tr>\n",
       "    <tr>\n",
       "      <th>1</th>\n",
       "      <td>1</td>\n",
       "      <td>2617.592153</td>\n",
       "      <td>15.816871</td>\n",
       "      <td>2021-01-18</td>\n",
       "    </tr>\n",
       "    <tr>\n",
       "      <th>2</th>\n",
       "      <td>1</td>\n",
       "      <td>754.159807</td>\n",
       "      <td>6.232113</td>\n",
       "      <td>2021-04-20</td>\n",
       "    </tr>\n",
       "    <tr>\n",
       "      <th>3</th>\n",
       "      <td>1</td>\n",
       "      <td>2694.783254</td>\n",
       "      <td>18.511000</td>\n",
       "      <td>2021-08-11</td>\n",
       "    </tr>\n",
       "    <tr>\n",
       "      <th>4</th>\n",
       "      <td>1</td>\n",
       "      <td>4028.687306</td>\n",
       "      <td>26.265803</td>\n",
       "      <td>2021-08-28</td>\n",
       "    </tr>\n",
       "    <tr>\n",
       "      <th>...</th>\n",
       "      <td>...</td>\n",
       "      <td>...</td>\n",
       "      <td>...</td>\n",
       "      <td>...</td>\n",
       "    </tr>\n",
       "    <tr>\n",
       "      <th>18063</th>\n",
       "      <td>1534</td>\n",
       "      <td>3781.098080</td>\n",
       "      <td>19.822962</td>\n",
       "      <td>2021-11-04</td>\n",
       "    </tr>\n",
       "    <tr>\n",
       "      <th>18064</th>\n",
       "      <td>1534</td>\n",
       "      <td>2840.423057</td>\n",
       "      <td>21.409799</td>\n",
       "      <td>2021-11-16</td>\n",
       "    </tr>\n",
       "    <tr>\n",
       "      <th>18065</th>\n",
       "      <td>1534</td>\n",
       "      <td>3826.185507</td>\n",
       "      <td>18.435051</td>\n",
       "      <td>2021-11-18</td>\n",
       "    </tr>\n",
       "    <tr>\n",
       "      <th>18066</th>\n",
       "      <td>1534</td>\n",
       "      <td>2902.308661</td>\n",
       "      <td>16.674362</td>\n",
       "      <td>2021-11-27</td>\n",
       "    </tr>\n",
       "    <tr>\n",
       "      <th>18067</th>\n",
       "      <td>1534</td>\n",
       "      <td>2371.711192</td>\n",
       "      <td>15.893917</td>\n",
       "      <td>2021-12-29</td>\n",
       "    </tr>\n",
       "  </tbody>\n",
       "</table>\n",
       "<p>18068 rows × 4 columns</p>\n",
       "</div>"
      ],
      "text/plain": [
       "       user_id     distance   duration        date\n",
       "0            1  4409.919140  25.599769  2021-01-01\n",
       "1            1  2617.592153  15.816871  2021-01-18\n",
       "2            1   754.159807   6.232113  2021-04-20\n",
       "3            1  2694.783254  18.511000  2021-08-11\n",
       "4            1  4028.687306  26.265803  2021-08-28\n",
       "...        ...          ...        ...         ...\n",
       "18063     1534  3781.098080  19.822962  2021-11-04\n",
       "18064     1534  2840.423057  21.409799  2021-11-16\n",
       "18065     1534  3826.185507  18.435051  2021-11-18\n",
       "18066     1534  2902.308661  16.674362  2021-11-27\n",
       "18067     1534  2371.711192  15.893917  2021-12-29\n",
       "\n",
       "[18068 rows x 4 columns]"
      ]
     },
     "metadata": {},
     "output_type": "display_data"
    },
    {
     "name": "stdout",
     "output_type": "stream",
     "text": [
      "\n"
     ]
    },
    {
     "data": {
      "text/html": [
       "<div>\n",
       "<style scoped>\n",
       "    .dataframe tbody tr th:only-of-type {\n",
       "        vertical-align: middle;\n",
       "    }\n",
       "\n",
       "    .dataframe tbody tr th {\n",
       "        vertical-align: top;\n",
       "    }\n",
       "\n",
       "    .dataframe thead th {\n",
       "        text-align: right;\n",
       "    }\n",
       "</style>\n",
       "<table border=\"1\" class=\"dataframe\">\n",
       "  <thead>\n",
       "    <tr style=\"text-align: right;\">\n",
       "      <th></th>\n",
       "      <th>subscription_type</th>\n",
       "      <th>minute_price</th>\n",
       "      <th>start_ride_price</th>\n",
       "      <th>subscription_fee</th>\n",
       "    </tr>\n",
       "  </thead>\n",
       "  <tbody>\n",
       "    <tr>\n",
       "      <th>0</th>\n",
       "      <td>free</td>\n",
       "      <td>8</td>\n",
       "      <td>50</td>\n",
       "      <td>0</td>\n",
       "    </tr>\n",
       "    <tr>\n",
       "      <th>1</th>\n",
       "      <td>ultra</td>\n",
       "      <td>6</td>\n",
       "      <td>0</td>\n",
       "      <td>199</td>\n",
       "    </tr>\n",
       "  </tbody>\n",
       "</table>\n",
       "</div>"
      ],
      "text/plain": [
       "  subscription_type  minute_price  start_ride_price  subscription_fee\n",
       "0              free             8                50                 0\n",
       "1             ultra             6                 0               199"
      ]
     },
     "metadata": {},
     "output_type": "display_data"
    }
   ],
   "source": [
    "display(users)\n",
    "print()\n",
    "display(rides)\n",
    "print()\n",
    "display(subscriptions)"
   ]
  },
  {
   "cell_type": "markdown",
   "id": "fbd8e2bf",
   "metadata": {},
   "source": [
    "## Data Preprocessing"
   ]
  },
  {
   "cell_type": "markdown",
   "id": "69736e45",
   "metadata": {},
   "source": [
    "Let's check the data for missing values and obvious duplicates:"
   ]
  },
  {
   "cell_type": "code",
   "execution_count": 4,
   "id": "a019620c",
   "metadata": {
    "scrolled": true
   },
   "outputs": [
    {
     "name": "stdout",
     "output_type": "stream",
     "text": [
      "user_id              0\n",
      "name                 0\n",
      "age                  0\n",
      "city                 0\n",
      "subscription_type    0\n",
      "dtype: int64\n",
      "\n",
      "user_id     0\n",
      "distance    0\n",
      "duration    0\n",
      "date        0\n",
      "dtype: int64\n",
      "\n",
      "subscription_type    0\n",
      "minute_price         0\n",
      "start_ride_price     0\n",
      "subscription_fee     0\n",
      "dtype: int64\n"
     ]
    }
   ],
   "source": [
    "print(users.isna().sum())\n",
    "print()\n",
    "print(rides.isna().sum())\n",
    "print()\n",
    "print(subscriptions.isna().sum())"
   ]
  },
  {
   "cell_type": "code",
   "execution_count": 5,
   "id": "023d0a35",
   "metadata": {},
   "outputs": [
    {
     "name": "stdout",
     "output_type": "stream",
     "text": [
      "users duplicates = 31\n",
      "\n",
      "rides duplicates =  0\n",
      "\n",
      "subscriptions duplicates =  0\n"
     ]
    }
   ],
   "source": [
    "print('users duplicates =', users.duplicated().sum())\n",
    "print()\n",
    "print('rides duplicates = ', rides.duplicated().sum())\n",
    "print()\n",
    "print('subscriptions duplicates = ', subscriptions.duplicated().sum())"
   ]
  },
  {
   "cell_type": "markdown",
   "id": "c28cbb94",
   "metadata": {},
   "source": [
    "Let's look at duplicate rows in the 'users' dataframe."
   ]
  },
  {
   "cell_type": "code",
   "execution_count": 6,
   "id": "69c0ee2b",
   "metadata": {},
   "outputs": [
    {
     "data": {
      "text/html": [
       "<div>\n",
       "<style scoped>\n",
       "    .dataframe tbody tr th:only-of-type {\n",
       "        vertical-align: middle;\n",
       "    }\n",
       "\n",
       "    .dataframe tbody tr th {\n",
       "        vertical-align: top;\n",
       "    }\n",
       "\n",
       "    .dataframe thead th {\n",
       "        text-align: right;\n",
       "    }\n",
       "</style>\n",
       "<table border=\"1\" class=\"dataframe\">\n",
       "  <thead>\n",
       "    <tr style=\"text-align: right;\">\n",
       "      <th></th>\n",
       "      <th>user_id</th>\n",
       "      <th>name</th>\n",
       "      <th>age</th>\n",
       "      <th>city</th>\n",
       "      <th>subscription_type</th>\n",
       "    </tr>\n",
       "  </thead>\n",
       "  <tbody>\n",
       "    <tr>\n",
       "      <th>1534</th>\n",
       "      <td>293</td>\n",
       "      <td>Агата</td>\n",
       "      <td>26</td>\n",
       "      <td>Краснодар</td>\n",
       "      <td>ultra</td>\n",
       "    </tr>\n",
       "    <tr>\n",
       "      <th>1535</th>\n",
       "      <td>16</td>\n",
       "      <td>Амалия</td>\n",
       "      <td>27</td>\n",
       "      <td>Краснодар</td>\n",
       "      <td>ultra</td>\n",
       "    </tr>\n",
       "    <tr>\n",
       "      <th>1536</th>\n",
       "      <td>909</td>\n",
       "      <td>Константин</td>\n",
       "      <td>20</td>\n",
       "      <td>Екатеринбург</td>\n",
       "      <td>free</td>\n",
       "    </tr>\n",
       "    <tr>\n",
       "      <th>1537</th>\n",
       "      <td>403</td>\n",
       "      <td>Полина</td>\n",
       "      <td>19</td>\n",
       "      <td>Сочи</td>\n",
       "      <td>ultra</td>\n",
       "    </tr>\n",
       "    <tr>\n",
       "      <th>1538</th>\n",
       "      <td>908</td>\n",
       "      <td>Рустам</td>\n",
       "      <td>30</td>\n",
       "      <td>Тюмень</td>\n",
       "      <td>free</td>\n",
       "    </tr>\n",
       "    <tr>\n",
       "      <th>1539</th>\n",
       "      <td>43</td>\n",
       "      <td>Стефания</td>\n",
       "      <td>22</td>\n",
       "      <td>Омск</td>\n",
       "      <td>ultra</td>\n",
       "    </tr>\n",
       "    <tr>\n",
       "      <th>1540</th>\n",
       "      <td>127</td>\n",
       "      <td>Павел</td>\n",
       "      <td>25</td>\n",
       "      <td>Пятигорск</td>\n",
       "      <td>ultra</td>\n",
       "    </tr>\n",
       "    <tr>\n",
       "      <th>1541</th>\n",
       "      <td>659</td>\n",
       "      <td>Злата</td>\n",
       "      <td>27</td>\n",
       "      <td>Ростов-на-Дону</td>\n",
       "      <td>ultra</td>\n",
       "    </tr>\n",
       "    <tr>\n",
       "      <th>1542</th>\n",
       "      <td>204</td>\n",
       "      <td>Руслан</td>\n",
       "      <td>30</td>\n",
       "      <td>Пятигорск</td>\n",
       "      <td>ultra</td>\n",
       "    </tr>\n",
       "    <tr>\n",
       "      <th>1543</th>\n",
       "      <td>153</td>\n",
       "      <td>Герман</td>\n",
       "      <td>23</td>\n",
       "      <td>Москва</td>\n",
       "      <td>ultra</td>\n",
       "    </tr>\n",
       "    <tr>\n",
       "      <th>1544</th>\n",
       "      <td>1245</td>\n",
       "      <td>Регина</td>\n",
       "      <td>27</td>\n",
       "      <td>Пятигорск</td>\n",
       "      <td>free</td>\n",
       "    </tr>\n",
       "    <tr>\n",
       "      <th>1545</th>\n",
       "      <td>807</td>\n",
       "      <td>Александр</td>\n",
       "      <td>28</td>\n",
       "      <td>Екатеринбург</td>\n",
       "      <td>free</td>\n",
       "    </tr>\n",
       "    <tr>\n",
       "      <th>1546</th>\n",
       "      <td>924</td>\n",
       "      <td>Мария</td>\n",
       "      <td>23</td>\n",
       "      <td>Пятигорск</td>\n",
       "      <td>free</td>\n",
       "    </tr>\n",
       "    <tr>\n",
       "      <th>1547</th>\n",
       "      <td>635</td>\n",
       "      <td>Герман</td>\n",
       "      <td>21</td>\n",
       "      <td>Москва</td>\n",
       "      <td>ultra</td>\n",
       "    </tr>\n",
       "    <tr>\n",
       "      <th>1548</th>\n",
       "      <td>136</td>\n",
       "      <td>Марсель</td>\n",
       "      <td>25</td>\n",
       "      <td>Тюмень</td>\n",
       "      <td>ultra</td>\n",
       "    </tr>\n",
       "    <tr>\n",
       "      <th>1549</th>\n",
       "      <td>108</td>\n",
       "      <td>Влада</td>\n",
       "      <td>29</td>\n",
       "      <td>Тюмень</td>\n",
       "      <td>ultra</td>\n",
       "    </tr>\n",
       "    <tr>\n",
       "      <th>1550</th>\n",
       "      <td>737</td>\n",
       "      <td>Мелания</td>\n",
       "      <td>27</td>\n",
       "      <td>Ростов-на-Дону</td>\n",
       "      <td>free</td>\n",
       "    </tr>\n",
       "    <tr>\n",
       "      <th>1551</th>\n",
       "      <td>666</td>\n",
       "      <td>Зарина</td>\n",
       "      <td>29</td>\n",
       "      <td>Москва</td>\n",
       "      <td>ultra</td>\n",
       "    </tr>\n",
       "    <tr>\n",
       "      <th>1552</th>\n",
       "      <td>297</td>\n",
       "      <td>Егор</td>\n",
       "      <td>33</td>\n",
       "      <td>Пятигорск</td>\n",
       "      <td>ultra</td>\n",
       "    </tr>\n",
       "    <tr>\n",
       "      <th>1553</th>\n",
       "      <td>121</td>\n",
       "      <td>Алина</td>\n",
       "      <td>25</td>\n",
       "      <td>Пятигорск</td>\n",
       "      <td>ultra</td>\n",
       "    </tr>\n",
       "    <tr>\n",
       "      <th>1554</th>\n",
       "      <td>1198</td>\n",
       "      <td>Демид</td>\n",
       "      <td>29</td>\n",
       "      <td>Ростов-на-Дону</td>\n",
       "      <td>free</td>\n",
       "    </tr>\n",
       "    <tr>\n",
       "      <th>1555</th>\n",
       "      <td>72</td>\n",
       "      <td>Никита</td>\n",
       "      <td>25</td>\n",
       "      <td>Москва</td>\n",
       "      <td>ultra</td>\n",
       "    </tr>\n",
       "    <tr>\n",
       "      <th>1556</th>\n",
       "      <td>422</td>\n",
       "      <td>Кирилл</td>\n",
       "      <td>27</td>\n",
       "      <td>Сочи</td>\n",
       "      <td>ultra</td>\n",
       "    </tr>\n",
       "    <tr>\n",
       "      <th>1557</th>\n",
       "      <td>611</td>\n",
       "      <td>Владимир</td>\n",
       "      <td>28</td>\n",
       "      <td>Омск</td>\n",
       "      <td>ultra</td>\n",
       "    </tr>\n",
       "    <tr>\n",
       "      <th>1558</th>\n",
       "      <td>1237</td>\n",
       "      <td>Евгения</td>\n",
       "      <td>23</td>\n",
       "      <td>Тюмень</td>\n",
       "      <td>free</td>\n",
       "    </tr>\n",
       "    <tr>\n",
       "      <th>1559</th>\n",
       "      <td>209</td>\n",
       "      <td>Андрей</td>\n",
       "      <td>23</td>\n",
       "      <td>Омск</td>\n",
       "      <td>ultra</td>\n",
       "    </tr>\n",
       "    <tr>\n",
       "      <th>1560</th>\n",
       "      <td>829</td>\n",
       "      <td>Федор</td>\n",
       "      <td>29</td>\n",
       "      <td>Пятигорск</td>\n",
       "      <td>free</td>\n",
       "    </tr>\n",
       "    <tr>\n",
       "      <th>1561</th>\n",
       "      <td>809</td>\n",
       "      <td>Юрий</td>\n",
       "      <td>26</td>\n",
       "      <td>Сочи</td>\n",
       "      <td>free</td>\n",
       "    </tr>\n",
       "    <tr>\n",
       "      <th>1562</th>\n",
       "      <td>307</td>\n",
       "      <td>Ясмина</td>\n",
       "      <td>19</td>\n",
       "      <td>Краснодар</td>\n",
       "      <td>ultra</td>\n",
       "    </tr>\n",
       "    <tr>\n",
       "      <th>1563</th>\n",
       "      <td>47</td>\n",
       "      <td>Юрий</td>\n",
       "      <td>28</td>\n",
       "      <td>Тюмень</td>\n",
       "      <td>ultra</td>\n",
       "    </tr>\n",
       "    <tr>\n",
       "      <th>1564</th>\n",
       "      <td>1045</td>\n",
       "      <td>Артемий</td>\n",
       "      <td>28</td>\n",
       "      <td>Ростов-на-Дону</td>\n",
       "      <td>free</td>\n",
       "    </tr>\n",
       "  </tbody>\n",
       "</table>\n",
       "</div>"
      ],
      "text/plain": [
       "      user_id        name  age            city subscription_type\n",
       "1534      293       Агата   26       Краснодар             ultra\n",
       "1535       16      Амалия   27       Краснодар             ultra\n",
       "1536      909  Константин   20    Екатеринбург              free\n",
       "1537      403      Полина   19            Сочи             ultra\n",
       "1538      908      Рустам   30          Тюмень              free\n",
       "1539       43    Стефания   22            Омск             ultra\n",
       "1540      127       Павел   25       Пятигорск             ultra\n",
       "1541      659       Злата   27  Ростов-на-Дону             ultra\n",
       "1542      204      Руслан   30       Пятигорск             ultra\n",
       "1543      153      Герман   23          Москва             ultra\n",
       "1544     1245      Регина   27       Пятигорск              free\n",
       "1545      807   Александр   28    Екатеринбург              free\n",
       "1546      924       Мария   23       Пятигорск              free\n",
       "1547      635      Герман   21          Москва             ultra\n",
       "1548      136     Марсель   25          Тюмень             ultra\n",
       "1549      108       Влада   29          Тюмень             ultra\n",
       "1550      737     Мелания   27  Ростов-на-Дону              free\n",
       "1551      666      Зарина   29          Москва             ultra\n",
       "1552      297        Егор   33       Пятигорск             ultra\n",
       "1553      121       Алина   25       Пятигорск             ultra\n",
       "1554     1198       Демид   29  Ростов-на-Дону              free\n",
       "1555       72      Никита   25          Москва             ultra\n",
       "1556      422      Кирилл   27            Сочи             ultra\n",
       "1557      611    Владимир   28            Омск             ultra\n",
       "1558     1237     Евгения   23          Тюмень              free\n",
       "1559      209      Андрей   23            Омск             ultra\n",
       "1560      829       Федор   29       Пятигорск              free\n",
       "1561      809        Юрий   26            Сочи              free\n",
       "1562      307      Ясмина   19       Краснодар             ultra\n",
       "1563       47        Юрий   28          Тюмень             ultra\n",
       "1564     1045     Артемий   28  Ростов-на-Дону              free"
      ]
     },
     "metadata": {},
     "output_type": "display_data"
    },
    {
     "data": {
      "image/png": "[encoded data removed]",
      "text/plain": [
       "<Figure size 640x480 with 1 Axes>"
      ]
     },
     "metadata": {},
     "output_type": "display_data"
    },
    {
     "data": {
      "text/plain": [
       "False    1534\n",
       "True       31\n",
       "Name: count, dtype: int64"
      ]
     },
     "execution_count": 6,
     "metadata": {},
     "output_type": "execute_result"
    }
   ],
   "source": [
    "duplicates_counts = users[users.duplicated()]\n",
    "display(duplicates_counts)\n",
    "\n",
    "duplicates_counts = users.duplicated().value_counts()\n",
    "\n",
    "plt.bar(['Unique', 'Duplicate'], duplicates_counts)\n",
    "plt.xlabel('Duplicate')\n",
    "plt.ylabel('Count')\n",
    "plt.title('Count of Duplicate and Unique Rows')\n",
    "plt.show()\n",
    "\n",
    "duplicates_counts"
   ]
  },
  {
   "cell_type": "markdown",
   "id": "9b0fe110",
   "metadata": {},
   "source": [
    "It seems that the data has been entered twice, so let's remove the obvious duplicates."
   ]
  },
  {
   "cell_type": "code",
   "execution_count": 7,
   "id": "2d539392",
   "metadata": {},
   "outputs": [
    {
     "name": "stdout",
     "output_type": "stream",
     "text": [
      "users duplicates = 0\n"
     ]
    }
   ],
   "source": [
    "users.drop_duplicates(inplace=True)\n",
    "print('users duplicates =', users.duplicated().sum())"
   ]
  },
  {
   "cell_type": "markdown",
   "id": "7f85ef3b",
   "metadata": {},
   "source": [
    "Let's output general information about each dataframe."
   ]
  },
  {
   "cell_type": "code",
   "execution_count": 8,
   "id": "b6ef8370",
   "metadata": {},
   "outputs": [
    {
     "name": "stdout",
     "output_type": "stream",
     "text": [
      "<class 'pandas.core.frame.DataFrame'>\n",
      "Index: 1534 entries, 0 to 1533\n",
      "Data columns (total 5 columns):\n",
      " #   Column             Non-Null Count  Dtype \n",
      "---  ------             --------------  ----- \n",
      " 0   user_id            1534 non-null   int64 \n",
      " 1   name               1534 non-null   object\n",
      " 2   age                1534 non-null   int64 \n",
      " 3   city               1534 non-null   object\n",
      " 4   subscription_type  1534 non-null   object\n",
      "dtypes: int64(2), object(3)\n",
      "memory usage: 71.9+ KB\n",
      "None\n",
      "\n",
      "<class 'pandas.core.frame.DataFrame'>\n",
      "RangeIndex: 18068 entries, 0 to 18067\n",
      "Data columns (total 4 columns):\n",
      " #   Column    Non-Null Count  Dtype  \n",
      "---  ------    --------------  -----  \n",
      " 0   user_id   18068 non-null  int64  \n",
      " 1   distance  18068 non-null  float64\n",
      " 2   duration  18068 non-null  float64\n",
      " 3   date      18068 non-null  object \n",
      "dtypes: float64(2), int64(1), object(1)\n",
      "memory usage: 564.8+ KB\n",
      "None\n",
      "\n",
      "<class 'pandas.core.frame.DataFrame'>\n",
      "RangeIndex: 2 entries, 0 to 1\n",
      "Data columns (total 4 columns):\n",
      " #   Column             Non-Null Count  Dtype \n",
      "---  ------             --------------  ----- \n",
      " 0   subscription_type  2 non-null      object\n",
      " 1   minute_price       2 non-null      int64 \n",
      " 2   start_ride_price   2 non-null      int64 \n",
      " 3   subscription_fee   2 non-null      int64 \n",
      "dtypes: int64(3), object(1)\n",
      "memory usage: 192.0+ bytes\n",
      "None\n"
     ]
    }
   ],
   "source": [
    "print(users.info())\n",
    "print()\n",
    "print(rides.info())\n",
    "print()\n",
    "print(subscriptions.info())"
   ]
  },
  {
   "cell_type": "markdown",
   "id": "2ba9b754",
   "metadata": {},
   "source": [
    "The data is generally stored in appropriate data types for cells, except for the 'date' column in the 'rides' dataframe. Let's convert this column to the pandas date type and also create an additional column where we'll place the month from the 'date' column."
   ]
  },
  {
   "cell_type": "code",
   "execution_count": 9,
   "id": "af4d1a74",
   "metadata": {},
   "outputs": [
    {
     "data": {
      "text/plain": [
       "date\n",
       "2021    18068\n",
       "dtype: int64"
      ]
     },
     "metadata": {},
     "output_type": "display_data"
    },
    {
     "data": {
      "text/html": [
       "<div>\n",
       "<style scoped>\n",
       "    .dataframe tbody tr th:only-of-type {\n",
       "        vertical-align: middle;\n",
       "    }\n",
       "\n",
       "    .dataframe tbody tr th {\n",
       "        vertical-align: top;\n",
       "    }\n",
       "\n",
       "    .dataframe thead th {\n",
       "        text-align: right;\n",
       "    }\n",
       "</style>\n",
       "<table border=\"1\" class=\"dataframe\">\n",
       "  <thead>\n",
       "    <tr style=\"text-align: right;\">\n",
       "      <th></th>\n",
       "      <th>user_id</th>\n",
       "      <th>distance</th>\n",
       "      <th>duration</th>\n",
       "      <th>date</th>\n",
       "      <th>month</th>\n",
       "    </tr>\n",
       "  </thead>\n",
       "  <tbody>\n",
       "    <tr>\n",
       "      <th>0</th>\n",
       "      <td>1</td>\n",
       "      <td>4409.919140</td>\n",
       "      <td>25.599769</td>\n",
       "      <td>2021-01-01</td>\n",
       "      <td>1</td>\n",
       "    </tr>\n",
       "    <tr>\n",
       "      <th>1</th>\n",
       "      <td>1</td>\n",
       "      <td>2617.592153</td>\n",
       "      <td>15.816871</td>\n",
       "      <td>2021-01-18</td>\n",
       "      <td>1</td>\n",
       "    </tr>\n",
       "    <tr>\n",
       "      <th>2</th>\n",
       "      <td>1</td>\n",
       "      <td>754.159807</td>\n",
       "      <td>6.232113</td>\n",
       "      <td>2021-04-20</td>\n",
       "      <td>4</td>\n",
       "    </tr>\n",
       "    <tr>\n",
       "      <th>3</th>\n",
       "      <td>1</td>\n",
       "      <td>2694.783254</td>\n",
       "      <td>18.511000</td>\n",
       "      <td>2021-08-11</td>\n",
       "      <td>8</td>\n",
       "    </tr>\n",
       "    <tr>\n",
       "      <th>4</th>\n",
       "      <td>1</td>\n",
       "      <td>4028.687306</td>\n",
       "      <td>26.265803</td>\n",
       "      <td>2021-08-28</td>\n",
       "      <td>8</td>\n",
       "    </tr>\n",
       "    <tr>\n",
       "      <th>...</th>\n",
       "      <td>...</td>\n",
       "      <td>...</td>\n",
       "      <td>...</td>\n",
       "      <td>...</td>\n",
       "      <td>...</td>\n",
       "    </tr>\n",
       "    <tr>\n",
       "      <th>18063</th>\n",
       "      <td>1534</td>\n",
       "      <td>3781.098080</td>\n",
       "      <td>19.822962</td>\n",
       "      <td>2021-11-04</td>\n",
       "      <td>11</td>\n",
       "    </tr>\n",
       "    <tr>\n",
       "      <th>18064</th>\n",
       "      <td>1534</td>\n",
       "      <td>2840.423057</td>\n",
       "      <td>21.409799</td>\n",
       "      <td>2021-11-16</td>\n",
       "      <td>11</td>\n",
       "    </tr>\n",
       "    <tr>\n",
       "      <th>18065</th>\n",
       "      <td>1534</td>\n",
       "      <td>3826.185507</td>\n",
       "      <td>18.435051</td>\n",
       "      <td>2021-11-18</td>\n",
       "      <td>11</td>\n",
       "    </tr>\n",
       "    <tr>\n",
       "      <th>18066</th>\n",
       "      <td>1534</td>\n",
       "      <td>2902.308661</td>\n",
       "      <td>16.674362</td>\n",
       "      <td>2021-11-27</td>\n",
       "      <td>11</td>\n",
       "    </tr>\n",
       "    <tr>\n",
       "      <th>18067</th>\n",
       "      <td>1534</td>\n",
       "      <td>2371.711192</td>\n",
       "      <td>15.893917</td>\n",
       "      <td>2021-12-29</td>\n",
       "      <td>12</td>\n",
       "    </tr>\n",
       "  </tbody>\n",
       "</table>\n",
       "<p>18068 rows × 5 columns</p>\n",
       "</div>"
      ],
      "text/plain": [
       "       user_id     distance   duration       date  month\n",
       "0            1  4409.919140  25.599769 2021-01-01      1\n",
       "1            1  2617.592153  15.816871 2021-01-18      1\n",
       "2            1   754.159807   6.232113 2021-04-20      4\n",
       "3            1  2694.783254  18.511000 2021-08-11      8\n",
       "4            1  4028.687306  26.265803 2021-08-28      8\n",
       "...        ...          ...        ...        ...    ...\n",
       "18063     1534  3781.098080  19.822962 2021-11-04     11\n",
       "18064     1534  2840.423057  21.409799 2021-11-16     11\n",
       "18065     1534  3826.185507  18.435051 2021-11-18     11\n",
       "18066     1534  2902.308661  16.674362 2021-11-27     11\n",
       "18067     1534  2371.711192  15.893917 2021-12-29     12\n",
       "\n",
       "[18068 rows x 5 columns]"
      ]
     },
     "metadata": {},
     "output_type": "display_data"
    }
   ],
   "source": [
    "rides['date'] = pd.to_datetime(rides['date'], format='%Y-%m-%d')\n",
    "# Check how many years of data are provided to avoid overlapping months if the data spans more than one year.\n",
    "pivot_result = pd.pivot_table(rides, index=rides['date'].dt.year, aggfunc='size')\n",
    "display(pivot_result)\n",
    "# Since the provided data spans only one year, there won't be any overlapping months.\n",
    "rides['month'] = pd.DatetimeIndex(rides['date']).month \n",
    "display(rides)"
   ]
  },
  {
   "cell_type": "markdown",
   "id": "e95ebca7",
   "metadata": {},
   "source": [
    "## Exploratory Data Analysis."
   ]
  },
  {
   "cell_type": "markdown",
   "id": "848015cb",
   "metadata": {},
   "source": [
    "Let's describe and visualize general information about users:"
   ]
  },
  {
   "cell_type": "markdown",
   "id": "e1365761",
   "metadata": {},
   "source": [
    "__Display the frequency of occurrence of cities.__"
   ]
  },
  {
   "cell_type": "code",
   "execution_count": 10,
   "id": "af6d202c",
   "metadata": {},
   "outputs": [
    {
     "data": {
      "image/png": "[encoded data removed]",
      "text/plain": [
       "<Figure size 640x480 with 1 Axes>"
      ]
     },
     "metadata": {},
     "output_type": "display_data"
    }
   ],
   "source": [
    "city_counts = users['city'].value_counts()\n",
    "\n",
    "plt.barh(city_counts.index, city_counts.values)\n",
    "plt.xlabel('Frequency')\n",
    "plt.ylabel('City')\n",
    "plt.title('Histogram of City Distribution')\n",
    "\n",
    "plt.xticks(rotation=45)\n",
    "\n",
    "for index, value in enumerate(city_counts.values):\n",
    "    plt.text(value, index, str(value))\n",
    "\n",
    "plt.tight_layout()\n",
    "plt.show()"
   ]
  },
  {
   "cell_type": "markdown",
   "id": "ff4bca24",
   "metadata": {},
   "source": [
    "_Conclusion_: According to the graph, most of the data is from Pyatigorsk, and the least is from Moscow."
   ]
  },
  {
   "cell_type": "markdown",
   "id": "4a8795ca",
   "metadata": {},
   "source": [
    "Now, let's look at the ratio of users with a subscription and without."
   ]
  },
  {
   "cell_type": "code",
   "execution_count": 11,
   "id": "eb53bd0d",
   "metadata": {},
   "outputs": [
    {
     "data": {
      "image/png": "[encoded data removed]",
      "text/plain": [
       "<Figure size 640x480 with 1 Axes>"
      ]
     },
     "metadata": {},
     "output_type": "display_data"
    },
    {
     "data": {
      "text/plain": [
       "subscription_type\n",
       "free     835\n",
       "ultra    699\n",
       "Name: count, dtype: int64"
      ]
     },
     "execution_count": 11,
     "metadata": {},
     "output_type": "execute_result"
    }
   ],
   "source": [
    "users['subscription_type'].value_counts().plot(kind='pie', autopct='%1.1f%%')\n",
    "plt.ylabel('')\n",
    "plt.title('Distribution by Subscription Type')\n",
    "\n",
    "plt.tight_layout()\n",
    "plt.show()\n",
    "\n",
    "users['subscription_type'].value_counts()"
   ]
  },
  {
   "cell_type": "markdown",
   "id": "c944b244",
   "metadata": {},
   "source": [
    "_Conclusion_: Subscribed users account for 45.6%, while unsubscribed users make up 54.4%. The number of unsubscribed users is higher by 19% compared to subscribed users."
   ]
  },
  {
   "cell_type": "markdown",
   "id": "7ba4067c",
   "metadata": {},
   "source": [
    "Let's display and analyze the age distribution of users."
   ]
  },
  {
   "cell_type": "code",
   "execution_count": 12,
   "id": "0785625a",
   "metadata": {
    "scrolled": true
   },
   "outputs": [
    {
     "data": {
      "image/png": "[encoded data removed]",
      "text/plain": [
       "<Figure size 640x480 with 1 Axes>"
      ]
     },
     "metadata": {},
     "output_type": "display_data"
    },
    {
     "data": {
      "image/png": "[encoded data removed]",
      "text/plain": [
       "<Figure size 640x480 with 1 Axes>"
      ]
     },
     "metadata": {},
     "output_type": "display_data"
    },
    {
     "data": {
      "text/plain": [
       "count    1534.000000\n",
       "mean       24.903520\n",
       "std         4.572367\n",
       "min        12.000000\n",
       "25%        22.000000\n",
       "50%        25.000000\n",
       "75%        28.000000\n",
       "max        43.000000\n",
       "Name: age, dtype: float64"
      ]
     },
     "execution_count": 12,
     "metadata": {},
     "output_type": "execute_result"
    }
   ],
   "source": [
    "plt.hist(users['age'], bins=20, alpha=0.7)\n",
    "plt.xlabel('Age')\n",
    "plt.ylabel('Frequency')\n",
    "plt.title('Distribution of Users by Age')\n",
    "plt.tight_layout()\n",
    "plt.show()\n",
    "\n",
    "plt.boxplot(users['age'])\n",
    "plt.ylabel('Age')\n",
    "plt.title('Distribution of Users by Age')\n",
    "\n",
    "plt.tight_layout()\n",
    "plt.show()\n",
    "\n",
    "users['age'].describe()"
   ]
  },
  {
   "cell_type": "markdown",
   "id": "064b4e20",
   "metadata": {},
   "source": [
    "_Conclusion_: The average age of users is 20-30 years, indicating that our main target audience falls within this age range."
   ]
  },
  {
   "cell_type": "markdown",
   "id": "b41d45c3",
   "metadata": {},
   "source": [
    "Let's display and analyze the distance that a user travels in one trip."
   ]
  },
  {
   "cell_type": "code",
   "execution_count": 13,
   "id": "f1241b84",
   "metadata": {
    "scrolled": true
   },
   "outputs": [
    {
     "data": {
      "image/png": "[encoded data removed]",
      "text/plain": [
       "<Figure size 640x480 with 1 Axes>"
      ]
     },
     "metadata": {},
     "output_type": "display_data"
    },
    {
     "data": {
      "image/png": "[encoded data removed]",
      "text/plain": [
       "<Figure size 640x480 with 1 Axes>"
      ]
     },
     "metadata": {},
     "output_type": "display_data"
    },
    {
     "data": {
      "text/plain": [
       "count    18068.000000\n",
       "mean      3070.659976\n",
       "std       1116.831209\n",
       "min          0.855683\n",
       "25%       2543.226360\n",
       "50%       3133.609994\n",
       "75%       3776.222735\n",
       "max       7211.007745\n",
       "Name: distance, dtype: float64"
      ]
     },
     "execution_count": 13,
     "metadata": {},
     "output_type": "execute_result"
    }
   ],
   "source": [
    "plt.hist(rides['distance'], bins=20, alpha=0.7)\n",
    "plt.xlabel('Distance per Trip')\n",
    "plt.ylabel('Frequency')\n",
    "plt.title('Distribution of Users Based on Trip Distance')\n",
    "plt.tight_layout()\n",
    "plt.show()\n",
    "\n",
    "plt.boxplot(rides['distance'])\n",
    "plt.ylabel('Distance per Trip')\n",
    "plt.title('Distribution of Users Based on Trip Distance')\n",
    "\n",
    "plt.tight_layout()\n",
    "plt.show()\n",
    "\n",
    "rides['distance'].describe()"
   ]
  },
  {
   "cell_type": "markdown",
   "id": "6e229289",
   "metadata": {},
   "source": [
    "_Conclusion_: The histogram shows a normal distribution, but there are outliers below 1000 meters and above 6000 meters. Preliminarily, it can be assumed that the average distance per trip is close to the optimal value of 3130 meters. However, the number of trips exceeding this value is also quite large, with over 1500+ trips. I believe these are real data rather than technical or human errors."
   ]
  },
  {
   "cell_type": "markdown",
   "id": "5cce118c",
   "metadata": {},
   "source": [
    "Let's display and analyze the data on the duration of trips."
   ]
  },
  {
   "cell_type": "code",
   "execution_count": 14,
   "id": "f390edbf",
   "metadata": {},
   "outputs": [
    {
     "data": {
      "image/png": "[encoded data removed]",
      "text/plain": [
       "<Figure size 640x480 with 1 Axes>"
      ]
     },
     "metadata": {},
     "output_type": "display_data"
    },
    {
     "data": {
      "image/png": "[encoded data removed]",
      "text/plain": [
       "<Figure size 640x480 with 1 Axes>"
      ]
     },
     "metadata": {},
     "output_type": "display_data"
    },
    {
     "data": {
      "text/plain": [
       "count    18068.000000\n",
       "mean        17.805011\n",
       "std          6.091051\n",
       "min          0.500000\n",
       "25%         13.597563\n",
       "50%         17.678395\n",
       "75%         21.724800\n",
       "max         40.823963\n",
       "Name: duration, dtype: float64"
      ]
     },
     "execution_count": 14,
     "metadata": {},
     "output_type": "execute_result"
    }
   ],
   "source": [
    "plt.hist(rides['duration'], bins=20, alpha=0.7)\n",
    "plt.xlabel('Duration per Trip')\n",
    "plt.ylabel('Frequency')\n",
    "plt.title('Distribution of Users Based on Trip Duration')\n",
    "plt.tight_layout()\n",
    "plt.show()\n",
    "\n",
    "plt.boxplot(rides['duration'])\n",
    "plt.ylabel('Duration per Trip')\n",
    "plt.title('Distribution of Users Based on Trip Duration')\n",
    "\n",
    "plt.tight_layout()\n",
    "plt.show()\n",
    "\n",
    "rides['duration'].describe()"
   ]
  },
  {
   "cell_type": "markdown",
   "id": "ef3b7b6f",
   "metadata": {},
   "source": [
    "_Conclusion_: The graph shows a normal distribution of values with outliers in \"less than a minute\" and \"more than 35 minutes.\" Preliminarily, it can be assumed that the average trip duration is between 10 and 25 minutes. The shortest trips are around zero, and the longest trips are around 40 minutes."
   ]
  },
  {
   "cell_type": "markdown",
   "id": "c45efde2",
   "metadata": {},
   "source": [
    "_Overall Conclusion_: After preliminary analysis, several conclusions can be drawn:\n",
    "\n",
    "- The majority of data is from Pyatigorsk.\n",
    "- The percentage of subscribed users is 45.6%, and unsubscribed users are 54.4%. On average, based on the data, unsubscribed users are higher by 19% compared to subscribed users.\n",
    "- The average age of users falls within the range of 20 to 30 years.\n",
    "- The average distance covered in one trip fits the optimal value of 3130 meters. However, the number of trips exceeding this value is quite significant—over 1500.\n",
    "- The average trip duration ranges from 10 to 25 minutes."
   ]
  },
  {
   "cell_type": "markdown",
   "id": "4ef51331",
   "metadata": {},
   "source": [
    "## Data Integration"
   ]
  },
  {
   "cell_type": "markdown",
   "id": "9bdbb01a",
   "metadata": {},
   "source": [
    "Let's combine the data into a common dataframe named 'summary' for ease of analysis."
   ]
  },
  {
   "cell_type": "code",
   "execution_count": 15,
   "id": "ed03a7d5",
   "metadata": {},
   "outputs": [
    {
     "name": "stdout",
     "output_type": "stream",
     "text": [
      "   user_id  name  age    city subscription_type     distance   duration  \\\n",
      "0        1  Кира   22  Тюмень             ultra  4409.919140  25.599769   \n",
      "1        1  Кира   22  Тюмень             ultra  2617.592153  15.816871   \n",
      "2        1  Кира   22  Тюмень             ultra   754.159807   6.232113   \n",
      "3        1  Кира   22  Тюмень             ultra  2694.783254  18.511000   \n",
      "4        1  Кира   22  Тюмень             ultra  4028.687306  26.265803   \n",
      "\n",
      "        date  month  minute_price  start_ride_price  subscription_fee  \n",
      "0 2021-01-01      1             6                 0               199  \n",
      "1 2021-01-18      1             6                 0               199  \n",
      "2 2021-04-20      4             6                 0               199  \n",
      "3 2021-08-11      8             6                 0               199  \n",
      "4 2021-08-28      8             6                 0               199  \n",
      "\n",
      "<class 'pandas.core.frame.DataFrame'>\n",
      "RangeIndex: 18068 entries, 0 to 18067\n",
      "Data columns (total 12 columns):\n",
      " #   Column             Non-Null Count  Dtype         \n",
      "---  ------             --------------  -----         \n",
      " 0   user_id            18068 non-null  int64         \n",
      " 1   name               18068 non-null  object        \n",
      " 2   age                18068 non-null  int64         \n",
      " 3   city               18068 non-null  object        \n",
      " 4   subscription_type  18068 non-null  object        \n",
      " 5   distance           18068 non-null  float64       \n",
      " 6   duration           18068 non-null  float64       \n",
      " 7   date               18068 non-null  datetime64[ns]\n",
      " 8   month              18068 non-null  int32         \n",
      " 9   minute_price       18068 non-null  int64         \n",
      " 10  start_ride_price   18068 non-null  int64         \n",
      " 11  subscription_fee   18068 non-null  int64         \n",
      "dtypes: datetime64[ns](1), float64(2), int32(1), int64(5), object(3)\n",
      "memory usage: 1.6+ MB\n",
      "None\n"
     ]
    }
   ],
   "source": [
    "merged_df = pd.merge(users, rides, on='user_id', how='inner')\n",
    "\n",
    "summary = pd.merge(merged_df, subscriptions, on='subscription_type', how='inner')\n",
    "\n",
    "print(summary.head())\n",
    "print()\n",
    "print(summary.info())"
   ]
  },
  {
   "cell_type": "markdown",
   "id": "6b7c6689",
   "metadata": {},
   "source": [
    "Now let's create two new dataframes. In one, we will store data about users with a subscription, and in the other, without a subscription."
   ]
  },
  {
   "cell_type": "code",
   "execution_count": 16,
   "id": "26eceb77",
   "metadata": {},
   "outputs": [
    {
     "name": "stdout",
     "output_type": "stream",
     "text": [
      "subscription_type\n",
      "ultra    6500\n",
      "Name: count, dtype: int64\n",
      "\n",
      "subscription_type\n",
      "free    11568\n",
      "Name: count, dtype: int64\n"
     ]
    }
   ],
   "source": [
    "users_with_subscription = merged_df[merged_df['subscription_type'] == 'ultra']\n",
    "\n",
    "users_without_subscription = merged_df[merged_df['subscription_type'] == 'free']\n",
    "\n",
    "print(users_with_subscription['subscription_type'].value_counts())\n",
    "print()\n",
    "print(users_without_subscription['subscription_type'].value_counts())"
   ]
  },
  {
   "cell_type": "markdown",
   "id": "d0bace56",
   "metadata": {},
   "source": [
    "And let's visualize information about the distance and duration of trips for users in both categories."
   ]
  },
  {
   "cell_type": "code",
   "execution_count": 17,
   "id": "230f30e8",
   "metadata": {},
   "outputs": [
    {
     "data": {
      "image/png": "[encoded data removed]",
      "text/plain": [
       "<Figure size 800x600 with 1 Axes>"
      ]
     },
     "metadata": {},
     "output_type": "display_data"
    },
    {
     "data": {
      "image/png": "[encoded data removed]",
      "text/plain": [
       "<Figure size 800x600 with 1 Axes>"
      ]
     },
     "metadata": {},
     "output_type": "display_data"
    }
   ],
   "source": [
    "plt.figure(figsize=(8, 6))\n",
    "\n",
    "plt.hist(users_with_subscription['distance'], bins=10, alpha=0.5, label='Distance with Subscription')\n",
    "\n",
    "plt.hist(users_without_subscription['distance'], bins=10, alpha=0.5, label='Distance without Subscription')\n",
    "\n",
    "plt.title('Histogram of Trip Distance with and without Subscription')\n",
    "plt.xlabel('Distance per Trip')\n",
    "plt.ylabel('Frequency')\n",
    "plt.legend()\n",
    "\n",
    "plt.show()\n",
    "\n",
    "plt.figure(figsize=(8, 6))\n",
    "\n",
    "plt.hist(users_with_subscription['duration'], bins=10, alpha=0.5, label='Duration with Subscription')\n",
    "\n",
    "plt.hist(users_without_subscription['duration'], bins=10, alpha=0.5, label='Duration without Subscription')\n",
    "\n",
    "plt.title('Histogram of Trip Duration with and without Subscription')\n",
    "plt.xlabel('Duration per Trip')\n",
    "plt.ylabel('Frequency')\n",
    "plt.legend()\n",
    "\n",
    "plt.show()"
   ]
  },
  {
   "cell_type": "markdown",
   "id": "a551fcb4",
   "metadata": {},
   "source": [
    "_Conclusion_: Based on the obtained graphs, it can be assumed that users with and without a subscription generally exhibit similar behavioral patterns. Both the duration and distance per trip align. It's worth noting the high frequency of zero values in the distance for users without a subscription; these rows could be considered for removal."
   ]
  },
  {
   "cell_type": "markdown",
   "id": "402d620f",
   "metadata": {},
   "source": [
    "## Revenue Calculation"
   ]
  },
  {
   "cell_type": "markdown",
   "id": "709a64c9",
   "metadata": {},
   "source": [
    "Let's create a new aggregated dataframe based on 'summary' where we'll add the total duration, total distance, and the number of trips for each month. \n",
    "Additionally, we'll add a column for monthly revenue generated by each user. To calculate this, we'll refer to the payment conditions for subscribers and non-subscribers. We'll round the duration of each trip in each row of the original dataframe to the next integer for cost calculation; for example, values like 25.3, 25.5, and 26.0 should be rounded to 26."
   ]
  },
  {
   "cell_type": "code",
   "execution_count": 18,
   "id": "5dfe74ef",
   "metadata": {},
   "outputs": [
    {
     "data": {
      "text/plain": [
       "0        26\n",
       "1        16\n",
       "2         7\n",
       "3        19\n",
       "4        27\n",
       "         ..\n",
       "18063    20\n",
       "18064    22\n",
       "18065    19\n",
       "18066    17\n",
       "18067    16\n",
       "Name: duration, Length: 18068, dtype: int64"
      ]
     },
     "metadata": {},
     "output_type": "display_data"
    }
   ],
   "source": [
    "# Before creating aggregated dataframes, round the values of trip duration for all users.\n",
    "summary['duration'] = np.ceil(summary['duration'])\n",
    "# For added reliability, convert float to int\n",
    "summary['duration'] = summary['duration'].astype(int)\n",
    "# Check how the rounding of data has been done\n",
    "display(summary['duration'])"
   ]
  },
  {
   "cell_type": "code",
   "execution_count": 19,
   "id": "d8872a29",
   "metadata": {},
   "outputs": [
    {
     "data": {
      "text/html": [
       "<div>\n",
       "<style scoped>\n",
       "    .dataframe tbody tr th:only-of-type {\n",
       "        vertical-align: middle;\n",
       "    }\n",
       "\n",
       "    .dataframe tbody tr th {\n",
       "        vertical-align: top;\n",
       "    }\n",
       "\n",
       "    .dataframe thead th {\n",
       "        text-align: right;\n",
       "    }\n",
       "</style>\n",
       "<table border=\"1\" class=\"dataframe\">\n",
       "  <thead>\n",
       "    <tr style=\"text-align: right;\">\n",
       "      <th></th>\n",
       "      <th>user_id</th>\n",
       "      <th>month</th>\n",
       "      <th>subscription_type</th>\n",
       "      <th>minute_price</th>\n",
       "      <th>start_ride_price</th>\n",
       "      <th>subscription_fee</th>\n",
       "      <th>total_duration</th>\n",
       "      <th>total_distance</th>\n",
       "      <th>total_rides</th>\n",
       "    </tr>\n",
       "  </thead>\n",
       "  <tbody>\n",
       "    <tr>\n",
       "      <th>0</th>\n",
       "      <td>1</td>\n",
       "      <td>1</td>\n",
       "      <td>ultra</td>\n",
       "      <td>6</td>\n",
       "      <td>0</td>\n",
       "      <td>199</td>\n",
       "      <td>42</td>\n",
       "      <td>7027.511294</td>\n",
       "      <td>2</td>\n",
       "    </tr>\n",
       "    <tr>\n",
       "      <th>1</th>\n",
       "      <td>1</td>\n",
       "      <td>4</td>\n",
       "      <td>ultra</td>\n",
       "      <td>6</td>\n",
       "      <td>0</td>\n",
       "      <td>199</td>\n",
       "      <td>7</td>\n",
       "      <td>754.159807</td>\n",
       "      <td>1</td>\n",
       "    </tr>\n",
       "    <tr>\n",
       "      <th>2</th>\n",
       "      <td>1</td>\n",
       "      <td>8</td>\n",
       "      <td>ultra</td>\n",
       "      <td>6</td>\n",
       "      <td>0</td>\n",
       "      <td>199</td>\n",
       "      <td>46</td>\n",
       "      <td>6723.470560</td>\n",
       "      <td>2</td>\n",
       "    </tr>\n",
       "    <tr>\n",
       "      <th>3</th>\n",
       "      <td>1</td>\n",
       "      <td>10</td>\n",
       "      <td>ultra</td>\n",
       "      <td>6</td>\n",
       "      <td>0</td>\n",
       "      <td>199</td>\n",
       "      <td>32</td>\n",
       "      <td>5809.911100</td>\n",
       "      <td>2</td>\n",
       "    </tr>\n",
       "    <tr>\n",
       "      <th>4</th>\n",
       "      <td>1</td>\n",
       "      <td>11</td>\n",
       "      <td>ultra</td>\n",
       "      <td>6</td>\n",
       "      <td>0</td>\n",
       "      <td>199</td>\n",
       "      <td>56</td>\n",
       "      <td>7003.499363</td>\n",
       "      <td>3</td>\n",
       "    </tr>\n",
       "    <tr>\n",
       "      <th>...</th>\n",
       "      <td>...</td>\n",
       "      <td>...</td>\n",
       "      <td>...</td>\n",
       "      <td>...</td>\n",
       "      <td>...</td>\n",
       "      <td>...</td>\n",
       "      <td>...</td>\n",
       "      <td>...</td>\n",
       "      <td>...</td>\n",
       "    </tr>\n",
       "    <tr>\n",
       "      <th>11326</th>\n",
       "      <td>1534</td>\n",
       "      <td>6</td>\n",
       "      <td>free</td>\n",
       "      <td>8</td>\n",
       "      <td>50</td>\n",
       "      <td>0</td>\n",
       "      <td>26</td>\n",
       "      <td>3409.468534</td>\n",
       "      <td>2</td>\n",
       "    </tr>\n",
       "    <tr>\n",
       "      <th>11327</th>\n",
       "      <td>1534</td>\n",
       "      <td>8</td>\n",
       "      <td>free</td>\n",
       "      <td>8</td>\n",
       "      <td>50</td>\n",
       "      <td>0</td>\n",
       "      <td>48</td>\n",
       "      <td>7622.453034</td>\n",
       "      <td>2</td>\n",
       "    </tr>\n",
       "    <tr>\n",
       "      <th>11328</th>\n",
       "      <td>1534</td>\n",
       "      <td>9</td>\n",
       "      <td>free</td>\n",
       "      <td>8</td>\n",
       "      <td>50</td>\n",
       "      <td>0</td>\n",
       "      <td>23</td>\n",
       "      <td>4928.173852</td>\n",
       "      <td>1</td>\n",
       "    </tr>\n",
       "    <tr>\n",
       "      <th>11329</th>\n",
       "      <td>1534</td>\n",
       "      <td>11</td>\n",
       "      <td>free</td>\n",
       "      <td>8</td>\n",
       "      <td>50</td>\n",
       "      <td>0</td>\n",
       "      <td>78</td>\n",
       "      <td>13350.015305</td>\n",
       "      <td>4</td>\n",
       "    </tr>\n",
       "    <tr>\n",
       "      <th>11330</th>\n",
       "      <td>1534</td>\n",
       "      <td>12</td>\n",
       "      <td>free</td>\n",
       "      <td>8</td>\n",
       "      <td>50</td>\n",
       "      <td>0</td>\n",
       "      <td>16</td>\n",
       "      <td>2371.711192</td>\n",
       "      <td>1</td>\n",
       "    </tr>\n",
       "  </tbody>\n",
       "</table>\n",
       "<p>11331 rows × 9 columns</p>\n",
       "</div>"
      ],
      "text/plain": [
       "       user_id  month subscription_type  minute_price  start_ride_price  \\\n",
       "0            1      1             ultra             6                 0   \n",
       "1            1      4             ultra             6                 0   \n",
       "2            1      8             ultra             6                 0   \n",
       "3            1     10             ultra             6                 0   \n",
       "4            1     11             ultra             6                 0   \n",
       "...        ...    ...               ...           ...               ...   \n",
       "11326     1534      6              free             8                50   \n",
       "11327     1534      8              free             8                50   \n",
       "11328     1534      9              free             8                50   \n",
       "11329     1534     11              free             8                50   \n",
       "11330     1534     12              free             8                50   \n",
       "\n",
       "       subscription_fee  total_duration  total_distance  total_rides  \n",
       "0                   199              42     7027.511294            2  \n",
       "1                   199               7      754.159807            1  \n",
       "2                   199              46     6723.470560            2  \n",
       "3                   199              32     5809.911100            2  \n",
       "4                   199              56     7003.499363            3  \n",
       "...                 ...             ...             ...          ...  \n",
       "11326                 0              26     3409.468534            2  \n",
       "11327                 0              48     7622.453034            2  \n",
       "11328                 0              23     4928.173852            1  \n",
       "11329                 0              78    13350.015305            4  \n",
       "11330                 0              16     2371.711192            1  \n",
       "\n",
       "[11331 rows x 9 columns]"
      ]
     },
     "metadata": {},
     "output_type": "display_data"
    },
    {
     "name": "stdout",
     "output_type": "stream",
     "text": [
      "<class 'pandas.core.frame.DataFrame'>\n",
      "RangeIndex: 11331 entries, 0 to 11330\n",
      "Data columns (total 9 columns):\n",
      " #   Column             Non-Null Count  Dtype  \n",
      "---  ------             --------------  -----  \n",
      " 0   user_id            11331 non-null  int64  \n",
      " 1   month              11331 non-null  int32  \n",
      " 2   subscription_type  11331 non-null  object \n",
      " 3   minute_price       11331 non-null  int64  \n",
      " 4   start_ride_price   11331 non-null  int64  \n",
      " 5   subscription_fee   11331 non-null  int64  \n",
      " 6   total_duration     11331 non-null  int64  \n",
      " 7   total_distance     11331 non-null  float64\n",
      " 8   total_rides        11331 non-null  int64  \n",
      "dtypes: float64(1), int32(1), int64(6), object(1)\n",
      "memory usage: 752.6+ KB\n",
      "None\n"
     ]
    }
   ],
   "source": [
    "# Create a new aggregated dataframe\n",
    "total_summary = summary.groupby(['user_id', 'month']).agg(\n",
    "    subscription_type=('subscription_type', 'first'),\n",
    "    minute_price=('minute_price', 'first'),\n",
    "    start_ride_price=('start_ride_price', 'first'),\n",
    "    subscription_fee=('subscription_fee', 'first'),\n",
    "    total_duration=('duration', 'sum'),\n",
    "    total_distance=('distance', 'sum'),\n",
    "    total_rides=('user_id', 'count')\n",
    ").reset_index()\n",
    "\n",
    "display(total_summary)\n",
    "\n",
    "# Check for missing values in the resulting pivot table\n",
    "print(total_summary.info())"
   ]
  },
  {
   "cell_type": "code",
   "execution_count": 20,
   "id": "25b36faf",
   "metadata": {},
   "outputs": [
    {
     "data": {
      "text/html": [
       "<div>\n",
       "<style scoped>\n",
       "    .dataframe tbody tr th:only-of-type {\n",
       "        vertical-align: middle;\n",
       "    }\n",
       "\n",
       "    .dataframe tbody tr th {\n",
       "        vertical-align: top;\n",
       "    }\n",
       "\n",
       "    .dataframe thead th {\n",
       "        text-align: right;\n",
       "    }\n",
       "</style>\n",
       "<table border=\"1\" class=\"dataframe\">\n",
       "  <thead>\n",
       "    <tr style=\"text-align: right;\">\n",
       "      <th></th>\n",
       "      <th>user_id</th>\n",
       "      <th>month</th>\n",
       "      <th>subscription_type</th>\n",
       "      <th>minute_price</th>\n",
       "      <th>start_ride_price</th>\n",
       "      <th>subscription_fee</th>\n",
       "      <th>total_duration</th>\n",
       "      <th>total_distance</th>\n",
       "      <th>total_rides</th>\n",
       "      <th>monthly_revenue</th>\n",
       "    </tr>\n",
       "  </thead>\n",
       "  <tbody>\n",
       "    <tr>\n",
       "      <th>0</th>\n",
       "      <td>1</td>\n",
       "      <td>1</td>\n",
       "      <td>ultra</td>\n",
       "      <td>6</td>\n",
       "      <td>0</td>\n",
       "      <td>199</td>\n",
       "      <td>42</td>\n",
       "      <td>7027.511294</td>\n",
       "      <td>2</td>\n",
       "      <td>451</td>\n",
       "    </tr>\n",
       "    <tr>\n",
       "      <th>1</th>\n",
       "      <td>1</td>\n",
       "      <td>4</td>\n",
       "      <td>ultra</td>\n",
       "      <td>6</td>\n",
       "      <td>0</td>\n",
       "      <td>199</td>\n",
       "      <td>7</td>\n",
       "      <td>754.159807</td>\n",
       "      <td>1</td>\n",
       "      <td>241</td>\n",
       "    </tr>\n",
       "    <tr>\n",
       "      <th>2</th>\n",
       "      <td>1</td>\n",
       "      <td>8</td>\n",
       "      <td>ultra</td>\n",
       "      <td>6</td>\n",
       "      <td>0</td>\n",
       "      <td>199</td>\n",
       "      <td>46</td>\n",
       "      <td>6723.470560</td>\n",
       "      <td>2</td>\n",
       "      <td>475</td>\n",
       "    </tr>\n",
       "    <tr>\n",
       "      <th>3</th>\n",
       "      <td>1</td>\n",
       "      <td>10</td>\n",
       "      <td>ultra</td>\n",
       "      <td>6</td>\n",
       "      <td>0</td>\n",
       "      <td>199</td>\n",
       "      <td>32</td>\n",
       "      <td>5809.911100</td>\n",
       "      <td>2</td>\n",
       "      <td>391</td>\n",
       "    </tr>\n",
       "    <tr>\n",
       "      <th>4</th>\n",
       "      <td>1</td>\n",
       "      <td>11</td>\n",
       "      <td>ultra</td>\n",
       "      <td>6</td>\n",
       "      <td>0</td>\n",
       "      <td>199</td>\n",
       "      <td>56</td>\n",
       "      <td>7003.499363</td>\n",
       "      <td>3</td>\n",
       "      <td>535</td>\n",
       "    </tr>\n",
       "    <tr>\n",
       "      <th>...</th>\n",
       "      <td>...</td>\n",
       "      <td>...</td>\n",
       "      <td>...</td>\n",
       "      <td>...</td>\n",
       "      <td>...</td>\n",
       "      <td>...</td>\n",
       "      <td>...</td>\n",
       "      <td>...</td>\n",
       "      <td>...</td>\n",
       "      <td>...</td>\n",
       "    </tr>\n",
       "    <tr>\n",
       "      <th>11326</th>\n",
       "      <td>1534</td>\n",
       "      <td>6</td>\n",
       "      <td>free</td>\n",
       "      <td>8</td>\n",
       "      <td>50</td>\n",
       "      <td>0</td>\n",
       "      <td>26</td>\n",
       "      <td>3409.468534</td>\n",
       "      <td>2</td>\n",
       "      <td>308</td>\n",
       "    </tr>\n",
       "    <tr>\n",
       "      <th>11327</th>\n",
       "      <td>1534</td>\n",
       "      <td>8</td>\n",
       "      <td>free</td>\n",
       "      <td>8</td>\n",
       "      <td>50</td>\n",
       "      <td>0</td>\n",
       "      <td>48</td>\n",
       "      <td>7622.453034</td>\n",
       "      <td>2</td>\n",
       "      <td>484</td>\n",
       "    </tr>\n",
       "    <tr>\n",
       "      <th>11328</th>\n",
       "      <td>1534</td>\n",
       "      <td>9</td>\n",
       "      <td>free</td>\n",
       "      <td>8</td>\n",
       "      <td>50</td>\n",
       "      <td>0</td>\n",
       "      <td>23</td>\n",
       "      <td>4928.173852</td>\n",
       "      <td>1</td>\n",
       "      <td>234</td>\n",
       "    </tr>\n",
       "    <tr>\n",
       "      <th>11329</th>\n",
       "      <td>1534</td>\n",
       "      <td>11</td>\n",
       "      <td>free</td>\n",
       "      <td>8</td>\n",
       "      <td>50</td>\n",
       "      <td>0</td>\n",
       "      <td>78</td>\n",
       "      <td>13350.015305</td>\n",
       "      <td>4</td>\n",
       "      <td>824</td>\n",
       "    </tr>\n",
       "    <tr>\n",
       "      <th>11330</th>\n",
       "      <td>1534</td>\n",
       "      <td>12</td>\n",
       "      <td>free</td>\n",
       "      <td>8</td>\n",
       "      <td>50</td>\n",
       "      <td>0</td>\n",
       "      <td>16</td>\n",
       "      <td>2371.711192</td>\n",
       "      <td>1</td>\n",
       "      <td>178</td>\n",
       "    </tr>\n",
       "  </tbody>\n",
       "</table>\n",
       "<p>11331 rows × 10 columns</p>\n",
       "</div>"
      ],
      "text/plain": [
       "       user_id  month subscription_type  minute_price  start_ride_price  \\\n",
       "0            1      1             ultra             6                 0   \n",
       "1            1      4             ultra             6                 0   \n",
       "2            1      8             ultra             6                 0   \n",
       "3            1     10             ultra             6                 0   \n",
       "4            1     11             ultra             6                 0   \n",
       "...        ...    ...               ...           ...               ...   \n",
       "11326     1534      6              free             8                50   \n",
       "11327     1534      8              free             8                50   \n",
       "11328     1534      9              free             8                50   \n",
       "11329     1534     11              free             8                50   \n",
       "11330     1534     12              free             8                50   \n",
       "\n",
       "       subscription_fee  total_duration  total_distance  total_rides  \\\n",
       "0                   199              42     7027.511294            2   \n",
       "1                   199               7      754.159807            1   \n",
       "2                   199              46     6723.470560            2   \n",
       "3                   199              32     5809.911100            2   \n",
       "4                   199              56     7003.499363            3   \n",
       "...                 ...             ...             ...          ...   \n",
       "11326                 0              26     3409.468534            2   \n",
       "11327                 0              48     7622.453034            2   \n",
       "11328                 0              23     4928.173852            1   \n",
       "11329                 0              78    13350.015305            4   \n",
       "11330                 0              16     2371.711192            1   \n",
       "\n",
       "       monthly_revenue  \n",
       "0                  451  \n",
       "1                  241  \n",
       "2                  475  \n",
       "3                  391  \n",
       "4                  535  \n",
       "...                ...  \n",
       "11326              308  \n",
       "11327              484  \n",
       "11328              234  \n",
       "11329              824  \n",
       "11330              178  \n",
       "\n",
       "[11331 rows x 10 columns]"
      ]
     },
     "metadata": {},
     "output_type": "display_data"
    },
    {
     "name": "stdout",
     "output_type": "stream",
     "text": [
      "<class 'pandas.core.frame.DataFrame'>\n",
      "RangeIndex: 11331 entries, 0 to 11330\n",
      "Data columns (total 10 columns):\n",
      " #   Column             Non-Null Count  Dtype  \n",
      "---  ------             --------------  -----  \n",
      " 0   user_id            11331 non-null  int64  \n",
      " 1   month              11331 non-null  int32  \n",
      " 2   subscription_type  11331 non-null  object \n",
      " 3   minute_price       11331 non-null  int64  \n",
      " 4   start_ride_price   11331 non-null  int64  \n",
      " 5   subscription_fee   11331 non-null  int64  \n",
      " 6   total_duration     11331 non-null  int64  \n",
      " 7   total_distance     11331 non-null  float64\n",
      " 8   total_rides        11331 non-null  int64  \n",
      " 9   monthly_revenue    11331 non-null  int64  \n",
      "dtypes: float64(1), int32(1), int64(7), object(1)\n",
      "memory usage: 841.1+ KB\n",
      "None\n"
     ]
    }
   ],
   "source": [
    "# Add a column with the total monthly revenue per user\n",
    "total_summary['monthly_revenue'] = total_summary['total_duration'] * total_summary['minute_price'] + \\\n",
    "                                    (total_summary['start_ride_price'] * total_summary['total_rides']) + \\\n",
    "                                    total_summary['subscription_fee']\n",
    "\n",
    "# Check the resulting column\n",
    "display(total_summary)\n",
    "print(total_summary.info())"
   ]
  },
  {
   "cell_type": "code",
   "execution_count": 21,
   "id": "88638d94",
   "metadata": {},
   "outputs": [
    {
     "data": {
      "image/png": "[encoded data removed]",
      "text/plain": [
       "<Figure size 1000x600 with 1 Axes>"
      ]
     },
     "metadata": {},
     "output_type": "display_data"
    }
   ],
   "source": [
    "# Plot to visualize the obtained data\n",
    "plt.figure(figsize=(10, 6))\n",
    "\n",
    "plt.hist(total_summary[total_summary['subscription_type'] == 'ultra']['monthly_revenue'], bins=15, color='blue', alpha=0.7,\n",
    "         label='Users with Subscription')\n",
    "\n",
    "plt.hist(total_summary[total_summary['subscription_type'] == 'free']['monthly_revenue'], bins=15, color='orange', alpha=0.7,\n",
    "         label='Users without Subscription')\n",
    "\n",
    "plt.title('Monthly Revenue for Users with and without Subscription')\n",
    "plt.xlabel('Monthly Revenue')\n",
    "plt.ylabel('Frequency')\n",
    "plt.legend()\n",
    "\n",
    "plt.show()"
   ]
  },
  {
   "cell_type": "markdown",
   "id": "d032b42e",
   "metadata": {},
   "source": [
    "_Conclusion_: Based on these two histograms, it can be inferred that the revenue from users with a subscription is higher. Despite the fact that the sample of users without a subscription is larger in quantitative terms."
   ]
  },
  {
   "cell_type": "markdown",
   "id": "41545ac0",
   "metadata": {},
   "source": [
    "## Hypothesis Testing"
   ]
  },
  {
   "cell_type": "markdown",
   "id": "8b91eb4d",
   "metadata": {},
   "source": [
    "__Hypothesis 1__: Do users with a subscription spend more time on trips?"
   ]
  },
  {
   "cell_type": "markdown",
   "id": "6aac237b",
   "metadata": {},
   "source": [
    "Formulate the null hypothesis (H0) - Users with and without a subscription spend the same amount of time on trips.\n",
    "\n",
    "Alternative hypothesis (H1) - Users with a subscription spend more time on trips."
   ]
  },
  {
   "cell_type": "code",
   "execution_count": 22,
   "id": "3a011bd9",
   "metadata": {
    "scrolled": true
   },
   "outputs": [
    {
     "name": "stdout",
     "output_type": "stream",
     "text": [
      "p-value: 1.1814679253701353e-36\n",
      "We reject the null hypothesis: users with a subscription spend more time on trips.\n"
     ]
    }
   ],
   "source": [
    "hypothesis01 = st.ttest_ind(summary[summary['subscription_type'] == 'ultra']['duration'],\n",
    "                                    summary[summary['subscription_type'] == 'free']['duration'],\n",
    "                      equal_var=False, alternative='greater')\n",
    "\n",
    "print(\"p-value:\", hypothesis01.pvalue)  \n",
    "\n",
    "alpha = 0.05\n",
    "if hypothesis01.pvalue < alpha:\n",
    "    print(\"We reject the null hypothesis: users with a subscription spend more time on trips.\")\n",
    "else:\n",
    "    print(\"We failed to reject the null hypothesis: the trip duration for users with and without a subscription does not differ significantly.\")"
   ]
  },
  {
   "cell_type": "markdown",
   "id": "e6143a90",
   "metadata": {},
   "source": [
    "Let's visualize the data for clarity."
   ]
  },
  {
   "cell_type": "code",
   "execution_count": 23,
   "id": "837aed6d",
   "metadata": {},
   "outputs": [
    {
     "name": "stdout",
     "output_type": "stream",
     "text": [
      "count    6500.000000\n",
      "mean       19.037692\n",
      "std         5.577439\n",
      "min         4.000000\n",
      "25%        15.000000\n",
      "50%        19.000000\n",
      "75%        22.000000\n",
      "max        41.000000\n",
      "Name: duration, dtype: float64\n",
      "count    11568.000000\n",
      "mean        17.890992\n",
      "std          6.330250\n",
      "min          1.000000\n",
      "25%         13.000000\n",
      "50%         18.000000\n",
      "75%         22.000000\n",
      "max         35.000000\n",
      "Name: duration, dtype: float64\n"
     ]
    },
    {
     "data": {
      "image/png": "[encoded data removed]",
      "text/plain": [
       "<Figure size 640x480 with 1 Axes>"
      ]
     },
     "metadata": {},
     "output_type": "display_data"
    }
   ],
   "source": [
    "print(summary[summary['subscription_type'] == 'ultra']['duration'].describe())\n",
    "print(summary[summary['subscription_type'] == 'free']['duration'].describe())\n",
    "\n",
    "plt.boxplot([summary[summary['subscription_type'] == 'ultra']['duration'],\n",
    "             summary[summary['subscription_type'] == 'free']['duration']],\n",
    "            labels=['With Subscription', 'Without Subscription'])\n",
    "plt.ylabel('Trip Duration')\n",
    "plt.title('Comparison of Trip Durations between Groups')\n",
    "plt.show()"
   ]
  },
  {
   "cell_type": "markdown",
   "id": "22f7b799",
   "metadata": {},
   "source": [
    "_Conclusion_: Subscribed users indeed spend more time on trips on average than users without a subscription. The hypothesis proved to be correct."
   ]
  },
  {
   "cell_type": "markdown",
   "id": "d9778c84",
   "metadata": {},
   "source": [
    "__Second Hypothesis__: Do subscribed users exceed the optimal distance of 3130 meters for a single trip?"
   ]
  },
  {
   "cell_type": "markdown",
   "id": "3c1d5c3b",
   "metadata": {},
   "source": [
    "Formulating hypotheses:\n",
    "Null Hypothesis (H0): The mean distance of subscribed users for a single trip is equal to 3130 meters.\n",
    "\n",
    "Alternative Hypothesis (H1): The mean distance of subscribed users for a single trip is greater than 3130 meters.\n",
    "\n",
    "I will conduct a one-sided right t-test, cutting off the left tail."
   ]
  },
  {
   "cell_type": "code",
   "execution_count": 24,
   "id": "61e73c29",
   "metadata": {
    "scrolled": true
   },
   "outputs": [
    {
     "name": "stdout",
     "output_type": "stream",
     "text": [
      "p-value: 0.9195368847849785\n",
      "Failed to reject the null hypothesis: The mean distance of subscribed users for a single trip does not exceed 3130 meters.\n"
     ]
    }
   ],
   "source": [
    "interested_value = 3130\n",
    "hypothesis02 = st.ttest_1samp(summary[summary['subscription_type'] == 'ultra']['distance'],\n",
    "                              interested_value, alternative='greater')\n",
    "\n",
    "print(\"p-value:\", hypothesis02.pvalue)\n",
    "\n",
    "alpha = 0.05\n",
    "if hypothesis02.pvalue < alpha:\n",
    "    print(\"Rejected null hypothesis: The mean distance of subscribed users for a single trip is greater than 3130 meters.\")\n",
    "else:\n",
    "    print(\"Failed to reject the null hypothesis: The mean distance of subscribed users for a single trip does not exceed 3130 meters.\")"
   ]
  },
  {
   "cell_type": "markdown",
   "id": "7abcf369",
   "metadata": {},
   "source": [
    "Visualizing the data"
   ]
  },
  {
   "cell_type": "code",
   "execution_count": 25,
   "id": "8e6db099",
   "metadata": {},
   "outputs": [
    {
     "data": {
      "image/png": "[encoded data removed]",
      "text/plain": [
       "<Figure size 640x480 with 1 Axes>"
      ]
     },
     "metadata": {},
     "output_type": "display_data"
    }
   ],
   "source": [
    "interested_value = 3130\n",
    "\n",
    "plt.boxplot(summary[summary['subscription_type'] == 'ultra']['distance'])\n",
    "plt.axhline(y=interested_value, color='r', linestyle='--', label='Interested Value')\n",
    "plt.ylabel('Distance')\n",
    "plt.title('Comparison of Distance for Subscribed Users')\n",
    "plt.legend()\n",
    "plt.show()"
   ]
  },
  {
   "cell_type": "markdown",
   "id": "19a2385f",
   "metadata": {},
   "source": [
    "_Conclusion_: Based on the obtained data, it appears that the mean is equal to the interested value. The hypothesis proved to be correct."
   ]
  },
  {
   "cell_type": "markdown",
   "id": "6fec3ef1",
   "metadata": {},
   "source": [
    "__Third Hypothesis__: To check if the monthly revenue from subscribed users is higher compared to users without a subscription."
   ]
  },
  {
   "cell_type": "markdown",
   "id": "df4795ef",
   "metadata": {},
   "source": [
    "Formulating hypotheses:\n",
    "\n",
    "Null Hypothesis (H0) - Monthly revenue from both groups of users is equal or differs insignificantly.\n",
    "\n",
    "Alternative Hypothesis (H1) - Monthly revenue from subscribed users is higher than that from users without a subscription."
   ]
  },
  {
   "cell_type": "code",
   "execution_count": 26,
   "id": "19aba958",
   "metadata": {},
   "outputs": [
    {
     "name": "stdout",
     "output_type": "stream",
     "text": [
      "p-value: 8.874140893976874e-40\n",
      "Reject the null hypothesis: Monthly revenue from subscribed users is higher than that from users without a subscription.\n"
     ]
    }
   ],
   "source": [
    "alpha = 0.05\n",
    "hypothesis03 = st.ttest_ind(total_summary[total_summary['subscription_type'] == 'ultra']['monthly_revenue'],\n",
    "                            total_summary[total_summary['subscription_type'] == 'free']['monthly_revenue'],\n",
    "                            equal_var=False, alternative='greater')\n",
    "\n",
    "print(\"p-value:\", hypothesis03.pvalue)\n",
    "\n",
    "if hypothesis03.pvalue < alpha:\n",
    "    print(\"Reject the null hypothesis: Monthly revenue from subscribed users is higher than that from users without a subscription.\")\n",
    "else:\n",
    "    print(\"Failed to reject the null hypothesis: Monthly revenue from both groups of users is equal or differs insignificantly.\")"
   ]
  },
  {
   "cell_type": "markdown",
   "id": "12d2e1bd",
   "metadata": {},
   "source": [
    "Visualizing the data"
   ]
  },
  {
   "cell_type": "code",
   "execution_count": 27,
   "id": "39951061",
   "metadata": {},
   "outputs": [
    {
     "data": {
      "image/png": "[encoded data removed]",
      "text/plain": [
       "<Figure size 1000x600 with 1 Axes>"
      ]
     },
     "metadata": {},
     "output_type": "display_data"
    }
   ],
   "source": [
    "plt.figure(figsize=(10, 6))\n",
    "\n",
    "plt.hist(total_summary[total_summary['subscription_type'] == 'ultra']['monthly_revenue'], bins=20, alpha=0.5,\n",
    "         color='blue', label='Subscribed Users')\n",
    "plt.hist(total_summary[total_summary['subscription_type'] == 'free']['monthly_revenue'], bins=20, alpha=0.5,\n",
    "         color='orange', label='Users without Subscription')\n",
    "plt.xlabel('Monthly Revenue')\n",
    "plt.ylabel('Frequency')\n",
    "plt.title('Distribution of Monthly Revenue between Groups')\n",
    "plt.legend()\n",
    "plt.show()"
   ]
  },
  {
   "cell_type": "markdown",
   "id": "742c6e16",
   "metadata": {},
   "source": [
    "_Conclusion_: After testing the last hypothesis that the monthly revenue from subscribed users would be higher than that from users without a subscription, it was found that their monthly revenue is indeed higher than that of users without a subscription."
   ]
  },
  {
   "cell_type": "markdown",
   "id": "66115f0d",
   "metadata": {},
   "source": [
    "__Fourth Hypothesis__: To check whether the number of support service inquiries decreased after server updates."
   ]
  },
  {
   "cell_type": "markdown",
   "id": "1c71b509",
   "metadata": {},
   "source": [
    "I assume, since we have two samples, before and after the update, and they are dependent, a t-test for paired samples would be suitable. scipy.stats.ttest_rel()"
   ]
  },
  {
   "cell_type": "markdown",
   "id": "d84cf8f9",
   "metadata": {},
   "source": [
    "## MAIN RESEARCH CONCLUSION:\n",
    "- During the data reading and preprocessing stage, no significant anomalies, missing values, or explicit duplicates were found, indicating good quality of the initial data, which should generally have a positive effect on the relevance and accuracy of the obtained results. It is noted that only 31 rows were removed during the preprocessing stage.\n",
    "- The majority of the data was obtained from the city of Pyatigorsk, with the least from Moscow. This implies that the data analyzed is more relevant for Pyatigorsk.\n",
    "- The difference in the number of subscribed and non-subscribed users is around 19%, favoring users without a subscription. Thus, there are more users without a subscription.\n",
    "- The analysis of age revealed that the users are predominantly young people aged 20 to 30.\n",
    "- The analysis of the average distance of a single trip showed that it falls within the optimal value related to scooter wear and tear, namely 3130 meters.\n",
    "- The analysis of the average trip duration revealed that the average duration of a trip is between 10 to 25 minutes. The shortest trips are around zero (but not exactly zero, indicating quality data), and the longest ones are 40 minutes, but such instances are extremely rare.\n",
    "- Next, all the data was combined into a unified table to test the hypotheses put forward by the project's product managers.\n",
    "- Checking the first hypothesis, which suggested that the average usage duration of scooters by subscribed users is higher, it was found that subscribed users indeed spend more time on trips on average than users without a subscription. The hypothesis proved to be correct.\n",
    "- The second hypothesis aimed to verify that the average distance of a single trip does not exceed the optimal value of 3130 meters. The analysis revealed that the average does not exceed the interested value. Therefore, the hypothesis that subscribed users do not exceed a distance of 3130 meters per trip is accurate.\n",
    "- The third hypothesis aimed to determine whether the monthly revenue from subscribed users is higher than that from users without a subscription. The hypothesis is correct. Subscribed users do bring in more revenue each month than users without a subscription.\n",
    "\n",
    "__OVERALL CONCLUSION: The target audience of the project is young, active people aged 20 to 30. The percentage of users without a subscription is 54.4%, and users with a subscription account for 45.6%. All three hypotheses put forward by the product managers proved to be correct. The average duration of trips for subscribed users is indeed higher than for users without a subscription. The average distance of a single trip for subscribed users does not exceed 3130 meters. The average monthly revenue for subscribed users is indeed higher than for users without a subscription. Therefore, subscribed users are more beneficial for the company due to their behavioral patterns in terms of average trip duration, optimal distance per trip, and average monthly revenue they bring to the company.__"
   ]
  },
  {
   "cell_type": "markdown",
   "id": "61213c5e",
   "metadata": {},
   "source": [
    "## Distributions"
   ]
  },
  {
   "cell_type": "markdown",
   "id": "e5641b20",
   "metadata": {},
   "source": [
    "The marketing department of GoFast has set a task: to conduct a promotion with the distribution of promo codes for one free month of subscription, where at least 100 existing customers should renew their subscription. After the trial period, the user can either refuse the subscription or extend it by making the corresponding payment. This promotion has already been conducted before, and it was found that after the free trial period, 10% of users renew their subscription. Find out the minimum number of promo codes that need to be sent out to achieve a probability of not meeting the plan of approximately 5%. Choose the parameters of the distribution describing this situation, plot the distribution graph, and formulate an answer to the question of the number of promo codes."
   ]
  },
  {
   "cell_type": "code",
   "execution_count": 28,
   "id": "95cd1d51",
   "metadata": {},
   "outputs": [
    {
     "name": "stdout",
     "output_type": "stream",
     "text": [
      "Optimal number of clients (N): 990\n"
     ]
    },
    {
     "data": {
      "image/png": "[encoded data removed]",
      "text/plain": [
       "<Figure size 640x480 with 1 Axes>"
      ]
     },
     "metadata": {},
     "output_type": "display_data"
    }
   ],
   "source": [
    "p_success = 0.10\n",
    "target_success_rate = 0.95\n",
    "min_clients = 100\n",
    "\n",
    "# Range of values for N (total number of clients)\n",
    "N_values = np.arange(100, 1000, 10)\n",
    "\n",
    "# Calculate success probability values for each N\n",
    "pmf_values = [st.binom.pmf(min_clients, N, p_success) for N in N_values]\n",
    "\n",
    "# Find the closest value to the target success probability\n",
    "closest_index = np.argmin(np.abs(np.array(pmf_values) - target_success_rate))\n",
    "optimal_N = N_values[closest_index]\n",
    "\n",
    "print(f\"Optimal number of clients (N): {optimal_N}\")\n",
    "\n",
    "# Plotting\n",
    "plt.plot(N_values, pmf_values, marker='o')\n",
    "plt.axhline(y=target_success_rate, color='r', linestyle='--', label=f'Target Success Probability: {target_success_rate}')\n",
    "plt.xlabel(\"Total Number of Clients (N)\")\n",
    "plt.ylabel(\"Success Probability\")\n",
    "plt.title(\"Estimation of Optimal N for the Given Success Probability\")\n",
    "plt.legend()\n",
    "plt.grid(True)\n",
    "plt.show()"
   ]
  },
  {
   "cell_type": "markdown",
   "id": "013c4569",
   "metadata": {},
   "source": [
    "_Conclusion_: The optimal number of clients at which the cumulative probability approaches the specified probability of not meeting the plan (0.05%) is 990 clients. The graph shows that this value will be at the intersection of cumulative probability values and the target probability of plan failure at 5%. Therefore, the marketing department needs to send out promo codes to 990 clients to achieve the desired number of subscriptions after the promotion."
   ]
  },
  {
   "cell_type": "markdown",
   "id": "5287634d",
   "metadata": {},
   "source": [
    "The marketing department sends push notifications to customers in the mobile app. Customers may either open or not open these notifications. It is known that approximately 40% of the customers who receive notifications open them. The department plans to send out 1 million notifications. Using approximation, construct an approximate distribution graph and estimate the probability that no more than 399.5 thousand users will open the notification."
   ]
  },
  {
   "cell_type": "code",
   "execution_count": 29,
   "id": "4e14812f",
   "metadata": {},
   "outputs": [
    {
     "data": {
      "image/png": "[encoded data removed]",
      "text/plain": [
       "<Figure size 640x480 with 1 Axes>"
      ]
     },
     "metadata": {},
     "output_type": "display_data"
    }
   ],
   "source": [
    "p_success = 0.40\n",
    "n = 1000000  # number of sent notifications\n",
    "target_users = 399500\n",
    "\n",
    "# Normal approximation of the binomial distribution\n",
    "mean = n * p_success\n",
    "std_dev = np.sqrt(n * p_success * (1 - p_success))\n",
    "\n",
    "# Generating values for histogram\n",
    "samples = np.random.normal(mean, std_dev, size=10000)  # Generate a sample for the histogram\n",
    "\n",
    "# Histogram plot\n",
    "plt.hist(samples, bins=30, density=True, alpha=0.7, color='blue', label='Histogram')\n",
    "\n",
    "# Vertical line for the target number\n",
    "plt.axvline(x=target_users, color='r', linestyle='--', label=f'Target Number: {target_users}')\n",
    "\n",
    "plt.xlabel(\"Number of Users Opening the Notification\")\n",
    "plt.ylabel(\"Probability Density\")\n",
    "plt.title(\"Histogram of the Binomial Distribution Approximation\")\n",
    "plt.legend()\n",
    "plt.grid(True)\n",
    "plt.show()"
   ]
  },
  {
   "cell_type": "markdown",
   "id": "84cfcd5c",
   "metadata": {},
   "source": [
    "_Conclusion_: The probability that, after sending notifications to 1,000,000 clients, the number of users not opening the notification will be no more than 399,500 people is approximately 15%. There are decent chances that the campaign will be successful."
   ]
  },
  {
   "cell_type": "code",
   "execution_count": null,
   "id": "87d8b61a-7512-43c8-953c-cf853c280659",
   "metadata": {},
   "outputs": [],
   "source": []
  }
 ],
 "metadata": {
  "ExecuteTimeLog": [
   {
    "duration": 45,
    "start_time": "2023-08-03T06:19:48.300Z"
   },
   {
    "duration": 6,
    "start_time": "2023-08-03T06:19:53.482Z"
   },
   {
    "duration": 826,
    "start_time": "2023-08-03T06:19:58.084Z"
   },
   {
    "duration": 190,
    "start_time": "2023-08-03T06:20:00.914Z"
   },
   {
    "duration": 103,
    "start_time": "2023-08-03T06:20:28.470Z"
   },
   {
    "duration": 10,
    "start_time": "2023-08-03T06:20:46.324Z"
   },
   {
    "duration": 13,
    "start_time": "2023-08-03T06:21:13.077Z"
   },
   {
    "duration": 64,
    "start_time": "2023-08-03T06:21:48.189Z"
   },
   {
    "duration": 9,
    "start_time": "2023-08-03T06:21:50.866Z"
   },
   {
    "duration": 8,
    "start_time": "2023-08-03T06:22:11.566Z"
   },
   {
    "duration": 9,
    "start_time": "2023-08-03T06:33:16.418Z"
   },
   {
    "duration": 9,
    "start_time": "2023-08-03T06:35:06.602Z"
   },
   {
    "duration": 12,
    "start_time": "2023-08-03T06:35:54.966Z"
   },
   {
    "duration": 11,
    "start_time": "2023-08-03T06:36:08.072Z"
   },
   {
    "duration": 16,
    "start_time": "2023-08-03T06:36:57.280Z"
   },
   {
    "duration": 15,
    "start_time": "2023-08-03T06:38:35.245Z"
   },
   {
    "duration": 10,
    "start_time": "2023-08-03T06:39:09.232Z"
   },
   {
    "duration": 13,
    "start_time": "2023-08-03T06:39:35.793Z"
   },
   {
    "duration": 4,
    "start_time": "2023-08-03T06:43:10.535Z"
   },
   {
    "duration": 27,
    "start_time": "2023-08-03T06:43:20.738Z"
   },
   {
    "duration": 6,
    "start_time": "2023-08-03T06:50:52.407Z"
   },
   {
    "duration": 6,
    "start_time": "2023-08-03T06:51:13.049Z"
   },
   {
    "duration": 8,
    "start_time": "2023-08-03T06:51:28.813Z"
   },
   {
    "duration": 22,
    "start_time": "2023-08-03T06:58:06.493Z"
   },
   {
    "duration": 2460,
    "start_time": "2023-08-03T07:11:15.355Z"
   },
   {
    "duration": 10,
    "start_time": "2023-08-03T07:11:45.661Z"
   },
   {
    "duration": 17,
    "start_time": "2023-08-03T07:13:29.444Z"
   },
   {
    "duration": 17,
    "start_time": "2023-08-03T07:13:40.818Z"
   },
   {
    "duration": 1129,
    "start_time": "2023-08-03T07:19:33.455Z"
   },
   {
    "duration": 125,
    "start_time": "2023-08-03T07:19:34.587Z"
   },
   {
    "duration": 12,
    "start_time": "2023-08-03T07:19:34.714Z"
   },
   {
    "duration": 44,
    "start_time": "2023-08-03T07:19:34.728Z"
   },
   {
    "duration": 29,
    "start_time": "2023-08-03T07:19:34.774Z"
   },
   {
    "duration": 127,
    "start_time": "2023-08-03T07:19:34.804Z"
   },
   {
    "duration": 7,
    "start_time": "2023-08-03T07:19:34.933Z"
   },
   {
    "duration": 27,
    "start_time": "2023-08-03T07:19:34.942Z"
   },
   {
    "duration": 39,
    "start_time": "2023-08-03T07:19:34.970Z"
   },
   {
    "duration": 105,
    "start_time": "2023-08-03T07:22:45.169Z"
   },
   {
    "duration": 104,
    "start_time": "2023-08-03T07:23:08.544Z"
   },
   {
    "duration": 103,
    "start_time": "2023-08-03T07:23:18.644Z"
   },
   {
    "duration": 3,
    "start_time": "2023-08-03T07:23:43.659Z"
   },
   {
    "duration": 1139,
    "start_time": "2023-08-03T07:23:48.921Z"
   },
   {
    "duration": 131,
    "start_time": "2023-08-03T07:23:50.062Z"
   },
   {
    "duration": 25,
    "start_time": "2023-08-03T07:23:50.195Z"
   },
   {
    "duration": 37,
    "start_time": "2023-08-03T07:23:50.222Z"
   },
   {
    "duration": 17,
    "start_time": "2023-08-03T07:23:50.261Z"
   },
   {
    "duration": 133,
    "start_time": "2023-08-03T07:23:50.280Z"
   },
   {
    "duration": 10,
    "start_time": "2023-08-03T07:23:50.415Z"
   },
   {
    "duration": 24,
    "start_time": "2023-08-03T07:23:50.427Z"
   },
   {
    "duration": 15,
    "start_time": "2023-08-03T07:23:50.453Z"
   },
   {
    "duration": 975,
    "start_time": "2023-08-03T07:24:58.045Z"
   },
   {
    "duration": 119,
    "start_time": "2023-08-03T07:24:59.022Z"
   },
   {
    "duration": 16,
    "start_time": "2023-08-03T07:24:59.143Z"
   },
   {
    "duration": 36,
    "start_time": "2023-08-03T07:24:59.160Z"
   },
   {
    "duration": 55,
    "start_time": "2023-08-03T07:24:59.198Z"
   },
   {
    "duration": 160,
    "start_time": "2023-08-03T07:24:59.255Z"
   },
   {
    "duration": 7,
    "start_time": "2023-08-03T07:24:59.417Z"
   },
   {
    "duration": 47,
    "start_time": "2023-08-03T07:24:59.426Z"
   },
   {
    "duration": 53,
    "start_time": "2023-08-03T07:24:59.475Z"
   },
   {
    "duration": 112,
    "start_time": "2023-08-03T07:36:57.063Z"
   },
   {
    "duration": 117,
    "start_time": "2023-08-03T07:37:12.876Z"
   },
   {
    "duration": 147,
    "start_time": "2023-08-03T07:37:19.451Z"
   },
   {
    "duration": 115,
    "start_time": "2023-08-03T07:38:50.851Z"
   },
   {
    "duration": 234,
    "start_time": "2023-08-03T07:40:07.721Z"
   },
   {
    "duration": 227,
    "start_time": "2023-08-03T07:40:47.693Z"
   },
   {
    "duration": 213,
    "start_time": "2023-08-03T07:48:24.605Z"
   },
   {
    "duration": 186,
    "start_time": "2023-08-03T07:48:33.841Z"
   },
   {
    "duration": 208,
    "start_time": "2023-08-03T07:49:37.011Z"
   },
   {
    "duration": 217,
    "start_time": "2023-08-03T07:50:17.490Z"
   },
   {
    "duration": 276,
    "start_time": "2023-08-03T07:50:44.039Z"
   },
   {
    "duration": 119,
    "start_time": "2023-08-03T07:53:32.090Z"
   },
   {
    "duration": 124,
    "start_time": "2023-08-03T07:53:44.492Z"
   },
   {
    "duration": 113,
    "start_time": "2023-08-03T07:56:47.542Z"
   },
   {
    "duration": 143,
    "start_time": "2023-08-03T07:57:04.744Z"
   },
   {
    "duration": 133,
    "start_time": "2023-08-03T07:57:47.483Z"
   },
   {
    "duration": 112,
    "start_time": "2023-08-03T08:02:47.974Z"
   },
   {
    "duration": 1376,
    "start_time": "2023-08-03T08:10:21.737Z"
   },
   {
    "duration": 122,
    "start_time": "2023-08-03T08:33:24.415Z"
   },
   {
    "duration": 22,
    "start_time": "2023-08-03T08:33:32.106Z"
   },
   {
    "duration": 594,
    "start_time": "2023-08-03T08:37:07.339Z"
   },
   {
    "duration": 19,
    "start_time": "2023-08-03T08:37:55.164Z"
   },
   {
    "duration": 22,
    "start_time": "2023-08-03T08:39:09.965Z"
   },
   {
    "duration": 32,
    "start_time": "2023-08-03T08:43:34.985Z"
   },
   {
    "duration": 45,
    "start_time": "2023-08-03T08:47:39.291Z"
   },
   {
    "duration": 10,
    "start_time": "2023-08-03T08:47:46.950Z"
   },
   {
    "duration": 12,
    "start_time": "2023-08-03T08:47:51.137Z"
   },
   {
    "duration": 12,
    "start_time": "2023-08-03T08:48:07.756Z"
   },
   {
    "duration": 8,
    "start_time": "2023-08-03T08:48:28.457Z"
   },
   {
    "duration": 12,
    "start_time": "2023-08-03T08:49:22.468Z"
   },
   {
    "duration": 18,
    "start_time": "2023-08-03T08:49:31.199Z"
   },
   {
    "duration": 8,
    "start_time": "2023-08-03T08:51:16.859Z"
   },
   {
    "duration": 12,
    "start_time": "2023-08-03T08:52:19.074Z"
   },
   {
    "duration": 16,
    "start_time": "2023-08-03T09:15:59.583Z"
   },
   {
    "duration": 14,
    "start_time": "2023-08-03T09:16:31.242Z"
   },
   {
    "duration": 16,
    "start_time": "2023-08-03T09:16:46.563Z"
   },
   {
    "duration": 45,
    "start_time": "2023-08-03T09:19:25.117Z"
   },
   {
    "duration": 58,
    "start_time": "2023-08-03T09:19:34.999Z"
   },
   {
    "duration": 11,
    "start_time": "2023-08-03T09:20:17.441Z"
   },
   {
    "duration": 1375,
    "start_time": "2023-08-03T12:02:45.208Z"
   },
   {
    "duration": 144,
    "start_time": "2023-08-03T12:02:46.585Z"
   },
   {
    "duration": 12,
    "start_time": "2023-08-03T12:02:46.731Z"
   },
   {
    "duration": 18,
    "start_time": "2023-08-03T12:02:46.744Z"
   },
   {
    "duration": 13,
    "start_time": "2023-08-03T12:02:46.764Z"
   },
   {
    "duration": 115,
    "start_time": "2023-08-03T12:02:46.779Z"
   },
   {
    "duration": 7,
    "start_time": "2023-08-03T12:02:46.896Z"
   },
   {
    "duration": 33,
    "start_time": "2023-08-03T12:02:46.905Z"
   },
   {
    "duration": 18,
    "start_time": "2023-08-03T12:02:46.939Z"
   },
   {
    "duration": 276,
    "start_time": "2023-08-03T12:02:46.959Z"
   },
   {
    "duration": 280,
    "start_time": "2023-08-03T12:02:47.237Z"
   },
   {
    "duration": 133,
    "start_time": "2023-08-03T12:02:47.518Z"
   },
   {
    "duration": 138,
    "start_time": "2023-08-03T12:02:47.653Z"
   },
   {
    "duration": 151,
    "start_time": "2023-08-03T12:02:47.793Z"
   },
   {
    "duration": 29,
    "start_time": "2023-08-03T12:02:47.945Z"
   },
   {
    "duration": 33,
    "start_time": "2023-08-03T12:02:47.976Z"
   },
   {
    "duration": 1062,
    "start_time": "2023-08-03T12:09:16.483Z"
   },
   {
    "duration": 106,
    "start_time": "2023-08-03T12:09:17.547Z"
   },
   {
    "duration": 12,
    "start_time": "2023-08-03T12:09:17.655Z"
   },
   {
    "duration": 16,
    "start_time": "2023-08-03T12:09:17.669Z"
   },
   {
    "duration": 13,
    "start_time": "2023-08-03T12:09:17.687Z"
   },
   {
    "duration": 105,
    "start_time": "2023-08-03T12:09:17.701Z"
   },
   {
    "duration": 7,
    "start_time": "2023-08-03T12:09:17.807Z"
   },
   {
    "duration": 37,
    "start_time": "2023-08-03T12:09:17.816Z"
   },
   {
    "duration": 33,
    "start_time": "2023-08-03T12:09:17.855Z"
   },
   {
    "duration": 233,
    "start_time": "2023-08-03T12:09:17.890Z"
   },
   {
    "duration": 214,
    "start_time": "2023-08-03T12:09:18.124Z"
   },
   {
    "duration": 161,
    "start_time": "2023-08-03T12:09:18.340Z"
   },
   {
    "duration": 145,
    "start_time": "2023-08-03T12:09:18.503Z"
   },
   {
    "duration": 130,
    "start_time": "2023-08-03T12:09:18.650Z"
   },
   {
    "duration": 37,
    "start_time": "2023-08-03T12:09:18.782Z"
   },
   {
    "duration": 13,
    "start_time": "2023-08-03T12:09:18.821Z"
   },
   {
    "duration": 341,
    "start_time": "2023-08-03T12:09:18.836Z"
   },
   {
    "duration": 7628,
    "start_time": "2023-08-03T12:09:41.603Z"
   },
   {
    "duration": 22357,
    "start_time": "2023-08-03T12:11:55.671Z"
   },
   {
    "duration": 382,
    "start_time": "2023-08-03T12:14:51.431Z"
   },
   {
    "duration": 15,
    "start_time": "2023-08-03T12:14:59.296Z"
   },
   {
    "duration": 24771,
    "start_time": "2023-08-03T12:15:08.322Z"
   },
   {
    "duration": 15375,
    "start_time": "2023-08-03T12:16:32.020Z"
   },
   {
    "duration": 15708,
    "start_time": "2023-08-03T12:17:15.608Z"
   },
   {
    "duration": 119809,
    "start_time": "2023-08-03T12:25:46.428Z"
   },
   {
    "duration": 24529,
    "start_time": "2023-08-03T12:29:01.698Z"
   },
   {
    "duration": 26,
    "start_time": "2023-08-03T12:38:05.623Z"
   },
   {
    "duration": 15,
    "start_time": "2023-08-03T12:49:37.267Z"
   },
   {
    "duration": 28,
    "start_time": "2023-08-03T12:50:16.586Z"
   },
   {
    "duration": 26,
    "start_time": "2023-08-03T12:53:01.127Z"
   },
   {
    "duration": 2289,
    "start_time": "2023-08-03T12:57:09.830Z"
   },
   {
    "duration": 2384,
    "start_time": "2023-08-03T12:57:32.651Z"
   },
   {
    "duration": 26,
    "start_time": "2023-08-03T12:58:02.215Z"
   },
   {
    "duration": 2014,
    "start_time": "2023-08-03T13:09:20.946Z"
   },
   {
    "duration": 31,
    "start_time": "2023-08-03T13:09:50.854Z"
   },
   {
    "duration": 30,
    "start_time": "2023-08-03T13:09:59.634Z"
   },
   {
    "duration": 31,
    "start_time": "2023-08-03T13:11:13.435Z"
   },
   {
    "duration": 40,
    "start_time": "2023-08-03T13:11:36.970Z"
   },
   {
    "duration": 39,
    "start_time": "2023-08-03T13:11:39.974Z"
   },
   {
    "duration": 47,
    "start_time": "2023-08-03T13:11:52.338Z"
   },
   {
    "duration": 42,
    "start_time": "2023-08-03T13:12:10.613Z"
   },
   {
    "duration": 42,
    "start_time": "2023-08-03T13:13:05.031Z"
   },
   {
    "duration": 269,
    "start_time": "2023-08-03T13:20:02.782Z"
   },
   {
    "duration": 46,
    "start_time": "2023-08-03T13:20:13.915Z"
   },
   {
    "duration": 47,
    "start_time": "2023-08-03T13:36:09.862Z"
   },
   {
    "duration": 40,
    "start_time": "2023-08-03T13:36:48.520Z"
   },
   {
    "duration": 147,
    "start_time": "2023-08-03T13:39:22.274Z"
   },
   {
    "duration": 60,
    "start_time": "2023-08-03T13:39:30.194Z"
   },
   {
    "duration": 55,
    "start_time": "2023-08-03T13:39:46.552Z"
   },
   {
    "duration": 47,
    "start_time": "2023-08-03T13:40:10.267Z"
   },
   {
    "duration": 40,
    "start_time": "2023-08-03T13:40:16.227Z"
   },
   {
    "duration": 54,
    "start_time": "2023-08-03T13:41:07.834Z"
   },
   {
    "duration": 1824,
    "start_time": "2023-08-03T13:41:53.746Z"
   },
   {
    "duration": 1148,
    "start_time": "2023-08-03T13:42:18.890Z"
   },
   {
    "duration": 984,
    "start_time": "2023-08-03T13:42:41.267Z"
   },
   {
    "duration": 54,
    "start_time": "2023-08-03T13:43:27.796Z"
   },
   {
    "duration": 58,
    "start_time": "2023-08-03T13:44:10.391Z"
   },
   {
    "duration": 45,
    "start_time": "2023-08-03T13:45:51.158Z"
   },
   {
    "duration": 44,
    "start_time": "2023-08-03T13:47:40.719Z"
   },
   {
    "duration": 45,
    "start_time": "2023-08-03T13:47:44.548Z"
   },
   {
    "duration": 36,
    "start_time": "2023-08-03T13:47:58.319Z"
   },
   {
    "duration": 43,
    "start_time": "2023-08-03T13:48:12.888Z"
   },
   {
    "duration": 47,
    "start_time": "2023-08-03T13:49:36.476Z"
   },
   {
    "duration": 52,
    "start_time": "2023-08-03T13:49:41.820Z"
   },
   {
    "duration": 60,
    "start_time": "2023-08-03T13:49:46.055Z"
   },
   {
    "duration": 56,
    "start_time": "2023-08-03T13:49:51.523Z"
   },
   {
    "duration": 55,
    "start_time": "2023-08-03T13:51:22.096Z"
   },
   {
    "duration": 47,
    "start_time": "2023-08-03T13:51:26.786Z"
   },
   {
    "duration": 432,
    "start_time": "2023-08-03T13:53:14.184Z"
   },
   {
    "duration": 362,
    "start_time": "2023-08-03T13:53:24.735Z"
   },
   {
    "duration": 55,
    "start_time": "2023-08-03T13:56:28.492Z"
   },
   {
    "duration": 188,
    "start_time": "2023-08-03T13:58:17.944Z"
   },
   {
    "duration": 321,
    "start_time": "2023-08-03T13:58:37.692Z"
   },
   {
    "duration": 164,
    "start_time": "2023-08-03T13:59:45.733Z"
   },
   {
    "duration": 1899,
    "start_time": "2023-08-03T14:03:41.608Z"
   },
   {
    "duration": 221,
    "start_time": "2023-08-03T14:03:52.519Z"
   },
   {
    "duration": 458,
    "start_time": "2023-08-03T14:04:42.196Z"
   },
   {
    "duration": 300,
    "start_time": "2023-08-03T14:05:43.734Z"
   },
   {
    "duration": 466,
    "start_time": "2023-08-03T14:05:59.755Z"
   },
   {
    "duration": 130,
    "start_time": "2023-08-03T14:06:39.726Z"
   },
   {
    "duration": 343,
    "start_time": "2023-08-03T14:06:48.974Z"
   },
   {
    "duration": 390,
    "start_time": "2023-08-03T14:08:48.227Z"
   },
   {
    "duration": 257,
    "start_time": "2023-08-03T14:17:37.389Z"
   },
   {
    "duration": 128,
    "start_time": "2023-08-03T14:17:46.048Z"
   },
   {
    "duration": 142,
    "start_time": "2023-08-03T14:17:56.331Z"
   },
   {
    "duration": 139,
    "start_time": "2023-08-03T14:18:01.641Z"
   },
   {
    "duration": 249,
    "start_time": "2023-08-03T14:18:18.515Z"
   },
   {
    "duration": 25,
    "start_time": "2023-08-03T14:22:59.913Z"
   },
   {
    "duration": 206,
    "start_time": "2023-08-03T14:25:21.615Z"
   },
   {
    "duration": 172,
    "start_time": "2023-08-03T14:26:25.681Z"
   },
   {
    "duration": 324,
    "start_time": "2023-08-03T14:27:15.666Z"
   },
   {
    "duration": 7,
    "start_time": "2023-08-03T14:34:44.915Z"
   },
   {
    "duration": 19,
    "start_time": "2023-08-03T14:34:58.700Z"
   },
   {
    "duration": 4,
    "start_time": "2023-08-03T14:35:08.284Z"
   },
   {
    "duration": 32,
    "start_time": "2023-08-03T14:37:07.526Z"
   },
   {
    "duration": 14,
    "start_time": "2023-08-03T14:37:42.435Z"
   },
   {
    "duration": 39,
    "start_time": "2023-08-03T14:39:06.119Z"
   },
   {
    "duration": 10,
    "start_time": "2023-08-03T14:39:14.514Z"
   },
   {
    "duration": 7,
    "start_time": "2023-08-03T14:39:21.086Z"
   },
   {
    "duration": 20,
    "start_time": "2023-08-03T14:39:30.256Z"
   },
   {
    "duration": 22,
    "start_time": "2023-08-03T14:39:50.519Z"
   },
   {
    "duration": 18,
    "start_time": "2023-08-03T14:40:23.319Z"
   },
   {
    "duration": 27,
    "start_time": "2023-08-03T14:40:45.497Z"
   },
   {
    "duration": 305,
    "start_time": "2023-08-03T15:09:50.849Z"
   },
   {
    "duration": 335,
    "start_time": "2023-08-03T15:10:19.019Z"
   },
   {
    "duration": 328,
    "start_time": "2023-08-03T15:10:28.916Z"
   },
   {
    "duration": 316,
    "start_time": "2023-08-03T15:10:35.421Z"
   },
   {
    "duration": 389,
    "start_time": "2023-08-03T15:10:58.360Z"
   },
   {
    "duration": 336,
    "start_time": "2023-08-03T15:11:11.288Z"
   },
   {
    "duration": 299,
    "start_time": "2023-08-03T15:11:20.421Z"
   },
   {
    "duration": 179,
    "start_time": "2023-08-03T15:12:56.890Z"
   },
   {
    "duration": 17,
    "start_time": "2023-08-03T15:14:17.655Z"
   },
   {
    "duration": 81,
    "start_time": "2023-08-03T15:14:39.414Z"
   },
   {
    "duration": 9,
    "start_time": "2023-08-03T15:14:43.789Z"
   },
   {
    "duration": 8,
    "start_time": "2023-08-03T15:14:53.288Z"
   },
   {
    "duration": 13,
    "start_time": "2023-08-03T15:15:30.011Z"
   },
   {
    "duration": 8,
    "start_time": "2023-08-03T15:15:45.620Z"
   },
   {
    "duration": 168,
    "start_time": "2023-08-03T15:16:06.162Z"
   },
   {
    "duration": 225,
    "start_time": "2023-08-03T15:16:15.300Z"
   },
   {
    "duration": 119,
    "start_time": "2023-08-03T15:16:32.949Z"
   },
   {
    "duration": 15,
    "start_time": "2023-08-03T15:17:03.397Z"
   },
   {
    "duration": 10,
    "start_time": "2023-08-03T15:17:53.581Z"
   },
   {
    "duration": 7,
    "start_time": "2023-08-03T15:18:23.223Z"
   },
   {
    "duration": 328,
    "start_time": "2023-08-03T15:20:05.317Z"
   },
   {
    "duration": 357,
    "start_time": "2023-08-03T15:22:12.034Z"
   },
   {
    "duration": 3,
    "start_time": "2023-08-03T15:23:52.739Z"
   },
   {
    "duration": 4,
    "start_time": "2023-08-03T15:23:55.652Z"
   },
   {
    "duration": 5,
    "start_time": "2023-08-03T15:24:10.438Z"
   },
   {
    "duration": 15,
    "start_time": "2023-08-03T15:24:17.815Z"
   },
   {
    "duration": 14,
    "start_time": "2023-08-03T15:24:55.357Z"
   },
   {
    "duration": 331,
    "start_time": "2023-08-03T15:27:58.149Z"
   },
   {
    "duration": 15,
    "start_time": "2023-08-03T15:29:10.983Z"
   },
   {
    "duration": 11,
    "start_time": "2023-08-03T15:29:50.824Z"
   },
   {
    "duration": 11,
    "start_time": "2023-08-03T15:30:11.743Z"
   },
   {
    "duration": 10,
    "start_time": "2023-08-03T15:30:32.378Z"
   },
   {
    "duration": 28,
    "start_time": "2023-08-03T15:31:50.793Z"
   },
   {
    "duration": 11,
    "start_time": "2023-08-03T15:31:59.726Z"
   },
   {
    "duration": 219,
    "start_time": "2023-08-03T15:32:31.624Z"
   },
   {
    "duration": 12,
    "start_time": "2023-08-03T15:32:47.335Z"
   },
   {
    "duration": 204,
    "start_time": "2023-08-03T15:32:52.224Z"
   },
   {
    "duration": 341,
    "start_time": "2023-08-03T15:36:01.296Z"
   },
   {
    "duration": 13,
    "start_time": "2023-08-03T15:37:25.668Z"
   },
   {
    "duration": 44,
    "start_time": "2023-08-03T15:38:33.026Z"
   },
   {
    "duration": 40,
    "start_time": "2023-08-03T15:38:40.702Z"
   },
   {
    "duration": 16,
    "start_time": "2023-08-03T15:38:55.336Z"
   },
   {
    "duration": 13,
    "start_time": "2023-08-03T15:39:02.226Z"
   },
   {
    "duration": 9,
    "start_time": "2023-08-03T15:39:16.563Z"
   },
   {
    "duration": 14,
    "start_time": "2023-08-03T15:40:13.199Z"
   },
   {
    "duration": 27,
    "start_time": "2023-08-03T16:42:41.923Z"
   },
   {
    "duration": 10,
    "start_time": "2023-08-03T16:42:54.362Z"
   },
   {
    "duration": 12,
    "start_time": "2023-08-03T16:44:19.529Z"
   },
   {
    "duration": 1305,
    "start_time": "2023-08-03T16:48:35.555Z"
   },
   {
    "duration": 157,
    "start_time": "2023-08-03T16:48:36.863Z"
   },
   {
    "duration": 13,
    "start_time": "2023-08-03T16:48:37.021Z"
   },
   {
    "duration": 10,
    "start_time": "2023-08-03T16:48:37.036Z"
   },
   {
    "duration": 17,
    "start_time": "2023-08-03T16:48:37.048Z"
   },
   {
    "duration": 153,
    "start_time": "2023-08-03T16:48:37.067Z"
   },
   {
    "duration": 9,
    "start_time": "2023-08-03T16:48:37.222Z"
   },
   {
    "duration": 36,
    "start_time": "2023-08-03T16:48:37.233Z"
   },
   {
    "duration": 46,
    "start_time": "2023-08-03T16:48:37.271Z"
   },
   {
    "duration": 226,
    "start_time": "2023-08-03T16:48:37.320Z"
   },
   {
    "duration": 277,
    "start_time": "2023-08-03T16:48:37.547Z"
   },
   {
    "duration": 140,
    "start_time": "2023-08-03T16:48:37.825Z"
   },
   {
    "duration": 146,
    "start_time": "2023-08-03T16:48:37.967Z"
   },
   {
    "duration": 132,
    "start_time": "2023-08-03T16:48:38.114Z"
   },
   {
    "duration": 27,
    "start_time": "2023-08-03T16:48:38.248Z"
   },
   {
    "duration": 23,
    "start_time": "2023-08-03T16:48:38.278Z"
   },
   {
    "duration": 21689,
    "start_time": "2023-08-03T16:48:38.303Z"
   },
   {
    "duration": 316,
    "start_time": "2023-08-03T16:49:00.006Z"
   },
   {
    "duration": 197,
    "start_time": "2023-08-03T16:49:00.324Z"
   },
   {
    "duration": 11,
    "start_time": "2023-08-03T16:49:00.523Z"
   },
   {
    "duration": 27,
    "start_time": "2023-08-03T16:54:33.799Z"
   },
   {
    "duration": 21,
    "start_time": "2023-08-03T16:54:40.196Z"
   },
   {
    "duration": 28,
    "start_time": "2023-08-03T16:55:38.849Z"
   },
   {
    "duration": 281,
    "start_time": "2023-08-03T16:56:13.952Z"
   },
   {
    "duration": 341,
    "start_time": "2023-08-03T16:56:52.922Z"
   },
   {
    "duration": 1747,
    "start_time": "2023-08-03T16:57:06.477Z"
   },
   {
    "duration": 3640,
    "start_time": "2023-08-03T17:00:04.151Z"
   },
   {
    "duration": 430,
    "start_time": "2023-08-03T17:01:37.450Z"
   },
   {
    "duration": 334,
    "start_time": "2023-08-03T17:02:20.842Z"
   },
   {
    "duration": 489,
    "start_time": "2023-08-03T17:02:45.457Z"
   },
   {
    "duration": 563,
    "start_time": "2023-08-03T17:03:01.927Z"
   },
   {
    "duration": 466,
    "start_time": "2023-08-03T17:03:28.423Z"
   },
   {
    "duration": 363,
    "start_time": "2023-08-03T17:03:37.219Z"
   },
   {
    "duration": 353,
    "start_time": "2023-08-03T17:04:03.735Z"
   },
   {
    "duration": 441,
    "start_time": "2023-08-03T17:04:08.619Z"
   },
   {
    "duration": 385,
    "start_time": "2023-08-03T17:04:44.405Z"
   },
   {
    "duration": 435,
    "start_time": "2023-08-03T17:05:07.177Z"
   },
   {
    "duration": 482,
    "start_time": "2023-08-03T17:05:27.495Z"
   },
   {
    "duration": 381,
    "start_time": "2023-08-03T17:05:34.324Z"
   },
   {
    "duration": 477,
    "start_time": "2023-08-03T17:05:47.856Z"
   },
   {
    "duration": 429,
    "start_time": "2023-08-03T17:05:57.430Z"
   },
   {
    "duration": 431,
    "start_time": "2023-08-03T17:06:05.526Z"
   },
   {
    "duration": 367,
    "start_time": "2023-08-03T17:06:16.031Z"
   },
   {
    "duration": 365,
    "start_time": "2023-08-03T17:07:59.843Z"
   },
   {
    "duration": 628,
    "start_time": "2023-08-03T17:18:40.641Z"
   },
   {
    "duration": 10,
    "start_time": "2023-08-03T17:52:42.532Z"
   },
   {
    "duration": 4,
    "start_time": "2023-08-03T17:53:16.951Z"
   },
   {
    "duration": 14,
    "start_time": "2023-08-03T17:54:44.332Z"
   },
   {
    "duration": 13,
    "start_time": "2023-08-03T17:54:55.736Z"
   },
   {
    "duration": 13,
    "start_time": "2023-08-03T17:55:08.683Z"
   },
   {
    "duration": 18,
    "start_time": "2023-08-03T17:57:07.324Z"
   },
   {
    "duration": 19,
    "start_time": "2023-08-03T17:58:05.069Z"
   },
   {
    "duration": 278,
    "start_time": "2023-08-03T17:58:15.003Z"
   },
   {
    "duration": 31,
    "start_time": "2023-08-03T18:00:51.224Z"
   },
   {
    "duration": 333,
    "start_time": "2023-08-03T18:00:59.854Z"
   },
   {
    "duration": 24171,
    "start_time": "2023-08-03T18:24:05.865Z"
   },
   {
    "duration": 1409,
    "start_time": "2023-08-04T10:57:25.408Z"
   },
   {
    "duration": 283,
    "start_time": "2023-08-04T10:57:26.819Z"
   },
   {
    "duration": 14,
    "start_time": "2023-08-04T10:57:27.103Z"
   },
   {
    "duration": 24,
    "start_time": "2023-08-04T10:57:27.119Z"
   },
   {
    "duration": 28,
    "start_time": "2023-08-04T10:57:27.145Z"
   },
   {
    "duration": 125,
    "start_time": "2023-08-04T10:57:27.175Z"
   },
   {
    "duration": 9,
    "start_time": "2023-08-04T10:57:27.308Z"
   },
   {
    "duration": 32,
    "start_time": "2023-08-04T10:57:27.318Z"
   },
   {
    "duration": 20,
    "start_time": "2023-08-04T10:57:27.352Z"
   },
   {
    "duration": 297,
    "start_time": "2023-08-04T10:57:27.375Z"
   },
   {
    "duration": 257,
    "start_time": "2023-08-04T10:57:27.674Z"
   },
   {
    "duration": 154,
    "start_time": "2023-08-04T10:57:27.933Z"
   },
   {
    "duration": 150,
    "start_time": "2023-08-04T10:57:28.089Z"
   },
   {
    "duration": 137,
    "start_time": "2023-08-04T10:57:28.241Z"
   },
   {
    "duration": 42,
    "start_time": "2023-08-04T10:57:28.380Z"
   },
   {
    "duration": 12,
    "start_time": "2023-08-04T10:57:28.424Z"
   },
   {
    "duration": 28776,
    "start_time": "2023-08-04T10:57:28.438Z"
   },
   {
    "duration": 334,
    "start_time": "2023-08-04T10:57:57.215Z"
   },
   {
    "duration": 222,
    "start_time": "2023-08-04T10:57:57.550Z"
   },
   {
    "duration": 13,
    "start_time": "2023-08-04T10:57:57.773Z"
   },
   {
    "duration": 621,
    "start_time": "2023-08-04T10:57:57.788Z"
   },
   {
    "duration": 275,
    "start_time": "2023-08-04T10:57:58.411Z"
   },
   {
    "duration": 2110,
    "start_time": "2023-08-04T10:57:58.688Z"
   },
   {
    "duration": 116,
    "start_time": "2023-08-04T11:04:54.788Z"
   },
   {
    "duration": 10,
    "start_time": "2023-08-04T11:16:06.020Z"
   },
   {
    "duration": 5,
    "start_time": "2023-08-04T11:27:12.102Z"
   },
   {
    "duration": 11,
    "start_time": "2023-08-04T11:32:45.782Z"
   },
   {
    "duration": 7,
    "start_time": "2023-08-04T11:32:49.401Z"
   },
   {
    "duration": 9,
    "start_time": "2023-08-04T11:33:00.338Z"
   },
   {
    "duration": 14,
    "start_time": "2023-08-04T11:33:18.125Z"
   },
   {
    "duration": 11,
    "start_time": "2023-08-04T11:33:50.171Z"
   },
   {
    "duration": 22,
    "start_time": "2023-08-04T11:33:51.005Z"
   },
   {
    "duration": 13,
    "start_time": "2023-08-04T11:34:17.489Z"
   },
   {
    "duration": 31,
    "start_time": "2023-08-04T11:34:33.999Z"
   },
   {
    "duration": 708,
    "start_time": "2023-08-04T12:12:54.225Z"
   },
   {
    "duration": 78,
    "start_time": "2023-08-04T14:02:39.202Z"
   },
   {
    "duration": 56,
    "start_time": "2023-08-04T14:03:43.847Z"
   },
   {
    "duration": 9,
    "start_time": "2023-08-04T14:03:54.040Z"
   },
   {
    "duration": 1200,
    "start_time": "2023-08-04T14:04:00.026Z"
   },
   {
    "duration": 454,
    "start_time": "2023-08-04T14:04:02.522Z"
   },
   {
    "duration": 74,
    "start_time": "2023-08-04T14:04:05.323Z"
   },
   {
    "duration": 17,
    "start_time": "2023-08-04T14:04:24.382Z"
   },
   {
    "duration": 27,
    "start_time": "2023-08-04T14:04:46.404Z"
   },
   {
    "duration": 1063,
    "start_time": "2023-08-04T14:04:58.629Z"
   },
   {
    "duration": 132,
    "start_time": "2023-08-04T14:04:59.694Z"
   },
   {
    "duration": 30,
    "start_time": "2023-08-04T14:04:59.828Z"
   },
   {
    "duration": 9,
    "start_time": "2023-08-04T14:04:59.861Z"
   },
   {
    "duration": 17,
    "start_time": "2023-08-04T14:04:59.872Z"
   },
   {
    "duration": 144,
    "start_time": "2023-08-04T14:04:59.890Z"
   },
   {
    "duration": 9,
    "start_time": "2023-08-04T14:05:00.035Z"
   },
   {
    "duration": 97,
    "start_time": "2023-08-04T14:05:00.046Z"
   },
   {
    "duration": 18,
    "start_time": "2023-08-04T14:05:00.145Z"
   },
   {
    "duration": 247,
    "start_time": "2023-08-04T14:05:00.165Z"
   },
   {
    "duration": 282,
    "start_time": "2023-08-04T14:05:00.414Z"
   },
   {
    "duration": 158,
    "start_time": "2023-08-04T14:05:00.698Z"
   },
   {
    "duration": 171,
    "start_time": "2023-08-04T14:05:00.859Z"
   },
   {
    "duration": 153,
    "start_time": "2023-08-04T14:05:01.031Z"
   },
   {
    "duration": 32,
    "start_time": "2023-08-04T14:05:01.186Z"
   },
   {
    "duration": 33,
    "start_time": "2023-08-04T14:05:01.220Z"
   },
   {
    "duration": 31517,
    "start_time": "2023-08-04T14:05:01.255Z"
   },
   {
    "duration": 358,
    "start_time": "2023-08-04T14:05:32.773Z"
   },
   {
    "duration": 235,
    "start_time": "2023-08-04T14:05:33.135Z"
   },
   {
    "duration": 14,
    "start_time": "2023-08-04T14:05:33.371Z"
   },
   {
    "duration": 674,
    "start_time": "2023-08-04T14:05:33.386Z"
   },
   {
    "duration": 302,
    "start_time": "2023-08-04T14:05:34.068Z"
   },
   {
    "duration": 2083,
    "start_time": "2023-08-04T14:05:34.372Z"
   },
   {
    "duration": 129,
    "start_time": "2023-08-04T14:06:20.112Z"
   },
   {
    "duration": 1212,
    "start_time": "2023-08-04T14:06:33.257Z"
   },
   {
    "duration": 136,
    "start_time": "2023-08-04T14:06:34.471Z"
   },
   {
    "duration": 33,
    "start_time": "2023-08-04T14:06:34.609Z"
   },
   {
    "duration": 12,
    "start_time": "2023-08-04T14:06:34.644Z"
   },
   {
    "duration": 65,
    "start_time": "2023-08-04T14:06:34.658Z"
   },
   {
    "duration": 163,
    "start_time": "2023-08-04T14:06:34.725Z"
   },
   {
    "duration": 9,
    "start_time": "2023-08-04T14:06:34.890Z"
   },
   {
    "duration": 33,
    "start_time": "2023-08-04T14:06:34.901Z"
   },
   {
    "duration": 45,
    "start_time": "2023-08-04T14:06:34.936Z"
   },
   {
    "duration": 232,
    "start_time": "2023-08-04T14:06:34.984Z"
   },
   {
    "duration": 273,
    "start_time": "2023-08-04T14:06:35.218Z"
   },
   {
    "duration": 153,
    "start_time": "2023-08-04T14:06:35.492Z"
   },
   {
    "duration": 164,
    "start_time": "2023-08-04T14:06:35.647Z"
   },
   {
    "duration": 145,
    "start_time": "2023-08-04T14:06:35.813Z"
   },
   {
    "duration": 33,
    "start_time": "2023-08-04T14:06:35.966Z"
   },
   {
    "duration": 12,
    "start_time": "2023-08-04T14:06:36.001Z"
   },
   {
    "duration": 30647,
    "start_time": "2023-08-04T14:06:36.015Z"
   },
   {
    "duration": 350,
    "start_time": "2023-08-04T14:07:06.664Z"
   },
   {
    "duration": 222,
    "start_time": "2023-08-04T14:07:07.016Z"
   },
   {
    "duration": 13,
    "start_time": "2023-08-04T14:07:07.240Z"
   },
   {
    "duration": 619,
    "start_time": "2023-08-04T14:07:07.255Z"
   },
   {
    "duration": 294,
    "start_time": "2023-08-04T14:07:07.876Z"
   },
   {
    "duration": 2077,
    "start_time": "2023-08-04T14:07:08.172Z"
   },
   {
    "duration": 366,
    "start_time": "2023-08-04T15:30:26.749Z"
   },
   {
    "duration": 1120,
    "start_time": "2023-08-04T15:30:40.908Z"
   },
   {
    "duration": 168,
    "start_time": "2023-08-04T15:30:42.030Z"
   },
   {
    "duration": 30,
    "start_time": "2023-08-04T15:30:42.200Z"
   },
   {
    "duration": 11,
    "start_time": "2023-08-04T15:30:42.232Z"
   },
   {
    "duration": 13,
    "start_time": "2023-08-04T15:30:42.244Z"
   },
   {
    "duration": 348,
    "start_time": "2023-08-04T15:30:42.259Z"
   },
   {
    "duration": 0,
    "start_time": "2023-08-04T15:30:42.609Z"
   },
   {
    "duration": 0,
    "start_time": "2023-08-04T15:30:42.610Z"
   },
   {
    "duration": 0,
    "start_time": "2023-08-04T15:30:42.612Z"
   },
   {
    "duration": 0,
    "start_time": "2023-08-04T15:30:42.613Z"
   },
   {
    "duration": 0,
    "start_time": "2023-08-04T15:30:42.614Z"
   },
   {
    "duration": 0,
    "start_time": "2023-08-04T15:30:42.615Z"
   },
   {
    "duration": 0,
    "start_time": "2023-08-04T15:30:42.617Z"
   },
   {
    "duration": 0,
    "start_time": "2023-08-04T15:30:42.618Z"
   },
   {
    "duration": 0,
    "start_time": "2023-08-04T15:30:42.619Z"
   },
   {
    "duration": 0,
    "start_time": "2023-08-04T15:30:42.620Z"
   },
   {
    "duration": 0,
    "start_time": "2023-08-04T15:30:42.621Z"
   },
   {
    "duration": 0,
    "start_time": "2023-08-04T15:30:42.623Z"
   },
   {
    "duration": 0,
    "start_time": "2023-08-04T15:30:42.624Z"
   },
   {
    "duration": 0,
    "start_time": "2023-08-04T15:30:42.626Z"
   },
   {
    "duration": 0,
    "start_time": "2023-08-04T15:30:42.627Z"
   },
   {
    "duration": 0,
    "start_time": "2023-08-04T15:30:42.629Z"
   },
   {
    "duration": 0,
    "start_time": "2023-08-04T15:30:42.630Z"
   },
   {
    "duration": 210,
    "start_time": "2023-08-04T15:31:16.201Z"
   },
   {
    "duration": 141,
    "start_time": "2023-08-04T15:32:14.192Z"
   },
   {
    "duration": 141,
    "start_time": "2023-08-04T15:36:04.606Z"
   },
   {
    "duration": 14,
    "start_time": "2023-08-04T15:36:45.720Z"
   },
   {
    "duration": 18,
    "start_time": "2023-08-04T15:36:54.227Z"
   },
   {
    "duration": 13,
    "start_time": "2023-08-04T15:39:21.942Z"
   },
   {
    "duration": 150,
    "start_time": "2023-08-04T15:39:31.899Z"
   },
   {
    "duration": 25,
    "start_time": "2023-08-04T15:50:11.309Z"
   },
   {
    "duration": 41,
    "start_time": "2023-08-04T15:50:26.958Z"
   },
   {
    "duration": 42,
    "start_time": "2023-08-04T15:56:24.262Z"
   },
   {
    "duration": 38,
    "start_time": "2023-08-04T15:59:59.500Z"
   },
   {
    "duration": 54,
    "start_time": "2023-08-04T16:00:54.829Z"
   },
   {
    "duration": 286,
    "start_time": "2023-08-04T16:01:47.221Z"
   },
   {
    "duration": 345,
    "start_time": "2023-08-04T16:02:09.462Z"
   },
   {
    "duration": 294,
    "start_time": "2023-08-04T16:03:53.549Z"
   },
   {
    "duration": 1136,
    "start_time": "2023-08-04T16:05:47.909Z"
   },
   {
    "duration": 153,
    "start_time": "2023-08-04T16:05:49.047Z"
   },
   {
    "duration": 29,
    "start_time": "2023-08-04T16:05:49.201Z"
   },
   {
    "duration": 9,
    "start_time": "2023-08-04T16:05:49.232Z"
   },
   {
    "duration": 50,
    "start_time": "2023-08-04T16:05:49.242Z"
   },
   {
    "duration": 150,
    "start_time": "2023-08-04T16:05:49.295Z"
   },
   {
    "duration": 9,
    "start_time": "2023-08-04T16:05:49.447Z"
   },
   {
    "duration": 56,
    "start_time": "2023-08-04T16:05:49.457Z"
   },
   {
    "duration": 32,
    "start_time": "2023-08-04T16:05:49.515Z"
   },
   {
    "duration": 285,
    "start_time": "2023-08-04T16:05:49.549Z"
   },
   {
    "duration": 271,
    "start_time": "2023-08-04T16:05:49.836Z"
   },
   {
    "duration": 172,
    "start_time": "2023-08-04T16:05:50.109Z"
   },
   {
    "duration": 166,
    "start_time": "2023-08-04T16:05:50.287Z"
   },
   {
    "duration": 163,
    "start_time": "2023-08-04T16:05:50.455Z"
   },
   {
    "duration": 30,
    "start_time": "2023-08-04T16:05:50.620Z"
   },
   {
    "duration": 28,
    "start_time": "2023-08-04T16:05:50.652Z"
   },
   {
    "duration": 33255,
    "start_time": "2023-08-04T16:05:50.688Z"
   },
   {
    "duration": 411,
    "start_time": "2023-08-04T16:06:23.946Z"
   },
   {
    "duration": 232,
    "start_time": "2023-08-04T16:06:24.359Z"
   },
   {
    "duration": 15,
    "start_time": "2023-08-04T16:06:24.593Z"
   },
   {
    "duration": 646,
    "start_time": "2023-08-04T16:06:24.610Z"
   },
   {
    "duration": 314,
    "start_time": "2023-08-04T16:06:25.257Z"
   },
   {
    "duration": 2162,
    "start_time": "2023-08-04T16:06:25.574Z"
   },
   {
    "duration": 113,
    "start_time": "2023-08-04T16:08:42.621Z"
   },
   {
    "duration": 1125,
    "start_time": "2023-08-04T16:08:54.080Z"
   },
   {
    "duration": 145,
    "start_time": "2023-08-04T16:08:55.207Z"
   },
   {
    "duration": 43,
    "start_time": "2023-08-04T16:08:55.354Z"
   },
   {
    "duration": 8,
    "start_time": "2023-08-04T16:08:55.399Z"
   },
   {
    "duration": 17,
    "start_time": "2023-08-04T16:08:55.409Z"
   },
   {
    "duration": 179,
    "start_time": "2023-08-04T16:08:55.427Z"
   },
   {
    "duration": 7,
    "start_time": "2023-08-04T16:08:55.608Z"
   },
   {
    "duration": 28,
    "start_time": "2023-08-04T16:08:55.617Z"
   },
   {
    "duration": 50,
    "start_time": "2023-08-04T16:08:55.647Z"
   },
   {
    "duration": 326,
    "start_time": "2023-08-04T16:08:55.699Z"
   },
   {
    "duration": 112,
    "start_time": "2023-08-04T16:08:56.027Z"
   },
   {
    "duration": 1,
    "start_time": "2023-08-04T16:08:56.140Z"
   },
   {
    "duration": 0,
    "start_time": "2023-08-04T16:08:56.142Z"
   },
   {
    "duration": 0,
    "start_time": "2023-08-04T16:08:56.143Z"
   },
   {
    "duration": 0,
    "start_time": "2023-08-04T16:08:56.145Z"
   },
   {
    "duration": 0,
    "start_time": "2023-08-04T16:08:56.147Z"
   },
   {
    "duration": 0,
    "start_time": "2023-08-04T16:08:56.148Z"
   },
   {
    "duration": 0,
    "start_time": "2023-08-04T16:08:56.150Z"
   },
   {
    "duration": 0,
    "start_time": "2023-08-04T16:08:56.151Z"
   },
   {
    "duration": 0,
    "start_time": "2023-08-04T16:08:56.167Z"
   },
   {
    "duration": 0,
    "start_time": "2023-08-04T16:08:56.168Z"
   },
   {
    "duration": 0,
    "start_time": "2023-08-04T16:08:56.168Z"
   },
   {
    "duration": 0,
    "start_time": "2023-08-04T16:08:56.170Z"
   },
   {
    "duration": 251,
    "start_time": "2023-08-04T16:09:58.526Z"
   },
   {
    "duration": 162,
    "start_time": "2023-08-04T16:14:42.028Z"
   },
   {
    "duration": 177,
    "start_time": "2023-08-04T16:16:19.027Z"
   },
   {
    "duration": 277,
    "start_time": "2023-08-04T16:16:41.099Z"
   },
   {
    "duration": 205,
    "start_time": "2023-08-04T16:17:42.496Z"
   },
   {
    "duration": 217,
    "start_time": "2023-08-04T16:18:19.991Z"
   },
   {
    "duration": 274,
    "start_time": "2023-08-04T16:19:29.729Z"
   },
   {
    "duration": 262,
    "start_time": "2023-08-04T16:29:35.840Z"
   },
   {
    "duration": 517,
    "start_time": "2023-08-04T16:29:43.805Z"
   },
   {
    "duration": 208,
    "start_time": "2023-08-04T16:29:49.306Z"
   },
   {
    "duration": 1109,
    "start_time": "2023-08-04T17:16:52.630Z"
   },
   {
    "duration": 179,
    "start_time": "2023-08-04T17:16:53.741Z"
   },
   {
    "duration": 42,
    "start_time": "2023-08-04T17:16:53.922Z"
   },
   {
    "duration": 29,
    "start_time": "2023-08-04T17:16:53.971Z"
   },
   {
    "duration": 22,
    "start_time": "2023-08-04T17:16:54.002Z"
   },
   {
    "duration": 188,
    "start_time": "2023-08-04T17:16:54.026Z"
   },
   {
    "duration": 11,
    "start_time": "2023-08-04T17:16:54.216Z"
   },
   {
    "duration": 50,
    "start_time": "2023-08-04T17:16:54.229Z"
   },
   {
    "duration": 44,
    "start_time": "2023-08-04T17:16:54.282Z"
   },
   {
    "duration": 298,
    "start_time": "2023-08-04T17:16:54.329Z"
   },
   {
    "duration": 168,
    "start_time": "2023-08-04T17:16:54.629Z"
   },
   {
    "duration": 297,
    "start_time": "2023-08-04T17:16:54.799Z"
   },
   {
    "duration": 216,
    "start_time": "2023-08-04T17:16:55.099Z"
   },
   {
    "duration": 284,
    "start_time": "2023-08-04T17:16:55.316Z"
   },
   {
    "duration": 30,
    "start_time": "2023-08-04T17:16:55.602Z"
   },
   {
    "duration": 35,
    "start_time": "2023-08-04T17:16:55.634Z"
   },
   {
    "duration": 31925,
    "start_time": "2023-08-04T17:16:55.671Z"
   },
   {
    "duration": 389,
    "start_time": "2023-08-04T17:17:27.598Z"
   },
   {
    "duration": 215,
    "start_time": "2023-08-04T17:17:27.992Z"
   },
   {
    "duration": 12,
    "start_time": "2023-08-04T17:17:28.209Z"
   },
   {
    "duration": 646,
    "start_time": "2023-08-04T17:17:28.222Z"
   },
   {
    "duration": 288,
    "start_time": "2023-08-04T17:17:28.870Z"
   },
   {
    "duration": 2120,
    "start_time": "2023-08-04T17:17:29.167Z"
   },
   {
    "duration": 352,
    "start_time": "2023-08-04T17:19:02.976Z"
   },
   {
    "duration": 424,
    "start_time": "2023-08-04T17:22:46.138Z"
   },
   {
    "duration": 366,
    "start_time": "2023-08-04T17:34:29.607Z"
   },
   {
    "duration": 1240,
    "start_time": "2023-08-04T17:36:49.254Z"
   },
   {
    "duration": 400,
    "start_time": "2023-08-04T17:37:52.305Z"
   },
   {
    "duration": 397,
    "start_time": "2023-08-04T17:38:10.404Z"
   },
   {
    "duration": 553,
    "start_time": "2023-08-04T17:39:24.381Z"
   },
   {
    "duration": 353,
    "start_time": "2023-08-04T17:41:36.291Z"
   },
   {
    "duration": 401,
    "start_time": "2023-08-04T17:42:51.914Z"
   },
   {
    "duration": 506,
    "start_time": "2023-08-04T17:43:13.942Z"
   },
   {
    "duration": 443,
    "start_time": "2023-08-04T17:44:14.317Z"
   },
   {
    "duration": 433,
    "start_time": "2023-08-04T17:47:02.961Z"
   },
   {
    "duration": 604,
    "start_time": "2023-08-04T17:48:53.696Z"
   },
   {
    "duration": 720,
    "start_time": "2023-08-04T17:51:12.354Z"
   },
   {
    "duration": 14,
    "start_time": "2023-08-04T17:54:38.332Z"
   },
   {
    "duration": 11,
    "start_time": "2023-08-04T17:56:42.702Z"
   },
   {
    "duration": 11,
    "start_time": "2023-08-04T17:56:47.866Z"
   },
   {
    "duration": 7,
    "start_time": "2023-08-04T17:59:47.307Z"
   },
   {
    "duration": 7,
    "start_time": "2023-08-04T18:03:32.219Z"
   },
   {
    "duration": 280,
    "start_time": "2023-08-04T18:09:25.024Z"
   },
   {
    "duration": 381,
    "start_time": "2023-08-04T18:10:30.786Z"
   },
   {
    "duration": 275,
    "start_time": "2023-08-04T18:12:48.179Z"
   },
   {
    "duration": 1081,
    "start_time": "2023-08-04T18:15:07.793Z"
   },
   {
    "duration": 135,
    "start_time": "2023-08-04T18:15:08.876Z"
   },
   {
    "duration": 32,
    "start_time": "2023-08-04T18:15:09.013Z"
   },
   {
    "duration": 10,
    "start_time": "2023-08-04T18:15:09.047Z"
   },
   {
    "duration": 18,
    "start_time": "2023-08-04T18:15:09.059Z"
   },
   {
    "duration": 161,
    "start_time": "2023-08-04T18:15:09.079Z"
   },
   {
    "duration": 9,
    "start_time": "2023-08-04T18:15:09.241Z"
   },
   {
    "duration": 40,
    "start_time": "2023-08-04T18:15:09.252Z"
   },
   {
    "duration": 32,
    "start_time": "2023-08-04T18:15:09.294Z"
   },
   {
    "duration": 291,
    "start_time": "2023-08-04T18:15:09.329Z"
   },
   {
    "duration": 169,
    "start_time": "2023-08-04T18:15:09.622Z"
   },
   {
    "duration": 314,
    "start_time": "2023-08-04T18:15:09.793Z"
   },
   {
    "duration": 281,
    "start_time": "2023-08-04T18:15:10.109Z"
   },
   {
    "duration": 228,
    "start_time": "2023-08-04T18:15:10.391Z"
   },
   {
    "duration": 59,
    "start_time": "2023-08-04T18:15:10.621Z"
   },
   {
    "duration": 15,
    "start_time": "2023-08-04T18:15:10.682Z"
   },
   {
    "duration": 433,
    "start_time": "2023-08-04T18:15:10.699Z"
   },
   {
    "duration": 410,
    "start_time": "2023-08-04T18:15:11.135Z"
   },
   {
    "duration": 7,
    "start_time": "2023-08-04T18:15:11.546Z"
   },
   {
    "duration": 93,
    "start_time": "2023-08-04T18:15:11.568Z"
   },
   {
    "duration": 793,
    "start_time": "2023-08-04T18:15:11.662Z"
   },
   {
    "duration": 325,
    "start_time": "2023-08-04T18:15:12.457Z"
   },
   {
    "duration": 378,
    "start_time": "2023-08-04T18:15:12.784Z"
   },
   {
    "duration": 58,
    "start_time": "2023-08-05T11:01:12.474Z"
   },
   {
    "duration": 1326,
    "start_time": "2023-08-05T11:01:22.677Z"
   },
   {
    "duration": 289,
    "start_time": "2023-08-05T11:01:24.005Z"
   },
   {
    "duration": 31,
    "start_time": "2023-08-05T11:01:24.296Z"
   },
   {
    "duration": 24,
    "start_time": "2023-08-05T11:01:24.330Z"
   },
   {
    "duration": 20,
    "start_time": "2023-08-05T11:01:24.356Z"
   },
   {
    "duration": 191,
    "start_time": "2023-08-05T11:01:24.378Z"
   },
   {
    "duration": 10,
    "start_time": "2023-08-05T11:01:24.571Z"
   },
   {
    "duration": 73,
    "start_time": "2023-08-05T11:01:24.583Z"
   },
   {
    "duration": 61,
    "start_time": "2023-08-05T11:01:24.658Z"
   },
   {
    "duration": 288,
    "start_time": "2023-08-05T11:01:24.723Z"
   },
   {
    "duration": 243,
    "start_time": "2023-08-05T11:01:25.013Z"
   },
   {
    "duration": 228,
    "start_time": "2023-08-05T11:01:25.262Z"
   },
   {
    "duration": 281,
    "start_time": "2023-08-05T11:01:25.491Z"
   },
   {
    "duration": 204,
    "start_time": "2023-08-05T11:01:25.774Z"
   },
   {
    "duration": 67,
    "start_time": "2023-08-05T11:01:25.980Z"
   },
   {
    "duration": 13,
    "start_time": "2023-08-05T11:01:26.061Z"
   },
   {
    "duration": 352,
    "start_time": "2023-08-05T11:01:26.076Z"
   },
   {
    "duration": 164,
    "start_time": "2023-08-05T11:01:26.430Z"
   },
   {
    "duration": 0,
    "start_time": "2023-08-05T11:01:26.596Z"
   },
   {
    "duration": 0,
    "start_time": "2023-08-05T11:01:26.597Z"
   },
   {
    "duration": 0,
    "start_time": "2023-08-05T11:01:26.599Z"
   },
   {
    "duration": 0,
    "start_time": "2023-08-05T11:01:26.600Z"
   },
   {
    "duration": 0,
    "start_time": "2023-08-05T11:01:26.602Z"
   },
   {
    "duration": 302,
    "start_time": "2023-08-05T11:02:52.718Z"
   },
   {
    "duration": 399,
    "start_time": "2023-08-05T11:03:59.859Z"
   },
   {
    "duration": 347,
    "start_time": "2023-08-05T11:04:30.122Z"
   },
   {
    "duration": 352,
    "start_time": "2023-08-05T11:08:06.765Z"
   },
   {
    "duration": 92,
    "start_time": "2023-08-05T11:11:37.922Z"
   },
   {
    "duration": 980,
    "start_time": "2023-08-05T11:11:58.491Z"
   },
   {
    "duration": 126,
    "start_time": "2023-08-05T11:11:59.472Z"
   },
   {
    "duration": 32,
    "start_time": "2023-08-05T11:11:59.599Z"
   },
   {
    "duration": 18,
    "start_time": "2023-08-05T11:11:59.634Z"
   },
   {
    "duration": 21,
    "start_time": "2023-08-05T11:11:59.653Z"
   },
   {
    "duration": 127,
    "start_time": "2023-08-05T11:11:59.675Z"
   },
   {
    "duration": 8,
    "start_time": "2023-08-05T11:11:59.803Z"
   },
   {
    "duration": 44,
    "start_time": "2023-08-05T11:11:59.812Z"
   },
   {
    "duration": 40,
    "start_time": "2023-08-05T11:11:59.858Z"
   },
   {
    "duration": 285,
    "start_time": "2023-08-05T11:11:59.900Z"
   },
   {
    "duration": 180,
    "start_time": "2023-08-05T11:12:00.187Z"
   },
   {
    "duration": 291,
    "start_time": "2023-08-05T11:12:00.369Z"
   },
   {
    "duration": 207,
    "start_time": "2023-08-05T11:12:00.662Z"
   },
   {
    "duration": 213,
    "start_time": "2023-08-05T11:12:00.870Z"
   },
   {
    "duration": 76,
    "start_time": "2023-08-05T11:12:01.084Z"
   },
   {
    "duration": 15,
    "start_time": "2023-08-05T11:12:01.162Z"
   },
   {
    "duration": 375,
    "start_time": "2023-08-05T11:12:01.179Z"
   },
   {
    "duration": 193,
    "start_time": "2023-08-05T11:12:01.555Z"
   },
   {
    "duration": 0,
    "start_time": "2023-08-05T11:12:01.749Z"
   },
   {
    "duration": 0,
    "start_time": "2023-08-05T11:12:01.750Z"
   },
   {
    "duration": 0,
    "start_time": "2023-08-05T11:12:01.751Z"
   },
   {
    "duration": 0,
    "start_time": "2023-08-05T11:12:01.751Z"
   },
   {
    "duration": 0,
    "start_time": "2023-08-05T11:12:01.752Z"
   },
   {
    "duration": 379,
    "start_time": "2023-08-05T11:13:21.678Z"
   },
   {
    "duration": 450,
    "start_time": "2023-08-05T11:15:20.871Z"
   },
   {
    "duration": 302,
    "start_time": "2023-08-05T11:15:51.754Z"
   },
   {
    "duration": 222,
    "start_time": "2023-08-05T11:17:39.357Z"
   },
   {
    "duration": 204,
    "start_time": "2023-08-05T11:18:10.681Z"
   },
   {
    "duration": 257,
    "start_time": "2023-08-05T11:21:03.325Z"
   },
   {
    "duration": 7,
    "start_time": "2023-08-05T12:45:31.634Z"
   },
   {
    "duration": 6,
    "start_time": "2023-08-05T12:53:00.306Z"
   },
   {
    "duration": 6,
    "start_time": "2023-08-05T13:10:34.067Z"
   },
   {
    "duration": 4,
    "start_time": "2023-08-05T13:15:53.695Z"
   },
   {
    "duration": 110,
    "start_time": "2023-08-05T13:20:59.633Z"
   },
   {
    "duration": 7,
    "start_time": "2023-08-05T13:27:37.214Z"
   },
   {
    "duration": 116,
    "start_time": "2023-08-05T13:33:47.109Z"
   },
   {
    "duration": 108,
    "start_time": "2023-08-05T13:34:12.557Z"
   },
   {
    "duration": 10,
    "start_time": "2023-08-05T13:46:13.241Z"
   },
   {
    "duration": 10,
    "start_time": "2023-08-05T13:47:21.507Z"
   },
   {
    "duration": 12,
    "start_time": "2023-08-05T13:48:11.851Z"
   },
   {
    "duration": 10,
    "start_time": "2023-08-05T13:48:45.298Z"
   },
   {
    "duration": 5,
    "start_time": "2023-08-05T13:51:41.814Z"
   },
   {
    "duration": 5,
    "start_time": "2023-08-05T13:52:24.204Z"
   },
   {
    "duration": 5,
    "start_time": "2023-08-05T13:54:17.235Z"
   },
   {
    "duration": 5,
    "start_time": "2023-08-05T13:54:47.207Z"
   },
   {
    "duration": 116,
    "start_time": "2023-08-05T13:57:06.224Z"
   },
   {
    "duration": 5,
    "start_time": "2023-08-05T14:03:35.345Z"
   },
   {
    "duration": 309,
    "start_time": "2023-08-05T14:04:49.338Z"
   },
   {
    "duration": 260,
    "start_time": "2023-08-05T14:10:33.065Z"
   },
   {
    "duration": 10,
    "start_time": "2023-08-05T14:13:06.641Z"
   },
   {
    "duration": 5,
    "start_time": "2023-08-05T14:13:19.172Z"
   },
   {
    "duration": 5,
    "start_time": "2023-08-05T14:14:25.605Z"
   },
   {
    "duration": 952,
    "start_time": "2023-08-05T14:14:31.488Z"
   },
   {
    "duration": 107,
    "start_time": "2023-08-05T14:14:32.443Z"
   },
   {
    "duration": 28,
    "start_time": "2023-08-05T14:14:32.551Z"
   },
   {
    "duration": 11,
    "start_time": "2023-08-05T14:14:32.582Z"
   },
   {
    "duration": 35,
    "start_time": "2023-08-05T14:14:32.594Z"
   },
   {
    "duration": 122,
    "start_time": "2023-08-05T14:14:32.631Z"
   },
   {
    "duration": 7,
    "start_time": "2023-08-05T14:14:32.755Z"
   },
   {
    "duration": 25,
    "start_time": "2023-08-05T14:14:32.764Z"
   },
   {
    "duration": 45,
    "start_time": "2023-08-05T14:14:32.790Z"
   },
   {
    "duration": 252,
    "start_time": "2023-08-05T14:14:32.838Z"
   },
   {
    "duration": 169,
    "start_time": "2023-08-05T14:14:33.092Z"
   },
   {
    "duration": 279,
    "start_time": "2023-08-05T14:14:33.262Z"
   },
   {
    "duration": 213,
    "start_time": "2023-08-05T14:14:33.542Z"
   },
   {
    "duration": 209,
    "start_time": "2023-08-05T14:14:33.756Z"
   },
   {
    "duration": 26,
    "start_time": "2023-08-05T14:14:33.966Z"
   },
   {
    "duration": 11,
    "start_time": "2023-08-05T14:14:33.994Z"
   },
   {
    "duration": 352,
    "start_time": "2023-08-05T14:14:34.006Z"
   },
   {
    "duration": 308,
    "start_time": "2023-08-05T14:14:34.360Z"
   },
   {
    "duration": 6,
    "start_time": "2023-08-05T14:14:34.670Z"
   },
   {
    "duration": 132,
    "start_time": "2023-08-05T14:14:34.677Z"
   },
   {
    "duration": 4,
    "start_time": "2023-08-05T14:14:34.811Z"
   },
   {
    "duration": 280,
    "start_time": "2023-08-05T14:14:34.817Z"
   },
   {
    "duration": 42,
    "start_time": "2023-08-05T14:14:35.098Z"
   },
   {
    "duration": 244,
    "start_time": "2023-08-05T14:14:35.142Z"
   },
   {
    "duration": 297,
    "start_time": "2023-08-05T14:14:35.387Z"
   },
   {
    "duration": 5,
    "start_time": "2023-08-05T14:16:01.400Z"
   },
   {
    "duration": 5,
    "start_time": "2023-08-05T14:16:25.205Z"
   },
   {
    "duration": 5,
    "start_time": "2023-08-05T14:17:59.830Z"
   },
   {
    "duration": 5,
    "start_time": "2023-08-05T14:18:10.763Z"
   },
   {
    "duration": 977,
    "start_time": "2023-08-05T14:18:35.191Z"
   },
   {
    "duration": 104,
    "start_time": "2023-08-05T14:18:36.170Z"
   },
   {
    "duration": 26,
    "start_time": "2023-08-05T14:18:36.276Z"
   },
   {
    "duration": 8,
    "start_time": "2023-08-05T14:18:36.304Z"
   },
   {
    "duration": 19,
    "start_time": "2023-08-05T14:18:36.313Z"
   },
   {
    "duration": 130,
    "start_time": "2023-08-05T14:18:36.333Z"
   },
   {
    "duration": 7,
    "start_time": "2023-08-05T14:18:36.464Z"
   },
   {
    "duration": 29,
    "start_time": "2023-08-05T14:18:36.472Z"
   },
   {
    "duration": 36,
    "start_time": "2023-08-05T14:18:36.502Z"
   },
   {
    "duration": 239,
    "start_time": "2023-08-05T14:18:36.541Z"
   },
   {
    "duration": 163,
    "start_time": "2023-08-05T14:18:36.781Z"
   },
   {
    "duration": 227,
    "start_time": "2023-08-05T14:18:36.945Z"
   },
   {
    "duration": 193,
    "start_time": "2023-08-05T14:18:37.174Z"
   },
   {
    "duration": 275,
    "start_time": "2023-08-05T14:18:37.369Z"
   },
   {
    "duration": 27,
    "start_time": "2023-08-05T14:18:37.646Z"
   },
   {
    "duration": 12,
    "start_time": "2023-08-05T14:18:37.674Z"
   },
   {
    "duration": 338,
    "start_time": "2023-08-05T14:18:37.687Z"
   },
   {
    "duration": 249,
    "start_time": "2023-08-05T14:18:38.027Z"
   },
   {
    "duration": 5,
    "start_time": "2023-08-05T14:18:38.277Z"
   },
   {
    "duration": 118,
    "start_time": "2023-08-05T14:18:38.283Z"
   },
   {
    "duration": 4,
    "start_time": "2023-08-05T14:18:38.402Z"
   },
   {
    "duration": 291,
    "start_time": "2023-08-05T14:18:38.408Z"
   },
   {
    "duration": 5,
    "start_time": "2023-08-05T14:18:38.700Z"
   },
   {
    "duration": 271,
    "start_time": "2023-08-05T14:18:38.706Z"
   },
   {
    "duration": 285,
    "start_time": "2023-08-05T14:18:38.978Z"
   },
   {
    "duration": 10,
    "start_time": "2023-08-05T14:19:27.965Z"
   },
   {
    "duration": 96,
    "start_time": "2023-08-05T14:19:54.313Z"
   },
   {
    "duration": 11,
    "start_time": "2023-08-05T14:20:07.104Z"
   },
   {
    "duration": 10,
    "start_time": "2023-08-05T14:21:28.306Z"
   },
   {
    "duration": 5,
    "start_time": "2023-08-05T14:23:48.776Z"
   },
   {
    "duration": 6,
    "start_time": "2023-08-05T14:24:11.805Z"
   },
   {
    "duration": 10,
    "start_time": "2023-08-05T14:24:34.010Z"
   },
   {
    "duration": 12,
    "start_time": "2023-08-05T14:41:58.646Z"
   },
   {
    "duration": 13,
    "start_time": "2023-08-05T14:42:54.739Z"
   },
   {
    "duration": 13,
    "start_time": "2023-08-05T14:43:35.318Z"
   },
   {
    "duration": 21,
    "start_time": "2023-08-05T14:50:45.243Z"
   },
   {
    "duration": 18,
    "start_time": "2023-08-05T14:51:46.523Z"
   },
   {
    "duration": 1004,
    "start_time": "2023-08-05T14:56:53.533Z"
   },
   {
    "duration": 123,
    "start_time": "2023-08-05T14:56:54.539Z"
   },
   {
    "duration": 31,
    "start_time": "2023-08-05T14:56:54.664Z"
   },
   {
    "duration": 27,
    "start_time": "2023-08-05T14:56:54.697Z"
   },
   {
    "duration": 38,
    "start_time": "2023-08-05T14:56:54.726Z"
   },
   {
    "duration": 146,
    "start_time": "2023-08-05T14:56:54.766Z"
   },
   {
    "duration": 7,
    "start_time": "2023-08-05T14:56:54.914Z"
   },
   {
    "duration": 30,
    "start_time": "2023-08-05T14:56:54.923Z"
   },
   {
    "duration": 33,
    "start_time": "2023-08-05T14:56:54.955Z"
   },
   {
    "duration": 288,
    "start_time": "2023-08-05T14:56:54.991Z"
   },
   {
    "duration": 159,
    "start_time": "2023-08-05T14:56:55.280Z"
   },
   {
    "duration": 216,
    "start_time": "2023-08-05T14:56:55.441Z"
   },
   {
    "duration": 207,
    "start_time": "2023-08-05T14:56:55.659Z"
   },
   {
    "duration": 203,
    "start_time": "2023-08-05T14:56:55.868Z"
   },
   {
    "duration": 26,
    "start_time": "2023-08-05T14:56:56.072Z"
   },
   {
    "duration": 21,
    "start_time": "2023-08-05T14:56:56.100Z"
   },
   {
    "duration": 352,
    "start_time": "2023-08-05T14:56:56.123Z"
   },
   {
    "duration": 254,
    "start_time": "2023-08-05T14:56:56.477Z"
   },
   {
    "duration": 7,
    "start_time": "2023-08-05T14:56:56.732Z"
   },
   {
    "duration": 152,
    "start_time": "2023-08-05T14:56:56.741Z"
   },
   {
    "duration": 5,
    "start_time": "2023-08-05T14:56:56.894Z"
   },
   {
    "duration": 301,
    "start_time": "2023-08-05T14:56:56.900Z"
   },
   {
    "duration": 137,
    "start_time": "2023-08-05T14:56:57.202Z"
   },
   {
    "duration": 0,
    "start_time": "2023-08-05T14:56:57.341Z"
   },
   {
    "duration": 0,
    "start_time": "2023-08-05T14:56:57.342Z"
   },
   {
    "duration": 21,
    "start_time": "2023-08-05T14:58:04.820Z"
   },
   {
    "duration": 21,
    "start_time": "2023-08-05T14:58:14.664Z"
   },
   {
    "duration": 949,
    "start_time": "2023-08-05T14:58:25.186Z"
   },
   {
    "duration": 108,
    "start_time": "2023-08-05T14:58:26.137Z"
   },
   {
    "duration": 26,
    "start_time": "2023-08-05T14:58:26.247Z"
   },
   {
    "duration": 8,
    "start_time": "2023-08-05T14:58:26.274Z"
   },
   {
    "duration": 12,
    "start_time": "2023-08-05T14:58:26.284Z"
   },
   {
    "duration": 144,
    "start_time": "2023-08-05T14:58:26.298Z"
   },
   {
    "duration": 7,
    "start_time": "2023-08-05T14:58:26.443Z"
   },
   {
    "duration": 20,
    "start_time": "2023-08-05T14:58:26.451Z"
   },
   {
    "duration": 23,
    "start_time": "2023-08-05T14:58:26.473Z"
   },
   {
    "duration": 284,
    "start_time": "2023-08-05T14:58:26.497Z"
   },
   {
    "duration": 158,
    "start_time": "2023-08-05T14:58:26.782Z"
   },
   {
    "duration": 218,
    "start_time": "2023-08-05T14:58:26.942Z"
   },
   {
    "duration": 201,
    "start_time": "2023-08-05T14:58:27.161Z"
   },
   {
    "duration": 201,
    "start_time": "2023-08-05T14:58:27.365Z"
   },
   {
    "duration": 26,
    "start_time": "2023-08-05T14:58:27.568Z"
   },
   {
    "duration": 12,
    "start_time": "2023-08-05T14:58:27.596Z"
   },
   {
    "duration": 349,
    "start_time": "2023-08-05T14:58:27.609Z"
   },
   {
    "duration": 246,
    "start_time": "2023-08-05T14:58:27.960Z"
   },
   {
    "duration": 5,
    "start_time": "2023-08-05T14:58:28.208Z"
   },
   {
    "duration": 134,
    "start_time": "2023-08-05T14:58:28.214Z"
   },
   {
    "duration": 5,
    "start_time": "2023-08-05T14:58:28.350Z"
   },
   {
    "duration": 326,
    "start_time": "2023-08-05T14:58:28.356Z"
   },
   {
    "duration": 117,
    "start_time": "2023-08-05T14:58:28.684Z"
   },
   {
    "duration": 0,
    "start_time": "2023-08-05T14:58:28.802Z"
   },
   {
    "duration": 0,
    "start_time": "2023-08-05T14:58:28.803Z"
   },
   {
    "duration": 11,
    "start_time": "2023-08-05T15:00:12.470Z"
   },
   {
    "duration": 12,
    "start_time": "2023-08-05T15:07:51.592Z"
   },
   {
    "duration": 14,
    "start_time": "2023-08-05T15:09:43.084Z"
   },
   {
    "duration": 13,
    "start_time": "2023-08-05T15:09:53.902Z"
   },
   {
    "duration": 190,
    "start_time": "2023-08-05T15:13:16.225Z"
   },
   {
    "duration": 185,
    "start_time": "2023-08-05T15:14:18.587Z"
   },
   {
    "duration": 389,
    "start_time": "2023-08-05T15:20:57.978Z"
   },
   {
    "duration": 584,
    "start_time": "2023-08-05T15:21:54.386Z"
   },
   {
    "duration": 507,
    "start_time": "2023-08-05T15:22:52.750Z"
   },
   {
    "duration": 1041,
    "start_time": "2023-08-05T15:27:23.522Z"
   },
   {
    "duration": 124,
    "start_time": "2023-08-05T15:27:24.566Z"
   },
   {
    "duration": 27,
    "start_time": "2023-08-05T15:27:24.691Z"
   },
   {
    "duration": 8,
    "start_time": "2023-08-05T15:27:24.719Z"
   },
   {
    "duration": 16,
    "start_time": "2023-08-05T15:27:24.729Z"
   },
   {
    "duration": 126,
    "start_time": "2023-08-05T15:27:24.746Z"
   },
   {
    "duration": 6,
    "start_time": "2023-08-05T15:27:24.874Z"
   },
   {
    "duration": 30,
    "start_time": "2023-08-05T15:27:24.882Z"
   },
   {
    "duration": 35,
    "start_time": "2023-08-05T15:27:24.914Z"
   },
   {
    "duration": 229,
    "start_time": "2023-08-05T15:27:24.951Z"
   },
   {
    "duration": 160,
    "start_time": "2023-08-05T15:27:25.181Z"
   },
   {
    "duration": 412,
    "start_time": "2023-08-05T15:27:25.342Z"
   },
   {
    "duration": 534,
    "start_time": "2023-08-05T15:27:25.755Z"
   },
   {
    "duration": 571,
    "start_time": "2023-08-05T15:27:26.291Z"
   },
   {
    "duration": 32,
    "start_time": "2023-08-05T15:27:26.864Z"
   },
   {
    "duration": 13,
    "start_time": "2023-08-05T15:27:26.897Z"
   },
   {
    "duration": 366,
    "start_time": "2023-08-05T15:27:26.912Z"
   },
   {
    "duration": 348,
    "start_time": "2023-08-05T15:27:27.279Z"
   },
   {
    "duration": 11,
    "start_time": "2023-08-05T15:27:27.629Z"
   },
   {
    "duration": 116,
    "start_time": "2023-08-05T15:27:27.641Z"
   },
   {
    "duration": 5,
    "start_time": "2023-08-05T15:27:27.758Z"
   },
   {
    "duration": 239,
    "start_time": "2023-08-05T15:27:27.764Z"
   },
   {
    "duration": 12,
    "start_time": "2023-08-05T15:27:28.005Z"
   },
   {
    "duration": 195,
    "start_time": "2023-08-05T15:27:28.019Z"
   },
   {
    "duration": 300,
    "start_time": "2023-08-05T15:27:28.216Z"
   },
   {
    "duration": 333,
    "start_time": "2023-08-05T15:27:28.518Z"
   },
   {
    "duration": 423,
    "start_time": "2023-08-05T15:29:11.149Z"
   },
   {
    "duration": 405,
    "start_time": "2023-08-05T15:29:19.957Z"
   },
   {
    "duration": 568,
    "start_time": "2023-08-05T15:29:31.702Z"
   },
   {
    "duration": 64,
    "start_time": "2023-08-06T06:26:47.483Z"
   },
   {
    "duration": 1191,
    "start_time": "2023-08-06T06:27:07.606Z"
   },
   {
    "duration": 229,
    "start_time": "2023-08-06T06:27:08.799Z"
   },
   {
    "duration": 29,
    "start_time": "2023-08-06T06:27:09.030Z"
   },
   {
    "duration": 11,
    "start_time": "2023-08-06T06:27:09.061Z"
   },
   {
    "duration": 20,
    "start_time": "2023-08-06T06:27:09.073Z"
   },
   {
    "duration": 155,
    "start_time": "2023-08-06T06:27:09.095Z"
   },
   {
    "duration": 8,
    "start_time": "2023-08-06T06:27:09.252Z"
   },
   {
    "duration": 44,
    "start_time": "2023-08-06T06:27:09.262Z"
   },
   {
    "duration": 38,
    "start_time": "2023-08-06T06:27:09.308Z"
   },
   {
    "duration": 314,
    "start_time": "2023-08-06T06:27:09.348Z"
   },
   {
    "duration": 150,
    "start_time": "2023-08-06T06:27:09.664Z"
   },
   {
    "duration": 502,
    "start_time": "2023-08-06T06:27:09.816Z"
   },
   {
    "duration": 492,
    "start_time": "2023-08-06T06:27:10.319Z"
   },
   {
    "duration": 488,
    "start_time": "2023-08-06T06:27:10.813Z"
   },
   {
    "duration": 28,
    "start_time": "2023-08-06T06:27:11.302Z"
   },
   {
    "duration": 16,
    "start_time": "2023-08-06T06:27:11.332Z"
   },
   {
    "duration": 368,
    "start_time": "2023-08-06T06:27:11.349Z"
   },
   {
    "duration": 200,
    "start_time": "2023-08-06T06:27:11.718Z"
   },
   {
    "duration": 0,
    "start_time": "2023-08-06T06:27:11.920Z"
   },
   {
    "duration": 0,
    "start_time": "2023-08-06T06:27:11.921Z"
   },
   {
    "duration": 0,
    "start_time": "2023-08-06T06:27:11.923Z"
   },
   {
    "duration": 0,
    "start_time": "2023-08-06T06:27:11.924Z"
   },
   {
    "duration": 0,
    "start_time": "2023-08-06T06:27:11.925Z"
   },
   {
    "duration": 0,
    "start_time": "2023-08-06T06:27:11.927Z"
   },
   {
    "duration": 0,
    "start_time": "2023-08-06T06:27:11.928Z"
   },
   {
    "duration": 0,
    "start_time": "2023-08-06T06:27:11.930Z"
   },
   {
    "duration": 83,
    "start_time": "2023-08-06T06:43:57.270Z"
   },
   {
    "duration": 86,
    "start_time": "2023-08-06T06:45:26.786Z"
   },
   {
    "duration": 93,
    "start_time": "2023-08-06T06:47:44.089Z"
   },
   {
    "duration": 134,
    "start_time": "2023-08-06T06:48:11.623Z"
   },
   {
    "duration": 100,
    "start_time": "2023-08-06T06:55:26.349Z"
   },
   {
    "duration": 9,
    "start_time": "2023-08-06T06:55:47.119Z"
   },
   {
    "duration": 247,
    "start_time": "2023-08-06T06:56:17.585Z"
   },
   {
    "duration": 354,
    "start_time": "2023-08-06T07:05:29.462Z"
   },
   {
    "duration": 1016,
    "start_time": "2023-08-06T07:06:38.498Z"
   },
   {
    "duration": 210,
    "start_time": "2023-08-06T07:06:39.515Z"
   },
   {
    "duration": 29,
    "start_time": "2023-08-06T07:06:39.727Z"
   },
   {
    "duration": 9,
    "start_time": "2023-08-06T07:06:39.757Z"
   },
   {
    "duration": 28,
    "start_time": "2023-08-06T07:06:39.767Z"
   },
   {
    "duration": 141,
    "start_time": "2023-08-06T07:06:39.797Z"
   },
   {
    "duration": 7,
    "start_time": "2023-08-06T07:06:39.940Z"
   },
   {
    "duration": 30,
    "start_time": "2023-08-06T07:06:39.948Z"
   },
   {
    "duration": 70,
    "start_time": "2023-08-06T07:06:39.979Z"
   },
   {
    "duration": 319,
    "start_time": "2023-08-06T07:06:40.052Z"
   },
   {
    "duration": 153,
    "start_time": "2023-08-06T07:06:40.373Z"
   },
   {
    "duration": 512,
    "start_time": "2023-08-06T07:06:40.528Z"
   },
   {
    "duration": 489,
    "start_time": "2023-08-06T07:06:41.041Z"
   },
   {
    "duration": 500,
    "start_time": "2023-08-06T07:06:41.531Z"
   },
   {
    "duration": 31,
    "start_time": "2023-08-06T07:06:42.032Z"
   },
   {
    "duration": 12,
    "start_time": "2023-08-06T07:06:42.065Z"
   },
   {
    "duration": 379,
    "start_time": "2023-08-06T07:06:42.100Z"
   },
   {
    "duration": 345,
    "start_time": "2023-08-06T07:06:42.481Z"
   },
   {
    "duration": 116,
    "start_time": "2023-08-06T07:06:42.828Z"
   },
   {
    "duration": 0,
    "start_time": "2023-08-06T07:06:42.945Z"
   },
   {
    "duration": 0,
    "start_time": "2023-08-06T07:06:42.946Z"
   },
   {
    "duration": 0,
    "start_time": "2023-08-06T07:06:42.948Z"
   },
   {
    "duration": 0,
    "start_time": "2023-08-06T07:06:42.949Z"
   },
   {
    "duration": 0,
    "start_time": "2023-08-06T07:06:42.950Z"
   },
   {
    "duration": 0,
    "start_time": "2023-08-06T07:06:42.951Z"
   },
   {
    "duration": 0,
    "start_time": "2023-08-06T07:06:42.952Z"
   },
   {
    "duration": 6,
    "start_time": "2023-08-06T07:08:01.157Z"
   },
   {
    "duration": 53,
    "start_time": "2023-08-06T07:08:45.819Z"
   },
   {
    "duration": 29,
    "start_time": "2023-08-06T07:09:09.166Z"
   },
   {
    "duration": 201,
    "start_time": "2023-08-06T07:09:31.283Z"
   },
   {
    "duration": 11,
    "start_time": "2023-08-06T07:11:56.836Z"
   },
   {
    "duration": 124,
    "start_time": "2023-08-06T07:13:17.668Z"
   },
   {
    "duration": 7,
    "start_time": "2023-08-06T07:13:55.041Z"
   },
   {
    "duration": 297,
    "start_time": "2023-08-06T07:14:20.412Z"
   },
   {
    "duration": 9,
    "start_time": "2023-08-06T07:15:58.467Z"
   },
   {
    "duration": 186,
    "start_time": "2023-08-06T07:16:24.848Z"
   },
   {
    "duration": 103,
    "start_time": "2023-08-06T07:17:17.667Z"
   },
   {
    "duration": 178,
    "start_time": "2023-08-06T07:17:25.711Z"
   },
   {
    "duration": 205,
    "start_time": "2023-08-06T07:18:25.355Z"
   },
   {
    "duration": 206,
    "start_time": "2023-08-06T07:19:03.621Z"
   },
   {
    "duration": 958,
    "start_time": "2023-08-06T07:25:40.044Z"
   },
   {
    "duration": 110,
    "start_time": "2023-08-06T07:25:41.004Z"
   },
   {
    "duration": 26,
    "start_time": "2023-08-06T07:25:41.115Z"
   },
   {
    "duration": 8,
    "start_time": "2023-08-06T07:25:41.143Z"
   },
   {
    "duration": 12,
    "start_time": "2023-08-06T07:25:41.152Z"
   },
   {
    "duration": 142,
    "start_time": "2023-08-06T07:25:41.166Z"
   },
   {
    "duration": 6,
    "start_time": "2023-08-06T07:25:41.309Z"
   },
   {
    "duration": 20,
    "start_time": "2023-08-06T07:25:41.317Z"
   },
   {
    "duration": 25,
    "start_time": "2023-08-06T07:25:41.338Z"
   },
   {
    "duration": 279,
    "start_time": "2023-08-06T07:25:41.366Z"
   },
   {
    "duration": 159,
    "start_time": "2023-08-06T07:25:41.646Z"
   },
   {
    "duration": 505,
    "start_time": "2023-08-06T07:25:41.806Z"
   },
   {
    "duration": 412,
    "start_time": "2023-08-06T07:25:42.312Z"
   },
   {
    "duration": 511,
    "start_time": "2023-08-06T07:25:42.725Z"
   },
   {
    "duration": 26,
    "start_time": "2023-08-06T07:25:43.238Z"
   },
   {
    "duration": 38,
    "start_time": "2023-08-06T07:25:43.265Z"
   },
   {
    "duration": 347,
    "start_time": "2023-08-06T07:25:43.304Z"
   },
   {
    "duration": 8,
    "start_time": "2023-08-06T07:25:43.652Z"
   },
   {
    "duration": 139,
    "start_time": "2023-08-06T07:25:43.661Z"
   },
   {
    "duration": 27,
    "start_time": "2023-08-06T07:25:43.802Z"
   },
   {
    "duration": 196,
    "start_time": "2023-08-06T07:25:43.830Z"
   },
   {
    "duration": 8,
    "start_time": "2023-08-06T07:25:44.028Z"
   },
   {
    "duration": 126,
    "start_time": "2023-08-06T07:25:44.037Z"
   },
   {
    "duration": 7,
    "start_time": "2023-08-06T07:25:44.164Z"
   },
   {
    "duration": 283,
    "start_time": "2023-08-06T07:25:44.173Z"
   },
   {
    "duration": 8,
    "start_time": "2023-08-06T07:25:44.457Z"
   },
   {
    "duration": 213,
    "start_time": "2023-08-06T07:25:44.466Z"
   },
   {
    "duration": 268,
    "start_time": "2023-08-06T07:25:44.682Z"
   },
   {
    "duration": 373,
    "start_time": "2023-08-06T07:25:44.952Z"
   },
   {
    "duration": 69,
    "start_time": "2023-08-06T07:54:47.897Z"
   },
   {
    "duration": 1284,
    "start_time": "2023-08-06T07:55:00.038Z"
   },
   {
    "duration": 113,
    "start_time": "2023-08-06T07:55:01.324Z"
   },
   {
    "duration": 45,
    "start_time": "2023-08-06T07:55:01.440Z"
   },
   {
    "duration": 55,
    "start_time": "2023-08-06T07:55:01.488Z"
   },
   {
    "duration": 64,
    "start_time": "2023-08-06T07:55:01.545Z"
   },
   {
    "duration": 184,
    "start_time": "2023-08-06T07:55:01.611Z"
   },
   {
    "duration": 9,
    "start_time": "2023-08-06T07:55:01.798Z"
   },
   {
    "duration": 70,
    "start_time": "2023-08-06T07:55:01.810Z"
   },
   {
    "duration": 68,
    "start_time": "2023-08-06T07:55:01.882Z"
   },
   {
    "duration": 286,
    "start_time": "2023-08-06T07:55:01.954Z"
   },
   {
    "duration": 242,
    "start_time": "2023-08-06T07:55:02.241Z"
   },
   {
    "duration": 543,
    "start_time": "2023-08-06T07:55:02.485Z"
   },
   {
    "duration": 558,
    "start_time": "2023-08-06T07:55:03.038Z"
   },
   {
    "duration": 618,
    "start_time": "2023-08-06T07:55:03.598Z"
   },
   {
    "duration": 41,
    "start_time": "2023-08-06T07:55:04.217Z"
   },
   {
    "duration": 13,
    "start_time": "2023-08-06T07:55:04.274Z"
   },
   {
    "duration": 403,
    "start_time": "2023-08-06T07:55:04.288Z"
   },
   {
    "duration": 8,
    "start_time": "2023-08-06T07:55:04.692Z"
   },
   {
    "duration": 156,
    "start_time": "2023-08-06T07:55:04.701Z"
   },
   {
    "duration": 55,
    "start_time": "2023-08-06T07:55:04.859Z"
   },
   {
    "duration": 262,
    "start_time": "2023-08-06T07:55:04.916Z"
   },
   {
    "duration": 10,
    "start_time": "2023-08-06T07:55:05.180Z"
   },
   {
    "duration": 153,
    "start_time": "2023-08-06T07:55:05.191Z"
   },
   {
    "duration": 8,
    "start_time": "2023-08-06T07:55:05.346Z"
   },
   {
    "duration": 300,
    "start_time": "2023-08-06T07:55:05.356Z"
   },
   {
    "duration": 23,
    "start_time": "2023-08-06T07:55:05.658Z"
   },
   {
    "duration": 288,
    "start_time": "2023-08-06T07:55:05.682Z"
   },
   {
    "duration": 308,
    "start_time": "2023-08-06T07:55:05.975Z"
   },
   {
    "duration": 350,
    "start_time": "2023-08-06T07:55:06.286Z"
   },
   {
    "duration": 9,
    "start_time": "2023-08-06T07:55:17.142Z"
   },
   {
    "duration": 64,
    "start_time": "2023-08-06T08:55:56.680Z"
   },
   {
    "duration": 1190,
    "start_time": "2023-08-06T08:56:04.108Z"
   },
   {
    "duration": 222,
    "start_time": "2023-08-06T08:56:05.301Z"
   },
   {
    "duration": 33,
    "start_time": "2023-08-06T08:56:05.525Z"
   },
   {
    "duration": 9,
    "start_time": "2023-08-06T08:56:05.561Z"
   },
   {
    "duration": 16,
    "start_time": "2023-08-06T08:56:05.572Z"
   },
   {
    "duration": 145,
    "start_time": "2023-08-06T08:56:05.590Z"
   },
   {
    "duration": 8,
    "start_time": "2023-08-06T08:56:05.736Z"
   },
   {
    "duration": 52,
    "start_time": "2023-08-06T08:56:05.745Z"
   },
   {
    "duration": 47,
    "start_time": "2023-08-06T08:56:05.802Z"
   },
   {
    "duration": 323,
    "start_time": "2023-08-06T08:56:05.851Z"
   },
   {
    "duration": 220,
    "start_time": "2023-08-06T08:56:06.176Z"
   },
   {
    "duration": 523,
    "start_time": "2023-08-06T08:56:06.399Z"
   },
   {
    "duration": 622,
    "start_time": "2023-08-06T08:56:06.924Z"
   },
   {
    "duration": 583,
    "start_time": "2023-08-06T08:56:07.548Z"
   },
   {
    "duration": 40,
    "start_time": "2023-08-06T08:56:08.133Z"
   },
   {
    "duration": 31,
    "start_time": "2023-08-06T08:56:08.175Z"
   },
   {
    "duration": 420,
    "start_time": "2023-08-06T08:56:08.207Z"
   },
   {
    "duration": 8,
    "start_time": "2023-08-06T08:56:08.630Z"
   },
   {
    "duration": 155,
    "start_time": "2023-08-06T08:56:08.640Z"
   },
   {
    "duration": 34,
    "start_time": "2023-08-06T08:56:08.798Z"
   },
   {
    "duration": 246,
    "start_time": "2023-08-06T08:56:08.834Z"
   },
   {
    "duration": 14,
    "start_time": "2023-08-06T08:56:09.082Z"
   },
   {
    "duration": 148,
    "start_time": "2023-08-06T08:56:09.098Z"
   },
   {
    "duration": 7,
    "start_time": "2023-08-06T08:56:09.247Z"
   },
   {
    "duration": 310,
    "start_time": "2023-08-06T08:56:09.256Z"
   },
   {
    "duration": 11,
    "start_time": "2023-08-06T08:56:09.568Z"
   },
   {
    "duration": 264,
    "start_time": "2023-08-06T08:56:09.580Z"
   },
   {
    "duration": 325,
    "start_time": "2023-08-06T08:56:09.847Z"
   },
   {
    "duration": 396,
    "start_time": "2023-08-06T08:56:10.175Z"
   },
   {
    "duration": 73,
    "start_time": "2023-08-06T09:08:28.679Z"
   },
   {
    "duration": 58,
    "start_time": "2023-08-06T09:08:55.605Z"
   },
   {
    "duration": 57,
    "start_time": "2023-08-06T09:10:07.816Z"
   },
   {
    "duration": 35,
    "start_time": "2023-08-06T09:30:07.327Z"
   },
   {
    "duration": 48,
    "start_time": "2023-08-06T11:30:02.929Z"
   },
   {
    "duration": 50,
    "start_time": "2023-08-06T11:30:10.815Z"
   },
   {
    "duration": 27,
    "start_time": "2023-08-06T11:30:14.077Z"
   },
   {
    "duration": 978,
    "start_time": "2023-08-06T11:30:36.057Z"
   },
   {
    "duration": 114,
    "start_time": "2023-08-06T11:30:37.036Z"
   },
   {
    "duration": 26,
    "start_time": "2023-08-06T11:30:37.152Z"
   },
   {
    "duration": 17,
    "start_time": "2023-08-06T11:30:37.179Z"
   },
   {
    "duration": 18,
    "start_time": "2023-08-06T11:30:37.198Z"
   },
   {
    "duration": 133,
    "start_time": "2023-08-06T11:30:37.217Z"
   },
   {
    "duration": 7,
    "start_time": "2023-08-06T11:30:37.352Z"
   },
   {
    "duration": 35,
    "start_time": "2023-08-06T11:30:37.360Z"
   },
   {
    "duration": 28,
    "start_time": "2023-08-06T11:30:37.396Z"
   },
   {
    "duration": 296,
    "start_time": "2023-08-06T11:30:37.426Z"
   },
   {
    "duration": 177,
    "start_time": "2023-08-06T11:30:37.723Z"
   },
   {
    "duration": 445,
    "start_time": "2023-08-06T11:30:37.902Z"
   },
   {
    "duration": 554,
    "start_time": "2023-08-06T11:30:38.349Z"
   },
   {
    "duration": 496,
    "start_time": "2023-08-06T11:30:38.905Z"
   },
   {
    "duration": 31,
    "start_time": "2023-08-06T11:30:39.403Z"
   },
   {
    "duration": 13,
    "start_time": "2023-08-06T11:30:39.436Z"
   },
   {
    "duration": 420,
    "start_time": "2023-08-06T11:30:39.450Z"
   },
   {
    "duration": 7,
    "start_time": "2023-08-06T11:30:39.872Z"
   },
   {
    "duration": 142,
    "start_time": "2023-08-06T11:30:39.881Z"
   },
   {
    "duration": 27,
    "start_time": "2023-08-06T11:30:40.025Z"
   },
   {
    "duration": 259,
    "start_time": "2023-08-06T11:30:40.053Z"
   },
   {
    "duration": 10,
    "start_time": "2023-08-06T11:30:40.314Z"
   },
   {
    "duration": 174,
    "start_time": "2023-08-06T11:30:40.326Z"
   },
   {
    "duration": 7,
    "start_time": "2023-08-06T11:30:40.501Z"
   },
   {
    "duration": 267,
    "start_time": "2023-08-06T11:30:40.510Z"
   },
   {
    "duration": 8,
    "start_time": "2023-08-06T11:30:40.795Z"
   },
   {
    "duration": 237,
    "start_time": "2023-08-06T11:30:40.805Z"
   },
   {
    "duration": 260,
    "start_time": "2023-08-06T11:30:41.044Z"
   },
   {
    "duration": 345,
    "start_time": "2023-08-06T11:30:41.305Z"
   },
   {
    "duration": 11,
    "start_time": "2023-08-06T11:58:31.210Z"
   },
   {
    "duration": 147,
    "start_time": "2023-08-06T11:59:11.000Z"
   },
   {
    "duration": 7,
    "start_time": "2023-08-06T12:00:30.354Z"
   },
   {
    "duration": 213,
    "start_time": "2023-08-06T12:00:50.542Z"
   },
   {
    "duration": 9,
    "start_time": "2023-08-06T12:01:38.824Z"
   },
   {
    "duration": 84,
    "start_time": "2023-08-06T12:15:57.789Z"
   },
   {
    "duration": 11,
    "start_time": "2023-08-06T12:17:42.701Z"
   },
   {
    "duration": 1229,
    "start_time": "2023-08-06T13:35:12.245Z"
   },
   {
    "duration": 122,
    "start_time": "2023-08-06T13:35:13.478Z"
   },
   {
    "duration": 31,
    "start_time": "2023-08-06T13:35:13.602Z"
   },
   {
    "duration": 8,
    "start_time": "2023-08-06T13:35:13.635Z"
   },
   {
    "duration": 47,
    "start_time": "2023-08-06T13:35:13.645Z"
   },
   {
    "duration": 172,
    "start_time": "2023-08-06T13:35:13.694Z"
   },
   {
    "duration": 10,
    "start_time": "2023-08-06T13:35:13.869Z"
   },
   {
    "duration": 47,
    "start_time": "2023-08-06T13:35:13.882Z"
   },
   {
    "duration": 62,
    "start_time": "2023-08-06T13:35:13.932Z"
   },
   {
    "duration": 354,
    "start_time": "2023-08-06T13:35:13.997Z"
   },
   {
    "duration": 240,
    "start_time": "2023-08-06T13:35:14.352Z"
   },
   {
    "duration": 619,
    "start_time": "2023-08-06T13:35:14.593Z"
   },
   {
    "duration": 609,
    "start_time": "2023-08-06T13:35:15.214Z"
   },
   {
    "duration": 584,
    "start_time": "2023-08-06T13:35:15.825Z"
   },
   {
    "duration": 33,
    "start_time": "2023-08-06T13:35:16.411Z"
   },
   {
    "duration": 35,
    "start_time": "2023-08-06T13:35:16.445Z"
   },
   {
    "duration": 458,
    "start_time": "2023-08-06T13:35:16.483Z"
   },
   {
    "duration": 8,
    "start_time": "2023-08-06T13:35:16.944Z"
   },
   {
    "duration": 169,
    "start_time": "2023-08-06T13:35:16.953Z"
   },
   {
    "duration": 48,
    "start_time": "2023-08-06T13:35:17.123Z"
   },
   {
    "duration": 270,
    "start_time": "2023-08-06T13:35:17.174Z"
   },
   {
    "duration": 21,
    "start_time": "2023-08-06T13:35:17.447Z"
   },
   {
    "duration": 175,
    "start_time": "2023-08-06T13:35:17.471Z"
   },
   {
    "duration": 20,
    "start_time": "2023-08-06T13:35:17.647Z"
   },
   {
    "duration": 304,
    "start_time": "2023-08-06T13:35:17.670Z"
   },
   {
    "duration": 15,
    "start_time": "2023-08-06T13:35:17.978Z"
   },
   {
    "duration": 331,
    "start_time": "2023-08-06T13:35:17.996Z"
   },
   {
    "duration": 353,
    "start_time": "2023-08-06T13:35:18.330Z"
   },
   {
    "duration": 408,
    "start_time": "2023-08-06T13:35:18.686Z"
   },
   {
    "duration": 7,
    "start_time": "2023-08-06T13:36:18.049Z"
   },
   {
    "duration": 21,
    "start_time": "2023-08-06T13:40:01.902Z"
   },
   {
    "duration": 8,
    "start_time": "2023-08-06T13:42:58.315Z"
   },
   {
    "duration": 9,
    "start_time": "2023-08-06T13:43:34.094Z"
   },
   {
    "duration": 8,
    "start_time": "2023-08-06T13:43:43.421Z"
   },
   {
    "duration": 8,
    "start_time": "2023-08-06T13:44:23.520Z"
   },
   {
    "duration": 10,
    "start_time": "2023-08-06T13:46:15.595Z"
   },
   {
    "duration": 13,
    "start_time": "2023-08-06T13:47:11.599Z"
   },
   {
    "duration": 3,
    "start_time": "2023-08-06T13:50:17.401Z"
   },
   {
    "duration": 53,
    "start_time": "2023-08-06T13:50:22.678Z"
   },
   {
    "duration": 40,
    "start_time": "2023-08-06T13:50:56.547Z"
   },
   {
    "duration": 14,
    "start_time": "2023-08-06T13:51:04.973Z"
   },
   {
    "duration": 34,
    "start_time": "2023-08-06T13:52:40.829Z"
   },
   {
    "duration": 196,
    "start_time": "2023-08-06T13:52:56.016Z"
   },
   {
    "duration": 8,
    "start_time": "2023-08-06T13:53:06.077Z"
   },
   {
    "duration": 13,
    "start_time": "2023-08-06T13:53:16.470Z"
   },
   {
    "duration": 14,
    "start_time": "2023-08-06T13:54:15.653Z"
   },
   {
    "duration": 15,
    "start_time": "2023-08-06T13:54:26.510Z"
   },
   {
    "duration": 13,
    "start_time": "2023-08-06T13:54:44.554Z"
   },
   {
    "duration": 13,
    "start_time": "2023-08-06T13:55:32.118Z"
   },
   {
    "duration": 15,
    "start_time": "2023-08-06T13:55:35.004Z"
   },
   {
    "duration": 18,
    "start_time": "2023-08-06T13:55:49.774Z"
   },
   {
    "duration": 17,
    "start_time": "2023-08-06T13:56:12.731Z"
   },
   {
    "duration": 13,
    "start_time": "2023-08-06T13:56:27.919Z"
   },
   {
    "duration": 1942,
    "start_time": "2023-08-06T13:59:45.134Z"
   },
   {
    "duration": 68,
    "start_time": "2023-08-06T14:00:12.456Z"
   },
   {
    "duration": 79,
    "start_time": "2023-08-06T14:00:58.095Z"
   },
   {
    "duration": 32,
    "start_time": "2023-08-06T14:04:08.813Z"
   },
   {
    "duration": 41,
    "start_time": "2023-08-06T14:04:35.252Z"
   },
   {
    "duration": 51,
    "start_time": "2023-08-06T15:20:56.076Z"
   },
   {
    "duration": 1205,
    "start_time": "2023-08-06T15:21:04.942Z"
   },
   {
    "duration": 258,
    "start_time": "2023-08-06T15:21:06.149Z"
   },
   {
    "duration": 34,
    "start_time": "2023-08-06T15:21:06.411Z"
   },
   {
    "duration": 10,
    "start_time": "2023-08-06T15:21:06.446Z"
   },
   {
    "duration": 32,
    "start_time": "2023-08-06T15:21:06.458Z"
   },
   {
    "duration": 197,
    "start_time": "2023-08-06T15:21:06.491Z"
   },
   {
    "duration": 15,
    "start_time": "2023-08-06T15:21:06.694Z"
   },
   {
    "duration": 42,
    "start_time": "2023-08-06T15:21:06.713Z"
   },
   {
    "duration": 56,
    "start_time": "2023-08-06T15:21:06.757Z"
   },
   {
    "duration": 352,
    "start_time": "2023-08-06T15:21:06.820Z"
   },
   {
    "duration": 226,
    "start_time": "2023-08-06T15:21:07.174Z"
   },
   {
    "duration": 540,
    "start_time": "2023-08-06T15:21:07.403Z"
   },
   {
    "duration": 595,
    "start_time": "2023-08-06T15:21:07.945Z"
   },
   {
    "duration": 599,
    "start_time": "2023-08-06T15:21:08.542Z"
   },
   {
    "duration": 34,
    "start_time": "2023-08-06T15:21:09.143Z"
   },
   {
    "duration": 23,
    "start_time": "2023-08-06T15:21:09.195Z"
   },
   {
    "duration": 495,
    "start_time": "2023-08-06T15:21:09.219Z"
   },
   {
    "duration": 8,
    "start_time": "2023-08-06T15:21:09.716Z"
   },
   {
    "duration": 149,
    "start_time": "2023-08-06T15:21:09.725Z"
   },
   {
    "duration": 45,
    "start_time": "2023-08-06T15:21:09.876Z"
   },
   {
    "duration": 254,
    "start_time": "2023-08-06T15:21:09.922Z"
   },
   {
    "duration": 22,
    "start_time": "2023-08-06T15:21:10.178Z"
   },
   {
    "duration": 176,
    "start_time": "2023-08-06T15:21:10.201Z"
   },
   {
    "duration": 9,
    "start_time": "2023-08-06T15:21:10.378Z"
   },
   {
    "duration": 297,
    "start_time": "2023-08-06T15:21:10.388Z"
   },
   {
    "duration": 24,
    "start_time": "2023-08-06T15:21:10.687Z"
   },
   {
    "duration": 287,
    "start_time": "2023-08-06T15:21:10.716Z"
   },
   {
    "duration": 307,
    "start_time": "2023-08-06T15:21:11.006Z"
   },
   {
    "duration": 368,
    "start_time": "2023-08-06T15:21:11.315Z"
   },
   {
    "duration": 27,
    "start_time": "2023-08-06T15:22:27.559Z"
   },
   {
    "duration": 24,
    "start_time": "2023-08-06T15:24:27.552Z"
   },
   {
    "duration": 37,
    "start_time": "2023-08-06T15:24:44.642Z"
   },
   {
    "duration": 28,
    "start_time": "2023-08-06T15:27:09.264Z"
   },
   {
    "duration": 1177,
    "start_time": "2023-08-06T15:27:25.903Z"
   },
   {
    "duration": 141,
    "start_time": "2023-08-06T15:27:27.082Z"
   },
   {
    "duration": 34,
    "start_time": "2023-08-06T15:27:27.225Z"
   },
   {
    "duration": 10,
    "start_time": "2023-08-06T15:27:27.260Z"
   },
   {
    "duration": 32,
    "start_time": "2023-08-06T15:27:27.273Z"
   },
   {
    "duration": 163,
    "start_time": "2023-08-06T15:27:27.311Z"
   },
   {
    "duration": 9,
    "start_time": "2023-08-06T15:27:27.476Z"
   },
   {
    "duration": 39,
    "start_time": "2023-08-06T15:27:27.487Z"
   },
   {
    "duration": 38,
    "start_time": "2023-08-06T15:27:27.528Z"
   },
   {
    "duration": 298,
    "start_time": "2023-08-06T15:27:27.567Z"
   },
   {
    "duration": 231,
    "start_time": "2023-08-06T15:27:27.867Z"
   },
   {
    "duration": 506,
    "start_time": "2023-08-06T15:27:28.100Z"
   },
   {
    "duration": 525,
    "start_time": "2023-08-06T15:27:28.610Z"
   },
   {
    "duration": 515,
    "start_time": "2023-08-06T15:27:29.137Z"
   },
   {
    "duration": 50,
    "start_time": "2023-08-06T15:27:29.694Z"
   },
   {
    "duration": 17,
    "start_time": "2023-08-06T15:27:29.747Z"
   },
   {
    "duration": 433,
    "start_time": "2023-08-06T15:27:29.766Z"
   },
   {
    "duration": 19,
    "start_time": "2023-08-06T15:27:30.202Z"
   },
   {
    "duration": 202,
    "start_time": "2023-08-06T15:27:30.227Z"
   },
   {
    "duration": 26,
    "start_time": "2023-08-06T15:27:30.431Z"
   },
   {
    "duration": 301,
    "start_time": "2023-08-06T15:27:30.458Z"
   },
   {
    "duration": 11,
    "start_time": "2023-08-06T15:27:30.760Z"
   },
   {
    "duration": 231,
    "start_time": "2023-08-06T15:27:30.773Z"
   },
   {
    "duration": 25,
    "start_time": "2023-08-06T15:27:31.006Z"
   },
   {
    "duration": 343,
    "start_time": "2023-08-06T15:27:31.032Z"
   },
   {
    "duration": 9,
    "start_time": "2023-08-06T15:27:31.377Z"
   },
   {
    "duration": 333,
    "start_time": "2023-08-06T15:27:31.399Z"
   },
   {
    "duration": 288,
    "start_time": "2023-08-06T15:27:31.734Z"
   },
   {
    "duration": 420,
    "start_time": "2023-08-06T15:27:32.024Z"
   },
   {
    "duration": 1068,
    "start_time": "2023-08-06T15:55:52.914Z"
   },
   {
    "duration": 139,
    "start_time": "2023-08-06T15:55:53.984Z"
   },
   {
    "duration": 31,
    "start_time": "2023-08-06T15:55:54.125Z"
   },
   {
    "duration": 9,
    "start_time": "2023-08-06T15:55:54.159Z"
   },
   {
    "duration": 18,
    "start_time": "2023-08-06T15:55:54.170Z"
   },
   {
    "duration": 165,
    "start_time": "2023-08-06T15:55:54.195Z"
   },
   {
    "duration": 10,
    "start_time": "2023-08-06T15:55:54.362Z"
   },
   {
    "duration": 40,
    "start_time": "2023-08-06T15:55:54.374Z"
   },
   {
    "duration": 29,
    "start_time": "2023-08-06T15:55:54.416Z"
   },
   {
    "duration": 290,
    "start_time": "2023-08-06T15:55:54.448Z"
   },
   {
    "duration": 187,
    "start_time": "2023-08-06T15:55:54.740Z"
   },
   {
    "duration": 603,
    "start_time": "2023-08-06T15:55:54.929Z"
   },
   {
    "duration": 504,
    "start_time": "2023-08-06T15:55:55.534Z"
   },
   {
    "duration": 589,
    "start_time": "2023-08-06T15:55:56.040Z"
   },
   {
    "duration": 35,
    "start_time": "2023-08-06T15:55:56.631Z"
   },
   {
    "duration": 41,
    "start_time": "2023-08-06T15:55:56.667Z"
   },
   {
    "duration": 474,
    "start_time": "2023-08-06T15:55:56.710Z"
   },
   {
    "duration": 21,
    "start_time": "2023-08-06T15:55:57.186Z"
   },
   {
    "duration": 132,
    "start_time": "2023-08-06T15:55:57.209Z"
   },
   {
    "duration": 26,
    "start_time": "2023-08-06T15:55:57.343Z"
   },
   {
    "duration": 279,
    "start_time": "2023-08-06T15:55:57.370Z"
   },
   {
    "duration": 12,
    "start_time": "2023-08-06T15:55:57.650Z"
   },
   {
    "duration": 150,
    "start_time": "2023-08-06T15:55:57.664Z"
   },
   {
    "duration": 7,
    "start_time": "2023-08-06T15:55:57.815Z"
   },
   {
    "duration": 384,
    "start_time": "2023-08-06T15:55:57.824Z"
   },
   {
    "duration": 10,
    "start_time": "2023-08-06T15:55:58.210Z"
   },
   {
    "duration": 513,
    "start_time": "2023-08-06T15:55:58.221Z"
   },
   {
    "duration": 486,
    "start_time": "2023-08-06T15:55:58.738Z"
   },
   {
    "duration": 696,
    "start_time": "2023-08-06T15:55:59.226Z"
   },
   {
    "duration": 1149,
    "start_time": "2023-08-06T19:38:35.094Z"
   },
   {
    "duration": 119,
    "start_time": "2023-08-06T19:38:36.245Z"
   },
   {
    "duration": 32,
    "start_time": "2023-08-06T19:38:36.366Z"
   },
   {
    "duration": 12,
    "start_time": "2023-08-06T19:38:36.400Z"
   },
   {
    "duration": 65,
    "start_time": "2023-08-06T19:38:36.413Z"
   },
   {
    "duration": 144,
    "start_time": "2023-08-06T19:38:36.480Z"
   },
   {
    "duration": 8,
    "start_time": "2023-08-06T19:38:36.627Z"
   },
   {
    "duration": 108,
    "start_time": "2023-08-06T19:38:36.637Z"
   },
   {
    "duration": 46,
    "start_time": "2023-08-06T19:38:36.747Z"
   },
   {
    "duration": 357,
    "start_time": "2023-08-06T19:38:36.796Z"
   },
   {
    "duration": 223,
    "start_time": "2023-08-06T19:38:37.155Z"
   },
   {
    "duration": 501,
    "start_time": "2023-08-06T19:38:37.380Z"
   },
   {
    "duration": 527,
    "start_time": "2023-08-06T19:38:37.883Z"
   },
   {
    "duration": 569,
    "start_time": "2023-08-06T19:38:38.412Z"
   },
   {
    "duration": 42,
    "start_time": "2023-08-06T19:38:38.983Z"
   },
   {
    "duration": 18,
    "start_time": "2023-08-06T19:38:39.027Z"
   },
   {
    "duration": 443,
    "start_time": "2023-08-06T19:38:39.047Z"
   },
   {
    "duration": 7,
    "start_time": "2023-08-06T19:38:39.492Z"
   },
   {
    "duration": 158,
    "start_time": "2023-08-06T19:38:39.501Z"
   },
   {
    "duration": 35,
    "start_time": "2023-08-06T19:38:39.661Z"
   },
   {
    "duration": 205,
    "start_time": "2023-08-06T19:38:39.698Z"
   },
   {
    "duration": 11,
    "start_time": "2023-08-06T19:38:39.905Z"
   },
   {
    "duration": 148,
    "start_time": "2023-08-06T19:38:39.918Z"
   },
   {
    "duration": 9,
    "start_time": "2023-08-06T19:38:40.074Z"
   },
   {
    "duration": 334,
    "start_time": "2023-08-06T19:38:40.085Z"
   },
   {
    "duration": 13,
    "start_time": "2023-08-06T19:38:40.422Z"
   },
   {
    "duration": 396,
    "start_time": "2023-08-06T19:38:40.438Z"
   },
   {
    "duration": 357,
    "start_time": "2023-08-06T19:38:40.839Z"
   },
   {
    "duration": 447,
    "start_time": "2023-08-06T19:38:41.198Z"
   },
   {
    "duration": 9,
    "start_time": "2023-08-06T19:40:26.504Z"
   }
  ],
  "kernelspec": {
   "display_name": "Python 3 (ipykernel)",
   "language": "python",
   "name": "python3"
  },
  "language_info": {
   "codemirror_mode": {
    "name": "ipython",
    "version": 3
   },
   "file_extension": ".py",
   "mimetype": "text/x-python",
   "name": "python",
   "nbconvert_exporter": "python",
   "pygments_lexer": "ipython3",
   "version": "3.9.5"
  },
  "toc": {
   "base_numbering": 1,
   "nav_menu": {},
   "number_sections": true,
   "sideBar": true,
   "skip_h1_title": true,
   "title_cell": "Table of Contents",
   "title_sidebar": "Contents",
   "toc_cell": false,
   "toc_position": {},
   "toc_section_display": true,
   "toc_window_display": false
  }
 },
 "nbformat": 4,
 "nbformat_minor": 5
}
